{
 "cells": [
  {
   "cell_type": "markdown",
   "id": "d1901f51",
   "metadata": {},
   "source": [
    "**<font size='6' color='red'>ch5. LSTM(RNN)으로 영화평 구분하기</font>**\n",
    "- 5만개 영화 감상평 : 타겟(종속)변수로 부정/긍정\n"
   ]
  },
  {
   "cell_type": "code",
   "execution_count": 1,
   "id": "375f2300",
   "metadata": {
    "ExecuteTime": {
     "end_time": "2025-01-02T07:16:34.985855Z",
     "start_time": "2025-01-02T07:16:31.419625Z"
    }
   },
   "outputs": [],
   "source": [
    "# 1. 패키지 수입\n",
    "import numpy as np\n",
    "from tensorflow.keras.datasets import imdb\n",
    "from tensorflow.keras.preprocessing.sequence import pad_sequences\n",
    "from time import time # 70.01.01 부터 현재까지 몇초지났는지\n",
    "\n",
    "from tensorflow.keras.models import Sequential\n",
    "from tensorflow.keras.layers import Embedding, LSTM, Dense\n",
    "\n",
    "from sklearn.metrics import confusion_matrix, f1_score"
   ]
  },
  {
   "cell_type": "code",
   "execution_count": 17,
   "id": "47394889",
   "metadata": {
    "ExecuteTime": {
     "end_time": "2025-01-02T07:45:34.777842Z",
     "start_time": "2025-01-02T07:45:34.772855Z"
    }
   },
   "outputs": [],
   "source": [
    "# 2. 하이퍼 파라미터 설정(이 파라미터를 바꾸면 정확도나 속도에 차이남)\n",
    "MY_WORDS = 10000 # imdb 데이터 안의 단어 수\n",
    "MY_LENGTH = 80 # 영화평 단어 수 80개만 독립변수\n",
    "MY_EMBED = 32 # Embedding 결과 차원\n",
    "MY_HIDDEN = 64 # LSTM의 units 차원\n",
    "\n",
    "MY_EPOCH = 10 # 반복학습수(fit)\n",
    "MY_BATCH = 200 # 배치사이즈(fit)"
   ]
  },
  {
   "cell_type": "code",
   "execution_count": 18,
   "id": "c6568429",
   "metadata": {
    "ExecuteTime": {
     "end_time": "2025-01-02T07:45:38.531647Z",
     "start_time": "2025-01-02T07:45:35.084404Z"
    }
   },
   "outputs": [],
   "source": [
    "# 3. 데이터 불러오기\n",
    "(X_train, y_train),(X_test, y_test) = imdb.load_data(num_words=MY_WORDS)"
   ]
  },
  {
   "cell_type": "code",
   "execution_count": 19,
   "id": "1b28df77",
   "metadata": {
    "ExecuteTime": {
     "end_time": "2025-01-02T07:45:38.538777Z",
     "start_time": "2025-01-02T07:45:38.533613Z"
    }
   },
   "outputs": [
    {
     "name": "stdout",
     "output_type": "stream",
     "text": [
      "학습용 입력데이터(독립변수) 모양 : (25000,)\n",
      "학습용 출력데이터(종속변수) 모양 : (25000,)\n",
      "학습용 입력데이터 샘플 : [1, 14, 22, 16, 43, 530, 973, 1622, 1385, 65, 458, 4468, 66, 3941, 4, 173, 36, 256, 5, 25, 100, 43, 838, 112, 50, 670, 2, 9, 35, 480, 284, 5, 150, 4, 172, 112, 167, 2, 336, 385, 39, 4, 172, 4536, 1111, 17, 546, 38, 13, 447, 4, 192, 50, 16, 6, 147, 2025, 19, 14, 22, 4, 1920, 4613, 469, 4, 22, 71, 87, 12, 16, 43, 530, 38, 76, 15, 13, 1247, 4, 22, 17, 515, 17, 12, 16, 626, 18, 2, 5, 62, 386, 12, 8, 316, 8, 106, 5, 4, 2223, 5244, 16, 480, 66, 3785, 33, 4, 130, 12, 16, 38, 619, 5, 25, 124, 51, 36, 135, 48, 25, 1415, 33, 6, 22, 12, 215, 28, 77, 52, 5, 14, 407, 16, 82, 2, 8, 4, 107, 117, 5952, 15, 256, 4, 2, 7, 3766, 5, 723, 36, 71, 43, 530, 476, 26, 400, 317, 46, 7, 4, 2, 1029, 13, 104, 88, 4, 381, 15, 297, 98, 32, 2071, 56, 26, 141, 6, 194, 7486, 18, 4, 226, 22, 21, 134, 476, 26, 480, 5, 144, 30, 5535, 18, 51, 36, 28, 224, 92, 25, 104, 4, 226, 65, 16, 38, 1334, 88, 12, 16, 283, 5, 16, 4472, 113, 103, 32, 15, 16, 5345, 19, 178, 32]\n",
      "학습용 출력데이터 샘플(0:부정/1:긍정) : 1\n",
      "테스트 입력데이터(독립변수) 모양 : (25000,)\n",
      "테스트 출력데이터(종속변수) 모양 : (25000,)\n",
      "테스트 입력데이터 샘플 : [1, 591, 202, 14, 31, 6, 717, 10, 10, 2, 2, 5, 4, 360, 7, 4, 177, 5760, 394, 354, 4, 123, 9, 1035, 1035, 1035, 10, 10, 13, 92, 124, 89, 488, 7944, 100, 28, 1668, 14, 31, 23, 27, 7479, 29, 220, 468, 8, 124, 14, 286, 170, 8, 157, 46, 5, 27, 239, 16, 179, 2, 38, 32, 25, 7944, 451, 202, 14, 6, 717]\n",
      "테스트 출력데이터 샘플(0:부정/1:긍정) : 0\n"
     ]
    }
   ],
   "source": [
    "print('학습용 입력데이터(독립변수) 모양 :', X_train.shape)\n",
    "print('학습용 출력데이터(종속변수) 모양 :', y_train.shape)\n",
    "print('학습용 입력데이터 샘플 :', X_train[0])\n",
    "print('학습용 출력데이터 샘플(0:부정/1:긍정) :', y_train[0])\n",
    "\n",
    "print('테스트 입력데이터(독립변수) 모양 :', X_test.shape)\n",
    "print('테스트 출력데이터(종속변수) 모양 :', y_test.shape)\n",
    "print('테스트 입력데이터 샘플 :', X_test[0])\n",
    "print('테스트 출력데이터 샘플(0:부정/1:긍정) :', y_test[0])"
   ]
  },
  {
   "cell_type": "code",
   "execution_count": 20,
   "id": "9e525baf",
   "metadata": {
    "ExecuteTime": {
     "end_time": "2025-01-02T07:45:38.550999Z",
     "start_time": "2025-01-02T07:45:38.538777Z"
    }
   },
   "outputs": [
    {
     "name": "stdout",
     "output_type": "stream",
     "text": [
      "학습용 데이터의 긍정 갯수 : 12500\n",
      "테스트용 데이터의 긍정 갯수 : 12500\n"
     ]
    }
   ],
   "source": [
    "#긍정 갯수\n",
    "print('학습용 데이터의 긍정 갯수 :', y_train.sum())\n",
    "print('테스트용 데이터의 긍정 갯수 :', y_test.sum())"
   ]
  },
  {
   "cell_type": "code",
   "execution_count": 21,
   "id": "8deb9512",
   "metadata": {
    "ExecuteTime": {
     "end_time": "2025-01-02T07:45:38.560085Z",
     "start_time": "2025-01-02T07:45:38.554981Z"
    }
   },
   "outputs": [
    {
     "name": "stdout",
     "output_type": "stream",
     "text": [
      "첫 10개 영화평의 길이\n",
      "1번째 218\n",
      "2번째 189\n",
      "3번째 141\n",
      "4번째 550\n",
      "5번째 147\n",
      "6번째 43\n",
      "7번째 123\n",
      "8번째 562\n",
      "9번째 233\n",
      "10번째 130\n"
     ]
    }
   ],
   "source": [
    "# 4. 영화평 학습용 데이터 처음 10개 길이 출력 함수\n",
    "def show_length():\n",
    "    print('첫 10개 영화평의 길이')\n",
    "    for i in range(10):\n",
    "        print(f'{i+1}번째 {len(X_train[i])}')\n",
    "show_length()"
   ]
  },
  {
   "cell_type": "code",
   "execution_count": 22,
   "id": "79d025c7",
   "metadata": {
    "ExecuteTime": {
     "end_time": "2025-01-02T07:45:38.572053Z",
     "start_time": "2025-01-02T07:45:38.562053Z"
    }
   },
   "outputs": [
    {
     "data": {
      "text/plain": [
       "[1,\n",
       " 14,\n",
       " 22,\n",
       " 16,\n",
       " 43,\n",
       " 530,\n",
       " 973,\n",
       " 1622,\n",
       " 1385,\n",
       " 65,\n",
       " 458,\n",
       " 4468,\n",
       " 66,\n",
       " 3941,\n",
       " 4,\n",
       " 173,\n",
       " 36,\n",
       " 256,\n",
       " 5,\n",
       " 25,\n",
       " 100,\n",
       " 43,\n",
       " 838,\n",
       " 112,\n",
       " 50,\n",
       " 670,\n",
       " 2,\n",
       " 9,\n",
       " 35,\n",
       " 480,\n",
       " 284,\n",
       " 5,\n",
       " 150,\n",
       " 4,\n",
       " 172,\n",
       " 112,\n",
       " 167,\n",
       " 2,\n",
       " 336,\n",
       " 385,\n",
       " 39,\n",
       " 4,\n",
       " 172,\n",
       " 4536,\n",
       " 1111,\n",
       " 17,\n",
       " 546,\n",
       " 38,\n",
       " 13,\n",
       " 447,\n",
       " 4,\n",
       " 192,\n",
       " 50,\n",
       " 16,\n",
       " 6,\n",
       " 147,\n",
       " 2025,\n",
       " 19,\n",
       " 14,\n",
       " 22,\n",
       " 4,\n",
       " 1920,\n",
       " 4613,\n",
       " 469,\n",
       " 4,\n",
       " 22,\n",
       " 71,\n",
       " 87,\n",
       " 12,\n",
       " 16,\n",
       " 43,\n",
       " 530,\n",
       " 38,\n",
       " 76,\n",
       " 15,\n",
       " 13,\n",
       " 1247,\n",
       " 4,\n",
       " 22,\n",
       " 17,\n",
       " 515,\n",
       " 17,\n",
       " 12,\n",
       " 16,\n",
       " 626,\n",
       " 18,\n",
       " 2,\n",
       " 5,\n",
       " 62,\n",
       " 386,\n",
       " 12,\n",
       " 8,\n",
       " 316,\n",
       " 8,\n",
       " 106,\n",
       " 5,\n",
       " 4,\n",
       " 2223,\n",
       " 5244,\n",
       " 16,\n",
       " 480,\n",
       " 66,\n",
       " 3785,\n",
       " 33,\n",
       " 4,\n",
       " 130,\n",
       " 12,\n",
       " 16,\n",
       " 38,\n",
       " 619,\n",
       " 5,\n",
       " 25,\n",
       " 124,\n",
       " 51,\n",
       " 36,\n",
       " 135,\n",
       " 48,\n",
       " 25,\n",
       " 1415,\n",
       " 33,\n",
       " 6,\n",
       " 22,\n",
       " 12,\n",
       " 215,\n",
       " 28,\n",
       " 77,\n",
       " 52,\n",
       " 5,\n",
       " 14,\n",
       " 407,\n",
       " 16,\n",
       " 82,\n",
       " 2,\n",
       " 8,\n",
       " 4,\n",
       " 107,\n",
       " 117,\n",
       " 5952,\n",
       " 15,\n",
       " 256,\n",
       " 4,\n",
       " 2,\n",
       " 7,\n",
       " 3766,\n",
       " 5,\n",
       " 723,\n",
       " 36,\n",
       " 71,\n",
       " 43,\n",
       " 530,\n",
       " 476,\n",
       " 26,\n",
       " 400,\n",
       " 317,\n",
       " 46,\n",
       " 7,\n",
       " 4,\n",
       " 2,\n",
       " 1029,\n",
       " 13,\n",
       " 104,\n",
       " 88,\n",
       " 4,\n",
       " 381,\n",
       " 15,\n",
       " 297,\n",
       " 98,\n",
       " 32,\n",
       " 2071,\n",
       " 56,\n",
       " 26,\n",
       " 141,\n",
       " 6,\n",
       " 194,\n",
       " 7486,\n",
       " 18,\n",
       " 4,\n",
       " 226,\n",
       " 22,\n",
       " 21,\n",
       " 134,\n",
       " 476,\n",
       " 26,\n",
       " 480,\n",
       " 5,\n",
       " 144,\n",
       " 30,\n",
       " 5535,\n",
       " 18,\n",
       " 51,\n",
       " 36,\n",
       " 28,\n",
       " 224,\n",
       " 92,\n",
       " 25,\n",
       " 104,\n",
       " 4,\n",
       " 226,\n",
       " 65,\n",
       " 16,\n",
       " 38,\n",
       " 1334,\n",
       " 88,\n",
       " 12,\n",
       " 16,\n",
       " 283,\n",
       " 5,\n",
       " 16,\n",
       " 4472,\n",
       " 113,\n",
       " 103,\n",
       " 32,\n",
       " 15,\n",
       " 16,\n",
       " 5345,\n",
       " 19,\n",
       " 178,\n",
       " 32]"
      ]
     },
     "execution_count": 22,
     "metadata": {},
     "output_type": "execute_result"
    }
   ],
   "source": [
    "X_train[0]"
   ]
  },
  {
   "cell_type": "code",
   "execution_count": 23,
   "id": "5d8fbda9",
   "metadata": {
    "ExecuteTime": {
     "end_time": "2025-01-02T07:45:38.654883Z",
     "start_time": "2025-01-02T07:45:38.575018Z"
    }
   },
   "outputs": [
    {
     "name": "stdout",
     "output_type": "stream",
     "text": [
      "17\n",
      "19\n"
     ]
    }
   ],
   "source": [
    "# 5. 문자 단어 -> 정수\n",
    "word_to_id = imdb.get_word_index() # dict('문자단어' : 정수id)\n",
    "print(word_to_id['movie'])\n",
    "print(word_to_id['film'])\n",
    "# 정수 -> 문자 단어\n",
    "id_to_word = {} # dict (정수id : 문자단어)\n",
    "for key, val in word_to_id.items():\n",
    "    id_to_word[val] = key"
   ]
  },
  {
   "cell_type": "code",
   "execution_count": 24,
   "id": "c551150e",
   "metadata": {
    "ExecuteTime": {
     "end_time": "2025-01-02T07:45:38.662927Z",
     "start_time": "2025-01-02T07:45:38.656850Z"
    }
   },
   "outputs": [
    {
     "name": "stdout",
     "output_type": "stream",
     "text": [
      "원 후기 내용 : ['what', 'a', 'wonderful', 'movie']\n",
      "encoded된 data : [1, 51, 6, 389, 20]\n",
      "data 추정 : ??????? what a wonderful movie\n"
     ]
    }
   ],
   "source": [
    "msg = 'What a wonderful movie'\n",
    "msg = msg.lower().split()\n",
    "data = [1]+[word_to_id.get(m,-1)+3 for m in msg]\n",
    "print('원 후기 내용 :', msg)\n",
    "print('encoded된 data :', data)\n",
    "print('data 추정 :', ' '.join([id_to_word.get(d-3, '???????') for d in data]))"
   ]
  },
  {
   "cell_type": "code",
   "execution_count": 25,
   "id": "f90fc1e7",
   "metadata": {
    "ExecuteTime": {
     "end_time": "2025-01-02T07:45:38.672890Z",
     "start_time": "2025-01-02T07:45:38.664911Z"
    }
   },
   "outputs": [
    {
     "name": "stdout",
     "output_type": "stream",
     "text": [
      "??? this film was just brilliant casting location scenery story direction everyone's really suited the part they played and you could just imagine being there robert ??? is an amazing actor and now the same being director ??? father came from the same scottish island as myself so i loved the fact there was a real connection with this film the witty remarks throughout the film were great it was just brilliant so much that i bought the film as soon as it was released for ??? and would recommend it to everyone to watch and the fly fishing was amazing really cried at the end it was so sad and you know what they say if you cry at a film it must have been good and this definitely was also ??? to the two little boy's that played the ??? of norman and paul they were just brilliant children are often left out of the ??? list i think because the stars that play them all grown up are such a big profile for the whole film but these children are amazing and should be praised for what they have done don't you think the whole story was so lovely because it was true and was someone's life after all that was shared with us all\n"
     ]
    }
   ],
   "source": [
    "# 6. 숫자 영화평 -> 자연어 영화평 함수\n",
    "def decoding(review_num):\n",
    "    decoded = []\n",
    "    for num in review_num:\n",
    "        word = id_to_word.get(num-3, '???')\n",
    "        decoded.append(word)\n",
    "    print(' '.join(decoded))\n",
    "decoding(X_train[0])"
   ]
  },
  {
   "cell_type": "code",
   "execution_count": 27,
   "id": "e6779f2f",
   "metadata": {
    "ExecuteTime": {
     "end_time": "2025-01-02T07:48:43.920062Z",
     "start_time": "2025-01-02T07:48:43.916095Z"
    }
   },
   "outputs": [
    {
     "name": "stdout",
     "output_type": "stream",
     "text": [
      "첫 10개 영화평의 길이\n",
      "1번째 218\n",
      "2번째 189\n",
      "3번째 141\n",
      "4번째 550\n",
      "5번째 147\n",
      "6번째 43\n",
      "7번째 123\n",
      "8번째 562\n",
      "9번째 233\n",
      "10번째 130\n",
      "pad_sequence 작업전 None\n"
     ]
    }
   ],
   "source": [
    "print('pad_sequence 작업전', show_length())"
   ]
  },
  {
   "cell_type": "code",
   "execution_count": 29,
   "id": "8c84ddd4",
   "metadata": {
    "ExecuteTime": {
     "end_time": "2025-01-02T07:55:17.344665Z",
     "start_time": "2025-01-02T07:55:17.068190Z"
    }
   },
   "outputs": [
    {
     "name": "stdout",
     "output_type": "stream",
     "text": [
      "첫 10개 영화평의 길이\n",
      "1번째 80\n",
      "2번째 80\n",
      "3번째 80\n",
      "4번째 80\n",
      "5번째 80\n",
      "6번째 80\n",
      "7번째 80\n",
      "8번째 80\n",
      "9번째 80\n",
      "10번째 80\n"
     ]
    }
   ],
   "source": [
    "# 7. 모든 영화평의 길이를 동일하게\n",
    "X_train = pad_sequences(X_train, padding='post', truncating='post', maxlen=MY_LENGTH)\n",
    "X_test = pad_sequences(X_test, padding='post', truncating='post', maxlen=MY_LENGTH)\n",
    "show_length()"
   ]
  },
  {
   "cell_type": "code",
   "execution_count": 32,
   "id": "824287cb",
   "metadata": {
    "ExecuteTime": {
     "end_time": "2025-01-02T07:59:28.349729Z",
     "start_time": "2025-01-02T07:59:28.343746Z"
    }
   },
   "outputs": [
    {
     "data": {
      "text/plain": [
       "((25000, 80), (25000,), (25000, 80), (25000,))"
      ]
     },
     "execution_count": 32,
     "metadata": {},
     "output_type": "execute_result"
    }
   ],
   "source": [
    "# 8. 최종 데이터 shape 확인\n",
    "X_train.shape, y_train.shape, X_test.shape, y_test.shape"
   ]
  },
  {
   "cell_type": "code",
   "execution_count": 31,
   "id": "226dac2b",
   "metadata": {
    "ExecuteTime": {
     "end_time": "2025-01-02T07:58:39.299656Z",
     "start_time": "2025-01-02T07:58:39.291678Z"
    }
   },
   "outputs": [
    {
     "data": {
      "text/plain": [
       "array([1, 0, 0, ..., 0, 1, 0], dtype=int64)"
      ]
     },
     "execution_count": 31,
     "metadata": {},
     "output_type": "execute_result"
    }
   ],
   "source": [
    "y_train"
   ]
  },
  {
   "cell_type": "code",
   "execution_count": 34,
   "id": "5f4ce0fc",
   "metadata": {
    "ExecuteTime": {
     "end_time": "2025-01-02T08:05:40.674293Z",
     "start_time": "2025-01-02T08:05:40.373066Z"
    }
   },
   "outputs": [
    {
     "name": "stdout",
     "output_type": "stream",
     "text": [
      "Model: \"sequential_1\"\n",
      "_________________________________________________________________\n",
      " Layer (type)                Output Shape              Param #   \n",
      "=================================================================\n",
      " embedding_1 (Embedding)     (None, 80, 32)            320000    \n",
      "                                                                 \n",
      " lstm (LSTM)                 (None, 64)                24832     \n",
      "                                                                 \n",
      " dense (Dense)               (None, 1)                 65        \n",
      "                                                                 \n",
      "=================================================================\n",
      "Total params: 344,897\n",
      "Trainable params: 344,897\n",
      "Non-trainable params: 0\n",
      "_________________________________________________________________\n"
     ]
    }
   ],
   "source": [
    "# 9. 모델 생성및 구현\n",
    "model = Sequential()\n",
    "model.add(Embedding(input_dim=MY_WORDS, output_dim=MY_EMBED, input_length=MY_LENGTH))\n",
    "model.add(LSTM(units=MY_HIDDEN, input_shape=(MY_LENGTH, MY_EMBED)))\n",
    "model.add(Dense(units=1, activation='sigmoid'))\n",
    "model.summary()"
   ]
  },
  {
   "cell_type": "code",
   "execution_count": 35,
   "id": "c59e6dda",
   "metadata": {
    "ExecuteTime": {
     "end_time": "2025-01-02T08:10:57.828068Z",
     "start_time": "2025-01-02T08:10:12.086248Z"
    }
   },
   "outputs": [
    {
     "name": "stdout",
     "output_type": "stream",
     "text": [
      "Epoch 1/10\n",
      "625/625 [==============================] - 8s 8ms/step - loss: 0.4984 - acc: 0.7472 - val_loss: 0.3997 - val_acc: 0.8190\n",
      "Epoch 2/10\n",
      "625/625 [==============================] - 4s 7ms/step - loss: 0.3371 - acc: 0.8618 - val_loss: 0.4526 - val_acc: 0.8084\n",
      "Epoch 3/10\n",
      "625/625 [==============================] - 4s 7ms/step - loss: 0.2668 - acc: 0.8956 - val_loss: 0.4449 - val_acc: 0.8098\n",
      "Epoch 4/10\n",
      "625/625 [==============================] - 4s 7ms/step - loss: 0.2074 - acc: 0.9197 - val_loss: 0.4811 - val_acc: 0.8118\n",
      "Epoch 5/10\n",
      "625/625 [==============================] - 4s 7ms/step - loss: 0.1571 - acc: 0.9415 - val_loss: 0.5539 - val_acc: 0.7704\n",
      "Epoch 6/10\n",
      "625/625 [==============================] - 4s 7ms/step - loss: 0.1171 - acc: 0.9582 - val_loss: 0.6501 - val_acc: 0.7900\n",
      "Epoch 7/10\n",
      "625/625 [==============================] - 4s 7ms/step - loss: 0.0916 - acc: 0.9681 - val_loss: 0.7275 - val_acc: 0.7940\n",
      "Epoch 8/10\n",
      "625/625 [==============================] - 4s 7ms/step - loss: 0.0737 - acc: 0.9746 - val_loss: 0.6758 - val_acc: 0.7736\n",
      "Epoch 9/10\n",
      "625/625 [==============================] - 4s 7ms/step - loss: 0.0695 - acc: 0.9768 - val_loss: 0.8101 - val_acc: 0.7760\n",
      "Epoch 10/10\n",
      "625/625 [==============================] - 4s 7ms/step - loss: 0.0444 - acc: 0.9858 - val_loss: 0.8432 - val_acc: 0.7754\n",
      "45.721901655197144\n"
     ]
    }
   ],
   "source": [
    "# 10. 학습환경 설정 및 학습하기\n",
    "model.compile(loss='binary_crossentropy', optimizer='adam', metrics=['acc'])\n",
    "begin=time()\n",
    "model.fit(X_train, y_train, epochs=MY_EPOCH, validation_split=0.2)\n",
    "end = time()\n",
    "print(end-begin)"
   ]
  },
  {
   "cell_type": "code",
   "execution_count": 36,
   "id": "973a6579",
   "metadata": {
    "ExecuteTime": {
     "end_time": "2025-01-02T08:24:37.993908Z",
     "start_time": "2025-01-02T08:24:34.993494Z"
    }
   },
   "outputs": [
    {
     "name": "stdout",
     "output_type": "stream",
     "text": [
      "782/782 [==============================] - 3s 4ms/step - loss: 0.9726 - acc: 0.7507\n",
      "test데이터 정확도(acc) : 0.7506800293922424\n"
     ]
    }
   ],
   "source": [
    "# 11. 모델 평가\n",
    "loss, acc = model.evaluate(X_test, y_test, verbose=1)\n",
    "print('test데이터 정확도(acc) :', acc)"
   ]
  },
  {
   "cell_type": "code",
   "execution_count": 40,
   "id": "531774f8",
   "metadata": {
    "ExecuteTime": {
     "end_time": "2025-01-02T08:29:18.954846Z",
     "start_time": "2025-01-02T08:29:16.493021Z"
    }
   },
   "outputs": [
    {
     "name": "stdout",
     "output_type": "stream",
     "text": [
      "782/782 [==============================] - 2s 3ms/step\n"
     ]
    },
    {
     "data": {
      "text/plain": [
       "array([0, 1, 1, ..., 0, 0, 0])"
      ]
     },
     "execution_count": 40,
     "metadata": {},
     "output_type": "execute_result"
    }
   ],
   "source": [
    "# 혼돈 행렬\n",
    "pred = model.predict(X_test)\n",
    "y_hat = (pred>0.5).astype(int).reshape(-1)\n",
    "y_hat"
   ]
  },
  {
   "cell_type": "code",
   "execution_count": 41,
   "id": "f3b8dddc",
   "metadata": {
    "ExecuteTime": {
     "end_time": "2025-01-02T08:29:56.039241Z",
     "start_time": "2025-01-02T08:29:56.033257Z"
    }
   },
   "outputs": [
    {
     "data": {
      "text/plain": [
       "((25000,), (25000,))"
      ]
     },
     "execution_count": 41,
     "metadata": {},
     "output_type": "execute_result"
    }
   ],
   "source": [
    "y_hat.shape, y_test.shape"
   ]
  },
  {
   "cell_type": "code",
   "execution_count": 42,
   "id": "f0deae65",
   "metadata": {
    "ExecuteTime": {
     "end_time": "2025-01-02T08:30:17.815422Z",
     "start_time": "2025-01-02T08:30:17.805384Z"
    }
   },
   "outputs": [
    {
     "data": {
      "text/plain": [
       "array([[9951, 2549],\n",
       "       [3684, 8816]], dtype=int64)"
      ]
     },
     "execution_count": 42,
     "metadata": {},
     "output_type": "execute_result"
    }
   ],
   "source": [
    "confusion_matrix(y_test, y_hat)"
   ]
  },
  {
   "cell_type": "code",
   "execution_count": 43,
   "id": "427d900e",
   "metadata": {
    "ExecuteTime": {
     "end_time": "2025-01-02T08:31:28.894377Z",
     "start_time": "2025-01-02T08:31:28.861440Z"
    }
   },
   "outputs": [
    {
     "data": {
      "text/html": [
       "<div>\n",
       "<style scoped>\n",
       "    .dataframe tbody tr th:only-of-type {\n",
       "        vertical-align: middle;\n",
       "    }\n",
       "\n",
       "    .dataframe tbody tr th {\n",
       "        vertical-align: top;\n",
       "    }\n",
       "\n",
       "    .dataframe thead th {\n",
       "        text-align: right;\n",
       "    }\n",
       "</style>\n",
       "<table border=\"1\" class=\"dataframe\">\n",
       "  <thead>\n",
       "    <tr style=\"text-align: right;\">\n",
       "      <th>col_0</th>\n",
       "      <th>0</th>\n",
       "      <th>1</th>\n",
       "    </tr>\n",
       "    <tr>\n",
       "      <th>row_0</th>\n",
       "      <th></th>\n",
       "      <th></th>\n",
       "    </tr>\n",
       "  </thead>\n",
       "  <tbody>\n",
       "    <tr>\n",
       "      <th>0</th>\n",
       "      <td>9951</td>\n",
       "      <td>2549</td>\n",
       "    </tr>\n",
       "    <tr>\n",
       "      <th>1</th>\n",
       "      <td>3684</td>\n",
       "      <td>8816</td>\n",
       "    </tr>\n",
       "  </tbody>\n",
       "</table>\n",
       "</div>"
      ],
      "text/plain": [
       "col_0     0     1\n",
       "row_0            \n",
       "0      9951  2549\n",
       "1      3684  8816"
      ]
     },
     "execution_count": 43,
     "metadata": {},
     "output_type": "execute_result"
    }
   ],
   "source": [
    "import pandas as pd\n",
    "pd.crosstab(y_test, y_hat)"
   ]
  },
  {
   "cell_type": "code",
   "execution_count": null,
   "id": "d3ca7053",
   "metadata": {},
   "outputs": [],
   "source": [
    "# accuracy(정확도) = (TN+TP)/전체수(TN+FN+FP+TP)\n",
    "# precision(정밀도) = TP / 예측을1이라고 한 수(FP+TP)\n",
    "#    (예측값 기준)\n",
    "# recall (재현율=민감도) = TP / 실제1인 수(FN+TP)\n",
    "#    (실제값 기준)"
   ]
  },
  {
   "cell_type": "code",
   "execution_count": null,
   "id": "ab5e26c1",
   "metadata": {},
   "outputs": [],
   "source": []
  },
  {
   "cell_type": "code",
   "execution_count": null,
   "id": "352e2ec0",
   "metadata": {},
   "outputs": [],
   "source": []
  },
  {
   "cell_type": "code",
   "execution_count": null,
   "id": "47a89e9e",
   "metadata": {},
   "outputs": [],
   "source": []
  }
 ],
 "metadata": {
  "kernelspec": {
   "display_name": "Python 3 (ipykernel)",
   "language": "python",
   "name": "python3"
  },
  "language_info": {
   "codemirror_mode": {
    "name": "ipython",
    "version": 3
   },
   "file_extension": ".py",
   "mimetype": "text/x-python",
   "name": "python",
   "nbconvert_exporter": "python",
   "pygments_lexer": "ipython3",
   "version": "3.10.9"
  },
  "toc": {
   "base_numbering": 1,
   "nav_menu": {},
   "number_sections": true,
   "sideBar": true,
   "skip_h1_title": false,
   "title_cell": "Table of Contents",
   "title_sidebar": "Contents",
   "toc_cell": false,
   "toc_position": {
    "height": "calc(100% - 180px)",
    "left": "10px",
    "top": "150px",
    "width": "202px"
   },
   "toc_section_display": true,
   "toc_window_display": true
  }
 },
 "nbformat": 4,
 "nbformat_minor": 5
}
