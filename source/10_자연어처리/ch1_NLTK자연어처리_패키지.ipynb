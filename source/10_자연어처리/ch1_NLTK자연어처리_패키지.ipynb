{
 "cells": [
  {
   "cell_type": "markdown",
   "id": "7428481f",
   "metadata": {},
   "source": [
    "**<font size='6' color='red'> ch1. NLTK 자연어 처리 패키지 </font>**\n",
    "# 1. NLTK 패키지\n",
    "1. 텍스트 전처리 : 정규표현식을 활용한 토큰화, 토큰화(어절, 문장 나누기), 불용어제거, 기본형(어근)추출\n",
    "2. 품사태깅 : 단어 품사식별\n",
    "3. 구조화된 문서의 빈도수, 분류분석, 연관분석, 감성분석... (단점)NLTK 속도가 느림"
   ]
  },
  {
   "cell_type": "code",
   "execution_count": 2,
   "id": "de28a917",
   "metadata": {
    "ExecuteTime": {
     "end_time": "2024-12-27T06:38:45.112907Z",
     "start_time": "2024-12-27T06:38:45.109912Z"
    }
   },
   "outputs": [],
   "source": [
    "import nltk"
   ]
  },
  {
   "cell_type": "code",
   "execution_count": 2,
   "id": "c50d68f8",
   "metadata": {
    "ExecuteTime": {
     "end_time": "2024-12-27T05:27:26.987641Z",
     "start_time": "2024-12-27T05:21:29.580927Z"
    }
   },
   "outputs": [
    {
     "name": "stdout",
     "output_type": "stream",
     "text": [
      "showing info https://raw.githubusercontent.com/nltk/nltk_data/gh-pages/index.xml\n",
      "showing info https://raw.githubusercontent.com/nltk/nltk_data/gh-pages/index.xml\n"
     ]
    },
    {
     "data": {
      "text/plain": [
       "True"
      ]
     },
     "execution_count": 2,
     "metadata": {},
     "output_type": "execute_result"
    }
   ],
   "source": [
    "nltk.download()"
   ]
  },
  {
   "cell_type": "code",
   "execution_count": 3,
   "id": "b40a5022",
   "metadata": {
    "ExecuteTime": {
     "end_time": "2024-12-27T05:27:39.048934Z",
     "start_time": "2024-12-27T05:27:38.137366Z"
    }
   },
   "outputs": [
    {
     "name": "stderr",
     "output_type": "stream",
     "text": [
      "[nltk_data] Downloading package omw-1.4 to d:\\nltk_data...\n"
     ]
    },
    {
     "data": {
      "text/plain": [
       "True"
      ]
     },
     "execution_count": 3,
     "metadata": {},
     "output_type": "execute_result"
    }
   ],
   "source": [
    "nltk.download('omw-1.4')"
   ]
  },
  {
   "cell_type": "code",
   "execution_count": 3,
   "id": "ee50a0cb",
   "metadata": {
    "ExecuteTime": {
     "end_time": "2024-12-27T06:38:54.684321Z",
     "start_time": "2024-12-27T06:38:48.357234Z"
    }
   },
   "outputs": [
    {
     "name": "stdout",
     "output_type": "stream",
     "text": [
      "*** Introductory Examples for the NLTK Book ***\n",
      "Loading text1, ..., text9 and sent1, ..., sent9\n",
      "Type the name of the text or sentence to view it.\n",
      "Type: 'texts()' or 'sents()' to list the materials.\n",
      "text1: Moby Dick by Herman Melville 1851\n",
      "text2: Sense and Sensibility by Jane Austen 1811\n",
      "text3: The Book of Genesis\n",
      "text4: Inaugural Address Corpus\n",
      "text5: Chat Corpus\n",
      "text6: Monty Python and the Holy Grail\n",
      "text7: Wall Street Journal\n",
      "text8: Personals Corpus\n",
      "text9: The Man Who Was Thursday by G . K . Chesterton 1908\n"
     ]
    }
   ],
   "source": [
    "from nltk.book import *"
   ]
  },
  {
   "cell_type": "code",
   "execution_count": 5,
   "id": "9f2fcfd8",
   "metadata": {
    "ExecuteTime": {
     "end_time": "2024-12-27T05:31:22.979694Z",
     "start_time": "2024-12-27T05:31:22.973720Z"
    }
   },
   "outputs": [
    {
     "data": {
      "text/plain": [
       "['austen-emma.txt',\n",
       " 'austen-persuasion.txt',\n",
       " 'austen-sense.txt',\n",
       " 'bible-kjv.txt',\n",
       " 'blake-poems.txt',\n",
       " 'bryant-stories.txt',\n",
       " 'burgess-busterbrown.txt',\n",
       " 'carroll-alice.txt',\n",
       " 'chesterton-ball.txt',\n",
       " 'chesterton-brown.txt',\n",
       " 'chesterton-thursday.txt',\n",
       " 'edgeworth-parents.txt',\n",
       " 'melville-moby_dick.txt',\n",
       " 'milton-paradise.txt',\n",
       " 'shakespeare-caesar.txt',\n",
       " 'shakespeare-hamlet.txt',\n",
       " 'shakespeare-macbeth.txt',\n",
       " 'whitman-leaves.txt']"
      ]
     },
     "execution_count": 5,
     "metadata": {},
     "output_type": "execute_result"
    }
   ],
   "source": [
    "# 말뭉치 리스트\n",
    "nltk.corpus.gutenberg.fileids()"
   ]
  },
  {
   "cell_type": "code",
   "execution_count": 4,
   "id": "9ec13d39",
   "metadata": {
    "ExecuteTime": {
     "end_time": "2024-12-27T06:38:56.938324Z",
     "start_time": "2024-12-27T06:38:56.933315Z"
    }
   },
   "outputs": [
    {
     "name": "stdout",
     "output_type": "stream",
     "text": [
      "[Emma by Jane Austen 1816]\n",
      "\n",
      "VOLUME I\n",
      "\n",
      "CH\n"
     ]
    }
   ],
   "source": [
    "emma = nltk.corpus.gutenberg.raw('austen-emma.txt')\n",
    "print(emma[:40])"
   ]
  },
  {
   "cell_type": "code",
   "execution_count": 8,
   "id": "48003ea7",
   "metadata": {
    "ExecuteTime": {
     "end_time": "2024-12-27T05:35:02.394974Z",
     "start_time": "2024-12-27T05:35:02.389017Z"
    }
   },
   "outputs": [
    {
     "data": {
      "text/plain": [
       "887071"
      ]
     },
     "execution_count": 8,
     "metadata": {},
     "output_type": "execute_result"
    }
   ],
   "source": [
    "len(emma)"
   ]
  },
  {
   "cell_type": "code",
   "execution_count": 5,
   "id": "b8b6bf40",
   "metadata": {
    "ExecuteTime": {
     "end_time": "2024-12-27T06:39:03.512751Z",
     "start_time": "2024-12-27T06:39:02.921332Z"
    }
   },
   "outputs": [
    {
     "name": "stdout",
     "output_type": "stream",
     "text": [
      "첫문장 : '[Emma by Jane Austen 1816]\\n\\nVOLUME I\\n\\nCHAPTER I\\n\\n\\nEmma Woodhouse, handsome, clever, and rich, with a comfortable home\\nand happy disposition, seemed to unite some of the best blessings\\nof existence; and had lived nearly twenty-one years in the world\\nwith very little to distress or vex her.'\n",
      "두번째문장 : \"She was the youngest of the two daughters of a most affectionate,\\nindulgent father; and had, in consequence of her sister's marriage,\\nbeen mistress of his house from a very early period.\"\n",
      "문장수 : 7456\n"
     ]
    }
   ],
   "source": [
    "# sent_tokenize() : 문장단위로 쪼갠 list\n",
    "from nltk.tokenize import sent_tokenize\n",
    "sent_tokens = sent_tokenize(emma)\n",
    "print('첫문장 : %r'%(sent_tokens[0]))\n",
    "print('두번째문장 : %r'%(sent_tokens[1]))\n",
    "print('문장수 :',len(sent_tokens))"
   ]
  },
  {
   "cell_type": "code",
   "execution_count": 14,
   "id": "2c0341a4",
   "metadata": {
    "ExecuteTime": {
     "end_time": "2024-12-27T05:42:29.215698Z",
     "start_time": "2024-12-27T05:42:29.209714Z"
    }
   },
   "outputs": [
    {
     "name": "stdout",
     "output_type": "stream",
     "text": [
      "['[', 'Emma', 'by', 'Jane', 'Austen', '1816', ']', 'VOLUME', 'I', 'CHAPTER', 'I', 'Emma', 'Woodhouse', ',', 'handsome', ',', 'clever', ',', 'and', 'rich', ',', 'with', 'a', 'comfortable', 'home', 'and', 'happy', 'disposition', ',', 'seemed', 'to', 'unite', 'some', 'of', 'the', 'best', 'blessings', 'of', 'existence', ';', 'and', 'had', 'lived', 'nearly', 'twenty-one', 'years', 'in', 'the', 'world', 'with', 'very', 'little', 'to', 'distress', 'or', 'vex', 'her', '.']\n"
     ]
    }
   ],
   "source": [
    "# word_tokenize() : 단어 단위로 쪼갠 list 반환\n",
    "from nltk.tokenize import word_tokenize\n",
    "print(word_tokenize(sent_tokens[0]))"
   ]
  },
  {
   "cell_type": "code",
   "execution_count": 15,
   "id": "3ae2b8c6",
   "metadata": {
    "ExecuteTime": {
     "end_time": "2024-12-27T05:46:22.571439Z",
     "start_time": "2024-12-27T05:46:22.566453Z"
    }
   },
   "outputs": [
    {
     "name": "stdout",
     "output_type": "stream",
     "text": [
      "['Emma', 'by', 'Jane', 'Austen', '1816', 'VOLUME', 'I', 'CHAPTER', 'I', 'Emma', 'Woodhouse', 'handsome', 'clever', 'and', 'rich', 'with', 'a', 'comfortable', 'home', 'and', 'happy', 'disposition', 'seemed', 'to', 'unite', 'some', 'of', 'the', 'best', 'blessings', 'of', 'existence', 'and', 'had', 'lived', 'nearly', 'twenty', 'one', 'years', 'in', 'the', 'world', 'with', 'very', 'little', 'to', 'distress', 'or', 'vex', 'her']\n"
     ]
    }
   ],
   "source": [
    "# RegexpTokenizer클래스 : 토큰화할 때 정규표현식 이용\n",
    "from nltk.tokenize import RegexpTokenizer\n",
    "ret = RegexpTokenizer('\\w+')\n",
    "words = ret.tokenize(sent_tokens[0])\n",
    "print(words)"
   ]
  },
  {
   "cell_type": "markdown",
   "id": "afd10767",
   "metadata": {},
   "source": [
    "# 2. 형태소(의미있는 가장 작은 말의 단위) 분석\n",
    "- 자연어처리의 기본은 형태소 분석과 품사태깅\n",
    "    * 어간추출(stemming), 원형복원(lemmatizing), 품사 태깅"
   ]
  },
  {
   "cell_type": "code",
   "execution_count": 16,
   "id": "a15770e0",
   "metadata": {
    "ExecuteTime": {
     "end_time": "2024-12-27T05:52:53.302786Z",
     "start_time": "2024-12-27T05:52:53.294820Z"
    }
   },
   "outputs": [
    {
     "data": {
      "text/plain": [
       "('send', 'cook', 'file')"
      ]
     },
     "execution_count": 16,
     "metadata": {},
     "output_type": "execute_result"
    }
   ],
   "source": [
    "words = ['sending', 'cooking', 'files', 'lives', 'crying', 'dying']\n",
    "# 어간 추출(1)\n",
    "from nltk.stem import PorterStemmer\n",
    "pst = PorterStemmer()\n",
    "pst.stem(words[0]), pst.stem(words[1]), pst.stem(words[2])"
   ]
  },
  {
   "cell_type": "code",
   "execution_count": 17,
   "id": "dcf2d7d9",
   "metadata": {
    "ExecuteTime": {
     "end_time": "2024-12-27T05:53:20.496619Z",
     "start_time": "2024-12-27T05:53:20.490635Z"
    }
   },
   "outputs": [
    {
     "data": {
      "text/plain": [
       "['send', 'cook', 'file', 'live', 'cri', 'die']"
      ]
     },
     "execution_count": 17,
     "metadata": {},
     "output_type": "execute_result"
    }
   ],
   "source": [
    "[pst.stem(word) for word in words]"
   ]
  },
  {
   "cell_type": "code",
   "execution_count": 18,
   "id": "1f5ae2e1",
   "metadata": {
    "ExecuteTime": {
     "end_time": "2024-12-27T05:55:48.437497Z",
     "start_time": "2024-12-27T05:55:48.431493Z"
    }
   },
   "outputs": [
    {
     "data": {
      "text/plain": [
       "['send', 'cook', 'fil', 'liv', 'cry', 'dying']"
      ]
     },
     "execution_count": 18,
     "metadata": {},
     "output_type": "execute_result"
    }
   ],
   "source": [
    "# 어간 추출(2) - ※\n",
    "from nltk.stem import LancasterStemmer\n",
    "lst = LancasterStemmer()\n",
    "[lst.stem(word) for word in words]"
   ]
  },
  {
   "cell_type": "code",
   "execution_count": 19,
   "id": "451ffa2e",
   "metadata": {
    "ExecuteTime": {
     "end_time": "2024-12-27T05:58:17.733646Z",
     "start_time": "2024-12-27T05:58:17.726664Z"
    }
   },
   "outputs": [
    {
     "data": {
      "text/plain": [
       "['send', 'cook', 'files', 'lives', 'cry', 'dy']"
      ]
     },
     "execution_count": 19,
     "metadata": {},
     "output_type": "execute_result"
    }
   ],
   "source": [
    "# 어간 추출(3)\n",
    "from nltk.stem import RegexpStemmer\n",
    "rst = RegexpStemmer('ing')\n",
    "[rst.stem(word) for word in words]"
   ]
  },
  {
   "cell_type": "code",
   "execution_count": 20,
   "id": "ccfbb4a2",
   "metadata": {
    "ExecuteTime": {
     "end_time": "2024-12-27T06:13:54.433872Z",
     "start_time": "2024-12-27T06:13:54.427885Z"
    }
   },
   "outputs": [
    {
     "data": {
      "text/plain": [
       "['bel', 'cook']"
      ]
     },
     "execution_count": 20,
     "metadata": {},
     "output_type": "execute_result"
    }
   ],
   "source": [
    "# 어간을 추출할 경우 의미가 달라지는 경우 있어 원형복원을 하기도 함\n",
    "words2 = ['belives', 'cooking']\n",
    "[lst.stem(word) for word in words2]"
   ]
  },
  {
   "cell_type": "code",
   "execution_count": 23,
   "id": "977d9487",
   "metadata": {
    "ExecuteTime": {
     "end_time": "2024-12-27T06:15:27.018336Z",
     "start_time": "2024-12-27T06:15:27.013347Z"
    }
   },
   "outputs": [
    {
     "data": {
      "text/plain": [
       "['belives', 'cooking']"
      ]
     },
     "execution_count": 23,
     "metadata": {},
     "output_type": "execute_result"
    }
   ],
   "source": [
    "# 원형 복원\n",
    "from nltk.stem.wordnet import WordNetLemmatizer\n",
    "wl = WordNetLemmatizer()\n",
    "[wl.lemmatize(word) for word in words2]"
   ]
  },
  {
   "cell_type": "code",
   "execution_count": 25,
   "id": "56845ec4",
   "metadata": {
    "ExecuteTime": {
     "end_time": "2024-12-27T06:23:00.823787Z",
     "start_time": "2024-12-27T06:23:00.732056Z"
    }
   },
   "outputs": [
    {
     "name": "stdout",
     "output_type": "stream",
     "text": [
      "단어들 : ['It', 'was', 'on', 'the', 'wedding-day', 'of', 'this', 'beloved', 'friend', 'that', 'Emma', 'first', 'sat', 'in', 'mournful', 'thought', 'of', 'any', 'continuance', '.']\n",
      "\n",
      " 품사태깅결과 : [('It', 'PRP'), ('was', 'VBD'), ('on', 'IN'), ('the', 'DT'), ('wedding-day', 'NN'), ('of', 'IN'), ('this', 'DT'), ('beloved', 'VBN'), ('friend', 'NN'), ('that', 'WDT'), ('Emma', 'NNP'), ('first', 'RB'), ('sat', 'VBD'), ('in', 'IN'), ('mournful', 'JJ'), ('thought', 'NN'), ('of', 'IN'), ('any', 'DT'), ('continuance', 'NN'), ('.', '.')]\n"
     ]
    }
   ],
   "source": [
    "# 품사태깅 : sent_tokens[10]\n",
    "from nltk.tag import pos_tag\n",
    "words = word_tokenize(sent_tokens[10])\n",
    "tagged_list = pos_tag(words)\n",
    "print('단어들 :', words)\n",
    "print('\\n 품사태깅결과 :', tagged_list)"
   ]
  },
  {
   "cell_type": "code",
   "execution_count": 116,
   "id": "240f46ac",
   "metadata": {
    "ExecuteTime": {
     "end_time": "2024-12-27T07:30:26.220508Z",
     "start_time": "2024-12-27T07:30:16.648070Z"
    },
    "scrolled": true
   },
   "outputs": [],
   "source": [
    "# 퀴즈 : emma 소설안에서\n",
    "# 1. 특수문자가 들어가지 않은 3글자 이상의 단어만 추출해서 품사 태깅을 하시오.\n",
    "from nltk.tokenize import RegexpTokenizer\n",
    "from nltk.tag import pos_tag\n",
    "import pandas as pd\n",
    "rtn = RegexpTokenizer('[\\w]{3,}')\n",
    "words = []\n",
    "for pro in sent_tokens:\n",
    "    words.append(rtn.tokenize(pro))\n",
    "taggin_words = [pos_tag(word) for word in words]"
   ]
  },
  {
   "cell_type": "code",
   "execution_count": 117,
   "id": "c9061c7f",
   "metadata": {
    "ExecuteTime": {
     "end_time": "2024-12-27T07:30:26.361120Z",
     "start_time": "2024-12-27T07:30:26.222470Z"
    }
   },
   "outputs": [
    {
     "name": "stdout",
     "output_type": "stream",
     "text": [
      "887071\n"
     ]
    }
   ],
   "source": [
    "cnt=0\n",
    "for row in emma:\n",
    "    cnt += len(row)\n",
    "print(cnt)"
   ]
  },
  {
   "cell_type": "code",
   "execution_count": 124,
   "id": "f4e57256",
   "metadata": {
    "ExecuteTime": {
     "end_time": "2024-12-27T07:35:38.966544Z",
     "start_time": "2024-12-27T07:35:38.932655Z"
    }
   },
   "outputs": [],
   "source": [
    "set_tag = set()\n",
    "for tags in taggin_words:\n",
    "    for tag in tags:\n",
    "        set_tag.add(tag)"
   ]
  },
  {
   "cell_type": "code",
   "execution_count": 135,
   "id": "be2108eb",
   "metadata": {
    "ExecuteTime": {
     "end_time": "2024-12-27T07:39:31.376341Z",
     "start_time": "2024-12-27T07:39:31.369361Z"
    }
   },
   "outputs": [
    {
     "name": "stdout",
     "output_type": "stream",
     "text": [
      "emma소설의 글자수 887071, 단어 출현수 7456, 단어종류수 11543\n"
     ]
    },
    {
     "data": {
      "text/plain": [
       "[('Emma', 'NNP'),\n",
       " ('Jane', 'NNP'),\n",
       " ('Austen', 'NNP'),\n",
       " ('1816', 'CD'),\n",
       " ('VOLUME', 'NNP'),\n",
       " ('CHAPTER', 'NNP'),\n",
       " ('Emma', 'NNP'),\n",
       " ('Woodhouse', 'NNP'),\n",
       " ('handsome', 'VBD'),\n",
       " ('clever', 'NN')]"
      ]
     },
     "execution_count": 135,
     "metadata": {},
     "output_type": "execute_result"
    }
   ],
   "source": [
    "print('emma소설의 글자수 {}, 단어 출현수 {}, 단어종류수 {}'.format(len(emma), len(words), len(set_tag)))\n",
    "taggin_words[0][:10]"
   ]
  },
  {
   "cell_type": "code",
   "execution_count": 48,
   "id": "67d9a828",
   "metadata": {
    "ExecuteTime": {
     "end_time": "2024-12-27T07:00:44.645956Z",
     "start_time": "2024-12-27T07:00:44.627034Z"
    },
    "scrolled": true
   },
   "outputs": [
    {
     "name": "stdout",
     "output_type": "stream",
     "text": [
      "865\n"
     ]
    }
   ],
   "source": [
    "# 2. Emma 단어가 몇 번 등장하며, 품사 태깅이 어떤 품사들로 되어 있는지 모두 출력하시오\n",
    "tag_list = []\n",
    "for words in taggin_words:\n",
    "    for word in words:\n",
    "        if word[0] != 'Emma':\n",
    "            continue\n",
    "        else:\n",
    "            tag_list.append(word[1])"
   ]
  },
  {
   "cell_type": "code",
   "execution_count": 52,
   "id": "3bb1903a",
   "metadata": {
    "ExecuteTime": {
     "end_time": "2024-12-27T07:02:49.414492Z",
     "start_time": "2024-12-27T07:02:49.406515Z"
    }
   },
   "outputs": [
    {
     "name": "stdout",
     "output_type": "stream",
     "text": [
      "Emma단어는 총 865번 등장합니다\n",
      "NNP태그의 출현 갯수는 811개 입니다\n",
      "NN태그의 출현 갯수는 35개 입니다\n",
      "JJ태그의 출현 갯수는 4개 입니다\n",
      "NNS태그의 출현 갯수는 4개 입니다\n",
      "VB태그의 출현 갯수는 4개 입니다\n",
      "VBP태그의 출현 갯수는 3개 입니다\n",
      "RB태그의 출현 갯수는 2개 입니다\n",
      "NNPS태그의 출현 갯수는 1개 입니다\n",
      "VBD태그의 출현 갯수는 1개 입니다\n"
     ]
    }
   ],
   "source": [
    "tag_val_cnt = pd.DataFrame(tag_list).value_counts()\n",
    "print('Emma단어는 총 {}번 등장합니다'.format(len(tag_list)))\n",
    "for idx, cnt in zip(tag_val_cnt.index, tag_val_cnt):\n",
    "    print('{}태그의 출현 갯수는 {}개 입니다'.format(idx[0], cnt))"
   ]
  },
  {
   "cell_type": "code",
   "execution_count": 79,
   "id": "b8e18afb",
   "metadata": {
    "ExecuteTime": {
     "end_time": "2024-12-27T07:20:16.792486Z",
     "start_time": "2024-12-27T07:20:16.747578Z"
    }
   },
   "outputs": [],
   "source": [
    "# 3. 내가 원하는 품사 (명사 : NN, NNS, NNP, NNPS)의 단어만 뽑아 등장하는 명사의 종류 갯수를 출력하시오\n",
    "word_list = []\n",
    "noun_list = []\n",
    "for words in taggin_words:\n",
    "    for word in words:\n",
    "        if word[1] != 'NN' and word[1] != 'NNS' and word[1] != 'NNP' and word[1] != 'NNPS':\n",
    "            continue\n",
    "        else :\n",
    "            word_list.append(word[0])\n",
    "            noun_list.append(word)"
   ]
  },
  {
   "cell_type": "code",
   "execution_count": 93,
   "id": "8d02682c",
   "metadata": {
    "ExecuteTime": {
     "end_time": "2024-12-27T07:24:23.451749Z",
     "start_time": "2024-12-27T07:24:23.439782Z"
    }
   },
   "outputs": [],
   "source": [
    "noun_df = pd.DataFrame(noun_list)"
   ]
  },
  {
   "cell_type": "code",
   "execution_count": 114,
   "id": "897a6e63",
   "metadata": {
    "ExecuteTime": {
     "end_time": "2024-12-27T07:28:40.713109Z",
     "start_time": "2024-12-27T07:28:40.696155Z"
    }
   },
   "outputs": [
    {
     "name": "stdout",
     "output_type": "stream",
     "text": [
      "명사가 나온 횟수 : 30953\n",
      "출력한 명사의 수(반복제거) : 4328\n",
      "한단어가 나오는 평균 빈도수 : 7.431692677070829\n"
     ]
    }
   ],
   "source": [
    "print('명사가 나온 횟수 :', noun_cnt.sum())\n",
    "print('출력한 명사의 수(반복제거) :', noun_cnt.index.value_counts().sum())\n",
    "print('한단어가 나오는 평균 빈도수 :',noun_cnt.groupby(0).sum().mean())"
   ]
  },
  {
   "cell_type": "code",
   "execution_count": 140,
   "id": "3db498a2",
   "metadata": {
    "ExecuteTime": {
     "end_time": "2024-12-27T08:38:12.938483Z",
     "start_time": "2024-12-27T08:38:12.692170Z"
    }
   },
   "outputs": [
    {
     "data": {
      "image/png": "[encoded data removed]",
      "text/plain": [
       "<Figure size 1500x400 with 1 Axes>"
      ]
     },
     "metadata": {},
     "output_type": "display_data"
    },
    {
     "data": {
      "text/plain": [
       "<Axes: xlabel='Samples', ylabel='Counts'>"
      ]
     },
     "execution_count": 140,
     "metadata": {},
     "output_type": "execute_result"
    }
   ],
   "source": [
    "# 최빈단어 시각화\n",
    "import matplotlib.pyplot as plt\n",
    "from nltk import Text\n",
    "# Text : 단어 리스트와 빈도 분석에서 사용될 클래스\n",
    "emma_text = Text(word_list)\n",
    "plt.figure(figsize=(15, 4))\n",
    "emma_text.plot(20)"
   ]
  },
  {
   "cell_type": "code",
   "execution_count": 141,
   "id": "5b6291b2",
   "metadata": {
    "ExecuteTime": {
     "end_time": "2024-12-27T08:38:14.593082Z",
     "start_time": "2024-12-27T08:38:14.460416Z"
    }
   },
   "outputs": [
    {
     "data": {
      "image/png": "[encoded data removed]",
      "text/plain": [
       "<Figure size 640x480 with 1 Axes>"
      ]
     },
     "metadata": {},
     "output_type": "display_data"
    }
   ],
   "source": [
    "emma_text.dispersion_plot(['Emma','Jane','Nothing'])"
   ]
  },
  {
   "cell_type": "code",
   "execution_count": 149,
   "id": "9a8d3afc",
   "metadata": {
    "ExecuteTime": {
     "end_time": "2024-12-27T08:46:05.474785Z",
     "start_time": "2024-12-27T08:46:05.447858Z"
    }
   },
   "outputs": [
    {
     "data": {
      "text/plain": [
       "{'Emma': 812,\n",
       " 'Jane': 295,\n",
       " 'Austen': 1,\n",
       " 'VOLUME': 3,\n",
       " 'CHAPTER': 4,\n",
       " 'Woodhouse': 294,\n",
       " 'Miss': 569,\n",
       " 'Taylor': 48,\n",
       " 'Between': 2,\n",
       " '_them_': 1,\n",
       " 'Sorrow': 1,\n",
       " 'Weston': 434,\n",
       " 'Isabella': 60,\n",
       " 'Mrs': 690,\n",
       " 'London': 45,\n",
       " 'October': 4,\n",
       " 'November': 5,\n",
       " 'Hartfield': 154,\n",
       " 'Christmas': 11,\n",
       " 'Highbury': 117,\n",
       " 'Matrimony': 1,\n",
       " 'Poor': 30,\n",
       " 'James': 19,\n",
       " 'Randalls': 76,\n",
       " 'Hannah': 2,\n",
       " 'Knightley': 388,\n",
       " 'Brunswick': 11,\n",
       " 'Square': 11,\n",
       " 'Dirty': 1,\n",
       " 'Tis': 2,\n",
       " '_one_': 3,\n",
       " '_you_': 5,\n",
       " 'Well': 33,\n",
       " 'Dear': 17,\n",
       " 'Pray': 14,\n",
       " 'Broadway': 1,\n",
       " 'Lane': 6,\n",
       " 'Farmer': 1,\n",
       " 'Mitchell': 1,\n",
       " 'Elton': 370,\n",
       " 'Invite': 2,\n",
       " 'Depend': 10,\n",
       " 'Captain': 3,\n",
       " 'Churchill': 218,\n",
       " 'Yorkshire': 6,\n",
       " 'Enscombe': 34,\n",
       " 'Churchills': 15,\n",
       " 'means': 1,\n",
       " 'Frank': 208,\n",
       " 'Perry': 74,\n",
       " 'Bates': 143,\n",
       " 'Perrys': 3,\n",
       " 'III': 4,\n",
       " 'Donwell': 48,\n",
       " 'Abbey': 30,\n",
       " 'Goddard': 59,\n",
       " 'Had': 13,\n",
       " 'School': 1,\n",
       " 'Boarding': 1,\n",
       " 'Smith': 89,\n",
       " 'Harriet': 480,\n",
       " 'Martin': 81,\n",
       " 'Serle': 3,\n",
       " '_very_': 4,\n",
       " 'Quick': 1,\n",
       " 'Martins': 9,\n",
       " 'Mill': 11,\n",
       " 'Farm': 5,\n",
       " 'Alderneys': 1,\n",
       " 'Welch': 2,\n",
       " '_her_': 5,\n",
       " 'Sunday': 2,\n",
       " 'Nash': 13,\n",
       " 'Prince': 1,\n",
       " 'Richardson': 1,\n",
       " 'Agricultural': 1,\n",
       " 'Reports': 1,\n",
       " 'Vicar': 1,\n",
       " 'Wakefield': 1,\n",
       " 'Romance': 2,\n",
       " 'Forest': 2,\n",
       " 'Children': 1,\n",
       " 'Kingston': 8,\n",
       " 'June': 7,\n",
       " 'Elizabeth': 8,\n",
       " 'Robert': 32,\n",
       " '_gentleman_': 1,\n",
       " 'Compare': 2,\n",
       " '_will_': 1,\n",
       " 'Did': 17,\n",
       " '_that_': 6,\n",
       " '_your_': 2,\n",
       " 'John': 90,\n",
       " 'Skilful': 1,\n",
       " 'Great': 1,\n",
       " 'Don': 9,\n",
       " 'Henry': 23,\n",
       " 'Bella': 3,\n",
       " 'George': 6,\n",
       " 'Yes': 13,\n",
       " '_at_': 2,\n",
       " '_present_': 1,\n",
       " 'December': 4,\n",
       " 'Might': 3,\n",
       " 'VII': 3,\n",
       " 'Half': 2,\n",
       " 'Vigorous': 1,\n",
       " 'Are': 8,\n",
       " '_purport_': 1,\n",
       " 'Does': 3,\n",
       " 'How': 26,\n",
       " '_You_': 2,\n",
       " 'Thank': 11,\n",
       " 'Hitherto': 1,\n",
       " 'Bond': 2,\n",
       " 'Has': 6,\n",
       " 'VIII': 3,\n",
       " 'Come': 13,\n",
       " 'Tiresome': 1,\n",
       " 'Till': 6,\n",
       " 'Were': 6,\n",
       " 'Vanity': 2,\n",
       " '_letting_': 1,\n",
       " 'Nonsense': 2,\n",
       " 'Clayton': 1,\n",
       " 'Park': 1,\n",
       " '_particular_': 1,\n",
       " 'Picture': 1,\n",
       " 'Kitty': 3,\n",
       " 'Which': 1,\n",
       " 'Take': 1,\n",
       " 'CHARADE': 1,\n",
       " 'Lord': 3,\n",
       " 'Thy': 2,\n",
       " 'May': 8,\n",
       " 'Approve': 1,\n",
       " 'Humph': 3,\n",
       " 'Behold': 1,\n",
       " 'Read': 2,\n",
       " 'Could': 6,\n",
       " 'Smiths': 1,\n",
       " 'Eltons': 10,\n",
       " 'Shakespeare': 1,\n",
       " 'Michaelmas': 1,\n",
       " 'Abbots': 1,\n",
       " '_well_': 2,\n",
       " 'Your': 2,\n",
       " 'Trust': 1,\n",
       " 'Aye': 13,\n",
       " 'Woman': 2,\n",
       " 'Kindled': 1,\n",
       " 'Elegant': 2,\n",
       " 'Garrick': 1,\n",
       " 'Catherine': 1,\n",
       " 'Have': 4,\n",
       " 'Easter': 2,\n",
       " 'Unwelcome': 1,\n",
       " 'Grandpapa': 1,\n",
       " 'Cole': 58,\n",
       " '_I_': 4,\n",
       " 'Though': 2,\n",
       " 'Vicarage': 8,\n",
       " '_now_': 1,\n",
       " '_then_': 1,\n",
       " 'Fortune': 1,\n",
       " '_us_': 2,\n",
       " 'Heaven': 4,\n",
       " 'Knightleys': 7,\n",
       " 'Fairfax': 240,\n",
       " 'Stilton': 1,\n",
       " 'Wiltshire': 1,\n",
       " 'Surry': 9,\n",
       " 'Wingfield': 9,\n",
       " 'Papa': 3,\n",
       " 'Westons': 4,\n",
       " 'September': 5,\n",
       " 'Cobham': 1,\n",
       " 'Whether': 3,\n",
       " 'Weymouth': 15,\n",
       " 'Sept': 1,\n",
       " 'Madam': 1,\n",
       " 'XII': 3,\n",
       " '_he_': 1,\n",
       " 'English': 5,\n",
       " 'South': 7,\n",
       " 'End': 5,\n",
       " 'August': 3,\n",
       " 'Bateses': 4,\n",
       " 'Graham': 1,\n",
       " 'Scotland': 1,\n",
       " 'Colonel': 38,\n",
       " 'Campbell': 49,\n",
       " 'Philippics': 1,\n",
       " 'Often': 1,\n",
       " 'Cromer': 3,\n",
       " 'Better': 3,\n",
       " 'Langham': 1,\n",
       " 'XIII': 2,\n",
       " 'Very': 11,\n",
       " 'Dreadful': 2,\n",
       " 'Weather': 1,\n",
       " 'Quite': 3,\n",
       " 'XIV': 2,\n",
       " 'Can': 3,\n",
       " 'Absurd': 1,\n",
       " 'January': 5,\n",
       " 'Braithwaites': 1,\n",
       " '_woman_': 1,\n",
       " '_when_': 1,\n",
       " 'Judge': 1,\n",
       " 'Walk': 1,\n",
       " 'Shall': 4,\n",
       " 'Command': 1,\n",
       " 'Believe': 1,\n",
       " 'Charming': 2,\n",
       " 'Nothing': 1,\n",
       " 'Every': 6,\n",
       " 'Encouragement': 1,\n",
       " 'Sir': 3,\n",
       " 'Contrary': 1,\n",
       " 'Sighs': 1,\n",
       " 'Somebody': 2,\n",
       " 'Woodhouses': 1,\n",
       " 'William': 22,\n",
       " 'Coxe': 2,\n",
       " 'Day': 2,\n",
       " 'XVII': 2,\n",
       " 'Bath': 18,\n",
       " 'Time': 6,\n",
       " 'XVIII': 3,\n",
       " 'Respect': 1,\n",
       " 'Cannot': 4,\n",
       " 'Coles': 15,\n",
       " 'Master': 1,\n",
       " 'Ceremonies': 1,\n",
       " 'Mistresses': 1,\n",
       " 'Misses': 1,\n",
       " 'Hetty': 2,\n",
       " 'God': 8,\n",
       " 'Friday': 3,\n",
       " 'Saturday': 7,\n",
       " 'Tuesday': 7,\n",
       " 'Wednesday': 2,\n",
       " 'Campbells': 24,\n",
       " 'Ireland': 13,\n",
       " 'Dixon': 44,\n",
       " 'Dublin': 1,\n",
       " 'Baly': 1,\n",
       " 'Monday': 2,\n",
       " 'Bless': 3,\n",
       " 'Lieut': 1,\n",
       " '_______': 1,\n",
       " 'England': 10,\n",
       " 'Wrapt': 1,\n",
       " 'Dixons': 3,\n",
       " 'Was': 10,\n",
       " 'Full': 2,\n",
       " 'Patty': 12,\n",
       " 'Hawkins': 17,\n",
       " 'Handsome': 1,\n",
       " '_boiled_': 1,\n",
       " 'Good': 5,\n",
       " 'Ford': 16,\n",
       " 'Ambition': 1,\n",
       " 'Human': 1,\n",
       " 'Augusta': 4,\n",
       " 'Green': 1,\n",
       " 'Brown': 1,\n",
       " '_Elton_': 2,\n",
       " '_who_': 1,\n",
       " 'Bristol': 8,\n",
       " '_married_': 1,\n",
       " '_great_': 1,\n",
       " '_way_': 1,\n",
       " 'Absolute': 1,\n",
       " 'Small': 1,\n",
       " '_Rev': 1,\n",
       " '_Philip_': 1,\n",
       " '_White': 1,\n",
       " 'Hart_': 1,\n",
       " '_Bath_': 1,\n",
       " 'Fourteen': 1,\n",
       " '_little_': 1,\n",
       " 'Oxford': 2,\n",
       " '_she_': 6,\n",
       " 'Think': 1,\n",
       " '_home_': 1,\n",
       " 'Pleasant': 2,\n",
       " 'Balls': 1,\n",
       " 'Crown': 25,\n",
       " 'Inn': 2,\n",
       " 'Ill': 1,\n",
       " 'Men': 2,\n",
       " 'Beavers': 1,\n",
       " 'York': 1,\n",
       " 'Tan': 1,\n",
       " 'Proof': 1,\n",
       " 'Hum': 1,\n",
       " '_his_': 1,\n",
       " 'Wickedness': 1,\n",
       " '_not_': 3,\n",
       " 'Cox': 8,\n",
       " 'Broadwood': 2,\n",
       " 'Nay': 6,\n",
       " 'February': 7,\n",
       " 'March': 1,\n",
       " '_time_': 1,\n",
       " 'Imprudent': 1,\n",
       " 'Perfect': 1,\n",
       " 'Coxes': 5,\n",
       " 'Anne': 3,\n",
       " 'Much': 1,\n",
       " 'yes': 1,\n",
       " 'Saunders': 1,\n",
       " 'Wallis': 3,\n",
       " 'Wallises': 1,\n",
       " 'Larkins': 13,\n",
       " 'Hodges': 5,\n",
       " '_would_': 1,\n",
       " 'Busy': 1,\n",
       " 'Whoever': 1,\n",
       " '_party_': 1,\n",
       " 'Cramer': 1,\n",
       " 'Leave': 1,\n",
       " 'Gilberts': 1,\n",
       " '_Miss_': 1,\n",
       " 'Gilbert': 4,\n",
       " 'Exquisite': 1,\n",
       " '_marry_': 1,\n",
       " 'Stokes': 3,\n",
       " '_Taylor_': 1,\n",
       " 'Women': 1,\n",
       " 'Suppose': 1,\n",
       " 'Fetch': 1,\n",
       " 'Pleasure': 1,\n",
       " 'Fine': 1,\n",
       " 'Short': 2,\n",
       " '_almost_': 1,\n",
       " 'Want': 1,\n",
       " 'Warmth': 1,\n",
       " 'Maple': 31,\n",
       " 'Grove': 31,\n",
       " 'King': 1,\n",
       " 'Selina': 10,\n",
       " 'Partridge': 3,\n",
       " '_the_': 2,\n",
       " '_world_': 1,\n",
       " 'Jeffereys': 1,\n",
       " 'Clara': 1,\n",
       " 'Milmans': 1,\n",
       " 'Bird': 1,\n",
       " 'Cooper': 1,\n",
       " 'Happily': 1,\n",
       " 'Astonished': 1,\n",
       " 'Before': 1,\n",
       " 'Wright': 3,\n",
       " 'Suckling': 6,\n",
       " 'Midsummer': 3,\n",
       " '_to_': 3,\n",
       " 'XVI': 1,\n",
       " 'Dinner': 2,\n",
       " 'Young': 2,\n",
       " 'Excuse': 2,\n",
       " 'write': 1,\n",
       " 'Must': 3,\n",
       " 'Irish': 2,\n",
       " 'April': 3,\n",
       " 'Bragge': 7,\n",
       " 'Wax': 1,\n",
       " 'July': 2,\n",
       " 'Sixty': 1,\n",
       " '_as_': 1,\n",
       " '_we_': 1,\n",
       " '_understand_': 1,\n",
       " 'Clifton': 1,\n",
       " 'Hymen': 1,\n",
       " 'Tupman': 1,\n",
       " 'West': 1,\n",
       " 'Hall': 1,\n",
       " 'Birmingham': 2,\n",
       " 'Tupmans': 1,\n",
       " 'Tea': 3,\n",
       " 'Aunt': 1,\n",
       " 'Uncle': 2,\n",
       " 'Randall': 1,\n",
       " 'Richmond': 13,\n",
       " 'Manchester': 1,\n",
       " 'General': 1,\n",
       " '_May_': 1,\n",
       " 'Aladdin': 1,\n",
       " 'Never': 4,\n",
       " 'Bought': 1,\n",
       " 'Hughes': 3,\n",
       " 'Richard': 2,\n",
       " 'Otway': 5,\n",
       " 'Caroline': 1,\n",
       " 'Arthur': 1,\n",
       " 'Upon': 3,\n",
       " 'Escape': 1,\n",
       " 'Supper': 1,\n",
       " 'Grandmama': 1,\n",
       " 'Stop': 2,\n",
       " 'Candles': 1,\n",
       " 'Soup': 1,\n",
       " '_She_': 2,\n",
       " 'Brother': 1,\n",
       " 'From': 1,\n",
       " 'Bickerton': 3,\n",
       " '_respect_': 1,\n",
       " '_Most_': 1,\n",
       " '_precious_': 1,\n",
       " 'Tunbridge': 1,\n",
       " '_evening_': 1,\n",
       " '_told_': 1,\n",
       " 'Plain': 1,\n",
       " 'Service': 1,\n",
       " 'Henceforward': 1,\n",
       " 'Sucklings': 5,\n",
       " 'Cowper': 1,\n",
       " 'Myself': 1,\n",
       " 'knew': 1,\n",
       " 'Extraordinary': 2,\n",
       " 'Pembroke': 1,\n",
       " 'Disingenuousness': 1,\n",
       " 'Interference': 1,\n",
       " 'Box': 18,\n",
       " 'Hill': 19,\n",
       " 'Kings': 1,\n",
       " 'Lady': 1,\n",
       " 'Patroness': 1,\n",
       " 'Delightful': 1,\n",
       " 'Chili': 1,\n",
       " 'Books': 1,\n",
       " 'Little': 1,\n",
       " '_me_': 2,\n",
       " 'Mine': 1,\n",
       " 'Mark': 1,\n",
       " 'Place': 1,\n",
       " 'Venice': 1,\n",
       " 'Madness': 1,\n",
       " 'Swisserland': 2,\n",
       " 'Madeira': 1,\n",
       " 'Mickleham': 1,\n",
       " '_Chaperon_': 1,\n",
       " 'Pardon': 1,\n",
       " 'Agreed': 1,\n",
       " 'Low': 1,\n",
       " 'Pass': 2,\n",
       " 'Adopt': 1,\n",
       " 'Hazle': 1,\n",
       " 'ladies': 1,\n",
       " '_some_': 1,\n",
       " 'Where': 1,\n",
       " 'Smallridge': 9,\n",
       " 'Bragges': 2,\n",
       " 'Abdy': 1,\n",
       " 'Tom': 1,\n",
       " 'Let': 2,\n",
       " 'Neither': 2,\n",
       " 'Goldsmith': 1,\n",
       " 'Windsor': 4,\n",
       " 'Break': 1,\n",
       " 'Something': 1,\n",
       " 'Tell': 1,\n",
       " 'Consider': 1,\n",
       " 'Otways': 1,\n",
       " 'Imagine': 2,\n",
       " '_him_': 2,\n",
       " 'Her': 2,\n",
       " 'Him': 1,\n",
       " 'Mistake': 1,\n",
       " 'Methodical': 1,\n",
       " 'Latterly': 1,\n",
       " 'Alas': 1,\n",
       " 'Marriage': 1,\n",
       " 'Birth': 1,\n",
       " 'Indignation': 1,\n",
       " 'Abominable': 1,\n",
       " 'Fortunate': 1,\n",
       " 'Stay': 1,\n",
       " 'Say': 2,\n",
       " 'Bear': 1,\n",
       " 'Within': 1,\n",
       " 'Yours': 1,\n",
       " 'WINDSOR': 1,\n",
       " 'JULY': 1,\n",
       " 'DEAR': 1,\n",
       " 'MADAM': 1,\n",
       " '_think_': 1,\n",
       " 'See': 1,\n",
       " 'Acquit': 1,\n",
       " 'Remember': 1,\n",
       " '_There_': 1,\n",
       " '_felt_': 1,\n",
       " '_engagement_': 1,\n",
       " '_be_': 1,\n",
       " '_a_': 1,\n",
       " '_source_': 1,\n",
       " '_of_': 1,\n",
       " '_repentance_': 1,\n",
       " '_and_': 1,\n",
       " '_misery_': 1,\n",
       " '_each_': 1,\n",
       " '_dissolved_': 1,\n",
       " '_it_': 1,\n",
       " 'Son': 1,\n",
       " 'WESTON': 1,\n",
       " 'CHURCHILL': 1,\n",
       " 'Bad': 2,\n",
       " 'Natural': 1,\n",
       " 'Mystery': 1,\n",
       " 'Finesse': 1,\n",
       " 'Dearer': 1,\n",
       " 'Happier': 1,\n",
       " 'Beg': 1,\n",
       " 'Hush': 1,\n",
       " '_lady_': 1,\n",
       " '_My_': 1,\n",
       " '_names_': 1,\n",
       " 'Harry': 1,\n",
       " 'Baronne': 1,\n",
       " 'Almane': 1,\n",
       " 'Comtesse': 1,\n",
       " 'Ostalis': 1,\n",
       " 'Madame': 1,\n",
       " 'Genlis': 1,\n",
       " 'Adelaide': 2,\n",
       " 'Theodore': 1,\n",
       " 'Anna': 1,\n",
       " 'Whom': 1,\n",
       " 'Who': 1,\n",
       " 'Shocking': 1,\n",
       " 'Astley': 4,\n",
       " '_accepted_': 1,\n",
       " 'Just': 1,\n",
       " 'Observe': 1,\n",
       " 'XIX': 1,\n",
       " 'Such': 1,\n",
       " 'Pilfering': 1}"
      ]
     },
     "execution_count": 149,
     "metadata": {},
     "output_type": "execute_result"
    }
   ],
   "source": [
    "# 고유명사(이름) 출현 빈도\n",
    "name_list = [emma_tag[0] for emma_tag in noun_list if emma_tag[1] in ['NNP','NNPS']]\n",
    "\n",
    "freq_dict = {}\n",
    "for name in name_list:\n",
    "    if name in freq_dict.keys():\n",
    "        freq_dict[name] += 1\n",
    "    else:\n",
    "        freq_dict[name] = 1\n",
    "freq_dict"
   ]
  },
  {
   "cell_type": "code",
   "execution_count": 150,
   "id": "a2fe365a",
   "metadata": {
    "ExecuteTime": {
     "end_time": "2024-12-27T08:51:20.462862Z",
     "start_time": "2024-12-27T08:51:20.452918Z"
    }
   },
   "outputs": [
    {
     "data": {
      "text/plain": [
       "FreqDist({'Emma': 812, 'Mrs': 690, 'Miss': 569, 'Harriet': 480, 'Weston': 434, 'Knightley': 388, 'Elton': 370, 'Jane': 295, 'Woodhouse': 294, 'Fairfax': 240, ...})"
      ]
     },
     "execution_count": 150,
     "metadata": {},
     "output_type": "execute_result"
    }
   ],
   "source": [
    "from nltk import FreqDist\n",
    "FreqDist(name_list)"
   ]
  },
  {
   "cell_type": "code",
   "execution_count": 151,
   "id": "0a9e9095",
   "metadata": {
    "ExecuteTime": {
     "end_time": "2024-12-27T08:52:29.049543Z",
     "start_time": "2024-12-27T08:52:29.041559Z"
    }
   },
   "outputs": [
    {
     "name": "stdout",
     "output_type": "stream",
     "text": [
      "Emma 812\n",
      "Jane 295\n",
      "Woodhouse 294\n",
      "Miss 569\n",
      "Weston 434\n",
      "Mrs 690\n",
      "Hartfield 154\n",
      "Knightley 388\n",
      "Elton 370\n",
      "Churchill 218\n",
      "Frank 208\n",
      "Harriet 480\n",
      "Fairfax 240\n"
     ]
    }
   ],
   "source": [
    "# 150번 이상 반복되는 이름들만 출력\n",
    "for name, freq in FreqDist(name_list).items():\n",
    "    if freq > 150:\n",
    "        print(name, freq)"
   ]
  },
  {
   "cell_type": "code",
   "execution_count": null,
   "id": "77854e1f",
   "metadata": {},
   "outputs": [],
   "source": []
  },
  {
   "cell_type": "code",
   "execution_count": null,
   "id": "7ca73346",
   "metadata": {},
   "outputs": [],
   "source": []
  },
  {
   "cell_type": "code",
   "execution_count": null,
   "id": "4a27d410",
   "metadata": {},
   "outputs": [],
   "source": []
  },
  {
   "cell_type": "code",
   "execution_count": null,
   "id": "2f48db25",
   "metadata": {},
   "outputs": [],
   "source": []
  }
 ],
 "metadata": {
  "kernelspec": {
   "display_name": "Python 3 (ipykernel)",
   "language": "python",
   "name": "python3"
  },
  "language_info": {
   "codemirror_mode": {
    "name": "ipython",
    "version": 3
   },
   "file_extension": ".py",
   "mimetype": "text/x-python",
   "name": "python",
   "nbconvert_exporter": "python",
   "pygments_lexer": "ipython3",
   "version": "3.10.9"
  },
  "toc": {
   "base_numbering": 1,
   "nav_menu": {},
   "number_sections": true,
   "sideBar": true,
   "skip_h1_title": false,
   "title_cell": "Table of Contents",
   "title_sidebar": "Contents",
   "toc_cell": false,
   "toc_position": {
    "height": "calc(100% - 180px)",
    "left": "10px",
    "top": "150px",
    "width": "258px"
   },
   "toc_section_display": true,
   "toc_window_display": true
  }
 },
 "nbformat": 4,
 "nbformat_minor": 5
}
