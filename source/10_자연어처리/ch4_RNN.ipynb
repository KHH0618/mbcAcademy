{
 "cells": [
  {
   "cell_type": "markdown",
   "id": "ea4faa96",
   "metadata": {},
   "source": [
    "**<font size='6' color='red'>ch4. RNN(Recurrent Neural Network) 순환신경망</font>**\n",
    "# 1. 문맥을 이용하여 모델만들기 - 자연어 전처리"
   ]
  },
  {
   "cell_type": "code",
   "execution_count": 1,
   "id": "9dce7986",
   "metadata": {
    "ExecuteTime": {
     "end_time": "2025-01-02T05:28:35.095159Z",
     "start_time": "2025-01-02T05:28:35.091143Z"
    }
   },
   "outputs": [],
   "source": [
    "text = \"\"\"\n",
    "경마장에 있는 말이 뛰고 있다\n",
    "그의 말이 곧 법이다\n",
    "가는 말이 고와야 오는 말이 곱다\n",
    "\"\"\""
   ]
  },
  {
   "cell_type": "code",
   "execution_count": 2,
   "id": "f9364cfc",
   "metadata": {
    "ExecuteTime": {
     "end_time": "2025-01-02T05:28:35.230381Z",
     "start_time": "2025-01-02T05:28:35.098124Z"
    }
   },
   "outputs": [
    {
     "name": "stdout",
     "output_type": "stream",
     "text": [
      "[[2, 3, 1, 4, 5, 6, 1, 7, 8, 9, 1, 10, 11, 1, 12]]\n",
      "{'말이': 1, '경마장에': 2, '있는': 3, '뛰고': 4, '있다': 5, '그의': 6, '곧': 7, '법이다': 8, '가는': 9, '고와야': 10, '오는': 11, '곱다': 12}\n"
     ]
    }
   ],
   "source": [
    "from keras_preprocessing.text import Tokenizer\n",
    "t = Tokenizer()\n",
    "t.fit_on_texts([text])\n",
    "encoded = t.texts_to_sequences([text])\n",
    "print(encoded)\n",
    "print(t.word_index)"
   ]
  },
  {
   "cell_type": "code",
   "execution_count": 3,
   "id": "3c334d59",
   "metadata": {
    "ExecuteTime": {
     "end_time": "2025-01-02T05:28:35.238360Z",
     "start_time": "2025-01-02T05:28:35.233373Z"
    }
   },
   "outputs": [
    {
     "name": "stdout",
     "output_type": "stream",
     "text": [
      "[[2, 1, 5], [1, 12]]\n"
     ]
    }
   ],
   "source": [
    "# 문자열리스트를 인덱스 시퀀스로 반환\n",
    "print(t.texts_to_sequences(['경마장에 말이 있다', '말이 곱다']))"
   ]
  },
  {
   "cell_type": "code",
   "execution_count": 4,
   "id": "c8ff2c8d",
   "metadata": {
    "ExecuteTime": {
     "end_time": "2025-01-02T05:28:35.248471Z",
     "start_time": "2025-01-02T05:28:35.241351Z"
    }
   },
   "outputs": [],
   "source": [
    "text = \"\"\"경마장에 있는 말이 뛰고 있다\n",
    "그의 말이 곧 법이다\n",
    "가는 말이 고와야 오는 말이 곱다\"\"\""
   ]
  },
  {
   "cell_type": "code",
   "execution_count": 5,
   "id": "d5cebd71",
   "metadata": {
    "ExecuteTime": {
     "end_time": "2025-01-02T05:28:35.257448Z",
     "start_time": "2025-01-02T05:28:35.250439Z"
    }
   },
   "outputs": [
    {
     "name": "stdout",
     "output_type": "stream",
     "text": [
      "{'말이': 1, '경마장에': 2, '있는': 3, '뛰고': 4, '있다': 5, '그의': 6, '곧': 7, '법이다': 8, '가는': 9, '고와야': 10, '오는': 11, '곱다': 12}\n",
      "경마장에\n"
     ]
    }
   ],
   "source": [
    "print(t.word_index)\n",
    "for word, value in t.word_index.items():\n",
    "    if value == 2:\n",
    "        print(word)"
   ]
  },
  {
   "cell_type": "code",
   "execution_count": 6,
   "id": "51382180",
   "metadata": {
    "ExecuteTime": {
     "end_time": "2025-01-02T05:28:35.264402Z",
     "start_time": "2025-01-02T05:28:35.259414Z"
    }
   },
   "outputs": [],
   "source": [
    "vocab_size = len(t.word_index)"
   ]
  },
  {
   "cell_type": "code",
   "execution_count": 7,
   "id": "0028126b",
   "metadata": {
    "ExecuteTime": {
     "end_time": "2025-01-02T05:28:35.280151Z",
     "start_time": "2025-01-02T05:28:35.266397Z"
    }
   },
   "outputs": [
    {
     "name": "stdout",
     "output_type": "stream",
     "text": [
      "원래문장 : 경마장에 있는 말이 뛰고 있다\n",
      "encoded된 문장 : [2, 3, 1, 4, 5]\n",
      "원래문장 : 그의 말이 곧 법이다\n",
      "encoded된 문장 : [6, 1, 7, 8]\n",
      "원래문장 : 가는 말이 고와야 오는 말이 곱다\n",
      "encoded된 문장 : [9, 1, 10, 11, 1, 12]\n",
      "sequences와 해석을 출력\n",
      "[2:경마장에3:있는]\n",
      "[2:경마장에3:있는1:말이]\n",
      "[2:경마장에3:있는1:말이4:뛰고]\n",
      "[2:경마장에3:있는1:말이4:뛰고5:있다]\n",
      "[2:경마장에3:있는1:말이4:뛰고5:있다]\n",
      "[2:경마장에3:있는1:말이4:뛰고5:있다]\n",
      "[2:경마장에3:있는1:말이4:뛰고5:있다]\n",
      "[2:경마장에3:있는1:말이4:뛰고5:있다]\n",
      "[2:경마장에3:있는1:말이4:뛰고5:있다]\n",
      "[2:경마장에3:있는1:말이4:뛰고5:있다]\n",
      "[2:경마장에3:있는1:말이4:뛰고5:있다]\n",
      "[3:있는1:말이]\n",
      "[3:있는1:말이4:뛰고]\n",
      "[3:있는1:말이4:뛰고5:있다]\n",
      "[3:있는1:말이4:뛰고5:있다]\n",
      "[3:있는1:말이4:뛰고5:있다]\n",
      "[3:있는1:말이4:뛰고5:있다]\n",
      "[3:있는1:말이4:뛰고5:있다]\n",
      "[3:있는1:말이4:뛰고5:있다]\n",
      "[3:있는1:말이4:뛰고5:있다]\n",
      "[3:있는1:말이4:뛰고5:있다]\n",
      "[1:말이4:뛰고]\n",
      "[1:말이4:뛰고5:있다]\n",
      "[1:말이4:뛰고5:있다]\n",
      "[1:말이4:뛰고5:있다]\n",
      "[1:말이4:뛰고5:있다]\n",
      "[1:말이4:뛰고5:있다]\n",
      "[1:말이4:뛰고5:있다]\n",
      "[1:말이4:뛰고5:있다]\n",
      "[1:말이4:뛰고5:있다]\n",
      "[4:뛰고5:있다]\n",
      "[4:뛰고5:있다]\n",
      "[4:뛰고5:있다]\n",
      "[4:뛰고5:있다]\n",
      "[4:뛰고5:있다]\n",
      "[4:뛰고5:있다]\n",
      "[4:뛰고5:있다]\n",
      "[4:뛰고5:있다]\n",
      "[6:그의1:말이]\n",
      "[6:그의1:말이7:곧]\n",
      "[6:그의1:말이7:곧8:법이다]\n",
      "[6:그의1:말이7:곧8:법이다]\n",
      "[6:그의1:말이7:곧8:법이다]\n",
      "[6:그의1:말이7:곧8:법이다]\n",
      "[6:그의1:말이7:곧8:법이다]\n",
      "[6:그의1:말이7:곧8:법이다]\n",
      "[6:그의1:말이7:곧8:법이다]\n",
      "[6:그의1:말이7:곧8:법이다]\n",
      "[6:그의1:말이7:곧8:법이다]\n",
      "[1:말이7:곧]\n",
      "[1:말이7:곧8:법이다]\n",
      "[1:말이7:곧8:법이다]\n",
      "[1:말이7:곧8:법이다]\n",
      "[1:말이7:곧8:법이다]\n",
      "[1:말이7:곧8:법이다]\n",
      "[1:말이7:곧8:법이다]\n",
      "[1:말이7:곧8:법이다]\n",
      "[1:말이7:곧8:법이다]\n",
      "[1:말이7:곧8:법이다]\n",
      "[7:곧8:법이다]\n",
      "[7:곧8:법이다]\n",
      "[7:곧8:법이다]\n",
      "[7:곧8:법이다]\n",
      "[7:곧8:법이다]\n",
      "[7:곧8:법이다]\n",
      "[7:곧8:법이다]\n",
      "[7:곧8:법이다]\n",
      "[7:곧8:법이다]\n",
      "[9:가는1:말이]\n",
      "[9:가는1:말이10:고와야]\n",
      "[9:가는1:말이10:고와야11:오는]\n",
      "[9:가는1:말이10:고와야11:오는1:말이]\n",
      "[9:가는1:말이10:고와야11:오는1:말이12:곱다]\n",
      "[9:가는1:말이10:고와야11:오는1:말이12:곱다]\n",
      "[9:가는1:말이10:고와야11:오는1:말이12:곱다]\n",
      "[9:가는1:말이10:고와야11:오는1:말이12:곱다]\n",
      "[9:가는1:말이10:고와야11:오는1:말이12:곱다]\n",
      "[9:가는1:말이10:고와야11:오는1:말이12:곱다]\n",
      "[9:가는1:말이10:고와야11:오는1:말이12:곱다]\n",
      "[1:말이10:고와야]\n",
      "[1:말이10:고와야11:오는]\n",
      "[1:말이10:고와야11:오는1:말이]\n",
      "[1:말이10:고와야11:오는1:말이12:곱다]\n",
      "[1:말이10:고와야11:오는1:말이12:곱다]\n",
      "[1:말이10:고와야11:오는1:말이12:곱다]\n",
      "[1:말이10:고와야11:오는1:말이12:곱다]\n",
      "[1:말이10:고와야11:오는1:말이12:곱다]\n",
      "[1:말이10:고와야11:오는1:말이12:곱다]\n",
      "[1:말이10:고와야11:오는1:말이12:곱다]\n",
      "[10:고와야11:오는]\n",
      "[10:고와야11:오는1:말이]\n",
      "[10:고와야11:오는1:말이12:곱다]\n",
      "[10:고와야11:오는1:말이12:곱다]\n",
      "[10:고와야11:오는1:말이12:곱다]\n",
      "[10:고와야11:오는1:말이12:곱다]\n",
      "[10:고와야11:오는1:말이12:곱다]\n",
      "[10:고와야11:오는1:말이12:곱다]\n",
      "[10:고와야11:오는1:말이12:곱다]\n",
      "[11:오는1:말이]\n",
      "[11:오는1:말이12:곱다]\n",
      "[11:오는1:말이12:곱다]\n",
      "[11:오는1:말이12:곱다]\n",
      "[11:오는1:말이12:곱다]\n",
      "[11:오는1:말이12:곱다]\n",
      "[11:오는1:말이12:곱다]\n",
      "[11:오는1:말이12:곱다]\n",
      "[1:말이12:곱다]\n",
      "[1:말이12:곱다]\n",
      "[1:말이12:곱다]\n",
      "[1:말이12:곱다]\n",
      "[1:말이12:곱다]\n",
      "[1:말이12:곱다]\n",
      "[1:말이12:곱다]\n"
     ]
    }
   ],
   "source": [
    "# text를 학습시키기 위해 ['경마장에 있는', '경마장에 있는 말이', '경마장에 있는 말이 뛰고']\n",
    "sequences = []\n",
    "for line in text.split('\\n'):\n",
    "    print('원래문장 :', line)\n",
    "    encoded = t.texts_to_sequences([line])[0]\n",
    "    print('encoded된 문장 :',encoded)\n",
    "    for i in range(0, len(encoded)-1):\n",
    "        for j in range(i+2, vocab_size+1):\n",
    "            sequences.append(encoded[i:j])\n",
    "# print(sequences)\n",
    "print('sequences와 해석을 출력')\n",
    "for sequence in sequences:\n",
    "    print('[', end='')\n",
    "    for word_seq in sequence:\n",
    "        for word, value in t.word_index.items():\n",
    "            if value == word_seq:\n",
    "                print('{}:{}'.format(word_seq, word), end='')\n",
    "                break\n",
    "    print(']')"
   ]
  },
  {
   "cell_type": "code",
   "execution_count": 8,
   "id": "43b8363b",
   "metadata": {
    "ExecuteTime": {
     "end_time": "2025-01-02T05:28:35.291134Z",
     "start_time": "2025-01-02T05:28:35.283144Z"
    }
   },
   "outputs": [
    {
     "data": {
      "text/plain": [
       "[[2, 3], [2, 3, 1], [2, 3, 1, 4], [2, 3, 1, 4, 5], [2, 3, 1, 4, 5]]"
      ]
     },
     "execution_count": 8,
     "metadata": {},
     "output_type": "execute_result"
    }
   ],
   "source": [
    "sequences[:5]"
   ]
  },
  {
   "cell_type": "code",
   "execution_count": 9,
   "id": "82b2e32d",
   "metadata": {
    "ExecuteTime": {
     "end_time": "2025-01-02T05:28:35.300217Z",
     "start_time": "2025-01-02T05:28:35.293235Z"
    }
   },
   "outputs": [
    {
     "data": {
      "text/plain": [
       "6"
      ]
     },
     "execution_count": 9,
     "metadata": {},
     "output_type": "execute_result"
    }
   ],
   "source": [
    "# sequence별 len\n",
    "my_len = max([len(sequence) for sequence in sequences])\n",
    "my_len"
   ]
  },
  {
   "cell_type": "code",
   "execution_count": 10,
   "id": "178037c1",
   "metadata": {
    "ExecuteTime": {
     "end_time": "2025-01-02T05:28:38.280639Z",
     "start_time": "2025-01-02T05:28:35.301214Z"
    }
   },
   "outputs": [
    {
     "data": {
      "text/plain": [
       "(numpy.ndarray,\n",
       " (113, 6),\n",
       " array([[ 0,  0,  0,  0,  2,  3],\n",
       "        [ 0,  0,  0,  2,  3,  1],\n",
       "        [ 0,  0,  2,  3,  1,  4],\n",
       "        [ 0,  2,  3,  1,  4,  5],\n",
       "        [ 0,  2,  3,  1,  4,  5],\n",
       "        [ 0,  2,  3,  1,  4,  5],\n",
       "        [ 0,  2,  3,  1,  4,  5],\n",
       "        [ 0,  2,  3,  1,  4,  5],\n",
       "        [ 0,  2,  3,  1,  4,  5],\n",
       "        [ 0,  2,  3,  1,  4,  5],\n",
       "        [ 0,  2,  3,  1,  4,  5],\n",
       "        [ 0,  0,  0,  0,  3,  1],\n",
       "        [ 0,  0,  0,  3,  1,  4],\n",
       "        [ 0,  0,  3,  1,  4,  5],\n",
       "        [ 0,  0,  3,  1,  4,  5],\n",
       "        [ 0,  0,  3,  1,  4,  5],\n",
       "        [ 0,  0,  3,  1,  4,  5],\n",
       "        [ 0,  0,  3,  1,  4,  5],\n",
       "        [ 0,  0,  3,  1,  4,  5],\n",
       "        [ 0,  0,  3,  1,  4,  5],\n",
       "        [ 0,  0,  3,  1,  4,  5],\n",
       "        [ 0,  0,  0,  0,  1,  4],\n",
       "        [ 0,  0,  0,  1,  4,  5],\n",
       "        [ 0,  0,  0,  1,  4,  5],\n",
       "        [ 0,  0,  0,  1,  4,  5],\n",
       "        [ 0,  0,  0,  1,  4,  5],\n",
       "        [ 0,  0,  0,  1,  4,  5],\n",
       "        [ 0,  0,  0,  1,  4,  5],\n",
       "        [ 0,  0,  0,  1,  4,  5],\n",
       "        [ 0,  0,  0,  1,  4,  5],\n",
       "        [ 0,  0,  0,  0,  4,  5],\n",
       "        [ 0,  0,  0,  0,  4,  5],\n",
       "        [ 0,  0,  0,  0,  4,  5],\n",
       "        [ 0,  0,  0,  0,  4,  5],\n",
       "        [ 0,  0,  0,  0,  4,  5],\n",
       "        [ 0,  0,  0,  0,  4,  5],\n",
       "        [ 0,  0,  0,  0,  4,  5],\n",
       "        [ 0,  0,  0,  0,  4,  5],\n",
       "        [ 0,  0,  0,  0,  6,  1],\n",
       "        [ 0,  0,  0,  6,  1,  7],\n",
       "        [ 0,  0,  6,  1,  7,  8],\n",
       "        [ 0,  0,  6,  1,  7,  8],\n",
       "        [ 0,  0,  6,  1,  7,  8],\n",
       "        [ 0,  0,  6,  1,  7,  8],\n",
       "        [ 0,  0,  6,  1,  7,  8],\n",
       "        [ 0,  0,  6,  1,  7,  8],\n",
       "        [ 0,  0,  6,  1,  7,  8],\n",
       "        [ 0,  0,  6,  1,  7,  8],\n",
       "        [ 0,  0,  6,  1,  7,  8],\n",
       "        [ 0,  0,  0,  0,  1,  7],\n",
       "        [ 0,  0,  0,  1,  7,  8],\n",
       "        [ 0,  0,  0,  1,  7,  8],\n",
       "        [ 0,  0,  0,  1,  7,  8],\n",
       "        [ 0,  0,  0,  1,  7,  8],\n",
       "        [ 0,  0,  0,  1,  7,  8],\n",
       "        [ 0,  0,  0,  1,  7,  8],\n",
       "        [ 0,  0,  0,  1,  7,  8],\n",
       "        [ 0,  0,  0,  1,  7,  8],\n",
       "        [ 0,  0,  0,  1,  7,  8],\n",
       "        [ 0,  0,  0,  0,  7,  8],\n",
       "        [ 0,  0,  0,  0,  7,  8],\n",
       "        [ 0,  0,  0,  0,  7,  8],\n",
       "        [ 0,  0,  0,  0,  7,  8],\n",
       "        [ 0,  0,  0,  0,  7,  8],\n",
       "        [ 0,  0,  0,  0,  7,  8],\n",
       "        [ 0,  0,  0,  0,  7,  8],\n",
       "        [ 0,  0,  0,  0,  7,  8],\n",
       "        [ 0,  0,  0,  0,  7,  8],\n",
       "        [ 0,  0,  0,  0,  9,  1],\n",
       "        [ 0,  0,  0,  9,  1, 10],\n",
       "        [ 0,  0,  9,  1, 10, 11],\n",
       "        [ 0,  9,  1, 10, 11,  1],\n",
       "        [ 9,  1, 10, 11,  1, 12],\n",
       "        [ 9,  1, 10, 11,  1, 12],\n",
       "        [ 9,  1, 10, 11,  1, 12],\n",
       "        [ 9,  1, 10, 11,  1, 12],\n",
       "        [ 9,  1, 10, 11,  1, 12],\n",
       "        [ 9,  1, 10, 11,  1, 12],\n",
       "        [ 9,  1, 10, 11,  1, 12],\n",
       "        [ 0,  0,  0,  0,  1, 10],\n",
       "        [ 0,  0,  0,  1, 10, 11],\n",
       "        [ 0,  0,  1, 10, 11,  1],\n",
       "        [ 0,  1, 10, 11,  1, 12],\n",
       "        [ 0,  1, 10, 11,  1, 12],\n",
       "        [ 0,  1, 10, 11,  1, 12],\n",
       "        [ 0,  1, 10, 11,  1, 12],\n",
       "        [ 0,  1, 10, 11,  1, 12],\n",
       "        [ 0,  1, 10, 11,  1, 12],\n",
       "        [ 0,  1, 10, 11,  1, 12],\n",
       "        [ 0,  0,  0,  0, 10, 11],\n",
       "        [ 0,  0,  0, 10, 11,  1],\n",
       "        [ 0,  0, 10, 11,  1, 12],\n",
       "        [ 0,  0, 10, 11,  1, 12],\n",
       "        [ 0,  0, 10, 11,  1, 12],\n",
       "        [ 0,  0, 10, 11,  1, 12],\n",
       "        [ 0,  0, 10, 11,  1, 12],\n",
       "        [ 0,  0, 10, 11,  1, 12],\n",
       "        [ 0,  0, 10, 11,  1, 12],\n",
       "        [ 0,  0,  0,  0, 11,  1],\n",
       "        [ 0,  0,  0, 11,  1, 12],\n",
       "        [ 0,  0,  0, 11,  1, 12],\n",
       "        [ 0,  0,  0, 11,  1, 12],\n",
       "        [ 0,  0,  0, 11,  1, 12],\n",
       "        [ 0,  0,  0, 11,  1, 12],\n",
       "        [ 0,  0,  0, 11,  1, 12],\n",
       "        [ 0,  0,  0, 11,  1, 12],\n",
       "        [ 0,  0,  0,  0,  1, 12],\n",
       "        [ 0,  0,  0,  0,  1, 12],\n",
       "        [ 0,  0,  0,  0,  1, 12],\n",
       "        [ 0,  0,  0,  0,  1, 12],\n",
       "        [ 0,  0,  0,  0,  1, 12],\n",
       "        [ 0,  0,  0,  0,  1, 12],\n",
       "        [ 0,  0,  0,  0,  1, 12]]))"
      ]
     },
     "execution_count": 10,
     "metadata": {},
     "output_type": "execute_result"
    }
   ],
   "source": [
    "# sequences를 훈련 가능하도록 6개열로 조정\n",
    "from tensorflow.keras.preprocessing.sequence import pad_sequences\n",
    "padded_sequences = pad_sequences(sequences=sequences,\n",
    "                                 maxlen = my_len, # 최대 열수\n",
    "                                 padding='pre', # 최대 열수보다 적은경우 0을 채울 위치\n",
    "                                 truncating='pre' # 최대 열수보다 많은 경우\n",
    "                                )\n",
    "type(padded_sequences), padded_sequences.shape, padded_sequences"
   ]
  },
  {
   "cell_type": "code",
   "execution_count": 11,
   "id": "6f64001f",
   "metadata": {
    "ExecuteTime": {
     "end_time": "2025-01-02T05:28:38.289644Z",
     "start_time": "2025-01-02T05:28:38.283631Z"
    }
   },
   "outputs": [
    {
     "data": {
      "text/plain": [
       "array([ 3,  1,  4,  5,  5,  5,  5,  5,  5,  5,  5,  1,  4,  5,  5,  5,  5,\n",
       "        5,  5,  5,  5,  4,  5,  5,  5,  5,  5,  5,  5,  5,  5,  5,  5,  5,\n",
       "        5,  5,  5,  5,  1,  7,  8,  8,  8,  8,  8,  8,  8,  8,  8,  7,  8,\n",
       "        8,  8,  8,  8,  8,  8,  8,  8,  8,  8,  8,  8,  8,  8,  8,  8,  8,\n",
       "        1, 10, 11,  1, 12, 12, 12, 12, 12, 12, 12, 10, 11,  1, 12, 12, 12,\n",
       "       12, 12, 12, 12, 11,  1, 12, 12, 12, 12, 12, 12, 12,  1, 12, 12, 12,\n",
       "       12, 12, 12, 12, 12, 12, 12, 12, 12, 12, 12])"
      ]
     },
     "execution_count": 11,
     "metadata": {},
     "output_type": "execute_result"
    }
   ],
   "source": [
    "# 독립변수(x)와 타겟변수(종속변수 y)로 분리\n",
    "X = padded_sequences[:,:-1]\n",
    "y = padded_sequences[:,-1]\n",
    "y"
   ]
  },
  {
   "cell_type": "code",
   "execution_count": 12,
   "id": "622a826b",
   "metadata": {
    "ExecuteTime": {
     "end_time": "2025-01-02T05:28:38.304517Z",
     "start_time": "2025-01-02T05:28:38.296539Z"
    }
   },
   "outputs": [
    {
     "data": {
      "text/plain": [
       "array([[0., 0., 0., ..., 0., 0., 0.],\n",
       "       [0., 1., 0., ..., 0., 0., 0.],\n",
       "       [0., 0., 0., ..., 0., 0., 0.],\n",
       "       ...,\n",
       "       [0., 0., 0., ..., 0., 0., 1.],\n",
       "       [0., 0., 0., ..., 0., 0., 1.],\n",
       "       [0., 0., 0., ..., 0., 0., 1.]], dtype=float32)"
      ]
     },
     "execution_count": 12,
     "metadata": {},
     "output_type": "execute_result"
    }
   ],
   "source": [
    "# 원핫인코딩\n",
    "from tensorflow.keras.utils import to_categorical\n",
    "Y = to_categorical(y, len(t.word_index)+1) # 원핫인코딩 카테고리 수\n",
    "Y"
   ]
  },
  {
   "cell_type": "code",
   "execution_count": 13,
   "id": "fcce86bc",
   "metadata": {
    "ExecuteTime": {
     "end_time": "2025-01-02T05:28:38.316512Z",
     "start_time": "2025-01-02T05:28:38.307518Z"
    }
   },
   "outputs": [
    {
     "data": {
      "text/plain": [
       "((113, 5), (113, 13))"
      ]
     },
     "execution_count": 13,
     "metadata": {},
     "output_type": "execute_result"
    }
   ],
   "source": [
    "X.shape, Y.shape"
   ]
  },
  {
   "cell_type": "markdown",
   "id": "fe47daa8",
   "metadata": {},
   "source": [
    "# 2. 모델 생성(RNN)\n",
    "-  순서가 의미 있는 데이터를 학습할 경우 ex. 자연어처리, 주식, 연주, 날씨 등"
   ]
  },
  {
   "cell_type": "code",
   "execution_count": 14,
   "id": "6e01e0b6",
   "metadata": {
    "ExecuteTime": {
     "end_time": "2025-01-02T05:28:39.130121Z",
     "start_time": "2025-01-02T05:28:38.318480Z"
    }
   },
   "outputs": [
    {
     "name": "stdout",
     "output_type": "stream",
     "text": [
      "Model: \"sequential\"\n",
      "_________________________________________________________________\n",
      " Layer (type)                Output Shape              Param #   \n",
      "=================================================================\n",
      " embedding (Embedding)       (None, 5, 11)             143       \n",
      "                                                                 \n",
      " simple_rnn (SimpleRNN)      (None, 32)                1408      \n",
      "                                                                 \n",
      " dense (Dense)               (None, 13)                429       \n",
      "                                                                 \n",
      "=================================================================\n",
      "Total params: 1,980\n",
      "Trainable params: 1,980\n",
      "Non-trainable params: 0\n",
      "_________________________________________________________________\n",
      "None\n"
     ]
    }
   ],
   "source": [
    "from tensorflow.keras.models import Sequential # 순차적 레이어 모델 생성\n",
    "from tensorflow.keras.layers import Embedding, SimpleRNN # 긴 희소행렬 변환\n",
    "from tensorflow.keras.layers import Dense\n",
    "\n",
    "model = Sequential()\n",
    "# 희소행렬(12) -> 10열 행렬 (31개행 = 독립변수 행수)\n",
    "model.add(Embedding(input_dim=vocab_size+1, # 12개 입력\n",
    "                    output_dim=vocab_size-1, # 10개를 출력하기 위한 embedding\n",
    "                    input_length=X.shape[1], # 독립변수 데이터 수\n",
    "                   ))\n",
    "model.add(SimpleRNN(units=32))\n",
    "model.add(Dense(units=Y.shape[1], activation='softmax'))\n",
    "print(model.summary())"
   ]
  },
  {
   "cell_type": "markdown",
   "id": "ed8a90ad",
   "metadata": {},
   "source": [
    "# 3. 학습과정 설정 및 학습하기"
   ]
  },
  {
   "cell_type": "code",
   "execution_count": 15,
   "id": "d6231285",
   "metadata": {
    "ExecuteTime": {
     "end_time": "2025-01-02T05:28:53.038094Z",
     "start_time": "2025-01-02T05:28:39.133112Z"
    }
   },
   "outputs": [
    {
     "name": "stdout",
     "output_type": "stream",
     "text": [
      "Epoch 1/300\n",
      "4/4 - 1s - loss: 2.5365 - accuracy: 0.1416 - 1s/epoch - 301ms/step\n",
      "Epoch 2/300\n",
      "4/4 - 0s - loss: 2.4772 - accuracy: 0.5310 - 41ms/epoch - 10ms/step\n",
      "Epoch 3/300\n",
      "4/4 - 0s - loss: 2.4151 - accuracy: 0.6106 - 39ms/epoch - 10ms/step\n",
      "Epoch 4/300\n",
      "4/4 - 0s - loss: 2.3403 - accuracy: 0.6106 - 39ms/epoch - 10ms/step\n",
      "Epoch 5/300\n",
      "4/4 - 0s - loss: 2.2507 - accuracy: 0.5575 - 37ms/epoch - 9ms/step\n",
      "Epoch 6/300\n",
      "4/4 - 0s - loss: 2.1426 - accuracy: 0.4513 - 36ms/epoch - 9ms/step\n",
      "Epoch 7/300\n",
      "4/4 - 0s - loss: 2.0121 - accuracy: 0.4513 - 39ms/epoch - 10ms/step\n",
      "Epoch 8/300\n",
      "4/4 - 0s - loss: 1.8768 - accuracy: 0.4425 - 36ms/epoch - 9ms/step\n",
      "Epoch 9/300\n",
      "4/4 - 0s - loss: 1.7571 - accuracy: 0.3805 - 36ms/epoch - 9ms/step\n",
      "Epoch 10/300\n",
      "4/4 - 0s - loss: 1.6669 - accuracy: 0.3805 - 32ms/epoch - 8ms/step\n",
      "Epoch 11/300\n",
      "4/4 - 0s - loss: 1.6109 - accuracy: 0.3894 - 40ms/epoch - 10ms/step\n",
      "Epoch 12/300\n",
      "4/4 - 0s - loss: 1.5546 - accuracy: 0.4513 - 35ms/epoch - 9ms/step\n",
      "Epoch 13/300\n",
      "4/4 - 0s - loss: 1.5089 - accuracy: 0.6460 - 35ms/epoch - 9ms/step\n",
      "Epoch 14/300\n",
      "4/4 - 0s - loss: 1.4764 - accuracy: 0.8053 - 32ms/epoch - 8ms/step\n",
      "Epoch 15/300\n",
      "4/4 - 0s - loss: 1.4436 - accuracy: 0.7699 - 35ms/epoch - 9ms/step\n",
      "Epoch 16/300\n",
      "4/4 - 0s - loss: 1.4070 - accuracy: 0.7699 - 36ms/epoch - 9ms/step\n",
      "Epoch 17/300\n",
      "4/4 - 0s - loss: 1.3676 - accuracy: 0.7699 - 36ms/epoch - 9ms/step\n",
      "Epoch 18/300\n",
      "4/4 - 0s - loss: 1.3316 - accuracy: 0.8319 - 36ms/epoch - 9ms/step\n",
      "Epoch 19/300\n",
      "4/4 - 0s - loss: 1.2946 - accuracy: 0.8319 - 34ms/epoch - 8ms/step\n",
      "Epoch 20/300\n",
      "4/4 - 0s - loss: 1.2528 - accuracy: 0.8319 - 36ms/epoch - 9ms/step\n",
      "Epoch 21/300\n",
      "4/4 - 0s - loss: 1.2165 - accuracy: 0.8319 - 35ms/epoch - 9ms/step\n",
      "Epoch 22/300\n",
      "4/4 - 0s - loss: 1.1765 - accuracy: 0.7876 - 29ms/epoch - 7ms/step\n",
      "Epoch 23/300\n",
      "4/4 - 0s - loss: 1.1377 - accuracy: 0.7699 - 35ms/epoch - 9ms/step\n",
      "Epoch 24/300\n",
      "4/4 - 0s - loss: 1.0997 - accuracy: 0.7788 - 34ms/epoch - 9ms/step\n",
      "Epoch 25/300\n",
      "4/4 - 0s - loss: 1.0633 - accuracy: 0.8319 - 34ms/epoch - 8ms/step\n",
      "Epoch 26/300\n",
      "4/4 - 0s - loss: 1.0288 - accuracy: 0.8319 - 40ms/epoch - 10ms/step\n",
      "Epoch 27/300\n",
      "4/4 - 0s - loss: 0.9950 - accuracy: 0.8142 - 34ms/epoch - 9ms/step\n",
      "Epoch 28/300\n",
      "4/4 - 0s - loss: 0.9637 - accuracy: 0.7699 - 34ms/epoch - 9ms/step\n",
      "Epoch 29/300\n",
      "4/4 - 0s - loss: 0.9345 - accuracy: 0.7876 - 34ms/epoch - 9ms/step\n",
      "Epoch 30/300\n",
      "4/4 - 0s - loss: 0.9026 - accuracy: 0.8319 - 31ms/epoch - 8ms/step\n",
      "Epoch 31/300\n",
      "4/4 - 0s - loss: 0.8749 - accuracy: 0.8319 - 34ms/epoch - 9ms/step\n",
      "Epoch 32/300\n",
      "4/4 - 0s - loss: 0.8488 - accuracy: 0.8319 - 35ms/epoch - 9ms/step\n",
      "Epoch 33/300\n",
      "4/4 - 0s - loss: 0.8249 - accuracy: 0.8319 - 36ms/epoch - 9ms/step\n",
      "Epoch 34/300\n",
      "4/4 - 0s - loss: 0.8014 - accuracy: 0.8319 - 31ms/epoch - 8ms/step\n",
      "Epoch 35/300\n",
      "4/4 - 0s - loss: 0.7793 - accuracy: 0.8319 - 43ms/epoch - 11ms/step\n",
      "Epoch 36/300\n",
      "4/4 - 0s - loss: 0.7584 - accuracy: 0.8319 - 34ms/epoch - 8ms/step\n",
      "Epoch 37/300\n",
      "4/4 - 0s - loss: 0.7371 - accuracy: 0.8319 - 36ms/epoch - 9ms/step\n",
      "Epoch 38/300\n",
      "4/4 - 0s - loss: 0.7184 - accuracy: 0.8319 - 37ms/epoch - 9ms/step\n",
      "Epoch 39/300\n",
      "4/4 - 0s - loss: 0.7006 - accuracy: 0.8319 - 35ms/epoch - 9ms/step\n",
      "Epoch 40/300\n",
      "4/4 - 0s - loss: 0.6825 - accuracy: 0.8319 - 35ms/epoch - 9ms/step\n",
      "Epoch 41/300\n",
      "4/4 - 0s - loss: 0.6653 - accuracy: 0.8407 - 46ms/epoch - 12ms/step\n",
      "Epoch 42/300\n",
      "4/4 - 0s - loss: 0.6503 - accuracy: 0.8407 - 35ms/epoch - 9ms/step\n",
      "Epoch 43/300\n",
      "4/4 - 0s - loss: 0.6359 - accuracy: 0.8407 - 30ms/epoch - 8ms/step\n",
      "Epoch 44/300\n",
      "4/4 - 0s - loss: 0.6205 - accuracy: 0.8496 - 36ms/epoch - 9ms/step\n",
      "Epoch 45/300\n",
      "4/4 - 0s - loss: 0.6065 - accuracy: 0.8496 - 35ms/epoch - 9ms/step\n",
      "Epoch 46/300\n",
      "4/4 - 0s - loss: 0.5928 - accuracy: 0.8584 - 34ms/epoch - 8ms/step\n",
      "Epoch 47/300\n",
      "4/4 - 0s - loss: 0.5820 - accuracy: 0.8673 - 30ms/epoch - 7ms/step\n",
      "Epoch 48/300\n",
      "4/4 - 0s - loss: 0.5686 - accuracy: 0.8673 - 34ms/epoch - 8ms/step\n",
      "Epoch 49/300\n",
      "4/4 - 0s - loss: 0.5571 - accuracy: 0.8673 - 37ms/epoch - 9ms/step\n",
      "Epoch 50/300\n",
      "4/4 - 0s - loss: 0.5499 - accuracy: 0.8673 - 33ms/epoch - 8ms/step\n",
      "Epoch 51/300\n",
      "4/4 - 0s - loss: 0.5363 - accuracy: 0.8673 - 31ms/epoch - 8ms/step\n",
      "Epoch 52/300\n",
      "4/4 - 0s - loss: 0.5252 - accuracy: 0.8673 - 44ms/epoch - 11ms/step\n",
      "Epoch 53/300\n",
      "4/4 - 0s - loss: 0.5155 - accuracy: 0.8673 - 38ms/epoch - 10ms/step\n",
      "Epoch 54/300\n",
      "4/4 - 0s - loss: 0.5072 - accuracy: 0.8673 - 38ms/epoch - 9ms/step\n",
      "Epoch 55/300\n",
      "4/4 - 0s - loss: 0.4979 - accuracy: 0.8673 - 38ms/epoch - 9ms/step\n",
      "Epoch 56/300\n",
      "4/4 - 0s - loss: 0.4894 - accuracy: 0.8673 - 32ms/epoch - 8ms/step\n",
      "Epoch 57/300\n",
      "4/4 - 0s - loss: 0.4797 - accuracy: 0.8761 - 43ms/epoch - 11ms/step\n",
      "Epoch 58/300\n",
      "4/4 - 0s - loss: 0.4723 - accuracy: 0.8673 - 35ms/epoch - 9ms/step\n",
      "Epoch 59/300\n",
      "4/4 - 0s - loss: 0.4633 - accuracy: 0.8673 - 37ms/epoch - 9ms/step\n",
      "Epoch 60/300\n",
      "4/4 - 0s - loss: 0.4568 - accuracy: 0.8761 - 37ms/epoch - 9ms/step\n",
      "Epoch 61/300\n",
      "4/4 - 0s - loss: 0.4479 - accuracy: 0.8761 - 35ms/epoch - 9ms/step\n",
      "Epoch 62/300\n",
      "4/4 - 0s - loss: 0.4417 - accuracy: 0.8761 - 37ms/epoch - 9ms/step\n",
      "Epoch 63/300\n",
      "4/4 - 0s - loss: 0.4348 - accuracy: 0.8761 - 37ms/epoch - 9ms/step\n",
      "Epoch 64/300\n",
      "4/4 - 0s - loss: 0.4280 - accuracy: 0.8761 - 37ms/epoch - 9ms/step\n",
      "Epoch 65/300\n",
      "4/4 - 0s - loss: 0.4207 - accuracy: 0.8850 - 33ms/epoch - 8ms/step\n",
      "Epoch 66/300\n",
      "4/4 - 0s - loss: 0.4139 - accuracy: 0.8850 - 39ms/epoch - 10ms/step\n",
      "Epoch 67/300\n",
      "4/4 - 0s - loss: 0.4077 - accuracy: 0.8850 - 36ms/epoch - 9ms/step\n",
      "Epoch 68/300\n",
      "4/4 - 0s - loss: 0.4017 - accuracy: 0.8850 - 37ms/epoch - 9ms/step\n",
      "Epoch 69/300\n",
      "4/4 - 0s - loss: 0.3955 - accuracy: 0.8850 - 34ms/epoch - 8ms/step\n",
      "Epoch 70/300\n",
      "4/4 - 0s - loss: 0.3900 - accuracy: 0.8850 - 37ms/epoch - 9ms/step\n",
      "Epoch 71/300\n",
      "4/4 - 0s - loss: 0.3837 - accuracy: 0.8850 - 49ms/epoch - 12ms/step\n",
      "Epoch 72/300\n",
      "4/4 - 0s - loss: 0.3781 - accuracy: 0.8850 - 36ms/epoch - 9ms/step\n",
      "Epoch 73/300\n",
      "4/4 - 0s - loss: 0.3734 - accuracy: 0.8850 - 34ms/epoch - 8ms/step\n",
      "Epoch 74/300\n",
      "4/4 - 0s - loss: 0.3682 - accuracy: 0.8850 - 29ms/epoch - 7ms/step\n",
      "Epoch 75/300\n",
      "4/4 - 0s - loss: 0.3633 - accuracy: 0.8938 - 35ms/epoch - 9ms/step\n",
      "Epoch 76/300\n",
      "4/4 - 0s - loss: 0.3575 - accuracy: 0.8938 - 34ms/epoch - 9ms/step\n",
      "Epoch 77/300\n",
      "4/4 - 0s - loss: 0.3518 - accuracy: 0.8938 - 35ms/epoch - 9ms/step\n",
      "Epoch 78/300\n",
      "4/4 - 0s - loss: 0.3471 - accuracy: 0.9027 - 31ms/epoch - 8ms/step\n",
      "Epoch 79/300\n",
      "4/4 - 0s - loss: 0.3421 - accuracy: 0.9027 - 34ms/epoch - 9ms/step\n",
      "Epoch 80/300\n",
      "4/4 - 0s - loss: 0.3374 - accuracy: 0.9027 - 51ms/epoch - 13ms/step\n",
      "Epoch 81/300\n",
      "4/4 - 0s - loss: 0.3326 - accuracy: 0.9115 - 39ms/epoch - 10ms/step\n",
      "Epoch 82/300\n",
      "4/4 - 0s - loss: 0.3285 - accuracy: 0.9204 - 36ms/epoch - 9ms/step\n",
      "Epoch 83/300\n",
      "4/4 - 0s - loss: 0.3242 - accuracy: 0.9204 - 36ms/epoch - 9ms/step\n",
      "Epoch 84/300\n",
      "4/4 - 0s - loss: 0.3189 - accuracy: 0.9204 - 36ms/epoch - 9ms/step\n",
      "Epoch 85/300\n",
      "4/4 - 0s - loss: 0.3159 - accuracy: 0.9204 - 34ms/epoch - 9ms/step\n",
      "Epoch 86/300\n",
      "4/4 - 0s - loss: 0.3112 - accuracy: 0.9292 - 34ms/epoch - 9ms/step\n",
      "Epoch 87/300\n",
      "4/4 - 0s - loss: 0.3070 - accuracy: 0.9292 - 34ms/epoch - 8ms/step\n",
      "Epoch 88/300\n",
      "4/4 - 0s - loss: 0.3019 - accuracy: 0.9292 - 32ms/epoch - 8ms/step\n",
      "Epoch 89/300\n",
      "4/4 - 0s - loss: 0.2980 - accuracy: 0.9292 - 40ms/epoch - 10ms/step\n",
      "Epoch 90/300\n",
      "4/4 - 0s - loss: 0.2941 - accuracy: 0.9292 - 34ms/epoch - 8ms/step\n",
      "Epoch 91/300\n",
      "4/4 - 0s - loss: 0.2908 - accuracy: 0.9292 - 33ms/epoch - 8ms/step\n",
      "Epoch 92/300\n",
      "4/4 - 0s - loss: 0.2862 - accuracy: 0.9292 - 34ms/epoch - 9ms/step\n",
      "Epoch 93/300\n",
      "4/4 - 0s - loss: 0.2831 - accuracy: 0.9292 - 41ms/epoch - 10ms/step\n",
      "Epoch 94/300\n",
      "4/4 - 0s - loss: 0.2801 - accuracy: 0.9292 - 33ms/epoch - 8ms/step\n",
      "Epoch 95/300\n",
      "4/4 - 0s - loss: 0.2762 - accuracy: 0.9292 - 34ms/epoch - 8ms/step\n",
      "Epoch 96/300\n",
      "4/4 - 0s - loss: 0.2730 - accuracy: 0.9381 - 35ms/epoch - 9ms/step\n",
      "Epoch 97/300\n",
      "4/4 - 0s - loss: 0.2689 - accuracy: 0.9381 - 35ms/epoch - 9ms/step\n",
      "Epoch 98/300\n",
      "4/4 - 0s - loss: 0.2650 - accuracy: 0.9381 - 36ms/epoch - 9ms/step\n",
      "Epoch 99/300\n",
      "4/4 - 0s - loss: 0.2621 - accuracy: 0.9381 - 36ms/epoch - 9ms/step\n",
      "Epoch 100/300\n",
      "4/4 - 0s - loss: 0.2589 - accuracy: 0.9381 - 36ms/epoch - 9ms/step\n",
      "Epoch 101/300\n",
      "4/4 - 0s - loss: 0.2575 - accuracy: 0.9381 - 36ms/epoch - 9ms/step\n",
      "Epoch 102/300\n",
      "4/4 - 0s - loss: 0.2537 - accuracy: 0.9381 - 43ms/epoch - 11ms/step\n",
      "Epoch 103/300\n",
      "4/4 - 0s - loss: 0.2498 - accuracy: 0.9381 - 34ms/epoch - 8ms/step\n"
     ]
    },
    {
     "name": "stdout",
     "output_type": "stream",
     "text": [
      "Epoch 104/300\n",
      "4/4 - 0s - loss: 0.2470 - accuracy: 0.9381 - 32ms/epoch - 8ms/step\n",
      "Epoch 105/300\n",
      "4/4 - 0s - loss: 0.2443 - accuracy: 0.9469 - 40ms/epoch - 10ms/step\n",
      "Epoch 106/300\n",
      "4/4 - 0s - loss: 0.2417 - accuracy: 0.9469 - 38ms/epoch - 9ms/step\n",
      "Epoch 107/300\n",
      "4/4 - 0s - loss: 0.2392 - accuracy: 0.9558 - 36ms/epoch - 9ms/step\n",
      "Epoch 108/300\n",
      "4/4 - 0s - loss: 0.2364 - accuracy: 0.9558 - 40ms/epoch - 10ms/step\n",
      "Epoch 109/300\n",
      "4/4 - 0s - loss: 0.2337 - accuracy: 0.9558 - 33ms/epoch - 8ms/step\n",
      "Epoch 110/300\n",
      "4/4 - 0s - loss: 0.2317 - accuracy: 0.9558 - 36ms/epoch - 9ms/step\n",
      "Epoch 111/300\n",
      "4/4 - 0s - loss: 0.2289 - accuracy: 0.9558 - 36ms/epoch - 9ms/step\n",
      "Epoch 112/300\n",
      "4/4 - 0s - loss: 0.2267 - accuracy: 0.9558 - 37ms/epoch - 9ms/step\n",
      "Epoch 113/300\n",
      "4/4 - 0s - loss: 0.2254 - accuracy: 0.9558 - 38ms/epoch - 9ms/step\n",
      "Epoch 114/300\n",
      "4/4 - 0s - loss: 0.2220 - accuracy: 0.9558 - 33ms/epoch - 8ms/step\n",
      "Epoch 115/300\n",
      "4/4 - 0s - loss: 0.2193 - accuracy: 0.9558 - 38ms/epoch - 9ms/step\n",
      "Epoch 116/300\n",
      "4/4 - 0s - loss: 0.2173 - accuracy: 0.9558 - 41ms/epoch - 10ms/step\n",
      "Epoch 117/300\n",
      "4/4 - 0s - loss: 0.2157 - accuracy: 0.9558 - 40ms/epoch - 10ms/step\n",
      "Epoch 118/300\n",
      "4/4 - 0s - loss: 0.2131 - accuracy: 0.9558 - 62ms/epoch - 16ms/step\n",
      "Epoch 119/300\n",
      "4/4 - 0s - loss: 0.2107 - accuracy: 0.9558 - 41ms/epoch - 10ms/step\n",
      "Epoch 120/300\n",
      "4/4 - 0s - loss: 0.2092 - accuracy: 0.9558 - 37ms/epoch - 9ms/step\n",
      "Epoch 121/300\n",
      "4/4 - 0s - loss: 0.2071 - accuracy: 0.9558 - 37ms/epoch - 9ms/step\n",
      "Epoch 122/300\n",
      "4/4 - 0s - loss: 0.2051 - accuracy: 0.9558 - 40ms/epoch - 10ms/step\n",
      "Epoch 123/300\n",
      "4/4 - 0s - loss: 0.2031 - accuracy: 0.9558 - 36ms/epoch - 9ms/step\n",
      "Epoch 124/300\n",
      "4/4 - 0s - loss: 0.2014 - accuracy: 0.9558 - 47ms/epoch - 12ms/step\n",
      "Epoch 125/300\n",
      "4/4 - 0s - loss: 0.1993 - accuracy: 0.9558 - 40ms/epoch - 10ms/step\n",
      "Epoch 126/300\n",
      "4/4 - 0s - loss: 0.1978 - accuracy: 0.9558 - 39ms/epoch - 10ms/step\n",
      "Epoch 127/300\n",
      "4/4 - 0s - loss: 0.1959 - accuracy: 0.9558 - 39ms/epoch - 10ms/step\n",
      "Epoch 128/300\n",
      "4/4 - 0s - loss: 0.1950 - accuracy: 0.9558 - 36ms/epoch - 9ms/step\n",
      "Epoch 129/300\n",
      "4/4 - 0s - loss: 0.1930 - accuracy: 0.9558 - 35ms/epoch - 9ms/step\n",
      "Epoch 130/300\n",
      "4/4 - 0s - loss: 0.1911 - accuracy: 0.9558 - 41ms/epoch - 10ms/step\n",
      "Epoch 131/300\n",
      "4/4 - 0s - loss: 0.1897 - accuracy: 0.9558 - 39ms/epoch - 10ms/step\n",
      "Epoch 132/300\n",
      "4/4 - 0s - loss: 0.1880 - accuracy: 0.9558 - 37ms/epoch - 9ms/step\n",
      "Epoch 133/300\n",
      "4/4 - 0s - loss: 0.1860 - accuracy: 0.9558 - 38ms/epoch - 9ms/step\n",
      "Epoch 134/300\n",
      "4/4 - 0s - loss: 0.1851 - accuracy: 0.9558 - 34ms/epoch - 9ms/step\n",
      "Epoch 135/300\n",
      "4/4 - 0s - loss: 0.1835 - accuracy: 0.9558 - 37ms/epoch - 9ms/step\n",
      "Epoch 136/300\n",
      "4/4 - 0s - loss: 0.1817 - accuracy: 0.9558 - 40ms/epoch - 10ms/step\n",
      "Epoch 137/300\n",
      "4/4 - 0s - loss: 0.1821 - accuracy: 0.9558 - 42ms/epoch - 10ms/step\n",
      "Epoch 138/300\n",
      "4/4 - 0s - loss: 0.1794 - accuracy: 0.9558 - 42ms/epoch - 11ms/step\n",
      "Epoch 139/300\n",
      "4/4 - 0s - loss: 0.1786 - accuracy: 0.9558 - 40ms/epoch - 10ms/step\n",
      "Epoch 140/300\n",
      "4/4 - 0s - loss: 0.1768 - accuracy: 0.9558 - 39ms/epoch - 10ms/step\n",
      "Epoch 141/300\n",
      "4/4 - 0s - loss: 0.1749 - accuracy: 0.9558 - 41ms/epoch - 10ms/step\n",
      "Epoch 142/300\n",
      "4/4 - 0s - loss: 0.1743 - accuracy: 0.9558 - 41ms/epoch - 10ms/step\n",
      "Epoch 143/300\n",
      "4/4 - 0s - loss: 0.1724 - accuracy: 0.9558 - 43ms/epoch - 11ms/step\n",
      "Epoch 144/300\n",
      "4/4 - 0s - loss: 0.1715 - accuracy: 0.9558 - 37ms/epoch - 9ms/step\n",
      "Epoch 145/300\n",
      "4/4 - 0s - loss: 0.1702 - accuracy: 0.9558 - 40ms/epoch - 10ms/step\n",
      "Epoch 146/300\n",
      "4/4 - 0s - loss: 0.1705 - accuracy: 0.9558 - 38ms/epoch - 10ms/step\n",
      "Epoch 147/300\n",
      "4/4 - 0s - loss: 0.1691 - accuracy: 0.9558 - 37ms/epoch - 9ms/step\n",
      "Epoch 148/300\n",
      "4/4 - 0s - loss: 0.1670 - accuracy: 0.9558 - 36ms/epoch - 9ms/step\n",
      "Epoch 149/300\n",
      "4/4 - 0s - loss: 0.1652 - accuracy: 0.9558 - 39ms/epoch - 10ms/step\n",
      "Epoch 150/300\n",
      "4/4 - 0s - loss: 0.1664 - accuracy: 0.9558 - 39ms/epoch - 10ms/step\n",
      "Epoch 151/300\n",
      "4/4 - 0s - loss: 0.1630 - accuracy: 0.9558 - 41ms/epoch - 10ms/step\n",
      "Epoch 152/300\n",
      "4/4 - 0s - loss: 0.1624 - accuracy: 0.9558 - 41ms/epoch - 10ms/step\n",
      "Epoch 153/300\n",
      "4/4 - 0s - loss: 0.1608 - accuracy: 0.9558 - 38ms/epoch - 9ms/step\n",
      "Epoch 154/300\n",
      "4/4 - 0s - loss: 0.1601 - accuracy: 0.9558 - 34ms/epoch - 8ms/step\n",
      "Epoch 155/300\n",
      "4/4 - 0s - loss: 0.1593 - accuracy: 0.9558 - 40ms/epoch - 10ms/step\n",
      "Epoch 156/300\n",
      "4/4 - 0s - loss: 0.1583 - accuracy: 0.9558 - 38ms/epoch - 9ms/step\n",
      "Epoch 157/300\n",
      "4/4 - 0s - loss: 0.1574 - accuracy: 0.9558 - 40ms/epoch - 10ms/step\n",
      "Epoch 158/300\n",
      "4/4 - 0s - loss: 0.1576 - accuracy: 0.9558 - 50ms/epoch - 13ms/step\n",
      "Epoch 159/300\n",
      "4/4 - 0s - loss: 0.1549 - accuracy: 0.9558 - 43ms/epoch - 11ms/step\n",
      "Epoch 160/300\n",
      "4/4 - 0s - loss: 0.1541 - accuracy: 0.9558 - 40ms/epoch - 10ms/step\n",
      "Epoch 161/300\n",
      "4/4 - 0s - loss: 0.1536 - accuracy: 0.9558 - 39ms/epoch - 10ms/step\n",
      "Epoch 162/300\n",
      "4/4 - 0s - loss: 0.1522 - accuracy: 0.9558 - 60ms/epoch - 15ms/step\n",
      "Epoch 163/300\n",
      "4/4 - 0s - loss: 0.1522 - accuracy: 0.9558 - 37ms/epoch - 9ms/step\n",
      "Epoch 164/300\n",
      "4/4 - 0s - loss: 0.1505 - accuracy: 0.9558 - 40ms/epoch - 10ms/step\n",
      "Epoch 165/300\n",
      "4/4 - 0s - loss: 0.1497 - accuracy: 0.9558 - 37ms/epoch - 9ms/step\n",
      "Epoch 166/300\n",
      "4/4 - 0s - loss: 0.1487 - accuracy: 0.9558 - 39ms/epoch - 10ms/step\n",
      "Epoch 167/300\n",
      "4/4 - 0s - loss: 0.1479 - accuracy: 0.9646 - 37ms/epoch - 9ms/step\n",
      "Epoch 168/300\n",
      "4/4 - 0s - loss: 0.1476 - accuracy: 0.9646 - 35ms/epoch - 9ms/step\n",
      "Epoch 169/300\n",
      "4/4 - 0s - loss: 0.1466 - accuracy: 0.9646 - 39ms/epoch - 10ms/step\n",
      "Epoch 170/300\n",
      "4/4 - 0s - loss: 0.1451 - accuracy: 0.9646 - 37ms/epoch - 9ms/step\n",
      "Epoch 171/300\n",
      "4/4 - 0s - loss: 0.1449 - accuracy: 0.9646 - 38ms/epoch - 9ms/step\n",
      "Epoch 172/300\n",
      "4/4 - 0s - loss: 0.1438 - accuracy: 0.9646 - 38ms/epoch - 9ms/step\n",
      "Epoch 173/300\n",
      "4/4 - 0s - loss: 0.1429 - accuracy: 0.9646 - 39ms/epoch - 10ms/step\n",
      "Epoch 174/300\n",
      "4/4 - 0s - loss: 0.1423 - accuracy: 0.9646 - 38ms/epoch - 9ms/step\n",
      "Epoch 175/300\n",
      "4/4 - 0s - loss: 0.1421 - accuracy: 0.9646 - 36ms/epoch - 9ms/step\n",
      "Epoch 176/300\n",
      "4/4 - 0s - loss: 0.1413 - accuracy: 0.9646 - 40ms/epoch - 10ms/step\n",
      "Epoch 177/300\n",
      "4/4 - 0s - loss: 0.1402 - accuracy: 0.9735 - 46ms/epoch - 11ms/step\n",
      "Epoch 178/300\n",
      "4/4 - 0s - loss: 0.1394 - accuracy: 0.9735 - 39ms/epoch - 10ms/step\n",
      "Epoch 179/300\n",
      "4/4 - 0s - loss: 0.1384 - accuracy: 0.9735 - 42ms/epoch - 11ms/step\n",
      "Epoch 180/300\n",
      "4/4 - 0s - loss: 0.1396 - accuracy: 0.9735 - 42ms/epoch - 10ms/step\n",
      "Epoch 181/300\n",
      "4/4 - 0s - loss: 0.1390 - accuracy: 0.9735 - 43ms/epoch - 11ms/step\n",
      "Epoch 182/300\n",
      "4/4 - 0s - loss: 0.1368 - accuracy: 0.9735 - 42ms/epoch - 10ms/step\n",
      "Epoch 183/300\n",
      "4/4 - 0s - loss: 0.1366 - accuracy: 0.9735 - 51ms/epoch - 13ms/step\n",
      "Epoch 184/300\n",
      "4/4 - 0s - loss: 0.1354 - accuracy: 0.9735 - 42ms/epoch - 11ms/step\n",
      "Epoch 185/300\n",
      "4/4 - 0s - loss: 0.1345 - accuracy: 0.9735 - 45ms/epoch - 11ms/step\n",
      "Epoch 186/300\n",
      "4/4 - 0s - loss: 0.1336 - accuracy: 0.9735 - 43ms/epoch - 11ms/step\n",
      "Epoch 187/300\n",
      "4/4 - 0s - loss: 0.1336 - accuracy: 0.9735 - 36ms/epoch - 9ms/step\n",
      "Epoch 188/300\n",
      "4/4 - 0s - loss: 0.1347 - accuracy: 0.9735 - 42ms/epoch - 10ms/step\n",
      "Epoch 189/300\n",
      "4/4 - 0s - loss: 0.1335 - accuracy: 0.9735 - 44ms/epoch - 11ms/step\n",
      "Epoch 190/300\n",
      "4/4 - 0s - loss: 0.1316 - accuracy: 0.9735 - 49ms/epoch - 12ms/step\n",
      "Epoch 191/300\n",
      "4/4 - 0s - loss: 0.1309 - accuracy: 0.9735 - 42ms/epoch - 11ms/step\n",
      "Epoch 192/300\n",
      "4/4 - 0s - loss: 0.1306 - accuracy: 0.9735 - 40ms/epoch - 10ms/step\n",
      "Epoch 193/300\n",
      "4/4 - 0s - loss: 0.1305 - accuracy: 0.9735 - 40ms/epoch - 10ms/step\n",
      "Epoch 194/300\n",
      "4/4 - 0s - loss: 0.1293 - accuracy: 0.9735 - 41ms/epoch - 10ms/step\n",
      "Epoch 195/300\n",
      "4/4 - 0s - loss: 0.1283 - accuracy: 0.9735 - 40ms/epoch - 10ms/step\n",
      "Epoch 196/300\n",
      "4/4 - 0s - loss: 0.1283 - accuracy: 0.9735 - 45ms/epoch - 11ms/step\n",
      "Epoch 197/300\n",
      "4/4 - 0s - loss: 0.1287 - accuracy: 0.9735 - 43ms/epoch - 11ms/step\n",
      "Epoch 198/300\n",
      "4/4 - 0s - loss: 0.1275 - accuracy: 0.9735 - 32ms/epoch - 8ms/step\n",
      "Epoch 199/300\n",
      "4/4 - 0s - loss: 0.1278 - accuracy: 0.9735 - 43ms/epoch - 11ms/step\n",
      "Epoch 200/300\n",
      "4/4 - 0s - loss: 0.1261 - accuracy: 0.9735 - 44ms/epoch - 11ms/step\n",
      "Epoch 201/300\n",
      "4/4 - 0s - loss: 0.1263 - accuracy: 0.9735 - 39ms/epoch - 10ms/step\n",
      "Epoch 202/300\n",
      "4/4 - 0s - loss: 0.1257 - accuracy: 0.9735 - 33ms/epoch - 8ms/step\n",
      "Epoch 203/300\n",
      "4/4 - 0s - loss: 0.1255 - accuracy: 0.9735 - 65ms/epoch - 16ms/step\n",
      "Epoch 204/300\n",
      "4/4 - 0s - loss: 0.1238 - accuracy: 0.9735 - 42ms/epoch - 10ms/step\n"
     ]
    },
    {
     "name": "stdout",
     "output_type": "stream",
     "text": [
      "Epoch 205/300\n",
      "4/4 - 0s - loss: 0.1236 - accuracy: 0.9735 - 44ms/epoch - 11ms/step\n",
      "Epoch 206/300\n",
      "4/4 - 0s - loss: 0.1233 - accuracy: 0.9735 - 42ms/epoch - 10ms/step\n",
      "Epoch 207/300\n",
      "4/4 - 0s - loss: 0.1225 - accuracy: 0.9735 - 38ms/epoch - 9ms/step\n",
      "Epoch 208/300\n",
      "4/4 - 0s - loss: 0.1220 - accuracy: 0.9735 - 37ms/epoch - 9ms/step\n",
      "Epoch 209/300\n",
      "4/4 - 0s - loss: 0.1220 - accuracy: 0.9735 - 38ms/epoch - 10ms/step\n",
      "Epoch 210/300\n",
      "4/4 - 0s - loss: 0.1214 - accuracy: 0.9735 - 48ms/epoch - 12ms/step\n",
      "Epoch 211/300\n",
      "4/4 - 0s - loss: 0.1213 - accuracy: 0.9735 - 39ms/epoch - 10ms/step\n",
      "Epoch 212/300\n",
      "4/4 - 0s - loss: 0.1205 - accuracy: 0.9735 - 44ms/epoch - 11ms/step\n",
      "Epoch 213/300\n",
      "4/4 - 0s - loss: 0.1207 - accuracy: 0.9735 - 41ms/epoch - 10ms/step\n",
      "Epoch 214/300\n",
      "4/4 - 0s - loss: 0.1202 - accuracy: 0.9735 - 38ms/epoch - 9ms/step\n",
      "Epoch 215/300\n",
      "4/4 - 0s - loss: 0.1190 - accuracy: 0.9735 - 38ms/epoch - 9ms/step\n",
      "Epoch 216/300\n",
      "4/4 - 0s - loss: 0.1192 - accuracy: 0.9735 - 35ms/epoch - 9ms/step\n",
      "Epoch 217/300\n",
      "4/4 - 0s - loss: 0.1189 - accuracy: 0.9735 - 47ms/epoch - 12ms/step\n",
      "Epoch 218/300\n",
      "4/4 - 0s - loss: 0.1176 - accuracy: 0.9735 - 45ms/epoch - 11ms/step\n",
      "Epoch 219/300\n",
      "4/4 - 0s - loss: 0.1171 - accuracy: 0.9735 - 41ms/epoch - 10ms/step\n",
      "Epoch 220/300\n",
      "4/4 - 0s - loss: 0.1167 - accuracy: 0.9735 - 44ms/epoch - 11ms/step\n",
      "Epoch 221/300\n",
      "4/4 - 0s - loss: 0.1165 - accuracy: 0.9735 - 41ms/epoch - 10ms/step\n",
      "Epoch 222/300\n",
      "4/4 - 0s - loss: 0.1157 - accuracy: 0.9735 - 42ms/epoch - 10ms/step\n",
      "Epoch 223/300\n",
      "4/4 - 0s - loss: 0.1162 - accuracy: 0.9735 - 42ms/epoch - 11ms/step\n",
      "Epoch 224/300\n",
      "4/4 - 0s - loss: 0.1159 - accuracy: 0.9735 - 44ms/epoch - 11ms/step\n",
      "Epoch 225/300\n",
      "4/4 - 0s - loss: 0.1155 - accuracy: 0.9735 - 43ms/epoch - 11ms/step\n",
      "Epoch 226/300\n",
      "4/4 - 0s - loss: 0.1152 - accuracy: 0.9735 - 40ms/epoch - 10ms/step\n",
      "Epoch 227/300\n",
      "4/4 - 0s - loss: 0.1151 - accuracy: 0.9735 - 41ms/epoch - 10ms/step\n",
      "Epoch 228/300\n",
      "4/4 - 0s - loss: 0.1136 - accuracy: 0.9735 - 44ms/epoch - 11ms/step\n",
      "Epoch 229/300\n",
      "4/4 - 0s - loss: 0.1143 - accuracy: 0.9735 - 43ms/epoch - 11ms/step\n",
      "Epoch 230/300\n",
      "4/4 - 0s - loss: 0.1133 - accuracy: 0.9735 - 46ms/epoch - 12ms/step\n",
      "Epoch 231/300\n",
      "4/4 - 0s - loss: 0.1129 - accuracy: 0.9735 - 44ms/epoch - 11ms/step\n",
      "Epoch 232/300\n",
      "4/4 - 0s - loss: 0.1124 - accuracy: 0.9735 - 44ms/epoch - 11ms/step\n",
      "Epoch 233/300\n",
      "4/4 - 0s - loss: 0.1121 - accuracy: 0.9735 - 46ms/epoch - 11ms/step\n",
      "Epoch 234/300\n",
      "4/4 - 0s - loss: 0.1118 - accuracy: 0.9735 - 45ms/epoch - 11ms/step\n",
      "Epoch 235/300\n",
      "4/4 - 0s - loss: 0.1128 - accuracy: 0.9735 - 41ms/epoch - 10ms/step\n",
      "Epoch 236/300\n",
      "4/4 - 0s - loss: 0.1117 - accuracy: 0.9735 - 38ms/epoch - 9ms/step\n",
      "Epoch 237/300\n",
      "4/4 - 0s - loss: 0.1127 - accuracy: 0.9735 - 40ms/epoch - 10ms/step\n",
      "Epoch 238/300\n",
      "4/4 - 0s - loss: 0.1096 - accuracy: 0.9735 - 44ms/epoch - 11ms/step\n",
      "Epoch 239/300\n",
      "4/4 - 0s - loss: 0.1093 - accuracy: 0.9735 - 40ms/epoch - 10ms/step\n",
      "Epoch 240/300\n",
      "4/4 - 0s - loss: 0.1099 - accuracy: 0.9735 - 40ms/epoch - 10ms/step\n",
      "Epoch 241/300\n",
      "4/4 - 0s - loss: 0.1099 - accuracy: 0.9735 - 48ms/epoch - 12ms/step\n",
      "Epoch 242/300\n",
      "4/4 - 0s - loss: 0.1098 - accuracy: 0.9735 - 44ms/epoch - 11ms/step\n",
      "Epoch 243/300\n",
      "4/4 - 0s - loss: 0.1085 - accuracy: 0.9735 - 43ms/epoch - 11ms/step\n",
      "Epoch 244/300\n",
      "4/4 - 0s - loss: 0.1088 - accuracy: 0.9735 - 38ms/epoch - 10ms/step\n",
      "Epoch 245/300\n",
      "4/4 - 0s - loss: 0.1090 - accuracy: 0.9735 - 42ms/epoch - 11ms/step\n",
      "Epoch 246/300\n",
      "4/4 - 0s - loss: 0.1076 - accuracy: 0.9735 - 42ms/epoch - 10ms/step\n",
      "Epoch 247/300\n",
      "4/4 - 0s - loss: 0.1076 - accuracy: 0.9735 - 40ms/epoch - 10ms/step\n",
      "Epoch 248/300\n",
      "4/4 - 0s - loss: 0.1076 - accuracy: 0.9735 - 41ms/epoch - 10ms/step\n",
      "Epoch 249/300\n",
      "4/4 - 0s - loss: 0.1067 - accuracy: 0.9735 - 37ms/epoch - 9ms/step\n",
      "Epoch 250/300\n",
      "4/4 - 0s - loss: 0.1068 - accuracy: 0.9735 - 38ms/epoch - 10ms/step\n",
      "Epoch 251/300\n",
      "4/4 - 0s - loss: 0.1066 - accuracy: 0.9735 - 44ms/epoch - 11ms/step\n",
      "Epoch 252/300\n",
      "4/4 - 0s - loss: 0.1062 - accuracy: 0.9735 - 43ms/epoch - 11ms/step\n",
      "Epoch 253/300\n",
      "4/4 - 0s - loss: 0.1057 - accuracy: 0.9735 - 42ms/epoch - 10ms/step\n",
      "Epoch 254/300\n",
      "4/4 - 0s - loss: 0.1057 - accuracy: 0.9735 - 41ms/epoch - 10ms/step\n",
      "Epoch 255/300\n",
      "4/4 - 0s - loss: 0.1055 - accuracy: 0.9735 - 39ms/epoch - 10ms/step\n",
      "Epoch 256/300\n",
      "4/4 - 0s - loss: 0.1051 - accuracy: 0.9735 - 42ms/epoch - 11ms/step\n",
      "Epoch 257/300\n",
      "4/4 - 0s - loss: 0.1049 - accuracy: 0.9735 - 40ms/epoch - 10ms/step\n",
      "Epoch 258/300\n",
      "4/4 - 0s - loss: 0.1062 - accuracy: 0.9735 - 37ms/epoch - 9ms/step\n",
      "Epoch 259/300\n",
      "4/4 - 0s - loss: 0.1050 - accuracy: 0.9735 - 39ms/epoch - 10ms/step\n",
      "Epoch 260/300\n",
      "4/4 - 0s - loss: 0.1043 - accuracy: 0.9735 - 48ms/epoch - 12ms/step\n",
      "Epoch 261/300\n",
      "4/4 - 0s - loss: 0.1056 - accuracy: 0.9735 - 43ms/epoch - 11ms/step\n",
      "Epoch 262/300\n",
      "4/4 - 0s - loss: 0.1038 - accuracy: 0.9735 - 42ms/epoch - 11ms/step\n",
      "Epoch 263/300\n",
      "4/4 - 0s - loss: 0.1042 - accuracy: 0.9735 - 41ms/epoch - 10ms/step\n",
      "Epoch 264/300\n",
      "4/4 - 0s - loss: 0.1033 - accuracy: 0.9735 - 40ms/epoch - 10ms/step\n",
      "Epoch 265/300\n",
      "4/4 - 0s - loss: 0.1028 - accuracy: 0.9735 - 40ms/epoch - 10ms/step\n",
      "Epoch 266/300\n",
      "4/4 - 0s - loss: 0.1033 - accuracy: 0.9735 - 44ms/epoch - 11ms/step\n",
      "Epoch 267/300\n",
      "4/4 - 0s - loss: 0.1028 - accuracy: 0.9735 - 41ms/epoch - 10ms/step\n",
      "Epoch 268/300\n",
      "4/4 - 0s - loss: 0.1032 - accuracy: 0.9735 - 38ms/epoch - 10ms/step\n",
      "Epoch 269/300\n",
      "4/4 - 0s - loss: 0.1024 - accuracy: 0.9735 - 43ms/epoch - 11ms/step\n",
      "Epoch 270/300\n",
      "4/4 - 0s - loss: 0.1016 - accuracy: 0.9735 - 44ms/epoch - 11ms/step\n",
      "Epoch 271/300\n",
      "4/4 - 0s - loss: 0.1023 - accuracy: 0.9735 - 41ms/epoch - 10ms/step\n",
      "Epoch 272/300\n",
      "4/4 - 0s - loss: 0.1024 - accuracy: 0.9735 - 40ms/epoch - 10ms/step\n",
      "Epoch 273/300\n",
      "4/4 - 0s - loss: 0.1008 - accuracy: 0.9735 - 43ms/epoch - 11ms/step\n",
      "Epoch 274/300\n",
      "4/4 - 0s - loss: 0.1017 - accuracy: 0.9735 - 41ms/epoch - 10ms/step\n",
      "Epoch 275/300\n",
      "4/4 - 0s - loss: 0.1026 - accuracy: 0.9735 - 41ms/epoch - 10ms/step\n",
      "Epoch 276/300\n",
      "4/4 - 0s - loss: 0.1022 - accuracy: 0.9735 - 45ms/epoch - 11ms/step\n",
      "Epoch 277/300\n",
      "4/4 - 0s - loss: 0.1020 - accuracy: 0.9735 - 40ms/epoch - 10ms/step\n",
      "Epoch 278/300\n",
      "4/4 - 0s - loss: 0.1040 - accuracy: 0.9735 - 53ms/epoch - 13ms/step\n",
      "Epoch 279/300\n",
      "4/4 - 0s - loss: 0.1002 - accuracy: 0.9735 - 34ms/epoch - 9ms/step\n",
      "Epoch 280/300\n",
      "4/4 - 0s - loss: 0.1010 - accuracy: 0.9735 - 40ms/epoch - 10ms/step\n",
      "Epoch 281/300\n",
      "4/4 - 0s - loss: 0.1002 - accuracy: 0.9735 - 46ms/epoch - 12ms/step\n",
      "Epoch 282/300\n",
      "4/4 - 0s - loss: 0.1002 - accuracy: 0.9735 - 43ms/epoch - 11ms/step\n",
      "Epoch 283/300\n",
      "4/4 - 0s - loss: 0.0993 - accuracy: 0.9735 - 43ms/epoch - 11ms/step\n",
      "Epoch 284/300\n",
      "4/4 - 0s - loss: 0.0990 - accuracy: 0.9735 - 40ms/epoch - 10ms/step\n",
      "Epoch 285/300\n",
      "4/4 - 0s - loss: 0.0992 - accuracy: 0.9735 - 42ms/epoch - 10ms/step\n",
      "Epoch 286/300\n",
      "4/4 - 0s - loss: 0.0996 - accuracy: 0.9735 - 40ms/epoch - 10ms/step\n",
      "Epoch 287/300\n",
      "4/4 - 0s - loss: 0.0986 - accuracy: 0.9735 - 45ms/epoch - 11ms/step\n",
      "Epoch 288/300\n",
      "4/4 - 0s - loss: 0.0989 - accuracy: 0.9735 - 44ms/epoch - 11ms/step\n",
      "Epoch 289/300\n",
      "4/4 - 0s - loss: 0.0985 - accuracy: 0.9735 - 44ms/epoch - 11ms/step\n",
      "Epoch 290/300\n",
      "4/4 - 0s - loss: 0.0984 - accuracy: 0.9735 - 36ms/epoch - 9ms/step\n",
      "Epoch 291/300\n",
      "4/4 - 0s - loss: 0.0987 - accuracy: 0.9735 - 39ms/epoch - 10ms/step\n",
      "Epoch 292/300\n",
      "4/4 - 0s - loss: 0.0982 - accuracy: 0.9735 - 48ms/epoch - 12ms/step\n",
      "Epoch 293/300\n",
      "4/4 - 0s - loss: 0.0978 - accuracy: 0.9735 - 43ms/epoch - 11ms/step\n",
      "Epoch 294/300\n",
      "4/4 - 0s - loss: 0.0980 - accuracy: 0.9735 - 43ms/epoch - 11ms/step\n",
      "Epoch 295/300\n",
      "4/4 - 0s - loss: 0.0981 - accuracy: 0.9735 - 42ms/epoch - 10ms/step\n",
      "Epoch 296/300\n",
      "4/4 - 0s - loss: 0.0979 - accuracy: 0.9735 - 40ms/epoch - 10ms/step\n",
      "Epoch 297/300\n",
      "4/4 - 0s - loss: 0.0981 - accuracy: 0.9735 - 40ms/epoch - 10ms/step\n",
      "Epoch 298/300\n",
      "4/4 - 0s - loss: 0.0989 - accuracy: 0.9735 - 43ms/epoch - 11ms/step\n",
      "Epoch 299/300\n",
      "4/4 - 0s - loss: 0.0969 - accuracy: 0.9735 - 44ms/epoch - 11ms/step\n",
      "Epoch 300/300\n",
      "4/4 - 0s - loss: 0.0972 - accuracy: 0.9735 - 45ms/epoch - 11ms/step\n"
     ]
    }
   ],
   "source": [
    "model.compile(loss='categorical_crossentropy', optimizer='adam', metrics=['accuracy'])\n",
    "hist = model.fit(x=X, y=Y, verbose=2, epochs=300)"
   ]
  },
  {
   "cell_type": "code",
   "execution_count": 16,
   "id": "aa5ac538",
   "metadata": {
    "ExecuteTime": {
     "end_time": "2025-01-02T05:28:53.708741Z",
     "start_time": "2025-01-02T05:28:53.039091Z"
    }
   },
   "outputs": [
    {
     "data": {
      "image/png": "[encoded data removed]",
      "text/plain": [
       "<Figure size 1000x500 with 2 Axes>"
      ]
     },
     "metadata": {},
     "output_type": "display_data"
    }
   ],
   "source": [
    "import matplotlib.pyplot as plt\n",
    "fig, loss_ax = plt.subplots(figsize=(10,5))\n",
    "loss_ax.plot(hist.history['loss'], 'r', label='train loss')\n",
    "loss_ax.set_xlabel('epoch')\n",
    "loss_ax.set_ylabel('loss')\n",
    "acc_ax = loss_ax.twinx()\n",
    "acc_ax.plot(hist.history['accuracy'], 'b', label='train accuracy')\n",
    "acc_ax.set_ylabel('accuracy')\n",
    "loss_ax.legend(bbox_to_anchor=(1.1, 1), loc=2, borderaxespad=0.)\n",
    "acc_ax.legend(bbox_to_anchor=(1.1, .85), loc=2, borderaxespad=0.)\n",
    "plt.show()"
   ]
  },
  {
   "cell_type": "markdown",
   "id": "835b7f65",
   "metadata": {},
   "source": [
    "# 4. 다음 문맥 예측해 보기"
   ]
  },
  {
   "cell_type": "code",
   "execution_count": 17,
   "id": "af75febb",
   "metadata": {
    "ExecuteTime": {
     "end_time": "2025-01-02T05:28:53.717718Z",
     "start_time": "2025-01-02T05:28:53.710737Z"
    }
   },
   "outputs": [
    {
     "name": "stdout",
     "output_type": "stream",
     "text": [
      "{'말이': 1, '경마장에': 2, '있는': 3, '뛰고': 4, '있다': 5, '그의': 6, '곧': 7, '법이다': 8, '가는': 9, '고와야': 10, '오는': 11, '곱다': 12}\n"
     ]
    }
   ],
   "source": [
    "print(t.word_index)"
   ]
  },
  {
   "cell_type": "code",
   "execution_count": 18,
   "id": "d335818b",
   "metadata": {
    "ExecuteTime": {
     "end_time": "2025-01-02T05:28:59.080908Z",
     "start_time": "2025-01-02T05:28:53.720710Z"
    }
   },
   "outputs": [
    {
     "name": "stdout",
     "output_type": "stream",
     "text": [
      "입력단어 :가는\n",
      "입렷한 단어:가는, encoded:[[9]]\n",
      "[[0 0 0 0 9]]\n",
      "예측한 단어 : 말이\n"
     ]
    }
   ],
   "source": [
    "# 모델 사용하기 (문자 -> sequence로 수정 -> predict -> argmax -> 문자)\n",
    "# 경마장에 -> 있는\n",
    "word = input('입력단어 :')\n",
    "encoded=t.texts_to_sequences([word])\n",
    "print('입렷한 단어:{}, encoded:{}'.format(word, encoded))\n",
    "input_data = pad_sequences(encoded, maxlen=5, padding='pre')\n",
    "print(input_data)\n",
    "output_data = model.predict(input_data, verbose=0).argmax()\n",
    "for word, value in t.word_index.items():\n",
    "    if output_data==value:\n",
    "        print('예측한 단어 :', word)\n",
    "        break"
   ]
  },
  {
   "cell_type": "code",
   "execution_count": 27,
   "id": "602978bf",
   "metadata": {
    "ExecuteTime": {
     "end_time": "2025-01-02T05:35:21.277187Z",
     "start_time": "2025-01-02T05:35:21.271172Z"
    }
   },
   "outputs": [],
   "source": [
    "# 단어(가는),5 => 가는 말이 고와야 오는 말이 곱다\n",
    "def sentence_generation(model, t, current_word, n):\n",
    "    for i in range(n) : # n번 반복\n",
    "        # current_word -> sequence -> padding -> predict.argmax -> 결과 단어(result)\n",
    "        # current_word = current_word+' '+result\n",
    "        encoded = t.texts_to_sequences([current_word])\n",
    "        input_data = pad_sequences(encoded, maxlen=5, padding='pre')\n",
    "        result = model.predict(input_data, verbose=0).argmax()\n",
    "        for word, value in t.word_index.items():\n",
    "            if result==value:\n",
    "                result = word\n",
    "                print('{}:{}'.format(i+1,result))\n",
    "                current_word = current_word + ' ' + word\n",
    "                print('{}:{}'.format(i+1,current_word))\n",
    "                break\n",
    "    return current_word"
   ]
  },
  {
   "cell_type": "code",
   "execution_count": 31,
   "id": "9511346d",
   "metadata": {
    "ExecuteTime": {
     "end_time": "2025-01-02T05:36:02.262838Z",
     "start_time": "2025-01-02T05:36:02.016872Z"
    }
   },
   "outputs": [
    {
     "name": "stdout",
     "output_type": "stream",
     "text": [
      "1:말이\n",
      "1:가는 말이\n",
      "2:고와야\n",
      "2:가는 말이 고와야\n",
      "3:오는\n",
      "3:가는 말이 고와야 오는\n",
      "4:말이\n",
      "4:가는 말이 고와야 오는 말이\n",
      "5:곱다\n",
      "5:가는 말이 고와야 오는 말이 곱다\n"
     ]
    },
    {
     "data": {
      "text/plain": [
       "'가는 말이 고와야 오는 말이 곱다'"
      ]
     },
     "execution_count": 31,
     "metadata": {},
     "output_type": "execute_result"
    }
   ],
   "source": [
    "sentence_generation(model, t, '가는', 5)"
   ]
  }
 ],
 "metadata": {
  "kernelspec": {
   "display_name": "Python 3 (ipykernel)",
   "language": "python",
   "name": "python3"
  },
  "language_info": {
   "codemirror_mode": {
    "name": "ipython",
    "version": 3
   },
   "file_extension": ".py",
   "mimetype": "text/x-python",
   "name": "python",
   "nbconvert_exporter": "python",
   "pygments_lexer": "ipython3",
   "version": "3.10.9"
  },
  "toc": {
   "base_numbering": 1,
   "nav_menu": {},
   "number_sections": true,
   "sideBar": true,
   "skip_h1_title": false,
   "title_cell": "Table of Contents",
   "title_sidebar": "Contents",
   "toc_cell": false,
   "toc_position": {
    "height": "calc(100% - 180px)",
    "left": "10px",
    "top": "150px",
    "width": "225px"
   },
   "toc_section_display": true,
   "toc_window_display": true
  }
 },
 "nbformat": 4,
 "nbformat_minor": 5
}
