{
 "cells": [
  {
   "cell_type": "code",
   "execution_count": 2,
   "id": "a5f93e5c",
   "metadata": {
    "ExecuteTime": {
     "end_time": "2024-12-24T05:40:45.379041Z",
     "start_time": "2024-12-24T05:40:45.367073Z"
    }
   },
   "outputs": [
    {
     "data": {
      "image/png": "[encoded data removed]",
      "text/plain": [
       "<PIL.PngImagePlugin.PngImageFile image mode=RGBA size=28x28>"
      ]
     },
     "metadata": {},
     "output_type": "display_data"
    },
    {
     "data": {
      "text/plain": [
       "(28, 28, 4)"
      ]
     },
     "execution_count": 2,
     "metadata": {},
     "output_type": "execute_result"
    }
   ],
   "source": [
    "from PIL import Image\n",
    "import numpy as np\n",
    "c0 = Image.open('data/test/0/1.png')\n",
    "display(c0)\n",
    "c0_numpy = np.array(c0)\n",
    "c0_numpy.shape"
   ]
  },
  {
   "cell_type": "code",
   "execution_count": 4,
   "id": "f899dfcd",
   "metadata": {
    "ExecuteTime": {
     "end_time": "2024-12-24T05:41:47.148738Z",
     "start_time": "2024-12-24T05:41:47.142759Z"
    }
   },
   "outputs": [
    {
     "data": {
      "text/plain": [
       "(28, 28, 3)"
      ]
     },
     "execution_count": 4,
     "metadata": {},
     "output_type": "execute_result"
    }
   ],
   "source": [
    "c0_numpy[:,:,:-1].shape"
   ]
  },
  {
   "cell_type": "markdown",
   "id": "f70a7dea",
   "metadata": {},
   "source": [
    "# 1. CNN"
   ]
  },
  {
   "cell_type": "code",
   "execution_count": 5,
   "id": "6dac2a78",
   "metadata": {
    "ExecuteTime": {
     "end_time": "2024-12-24T05:47:15.027968Z",
     "start_time": "2024-12-24T05:47:15.022954Z"
    }
   },
   "outputs": [],
   "source": [
    "import numpy as np\n",
    "from tensorflow.keras.preprocessing.image import ImageDataGenerator\n",
    "from tensorflow.keras.models import Sequential\n",
    "from tensorflow.keras.layers import Conv2D, MaxPooling2D, Flatten, Dense, Dropout\n",
    "from PIL import Image\n",
    "np.random.seed(3)"
   ]
  },
  {
   "cell_type": "code",
   "execution_count": 6,
   "id": "a8c24643",
   "metadata": {
    "ExecuteTime": {
     "end_time": "2024-12-24T05:49:55.705582Z",
     "start_time": "2024-12-24T05:49:55.687630Z"
    }
   },
   "outputs": [
    {
     "data": {
      "text/plain": [
       "(24, 24, 4)"
      ]
     },
     "execution_count": 6,
     "metadata": {},
     "output_type": "execute_result"
    }
   ],
   "source": [
    "circle = Image.open('data/handwriting/handwriting_shape/train/circle/circle001.png')\n",
    "np.array(circle).shape\n",
    "# 모든 이미지의 shape이 같을 필요는 없음"
   ]
  },
  {
   "cell_type": "code",
   "execution_count": 9,
   "id": "afb907ad",
   "metadata": {
    "ExecuteTime": {
     "end_time": "2024-12-24T06:18:46.280166Z",
     "start_time": "2024-12-24T06:18:46.255134Z"
    }
   },
   "outputs": [
    {
     "name": "stdout",
     "output_type": "stream",
     "text": [
      "Found 45 images belonging to 3 classes.\n",
      "Found 15 images belonging to 3 classes.\n"
     ]
    }
   ],
   "source": [
    "# 1. 데이터 생성하기 학습훈련셋 : data/handwriting/handwriting_shape/train/*\n",
    "#                      테스트셋 : data/handwriting/handwriting_shape/test/*\n",
    "train_datagen = ImageDataGenerator(rescale=1/255.)\n",
    "train_data = train_datagen.flow_from_directory(\n",
    "    'data/handwriting/handwriting_shape/train/', # train 아래 폴더명이 라벨\n",
    "    target_size=(24,24), # 넘파이 배열의 이미지 크기 조정\n",
    "    class_mode='categorical', # 원핫인코딩 형식으로 반환\n",
    "    batch_size=3,  # 한번에 반환할 이미지와 라벨 수\n",
    ")\n",
    "test_datagen = ImageDataGenerator(rescale=1/255.)\n",
    "test_data = test_datagen.flow_from_directory(\n",
    "    'data/handwriting/handwriting_shape/test/',\n",
    "    target_size=(24,24),\n",
    "    class_mode='categorical',\n",
    "    batch_size=3,\n",
    "    shuffle=False # 이미지와 라벨 순서가 고정\n",
    ")"
   ]
  },
  {
   "cell_type": "code",
   "execution_count": 10,
   "id": "f2a9cc16",
   "metadata": {
    "ExecuteTime": {
     "end_time": "2024-12-24T06:18:47.148319Z",
     "start_time": "2024-12-24T06:18:47.143331Z"
    }
   },
   "outputs": [
    {
     "data": {
      "text/plain": [
       "<keras.preprocessing.image.DirectoryIterator at 0x1f9652478e0>"
      ]
     },
     "execution_count": 10,
     "metadata": {},
     "output_type": "execute_result"
    }
   ],
   "source": [
    "test_data"
   ]
  },
  {
   "cell_type": "code",
   "execution_count": 12,
   "id": "4414a925",
   "metadata": {
    "ExecuteTime": {
     "end_time": "2024-12-24T06:20:19.151863Z",
     "start_time": "2024-12-24T06:20:19.138870Z"
    }
   },
   "outputs": [
    {
     "data": {
      "text/plain": [
       "(array([[[[1.       , 1.       , 1.       ],\n",
       "          [1.       , 1.       , 1.       ],\n",
       "          [1.       , 1.       , 1.       ],\n",
       "          ...,\n",
       "          [1.       , 1.       , 1.       ],\n",
       "          [1.       , 1.       , 1.       ],\n",
       "          [1.       , 1.       , 1.       ]],\n",
       " \n",
       "         [[1.       , 1.       , 1.       ],\n",
       "          [1.       , 1.       , 1.       ],\n",
       "          [1.       , 1.       , 1.       ],\n",
       "          ...,\n",
       "          [1.       , 1.       , 1.       ],\n",
       "          [1.       , 1.       , 1.       ],\n",
       "          [1.       , 1.       , 1.       ]],\n",
       " \n",
       "         [[1.       , 1.       , 1.       ],\n",
       "          [1.       , 1.       , 1.       ],\n",
       "          [1.       , 1.       , 1.       ],\n",
       "          ...,\n",
       "          [1.       , 1.       , 1.       ],\n",
       "          [1.       , 1.       , 1.       ],\n",
       "          [1.       , 1.       , 1.       ]],\n",
       " \n",
       "         ...,\n",
       " \n",
       "         [[1.       , 1.       , 1.       ],\n",
       "          [1.       , 1.       , 1.       ],\n",
       "          [1.       , 1.       , 1.       ],\n",
       "          ...,\n",
       "          [1.       , 1.       , 1.       ],\n",
       "          [1.       , 1.       , 1.       ],\n",
       "          [1.       , 1.       , 1.       ]],\n",
       " \n",
       "         [[1.       , 1.       , 1.       ],\n",
       "          [1.       , 1.       , 1.       ],\n",
       "          [1.       , 1.       , 1.       ],\n",
       "          ...,\n",
       "          [1.       , 1.       , 1.       ],\n",
       "          [1.       , 1.       , 1.       ],\n",
       "          [1.       , 1.       , 1.       ]],\n",
       " \n",
       "         [[1.       , 1.       , 1.       ],\n",
       "          [1.       , 1.       , 1.       ],\n",
       "          [1.       , 1.       , 1.       ],\n",
       "          ...,\n",
       "          [1.       , 1.       , 1.       ],\n",
       "          [1.       , 1.       , 1.       ],\n",
       "          [1.       , 1.       , 1.       ]]],\n",
       " \n",
       " \n",
       "        [[[1.       , 1.       , 1.       ],\n",
       "          [1.       , 1.       , 1.       ],\n",
       "          [1.       , 1.       , 1.       ],\n",
       "          ...,\n",
       "          [1.       , 1.       , 1.       ],\n",
       "          [1.       , 1.       , 1.       ],\n",
       "          [1.       , 1.       , 1.       ]],\n",
       " \n",
       "         [[1.       , 1.       , 1.       ],\n",
       "          [1.       , 1.       , 1.       ],\n",
       "          [1.       , 1.       , 1.       ],\n",
       "          ...,\n",
       "          [1.       , 1.       , 1.       ],\n",
       "          [1.       , 1.       , 1.       ],\n",
       "          [1.       , 1.       , 1.       ]],\n",
       " \n",
       "         [[1.       , 1.       , 1.       ],\n",
       "          [1.       , 1.       , 1.       ],\n",
       "          [1.       , 1.       , 1.       ],\n",
       "          ...,\n",
       "          [1.       , 1.       , 1.       ],\n",
       "          [1.       , 1.       , 1.       ],\n",
       "          [1.       , 1.       , 1.       ]],\n",
       " \n",
       "         ...,\n",
       " \n",
       "         [[1.       , 1.       , 1.       ],\n",
       "          [1.       , 1.       , 1.       ],\n",
       "          [1.       , 1.       , 1.       ],\n",
       "          ...,\n",
       "          [1.       , 1.       , 1.       ],\n",
       "          [1.       , 1.       , 1.       ],\n",
       "          [1.       , 1.       , 1.       ]],\n",
       " \n",
       "         [[1.       , 1.       , 1.       ],\n",
       "          [1.       , 1.       , 1.       ],\n",
       "          [1.       , 1.       , 1.       ],\n",
       "          ...,\n",
       "          [1.       , 1.       , 1.       ],\n",
       "          [1.       , 1.       , 1.       ],\n",
       "          [1.       , 1.       , 1.       ]],\n",
       " \n",
       "         [[1.       , 1.       , 1.       ],\n",
       "          [1.       , 1.       , 1.       ],\n",
       "          [1.       , 1.       , 1.       ],\n",
       "          ...,\n",
       "          [1.       , 1.       , 1.       ],\n",
       "          [1.       , 1.       , 1.       ],\n",
       "          [1.       , 1.       , 1.       ]]],\n",
       " \n",
       " \n",
       "        [[[1.       , 1.       , 1.       ],\n",
       "          [1.       , 1.       , 1.       ],\n",
       "          [1.       , 1.       , 1.       ],\n",
       "          ...,\n",
       "          [1.       , 1.       , 1.       ],\n",
       "          [1.       , 1.       , 1.       ],\n",
       "          [1.       , 1.       , 1.       ]],\n",
       " \n",
       "         [[1.       , 1.       , 1.       ],\n",
       "          [1.       , 1.       , 1.       ],\n",
       "          [1.       , 1.       , 1.       ],\n",
       "          ...,\n",
       "          [1.       , 1.       , 1.       ],\n",
       "          [1.       , 1.       , 1.       ],\n",
       "          [1.       , 1.       , 1.       ]],\n",
       " \n",
       "         [[1.       , 1.       , 1.       ],\n",
       "          [1.       , 1.       , 1.       ],\n",
       "          [0.7843138, 0.7843138, 0.7843138],\n",
       "          ...,\n",
       "          [1.       , 1.       , 1.       ],\n",
       "          [1.       , 1.       , 1.       ],\n",
       "          [1.       , 1.       , 1.       ]],\n",
       " \n",
       "         ...,\n",
       " \n",
       "         [[1.       , 1.       , 1.       ],\n",
       "          [1.       , 1.       , 1.       ],\n",
       "          [0.9450981, 0.9450981, 0.9450981],\n",
       "          ...,\n",
       "          [1.       , 1.       , 1.       ],\n",
       "          [1.       , 1.       , 1.       ],\n",
       "          [1.       , 1.       , 1.       ]],\n",
       " \n",
       "         [[1.       , 1.       , 1.       ],\n",
       "          [1.       , 1.       , 1.       ],\n",
       "          [1.       , 1.       , 1.       ],\n",
       "          ...,\n",
       "          [1.       , 1.       , 1.       ],\n",
       "          [1.       , 1.       , 1.       ],\n",
       "          [1.       , 1.       , 1.       ]],\n",
       " \n",
       "         [[1.       , 1.       , 1.       ],\n",
       "          [1.       , 1.       , 1.       ],\n",
       "          [1.       , 1.       , 1.       ],\n",
       "          ...,\n",
       "          [1.       , 1.       , 1.       ],\n",
       "          [1.       , 1.       , 1.       ],\n",
       "          [1.       , 1.       , 1.       ]]]], dtype=float32),\n",
       " array([[1., 0., 0.],\n",
       "        [1., 0., 0.],\n",
       "        [0., 1., 0.]], dtype=float32))"
      ]
     },
     "execution_count": 12,
     "metadata": {},
     "output_type": "execute_result"
    }
   ],
   "source": [
    "X_images, Y_labels = next(test_data) # 한 배치사이즈만큼만 데이터를 가져옴\n",
    "X_images, Y_labels"
   ]
  },
  {
   "cell_type": "code",
   "execution_count": 14,
   "id": "193112af",
   "metadata": {
    "ExecuteTime": {
     "end_time": "2024-12-24T06:23:18.075849Z",
     "start_time": "2024-12-24T06:23:18.070842Z"
    }
   },
   "outputs": [
    {
     "name": "stdout",
     "output_type": "stream",
     "text": [
      "데이터 전체수 : 15\n",
      "batch_size : 3\n"
     ]
    }
   ],
   "source": [
    "print('데이터 전체수 :', test_data.n)\n",
    "print('batch_size :', test_data.batch_size)"
   ]
  },
  {
   "cell_type": "code",
   "execution_count": 17,
   "id": "9edbce9b",
   "metadata": {
    "ExecuteTime": {
     "end_time": "2024-12-24T06:29:33.119701Z",
     "start_time": "2024-12-24T06:29:33.102747Z"
    }
   },
   "outputs": [
    {
     "data": {
      "text/plain": [
       "((15, 24, 24, 3), (15, 3))"
      ]
     },
     "execution_count": 17,
     "metadata": {},
     "output_type": "execute_result"
    }
   ],
   "source": [
    "# 전체가져오기\n",
    "all_images = [] # 독립변수\n",
    "all_labels = [] # 종속변수\n",
    "\n",
    "for images, labels in test_data:\n",
    "    all_images.append(images)\n",
    "    all_labels.append(labels)\n",
    "    if len(all_images) * test_data.batch_size >= test_data.n:\n",
    "        break\n",
    "\n",
    "X_test_images = np.concatenate(all_images)\n",
    "Y_test_labels = np.concatenate(all_labels)\n",
    "\n",
    "X_test_images.shape, Y_test_labels.shape"
   ]
  },
  {
   "cell_type": "code",
   "execution_count": 36,
   "id": "a426e6f2",
   "metadata": {
    "ExecuteTime": {
     "end_time": "2024-12-24T06:44:38.256544Z",
     "start_time": "2024-12-24T06:44:38.171839Z"
    }
   },
   "outputs": [
    {
     "name": "stdout",
     "output_type": "stream",
     "text": [
      "Model: \"sequential_3\"\n",
      "_________________________________________________________________\n",
      " Layer (type)                Output Shape              Param #   \n",
      "=================================================================\n",
      " conv2d_6 (Conv2D)           (None, 22, 22, 32)        896       \n",
      "                                                                 \n",
      " conv2d_7 (Conv2D)           (None, 20, 20, 64)        18496     \n",
      "                                                                 \n",
      " max_pooling2d_3 (MaxPooling  (None, 10, 10, 64)       0         \n",
      " 2D)                                                             \n",
      "                                                                 \n",
      " flatten_3 (Flatten)         (None, 6400)              0         \n",
      "                                                                 \n",
      " dense_6 (Dense)             (None, 128)               819328    \n",
      "                                                                 \n",
      " dense_7 (Dense)             (None, 3)                 387       \n",
      "                                                                 \n",
      "=================================================================\n",
      "Total params: 839,107\n",
      "Trainable params: 839,107\n",
      "Non-trainable params: 0\n",
      "_________________________________________________________________\n"
     ]
    }
   ],
   "source": [
    "# 2. 모델 구성\n",
    "model = Sequential()\n",
    "\n",
    "model.add(Conv2D(32, kernel_size=(3,3), activation='relu', input_shape=(24,24,3)))\n",
    "model.add(Conv2D(64, kernel_size=(3,3), activation='relu'))\n",
    "model.add(MaxPooling2D(pool_size=(2,2)))\n",
    "model.add(Flatten())\n",
    "model.add(Dense(units=128, activation='relu'))\n",
    "model.add(Dense(units=3, activation='softmax'))\n",
    "\n",
    "model.summary()"
   ]
  },
  {
   "cell_type": "code",
   "execution_count": 37,
   "id": "c6631a48",
   "metadata": {
    "ExecuteTime": {
     "end_time": "2024-12-24T06:44:46.174909Z",
     "start_time": "2024-12-24T06:44:38.930340Z"
    },
    "scrolled": true
   },
   "outputs": [
    {
     "name": "stdout",
     "output_type": "stream",
     "text": [
      "Epoch 1/50\n",
      "15/15 [==============================] - 1s 24ms/step - loss: 1.4052 - accuracy: 0.2667 - val_loss: 0.8604 - val_accuracy: 0.8667\n",
      "Epoch 2/50\n",
      "15/15 [==============================] - 0s 14ms/step - loss: 0.4221 - accuracy: 0.9333 - val_loss: 0.1205 - val_accuracy: 1.0000\n",
      "Epoch 3/50\n",
      "15/15 [==============================] - 0s 15ms/step - loss: 0.0287 - accuracy: 1.0000 - val_loss: 0.0340 - val_accuracy: 1.0000\n",
      "Epoch 4/50\n",
      "15/15 [==============================] - 0s 8ms/step - loss: 0.0021 - accuracy: 1.0000 - val_loss: 0.0180 - val_accuracy: 1.0000\n",
      "Epoch 5/50\n",
      "15/15 [==============================] - 0s 7ms/step - loss: 7.9568e-04 - accuracy: 1.0000 - val_loss: 0.0133 - val_accuracy: 1.0000\n",
      "Epoch 6/50\n",
      "15/15 [==============================] - 0s 7ms/step - loss: 5.1945e-04 - accuracy: 1.0000 - val_loss: 0.0148 - val_accuracy: 1.0000\n",
      "Epoch 7/50\n",
      "15/15 [==============================] - 0s 7ms/step - loss: 3.7141e-04 - accuracy: 1.0000 - val_loss: 0.0127 - val_accuracy: 1.0000\n",
      "Epoch 8/50\n",
      "15/15 [==============================] - 0s 7ms/step - loss: 3.0979e-04 - accuracy: 1.0000 - val_loss: 0.0093 - val_accuracy: 1.0000\n",
      "Epoch 9/50\n",
      "15/15 [==============================] - 0s 7ms/step - loss: 2.4591e-04 - accuracy: 1.0000 - val_loss: 0.0106 - val_accuracy: 1.0000\n",
      "Epoch 10/50\n",
      "15/15 [==============================] - 0s 7ms/step - loss: 2.1091e-04 - accuracy: 1.0000 - val_loss: 0.0092 - val_accuracy: 1.0000\n",
      "Epoch 11/50\n",
      "15/15 [==============================] - 0s 7ms/step - loss: 1.5508e-04 - accuracy: 1.0000 - val_loss: 0.0115 - val_accuracy: 1.0000\n",
      "Epoch 12/50\n",
      "15/15 [==============================] - 0s 7ms/step - loss: 1.3251e-04 - accuracy: 1.0000 - val_loss: 0.0104 - val_accuracy: 1.0000\n",
      "Epoch 13/50\n",
      "15/15 [==============================] - 0s 7ms/step - loss: 9.6218e-05 - accuracy: 1.0000 - val_loss: 0.0106 - val_accuracy: 1.0000\n",
      "Epoch 14/50\n",
      "15/15 [==============================] - 0s 7ms/step - loss: 7.5387e-05 - accuracy: 1.0000 - val_loss: 0.0099 - val_accuracy: 1.0000\n",
      "Epoch 15/50\n",
      "15/15 [==============================] - 0s 7ms/step - loss: 5.9561e-05 - accuracy: 1.0000 - val_loss: 0.0104 - val_accuracy: 1.0000\n",
      "Epoch 16/50\n",
      "15/15 [==============================] - 0s 7ms/step - loss: 4.9215e-05 - accuracy: 1.0000 - val_loss: 0.0087 - val_accuracy: 1.0000\n",
      "Epoch 17/50\n",
      "15/15 [==============================] - 0s 7ms/step - loss: 3.9208e-05 - accuracy: 1.0000 - val_loss: 0.0107 - val_accuracy: 1.0000\n",
      "Epoch 18/50\n",
      "15/15 [==============================] - 0s 6ms/step - loss: 3.0550e-05 - accuracy: 1.0000 - val_loss: 0.0086 - val_accuracy: 1.0000\n",
      "Epoch 19/50\n",
      "15/15 [==============================] - 0s 7ms/step - loss: 2.6670e-05 - accuracy: 1.0000 - val_loss: 0.0085 - val_accuracy: 1.0000\n",
      "Epoch 20/50\n",
      "15/15 [==============================] - 0s 7ms/step - loss: 2.1560e-05 - accuracy: 1.0000 - val_loss: 0.0097 - val_accuracy: 1.0000\n",
      "Epoch 21/50\n",
      "15/15 [==============================] - 0s 6ms/step - loss: 1.8816e-05 - accuracy: 1.0000 - val_loss: 0.0087 - val_accuracy: 1.0000\n",
      "Epoch 22/50\n",
      "15/15 [==============================] - 0s 7ms/step - loss: 1.6509e-05 - accuracy: 1.0000 - val_loss: 0.0081 - val_accuracy: 1.0000\n",
      "Epoch 23/50\n",
      "15/15 [==============================] - 0s 7ms/step - loss: 1.3942e-05 - accuracy: 1.0000 - val_loss: 0.0085 - val_accuracy: 1.0000\n",
      "Epoch 24/50\n",
      "15/15 [==============================] - 0s 7ms/step - loss: 1.2617e-05 - accuracy: 1.0000 - val_loss: 0.0087 - val_accuracy: 1.0000\n",
      "Epoch 25/50\n",
      "15/15 [==============================] - 0s 7ms/step - loss: 1.1242e-05 - accuracy: 1.0000 - val_loss: 0.0085 - val_accuracy: 1.0000\n",
      "Epoch 26/50\n",
      "15/15 [==============================] - 0s 7ms/step - loss: 1.0082e-05 - accuracy: 1.0000 - val_loss: 0.0083 - val_accuracy: 1.0000\n",
      "Epoch 27/50\n",
      "15/15 [==============================] - 0s 7ms/step - loss: 9.2504e-06 - accuracy: 1.0000 - val_loss: 0.0082 - val_accuracy: 1.0000\n",
      "Epoch 28/50\n",
      "15/15 [==============================] - 0s 8ms/step - loss: 8.3683e-06 - accuracy: 1.0000 - val_loss: 0.0082 - val_accuracy: 1.0000\n",
      "Epoch 29/50\n",
      "15/15 [==============================] - 0s 9ms/step - loss: 7.7379e-06 - accuracy: 1.0000 - val_loss: 0.0081 - val_accuracy: 1.0000\n",
      "Epoch 30/50\n",
      "15/15 [==============================] - 0s 7ms/step - loss: 7.1286e-06 - accuracy: 1.0000 - val_loss: 0.0083 - val_accuracy: 1.0000\n",
      "Epoch 31/50\n",
      "15/15 [==============================] - 0s 7ms/step - loss: 6.6067e-06 - accuracy: 1.0000 - val_loss: 0.0087 - val_accuracy: 1.0000\n",
      "Epoch 32/50\n",
      "15/15 [==============================] - 0s 7ms/step - loss: 6.2385e-06 - accuracy: 1.0000 - val_loss: 0.0078 - val_accuracy: 1.0000\n",
      "Epoch 33/50\n",
      "15/15 [==============================] - 0s 8ms/step - loss: 5.7299e-06 - accuracy: 1.0000 - val_loss: 0.0085 - val_accuracy: 1.0000\n",
      "Epoch 34/50\n",
      "15/15 [==============================] - 0s 7ms/step - loss: 5.3246e-06 - accuracy: 1.0000 - val_loss: 0.0087 - val_accuracy: 1.0000\n",
      "Epoch 35/50\n",
      "15/15 [==============================] - 0s 7ms/step - loss: 5.1021e-06 - accuracy: 1.0000 - val_loss: 0.0081 - val_accuracy: 1.0000\n",
      "Epoch 36/50\n",
      "15/15 [==============================] - 0s 8ms/step - loss: 4.6729e-06 - accuracy: 1.0000 - val_loss: 0.0086 - val_accuracy: 1.0000\n",
      "Epoch 37/50\n",
      "15/15 [==============================] - 0s 7ms/step - loss: 4.4716e-06 - accuracy: 1.0000 - val_loss: 0.0089 - val_accuracy: 1.0000\n",
      "Epoch 38/50\n",
      "15/15 [==============================] - 0s 7ms/step - loss: 4.2306e-06 - accuracy: 1.0000 - val_loss: 0.0080 - val_accuracy: 1.0000\n",
      "Epoch 39/50\n",
      "15/15 [==============================] - 0s 7ms/step - loss: 3.9789e-06 - accuracy: 1.0000 - val_loss: 0.0082 - val_accuracy: 1.0000\n",
      "Epoch 40/50\n",
      "15/15 [==============================] - 0s 8ms/step - loss: 3.7511e-06 - accuracy: 1.0000 - val_loss: 0.0087 - val_accuracy: 1.0000\n",
      "Epoch 41/50\n",
      "15/15 [==============================] - 0s 7ms/step - loss: 3.6398e-06 - accuracy: 1.0000 - val_loss: 0.0083 - val_accuracy: 1.0000\n",
      "Epoch 42/50\n",
      "15/15 [==============================] - 0s 8ms/step - loss: 3.3643e-06 - accuracy: 1.0000 - val_loss: 0.0086 - val_accuracy: 1.0000\n",
      "Epoch 43/50\n",
      "15/15 [==============================] - 0s 7ms/step - loss: 3.3219e-06 - accuracy: 1.0000 - val_loss: 0.0091 - val_accuracy: 1.0000\n",
      "Epoch 44/50\n",
      "15/15 [==============================] - 0s 7ms/step - loss: 3.1577e-06 - accuracy: 1.0000 - val_loss: 0.0083 - val_accuracy: 1.0000\n",
      "Epoch 45/50\n",
      "15/15 [==============================] - 0s 7ms/step - loss: 2.9670e-06 - accuracy: 1.0000 - val_loss: 0.0084 - val_accuracy: 1.0000\n",
      "Epoch 46/50\n",
      "15/15 [==============================] - 0s 7ms/step - loss: 2.8292e-06 - accuracy: 1.0000 - val_loss: 0.0091 - val_accuracy: 1.0000\n",
      "Epoch 47/50\n",
      "15/15 [==============================] - 0s 10ms/step - loss: 2.6729e-06 - accuracy: 1.0000 - val_loss: 0.0089 - val_accuracy: 1.0000\n",
      "Epoch 48/50\n",
      "15/15 [==============================] - 0s 9ms/step - loss: 2.5881e-06 - accuracy: 1.0000 - val_loss: 0.0088 - val_accuracy: 1.0000\n",
      "Epoch 49/50\n",
      "15/15 [==============================] - 0s 9ms/step - loss: 2.4769e-06 - accuracy: 1.0000 - val_loss: 0.0090 - val_accuracy: 1.0000\n",
      "Epoch 50/50\n",
      "15/15 [==============================] - 0s 9ms/step - loss: 2.3603e-06 - accuracy: 1.0000 - val_loss: 0.0089 - val_accuracy: 1.0000\n"
     ]
    },
    {
     "data": {
      "text/plain": [
       "<keras.callbacks.History at 0x1f9dc636980>"
      ]
     },
     "execution_count": 37,
     "metadata": {},
     "output_type": "execute_result"
    }
   ],
   "source": [
    "# 3. 학습설정\n",
    "model.compile(loss='categorical_crossentropy', optimizer='adam', metrics=['accuracy'])\n",
    "\n",
    "# 4. 학습시키기\n",
    "model.fit(train_data, epochs=50, validation_data=test_data)"
   ]
  },
  {
   "cell_type": "code",
   "execution_count": 38,
   "id": "6e00a9c0",
   "metadata": {
    "ExecuteTime": {
     "end_time": "2024-12-24T06:45:36.275066Z",
     "start_time": "2024-12-24T06:45:36.160284Z"
    }
   },
   "outputs": [
    {
     "name": "stdout",
     "output_type": "stream",
     "text": [
      "5/5 [==============================] - 0s 4ms/step - loss: 0.0089 - accuracy: 1.0000\n",
      "loss : 0.0089033804833889\n",
      "정확도 : 100.0 %\n"
     ]
    }
   ],
   "source": [
    "# 모델평가하기\n",
    "loss, accuracy = model.evaluate(test_data)\n",
    "print('loss :', loss)\n",
    "print('정확도 :', accuracy*100,'%')"
   ]
  },
  {
   "cell_type": "code",
   "execution_count": 48,
   "id": "c069e627",
   "metadata": {
    "ExecuteTime": {
     "end_time": "2024-12-24T06:50:13.299921Z",
     "start_time": "2024-12-24T06:50:13.206072Z"
    }
   },
   "outputs": [
    {
     "name": "stdout",
     "output_type": "stream",
     "text": [
      "5/5 [==============================] - 0s 4ms/step\n"
     ]
    },
    {
     "data": {
      "text/plain": [
       "array([0, 0, 0, 0, 0, 1, 1, 1, 1, 1, 2, 2, 2, 2, 2], dtype=int64)"
      ]
     },
     "execution_count": 48,
     "metadata": {},
     "output_type": "execute_result"
    }
   ],
   "source": [
    "# 예측하기\n",
    "y_hat = model.predict(test_data)\n",
    "y_hat.argmax(axis=1)"
   ]
  },
  {
   "cell_type": "code",
   "execution_count": 49,
   "id": "d7680c34",
   "metadata": {
    "ExecuteTime": {
     "end_time": "2024-12-24T06:50:18.484750Z",
     "start_time": "2024-12-24T06:50:18.478738Z"
    }
   },
   "outputs": [
    {
     "data": {
      "text/plain": [
       "array([[1.00, 0.00, 0.00],\n",
       "       [1.00, 0.00, 0.00],\n",
       "       [1.00, 0.00, 0.00],\n",
       "       [1.00, 0.00, 0.00],\n",
       "       [1.00, 0.00, 0.00],\n",
       "       [0.00, 1.00, 0.00],\n",
       "       [0.00, 1.00, 0.00],\n",
       "       [0.00, 1.00, 0.00],\n",
       "       [0.00, 1.00, 0.00],\n",
       "       [0.07, 0.88, 0.05],\n",
       "       [0.00, 0.00, 1.00],\n",
       "       [0.00, 0.00, 1.00],\n",
       "       [0.00, 0.01, 0.99],\n",
       "       [0.00, 0.00, 1.00],\n",
       "       [0.00, 0.00, 1.00]], dtype=float32)"
      ]
     },
     "execution_count": 49,
     "metadata": {},
     "output_type": "execute_result"
    }
   ],
   "source": [
    "np.set_printoptions(formatter={'float':lambda x: '{:.2f}'.format(x)})\n",
    "y_hat"
   ]
  },
  {
   "cell_type": "code",
   "execution_count": 45,
   "id": "d67f6f5b",
   "metadata": {
    "ExecuteTime": {
     "end_time": "2024-12-24T06:47:51.736994Z",
     "start_time": "2024-12-24T06:47:51.731011Z"
    }
   },
   "outputs": [
    {
     "data": {
      "text/plain": [
       "array([0, 0, 0, 0, 0, 1, 1, 1, 1, 1, 2, 2, 2, 2, 2])"
      ]
     },
     "execution_count": 45,
     "metadata": {},
     "output_type": "execute_result"
    }
   ],
   "source": [
    "# 실제데이터\n",
    "test_data.labels"
   ]
  },
  {
   "cell_type": "markdown",
   "id": "391b7d5b",
   "metadata": {},
   "source": [
    "# 2. 데이터 증강을 통한 CNN accuracy 올리기\n",
    "- 데이터 추가 확보\n",
    "- 이미지 데이터를 증강(데이터 부풀리기) : train set에서만\n",
    "- 레이어층(Conv2D, MaxPooling, 배치정규화, Dense)\n",
    "- 활성화함수, 옵티마이저, Dropoyt(과적합 다소 해결)"
   ]
  },
  {
   "cell_type": "code",
   "execution_count": 55,
   "id": "745d285d",
   "metadata": {
    "ExecuteTime": {
     "end_time": "2024-12-24T07:22:08.386250Z",
     "start_time": "2024-12-24T07:22:08.362284Z"
    }
   },
   "outputs": [
    {
     "name": "stdout",
     "output_type": "stream",
     "text": [
      "Found 45 images belonging to 3 classes.\n",
      "Found 15 images belonging to 3 classes.\n"
     ]
    }
   ],
   "source": [
    "# 1. 데이터 생성\n",
    "train_datagen = ImageDataGenerator(rescale=1/255.,\n",
    "                                   rotation_range=10, # 이미지를 최대 +10~-10도 회전\n",
    "                                   width_shift_range=0.2, # 가로 방향으로 최대 20% 이동\n",
    "                                   height_shift_range=0.2, # 세로 방향으로 최대 20% 이동\n",
    "                                   shear_range=0.7, # 최대 0.7라디안(40도정도)으로 이미지 밀림\n",
    "                                   zoom_range=[0.9,1.5], # 90~150%크기로 확대/축소\n",
    "                                   fill_mode='nearest', # 이미지 확대시 채우는 방식\n",
    "                                   horizontal_flip=True, # 좌우반전\n",
    "                                   vertical_flip=True, # 상하반전\n",
    "                                  )\n",
    "train_data = train_datagen.flow_from_directory(\n",
    "    'data/handwriting/handwriting_shape/train/',\n",
    "    target_size=(24,24),\n",
    "    class_mode='categorical',\n",
    "    batch_size=3\n",
    ")\n",
    "\n",
    "test_datagen = ImageDataGenerator(rescale=1/255.)\n",
    "test_data = test_datagen.flow_from_directory(\n",
    "    'data/handwriting/handwriting_shape/test/',\n",
    "    target_size=(24,24),\n",
    "    class_mode='categorical',\n",
    "    batch_size=3\n",
    ")"
   ]
  },
  {
   "cell_type": "code",
   "execution_count": 56,
   "id": "8f972376",
   "metadata": {
    "ExecuteTime": {
     "end_time": "2024-12-24T07:22:08.871593Z",
     "start_time": "2024-12-24T07:22:08.762382Z"
    }
   },
   "outputs": [
    {
     "name": "stdout",
     "output_type": "stream",
     "text": [
      "Model: \"sequential_5\"\n",
      "_________________________________________________________________\n",
      " Layer (type)                Output Shape              Param #   \n",
      "=================================================================\n",
      " conv2d_12 (Conv2D)          (None, 22, 22, 64)        1792      \n",
      "                                                                 \n",
      " conv2d_13 (Conv2D)          (None, 20, 20, 64)        36928     \n",
      "                                                                 \n",
      " max_pooling2d_6 (MaxPooling  (None, 10, 10, 64)       0         \n",
      " 2D)                                                             \n",
      "                                                                 \n",
      " dropout_2 (Dropout)         (None, 10, 10, 64)        0         \n",
      "                                                                 \n",
      " conv2d_14 (Conv2D)          (None, 8, 8, 64)          36928     \n",
      "                                                                 \n",
      " conv2d_15 (Conv2D)          (None, 6, 6, 64)          36928     \n",
      "                                                                 \n",
      " max_pooling2d_7 (MaxPooling  (None, 3, 3, 64)         0         \n",
      " 2D)                                                             \n",
      "                                                                 \n",
      " dropout_3 (Dropout)         (None, 3, 3, 64)          0         \n",
      "                                                                 \n",
      " flatten_5 (Flatten)         (None, 576)               0         \n",
      "                                                                 \n",
      " dense_10 (Dense)            (None, 128)               73856     \n",
      "                                                                 \n",
      " dense_11 (Dense)            (None, 3)                 387       \n",
      "                                                                 \n",
      "=================================================================\n",
      "Total params: 186,819\n",
      "Trainable params: 186,819\n",
      "Non-trainable params: 0\n",
      "_________________________________________________________________\n"
     ]
    }
   ],
   "source": [
    "# 2. 모델 구성\n",
    "model = Sequential()\n",
    "\n",
    "model.add(Conv2D(64, kernel_size=(3,3), activation='relu', input_shape=(24,24,3)))\n",
    "model.add(Conv2D(64, kernel_size=(3,3), activation='relu'))\n",
    "model.add(MaxPooling2D(pool_size=(2,2)))\n",
    "model.add(Dropout(.2))\n",
    "\n",
    "model.add(Conv2D(64, kernel_size=(3,3), activation='relu'))\n",
    "model.add(Conv2D(64, kernel_size=(3,3), activation='relu'))\n",
    "model.add(MaxPooling2D(pool_size=(2,2)))\n",
    "model.add(Dropout(.2))\n",
    "\n",
    "model.add(Flatten())\n",
    "model.add(Dense(units=128, activation='relu'))\n",
    "model.add(Dense(units=3, activation='softmax'))\n",
    "\n",
    "model.summary()"
   ]
  },
  {
   "cell_type": "code",
   "execution_count": 60,
   "id": "151c7e94",
   "metadata": {
    "ExecuteTime": {
     "end_time": "2024-12-24T07:24:51.626788Z",
     "start_time": "2024-12-24T07:24:43.386198Z"
    },
    "scrolled": true
   },
   "outputs": [
    {
     "name": "stdout",
     "output_type": "stream",
     "text": [
      "Epoch 1/50\n",
      "15/15 [==============================] - 1s 26ms/step - loss: 0.0307 - accuracy: 0.9778 - val_loss: 1.7563e-06 - val_accuracy: 1.0000\n",
      "Epoch 2/50\n",
      "15/15 [==============================] - 0s 8ms/step - loss: 0.2124 - accuracy: 0.9778 - val_loss: 0.0021 - val_accuracy: 1.0000\n",
      "Epoch 3/50\n",
      "15/15 [==============================] - 0s 8ms/step - loss: 0.2382 - accuracy: 0.8889 - val_loss: 2.2146e-05 - val_accuracy: 1.0000\n",
      "Epoch 4/50\n",
      "15/15 [==============================] - 0s 8ms/step - loss: 0.0390 - accuracy: 0.9778 - val_loss: 1.5724e-04 - val_accuracy: 1.0000\n",
      "Epoch 5/50\n",
      "15/15 [==============================] - 0s 8ms/step - loss: 0.1654 - accuracy: 0.9556 - val_loss: 0.0163 - val_accuracy: 1.0000\n",
      "Epoch 6/50\n",
      "15/15 [==============================] - 0s 8ms/step - loss: 0.4785 - accuracy: 0.8667 - val_loss: 4.4024e-04 - val_accuracy: 1.0000\n",
      "Epoch 7/50\n",
      "15/15 [==============================] - 0s 8ms/step - loss: 0.0303 - accuracy: 0.9778 - val_loss: 2.2286e-04 - val_accuracy: 1.0000\n",
      "Epoch 8/50\n",
      "15/15 [==============================] - 0s 8ms/step - loss: 0.0224 - accuracy: 0.9778 - val_loss: 1.3805e-04 - val_accuracy: 1.0000\n",
      "Epoch 9/50\n",
      "15/15 [==============================] - 0s 8ms/step - loss: 0.0333 - accuracy: 1.0000 - val_loss: 6.8515e-05 - val_accuracy: 1.0000\n",
      "Epoch 10/50\n",
      "15/15 [==============================] - 0s 8ms/step - loss: 0.0335 - accuracy: 1.0000 - val_loss: 1.3065e-05 - val_accuracy: 1.0000\n",
      "Epoch 11/50\n",
      "15/15 [==============================] - 0s 8ms/step - loss: 0.1443 - accuracy: 0.9778 - val_loss: 3.7382e-05 - val_accuracy: 1.0000\n",
      "Epoch 12/50\n",
      "15/15 [==============================] - 0s 8ms/step - loss: 0.0025 - accuracy: 1.0000 - val_loss: 4.6110e-04 - val_accuracy: 1.0000\n",
      "Epoch 13/50\n",
      "15/15 [==============================] - 0s 8ms/step - loss: 0.0561 - accuracy: 0.9778 - val_loss: 2.7655e-05 - val_accuracy: 1.0000\n",
      "Epoch 14/50\n",
      "15/15 [==============================] - 0s 8ms/step - loss: 0.0608 - accuracy: 0.9778 - val_loss: 4.8968e-05 - val_accuracy: 1.0000\n",
      "Epoch 15/50\n",
      "15/15 [==============================] - 0s 8ms/step - loss: 0.0347 - accuracy: 0.9778 - val_loss: 3.4838e-05 - val_accuracy: 1.0000\n",
      "Epoch 16/50\n",
      "15/15 [==============================] - 0s 8ms/step - loss: 0.0948 - accuracy: 0.9778 - val_loss: 4.1517e-05 - val_accuracy: 1.0000\n",
      "Epoch 17/50\n",
      "15/15 [==============================] - 0s 8ms/step - loss: 0.0220 - accuracy: 0.9778 - val_loss: 9.6235e-05 - val_accuracy: 1.0000\n",
      "Epoch 18/50\n",
      "15/15 [==============================] - 0s 7ms/step - loss: 0.0616 - accuracy: 0.9778 - val_loss: 1.5965e-05 - val_accuracy: 1.0000\n",
      "Epoch 19/50\n",
      "15/15 [==============================] - 0s 9ms/step - loss: 0.0725 - accuracy: 0.9778 - val_loss: 0.0016 - val_accuracy: 1.0000\n",
      "Epoch 20/50\n",
      "15/15 [==============================] - 0s 9ms/step - loss: 0.0044 - accuracy: 1.0000 - val_loss: 1.9368e-04 - val_accuracy: 1.0000\n",
      "Epoch 21/50\n",
      "15/15 [==============================] - 0s 8ms/step - loss: 0.0094 - accuracy: 1.0000 - val_loss: 8.7659e-04 - val_accuracy: 1.0000\n",
      "Epoch 22/50\n",
      "15/15 [==============================] - 0s 9ms/step - loss: 0.0150 - accuracy: 1.0000 - val_loss: 1.3205e-04 - val_accuracy: 1.0000\n",
      "Epoch 23/50\n",
      "15/15 [==============================] - 0s 9ms/step - loss: 0.0055 - accuracy: 1.0000 - val_loss: 2.8060e-04 - val_accuracy: 1.0000\n",
      "Epoch 24/50\n",
      "15/15 [==============================] - 0s 8ms/step - loss: 0.0052 - accuracy: 1.0000 - val_loss: 7.1502e-04 - val_accuracy: 1.0000\n",
      "Epoch 25/50\n",
      "15/15 [==============================] - 0s 8ms/step - loss: 0.0082 - accuracy: 1.0000 - val_loss: 0.0056 - val_accuracy: 1.0000\n",
      "Epoch 26/50\n",
      "15/15 [==============================] - 0s 8ms/step - loss: 0.0037 - accuracy: 1.0000 - val_loss: 0.0051 - val_accuracy: 1.0000\n",
      "Epoch 27/50\n",
      "15/15 [==============================] - 0s 9ms/step - loss: 0.0086 - accuracy: 1.0000 - val_loss: 7.6521e-04 - val_accuracy: 1.0000\n",
      "Epoch 28/50\n",
      "15/15 [==============================] - 0s 8ms/step - loss: 0.0032 - accuracy: 1.0000 - val_loss: 2.1051e-05 - val_accuracy: 1.0000\n",
      "Epoch 29/50\n",
      "15/15 [==============================] - 0s 9ms/step - loss: 0.0110 - accuracy: 1.0000 - val_loss: 3.6398e-06 - val_accuracy: 1.0000\n",
      "Epoch 30/50\n",
      "15/15 [==============================] - 0s 8ms/step - loss: 0.0428 - accuracy: 0.9778 - val_loss: 1.4941e-06 - val_accuracy: 1.0000\n",
      "Epoch 31/50\n",
      "15/15 [==============================] - 0s 8ms/step - loss: 0.0014 - accuracy: 1.0000 - val_loss: 0.0020 - val_accuracy: 1.0000\n",
      "Epoch 32/50\n",
      "15/15 [==============================] - 0s 9ms/step - loss: 0.0032 - accuracy: 1.0000 - val_loss: 0.0027 - val_accuracy: 1.0000\n",
      "Epoch 33/50\n",
      "15/15 [==============================] - 0s 8ms/step - loss: 0.0124 - accuracy: 1.0000 - val_loss: 2.4929e-04 - val_accuracy: 1.0000\n",
      "Epoch 34/50\n",
      "15/15 [==============================] - 0s 8ms/step - loss: 0.0024 - accuracy: 1.0000 - val_loss: 0.0014 - val_accuracy: 1.0000\n",
      "Epoch 35/50\n",
      "15/15 [==============================] - 0s 8ms/step - loss: 0.0052 - accuracy: 1.0000 - val_loss: 0.0017 - val_accuracy: 1.0000\n",
      "Epoch 36/50\n",
      "15/15 [==============================] - 0s 8ms/step - loss: 0.2376 - accuracy: 0.9111 - val_loss: 0.0460 - val_accuracy: 1.0000\n",
      "Epoch 37/50\n",
      "15/15 [==============================] - 0s 8ms/step - loss: 0.0679 - accuracy: 0.9778 - val_loss: 5.5631e-07 - val_accuracy: 1.0000\n",
      "Epoch 38/50\n",
      "15/15 [==============================] - 0s 9ms/step - loss: 0.1577 - accuracy: 0.9111 - val_loss: 6.4329e-05 - val_accuracy: 1.0000\n",
      "Epoch 39/50\n",
      "15/15 [==============================] - 0s 11ms/step - loss: 0.3082 - accuracy: 0.9333 - val_loss: 1.2781e-04 - val_accuracy: 1.0000\n",
      "Epoch 40/50\n",
      "15/15 [==============================] - 0s 10ms/step - loss: 0.0273 - accuracy: 1.0000 - val_loss: 3.4632e-05 - val_accuracy: 1.0000\n",
      "Epoch 41/50\n",
      "15/15 [==============================] - 0s 11ms/step - loss: 0.0231 - accuracy: 0.9778 - val_loss: 0.0210 - val_accuracy: 1.0000\n",
      "Epoch 42/50\n",
      "15/15 [==============================] - 0s 10ms/step - loss: 0.3055 - accuracy: 0.8889 - val_loss: 0.0013 - val_accuracy: 1.0000\n",
      "Epoch 43/50\n",
      "15/15 [==============================] - 0s 10ms/step - loss: 0.0606 - accuracy: 0.9778 - val_loss: 0.2469 - val_accuracy: 0.8667\n",
      "Epoch 44/50\n",
      "15/15 [==============================] - 0s 11ms/step - loss: 0.1905 - accuracy: 0.9333 - val_loss: 3.8509e-05 - val_accuracy: 1.0000\n",
      "Epoch 45/50\n",
      "15/15 [==============================] - 0s 11ms/step - loss: 0.2216 - accuracy: 0.9556 - val_loss: 3.8191e-04 - val_accuracy: 1.0000\n",
      "Epoch 46/50\n",
      "15/15 [==============================] - 0s 10ms/step - loss: 0.0202 - accuracy: 1.0000 - val_loss: 1.2213e-04 - val_accuracy: 1.0000\n",
      "Epoch 47/50\n",
      "15/15 [==============================] - 0s 10ms/step - loss: 0.0550 - accuracy: 0.9778 - val_loss: 2.7497e-06 - val_accuracy: 1.0000\n",
      "Epoch 48/50\n",
      "15/15 [==============================] - 0s 10ms/step - loss: 0.0379 - accuracy: 0.9778 - val_loss: 5.0540e-05 - val_accuracy: 1.0000\n",
      "Epoch 49/50\n",
      "15/15 [==============================] - 0s 10ms/step - loss: 0.0122 - accuracy: 1.0000 - val_loss: 1.1269e-05 - val_accuracy: 1.0000\n",
      "Epoch 50/50\n",
      "15/15 [==============================] - 0s 10ms/step - loss: 0.0291 - accuracy: 1.0000 - val_loss: 1.3510e-07 - val_accuracy: 1.0000\n"
     ]
    },
    {
     "data": {
      "text/plain": [
       "<keras.callbacks.History at 0x1f965cd24a0>"
      ]
     },
     "execution_count": 60,
     "metadata": {},
     "output_type": "execute_result"
    }
   ],
   "source": [
    "# 3. 학습설정\n",
    "model.compile(loss='categorical_crossentropy', optimizer='adam', metrics=['accuracy'])\n",
    "\n",
    "# 4. 학습시키기\n",
    "model.fit(train_data, epochs=50, validation_data=test_data)"
   ]
  },
  {
   "cell_type": "code",
   "execution_count": 61,
   "id": "2a39d57c",
   "metadata": {
    "ExecuteTime": {
     "end_time": "2024-12-24T07:24:58.387726Z",
     "start_time": "2024-12-24T07:24:58.285726Z"
    }
   },
   "outputs": [
    {
     "name": "stdout",
     "output_type": "stream",
     "text": [
      "5/5 [==============================] - 0s 6ms/step - loss: 1.3510e-07 - accuracy: 1.0000\n",
      "정확도 : 100.0 %\n"
     ]
    }
   ],
   "source": [
    "# 평가하기\n",
    "score = model.evaluate(test_data)\n",
    "print('정확도 :', score[1]*100, '%')"
   ]
  },
  {
   "cell_type": "code",
   "execution_count": 62,
   "id": "3bed6c2d",
   "metadata": {
    "ExecuteTime": {
     "end_time": "2024-12-24T07:25:32.432436Z",
     "start_time": "2024-12-24T07:25:32.286478Z"
    }
   },
   "outputs": [
    {
     "name": "stdout",
     "output_type": "stream",
     "text": [
      "5/5 [==============================] - 0s 3ms/step\n",
      "[[1.00 0.00 0.00]\n",
      " [0.00 0.00 1.00]\n",
      " [0.00 1.00 0.00]\n",
      " [0.00 0.00 1.00]\n",
      " [0.00 1.00 0.00]\n",
      " [1.00 0.00 0.00]\n",
      " [0.00 1.00 0.00]\n",
      " [1.00 0.00 0.00]\n",
      " [0.00 0.00 1.00]\n",
      " [0.00 1.00 0.00]\n",
      " [0.00 0.00 1.00]\n",
      " [1.00 0.00 0.00]\n",
      " [1.00 0.00 0.00]\n",
      " [0.00 1.00 0.00]\n",
      " [0.00 0.00 1.00]]\n"
     ]
    }
   ],
   "source": [
    "# 예측하기 \n",
    "pred = model.predict(test_data)\n",
    "print(pred)"
   ]
  },
  {
   "cell_type": "code",
   "execution_count": 63,
   "id": "328d5419",
   "metadata": {
    "ExecuteTime": {
     "end_time": "2024-12-24T07:26:31.871346Z",
     "start_time": "2024-12-24T07:26:31.866348Z"
    }
   },
   "outputs": [
    {
     "data": {
      "text/plain": [
       "array([0, 2, 1, 2, 1, 0, 1, 0, 2, 1, 2, 0, 0, 1, 2], dtype=int64)"
      ]
     },
     "execution_count": 63,
     "metadata": {},
     "output_type": "execute_result"
    }
   ],
   "source": [
    "pred.argmax(axis=1)"
   ]
  }
 ],
 "metadata": {
  "kernelspec": {
   "display_name": "Python 3 (ipykernel)",
   "language": "python",
   "name": "python3"
  },
  "language_info": {
   "codemirror_mode": {
    "name": "ipython",
    "version": 3
   },
   "file_extension": ".py",
   "mimetype": "text/x-python",
   "name": "python",
   "nbconvert_exporter": "python",
   "pygments_lexer": "ipython3",
   "version": "3.10.9"
  },
  "toc": {
   "base_numbering": 1,
   "nav_menu": {},
   "number_sections": true,
   "sideBar": true,
   "skip_h1_title": false,
   "title_cell": "Table of Contents",
   "title_sidebar": "Contents",
   "toc_cell": false,
   "toc_position": {
    "height": "calc(100% - 180px)",
    "left": "10px",
    "top": "150px",
    "width": "236px"
   },
   "toc_section_display": true,
   "toc_window_display": true
  }
 },
 "nbformat": 4,
 "nbformat_minor": 5
}
