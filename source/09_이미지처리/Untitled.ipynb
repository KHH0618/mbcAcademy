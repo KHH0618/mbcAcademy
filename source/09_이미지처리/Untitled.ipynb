{
 "cells": [
  {
   "cell_type": "code",
   "execution_count": 8,
   "id": "aa2ab2b6",
   "metadata": {},
   "outputs": [
    {
     "name": "stdout",
     "output_type": "stream",
     "text": [
      "0.10499119758605957\n"
     ]
    }
   ],
   "source": [
    "import os\n",
    "import time\n",
    "from PIL import Image\n",
    "# 다운받을 이미지 url\n",
    "url = \"https://www.kma.go.kr/w/repositary/image/sat/gk2a/EA/gk2a_ami_le1b_ir105_ea020lc_202412230000.thn.png\"\n",
    "\n",
    "# time check\n",
    "start = time.time()\n",
    "\n",
    "# curl 요청\n",
    "os.system(\"curl \" + url + \" > test.jpg\")\n",
    "\n",
    "# 이미지 다운로드 시간 체크\n",
    "print(time.time() - start)\n",
    "\n",
    "# 저장 된 이미지 확인\n",
    "img = Image.open(\"test.jpg\")"
   ]
  },
  {
   "cell_type": "code",
   "execution_count": 9,
   "id": "2dc56d8a",
   "metadata": {},
   "outputs": [],
   "source": [
    "img.show()"
   ]
  },
  {
   "cell_type": "code",
   "execution_count": null,
   "id": "6cc09791",
   "metadata": {},
   "outputs": [],
   "source": []
  }
 ],
 "metadata": {
  "kernelspec": {
   "display_name": "Python 3 (ipykernel)",
   "language": "python",
   "name": "python3"
  },
  "language_info": {
   "codemirror_mode": {
    "name": "ipython",
    "version": 3
   },
   "file_extension": ".py",
   "mimetype": "text/x-python",
   "name": "python",
   "nbconvert_exporter": "python",
   "pygments_lexer": "ipython3",
   "version": "3.10.9"
  }
 },
 "nbformat": 4,
 "nbformat_minor": 5
}
