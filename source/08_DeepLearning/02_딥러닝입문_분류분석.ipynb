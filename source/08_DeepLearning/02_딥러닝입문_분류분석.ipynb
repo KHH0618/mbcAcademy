{
 "cells": [
  {
   "cell_type": "markdown",
   "id": "fa05fede",
   "metadata": {},
   "source": [
    "## 머신러닝/딥러닝 : 데이터의 법칙성을 추출\n",
    "- 다양한 분야에서 응용 : 글씨인식, 문장분류, 주식예측, 질병진단, 얼굴식별야에서 응용 : 글씨인식, 문장분류, 주식예측, 질병진단, 얼굴식별, etc...\n",
    "\n",
    "- 지도학습(회귀, 분류) vs 비지도학습(군집) vs 강화학습(게임)\n",
    "\n",
    "- 1. 데이터 확보 및 생성(inputdata, outputdata)\n",
    "- 2. 데이터 전처리 (결측치, 훈련데이터셋과 검증데이터셋, 시험데이터셋으로 분류....)\n",
    "- 3. 모델 구성\n",
    "- 4. 모델 학습 과정 설정 (손실함수, 옵티마이저, 평가지표)\n",
    "- 5. 모델 학습시키기\n",
    "- 6. 모델 평가(시험데이터셋으로)\n",
    "- 7. 모델 사용(모델 저장 후, 저장된 모델을 이용하여, 입력값이 주어지면 예측값 받기)"
   ]
  },
  {
   "cell_type": "markdown",
   "id": "ebb23748",
   "metadata": {},
   "source": [
    "# 1. 데이터 셋 생성\n",
    "# 2. 데이터 전처리"
   ]
  },
  {
   "cell_type": "code",
   "execution_count": 1,
   "id": "94b15572",
   "metadata": {
    "ExecuteTime": {
     "end_time": "2024-12-12T08:41:23.546805Z",
     "start_time": "2024-12-12T08:41:19.987248Z"
    }
   },
   "outputs": [],
   "source": [
    "import numpy as np\n",
    "import tensorflow as tf\n",
    "from tensorflow.keras.utils import to_categorical # 분류분석시 원핫인코딩\n",
    "from tensorflow.keras.models import Sequential # 모델생성\n",
    "from tensorflow.keras.layers import Dense, Input # 모델에 레이어 추가시"
   ]
  },
  {
   "cell_type": "code",
   "execution_count": 2,
   "id": "1210c1c3",
   "metadata": {
    "ExecuteTime": {
     "end_time": "2024-12-12T07:51:17.030290Z",
     "start_time": "2024-12-12T07:51:17.023310Z"
    }
   },
   "outputs": [],
   "source": [
    "# 학습데이터 == 훈련데이터\n",
    "x_train = np.array([1,2,3,4,5,6,7,8,9]*10)\n",
    "y_train = np.array([2,4,6,8,10,12,14,16,18]*10)\n",
    "# 검증데이터\n",
    "X_val = np.array([1,2,3,4,5,6,7,8,9])\n",
    "Y_val = np.array([2,4,6,8,10,12,14,16,18])"
   ]
  },
  {
   "cell_type": "code",
   "execution_count": 3,
   "id": "73b1bf8c",
   "metadata": {
    "ExecuteTime": {
     "end_time": "2024-12-12T07:51:17.546910Z",
     "start_time": "2024-12-12T07:51:17.036276Z"
    }
   },
   "outputs": [
    {
     "name": "stdout",
     "output_type": "stream",
     "text": [
      "1. 원 데이터 : ['a' 'b' 'b' 'b' 'c']\n",
      "2. 라벨인코딩된 데이터 : [0 1 1 1 2]\n",
      "3. 원핫인코딩된 데이터 :\n",
      " [[1. 0. 0.]\n",
      " [0. 1. 0.]\n",
      " [0. 1. 0.]\n",
      " [0. 1. 0.]\n",
      " [0. 0. 1.]]\n"
     ]
    }
   ],
   "source": [
    "# 분류분석을 위한 인코딩 종류\n",
    "data = np.array(['a','b','b','b','c'])\n",
    "print('1. 원 데이터 :', data)\n",
    "from sklearn.preprocessing import LabelEncoder\n",
    "le = LabelEncoder()\n",
    "labeling_data = le.fit_transform(data)\n",
    "print('2. 라벨인코딩된 데이터 :', labeling_data)\n",
    "one_hot_encoding_data = to_categorical(labeling_data)\n",
    "print('3. 원핫인코딩된 데이터 :\\n', one_hot_encoding_data)"
   ]
  },
  {
   "cell_type": "code",
   "execution_count": 4,
   "id": "4489abfc",
   "metadata": {
    "ExecuteTime": {
     "end_time": "2024-12-12T07:51:17.573837Z",
     "start_time": "2024-12-12T07:51:17.552893Z"
    }
   },
   "outputs": [
    {
     "name": "stdout",
     "output_type": "stream",
     "text": [
      "원 데이터 : [1 2 2 4 2]\n",
      "to_categorical을 이용한 원 핫 인코딩\n",
      " [[0. 1. 0. 0. 0.]\n",
      " [0. 0. 1. 0. 0.]\n",
      " [0. 0. 1. 0. 0.]\n",
      " [0. 0. 0. 0. 1.]\n",
      " [0. 0. 1. 0. 0.]]\n"
     ]
    },
    {
     "data": {
      "text/plain": [
       "'get_dummies를 이용한 원핫인코딩(데이터프레임)'"
      ]
     },
     "metadata": {},
     "output_type": "display_data"
    },
    {
     "data": {
      "text/html": [
       "<div>\n",
       "<style scoped>\n",
       "    .dataframe tbody tr th:only-of-type {\n",
       "        vertical-align: middle;\n",
       "    }\n",
       "\n",
       "    .dataframe tbody tr th {\n",
       "        vertical-align: top;\n",
       "    }\n",
       "\n",
       "    .dataframe thead th {\n",
       "        text-align: right;\n",
       "    }\n",
       "</style>\n",
       "<table border=\"1\" class=\"dataframe\">\n",
       "  <thead>\n",
       "    <tr style=\"text-align: right;\">\n",
       "      <th></th>\n",
       "      <th>1</th>\n",
       "      <th>2</th>\n",
       "      <th>4</th>\n",
       "    </tr>\n",
       "  </thead>\n",
       "  <tbody>\n",
       "    <tr>\n",
       "      <th>0</th>\n",
       "      <td>1</td>\n",
       "      <td>0</td>\n",
       "      <td>0</td>\n",
       "    </tr>\n",
       "    <tr>\n",
       "      <th>1</th>\n",
       "      <td>0</td>\n",
       "      <td>1</td>\n",
       "      <td>0</td>\n",
       "    </tr>\n",
       "    <tr>\n",
       "      <th>2</th>\n",
       "      <td>0</td>\n",
       "      <td>1</td>\n",
       "      <td>0</td>\n",
       "    </tr>\n",
       "    <tr>\n",
       "      <th>3</th>\n",
       "      <td>0</td>\n",
       "      <td>0</td>\n",
       "      <td>1</td>\n",
       "    </tr>\n",
       "    <tr>\n",
       "      <th>4</th>\n",
       "      <td>0</td>\n",
       "      <td>1</td>\n",
       "      <td>0</td>\n",
       "    </tr>\n",
       "  </tbody>\n",
       "</table>\n",
       "</div>"
      ],
      "text/plain": [
       "   1  2  4\n",
       "0  1  0  0\n",
       "1  0  1  0\n",
       "2  0  1  0\n",
       "3  0  0  1\n",
       "4  0  1  0"
      ]
     },
     "metadata": {},
     "output_type": "display_data"
    }
   ],
   "source": [
    "# 분류분석을 위한 원핫인코딩 방법\n",
    "data = np.array([1,2,2,4,2])\n",
    "print('원 데이터 :', data)\n",
    "categorical_one_hot = to_categorical(data)\n",
    "print('to_categorical을 이용한 원 핫 인코딩\\n', categorical_one_hot)\n",
    "import pandas as pd\n",
    "display('get_dummies를 이용한 원핫인코딩(데이터프레임)', pd.get_dummies(data))"
   ]
  },
  {
   "cell_type": "code",
   "execution_count": 5,
   "id": "382a5616",
   "metadata": {
    "ExecuteTime": {
     "end_time": "2024-12-12T07:51:17.581816Z",
     "start_time": "2024-12-12T07:51:17.575832Z"
    }
   },
   "outputs": [
    {
     "data": {
      "text/plain": [
       "array([2, 4])"
      ]
     },
     "execution_count": 5,
     "metadata": {},
     "output_type": "execute_result"
    }
   ],
   "source": [
    "y_train[:2]"
   ]
  },
  {
   "cell_type": "code",
   "execution_count": 6,
   "id": "0e7b2ebd",
   "metadata": {
    "ExecuteTime": {
     "end_time": "2024-12-12T07:51:17.588827Z",
     "start_time": "2024-12-12T07:51:17.584808Z"
    }
   },
   "outputs": [],
   "source": [
    "# 분류분석을 위해 종속변수(target변수)를 원핫인코딩\n",
    "y_train = to_categorical(y_train,19)\n",
    "Y_val = to_categorical(Y_val)"
   ]
  },
  {
   "cell_type": "code",
   "execution_count": 7,
   "id": "e564c10a",
   "metadata": {
    "ExecuteTime": {
     "end_time": "2024-12-12T07:51:17.599775Z",
     "start_time": "2024-12-12T07:51:17.591791Z"
    }
   },
   "outputs": [
    {
     "data": {
      "text/plain": [
       "array([[0., 0., 1., 0., 0., 0., 0., 0., 0., 0., 0., 0., 0., 0., 0., 0.,\n",
       "        0., 0., 0.],\n",
       "       [0., 0., 0., 0., 1., 0., 0., 0., 0., 0., 0., 0., 0., 0., 0., 0.,\n",
       "        0., 0., 0.]], dtype=float32)"
      ]
     },
     "execution_count": 7,
     "metadata": {},
     "output_type": "execute_result"
    }
   ],
   "source": [
    "y_train[:2]"
   ]
  },
  {
   "cell_type": "code",
   "execution_count": 8,
   "id": "6c4c036e",
   "metadata": {
    "ExecuteTime": {
     "end_time": "2024-12-12T07:51:17.609769Z",
     "start_time": "2024-12-12T07:51:17.601763Z"
    }
   },
   "outputs": [
    {
     "data": {
      "text/plain": [
       "((90,), (90, 19))"
      ]
     },
     "execution_count": 8,
     "metadata": {},
     "output_type": "execute_result"
    }
   ],
   "source": [
    "x_train.shape, y_train.shape"
   ]
  },
  {
   "cell_type": "code",
   "execution_count": 9,
   "id": "b70764c1",
   "metadata": {
    "ExecuteTime": {
     "end_time": "2024-12-12T07:51:17.618718Z",
     "start_time": "2024-12-12T07:51:17.611737Z"
    }
   },
   "outputs": [
    {
     "data": {
      "text/plain": [
       "array([1, 2])"
      ]
     },
     "execution_count": 9,
     "metadata": {},
     "output_type": "execute_result"
    }
   ],
   "source": [
    "x_train[:2]"
   ]
  },
  {
   "cell_type": "code",
   "execution_count": 10,
   "id": "c5db064b",
   "metadata": {
    "ExecuteTime": {
     "end_time": "2024-12-12T07:51:17.629688Z",
     "start_time": "2024-12-12T07:51:17.621709Z"
    }
   },
   "outputs": [
    {
     "data": {
      "text/plain": [
       "array([[0., 0., 1., 0., 0., 0., 0., 0., 0., 0., 0., 0., 0., 0., 0., 0.,\n",
       "        0., 0., 0.],\n",
       "       [0., 0., 0., 0., 1., 0., 0., 0., 0., 0., 0., 0., 0., 0., 0., 0.,\n",
       "        0., 0., 0.]], dtype=float32)"
      ]
     },
     "execution_count": 10,
     "metadata": {},
     "output_type": "execute_result"
    }
   ],
   "source": [
    "y_train[:2]"
   ]
  },
  {
   "cell_type": "markdown",
   "id": "c6776174",
   "metadata": {
    "ExecuteTime": {
     "end_time": "2024-12-12T06:24:41.153729Z",
     "start_time": "2024-12-12T06:24:41.148722Z"
    }
   },
   "source": [
    "# 3. 모델구성"
   ]
  },
  {
   "cell_type": "code",
   "execution_count": 11,
   "id": "cce6bc56",
   "metadata": {
    "ExecuteTime": {
     "end_time": "2024-12-12T07:51:18.568178Z",
     "start_time": "2024-12-12T07:51:17.631683Z"
    }
   },
   "outputs": [
    {
     "name": "stdout",
     "output_type": "stream",
     "text": [
      "Model: \"sequential\"\n",
      "_________________________________________________________________\n",
      " Layer (type)                Output Shape              Param #   \n",
      "=================================================================\n",
      " dense (Dense)               (None, 38)                76        \n",
      "                                                                 \n",
      " dense_1 (Dense)             (None, 64)                2496      \n",
      "                                                                 \n",
      " dense_2 (Dense)             (None, 32)                2080      \n",
      "                                                                 \n",
      " dense_3 (Dense)             (None, 19)                627       \n",
      "                                                                 \n",
      "=================================================================\n",
      "Total params: 5,279\n",
      "Trainable params: 5,279\n",
      "Non-trainable params: 0\n",
      "_________________________________________________________________\n",
      "None\n"
     ]
    }
   ],
   "source": [
    "model = Sequential()\n",
    "model.add(Input(shape=(1,)))\n",
    "model.add(Dense(units=38, activation='sigmoid'))\n",
    "model.add(Dense(units=64, activation='elu'))\n",
    "model.add(Dense(32, activation='elu'))\n",
    "model.add(Dense(units=19, activation='softmax')) # 출력갯수\n",
    "# activation='softmax' : 모든 출력의 합이 1, 분류분석의 마지막 layer에서 activation함수로 사용\n",
    "print(model.summary())"
   ]
  },
  {
   "cell_type": "markdown",
   "id": "c7dbe651",
   "metadata": {},
   "source": [
    "# 4. 모델 학습과정 설정\n",
    "- 손실함수, 옵티마이저, 평가지표\n",
    "    * loss='categorical_crossentropy' : 딥러닝 훈련시 다중분류분석에서의 손실함수\n",
    "    * metrics=['accuracy'] : 정확도"
   ]
  },
  {
   "cell_type": "code",
   "execution_count": 12,
   "id": "89a09c07",
   "metadata": {
    "ExecuteTime": {
     "end_time": "2024-12-12T07:51:18.591120Z",
     "start_time": "2024-12-12T07:51:18.576158Z"
    }
   },
   "outputs": [],
   "source": [
    "model.compile(loss='categorical_crossentropy', optimizer='adam', metrics=['accuracy'])"
   ]
  },
  {
   "cell_type": "markdown",
   "id": "ce144e74",
   "metadata": {},
   "source": [
    "# 5. 모델 학습시키기"
   ]
  },
  {
   "cell_type": "code",
   "execution_count": 13,
   "id": "7f50fc49",
   "metadata": {
    "ExecuteTime": {
     "end_time": "2024-12-12T07:51:35.845995Z",
     "start_time": "2024-12-12T07:51:18.593126Z"
    },
    "collapsed": true
   },
   "outputs": [
    {
     "name": "stdout",
     "output_type": "stream",
     "text": [
      "Epoch 1/300\n",
      "9/9 - 1s - loss: 2.8454 - accuracy: 0.0222 - val_loss: 2.6331 - val_accuracy: 0.1111 - 1s/epoch - 116ms/step\n",
      "Epoch 2/300\n",
      "9/9 - 0s - loss: 2.5427 - accuracy: 0.2333 - val_loss: 2.4263 - val_accuracy: 0.4444 - 81ms/epoch - 9ms/step\n",
      "Epoch 3/300\n",
      "9/9 - 0s - loss: 2.3707 - accuracy: 0.3667 - val_loss: 2.2828 - val_accuracy: 0.4444 - 62ms/epoch - 7ms/step\n",
      "Epoch 4/300\n",
      "9/9 - 0s - loss: 2.2383 - accuracy: 0.2444 - val_loss: 2.1639 - val_accuracy: 0.2222 - 52ms/epoch - 6ms/step\n",
      "Epoch 5/300\n",
      "9/9 - 0s - loss: 2.1267 - accuracy: 0.1667 - val_loss: 2.0618 - val_accuracy: 0.2222 - 50ms/epoch - 6ms/step\n",
      "Epoch 6/300\n",
      "9/9 - 0s - loss: 2.0327 - accuracy: 0.2000 - val_loss: 1.9700 - val_accuracy: 0.4444 - 47ms/epoch - 5ms/step\n",
      "Epoch 7/300\n",
      "9/9 - 0s - loss: 1.9387 - accuracy: 0.3444 - val_loss: 1.8854 - val_accuracy: 0.3333 - 48ms/epoch - 5ms/step\n",
      "Epoch 8/300\n",
      "9/9 - 0s - loss: 1.8584 - accuracy: 0.2444 - val_loss: 1.8042 - val_accuracy: 0.2222 - 45ms/epoch - 5ms/step\n",
      "Epoch 9/300\n",
      "9/9 - 0s - loss: 1.7819 - accuracy: 0.2222 - val_loss: 1.7318 - val_accuracy: 0.2222 - 52ms/epoch - 6ms/step\n",
      "Epoch 10/300\n",
      "9/9 - 0s - loss: 1.7122 - accuracy: 0.2222 - val_loss: 1.6666 - val_accuracy: 0.2222 - 49ms/epoch - 5ms/step\n",
      "Epoch 11/300\n",
      "9/9 - 0s - loss: 1.6482 - accuracy: 0.2222 - val_loss: 1.6063 - val_accuracy: 0.2222 - 47ms/epoch - 5ms/step\n",
      "Epoch 12/300\n",
      "9/9 - 0s - loss: 1.5934 - accuracy: 0.2111 - val_loss: 1.5526 - val_accuracy: 0.3333 - 51ms/epoch - 6ms/step\n",
      "Epoch 13/300\n",
      "9/9 - 0s - loss: 1.5440 - accuracy: 0.3222 - val_loss: 1.5018 - val_accuracy: 0.4444 - 51ms/epoch - 6ms/step\n",
      "Epoch 14/300\n",
      "9/9 - 0s - loss: 1.4900 - accuracy: 0.4111 - val_loss: 1.4544 - val_accuracy: 0.4444 - 72ms/epoch - 8ms/step\n",
      "Epoch 15/300\n",
      "9/9 - 0s - loss: 1.4422 - accuracy: 0.3000 - val_loss: 1.4120 - val_accuracy: 0.4444 - 51ms/epoch - 6ms/step\n",
      "Epoch 16/300\n",
      "9/9 - 0s - loss: 1.4094 - accuracy: 0.4222 - val_loss: 1.3708 - val_accuracy: 0.5556 - 52ms/epoch - 6ms/step\n",
      "Epoch 17/300\n",
      "9/9 - 0s - loss: 1.3602 - accuracy: 0.4667 - val_loss: 1.3316 - val_accuracy: 0.5556 - 47ms/epoch - 5ms/step\n",
      "Epoch 18/300\n",
      "9/9 - 0s - loss: 1.3293 - accuracy: 0.5889 - val_loss: 1.2948 - val_accuracy: 0.6667 - 47ms/epoch - 5ms/step\n",
      "Epoch 19/300\n",
      "9/9 - 0s - loss: 1.2867 - accuracy: 0.7111 - val_loss: 1.2599 - val_accuracy: 0.7778 - 52ms/epoch - 6ms/step\n",
      "Epoch 20/300\n",
      "9/9 - 0s - loss: 1.2556 - accuracy: 0.6778 - val_loss: 1.2284 - val_accuracy: 0.7778 - 48ms/epoch - 5ms/step\n",
      "Epoch 21/300\n",
      "9/9 - 0s - loss: 1.2297 - accuracy: 0.6778 - val_loss: 1.1969 - val_accuracy: 0.7778 - 49ms/epoch - 5ms/step\n",
      "Epoch 22/300\n",
      "9/9 - 0s - loss: 1.2035 - accuracy: 0.6444 - val_loss: 1.1692 - val_accuracy: 0.6667 - 48ms/epoch - 5ms/step\n",
      "Epoch 23/300\n",
      "9/9 - 0s - loss: 1.1601 - accuracy: 0.8333 - val_loss: 1.1362 - val_accuracy: 0.8889 - 51ms/epoch - 6ms/step\n",
      "Epoch 24/300\n",
      "9/9 - 0s - loss: 1.1322 - accuracy: 0.7000 - val_loss: 1.1094 - val_accuracy: 0.6667 - 45ms/epoch - 5ms/step\n",
      "Epoch 25/300\n",
      "9/9 - 0s - loss: 1.1096 - accuracy: 0.6778 - val_loss: 1.0785 - val_accuracy: 0.7778 - 42ms/epoch - 5ms/step\n",
      "Epoch 26/300\n",
      "9/9 - 0s - loss: 1.0811 - accuracy: 0.8111 - val_loss: 1.0511 - val_accuracy: 0.8889 - 42ms/epoch - 5ms/step\n",
      "Epoch 27/300\n",
      "9/9 - 0s - loss: 1.0564 - accuracy: 0.8222 - val_loss: 1.0239 - val_accuracy: 0.8889 - 50ms/epoch - 6ms/step\n",
      "Epoch 28/300\n",
      "9/9 - 0s - loss: 1.0199 - accuracy: 0.8889 - val_loss: 0.9987 - val_accuracy: 0.8889 - 43ms/epoch - 5ms/step\n",
      "Epoch 29/300\n",
      "9/9 - 0s - loss: 0.9949 - accuracy: 0.8889 - val_loss: 0.9716 - val_accuracy: 0.8889 - 44ms/epoch - 5ms/step\n",
      "Epoch 30/300\n",
      "9/9 - 0s - loss: 0.9736 - accuracy: 0.8889 - val_loss: 0.9468 - val_accuracy: 0.8889 - 47ms/epoch - 5ms/step\n",
      "Epoch 31/300\n",
      "9/9 - 0s - loss: 0.9450 - accuracy: 0.8889 - val_loss: 0.9215 - val_accuracy: 0.8889 - 42ms/epoch - 5ms/step\n",
      "Epoch 32/300\n",
      "9/9 - 0s - loss: 0.9174 - accuracy: 0.8889 - val_loss: 0.8970 - val_accuracy: 0.8889 - 41ms/epoch - 5ms/step\n",
      "Epoch 33/300\n",
      "9/9 - 0s - loss: 0.8959 - accuracy: 0.8889 - val_loss: 0.8737 - val_accuracy: 0.8889 - 46ms/epoch - 5ms/step\n",
      "Epoch 34/300\n",
      "9/9 - 0s - loss: 0.8732 - accuracy: 0.8556 - val_loss: 0.8510 - val_accuracy: 1.0000 - 47ms/epoch - 5ms/step\n",
      "Epoch 35/300\n",
      "9/9 - 0s - loss: 0.8605 - accuracy: 0.9000 - val_loss: 0.8307 - val_accuracy: 0.8889 - 45ms/epoch - 5ms/step\n",
      "Epoch 36/300\n",
      "9/9 - 0s - loss: 0.8340 - accuracy: 0.8889 - val_loss: 0.8086 - val_accuracy: 0.8889 - 44ms/epoch - 5ms/step\n",
      "Epoch 37/300\n",
      "9/9 - 0s - loss: 0.8128 - accuracy: 0.8889 - val_loss: 0.7868 - val_accuracy: 0.8889 - 45ms/epoch - 5ms/step\n",
      "Epoch 38/300\n",
      "9/9 - 0s - loss: 0.7924 - accuracy: 0.8889 - val_loss: 0.7633 - val_accuracy: 0.8889 - 43ms/epoch - 5ms/step\n",
      "Epoch 39/300\n",
      "9/9 - 0s - loss: 0.7612 - accuracy: 0.9889 - val_loss: 0.7411 - val_accuracy: 1.0000 - 45ms/epoch - 5ms/step\n",
      "Epoch 40/300\n",
      "9/9 - 0s - loss: 0.7446 - accuracy: 1.0000 - val_loss: 0.7236 - val_accuracy: 1.0000 - 49ms/epoch - 5ms/step\n",
      "Epoch 41/300\n",
      "9/9 - 0s - loss: 0.7262 - accuracy: 0.9556 - val_loss: 0.7033 - val_accuracy: 0.8889 - 43ms/epoch - 5ms/step\n",
      "Epoch 42/300\n",
      "9/9 - 0s - loss: 0.7021 - accuracy: 0.8889 - val_loss: 0.6814 - val_accuracy: 0.8889 - 42ms/epoch - 5ms/step\n",
      "Epoch 43/300\n",
      "9/9 - 0s - loss: 0.6888 - accuracy: 0.9778 - val_loss: 0.6648 - val_accuracy: 1.0000 - 42ms/epoch - 5ms/step\n",
      "Epoch 44/300\n",
      "9/9 - 0s - loss: 0.6723 - accuracy: 0.9000 - val_loss: 0.6484 - val_accuracy: 0.8889 - 43ms/epoch - 5ms/step\n",
      "Epoch 45/300\n",
      "9/9 - 0s - loss: 0.6441 - accuracy: 0.8889 - val_loss: 0.6262 - val_accuracy: 0.8889 - 43ms/epoch - 5ms/step\n",
      "Epoch 46/300\n",
      "9/9 - 0s - loss: 0.6247 - accuracy: 0.9111 - val_loss: 0.6070 - val_accuracy: 1.0000 - 42ms/epoch - 5ms/step\n",
      "Epoch 47/300\n",
      "9/9 - 0s - loss: 0.6079 - accuracy: 1.0000 - val_loss: 0.5887 - val_accuracy: 1.0000 - 48ms/epoch - 5ms/step\n",
      "Epoch 48/300\n",
      "9/9 - 0s - loss: 0.5919 - accuracy: 0.9444 - val_loss: 0.5721 - val_accuracy: 1.0000 - 52ms/epoch - 6ms/step\n",
      "Epoch 49/300\n",
      "9/9 - 0s - loss: 0.5777 - accuracy: 0.9556 - val_loss: 0.5558 - val_accuracy: 0.8889 - 46ms/epoch - 5ms/step\n",
      "Epoch 50/300\n",
      "9/9 - 0s - loss: 0.5627 - accuracy: 0.9889 - val_loss: 0.5392 - val_accuracy: 1.0000 - 47ms/epoch - 5ms/step\n",
      "Epoch 51/300\n",
      "9/9 - 0s - loss: 0.5506 - accuracy: 1.0000 - val_loss: 0.5227 - val_accuracy: 1.0000 - 48ms/epoch - 5ms/step\n",
      "Epoch 52/300\n",
      "9/9 - 0s - loss: 0.5176 - accuracy: 1.0000 - val_loss: 0.5020 - val_accuracy: 1.0000 - 57ms/epoch - 6ms/step\n",
      "Epoch 53/300\n",
      "9/9 - 0s - loss: 0.5128 - accuracy: 0.9778 - val_loss: 0.4912 - val_accuracy: 1.0000 - 44ms/epoch - 5ms/step\n",
      "Epoch 54/300\n",
      "9/9 - 0s - loss: 0.4932 - accuracy: 1.0000 - val_loss: 0.4776 - val_accuracy: 1.0000 - 58ms/epoch - 6ms/step\n",
      "Epoch 55/300\n",
      "9/9 - 0s - loss: 0.4794 - accuracy: 1.0000 - val_loss: 0.4554 - val_accuracy: 1.0000 - 42ms/epoch - 5ms/step\n",
      "Epoch 56/300\n",
      "9/9 - 0s - loss: 0.4627 - accuracy: 0.9889 - val_loss: 0.4454 - val_accuracy: 1.0000 - 41ms/epoch - 5ms/step\n",
      "Epoch 57/300\n",
      "9/9 - 0s - loss: 0.4459 - accuracy: 1.0000 - val_loss: 0.4297 - val_accuracy: 1.0000 - 46ms/epoch - 5ms/step\n",
      "Epoch 58/300\n",
      "9/9 - 0s - loss: 0.4264 - accuracy: 1.0000 - val_loss: 0.4159 - val_accuracy: 1.0000 - 54ms/epoch - 6ms/step\n",
      "Epoch 59/300\n",
      "9/9 - 0s - loss: 0.4212 - accuracy: 1.0000 - val_loss: 0.4068 - val_accuracy: 1.0000 - 43ms/epoch - 5ms/step\n",
      "Epoch 60/300\n",
      "9/9 - 0s - loss: 0.4098 - accuracy: 1.0000 - val_loss: 0.3900 - val_accuracy: 1.0000 - 46ms/epoch - 5ms/step\n",
      "Epoch 61/300\n",
      "9/9 - 0s - loss: 0.3819 - accuracy: 1.0000 - val_loss: 0.3722 - val_accuracy: 1.0000 - 45ms/epoch - 5ms/step\n",
      "Epoch 62/300\n",
      "9/9 - 0s - loss: 0.3697 - accuracy: 1.0000 - val_loss: 0.3598 - val_accuracy: 1.0000 - 45ms/epoch - 5ms/step\n",
      "Epoch 63/300\n",
      "9/9 - 0s - loss: 0.3556 - accuracy: 1.0000 - val_loss: 0.3452 - val_accuracy: 1.0000 - 43ms/epoch - 5ms/step\n",
      "Epoch 64/300\n",
      "9/9 - 0s - loss: 0.3461 - accuracy: 1.0000 - val_loss: 0.3339 - val_accuracy: 1.0000 - 46ms/epoch - 5ms/step\n",
      "Epoch 65/300\n",
      "9/9 - 0s - loss: 0.3311 - accuracy: 1.0000 - val_loss: 0.3213 - val_accuracy: 1.0000 - 44ms/epoch - 5ms/step\n",
      "Epoch 66/300\n",
      "9/9 - 0s - loss: 0.3214 - accuracy: 1.0000 - val_loss: 0.3132 - val_accuracy: 1.0000 - 45ms/epoch - 5ms/step\n",
      "Epoch 67/300\n",
      "9/9 - 0s - loss: 0.3154 - accuracy: 1.0000 - val_loss: 0.3007 - val_accuracy: 1.0000 - 44ms/epoch - 5ms/step\n",
      "Epoch 68/300\n",
      "9/9 - 0s - loss: 0.3076 - accuracy: 1.0000 - val_loss: 0.2899 - val_accuracy: 1.0000 - 45ms/epoch - 5ms/step\n"
     ]
    },
    {
     "name": "stdout",
     "output_type": "stream",
     "text": [
      "Epoch 69/300\n",
      "9/9 - 0s - loss: 0.2900 - accuracy: 1.0000 - val_loss: 0.2809 - val_accuracy: 1.0000 - 42ms/epoch - 5ms/step\n",
      "Epoch 70/300\n",
      "9/9 - 0s - loss: 0.2840 - accuracy: 1.0000 - val_loss: 0.2685 - val_accuracy: 1.0000 - 42ms/epoch - 5ms/step\n",
      "Epoch 71/300\n",
      "9/9 - 0s - loss: 0.2682 - accuracy: 1.0000 - val_loss: 0.2607 - val_accuracy: 1.0000 - 42ms/epoch - 5ms/step\n",
      "Epoch 72/300\n",
      "9/9 - 0s - loss: 0.2600 - accuracy: 1.0000 - val_loss: 0.2491 - val_accuracy: 1.0000 - 46ms/epoch - 5ms/step\n",
      "Epoch 73/300\n",
      "9/9 - 0s - loss: 0.2511 - accuracy: 1.0000 - val_loss: 0.2403 - val_accuracy: 1.0000 - 44ms/epoch - 5ms/step\n",
      "Epoch 74/300\n",
      "9/9 - 0s - loss: 0.2525 - accuracy: 1.0000 - val_loss: 0.2352 - val_accuracy: 1.0000 - 49ms/epoch - 5ms/step\n",
      "Epoch 75/300\n",
      "9/9 - 0s - loss: 0.2310 - accuracy: 1.0000 - val_loss: 0.2260 - val_accuracy: 1.0000 - 47ms/epoch - 5ms/step\n",
      "Epoch 76/300\n",
      "9/9 - 0s - loss: 0.2277 - accuracy: 1.0000 - val_loss: 0.2132 - val_accuracy: 1.0000 - 42ms/epoch - 5ms/step\n",
      "Epoch 77/300\n",
      "9/9 - 0s - loss: 0.2154 - accuracy: 1.0000 - val_loss: 0.2051 - val_accuracy: 1.0000 - 45ms/epoch - 5ms/step\n",
      "Epoch 78/300\n",
      "9/9 - 0s - loss: 0.2079 - accuracy: 1.0000 - val_loss: 0.1999 - val_accuracy: 1.0000 - 42ms/epoch - 5ms/step\n",
      "Epoch 79/300\n",
      "9/9 - 0s - loss: 0.1976 - accuracy: 1.0000 - val_loss: 0.1890 - val_accuracy: 1.0000 - 45ms/epoch - 5ms/step\n",
      "Epoch 80/300\n",
      "9/9 - 0s - loss: 0.1883 - accuracy: 1.0000 - val_loss: 0.1836 - val_accuracy: 1.0000 - 45ms/epoch - 5ms/step\n",
      "Epoch 81/300\n",
      "9/9 - 0s - loss: 0.1846 - accuracy: 1.0000 - val_loss: 0.1783 - val_accuracy: 1.0000 - 45ms/epoch - 5ms/step\n",
      "Epoch 82/300\n",
      "9/9 - 0s - loss: 0.1787 - accuracy: 1.0000 - val_loss: 0.1696 - val_accuracy: 1.0000 - 49ms/epoch - 5ms/step\n",
      "Epoch 83/300\n",
      "9/9 - 0s - loss: 0.1672 - accuracy: 1.0000 - val_loss: 0.1620 - val_accuracy: 1.0000 - 42ms/epoch - 5ms/step\n",
      "Epoch 84/300\n",
      "9/9 - 0s - loss: 0.1609 - accuracy: 1.0000 - val_loss: 0.1562 - val_accuracy: 1.0000 - 41ms/epoch - 5ms/step\n",
      "Epoch 85/300\n",
      "9/9 - 0s - loss: 0.1553 - accuracy: 1.0000 - val_loss: 0.1490 - val_accuracy: 1.0000 - 53ms/epoch - 6ms/step\n",
      "Epoch 86/300\n",
      "9/9 - 0s - loss: 0.1520 - accuracy: 1.0000 - val_loss: 0.1458 - val_accuracy: 1.0000 - 52ms/epoch - 6ms/step\n",
      "Epoch 87/300\n",
      "9/9 - 0s - loss: 0.1445 - accuracy: 1.0000 - val_loss: 0.1390 - val_accuracy: 1.0000 - 55ms/epoch - 6ms/step\n",
      "Epoch 88/300\n",
      "9/9 - 0s - loss: 0.1410 - accuracy: 1.0000 - val_loss: 0.1337 - val_accuracy: 1.0000 - 49ms/epoch - 5ms/step\n",
      "Epoch 89/300\n",
      "9/9 - 0s - loss: 0.1379 - accuracy: 1.0000 - val_loss: 0.1322 - val_accuracy: 1.0000 - 54ms/epoch - 6ms/step\n",
      "Epoch 90/300\n",
      "9/9 - 0s - loss: 0.1325 - accuracy: 1.0000 - val_loss: 0.1272 - val_accuracy: 1.0000 - 48ms/epoch - 5ms/step\n",
      "Epoch 91/300\n",
      "9/9 - 0s - loss: 0.1247 - accuracy: 1.0000 - val_loss: 0.1179 - val_accuracy: 1.0000 - 49ms/epoch - 5ms/step\n",
      "Epoch 92/300\n",
      "9/9 - 0s - loss: 0.1194 - accuracy: 1.0000 - val_loss: 0.1137 - val_accuracy: 1.0000 - 50ms/epoch - 6ms/step\n",
      "Epoch 93/300\n",
      "9/9 - 0s - loss: 0.1172 - accuracy: 1.0000 - val_loss: 0.1113 - val_accuracy: 1.0000 - 55ms/epoch - 6ms/step\n",
      "Epoch 94/300\n",
      "9/9 - 0s - loss: 0.1111 - accuracy: 1.0000 - val_loss: 0.1049 - val_accuracy: 1.0000 - 50ms/epoch - 6ms/step\n",
      "Epoch 95/300\n",
      "9/9 - 0s - loss: 0.1037 - accuracy: 1.0000 - val_loss: 0.1003 - val_accuracy: 1.0000 - 59ms/epoch - 7ms/step\n",
      "Epoch 96/300\n",
      "9/9 - 0s - loss: 0.0999 - accuracy: 1.0000 - val_loss: 0.0963 - val_accuracy: 1.0000 - 45ms/epoch - 5ms/step\n",
      "Epoch 97/300\n",
      "9/9 - 0s - loss: 0.0976 - accuracy: 1.0000 - val_loss: 0.0938 - val_accuracy: 1.0000 - 44ms/epoch - 5ms/step\n",
      "Epoch 98/300\n",
      "9/9 - 0s - loss: 0.0930 - accuracy: 1.0000 - val_loss: 0.0888 - val_accuracy: 1.0000 - 49ms/epoch - 5ms/step\n",
      "Epoch 99/300\n",
      "9/9 - 0s - loss: 0.0893 - accuracy: 1.0000 - val_loss: 0.0866 - val_accuracy: 1.0000 - 52ms/epoch - 6ms/step\n",
      "Epoch 100/300\n",
      "9/9 - 0s - loss: 0.0863 - accuracy: 1.0000 - val_loss: 0.0824 - val_accuracy: 1.0000 - 77ms/epoch - 9ms/step\n",
      "Epoch 101/300\n",
      "9/9 - 0s - loss: 0.0822 - accuracy: 1.0000 - val_loss: 0.0799 - val_accuracy: 1.0000 - 44ms/epoch - 5ms/step\n",
      "Epoch 102/300\n",
      "9/9 - 0s - loss: 0.0796 - accuracy: 1.0000 - val_loss: 0.0780 - val_accuracy: 1.0000 - 60ms/epoch - 7ms/step\n",
      "Epoch 103/300\n",
      "9/9 - 0s - loss: 0.0792 - accuracy: 1.0000 - val_loss: 0.0783 - val_accuracy: 1.0000 - 48ms/epoch - 5ms/step\n",
      "Epoch 104/300\n",
      "9/9 - 0s - loss: 0.0782 - accuracy: 1.0000 - val_loss: 0.0728 - val_accuracy: 1.0000 - 50ms/epoch - 6ms/step\n",
      "Epoch 105/300\n",
      "9/9 - 0s - loss: 0.0724 - accuracy: 1.0000 - val_loss: 0.0706 - val_accuracy: 1.0000 - 45ms/epoch - 5ms/step\n",
      "Epoch 106/300\n",
      "9/9 - 0s - loss: 0.0693 - accuracy: 1.0000 - val_loss: 0.0687 - val_accuracy: 1.0000 - 47ms/epoch - 5ms/step\n",
      "Epoch 107/300\n",
      "9/9 - 0s - loss: 0.0676 - accuracy: 1.0000 - val_loss: 0.0642 - val_accuracy: 1.0000 - 48ms/epoch - 5ms/step\n",
      "Epoch 108/300\n",
      "9/9 - 0s - loss: 0.0652 - accuracy: 1.0000 - val_loss: 0.0614 - val_accuracy: 1.0000 - 50ms/epoch - 6ms/step\n",
      "Epoch 109/300\n",
      "9/9 - 0s - loss: 0.0609 - accuracy: 1.0000 - val_loss: 0.0586 - val_accuracy: 1.0000 - 45ms/epoch - 5ms/step\n",
      "Epoch 110/300\n",
      "9/9 - 0s - loss: 0.0596 - accuracy: 1.0000 - val_loss: 0.0570 - val_accuracy: 1.0000 - 46ms/epoch - 5ms/step\n",
      "Epoch 111/300\n",
      "9/9 - 0s - loss: 0.0572 - accuracy: 1.0000 - val_loss: 0.0550 - val_accuracy: 1.0000 - 46ms/epoch - 5ms/step\n",
      "Epoch 112/300\n",
      "9/9 - 0s - loss: 0.0558 - accuracy: 1.0000 - val_loss: 0.0535 - val_accuracy: 1.0000 - 43ms/epoch - 5ms/step\n",
      "Epoch 113/300\n",
      "9/9 - 0s - loss: 0.0547 - accuracy: 1.0000 - val_loss: 0.0554 - val_accuracy: 1.0000 - 43ms/epoch - 5ms/step\n",
      "Epoch 114/300\n",
      "9/9 - 0s - loss: 0.0544 - accuracy: 1.0000 - val_loss: 0.0508 - val_accuracy: 1.0000 - 43ms/epoch - 5ms/step\n",
      "Epoch 115/300\n",
      "9/9 - 0s - loss: 0.0502 - accuracy: 1.0000 - val_loss: 0.0488 - val_accuracy: 1.0000 - 46ms/epoch - 5ms/step\n",
      "Epoch 116/300\n",
      "9/9 - 0s - loss: 0.0472 - accuracy: 1.0000 - val_loss: 0.0469 - val_accuracy: 1.0000 - 48ms/epoch - 5ms/step\n",
      "Epoch 117/300\n",
      "9/9 - 0s - loss: 0.0465 - accuracy: 1.0000 - val_loss: 0.0445 - val_accuracy: 1.0000 - 44ms/epoch - 5ms/step\n",
      "Epoch 118/300\n",
      "9/9 - 0s - loss: 0.0448 - accuracy: 1.0000 - val_loss: 0.0431 - val_accuracy: 1.0000 - 45ms/epoch - 5ms/step\n",
      "Epoch 119/300\n",
      "9/9 - 0s - loss: 0.0432 - accuracy: 1.0000 - val_loss: 0.0416 - val_accuracy: 1.0000 - 45ms/epoch - 5ms/step\n",
      "Epoch 120/300\n",
      "9/9 - 0s - loss: 0.0420 - accuracy: 1.0000 - val_loss: 0.0405 - val_accuracy: 1.0000 - 47ms/epoch - 5ms/step\n",
      "Epoch 121/300\n",
      "9/9 - 0s - loss: 0.0400 - accuracy: 1.0000 - val_loss: 0.0390 - val_accuracy: 1.0000 - 53ms/epoch - 6ms/step\n",
      "Epoch 122/300\n",
      "9/9 - 0s - loss: 0.0397 - accuracy: 1.0000 - val_loss: 0.0380 - val_accuracy: 1.0000 - 45ms/epoch - 5ms/step\n",
      "Epoch 123/300\n",
      "9/9 - 0s - loss: 0.0378 - accuracy: 1.0000 - val_loss: 0.0366 - val_accuracy: 1.0000 - 47ms/epoch - 5ms/step\n",
      "Epoch 124/300\n",
      "9/9 - 0s - loss: 0.0374 - accuracy: 1.0000 - val_loss: 0.0358 - val_accuracy: 1.0000 - 48ms/epoch - 5ms/step\n",
      "Epoch 125/300\n",
      "9/9 - 0s - loss: 0.0359 - accuracy: 1.0000 - val_loss: 0.0345 - val_accuracy: 1.0000 - 47ms/epoch - 5ms/step\n",
      "Epoch 126/300\n",
      "9/9 - 0s - loss: 0.0343 - accuracy: 1.0000 - val_loss: 0.0334 - val_accuracy: 1.0000 - 47ms/epoch - 5ms/step\n",
      "Epoch 127/300\n",
      "9/9 - 0s - loss: 0.0335 - accuracy: 1.0000 - val_loss: 0.0324 - val_accuracy: 1.0000 - 44ms/epoch - 5ms/step\n",
      "Epoch 128/300\n",
      "9/9 - 0s - loss: 0.0327 - accuracy: 1.0000 - val_loss: 0.0316 - val_accuracy: 1.0000 - 50ms/epoch - 6ms/step\n",
      "Epoch 129/300\n",
      "9/9 - 0s - loss: 0.0319 - accuracy: 1.0000 - val_loss: 0.0307 - val_accuracy: 1.0000 - 46ms/epoch - 5ms/step\n",
      "Epoch 130/300\n",
      "9/9 - 0s - loss: 0.0306 - accuracy: 1.0000 - val_loss: 0.0298 - val_accuracy: 1.0000 - 46ms/epoch - 5ms/step\n",
      "Epoch 131/300\n",
      "9/9 - 0s - loss: 0.0295 - accuracy: 1.0000 - val_loss: 0.0289 - val_accuracy: 1.0000 - 47ms/epoch - 5ms/step\n",
      "Epoch 132/300\n",
      "9/9 - 0s - loss: 0.0290 - accuracy: 1.0000 - val_loss: 0.0282 - val_accuracy: 1.0000 - 46ms/epoch - 5ms/step\n",
      "Epoch 133/300\n",
      "9/9 - 0s - loss: 0.0282 - accuracy: 1.0000 - val_loss: 0.0274 - val_accuracy: 1.0000 - 45ms/epoch - 5ms/step\n",
      "Epoch 134/300\n",
      "9/9 - 0s - loss: 0.0274 - accuracy: 1.0000 - val_loss: 0.0266 - val_accuracy: 1.0000 - 44ms/epoch - 5ms/step\n",
      "Epoch 135/300\n",
      "9/9 - 0s - loss: 0.0267 - accuracy: 1.0000 - val_loss: 0.0260 - val_accuracy: 1.0000 - 45ms/epoch - 5ms/step\n"
     ]
    },
    {
     "name": "stdout",
     "output_type": "stream",
     "text": [
      "Epoch 136/300\n",
      "9/9 - 0s - loss: 0.0260 - accuracy: 1.0000 - val_loss: 0.0252 - val_accuracy: 1.0000 - 44ms/epoch - 5ms/step\n",
      "Epoch 137/300\n",
      "9/9 - 0s - loss: 0.0253 - accuracy: 1.0000 - val_loss: 0.0245 - val_accuracy: 1.0000 - 52ms/epoch - 6ms/step\n",
      "Epoch 138/300\n",
      "9/9 - 0s - loss: 0.0247 - accuracy: 1.0000 - val_loss: 0.0239 - val_accuracy: 1.0000 - 52ms/epoch - 6ms/step\n",
      "Epoch 139/300\n",
      "9/9 - 0s - loss: 0.0239 - accuracy: 1.0000 - val_loss: 0.0233 - val_accuracy: 1.0000 - 50ms/epoch - 6ms/step\n",
      "Epoch 140/300\n",
      "9/9 - 0s - loss: 0.0232 - accuracy: 1.0000 - val_loss: 0.0226 - val_accuracy: 1.0000 - 51ms/epoch - 6ms/step\n",
      "Epoch 141/300\n",
      "9/9 - 0s - loss: 0.0225 - accuracy: 1.0000 - val_loss: 0.0221 - val_accuracy: 1.0000 - 52ms/epoch - 6ms/step\n",
      "Epoch 142/300\n",
      "9/9 - 0s - loss: 0.0221 - accuracy: 1.0000 - val_loss: 0.0215 - val_accuracy: 1.0000 - 46ms/epoch - 5ms/step\n",
      "Epoch 143/300\n",
      "9/9 - 0s - loss: 0.0216 - accuracy: 1.0000 - val_loss: 0.0210 - val_accuracy: 1.0000 - 48ms/epoch - 5ms/step\n",
      "Epoch 144/300\n",
      "9/9 - 0s - loss: 0.0211 - accuracy: 1.0000 - val_loss: 0.0206 - val_accuracy: 1.0000 - 46ms/epoch - 5ms/step\n",
      "Epoch 145/300\n",
      "9/9 - 0s - loss: 0.0207 - accuracy: 1.0000 - val_loss: 0.0200 - val_accuracy: 1.0000 - 49ms/epoch - 5ms/step\n",
      "Epoch 146/300\n",
      "9/9 - 0s - loss: 0.0201 - accuracy: 1.0000 - val_loss: 0.0196 - val_accuracy: 1.0000 - 51ms/epoch - 6ms/step\n",
      "Epoch 147/300\n",
      "9/9 - 0s - loss: 0.0196 - accuracy: 1.0000 - val_loss: 0.0192 - val_accuracy: 1.0000 - 49ms/epoch - 5ms/step\n",
      "Epoch 148/300\n",
      "9/9 - 0s - loss: 0.0191 - accuracy: 1.0000 - val_loss: 0.0186 - val_accuracy: 1.0000 - 56ms/epoch - 6ms/step\n",
      "Epoch 149/300\n",
      "9/9 - 0s - loss: 0.0187 - accuracy: 1.0000 - val_loss: 0.0183 - val_accuracy: 1.0000 - 49ms/epoch - 5ms/step\n",
      "Epoch 150/300\n",
      "9/9 - 0s - loss: 0.0184 - accuracy: 1.0000 - val_loss: 0.0178 - val_accuracy: 1.0000 - 48ms/epoch - 5ms/step\n",
      "Epoch 151/300\n",
      "9/9 - 0s - loss: 0.0181 - accuracy: 1.0000 - val_loss: 0.0174 - val_accuracy: 1.0000 - 47ms/epoch - 5ms/step\n",
      "Epoch 152/300\n",
      "9/9 - 0s - loss: 0.0176 - accuracy: 1.0000 - val_loss: 0.0170 - val_accuracy: 1.0000 - 48ms/epoch - 5ms/step\n",
      "Epoch 153/300\n",
      "9/9 - 0s - loss: 0.0169 - accuracy: 1.0000 - val_loss: 0.0166 - val_accuracy: 1.0000 - 47ms/epoch - 5ms/step\n",
      "Epoch 154/300\n",
      "9/9 - 0s - loss: 0.0165 - accuracy: 1.0000 - val_loss: 0.0162 - val_accuracy: 1.0000 - 52ms/epoch - 6ms/step\n",
      "Epoch 155/300\n",
      "9/9 - 0s - loss: 0.0163 - accuracy: 1.0000 - val_loss: 0.0159 - val_accuracy: 1.0000 - 54ms/epoch - 6ms/step\n",
      "Epoch 156/300\n",
      "9/9 - 0s - loss: 0.0162 - accuracy: 1.0000 - val_loss: 0.0156 - val_accuracy: 1.0000 - 51ms/epoch - 6ms/step\n",
      "Epoch 157/300\n",
      "9/9 - 0s - loss: 0.0157 - accuracy: 1.0000 - val_loss: 0.0152 - val_accuracy: 1.0000 - 60ms/epoch - 7ms/step\n",
      "Epoch 158/300\n",
      "9/9 - 0s - loss: 0.0152 - accuracy: 1.0000 - val_loss: 0.0148 - val_accuracy: 1.0000 - 54ms/epoch - 6ms/step\n",
      "Epoch 159/300\n",
      "9/9 - 0s - loss: 0.0148 - accuracy: 1.0000 - val_loss: 0.0145 - val_accuracy: 1.0000 - 55ms/epoch - 6ms/step\n",
      "Epoch 160/300\n",
      "9/9 - 0s - loss: 0.0145 - accuracy: 1.0000 - val_loss: 0.0142 - val_accuracy: 1.0000 - 51ms/epoch - 6ms/step\n",
      "Epoch 161/300\n",
      "9/9 - 0s - loss: 0.0144 - accuracy: 1.0000 - val_loss: 0.0139 - val_accuracy: 1.0000 - 50ms/epoch - 6ms/step\n",
      "Epoch 162/300\n",
      "9/9 - 0s - loss: 0.0138 - accuracy: 1.0000 - val_loss: 0.0137 - val_accuracy: 1.0000 - 54ms/epoch - 6ms/step\n",
      "Epoch 163/300\n",
      "9/9 - 0s - loss: 0.0137 - accuracy: 1.0000 - val_loss: 0.0134 - val_accuracy: 1.0000 - 58ms/epoch - 6ms/step\n",
      "Epoch 164/300\n",
      "9/9 - 0s - loss: 0.0134 - accuracy: 1.0000 - val_loss: 0.0131 - val_accuracy: 1.0000 - 51ms/epoch - 6ms/step\n",
      "Epoch 165/300\n",
      "9/9 - 0s - loss: 0.0131 - accuracy: 1.0000 - val_loss: 0.0128 - val_accuracy: 1.0000 - 48ms/epoch - 5ms/step\n",
      "Epoch 166/300\n",
      "9/9 - 0s - loss: 0.0127 - accuracy: 1.0000 - val_loss: 0.0126 - val_accuracy: 1.0000 - 54ms/epoch - 6ms/step\n",
      "Epoch 167/300\n",
      "9/9 - 0s - loss: 0.0125 - accuracy: 1.0000 - val_loss: 0.0123 - val_accuracy: 1.0000 - 51ms/epoch - 6ms/step\n",
      "Epoch 168/300\n",
      "9/9 - 0s - loss: 0.0123 - accuracy: 1.0000 - val_loss: 0.0121 - val_accuracy: 1.0000 - 49ms/epoch - 5ms/step\n",
      "Epoch 169/300\n",
      "9/9 - 0s - loss: 0.0120 - accuracy: 1.0000 - val_loss: 0.0118 - val_accuracy: 1.0000 - 48ms/epoch - 5ms/step\n",
      "Epoch 170/300\n",
      "9/9 - 0s - loss: 0.0118 - accuracy: 1.0000 - val_loss: 0.0116 - val_accuracy: 1.0000 - 49ms/epoch - 5ms/step\n",
      "Epoch 171/300\n",
      "9/9 - 0s - loss: 0.0116 - accuracy: 1.0000 - val_loss: 0.0114 - val_accuracy: 1.0000 - 48ms/epoch - 5ms/step\n",
      "Epoch 172/300\n",
      "9/9 - 0s - loss: 0.0114 - accuracy: 1.0000 - val_loss: 0.0112 - val_accuracy: 1.0000 - 49ms/epoch - 5ms/step\n",
      "Epoch 173/300\n",
      "9/9 - 0s - loss: 0.0112 - accuracy: 1.0000 - val_loss: 0.0110 - val_accuracy: 1.0000 - 70ms/epoch - 8ms/step\n",
      "Epoch 174/300\n",
      "9/9 - 0s - loss: 0.0110 - accuracy: 1.0000 - val_loss: 0.0108 - val_accuracy: 1.0000 - 53ms/epoch - 6ms/step\n",
      "Epoch 175/300\n",
      "9/9 - 0s - loss: 0.0107 - accuracy: 1.0000 - val_loss: 0.0105 - val_accuracy: 1.0000 - 54ms/epoch - 6ms/step\n",
      "Epoch 176/300\n",
      "9/9 - 0s - loss: 0.0105 - accuracy: 1.0000 - val_loss: 0.0103 - val_accuracy: 1.0000 - 58ms/epoch - 6ms/step\n",
      "Epoch 177/300\n",
      "9/9 - 0s - loss: 0.0105 - accuracy: 1.0000 - val_loss: 0.0102 - val_accuracy: 1.0000 - 52ms/epoch - 6ms/step\n",
      "Epoch 178/300\n",
      "9/9 - 0s - loss: 0.0101 - accuracy: 1.0000 - val_loss: 0.0100 - val_accuracy: 1.0000 - 49ms/epoch - 5ms/step\n",
      "Epoch 179/300\n",
      "9/9 - 0s - loss: 0.0100 - accuracy: 1.0000 - val_loss: 0.0098 - val_accuracy: 1.0000 - 51ms/epoch - 6ms/step\n",
      "Epoch 180/300\n",
      "9/9 - 0s - loss: 0.0098 - accuracy: 1.0000 - val_loss: 0.0096 - val_accuracy: 1.0000 - 49ms/epoch - 5ms/step\n",
      "Epoch 181/300\n",
      "9/9 - 0s - loss: 0.0096 - accuracy: 1.0000 - val_loss: 0.0095 - val_accuracy: 1.0000 - 71ms/epoch - 8ms/step\n",
      "Epoch 182/300\n",
      "9/9 - 0s - loss: 0.0095 - accuracy: 1.0000 - val_loss: 0.0093 - val_accuracy: 1.0000 - 52ms/epoch - 6ms/step\n",
      "Epoch 183/300\n",
      "9/9 - 0s - loss: 0.0093 - accuracy: 1.0000 - val_loss: 0.0091 - val_accuracy: 1.0000 - 54ms/epoch - 6ms/step\n",
      "Epoch 184/300\n",
      "9/9 - 0s - loss: 0.0092 - accuracy: 1.0000 - val_loss: 0.0090 - val_accuracy: 1.0000 - 56ms/epoch - 6ms/step\n",
      "Epoch 185/300\n",
      "9/9 - 0s - loss: 0.0090 - accuracy: 1.0000 - val_loss: 0.0088 - val_accuracy: 1.0000 - 53ms/epoch - 6ms/step\n",
      "Epoch 186/300\n",
      "9/9 - 0s - loss: 0.0088 - accuracy: 1.0000 - val_loss: 0.0087 - val_accuracy: 1.0000 - 52ms/epoch - 6ms/step\n",
      "Epoch 187/300\n",
      "9/9 - 0s - loss: 0.0087 - accuracy: 1.0000 - val_loss: 0.0085 - val_accuracy: 1.0000 - 49ms/epoch - 5ms/step\n",
      "Epoch 188/300\n",
      "9/9 - 0s - loss: 0.0085 - accuracy: 1.0000 - val_loss: 0.0083 - val_accuracy: 1.0000 - 52ms/epoch - 6ms/step\n",
      "Epoch 189/300\n",
      "9/9 - 0s - loss: 0.0084 - accuracy: 1.0000 - val_loss: 0.0082 - val_accuracy: 1.0000 - 54ms/epoch - 6ms/step\n",
      "Epoch 190/300\n",
      "9/9 - 0s - loss: 0.0082 - accuracy: 1.0000 - val_loss: 0.0081 - val_accuracy: 1.0000 - 53ms/epoch - 6ms/step\n",
      "Epoch 191/300\n",
      "9/9 - 0s - loss: 0.0081 - accuracy: 1.0000 - val_loss: 0.0080 - val_accuracy: 1.0000 - 56ms/epoch - 6ms/step\n",
      "Epoch 192/300\n",
      "9/9 - 0s - loss: 0.0079 - accuracy: 1.0000 - val_loss: 0.0078 - val_accuracy: 1.0000 - 50ms/epoch - 6ms/step\n",
      "Epoch 193/300\n",
      "9/9 - 0s - loss: 0.0078 - accuracy: 1.0000 - val_loss: 0.0077 - val_accuracy: 1.0000 - 54ms/epoch - 6ms/step\n",
      "Epoch 194/300\n",
      "9/9 - 0s - loss: 0.0077 - accuracy: 1.0000 - val_loss: 0.0076 - val_accuracy: 1.0000 - 50ms/epoch - 6ms/step\n",
      "Epoch 195/300\n",
      "9/9 - 0s - loss: 0.0075 - accuracy: 1.0000 - val_loss: 0.0074 - val_accuracy: 1.0000 - 63ms/epoch - 7ms/step\n",
      "Epoch 196/300\n",
      "9/9 - 0s - loss: 0.0074 - accuracy: 1.0000 - val_loss: 0.0073 - val_accuracy: 1.0000 - 50ms/epoch - 6ms/step\n",
      "Epoch 197/300\n",
      "9/9 - 0s - loss: 0.0073 - accuracy: 1.0000 - val_loss: 0.0072 - val_accuracy: 1.0000 - 49ms/epoch - 5ms/step\n",
      "Epoch 198/300\n",
      "9/9 - 0s - loss: 0.0072 - accuracy: 1.0000 - val_loss: 0.0071 - val_accuracy: 1.0000 - 55ms/epoch - 6ms/step\n",
      "Epoch 199/300\n",
      "9/9 - 0s - loss: 0.0071 - accuracy: 1.0000 - val_loss: 0.0070 - val_accuracy: 1.0000 - 56ms/epoch - 6ms/step\n",
      "Epoch 200/300\n",
      "9/9 - 0s - loss: 0.0069 - accuracy: 1.0000 - val_loss: 0.0069 - val_accuracy: 1.0000 - 55ms/epoch - 6ms/step\n",
      "Epoch 201/300\n",
      "9/9 - 0s - loss: 0.0069 - accuracy: 1.0000 - val_loss: 0.0067 - val_accuracy: 1.0000 - 56ms/epoch - 6ms/step\n",
      "Epoch 202/300\n",
      "9/9 - 0s - loss: 0.0067 - accuracy: 1.0000 - val_loss: 0.0066 - val_accuracy: 1.0000 - 52ms/epoch - 6ms/step\n"
     ]
    },
    {
     "name": "stdout",
     "output_type": "stream",
     "text": [
      "Epoch 203/300\n",
      "9/9 - 0s - loss: 0.0067 - accuracy: 1.0000 - val_loss: 0.0065 - val_accuracy: 1.0000 - 53ms/epoch - 6ms/step\n",
      "Epoch 204/300\n",
      "9/9 - 0s - loss: 0.0065 - accuracy: 1.0000 - val_loss: 0.0064 - val_accuracy: 1.0000 - 51ms/epoch - 6ms/step\n",
      "Epoch 205/300\n",
      "9/9 - 0s - loss: 0.0065 - accuracy: 1.0000 - val_loss: 0.0063 - val_accuracy: 1.0000 - 53ms/epoch - 6ms/step\n",
      "Epoch 206/300\n",
      "9/9 - 0s - loss: 0.0064 - accuracy: 1.0000 - val_loss: 0.0062 - val_accuracy: 1.0000 - 53ms/epoch - 6ms/step\n",
      "Epoch 207/300\n",
      "9/9 - 0s - loss: 0.0063 - accuracy: 1.0000 - val_loss: 0.0062 - val_accuracy: 1.0000 - 61ms/epoch - 7ms/step\n",
      "Epoch 208/300\n",
      "9/9 - 0s - loss: 0.0062 - accuracy: 1.0000 - val_loss: 0.0061 - val_accuracy: 1.0000 - 58ms/epoch - 6ms/step\n",
      "Epoch 209/300\n",
      "9/9 - 0s - loss: 0.0061 - accuracy: 1.0000 - val_loss: 0.0060 - val_accuracy: 1.0000 - 60ms/epoch - 7ms/step\n",
      "Epoch 210/300\n",
      "9/9 - 0s - loss: 0.0060 - accuracy: 1.0000 - val_loss: 0.0059 - val_accuracy: 1.0000 - 60ms/epoch - 7ms/step\n",
      "Epoch 211/300\n",
      "9/9 - 0s - loss: 0.0059 - accuracy: 1.0000 - val_loss: 0.0058 - val_accuracy: 1.0000 - 52ms/epoch - 6ms/step\n",
      "Epoch 212/300\n",
      "9/9 - 0s - loss: 0.0058 - accuracy: 1.0000 - val_loss: 0.0057 - val_accuracy: 1.0000 - 55ms/epoch - 6ms/step\n",
      "Epoch 213/300\n",
      "9/9 - 0s - loss: 0.0057 - accuracy: 1.0000 - val_loss: 0.0056 - val_accuracy: 1.0000 - 58ms/epoch - 6ms/step\n",
      "Epoch 214/300\n",
      "9/9 - 0s - loss: 0.0056 - accuracy: 1.0000 - val_loss: 0.0055 - val_accuracy: 1.0000 - 54ms/epoch - 6ms/step\n",
      "Epoch 215/300\n",
      "9/9 - 0s - loss: 0.0055 - accuracy: 1.0000 - val_loss: 0.0055 - val_accuracy: 1.0000 - 51ms/epoch - 6ms/step\n",
      "Epoch 216/300\n",
      "9/9 - 0s - loss: 0.0055 - accuracy: 1.0000 - val_loss: 0.0054 - val_accuracy: 1.0000 - 50ms/epoch - 6ms/step\n",
      "Epoch 217/300\n",
      "9/9 - 0s - loss: 0.0054 - accuracy: 1.0000 - val_loss: 0.0053 - val_accuracy: 1.0000 - 62ms/epoch - 7ms/step\n",
      "Epoch 218/300\n",
      "9/9 - 0s - loss: 0.0053 - accuracy: 1.0000 - val_loss: 0.0052 - val_accuracy: 1.0000 - 60ms/epoch - 7ms/step\n",
      "Epoch 219/300\n",
      "9/9 - 0s - loss: 0.0052 - accuracy: 1.0000 - val_loss: 0.0052 - val_accuracy: 1.0000 - 67ms/epoch - 7ms/step\n",
      "Epoch 220/300\n",
      "9/9 - 0s - loss: 0.0052 - accuracy: 1.0000 - val_loss: 0.0051 - val_accuracy: 1.0000 - 64ms/epoch - 7ms/step\n",
      "Epoch 221/300\n",
      "9/9 - 0s - loss: 0.0051 - accuracy: 1.0000 - val_loss: 0.0050 - val_accuracy: 1.0000 - 62ms/epoch - 7ms/step\n",
      "Epoch 222/300\n",
      "9/9 - 0s - loss: 0.0050 - accuracy: 1.0000 - val_loss: 0.0049 - val_accuracy: 1.0000 - 58ms/epoch - 6ms/step\n",
      "Epoch 223/300\n",
      "9/9 - 0s - loss: 0.0049 - accuracy: 1.0000 - val_loss: 0.0049 - val_accuracy: 1.0000 - 58ms/epoch - 6ms/step\n",
      "Epoch 224/300\n",
      "9/9 - 0s - loss: 0.0049 - accuracy: 1.0000 - val_loss: 0.0048 - val_accuracy: 1.0000 - 54ms/epoch - 6ms/step\n",
      "Epoch 225/300\n",
      "9/9 - 0s - loss: 0.0049 - accuracy: 1.0000 - val_loss: 0.0047 - val_accuracy: 1.0000 - 50ms/epoch - 6ms/step\n",
      "Epoch 226/300\n",
      "9/9 - 0s - loss: 0.0047 - accuracy: 1.0000 - val_loss: 0.0047 - val_accuracy: 1.0000 - 47ms/epoch - 5ms/step\n",
      "Epoch 227/300\n",
      "9/9 - 0s - loss: 0.0047 - accuracy: 1.0000 - val_loss: 0.0046 - val_accuracy: 1.0000 - 51ms/epoch - 6ms/step\n",
      "Epoch 228/300\n",
      "9/9 - 0s - loss: 0.0046 - accuracy: 1.0000 - val_loss: 0.0046 - val_accuracy: 1.0000 - 51ms/epoch - 6ms/step\n",
      "Epoch 229/300\n",
      "9/9 - 0s - loss: 0.0046 - accuracy: 1.0000 - val_loss: 0.0045 - val_accuracy: 1.0000 - 55ms/epoch - 6ms/step\n",
      "Epoch 230/300\n",
      "9/9 - 0s - loss: 0.0045 - accuracy: 1.0000 - val_loss: 0.0044 - val_accuracy: 1.0000 - 50ms/epoch - 6ms/step\n",
      "Epoch 231/300\n",
      "9/9 - 0s - loss: 0.0044 - accuracy: 1.0000 - val_loss: 0.0044 - val_accuracy: 1.0000 - 57ms/epoch - 6ms/step\n",
      "Epoch 232/300\n",
      "9/9 - 0s - loss: 0.0044 - accuracy: 1.0000 - val_loss: 0.0043 - val_accuracy: 1.0000 - 49ms/epoch - 5ms/step\n",
      "Epoch 233/300\n",
      "9/9 - 0s - loss: 0.0043 - accuracy: 1.0000 - val_loss: 0.0043 - val_accuracy: 1.0000 - 50ms/epoch - 6ms/step\n",
      "Epoch 234/300\n",
      "9/9 - 0s - loss: 0.0042 - accuracy: 1.0000 - val_loss: 0.0042 - val_accuracy: 1.0000 - 50ms/epoch - 6ms/step\n",
      "Epoch 235/300\n",
      "9/9 - 0s - loss: 0.0042 - accuracy: 1.0000 - val_loss: 0.0041 - val_accuracy: 1.0000 - 51ms/epoch - 6ms/step\n",
      "Epoch 236/300\n",
      "9/9 - 0s - loss: 0.0042 - accuracy: 1.0000 - val_loss: 0.0041 - val_accuracy: 1.0000 - 57ms/epoch - 6ms/step\n",
      "Epoch 237/300\n",
      "9/9 - 0s - loss: 0.0041 - accuracy: 1.0000 - val_loss: 0.0041 - val_accuracy: 1.0000 - 51ms/epoch - 6ms/step\n",
      "Epoch 238/300\n",
      "9/9 - 0s - loss: 0.0041 - accuracy: 1.0000 - val_loss: 0.0040 - val_accuracy: 1.0000 - 53ms/epoch - 6ms/step\n",
      "Epoch 239/300\n",
      "9/9 - 0s - loss: 0.0040 - accuracy: 1.0000 - val_loss: 0.0039 - val_accuracy: 1.0000 - 55ms/epoch - 6ms/step\n",
      "Epoch 240/300\n",
      "9/9 - 0s - loss: 0.0040 - accuracy: 1.0000 - val_loss: 0.0039 - val_accuracy: 1.0000 - 56ms/epoch - 6ms/step\n",
      "Epoch 241/300\n",
      "9/9 - 0s - loss: 0.0039 - accuracy: 1.0000 - val_loss: 0.0038 - val_accuracy: 1.0000 - 53ms/epoch - 6ms/step\n",
      "Epoch 242/300\n",
      "9/9 - 0s - loss: 0.0038 - accuracy: 1.0000 - val_loss: 0.0038 - val_accuracy: 1.0000 - 52ms/epoch - 6ms/step\n",
      "Epoch 243/300\n",
      "9/9 - 0s - loss: 0.0038 - accuracy: 1.0000 - val_loss: 0.0037 - val_accuracy: 1.0000 - 54ms/epoch - 6ms/step\n",
      "Epoch 244/300\n",
      "9/9 - 0s - loss: 0.0037 - accuracy: 1.0000 - val_loss: 0.0037 - val_accuracy: 1.0000 - 73ms/epoch - 8ms/step\n",
      "Epoch 245/300\n",
      "9/9 - 0s - loss: 0.0037 - accuracy: 1.0000 - val_loss: 0.0036 - val_accuracy: 1.0000 - 54ms/epoch - 6ms/step\n",
      "Epoch 246/300\n",
      "9/9 - 0s - loss: 0.0037 - accuracy: 1.0000 - val_loss: 0.0036 - val_accuracy: 1.0000 - 55ms/epoch - 6ms/step\n",
      "Epoch 247/300\n",
      "9/9 - 0s - loss: 0.0036 - accuracy: 1.0000 - val_loss: 0.0036 - val_accuracy: 1.0000 - 53ms/epoch - 6ms/step\n",
      "Epoch 248/300\n",
      "9/9 - 0s - loss: 0.0036 - accuracy: 1.0000 - val_loss: 0.0035 - val_accuracy: 1.0000 - 54ms/epoch - 6ms/step\n",
      "Epoch 249/300\n",
      "9/9 - 0s - loss: 0.0035 - accuracy: 1.0000 - val_loss: 0.0035 - val_accuracy: 1.0000 - 58ms/epoch - 6ms/step\n",
      "Epoch 250/300\n",
      "9/9 - 0s - loss: 0.0035 - accuracy: 1.0000 - val_loss: 0.0034 - val_accuracy: 1.0000 - 56ms/epoch - 6ms/step\n",
      "Epoch 251/300\n",
      "9/9 - 0s - loss: 0.0034 - accuracy: 1.0000 - val_loss: 0.0034 - val_accuracy: 1.0000 - 49ms/epoch - 5ms/step\n",
      "Epoch 252/300\n",
      "9/9 - 0s - loss: 0.0034 - accuracy: 1.0000 - val_loss: 0.0033 - val_accuracy: 1.0000 - 51ms/epoch - 6ms/step\n",
      "Epoch 253/300\n",
      "9/9 - 0s - loss: 0.0034 - accuracy: 1.0000 - val_loss: 0.0033 - val_accuracy: 1.0000 - 56ms/epoch - 6ms/step\n",
      "Epoch 254/300\n",
      "9/9 - 0s - loss: 0.0033 - accuracy: 1.0000 - val_loss: 0.0033 - val_accuracy: 1.0000 - 54ms/epoch - 6ms/step\n",
      "Epoch 255/300\n",
      "9/9 - 0s - loss: 0.0033 - accuracy: 1.0000 - val_loss: 0.0032 - val_accuracy: 1.0000 - 53ms/epoch - 6ms/step\n",
      "Epoch 256/300\n",
      "9/9 - 0s - loss: 0.0032 - accuracy: 1.0000 - val_loss: 0.0032 - val_accuracy: 1.0000 - 52ms/epoch - 6ms/step\n",
      "Epoch 257/300\n",
      "9/9 - 0s - loss: 0.0032 - accuracy: 1.0000 - val_loss: 0.0032 - val_accuracy: 1.0000 - 49ms/epoch - 5ms/step\n",
      "Epoch 258/300\n",
      "9/9 - 0s - loss: 0.0032 - accuracy: 1.0000 - val_loss: 0.0031 - val_accuracy: 1.0000 - 48ms/epoch - 5ms/step\n",
      "Epoch 259/300\n",
      "9/9 - 0s - loss: 0.0031 - accuracy: 1.0000 - val_loss: 0.0031 - val_accuracy: 1.0000 - 47ms/epoch - 5ms/step\n",
      "Epoch 260/300\n",
      "9/9 - 0s - loss: 0.0031 - accuracy: 1.0000 - val_loss: 0.0030 - val_accuracy: 1.0000 - 49ms/epoch - 5ms/step\n",
      "Epoch 261/300\n",
      "9/9 - 0s - loss: 0.0030 - accuracy: 1.0000 - val_loss: 0.0030 - val_accuracy: 1.0000 - 51ms/epoch - 6ms/step\n",
      "Epoch 262/300\n",
      "9/9 - 0s - loss: 0.0030 - accuracy: 1.0000 - val_loss: 0.0030 - val_accuracy: 1.0000 - 50ms/epoch - 6ms/step\n",
      "Epoch 263/300\n",
      "9/9 - 0s - loss: 0.0030 - accuracy: 1.0000 - val_loss: 0.0029 - val_accuracy: 1.0000 - 48ms/epoch - 5ms/step\n",
      "Epoch 264/300\n",
      "9/9 - 0s - loss: 0.0029 - accuracy: 1.0000 - val_loss: 0.0029 - val_accuracy: 1.0000 - 50ms/epoch - 6ms/step\n",
      "Epoch 265/300\n",
      "9/9 - 0s - loss: 0.0029 - accuracy: 1.0000 - val_loss: 0.0029 - val_accuracy: 1.0000 - 58ms/epoch - 6ms/step\n",
      "Epoch 266/300\n",
      "9/9 - 0s - loss: 0.0029 - accuracy: 1.0000 - val_loss: 0.0028 - val_accuracy: 1.0000 - 48ms/epoch - 5ms/step\n",
      "Epoch 267/300\n",
      "9/9 - 0s - loss: 0.0029 - accuracy: 1.0000 - val_loss: 0.0028 - val_accuracy: 1.0000 - 55ms/epoch - 6ms/step\n",
      "Epoch 268/300\n",
      "9/9 - 0s - loss: 0.0028 - accuracy: 1.0000 - val_loss: 0.0028 - val_accuracy: 1.0000 - 65ms/epoch - 7ms/step\n",
      "Epoch 269/300\n",
      "9/9 - 0s - loss: 0.0028 - accuracy: 1.0000 - val_loss: 0.0027 - val_accuracy: 1.0000 - 63ms/epoch - 7ms/step\n"
     ]
    },
    {
     "name": "stdout",
     "output_type": "stream",
     "text": [
      "Epoch 270/300\n",
      "9/9 - 0s - loss: 0.0027 - accuracy: 1.0000 - val_loss: 0.0027 - val_accuracy: 1.0000 - 57ms/epoch - 6ms/step\n",
      "Epoch 271/300\n",
      "9/9 - 0s - loss: 0.0027 - accuracy: 1.0000 - val_loss: 0.0027 - val_accuracy: 1.0000 - 55ms/epoch - 6ms/step\n",
      "Epoch 272/300\n",
      "9/9 - 0s - loss: 0.0027 - accuracy: 1.0000 - val_loss: 0.0027 - val_accuracy: 1.0000 - 57ms/epoch - 6ms/step\n",
      "Epoch 273/300\n",
      "9/9 - 0s - loss: 0.0027 - accuracy: 1.0000 - val_loss: 0.0026 - val_accuracy: 1.0000 - 56ms/epoch - 6ms/step\n",
      "Epoch 274/300\n",
      "9/9 - 0s - loss: 0.0026 - accuracy: 1.0000 - val_loss: 0.0026 - val_accuracy: 1.0000 - 51ms/epoch - 6ms/step\n",
      "Epoch 275/300\n",
      "9/9 - 0s - loss: 0.0026 - accuracy: 1.0000 - val_loss: 0.0026 - val_accuracy: 1.0000 - 52ms/epoch - 6ms/step\n",
      "Epoch 276/300\n",
      "9/9 - 0s - loss: 0.0026 - accuracy: 1.0000 - val_loss: 0.0025 - val_accuracy: 1.0000 - 55ms/epoch - 6ms/step\n",
      "Epoch 277/300\n",
      "9/9 - 0s - loss: 0.0025 - accuracy: 1.0000 - val_loss: 0.0025 - val_accuracy: 1.0000 - 55ms/epoch - 6ms/step\n",
      "Epoch 278/300\n",
      "9/9 - 0s - loss: 0.0025 - accuracy: 1.0000 - val_loss: 0.0025 - val_accuracy: 1.0000 - 59ms/epoch - 7ms/step\n",
      "Epoch 279/300\n",
      "9/9 - 0s - loss: 0.0025 - accuracy: 1.0000 - val_loss: 0.0025 - val_accuracy: 1.0000 - 61ms/epoch - 7ms/step\n",
      "Epoch 280/300\n",
      "9/9 - 0s - loss: 0.0025 - accuracy: 1.0000 - val_loss: 0.0024 - val_accuracy: 1.0000 - 59ms/epoch - 7ms/step\n",
      "Epoch 281/300\n",
      "9/9 - 0s - loss: 0.0024 - accuracy: 1.0000 - val_loss: 0.0024 - val_accuracy: 1.0000 - 62ms/epoch - 7ms/step\n",
      "Epoch 282/300\n",
      "9/9 - 0s - loss: 0.0024 - accuracy: 1.0000 - val_loss: 0.0024 - val_accuracy: 1.0000 - 61ms/epoch - 7ms/step\n",
      "Epoch 283/300\n",
      "9/9 - 0s - loss: 0.0024 - accuracy: 1.0000 - val_loss: 0.0023 - val_accuracy: 1.0000 - 57ms/epoch - 6ms/step\n",
      "Epoch 284/300\n",
      "9/9 - 0s - loss: 0.0024 - accuracy: 1.0000 - val_loss: 0.0023 - val_accuracy: 1.0000 - 58ms/epoch - 6ms/step\n",
      "Epoch 285/300\n",
      "9/9 - 0s - loss: 0.0023 - accuracy: 1.0000 - val_loss: 0.0023 - val_accuracy: 1.0000 - 63ms/epoch - 7ms/step\n",
      "Epoch 286/300\n",
      "9/9 - 0s - loss: 0.0023 - accuracy: 1.0000 - val_loss: 0.0023 - val_accuracy: 1.0000 - 72ms/epoch - 8ms/step\n",
      "Epoch 287/300\n",
      "9/9 - 0s - loss: 0.0023 - accuracy: 1.0000 - val_loss: 0.0023 - val_accuracy: 1.0000 - 59ms/epoch - 7ms/step\n",
      "Epoch 288/300\n",
      "9/9 - 0s - loss: 0.0023 - accuracy: 1.0000 - val_loss: 0.0022 - val_accuracy: 1.0000 - 56ms/epoch - 6ms/step\n",
      "Epoch 289/300\n",
      "9/9 - 0s - loss: 0.0022 - accuracy: 1.0000 - val_loss: 0.0022 - val_accuracy: 1.0000 - 52ms/epoch - 6ms/step\n",
      "Epoch 290/300\n",
      "9/9 - 0s - loss: 0.0022 - accuracy: 1.0000 - val_loss: 0.0022 - val_accuracy: 1.0000 - 50ms/epoch - 6ms/step\n",
      "Epoch 291/300\n",
      "9/9 - 0s - loss: 0.0022 - accuracy: 1.0000 - val_loss: 0.0022 - val_accuracy: 1.0000 - 51ms/epoch - 6ms/step\n",
      "Epoch 292/300\n",
      "9/9 - 0s - loss: 0.0022 - accuracy: 1.0000 - val_loss: 0.0021 - val_accuracy: 1.0000 - 54ms/epoch - 6ms/step\n",
      "Epoch 293/300\n",
      "9/9 - 0s - loss: 0.0021 - accuracy: 1.0000 - val_loss: 0.0021 - val_accuracy: 1.0000 - 59ms/epoch - 7ms/step\n",
      "Epoch 294/300\n",
      "9/9 - 0s - loss: 0.0021 - accuracy: 1.0000 - val_loss: 0.0021 - val_accuracy: 1.0000 - 55ms/epoch - 6ms/step\n",
      "Epoch 295/300\n",
      "9/9 - 0s - loss: 0.0021 - accuracy: 1.0000 - val_loss: 0.0021 - val_accuracy: 1.0000 - 58ms/epoch - 6ms/step\n",
      "Epoch 296/300\n",
      "9/9 - 0s - loss: 0.0021 - accuracy: 1.0000 - val_loss: 0.0020 - val_accuracy: 1.0000 - 58ms/epoch - 6ms/step\n",
      "Epoch 297/300\n",
      "9/9 - 0s - loss: 0.0021 - accuracy: 1.0000 - val_loss: 0.0020 - val_accuracy: 1.0000 - 56ms/epoch - 6ms/step\n",
      "Epoch 298/300\n",
      "9/9 - 0s - loss: 0.0020 - accuracy: 1.0000 - val_loss: 0.0020 - val_accuracy: 1.0000 - 59ms/epoch - 7ms/step\n",
      "Epoch 299/300\n",
      "9/9 - 0s - loss: 0.0020 - accuracy: 1.0000 - val_loss: 0.0020 - val_accuracy: 1.0000 - 54ms/epoch - 6ms/step\n",
      "Epoch 300/300\n",
      "9/9 - 0s - loss: 0.0020 - accuracy: 1.0000 - val_loss: 0.0020 - val_accuracy: 1.0000 - 56ms/epoch - 6ms/step\n"
     ]
    }
   ],
   "source": [
    "hist = model.fit(x_train, y_train, # 학습(훈련)데이터\n",
    "                 epochs=300, # 학습 횟수\n",
    "                 batch_size=10, # 가중치를 조정하는 단위\n",
    "                 verbose=2, # 0 : 출력없음, 1 : 진행상황만 출력, 2 : 에포크별 로그메세지 출력\n",
    "                 validation_data=(X_val, Y_val) # 검증 데이터셋\n",
    "                )"
   ]
  },
  {
   "cell_type": "markdown",
   "id": "fd63342c",
   "metadata": {},
   "source": [
    "# 6. 모델과정 평가하기\n",
    "- 학습과정 중 loss와 평가지표(accuracy)살펴보기, evalate함수"
   ]
  },
  {
   "cell_type": "code",
   "execution_count": 16,
   "id": "a8e20e23",
   "metadata": {
    "ExecuteTime": {
     "end_time": "2024-12-12T07:51:56.242435Z",
     "start_time": "2024-12-12T07:51:56.236452Z"
    }
   },
   "outputs": [
    {
     "data": {
      "text/plain": [
       "dict_keys(['loss', 'accuracy', 'val_loss', 'val_accuracy'])"
      ]
     },
     "execution_count": 16,
     "metadata": {},
     "output_type": "execute_result"
    }
   ],
   "source": [
    "hist.history.keys()"
   ]
  },
  {
   "cell_type": "code",
   "execution_count": 26,
   "id": "186e7f56",
   "metadata": {
    "ExecuteTime": {
     "end_time": "2024-12-12T08:04:19.232972Z",
     "start_time": "2024-12-12T08:04:18.987628Z"
    }
   },
   "outputs": [
    {
     "data": {
      "image/png": "[encoded data removed]",
      "text/plain": [
       "<Figure size 1000x300 with 2 Axes>"
      ]
     },
     "metadata": {},
     "output_type": "display_data"
    }
   ],
   "source": [
    "# 학습과정 중의 loss와 accuracy\n",
    "import matplotlib.pyplot as plt\n",
    "fig, loss_ax = plt.subplots(figsize=(10,3))\n",
    "loss_ax.plot(hist.history['loss'], 'y', label = 'train loss')\n",
    "loss_ax.plot(hist.history['val_loss'], 'r', label = 'val loss')\n",
    "accuracy_ax = loss_ax.twinx()\n",
    "accuracy_ax.plot(hist.history['accuracy'], 'g', label = 'train accuracy')\n",
    "accuracy_ax.plot(hist.history['val_accuracy'], 'b', label = 'val accuracy')\n",
    "loss_ax.set_xlabel('epoch')\n",
    "loss_ax.set_ylabel('loss')\n",
    "accuracy_ax.set_ylabel('accuracy')\n",
    "loss_ax.legend()\n",
    "accuracy_ax.legend(loc = 'center right')\n",
    "plt.show()"
   ]
  },
  {
   "cell_type": "code",
   "execution_count": 27,
   "id": "bd632e2a",
   "metadata": {
    "ExecuteTime": {
     "end_time": "2024-12-12T08:20:51.911072Z",
     "start_time": "2024-12-12T08:20:51.904069Z"
    }
   },
   "outputs": [
    {
     "data": {
      "text/plain": [
       "(array([1, 2, 3, 4, 5, 6, 7, 8, 9]),\n",
       " array([[0., 0., 1., 0., 0., 0., 0., 0., 0., 0., 0., 0., 0., 0., 0., 0.,\n",
       "         0., 0., 0.],\n",
       "        [0., 0., 0., 0., 1., 0., 0., 0., 0., 0., 0., 0., 0., 0., 0., 0.,\n",
       "         0., 0., 0.],\n",
       "        [0., 0., 0., 0., 0., 0., 1., 0., 0., 0., 0., 0., 0., 0., 0., 0.,\n",
       "         0., 0., 0.],\n",
       "        [0., 0., 0., 0., 0., 0., 0., 0., 1., 0., 0., 0., 0., 0., 0., 0.,\n",
       "         0., 0., 0.],\n",
       "        [0., 0., 0., 0., 0., 0., 0., 0., 0., 0., 1., 0., 0., 0., 0., 0.,\n",
       "         0., 0., 0.],\n",
       "        [0., 0., 0., 0., 0., 0., 0., 0., 0., 0., 0., 0., 1., 0., 0., 0.,\n",
       "         0., 0., 0.],\n",
       "        [0., 0., 0., 0., 0., 0., 0., 0., 0., 0., 0., 0., 0., 0., 1., 0.,\n",
       "         0., 0., 0.],\n",
       "        [0., 0., 0., 0., 0., 0., 0., 0., 0., 0., 0., 0., 0., 0., 0., 0.,\n",
       "         1., 0., 0.],\n",
       "        [0., 0., 0., 0., 0., 0., 0., 0., 0., 0., 0., 0., 0., 0., 0., 0.,\n",
       "         0., 0., 1.]], dtype=float32))"
      ]
     },
     "execution_count": 27,
     "metadata": {},
     "output_type": "execute_result"
    }
   ],
   "source": [
    "X_val, Y_val"
   ]
  },
  {
   "cell_type": "code",
   "execution_count": 29,
   "id": "f18c22d5",
   "metadata": {
    "ExecuteTime": {
     "end_time": "2024-12-12T08:22:03.070728Z",
     "start_time": "2024-12-12T08:22:02.975024Z"
    }
   },
   "outputs": [
    {
     "name": "stdout",
     "output_type": "stream",
     "text": [
      "3/3 [==============================] - 0s 4ms/step - loss: 0.0020 - accuracy: 1.0000\n"
     ]
    }
   ],
   "source": [
    "# 모델 평가하기\n",
    "score = model.evaluate(X_val, Y_val, batch_size=3)"
   ]
  },
  {
   "cell_type": "code",
   "execution_count": 30,
   "id": "4bc073df",
   "metadata": {
    "ExecuteTime": {
     "end_time": "2024-12-12T08:22:14.001461Z",
     "start_time": "2024-12-12T08:22:13.996474Z"
    }
   },
   "outputs": [
    {
     "data": {
      "text/plain": [
       "[0.001965433591976762, 1.0]"
      ]
     },
     "execution_count": 30,
     "metadata": {},
     "output_type": "execute_result"
    }
   ],
   "source": [
    "score"
   ]
  },
  {
   "cell_type": "code",
   "execution_count": 32,
   "id": "4fc0c856",
   "metadata": {
    "ExecuteTime": {
     "end_time": "2024-12-12T08:26:40.336160Z",
     "start_time": "2024-12-12T08:26:40.331184Z"
    }
   },
   "outputs": [
    {
     "name": "stdout",
     "output_type": "stream",
     "text": [
      "평가된 loss값 : 0.001965433591976762\n",
      "평가된 accuracy : 100.0 %\n"
     ]
    }
   ],
   "source": [
    "print('평가된 loss값 :', score[0])\n",
    "print('평가된 accuracy :', score[1]*100,'%')"
   ]
  },
  {
   "cell_type": "markdown",
   "id": "2d8e2936",
   "metadata": {},
   "source": [
    "# 7. 모델 사용하기(모델을 사용해서 예측하기)"
   ]
  },
  {
   "cell_type": "code",
   "execution_count": 42,
   "id": "5d4e9e56",
   "metadata": {
    "ExecuteTime": {
     "end_time": "2024-12-12T08:32:46.933151Z",
     "start_time": "2024-12-12T08:32:46.863332Z"
    }
   },
   "outputs": [
    {
     "name": "stdout",
     "output_type": "stream",
     "text": [
      "1/1 [==============================] - 0s 22ms/step\n"
     ]
    },
    {
     "data": {
      "text/plain": [
       "array([[1.9399289e-24, 5.9098031e-22, 0.0000000e+00, 3.9366666e-25,\n",
       "        0.0000000e+00, 7.3879511e-26, 5.7186788e-29, 1.7110411e-24,\n",
       "        2.1928725e-34, 2.1060139e-24, 2.7344681e-22, 1.4734110e-26,\n",
       "        1.7991752e-20, 4.6366811e-20, 5.8882821e-10, 5.1343686e-15,\n",
       "        1.7332047e-03, 4.6232974e-26, 9.9826682e-01]], dtype=float32)"
      ]
     },
     "execution_count": 42,
     "metadata": {},
     "output_type": "execute_result"
    }
   ],
   "source": [
    "H = model.predict(np.array([9]))\n",
    "H"
   ]
  },
  {
   "cell_type": "code",
   "execution_count": 47,
   "id": "3a4c88a0",
   "metadata": {
    "ExecuteTime": {
     "end_time": "2024-12-12T08:33:37.166246Z",
     "start_time": "2024-12-12T08:33:37.099425Z"
    }
   },
   "outputs": [
    {
     "name": "stdout",
     "output_type": "stream",
     "text": [
      "1/1 [==============================] - 0s 23ms/step\n"
     ]
    },
    {
     "data": {
      "text/plain": [
       "10"
      ]
     },
     "execution_count": 47,
     "metadata": {},
     "output_type": "execute_result"
    }
   ],
   "source": [
    "model.predict(np.array([5])).argmax()"
   ]
  },
  {
   "cell_type": "code",
   "execution_count": 51,
   "id": "698993c0",
   "metadata": {
    "ExecuteTime": {
     "end_time": "2024-12-12T08:36:50.017426Z",
     "start_time": "2024-12-12T08:36:50.011420Z"
    }
   },
   "outputs": [
    {
     "data": {
      "text/plain": [
       "0.9982668"
      ]
     },
     "execution_count": 51,
     "metadata": {},
     "output_type": "execute_result"
    }
   ],
   "source": [
    "# 몇%의 확률로 분류되었는지\n",
    "H[0, H.argmax()]"
   ]
  },
  {
   "cell_type": "markdown",
   "id": "74664915",
   "metadata": {},
   "source": [
    "# 7. 모델 저장하기"
   ]
  },
  {
   "cell_type": "code",
   "execution_count": 52,
   "id": "b3b1711b",
   "metadata": {
    "ExecuteTime": {
     "end_time": "2024-12-12T08:39:15.451620Z",
     "start_time": "2024-12-12T08:39:15.390795Z"
    }
   },
   "outputs": [],
   "source": [
    "model.save('model/2_deep_begin.h5')"
   ]
  },
  {
   "cell_type": "markdown",
   "id": "f9202803",
   "metadata": {},
   "source": [
    "# 저장된 모델 저장하기"
   ]
  },
  {
   "cell_type": "code",
   "execution_count": 3,
   "id": "28000438",
   "metadata": {
    "ExecuteTime": {
     "end_time": "2024-12-12T08:43:50.826102Z",
     "start_time": "2024-12-12T08:43:48.752438Z"
    }
   },
   "outputs": [],
   "source": [
    "from tensorflow.keras.models import load_model\n",
    "model = load_model('model/2_deep_begin.h5')"
   ]
  },
  {
   "cell_type": "code",
   "execution_count": 7,
   "id": "a571b278",
   "metadata": {
    "ExecuteTime": {
     "end_time": "2024-12-12T08:47:16.094002Z",
     "start_time": "2024-12-12T08:47:16.011143Z"
    }
   },
   "outputs": [
    {
     "name": "stdout",
     "output_type": "stream",
     "text": [
      "1/1 [==============================] - 0s 45ms/step\n"
     ]
    },
    {
     "data": {
      "text/plain": [
       "4"
      ]
     },
     "execution_count": 7,
     "metadata": {},
     "output_type": "execute_result"
    }
   ],
   "source": [
    "H = model.predict(np.array([2]))\n",
    "H.argmax()"
   ]
  },
  {
   "cell_type": "code",
   "execution_count": 16,
   "id": "27490a89",
   "metadata": {
    "ExecuteTime": {
     "end_time": "2024-12-12T08:48:43.908143Z",
     "start_time": "2024-12-12T08:48:43.902159Z"
    }
   },
   "outputs": [
    {
     "data": {
      "text/plain": [
       "99.8872458934784"
      ]
     },
     "execution_count": 16,
     "metadata": {},
     "output_type": "execute_result"
    }
   ],
   "source": [
    "H[0, H.argmax()]*100"
   ]
  }
 ],
 "metadata": {
  "kernelspec": {
   "display_name": "Python 3 (ipykernel)",
   "language": "python",
   "name": "python3"
  },
  "language_info": {
   "codemirror_mode": {
    "name": "ipython",
    "version": 3
   },
   "file_extension": ".py",
   "mimetype": "text/x-python",
   "name": "python",
   "nbconvert_exporter": "python",
   "pygments_lexer": "ipython3",
   "version": "3.10.9"
  },
  "toc": {
   "base_numbering": 1,
   "nav_menu": {},
   "number_sections": true,
   "sideBar": true,
   "skip_h1_title": false,
   "title_cell": "Table of Contents",
   "title_sidebar": "Contents",
   "toc_cell": false,
   "toc_position": {
    "height": "calc(100% - 180px)",
    "left": "10px",
    "top": "150px",
    "width": "224px"
   },
   "toc_section_display": true,
   "toc_window_display": true
  }
 },
 "nbformat": 4,
 "nbformat_minor": 5
}
