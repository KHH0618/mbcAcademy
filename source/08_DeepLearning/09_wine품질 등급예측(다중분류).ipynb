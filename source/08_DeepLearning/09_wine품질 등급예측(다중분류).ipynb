{
 "cells": [
  {
   "cell_type": "code",
   "execution_count": 110,
   "id": "fad702e5",
   "metadata": {
    "ExecuteTime": {
     "end_time": "2024-12-19T06:26:19.227628Z",
     "start_time": "2024-12-19T06:26:19.221655Z"
    }
   },
   "outputs": [],
   "source": [
    "import numpy as np\n",
    "import pandas as pd # read_csv, get_dumies(원핫인코딩)\n",
    "from sklearn.preprocessing import StandardScaler\n",
    "from sklearn.model_selection import train_test_split # 훈련셋과 시험셋 나누기\n",
    "from tensorflow.keras.models import Sequential\n",
    "from tensorflow.keras.layers import Dense, Input, Dropout\n",
    "from tensorflow.keras.callbacks import EarlyStopping, Callback\n",
    "from tensorflow.keras.activations import relu, softmax # activation = 'relu' 대신 사용\n",
    "import matplotlib.pyplot as plt"
   ]
  },
  {
   "cell_type": "markdown",
   "id": "699d9651",
   "metadata": {},
   "source": [
    "- Red Wine 품질 등급 예측\n",
    "    1. 데이터 셋 확보 & 전처리\n",
    "        독립변수, 종속변수 분리 -> 독립변수 스케일조정(StandardScaler), 종속변수 원핫인코딩(get_dummies), \n",
    "         훈련셋과 테스트셋 분리(train_test_split)\n",
    "    2. 모델 구성(입력11, 출력6) layer층 4\n",
    "    3. 모델 학습 과정 설정(다중분류에 맞는 설정)\n",
    "    4. 학습시키기 (callbacks이용)\n",
    "    5. 모델 평가 - 그래프, 평가(테스트셋), 교차표(crosstab)\n",
    "    6. 모델 저장 및 모델사용하기"
   ]
  },
  {
   "cell_type": "markdown",
   "id": "6f44aaf4",
   "metadata": {},
   "source": [
    "## 1. 데이터 셋 확보 & 전처리 독립변수, 종속변수 분리 -> 독립변수 스케일조정(StandardScaler), 종속변수 원핫인코딩(get_dummies), 훈련셋과 테스트셋 분리(train_test_split)"
   ]
  },
  {
   "cell_type": "code",
   "execution_count": 2,
   "id": "5cd7f3b5",
   "metadata": {
    "ExecuteTime": {
     "end_time": "2024-12-19T05:34:25.898397Z",
     "start_time": "2024-12-19T05:34:25.886147Z"
    }
   },
   "outputs": [
    {
     "data": {
      "text/plain": [
       "array([5, 6, 7, 4, 8, 3], dtype=int64)"
      ]
     },
     "execution_count": 2,
     "metadata": {},
     "output_type": "execute_result"
    }
   ],
   "source": [
    "redwine = pd.read_csv('./data/winequality-red.csv', sep=';')\n",
    "redwine.quality.unique()"
   ]
  },
  {
   "cell_type": "code",
   "execution_count": 3,
   "id": "fd1569be",
   "metadata": {
    "ExecuteTime": {
     "end_time": "2024-12-19T05:34:25.933548Z",
     "start_time": "2024-12-19T05:34:25.901381Z"
    }
   },
   "outputs": [
    {
     "data": {
      "text/html": [
       "<div>\n",
       "<style scoped>\n",
       "    .dataframe tbody tr th:only-of-type {\n",
       "        vertical-align: middle;\n",
       "    }\n",
       "\n",
       "    .dataframe tbody tr th {\n",
       "        vertical-align: top;\n",
       "    }\n",
       "\n",
       "    .dataframe thead th {\n",
       "        text-align: right;\n",
       "    }\n",
       "</style>\n",
       "<table border=\"1\" class=\"dataframe\">\n",
       "  <thead>\n",
       "    <tr style=\"text-align: right;\">\n",
       "      <th></th>\n",
       "      <th>fixed acidity</th>\n",
       "      <th>volatile acidity</th>\n",
       "      <th>citric acid</th>\n",
       "      <th>residual sugar</th>\n",
       "      <th>chlorides</th>\n",
       "      <th>free sulfur dioxide</th>\n",
       "      <th>total sulfur dioxide</th>\n",
       "      <th>density</th>\n",
       "      <th>pH</th>\n",
       "      <th>sulphates</th>\n",
       "      <th>alcohol</th>\n",
       "      <th>quality</th>\n",
       "    </tr>\n",
       "  </thead>\n",
       "  <tbody>\n",
       "    <tr>\n",
       "      <th>0</th>\n",
       "      <td>7.4</td>\n",
       "      <td>0.70</td>\n",
       "      <td>0.00</td>\n",
       "      <td>1.9</td>\n",
       "      <td>0.076</td>\n",
       "      <td>11.0</td>\n",
       "      <td>34.0</td>\n",
       "      <td>0.9978</td>\n",
       "      <td>3.51</td>\n",
       "      <td>0.56</td>\n",
       "      <td>9.4</td>\n",
       "      <td>5</td>\n",
       "    </tr>\n",
       "    <tr>\n",
       "      <th>1</th>\n",
       "      <td>7.8</td>\n",
       "      <td>0.88</td>\n",
       "      <td>0.00</td>\n",
       "      <td>2.6</td>\n",
       "      <td>0.098</td>\n",
       "      <td>25.0</td>\n",
       "      <td>67.0</td>\n",
       "      <td>0.9968</td>\n",
       "      <td>3.20</td>\n",
       "      <td>0.68</td>\n",
       "      <td>9.8</td>\n",
       "      <td>5</td>\n",
       "    </tr>\n",
       "    <tr>\n",
       "      <th>2</th>\n",
       "      <td>7.8</td>\n",
       "      <td>0.76</td>\n",
       "      <td>0.04</td>\n",
       "      <td>2.3</td>\n",
       "      <td>0.092</td>\n",
       "      <td>15.0</td>\n",
       "      <td>54.0</td>\n",
       "      <td>0.9970</td>\n",
       "      <td>3.26</td>\n",
       "      <td>0.65</td>\n",
       "      <td>9.8</td>\n",
       "      <td>5</td>\n",
       "    </tr>\n",
       "    <tr>\n",
       "      <th>3</th>\n",
       "      <td>11.2</td>\n",
       "      <td>0.28</td>\n",
       "      <td>0.56</td>\n",
       "      <td>1.9</td>\n",
       "      <td>0.075</td>\n",
       "      <td>17.0</td>\n",
       "      <td>60.0</td>\n",
       "      <td>0.9980</td>\n",
       "      <td>3.16</td>\n",
       "      <td>0.58</td>\n",
       "      <td>9.8</td>\n",
       "      <td>6</td>\n",
       "    </tr>\n",
       "    <tr>\n",
       "      <th>4</th>\n",
       "      <td>7.4</td>\n",
       "      <td>0.70</td>\n",
       "      <td>0.00</td>\n",
       "      <td>1.9</td>\n",
       "      <td>0.076</td>\n",
       "      <td>11.0</td>\n",
       "      <td>34.0</td>\n",
       "      <td>0.9978</td>\n",
       "      <td>3.51</td>\n",
       "      <td>0.56</td>\n",
       "      <td>9.4</td>\n",
       "      <td>5</td>\n",
       "    </tr>\n",
       "  </tbody>\n",
       "</table>\n",
       "</div>"
      ],
      "text/plain": [
       "   fixed acidity  volatile acidity  citric acid  residual sugar  chlorides  \\\n",
       "0            7.4              0.70         0.00             1.9      0.076   \n",
       "1            7.8              0.88         0.00             2.6      0.098   \n",
       "2            7.8              0.76         0.04             2.3      0.092   \n",
       "3           11.2              0.28         0.56             1.9      0.075   \n",
       "4            7.4              0.70         0.00             1.9      0.076   \n",
       "\n",
       "   free sulfur dioxide  total sulfur dioxide  density    pH  sulphates  \\\n",
       "0                 11.0                  34.0   0.9978  3.51       0.56   \n",
       "1                 25.0                  67.0   0.9968  3.20       0.68   \n",
       "2                 15.0                  54.0   0.9970  3.26       0.65   \n",
       "3                 17.0                  60.0   0.9980  3.16       0.58   \n",
       "4                 11.0                  34.0   0.9978  3.51       0.56   \n",
       "\n",
       "   alcohol  quality  \n",
       "0      9.4        5  \n",
       "1      9.8        5  \n",
       "2      9.8        5  \n",
       "3      9.8        6  \n",
       "4      9.4        5  "
      ]
     },
     "execution_count": 3,
     "metadata": {},
     "output_type": "execute_result"
    }
   ],
   "source": [
    "redwine.head()"
   ]
  },
  {
   "cell_type": "code",
   "execution_count": 4,
   "id": "b3995134",
   "metadata": {
    "ExecuteTime": {
     "end_time": "2024-12-19T05:34:25.944603Z",
     "start_time": "2024-12-19T05:34:25.936555Z"
    }
   },
   "outputs": [
    {
     "data": {
      "text/plain": [
       "((1599, 11), (1599, 1))"
      ]
     },
     "execution_count": 4,
     "metadata": {},
     "output_type": "execute_result"
    }
   ],
   "source": [
    "X = redwine.iloc[:,:-1]\n",
    "y = redwine.iloc[:,-1:]\n",
    "X.shape, y.shape"
   ]
  },
  {
   "cell_type": "code",
   "execution_count": 65,
   "id": "85924252",
   "metadata": {
    "ExecuteTime": {
     "end_time": "2024-12-19T05:59:53.153938Z",
     "start_time": "2024-12-19T05:59:53.146957Z"
    }
   },
   "outputs": [
    {
     "data": {
      "text/plain": [
       "array([[-0.52835961,  0.96187667, -1.39147228, ...,  1.28864292,\n",
       "        -0.57920652, -0.96024611],\n",
       "       [-0.29854743,  1.96744245, -1.39147228, ..., -0.7199333 ,\n",
       "         0.1289504 , -0.58477711],\n",
       "       [-0.29854743,  1.29706527, -1.18607043, ..., -0.33117661,\n",
       "        -0.04808883, -0.58477711],\n",
       "       ...,\n",
       "       [-1.1603431 , -0.09955388, -0.72391627, ...,  0.70550789,\n",
       "         0.54204194,  0.54162988],\n",
       "       [-1.39015528,  0.65462046, -0.77526673, ...,  1.6773996 ,\n",
       "         0.30598963, -0.20930812],\n",
       "       [-1.33270223, -1.21684919,  1.02199944, ...,  0.51112954,\n",
       "         0.01092425,  0.54162988]])"
      ]
     },
     "execution_count": 65,
     "metadata": {},
     "output_type": "execute_result"
    }
   ],
   "source": [
    "scaler = StandardScaler()\n",
    "X = scaler.fit_transform(X)\n",
    "X"
   ]
  },
  {
   "cell_type": "code",
   "execution_count": 6,
   "id": "4d70b608",
   "metadata": {
    "ExecuteTime": {
     "end_time": "2024-12-19T05:34:25.968629Z",
     "start_time": "2024-12-19T05:34:25.960650Z"
    }
   },
   "outputs": [
    {
     "data": {
      "text/plain": [
       "(1599, 6)"
      ]
     },
     "execution_count": 6,
     "metadata": {},
     "output_type": "execute_result"
    }
   ],
   "source": [
    "y = pd.get_dummies(y['quality']).values\n",
    "y.shape"
   ]
  },
  {
   "cell_type": "code",
   "execution_count": 77,
   "id": "6e7405b8",
   "metadata": {
    "ExecuteTime": {
     "end_time": "2024-12-19T06:19:24.155527Z",
     "start_time": "2024-12-19T06:19:24.130597Z"
    }
   },
   "outputs": [
    {
     "data": {
      "text/plain": [
       "((1119, 11), (480, 11), (1119, 6), (480, 6))"
      ]
     },
     "execution_count": 77,
     "metadata": {},
     "output_type": "execute_result"
    }
   ],
   "source": [
    "X_train, X_test, y_train, y_test = train_test_split(X, y, test_size=.3, stratify=y)\n",
    "X_train.shape, X_test.shape, y_train.shape, y_test.shape"
   ]
  },
  {
   "cell_type": "markdown",
   "id": "2c76cf00",
   "metadata": {},
   "source": [
    "## 2. 모델 구성(입력11, 출력6) layer층 4"
   ]
  },
  {
   "cell_type": "code",
   "execution_count": 117,
   "id": "bd2c7635",
   "metadata": {
    "ExecuteTime": {
     "end_time": "2024-12-19T06:28:09.390983Z",
     "start_time": "2024-12-19T06:28:09.322642Z"
    }
   },
   "outputs": [
    {
     "name": "stdout",
     "output_type": "stream",
     "text": [
      "Model: \"sequential_16\"\n",
      "_________________________________________________________________\n",
      " Layer (type)                Output Shape              Param #   \n",
      "=================================================================\n",
      " dense_60 (Dense)            (None, 64)                768       \n",
      "                                                                 \n",
      " dense_61 (Dense)            (None, 128)               8320      \n",
      "                                                                 \n",
      " dropout_32 (Dropout)        (None, 128)               0         \n",
      "                                                                 \n",
      " dense_62 (Dense)            (None, 32)                4128      \n",
      "                                                                 \n",
      " dense_63 (Dense)            (None, 6)                 198       \n",
      "                                                                 \n",
      "=================================================================\n",
      "Total params: 13,414\n",
      "Trainable params: 13,414\n",
      "Non-trainable params: 0\n",
      "_________________________________________________________________\n"
     ]
    }
   ],
   "source": [
    "model = Sequential()\n",
    "\n",
    "model.add(Input(shape=(11,)))\n",
    "model.add(Dense(units=64, activation=relu))\n",
    "model.add(Dense(units=128, activation=relu))\n",
    "model.add(Dropout(0.3))\n",
    "model.add(Dense(units=32, activation=relu))\n",
    "model.add(Dense(units=6, activation=softmax))\n",
    "\n",
    "model.summary()"
   ]
  },
  {
   "cell_type": "markdown",
   "id": "d4dd7dde",
   "metadata": {},
   "source": [
    "## 3. 모델 학습 과정 설정(다중분류에 맞는 설정)"
   ]
  },
  {
   "cell_type": "code",
   "execution_count": 118,
   "id": "65036a2e",
   "metadata": {
    "ExecuteTime": {
     "end_time": "2024-12-19T06:28:10.130665Z",
     "start_time": "2024-12-19T06:28:10.120064Z"
    }
   },
   "outputs": [],
   "source": [
    "model.compile(loss='categorical_crossentropy', optimizer='nadam', metrics=['accuracy'])"
   ]
  },
  {
   "cell_type": "markdown",
   "id": "107a31fe",
   "metadata": {},
   "source": [
    "## 4. 학습시키기 (callbacks이용)"
   ]
  },
  {
   "cell_type": "code",
   "execution_count": 119,
   "id": "19688069",
   "metadata": {
    "ExecuteTime": {
     "end_time": "2024-12-19T06:28:10.799093Z",
     "start_time": "2024-12-19T06:28:10.793936Z"
    }
   },
   "outputs": [],
   "source": [
    "class CustomHistory(Callback):\n",
    "    def __init__(self):\n",
    "        self.epoch = 0\n",
    "    def on_epoch_end(self, batch, logs={}):\n",
    "        self.epoch += 1\n",
    "        if self.epoch%50 == 0:\n",
    "            print('epoch:{}, loss:{}, acc:{}, val_loss{}, val_acc:{}'.format(self.epoch, \n",
    "                                                                             logs.get('loss'),\n",
    "                                                                             logs.get('accuracy'),\n",
    "                                                                             logs.get('val_loss'),\n",
    "                                                                             logs.get('val_accuracy')))"
   ]
  },
  {
   "cell_type": "code",
   "execution_count": 120,
   "id": "dd5f820c",
   "metadata": {
    "ExecuteTime": {
     "end_time": "2024-12-19T06:28:26.586194Z",
     "start_time": "2024-12-19T06:28:11.171777Z"
    },
    "scrolled": true
   },
   "outputs": [
    {
     "name": "stdout",
     "output_type": "stream",
     "text": [
      "epoch:50, loss:0.5535684823989868, acc:0.7720670104026794, val_loss1.1695592403411865, val_acc:0.5625\n"
     ]
    }
   ],
   "source": [
    "custom_history = CustomHistory()\n",
    "early_stopping = EarlyStopping(patience=50)\n",
    "hist = model.fit(X_train, y_train,\n",
    "          epochs=1000,\n",
    "          validation_split = .2,\n",
    "          verbose=0,\n",
    "          callbacks=[early_stopping, custom_history])"
   ]
  },
  {
   "cell_type": "markdown",
   "id": "340828b6",
   "metadata": {},
   "source": [
    "## 5. 모델 평가 - 그래프, 평가(테스트셋), 교차표(crosstab)"
   ]
  },
  {
   "cell_type": "code",
   "execution_count": 121,
   "id": "31d68a67",
   "metadata": {
    "ExecuteTime": {
     "end_time": "2024-12-19T06:28:28.413461Z",
     "start_time": "2024-12-19T06:28:27.750344Z"
    }
   },
   "outputs": [
    {
     "data": {
      "image/png": "[encoded data removed]",
      "text/plain": [
       "<Figure size 1000x500 with 2 Axes>"
      ]
     },
     "metadata": {},
     "output_type": "display_data"
    }
   ],
   "source": [
    "fig, loss_ax = plt.subplots(figsize=(10,5))\n",
    "loss_ax.plot(hist.history['loss'], 'r', label='train loss')\n",
    "loss_ax.plot(hist.history['val_loss'], 'y', label='validation loss')\n",
    "loss_ax.set_xlabel('epoch')\n",
    "loss_ax.set_ylabel('loss')\n",
    "acc_ax = loss_ax.twinx()\n",
    "acc_ax.plot(hist.history['accuracy'], 'b', label='train accuracy')\n",
    "acc_ax.plot(hist.history['val_accuracy'], 'g', label='validation accuracy')\n",
    "acc_ax.set_ylabel('accuracy')\n",
    "loss_ax.legend(bbox_to_anchor=(1.1, 1), loc=2, borderaxespad=0.)\n",
    "acc_ax.legend(bbox_to_anchor=(1.1, .85), loc=2, borderaxespad=0.)\n",
    "plt.show()"
   ]
  },
  {
   "cell_type": "code",
   "execution_count": 122,
   "id": "b643b9d2",
   "metadata": {
    "ExecuteTime": {
     "end_time": "2024-12-19T06:28:42.585523Z",
     "start_time": "2024-12-19T06:28:42.482240Z"
    }
   },
   "outputs": [
    {
     "name": "stdout",
     "output_type": "stream",
     "text": [
      "15/15 [==============================] - 0s 3ms/step - loss: 1.1944 - accuracy: 0.6104\n",
      "loss : 1.1944226026535034\n",
      "accuracy : 0.6104166507720947\n"
     ]
    }
   ],
   "source": [
    "score = model.evaluate(X_test, y_test)\n",
    "print('loss :',score[0])\n",
    "print('accuracy :',score[1])"
   ]
  },
  {
   "cell_type": "code",
   "execution_count": 125,
   "id": "7052e973",
   "metadata": {
    "ExecuteTime": {
     "end_time": "2024-12-19T06:29:59.392503Z",
     "start_time": "2024-12-19T06:29:59.294571Z"
    }
   },
   "outputs": [
    {
     "name": "stdout",
     "output_type": "stream",
     "text": [
      "15/15 [==============================] - 0s 2ms/step\n"
     ]
    },
    {
     "data": {
      "text/plain": [
       "array([4, 5, 7, 7, 7, 5, 6, 7, 5, 5, 6, 6, 6, 5, 6, 5, 7, 5, 5, 5, 5, 6,\n",
       "       6, 6, 7, 6, 6, 5, 6, 6, 5, 6, 5, 5, 5, 7, 6, 6, 5, 5, 5, 7, 5, 6,\n",
       "       6, 5, 5, 5, 6, 6, 5, 5, 6, 6, 5, 6, 5, 6, 7, 5, 6, 7, 6, 7, 7, 6,\n",
       "       6, 6, 5, 5, 7, 5, 5, 5, 5, 6, 7, 6, 5, 6, 5, 6, 5, 5, 6, 6, 5, 6,\n",
       "       6, 7, 5, 6, 6, 5, 6, 5, 6, 6, 5, 5, 7, 5, 6, 6, 6, 5, 5, 5, 6, 5,\n",
       "       5, 5, 6, 5, 6, 5, 5, 6, 6, 5, 5, 6, 6, 5, 7, 5, 6, 6, 6, 8, 5, 5,\n",
       "       6, 6, 5, 6, 5, 5, 5, 5, 5, 5, 6, 5, 5, 5, 6, 6, 5, 6, 5, 5, 5, 6,\n",
       "       6, 7, 6, 5, 6, 4, 5, 6, 6, 5, 6, 5, 5, 5, 7, 6, 7, 5, 6, 5, 6, 6,\n",
       "       5, 5, 5, 6, 5, 5, 6, 5, 5, 6, 6, 6, 5, 5, 7, 6, 6, 5, 6, 5, 6, 6,\n",
       "       6, 5, 5, 6, 7, 6, 6, 6, 5, 6, 6, 6, 6, 5, 6, 6, 6, 6, 7, 6, 6, 6,\n",
       "       6, 6, 6, 7, 6, 5, 5, 5, 5, 7, 6, 6, 5, 6, 5, 6, 5, 7, 6, 5, 6, 6,\n",
       "       6, 6, 7, 6, 5, 5, 6, 5, 5, 5, 5, 5, 6, 8, 5, 5, 7, 5, 6, 6, 6, 5,\n",
       "       5, 5, 5, 5, 6, 6, 5, 5, 5, 6, 6, 6, 4, 6, 6, 6, 8, 5, 7, 5, 5, 5,\n",
       "       6, 6, 6, 5, 6, 7, 7, 6, 6, 6, 5, 6, 7, 7, 5, 5, 6, 7, 7, 6, 5, 7,\n",
       "       5, 5, 7, 5, 5, 5, 5, 6, 5, 6, 5, 7, 5, 5, 7, 5, 5, 5, 6, 5, 6, 5,\n",
       "       6, 5, 6, 5, 6, 5, 6, 6, 5, 6, 6, 6, 6, 6, 5, 6, 5, 6, 6, 6, 7, 5,\n",
       "       5, 6, 6, 5, 5, 5, 5, 5, 5, 5, 6, 6, 7, 6, 6, 5, 6, 6, 5, 5, 6, 5,\n",
       "       5, 5, 7, 6, 5, 6, 5, 5, 6, 6, 7, 5, 5, 6, 6, 7, 6, 5, 5, 5, 6, 5,\n",
       "       7, 5, 6, 5, 5, 6, 6, 5, 6, 7, 7, 4, 7, 7, 6, 6, 5, 6, 7, 5, 5, 6,\n",
       "       5, 6, 6, 5, 6, 6, 5, 5, 6, 6, 5, 7, 6, 7, 5, 6, 7, 6, 6, 6, 5, 6,\n",
       "       5, 5, 5, 6, 6, 5, 6, 5, 6, 5, 5, 7, 4, 5, 7, 6, 5, 5, 6, 7, 5, 5,\n",
       "       6, 5, 5, 6, 7, 5, 5, 7, 6, 5, 5, 8, 6, 6, 5, 6, 7, 5], dtype=int64)"
      ]
     },
     "execution_count": 125,
     "metadata": {},
     "output_type": "execute_result"
    }
   ],
   "source": [
    "Y_hat = model.predict(X_test).argmax(axis=1)+3\n",
    "Y_hat"
   ]
  },
  {
   "cell_type": "code",
   "execution_count": 128,
   "id": "fe3e54d0",
   "metadata": {
    "ExecuteTime": {
     "end_time": "2024-12-19T06:30:22.214007Z",
     "start_time": "2024-12-19T06:30:22.194060Z"
    }
   },
   "outputs": [
    {
     "data": {
      "text/html": [
       "<div>\n",
       "<style scoped>\n",
       "    .dataframe tbody tr th:only-of-type {\n",
       "        vertical-align: middle;\n",
       "    }\n",
       "\n",
       "    .dataframe tbody tr th {\n",
       "        vertical-align: top;\n",
       "    }\n",
       "\n",
       "    .dataframe thead th {\n",
       "        text-align: right;\n",
       "    }\n",
       "</style>\n",
       "<table border=\"1\" class=\"dataframe\">\n",
       "  <thead>\n",
       "    <tr style=\"text-align: right;\">\n",
       "      <th>예측</th>\n",
       "      <th>4</th>\n",
       "      <th>5</th>\n",
       "      <th>6</th>\n",
       "      <th>7</th>\n",
       "      <th>8</th>\n",
       "    </tr>\n",
       "    <tr>\n",
       "      <th>실제</th>\n",
       "      <th></th>\n",
       "      <th></th>\n",
       "      <th></th>\n",
       "      <th></th>\n",
       "      <th></th>\n",
       "    </tr>\n",
       "  </thead>\n",
       "  <tbody>\n",
       "    <tr>\n",
       "      <th>3</th>\n",
       "      <td>0</td>\n",
       "      <td>3</td>\n",
       "      <td>0</td>\n",
       "      <td>0</td>\n",
       "      <td>0</td>\n",
       "    </tr>\n",
       "    <tr>\n",
       "      <th>4</th>\n",
       "      <td>0</td>\n",
       "      <td>14</td>\n",
       "      <td>2</td>\n",
       "      <td>0</td>\n",
       "      <td>0</td>\n",
       "    </tr>\n",
       "    <tr>\n",
       "      <th>5</th>\n",
       "      <td>2</td>\n",
       "      <td>140</td>\n",
       "      <td>57</td>\n",
       "      <td>5</td>\n",
       "      <td>0</td>\n",
       "    </tr>\n",
       "    <tr>\n",
       "      <th>6</th>\n",
       "      <td>3</td>\n",
       "      <td>50</td>\n",
       "      <td>119</td>\n",
       "      <td>17</td>\n",
       "      <td>3</td>\n",
       "    </tr>\n",
       "    <tr>\n",
       "      <th>7</th>\n",
       "      <td>0</td>\n",
       "      <td>3</td>\n",
       "      <td>22</td>\n",
       "      <td>34</td>\n",
       "      <td>1</td>\n",
       "    </tr>\n",
       "    <tr>\n",
       "      <th>8</th>\n",
       "      <td>0</td>\n",
       "      <td>0</td>\n",
       "      <td>2</td>\n",
       "      <td>3</td>\n",
       "      <td>0</td>\n",
       "    </tr>\n",
       "  </tbody>\n",
       "</table>\n",
       "</div>"
      ],
      "text/plain": [
       "예측  4    5    6   7  8\n",
       "실제                    \n",
       "3   0    3    0   0  0\n",
       "4   0   14    2   0  0\n",
       "5   2  140   57   5  0\n",
       "6   3   50  119  17  3\n",
       "7   0    3   22  34  1\n",
       "8   0    0    2   3  0"
      ]
     },
     "execution_count": 128,
     "metadata": {},
     "output_type": "execute_result"
    }
   ],
   "source": [
    "ctab = pd.crosstab(y_test.argmax(axis=1)+3, Y_hat)\n",
    "ctab.index.name = '실제'\n",
    "ctab.columns.name = '예측'\n",
    "ctab"
   ]
  },
  {
   "cell_type": "markdown",
   "id": "e8237fca",
   "metadata": {},
   "source": [
    "## 6.모델 저장 및 모델사용하기"
   ]
  },
  {
   "cell_type": "code",
   "execution_count": 74,
   "id": "ff45d82e",
   "metadata": {
    "ExecuteTime": {
     "end_time": "2024-12-19T06:07:18.352879Z",
     "start_time": "2024-12-19T06:07:18.318819Z"
    }
   },
   "outputs": [],
   "source": [
    "model.save('model/redwine.h5')"
   ]
  },
  {
   "cell_type": "code",
   "execution_count": 75,
   "id": "b003e77b",
   "metadata": {
    "ExecuteTime": {
     "end_time": "2024-12-19T06:07:19.085334Z",
     "start_time": "2024-12-19T06:07:18.965999Z"
    }
   },
   "outputs": [
    {
     "name": "stdout",
     "output_type": "stream",
     "text": [
      "Model: \"sequential_7\"\n",
      "_________________________________________________________________\n",
      " Layer (type)                Output Shape              Param #   \n",
      "=================================================================\n",
      " dense_28 (Dense)            (None, 64)                768       \n",
      "                                                                 \n",
      " dropout_8 (Dropout)         (None, 64)                0         \n",
      "                                                                 \n",
      " dense_29 (Dense)            (None, 128)               8320      \n",
      "                                                                 \n",
      " dropout_9 (Dropout)         (None, 128)               0         \n",
      "                                                                 \n",
      " dense_30 (Dense)            (None, 32)                4128      \n",
      "                                                                 \n",
      " dropout_10 (Dropout)        (None, 32)                0         \n",
      "                                                                 \n",
      " dense_31 (Dense)            (None, 6)                 198       \n",
      "                                                                 \n",
      "=================================================================\n",
      "Total params: 13,414\n",
      "Trainable params: 13,414\n",
      "Non-trainable params: 0\n",
      "_________________________________________________________________\n"
     ]
    }
   ],
   "source": [
    "from tensorflow.keras.models import load_model\n",
    "model2 = load_model('model/redwine.h5')\n",
    "model2.summary()"
   ]
  },
  {
   "cell_type": "code",
   "execution_count": 76,
   "id": "cf300184",
   "metadata": {
    "ExecuteTime": {
     "end_time": "2024-12-19T06:07:20.585509Z",
     "start_time": "2024-12-19T06:07:20.438184Z"
    }
   },
   "outputs": [
    {
     "name": "stdout",
     "output_type": "stream",
     "text": [
      "15/15 [==============================] - 0s 3ms/step\n"
     ]
    },
    {
     "data": {
      "text/plain": [
       "array([3, 3, 3, 2, 2, 4, 2, 3, 3, 2, 3, 2, 2, 2, 2, 2, 2, 3, 1, 4, 2, 3,\n",
       "       2, 3, 2, 3, 2, 3, 2, 2, 2, 2, 3, 2, 3, 2, 4, 2, 3, 2, 4, 2, 2, 2,\n",
       "       4, 2, 3, 3, 3, 2, 3, 3, 4, 4, 2, 2, 2, 2, 3, 4, 3, 2, 2, 4, 4, 3,\n",
       "       1, 4, 2, 2, 3, 3, 2, 2, 3, 3, 2, 2, 3, 3, 3, 3, 2, 2, 3, 3, 2, 3,\n",
       "       3, 2, 2, 3, 2, 3, 3, 3, 3, 3, 3, 2, 4, 2, 2, 3, 2, 0, 3, 2, 3, 3,\n",
       "       2, 4, 3, 3, 3, 3, 3, 4, 2, 3, 2, 3, 2, 4, 1, 4, 2, 4, 2, 2, 3, 2,\n",
       "       4, 2, 3, 2, 3, 2, 4, 2, 3, 4, 2, 3, 4, 2, 3, 2, 2, 4, 2, 3, 2, 2,\n",
       "       2, 2, 3, 3, 2, 3, 3, 3, 2, 3, 2, 3, 4, 2, 3, 2, 2, 3, 2, 2, 3, 3,\n",
       "       2, 2, 2, 2, 4, 4, 2, 2, 3, 4, 2, 4, 3, 2, 4, 3, 3, 2, 2, 3, 2, 2,\n",
       "       3, 4, 3, 4, 4, 3, 3, 3, 4, 2, 2, 2, 3, 2, 2, 2, 3, 2, 2, 4, 3, 2,\n",
       "       2, 2, 2, 2, 3, 3, 2, 2, 2, 3, 3, 3, 3, 2, 2, 2, 3, 3, 2, 2, 4, 2,\n",
       "       2, 4, 2, 2, 3, 3, 2, 2, 3, 2, 2, 2, 3, 3, 4, 3, 2, 4, 3, 3, 2, 4,\n",
       "       3, 2, 4, 4, 3, 3, 3, 3, 2, 2, 3, 3, 2, 2, 3, 4, 2, 3, 2, 4, 3, 2,\n",
       "       2, 2, 3, 3, 2, 2, 3, 3, 2, 3, 2, 3, 4, 2, 4, 2, 2, 2, 3, 2, 3, 4,\n",
       "       2, 3, 3, 2, 4, 2, 3, 2, 2, 3, 2, 3, 2, 3, 3, 2, 2, 3, 2, 4, 3, 3,\n",
       "       4, 4, 4, 2, 2, 3, 2, 3, 3, 3, 3, 2, 3, 3, 2, 4, 3, 2, 2, 4, 3, 3,\n",
       "       2, 3, 2, 3, 2, 2, 2, 2, 3, 2, 3, 2, 3, 2, 3, 4, 4, 4, 3, 3, 3, 2,\n",
       "       3, 2, 3, 2, 2, 3, 4, 4, 2, 3, 3, 3, 2, 2, 3, 2, 4, 3, 3, 2, 2, 3,\n",
       "       3, 2, 2, 3, 3, 4, 2, 3, 2, 2, 2, 2, 3, 2, 2, 3, 3, 3, 2, 4, 2, 2,\n",
       "       3, 3, 2, 2, 2, 3, 3, 3, 2, 4, 3, 2, 2, 3, 3, 4, 2, 2, 3, 2, 2, 2,\n",
       "       3, 4, 2, 4, 3, 3, 2, 4, 4, 2, 2, 2, 3, 2, 2, 2, 3, 2, 4, 3, 2, 2,\n",
       "       4, 2, 3, 2, 2, 3, 3, 3, 3, 3, 3, 3, 3, 3, 0, 2, 2, 2], dtype=int64)"
      ]
     },
     "execution_count": 76,
     "metadata": {},
     "output_type": "execute_result"
    }
   ],
   "source": [
    "model2.predict(X_test).argmax(axis=1)"
   ]
  }
 ],
 "metadata": {
  "kernelspec": {
   "display_name": "Python 3 (ipykernel)",
   "language": "python",
   "name": "python3"
  },
  "language_info": {
   "codemirror_mode": {
    "name": "ipython",
    "version": 3
   },
   "file_extension": ".py",
   "mimetype": "text/x-python",
   "name": "python",
   "nbconvert_exporter": "python",
   "pygments_lexer": "ipython3",
   "version": "3.10.9"
  },
  "toc": {
   "base_numbering": 1,
   "nav_menu": {},
   "number_sections": true,
   "sideBar": true,
   "skip_h1_title": false,
   "title_cell": "Table of Contents",
   "title_sidebar": "Contents",
   "toc_cell": false,
   "toc_position": {
    "height": "calc(100% - 180px)",
    "left": "10px",
    "top": "150px",
    "width": "237px"
   },
   "toc_section_display": true,
   "toc_window_display": true
  }
 },
 "nbformat": 4,
 "nbformat_minor": 5
}
