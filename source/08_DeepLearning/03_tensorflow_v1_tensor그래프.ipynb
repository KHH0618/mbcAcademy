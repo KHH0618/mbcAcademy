{
 "cells": [
  {
   "cell_type": "markdown",
   "id": "d3075a43",
   "metadata": {},
   "source": [
    "# 1. tensorflow v2.1xx에서 v1사용하기"
   ]
  },
  {
   "cell_type": "code",
   "execution_count": 2,
   "id": "aa1988e0",
   "metadata": {
    "ExecuteTime": {
     "end_time": "2024-12-13T05:06:59.488006Z",
     "start_time": "2024-12-13T05:06:59.483946Z"
    }
   },
   "outputs": [],
   "source": [
    "import tensorflow.compat.v1 as tf\n",
    "tf.disable_v2_behavior() # v2 비활성화하고 v1을 활성화"
   ]
  },
  {
   "cell_type": "markdown",
   "id": "c40de80d",
   "metadata": {},
   "source": [
    "## Tensorflow\n",
    "- 그래프 정의 (tensor객체의 흐름)\n",
    "- sess = tf.Session()을 실행\n",
    "- sess.run()을 통해 변수값을 확인할 수 있음"
   ]
  },
  {
   "cell_type": "code",
   "execution_count": 6,
   "id": "713219ef",
   "metadata": {
    "ExecuteTime": {
     "end_time": "2024-12-13T01:03:42.056385Z",
     "start_time": "2024-12-13T01:03:42.004227Z"
    }
   },
   "outputs": [
    {
     "name": "stdout",
     "output_type": "stream",
     "text": [
      "b'Hello, Tensorflow'\n",
      "Hello, Tensorflow\n"
     ]
    }
   ],
   "source": [
    "# tensor = data(상수, 변수)와 연산\n",
    "node1 = tf.constant('Hello, Tensorflow')\n",
    "sess = tf.Session()\n",
    "print(sess.run(node1))\n",
    "print(sess.run(node1).decode())"
   ]
  },
  {
   "cell_type": "code",
   "execution_count": 8,
   "id": "141cfefa",
   "metadata": {
    "ExecuteTime": {
     "end_time": "2024-12-13T01:10:11.367343Z",
     "start_time": "2024-12-13T01:10:11.339303Z"
    }
   },
   "outputs": [
    {
     "name": "stdout",
     "output_type": "stream",
     "text": [
      "[10.0, 20.0]\n",
      "30.0\n"
     ]
    }
   ],
   "source": [
    "# 간단한 수학 연산 tensor 그래프\n",
    "node1 = tf.constant(10, dtype=tf.float16)\n",
    "node2 = tf.constant(20, dtype=tf.float16)\n",
    "node3 = tf.add(node1, node2)\n",
    "\n",
    "sess = tf.Session()\n",
    "print(sess.run([node1,node2]))\n",
    "print(sess.run(node3))"
   ]
  },
  {
   "cell_type": "code",
   "execution_count": 10,
   "id": "36902d56",
   "metadata": {
    "ExecuteTime": {
     "end_time": "2024-12-13T01:14:36.160350Z",
     "start_time": "2024-12-13T01:14:36.130935Z"
    }
   },
   "outputs": [
    {
     "data": {
      "text/plain": [
       "[array([1, 2, 3], dtype=int16), array([1., 2., 3.], dtype=float32)]"
      ]
     },
     "execution_count": 10,
     "metadata": {},
     "output_type": "execute_result"
    }
   ],
   "source": [
    "# 타입변경\n",
    "import numpy as np\n",
    "node1 = tf.constant(np.array([1,2,3]), dtype=tf.int16)\n",
    "node2 = tf.cast(node1, dtype=tf.float32)\n",
    "sess = tf.Session()\n",
    "sess.run([node1, node2])"
   ]
  },
  {
   "cell_type": "code",
   "execution_count": 13,
   "id": "fcb780c4",
   "metadata": {
    "ExecuteTime": {
     "end_time": "2024-12-13T01:19:44.705717Z",
     "start_time": "2024-12-13T01:19:44.678767Z"
    }
   },
   "outputs": [
    {
     "data": {
      "text/plain": [
       "2.5"
      ]
     },
     "execution_count": 13,
     "metadata": {},
     "output_type": "execute_result"
    }
   ],
   "source": [
    "# 평균값 계산\n",
    "data = np.array([1.,2.,3.,4.])\n",
    "m = tf.reduce_mean(data)\n",
    "sess = tf.Session()\n",
    "sess.run(m)"
   ]
  },
  {
   "cell_type": "code",
   "execution_count": 22,
   "id": "86c3fa5e",
   "metadata": {
    "ExecuteTime": {
     "end_time": "2024-12-13T01:44:53.584661Z",
     "start_time": "2024-12-13T01:44:53.434738Z"
    }
   },
   "outputs": [
    {
     "data": {
      "image/png": "[encoded data removed]",
      "text/plain": [
       "<Figure size 640x480 with 1 Axes>"
      ]
     },
     "metadata": {},
     "output_type": "display_data"
    }
   ],
   "source": [
    "#tensor = tf.random_normal([size]) 평균 0, 표준편차가 1인 난수 size개 발생. 난수갯수 : 독립변수갯수\n",
    "import matplotlib.pyplot as plt\n",
    "tensor = tf.random_normal([1000]) # 평균 0, 표준편차가 1인 난수 2 (정규분포)\n",
    "sess = tf.Session()\n",
    "plt.hist(sess.run(tensor))\n",
    "plt.show()"
   ]
  },
  {
   "cell_type": "markdown",
   "id": "27d4adb1",
   "metadata": {},
   "source": [
    "# 2. tensorflow v1을 이용한 linear regression을 구현\n",
    "## 2.1 독립변수 x가 1개, 종속변수 y가 1개"
   ]
  },
  {
   "cell_type": "code",
   "execution_count": 30,
   "id": "24b9567f",
   "metadata": {
    "ExecuteTime": {
     "end_time": "2024-12-13T02:41:37.057387Z",
     "start_time": "2024-12-13T02:41:32.526127Z"
    }
   },
   "outputs": [
    {
     "name": "stdout",
     "output_type": "stream",
     "text": [
      "0번째 cost:19.691890716552734, W:[-0.5879855], b:[-1.0679374]\n",
      "500번째 cost:0.0012380582047626376, W:[1.0408666], b:[-0.09289886]\n",
      "1000번째 cost:0.00011155228276038542, W:[1.0122669], b:[-0.02788559]\n",
      "1500번째 cost:1.0050726814370137e-05, W:[1.0036821], b:[-0.00837024]\n",
      "2000번째 cost:9.062616754818009e-07, W:[1.0011058], b:[-0.00251338]\n",
      "2500번째 cost:8.20522458866435e-08, W:[1.0003327], b:[-0.00075638]\n",
      "3000번째 cost:7.523488498861752e-09, W:[1.0001011], b:[-0.00022884]\n",
      "3500번째 cost:6.752949310850909e-10, W:[1.00003], b:[-6.866427e-05]\n",
      "4000번째 cost:7.587027534006197e-11, W:[1.0000104], b:[-2.2935026e-05]\n",
      "4500번째 cost:2.0795401858841878e-11, W:[1.0000056], b:[-1.1722414e-05]\n",
      "5000번째 cost:1.3684900435073644e-11, W:[1.0000045], b:[-9.127611e-06]\n",
      "5500번째 cost:1.332346472732171e-11, W:[1.0000044], b:[-8.861256e-06]\n",
      "6000번째 cost:1.332346472732171e-11, W:[1.0000044], b:[-8.861246e-06]\n"
     ]
    }
   ],
   "source": [
    "# tensor 그래프(객체 흐름) 정의\n",
    "# data set(x, y)\n",
    "x = np.array([1,2,3])\n",
    "y = np.array([1,2,3])\n",
    "\n",
    "# weight와 bias(처음에는 랜덤값으로 셋팅했다가, 학습과정에서 변경)\n",
    "W = tf.Variable(tf.random.normal([1]), name='weight')\n",
    "b = tf.Variable(tf.random.normal([1]), name='bias')\n",
    "\n",
    "# Hypothesis : 결과는 넘파이 배열\n",
    "H = W*x+b\n",
    "\n",
    "# cost function (손실함수 = mse : 최소제곱법)\n",
    "cost = tf.reduce_mean(tf.square(H - y))\n",
    "\n",
    "\"\"\"\n",
    "학습 목적 : cost가 최소가 되는 w, b를 찾는 것\n",
    "cost 함수는 2차함수이므로 곡선 그래프. 곡선위 미분값이 줄어드는 방향으로 학습\n",
    "\"\"\"\n",
    "optimizer = tf.train.GradientDescentOptimizer(learning_rate=0.01)\n",
    "train = optimizer.minimize(cost)\n",
    "\n",
    "# Session 생성\n",
    "sess = tf.Session()\n",
    "# 변수노드(W,b) 초기화\n",
    "sess.run(tf.global_variables_initializer())\n",
    "\n",
    "# 6000번 학습 (v2에서의 fit함수)\n",
    "for step in range(6001):\n",
    "    _, cost_val, W_val, b_val= sess.run([train, cost, W, b])\n",
    "    if step % 500 == 0:\n",
    "        print('{}번째 cost:{}, W:{}, b:{}'.format(step, cost_val, W_val, b_val))"
   ]
  },
  {
   "cell_type": "code",
   "execution_count": 31,
   "id": "8ca3d4d1",
   "metadata": {
    "ExecuteTime": {
     "end_time": "2024-12-13T02:43:04.609484Z",
     "start_time": "2024-12-13T02:43:04.597516Z"
    }
   },
   "outputs": [
    {
     "data": {
      "text/plain": [
       "[array([1.0000044], dtype=float32), array([-8.861246e-06], dtype=float32)]"
      ]
     },
     "execution_count": 31,
     "metadata": {},
     "output_type": "execute_result"
    }
   ],
   "source": [
    "# 최종적으로 나온 회귀식 H = W*x + b\n",
    "sess.run([W, b])"
   ]
  },
  {
   "cell_type": "code",
   "execution_count": 32,
   "id": "e1addb03",
   "metadata": {
    "ExecuteTime": {
     "end_time": "2024-12-13T02:46:01.645359Z",
     "start_time": "2024-12-13T02:46:01.637410Z"
    }
   },
   "outputs": [
    {
     "data": {
      "text/plain": [
       "(array([1.0000044], dtype=float32), array([-8.861246e-06], dtype=float32))"
      ]
     },
     "execution_count": 32,
     "metadata": {},
     "output_type": "execute_result"
    }
   ],
   "source": [
    "W_, b_ = sess.run([W, b])\n",
    "W_, b_"
   ]
  },
  {
   "cell_type": "code",
   "execution_count": 33,
   "id": "54288ac3",
   "metadata": {
    "ExecuteTime": {
     "end_time": "2024-12-13T02:46:46.766238Z",
     "start_time": "2024-12-13T02:46:46.761278Z"
    }
   },
   "outputs": [
    {
     "name": "stdout",
     "output_type": "stream",
     "text": [
      "최종회귀식 : H = 1.0000044107437134*x + -8.861245987645816e-06\n"
     ]
    }
   ],
   "source": [
    "print('최종회귀식 : H = {}*x + {}'.format(W_[0],b_[0]))"
   ]
  },
  {
   "cell_type": "code",
   "execution_count": 34,
   "id": "3b11181b",
   "metadata": {
    "ExecuteTime": {
     "end_time": "2024-12-13T02:48:39.137875Z",
     "start_time": "2024-12-13T02:48:39.132888Z"
    }
   },
   "outputs": [],
   "source": [
    "def to_predict(x):\n",
    "    return W_[0]*x+b_[0]"
   ]
  },
  {
   "cell_type": "code",
   "execution_count": 35,
   "id": "c8d70fd2",
   "metadata": {
    "ExecuteTime": {
     "end_time": "2024-12-13T02:48:46.289155Z",
     "start_time": "2024-12-13T02:48:46.282175Z"
    }
   },
   "outputs": [
    {
     "data": {
      "text/plain": [
       "3.0000043709851525"
      ]
     },
     "execution_count": 35,
     "metadata": {},
     "output_type": "execute_result"
    }
   ],
   "source": [
    "to_predict(3)"
   ]
  },
  {
   "cell_type": "markdown",
   "id": "d3e73e83",
   "metadata": {},
   "source": [
    "## 2.2 predict을 하기 위한 placeholder 이용\n",
    "- placeholder : 외부에서 데이터를 입력받을 수 있는 노드"
   ]
  },
  {
   "cell_type": "code",
   "execution_count": 38,
   "id": "3a04fd21",
   "metadata": {
    "ExecuteTime": {
     "end_time": "2024-12-13T02:57:15.885466Z",
     "start_time": "2024-12-13T02:57:15.849495Z"
    }
   },
   "outputs": [
    {
     "data": {
      "text/plain": [
       "[array(10., dtype=float16), array(20., dtype=float16), 30.0]"
      ]
     },
     "execution_count": 38,
     "metadata": {},
     "output_type": "execute_result"
    }
   ],
   "source": [
    "a = tf.placeholder(tf.float16)\n",
    "b = tf.placeholder(tf.float16)\n",
    "ab = tf.add(a, b)\n",
    "sess = tf.Session()\n",
    "sess.run([a,b,ab], feed_dict={a : 10, b : 20})"
   ]
  },
  {
   "cell_type": "code",
   "execution_count": 39,
   "id": "cb3dbba3",
   "metadata": {
    "ExecuteTime": {
     "end_time": "2024-12-13T02:58:14.499228Z",
     "start_time": "2024-12-13T02:58:14.489254Z"
    }
   },
   "outputs": [
    {
     "data": {
      "text/plain": [
       "array([2., 4., 6.], dtype=float16)"
      ]
     },
     "execution_count": 39,
     "metadata": {},
     "output_type": "execute_result"
    }
   ],
   "source": [
    "sess.run(ab, feed_dict={a:np.array([1,2,3]), b:np.array([1,2,3])})"
   ]
  },
  {
   "cell_type": "code",
   "execution_count": 52,
   "id": "4a1418e5",
   "metadata": {
    "ExecuteTime": {
     "end_time": "2024-12-13T03:31:15.303814Z",
     "start_time": "2024-12-13T03:31:02.029315Z"
    }
   },
   "outputs": [
    {
     "name": "stdout",
     "output_type": "stream",
     "text": [
      "1000/10000 cost:2.6996499400411267e-06, W:[1.9994379], b:[1.0030042]\n",
      "2000/10000 cost:3.470859016863059e-11, W:[1.9999979], b:[1.000011]\n",
      "3000/10000 cost:3.470859016863059e-11, W:[1.9999979], b:[1.000011]\n",
      "4000/10000 cost:3.470859016863059e-11, W:[1.9999979], b:[1.000011]\n",
      "5000/10000 cost:3.470859016863059e-11, W:[1.9999979], b:[1.000011]\n",
      "6000/10000 cost:3.470859016863059e-11, W:[1.9999979], b:[1.000011]\n",
      "7000/10000 cost:3.470859016863059e-11, W:[1.9999979], b:[1.000011]\n",
      "8000/10000 cost:3.470859016863059e-11, W:[1.9999979], b:[1.000011]\n",
      "9000/10000 cost:3.470859016863059e-11, W:[1.9999979], b:[1.000011]\n",
      "10000/10000 cost:3.470859016863059e-11, W:[1.9999979], b:[1.000011]\n"
     ]
    }
   ],
   "source": [
    "# data set\n",
    "x_data = np.array([1,2,3,5,8])\n",
    "y_data = np.array([3,5,7,11,17])\n",
    "\n",
    "# placeholder 설정(x, y)\n",
    "x = tf.placeholder(dtype=tf.float32)\n",
    "y = tf.placeholder(dtype=tf.float32)\n",
    "\n",
    "# weight & bias\n",
    "W = tf.Variable(tf.random.normal([1]), name='weight')\n",
    "b = tf.Variable(tf.random.normal([1]), name='bias')\n",
    "\n",
    "# Hypothesis : 결과는 넘파이 배열\n",
    "H = W*x+b\n",
    "\n",
    "#cost function == loss function\n",
    "cost = tf.reduce_mean(tf.square(H-y))\n",
    "\n",
    "# 경사하강법\n",
    "train = tf.train.GradientDescentOptimizer(learning_rate=0.01).minimize(cost)\n",
    "\n",
    "# sess\n",
    "sess = tf.Session()\n",
    "sess.run(tf.global_variables_initializer())\n",
    "\n",
    "for step in range(10001):\n",
    "    _, cost_, W_, b_ = sess.run([train, cost, W, b], feed_dict={x : x_data, y : y_data})\n",
    "    if (step+1)%1000==0:\n",
    "        print('{}/10000 cost:{}, W:{}, b:{}'.format(step+1, cost_, W_, b_))"
   ]
  },
  {
   "cell_type": "code",
   "execution_count": 55,
   "id": "8e58b1fe",
   "metadata": {
    "ExecuteTime": {
     "end_time": "2024-12-13T03:36:06.616446Z",
     "start_time": "2024-12-13T03:36:06.609465Z"
    }
   },
   "outputs": [
    {
     "data": {
      "text/plain": [
       "[array([1.9999979], dtype=float32), array([1.000011], dtype=float32)]"
      ]
     },
     "execution_count": 55,
     "metadata": {},
     "output_type": "execute_result"
    }
   ],
   "source": [
    "# 최종 W, b\n",
    "sess.run([W, b])"
   ]
  },
  {
   "cell_type": "code",
   "execution_count": 56,
   "id": "0fde50fa",
   "metadata": {
    "ExecuteTime": {
     "end_time": "2024-12-13T03:36:28.780327Z",
     "start_time": "2024-12-13T03:36:28.756360Z"
    }
   },
   "outputs": [
    {
     "data": {
      "text/plain": [
       "array([11.], dtype=float32)"
      ]
     },
     "execution_count": 56,
     "metadata": {},
     "output_type": "execute_result"
    }
   ],
   "source": [
    "# 예측하기\n",
    "sess.run(H, feed_dict={x:5})"
   ]
  },
  {
   "cell_type": "code",
   "execution_count": 57,
   "id": "b4545929",
   "metadata": {
    "ExecuteTime": {
     "end_time": "2024-12-13T03:36:50.053210Z",
     "start_time": "2024-12-13T03:36:50.045216Z"
    }
   },
   "outputs": [
    {
     "data": {
      "text/plain": [
       "array([11.      , 12.999998, 14.999996, 16.999994, 18.999992],\n",
       "      dtype=float32)"
      ]
     },
     "execution_count": 57,
     "metadata": {},
     "output_type": "execute_result"
    }
   ],
   "source": [
    "sess.run(H, feed_dict={x:np.array([5,6,7,8,9])})"
   ]
  },
  {
   "cell_type": "markdown",
   "id": "f681c140",
   "metadata": {},
   "source": [
    "## 2.3 scale이 다른 데이터들의 linear regression 구현(scale 조정 X)"
   ]
  },
  {
   "cell_type": "code",
   "execution_count": 68,
   "id": "5744b21b",
   "metadata": {
    "ExecuteTime": {
     "end_time": "2024-12-13T04:10:10.960797Z",
     "start_time": "2024-12-13T04:10:03.179991Z"
    }
   },
   "outputs": [
    {
     "name": "stdout",
     "output_type": "stream",
     "text": [
      "0/6000 cost:4507.08203125, W:[-0.47143444], b:[-0.61517566]\n",
      "300/6000 cost:117.41105651855469, W:[9.05135], b:[0.652318]\n",
      "600/6000 cost:79.76612854003906, W:[9.935285], b:[0.7534046]\n",
      "900/6000 cost:79.43289947509766, W:[10.019286], b:[0.74678016]\n",
      "1200/6000 cost:79.41993713378906, W:[10.029186], b:[0.730465]\n",
      "1500/6000 cost:79.41006469726562, W:[10.032193], b:[0.7135306]\n",
      "1800/6000 cost:79.40058135986328, W:[10.034483], b:[0.69681937]\n",
      "2100/6000 cost:79.39140319824219, W:[10.036758], b:[0.68038857]\n",
      "2400/6000 cost:79.38258361816406, W:[10.038922], b:[0.66424346]\n",
      "2700/6000 cost:79.3740463256836, W:[10.041047], b:[0.64838934]\n",
      "3000/6000 cost:79.36580657958984, W:[10.043134], b:[0.6328209]\n",
      "3300/6000 cost:79.35784912109375, W:[10.045182], b:[0.6175329]\n",
      "3600/6000 cost:79.35022735595703, W:[10.047196], b:[0.6025203]\n",
      "3900/6000 cost:79.34281158447266, W:[10.049199], b:[0.58777446]\n",
      "4200/6000 cost:79.335693359375, W:[10.051202], b:[0.57328117]\n",
      "4500/6000 cost:79.32877349853516, W:[10.053145], b:[0.5590306]\n",
      "4800/6000 cost:79.32213592529297, W:[10.055021], b:[0.54503465]\n",
      "5100/6000 cost:79.31571960449219, W:[10.056864], b:[0.53129077]\n",
      "5400/6000 cost:79.3095474243164, W:[10.058672], b:[0.51779467]\n",
      "5700/6000 cost:79.30357360839844, W:[10.060449], b:[0.5045415]\n",
      "6000/6000 cost:79.29782104492188, W:[10.062193], b:[0.4915274]\n"
     ]
    }
   ],
   "source": [
    "x_data = np.array([1,2,5,8,10])\n",
    "y_data = np.array([5,15,68,80,95])\n",
    "# placeholder 설정(x, y)\n",
    "x = tf.placeholder(dtype=tf.float32)\n",
    "y = tf.placeholder(dtype=tf.float32)\n",
    "# weight & bias\n",
    "W = tf.Variable(tf.random.normal([1]), name='weight')\n",
    "b = tf.Variable(tf.random.normal([1]), name='bias')\n",
    "# Hypothesis : 결과는 넘파이 배열\n",
    "H = W*x+b\n",
    "#cost function == loss function\n",
    "cost = tf.reduce_mean(tf.square(H-y))\n",
    "# 경사하강법\n",
    "train = tf.train.GradientDescentOptimizer(learning_rate=0.0001).minimize(cost)\n",
    "# Session & Variable 초기화\n",
    "sess = tf.Session()\n",
    "sess.run(tf.global_variables_initializer())\n",
    "\n",
    "# 학습\n",
    "for step in range(6001):\n",
    "    _, cost_val, W_val, b_val = sess.run([train, cost, W, b], feed_dict={x:x_data, y:y_data})\n",
    "    if step%300==0:\n",
    "        print('{}/6000 cost:{}, W:{}, b:{}'.format(step, cost_val, W_val, b_val))"
   ]
  },
  {
   "cell_type": "code",
   "execution_count": 66,
   "id": "36ac0401",
   "metadata": {
    "ExecuteTime": {
     "end_time": "2024-12-13T04:08:21.076998Z",
     "start_time": "2024-12-13T04:08:21.067998Z"
    }
   },
   "outputs": [
    {
     "data": {
      "text/plain": [
       "array([11.258972], dtype=float32)"
      ]
     },
     "execution_count": 66,
     "metadata": {},
     "output_type": "execute_result"
    }
   ],
   "source": [
    "# 예측\n",
    "sess.run(H, feed_dict={x:1})"
   ]
  },
  {
   "cell_type": "code",
   "execution_count": null,
   "id": "fa883cf3",
   "metadata": {},
   "outputs": [],
   "source": [
    "# cost값이 멈춤 : local 최소값"
   ]
  },
  {
   "cell_type": "markdown",
   "id": "e678afbe",
   "metadata": {},
   "source": [
    "## 2.4 scale이 다른 데이터들의 linear regression 구현(scale 조정 O)\n",
    "### scale을 맞추는 방법\n",
    "- normalization (정규화) : 데이터의 최대값을 1, 최소값을 0으로 조정\n",
    "                              X - Xmin\n",
    "        normalization = ────────────\n",
    "                             Xmax - Xmin\n",
    "    * 위의 식을 써도 되지만 라이브러리를 주로 씀 (sklearn.preprocessing.MinMaxScaler이용)\n",
    "- standardization (표준화) : 데이터의 평균을 0, 표준편차를 1로 조정\n",
    "                              X - Xmean(평균)\n",
    "        standardization = ────────────\n",
    "                               Xstd(표준편자)\n",
    "    * 위의 식을 써도 되지만 라이브러리를 주로 씀 (sklearn.preprocessing.StandardScaler이용)"
   ]
  },
  {
   "cell_type": "code",
   "execution_count": 8,
   "id": "48e4ac3d",
   "metadata": {
    "ExecuteTime": {
     "end_time": "2024-12-13T05:39:18.707004Z",
     "start_time": "2024-12-13T05:39:18.698029Z"
    }
   },
   "outputs": [
    {
     "name": "stdout",
     "output_type": "stream",
     "text": [
      "[0.         0.11111111 0.44444444 0.77777778 1.        ]\n",
      "[0.         0.11111111 0.7        0.83333333 1.        ]\n"
     ]
    },
    {
     "data": {
      "text/plain": [
       "68.0"
      ]
     },
     "execution_count": 8,
     "metadata": {},
     "output_type": "execute_result"
    }
   ],
   "source": [
    "# 라이브러리를 사용하지 않고 정규화 : 예측할 경우 x데이터를 스케일 변환, 스케일된 예측값을 변환이 번거러움\n",
    "x_data = np.array([1,2,5,8,10])\n",
    "y_data = np.array([5,15,68,80,95])\n",
    "scaled_x_data = (x_data - x_data.min())/(x_data.max() - x_data.min())\n",
    "scaled_y_data = (y_data - y_data.min())/(y_data.max() - y_data.min())\n",
    "print(scaled_x_data)\n",
    "print(scaled_y_data)\n",
    "0.7*(y_data.max() - y_data.min())+y_data.min()"
   ]
  },
  {
   "cell_type": "code",
   "execution_count": 19,
   "id": "9bb88480",
   "metadata": {
    "ExecuteTime": {
     "end_time": "2024-12-13T05:49:15.067560Z",
     "start_time": "2024-12-13T05:49:15.058584Z"
    }
   },
   "outputs": [
    {
     "data": {
      "text/plain": [
       "array([[ 1.        ,  0.        ,  5.        ,  0.        ],\n",
       "       [ 2.        ,  0.11111111, 15.        ,  0.11111111],\n",
       "       [ 5.        ,  0.44444444, 68.        ,  0.7       ],\n",
       "       [ 8.        ,  0.77777778, 80.        ,  0.83333333],\n",
       "       [10.        ,  1.        , 95.        ,  1.        ]])"
      ]
     },
     "execution_count": 19,
     "metadata": {},
     "output_type": "execute_result"
    }
   ],
   "source": [
    "\n",
    "x_data = np.array([1,2,5,8,10]).reshape(-1,1)\n",
    "y_data = np.array([5,15,68,80,95]).reshape(-1,1)\n",
    "\n",
    "from sklearn.preprocessing import MinMaxScaler\n",
    "scalerX = MinMaxScaler()# x_data를 표준화 시킬 객체\n",
    "scalerY = MinMaxScaler()\n",
    "scalerX.fit(x_data)\n",
    "scalerY.fit(y_data)\n",
    "scaled_x_data = scalerX.transform(x_data)\n",
    "scaled_y_data = scalerY.transform(y_data)\n",
    "scaled_x_data, scaled_y_data\n",
    "np.column_stack([x_data, scaled_x_data, y_data, scaled_y_data])"
   ]
  },
  {
   "cell_type": "code",
   "execution_count": 25,
   "id": "893fce09",
   "metadata": {
    "ExecuteTime": {
     "end_time": "2024-12-13T05:52:23.395417Z",
     "start_time": "2024-12-13T05:52:06.362458Z"
    },
    "collapsed": true
   },
   "outputs": [
    {
     "name": "stdout",
     "output_type": "stream",
     "text": [
      "0/12000 cost:1.2239142656326294, W:[-0.27690133], b:[1.6437354]\n",
      "300/12000 cost:0.5487234592437744, W:[-0.36159012], b:[1.2108879]\n",
      "600/12000 cost:0.36282962560653687, W:[-0.34992144], b:[0.97886777]\n",
      "900/12000 cost:0.2909197211265564, W:[-0.29617473], b:[0.84366643]\n",
      "1200/12000 cost:0.24846026301383972, W:[-0.22578397], b:[0.755973]\n",
      "1500/12000 cost:0.21602852642536163, W:[-0.15055804], b:[0.69235045]\n",
      "1800/12000 cost:0.18883156776428223, W:[-0.07587633], b:[0.64160687]\n",
      "2100/12000 cost:0.16540716588497162, W:[-0.00409201], b:[0.5983483]\n",
      "2400/12000 cost:0.14508889615535736, W:[0.06386038], b:[0.55993026]\n",
      "2700/12000 cost:0.12743249535560608, W:[0.12770508], b:[0.5250133]\n",
      "3000/12000 cost:0.11208202689886093, W:[0.18746644], b:[0.49288303]\n",
      "3300/12000 cost:0.09873463958501816, W:[0.24330093], b:[0.46312463]\n",
      "3600/12000 cost:0.0871286392211914, W:[0.2954169], b:[0.43547118]\n",
      "3900/12000 cost:0.07703675329685211, W:[0.34403867], b:[0.4097301]\n",
      "4200/12000 cost:0.06826139986515045, W:[0.38938951], b:[0.38574797]\n",
      "4500/12000 cost:0.06063085049390793, W:[0.43168426], b:[0.36339492]\n",
      "4800/12000 cost:0.05399566888809204, W:[0.47112715], b:[0.34255582]\n",
      "5100/12000 cost:0.048226188868284225, W:[0.50790775], b:[0.32312578]\n",
      "5400/12000 cost:0.04320937395095825, W:[0.5422059], b:[0.3050083]\n",
      "5700/12000 cost:0.038847051560878754, W:[0.5741889], b:[0.28811443]\n",
      "6000/12000 cost:0.035053811967372894, W:[0.604013], b:[0.27236143]\n",
      "6300/12000 cost:0.03175541013479233, W:[0.631824], b:[0.2576718]\n",
      "6600/12000 cost:0.028887342661619186, W:[0.6577572], b:[0.243974]\n",
      "6900/12000 cost:0.026393409818410873, W:[0.68194], b:[0.23120098]\n",
      "7200/12000 cost:0.02422480471432209, W:[0.70449066], b:[0.21929015]\n",
      "7500/12000 cost:0.022339118644595146, W:[0.72551876], b:[0.20818335]\n",
      "7800/12000 cost:0.020699424669146538, W:[0.74512744], b:[0.19782633]\n",
      "8100/12000 cost:0.019273649901151657, W:[0.7634123], b:[0.18816851]\n",
      "8400/12000 cost:0.01803387701511383, W:[0.7804627], b:[0.17916262]\n",
      "8700/12000 cost:0.016955841332674026, W:[0.79636216], b:[0.17076473]\n",
      "9000/12000 cost:0.016018440946936607, W:[0.81118834], b:[0.16293375]\n",
      "9300/12000 cost:0.015203329734504223, W:[0.82501364], b:[0.1556314]\n",
      "9600/12000 cost:0.014494551345705986, W:[0.8379056], b:[0.14882198]\n",
      "9900/12000 cost:0.013878250494599342, W:[0.8499272], b:[0.14247225]\n",
      "10200/12000 cost:0.01334234606474638, W:[0.8611372], b:[0.13655126]\n",
      "10500/12000 cost:0.012876346707344055, W:[0.8715906], b:[0.13102992]\n",
      "10800/12000 cost:0.012471139430999756, W:[0.8813384], b:[0.12588133]\n",
      "11100/12000 cost:0.01211879774928093, W:[0.8904282], b:[0.1210803]\n",
      "11400/12000 cost:0.011812416836619377, W:[0.8989043], b:[0.1166033]\n",
      "11700/12000 cost:0.011546013876795769, W:[0.906808], b:[0.11242854]\n",
      "12000/12000 cost:0.011314359493553638, W:[0.9141783], b:[0.10853563]\n"
     ]
    }
   ],
   "source": [
    "x = tf.placeholder(dtype=tf.float32)\n",
    "y = tf.placeholder(dtype=tf.float32)\n",
    "# weight & bias\n",
    "W = tf.Variable(tf.random.normal([1]), name='weight')\n",
    "b = tf.Variable(tf.random.normal([1]), name='bias')\n",
    "# Hypothesis : 결과는 넘파이 배열\n",
    "H = W*x+b\n",
    "#cost function == loss function\n",
    "cost = tf.reduce_mean(tf.square(H-y))\n",
    "# 경사하강법\n",
    "train = tf.train.GradientDescentOptimizer(learning_rate=0.001).minimize(cost)\n",
    "# Session & Variable 초기화\n",
    "sess = tf.Session()\n",
    "sess.run(tf.global_variables_initializer())\n",
    "\n",
    "# 학습\n",
    "for step in range(12001):\n",
    "    _, cost_val, W_val, b_val = sess.run([train, cost, W, b], feed_dict={x:scaled_x_data, y:scaled_y_data})\n",
    "    if step%300==0:\n",
    "        print('{}/12000 cost:{}, W:{}, b:{}'.format(step, cost_val, W_val, b_val))"
   ]
  },
  {
   "cell_type": "code",
   "execution_count": 36,
   "id": "a91caafd",
   "metadata": {
    "ExecuteTime": {
     "end_time": "2024-12-13T05:58:32.252570Z",
     "start_time": "2024-12-13T05:58:32.242597Z"
    }
   },
   "outputs": [
    {
     "data": {
      "text/plain": [
       "array([[33.05112]], dtype=float32)"
      ]
     },
     "execution_count": 36,
     "metadata": {},
     "output_type": "execute_result"
    }
   ],
   "source": [
    "scaled_input = scalerX.transform(np.array([[3]]))\n",
    "sess.run(H, feed_dict={x:scaled_input})\n",
    "scaied_output = scalerY.inverse_transform(sess.run(H, feed_dict={x:scaled_input}))\n",
    "scaied_output"
   ]
  },
  {
   "cell_type": "code",
   "execution_count": 43,
   "id": "0aa1be58",
   "metadata": {
    "ExecuteTime": {
     "end_time": "2024-12-13T06:16:24.937858Z",
     "start_time": "2024-12-13T06:16:24.929880Z"
    }
   },
   "outputs": [
    {
     "data": {
      "text/plain": [
       "array([[ 5.        , 14.7670784 ],\n",
       "       [15.        , 23.90909767],\n",
       "       [68.        , 51.33516312],\n",
       "       [80.        , 78.76122284],\n",
       "       [95.        , 97.0452652 ]])"
      ]
     },
     "execution_count": 43,
     "metadata": {},
     "output_type": "execute_result"
    }
   ],
   "source": [
    "scaled_y_hat = sess.run(H, feed_dict={x:scaled_x_data})\n",
    "y_hat = scalerY.inverse_transform(scaled_y_hat)\n",
    "np.column_stack([y_data,y_hat])"
   ]
  },
  {
   "cell_type": "code",
   "execution_count": 46,
   "id": "5a9de25a",
   "metadata": {
    "ExecuteTime": {
     "end_time": "2024-12-13T06:18:49.133725Z",
     "start_time": "2024-12-13T06:18:48.997865Z"
    }
   },
   "outputs": [
    {
     "data": {
      "image/png": "[encoded data removed]",
      "text/plain": [
       "<Figure size 640x480 with 1 Axes>"
      ]
     },
     "metadata": {},
     "output_type": "display_data"
    }
   ],
   "source": [
    "import matplotlib.pyplot as plt\n",
    "plt.plot(x_data, y_data)\n",
    "plt.plot(x_data,y_hat)\n",
    "plt.show()"
   ]
  },
  {
   "cell_type": "code",
   "execution_count": 52,
   "id": "79fdb11b",
   "metadata": {
    "ExecuteTime": {
     "end_time": "2024-12-13T06:23:06.746371Z",
     "start_time": "2024-12-13T06:23:06.726395Z"
    }
   },
   "outputs": [
    {
     "data": {
      "text/html": [
       "<div>\n",
       "<style scoped>\n",
       "    .dataframe tbody tr th:only-of-type {\n",
       "        vertical-align: middle;\n",
       "    }\n",
       "\n",
       "    .dataframe tbody tr th {\n",
       "        vertical-align: top;\n",
       "    }\n",
       "\n",
       "    .dataframe thead th {\n",
       "        text-align: right;\n",
       "    }\n",
       "</style>\n",
       "<table border=\"1\" class=\"dataframe\">\n",
       "  <thead>\n",
       "    <tr style=\"text-align: right;\">\n",
       "      <th></th>\n",
       "      <th>x</th>\n",
       "      <th>y</th>\n",
       "    </tr>\n",
       "  </thead>\n",
       "  <tbody>\n",
       "    <tr>\n",
       "      <th>0</th>\n",
       "      <td>1</td>\n",
       "      <td>5</td>\n",
       "    </tr>\n",
       "    <tr>\n",
       "      <th>1</th>\n",
       "      <td>2</td>\n",
       "      <td>15</td>\n",
       "    </tr>\n",
       "    <tr>\n",
       "      <th>2</th>\n",
       "      <td>5</td>\n",
       "      <td>68</td>\n",
       "    </tr>\n",
       "    <tr>\n",
       "      <th>3</th>\n",
       "      <td>8</td>\n",
       "      <td>80</td>\n",
       "    </tr>\n",
       "    <tr>\n",
       "      <th>4</th>\n",
       "      <td>10</td>\n",
       "      <td>95</td>\n",
       "    </tr>\n",
       "  </tbody>\n",
       "</table>\n",
       "</div>"
      ],
      "text/plain": [
       "    x   y\n",
       "0   1   5\n",
       "1   2  15\n",
       "2   5  68\n",
       "3   8  80\n",
       "4  10  95"
      ]
     },
     "execution_count": 52,
     "metadata": {},
     "output_type": "execute_result"
    }
   ],
   "source": [
    "import seaborn as sns\n",
    "import pandas as pd\n",
    "df = pd.DataFrame({'x':x_data[:,0], 'y':y_data[:,0]})\n",
    "df"
   ]
  },
  {
   "cell_type": "code",
   "execution_count": 51,
   "id": "4960cac9",
   "metadata": {
    "ExecuteTime": {
     "end_time": "2024-12-13T06:23:03.906769Z",
     "start_time": "2024-12-13T06:23:03.681765Z"
    }
   },
   "outputs": [
    {
     "data": {
      "image/png": "[encoded data removed]",
      "text/plain": [
       "<Figure size 640x480 with 1 Axes>"
      ]
     },
     "metadata": {},
     "output_type": "display_data"
    }
   ],
   "source": [
    "sns.regplot(data=df, x=df.x, y=df.y)\n",
    "plt.show()"
   ]
  },
  {
   "cell_type": "code",
   "execution_count": 54,
   "id": "6365e461",
   "metadata": {
    "ExecuteTime": {
     "end_time": "2024-12-13T06:36:09.357097Z",
     "start_time": "2024-12-13T06:36:09.350115Z"
    }
   },
   "outputs": [
    {
     "data": {
      "text/plain": [
       "array([-1.32373476, -1.04563922,  0.42826713,  0.76198177,  1.17912508])"
      ]
     },
     "execution_count": 54,
     "metadata": {},
     "output_type": "execute_result"
    }
   ],
   "source": [
    "# 라이브러리를 쓰지 않고 표준화\n",
    "x_data = np.array([1,2,5,8,10])\n",
    "y_data = np.array([5,15,68,80,95])\n",
    "scaled_x_data = (x_data - x_data.mean())/x_data.std()\n",
    "scaled_Y_data = (y_data - y_data.mean())/y_data.std()\n",
    "scaled_Y_data"
   ]
  },
  {
   "cell_type": "code",
   "execution_count": 65,
   "id": "fd88f02f",
   "metadata": {
    "ExecuteTime": {
     "end_time": "2024-12-13T06:48:28.666248Z",
     "start_time": "2024-12-13T06:48:28.658269Z"
    }
   },
   "outputs": [
    {
     "name": "stdout",
     "output_type": "stream",
     "text": [
      "[[ 1.         -1.22474487]\n",
      " [ 2.         -0.93313895]\n",
      " [ 5.         -0.05832118]\n",
      " [ 8.          0.81649658]\n",
      " [10.          1.39970842]]\n",
      "[[ 5.         -1.32373476]\n",
      " [15.         -1.04563922]\n",
      " [68.          0.42826713]\n",
      " [80.          0.76198177]\n",
      " [95.          1.17912508]]\n"
     ]
    }
   ],
   "source": [
    "# 라이브러리를 사용해서 표준화\n",
    "x_data = np.array([1,2,5,8,10]).reshape(-1,1)\n",
    "y_data = np.array([5,15,68,80,95]).reshape(-1,1)\n",
    "\n",
    "from sklearn.preprocessing import StandardScaler\n",
    "scaler_x = StandardScaler()\n",
    "scaler_y = StandardScaler()\n",
    "scaler_x.fit(x_data)\n",
    "scaler_y.fit(y_data)\n",
    "scaled_x_data = scaler_x.transform(x_data)\n",
    "scaled_y_data = scaler_y.transform(y_data)\n",
    "print(np.column_stack([x_data, scaled_x_data,]))\n",
    "print(np.column_stack([y_data, scaled_y_data]))"
   ]
  },
  {
   "cell_type": "code",
   "execution_count": 67,
   "id": "a617d727",
   "metadata": {
    "ExecuteTime": {
     "end_time": "2024-12-13T06:49:29.238910Z",
     "start_time": "2024-12-13T06:49:12.917423Z"
    }
   },
   "outputs": [
    {
     "name": "stdout",
     "output_type": "stream",
     "text": [
      "0/12000 cost:5.68877649307251, W:[-1.3160664], b:[0.63752097]\n",
      "3000/12000 cost:0.06123834848403931, W:[0.9632849], b:[0.00157079]\n",
      "6000/12000 cost:0.06120416522026062, W:[0.9688999], b:[3.8729386e-06]\n",
      "9000/12000 cost:0.06120417267084122, W:[0.9688999], b:[2.9096967e-08]\n",
      "12000/12000 cost:0.061204176396131516, W:[0.9688999], b:[2.420974e-08]\n"
     ]
    }
   ],
   "source": [
    "x = tf.placeholder(dtype=tf.float32)\n",
    "y = tf.placeholder(dtype=tf.float32)\n",
    "# weight & bias\n",
    "W = tf.Variable(tf.random.normal([1]), name='weight')\n",
    "b = tf.Variable(tf.random.normal([1]), name='bias')\n",
    "# Hypothesis : 결과는 넘파이 배열\n",
    "H = W*x+b\n",
    "#cost function == loss function\n",
    "cost = tf.reduce_mean(tf.square(H-y))\n",
    "# 경사하강법\n",
    "train = tf.train.GradientDescentOptimizer(learning_rate=0.001).minimize(cost)\n",
    "# Session & Variable 초기화\n",
    "sess = tf.Session()\n",
    "sess.run(tf.global_variables_initializer())\n",
    "\n",
    "# 학습\n",
    "for step in range(12001):\n",
    "    _, cost_val, W_val, b_val = sess.run([train, cost, W, b], feed_dict={x:scaled_x_data, y:scaled_y_data})\n",
    "    if step%3000==0:\n",
    "        print('{}/12000 cost:{}, W:{}, b:{}'.format(step, cost_val, W_val, b_val))"
   ]
  },
  {
   "cell_type": "markdown",
   "id": "5c87b712",
   "metadata": {},
   "source": [
    "## 2.5 독립변수 x가 여러개인 linear Regression"
   ]
  },
  {
   "cell_type": "code",
   "execution_count": null,
   "id": "4d86a8d1",
   "metadata": {},
   "outputs": [],
   "source": []
  },
  {
   "cell_type": "code",
   "execution_count": null,
   "id": "c5a3a043",
   "metadata": {},
   "outputs": [],
   "source": []
  },
  {
   "cell_type": "markdown",
   "id": "6f285183",
   "metadata": {},
   "source": [
    "## 2.6 csv를 array로 읽어오기"
   ]
  },
  {
   "cell_type": "code",
   "execution_count": 77,
   "id": "8370f667",
   "metadata": {
    "ExecuteTime": {
     "end_time": "2024-12-13T08:52:33.238588Z",
     "start_time": "2024-12-13T08:52:33.227589Z"
    }
   },
   "outputs": [
    {
     "data": {
      "text/plain": [
       "((111, 4), (111,))"
      ]
     },
     "execution_count": 77,
     "metadata": {},
     "output_type": "execute_result"
    }
   ],
   "source": [
    "# 방법 1 : csv -> 데이터프레임 -> 넘파이배열\n",
    "# 1. CSV를 데이터 프레임으로 읽음\n",
    "data = pd.read_csv('data/ozone.csv')\n",
    "# 2. 결측치 대체 or 삭제\n",
    "# data.fillna(value=data.mean(), inplace=True)\n",
    "data.dropna(how='any', axis=0, inplace=True)\n",
    "X = data[['Ozone','Solar.R','Wind','Temp']].values\n",
    "y = data['Ozone'].values\n",
    "X.shape, y.shape"
   ]
  },
  {
   "cell_type": "code",
   "execution_count": 82,
   "id": "b9670f9b",
   "metadata": {
    "ExecuteTime": {
     "end_time": "2024-12-13T08:57:02.373471Z",
     "start_time": "2024-12-13T08:57:02.359538Z"
    }
   },
   "outputs": [
    {
     "data": {
      "text/plain": [
       "array([[ 41. , 190. ,   7.4,  67. ,   5. ,   1. ],\n",
       "       [ 36. , 118. ,   8. ,  72. ,   5. ,   2. ],\n",
       "       [ 12. , 149. ,  12.6,  74. ,   5. ,   3. ],\n",
       "       [ 18. , 313. ,  11.5,  62. ,   5. ,   4. ],\n",
       "       [  nan,   nan,  14.3,  56. ,   5. ,   5. ],\n",
       "       [ 28. ,   nan,  14.9,  66. ,   5. ,   6. ],\n",
       "       [ 23. , 299. ,   8.6,  65. ,   5. ,   7. ],\n",
       "       [ 19. ,  99. ,  13.8,  59. ,   5. ,   8. ],\n",
       "       [  8. ,  19. ,  20.1,  61. ,   5. ,   9. ],\n",
       "       [  nan, 194. ,   8.6,  69. ,   5. ,  10. ],\n",
       "       [  7. ,   nan,   6.9,  74. ,   5. ,  11. ],\n",
       "       [ 16. , 256. ,   9.7,  69. ,   5. ,  12. ],\n",
       "       [ 11. , 290. ,   9.2,  66. ,   5. ,  13. ],\n",
       "       [ 14. , 274. ,  10.9,  68. ,   5. ,  14. ],\n",
       "       [ 18. ,  65. ,  13.2,  58. ,   5. ,  15. ],\n",
       "       [ 14. , 334. ,  11.5,  64. ,   5. ,  16. ],\n",
       "       [ 34. , 307. ,  12. ,  66. ,   5. ,  17. ],\n",
       "       [  6. ,  78. ,  18.4,  57. ,   5. ,  18. ],\n",
       "       [ 30. , 322. ,  11.5,  68. ,   5. ,  19. ],\n",
       "       [ 11. ,  44. ,   9.7,  62. ,   5. ,  20. ],\n",
       "       [  1. ,   8. ,   9.7,  59. ,   5. ,  21. ],\n",
       "       [ 11. , 320. ,  16.6,  73. ,   5. ,  22. ],\n",
       "       [  4. ,  25. ,   9.7,  61. ,   5. ,  23. ],\n",
       "       [ 32. ,  92. ,  12. ,  61. ,   5. ,  24. ],\n",
       "       [  nan,  66. ,  16.6,  57. ,   5. ,  25. ],\n",
       "       [  nan, 266. ,  14.9,  58. ,   5. ,  26. ],\n",
       "       [  nan,   nan,   8. ,  57. ,   5. ,  27. ],\n",
       "       [ 23. ,  13. ,  12. ,  67. ,   5. ,  28. ],\n",
       "       [ 45. , 252. ,  14.9,  81. ,   5. ,  29. ],\n",
       "       [115. , 223. ,   5.7,  79. ,   5. ,  30. ],\n",
       "       [ 37. , 279. ,   7.4,  76. ,   5. ,  31. ],\n",
       "       [  nan, 286. ,   8.6,  78. ,   6. ,   1. ],\n",
       "       [  nan, 287. ,   9.7,  74. ,   6. ,   2. ],\n",
       "       [  nan, 242. ,  16.1,  67. ,   6. ,   3. ],\n",
       "       [  nan, 186. ,   9.2,  84. ,   6. ,   4. ],\n",
       "       [  nan, 220. ,   8.6,  85. ,   6. ,   5. ],\n",
       "       [  nan, 264. ,  14.3,  79. ,   6. ,   6. ],\n",
       "       [ 29. , 127. ,   9.7,  82. ,   6. ,   7. ],\n",
       "       [  nan, 273. ,   6.9,  87. ,   6. ,   8. ],\n",
       "       [ 71. , 291. ,  13.8,  90. ,   6. ,   9. ],\n",
       "       [ 39. , 323. ,  11.5,  87. ,   6. ,  10. ],\n",
       "       [  nan, 259. ,  10.9,  93. ,   6. ,  11. ],\n",
       "       [  nan, 250. ,   9.2,  92. ,   6. ,  12. ],\n",
       "       [ 23. , 148. ,   8. ,  82. ,   6. ,  13. ],\n",
       "       [  nan, 332. ,  13.8,  80. ,   6. ,  14. ],\n",
       "       [  nan, 322. ,  11.5,  79. ,   6. ,  15. ],\n",
       "       [ 21. , 191. ,  14.9,  77. ,   6. ,  16. ],\n",
       "       [ 37. , 284. ,  20.7,  72. ,   6. ,  17. ],\n",
       "       [ 20. ,  37. ,   9.2,  65. ,   6. ,  18. ],\n",
       "       [ 12. , 120. ,  11.5,  73. ,   6. ,  19. ],\n",
       "       [ 13. , 137. ,  10.3,  76. ,   6. ,  20. ],\n",
       "       [  nan, 150. ,   6.3,  77. ,   6. ,  21. ],\n",
       "       [  nan,  59. ,   1.7,  76. ,   6. ,  22. ],\n",
       "       [  nan,  91. ,   4.6,  76. ,   6. ,  23. ],\n",
       "       [  nan, 250. ,   6.3,  76. ,   6. ,  24. ],\n",
       "       [  nan, 135. ,   8. ,  75. ,   6. ,  25. ],\n",
       "       [  nan, 127. ,   8. ,  78. ,   6. ,  26. ],\n",
       "       [  nan,  47. ,  10.3,  73. ,   6. ,  27. ],\n",
       "       [  nan,  98. ,  11.5,  80. ,   6. ,  28. ],\n",
       "       [  nan,  31. ,  14.9,  77. ,   6. ,  29. ],\n",
       "       [  nan, 138. ,   8. ,  83. ,   6. ,  30. ],\n",
       "       [135. , 269. ,   4.1,  84. ,   7. ,   1. ],\n",
       "       [ 49. , 248. ,   9.2,  85. ,   7. ,   2. ],\n",
       "       [ 32. , 236. ,   9.2,  81. ,   7. ,   3. ],\n",
       "       [  nan, 101. ,  10.9,  84. ,   7. ,   4. ],\n",
       "       [ 64. , 175. ,   4.6,  83. ,   7. ,   5. ],\n",
       "       [ 40. , 314. ,  10.9,  83. ,   7. ,   6. ],\n",
       "       [ 77. , 276. ,   5.1,  88. ,   7. ,   7. ],\n",
       "       [ 97. , 267. ,   6.3,  92. ,   7. ,   8. ],\n",
       "       [ 97. , 272. ,   5.7,  92. ,   7. ,   9. ],\n",
       "       [ 85. , 175. ,   7.4,  89. ,   7. ,  10. ],\n",
       "       [  nan, 139. ,   8.6,  82. ,   7. ,  11. ],\n",
       "       [ 10. , 264. ,  14.3,  73. ,   7. ,  12. ],\n",
       "       [ 27. , 175. ,  14.9,  81. ,   7. ,  13. ],\n",
       "       [  nan, 291. ,  14.9,  91. ,   7. ,  14. ],\n",
       "       [  7. ,  48. ,  14.3,  80. ,   7. ,  15. ],\n",
       "       [ 48. , 260. ,   6.9,  81. ,   7. ,  16. ],\n",
       "       [ 35. , 274. ,  10.3,  82. ,   7. ,  17. ],\n",
       "       [ 61. , 285. ,   6.3,  84. ,   7. ,  18. ],\n",
       "       [ 79. , 187. ,   5.1,  87. ,   7. ,  19. ],\n",
       "       [ 63. , 220. ,  11.5,  85. ,   7. ,  20. ],\n",
       "       [ 16. ,   7. ,   6.9,  74. ,   7. ,  21. ],\n",
       "       [  nan, 258. ,   9.7,  81. ,   7. ,  22. ],\n",
       "       [  nan, 295. ,  11.5,  82. ,   7. ,  23. ],\n",
       "       [ 80. , 294. ,   8.6,  86. ,   7. ,  24. ],\n",
       "       [108. , 223. ,   8. ,  85. ,   7. ,  25. ],\n",
       "       [ 20. ,  81. ,   8.6,  82. ,   7. ,  26. ],\n",
       "       [ 52. ,  82. ,  12. ,  86. ,   7. ,  27. ],\n",
       "       [ 82. , 213. ,   7.4,  88. ,   7. ,  28. ],\n",
       "       [ 50. , 275. ,   7.4,  86. ,   7. ,  29. ],\n",
       "       [ 64. , 253. ,   7.4,  83. ,   7. ,  30. ],\n",
       "       [ 59. , 254. ,   9.2,  81. ,   7. ,  31. ],\n",
       "       [ 39. ,  83. ,   6.9,  81. ,   8. ,   1. ],\n",
       "       [  9. ,  24. ,  13.8,  81. ,   8. ,   2. ],\n",
       "       [ 16. ,  77. ,   7.4,  82. ,   8. ,   3. ],\n",
       "       [ 78. ,   nan,   6.9,  86. ,   8. ,   4. ],\n",
       "       [ 35. ,   nan,   7.4,  85. ,   8. ,   5. ],\n",
       "       [ 66. ,   nan,   4.6,  87. ,   8. ,   6. ],\n",
       "       [122. , 255. ,   4. ,  89. ,   8. ,   7. ],\n",
       "       [ 89. , 229. ,  10.3,  90. ,   8. ,   8. ],\n",
       "       [110. , 207. ,   8. ,  90. ,   8. ,   9. ],\n",
       "       [  nan, 222. ,   8.6,  92. ,   8. ,  10. ],\n",
       "       [  nan, 137. ,  11.5,  86. ,   8. ,  11. ],\n",
       "       [ 44. , 192. ,  11.5,  86. ,   8. ,  12. ],\n",
       "       [ 28. , 273. ,  11.5,  82. ,   8. ,  13. ],\n",
       "       [ 65. , 157. ,   9.7,  80. ,   8. ,  14. ],\n",
       "       [  nan,  64. ,  11.5,  79. ,   8. ,  15. ],\n",
       "       [ 22. ,  71. ,  10.3,  77. ,   8. ,  16. ],\n",
       "       [ 59. ,  51. ,   6.3,  79. ,   8. ,  17. ],\n",
       "       [ 23. , 115. ,   7.4,  76. ,   8. ,  18. ],\n",
       "       [ 31. , 244. ,  10.9,  78. ,   8. ,  19. ],\n",
       "       [ 44. , 190. ,  10.3,  78. ,   8. ,  20. ],\n",
       "       [ 21. , 259. ,  15.5,  77. ,   8. ,  21. ],\n",
       "       [  9. ,  36. ,  14.3,  72. ,   8. ,  22. ],\n",
       "       [  nan, 255. ,  12.6,  75. ,   8. ,  23. ],\n",
       "       [ 45. , 212. ,   9.7,  79. ,   8. ,  24. ],\n",
       "       [168. , 238. ,   3.4,  81. ,   8. ,  25. ],\n",
       "       [ 73. , 215. ,   8. ,  86. ,   8. ,  26. ],\n",
       "       [  nan, 153. ,   5.7,  88. ,   8. ,  27. ],\n",
       "       [ 76. , 203. ,   9.7,  97. ,   8. ,  28. ],\n",
       "       [118. , 225. ,   2.3,  94. ,   8. ,  29. ],\n",
       "       [ 84. , 237. ,   6.3,  96. ,   8. ,  30. ],\n",
       "       [ 85. , 188. ,   6.3,  94. ,   8. ,  31. ],\n",
       "       [ 96. , 167. ,   6.9,  91. ,   9. ,   1. ],\n",
       "       [ 78. , 197. ,   5.1,  92. ,   9. ,   2. ],\n",
       "       [ 73. , 183. ,   2.8,  93. ,   9. ,   3. ],\n",
       "       [ 91. , 189. ,   4.6,  93. ,   9. ,   4. ],\n",
       "       [ 47. ,  95. ,   7.4,  87. ,   9. ,   5. ],\n",
       "       [ 32. ,  92. ,  15.5,  84. ,   9. ,   6. ],\n",
       "       [ 20. , 252. ,  10.9,  80. ,   9. ,   7. ],\n",
       "       [ 23. , 220. ,  10.3,  78. ,   9. ,   8. ],\n",
       "       [ 21. , 230. ,  10.9,  75. ,   9. ,   9. ],\n",
       "       [ 24. , 259. ,   9.7,  73. ,   9. ,  10. ],\n",
       "       [ 44. , 236. ,  14.9,  81. ,   9. ,  11. ],\n",
       "       [ 21. , 259. ,  15.5,  76. ,   9. ,  12. ],\n",
       "       [ 28. , 238. ,   6.3,  77. ,   9. ,  13. ],\n",
       "       [  9. ,  24. ,  10.9,  71. ,   9. ,  14. ],\n",
       "       [ 13. , 112. ,  11.5,  71. ,   9. ,  15. ],\n",
       "       [ 46. , 237. ,   6.9,  78. ,   9. ,  16. ],\n",
       "       [ 18. , 224. ,  13.8,  67. ,   9. ,  17. ],\n",
       "       [ 13. ,  27. ,  10.3,  76. ,   9. ,  18. ],\n",
       "       [ 24. , 238. ,  10.3,  68. ,   9. ,  19. ],\n",
       "       [ 16. , 201. ,   8. ,  82. ,   9. ,  20. ],\n",
       "       [ 13. , 238. ,  12.6,  64. ,   9. ,  21. ],\n",
       "       [ 23. ,  14. ,   9.2,  71. ,   9. ,  22. ],\n",
       "       [ 36. , 139. ,  10.3,  81. ,   9. ,  23. ],\n",
       "       [  7. ,  49. ,  10.3,  69. ,   9. ,  24. ],\n",
       "       [ 14. ,  20. ,  16.6,  63. ,   9. ,  25. ],\n",
       "       [ 30. , 193. ,   6.9,  70. ,   9. ,  26. ],\n",
       "       [  nan, 145. ,  13.2,  77. ,   9. ,  27. ],\n",
       "       [ 14. , 191. ,  14.3,  75. ,   9. ,  28. ],\n",
       "       [ 18. , 131. ,   8. ,  76. ,   9. ,  29. ],\n",
       "       [ 20. , 223. ,  11.5,  68. ,   9. ,  30. ]])"
      ]
     },
     "execution_count": 82,
     "metadata": {},
     "output_type": "execute_result"
    }
   ],
   "source": [
    "# 방법2 : csv -> 넘파이배열\n",
    "# data = np.loadtxt('data/ozone_nonan.csv', delimiter=',', skiprows=1) # NAN과 header 없어야함\n",
    "data = np.genfromtxt('data/ozone_nonan.csv', delimiter=',', skip_header=1, missing_values='NA', filling_values=np.nan)\n",
    "data"
   ]
  }
 ],
 "metadata": {
  "kernelspec": {
   "display_name": "Python 3 (ipykernel)",
   "language": "python",
   "name": "python3"
  },
  "language_info": {
   "codemirror_mode": {
    "name": "ipython",
    "version": 3
   },
   "file_extension": ".py",
   "mimetype": "text/x-python",
   "name": "python",
   "nbconvert_exporter": "python",
   "pygments_lexer": "ipython3",
   "version": "3.10.9"
  },
  "toc": {
   "base_numbering": 1,
   "nav_menu": {},
   "number_sections": true,
   "sideBar": true,
   "skip_h1_title": false,
   "title_cell": "Table of Contents",
   "title_sidebar": "Contents",
   "toc_cell": false,
   "toc_position": {
    "height": "calc(100% - 180px)",
    "left": "10px",
    "top": "150px",
    "width": "273px"
   },
   "toc_section_display": true,
   "toc_window_display": true
  }
 },
 "nbformat": 4,
 "nbformat_minor": 5
}
