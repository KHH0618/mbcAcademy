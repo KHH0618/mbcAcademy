{
 "cells": [
  {
   "cell_type": "code",
   "execution_count": 22,
   "id": "aa1f1e76",
   "metadata": {
    "ExecuteTime": {
     "end_time": "2024-12-17T07:29:32.404067Z",
     "start_time": "2024-12-17T07:29:31.971936Z"
    }
   },
   "outputs": [],
   "source": [
    "import numpy as np\n",
    "import pandas as pd\n",
    "import sys\n",
    "import matplotlib.pyplot as plt\n",
    "from tensorflow.keras.utils import to_categorical\n",
    "from tensorflow.keras.models import Sequential\n",
    "from tensorflow.keras.layers import Input,Dense"
   ]
  },
  {
   "cell_type": "markdown",
   "id": "6a596c43",
   "metadata": {},
   "source": [
    "# 로지스틱회귀분석(이진분류)\n",
    "## 1. 데이터셋 생성 & 전처리"
   ]
  },
  {
   "cell_type": "code",
   "execution_count": 2,
   "id": "405c0c5d",
   "metadata": {
    "ExecuteTime": {
     "end_time": "2024-12-17T07:15:05.208259Z",
     "start_time": "2024-12-17T07:15:05.193318Z"
    }
   },
   "outputs": [
    {
     "name": "stdout",
     "output_type": "stream",
     "text": [
      "<class 'pandas.core.frame.DataFrame'>\n",
      "RangeIndex: 768 entries, 0 to 767\n",
      "Data columns (total 9 columns):\n",
      " #   Column  Non-Null Count  Dtype  \n",
      "---  ------  --------------  -----  \n",
      " 0   0       768 non-null    int64  \n",
      " 1   1       768 non-null    int64  \n",
      " 2   2       768 non-null    int64  \n",
      " 3   3       768 non-null    int64  \n",
      " 4   4       768 non-null    int64  \n",
      " 5   5       768 non-null    float64\n",
      " 6   6       768 non-null    float64\n",
      " 7   7       768 non-null    int64  \n",
      " 8   8       768 non-null    int64  \n",
      "dtypes: float64(2), int64(7)\n",
      "memory usage: 54.1 KB\n"
     ]
    }
   ],
   "source": [
    "df = pd.read_csv('data/pima-indians-diabetes.csv', comment='#', header=None)\n",
    "df.info()\n",
    "# 결측치 없으므로, csv파일을 바로 넘파이 배열로 읽어올 예정"
   ]
  },
  {
   "cell_type": "code",
   "execution_count": 3,
   "id": "f8d94aa2",
   "metadata": {
    "ExecuteTime": {
     "end_time": "2024-12-17T07:15:05.216208Z",
     "start_time": "2024-12-17T07:15:05.212229Z"
    }
   },
   "outputs": [],
   "source": [
    "# 1. 임신횟수\n",
    "# 2. 2시간내 포도당 농도\n",
    "# 3. 혈압\n",
    "# 4. 피부접힘 두께\n",
    "# 5. 인슐린수치\n",
    "# 6. BMI체질량지수\n",
    "# 7. 가족력\n",
    "# 8. 나이\n",
    "# 9. 당뇨병발병여부"
   ]
  },
  {
   "cell_type": "code",
   "execution_count": 4,
   "id": "2ab7e25e",
   "metadata": {
    "ExecuteTime": {
     "end_time": "2024-12-17T07:15:05.230276Z",
     "start_time": "2024-12-17T07:15:05.218278Z"
    }
   },
   "outputs": [
    {
     "data": {
      "text/plain": [
       "(768, 9)"
      ]
     },
     "execution_count": 4,
     "metadata": {},
     "output_type": "execute_result"
    }
   ],
   "source": [
    "# csv파일을 numpy 배열로 읽어오기\n",
    "dataset = np.loadtxt('data/pima-indians-diabetes.csv', delimiter=',')\n",
    "dataset.shape"
   ]
  },
  {
   "cell_type": "code",
   "execution_count": 5,
   "id": "88c28761",
   "metadata": {
    "ExecuteTime": {
     "end_time": "2024-12-17T07:15:05.246280Z",
     "start_time": "2024-12-17T07:15:05.235234Z"
    }
   },
   "outputs": [
    {
     "data": {
      "text/plain": [
       "((700, 8), (700,), (68, 8), (68,))"
      ]
     },
     "execution_count": 5,
     "metadata": {},
     "output_type": "execute_result"
    }
   ],
   "source": [
    "# 학습데이터셋(학습용 데이터 : train dataset) : 모델 학습시 사용\n",
    "X_train = dataset[:700, :-1]\n",
    "y_train = dataset[:700, -1]\n",
    "# 테스트데이터셋(시험용 테이터 : test dataset) : 모델 평가시 사용\n",
    "X_test = dataset[700:,:-1]\n",
    "y_test = dataset[700:, -1]\n",
    "X_train.shape, y_train.shape, X_test.shape, y_test.shape"
   ]
  },
  {
   "cell_type": "markdown",
   "id": "b2e9fde1",
   "metadata": {},
   "source": [
    "## 2. 모델 구성"
   ]
  },
  {
   "cell_type": "code",
   "execution_count": 16,
   "id": "db3d9498",
   "metadata": {
    "ExecuteTime": {
     "end_time": "2024-12-17T07:23:03.590717Z",
     "start_time": "2024-12-17T07:23:03.524054Z"
    }
   },
   "outputs": [
    {
     "name": "stdout",
     "output_type": "stream",
     "text": [
      "Model: \"sequential_4\"\n",
      "_________________________________________________________________\n",
      " Layer (type)                Output Shape              Param #   \n",
      "=================================================================\n",
      " dense_13 (Dense)            (None, 64)                576       \n",
      "                                                                 \n",
      " dense_14 (Dense)            (None, 128)               8320      \n",
      "                                                                 \n",
      " dense_15 (Dense)            (None, 32)                4128      \n",
      "                                                                 \n",
      " dense_16 (Dense)            (None, 1)                 33        \n",
      "                                                                 \n",
      "=================================================================\n",
      "Total params: 13,057\n",
      "Trainable params: 13,057\n",
      "Non-trainable params: 0\n",
      "_________________________________________________________________\n"
     ]
    }
   ],
   "source": [
    "model = Sequential()\n",
    "model.add(Input(shape=(8,)))\n",
    "model.add(Dense(units=64, activation='relu'))\n",
    "model.add(Dense(units=128, activation='relu'))\n",
    "model.add(Dense(units=32, activation='relu'))\n",
    "model.add(Dense(units=1, activation='sigmoid'))\n",
    "\n",
    "model.summary()"
   ]
  },
  {
   "cell_type": "markdown",
   "id": "e9fa22a5",
   "metadata": {},
   "source": [
    "## 3. 학습과정 설정"
   ]
  },
  {
   "cell_type": "code",
   "execution_count": 17,
   "id": "f223bbda",
   "metadata": {
    "ExecuteTime": {
     "end_time": "2024-12-17T07:23:05.154441Z",
     "start_time": "2024-12-17T07:23:05.138994Z"
    }
   },
   "outputs": [],
   "source": [
    "model.compile(loss='binary_crossentropy', optimizer='adam', metrics=['binary_accuracy'])"
   ]
  },
  {
   "cell_type": "markdown",
   "id": "c8188257",
   "metadata": {},
   "source": [
    "## 4. 학습"
   ]
  },
  {
   "cell_type": "code",
   "execution_count": 18,
   "id": "9ecdd892",
   "metadata": {
    "ExecuteTime": {
     "end_time": "2024-12-17T07:23:35.914554Z",
     "start_time": "2024-12-17T07:23:06.467556Z"
    },
    "scrolled": true
   },
   "outputs": [
    {
     "name": "stdout",
     "output_type": "stream",
     "text": [
      "Epoch 1/300\n",
      "22/22 [==============================] - 1s 5ms/step - loss: 1.8375 - binary_accuracy: 0.5586\n",
      "Epoch 2/300\n",
      "22/22 [==============================] - 0s 5ms/step - loss: 0.9760 - binary_accuracy: 0.6314\n",
      "Epoch 3/300\n",
      "22/22 [==============================] - 0s 5ms/step - loss: 0.7035 - binary_accuracy: 0.6700\n",
      "Epoch 4/300\n",
      "22/22 [==============================] - 0s 5ms/step - loss: 0.6781 - binary_accuracy: 0.6786\n",
      "Epoch 5/300\n",
      "22/22 [==============================] - 0s 4ms/step - loss: 0.6951 - binary_accuracy: 0.6900\n",
      "Epoch 6/300\n",
      "22/22 [==============================] - 0s 4ms/step - loss: 0.7417 - binary_accuracy: 0.6529\n",
      "Epoch 7/300\n",
      "22/22 [==============================] - 0s 4ms/step - loss: 1.0002 - binary_accuracy: 0.6371\n",
      "Epoch 8/300\n",
      "22/22 [==============================] - 0s 5ms/step - loss: 0.8518 - binary_accuracy: 0.6371\n",
      "Epoch 9/300\n",
      "22/22 [==============================] - 0s 4ms/step - loss: 0.7350 - binary_accuracy: 0.6457\n",
      "Epoch 10/300\n",
      "22/22 [==============================] - 0s 4ms/step - loss: 0.6403 - binary_accuracy: 0.6971\n",
      "Epoch 11/300\n",
      "22/22 [==============================] - 0s 5ms/step - loss: 0.6432 - binary_accuracy: 0.6843\n",
      "Epoch 12/300\n",
      "22/22 [==============================] - 0s 5ms/step - loss: 0.7211 - binary_accuracy: 0.6743\n",
      "Epoch 13/300\n",
      "22/22 [==============================] - 0s 5ms/step - loss: 0.6572 - binary_accuracy: 0.6929\n",
      "Epoch 14/300\n",
      "22/22 [==============================] - 0s 5ms/step - loss: 0.6101 - binary_accuracy: 0.7129\n",
      "Epoch 15/300\n",
      "22/22 [==============================] - 0s 4ms/step - loss: 0.6062 - binary_accuracy: 0.7257\n",
      "Epoch 16/300\n",
      "22/22 [==============================] - 0s 4ms/step - loss: 0.5578 - binary_accuracy: 0.7314\n",
      "Epoch 17/300\n",
      "22/22 [==============================] - 0s 4ms/step - loss: 0.5704 - binary_accuracy: 0.7214\n",
      "Epoch 18/300\n",
      "22/22 [==============================] - 0s 4ms/step - loss: 0.6715 - binary_accuracy: 0.6857\n",
      "Epoch 19/300\n",
      "22/22 [==============================] - 0s 5ms/step - loss: 0.6695 - binary_accuracy: 0.7186\n",
      "Epoch 20/300\n",
      "22/22 [==============================] - 0s 5ms/step - loss: 0.5520 - binary_accuracy: 0.7386\n",
      "Epoch 21/300\n",
      "22/22 [==============================] - 0s 5ms/step - loss: 0.5513 - binary_accuracy: 0.7314\n",
      "Epoch 22/300\n",
      "22/22 [==============================] - 0s 5ms/step - loss: 0.6246 - binary_accuracy: 0.6929\n",
      "Epoch 23/300\n",
      "22/22 [==============================] - 0s 4ms/step - loss: 0.5357 - binary_accuracy: 0.7300\n",
      "Epoch 24/300\n",
      "22/22 [==============================] - 0s 5ms/step - loss: 0.5805 - binary_accuracy: 0.7171\n",
      "Epoch 25/300\n",
      "22/22 [==============================] - 0s 5ms/step - loss: 0.5704 - binary_accuracy: 0.7400\n",
      "Epoch 26/300\n",
      "22/22 [==============================] - 0s 4ms/step - loss: 0.5644 - binary_accuracy: 0.7186\n",
      "Epoch 27/300\n",
      "22/22 [==============================] - 0s 4ms/step - loss: 0.6349 - binary_accuracy: 0.6971\n",
      "Epoch 28/300\n",
      "22/22 [==============================] - 0s 4ms/step - loss: 0.6380 - binary_accuracy: 0.7129\n",
      "Epoch 29/300\n",
      "22/22 [==============================] - 0s 5ms/step - loss: 0.5923 - binary_accuracy: 0.7129\n",
      "Epoch 30/300\n",
      "22/22 [==============================] - 0s 4ms/step - loss: 0.5470 - binary_accuracy: 0.7343\n",
      "Epoch 31/300\n",
      "22/22 [==============================] - 0s 5ms/step - loss: 0.5625 - binary_accuracy: 0.7171\n",
      "Epoch 32/300\n",
      "22/22 [==============================] - 0s 4ms/step - loss: 0.5985 - binary_accuracy: 0.7129\n",
      "Epoch 33/300\n",
      "22/22 [==============================] - 0s 5ms/step - loss: 0.5789 - binary_accuracy: 0.7000\n",
      "Epoch 34/300\n",
      "22/22 [==============================] - 0s 4ms/step - loss: 0.6232 - binary_accuracy: 0.7186\n",
      "Epoch 35/300\n",
      "22/22 [==============================] - 0s 4ms/step - loss: 0.5610 - binary_accuracy: 0.7286\n",
      "Epoch 36/300\n",
      "22/22 [==============================] - 0s 4ms/step - loss: 0.5415 - binary_accuracy: 0.7343\n",
      "Epoch 37/300\n",
      "22/22 [==============================] - 0s 4ms/step - loss: 0.5983 - binary_accuracy: 0.7157\n",
      "Epoch 38/300\n",
      "22/22 [==============================] - 0s 4ms/step - loss: 0.5578 - binary_accuracy: 0.7371\n",
      "Epoch 39/300\n",
      "22/22 [==============================] - 0s 4ms/step - loss: 0.5455 - binary_accuracy: 0.7314\n",
      "Epoch 40/300\n",
      "22/22 [==============================] - 0s 4ms/step - loss: 0.5249 - binary_accuracy: 0.7629\n",
      "Epoch 41/300\n",
      "22/22 [==============================] - 0s 5ms/step - loss: 0.5925 - binary_accuracy: 0.7214\n",
      "Epoch 42/300\n",
      "22/22 [==============================] - 0s 4ms/step - loss: 0.7601 - binary_accuracy: 0.6843\n",
      "Epoch 43/300\n",
      "22/22 [==============================] - 0s 5ms/step - loss: 0.6511 - binary_accuracy: 0.7171\n",
      "Epoch 44/300\n",
      "22/22 [==============================] - 0s 4ms/step - loss: 0.5453 - binary_accuracy: 0.7271\n",
      "Epoch 45/300\n",
      "22/22 [==============================] - 0s 5ms/step - loss: 0.5311 - binary_accuracy: 0.7414\n",
      "Epoch 46/300\n",
      "22/22 [==============================] - 0s 4ms/step - loss: 0.5761 - binary_accuracy: 0.7214\n",
      "Epoch 47/300\n",
      "22/22 [==============================] - 0s 5ms/step - loss: 0.5004 - binary_accuracy: 0.7529\n",
      "Epoch 48/300\n",
      "22/22 [==============================] - 0s 5ms/step - loss: 0.5606 - binary_accuracy: 0.7414\n",
      "Epoch 49/300\n",
      "22/22 [==============================] - 0s 4ms/step - loss: 0.5402 - binary_accuracy: 0.7300\n",
      "Epoch 50/300\n",
      "22/22 [==============================] - 0s 5ms/step - loss: 0.5754 - binary_accuracy: 0.7257\n",
      "Epoch 51/300\n",
      "22/22 [==============================] - 0s 5ms/step - loss: 0.5629 - binary_accuracy: 0.7386\n",
      "Epoch 52/300\n",
      "22/22 [==============================] - 0s 4ms/step - loss: 0.5153 - binary_accuracy: 0.7586\n",
      "Epoch 53/300\n",
      "22/22 [==============================] - 0s 5ms/step - loss: 0.5162 - binary_accuracy: 0.7514\n",
      "Epoch 54/300\n",
      "22/22 [==============================] - 0s 4ms/step - loss: 0.5116 - binary_accuracy: 0.7571\n",
      "Epoch 55/300\n",
      "22/22 [==============================] - 0s 4ms/step - loss: 0.5599 - binary_accuracy: 0.7200\n",
      "Epoch 56/300\n",
      "22/22 [==============================] - 0s 4ms/step - loss: 0.5539 - binary_accuracy: 0.7543\n",
      "Epoch 57/300\n",
      "22/22 [==============================] - 0s 4ms/step - loss: 0.4975 - binary_accuracy: 0.7729\n",
      "Epoch 58/300\n",
      "22/22 [==============================] - 0s 5ms/step - loss: 0.5106 - binary_accuracy: 0.7471\n",
      "Epoch 59/300\n",
      "22/22 [==============================] - 0s 4ms/step - loss: 0.4916 - binary_accuracy: 0.7657\n",
      "Epoch 60/300\n",
      "22/22 [==============================] - 0s 6ms/step - loss: 0.4732 - binary_accuracy: 0.7729\n",
      "Epoch 61/300\n",
      "22/22 [==============================] - 0s 5ms/step - loss: 0.4755 - binary_accuracy: 0.7671\n",
      "Epoch 62/300\n",
      "22/22 [==============================] - 0s 5ms/step - loss: 0.4738 - binary_accuracy: 0.7729\n",
      "Epoch 63/300\n",
      "22/22 [==============================] - 0s 5ms/step - loss: 0.5038 - binary_accuracy: 0.7500\n",
      "Epoch 64/300\n",
      "22/22 [==============================] - 0s 5ms/step - loss: 0.5463 - binary_accuracy: 0.7371\n",
      "Epoch 65/300\n",
      "22/22 [==============================] - 0s 5ms/step - loss: 0.4827 - binary_accuracy: 0.7629\n",
      "Epoch 66/300\n",
      "22/22 [==============================] - 0s 4ms/step - loss: 0.4892 - binary_accuracy: 0.7514\n",
      "Epoch 67/300\n",
      "22/22 [==============================] - 0s 5ms/step - loss: 0.4813 - binary_accuracy: 0.7686\n",
      "Epoch 68/300\n",
      "22/22 [==============================] - 0s 5ms/step - loss: 0.4684 - binary_accuracy: 0.7814\n",
      "Epoch 69/300\n",
      "22/22 [==============================] - 0s 5ms/step - loss: 0.4638 - binary_accuracy: 0.7671\n",
      "Epoch 70/300\n",
      "22/22 [==============================] - 0s 4ms/step - loss: 0.4820 - binary_accuracy: 0.7714\n",
      "Epoch 71/300\n",
      "22/22 [==============================] - 0s 4ms/step - loss: 0.4703 - binary_accuracy: 0.7700\n",
      "Epoch 72/300\n",
      "22/22 [==============================] - 0s 5ms/step - loss: 0.4991 - binary_accuracy: 0.7457\n",
      "Epoch 73/300\n",
      "22/22 [==============================] - 0s 5ms/step - loss: 0.5174 - binary_accuracy: 0.7500\n",
      "Epoch 74/300\n",
      "22/22 [==============================] - 0s 5ms/step - loss: 0.4605 - binary_accuracy: 0.7643\n",
      "Epoch 75/300\n",
      "22/22 [==============================] - 0s 4ms/step - loss: 0.4649 - binary_accuracy: 0.7814\n",
      "Epoch 76/300\n",
      "22/22 [==============================] - 0s 4ms/step - loss: 0.4965 - binary_accuracy: 0.7571\n",
      "Epoch 77/300\n",
      "22/22 [==============================] - 0s 4ms/step - loss: 0.4613 - binary_accuracy: 0.7871\n",
      "Epoch 78/300\n",
      "22/22 [==============================] - 0s 4ms/step - loss: 0.4677 - binary_accuracy: 0.7771\n",
      "Epoch 79/300\n",
      "22/22 [==============================] - 0s 4ms/step - loss: 0.5050 - binary_accuracy: 0.7657\n",
      "Epoch 80/300\n",
      "22/22 [==============================] - 0s 4ms/step - loss: 0.4730 - binary_accuracy: 0.7686\n",
      "Epoch 81/300\n",
      "22/22 [==============================] - 0s 4ms/step - loss: 0.4579 - binary_accuracy: 0.7729\n",
      "Epoch 82/300\n",
      "22/22 [==============================] - 0s 4ms/step - loss: 0.4918 - binary_accuracy: 0.7586\n",
      "Epoch 83/300\n",
      "22/22 [==============================] - 0s 4ms/step - loss: 0.5342 - binary_accuracy: 0.7500\n",
      "Epoch 84/300\n",
      "22/22 [==============================] - 0s 4ms/step - loss: 0.4697 - binary_accuracy: 0.7857\n",
      "Epoch 85/300\n",
      "22/22 [==============================] - 0s 4ms/step - loss: 0.4574 - binary_accuracy: 0.7900\n",
      "Epoch 86/300\n",
      "22/22 [==============================] - 0s 4ms/step - loss: 0.4842 - binary_accuracy: 0.7657\n",
      "Epoch 87/300\n",
      "22/22 [==============================] - 0s 5ms/step - loss: 0.4615 - binary_accuracy: 0.7800\n",
      "Epoch 88/300\n",
      "22/22 [==============================] - 0s 5ms/step - loss: 0.4752 - binary_accuracy: 0.7729\n",
      "Epoch 89/300\n",
      "22/22 [==============================] - 0s 4ms/step - loss: 0.4792 - binary_accuracy: 0.7771\n",
      "Epoch 90/300\n",
      "22/22 [==============================] - 0s 4ms/step - loss: 0.4525 - binary_accuracy: 0.7800\n",
      "Epoch 91/300\n",
      "22/22 [==============================] - 0s 4ms/step - loss: 0.5046 - binary_accuracy: 0.7643\n",
      "Epoch 92/300\n",
      "22/22 [==============================] - 0s 5ms/step - loss: 0.4739 - binary_accuracy: 0.7571\n",
      "Epoch 93/300\n",
      "22/22 [==============================] - 0s 4ms/step - loss: 0.4403 - binary_accuracy: 0.7843\n",
      "Epoch 94/300\n",
      "22/22 [==============================] - 0s 4ms/step - loss: 0.4715 - binary_accuracy: 0.7700\n",
      "Epoch 95/300\n",
      "22/22 [==============================] - 0s 4ms/step - loss: 0.4322 - binary_accuracy: 0.7971\n",
      "Epoch 96/300\n",
      "22/22 [==============================] - 0s 4ms/step - loss: 0.4523 - binary_accuracy: 0.7900\n",
      "Epoch 97/300\n",
      "22/22 [==============================] - 0s 4ms/step - loss: 0.4632 - binary_accuracy: 0.7829\n",
      "Epoch 98/300\n",
      "22/22 [==============================] - 0s 4ms/step - loss: 0.4669 - binary_accuracy: 0.7814\n",
      "Epoch 99/300\n",
      "22/22 [==============================] - 0s 4ms/step - loss: 0.5076 - binary_accuracy: 0.7486\n",
      "Epoch 100/300\n",
      "22/22 [==============================] - 0s 4ms/step - loss: 0.4547 - binary_accuracy: 0.7771\n",
      "Epoch 101/300\n",
      "22/22 [==============================] - 0s 5ms/step - loss: 0.4321 - binary_accuracy: 0.8000\n",
      "Epoch 102/300\n",
      "22/22 [==============================] - 0s 5ms/step - loss: 0.4431 - binary_accuracy: 0.7929\n",
      "Epoch 103/300\n",
      "22/22 [==============================] - 0s 5ms/step - loss: 0.4503 - binary_accuracy: 0.7757\n",
      "Epoch 104/300\n",
      "22/22 [==============================] - 0s 4ms/step - loss: 0.4528 - binary_accuracy: 0.7986\n",
      "Epoch 105/300\n",
      "22/22 [==============================] - 0s 4ms/step - loss: 0.4949 - binary_accuracy: 0.7600\n",
      "Epoch 106/300\n",
      "22/22 [==============================] - 0s 4ms/step - loss: 0.4846 - binary_accuracy: 0.7657\n",
      "Epoch 107/300\n",
      "22/22 [==============================] - 0s 4ms/step - loss: 0.4464 - binary_accuracy: 0.7886\n",
      "Epoch 108/300\n",
      "22/22 [==============================] - 0s 4ms/step - loss: 0.4362 - binary_accuracy: 0.7914\n",
      "Epoch 109/300\n",
      "22/22 [==============================] - 0s 4ms/step - loss: 0.4300 - binary_accuracy: 0.7914\n",
      "Epoch 110/300\n",
      "22/22 [==============================] - 0s 4ms/step - loss: 0.4256 - binary_accuracy: 0.7986\n",
      "Epoch 111/300\n",
      "22/22 [==============================] - 0s 5ms/step - loss: 0.4749 - binary_accuracy: 0.7743\n",
      "Epoch 112/300\n",
      "22/22 [==============================] - 0s 5ms/step - loss: 0.4164 - binary_accuracy: 0.8000\n",
      "Epoch 113/300\n",
      "22/22 [==============================] - 0s 5ms/step - loss: 0.4128 - binary_accuracy: 0.7957\n",
      "Epoch 114/300\n",
      "22/22 [==============================] - 0s 6ms/step - loss: 0.4160 - binary_accuracy: 0.8129\n",
      "Epoch 115/300\n",
      "22/22 [==============================] - 0s 5ms/step - loss: 0.4423 - binary_accuracy: 0.7843\n",
      "Epoch 116/300\n",
      "22/22 [==============================] - 0s 5ms/step - loss: 0.4331 - binary_accuracy: 0.7843\n",
      "Epoch 117/300\n",
      "22/22 [==============================] - 0s 5ms/step - loss: 0.4887 - binary_accuracy: 0.7500\n",
      "Epoch 118/300\n",
      "22/22 [==============================] - 0s 4ms/step - loss: 0.4795 - binary_accuracy: 0.7657\n",
      "Epoch 119/300\n",
      "22/22 [==============================] - 0s 4ms/step - loss: 0.4618 - binary_accuracy: 0.7671\n",
      "Epoch 120/300\n",
      "22/22 [==============================] - 0s 4ms/step - loss: 0.4311 - binary_accuracy: 0.7829\n",
      "Epoch 121/300\n",
      "22/22 [==============================] - 0s 4ms/step - loss: 0.4420 - binary_accuracy: 0.7871\n",
      "Epoch 122/300\n",
      "22/22 [==============================] - 0s 4ms/step - loss: 0.4753 - binary_accuracy: 0.7886\n",
      "Epoch 123/300\n",
      "22/22 [==============================] - 0s 4ms/step - loss: 0.4224 - binary_accuracy: 0.8057\n",
      "Epoch 124/300\n",
      "22/22 [==============================] - 0s 4ms/step - loss: 0.4236 - binary_accuracy: 0.8071\n",
      "Epoch 125/300\n",
      "22/22 [==============================] - 0s 4ms/step - loss: 0.4094 - binary_accuracy: 0.8014\n",
      "Epoch 126/300\n",
      "22/22 [==============================] - 0s 4ms/step - loss: 0.3940 - binary_accuracy: 0.8171\n",
      "Epoch 127/300\n",
      "22/22 [==============================] - 0s 4ms/step - loss: 0.4057 - binary_accuracy: 0.8100\n",
      "Epoch 128/300\n",
      "22/22 [==============================] - 0s 5ms/step - loss: 0.4092 - binary_accuracy: 0.8057\n",
      "Epoch 129/300\n",
      "22/22 [==============================] - 0s 4ms/step - loss: 0.4244 - binary_accuracy: 0.7871\n",
      "Epoch 130/300\n",
      "22/22 [==============================] - 0s 4ms/step - loss: 0.4025 - binary_accuracy: 0.8143\n",
      "Epoch 131/300\n",
      "22/22 [==============================] - 0s 4ms/step - loss: 0.4029 - binary_accuracy: 0.8000\n",
      "Epoch 132/300\n",
      "22/22 [==============================] - 0s 4ms/step - loss: 0.4081 - binary_accuracy: 0.7843\n",
      "Epoch 133/300\n",
      "22/22 [==============================] - 0s 4ms/step - loss: 0.4511 - binary_accuracy: 0.7986\n",
      "Epoch 134/300\n",
      "22/22 [==============================] - 0s 4ms/step - loss: 0.3979 - binary_accuracy: 0.8057\n",
      "Epoch 135/300\n",
      "22/22 [==============================] - 0s 4ms/step - loss: 0.3963 - binary_accuracy: 0.8057\n",
      "Epoch 136/300\n",
      "22/22 [==============================] - 0s 4ms/step - loss: 0.3882 - binary_accuracy: 0.8157\n",
      "Epoch 137/300\n",
      "22/22 [==============================] - 0s 4ms/step - loss: 0.4031 - binary_accuracy: 0.8057\n",
      "Epoch 138/300\n",
      "22/22 [==============================] - 0s 4ms/step - loss: 0.4097 - binary_accuracy: 0.8143\n",
      "Epoch 139/300\n",
      "22/22 [==============================] - 0s 4ms/step - loss: 0.3960 - binary_accuracy: 0.8214\n",
      "Epoch 140/300\n",
      "22/22 [==============================] - 0s 5ms/step - loss: 0.4023 - binary_accuracy: 0.8071\n",
      "Epoch 141/300\n",
      "22/22 [==============================] - 0s 4ms/step - loss: 0.4202 - binary_accuracy: 0.8029\n",
      "Epoch 142/300\n",
      "22/22 [==============================] - 0s 4ms/step - loss: 0.3873 - binary_accuracy: 0.8214\n",
      "Epoch 143/300\n",
      "22/22 [==============================] - 0s 4ms/step - loss: 0.3936 - binary_accuracy: 0.8029\n",
      "Epoch 144/300\n",
      "22/22 [==============================] - 0s 4ms/step - loss: 0.4042 - binary_accuracy: 0.8143\n",
      "Epoch 145/300\n",
      "22/22 [==============================] - 0s 4ms/step - loss: 0.3880 - binary_accuracy: 0.8086\n",
      "Epoch 146/300\n",
      "22/22 [==============================] - 0s 4ms/step - loss: 0.3772 - binary_accuracy: 0.8186\n",
      "Epoch 147/300\n",
      "22/22 [==============================] - 0s 4ms/step - loss: 0.4010 - binary_accuracy: 0.8100\n",
      "Epoch 148/300\n",
      "22/22 [==============================] - 0s 4ms/step - loss: 0.4337 - binary_accuracy: 0.7971\n",
      "Epoch 149/300\n",
      "22/22 [==============================] - 0s 4ms/step - loss: 0.3835 - binary_accuracy: 0.8200\n",
      "Epoch 150/300\n",
      "22/22 [==============================] - 0s 4ms/step - loss: 0.3850 - binary_accuracy: 0.8114\n",
      "Epoch 151/300\n",
      "22/22 [==============================] - 0s 4ms/step - loss: 0.3653 - binary_accuracy: 0.8371\n",
      "Epoch 152/300\n",
      "22/22 [==============================] - 0s 4ms/step - loss: 0.4375 - binary_accuracy: 0.8071\n",
      "Epoch 153/300\n"
     ]
    },
    {
     "name": "stdout",
     "output_type": "stream",
     "text": [
      "22/22 [==============================] - 0s 4ms/step - loss: 0.3842 - binary_accuracy: 0.8071\n",
      "Epoch 154/300\n",
      "22/22 [==============================] - 0s 4ms/step - loss: 0.3803 - binary_accuracy: 0.8243\n",
      "Epoch 155/300\n",
      "22/22 [==============================] - 0s 4ms/step - loss: 0.3843 - binary_accuracy: 0.8229\n",
      "Epoch 156/300\n",
      "22/22 [==============================] - 0s 4ms/step - loss: 0.3745 - binary_accuracy: 0.8214\n",
      "Epoch 157/300\n",
      "22/22 [==============================] - 0s 4ms/step - loss: 0.3685 - binary_accuracy: 0.8271\n",
      "Epoch 158/300\n",
      "22/22 [==============================] - 0s 3ms/step - loss: 0.3827 - binary_accuracy: 0.8257\n",
      "Epoch 159/300\n",
      "22/22 [==============================] - 0s 5ms/step - loss: 0.4254 - binary_accuracy: 0.7971\n",
      "Epoch 160/300\n",
      "22/22 [==============================] - 0s 5ms/step - loss: 0.3923 - binary_accuracy: 0.8000\n",
      "Epoch 161/300\n",
      "22/22 [==============================] - 0s 5ms/step - loss: 0.4267 - binary_accuracy: 0.7971\n",
      "Epoch 162/300\n",
      "22/22 [==============================] - 0s 4ms/step - loss: 0.4436 - binary_accuracy: 0.7786\n",
      "Epoch 163/300\n",
      "22/22 [==============================] - 0s 4ms/step - loss: 0.4219 - binary_accuracy: 0.7843\n",
      "Epoch 164/300\n",
      "22/22 [==============================] - 0s 4ms/step - loss: 0.3619 - binary_accuracy: 0.8214\n",
      "Epoch 165/300\n",
      "22/22 [==============================] - 0s 4ms/step - loss: 0.3610 - binary_accuracy: 0.8329\n",
      "Epoch 166/300\n",
      "22/22 [==============================] - 0s 4ms/step - loss: 0.3720 - binary_accuracy: 0.8271\n",
      "Epoch 167/300\n",
      "22/22 [==============================] - 0s 4ms/step - loss: 0.3625 - binary_accuracy: 0.8314\n",
      "Epoch 168/300\n",
      "22/22 [==============================] - 0s 4ms/step - loss: 0.3587 - binary_accuracy: 0.8329\n",
      "Epoch 169/300\n",
      "22/22 [==============================] - 0s 4ms/step - loss: 0.3656 - binary_accuracy: 0.8286\n",
      "Epoch 170/300\n",
      "22/22 [==============================] - 0s 4ms/step - loss: 0.3592 - binary_accuracy: 0.8343\n",
      "Epoch 171/300\n",
      "22/22 [==============================] - 0s 4ms/step - loss: 0.3725 - binary_accuracy: 0.8100\n",
      "Epoch 172/300\n",
      "22/22 [==============================] - 0s 4ms/step - loss: 0.3751 - binary_accuracy: 0.8386\n",
      "Epoch 173/300\n",
      "22/22 [==============================] - 0s 4ms/step - loss: 0.3629 - binary_accuracy: 0.8386\n",
      "Epoch 174/300\n",
      "22/22 [==============================] - 0s 5ms/step - loss: 0.3701 - binary_accuracy: 0.8214\n",
      "Epoch 175/300\n",
      "22/22 [==============================] - 0s 4ms/step - loss: 0.3456 - binary_accuracy: 0.8371\n",
      "Epoch 176/300\n",
      "22/22 [==============================] - 0s 4ms/step - loss: 0.3603 - binary_accuracy: 0.8200\n",
      "Epoch 177/300\n",
      "22/22 [==============================] - 0s 4ms/step - loss: 0.3936 - binary_accuracy: 0.8114\n",
      "Epoch 178/300\n",
      "22/22 [==============================] - 0s 4ms/step - loss: 0.3814 - binary_accuracy: 0.8243\n",
      "Epoch 179/300\n",
      "22/22 [==============================] - 0s 4ms/step - loss: 0.3601 - binary_accuracy: 0.8243\n",
      "Epoch 180/300\n",
      "22/22 [==============================] - 0s 4ms/step - loss: 0.3471 - binary_accuracy: 0.8343\n",
      "Epoch 181/300\n",
      "22/22 [==============================] - 0s 4ms/step - loss: 0.3514 - binary_accuracy: 0.8286\n",
      "Epoch 182/300\n",
      "22/22 [==============================] - 0s 4ms/step - loss: 0.3579 - binary_accuracy: 0.8386\n",
      "Epoch 183/300\n",
      "22/22 [==============================] - 0s 4ms/step - loss: 0.3727 - binary_accuracy: 0.8114\n",
      "Epoch 184/300\n",
      "22/22 [==============================] - 0s 4ms/step - loss: 0.3669 - binary_accuracy: 0.8200\n",
      "Epoch 185/300\n",
      "22/22 [==============================] - 0s 4ms/step - loss: 0.3603 - binary_accuracy: 0.8343\n",
      "Epoch 186/300\n",
      "22/22 [==============================] - 0s 4ms/step - loss: 0.3420 - binary_accuracy: 0.8286\n",
      "Epoch 187/300\n",
      "22/22 [==============================] - 0s 4ms/step - loss: 0.3421 - binary_accuracy: 0.8443\n",
      "Epoch 188/300\n",
      "22/22 [==============================] - 0s 4ms/step - loss: 0.3523 - binary_accuracy: 0.8243\n",
      "Epoch 189/300\n",
      "22/22 [==============================] - 0s 4ms/step - loss: 0.3406 - binary_accuracy: 0.8429\n",
      "Epoch 190/300\n",
      "22/22 [==============================] - 0s 4ms/step - loss: 0.3429 - binary_accuracy: 0.8386\n",
      "Epoch 191/300\n",
      "22/22 [==============================] - 0s 4ms/step - loss: 0.3413 - binary_accuracy: 0.8400\n",
      "Epoch 192/300\n",
      "22/22 [==============================] - 0s 4ms/step - loss: 0.3320 - binary_accuracy: 0.8443\n",
      "Epoch 193/300\n",
      "22/22 [==============================] - 0s 4ms/step - loss: 0.3308 - binary_accuracy: 0.8629\n",
      "Epoch 194/300\n",
      "22/22 [==============================] - 0s 4ms/step - loss: 0.3472 - binary_accuracy: 0.8300\n",
      "Epoch 195/300\n",
      "22/22 [==============================] - 0s 4ms/step - loss: 0.4104 - binary_accuracy: 0.8129\n",
      "Epoch 196/300\n",
      "22/22 [==============================] - 0s 4ms/step - loss: 0.3922 - binary_accuracy: 0.8186\n",
      "Epoch 197/300\n",
      "22/22 [==============================] - 0s 4ms/step - loss: 0.3803 - binary_accuracy: 0.8071\n",
      "Epoch 198/300\n",
      "22/22 [==============================] - 0s 4ms/step - loss: 0.3252 - binary_accuracy: 0.8500\n",
      "Epoch 199/300\n",
      "22/22 [==============================] - 0s 3ms/step - loss: 0.3477 - binary_accuracy: 0.8314\n",
      "Epoch 200/300\n",
      "22/22 [==============================] - 0s 5ms/step - loss: 0.3388 - binary_accuracy: 0.8400\n",
      "Epoch 201/300\n",
      "22/22 [==============================] - 0s 4ms/step - loss: 0.3246 - binary_accuracy: 0.8543\n",
      "Epoch 202/300\n",
      "22/22 [==============================] - 0s 4ms/step - loss: 0.3168 - binary_accuracy: 0.8386\n",
      "Epoch 203/300\n",
      "22/22 [==============================] - 0s 4ms/step - loss: 0.3185 - binary_accuracy: 0.8500\n",
      "Epoch 204/300\n",
      "22/22 [==============================] - 0s 5ms/step - loss: 0.3625 - binary_accuracy: 0.8371\n",
      "Epoch 205/300\n",
      "22/22 [==============================] - 0s 4ms/step - loss: 0.3231 - binary_accuracy: 0.8586\n",
      "Epoch 206/300\n",
      "22/22 [==============================] - 0s 4ms/step - loss: 0.3585 - binary_accuracy: 0.8300\n",
      "Epoch 207/300\n",
      "22/22 [==============================] - 0s 4ms/step - loss: 0.3712 - binary_accuracy: 0.8300\n",
      "Epoch 208/300\n",
      "22/22 [==============================] - 0s 4ms/step - loss: 0.3675 - binary_accuracy: 0.8271\n",
      "Epoch 209/300\n",
      "22/22 [==============================] - 0s 4ms/step - loss: 0.3945 - binary_accuracy: 0.8186\n",
      "Epoch 210/300\n",
      "22/22 [==============================] - 0s 4ms/step - loss: 0.3635 - binary_accuracy: 0.8243\n",
      "Epoch 211/300\n",
      "22/22 [==============================] - 0s 4ms/step - loss: 0.3428 - binary_accuracy: 0.8500\n",
      "Epoch 212/300\n",
      "22/22 [==============================] - 0s 4ms/step - loss: 0.3185 - binary_accuracy: 0.8614\n",
      "Epoch 213/300\n",
      "22/22 [==============================] - 0s 5ms/step - loss: 0.3216 - binary_accuracy: 0.8586\n",
      "Epoch 214/300\n",
      "22/22 [==============================] - 0s 5ms/step - loss: 0.3579 - binary_accuracy: 0.8114\n",
      "Epoch 215/300\n",
      "22/22 [==============================] - 0s 5ms/step - loss: 0.3108 - binary_accuracy: 0.8629\n",
      "Epoch 216/300\n",
      "22/22 [==============================] - 0s 5ms/step - loss: 0.3186 - binary_accuracy: 0.8557\n",
      "Epoch 217/300\n",
      "22/22 [==============================] - 0s 4ms/step - loss: 0.3172 - binary_accuracy: 0.8586\n",
      "Epoch 218/300\n",
      "22/22 [==============================] - 0s 4ms/step - loss: 0.3047 - binary_accuracy: 0.8514\n",
      "Epoch 219/300\n",
      "22/22 [==============================] - 0s 4ms/step - loss: 0.3064 - binary_accuracy: 0.8686\n",
      "Epoch 220/300\n",
      "22/22 [==============================] - 0s 4ms/step - loss: 0.3489 - binary_accuracy: 0.8400\n",
      "Epoch 221/300\n",
      "22/22 [==============================] - 0s 4ms/step - loss: 0.3548 - binary_accuracy: 0.8200\n",
      "Epoch 222/300\n",
      "22/22 [==============================] - 0s 5ms/step - loss: 0.3304 - binary_accuracy: 0.8471\n",
      "Epoch 223/300\n",
      "22/22 [==============================] - 0s 4ms/step - loss: 0.3163 - binary_accuracy: 0.8586\n",
      "Epoch 224/300\n",
      "22/22 [==============================] - 0s 4ms/step - loss: 0.3032 - binary_accuracy: 0.8714\n",
      "Epoch 225/300\n",
      "22/22 [==============================] - 0s 4ms/step - loss: 0.3172 - binary_accuracy: 0.8414\n",
      "Epoch 226/300\n",
      "22/22 [==============================] - 0s 5ms/step - loss: 0.3263 - binary_accuracy: 0.8586\n",
      "Epoch 227/300\n",
      "22/22 [==============================] - 0s 4ms/step - loss: 0.3476 - binary_accuracy: 0.8286\n",
      "Epoch 228/300\n",
      "22/22 [==============================] - 0s 4ms/step - loss: 0.3627 - binary_accuracy: 0.8300\n"
     ]
    },
    {
     "name": "stdout",
     "output_type": "stream",
     "text": [
      "Epoch 229/300\n",
      "22/22 [==============================] - 0s 4ms/step - loss: 0.3218 - binary_accuracy: 0.8500\n",
      "Epoch 230/300\n",
      "22/22 [==============================] - 0s 4ms/step - loss: 0.3279 - binary_accuracy: 0.8443\n",
      "Epoch 231/300\n",
      "22/22 [==============================] - 0s 4ms/step - loss: 0.2973 - binary_accuracy: 0.8743\n",
      "Epoch 232/300\n",
      "22/22 [==============================] - 0s 4ms/step - loss: 0.2987 - binary_accuracy: 0.8671\n",
      "Epoch 233/300\n",
      "22/22 [==============================] - 0s 4ms/step - loss: 0.2999 - binary_accuracy: 0.8729\n",
      "Epoch 234/300\n",
      "22/22 [==============================] - 0s 4ms/step - loss: 0.3095 - binary_accuracy: 0.8586\n",
      "Epoch 235/300\n",
      "22/22 [==============================] - 0s 4ms/step - loss: 0.2923 - binary_accuracy: 0.8871\n",
      "Epoch 236/300\n",
      "22/22 [==============================] - 0s 4ms/step - loss: 0.3176 - binary_accuracy: 0.8557\n",
      "Epoch 237/300\n",
      "22/22 [==============================] - 0s 4ms/step - loss: 0.2869 - binary_accuracy: 0.8743\n",
      "Epoch 238/300\n",
      "22/22 [==============================] - 0s 4ms/step - loss: 0.2854 - binary_accuracy: 0.8843\n",
      "Epoch 239/300\n",
      "22/22 [==============================] - 0s 4ms/step - loss: 0.2740 - binary_accuracy: 0.8771\n",
      "Epoch 240/300\n",
      "22/22 [==============================] - 0s 4ms/step - loss: 0.2872 - binary_accuracy: 0.8629\n",
      "Epoch 241/300\n",
      "22/22 [==============================] - 0s 4ms/step - loss: 0.3250 - binary_accuracy: 0.8386\n",
      "Epoch 242/300\n",
      "22/22 [==============================] - 0s 3ms/step - loss: 0.3096 - binary_accuracy: 0.8486\n",
      "Epoch 243/300\n",
      "22/22 [==============================] - 0s 5ms/step - loss: 0.2860 - binary_accuracy: 0.8671\n",
      "Epoch 244/300\n",
      "22/22 [==============================] - 0s 4ms/step - loss: 0.2938 - binary_accuracy: 0.8571\n",
      "Epoch 245/300\n",
      "22/22 [==============================] - 0s 4ms/step - loss: 0.2700 - binary_accuracy: 0.8814\n",
      "Epoch 246/300\n",
      "22/22 [==============================] - 0s 4ms/step - loss: 0.2824 - binary_accuracy: 0.8743\n",
      "Epoch 247/300\n",
      "22/22 [==============================] - 0s 4ms/step - loss: 0.2999 - binary_accuracy: 0.8557\n",
      "Epoch 248/300\n",
      "22/22 [==============================] - 0s 4ms/step - loss: 0.2844 - binary_accuracy: 0.8529\n",
      "Epoch 249/300\n",
      "22/22 [==============================] - 0s 4ms/step - loss: 0.2637 - binary_accuracy: 0.8871\n",
      "Epoch 250/300\n",
      "22/22 [==============================] - 0s 4ms/step - loss: 0.2664 - binary_accuracy: 0.8871\n",
      "Epoch 251/300\n",
      "22/22 [==============================] - 0s 4ms/step - loss: 0.2788 - binary_accuracy: 0.8714\n",
      "Epoch 252/300\n",
      "22/22 [==============================] - 0s 4ms/step - loss: 0.2845 - binary_accuracy: 0.8843\n",
      "Epoch 253/300\n",
      "22/22 [==============================] - 0s 4ms/step - loss: 0.2810 - binary_accuracy: 0.8771\n",
      "Epoch 254/300\n",
      "22/22 [==============================] - 0s 4ms/step - loss: 0.2656 - binary_accuracy: 0.8900\n",
      "Epoch 255/300\n",
      "22/22 [==============================] - 0s 4ms/step - loss: 0.2959 - binary_accuracy: 0.8671\n",
      "Epoch 256/300\n",
      "22/22 [==============================] - 0s 4ms/step - loss: 0.2687 - binary_accuracy: 0.8914\n",
      "Epoch 257/300\n",
      "22/22 [==============================] - 0s 4ms/step - loss: 0.2782 - binary_accuracy: 0.8800\n",
      "Epoch 258/300\n",
      "22/22 [==============================] - 0s 4ms/step - loss: 0.2890 - binary_accuracy: 0.8757\n",
      "Epoch 259/300\n",
      "22/22 [==============================] - 0s 4ms/step - loss: 0.3003 - binary_accuracy: 0.8471\n",
      "Epoch 260/300\n",
      "22/22 [==============================] - 0s 4ms/step - loss: 0.2748 - binary_accuracy: 0.8757\n",
      "Epoch 261/300\n",
      "22/22 [==============================] - 0s 4ms/step - loss: 0.2704 - binary_accuracy: 0.8843\n",
      "Epoch 262/300\n",
      "22/22 [==============================] - 0s 4ms/step - loss: 0.2697 - binary_accuracy: 0.8786\n",
      "Epoch 263/300\n",
      "22/22 [==============================] - 0s 4ms/step - loss: 0.2759 - binary_accuracy: 0.8771\n",
      "Epoch 264/300\n",
      "22/22 [==============================] - 0s 4ms/step - loss: 0.2830 - binary_accuracy: 0.8700\n",
      "Epoch 265/300\n",
      "22/22 [==============================] - 0s 4ms/step - loss: 0.2584 - binary_accuracy: 0.8900\n",
      "Epoch 266/300\n",
      "22/22 [==============================] - 0s 4ms/step - loss: 0.2822 - binary_accuracy: 0.8771\n",
      "Epoch 267/300\n",
      "22/22 [==============================] - 0s 4ms/step - loss: 0.2822 - binary_accuracy: 0.8586\n",
      "Epoch 268/300\n",
      "22/22 [==============================] - 0s 4ms/step - loss: 0.2652 - binary_accuracy: 0.8829\n",
      "Epoch 269/300\n",
      "22/22 [==============================] - 0s 4ms/step - loss: 0.2707 - binary_accuracy: 0.8814\n",
      "Epoch 270/300\n",
      "22/22 [==============================] - 0s 4ms/step - loss: 0.2396 - binary_accuracy: 0.8957\n",
      "Epoch 271/300\n",
      "22/22 [==============================] - 0s 4ms/step - loss: 0.2390 - binary_accuracy: 0.8886\n",
      "Epoch 272/300\n",
      "22/22 [==============================] - 0s 4ms/step - loss: 0.2714 - binary_accuracy: 0.8786\n",
      "Epoch 273/300\n",
      "22/22 [==============================] - 0s 4ms/step - loss: 0.2465 - binary_accuracy: 0.9000\n",
      "Epoch 274/300\n",
      "22/22 [==============================] - 0s 4ms/step - loss: 0.2616 - binary_accuracy: 0.8700\n",
      "Epoch 275/300\n",
      "22/22 [==============================] - 0s 4ms/step - loss: 0.2574 - binary_accuracy: 0.8886\n",
      "Epoch 276/300\n",
      "22/22 [==============================] - 0s 4ms/step - loss: 0.2600 - binary_accuracy: 0.8814\n",
      "Epoch 277/300\n",
      "22/22 [==============================] - 0s 4ms/step - loss: 0.2405 - binary_accuracy: 0.8943\n",
      "Epoch 278/300\n",
      "22/22 [==============================] - 0s 4ms/step - loss: 0.2672 - binary_accuracy: 0.8757\n",
      "Epoch 279/300\n",
      "22/22 [==============================] - 0s 4ms/step - loss: 0.2699 - binary_accuracy: 0.8771\n",
      "Epoch 280/300\n",
      "22/22 [==============================] - 0s 4ms/step - loss: 0.2640 - binary_accuracy: 0.8843\n",
      "Epoch 281/300\n",
      "22/22 [==============================] - 0s 4ms/step - loss: 0.2318 - binary_accuracy: 0.9071\n",
      "Epoch 282/300\n",
      "22/22 [==============================] - 0s 4ms/step - loss: 0.2629 - binary_accuracy: 0.8886\n",
      "Epoch 283/300\n",
      "22/22 [==============================] - 0s 4ms/step - loss: 0.2240 - binary_accuracy: 0.9071\n",
      "Epoch 284/300\n",
      "22/22 [==============================] - 0s 4ms/step - loss: 0.2313 - binary_accuracy: 0.8900\n",
      "Epoch 285/300\n",
      "22/22 [==============================] - 0s 3ms/step - loss: 0.2361 - binary_accuracy: 0.8914\n",
      "Epoch 286/300\n",
      "22/22 [==============================] - 0s 4ms/step - loss: 0.2531 - binary_accuracy: 0.8843\n",
      "Epoch 287/300\n",
      "22/22 [==============================] - 0s 5ms/step - loss: 0.2469 - binary_accuracy: 0.9000\n",
      "Epoch 288/300\n",
      "22/22 [==============================] - 0s 5ms/step - loss: 0.2475 - binary_accuracy: 0.8900\n",
      "Epoch 289/300\n",
      "22/22 [==============================] - 0s 4ms/step - loss: 0.2549 - binary_accuracy: 0.8871\n",
      "Epoch 290/300\n",
      "22/22 [==============================] - 0s 5ms/step - loss: 0.2850 - binary_accuracy: 0.8586\n",
      "Epoch 291/300\n",
      "22/22 [==============================] - 0s 5ms/step - loss: 0.2704 - binary_accuracy: 0.8943\n",
      "Epoch 292/300\n",
      "22/22 [==============================] - 0s 4ms/step - loss: 0.2992 - binary_accuracy: 0.8571\n",
      "Epoch 293/300\n",
      "22/22 [==============================] - 0s 4ms/step - loss: 0.2830 - binary_accuracy: 0.8629\n",
      "Epoch 294/300\n",
      "22/22 [==============================] - 0s 4ms/step - loss: 0.2515 - binary_accuracy: 0.8814\n",
      "Epoch 295/300\n",
      "22/22 [==============================] - 0s 4ms/step - loss: 0.2350 - binary_accuracy: 0.8986\n",
      "Epoch 296/300\n",
      "22/22 [==============================] - 0s 4ms/step - loss: 0.2270 - binary_accuracy: 0.8871\n",
      "Epoch 297/300\n",
      "22/22 [==============================] - 0s 4ms/step - loss: 0.2289 - binary_accuracy: 0.9057\n",
      "Epoch 298/300\n",
      "22/22 [==============================] - 0s 4ms/step - loss: 0.2225 - binary_accuracy: 0.9071\n",
      "Epoch 299/300\n",
      "22/22 [==============================] - 0s 4ms/step - loss: 0.2713 - binary_accuracy: 0.9029\n",
      "Epoch 300/300\n",
      "22/22 [==============================] - 0s 4ms/step - loss: 0.2696 - binary_accuracy: 0.8914\n"
     ]
    }
   ],
   "source": [
    "hist = model.fit(X_train, y_train,\n",
    "                 epochs=300,\n",
    "#                  batch_size=350\n",
    "#                  validation_split=0.2 # 검증 데이터 비율(훈련데이터셋 중 20%를 검증용 데이터로)\n",
    "                 )"
   ]
  },
  {
   "cell_type": "markdown",
   "id": "1d0d9e72",
   "metadata": {},
   "source": [
    "## 5. 모델 평가하기(학습과정보기, 평가)"
   ]
  },
  {
   "cell_type": "code",
   "execution_count": 19,
   "id": "a4ee61e9",
   "metadata": {
    "ExecuteTime": {
     "end_time": "2024-12-17T07:25:53.728311Z",
     "start_time": "2024-12-17T07:25:53.723296Z"
    }
   },
   "outputs": [
    {
     "data": {
      "text/plain": [
       "dict_keys(['loss', 'binary_accuracy'])"
      ]
     },
     "execution_count": 19,
     "metadata": {},
     "output_type": "execute_result"
    }
   ],
   "source": [
    "hist.history.keys()"
   ]
  },
  {
   "cell_type": "code",
   "execution_count": 31,
   "id": "56030bc5",
   "metadata": {
    "ExecuteTime": {
     "end_time": "2024-12-17T07:35:38.104271Z",
     "start_time": "2024-12-17T07:35:37.820662Z"
    }
   },
   "outputs": [
    {
     "data": {
      "image/png": "[encoded data removed]",
      "text/plain": [
       "<Figure size 1000x500 with 2 Axes>"
      ]
     },
     "metadata": {},
     "output_type": "display_data"
    }
   ],
   "source": [
    "# 학습과정 표시하기(validation dataset 없는 경우)\n",
    "fig, loss_ax = plt.subplots(figsize=(10,5))\n",
    "loss_ax.plot(hist.history['loss'], 'r', label='train loss')\n",
    "loss_ax.set_xlabel('epoch')\n",
    "loss_ax.set_ylabel('loss')\n",
    "acc_ax = loss_ax.twinx()\n",
    "acc_ax.plot(hist.history['binary_accuracy'], 'b', label='train accuracy')\n",
    "acc_ax.set_ylabel('accuracy')\n",
    "loss_ax.legend(bbox_to_anchor=(1.15, .55), loc=2, borderaxespad=0.)\n",
    "acc_ax.legend(bbox_to_anchor=(1.15, .45), loc=2, borderaxespad=0.)\n",
    "plt.show()"
   ]
  },
  {
   "cell_type": "code",
   "execution_count": 32,
   "id": "392ea971",
   "metadata": {
    "ExecuteTime": {
     "end_time": "2024-12-17T07:36:23.789889Z",
     "start_time": "2024-12-17T07:36:23.551572Z"
    }
   },
   "outputs": [
    {
     "name": "stdout",
     "output_type": "stream",
     "text": [
      "22/22 [==============================] - 0s 3ms/step - loss: 0.2419 - binary_accuracy: 0.9000\n"
     ]
    },
    {
     "data": {
      "text/plain": [
       "[0.24193793535232544, 0.8999999761581421]"
      ]
     },
     "execution_count": 32,
     "metadata": {},
     "output_type": "execute_result"
    }
   ],
   "source": [
    "# 모델 평가(x)\n",
    "model.evaluate(X_train, y_train)"
   ]
  },
  {
   "cell_type": "code",
   "execution_count": 34,
   "id": "a982d162",
   "metadata": {
    "ExecuteTime": {
     "end_time": "2024-12-17T07:37:53.468515Z",
     "start_time": "2024-12-17T07:37:53.391712Z"
    }
   },
   "outputs": [
    {
     "name": "stdout",
     "output_type": "stream",
     "text": [
      "3/3 [==============================] - 0s 4ms/step - loss: 0.8674 - binary_accuracy: 0.7647\n",
      "loss : 0.8673623204231262, 정확도 : 76.47%\n"
     ]
    }
   ],
   "source": [
    "# 모델 평가(O)\n",
    "score = model.evaluate(X_test, y_test)\n",
    "print('loss : {}, 정확도 : {:.2f}%'.format(score[0], score[1]*100))"
   ]
  },
  {
   "cell_type": "markdown",
   "id": "b776a8a3",
   "metadata": {},
   "source": [
    "## 6. 모델 사용하기"
   ]
  },
  {
   "cell_type": "code",
   "execution_count": 35,
   "id": "d286bbeb",
   "metadata": {
    "ExecuteTime": {
     "end_time": "2024-12-17T07:40:07.541402Z",
     "start_time": "2024-12-17T07:40:07.535418Z"
    }
   },
   "outputs": [
    {
     "data": {
      "text/plain": [
       "(array([  6.   , 148.   ,  72.   ,  35.   ,   0.   ,  33.6  ,   0.627,\n",
       "         50.   ]),\n",
       " 1.0)"
      ]
     },
     "execution_count": 35,
     "metadata": {},
     "output_type": "execute_result"
    }
   ],
   "source": [
    "X_train[0], y_train[0]"
   ]
  },
  {
   "cell_type": "code",
   "execution_count": 44,
   "id": "9f726c81",
   "metadata": {
    "ExecuteTime": {
     "end_time": "2024-12-17T07:43:24.412043Z",
     "start_time": "2024-12-17T07:43:24.327799Z"
    }
   },
   "outputs": [
    {
     "name": "stdout",
     "output_type": "stream",
     "text": [
      "1/1 [==============================] - 0s 36ms/step\n"
     ]
    },
    {
     "data": {
      "text/plain": [
       "array([[1],\n",
       "       [1]])"
      ]
     },
     "execution_count": 44,
     "metadata": {},
     "output_type": "execute_result"
    }
   ],
   "source": [
    "(model.predict([[6,148,72,35,0,33.6,0.627,50.],\n",
    "                  [6,148,72,35,0,33.6,0.627,23.]]) > 0.5).astype(int)"
   ]
  },
  {
   "cell_type": "markdown",
   "id": "31edbd3a",
   "metadata": {},
   "source": [
    "## 7. 교차표\n",
    "- 테스트 데이터셋의 실제값과 예측값"
   ]
  },
  {
   "cell_type": "code",
   "execution_count": 49,
   "id": "88952429",
   "metadata": {
    "ExecuteTime": {
     "end_time": "2024-12-17T07:58:07.194761Z",
     "start_time": "2024-12-17T07:58:07.127762Z"
    }
   },
   "outputs": [
    {
     "name": "stdout",
     "output_type": "stream",
     "text": [
      "3/3 [==============================] - 0s 2ms/step\n",
      "18 9\n",
      "7 34\n"
     ]
    }
   ],
   "source": [
    "y_hat = (model.predict(X_test)>0.5).astype(float)\n",
    "cnt1=0;cnt2=0;cnt3=0;cnt4=0\n",
    "for h, y in zip(y_hat.reshape(-1), y_test.reshape(-1)):\n",
    "    if h==1.0 and y==1.0:\n",
    "        cnt1 += 1\n",
    "    elif h==0.0 and y==1.0:\n",
    "        cnt2 += 1\n",
    "    elif h==1.0 and y==0.0:\n",
    "        cnt3 += 1\n",
    "    elif h==0.0 and y==0.0:\n",
    "        cnt4 += 1\n",
    "print(cnt1,cnt2)\n",
    "print(cnt3,cnt4)"
   ]
  },
  {
   "cell_type": "code",
   "execution_count": 54,
   "id": "46283d0b",
   "metadata": {
    "ExecuteTime": {
     "end_time": "2024-12-17T08:02:07.411209Z",
     "start_time": "2024-12-17T08:02:07.395280Z"
    }
   },
   "outputs": [
    {
     "data": {
      "text/html": [
       "<div>\n",
       "<style scoped>\n",
       "    .dataframe tbody tr th:only-of-type {\n",
       "        vertical-align: middle;\n",
       "    }\n",
       "\n",
       "    .dataframe tbody tr th {\n",
       "        vertical-align: top;\n",
       "    }\n",
       "\n",
       "    .dataframe thead th {\n",
       "        text-align: right;\n",
       "    }\n",
       "</style>\n",
       "<table border=\"1\" class=\"dataframe\">\n",
       "  <thead>\n",
       "    <tr style=\"text-align: right;\">\n",
       "      <th>예측값</th>\n",
       "      <th>0.0</th>\n",
       "      <th>1.0</th>\n",
       "    </tr>\n",
       "    <tr>\n",
       "      <th>실제값</th>\n",
       "      <th></th>\n",
       "      <th></th>\n",
       "    </tr>\n",
       "  </thead>\n",
       "  <tbody>\n",
       "    <tr>\n",
       "      <th>0.0</th>\n",
       "      <td>34</td>\n",
       "      <td>7</td>\n",
       "    </tr>\n",
       "    <tr>\n",
       "      <th>1.0</th>\n",
       "      <td>9</td>\n",
       "      <td>18</td>\n",
       "    </tr>\n",
       "  </tbody>\n",
       "</table>\n",
       "</div>"
      ],
      "text/plain": [
       "예측값  0.0  1.0\n",
       "실제값          \n",
       "0.0   34    7\n",
       "1.0    9   18"
      ]
     },
     "execution_count": 54,
     "metadata": {},
     "output_type": "execute_result"
    }
   ],
   "source": [
    "c_tap = pd.crosstab(y_test, y_hat.ravel())\n",
    "c_tap.index.name = '실제값'\n",
    "c_tap.columns.name = '예측값'\n",
    "c_tap"
   ]
  },
  {
   "cell_type": "markdown",
   "id": "58684dbd",
   "metadata": {},
   "source": [
    "# 분류분석\n",
    "```\n",
    "1. 데이터셋 생성 및 전처리 : 훈련셋600, 검증셋100, 테스트셋68으로 분리, 종속변수의 원핫인코딩\n",
    "2. 모델생성 (input 8, target2) : 출력층에서의 활성화 함수 softmax\n",
    "3. 학습과정 설정 (loss = 'categorical_crossentropy', metrics=['accuracy']) : \n",
    "4. 모델 학습 : validation_data=[X_val, Y_val] 추가해서 학습\n",
    "5. 모델 학습평가 : 그래프(hist.history.keys()를 확인후 4가지)\n",
    "             평가(X_test, Y_test)\n",
    "             교차표(pd.crosstab 이용)\n",
    " 6. 모델 사용하기 - 예측\n",
    "```"
   ]
  },
  {
   "cell_type": "code",
   "execution_count": 1,
   "id": "2687f3de",
   "metadata": {
    "ExecuteTime": {
     "end_time": "2024-12-18T00:36:15.822655Z",
     "start_time": "2024-12-18T00:36:03.900884Z"
    }
   },
   "outputs": [],
   "source": [
    "import numpy as np\n",
    "import pandas as pd\n",
    "import sys\n",
    "import matplotlib.pyplot as plt\n",
    "from tensorflow.keras.utils import to_categorical\n",
    "from tensorflow.keras.models import Sequential\n",
    "from tensorflow.keras.layers import Input,Dense"
   ]
  },
  {
   "cell_type": "code",
   "execution_count": 2,
   "id": "2098db3d",
   "metadata": {
    "ExecuteTime": {
     "end_time": "2024-12-18T00:36:16.501885Z",
     "start_time": "2024-12-18T00:36:16.475942Z"
    }
   },
   "outputs": [
    {
     "data": {
      "text/plain": [
       "((600, 8), (600,), (100, 8), (100,), (68, 8), (68,))"
      ]
     },
     "execution_count": 2,
     "metadata": {},
     "output_type": "execute_result"
    }
   ],
   "source": [
    "# 1. 데이터셋 생성 및 전처리\n",
    "dataset = np.loadtxt('data/pima-indians-diabetes.csv', delimiter=',')\n",
    "X_train = dataset[:600, :-1]\n",
    "y_train = dataset[:600, -1]\n",
    "X_val = dataset[600:700, :-1]\n",
    "y_val = dataset[600:700, -1]\n",
    "X_test = dataset[700:, :-1]\n",
    "y_test = dataset[700:, -1]\n",
    "X_train.shape,y_train.shape,X_val.shape,y_val.shape,X_test.shape,y_test.shape"
   ]
  },
  {
   "cell_type": "code",
   "execution_count": 3,
   "id": "bf72ce19",
   "metadata": {
    "ExecuteTime": {
     "end_time": "2024-12-18T00:36:17.444358Z",
     "start_time": "2024-12-18T00:36:17.435383Z"
    },
    "scrolled": true
   },
   "outputs": [
    {
     "data": {
      "text/plain": [
       "array([[1., 0.],\n",
       "       [0., 1.],\n",
       "       [0., 1.],\n",
       "       [1., 0.],\n",
       "       [1., 0.],\n",
       "       [1., 0.],\n",
       "       [0., 1.],\n",
       "       [1., 0.],\n",
       "       [0., 1.],\n",
       "       [0., 1.],\n",
       "       [1., 0.],\n",
       "       [1., 0.],\n",
       "       [0., 1.],\n",
       "       [1., 0.],\n",
       "       [1., 0.],\n",
       "       [0., 1.],\n",
       "       [0., 1.],\n",
       "       [1., 0.],\n",
       "       [1., 0.],\n",
       "       [0., 1.],\n",
       "       [1., 0.],\n",
       "       [1., 0.],\n",
       "       [0., 1.],\n",
       "       [1., 0.],\n",
       "       [1., 0.],\n",
       "       [1., 0.],\n",
       "       [1., 0.],\n",
       "       [1., 0.],\n",
       "       [1., 0.],\n",
       "       [1., 0.],\n",
       "       [0., 1.],\n",
       "       [0., 1.],\n",
       "       [0., 1.],\n",
       "       [1., 0.],\n",
       "       [1., 0.],\n",
       "       [1., 0.],\n",
       "       [1., 0.],\n",
       "       [1., 0.],\n",
       "       [1., 0.],\n",
       "       [0., 1.],\n",
       "       [0., 1.],\n",
       "       [1., 0.],\n",
       "       [1., 0.],\n",
       "       [0., 1.],\n",
       "       [1., 0.],\n",
       "       [1., 0.],\n",
       "       [0., 1.],\n",
       "       [1., 0.],\n",
       "       [0., 1.],\n",
       "       [0., 1.],\n",
       "       [0., 1.],\n",
       "       [1., 0.],\n",
       "       [1., 0.],\n",
       "       [0., 1.],\n",
       "       [0., 1.],\n",
       "       [0., 1.],\n",
       "       [1., 0.],\n",
       "       [0., 1.],\n",
       "       [1., 0.],\n",
       "       [0., 1.],\n",
       "       [1., 0.],\n",
       "       [0., 1.],\n",
       "       [1., 0.],\n",
       "       [1., 0.],\n",
       "       [1., 0.],\n",
       "       [1., 0.],\n",
       "       [0., 1.],\n",
       "       [1., 0.]], dtype=float32)"
      ]
     },
     "execution_count": 3,
     "metadata": {},
     "output_type": "execute_result"
    }
   ],
   "source": [
    "Y_train = to_categorical(y_train)\n",
    "Y_val = to_categorical(y_val)\n",
    "Y_test = to_categorical(y_test)\n",
    "Y_train.reshape(-1,2)\n",
    "Y_val.reshape(-1,2)\n",
    "Y_test.reshape(-1,2)"
   ]
  },
  {
   "cell_type": "code",
   "execution_count": 7,
   "id": "b884b3da",
   "metadata": {
    "ExecuteTime": {
     "end_time": "2024-12-18T00:36:57.859693Z",
     "start_time": "2024-12-18T00:36:57.800574Z"
    }
   },
   "outputs": [
    {
     "name": "stdout",
     "output_type": "stream",
     "text": [
      "Model: \"sequential_1\"\n",
      "_________________________________________________________________\n",
      " Layer (type)                Output Shape              Param #   \n",
      "=================================================================\n",
      " dense_4 (Dense)             (None, 64)                576       \n",
      "                                                                 \n",
      " dense_5 (Dense)             (None, 32)                2080      \n",
      "                                                                 \n",
      " dense_6 (Dense)             (None, 16)                528       \n",
      "                                                                 \n",
      " dense_7 (Dense)             (None, 2)                 34        \n",
      "                                                                 \n",
      "=================================================================\n",
      "Total params: 3,218\n",
      "Trainable params: 3,218\n",
      "Non-trainable params: 0\n",
      "_________________________________________________________________\n"
     ]
    }
   ],
   "source": [
    "# 2. 모델생성\n",
    "model = Sequential()\n",
    "model.add(Input(shape=(8,)))\n",
    "model.add(Dense(units=64, input_dim=2, activation='relu'))\n",
    "model.add(Dense(units=32, activation='relu'))\n",
    "model.add(Dense(units=16, activation='relu'))\n",
    "model.add(Dense(units=2, activation='softmax'))\n",
    "model.summary()"
   ]
  },
  {
   "cell_type": "code",
   "execution_count": 8,
   "id": "67fcb65b",
   "metadata": {
    "ExecuteTime": {
     "end_time": "2024-12-18T00:36:58.425211Z",
     "start_time": "2024-12-18T00:36:58.416235Z"
    }
   },
   "outputs": [],
   "source": [
    "# 3. 학습과정 설정\n",
    "model.compile(loss='categorical_crossentropy', optimizer='adam', metrics=['accuracy'])"
   ]
  },
  {
   "cell_type": "code",
   "execution_count": 9,
   "id": "6037b834",
   "metadata": {
    "ExecuteTime": {
     "end_time": "2024-12-18T00:37:33.295658Z",
     "start_time": "2024-12-18T00:36:59.191737Z"
    },
    "scrolled": true
   },
   "outputs": [
    {
     "name": "stdout",
     "output_type": "stream",
     "text": [
      "Epoch 1/300\n",
      "19/19 [==============================] - 1s 14ms/step - loss: 2.6941 - accuracy: 0.5667 - val_loss: 1.3153 - val_accuracy: 0.6600\n",
      "Epoch 2/300\n",
      "19/19 [==============================] - 0s 7ms/step - loss: 1.1945 - accuracy: 0.6250 - val_loss: 0.8826 - val_accuracy: 0.5700\n",
      "Epoch 3/300\n",
      "19/19 [==============================] - 0s 6ms/step - loss: 0.7489 - accuracy: 0.6733 - val_loss: 0.7455 - val_accuracy: 0.5600\n",
      "Epoch 4/300\n",
      "19/19 [==============================] - 0s 5ms/step - loss: 0.6781 - accuracy: 0.6683 - val_loss: 0.7784 - val_accuracy: 0.6100\n",
      "Epoch 5/300\n",
      "19/19 [==============================] - 0s 7ms/step - loss: 0.6214 - accuracy: 0.6867 - val_loss: 0.7546 - val_accuracy: 0.6300\n",
      "Epoch 6/300\n",
      "19/19 [==============================] - 0s 6ms/step - loss: 0.6864 - accuracy: 0.6550 - val_loss: 0.6528 - val_accuracy: 0.6200\n",
      "Epoch 7/300\n",
      "19/19 [==============================] - 0s 6ms/step - loss: 0.5960 - accuracy: 0.7083 - val_loss: 0.7739 - val_accuracy: 0.6100\n",
      "Epoch 8/300\n",
      "19/19 [==============================] - 0s 5ms/step - loss: 0.6288 - accuracy: 0.6667 - val_loss: 0.7175 - val_accuracy: 0.5700\n",
      "Epoch 9/300\n",
      "19/19 [==============================] - 0s 6ms/step - loss: 0.6074 - accuracy: 0.7000 - val_loss: 0.6748 - val_accuracy: 0.6600\n",
      "Epoch 10/300\n",
      "19/19 [==============================] - 0s 6ms/step - loss: 0.6494 - accuracy: 0.6867 - val_loss: 0.7933 - val_accuracy: 0.5900\n",
      "Epoch 11/300\n",
      "19/19 [==============================] - 0s 6ms/step - loss: 0.6422 - accuracy: 0.6950 - val_loss: 0.6540 - val_accuracy: 0.6500\n",
      "Epoch 12/300\n",
      "19/19 [==============================] - 0s 6ms/step - loss: 0.6564 - accuracy: 0.6717 - val_loss: 0.6278 - val_accuracy: 0.6500\n",
      "Epoch 13/300\n",
      "19/19 [==============================] - 0s 6ms/step - loss: 0.5966 - accuracy: 0.7067 - val_loss: 0.6082 - val_accuracy: 0.6600\n",
      "Epoch 14/300\n",
      "19/19 [==============================] - 0s 6ms/step - loss: 0.5953 - accuracy: 0.7133 - val_loss: 0.6682 - val_accuracy: 0.6600\n",
      "Epoch 15/300\n",
      "19/19 [==============================] - 0s 6ms/step - loss: 0.6152 - accuracy: 0.7000 - val_loss: 0.6186 - val_accuracy: 0.6200\n",
      "Epoch 16/300\n",
      "19/19 [==============================] - 0s 5ms/step - loss: 0.5882 - accuracy: 0.7167 - val_loss: 0.7575 - val_accuracy: 0.5700\n",
      "Epoch 17/300\n",
      "19/19 [==============================] - 0s 7ms/step - loss: 0.6129 - accuracy: 0.7033 - val_loss: 0.6319 - val_accuracy: 0.6700\n",
      "Epoch 18/300\n",
      "19/19 [==============================] - 0s 6ms/step - loss: 0.5490 - accuracy: 0.7267 - val_loss: 0.6523 - val_accuracy: 0.6800\n",
      "Epoch 19/300\n",
      "19/19 [==============================] - 0s 6ms/step - loss: 0.6050 - accuracy: 0.6850 - val_loss: 0.7482 - val_accuracy: 0.6900\n",
      "Epoch 20/300\n",
      "19/19 [==============================] - 0s 6ms/step - loss: 0.5525 - accuracy: 0.7150 - val_loss: 0.5873 - val_accuracy: 0.6800\n",
      "Epoch 21/300\n",
      "19/19 [==============================] - 0s 6ms/step - loss: 0.5310 - accuracy: 0.7433 - val_loss: 0.5887 - val_accuracy: 0.6800\n",
      "Epoch 22/300\n",
      "19/19 [==============================] - 0s 7ms/step - loss: 0.5485 - accuracy: 0.7100 - val_loss: 0.5751 - val_accuracy: 0.6500\n",
      "Epoch 23/300\n",
      "19/19 [==============================] - 0s 6ms/step - loss: 0.5540 - accuracy: 0.7367 - val_loss: 0.5990 - val_accuracy: 0.6200\n",
      "Epoch 24/300\n",
      "19/19 [==============================] - 0s 6ms/step - loss: 0.5431 - accuracy: 0.7300 - val_loss: 0.7294 - val_accuracy: 0.6800\n",
      "Epoch 25/300\n",
      "19/19 [==============================] - 0s 7ms/step - loss: 0.5809 - accuracy: 0.7283 - val_loss: 0.6898 - val_accuracy: 0.6100\n",
      "Epoch 26/300\n",
      "19/19 [==============================] - 0s 6ms/step - loss: 0.5725 - accuracy: 0.7317 - val_loss: 0.6060 - val_accuracy: 0.6800\n",
      "Epoch 27/300\n",
      "19/19 [==============================] - 0s 6ms/step - loss: 0.6903 - accuracy: 0.6683 - val_loss: 0.6373 - val_accuracy: 0.6500\n",
      "Epoch 28/300\n",
      "19/19 [==============================] - 0s 6ms/step - loss: 0.6321 - accuracy: 0.6950 - val_loss: 0.5635 - val_accuracy: 0.7300\n",
      "Epoch 29/300\n",
      "19/19 [==============================] - 0s 6ms/step - loss: 0.5647 - accuracy: 0.7133 - val_loss: 0.6070 - val_accuracy: 0.6800\n",
      "Epoch 30/300\n",
      "19/19 [==============================] - 0s 6ms/step - loss: 0.6071 - accuracy: 0.7033 - val_loss: 0.8547 - val_accuracy: 0.6900\n",
      "Epoch 31/300\n",
      "19/19 [==============================] - 0s 6ms/step - loss: 0.5856 - accuracy: 0.7150 - val_loss: 0.5804 - val_accuracy: 0.7100\n",
      "Epoch 32/300\n",
      "19/19 [==============================] - 0s 6ms/step - loss: 0.5360 - accuracy: 0.7517 - val_loss: 0.5876 - val_accuracy: 0.7100\n",
      "Epoch 33/300\n",
      "19/19 [==============================] - 0s 6ms/step - loss: 0.5130 - accuracy: 0.7417 - val_loss: 0.5904 - val_accuracy: 0.6600\n",
      "Epoch 34/300\n",
      "19/19 [==============================] - 0s 7ms/step - loss: 0.5134 - accuracy: 0.7450 - val_loss: 0.6092 - val_accuracy: 0.7100\n",
      "Epoch 35/300\n",
      "19/19 [==============================] - 0s 6ms/step - loss: 0.5632 - accuracy: 0.7333 - val_loss: 0.6039 - val_accuracy: 0.6800\n",
      "Epoch 36/300\n",
      "19/19 [==============================] - 0s 6ms/step - loss: 0.5023 - accuracy: 0.7500 - val_loss: 0.5505 - val_accuracy: 0.7800\n",
      "Epoch 37/300\n",
      "19/19 [==============================] - 0s 6ms/step - loss: 0.4949 - accuracy: 0.7683 - val_loss: 0.5628 - val_accuracy: 0.6600\n",
      "Epoch 38/300\n",
      "19/19 [==============================] - 0s 6ms/step - loss: 0.5159 - accuracy: 0.7467 - val_loss: 0.5818 - val_accuracy: 0.7200\n",
      "Epoch 39/300\n",
      "19/19 [==============================] - 0s 5ms/step - loss: 0.5150 - accuracy: 0.7317 - val_loss: 0.5970 - val_accuracy: 0.7000\n",
      "Epoch 40/300\n",
      "19/19 [==============================] - 0s 6ms/step - loss: 0.5177 - accuracy: 0.7400 - val_loss: 0.5620 - val_accuracy: 0.7300\n",
      "Epoch 41/300\n",
      "19/19 [==============================] - 0s 6ms/step - loss: 0.5502 - accuracy: 0.7333 - val_loss: 0.7023 - val_accuracy: 0.6300\n",
      "Epoch 42/300\n",
      "19/19 [==============================] - 0s 6ms/step - loss: 0.5173 - accuracy: 0.7333 - val_loss: 0.6386 - val_accuracy: 0.6600\n",
      "Epoch 43/300\n",
      "19/19 [==============================] - 0s 6ms/step - loss: 0.5569 - accuracy: 0.7350 - val_loss: 0.5522 - val_accuracy: 0.7600\n",
      "Epoch 44/300\n",
      "19/19 [==============================] - 0s 6ms/step - loss: 0.5171 - accuracy: 0.7267 - val_loss: 0.5562 - val_accuracy: 0.7100\n",
      "Epoch 45/300\n",
      "19/19 [==============================] - 0s 6ms/step - loss: 0.4972 - accuracy: 0.7583 - val_loss: 0.5651 - val_accuracy: 0.7100\n",
      "Epoch 46/300\n",
      "19/19 [==============================] - 0s 6ms/step - loss: 0.5233 - accuracy: 0.7450 - val_loss: 0.5863 - val_accuracy: 0.7700\n",
      "Epoch 47/300\n",
      "19/19 [==============================] - 0s 6ms/step - loss: 0.5575 - accuracy: 0.7450 - val_loss: 0.6230 - val_accuracy: 0.6700\n",
      "Epoch 48/300\n",
      "19/19 [==============================] - 0s 6ms/step - loss: 0.5566 - accuracy: 0.7117 - val_loss: 0.5254 - val_accuracy: 0.7500\n",
      "Epoch 49/300\n",
      "19/19 [==============================] - 0s 6ms/step - loss: 0.5315 - accuracy: 0.7450 - val_loss: 0.5811 - val_accuracy: 0.7100\n",
      "Epoch 50/300\n",
      "19/19 [==============================] - 0s 6ms/step - loss: 0.5151 - accuracy: 0.7450 - val_loss: 0.6140 - val_accuracy: 0.6500\n",
      "Epoch 51/300\n",
      "19/19 [==============================] - 0s 5ms/step - loss: 0.5193 - accuracy: 0.7433 - val_loss: 0.5941 - val_accuracy: 0.7000\n",
      "Epoch 52/300\n",
      "19/19 [==============================] - 0s 6ms/step - loss: 0.4923 - accuracy: 0.7617 - val_loss: 0.5594 - val_accuracy: 0.6900\n",
      "Epoch 53/300\n",
      "19/19 [==============================] - 0s 6ms/step - loss: 0.4911 - accuracy: 0.7550 - val_loss: 0.5459 - val_accuracy: 0.7500\n",
      "Epoch 54/300\n",
      "19/19 [==============================] - 0s 6ms/step - loss: 0.4770 - accuracy: 0.7717 - val_loss: 0.5513 - val_accuracy: 0.7100\n",
      "Epoch 55/300\n",
      "19/19 [==============================] - 0s 6ms/step - loss: 0.4732 - accuracy: 0.7717 - val_loss: 0.5446 - val_accuracy: 0.7800\n",
      "Epoch 56/300\n",
      "19/19 [==============================] - 0s 6ms/step - loss: 0.4927 - accuracy: 0.7583 - val_loss: 0.5463 - val_accuracy: 0.7600\n",
      "Epoch 57/300\n",
      "19/19 [==============================] - 0s 6ms/step - loss: 0.4902 - accuracy: 0.7517 - val_loss: 0.5602 - val_accuracy: 0.6900\n",
      "Epoch 58/300\n",
      "19/19 [==============================] - 0s 5ms/step - loss: 0.4901 - accuracy: 0.7633 - val_loss: 0.7428 - val_accuracy: 0.6800\n"
     ]
    },
    {
     "name": "stdout",
     "output_type": "stream",
     "text": [
      "Epoch 59/300\n",
      "19/19 [==============================] - 0s 6ms/step - loss: 0.5128 - accuracy: 0.7600 - val_loss: 0.5691 - val_accuracy: 0.7200\n",
      "Epoch 60/300\n",
      "19/19 [==============================] - 0s 6ms/step - loss: 0.5362 - accuracy: 0.7333 - val_loss: 0.6353 - val_accuracy: 0.6700\n",
      "Epoch 61/300\n",
      "19/19 [==============================] - 0s 6ms/step - loss: 0.5500 - accuracy: 0.7250 - val_loss: 0.6493 - val_accuracy: 0.6400\n",
      "Epoch 62/300\n",
      "19/19 [==============================] - 0s 6ms/step - loss: 0.5006 - accuracy: 0.7667 - val_loss: 0.5643 - val_accuracy: 0.6800\n",
      "Epoch 63/300\n",
      "19/19 [==============================] - 0s 6ms/step - loss: 0.4821 - accuracy: 0.7583 - val_loss: 0.5322 - val_accuracy: 0.7200\n",
      "Epoch 64/300\n",
      "19/19 [==============================] - 0s 5ms/step - loss: 0.4683 - accuracy: 0.7750 - val_loss: 0.6685 - val_accuracy: 0.7100\n",
      "Epoch 65/300\n",
      "19/19 [==============================] - 0s 5ms/step - loss: 0.5316 - accuracy: 0.7350 - val_loss: 0.5809 - val_accuracy: 0.6800\n",
      "Epoch 66/300\n",
      "19/19 [==============================] - 0s 5ms/step - loss: 0.5087 - accuracy: 0.7517 - val_loss: 0.5804 - val_accuracy: 0.6900\n",
      "Epoch 67/300\n",
      "19/19 [==============================] - 0s 7ms/step - loss: 0.5118 - accuracy: 0.7500 - val_loss: 0.6809 - val_accuracy: 0.6900\n",
      "Epoch 68/300\n",
      "19/19 [==============================] - 0s 6ms/step - loss: 0.5133 - accuracy: 0.7550 - val_loss: 0.5521 - val_accuracy: 0.6800\n",
      "Epoch 69/300\n",
      "19/19 [==============================] - 0s 6ms/step - loss: 0.5122 - accuracy: 0.7383 - val_loss: 0.5811 - val_accuracy: 0.7000\n",
      "Epoch 70/300\n",
      "19/19 [==============================] - 0s 6ms/step - loss: 0.5200 - accuracy: 0.7317 - val_loss: 0.5782 - val_accuracy: 0.7100\n",
      "Epoch 71/300\n",
      "19/19 [==============================] - 0s 6ms/step - loss: 0.4933 - accuracy: 0.7467 - val_loss: 0.5437 - val_accuracy: 0.7600\n",
      "Epoch 72/300\n",
      "19/19 [==============================] - 0s 6ms/step - loss: 0.4675 - accuracy: 0.7750 - val_loss: 0.5586 - val_accuracy: 0.7300\n",
      "Epoch 73/300\n",
      "19/19 [==============================] - 0s 5ms/step - loss: 0.4773 - accuracy: 0.7650 - val_loss: 0.5828 - val_accuracy: 0.6700\n",
      "Epoch 74/300\n",
      "19/19 [==============================] - 0s 6ms/step - loss: 0.4991 - accuracy: 0.7517 - val_loss: 0.6610 - val_accuracy: 0.6900\n",
      "Epoch 75/300\n",
      "19/19 [==============================] - 0s 6ms/step - loss: 0.5024 - accuracy: 0.7567 - val_loss: 0.6527 - val_accuracy: 0.6400\n",
      "Epoch 76/300\n",
      "19/19 [==============================] - 0s 6ms/step - loss: 0.5048 - accuracy: 0.7550 - val_loss: 0.5850 - val_accuracy: 0.6700\n",
      "Epoch 77/300\n",
      "19/19 [==============================] - 0s 6ms/step - loss: 0.4622 - accuracy: 0.7750 - val_loss: 0.5433 - val_accuracy: 0.6900\n",
      "Epoch 78/300\n",
      "19/19 [==============================] - 0s 5ms/step - loss: 0.4850 - accuracy: 0.7667 - val_loss: 0.5482 - val_accuracy: 0.7200\n",
      "Epoch 79/300\n",
      "19/19 [==============================] - 0s 6ms/step - loss: 0.4785 - accuracy: 0.7600 - val_loss: 0.5372 - val_accuracy: 0.7400\n",
      "Epoch 80/300\n",
      "19/19 [==============================] - 0s 7ms/step - loss: 0.4620 - accuracy: 0.7733 - val_loss: 0.5283 - val_accuracy: 0.7300\n",
      "Epoch 81/300\n",
      "19/19 [==============================] - 0s 5ms/step - loss: 0.4938 - accuracy: 0.7650 - val_loss: 0.5287 - val_accuracy: 0.7800\n",
      "Epoch 82/300\n",
      "19/19 [==============================] - 0s 5ms/step - loss: 0.4596 - accuracy: 0.7833 - val_loss: 0.5393 - val_accuracy: 0.7100\n",
      "Epoch 83/300\n",
      "19/19 [==============================] - 0s 5ms/step - loss: 0.4540 - accuracy: 0.7833 - val_loss: 0.5620 - val_accuracy: 0.7500\n",
      "Epoch 84/300\n",
      "19/19 [==============================] - 0s 5ms/step - loss: 0.4878 - accuracy: 0.7650 - val_loss: 0.6239 - val_accuracy: 0.6900\n",
      "Epoch 85/300\n",
      "19/19 [==============================] - 0s 5ms/step - loss: 0.4554 - accuracy: 0.7733 - val_loss: 0.5229 - val_accuracy: 0.7000\n",
      "Epoch 86/300\n",
      "19/19 [==============================] - 0s 6ms/step - loss: 0.4591 - accuracy: 0.7800 - val_loss: 0.5404 - val_accuracy: 0.7800\n",
      "Epoch 87/300\n",
      "19/19 [==============================] - 0s 6ms/step - loss: 0.4593 - accuracy: 0.7667 - val_loss: 0.5723 - val_accuracy: 0.7200\n",
      "Epoch 88/300\n",
      "19/19 [==============================] - 0s 6ms/step - loss: 0.4611 - accuracy: 0.7950 - val_loss: 0.5400 - val_accuracy: 0.7500\n",
      "Epoch 89/300\n",
      "19/19 [==============================] - 0s 6ms/step - loss: 0.4906 - accuracy: 0.7467 - val_loss: 0.6787 - val_accuracy: 0.7100\n",
      "Epoch 90/300\n",
      "19/19 [==============================] - 0s 6ms/step - loss: 0.4782 - accuracy: 0.7633 - val_loss: 0.5580 - val_accuracy: 0.7200\n",
      "Epoch 91/300\n",
      "19/19 [==============================] - 0s 6ms/step - loss: 0.4489 - accuracy: 0.8167 - val_loss: 0.6443 - val_accuracy: 0.6600\n",
      "Epoch 92/300\n",
      "19/19 [==============================] - 0s 6ms/step - loss: 0.4628 - accuracy: 0.7833 - val_loss: 0.5399 - val_accuracy: 0.7400\n",
      "Epoch 93/300\n",
      "19/19 [==============================] - 0s 5ms/step - loss: 0.4507 - accuracy: 0.7767 - val_loss: 0.5334 - val_accuracy: 0.7200\n",
      "Epoch 94/300\n",
      "19/19 [==============================] - 0s 6ms/step - loss: 0.4689 - accuracy: 0.7667 - val_loss: 0.5198 - val_accuracy: 0.7400\n",
      "Epoch 95/300\n",
      "19/19 [==============================] - 0s 6ms/step - loss: 0.4601 - accuracy: 0.7667 - val_loss: 0.5279 - val_accuracy: 0.7800\n",
      "Epoch 96/300\n",
      "19/19 [==============================] - 0s 6ms/step - loss: 0.4519 - accuracy: 0.7850 - val_loss: 0.5214 - val_accuracy: 0.7700\n",
      "Epoch 97/300\n",
      "19/19 [==============================] - 0s 6ms/step - loss: 0.4378 - accuracy: 0.8017 - val_loss: 0.5569 - val_accuracy: 0.7900\n",
      "Epoch 98/300\n",
      "19/19 [==============================] - 0s 6ms/step - loss: 0.4620 - accuracy: 0.7800 - val_loss: 0.6670 - val_accuracy: 0.6400\n",
      "Epoch 99/300\n",
      "19/19 [==============================] - 0s 6ms/step - loss: 0.5165 - accuracy: 0.7600 - val_loss: 0.5450 - val_accuracy: 0.7600\n",
      "Epoch 100/300\n",
      "19/19 [==============================] - 0s 5ms/step - loss: 0.4836 - accuracy: 0.7567 - val_loss: 0.5296 - val_accuracy: 0.7200\n",
      "Epoch 101/300\n",
      "19/19 [==============================] - 0s 5ms/step - loss: 0.4861 - accuracy: 0.7700 - val_loss: 0.5476 - val_accuracy: 0.6900\n",
      "Epoch 102/300\n",
      "19/19 [==============================] - 0s 6ms/step - loss: 0.4584 - accuracy: 0.7783 - val_loss: 0.5532 - val_accuracy: 0.7300\n",
      "Epoch 103/300\n",
      "19/19 [==============================] - 0s 6ms/step - loss: 0.4790 - accuracy: 0.7617 - val_loss: 0.5144 - val_accuracy: 0.7700\n",
      "Epoch 104/300\n",
      "19/19 [==============================] - 0s 6ms/step - loss: 0.4484 - accuracy: 0.7750 - val_loss: 0.5443 - val_accuracy: 0.7600\n",
      "Epoch 105/300\n",
      "19/19 [==============================] - 0s 6ms/step - loss: 0.4365 - accuracy: 0.7950 - val_loss: 0.5508 - val_accuracy: 0.7200\n",
      "Epoch 106/300\n",
      "19/19 [==============================] - 0s 6ms/step - loss: 0.4649 - accuracy: 0.7667 - val_loss: 0.5471 - val_accuracy: 0.7100\n",
      "Epoch 107/300\n",
      "19/19 [==============================] - 0s 6ms/step - loss: 0.4776 - accuracy: 0.7683 - val_loss: 0.5468 - val_accuracy: 0.7200\n",
      "Epoch 108/300\n",
      "19/19 [==============================] - 0s 6ms/step - loss: 0.4381 - accuracy: 0.7850 - val_loss: 0.5818 - val_accuracy: 0.7200\n",
      "Epoch 109/300\n",
      "19/19 [==============================] - 0s 6ms/step - loss: 0.4397 - accuracy: 0.7817 - val_loss: 0.5637 - val_accuracy: 0.7100\n",
      "Epoch 110/300\n",
      "19/19 [==============================] - 0s 6ms/step - loss: 0.4329 - accuracy: 0.8083 - val_loss: 0.5575 - val_accuracy: 0.7100\n",
      "Epoch 111/300\n",
      "19/19 [==============================] - 0s 6ms/step - loss: 0.4457 - accuracy: 0.7800 - val_loss: 0.6040 - val_accuracy: 0.6800\n",
      "Epoch 112/300\n",
      "19/19 [==============================] - 0s 6ms/step - loss: 0.4879 - accuracy: 0.7600 - val_loss: 0.5786 - val_accuracy: 0.7100\n",
      "Epoch 113/300\n",
      "19/19 [==============================] - 0s 6ms/step - loss: 0.4821 - accuracy: 0.7633 - val_loss: 0.5340 - val_accuracy: 0.7700\n",
      "Epoch 114/300\n",
      "19/19 [==============================] - 0s 6ms/step - loss: 0.4379 - accuracy: 0.7967 - val_loss: 0.5343 - val_accuracy: 0.7500\n",
      "Epoch 115/300\n",
      "19/19 [==============================] - 0s 6ms/step - loss: 0.4483 - accuracy: 0.7900 - val_loss: 0.5568 - val_accuracy: 0.7100\n",
      "Epoch 116/300\n",
      "19/19 [==============================] - 0s 6ms/step - loss: 0.4303 - accuracy: 0.7900 - val_loss: 0.5589 - val_accuracy: 0.7100\n",
      "Epoch 117/300\n",
      "19/19 [==============================] - 0s 6ms/step - loss: 0.4496 - accuracy: 0.7650 - val_loss: 0.5854 - val_accuracy: 0.7400\n",
      "Epoch 118/300\n",
      "19/19 [==============================] - 0s 6ms/step - loss: 0.4503 - accuracy: 0.7700 - val_loss: 0.5796 - val_accuracy: 0.6900\n",
      "Epoch 119/300\n",
      "19/19 [==============================] - 0s 5ms/step - loss: 0.4525 - accuracy: 0.7783 - val_loss: 0.5369 - val_accuracy: 0.7500\n",
      "Epoch 120/300\n",
      "19/19 [==============================] - 0s 6ms/step - loss: 0.4353 - accuracy: 0.7867 - val_loss: 0.5706 - val_accuracy: 0.7700\n",
      "Epoch 121/300\n",
      "19/19 [==============================] - 0s 6ms/step - loss: 0.4557 - accuracy: 0.7617 - val_loss: 0.5895 - val_accuracy: 0.6700\n",
      "Epoch 122/300\n",
      "19/19 [==============================] - 0s 5ms/step - loss: 0.4671 - accuracy: 0.7683 - val_loss: 0.5671 - val_accuracy: 0.7500\n",
      "Epoch 123/300\n",
      "19/19 [==============================] - 0s 5ms/step - loss: 0.4540 - accuracy: 0.7683 - val_loss: 0.5214 - val_accuracy: 0.7400\n",
      "Epoch 124/300\n",
      "19/19 [==============================] - 0s 5ms/step - loss: 0.4484 - accuracy: 0.7800 - val_loss: 0.5520 - val_accuracy: 0.7200\n",
      "Epoch 125/300\n",
      "19/19 [==============================] - 0s 5ms/step - loss: 0.4725 - accuracy: 0.7750 - val_loss: 0.5944 - val_accuracy: 0.7000\n",
      "Epoch 126/300\n",
      "19/19 [==============================] - 0s 5ms/step - loss: 0.4697 - accuracy: 0.7733 - val_loss: 0.5726 - val_accuracy: 0.7100\n",
      "Epoch 127/300\n",
      "19/19 [==============================] - 0s 5ms/step - loss: 0.4667 - accuracy: 0.7783 - val_loss: 0.6745 - val_accuracy: 0.7000\n",
      "Epoch 128/300\n",
      "19/19 [==============================] - 0s 6ms/step - loss: 0.4760 - accuracy: 0.7800 - val_loss: 0.5674 - val_accuracy: 0.7400\n",
      "Epoch 129/300\n",
      "19/19 [==============================] - 0s 6ms/step - loss: 0.4626 - accuracy: 0.7617 - val_loss: 0.5163 - val_accuracy: 0.7700\n",
      "Epoch 130/300\n",
      "19/19 [==============================] - 0s 5ms/step - loss: 0.4518 - accuracy: 0.7950 - val_loss: 0.5505 - val_accuracy: 0.7000\n",
      "Epoch 131/300\n",
      "19/19 [==============================] - 0s 6ms/step - loss: 0.4278 - accuracy: 0.8017 - val_loss: 0.5367 - val_accuracy: 0.7100\n",
      "Epoch 132/300\n",
      "19/19 [==============================] - 0s 5ms/step - loss: 0.4448 - accuracy: 0.7750 - val_loss: 0.5706 - val_accuracy: 0.7100\n",
      "Epoch 133/300\n",
      "19/19 [==============================] - 0s 5ms/step - loss: 0.4419 - accuracy: 0.7983 - val_loss: 0.5815 - val_accuracy: 0.7800\n",
      "Epoch 134/300\n",
      "19/19 [==============================] - 0s 5ms/step - loss: 0.4368 - accuracy: 0.8017 - val_loss: 0.6075 - val_accuracy: 0.6700\n",
      "Epoch 135/300\n",
      "19/19 [==============================] - 0s 6ms/step - loss: 0.4240 - accuracy: 0.8083 - val_loss: 0.5992 - val_accuracy: 0.6900\n",
      "Epoch 136/300\n",
      "19/19 [==============================] - 0s 5ms/step - loss: 0.4728 - accuracy: 0.7583 - val_loss: 0.5263 - val_accuracy: 0.7600\n",
      "Epoch 137/300\n",
      "19/19 [==============================] - 0s 5ms/step - loss: 0.4280 - accuracy: 0.7900 - val_loss: 0.6005 - val_accuracy: 0.7400\n",
      "Epoch 138/300\n",
      "19/19 [==============================] - 0s 5ms/step - loss: 0.4164 - accuracy: 0.8050 - val_loss: 0.5630 - val_accuracy: 0.7200\n",
      "Epoch 139/300\n",
      "19/19 [==============================] - 0s 5ms/step - loss: 0.4252 - accuracy: 0.7967 - val_loss: 0.6061 - val_accuracy: 0.7000\n",
      "Epoch 140/300\n",
      "19/19 [==============================] - 0s 6ms/step - loss: 0.4608 - accuracy: 0.7433 - val_loss: 0.6351 - val_accuracy: 0.6100\n",
      "Epoch 141/300\n",
      "19/19 [==============================] - 0s 6ms/step - loss: 0.4200 - accuracy: 0.7900 - val_loss: 0.5879 - val_accuracy: 0.6700\n",
      "Epoch 142/300\n",
      "19/19 [==============================] - 0s 5ms/step - loss: 0.4187 - accuracy: 0.7817 - val_loss: 0.5313 - val_accuracy: 0.7400\n",
      "Epoch 143/300\n",
      "19/19 [==============================] - 0s 6ms/step - loss: 0.4301 - accuracy: 0.7867 - val_loss: 0.5904 - val_accuracy: 0.6900\n",
      "Epoch 144/300\n",
      "19/19 [==============================] - 0s 6ms/step - loss: 0.4164 - accuracy: 0.8000 - val_loss: 0.5722 - val_accuracy: 0.7200\n",
      "Epoch 145/300\n",
      "19/19 [==============================] - 0s 5ms/step - loss: 0.4193 - accuracy: 0.8067 - val_loss: 0.5102 - val_accuracy: 0.8000\n",
      "Epoch 146/300\n",
      "19/19 [==============================] - 0s 5ms/step - loss: 0.4040 - accuracy: 0.8017 - val_loss: 0.5595 - val_accuracy: 0.7300\n",
      "Epoch 147/300\n",
      "19/19 [==============================] - 0s 5ms/step - loss: 0.4183 - accuracy: 0.8050 - val_loss: 0.5168 - val_accuracy: 0.7900\n",
      "Epoch 148/300\n",
      "19/19 [==============================] - 0s 5ms/step - loss: 0.4506 - accuracy: 0.7867 - val_loss: 0.5792 - val_accuracy: 0.7100\n",
      "Epoch 149/300\n",
      "19/19 [==============================] - 0s 5ms/step - loss: 0.4497 - accuracy: 0.7717 - val_loss: 0.5843 - val_accuracy: 0.7300\n",
      "Epoch 150/300\n",
      "19/19 [==============================] - 0s 5ms/step - loss: 0.4330 - accuracy: 0.7967 - val_loss: 0.5273 - val_accuracy: 0.7500\n",
      "Epoch 151/300\n",
      "19/19 [==============================] - 0s 5ms/step - loss: 0.4412 - accuracy: 0.7850 - val_loss: 0.6927 - val_accuracy: 0.6400\n",
      "Epoch 152/300\n",
      "19/19 [==============================] - 0s 6ms/step - loss: 0.4750 - accuracy: 0.7800 - val_loss: 0.5646 - val_accuracy: 0.7700\n",
      "Epoch 153/300\n",
      "19/19 [==============================] - 0s 6ms/step - loss: 0.4076 - accuracy: 0.8017 - val_loss: 0.5215 - val_accuracy: 0.7800\n",
      "Epoch 154/300\n",
      "19/19 [==============================] - 0s 6ms/step - loss: 0.4036 - accuracy: 0.7983 - val_loss: 0.5340 - val_accuracy: 0.7600\n",
      "Epoch 155/300\n",
      "19/19 [==============================] - 0s 5ms/step - loss: 0.4071 - accuracy: 0.8067 - val_loss: 0.6316 - val_accuracy: 0.7200\n",
      "Epoch 156/300\n",
      "19/19 [==============================] - 0s 6ms/step - loss: 0.4220 - accuracy: 0.8017 - val_loss: 0.5355 - val_accuracy: 0.7200\n",
      "Epoch 157/300\n",
      "19/19 [==============================] - 0s 6ms/step - loss: 0.3945 - accuracy: 0.8183 - val_loss: 0.5555 - val_accuracy: 0.7400\n",
      "Epoch 158/300\n",
      "19/19 [==============================] - 0s 6ms/step - loss: 0.4293 - accuracy: 0.7917 - val_loss: 0.6518 - val_accuracy: 0.6500\n",
      "Epoch 159/300\n",
      "19/19 [==============================] - 0s 5ms/step - loss: 0.4420 - accuracy: 0.7883 - val_loss: 0.5780 - val_accuracy: 0.7300\n",
      "Epoch 160/300\n",
      "19/19 [==============================] - 0s 6ms/step - loss: 0.4363 - accuracy: 0.7883 - val_loss: 0.5486 - val_accuracy: 0.7100\n",
      "Epoch 161/300\n",
      "19/19 [==============================] - 0s 6ms/step - loss: 0.4291 - accuracy: 0.7683 - val_loss: 0.6203 - val_accuracy: 0.6500\n",
      "Epoch 162/300\n",
      "19/19 [==============================] - 0s 6ms/step - loss: 0.4224 - accuracy: 0.7983 - val_loss: 0.6428 - val_accuracy: 0.6900\n",
      "Epoch 163/300\n",
      "19/19 [==============================] - 0s 6ms/step - loss: 0.4470 - accuracy: 0.7733 - val_loss: 0.5495 - val_accuracy: 0.7200\n",
      "Epoch 164/300\n",
      "19/19 [==============================] - 0s 6ms/step - loss: 0.4097 - accuracy: 0.8117 - val_loss: 0.5257 - val_accuracy: 0.8000\n",
      "Epoch 165/300\n",
      "19/19 [==============================] - 0s 6ms/step - loss: 0.4098 - accuracy: 0.7950 - val_loss: 0.6232 - val_accuracy: 0.6900\n",
      "Epoch 166/300\n",
      "19/19 [==============================] - 0s 6ms/step - loss: 0.4372 - accuracy: 0.7900 - val_loss: 0.5528 - val_accuracy: 0.7300\n",
      "Epoch 167/300\n",
      "19/19 [==============================] - 0s 6ms/step - loss: 0.3934 - accuracy: 0.8100 - val_loss: 0.5560 - val_accuracy: 0.7400\n",
      "Epoch 168/300\n",
      "19/19 [==============================] - 0s 6ms/step - loss: 0.4375 - accuracy: 0.8017 - val_loss: 0.5981 - val_accuracy: 0.7200\n",
      "Epoch 169/300\n",
      "19/19 [==============================] - 0s 6ms/step - loss: 0.4349 - accuracy: 0.7867 - val_loss: 0.5458 - val_accuracy: 0.7500\n",
      "Epoch 170/300\n",
      "19/19 [==============================] - 0s 6ms/step - loss: 0.4046 - accuracy: 0.7983 - val_loss: 0.5420 - val_accuracy: 0.7700\n",
      "Epoch 171/300\n",
      "19/19 [==============================] - 0s 6ms/step - loss: 0.3893 - accuracy: 0.8250 - val_loss: 0.5601 - val_accuracy: 0.7500\n",
      "Epoch 172/300\n",
      "19/19 [==============================] - 0s 6ms/step - loss: 0.4060 - accuracy: 0.8067 - val_loss: 0.5431 - val_accuracy: 0.7700\n",
      "Epoch 173/300\n"
     ]
    },
    {
     "name": "stdout",
     "output_type": "stream",
     "text": [
      "19/19 [==============================] - 0s 6ms/step - loss: 0.3962 - accuracy: 0.8050 - val_loss: 0.5319 - val_accuracy: 0.7500\n",
      "Epoch 174/300\n",
      "19/19 [==============================] - 0s 6ms/step - loss: 0.3859 - accuracy: 0.8233 - val_loss: 0.6135 - val_accuracy: 0.6700\n",
      "Epoch 175/300\n",
      "19/19 [==============================] - 0s 6ms/step - loss: 0.4321 - accuracy: 0.7950 - val_loss: 0.5820 - val_accuracy: 0.7200\n",
      "Epoch 176/300\n",
      "19/19 [==============================] - 0s 6ms/step - loss: 0.4079 - accuracy: 0.8067 - val_loss: 0.5694 - val_accuracy: 0.7300\n",
      "Epoch 177/300\n",
      "19/19 [==============================] - 0s 6ms/step - loss: 0.3901 - accuracy: 0.8200 - val_loss: 0.5535 - val_accuracy: 0.7600\n",
      "Epoch 178/300\n",
      "19/19 [==============================] - 0s 6ms/step - loss: 0.3873 - accuracy: 0.8133 - val_loss: 0.5836 - val_accuracy: 0.7000\n",
      "Epoch 179/300\n",
      "19/19 [==============================] - 0s 6ms/step - loss: 0.4117 - accuracy: 0.8017 - val_loss: 0.5599 - val_accuracy: 0.7600\n",
      "Epoch 180/300\n",
      "19/19 [==============================] - 0s 6ms/step - loss: 0.3789 - accuracy: 0.8317 - val_loss: 0.5197 - val_accuracy: 0.7500\n",
      "Epoch 181/300\n",
      "19/19 [==============================] - 0s 6ms/step - loss: 0.3913 - accuracy: 0.8133 - val_loss: 0.6287 - val_accuracy: 0.6900\n",
      "Epoch 182/300\n",
      "19/19 [==============================] - 0s 6ms/step - loss: 0.3836 - accuracy: 0.8100 - val_loss: 0.5503 - val_accuracy: 0.7500\n",
      "Epoch 183/300\n",
      "19/19 [==============================] - 0s 6ms/step - loss: 0.4130 - accuracy: 0.8117 - val_loss: 0.5123 - val_accuracy: 0.7700\n",
      "Epoch 184/300\n",
      "19/19 [==============================] - 0s 6ms/step - loss: 0.3873 - accuracy: 0.8200 - val_loss: 0.5461 - val_accuracy: 0.7600\n",
      "Epoch 185/300\n",
      "19/19 [==============================] - 0s 6ms/step - loss: 0.3870 - accuracy: 0.8283 - val_loss: 0.5769 - val_accuracy: 0.7000\n",
      "Epoch 186/300\n",
      "19/19 [==============================] - 0s 6ms/step - loss: 0.3877 - accuracy: 0.8233 - val_loss: 0.5823 - val_accuracy: 0.7000\n",
      "Epoch 187/300\n",
      "19/19 [==============================] - 0s 6ms/step - loss: 0.4043 - accuracy: 0.8233 - val_loss: 0.5174 - val_accuracy: 0.7800\n",
      "Epoch 188/300\n",
      "19/19 [==============================] - 0s 6ms/step - loss: 0.3881 - accuracy: 0.8333 - val_loss: 0.5742 - val_accuracy: 0.7400\n",
      "Epoch 189/300\n",
      "19/19 [==============================] - 0s 6ms/step - loss: 0.4028 - accuracy: 0.7983 - val_loss: 0.6244 - val_accuracy: 0.6600\n",
      "Epoch 190/300\n",
      "19/19 [==============================] - 0s 5ms/step - loss: 0.4221 - accuracy: 0.7950 - val_loss: 0.5672 - val_accuracy: 0.7600\n",
      "Epoch 191/300\n",
      "19/19 [==============================] - 0s 6ms/step - loss: 0.4382 - accuracy: 0.7783 - val_loss: 0.5930 - val_accuracy: 0.6700\n",
      "Epoch 192/300\n",
      "19/19 [==============================] - 0s 6ms/step - loss: 0.4200 - accuracy: 0.7967 - val_loss: 0.5214 - val_accuracy: 0.7900\n",
      "Epoch 193/300\n",
      "19/19 [==============================] - 0s 7ms/step - loss: 0.3717 - accuracy: 0.8300 - val_loss: 0.5544 - val_accuracy: 0.7600\n",
      "Epoch 194/300\n",
      "19/19 [==============================] - 0s 6ms/step - loss: 0.3731 - accuracy: 0.8267 - val_loss: 0.5560 - val_accuracy: 0.7300\n",
      "Epoch 195/300\n",
      "19/19 [==============================] - 0s 12ms/step - loss: 0.4048 - accuracy: 0.8033 - val_loss: 0.5620 - val_accuracy: 0.7100\n",
      "Epoch 196/300\n",
      "19/19 [==============================] - 0s 7ms/step - loss: 0.3941 - accuracy: 0.8167 - val_loss: 0.5567 - val_accuracy: 0.7300\n",
      "Epoch 197/300\n",
      "19/19 [==============================] - 0s 8ms/step - loss: 0.3793 - accuracy: 0.8167 - val_loss: 0.5358 - val_accuracy: 0.7600\n",
      "Epoch 198/300\n",
      "19/19 [==============================] - 0s 7ms/step - loss: 0.3711 - accuracy: 0.8300 - val_loss: 0.5643 - val_accuracy: 0.7500\n",
      "Epoch 199/300\n",
      "19/19 [==============================] - 0s 7ms/step - loss: 0.3770 - accuracy: 0.8183 - val_loss: 0.5585 - val_accuracy: 0.7600\n",
      "Epoch 200/300\n",
      "19/19 [==============================] - 0s 6ms/step - loss: 0.3719 - accuracy: 0.8133 - val_loss: 0.5391 - val_accuracy: 0.7500\n",
      "Epoch 201/300\n",
      "19/19 [==============================] - 0s 8ms/step - loss: 0.3611 - accuracy: 0.8250 - val_loss: 0.5478 - val_accuracy: 0.7800\n",
      "Epoch 202/300\n",
      "19/19 [==============================] - 0s 8ms/step - loss: 0.3903 - accuracy: 0.8067 - val_loss: 0.5412 - val_accuracy: 0.7400\n",
      "Epoch 203/300\n",
      "19/19 [==============================] - 0s 8ms/step - loss: 0.3691 - accuracy: 0.8367 - val_loss: 0.5528 - val_accuracy: 0.7500\n",
      "Epoch 204/300\n",
      "19/19 [==============================] - 0s 7ms/step - loss: 0.3865 - accuracy: 0.8217 - val_loss: 0.5619 - val_accuracy: 0.7600\n",
      "Epoch 205/300\n",
      "19/19 [==============================] - 0s 7ms/step - loss: 0.3938 - accuracy: 0.8050 - val_loss: 0.5759 - val_accuracy: 0.7100\n",
      "Epoch 206/300\n",
      "19/19 [==============================] - 0s 8ms/step - loss: 0.3807 - accuracy: 0.8200 - val_loss: 0.5562 - val_accuracy: 0.7400\n",
      "Epoch 207/300\n",
      "19/19 [==============================] - 0s 6ms/step - loss: 0.3690 - accuracy: 0.8133 - val_loss: 0.5942 - val_accuracy: 0.6900\n",
      "Epoch 208/300\n",
      "19/19 [==============================] - 0s 6ms/step - loss: 0.3747 - accuracy: 0.8250 - val_loss: 0.5781 - val_accuracy: 0.7200\n",
      "Epoch 209/300\n",
      "19/19 [==============================] - 0s 7ms/step - loss: 0.3740 - accuracy: 0.8150 - val_loss: 0.5415 - val_accuracy: 0.7200\n",
      "Epoch 210/300\n",
      "19/19 [==============================] - 0s 7ms/step - loss: 0.3717 - accuracy: 0.8283 - val_loss: 0.7420 - val_accuracy: 0.6600\n",
      "Epoch 211/300\n",
      "19/19 [==============================] - 0s 6ms/step - loss: 0.4258 - accuracy: 0.8067 - val_loss: 0.7558 - val_accuracy: 0.7100\n",
      "Epoch 212/300\n",
      "19/19 [==============================] - 0s 7ms/step - loss: 0.4057 - accuracy: 0.7967 - val_loss: 0.7109 - val_accuracy: 0.6500\n",
      "Epoch 213/300\n",
      "19/19 [==============================] - 0s 7ms/step - loss: 0.4271 - accuracy: 0.8050 - val_loss: 0.5594 - val_accuracy: 0.7400\n",
      "Epoch 214/300\n",
      "19/19 [==============================] - 0s 6ms/step - loss: 0.3811 - accuracy: 0.8267 - val_loss: 0.5537 - val_accuracy: 0.7100\n",
      "Epoch 215/300\n",
      "19/19 [==============================] - 0s 7ms/step - loss: 0.3583 - accuracy: 0.8333 - val_loss: 0.5530 - val_accuracy: 0.7700\n",
      "Epoch 216/300\n",
      "19/19 [==============================] - 0s 9ms/step - loss: 0.3610 - accuracy: 0.8333 - val_loss: 0.5612 - val_accuracy: 0.7400\n",
      "Epoch 217/300\n",
      "19/19 [==============================] - 0s 9ms/step - loss: 0.4057 - accuracy: 0.7950 - val_loss: 0.6060 - val_accuracy: 0.6800\n",
      "Epoch 218/300\n",
      "19/19 [==============================] - 0s 7ms/step - loss: 0.4688 - accuracy: 0.7800 - val_loss: 0.6038 - val_accuracy: 0.7100\n",
      "Epoch 219/300\n",
      "19/19 [==============================] - 0s 6ms/step - loss: 0.4328 - accuracy: 0.7967 - val_loss: 0.5916 - val_accuracy: 0.7100\n",
      "Epoch 220/300\n",
      "19/19 [==============================] - 0s 6ms/step - loss: 0.3601 - accuracy: 0.8433 - val_loss: 0.5256 - val_accuracy: 0.7600\n",
      "Epoch 221/300\n",
      "19/19 [==============================] - 0s 5ms/step - loss: 0.3630 - accuracy: 0.8217 - val_loss: 0.5266 - val_accuracy: 0.7400\n",
      "Epoch 222/300\n",
      "19/19 [==============================] - 0s 5ms/step - loss: 0.3627 - accuracy: 0.8300 - val_loss: 0.6123 - val_accuracy: 0.7500\n",
      "Epoch 223/300\n",
      "19/19 [==============================] - 0s 6ms/step - loss: 0.3491 - accuracy: 0.8317 - val_loss: 0.5811 - val_accuracy: 0.7600\n",
      "Epoch 224/300\n",
      "19/19 [==============================] - 0s 5ms/step - loss: 0.3767 - accuracy: 0.8033 - val_loss: 0.5789 - val_accuracy: 0.7800\n",
      "Epoch 225/300\n",
      "19/19 [==============================] - 0s 6ms/step - loss: 0.3552 - accuracy: 0.8433 - val_loss: 0.5782 - val_accuracy: 0.7300\n",
      "Epoch 226/300\n",
      "19/19 [==============================] - 0s 6ms/step - loss: 0.3511 - accuracy: 0.8383 - val_loss: 0.5876 - val_accuracy: 0.6900\n",
      "Epoch 227/300\n",
      "19/19 [==============================] - 0s 9ms/step - loss: 0.3555 - accuracy: 0.8300 - val_loss: 0.5717 - val_accuracy: 0.7300\n",
      "Epoch 228/300\n",
      "19/19 [==============================] - 0s 6ms/step - loss: 0.3640 - accuracy: 0.8267 - val_loss: 0.5732 - val_accuracy: 0.7800\n",
      "Epoch 229/300\n",
      "19/19 [==============================] - 0s 6ms/step - loss: 0.3586 - accuracy: 0.8317 - val_loss: 0.5557 - val_accuracy: 0.7400\n",
      "Epoch 230/300\n",
      "19/19 [==============================] - 0s 5ms/step - loss: 0.3627 - accuracy: 0.8333 - val_loss: 0.6624 - val_accuracy: 0.7200\n",
      "Epoch 231/300\n",
      "19/19 [==============================] - 0s 5ms/step - loss: 0.3974 - accuracy: 0.7983 - val_loss: 0.7046 - val_accuracy: 0.6500\n",
      "Epoch 232/300\n",
      "19/19 [==============================] - 0s 5ms/step - loss: 0.4470 - accuracy: 0.7900 - val_loss: 0.6369 - val_accuracy: 0.7500\n",
      "Epoch 233/300\n",
      "19/19 [==============================] - 0s 6ms/step - loss: 0.3857 - accuracy: 0.8100 - val_loss: 0.6161 - val_accuracy: 0.6800\n",
      "Epoch 234/300\n",
      "19/19 [==============================] - 0s 6ms/step - loss: 0.4350 - accuracy: 0.7800 - val_loss: 0.6709 - val_accuracy: 0.7400\n",
      "Epoch 235/300\n",
      "19/19 [==============================] - 0s 6ms/step - loss: 0.3876 - accuracy: 0.8083 - val_loss: 0.6207 - val_accuracy: 0.6800\n",
      "Epoch 236/300\n",
      "19/19 [==============================] - 0s 5ms/step - loss: 0.3815 - accuracy: 0.8167 - val_loss: 0.6169 - val_accuracy: 0.7400\n",
      "Epoch 237/300\n",
      "19/19 [==============================] - 0s 4ms/step - loss: 0.3839 - accuracy: 0.8250 - val_loss: 0.6199 - val_accuracy: 0.7500\n",
      "Epoch 238/300\n",
      "19/19 [==============================] - 0s 4ms/step - loss: 0.3609 - accuracy: 0.8350 - val_loss: 0.5470 - val_accuracy: 0.7600\n",
      "Epoch 239/300\n",
      "19/19 [==============================] - 0s 5ms/step - loss: 0.3670 - accuracy: 0.8233 - val_loss: 0.6272 - val_accuracy: 0.6700\n",
      "Epoch 240/300\n",
      "19/19 [==============================] - 0s 5ms/step - loss: 0.4004 - accuracy: 0.8083 - val_loss: 0.5680 - val_accuracy: 0.7500\n",
      "Epoch 241/300\n",
      "19/19 [==============================] - 0s 5ms/step - loss: 0.3549 - accuracy: 0.8283 - val_loss: 0.6333 - val_accuracy: 0.6900\n",
      "Epoch 242/300\n",
      "19/19 [==============================] - 0s 5ms/step - loss: 0.3696 - accuracy: 0.8267 - val_loss: 0.5972 - val_accuracy: 0.6900\n",
      "Epoch 243/300\n",
      "19/19 [==============================] - 0s 5ms/step - loss: 0.3575 - accuracy: 0.8400 - val_loss: 0.5685 - val_accuracy: 0.7500\n",
      "Epoch 244/300\n",
      "19/19 [==============================] - 0s 5ms/step - loss: 0.3417 - accuracy: 0.8533 - val_loss: 0.6868 - val_accuracy: 0.6500\n",
      "Epoch 245/300\n",
      "19/19 [==============================] - 0s 5ms/step - loss: 0.3938 - accuracy: 0.8100 - val_loss: 0.7402 - val_accuracy: 0.7200\n",
      "Epoch 246/300\n",
      "19/19 [==============================] - 0s 5ms/step - loss: 0.4340 - accuracy: 0.7983 - val_loss: 0.5310 - val_accuracy: 0.7500\n",
      "Epoch 247/300\n",
      "19/19 [==============================] - 0s 5ms/step - loss: 0.3856 - accuracy: 0.8067 - val_loss: 0.6194 - val_accuracy: 0.7200\n",
      "Epoch 248/300\n",
      "19/19 [==============================] - 0s 5ms/step - loss: 0.3891 - accuracy: 0.8200 - val_loss: 0.5720 - val_accuracy: 0.7100\n",
      "Epoch 249/300\n",
      "19/19 [==============================] - 0s 5ms/step - loss: 0.3575 - accuracy: 0.8167 - val_loss: 0.6076 - val_accuracy: 0.7200\n",
      "Epoch 250/300\n",
      "19/19 [==============================] - 0s 5ms/step - loss: 0.3558 - accuracy: 0.8367 - val_loss: 0.5776 - val_accuracy: 0.6700\n",
      "Epoch 251/300\n",
      "19/19 [==============================] - 0s 5ms/step - loss: 0.3495 - accuracy: 0.8283 - val_loss: 0.5886 - val_accuracy: 0.6700\n",
      "Epoch 252/300\n",
      "19/19 [==============================] - 0s 5ms/step - loss: 0.3640 - accuracy: 0.8150 - val_loss: 0.5700 - val_accuracy: 0.7300\n",
      "Epoch 253/300\n",
      "19/19 [==============================] - 0s 5ms/step - loss: 0.3770 - accuracy: 0.8017 - val_loss: 0.5390 - val_accuracy: 0.7600\n",
      "Epoch 254/300\n",
      "19/19 [==============================] - 0s 5ms/step - loss: 0.3599 - accuracy: 0.8317 - val_loss: 0.5913 - val_accuracy: 0.7100\n",
      "Epoch 255/300\n",
      "19/19 [==============================] - 0s 5ms/step - loss: 0.3785 - accuracy: 0.8317 - val_loss: 0.5468 - val_accuracy: 0.7400\n",
      "Epoch 256/300\n",
      "19/19 [==============================] - 0s 5ms/step - loss: 0.3376 - accuracy: 0.8633 - val_loss: 0.6379 - val_accuracy: 0.7100\n",
      "Epoch 257/300\n",
      "19/19 [==============================] - 0s 5ms/step - loss: 0.3655 - accuracy: 0.8267 - val_loss: 0.6065 - val_accuracy: 0.7300\n",
      "Epoch 258/300\n",
      "19/19 [==============================] - 0s 5ms/step - loss: 0.3509 - accuracy: 0.8467 - val_loss: 0.6508 - val_accuracy: 0.7200\n",
      "Epoch 259/300\n",
      "19/19 [==============================] - 0s 4ms/step - loss: 0.3975 - accuracy: 0.8217 - val_loss: 0.6489 - val_accuracy: 0.6600\n",
      "Epoch 260/300\n",
      "19/19 [==============================] - 0s 5ms/step - loss: 0.3630 - accuracy: 0.8250 - val_loss: 0.5451 - val_accuracy: 0.7400\n",
      "Epoch 261/300\n",
      "19/19 [==============================] - 0s 5ms/step - loss: 0.3365 - accuracy: 0.8450 - val_loss: 0.5726 - val_accuracy: 0.7300\n",
      "Epoch 262/300\n",
      "19/19 [==============================] - 0s 5ms/step - loss: 0.3469 - accuracy: 0.8417 - val_loss: 0.5946 - val_accuracy: 0.7200\n",
      "Epoch 263/300\n",
      "19/19 [==============================] - 0s 5ms/step - loss: 0.3511 - accuracy: 0.8300 - val_loss: 0.6340 - val_accuracy: 0.7100\n",
      "Epoch 264/300\n",
      "19/19 [==============================] - 0s 5ms/step - loss: 0.3413 - accuracy: 0.8300 - val_loss: 0.5801 - val_accuracy: 0.7600\n",
      "Epoch 265/300\n",
      "19/19 [==============================] - 0s 5ms/step - loss: 0.3437 - accuracy: 0.8417 - val_loss: 0.6423 - val_accuracy: 0.7200\n",
      "Epoch 266/300\n",
      "19/19 [==============================] - 0s 6ms/step - loss: 0.3347 - accuracy: 0.8500 - val_loss: 0.5605 - val_accuracy: 0.7600\n",
      "Epoch 267/300\n",
      "19/19 [==============================] - 0s 5ms/step - loss: 0.3441 - accuracy: 0.8433 - val_loss: 0.6446 - val_accuracy: 0.6900\n",
      "Epoch 268/300\n",
      "19/19 [==============================] - 0s 5ms/step - loss: 0.3718 - accuracy: 0.8250 - val_loss: 0.5960 - val_accuracy: 0.7400\n",
      "Epoch 269/300\n",
      "19/19 [==============================] - 0s 5ms/step - loss: 0.3773 - accuracy: 0.8367 - val_loss: 0.6258 - val_accuracy: 0.7400\n",
      "Epoch 270/300\n",
      "19/19 [==============================] - 0s 4ms/step - loss: 0.3559 - accuracy: 0.8433 - val_loss: 0.5627 - val_accuracy: 0.7600\n",
      "Epoch 271/300\n",
      "19/19 [==============================] - 0s 5ms/step - loss: 0.3196 - accuracy: 0.8550 - val_loss: 0.5808 - val_accuracy: 0.7200\n",
      "Epoch 272/300\n",
      "19/19 [==============================] - 0s 5ms/step - loss: 0.3222 - accuracy: 0.8617 - val_loss: 0.5901 - val_accuracy: 0.7400\n",
      "Epoch 273/300\n",
      "19/19 [==============================] - 0s 5ms/step - loss: 0.3368 - accuracy: 0.8450 - val_loss: 0.5586 - val_accuracy: 0.7500\n",
      "Epoch 274/300\n",
      "19/19 [==============================] - 0s 5ms/step - loss: 0.3329 - accuracy: 0.8400 - val_loss: 0.5743 - val_accuracy: 0.7600\n",
      "Epoch 275/300\n",
      "19/19 [==============================] - 0s 5ms/step - loss: 0.3321 - accuracy: 0.8400 - val_loss: 0.5551 - val_accuracy: 0.7400\n",
      "Epoch 276/300\n",
      "19/19 [==============================] - 0s 6ms/step - loss: 0.3264 - accuracy: 0.8550 - val_loss: 0.6221 - val_accuracy: 0.7600\n",
      "Epoch 277/300\n",
      "19/19 [==============================] - 0s 5ms/step - loss: 0.3487 - accuracy: 0.8350 - val_loss: 0.5833 - val_accuracy: 0.7100\n",
      "Epoch 278/300\n",
      "19/19 [==============================] - 0s 6ms/step - loss: 0.3178 - accuracy: 0.8533 - val_loss: 0.5738 - val_accuracy: 0.8100\n",
      "Epoch 279/300\n",
      "19/19 [==============================] - 0s 6ms/step - loss: 0.3302 - accuracy: 0.8450 - val_loss: 0.6063 - val_accuracy: 0.7200\n",
      "Epoch 280/300\n",
      "19/19 [==============================] - 0s 6ms/step - loss: 0.3195 - accuracy: 0.8550 - val_loss: 0.5460 - val_accuracy: 0.7400\n",
      "Epoch 281/300\n",
      "19/19 [==============================] - 0s 5ms/step - loss: 0.3408 - accuracy: 0.8450 - val_loss: 0.6395 - val_accuracy: 0.7300\n",
      "Epoch 282/300\n",
      "19/19 [==============================] - 0s 5ms/step - loss: 0.3303 - accuracy: 0.8483 - val_loss: 0.5948 - val_accuracy: 0.7100\n",
      "Epoch 283/300\n",
      "19/19 [==============================] - 0s 5ms/step - loss: 0.3291 - accuracy: 0.8350 - val_loss: 0.5929 - val_accuracy: 0.7200\n",
      "Epoch 284/300\n",
      "19/19 [==============================] - 0s 5ms/step - loss: 0.3187 - accuracy: 0.8583 - val_loss: 0.6154 - val_accuracy: 0.7300\n",
      "Epoch 285/300\n",
      "19/19 [==============================] - 0s 5ms/step - loss: 0.3368 - accuracy: 0.8417 - val_loss: 0.6246 - val_accuracy: 0.7600\n",
      "Epoch 286/300\n",
      "19/19 [==============================] - 0s 5ms/step - loss: 0.3240 - accuracy: 0.8567 - val_loss: 0.6962 - val_accuracy: 0.7200\n",
      "Epoch 287/300\n"
     ]
    },
    {
     "name": "stdout",
     "output_type": "stream",
     "text": [
      "19/19 [==============================] - 0s 5ms/step - loss: 0.3499 - accuracy: 0.8500 - val_loss: 0.6209 - val_accuracy: 0.7300\n",
      "Epoch 288/300\n",
      "19/19 [==============================] - 0s 5ms/step - loss: 0.3793 - accuracy: 0.8250 - val_loss: 0.6116 - val_accuracy: 0.7400\n",
      "Epoch 289/300\n",
      "19/19 [==============================] - 0s 5ms/step - loss: 0.3968 - accuracy: 0.8150 - val_loss: 0.5622 - val_accuracy: 0.7400\n",
      "Epoch 290/300\n",
      "19/19 [==============================] - 0s 6ms/step - loss: 0.3424 - accuracy: 0.8400 - val_loss: 0.6596 - val_accuracy: 0.7300\n",
      "Epoch 291/300\n",
      "19/19 [==============================] - 0s 6ms/step - loss: 0.3351 - accuracy: 0.8450 - val_loss: 0.5764 - val_accuracy: 0.7700\n",
      "Epoch 292/300\n",
      "19/19 [==============================] - 0s 5ms/step - loss: 0.3175 - accuracy: 0.8417 - val_loss: 0.5609 - val_accuracy: 0.7700\n",
      "Epoch 293/300\n",
      "19/19 [==============================] - 0s 5ms/step - loss: 0.3126 - accuracy: 0.8667 - val_loss: 0.5974 - val_accuracy: 0.7300\n",
      "Epoch 294/300\n",
      "19/19 [==============================] - 0s 5ms/step - loss: 0.3249 - accuracy: 0.8517 - val_loss: 0.5447 - val_accuracy: 0.7500\n",
      "Epoch 295/300\n",
      "19/19 [==============================] - 0s 5ms/step - loss: 0.3158 - accuracy: 0.8467 - val_loss: 0.6228 - val_accuracy: 0.7200\n",
      "Epoch 296/300\n",
      "19/19 [==============================] - 0s 5ms/step - loss: 0.3370 - accuracy: 0.8417 - val_loss: 0.6506 - val_accuracy: 0.7500\n",
      "Epoch 297/300\n",
      "19/19 [==============================] - 0s 5ms/step - loss: 0.3251 - accuracy: 0.8517 - val_loss: 0.6240 - val_accuracy: 0.7600\n",
      "Epoch 298/300\n",
      "19/19 [==============================] - 0s 6ms/step - loss: 0.3230 - accuracy: 0.8550 - val_loss: 0.5740 - val_accuracy: 0.7500\n",
      "Epoch 299/300\n",
      "19/19 [==============================] - 0s 5ms/step - loss: 0.3316 - accuracy: 0.8533 - val_loss: 0.7461 - val_accuracy: 0.7100\n",
      "Epoch 300/300\n",
      "19/19 [==============================] - 0s 5ms/step - loss: 0.3788 - accuracy: 0.8283 - val_loss: 0.5602 - val_accuracy: 0.6800\n"
     ]
    }
   ],
   "source": [
    "# 4. 모델 학습\n",
    "hist = model.fit(X_train, Y_train,\n",
    "                validation_data=[X_val, Y_val],\n",
    "                epochs=300)"
   ]
  },
  {
   "cell_type": "code",
   "execution_count": 10,
   "id": "1c37def0",
   "metadata": {
    "ExecuteTime": {
     "end_time": "2024-12-18T00:37:41.489944Z",
     "start_time": "2024-12-18T00:37:41.484814Z"
    }
   },
   "outputs": [
    {
     "data": {
      "text/plain": [
       "dict_keys(['loss', 'accuracy', 'val_loss', 'val_accuracy'])"
      ]
     },
     "execution_count": 10,
     "metadata": {},
     "output_type": "execute_result"
    }
   ],
   "source": [
    "# 5. 모델 학습평가\n",
    "hist.history.keys()"
   ]
  },
  {
   "cell_type": "code",
   "execution_count": 24,
   "id": "00a169bc",
   "metadata": {
    "ExecuteTime": {
     "end_time": "2024-12-18T00:48:18.487442Z",
     "start_time": "2024-12-18T00:48:18.191601Z"
    }
   },
   "outputs": [
    {
     "data": {
      "image/png": "[encoded data removed]",
      "text/plain": [
       "<Figure size 1000x500 with 2 Axes>"
      ]
     },
     "metadata": {},
     "output_type": "display_data"
    }
   ],
   "source": [
    "fig, loss_ax = plt.subplots(figsize=(10,5))\n",
    "loss_ax.plot(hist.history['loss'], 'r', label='train loss')\n",
    "loss_ax.plot(hist.history['val_loss'], 'y', label='validation loss')\n",
    "loss_ax.set_xlabel('epoch')\n",
    "loss_ax.set_ylabel('loss')\n",
    "acc_ax = loss_ax.twinx()\n",
    "acc_ax.plot(hist.history['accuracy'], 'b', label='train accuracy')\n",
    "acc_ax.plot(hist.history['val_accuracy'], 'g', label='validation accuracy')\n",
    "acc_ax.set_ylabel('accuracy')\n",
    "loss_ax.legend(bbox_to_anchor=(1.1, 1), loc=2, borderaxespad=0.)\n",
    "acc_ax.legend(bbox_to_anchor=(1.1, .85), loc=2, borderaxespad=0.)\n",
    "plt.show()"
   ]
  },
  {
   "cell_type": "code",
   "execution_count": 27,
   "id": "cab705dc",
   "metadata": {
    "ExecuteTime": {
     "end_time": "2024-12-18T00:49:55.716626Z",
     "start_time": "2024-12-18T00:49:55.647639Z"
    }
   },
   "outputs": [
    {
     "name": "stdout",
     "output_type": "stream",
     "text": [
      "3/3 [==============================] - 0s 3ms/step - loss: 0.4429 - accuracy: 0.8382\n",
      "loss : 0.4428965449333191, 정확도 : 83.82%\n"
     ]
    }
   ],
   "source": [
    "score = model.evaluate(X_test, Y_test)\n",
    "print('loss : {}, 정확도 : {:.2f}%'.format(score[0], score[1]*100))"
   ]
  },
  {
   "cell_type": "code",
   "execution_count": 34,
   "id": "f8cdb593",
   "metadata": {
    "ExecuteTime": {
     "end_time": "2024-12-18T01:06:43.218989Z",
     "start_time": "2024-12-18T01:06:43.151777Z"
    }
   },
   "outputs": [
    {
     "name": "stdout",
     "output_type": "stream",
     "text": [
      "3/3 [==============================] - 0s 2ms/step\n"
     ]
    }
   ],
   "source": [
    "Y_hat = model.predict([X_test])"
   ]
  },
  {
   "cell_type": "code",
   "execution_count": 37,
   "id": "3528f439",
   "metadata": {
    "ExecuteTime": {
     "end_time": "2024-12-18T01:11:18.492210Z",
     "start_time": "2024-12-18T01:11:18.475207Z"
    }
   },
   "outputs": [
    {
     "data": {
      "text/html": [
       "<div>\n",
       "<style scoped>\n",
       "    .dataframe tbody tr th:only-of-type {\n",
       "        vertical-align: middle;\n",
       "    }\n",
       "\n",
       "    .dataframe tbody tr th {\n",
       "        vertical-align: top;\n",
       "    }\n",
       "\n",
       "    .dataframe thead th {\n",
       "        text-align: right;\n",
       "    }\n",
       "</style>\n",
       "<table border=\"1\" class=\"dataframe\">\n",
       "  <thead>\n",
       "    <tr style=\"text-align: right;\">\n",
       "      <th>예측값</th>\n",
       "      <th>0</th>\n",
       "      <th>1</th>\n",
       "    </tr>\n",
       "    <tr>\n",
       "      <th>실제값</th>\n",
       "      <th></th>\n",
       "      <th></th>\n",
       "    </tr>\n",
       "  </thead>\n",
       "  <tbody>\n",
       "    <tr>\n",
       "      <th>0.0</th>\n",
       "      <td>35</td>\n",
       "      <td>6</td>\n",
       "    </tr>\n",
       "    <tr>\n",
       "      <th>1.0</th>\n",
       "      <td>5</td>\n",
       "      <td>22</td>\n",
       "    </tr>\n",
       "  </tbody>\n",
       "</table>\n",
       "</div>"
      ],
      "text/plain": [
       "예측값   0   1\n",
       "실제값        \n",
       "0.0  35   6\n",
       "1.0   5  22"
      ]
     },
     "execution_count": 37,
     "metadata": {},
     "output_type": "execute_result"
    }
   ],
   "source": [
    "ctab = pd.crosstab(y_test, Y_hat.argmax(axis=1))\n",
    "ctab.index.name = '실제값'\n",
    "ctab.columns.name = '예측값'\n",
    "ctab"
   ]
  },
  {
   "cell_type": "code",
   "execution_count": 41,
   "id": "37de14cc",
   "metadata": {
    "ExecuteTime": {
     "end_time": "2024-12-18T01:32:50.103591Z",
     "start_time": "2024-12-18T01:32:49.976067Z"
    }
   },
   "outputs": [
    {
     "name": "stdout",
     "output_type": "stream",
     "text": [
      "1/1 [==============================] - 0s 81ms/step\n"
     ]
    },
    {
     "data": {
      "text/plain": [
       "array([[0.8876152 , 0.11238482]], dtype=float32)"
      ]
     },
     "execution_count": 41,
     "metadata": {},
     "output_type": "execute_result"
    }
   ],
   "source": [
    "# 6. 모델 사용하기\n",
    "# input_data\n",
    "pred = model.predict([[2.,122.,76.,27.,200.,35.9,0.483,26.]])\n",
    "pred"
   ]
  },
  {
   "cell_type": "code",
   "execution_count": 43,
   "id": "3179ae5b",
   "metadata": {
    "ExecuteTime": {
     "end_time": "2024-12-18T01:33:13.687890Z",
     "start_time": "2024-12-18T01:33:13.682899Z"
    }
   },
   "outputs": [
    {
     "data": {
      "text/plain": [
       "array([0], dtype=int64)"
      ]
     },
     "execution_count": 43,
     "metadata": {},
     "output_type": "execute_result"
    }
   ],
   "source": [
    "pred.argmax()\n",
    "np.argmax(pred, axis=1)"
   ]
  }
 ],
 "metadata": {
  "kernelspec": {
   "display_name": "Python 3 (ipykernel)",
   "language": "python",
   "name": "python3"
  },
  "language_info": {
   "codemirror_mode": {
    "name": "ipython",
    "version": 3
   },
   "file_extension": ".py",
   "mimetype": "text/x-python",
   "name": "python",
   "nbconvert_exporter": "python",
   "pygments_lexer": "ipython3",
   "version": "3.10.9"
  },
  "toc": {
   "base_numbering": 1,
   "nav_menu": {},
   "number_sections": true,
   "sideBar": true,
   "skip_h1_title": false,
   "title_cell": "Table of Contents",
   "title_sidebar": "Contents",
   "toc_cell": false,
   "toc_position": {
    "height": "calc(100% - 180px)",
    "left": "10px",
    "top": "150px",
    "width": "190px"
   },
   "toc_section_display": true,
   "toc_window_display": true
  }
 },
 "nbformat": 4,
 "nbformat_minor": 5
}
