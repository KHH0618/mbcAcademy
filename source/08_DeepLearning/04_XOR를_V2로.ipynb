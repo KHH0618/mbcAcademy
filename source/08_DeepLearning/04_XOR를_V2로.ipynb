{
 "cells": [
  {
   "cell_type": "code",
   "execution_count": 1,
   "id": "d1cd293c",
   "metadata": {
    "ExecuteTime": {
     "end_time": "2024-12-17T00:35:57.822436Z",
     "start_time": "2024-12-17T00:35:45.415667Z"
    }
   },
   "outputs": [],
   "source": [
    "import numpy as np\n",
    "from tensorflow.keras.models import Sequential  # 모델 객체 생성\n",
    "from tensorflow.keras.layers import Dense, Input # 모델 layer 쌓을 때 필요한 함수\n",
    "import tensorflow as tf\n",
    "import matplotlib.pyplot as plt"
   ]
  },
  {
   "cell_type": "markdown",
   "id": "4b96afdb",
   "metadata": {},
   "source": [
    "# 1. XOR"
   ]
  },
  {
   "cell_type": "code",
   "execution_count": 10,
   "id": "f169bdc5",
   "metadata": {
    "ExecuteTime": {
     "end_time": "2024-12-17T00:47:31.736243Z",
     "start_time": "2024-12-17T00:47:31.662402Z"
    }
   },
   "outputs": [
    {
     "name": "stdout",
     "output_type": "stream",
     "text": [
      "Model: \"sequential_2\"\n",
      "_________________________________________________________________\n",
      " Layer (type)                Output Shape              Param #   \n",
      "=================================================================\n",
      " dense_8 (Dense)             (None, 10)                30        \n",
      "                                                                 \n",
      " dense_9 (Dense)             (None, 20)                220       \n",
      "                                                                 \n",
      " dense_10 (Dense)            (None, 10)                210       \n",
      "                                                                 \n",
      " dense_11 (Dense)            (None, 1)                 11        \n",
      "                                                                 \n",
      "=================================================================\n",
      "Total params: 471\n",
      "Trainable params: 471\n",
      "Non-trainable params: 0\n",
      "_________________________________________________________________\n",
      "None\n"
     ]
    }
   ],
   "source": [
    "x_data = np.array([[0,0],[0,1],[1,0],[1,1]])\n",
    "y_data = np.array([[0],[1],[1],[0]])\n",
    "\n",
    "model = Sequential()\n",
    "model.add(Input(shape=2, dtype=tf.float32))\n",
    "model.add(Dense(units=10, \n",
    "                input_shape=(2,), #input_dim=2, \n",
    "                activation='relu'))\n",
    "model.add(Dense(units=20, activation='relu'))\n",
    "model.add(Dense(units=10, activation='relu'))\n",
    "model.add(Dense(units=1, activation='sigmoid'))\n",
    "print(model.summary())\n",
    "model.compile(loss='binary_crossentropy', optimizer='adam', metrics=['binary_accuracy']) # 이진분류\n",
    "# model.compile(loss='categorical_crossntropy', optimizer='adam', metrics=['accuracy']) 다중분류에서"
   ]
  },
  {
   "cell_type": "code",
   "execution_count": 11,
   "id": "eff32854",
   "metadata": {
    "ExecuteTime": {
     "end_time": "2024-12-17T00:47:33.960777Z",
     "start_time": "2024-12-17T00:47:32.445654Z"
    },
    "collapsed": true
   },
   "outputs": [
    {
     "name": "stdout",
     "output_type": "stream",
     "text": [
      "Epoch 1/100\n",
      "1/1 [==============================] - 0s 451ms/step - loss: 0.6859 - binary_accuracy: 1.0000\n",
      "Epoch 2/100\n",
      "1/1 [==============================] - 0s 14ms/step - loss: 0.6848 - binary_accuracy: 0.7500\n",
      "Epoch 3/100\n",
      "1/1 [==============================] - 0s 7ms/step - loss: 0.6837 - binary_accuracy: 0.7500\n",
      "Epoch 4/100\n",
      "1/1 [==============================] - 0s 9ms/step - loss: 0.6826 - binary_accuracy: 0.7500\n",
      "Epoch 5/100\n",
      "1/1 [==============================] - 0s 5ms/step - loss: 0.6815 - binary_accuracy: 0.7500\n",
      "Epoch 6/100\n",
      "1/1 [==============================] - 0s 18ms/step - loss: 0.6806 - binary_accuracy: 1.0000\n",
      "Epoch 7/100\n",
      "1/1 [==============================] - 0s 9ms/step - loss: 0.6797 - binary_accuracy: 1.0000\n",
      "Epoch 8/100\n",
      "1/1 [==============================] - 0s 8ms/step - loss: 0.6789 - binary_accuracy: 1.0000\n",
      "Epoch 9/100\n",
      "1/1 [==============================] - 0s 0s/step - loss: 0.6781 - binary_accuracy: 1.0000\n",
      "Epoch 10/100\n",
      "1/1 [==============================] - 0s 21ms/step - loss: 0.6773 - binary_accuracy: 1.0000\n",
      "Epoch 11/100\n",
      "1/1 [==============================] - 0s 7ms/step - loss: 0.6764 - binary_accuracy: 1.0000\n",
      "Epoch 12/100\n",
      "1/1 [==============================] - 0s 6ms/step - loss: 0.6755 - binary_accuracy: 1.0000\n",
      "Epoch 13/100\n",
      "1/1 [==============================] - 0s 8ms/step - loss: 0.6747 - binary_accuracy: 1.0000\n",
      "Epoch 14/100\n",
      "1/1 [==============================] - 0s 8ms/step - loss: 0.6740 - binary_accuracy: 1.0000\n",
      "Epoch 15/100\n",
      "1/1 [==============================] - 0s 7ms/step - loss: 0.6732 - binary_accuracy: 1.0000\n",
      "Epoch 16/100\n",
      "1/1 [==============================] - 0s 6ms/step - loss: 0.6723 - binary_accuracy: 1.0000\n",
      "Epoch 17/100\n",
      "1/1 [==============================] - 0s 5ms/step - loss: 0.6714 - binary_accuracy: 1.0000\n",
      "Epoch 18/100\n",
      "1/1 [==============================] - 0s 13ms/step - loss: 0.6705 - binary_accuracy: 1.0000\n",
      "Epoch 19/100\n",
      "1/1 [==============================] - 0s 6ms/step - loss: 0.6697 - binary_accuracy: 1.0000\n",
      "Epoch 20/100\n",
      "1/1 [==============================] - 0s 8ms/step - loss: 0.6687 - binary_accuracy: 1.0000\n",
      "Epoch 21/100\n",
      "1/1 [==============================] - 0s 7ms/step - loss: 0.6678 - binary_accuracy: 1.0000\n",
      "Epoch 22/100\n",
      "1/1 [==============================] - 0s 0s/step - loss: 0.6669 - binary_accuracy: 1.0000\n",
      "Epoch 23/100\n",
      "1/1 [==============================] - 0s 21ms/step - loss: 0.6659 - binary_accuracy: 1.0000\n",
      "Epoch 24/100\n",
      "1/1 [==============================] - 0s 7ms/step - loss: 0.6650 - binary_accuracy: 1.0000\n",
      "Epoch 25/100\n",
      "1/1 [==============================] - 0s 6ms/step - loss: 0.6640 - binary_accuracy: 1.0000\n",
      "Epoch 26/100\n",
      "1/1 [==============================] - 0s 6ms/step - loss: 0.6631 - binary_accuracy: 1.0000\n",
      "Epoch 27/100\n",
      "1/1 [==============================] - 0s 0s/step - loss: 0.6623 - binary_accuracy: 1.0000\n",
      "Epoch 28/100\n",
      "1/1 [==============================] - 0s 15ms/step - loss: 0.6613 - binary_accuracy: 1.0000\n",
      "Epoch 29/100\n",
      "1/1 [==============================] - 0s 5ms/step - loss: 0.6603 - binary_accuracy: 1.0000\n",
      "Epoch 30/100\n",
      "1/1 [==============================] - 0s 7ms/step - loss: 0.6594 - binary_accuracy: 1.0000\n",
      "Epoch 31/100\n",
      "1/1 [==============================] - 0s 6ms/step - loss: 0.6584 - binary_accuracy: 1.0000\n",
      "Epoch 32/100\n",
      "1/1 [==============================] - 0s 7ms/step - loss: 0.6574 - binary_accuracy: 1.0000\n",
      "Epoch 33/100\n",
      "1/1 [==============================] - 0s 6ms/step - loss: 0.6564 - binary_accuracy: 1.0000\n",
      "Epoch 34/100\n",
      "1/1 [==============================] - 0s 7ms/step - loss: 0.6554 - binary_accuracy: 1.0000\n",
      "Epoch 35/100\n",
      "1/1 [==============================] - 0s 5ms/step - loss: 0.6544 - binary_accuracy: 1.0000\n",
      "Epoch 36/100\n",
      "1/1 [==============================] - 0s 6ms/step - loss: 0.6533 - binary_accuracy: 1.0000\n",
      "Epoch 37/100\n",
      "1/1 [==============================] - 0s 5ms/step - loss: 0.6522 - binary_accuracy: 1.0000\n",
      "Epoch 38/100\n",
      "1/1 [==============================] - 0s 0s/step - loss: 0.6512 - binary_accuracy: 1.0000\n",
      "Epoch 39/100\n",
      "1/1 [==============================] - 0s 16ms/step - loss: 0.6501 - binary_accuracy: 1.0000\n",
      "Epoch 40/100\n",
      "1/1 [==============================] - 0s 7ms/step - loss: 0.6490 - binary_accuracy: 1.0000\n",
      "Epoch 41/100\n",
      "1/1 [==============================] - 0s 5ms/step - loss: 0.6478 - binary_accuracy: 1.0000\n",
      "Epoch 42/100\n",
      "1/1 [==============================] - 0s 6ms/step - loss: 0.6467 - binary_accuracy: 1.0000\n",
      "Epoch 43/100\n",
      "1/1 [==============================] - 0s 3ms/step - loss: 0.6456 - binary_accuracy: 1.0000\n",
      "Epoch 44/100\n",
      "1/1 [==============================] - 0s 0s/step - loss: 0.6444 - binary_accuracy: 1.0000\n",
      "Epoch 45/100\n",
      "1/1 [==============================] - 0s 5ms/step - loss: 0.6432 - binary_accuracy: 1.0000\n",
      "Epoch 46/100\n",
      "1/1 [==============================] - 0s 7ms/step - loss: 0.6419 - binary_accuracy: 1.0000\n",
      "Epoch 47/100\n",
      "1/1 [==============================] - 0s 5ms/step - loss: 0.6404 - binary_accuracy: 1.0000\n",
      "Epoch 48/100\n",
      "1/1 [==============================] - 0s 6ms/step - loss: 0.6388 - binary_accuracy: 1.0000\n",
      "Epoch 49/100\n",
      "1/1 [==============================] - 0s 7ms/step - loss: 0.6373 - binary_accuracy: 1.0000\n",
      "Epoch 50/100\n",
      "1/1 [==============================] - 0s 6ms/step - loss: 0.6358 - binary_accuracy: 1.0000\n",
      "Epoch 51/100\n",
      "1/1 [==============================] - 0s 6ms/step - loss: 0.6342 - binary_accuracy: 1.0000\n",
      "Epoch 52/100\n",
      "1/1 [==============================] - 0s 7ms/step - loss: 0.6326 - binary_accuracy: 1.0000\n",
      "Epoch 53/100\n",
      "1/1 [==============================] - 0s 6ms/step - loss: 0.6310 - binary_accuracy: 1.0000\n",
      "Epoch 54/100\n",
      "1/1 [==============================] - 0s 1ms/step - loss: 0.6293 - binary_accuracy: 1.0000\n",
      "Epoch 55/100\n",
      "1/1 [==============================] - 0s 14ms/step - loss: 0.6275 - binary_accuracy: 1.0000\n",
      "Epoch 56/100\n",
      "1/1 [==============================] - 0s 8ms/step - loss: 0.6258 - binary_accuracy: 1.0000\n",
      "Epoch 57/100\n",
      "1/1 [==============================] - 0s 6ms/step - loss: 0.6239 - binary_accuracy: 1.0000\n",
      "Epoch 58/100\n",
      "1/1 [==============================] - 0s 5ms/step - loss: 0.6220 - binary_accuracy: 1.0000\n",
      "Epoch 59/100\n",
      "1/1 [==============================] - 0s 6ms/step - loss: 0.6200 - binary_accuracy: 1.0000\n",
      "Epoch 60/100\n",
      "1/1 [==============================] - 0s 6ms/step - loss: 0.6181 - binary_accuracy: 1.0000\n",
      "Epoch 61/100\n",
      "1/1 [==============================] - 0s 8ms/step - loss: 0.6161 - binary_accuracy: 1.0000\n",
      "Epoch 62/100\n",
      "1/1 [==============================] - 0s 6ms/step - loss: 0.6142 - binary_accuracy: 1.0000\n",
      "Epoch 63/100\n",
      "1/1 [==============================] - 0s 6ms/step - loss: 0.6123 - binary_accuracy: 1.0000\n",
      "Epoch 64/100\n",
      "1/1 [==============================] - 0s 5ms/step - loss: 0.6103 - binary_accuracy: 1.0000\n",
      "Epoch 65/100\n",
      "1/1 [==============================] - 0s 12ms/step - loss: 0.6083 - binary_accuracy: 1.0000\n",
      "Epoch 66/100\n",
      "1/1 [==============================] - 0s 8ms/step - loss: 0.6063 - binary_accuracy: 1.0000\n",
      "Epoch 67/100\n",
      "1/1 [==============================] - 0s 6ms/step - loss: 0.6042 - binary_accuracy: 1.0000\n",
      "Epoch 68/100\n",
      "1/1 [==============================] - 0s 12ms/step - loss: 0.6022 - binary_accuracy: 1.0000\n",
      "Epoch 69/100\n",
      "1/1 [==============================] - 0s 5ms/step - loss: 0.6002 - binary_accuracy: 1.0000\n",
      "Epoch 70/100\n",
      "1/1 [==============================] - 0s 6ms/step - loss: 0.5980 - binary_accuracy: 1.0000\n",
      "Epoch 71/100\n",
      "1/1 [==============================] - 0s 6ms/step - loss: 0.5958 - binary_accuracy: 1.0000\n",
      "Epoch 72/100\n",
      "1/1 [==============================] - 0s 8ms/step - loss: 0.5937 - binary_accuracy: 1.0000\n",
      "Epoch 73/100\n",
      "1/1 [==============================] - 0s 5ms/step - loss: 0.5916 - binary_accuracy: 1.0000\n",
      "Epoch 74/100\n",
      "1/1 [==============================] - 0s 5ms/step - loss: 0.5896 - binary_accuracy: 1.0000\n",
      "Epoch 75/100\n",
      "1/1 [==============================] - 0s 5ms/step - loss: 0.5875 - binary_accuracy: 1.0000\n",
      "Epoch 76/100\n",
      "1/1 [==============================] - 0s 5ms/step - loss: 0.5855 - binary_accuracy: 1.0000\n",
      "Epoch 77/100\n",
      "1/1 [==============================] - 0s 6ms/step - loss: 0.5833 - binary_accuracy: 1.0000\n",
      "Epoch 78/100\n",
      "1/1 [==============================] - 0s 5ms/step - loss: 0.5812 - binary_accuracy: 1.0000\n",
      "Epoch 79/100\n"
     ]
    },
    {
     "name": "stdout",
     "output_type": "stream",
     "text": [
      "1/1 [==============================] - 0s 6ms/step - loss: 0.5791 - binary_accuracy: 1.0000\n",
      "Epoch 80/100\n",
      "1/1 [==============================] - 0s 6ms/step - loss: 0.5770 - binary_accuracy: 1.0000\n",
      "Epoch 81/100\n",
      "1/1 [==============================] - 0s 7ms/step - loss: 0.5748 - binary_accuracy: 1.0000\n",
      "Epoch 82/100\n",
      "1/1 [==============================] - 0s 7ms/step - loss: 0.5726 - binary_accuracy: 1.0000\n",
      "Epoch 83/100\n",
      "1/1 [==============================] - 0s 6ms/step - loss: 0.5703 - binary_accuracy: 1.0000\n",
      "Epoch 84/100\n",
      "1/1 [==============================] - 0s 5ms/step - loss: 0.5681 - binary_accuracy: 1.0000\n",
      "Epoch 85/100\n",
      "1/1 [==============================] - 0s 5ms/step - loss: 0.5657 - binary_accuracy: 1.0000\n",
      "Epoch 86/100\n",
      "1/1 [==============================] - 0s 6ms/step - loss: 0.5634 - binary_accuracy: 1.0000\n",
      "Epoch 87/100\n",
      "1/1 [==============================] - 0s 6ms/step - loss: 0.5611 - binary_accuracy: 1.0000\n",
      "Epoch 88/100\n",
      "1/1 [==============================] - 0s 8ms/step - loss: 0.5587 - binary_accuracy: 1.0000\n",
      "Epoch 89/100\n",
      "1/1 [==============================] - 0s 5ms/step - loss: 0.5564 - binary_accuracy: 1.0000\n",
      "Epoch 90/100\n",
      "1/1 [==============================] - 0s 7ms/step - loss: 0.5542 - binary_accuracy: 1.0000\n",
      "Epoch 91/100\n",
      "1/1 [==============================] - 0s 5ms/step - loss: 0.5518 - binary_accuracy: 1.0000\n",
      "Epoch 92/100\n",
      "1/1 [==============================] - 0s 6ms/step - loss: 0.5494 - binary_accuracy: 1.0000\n",
      "Epoch 93/100\n",
      "1/1 [==============================] - 0s 6ms/step - loss: 0.5468 - binary_accuracy: 1.0000\n",
      "Epoch 94/100\n",
      "1/1 [==============================] - 0s 5ms/step - loss: 0.5443 - binary_accuracy: 1.0000\n",
      "Epoch 95/100\n",
      "1/1 [==============================] - 0s 5ms/step - loss: 0.5417 - binary_accuracy: 1.0000\n",
      "Epoch 96/100\n",
      "1/1 [==============================] - 0s 5ms/step - loss: 0.5391 - binary_accuracy: 1.0000\n",
      "Epoch 97/100\n",
      "1/1 [==============================] - 0s 6ms/step - loss: 0.5365 - binary_accuracy: 1.0000\n",
      "Epoch 98/100\n",
      "1/1 [==============================] - 0s 7ms/step - loss: 0.5339 - binary_accuracy: 1.0000\n",
      "Epoch 99/100\n",
      "1/1 [==============================] - 0s 6ms/step - loss: 0.5313 - binary_accuracy: 1.0000\n",
      "Epoch 100/100\n",
      "1/1 [==============================] - 0s 7ms/step - loss: 0.5287 - binary_accuracy: 1.0000\n"
     ]
    }
   ],
   "source": [
    "# 4. 학습\n",
    "hist = model.fit(x=x_data, y=y_data,\n",
    "                 epochs = 100,\n",
    "                 verbose = 1\n",
    "                )"
   ]
  },
  {
   "cell_type": "code",
   "execution_count": 13,
   "id": "dbbc1df0",
   "metadata": {
    "ExecuteTime": {
     "end_time": "2024-12-17T00:50:55.123000Z",
     "start_time": "2024-12-17T00:50:55.118041Z"
    }
   },
   "outputs": [
    {
     "data": {
      "text/plain": [
       "dict_keys(['loss', 'binary_accuracy'])"
      ]
     },
     "execution_count": 13,
     "metadata": {},
     "output_type": "execute_result"
    }
   ],
   "source": [
    "# 5. 학습과정 보기 및 평가\n",
    "hist.history.keys()"
   ]
  },
  {
   "cell_type": "code",
   "execution_count": 29,
   "id": "7875bf47",
   "metadata": {
    "ExecuteTime": {
     "end_time": "2024-12-17T00:59:41.111063Z",
     "start_time": "2024-12-17T00:59:40.867310Z"
    }
   },
   "outputs": [
    {
     "data": {
      "image/png": "[encoded data removed]",
      "text/plain": [
       "<Figure size 1000x500 with 2 Axes>"
      ]
     },
     "metadata": {},
     "output_type": "display_data"
    }
   ],
   "source": [
    "fig, loss_ax = plt.subplots(figsize = (10,5))\n",
    "loss_ax.plot(hist.history['loss'], 'b', label='loss')\n",
    "acc_ax = loss_ax.twinx() # loss_ax와 x축을 공유하는 acc_ax\n",
    "acc_ax.plot(hist.history['binary_accuracy'], 'r', label='binary_accuracy')\n",
    "loss_ax.set_xlabel('epoch')\n",
    "loss_ax.set_ylabel('loss')\n",
    "acc_ax.set_ylabel('accuracy')\n",
    "loss_ax.legend(bbox_to_anchor=(1.07, 1), loc=2, borderaxespad=0.)\n",
    "acc_ax.legend(bbox_to_anchor=(1.07, 1.07), loc=2, borderaxespad=0.)\n",
    "plt.show()"
   ]
  },
  {
   "cell_type": "code",
   "execution_count": 31,
   "id": "eefd9083",
   "metadata": {
    "ExecuteTime": {
     "end_time": "2024-12-17T01:01:37.063270Z",
     "start_time": "2024-12-17T01:01:36.965741Z"
    }
   },
   "outputs": [
    {
     "name": "stdout",
     "output_type": "stream",
     "text": [
      "1/1 [==============================] - 0s 49ms/step - loss: 0.5260 - binary_accuracy: 1.0000\n",
      "loss : 0.5259815454483032\n",
      "accuracy : 1.0\n"
     ]
    }
   ],
   "source": [
    "# 모델 평가하기\n",
    "score = model.evaluate(x_data, y_data)\n",
    "print('loss :', score[0])\n",
    "print('accuracy :', score[1])"
   ]
  },
  {
   "cell_type": "code",
   "execution_count": 41,
   "id": "bcfa5860",
   "metadata": {
    "ExecuteTime": {
     "end_time": "2024-12-17T01:03:23.318438Z",
     "start_time": "2024-12-17T01:03:23.233873Z"
    }
   },
   "outputs": [
    {
     "name": "stdout",
     "output_type": "stream",
     "text": [
      "1/1 [==============================] - 0s 35ms/step\n"
     ]
    },
    {
     "data": {
      "text/plain": [
       "1"
      ]
     },
     "execution_count": 41,
     "metadata": {},
     "output_type": "execute_result"
    }
   ],
   "source": [
    "# 예측\n",
    "int(model.predict(np.array([[0,1]])).round())"
   ]
  },
  {
   "cell_type": "code",
   "execution_count": 55,
   "id": "cfea381a",
   "metadata": {
    "ExecuteTime": {
     "end_time": "2024-12-17T01:38:46.514964Z",
     "start_time": "2024-12-17T01:38:34.381486Z"
    }
   },
   "outputs": [
    {
     "name": "stdout",
     "output_type": "stream",
     "text": [
      "스페이스로 분리해서 0 또는 1을 2개 입력(한개만 입력하면 종료됩니다)0    1     1\n",
      "1/1 [==============================] - 0s 97ms/step\n",
      "1\n",
      "스페이스로 분리해서 0 또는 1을 2개 입력(한개만 입력하면 종료됩니다)0    0    1\n",
      "1/1 [==============================] - 0s 50ms/step\n",
      "0\n",
      "스페이스로 분리해서 0 또는 1을 2개 입력(한개만 입력하면 종료됩니다)6\n",
      "프로그램을 종료합니다\n"
     ]
    }
   ],
   "source": [
    "# 독립변수 2개(0 0, 0 1, 1 0, 1 1)를 입력받아 예측값을 출력(종료는 수를 1개만 입력할 때)\n",
    "while True:\n",
    "    input_num = input('스페이스로 분리해서 0 또는 1을 2개 입력(한개만 입력하면 종료됩니다)')\n",
    "    input_num_arr = input_num.strip().split()\n",
    "    input_nums = list(map(lambda x : int(x), input_num_arr))\n",
    "    if len(input_nums)<2:\n",
    "        print('프로그램을 종료합니다')\n",
    "        break\n",
    "    elif all(x in [0,1] for x in input_nums):\n",
    "        input_data = np.array(input_nums[:2]).reshape(-1, 2)\n",
    "        print('입력값 :', input_data)\n",
    "        print('예측값 :',int(model.predict([input_data]).round()))\n",
    "    else:\n",
    "        print('0과 1중에서 입력해주세요')"
   ]
  },
  {
   "cell_type": "markdown",
   "id": "d603b953",
   "metadata": {},
   "source": [
    "# 2. AND"
   ]
  },
  {
   "cell_type": "code",
   "execution_count": 94,
   "id": "38835df4",
   "metadata": {
    "ExecuteTime": {
     "end_time": "2024-12-17T02:10:47.095196Z",
     "start_time": "2024-12-17T02:10:47.049160Z"
    }
   },
   "outputs": [
    {
     "name": "stdout",
     "output_type": "stream",
     "text": [
      "Model: \"sequential_7\"\n",
      "_________________________________________________________________\n",
      " Layer (type)                Output Shape              Param #   \n",
      "=================================================================\n",
      " dense_22 (Dense)            (None, 10)                30        \n",
      "                                                                 \n",
      " dense_23 (Dense)            (None, 20)                220       \n",
      "                                                                 \n",
      " dense_24 (Dense)            (None, 1)                 21        \n",
      "                                                                 \n",
      "=================================================================\n",
      "Total params: 271\n",
      "Trainable params: 271\n",
      "Non-trainable params: 0\n",
      "_________________________________________________________________\n",
      "None\n"
     ]
    }
   ],
   "source": [
    "# 1. dataset\n",
    "x_data = np.array([[0,0],[0,1],[1,0],[1,1]])\n",
    "y_data = np.array([[0],[0],[0],[1]])\n",
    "\n",
    "# 2. 모델 구성\n",
    "model = Sequential()\n",
    "\n",
    "model.add(Input(shape=2, dtype=tf.float32))\n",
    "model.add(Dense(units=10, input_dim=2, activation='relu'))\n",
    "model.add(Dense(units=20, activation='relu'))\n",
    "model.add(Dense(units=1, activation='sigmoid'))\n",
    "\n",
    "print(model.summary())"
   ]
  },
  {
   "cell_type": "code",
   "execution_count": 95,
   "id": "07e8441e",
   "metadata": {
    "ExecuteTime": {
     "end_time": "2024-12-17T02:10:47.650015Z",
     "start_time": "2024-12-17T02:10:47.640174Z"
    }
   },
   "outputs": [],
   "source": [
    "# 3. 모델학습과정 설정(이진분류)\n",
    "model.compile(loss='binary_crossentropy', optimizer='adam', metrics=['binary_accuracy'])"
   ]
  },
  {
   "cell_type": "code",
   "execution_count": 96,
   "id": "d020599c",
   "metadata": {
    "ExecuteTime": {
     "end_time": "2024-12-17T02:10:49.886768Z",
     "start_time": "2024-12-17T02:10:48.440952Z"
    },
    "scrolled": true
   },
   "outputs": [
    {
     "name": "stdout",
     "output_type": "stream",
     "text": [
      "Epoch 1/100\n",
      "1/1 [==============================] - 0s 415ms/step - loss: 0.6876 - binary_accuracy: 0.5000\n",
      "Epoch 2/100\n",
      "1/1 [==============================] - 0s 6ms/step - loss: 0.6854 - binary_accuracy: 0.5000\n",
      "Epoch 3/100\n",
      "1/1 [==============================] - 0s 9ms/step - loss: 0.6831 - binary_accuracy: 0.5000\n",
      "Epoch 4/100\n",
      "1/1 [==============================] - 0s 9ms/step - loss: 0.6808 - binary_accuracy: 0.5000\n",
      "Epoch 5/100\n",
      "1/1 [==============================] - 0s 10ms/step - loss: 0.6785 - binary_accuracy: 0.5000\n",
      "Epoch 6/100\n",
      "1/1 [==============================] - 0s 7ms/step - loss: 0.6763 - binary_accuracy: 0.5000\n",
      "Epoch 7/100\n",
      "1/1 [==============================] - 0s 9ms/step - loss: 0.6740 - binary_accuracy: 0.5000\n",
      "Epoch 8/100\n",
      "1/1 [==============================] - 0s 8ms/step - loss: 0.6718 - binary_accuracy: 0.5000\n",
      "Epoch 9/100\n",
      "1/1 [==============================] - 0s 7ms/step - loss: 0.6695 - binary_accuracy: 0.5000\n",
      "Epoch 10/100\n",
      "1/1 [==============================] - 0s 6ms/step - loss: 0.6673 - binary_accuracy: 0.5000\n",
      "Epoch 11/100\n",
      "1/1 [==============================] - 0s 8ms/step - loss: 0.6650 - binary_accuracy: 0.5000\n",
      "Epoch 12/100\n",
      "1/1 [==============================] - 0s 5ms/step - loss: 0.6628 - binary_accuracy: 0.5000\n",
      "Epoch 13/100\n",
      "1/1 [==============================] - 0s 7ms/step - loss: 0.6605 - binary_accuracy: 0.5000\n",
      "Epoch 14/100\n",
      "1/1 [==============================] - 0s 8ms/step - loss: 0.6585 - binary_accuracy: 0.7500\n",
      "Epoch 15/100\n",
      "1/1 [==============================] - 0s 6ms/step - loss: 0.6564 - binary_accuracy: 0.7500\n",
      "Epoch 16/100\n",
      "1/1 [==============================] - 0s 6ms/step - loss: 0.6543 - binary_accuracy: 0.7500\n",
      "Epoch 17/100\n",
      "1/1 [==============================] - 0s 5ms/step - loss: 0.6522 - binary_accuracy: 0.7500\n",
      "Epoch 18/100\n",
      "1/1 [==============================] - 0s 9ms/step - loss: 0.6501 - binary_accuracy: 0.7500\n",
      "Epoch 19/100\n",
      "1/1 [==============================] - 0s 3ms/step - loss: 0.6480 - binary_accuracy: 0.7500\n",
      "Epoch 20/100\n",
      "1/1 [==============================] - 0s 6ms/step - loss: 0.6459 - binary_accuracy: 0.7500\n",
      "Epoch 21/100\n",
      "1/1 [==============================] - 0s 8ms/step - loss: 0.6438 - binary_accuracy: 0.7500\n",
      "Epoch 22/100\n",
      "1/1 [==============================] - 0s 5ms/step - loss: 0.6417 - binary_accuracy: 0.7500\n",
      "Epoch 23/100\n",
      "1/1 [==============================] - 0s 6ms/step - loss: 0.6397 - binary_accuracy: 0.7500\n",
      "Epoch 24/100\n",
      "1/1 [==============================] - 0s 5ms/step - loss: 0.6376 - binary_accuracy: 0.7500\n",
      "Epoch 25/100\n",
      "1/1 [==============================] - 0s 7ms/step - loss: 0.6356 - binary_accuracy: 0.7500\n",
      "Epoch 26/100\n",
      "1/1 [==============================] - 0s 4ms/step - loss: 0.6336 - binary_accuracy: 0.7500\n",
      "Epoch 27/100\n",
      "1/1 [==============================] - 0s 6ms/step - loss: 0.6316 - binary_accuracy: 0.7500\n",
      "Epoch 28/100\n",
      "1/1 [==============================] - 0s 6ms/step - loss: 0.6296 - binary_accuracy: 0.7500\n",
      "Epoch 29/100\n",
      "1/1 [==============================] - 0s 5ms/step - loss: 0.6276 - binary_accuracy: 0.7500\n",
      "Epoch 30/100\n",
      "1/1 [==============================] - 0s 6ms/step - loss: 0.6256 - binary_accuracy: 0.7500\n",
      "Epoch 31/100\n",
      "1/1 [==============================] - 0s 5ms/step - loss: 0.6236 - binary_accuracy: 0.7500\n",
      "Epoch 32/100\n",
      "1/1 [==============================] - 0s 7ms/step - loss: 0.6216 - binary_accuracy: 0.7500\n",
      "Epoch 33/100\n",
      "1/1 [==============================] - 0s 5ms/step - loss: 0.6196 - binary_accuracy: 0.7500\n",
      "Epoch 34/100\n",
      "1/1 [==============================] - 0s 7ms/step - loss: 0.6177 - binary_accuracy: 0.7500\n",
      "Epoch 35/100\n",
      "1/1 [==============================] - 0s 5ms/step - loss: 0.6157 - binary_accuracy: 0.7500\n",
      "Epoch 36/100\n",
      "1/1 [==============================] - 0s 6ms/step - loss: 0.6138 - binary_accuracy: 1.0000\n",
      "Epoch 37/100\n",
      "1/1 [==============================] - 0s 6ms/step - loss: 0.6118 - binary_accuracy: 1.0000\n",
      "Epoch 38/100\n",
      "1/1 [==============================] - 0s 8ms/step - loss: 0.6098 - binary_accuracy: 1.0000\n",
      "Epoch 39/100\n",
      "1/1 [==============================] - 0s 7ms/step - loss: 0.6078 - binary_accuracy: 1.0000\n",
      "Epoch 40/100\n",
      "1/1 [==============================] - 0s 6ms/step - loss: 0.6058 - binary_accuracy: 1.0000\n",
      "Epoch 41/100\n",
      "1/1 [==============================] - 0s 7ms/step - loss: 0.6039 - binary_accuracy: 1.0000\n",
      "Epoch 42/100\n",
      "1/1 [==============================] - 0s 4ms/step - loss: 0.6019 - binary_accuracy: 1.0000\n",
      "Epoch 43/100\n",
      "1/1 [==============================] - 0s 7ms/step - loss: 0.5998 - binary_accuracy: 1.0000\n",
      "Epoch 44/100\n",
      "1/1 [==============================] - 0s 5ms/step - loss: 0.5978 - binary_accuracy: 1.0000\n",
      "Epoch 45/100\n",
      "1/1 [==============================] - 0s 7ms/step - loss: 0.5958 - binary_accuracy: 1.0000\n",
      "Epoch 46/100\n",
      "1/1 [==============================] - 0s 4ms/step - loss: 0.5939 - binary_accuracy: 1.0000\n",
      "Epoch 47/100\n",
      "1/1 [==============================] - 0s 8ms/step - loss: 0.5920 - binary_accuracy: 1.0000\n",
      "Epoch 48/100\n",
      "1/1 [==============================] - 0s 6ms/step - loss: 0.5900 - binary_accuracy: 1.0000\n",
      "Epoch 49/100\n",
      "1/1 [==============================] - 0s 5ms/step - loss: 0.5879 - binary_accuracy: 1.0000\n",
      "Epoch 50/100\n",
      "1/1 [==============================] - 0s 5ms/step - loss: 0.5859 - binary_accuracy: 1.0000\n",
      "Epoch 51/100\n",
      "1/1 [==============================] - 0s 6ms/step - loss: 0.5839 - binary_accuracy: 1.0000\n",
      "Epoch 52/100\n",
      "1/1 [==============================] - 0s 7ms/step - loss: 0.5820 - binary_accuracy: 1.0000\n",
      "Epoch 53/100\n",
      "1/1 [==============================] - 0s 5ms/step - loss: 0.5800 - binary_accuracy: 1.0000\n",
      "Epoch 54/100\n",
      "1/1 [==============================] - 0s 9ms/step - loss: 0.5780 - binary_accuracy: 1.0000\n",
      "Epoch 55/100\n",
      "1/1 [==============================] - 0s 7ms/step - loss: 0.5761 - binary_accuracy: 1.0000\n",
      "Epoch 56/100\n",
      "1/1 [==============================] - 0s 5ms/step - loss: 0.5742 - binary_accuracy: 1.0000\n",
      "Epoch 57/100\n",
      "1/1 [==============================] - 0s 8ms/step - loss: 0.5722 - binary_accuracy: 1.0000\n",
      "Epoch 58/100\n",
      "1/1 [==============================] - 0s 5ms/step - loss: 0.5702 - binary_accuracy: 1.0000\n",
      "Epoch 59/100\n",
      "1/1 [==============================] - 0s 6ms/step - loss: 0.5682 - binary_accuracy: 1.0000\n",
      "Epoch 60/100\n",
      "1/1 [==============================] - 0s 5ms/step - loss: 0.5661 - binary_accuracy: 1.0000\n",
      "Epoch 61/100\n",
      "1/1 [==============================] - 0s 8ms/step - loss: 0.5641 - binary_accuracy: 1.0000\n",
      "Epoch 62/100\n",
      "1/1 [==============================] - 0s 6ms/step - loss: 0.5620 - binary_accuracy: 1.0000\n",
      "Epoch 63/100\n",
      "1/1 [==============================] - 0s 5ms/step - loss: 0.5600 - binary_accuracy: 1.0000\n",
      "Epoch 64/100\n",
      "1/1 [==============================] - 0s 7ms/step - loss: 0.5580 - binary_accuracy: 1.0000\n",
      "Epoch 65/100\n",
      "1/1 [==============================] - 0s 5ms/step - loss: 0.5559 - binary_accuracy: 1.0000\n",
      "Epoch 66/100\n",
      "1/1 [==============================] - 0s 7ms/step - loss: 0.5539 - binary_accuracy: 1.0000\n",
      "Epoch 67/100\n",
      "1/1 [==============================] - 0s 5ms/step - loss: 0.5518 - binary_accuracy: 1.0000\n",
      "Epoch 68/100\n",
      "1/1 [==============================] - 0s 16ms/step - loss: 0.5497 - binary_accuracy: 1.0000\n",
      "Epoch 69/100\n",
      "1/1 [==============================] - 0s 6ms/step - loss: 0.5476 - binary_accuracy: 1.0000\n",
      "Epoch 70/100\n",
      "1/1 [==============================] - 0s 5ms/step - loss: 0.5456 - binary_accuracy: 1.0000\n",
      "Epoch 71/100\n",
      "1/1 [==============================] - 0s 4ms/step - loss: 0.5435 - binary_accuracy: 1.0000\n",
      "Epoch 72/100\n",
      "1/1 [==============================] - 0s 7ms/step - loss: 0.5414 - binary_accuracy: 1.0000\n",
      "Epoch 73/100\n",
      "1/1 [==============================] - 0s 4ms/step - loss: 0.5393 - binary_accuracy: 1.0000\n",
      "Epoch 74/100\n",
      "1/1 [==============================] - 0s 7ms/step - loss: 0.5371 - binary_accuracy: 1.0000\n",
      "Epoch 75/100\n",
      "1/1 [==============================] - 0s 5ms/step - loss: 0.5350 - binary_accuracy: 1.0000\n",
      "Epoch 76/100\n",
      "1/1 [==============================] - 0s 6ms/step - loss: 0.5329 - binary_accuracy: 1.0000\n",
      "Epoch 77/100\n",
      "1/1 [==============================] - 0s 5ms/step - loss: 0.5308 - binary_accuracy: 1.0000\n",
      "Epoch 78/100\n",
      "1/1 [==============================] - 0s 6ms/step - loss: 0.5288 - binary_accuracy: 1.0000\n",
      "Epoch 79/100\n"
     ]
    },
    {
     "name": "stdout",
     "output_type": "stream",
     "text": [
      "1/1 [==============================] - 0s 7ms/step - loss: 0.5267 - binary_accuracy: 1.0000\n",
      "Epoch 80/100\n",
      "1/1 [==============================] - 0s 6ms/step - loss: 0.5247 - binary_accuracy: 1.0000\n",
      "Epoch 81/100\n",
      "1/1 [==============================] - 0s 7ms/step - loss: 0.5226 - binary_accuracy: 1.0000\n",
      "Epoch 82/100\n",
      "1/1 [==============================] - 0s 5ms/step - loss: 0.5205 - binary_accuracy: 1.0000\n",
      "Epoch 83/100\n",
      "1/1 [==============================] - 0s 8ms/step - loss: 0.5183 - binary_accuracy: 1.0000\n",
      "Epoch 84/100\n",
      "1/1 [==============================] - 0s 5ms/step - loss: 0.5162 - binary_accuracy: 1.0000\n",
      "Epoch 85/100\n",
      "1/1 [==============================] - 0s 5ms/step - loss: 0.5142 - binary_accuracy: 1.0000\n",
      "Epoch 86/100\n",
      "1/1 [==============================] - 0s 5ms/step - loss: 0.5121 - binary_accuracy: 1.0000\n",
      "Epoch 87/100\n",
      "1/1 [==============================] - 0s 6ms/step - loss: 0.5101 - binary_accuracy: 1.0000\n",
      "Epoch 88/100\n",
      "1/1 [==============================] - 0s 8ms/step - loss: 0.5080 - binary_accuracy: 1.0000\n",
      "Epoch 89/100\n",
      "1/1 [==============================] - 0s 6ms/step - loss: 0.5059 - binary_accuracy: 1.0000\n",
      "Epoch 90/100\n",
      "1/1 [==============================] - 0s 8ms/step - loss: 0.5038 - binary_accuracy: 1.0000\n",
      "Epoch 91/100\n",
      "1/1 [==============================] - 0s 6ms/step - loss: 0.5016 - binary_accuracy: 1.0000\n",
      "Epoch 92/100\n",
      "1/1 [==============================] - 0s 6ms/step - loss: 0.4994 - binary_accuracy: 1.0000\n",
      "Epoch 93/100\n",
      "1/1 [==============================] - 0s 10ms/step - loss: 0.4972 - binary_accuracy: 1.0000\n",
      "Epoch 94/100\n",
      "1/1 [==============================] - 0s 7ms/step - loss: 0.4951 - binary_accuracy: 1.0000\n",
      "Epoch 95/100\n",
      "1/1 [==============================] - 0s 5ms/step - loss: 0.4930 - binary_accuracy: 1.0000\n",
      "Epoch 96/100\n",
      "1/1 [==============================] - 0s 8ms/step - loss: 0.4907 - binary_accuracy: 1.0000\n",
      "Epoch 97/100\n",
      "1/1 [==============================] - 0s 4ms/step - loss: 0.4884 - binary_accuracy: 1.0000\n",
      "Epoch 98/100\n",
      "1/1 [==============================] - 0s 5ms/step - loss: 0.4862 - binary_accuracy: 1.0000\n",
      "Epoch 99/100\n",
      "1/1 [==============================] - 0s 8ms/step - loss: 0.4840 - binary_accuracy: 1.0000\n",
      "Epoch 100/100\n",
      "1/1 [==============================] - 0s 6ms/step - loss: 0.4817 - binary_accuracy: 1.0000\n"
     ]
    }
   ],
   "source": [
    "# 4. 학습\n",
    "hist = model.fit(x_data, y_data,\n",
    "                 epochs=100,\n",
    "                 verbose=1\n",
    "                )"
   ]
  },
  {
   "cell_type": "code",
   "execution_count": 97,
   "id": "07625691",
   "metadata": {
    "ExecuteTime": {
     "end_time": "2024-12-17T02:10:50.823248Z",
     "start_time": "2024-12-17T02:10:50.817256Z"
    },
    "scrolled": true
   },
   "outputs": [
    {
     "data": {
      "text/plain": [
       "{'loss': [0.6875954866409302,\n",
       "  0.6854215860366821,\n",
       "  0.6830822229385376,\n",
       "  0.6807852983474731,\n",
       "  0.6785193085670471,\n",
       "  0.6762552261352539,\n",
       "  0.6740099787712097,\n",
       "  0.6717681288719177,\n",
       "  0.6695260405540466,\n",
       "  0.6672834753990173,\n",
       "  0.6650398969650269,\n",
       "  0.6627945899963379,\n",
       "  0.6605468988418579,\n",
       "  0.658477783203125,\n",
       "  0.6563831567764282,\n",
       "  0.6542880535125732,\n",
       "  0.6521885991096497,\n",
       "  0.6500879526138306,\n",
       "  0.647994875907898,\n",
       "  0.6458983421325684,\n",
       "  0.643796980381012,\n",
       "  0.6417068839073181,\n",
       "  0.6396543979644775,\n",
       "  0.6376335620880127,\n",
       "  0.6356183290481567,\n",
       "  0.6336091756820679,\n",
       "  0.6315993070602417,\n",
       "  0.6295901536941528,\n",
       "  0.6275840997695923,\n",
       "  0.6255816221237183,\n",
       "  0.6235764622688293,\n",
       "  0.621584415435791,\n",
       "  0.6196327209472656,\n",
       "  0.6176828742027283,\n",
       "  0.6157179474830627,\n",
       "  0.6137518286705017,\n",
       "  0.6117802858352661,\n",
       "  0.6098014116287231,\n",
       "  0.6078159809112549,\n",
       "  0.6058294773101807,\n",
       "  0.6038516759872437,\n",
       "  0.601860523223877,\n",
       "  0.5998332500457764,\n",
       "  0.5977983474731445,\n",
       "  0.5958260297775269,\n",
       "  0.5939362049102783,\n",
       "  0.5919784307479858,\n",
       "  0.5899698138237,\n",
       "  0.587902307510376,\n",
       "  0.5858962535858154,\n",
       "  0.5839129686355591,\n",
       "  0.5819673538208008,\n",
       "  0.5799891352653503,\n",
       "  0.5779935717582703,\n",
       "  0.5760654211044312,\n",
       "  0.5741695761680603,\n",
       "  0.572175145149231,\n",
       "  0.5701574087142944,\n",
       "  0.5681691765785217,\n",
       "  0.566146969795227,\n",
       "  0.5641024112701416,\n",
       "  0.5620243549346924,\n",
       "  0.560004472732544,\n",
       "  0.5579698085784912,\n",
       "  0.5559074282646179,\n",
       "  0.5538791418075562,\n",
       "  0.5518319606781006,\n",
       "  0.5497196316719055,\n",
       "  0.5476304292678833,\n",
       "  0.5456008911132812,\n",
       "  0.543541669845581,\n",
       "  0.5414266586303711,\n",
       "  0.5392528176307678,\n",
       "  0.5371475219726562,\n",
       "  0.5350110530853271,\n",
       "  0.532886266708374,\n",
       "  0.5308279395103455,\n",
       "  0.5287748575210571,\n",
       "  0.5267145037651062,\n",
       "  0.5246778130531311,\n",
       "  0.5226026177406311,\n",
       "  0.520483136177063,\n",
       "  0.5183331966400146,\n",
       "  0.5162386894226074,\n",
       "  0.5141685009002686,\n",
       "  0.5121491551399231,\n",
       "  0.5100815296173096,\n",
       "  0.508009672164917,\n",
       "  0.5059021711349487,\n",
       "  0.5037709474563599,\n",
       "  0.5016046762466431,\n",
       "  0.4993937313556671,\n",
       "  0.49718794226646423,\n",
       "  0.4950709342956543,\n",
       "  0.49296343326568604,\n",
       "  0.49074167013168335,\n",
       "  0.4884418845176697,\n",
       "  0.4862157106399536,\n",
       "  0.4839613735675812,\n",
       "  0.48170003294944763],\n",
       " 'binary_accuracy': [0.5,\n",
       "  0.5,\n",
       "  0.5,\n",
       "  0.5,\n",
       "  0.5,\n",
       "  0.5,\n",
       "  0.5,\n",
       "  0.5,\n",
       "  0.5,\n",
       "  0.5,\n",
       "  0.5,\n",
       "  0.5,\n",
       "  0.5,\n",
       "  0.75,\n",
       "  0.75,\n",
       "  0.75,\n",
       "  0.75,\n",
       "  0.75,\n",
       "  0.75,\n",
       "  0.75,\n",
       "  0.75,\n",
       "  0.75,\n",
       "  0.75,\n",
       "  0.75,\n",
       "  0.75,\n",
       "  0.75,\n",
       "  0.75,\n",
       "  0.75,\n",
       "  0.75,\n",
       "  0.75,\n",
       "  0.75,\n",
       "  0.75,\n",
       "  0.75,\n",
       "  0.75,\n",
       "  0.75,\n",
       "  1.0,\n",
       "  1.0,\n",
       "  1.0,\n",
       "  1.0,\n",
       "  1.0,\n",
       "  1.0,\n",
       "  1.0,\n",
       "  1.0,\n",
       "  1.0,\n",
       "  1.0,\n",
       "  1.0,\n",
       "  1.0,\n",
       "  1.0,\n",
       "  1.0,\n",
       "  1.0,\n",
       "  1.0,\n",
       "  1.0,\n",
       "  1.0,\n",
       "  1.0,\n",
       "  1.0,\n",
       "  1.0,\n",
       "  1.0,\n",
       "  1.0,\n",
       "  1.0,\n",
       "  1.0,\n",
       "  1.0,\n",
       "  1.0,\n",
       "  1.0,\n",
       "  1.0,\n",
       "  1.0,\n",
       "  1.0,\n",
       "  1.0,\n",
       "  1.0,\n",
       "  1.0,\n",
       "  1.0,\n",
       "  1.0,\n",
       "  1.0,\n",
       "  1.0,\n",
       "  1.0,\n",
       "  1.0,\n",
       "  1.0,\n",
       "  1.0,\n",
       "  1.0,\n",
       "  1.0,\n",
       "  1.0,\n",
       "  1.0,\n",
       "  1.0,\n",
       "  1.0,\n",
       "  1.0,\n",
       "  1.0,\n",
       "  1.0,\n",
       "  1.0,\n",
       "  1.0,\n",
       "  1.0,\n",
       "  1.0,\n",
       "  1.0,\n",
       "  1.0,\n",
       "  1.0,\n",
       "  1.0,\n",
       "  1.0,\n",
       "  1.0,\n",
       "  1.0,\n",
       "  1.0,\n",
       "  1.0,\n",
       "  1.0]}"
      ]
     },
     "execution_count": 97,
     "metadata": {},
     "output_type": "execute_result"
    }
   ],
   "source": [
    "hist.history"
   ]
  },
  {
   "cell_type": "code",
   "execution_count": 99,
   "id": "7a0a888b",
   "metadata": {
    "ExecuteTime": {
     "end_time": "2024-12-17T02:10:56.493766Z",
     "start_time": "2024-12-17T02:10:56.388406Z"
    }
   },
   "outputs": [
    {
     "name": "stdout",
     "output_type": "stream",
     "text": [
      "1/1 [==============================] - 0s 65ms/step - loss: 0.4794 - binary_accuracy: 1.0000\n",
      "loss : 0.4793718755245209\n",
      "accuracy : 1.0\n"
     ]
    }
   ],
   "source": [
    "# 5. 학습과정 살펴보기 및 평가\n",
    "score = model.evaluate(x_data, y_data)\n",
    "print('loss :', score[0])\n",
    "print('accuracy :', score[1])"
   ]
  },
  {
   "cell_type": "code",
   "execution_count": 100,
   "id": "61c81542",
   "metadata": {
    "ExecuteTime": {
     "end_time": "2024-12-17T02:10:59.091553Z",
     "start_time": "2024-12-17T02:10:58.884108Z"
    }
   },
   "outputs": [
    {
     "data": {
      "image/png": "[encoded data removed]",
      "text/plain": [
       "<Figure size 1000x500 with 2 Axes>"
      ]
     },
     "metadata": {},
     "output_type": "display_data"
    }
   ],
   "source": [
    "fig, loss_ax = plt.subplots(figsize=(10,5))\n",
    "loss_ax.plot(hist.history['loss'], 'b', label = 'loss')\n",
    "acc_ax = loss_ax.twinx()\n",
    "acc_ax.plot(hist.history['binary_accuracy'], 'r', label = 'binary_accuracy')\n",
    "loss_ax.set_xlabel('epoch')\n",
    "loss_ax.set_ylabel('loss')\n",
    "acc_ax.set_ylabel('binary_accuracy')\n",
    "loss_ax.legend(bbox_to_anchor=(1.05, 1), loc=2, borderaxespad=0.)\n",
    "acc_ax.legend(bbox_to_anchor=(1.05, 1.07), loc=2, borderaxespad=0.)\n",
    "plt.show()"
   ]
  },
  {
   "cell_type": "code",
   "execution_count": 102,
   "id": "a508517a",
   "metadata": {
    "ExecuteTime": {
     "end_time": "2024-12-17T02:11:04.616701Z",
     "start_time": "2024-12-17T02:11:04.508827Z"
    }
   },
   "outputs": [
    {
     "name": "stdout",
     "output_type": "stream",
     "text": [
      "1/1 [==============================] - 0s 64ms/step\n"
     ]
    },
    {
     "data": {
      "text/plain": [
       "0"
      ]
     },
     "execution_count": 102,
     "metadata": {},
     "output_type": "execute_result"
    }
   ],
   "source": [
    "# 6. 예측하기 : np.array([[0, 1]])를 예측하기\n",
    "int(model.predict(np.array([[0, 1]])) > 0.5)"
   ]
  }
 ],
 "metadata": {
  "kernelspec": {
   "display_name": "Python 3 (ipykernel)",
   "language": "python",
   "name": "python3"
  },
  "language_info": {
   "codemirror_mode": {
    "name": "ipython",
    "version": 3
   },
   "file_extension": ".py",
   "mimetype": "text/x-python",
   "name": "python",
   "nbconvert_exporter": "python",
   "pygments_lexer": "ipython3",
   "version": "3.10.9"
  },
  "toc": {
   "base_numbering": 1,
   "nav_menu": {},
   "number_sections": true,
   "sideBar": true,
   "skip_h1_title": false,
   "title_cell": "Table of Contents",
   "title_sidebar": "Contents",
   "toc_cell": false,
   "toc_position": {
    "height": "calc(100% - 180px)",
    "left": "10px",
    "top": "150px",
    "width": "199px"
   },
   "toc_section_display": true,
   "toc_window_display": true
  }
 },
 "nbformat": 4,
 "nbformat_minor": 5
}
