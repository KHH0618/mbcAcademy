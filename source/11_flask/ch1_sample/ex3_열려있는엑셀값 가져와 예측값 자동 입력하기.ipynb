{
 "cells": [
  {
   "cell_type": "code",
   "execution_count": 4,
   "id": "72f86c69",
   "metadata": {
    "ExecuteTime": {
     "end_time": "2025-01-06T02:58:13.920392Z",
     "start_time": "2025-01-06T02:58:13.916401Z"
    }
   },
   "outputs": [],
   "source": [
    "import joblib\n",
    "import xlwings as xw"
   ]
  },
  {
   "cell_type": "code",
   "execution_count": 7,
   "id": "b0a0d26e",
   "metadata": {
    "ExecuteTime": {
     "end_time": "2025-01-06T02:58:58.924391Z",
     "start_time": "2025-01-06T02:58:58.372908Z"
    }
   },
   "outputs": [],
   "source": [
    "wb = xw.books.active\n",
    "ws = wb.sheets.active\n",
    "\n",
    "loaded_model = joblib.load('../model/ex1_apt_price_regression.plk')"
   ]
  },
  {
   "cell_type": "code",
   "execution_count": 8,
   "id": "c265768a",
   "metadata": {
    "ExecuteTime": {
     "end_time": "2025-01-06T02:59:08.768777Z",
     "start_time": "2025-01-06T02:59:08.748189Z"
    }
   },
   "outputs": [
    {
     "data": {
      "text/plain": [
       "2010.0"
      ]
     },
     "execution_count": 8,
     "metadata": {},
     "output_type": "execute_result"
    }
   ],
   "source": [
    "ws.range('B2').value"
   ]
  },
  {
   "cell_type": "code",
   "execution_count": 17,
   "id": "c089eb22",
   "metadata": {
    "ExecuteTime": {
     "end_time": "2025-01-06T03:07:17.532376Z",
     "start_time": "2025-01-06T03:07:17.527253Z"
    }
   },
   "outputs": [],
   "source": [
    "def pred_price(line):\n",
    "    year = ws.range('B'+str(line)).value\n",
    "    square = ws.range('C'+str(line)).value\n",
    "    floor = ws.range('D'+str(line)).value\n",
    "    pred = loaded_model.predict([1, year, square, floor])\n",
    "    print(year, square, floor, pred)\n",
    "    ws.range('E'+str(line)).value = pred"
   ]
  },
  {
   "cell_type": "code",
   "execution_count": 18,
   "id": "e0027d72",
   "metadata": {
    "ExecuteTime": {
     "end_time": "2025-01-06T03:07:19.593948Z",
     "start_time": "2025-01-06T03:07:19.391201Z"
    }
   },
   "outputs": [
    {
     "name": "stdout",
     "output_type": "stream",
     "text": [
      "2010.0 84.0 8.0 [112812.78080928]\n",
      "2012.0 120.0 5.0 [145127.13305044]\n",
      "2024.0 120.0 10.0 [178526.19402373]\n"
     ]
    }
   ],
   "source": [
    "for i in range(2,5):\n",
    "    pred_price(i)"
   ]
  },
  {
   "cell_type": "code",
   "execution_count": null,
   "id": "fdfeff46",
   "metadata": {},
   "outputs": [],
   "source": []
  },
  {
   "cell_type": "code",
   "execution_count": null,
   "id": "12db1e62",
   "metadata": {},
   "outputs": [],
   "source": []
  },
  {
   "cell_type": "code",
   "execution_count": null,
   "id": "c00553c1",
   "metadata": {},
   "outputs": [],
   "source": []
  },
  {
   "cell_type": "code",
   "execution_count": null,
   "id": "2cc30178",
   "metadata": {},
   "outputs": [],
   "source": []
  },
  {
   "cell_type": "code",
   "execution_count": null,
   "id": "b1356405",
   "metadata": {},
   "outputs": [],
   "source": []
  },
  {
   "cell_type": "code",
   "execution_count": null,
   "id": "679f211d",
   "metadata": {},
   "outputs": [],
   "source": []
  }
 ],
 "metadata": {
  "kernelspec": {
   "display_name": "Python 3 (ipykernel)",
   "language": "python",
   "name": "python3"
  },
  "language_info": {
   "codemirror_mode": {
    "name": "ipython",
    "version": 3
   },
   "file_extension": ".py",
   "mimetype": "text/x-python",
   "name": "python",
   "nbconvert_exporter": "python",
   "pygments_lexer": "ipython3",
   "version": "3.10.9"
  },
  "toc": {
   "base_numbering": 1,
   "nav_menu": {},
   "number_sections": true,
   "sideBar": true,
   "skip_h1_title": false,
   "title_cell": "Table of Contents",
   "title_sidebar": "Contents",
   "toc_cell": false,
   "toc_position": {},
   "toc_section_display": true,
   "toc_window_display": false
  }
 },
 "nbformat": 4,
 "nbformat_minor": 5
}
