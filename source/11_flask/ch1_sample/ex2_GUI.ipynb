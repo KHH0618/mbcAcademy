{
 "cells": [
  {
   "cell_type": "markdown",
   "id": "23e8c8a2",
   "metadata": {},
   "source": [
    "- 모델 load하여, 입력된 값으로 예측한 집값 출력(GUI창에서)"
   ]
  },
  {
   "cell_type": "code",
   "execution_count": 1,
   "id": "01fec344",
   "metadata": {
    "ExecuteTime": {
     "end_time": "2025-01-06T02:03:23.482192Z",
     "start_time": "2025-01-06T02:03:23.303511Z"
    }
   },
   "outputs": [],
   "source": [
    "import joblib # 모델load\n",
    "import tkinter as tk # GUI (그래픽 사용자 인터페이스 창을 띄우기 위함)"
   ]
  },
  {
   "cell_type": "code",
   "execution_count": 2,
   "id": "08a132e8",
   "metadata": {
    "ExecuteTime": {
     "end_time": "2025-01-06T02:08:36.800967Z",
     "start_time": "2025-01-06T02:08:35.985118Z"
    }
   },
   "outputs": [],
   "source": [
    "loaded_model = joblib.load('../model/ex1_apt_price_regression.plk')"
   ]
  },
  {
   "cell_type": "code",
   "execution_count": null,
   "id": "5411f66d",
   "metadata": {},
   "outputs": [],
   "source": []
  },
  {
   "cell_type": "code",
   "execution_count": 35,
   "id": "779a2776",
   "metadata": {
    "ExecuteTime": {
     "end_time": "2025-01-06T02:46:37.369530Z",
     "start_time": "2025-01-06T02:46:37.288765Z"
    }
   },
   "outputs": [
    {
     "data": {
      "text/plain": [
       "'1924558196096on_submit'"
      ]
     },
     "execution_count": 35,
     "metadata": {},
     "output_type": "execute_result"
    }
   ],
   "source": [
    "def on_submit(event=None):\n",
    "    '입력된 건축년도, 정용면적, 층을 받아 -> 예측값을 pred_label 출력'\n",
    "#     print('test')\n",
    "    year = int(year_entry.get())\n",
    "    square = int(square_entry.get())\n",
    "    floor = int(floor_entry.get())\n",
    "    print(year, square, floor)\n",
    "    pred = loaded_model.predict([1,year, square, floor])\n",
    "    print('예상금액 : {}원 입니다'.format(format(round(pred[0]*10000),',')))\n",
    "    pred_label.configure(text='예상금액 : {}원 입니다'.format(format(round(pred[0]*10000),',')))\n",
    "root = tk.Tk()\n",
    "root.geometry('300x250')\n",
    "\n",
    "year_label = tk.Label(root, text = 'Year : ')\n",
    "year_label.pack()\n",
    "year_entry = tk.Entry(root)\n",
    "year_entry.pack(pady = 5)\n",
    "\n",
    "square_label = tk.Label(root, text = '전용면적(제곱미터) : ')\n",
    "square_label.pack()\n",
    "square_entry = tk.Entry(root)\n",
    "square_entry.pack(pady = 5)\n",
    "\n",
    "floor_label = tk.Label(root, text = '층수 : ')\n",
    "floor_label.pack()\n",
    "floor_entry = tk.Entry(root)\n",
    "floor_entry.pack(pady = 5)\n",
    "\n",
    "submit_button = tk.Button(root, text='예측', command=on_submit)\n",
    "submit_button.pack(pady=15)\n",
    "\n",
    "pred_label = tk.Label(root, text='예측 금액 출력 예정')\n",
    "pred_label.pack(pady=10)\n",
    "\n",
    "year_entry.focus_set() # GUI 창이 포커싱되면 자동 year_entry에 포커싱\n",
    "root.bind('<Return>', on_submit)"
   ]
  },
  {
   "cell_type": "code",
   "execution_count": 36,
   "id": "61230bec",
   "metadata": {
    "ExecuteTime": {
     "end_time": "2025-01-06T02:46:43.503672Z",
     "start_time": "2025-01-06T02:46:38.296801Z"
    }
   },
   "outputs": [
    {
     "name": "stdout",
     "output_type": "stream",
     "text": [
      "2222 22 22\n",
      "예상금액 : 4,902,201,818원 입니다\n"
     ]
    }
   ],
   "source": [
    "root.mainloop()"
   ]
  },
  {
   "cell_type": "code",
   "execution_count": null,
   "id": "3ba3e45f",
   "metadata": {},
   "outputs": [],
   "source": []
  },
  {
   "cell_type": "code",
   "execution_count": null,
   "id": "9dce57f0",
   "metadata": {},
   "outputs": [],
   "source": []
  },
  {
   "cell_type": "code",
   "execution_count": null,
   "id": "4dee7abc",
   "metadata": {},
   "outputs": [],
   "source": []
  },
  {
   "cell_type": "code",
   "execution_count": null,
   "id": "044e54b9",
   "metadata": {},
   "outputs": [],
   "source": []
  },
  {
   "cell_type": "code",
   "execution_count": null,
   "id": "dd315f01",
   "metadata": {},
   "outputs": [],
   "source": []
  },
  {
   "cell_type": "code",
   "execution_count": null,
   "id": "02a69aa0",
   "metadata": {},
   "outputs": [],
   "source": []
  },
  {
   "cell_type": "code",
   "execution_count": null,
   "id": "07b5071a",
   "metadata": {},
   "outputs": [],
   "source": []
  },
  {
   "cell_type": "code",
   "execution_count": null,
   "id": "07518ac5",
   "metadata": {},
   "outputs": [],
   "source": []
  }
 ],
 "metadata": {
  "kernelspec": {
   "display_name": "Python 3 (ipykernel)",
   "language": "python",
   "name": "python3"
  },
  "language_info": {
   "codemirror_mode": {
    "name": "ipython",
    "version": 3
   },
   "file_extension": ".py",
   "mimetype": "text/x-python",
   "name": "python",
   "nbconvert_exporter": "python",
   "pygments_lexer": "ipython3",
   "version": "3.10.9"
  },
  "toc": {
   "base_numbering": 1,
   "nav_menu": {},
   "number_sections": true,
   "sideBar": true,
   "skip_h1_title": false,
   "title_cell": "Table of Contents",
   "title_sidebar": "Contents",
   "toc_cell": false,
   "toc_position": {
    "height": "calc(100% - 180px)",
    "left": "10px",
    "top": "150px",
    "width": "305px"
   },
   "toc_section_display": true,
   "toc_window_display": true
  }
 },
 "nbformat": 4,
 "nbformat_minor": 5
}
