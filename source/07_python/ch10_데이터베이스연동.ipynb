{
 "cells": [
  {
   "cell_type": "markdown",
   "id": "20b91f42",
   "metadata": {},
   "source": [
    "<b><font color=\"red\" size=\"6\">ch10. 데이터베이스 연동</font></b>"
   ]
  },
  {
   "cell_type": "markdown",
   "id": "834d63da",
   "metadata": {},
   "source": [
    "# 1절. SQLite 데이터 베이스 연결\n",
    "- SQLite 데이터 베이스는 별도의 DBMS없이 SQL을 이용하여 DB 엑세스 할 수 있도록 만든 간단한 디스크 기반의 DB제공\n",
    "- C 라이브러리\n",
    "- SQLite는 프로토타입을 만들 때 사용\n",
    "- [DB browser for SQLite](https://sqlitebrowser.org/dl/)\n",
    "## 1.1 SQLite broswer 설치 및 sqlite3 패키지 load"
   ]
  },
  {
   "cell_type": "code",
   "execution_count": 1,
   "id": "52ab66fd",
   "metadata": {
    "ExecuteTime": {
     "end_time": "2024-11-20T05:45:50.308112Z",
     "start_time": "2024-11-20T05:45:50.300134Z"
    }
   },
   "outputs": [
    {
     "data": {
      "text/plain": [
       "'3.40.1'"
      ]
     },
     "execution_count": 1,
     "metadata": {},
     "output_type": "execute_result"
    }
   ],
   "source": [
    "import sqlite3\n",
    "sqlite3.sqlite_version # sqlite3 패키지의 버전"
   ]
  },
  {
   "cell_type": "code",
   "execution_count": 2,
   "id": "9ff46789",
   "metadata": {
    "ExecuteTime": {
     "end_time": "2024-11-20T05:45:51.850929Z",
     "start_time": "2024-11-20T05:45:51.427913Z"
    }
   },
   "outputs": [
    {
     "data": {
      "text/plain": [
       "'1.5.3'"
      ]
     },
     "execution_count": 2,
     "metadata": {},
     "output_type": "execute_result"
    }
   ],
   "source": [
    "import pandas as pd\n",
    "pd.__version__"
   ]
  },
  {
   "cell_type": "code",
   "execution_count": 3,
   "id": "089038ce",
   "metadata": {
    "ExecuteTime": {
     "end_time": "2024-11-20T05:45:52.354639Z",
     "start_time": "2024-11-20T05:45:52.348656Z"
    }
   },
   "outputs": [
    {
     "data": {
      "text/plain": [
       "'1.23.5'"
      ]
     },
     "execution_count": 3,
     "metadata": {},
     "output_type": "execute_result"
    }
   ],
   "source": [
    "import numpy as np\n",
    "np.__version__"
   ]
  },
  {
   "cell_type": "markdown",
   "id": "b972fbf1",
   "metadata": {},
   "source": [
    "## 1.2 데이터베이스 연결\n",
    "- SQLite로 DB 연결시, DB파일이 있으면 연결, DB파일이 없으면 빈 DB 파일 생성"
   ]
  },
  {
   "cell_type": "code",
   "execution_count": 4,
   "id": "dd6067f8",
   "metadata": {
    "ExecuteTime": {
     "end_time": "2024-11-20T05:45:54.209006Z",
     "start_time": "2024-11-20T05:45:54.204018Z"
    },
    "scrolled": true
   },
   "outputs": [
    {
     "data": {
      "text/plain": [
       "<sqlite3.Connection at 0x22c6057c140>"
      ]
     },
     "execution_count": 4,
     "metadata": {},
     "output_type": "execute_result"
    }
   ],
   "source": [
    "# # DB 연결\n",
    "conn = sqlite3.connect('data/ch10_example.db')\n",
    "conn"
   ]
  },
  {
   "cell_type": "code",
   "execution_count": 5,
   "id": "b27700f2",
   "metadata": {
    "ExecuteTime": {
     "end_time": "2024-11-20T05:45:54.784967Z",
     "start_time": "2024-11-20T05:45:54.779980Z"
    }
   },
   "outputs": [
    {
     "data": {
      "text/plain": [
       "<sqlite3.Cursor at 0x22c60549740>"
      ]
     },
     "execution_count": 5,
     "metadata": {},
     "output_type": "execute_result"
    }
   ],
   "source": [
    "# 커서 객체 생성 커서는 SQL문 실행시키고, 결과데이터를 조회(select, 그외)하는데 사용하는 객체\n",
    "cursor = conn.cursor()\n",
    "cursor"
   ]
  },
  {
   "cell_type": "code",
   "execution_count": 14,
   "id": "a2623339",
   "metadata": {
    "ExecuteTime": {
     "end_time": "2024-11-20T05:24:38.764281Z",
     "start_time": "2024-11-20T05:24:38.749335Z"
    }
   },
   "outputs": [
    {
     "ename": "ProgrammingError",
     "evalue": "Cannot operate on a closed cursor.",
     "output_type": "error",
     "traceback": [
      "\u001b[1;31m---------------------------------------------------------------------------\u001b[0m",
      "\u001b[1;31mProgrammingError\u001b[0m                          Traceback (most recent call last)",
      "Cell \u001b[1;32mIn[14], line 1\u001b[0m\n\u001b[1;32m----> 1\u001b[0m \u001b[43mcursor\u001b[49m\u001b[38;5;241;43m.\u001b[39;49m\u001b[43mexecute\u001b[49m\u001b[43m(\u001b[49m\u001b[38;5;124;43m'\u001b[39;49m\u001b[38;5;124;43mDROP TABLE MEMBER\u001b[39;49m\u001b[38;5;124;43m'\u001b[39;49m\u001b[43m)\u001b[49m\n",
      "\u001b[1;31mProgrammingError\u001b[0m: Cannot operate on a closed cursor."
     ]
    }
   ],
   "source": [
    "cursor.execute('DROP TABLE MEMBER')"
   ]
  },
  {
   "cell_type": "code",
   "execution_count": 12,
   "id": "64f5597c",
   "metadata": {
    "ExecuteTime": {
     "end_time": "2024-11-20T02:18:55.637199Z",
     "start_time": "2024-11-20T02:18:55.552838Z"
    }
   },
   "outputs": [
    {
     "data": {
      "text/plain": [
       "<sqlite3.Cursor at 0x19a80b6dec0>"
      ]
     },
     "execution_count": 12,
     "metadata": {},
     "output_type": "execute_result"
    }
   ],
   "source": [
    "cursor.execute('''\n",
    "    CREATE TABLE MEMBER(\n",
    "        NAME TEXT,\n",
    "        AGE INT,\n",
    "        EMAIL TEXT\n",
    "    )\n",
    "''')"
   ]
  },
  {
   "cell_type": "code",
   "execution_count": 14,
   "id": "dbad8546",
   "metadata": {
    "ExecuteTime": {
     "end_time": "2024-11-20T02:38:33.834423Z",
     "start_time": "2024-11-20T02:38:33.828440Z"
    },
    "scrolled": true
   },
   "outputs": [
    {
     "name": "stdout",
     "output_type": "stream",
     "text": [
      "수행결과 행수 : 1\n",
      "수행결과 행수 : 1\n",
      "수행결과 행수 : 1\n"
     ]
    }
   ],
   "source": [
    "cursor.execute(\"\"\"\n",
    "    INSERT INTO MEMBER VALUES ('홍길동', 20, 'h@h.com')\n",
    "\"\"\")\n",
    "print('수행결과 행수 :', cursor.rowcount)\n",
    "sql = \"INSERT INTO MEMBER VALUES ('신길동', 25, 's@s.com')\"\n",
    "cursor.execute(sql)\n",
    "print('수행결과 행수 :', cursor.rowcount)\n",
    "sql = \"INSERT INTO MEMBER VALUES ('김길동', 30, 'k@k.com')\"\n",
    "cursor.execute(sql)\n",
    "print('수행결과 행수 :', cursor.rowcount)"
   ]
  },
  {
   "cell_type": "code",
   "execution_count": 15,
   "id": "1daee021",
   "metadata": {
    "ExecuteTime": {
     "end_time": "2024-11-20T02:39:38.939529Z",
     "start_time": "2024-11-20T02:39:38.868374Z"
    }
   },
   "outputs": [],
   "source": [
    "conn.commit() # 반대 : conn.rollback() DML문에서만 commit"
   ]
  },
  {
   "cell_type": "code",
   "execution_count": 19,
   "id": "cf16c164",
   "metadata": {
    "ExecuteTime": {
     "end_time": "2024-11-20T02:51:00.432805Z",
     "start_time": "2024-11-20T02:51:00.427818Z"
    }
   },
   "outputs": [
    {
     "name": "stdout",
     "output_type": "stream",
     "text": [
      "-1\n"
     ]
    }
   ],
   "source": [
    "cursor.execute(\"\"\"\n",
    "    SELECT * FROM MEMBER ORDER BY NAME\n",
    "\"\"\")"
   ]
  },
  {
   "cell_type": "code",
   "execution_count": 20,
   "id": "37924e2d",
   "metadata": {
    "ExecuteTime": {
     "end_time": "2024-11-20T02:56:20.351694Z",
     "start_time": "2024-11-20T02:56:20.346707Z"
    }
   },
   "outputs": [],
   "source": [
    "# insert, update, delete 문 실행 결과: cursor.rowcount\n",
    "# select문 실행 결과를 받는 함수들\n",
    "    ## fetchone() : 결과를 한행씩 받을 때 (튜플)\n",
    "    ## fetchall() : 결과를 모두 받을 때 (튜플 list)\n",
    "    ## fetchmany(n) : 결과를 n행 받을 때 (튜플 list)"
   ]
  },
  {
   "cell_type": "code",
   "execution_count": 21,
   "id": "cdcbbd2c",
   "metadata": {
    "ExecuteTime": {
     "end_time": "2024-11-20T02:56:41.232778Z",
     "start_time": "2024-11-20T02:56:41.227815Z"
    }
   },
   "outputs": [
    {
     "name": "stdout",
     "output_type": "stream",
     "text": [
      "[('김길동', 30, 'k@k.com'), ('신길동', 25, 's@s.com'), ('홍길동', 20, 'h@h.com'), ('홍길동', 20, 'h@h.com')]\n"
     ]
    }
   ],
   "source": [
    "print(cursor.fetchall())"
   ]
  },
  {
   "cell_type": "code",
   "execution_count": 22,
   "id": "f98b8b5a",
   "metadata": {
    "ExecuteTime": {
     "end_time": "2024-11-20T02:56:56.320171Z",
     "start_time": "2024-11-20T02:56:56.315183Z"
    }
   },
   "outputs": [
    {
     "name": "stdout",
     "output_type": "stream",
     "text": [
      "[]\n"
     ]
    }
   ],
   "source": [
    "print(cursor.fetchall()) # 한번 소요된 cursor 객체는 다시 fetch할 수 없음"
   ]
  },
  {
   "cell_type": "code",
   "execution_count": 11,
   "id": "44b36e7c",
   "metadata": {
    "ExecuteTime": {
     "end_time": "2024-11-20T05:22:12.408153Z",
     "start_time": "2024-11-20T05:22:12.401199Z"
    }
   },
   "outputs": [
    {
     "data": {
      "text/plain": [
       "[('홍길동', 20, 'h@h.com'),\n",
       " ('홍길동', 20, 'h@h.com'),\n",
       " ('신길동', 25, 's@s.com'),\n",
       " ('김길동', 30, 'k@k.com'),\n",
       " ('구길동', 32, 'g@g.com'),\n",
       " ('바보', 999, 'babo@b.com')]"
      ]
     },
     "execution_count": 11,
     "metadata": {},
     "output_type": "execute_result"
    }
   ],
   "source": [
    "cursor.execute(\"SELECT * FROM MEMBER ORDER BY AGE\")\n",
    "members = cursor.fetchall()\n",
    "members # 튜플 리스트"
   ]
  },
  {
   "cell_type": "code",
   "execution_count": 25,
   "id": "d54acfe4",
   "metadata": {
    "ExecuteTime": {
     "end_time": "2024-11-20T02:59:29.727933Z",
     "start_time": "2024-11-20T02:59:29.723916Z"
    }
   },
   "outputs": [
    {
     "name": "stdout",
     "output_type": "stream",
     "text": [
      "('홍길동', 20, 'h@h.com')\n",
      "('홍길동', 20, 'h@h.com')\n",
      "('신길동', 25, 's@s.com')\n",
      "('김길동', 30, 'k@k.com')\n"
     ]
    }
   ],
   "source": [
    "for member in members:\n",
    "    print(member)"
   ]
  },
  {
   "cell_type": "code",
   "execution_count": 28,
   "id": "db01023d",
   "metadata": {
    "ExecuteTime": {
     "end_time": "2024-11-20T03:03:27.527790Z",
     "start_time": "2024-11-20T03:03:27.523790Z"
    }
   },
   "outputs": [
    {
     "name": "stdout",
     "output_type": "stream",
     "text": [
      "{'name': '홍길동', 'age': 20, 'email': 'h@h.com'}\n",
      "{'name': '홍길동', 'age': 20, 'email': 'h@h.com'}\n",
      "{'name': '신길동', 'age': 25, 'email': 's@s.com'}\n",
      "{'name': '김길동', 'age': 30, 'email': 'k@k.com'}\n"
     ]
    }
   ],
   "source": [
    "# 한줄씩 읽기\n",
    "cursor.execute(\"SELECT * FROM MEMBER ORDER BY AGE\")\n",
    "member_list = []\n",
    "while True:\n",
    "    member = cursor.fetchone() # 한줄 SQL문 수행 결과 가져오기\n",
    "    if member is None:\n",
    "        break\n",
    "    member_list.append({'name':member[0], 'age':member[1], 'email':member[2]})\n",
    "\n",
    "for member in member_list:\n",
    "    print(member)"
   ]
  },
  {
   "cell_type": "code",
   "execution_count": 29,
   "id": "380abc60",
   "metadata": {
    "ExecuteTime": {
     "end_time": "2024-11-20T03:06:14.384689Z",
     "start_time": "2024-11-20T03:06:14.379730Z"
    }
   },
   "outputs": [
    {
     "name": "stdout",
     "output_type": "stream",
     "text": [
      "('홍길동', 20, 'h@h.com')\n",
      "('홍길동', 20, 'h@h.com')\n"
     ]
    }
   ],
   "source": [
    "# 최상위 n행 읽기\n",
    "cursor.execute(\"SELECT * FROM MEMBER ORDER BY AGE\")\n",
    "for member in cursor.fetchmany(2):\n",
    "    print(member)"
   ]
  },
  {
   "cell_type": "code",
   "execution_count": 30,
   "id": "adf10250",
   "metadata": {
    "ExecuteTime": {
     "end_time": "2024-11-20T03:19:45.856937Z",
     "start_time": "2024-11-20T03:19:45.850956Z"
    }
   },
   "outputs": [],
   "source": [
    "class Member:\n",
    "    'Member 테이블의 내용을 받을 객체 타입'\n",
    "    def __init__(self, name, age, email):\n",
    "        self.name = name\n",
    "        self.age = age\n",
    "        self.email = email\n",
    "    def __str__(self):\n",
    "        return 'name:{}, age:{}, email:{}'.format(self.name, self.age, self.email)\n",
    "    def as_dic(self): # insert문 전송시 피로요\n",
    "        return {'name':self.name, 'age':self.age, 'email':self.email}\n",
    "def to_member(*row): # 튜플 데이터를 매개변수로 받아 Memeber형 객체로 return\n",
    "    return Member(row[0], row[1], row[2])"
   ]
  },
  {
   "cell_type": "code",
   "execution_count": 33,
   "id": "8ab35e7c",
   "metadata": {
    "ExecuteTime": {
     "end_time": "2024-11-20T03:21:24.008252Z",
     "start_time": "2024-11-20T03:21:24.002296Z"
    }
   },
   "outputs": [
    {
     "name": "stdout",
     "output_type": "stream",
     "text": [
      "name:홍길동, age:20, email:h@h.com\n",
      "{'name': '홍길동', 'age': 20, 'email': 'h@h.com'}\n"
     ]
    }
   ],
   "source": [
    "dbreadmember = ('홍길동', 20, 'h@h.com')\n",
    "m = to_member(*dbreadmember)\n",
    "print(m)\n",
    "print(m.as_dic())"
   ]
  },
  {
   "cell_type": "code",
   "execution_count": 17,
   "id": "786be2b1",
   "metadata": {
    "ExecuteTime": {
     "end_time": "2024-11-20T05:24:57.286241Z",
     "start_time": "2024-11-20T05:24:57.281256Z"
    }
   },
   "outputs": [],
   "source": [
    "# DB 검색 결과를 객체 list로\n",
    "cursor.execute('SELECT * FROM MEMBER ORDER BY AGE DESC')\n",
    "member_list = [] # sql문 수행 결과를 담을 객체 list\n",
    "members = cursor.fetchall() # 튜플 list\n",
    "# print(members)\n",
    "for member in members:\n",
    "    member_list.append(to_member(*member))"
   ]
  },
  {
   "cell_type": "code",
   "execution_count": 18,
   "id": "842c4c0a",
   "metadata": {
    "ExecuteTime": {
     "end_time": "2024-11-20T05:25:01.422760Z",
     "start_time": "2024-11-20T05:25:01.417773Z"
    }
   },
   "outputs": [
    {
     "data": {
      "text/plain": [
       "(tuple, __main__.Member)"
      ]
     },
     "execution_count": 18,
     "metadata": {},
     "output_type": "execute_result"
    }
   ],
   "source": [
    "type(members[0]), type(member_list[0])"
   ]
  },
  {
   "cell_type": "code",
   "execution_count": 37,
   "id": "fe316866",
   "metadata": {
    "ExecuteTime": {
     "end_time": "2024-11-20T03:36:26.913125Z",
     "start_time": "2024-11-20T03:36:26.909167Z"
    }
   },
   "outputs": [
    {
     "name": "stdout",
     "output_type": "stream",
     "text": [
      "name:김길동, age:30, email:k@k.com\n",
      "name:신길동, age:25, email:s@s.com\n",
      "name:홍길동, age:20, email:h@h.com\n",
      "name:홍길동, age:20, email:h@h.com\n"
     ]
    }
   ],
   "source": [
    "for member in member_list:\n",
    "    print(member)"
   ]
  },
  {
   "cell_type": "code",
   "execution_count": 12,
   "id": "1ea6eb20",
   "metadata": {
    "ExecuteTime": {
     "end_time": "2024-11-20T05:23:02.978677Z",
     "start_time": "2024-11-20T05:23:02.973718Z"
    }
   },
   "outputs": [],
   "source": [
    "cursor.close() # cursor.close()는 생략 가능\n",
    "conn.close()"
   ]
  },
  {
   "cell_type": "markdown",
   "id": "638c1cb7",
   "metadata": {},
   "source": [
    "## 1.3 SQL구문에 파라미터 사용하기\n",
    "- qmark(DB에 따라 불가한 경우가 있음)\n",
    "- named(추천)"
   ]
  },
  {
   "cell_type": "code",
   "execution_count": 6,
   "id": "d0330249",
   "metadata": {
    "ExecuteTime": {
     "end_time": "2024-11-20T05:46:00.294983Z",
     "start_time": "2024-11-20T05:46:00.288001Z"
    }
   },
   "outputs": [
    {
     "data": {
      "text/plain": [
       "[('홍길동', 20, 'h@h.com'), ('홍길동', 20, 'h@h.com'), ('신길동', 25, 's@s.com')]"
      ]
     },
     "execution_count": 6,
     "metadata": {},
     "output_type": "execute_result"
    }
   ],
   "source": [
    "conn = sqlite3.connect('data/ch10_example.db')\n",
    "cursor = conn.cursor()\n",
    "cursor.execute(\"SELECT * FROM MEMBER WHERE NAME IN('홍길동', '신길동')\")\n",
    "cursor.fetchall()"
   ]
  },
  {
   "cell_type": "code",
   "execution_count": 7,
   "id": "fe2f0440",
   "metadata": {
    "ExecuteTime": {
     "end_time": "2024-11-20T05:46:03.666826Z",
     "start_time": "2024-11-20T05:46:01.823916Z"
    }
   },
   "outputs": [
    {
     "name": "stdout",
     "output_type": "stream",
     "text": [
      "검색할 이름 1:\n",
      "검색할 이름 2:\n"
     ]
    },
    {
     "data": {
      "text/plain": [
       "[]"
      ]
     },
     "execution_count": 7,
     "metadata": {},
     "output_type": "execute_result"
    }
   ],
   "source": [
    "# 파라미터 사용하기 : qmark 방법 이용\n",
    "name1 = input('검색할 이름 1:')\n",
    "name2 = input('검색할 이름 2:')\n",
    "cursor.execute(\"SELECT * FROM MEMBER WHERE NAME IN(?, ?)\",(name1, name2))\n",
    "cursor.fetchall()"
   ]
  },
  {
   "cell_type": "code",
   "execution_count": 8,
   "id": "ce3faf2e",
   "metadata": {
    "ExecuteTime": {
     "end_time": "2024-11-20T05:46:04.866951Z",
     "start_time": "2024-11-20T05:46:04.033337Z"
    }
   },
   "outputs": [
    {
     "name": "stdout",
     "output_type": "stream",
     "text": [
      "검색할 이름 1:\n",
      "검색할 이름 2:\n"
     ]
    },
    {
     "data": {
      "text/plain": [
       "[]"
      ]
     },
     "execution_count": 8,
     "metadata": {},
     "output_type": "execute_result"
    }
   ],
   "source": [
    "# 파라미터 사용하기 : qmark 방법 이용\n",
    "name1 = input('검색할 이름 1:')\n",
    "name2 = input('검색할 이름 2:')\n",
    "names = [name1, name2]\n",
    "cursor.execute(\"SELECT * FROM MEMBER WHERE NAME IN(?, ?)\",names)\n",
    "cursor.fetchall()"
   ]
  },
  {
   "cell_type": "code",
   "execution_count": 9,
   "id": "f18fb173",
   "metadata": {
    "ExecuteTime": {
     "end_time": "2024-11-20T05:46:05.890376Z",
     "start_time": "2024-11-20T05:46:05.223315Z"
    }
   },
   "outputs": [
    {
     "name": "stdout",
     "output_type": "stream",
     "text": [
      "검색할 이름 >\n",
      "조회하신 이름에 대한 정보가 없습니다\n"
     ]
    }
   ],
   "source": [
    "# 파라미터 사용하기 : named 방법 이용\n",
    "name = input('검색할 이름 >')\n",
    "cursor.execute(\"SELECT * FROM MEMBER WHERE NAME =:name\",{'name':name})\n",
    "members = cursor.fetchall()\n",
    "if len(members):\n",
    "    print(members)\n",
    "else:\n",
    "    print('조회하신 이름에 대한 정보가 없습니다')"
   ]
  },
  {
   "cell_type": "code",
   "execution_count": 10,
   "id": "fd269ff3",
   "metadata": {
    "ExecuteTime": {
     "end_time": "2024-11-20T05:46:07.090348Z",
     "start_time": "2024-11-20T05:46:06.255930Z"
    }
   },
   "outputs": [
    {
     "name": "stdout",
     "output_type": "stream",
     "text": [
      "검색할 이름1 >\n",
      "검색할 이름2 >\n"
     ]
    },
    {
     "data": {
      "text/plain": [
       "[]"
      ]
     },
     "execution_count": 10,
     "metadata": {},
     "output_type": "execute_result"
    }
   ],
   "source": [
    "# 파라미터 사용하기 : named 방법 이용\n",
    "name1 = input('검색할 이름1 >')\n",
    "name2 = input('검색할 이름2 >')\n",
    "names = {'name1':name1, 'name2':name2}\n",
    "cursor.execute(\"SELECT * FROM MEMBER WHERE NAME IN (:name1, :name2)\",names)\n",
    "cursor.fetchall()"
   ]
  },
  {
   "cell_type": "code",
   "execution_count": 11,
   "id": "ac2e37b8",
   "metadata": {
    "ExecuteTime": {
     "end_time": "2024-11-20T05:46:07.485215Z",
     "start_time": "2024-11-20T05:46:07.479229Z"
    }
   },
   "outputs": [],
   "source": [
    "class Member:\n",
    "    'Member 테이블의 내용을 받을 객체 타입'\n",
    "    def __init__(self, name, age, email):\n",
    "        self.name = name\n",
    "        self.age = age\n",
    "        self.email = email\n",
    "    def __str__(self):\n",
    "        return 'name:{}, age:{}, email:{}'.format(self.name, self.age, self.email)\n",
    "    def as_dic(self): # insert문 전송시 피로요\n",
    "        return {'name':self.name, 'age':self.age, 'email':self.email}\n",
    "def to_member(*row): # 튜플 데이터를 매개변수로 받아 Memeber형 객체로 return\n",
    "    return Member(row[0], row[1], row[2])"
   ]
  },
  {
   "cell_type": "code",
   "execution_count": 19,
   "id": "28caa25a",
   "metadata": {
    "ExecuteTime": {
     "end_time": "2024-11-20T05:26:11.982031Z",
     "start_time": "2024-11-20T05:25:59.017414Z"
    }
   },
   "outputs": [
    {
     "name": "stdout",
     "output_type": "stream",
     "text": [
      "입력할 이름 >바보\n",
      "입력할 나이를 정수로 입력하세요 >999\n",
      "입력할 이메일 >babo@b.com\n",
      "입력 성공\n"
     ]
    }
   ],
   "source": [
    "# member 테이블에 입력(사용자로부터 이름, 나이, 메일을 입력받아 insert)\n",
    "while True:\n",
    "    try:\n",
    "        name = input('입력할 이름 >')\n",
    "        age = int(input('입력할 나이를 정수로 입력하세요 >'))\n",
    "        email = input('입력할 이메일 >')\n",
    "        break\n",
    "    except:\n",
    "        print('정보를 정확히 다시 입력해주세요')\n",
    "member_info = {'name':name, 'age':age, 'email':email}\n",
    "cursor.execute(\n",
    "    \"INSERT INTO MEMBER VALUES (:name, :age, :email)\",member_info\n",
    ")\n",
    "conn.commit()\n",
    "if cursor.rowcount == 1:\n",
    "    print('입력 성공')"
   ]
  },
  {
   "cell_type": "code",
   "execution_count": 28,
   "id": "d4e58681",
   "metadata": {
    "ExecuteTime": {
     "end_time": "2024-11-20T06:19:18.539420Z",
     "start_time": "2024-11-20T06:19:18.533408Z"
    }
   },
   "outputs": [
    {
     "data": {
      "text/plain": [
       "[('홍길동', 20, 'h@h.com'),\n",
       " ('홍길동', 20, 'h@h.com'),\n",
       " ('신길동', 25, 's@s.com'),\n",
       " ('김길동', 30, 'k@k.com'),\n",
       " ('바보', 999, 'babo@b.com'),\n",
       " ('멍총이', 22, '총총'),\n",
       " ('0', 0, '0'),\n",
       " ('김찬밥', 52, '0'),\n",
       " ('ㅇ', 2, '0'),\n",
       " ('1.2', 2, '0'),\n",
       " ('2', 2, '0'),\n",
       " ('2', 2, '0'),\n",
       " ('3', 3, '0')]"
      ]
     },
     "execution_count": 28,
     "metadata": {},
     "output_type": "execute_result"
    }
   ],
   "source": [
    "cursor.execute('SELECT * FROM MEMBER')\n",
    "cursor.fetchall()"
   ]
  },
  {
   "cell_type": "code",
   "execution_count": 13,
   "id": "012ac436",
   "metadata": {
    "ExecuteTime": {
     "end_time": "2024-11-20T05:46:24.603566Z",
     "start_time": "2024-11-20T05:46:15.891466Z"
    }
   },
   "outputs": [
    {
     "name": "stdout",
     "output_type": "stream",
     "text": [
      "입력할 이름 >0\n",
      "입력할 나이를 정수로 입력하세요 >0\n",
      "입력할 이메일 >0\n",
      "입력 성공\n"
     ]
    }
   ],
   "source": [
    "# member 테이블에 입력(사용자로부터 이름, 나이, 메일을 입력받아 insert)\n",
    "while True:\n",
    "    try:\n",
    "        name = input('입력할 이름 >')\n",
    "        age = int(input('입력할 나이를 정수로 입력하세요 >'))\n",
    "        email = input('입력할 이메일 >')\n",
    "        break\n",
    "    except:\n",
    "        print('정보를 정확히 다시 입력해주세요')\n",
    "cursor.execute(\n",
    "    \"INSERT INTO MEMBER VALUES (:name, :age, :email)\",Member(name, age, email).as_dic()\n",
    ")\n",
    "conn.commit()\n",
    "if cursor.rowcount == 1:\n",
    "    print('입력 성공')"
   ]
  },
  {
   "cell_type": "code",
   "execution_count": 30,
   "id": "db003088",
   "metadata": {
    "ExecuteTime": {
     "end_time": "2024-11-20T06:20:35.282000Z",
     "start_time": "2024-11-20T06:20:22.670673Z"
    }
   },
   "outputs": [
    {
     "name": "stdout",
     "output_type": "stream",
     "text": [
      "입력할 사용자의 이름을 입력하세요(종료하시려면 0을 입력하세요) > eiod\n",
      "입력할 사용자의 나이을 입력하세요 > 22222\n",
      "입력할 사용자의 이메일을 입력하세요 > ddddd\n",
      "{'name': 'eiod', 'age': 22222, 'email': 'ddddd'} 님의 정보가 저장되었습니다.\n",
      "입력할 사용자의 이름을 입력하세요(종료하시려면 0을 입력하세요) > 0\n",
      "{'name': 'eiod', 'age': 22222, 'email': 'ddddd'} 님의 정보가 저장되었습니다.\n",
      "사용자 1명 입력 완료\n"
     ]
    }
   ],
   "source": [
    "# member 테이블에 데이터를 n번 입력하고\n",
    "# 이름에 0을 입력할 때까지 이름, 나이, 메일을 받아 insert\n",
    "# 이름에 0을 입력하면 이때까지 입력한 데이터들을 출력하고 몇명을 입력했는지도 출력\n",
    "\n",
    "member_list = []\n",
    "while True:\n",
    "    try:\n",
    "        name = input('입력할 사용자의 이름을 입력하세요(종료하시려면 0을 입력하세요) > ')\n",
    "        if name == '0':\n",
    "            break\n",
    "        age = int(input('입력할 사용자의 나이을 입력하세요 > '))\n",
    "        email = input('입력할 사용자의 이메일을 입력하세요 > ')\n",
    "        newMember = Member(name, age, email).as_dic()\n",
    "        member_list.append(newMember)\n",
    "        cursor.execute(\"INSERT INTO MEMBER VALUES (:name, :age, :email)\",newMember)\n",
    "        conn.commit()\n",
    "        print(newMember, '님의 정보가 저장되었습니다.')\n",
    "    except:\n",
    "        print('정보를 정확히 다시 입력해주세요')\n",
    "for member in member_list:\n",
    "    print(newMember, '님의 정보가 저장되었습니다.')\n",
    "print('사용자 {}명 입력 완료'.format(len(member_list)))"
   ]
  },
  {
   "cell_type": "code",
   "execution_count": 31,
   "id": "e2b411d0",
   "metadata": {
    "ExecuteTime": {
     "end_time": "2024-11-20T06:24:56.634862Z",
     "start_time": "2024-11-20T06:24:56.626872Z"
    }
   },
   "outputs": [
    {
     "data": {
      "text/plain": [
       "[('홍길동', 20, 'h@h.com'),\n",
       " ('홍길동', 20, 'h@h.com'),\n",
       " ('신길동', 25, 's@s.com'),\n",
       " ('김길동', 30, 'k@k.com'),\n",
       " ('바보', 999, 'babo@b.com'),\n",
       " ('멍총이', 22, '총총'),\n",
       " ('0', 0, '0'),\n",
       " ('김찬밥', 52, '0'),\n",
       " ('ㅇ', 2, '0'),\n",
       " ('1.2', 2, '0'),\n",
       " ('2', 2, '0'),\n",
       " ('2', 2, '0'),\n",
       " ('3', 3, '0'),\n",
       " ('2', 3, '0'),\n",
       " ('eiod', 22222, 'ddddd')]"
      ]
     },
     "execution_count": 31,
     "metadata": {},
     "output_type": "execute_result"
    }
   ],
   "source": [
    "# 입력확인은 DB browser 나 python으로\n",
    "cursor.execute('SELECT * FROM MEMBER')\n",
    "cursor.fetchall()"
   ]
  },
  {
   "cell_type": "code",
   "execution_count": 32,
   "id": "feda0626",
   "metadata": {
    "ExecuteTime": {
     "end_time": "2024-11-20T06:25:32.394069Z",
     "start_time": "2024-11-20T06:25:32.389111Z"
    }
   },
   "outputs": [],
   "source": [
    "cursor.close()\n",
    "conn.close()"
   ]
  },
  {
   "cell_type": "markdown",
   "id": "d1f96623",
   "metadata": {},
   "source": [
    "# 2절. 오라클 데이터베이스 연결\n",
    "- [cx_Oracle](https://cx-oracle.readthedocs.io/en/latest/) 사용"
   ]
  },
  {
   "cell_type": "code",
   "execution_count": 33,
   "id": "fd6e3d00",
   "metadata": {
    "ExecuteTime": {
     "end_time": "2024-11-20T06:33:46.764196Z",
     "start_time": "2024-11-20T06:33:46.757197Z"
    }
   },
   "outputs": [],
   "source": [
    "import cx_Oracle"
   ]
  },
  {
   "cell_type": "code",
   "execution_count": 40,
   "id": "84973e75",
   "metadata": {
    "ExecuteTime": {
     "end_time": "2024-11-20T06:38:56.570344Z",
     "start_time": "2024-11-20T06:38:56.530306Z"
    }
   },
   "outputs": [
    {
     "name": "stdout",
     "output_type": "stream",
     "text": [
      "(DESCRIPTION=(ADDRESS=(PROTOCOL=TCP)(HOST=localhost)(PORT=1521))(CONNECT_DATA=(SID=xe)))\n"
     ]
    },
    {
     "data": {
      "text/plain": [
       "<cx_Oracle.Connection to dlow123@(DESCRIPTION=(ADDRESS=(PROTOCOL=TCP)(HOST=localhost)(PORT=1521))(CONNECT_DATA=(SID=xe)))>"
      ]
     },
     "execution_count": 40,
     "metadata": {},
     "output_type": "execute_result"
    }
   ],
   "source": [
    "# conn 얻어오는 방법 1\n",
    "oracle_dsn = cx_Oracle.makedsn(host='localhost', port=1521, sid='xe')\n",
    "print(oracle_dsn)\n",
    "conn = cx_Oracle.connect('dlow123', 'tmvjswl', dsn=oracle_dsn)\n",
    "conn"
   ]
  },
  {
   "cell_type": "code",
   "execution_count": 41,
   "id": "0f38d4a0",
   "metadata": {
    "ExecuteTime": {
     "end_time": "2024-11-20T06:40:37.712250Z",
     "start_time": "2024-11-20T06:40:37.704272Z"
    }
   },
   "outputs": [],
   "source": [
    "conn.close()"
   ]
  },
  {
   "cell_type": "code",
   "execution_count": 43,
   "id": "b9fcc3bd",
   "metadata": {
    "ExecuteTime": {
     "end_time": "2024-11-20T06:44:51.343987Z",
     "start_time": "2024-11-20T06:44:51.304138Z"
    }
   },
   "outputs": [],
   "source": [
    "# conn 얻어오는 방법 2\n",
    "conn = cx_Oracle.connect('dlow123','tmvjswl','localhost:1521/xe')"
   ]
  },
  {
   "cell_type": "code",
   "execution_count": 1,
   "id": "c3badc12",
   "metadata": {
    "ExecuteTime": {
     "end_time": "2024-11-21T00:42:31.761186Z",
     "start_time": "2024-11-21T00:42:31.295272Z"
    }
   },
   "outputs": [
    {
     "ename": "NameError",
     "evalue": "name 'conn' is not defined",
     "output_type": "error",
     "traceback": [
      "\u001b[1;31m---------------------------------------------------------------------------\u001b[0m",
      "\u001b[1;31mNameError\u001b[0m                                 Traceback (most recent call last)",
      "Cell \u001b[1;32mIn[1], line 2\u001b[0m\n\u001b[0;32m      1\u001b[0m \u001b[38;5;66;03m#cursor 객체 생성\u001b[39;00m\n\u001b[1;32m----> 2\u001b[0m cursor \u001b[38;5;241m=\u001b[39m \u001b[43mconn\u001b[49m\u001b[38;5;241m.\u001b[39mcursor()\n\u001b[0;32m      3\u001b[0m sql \u001b[38;5;241m=\u001b[39m \u001b[38;5;124m'\u001b[39m\u001b[38;5;124mSELECT * FROM EMP\u001b[39m\u001b[38;5;124m'\u001b[39m\n\u001b[0;32m      4\u001b[0m cursor\u001b[38;5;241m.\u001b[39mexecute(sql)\n",
      "\u001b[1;31mNameError\u001b[0m: name 'conn' is not defined"
     ]
    }
   ],
   "source": [
    "#cursor 객체 생성\n",
    "cursor = conn.cursor()\n",
    "sql = 'SELECT * FROM EMP'\n",
    "cursor.execute(sql)\n",
    "emp = cursor.fetchall()"
   ]
  },
  {
   "cell_type": "code",
   "execution_count": 49,
   "id": "a140d9a7",
   "metadata": {
    "ExecuteTime": {
     "end_time": "2024-11-20T06:49:12.491505Z",
     "start_time": "2024-11-20T06:49:12.487537Z"
    },
    "collapsed": true
   },
   "outputs": [
    {
     "name": "stdout",
     "output_type": "stream",
     "text": [
      "(7369, 'SMITH', 'CLERK', 7902, datetime.datetime(1980, 12, 17, 0, 0), 800.0, None, 20)\n",
      "(7499, 'ALLEN', 'SALESMAN', 7698, datetime.datetime(1981, 2, 20, 0, 0), 1600.0, 300.0, 30)\n",
      "(7521, 'WARD', 'SALESMAN', 7698, datetime.datetime(1981, 2, 22, 0, 0), 1250.0, 500.0, 30)\n",
      "(7566, 'JONES', 'MANAGER', 7839, datetime.datetime(1981, 4, 2, 0, 0), 2975.0, None, 20)\n",
      "(7654, 'MARTIN', 'SALESMAN', 7698, datetime.datetime(1981, 9, 28, 0, 0), 1250.0, 1400.0, 30)\n",
      "(7698, 'BLAKE', 'MANAGER', 7839, datetime.datetime(1981, 5, 1, 0, 0), 2850.0, None, 30)\n",
      "(7782, 'CLARK', 'MANAGER', 7839, datetime.datetime(1981, 6, 9, 0, 0), 2450.0, None, 10)\n",
      "(7788, 'SCOTT', 'ANALYST', 7566, datetime.datetime(1982, 12, 9, 0, 0), 3000.0, None, 20)\n",
      "(7839, 'KING', 'PRESIDENT', None, datetime.datetime(1981, 11, 17, 0, 0), 5000.0, None, 10)\n",
      "(7844, 'TURNER', 'SALESMAN', 7698, datetime.datetime(1981, 9, 8, 0, 0), 1500.0, 0.0, 30)\n",
      "(7876, 'ADAMS', 'CLERK', 7788, datetime.datetime(1983, 1, 12, 0, 0), 1100.0, None, 20)\n",
      "(7900, 'JAMES', 'CLERK', 7698, datetime.datetime(1981, 12, 3, 0, 0), 950.0, None, 30)\n",
      "(7902, 'FORD', 'ANALYST', 7566, datetime.datetime(1981, 12, 3, 0, 0), 3000.0, None, 20)\n",
      "(7934, 'MILLER', 'CLERK', 7782, datetime.datetime(1982, 1, 23, 0, 0), 1300.0, None, 10)\n"
     ]
    }
   ],
   "source": [
    "for e in emp:\n",
    "    print(e)"
   ]
  },
  {
   "cell_type": "code",
   "execution_count": 50,
   "id": "8d475ce8",
   "metadata": {
    "ExecuteTime": {
     "end_time": "2024-11-20T06:50:31.392465Z",
     "start_time": "2024-11-20T06:50:31.380706Z"
    }
   },
   "outputs": [
    {
     "data": {
      "text/html": [
       "<div>\n",
       "<style scoped>\n",
       "    .dataframe tbody tr th:only-of-type {\n",
       "        vertical-align: middle;\n",
       "    }\n",
       "\n",
       "    .dataframe tbody tr th {\n",
       "        vertical-align: top;\n",
       "    }\n",
       "\n",
       "    .dataframe thead th {\n",
       "        text-align: right;\n",
       "    }\n",
       "</style>\n",
       "<table border=\"1\" class=\"dataframe\">\n",
       "  <thead>\n",
       "    <tr style=\"text-align: right;\">\n",
       "      <th></th>\n",
       "      <th>0</th>\n",
       "      <th>1</th>\n",
       "      <th>2</th>\n",
       "      <th>3</th>\n",
       "      <th>4</th>\n",
       "      <th>5</th>\n",
       "      <th>6</th>\n",
       "      <th>7</th>\n",
       "    </tr>\n",
       "  </thead>\n",
       "  <tbody>\n",
       "    <tr>\n",
       "      <th>0</th>\n",
       "      <td>7369</td>\n",
       "      <td>SMITH</td>\n",
       "      <td>CLERK</td>\n",
       "      <td>7902.0</td>\n",
       "      <td>1980-12-17</td>\n",
       "      <td>800.0</td>\n",
       "      <td>NaN</td>\n",
       "      <td>20</td>\n",
       "    </tr>\n",
       "    <tr>\n",
       "      <th>1</th>\n",
       "      <td>7499</td>\n",
       "      <td>ALLEN</td>\n",
       "      <td>SALESMAN</td>\n",
       "      <td>7698.0</td>\n",
       "      <td>1981-02-20</td>\n",
       "      <td>1600.0</td>\n",
       "      <td>300.0</td>\n",
       "      <td>30</td>\n",
       "    </tr>\n",
       "    <tr>\n",
       "      <th>2</th>\n",
       "      <td>7521</td>\n",
       "      <td>WARD</td>\n",
       "      <td>SALESMAN</td>\n",
       "      <td>7698.0</td>\n",
       "      <td>1981-02-22</td>\n",
       "      <td>1250.0</td>\n",
       "      <td>500.0</td>\n",
       "      <td>30</td>\n",
       "    </tr>\n",
       "    <tr>\n",
       "      <th>3</th>\n",
       "      <td>7566</td>\n",
       "      <td>JONES</td>\n",
       "      <td>MANAGER</td>\n",
       "      <td>7839.0</td>\n",
       "      <td>1981-04-02</td>\n",
       "      <td>2975.0</td>\n",
       "      <td>NaN</td>\n",
       "      <td>20</td>\n",
       "    </tr>\n",
       "    <tr>\n",
       "      <th>4</th>\n",
       "      <td>7654</td>\n",
       "      <td>MARTIN</td>\n",
       "      <td>SALESMAN</td>\n",
       "      <td>7698.0</td>\n",
       "      <td>1981-09-28</td>\n",
       "      <td>1250.0</td>\n",
       "      <td>1400.0</td>\n",
       "      <td>30</td>\n",
       "    </tr>\n",
       "  </tbody>\n",
       "</table>\n",
       "</div>"
      ],
      "text/plain": [
       "      0       1         2       3          4       5       6   7\n",
       "0  7369   SMITH     CLERK  7902.0 1980-12-17   800.0     NaN  20\n",
       "1  7499   ALLEN  SALESMAN  7698.0 1981-02-20  1600.0   300.0  30\n",
       "2  7521    WARD  SALESMAN  7698.0 1981-02-22  1250.0   500.0  30\n",
       "3  7566   JONES   MANAGER  7839.0 1981-04-02  2975.0     NaN  20\n",
       "4  7654  MARTIN  SALESMAN  7698.0 1981-09-28  1250.0  1400.0  30"
      ]
     },
     "execution_count": 50,
     "metadata": {},
     "output_type": "execute_result"
    }
   ],
   "source": [
    "import pandas as pd\n",
    "emp_df = pd.DataFrame(emp)\n",
    "emp_df.head()"
   ]
  },
  {
   "cell_type": "code",
   "execution_count": 51,
   "id": "7cca2563",
   "metadata": {
    "ExecuteTime": {
     "end_time": "2024-11-20T06:52:23.469699Z",
     "start_time": "2024-11-20T06:52:23.463730Z"
    }
   },
   "outputs": [
    {
     "data": {
      "text/plain": [
       "[('EMPNO', <cx_Oracle.DbType DB_TYPE_NUMBER>, 5, None, 4, 0, 0),\n",
       " ('ENAME', <cx_Oracle.DbType DB_TYPE_VARCHAR>, 10, 10, None, None, 1),\n",
       " ('JOB', <cx_Oracle.DbType DB_TYPE_VARCHAR>, 9, 9, None, None, 1),\n",
       " ('MGR', <cx_Oracle.DbType DB_TYPE_NUMBER>, 5, None, 4, 0, 1),\n",
       " ('HIREDATE', <cx_Oracle.DbType DB_TYPE_DATE>, 23, None, None, None, 1),\n",
       " ('SAL', <cx_Oracle.DbType DB_TYPE_NUMBER>, 11, None, 7, 2, 1),\n",
       " ('COMM', <cx_Oracle.DbType DB_TYPE_NUMBER>, 11, None, 7, 2, 1),\n",
       " ('DEPTNO', <cx_Oracle.DbType DB_TYPE_NUMBER>, 3, None, 2, 0, 1)]"
      ]
     },
     "execution_count": 51,
     "metadata": {},
     "output_type": "execute_result"
    }
   ],
   "source": [
    "# select 문 수행한 필드 정보\n",
    "cursor.description"
   ]
  },
  {
   "cell_type": "code",
   "execution_count": 53,
   "id": "67d2dbe9",
   "metadata": {
    "ExecuteTime": {
     "end_time": "2024-11-20T06:55:07.165955Z",
     "start_time": "2024-11-20T06:55:07.159971Z"
    }
   },
   "outputs": [
    {
     "data": {
      "text/plain": [
       "['EMPNO', 'ENAME', 'JOB', 'MGR', 'HIREDATE', 'SAL', 'COMM', 'DEPTNO']"
      ]
     },
     "execution_count": 53,
     "metadata": {},
     "output_type": "execute_result"
    }
   ],
   "source": [
    "result = []\n",
    "for f in cursor.description:\n",
    "    result.append(f[0])\n",
    "result"
   ]
  },
  {
   "cell_type": "code",
   "execution_count": 56,
   "id": "e0a4dcfc",
   "metadata": {
    "ExecuteTime": {
     "end_time": "2024-11-20T06:55:51.268851Z",
     "start_time": "2024-11-20T06:55:51.262867Z"
    }
   },
   "outputs": [
    {
     "data": {
      "text/plain": [
       "['EMPNO', 'ENAME', 'JOB', 'MGR', 'HIREDATE', 'SAL', 'COMM', 'DEPTNO']"
      ]
     },
     "execution_count": 56,
     "metadata": {},
     "output_type": "execute_result"
    }
   ],
   "source": [
    "[row[0] for row in cursor.description]"
   ]
  },
  {
   "cell_type": "code",
   "execution_count": 57,
   "id": "165c68df",
   "metadata": {
    "ExecuteTime": {
     "end_time": "2024-11-20T06:56:14.773282Z",
     "start_time": "2024-11-20T06:56:14.767298Z"
    }
   },
   "outputs": [
    {
     "data": {
      "text/plain": [
       "RangeIndex(start=0, stop=8, step=1)"
      ]
     },
     "execution_count": 57,
     "metadata": {},
     "output_type": "execute_result"
    }
   ],
   "source": [
    "emp_df.columns"
   ]
  },
  {
   "cell_type": "code",
   "execution_count": 58,
   "id": "a5fb9107",
   "metadata": {
    "ExecuteTime": {
     "end_time": "2024-11-20T06:57:51.077034Z",
     "start_time": "2024-11-20T06:57:51.064079Z"
    }
   },
   "outputs": [
    {
     "data": {
      "text/html": [
       "<div>\n",
       "<style scoped>\n",
       "    .dataframe tbody tr th:only-of-type {\n",
       "        vertical-align: middle;\n",
       "    }\n",
       "\n",
       "    .dataframe tbody tr th {\n",
       "        vertical-align: top;\n",
       "    }\n",
       "\n",
       "    .dataframe thead th {\n",
       "        text-align: right;\n",
       "    }\n",
       "</style>\n",
       "<table border=\"1\" class=\"dataframe\">\n",
       "  <thead>\n",
       "    <tr style=\"text-align: right;\">\n",
       "      <th></th>\n",
       "      <th>EMPNO</th>\n",
       "      <th>ENAME</th>\n",
       "      <th>JOB</th>\n",
       "      <th>MGR</th>\n",
       "      <th>HIREDATE</th>\n",
       "      <th>SAL</th>\n",
       "      <th>COMM</th>\n",
       "      <th>DEPTNO</th>\n",
       "    </tr>\n",
       "  </thead>\n",
       "  <tbody>\n",
       "    <tr>\n",
       "      <th>0</th>\n",
       "      <td>7369</td>\n",
       "      <td>SMITH</td>\n",
       "      <td>CLERK</td>\n",
       "      <td>7902.0</td>\n",
       "      <td>1980-12-17</td>\n",
       "      <td>800.0</td>\n",
       "      <td>NaN</td>\n",
       "      <td>20</td>\n",
       "    </tr>\n",
       "  </tbody>\n",
       "</table>\n",
       "</div>"
      ],
      "text/plain": [
       "   EMPNO  ENAME    JOB     MGR   HIREDATE    SAL  COMM  DEPTNO\n",
       "0   7369  SMITH  CLERK  7902.0 1980-12-17  800.0   NaN      20"
      ]
     },
     "execution_count": 58,
     "metadata": {},
     "output_type": "execute_result"
    }
   ],
   "source": [
    "emp_df.columns = [row[0] for row in cursor.description]\n",
    "emp_df.sample()"
   ]
  },
  {
   "cell_type": "code",
   "execution_count": 61,
   "id": "6f7dd842",
   "metadata": {
    "ExecuteTime": {
     "end_time": "2024-11-20T07:04:13.020599Z",
     "start_time": "2024-11-20T07:04:10.210771Z"
    }
   },
   "outputs": [
    {
     "name": "stdout",
     "output_type": "stream",
     "text": [
      "검색할 이름:scott\n",
      "(7788, 'SCOTT', 'ANALYST', 7566, datetime.datetime(1982, 12, 9, 0, 0), 3000.0, None, 20)\n"
     ]
    }
   ],
   "source": [
    "# 검색할 이름을 사용자에게 받아 해당 내용을 출력\n",
    "ename = input('검색할 이름:')\n",
    "sql = \"SELECT * FROM EMP WHERE ENAME = UPPER(:name)\"\n",
    "cursor.execute(sql, {'name':ename})\n",
    "emp = cursor.fetchall()\n",
    "if len(emp):\n",
    "    for e in emp:\n",
    "        print(e)\n",
    "else:\n",
    "    print('입력하신 이름의 데이터는 없습니다')"
   ]
  },
  {
   "cell_type": "code",
   "execution_count": 67,
   "id": "9140744e",
   "metadata": {
    "ExecuteTime": {
     "end_time": "2024-11-20T07:20:04.492296Z",
     "start_time": "2024-11-20T07:20:04.485302Z"
    }
   },
   "outputs": [
    {
     "name": "stdout",
     "output_type": "stream",
     "text": [
      "['EMPNO', 'ENAME', 'JOB', 'MGR', 'HIREDATE', 'SAL', 'COMM', 'DEPTNO']\n",
      "(7788, 'SCOTT', 'ANALYST', 7566, datetime.datetime(1982, 12, 9, 0, 0), 3000.0, None, 20)\n",
      "EMPNO:7788\tENAME:SCOTT\tJOB:ANALYST\tMGR:7566\tHIREDATE:1982-12-09 00:00:00\tSAL:3000.0\tCOMM:\tDEPTNO:20\t\n"
     ]
    }
   ],
   "source": [
    "fieldnames = [description[0] for description in cursor.description]\n",
    "print(fieldnames)\n",
    "print(e)\n",
    "for idx in range(len(e)):\n",
    "    print('{}:{}'.format(fieldnames[idx], e[idx] if e[idx] is not None else ''), end='\\t')\n",
    "print()"
   ]
  },
  {
   "cell_type": "code",
   "execution_count": 69,
   "id": "9027bf15",
   "metadata": {
    "ExecuteTime": {
     "end_time": "2024-11-20T07:20:44.890358Z",
     "start_time": "2024-11-20T07:20:44.886363Z"
    }
   },
   "outputs": [
    {
     "name": "stdout",
     "output_type": "stream",
     "text": [
      "EMPNO:7788\n",
      "ENAME:SCOTT\n",
      "JOB:ANALYST\n",
      "MGR:7566\n",
      "HIREDATE:1982-12-09 00:00:00\n",
      "SAL:3000.0\n",
      "COMM:\n",
      "DEPTNO:20\n"
     ]
    }
   ],
   "source": [
    "for fieldname, data in zip(fieldnames, e):\n",
    "    print('{}:{}'.format(fieldname, data if data is not None else ''))"
   ]
  },
  {
   "cell_type": "code",
   "execution_count": 70,
   "id": "66a1d7fb",
   "metadata": {
    "ExecuteTime": {
     "end_time": "2024-11-20T07:22:26.539232Z",
     "start_time": "2024-11-20T07:22:26.533277Z"
    }
   },
   "outputs": [],
   "source": [
    "cursor.close()\n",
    "conn.close()"
   ]
  },
  {
   "cell_type": "markdown",
   "id": "a0134866",
   "metadata": {},
   "source": [
    "# 3절. 연습문제"
   ]
  },
  {
   "cell_type": "code",
   "execution_count": 85,
   "id": "a897da23",
   "metadata": {
    "ExecuteTime": {
     "end_time": "2024-11-20T07:52:07.425634Z",
     "start_time": "2024-11-20T07:52:07.419669Z"
    }
   },
   "outputs": [],
   "source": [
    "class Member:\n",
    "    def __init__(self, name, phone, email, age, grade, etc):\n",
    "        self.name = name\n",
    "        self.phone = phone\n",
    "        self.email = email\n",
    "        self.age = age\n",
    "        self.grade = grade\n",
    "        self.etc = etc\n",
    "    def __str__(self):\n",
    "        return 'name:{}\\nphone:{}\\nemail:{}\\nage:{}\\ngrade:{}\\netc:{}\\n'.format(self.name, self.phone, self.email, self.age, self.grade, self.etc)\n",
    "    def as_dict(self):\n",
    "        return {'name':self.name, 'phone':self.phone, 'email':self.email, 'age':self.age, 'grade':self.grade, 'etc':self.etc}\n",
    "def to_member(*row):\n",
    "    return Member(row[0],row[1],row[2],row[3],row[4],row[5])"
   ]
  },
  {
   "cell_type": "code",
   "execution_count": 73,
   "id": "a612e352",
   "metadata": {
    "ExecuteTime": {
     "end_time": "2024-11-20T07:45:25.102210Z",
     "start_time": "2024-11-20T07:45:25.096198Z"
    }
   },
   "outputs": [],
   "source": [
    "def insert_member():\n",
    "    cursor = conn.cursor()\n",
    "    name = input('등록하실분의 이름을 입력하세요 > ')\n",
    "    phone = input('등록하실분의 전화번호을 입력하세요 > ')\n",
    "    email = input('등록하실분의 이메일을 입력하세요 > ')\n",
    "    while True:\n",
    "        try:\n",
    "            age = int(input('등록하실분의 나이을 정수로 입력하세요 > '))\n",
    "            grade = int(input('등록하실분의 등급을 정수로 입력하세요 > '))\n",
    "            break\n",
    "        except:\n",
    "            print('정수로 다시 입력해주세요')\n",
    "    etc = input('등록하실분의 기타사항을 입력하세요 > ')\n",
    "    cursor.execute('INSERT INTO MEMBER VALUES (:name, :phone, :email, :age, :grade, :etc)', Member(name, phone, email, age, grade, etc).as_dict())\n",
    "    conn.commit()\n",
    "    print('입력 성공!')\n",
    "    cursor.close()"
   ]
  },
  {
   "cell_type": "code",
   "execution_count": 83,
   "id": "474a3ead",
   "metadata": {
    "ExecuteTime": {
     "end_time": "2024-11-20T07:51:30.840368Z",
     "start_time": "2024-11-20T07:51:30.835409Z"
    }
   },
   "outputs": [],
   "source": [
    "def select_all():\n",
    "    cursor = conn.cursor()\n",
    "    cursor.execute('SELECT * FROM MEMBER')\n",
    "    members = cursor.fetchall()\n",
    "    for member in members:\n",
    "        print(to_member(*member))\n",
    "    cursor.close()"
   ]
  },
  {
   "cell_type": "code",
   "execution_count": 88,
   "id": "14900642",
   "metadata": {
    "ExecuteTime": {
     "end_time": "2024-11-20T07:54:34.748429Z",
     "start_time": "2024-11-20T07:54:34.743471Z"
    }
   },
   "outputs": [],
   "source": [
    "def select_name():\n",
    "    cursor = conn.cursor()\n",
    "    name = input('검색하실분의 이름을 작성해 주세요')\n",
    "    cursor.execute('SELECT * FROM MEMBER WHERE NAME = UPPER(:name)',{'name':name})\n",
    "    members = cursor.fetchall()\n",
    "    for member in members:\n",
    "        print(to_member(*member))\n",
    "    cursor.close()"
   ]
  },
  {
   "cell_type": "code",
   "execution_count": 111,
   "id": "a462a5d2",
   "metadata": {
    "ExecuteTime": {
     "end_time": "2024-11-20T08:42:30.045974Z",
     "start_time": "2024-11-20T08:42:30.040986Z"
    }
   },
   "outputs": [],
   "source": [
    "def delete_email():\n",
    "    cursor = conn.cursor()\n",
    "    email = input('삭제하실분의 이메일을 작성해 주세요')\n",
    "    cursor.execute('DELETE FROM MEMBER WHERE EMAIL = :email',{'email':email})\n",
    "    conn.commit()\n",
    "    if cursor.rowcount >= 1:\n",
    "        print('삭제완료되었습니다')\n",
    "    cursor.close()"
   ]
  },
  {
   "cell_type": "code",
   "execution_count": 97,
   "id": "6341585f",
   "metadata": {
    "ExecuteTime": {
     "end_time": "2024-11-20T08:12:01.797366Z",
     "start_time": "2024-11-20T08:12:01.791380Z"
    }
   },
   "outputs": [],
   "source": [
    "def save_csv():\n",
    "    import csv\n",
    "    cursor = conn.cursor()\n",
    "    save_member_list = []\n",
    "    cursor.execute('SELECT * FROM MEMBER')\n",
    "    members = cursor.fetchall()\n",
    "    for member in members:\n",
    "        save_member_list.append(to_member(*member).as_dict())\n",
    "    fieldnames = list(save_member_list[0].keys())\n",
    "    filename = input('저장할 CSV 파일 이름은 ?')\n",
    "    try :\n",
    "        with open('data/{}.csv'.format(filename), 'w', newline='', encoding='UTF-8') as f:\n",
    "            dict_writer = csv.DictWriter(f, fieldnames=fieldnames)\n",
    "            dict_writer.writeheader()\n",
    "            dict_writer.writerows(save_member_list)\n",
    "    except Exception as e:\n",
    "        print('데이터 내보내기 예외 :', e)\n",
    "    cursor.close()"
   ]
  },
  {
   "cell_type": "code",
   "execution_count": 103,
   "id": "e0775319",
   "metadata": {
    "ExecuteTime": {
     "end_time": "2024-11-20T08:14:37.098299Z",
     "start_time": "2024-11-20T08:14:37.094309Z"
    }
   },
   "outputs": [],
   "source": [
    "def close_sql():\n",
    "    conn.close()\n",
    "    print('프로그램이 종료되었습니다')"
   ]
  },
  {
   "cell_type": "code",
   "execution_count": 101,
   "id": "e6874dce",
   "metadata": {
    "ExecuteTime": {
     "end_time": "2024-11-20T08:13:58.572219Z",
     "start_time": "2024-11-20T08:13:58.566236Z"
    }
   },
   "outputs": [],
   "source": [
    "def main():\n",
    "    while True:\n",
    "        print(\"1.입력\", \"2.전체 조회\", \"3.이름 찾기\", \"4.메일 삭제\", \"5.CSV 내보내기\", \"0.종료\",sep=\" | \")\n",
    "        try:\n",
    "            menu = int(input(\"메뉴 선택: \"))\n",
    "        except:\n",
    "            print(\"유효하지 않은 값을 입력하였습니다. 다시 선택해주세요.\")\n",
    "        if menu==1:\n",
    "            insert_member()\n",
    "        elif menu==2:\n",
    "            select_all()\n",
    "        elif menu==3:\n",
    "            select_name()\n",
    "        elif menu==4:\n",
    "            delete_email()\n",
    "        elif menu==5:\n",
    "            save_csv()\n",
    "        elif menu==0:\n",
    "            close_sql()\n",
    "            break"
   ]
  },
  {
   "cell_type": "code",
   "execution_count": 110,
   "id": "f0d556bd",
   "metadata": {
    "ExecuteTime": {
     "end_time": "2024-11-20T08:18:11.586828Z",
     "start_time": "2024-11-20T08:17:56.037594Z"
    }
   },
   "outputs": [
    {
     "name": "stdout",
     "output_type": "stream",
     "text": [
      "1.입력 | 2.전체 조회 | 3.이름 찾기 | 4.메일 삭제 | 5.CSV 내보내기 | 0.종료\n",
      "메뉴 선택: 4\n",
      "삭제하실분의 이메일을 작성해 주세요k@k.com\n",
      "삭제완료되었습니다\n",
      "1.입력 | 2.전체 조회 | 3.이름 찾기 | 4.메일 삭제 | 5.CSV 내보내기 | 0.종료\n",
      "메뉴 선택: 2\n",
      "name:홍길동\n",
      "phone:010-9999-9999\n",
      "email:h@h.com\n",
      "age:20\n",
      "grade:3\n",
      "etc:바보\n",
      "\n",
      "1.입력 | 2.전체 조회 | 3.이름 찾기 | 4.메일 삭제 | 5.CSV 내보내기 | 0.종료\n",
      "메뉴 선택: 0\n",
      "프로그램이 종료되었습니다\n"
     ]
    }
   ],
   "source": [
    "if __name__=='__main__':\n",
    "    import sqlite3\n",
    "    global conn\n",
    "    conn = sqlite3.connect('data/ch10_data.db')\n",
    "    main()"
   ]
  },
  {
   "cell_type": "markdown",
   "id": "99c51a8a",
   "metadata": {},
   "source": [
    "```\n",
    "1. 파이썬의데이터베이스 연동에대해잘 못 설명한 것은?\n",
    "답 : (4) commit()을 호출하지 않고 데이터베이스 연결 객체를 close() 하면 변경사항은 자동으로 저장된다.\n",
    "\n",
    "2. 파이썬의Cursor 객체에대해잘 못 설명한 것은?\n",
    "답 : (2) 커서객체의execute() 메소드는결과set으로 반환한다\n",
    "```"
   ]
  }
 ],
 "metadata": {
  "kernelspec": {
   "display_name": "Python 3 (ipykernel)",
   "language": "python",
   "name": "python3"
  },
  "language_info": {
   "codemirror_mode": {
    "name": "ipython",
    "version": 3
   },
   "file_extension": ".py",
   "mimetype": "text/x-python",
   "name": "python",
   "nbconvert_exporter": "python",
   "pygments_lexer": "ipython3",
   "version": "3.10.9"
  },
  "toc": {
   "base_numbering": 1,
   "nav_menu": {},
   "number_sections": true,
   "sideBar": true,
   "skip_h1_title": false,
   "title_cell": "Table of Contents",
   "title_sidebar": "Contents",
   "toc_cell": false,
   "toc_position": {
    "height": "calc(100% - 180px)",
    "left": "10px",
    "top": "150px",
    "width": "255px"
   },
   "toc_section_display": true,
   "toc_window_display": true
  }
 },
 "nbformat": 4,
 "nbformat_minor": 5
}
