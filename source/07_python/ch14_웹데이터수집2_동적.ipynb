{
 "cells": [
  {
   "cell_type": "markdown",
   "id": "08e40b1a",
   "metadata": {},
   "source": [
    "<b><font color=\"red\" size=\"6\">ch14. 웹 데이터 수집</font></b>"
   ]
  },
  {
   "cell_type": "markdown",
   "id": "76cd272a",
   "metadata": {},
   "source": [
    "# 1절. Selenium을 이용한 동적 웹크롤링 문법\n",
    "- https://selenium-python.readthedocs.io/\n",
    "\n",
    "`pip install selenium`"
   ]
  },
  {
   "cell_type": "code",
   "execution_count": 34,
   "id": "8cd80952",
   "metadata": {
    "ExecuteTime": {
     "end_time": "2024-12-11T02:17:31.952789Z",
     "start_time": "2024-12-11T02:17:29.449776Z"
    }
   },
   "outputs": [],
   "source": [
    "from selenium import webdriver\n",
    "from selenium.webdriver.common.by import By\n",
    "import time\n",
    "\n",
    "dv = webdriver.Chrome()\n",
    "dv.get('http://www.python.org')"
   ]
  },
  {
   "cell_type": "code",
   "execution_count": 15,
   "id": "d8a618f2",
   "metadata": {
    "ExecuteTime": {
     "end_time": "2024-12-11T01:52:55.486807Z",
     "start_time": "2024-12-11T01:52:55.362794Z"
    }
   },
   "outputs": [],
   "source": [
    "elem = dv.find_element(By.NAME, 'q')\n",
    "elem.clear()\n",
    "elem.send_keys(\"pycon\")\n",
    "elem.send_keys()"
   ]
  },
  {
   "cell_type": "code",
   "execution_count": 12,
   "id": "e792e9d2",
   "metadata": {
    "ExecuteTime": {
     "end_time": "2024-12-11T01:48:31.559262Z",
     "start_time": "2024-12-11T01:48:31.135028Z"
    }
   },
   "outputs": [],
   "source": [
    "from selenium.webdriver.common.keys import Keys\n",
    "elem.send_keys(Keys.ENTER) # Enter키 효과 "
   ]
  },
  {
   "cell_type": "code",
   "execution_count": 16,
   "id": "5fd258fb",
   "metadata": {
    "ExecuteTime": {
     "end_time": "2024-12-11T01:53:03.141185Z",
     "start_time": "2024-12-11T01:53:02.722113Z"
    }
   },
   "outputs": [],
   "source": [
    "submit = dv.find_element(By.CSS_SELECTOR, 'button#submit')\n",
    "submit.click()"
   ]
  },
  {
   "cell_type": "code",
   "execution_count": 18,
   "id": "b8de6bb9",
   "metadata": {
    "ExecuteTime": {
     "end_time": "2024-12-11T02:01:18.756261Z",
     "start_time": "2024-12-11T02:01:18.306058Z"
    }
   },
   "outputs": [
    {
     "name": "stdout",
     "output_type": "stream",
     "text": [
      "PSF PyCon Trademark Usage Policy - https://www.python.org/psf/trademarks/pycon\n",
      "PyCon Italia 2016 (PyCon Sette) - https://www.python.org/events/python-events/378/\n",
      "PyCon Australia 2013 - https://www.python.org/events/python-events/57/\n",
      "PyCon AU 2019 - https://www.python.org/events/python-events/776/\n",
      "PyCon Australia 2014 - https://www.python.org/events/python-events/10/\n",
      "PyCon Ireland 2012 - https://www.python.org/events/python-events/76/\n",
      "PyCon Ireland 2016 - https://www.python.org/events/python-events/429/\n",
      "PyCon Ireland 2022 - https://www.python.org/events/python-events/1320/\n",
      "PyCon Australia 2014 - https://www.python.org/events/python-events/1447/\n",
      "PyCon Ireland 2024 - https://www.python.org/events/python-events/1862/\n",
      "PyCon APAC 2025 - https://www.python.org/events/python-events/1879/\n",
      "PyCon AU 2018 - https://www.python.org/events/python-events/696/\n",
      "PyCon APAC 2022 - https://www.python.org/events/python-events/1216/\n",
      "PyCon PH 2024 - https://www.python.org/events/python-events/1661/\n",
      "PyCon Ireland 2023 - https://www.python.org/events/python-events/1568/\n",
      "PyCon PL 2014 - https://www.python.org/events/python-events/191/\n",
      "PyCon MY 2015 - https://www.python.org/events/python-events/313/\n",
      "PyCon Ireland 2015 - https://www.python.org/events/python-events/333/\n",
      "PyCon AU 2015 - https://www.python.org/events/python-events/273/\n",
      "PyCon Australia 2016 - https://www.python.org/events/python-events/357/\n"
     ]
    }
   ],
   "source": [
    "result_list = dv.find_elements(By.CSS_SELECTOR, 'ul.list-recent-events.menu > li > h3 > a')\n",
    "for result in result_list:\n",
    "    print('{} - {}'.format(result.text, result.get_attribute('href')))"
   ]
  },
  {
   "cell_type": "code",
   "execution_count": 23,
   "id": "95509961",
   "metadata": {
    "ExecuteTime": {
     "end_time": "2024-12-11T02:08:40.781478Z",
     "start_time": "2024-12-11T02:08:40.723307Z"
    }
   },
   "outputs": [
    {
     "name": "stdout",
     "output_type": "stream",
     "text": [
      "PSF PyCon Trademark Usage Policy - /psf/trademarks/pycon\n",
      "PyCon Italia 2016 (PyCon Sette) - /events/python-events/378/\n",
      "PyCon Australia 2013 - /events/python-events/57/\n",
      "PyCon AU 2019 - /events/python-events/776/\n",
      "PyCon Australia 2014 - /events/python-events/10/\n",
      "PyCon Ireland 2012 - /events/python-events/76/\n",
      "PyCon Ireland 2016 - /events/python-events/429/\n",
      "PyCon Ireland 2022 - /events/python-events/1320/\n",
      "PyCon Australia 2014 - /events/python-events/1447/\n",
      "PyCon Ireland 2024 - /events/python-events/1862/\n",
      "PyCon APAC 2025 - /events/python-events/1879/\n",
      "PyCon AU 2018 - /events/python-events/696/\n",
      "PyCon APAC 2022 - /events/python-events/1216/\n",
      "PyCon PH 2024 - /events/python-events/1661/\n",
      "PyCon Ireland 2023 - /events/python-events/1568/\n",
      "PyCon PL 2014 - /events/python-events/191/\n",
      "PyCon MY 2015 - /events/python-events/313/\n",
      "PyCon Ireland 2015 - /events/python-events/333/\n",
      "PyCon AU 2015 - /events/python-events/273/\n",
      "PyCon Australia 2016 - /events/python-events/357/\n"
     ]
    }
   ],
   "source": [
    "from bs4 import BeautifulSoup\n",
    "soup = BeautifulSoup(dv.page_source, 'html.parser')\n",
    "result_soup_list = soup.select('ul.list-recent-events.menu > li > h3 > a')\n",
    "for result in result_soup_list:\n",
    "    print('{} - {}'.format(result.text,result.attrs['href']))"
   ]
  },
  {
   "cell_type": "code",
   "execution_count": 31,
   "id": "6dc748c7",
   "metadata": {
    "ExecuteTime": {
     "end_time": "2024-12-11T02:15:11.877103Z",
     "start_time": "2024-12-11T02:15:11.866105Z"
    }
   },
   "outputs": [
    {
     "name": "stdout",
     "output_type": "stream",
     "text": [
      "https://www.python.org\n",
      "https://www.python.org\n"
     ]
    }
   ],
   "source": [
    "from urllib.parse import urlparse\n",
    "current_url = dv.current_url\n",
    "parse_ulr = urlparse(current_url)\n",
    "print(parse_ulr.scheme+'://'+parse_ulr.netloc)\n",
    "domain = f'{parse_ulr.scheme}://{parse_ulr.netloc}'\n",
    "print(domain)"
   ]
  },
  {
   "cell_type": "code",
   "execution_count": 32,
   "id": "db44b6c5",
   "metadata": {
    "ExecuteTime": {
     "end_time": "2024-12-11T02:16:26.289454Z",
     "start_time": "2024-12-11T02:16:26.234145Z"
    }
   },
   "outputs": [
    {
     "name": "stdout",
     "output_type": "stream",
     "text": [
      "PSF PyCon Trademark Usage Policy - https://www.python.org/psf/trademarks/pycon\n",
      "PyCon Italia 2016 (PyCon Sette) - https://www.python.org/events/python-events/378/\n",
      "PyCon Australia 2013 - https://www.python.org/events/python-events/57/\n",
      "PyCon AU 2019 - https://www.python.org/events/python-events/776/\n",
      "PyCon Australia 2014 - https://www.python.org/events/python-events/10/\n",
      "PyCon Ireland 2012 - https://www.python.org/events/python-events/76/\n",
      "PyCon Ireland 2016 - https://www.python.org/events/python-events/429/\n",
      "PyCon Ireland 2022 - https://www.python.org/events/python-events/1320/\n",
      "PyCon Australia 2014 - https://www.python.org/events/python-events/1447/\n",
      "PyCon Ireland 2024 - https://www.python.org/events/python-events/1862/\n",
      "PyCon APAC 2025 - https://www.python.org/events/python-events/1879/\n",
      "PyCon AU 2018 - https://www.python.org/events/python-events/696/\n",
      "PyCon APAC 2022 - https://www.python.org/events/python-events/1216/\n",
      "PyCon PH 2024 - https://www.python.org/events/python-events/1661/\n",
      "PyCon Ireland 2023 - https://www.python.org/events/python-events/1568/\n",
      "PyCon PL 2014 - https://www.python.org/events/python-events/191/\n",
      "PyCon MY 2015 - https://www.python.org/events/python-events/313/\n",
      "PyCon Ireland 2015 - https://www.python.org/events/python-events/333/\n",
      "PyCon AU 2015 - https://www.python.org/events/python-events/273/\n",
      "PyCon Australia 2016 - https://www.python.org/events/python-events/357/\n"
     ]
    }
   ],
   "source": [
    "from bs4 import BeautifulSoup\n",
    "soup = BeautifulSoup(dv.page_source, 'html.parser')\n",
    "result_soup_list = soup.select('ul.list-recent-events.menu > li > h3 > a')\n",
    "for result in result_soup_list:\n",
    "    print('{} - {}'.format(result.text,domain+result.attrs['href']))"
   ]
  },
  {
   "cell_type": "code",
   "execution_count": 35,
   "id": "b38d3040",
   "metadata": {
    "ExecuteTime": {
     "end_time": "2024-12-11T02:17:34.283452Z",
     "start_time": "2024-12-11T02:17:34.206249Z"
    }
   },
   "outputs": [],
   "source": [
    "dv.close()"
   ]
  },
  {
   "cell_type": "markdown",
   "id": "8891b3f2",
   "metadata": {},
   "source": [
    "# 2절. 동적 웹크롤링 예제\n",
    "## 2-1. 다음 뉴스 검색"
   ]
  },
  {
   "cell_type": "code",
   "execution_count": 50,
   "id": "c475193b",
   "metadata": {
    "ExecuteTime": {
     "end_time": "2024-12-11T04:54:41.081570Z",
     "start_time": "2024-12-11T04:54:29.748620Z"
    }
   },
   "outputs": [
    {
     "name": "stdout",
     "output_type": "stream",
     "text": [
      "검색할 단어는 ?비트코인\n"
     ]
    }
   ],
   "source": [
    "from selenium import webdriver\n",
    "from selenium.webdriver.common.by import By\n",
    "from selenium.webdriver.common.keys import Keys\n",
    "import time\n",
    "driver = webdriver.Chrome()\n",
    "time.sleep(2)\n",
    "url = 'https://www.daum.net/'\n",
    "driver.get(url)\n",
    "# driver.implicitly_wait(0.5) # 0.5초 요소를 찾을 때까지 대기시간\n",
    "time.sleep(0.5) # 0.5초 대기\n",
    "driver.find_element(By.CLASS_NAME, 'tf_keyword').click()\n",
    "query = input('검색할 단어는 ?')\n",
    "driver.find_element(By.CSS_SELECTOR, 'input[type=\"text\"]').send_keys(query)\n",
    "driver.find_element(By.CLASS_NAME, 'btn_ksearch').click()"
   ]
  },
  {
   "cell_type": "code",
   "execution_count": 51,
   "id": "801b92e4",
   "metadata": {
    "ExecuteTime": {
     "end_time": "2024-12-11T04:54:44.695116Z",
     "start_time": "2024-12-11T04:54:43.965888Z"
    }
   },
   "outputs": [],
   "source": [
    "#  뉴스 탭 클릭\n",
    "driver.find_elements(By.CSS_SELECTOR, 'ul.list_tab > li')[1].click()"
   ]
  },
  {
   "cell_type": "code",
   "execution_count": 52,
   "id": "d35bec89",
   "metadata": {
    "ExecuteTime": {
     "end_time": "2024-12-11T04:54:45.621909Z",
     "start_time": "2024-12-11T04:54:45.431665Z"
    }
   },
   "outputs": [
    {
     "name": "stdout",
     "output_type": "stream",
     "text": [
      "비트코인 조정 구간 돌입…MS 주주들, 비트코인 매입 반대[코인브리핑] http://v.daum.net/v/20241211110145033\n",
      "‘초미의 관심’ MS의 비트코인 투자 여부…주주들은 “반대” 이유는 http://v.daum.net/v/20241211091115348\n",
      "비트코인 10만달러 시대…\"비트코인 가격 추가 상승할 것\"-메리츠 http://v.daum.net/v/20241211084759570\n",
      "비트코인, 조정 이어져…1억3800만원대 http://v.daum.net/v/20241211093550195\n",
      "숨고르기 들어간 비트코인…부탄 정부, 비트코인 매도 시작[코인브리핑] http://v.daum.net/v/20241210110343588\n",
      "월가 차트분석 달인 \"비트코인 85K 추락 가능성\" http://v.daum.net/v/20241211104920355\n",
      "'트럼프 효과 다했나' 가상화폐 급락…비트코인 9만5천달러 하회 http://v.daum.net/v/20241211035608411\n",
      "\"비트코인 투자하면 주가 올라\" 설득했지만…MS 주주들은 '반대' http://v.daum.net/v/20241211133550900\n",
      "[김대호 박사의 오늘 기업·사람] 구글·아이온큐·엔비디아·비트코인·이더리움·리플 http://v.daum.net/v/20241211080115555\n",
      "\"800만 코인러 환호\" 가상자산 과세 2년 유예… 비트코인 2억원 가나 http://v.daum.net/v/20241211054405308\n"
     ]
    }
   ],
   "source": [
    "\n",
    "news_list = []\n",
    "bodies = driver.find_elements(By.CSS_SELECTOR, 'div.item-title > strong.tit-g.clamp-g')\n",
    "bodies = driver.find_elements(By.CSS_SELECTOR, 'div[class=\"item-title\"] > strong.tit-g.clamp-g')\n",
    "# print(len(bodies))\n",
    "\n",
    "for body in bodies:\n",
    "    a = body.find_element(By.TAG_NAME, 'a')\n",
    "    title = a.text\n",
    "    link = a.get_attribute('href')\n",
    "    news_list.append([title, link])\n",
    "    print(title, link)"
   ]
  },
  {
   "cell_type": "code",
   "execution_count": 53,
   "id": "13ff8eac",
   "metadata": {
    "ExecuteTime": {
     "end_time": "2024-12-11T04:54:49.426313Z",
     "start_time": "2024-12-11T04:54:48.834979Z"
    }
   },
   "outputs": [],
   "source": [
    "page_nav = driver.find_element(By.CSS_SELECTOR, 'div.inner_paging')\n",
    "next_page = page_nav.find_element(By.LINK_TEXT, \"2\")\n",
    "next_page.click()"
   ]
  },
  {
   "cell_type": "markdown",
   "id": "a354fc0b",
   "metadata": {},
   "source": [
    "## 2-2 페이징 처리\n",
    "- 다음 뉴스 페이징처리"
   ]
  },
  {
   "cell_type": "code",
   "execution_count": 55,
   "id": "999a774b",
   "metadata": {
    "ExecuteTime": {
     "end_time": "2024-12-11T04:55:47.093149Z",
     "start_time": "2024-12-11T04:55:25.641102Z"
    }
   },
   "outputs": [
    {
     "data": {
      "text/html": [
       "<div>\n",
       "<style scoped>\n",
       "    .dataframe tbody tr th:only-of-type {\n",
       "        vertical-align: middle;\n",
       "    }\n",
       "\n",
       "    .dataframe tbody tr th {\n",
       "        vertical-align: top;\n",
       "    }\n",
       "\n",
       "    .dataframe thead th {\n",
       "        text-align: right;\n",
       "    }\n",
       "</style>\n",
       "<table border=\"1\" class=\"dataframe\">\n",
       "  <thead>\n",
       "    <tr style=\"text-align: right;\">\n",
       "      <th></th>\n",
       "      <th>title</th>\n",
       "      <th>link</th>\n",
       "    </tr>\n",
       "  </thead>\n",
       "  <tbody>\n",
       "    <tr>\n",
       "      <th>0</th>\n",
       "      <td>비트코인 조정 구간 돌입…MS 주주들, 비트코인 매입 반대[코인브리핑]</td>\n",
       "      <td>http://v.daum.net/v/20241211110145033</td>\n",
       "    </tr>\n",
       "    <tr>\n",
       "      <th>1</th>\n",
       "      <td>‘초미의 관심’ MS의 비트코인 투자 여부…주주들은 “반대” 이유는</td>\n",
       "      <td>http://v.daum.net/v/20241211091115348</td>\n",
       "    </tr>\n",
       "    <tr>\n",
       "      <th>2</th>\n",
       "      <td>비트코인 10만달러 시대…\"비트코인 가격 추가 상승할 것\"-메리츠</td>\n",
       "      <td>http://v.daum.net/v/20241211084759570</td>\n",
       "    </tr>\n",
       "    <tr>\n",
       "      <th>3</th>\n",
       "      <td>비트코인, 조정 이어져…1억3800만원대</td>\n",
       "      <td>http://v.daum.net/v/20241211093550195</td>\n",
       "    </tr>\n",
       "    <tr>\n",
       "      <th>4</th>\n",
       "      <td>숨고르기 들어간 비트코인…부탄 정부, 비트코인 매도 시작[코인브리핑]</td>\n",
       "      <td>http://v.daum.net/v/20241210110343588</td>\n",
       "    </tr>\n",
       "  </tbody>\n",
       "</table>\n",
       "</div>"
      ],
      "text/plain": [
       "                                     title  \\\n",
       "0  비트코인 조정 구간 돌입…MS 주주들, 비트코인 매입 반대[코인브리핑]   \n",
       "1    ‘초미의 관심’ MS의 비트코인 투자 여부…주주들은 “반대” 이유는   \n",
       "2     비트코인 10만달러 시대…\"비트코인 가격 추가 상승할 것\"-메리츠   \n",
       "3                   비트코인, 조정 이어져…1억3800만원대   \n",
       "4   숨고르기 들어간 비트코인…부탄 정부, 비트코인 매도 시작[코인브리핑]   \n",
       "\n",
       "                                    link  \n",
       "0  http://v.daum.net/v/20241211110145033  \n",
       "1  http://v.daum.net/v/20241211091115348  \n",
       "2  http://v.daum.net/v/20241211084759570  \n",
       "3  http://v.daum.net/v/20241211093550195  \n",
       "4  http://v.daum.net/v/20241210110343588  "
      ]
     },
     "metadata": {},
     "output_type": "display_data"
    }
   ],
   "source": [
    "from selenium import webdriver\n",
    "from selenium.webdriver.common.by import By\n",
    "from selenium.webdriver.common.keys import Keys\n",
    "import time\n",
    "\n",
    "# 원하는 페이지 만큼 검색하여 검색 결과를 데이터프레임으로 출력\n",
    "driver = webdriver.Chrome()\n",
    "time.sleep(1)\n",
    "\n",
    "url = 'https://www.daum.net/'\n",
    "driver.get(url)\n",
    "# driver.implicitly_wait(0.5) # 0.5초 요소를 찾을 때까지 대기시간\n",
    "time.sleep(0.5) # 0.5초 대기\n",
    "\n",
    "driver.find_element(By.CLASS_NAME, 'tf_keyword').click()\n",
    "# query = input('검색할 단어는 ?')\n",
    "driver.find_element(By.CSS_SELECTOR, 'input[type=\"text\"]').send_keys('비트코인')\n",
    "driver.find_element(By.CLASS_NAME, 'btn_ksearch').click()\n",
    "time.sleep(2)\n",
    "\n",
    "#  뉴스 탭 클릭\n",
    "driver.find_elements(By.CSS_SELECTOR, 'ul.list_tab > li')[1].click()\n",
    "\n",
    "news_list = []\n",
    "\n",
    "page_numbers = 3#int(input('몇 페이지 크롤링 할까요?'))\n",
    "for page_number in range(1, page_numbers+1):    \n",
    "    bodies = driver.find_elements(By.CSS_SELECTOR, 'div.item-title > strong.tit-g.clamp-g')\n",
    "    bodies = driver.find_elements(By.CSS_SELECTOR, 'div[class=\"item-title\"] > strong.tit-g.clamp-g')\n",
    "    # print(len(bodies))\n",
    "\n",
    "    for body in bodies:\n",
    "        a = body.find_element(By.TAG_NAME, 'a')\n",
    "        title = a.text\n",
    "        link = a.get_attribute('href')\n",
    "        news_list.append([title, link])\n",
    "        # print(title, link)\n",
    "\n",
    "    page_nav = driver.find_element(By.CSS_SELECTOR, 'div.inner_paging')\n",
    "    next_page = page_nav.find_element(By.LINK_TEXT, str(page_number+1))\n",
    "    next_page.click()\n",
    "    time.sleep(1.5)\n",
    "driver.close()\n",
    "import pandas as pd\n",
    "display(pd.DataFrame(news_list, columns=['title','link']).head())"
   ]
  },
  {
   "cell_type": "code",
   "execution_count": null,
   "id": "687ecd16",
   "metadata": {},
   "outputs": [],
   "source": [
    "# 로그인이 될 수도 있게 우회하는 코드\n",
    "from selenium import webdriver\n",
    "from selenium.webdriver.common.by import By\n",
    "from selenium.webdriver.common.keys import Keys\n",
    "import time\n",
    "\n",
    "chrome_driver_path = 'chromedriver'\n",
    "driver = webdriver.Chrome()\n",
    "\n",
    "driver.get(\"https://nid.naver.com/nidlogin.login\")\n",
    "\n",
    "\n",
    "driver.execute_script(\"document.getElementById('id').value = '아이디';\")\n",
    "time.sleep(1)\n",
    "driver.execute_script(\"document.getElementById('pw').value = '비밀번호';\")\n",
    "time.sleep(1)\n",
    "\n",
    "driver.find_element(By.CLASS_NAME, \"btn_login\").click()"
   ]
  },
  {
   "cell_type": "markdown",
   "id": "67392bc1",
   "metadata": {},
   "source": [
    "## 2-3 맞춤법 검사기\n",
    "- 네이버 맞춤법 검사기 이용"
   ]
  },
  {
   "cell_type": "code",
   "execution_count": 72,
   "id": "65929dc5",
   "metadata": {
    "ExecuteTime": {
     "end_time": "2024-12-11T06:34:16.358451Z",
     "start_time": "2024-12-11T06:34:16.354433Z"
    }
   },
   "outputs": [],
   "source": [
    "from selenium import webdriver\n",
    "from selenium.webdriver.common.by import By\n",
    "from selenium.webdriver.common.keys import Keys\n",
    "from bs4 import BeautifulSoup\n",
    "import time"
   ]
  },
  {
   "cell_type": "code",
   "execution_count": 67,
   "id": "f3dc3f58",
   "metadata": {
    "ExecuteTime": {
     "end_time": "2024-12-11T05:42:37.950197Z",
     "start_time": "2024-12-11T05:42:30.255046Z"
    }
   },
   "outputs": [
    {
     "name": "stdout",
     "output_type": "stream",
     "text": [
      "안녕하세요 안녕하세요 반갑습니다\n"
     ]
    }
   ],
   "source": [
    "driver = webdriver.Chrome()\n",
    "time.sleep(0.5)\n",
    "driver.get('https://www.naver.com/')\n",
    "input_elm = driver.find_element(By.CSS_SELECTOR, 'input#query')\n",
    "input_elm.send_keys('맞춤법 검사기')\n",
    "driver.find_element(By.CSS_SELECTOR, 'button.btn_search').click()\n",
    "input_text_elm = driver.find_element(By.CSS_SELECTOR,'textarea.txt_gray')\n",
    "input_text_elm.send_keys('안녕하세요 안뇽하세요 방갑습니당')\n",
    "time.sleep(1)\n",
    "driver.find_element(By.CLASS_NAME, 'btn_check').click()\n",
    "time.sleep(1)\n",
    "# result_text_elm = driver.find_element(By.CSS_SELECTOR, 'div.text_area > p._result_text.stand_txt')\n",
    "# print(result_text_elm.text)\n",
    "soup = BeautifulSoup(driver.page_source, 'html.parser')\n",
    "result = soup.select_one('p._result_text.stand_txt')\n",
    "print(result.text)\n",
    "driver.close()"
   ]
  },
  {
   "cell_type": "markdown",
   "id": "b2eed5b7",
   "metadata": {},
   "source": [
    "### 맞춤법 검사 전 text파일을 맞춤법 검사 완료된 text파일로 output"
   ]
  },
  {
   "cell_type": "code",
   "execution_count": 75,
   "id": "a4d7f21f",
   "metadata": {
    "ExecuteTime": {
     "end_time": "2024-12-11T06:34:55.629021Z",
     "start_time": "2024-12-11T06:34:55.622040Z"
    }
   },
   "outputs": [
    {
     "name": "stdout",
     "output_type": "stream",
     "text": [
      "290\n",
      "275\n",
      "240\n",
      "290\n",
      "258\n"
     ]
    }
   ],
   "source": [
    "with open('data/ch14_맞춤법검사전.txt', 'r', encoding='utf-8') as f:\n",
    "    text = f.read()\n",
    "ready_list = []\n",
    "while(len(text)>300):\n",
    "    temp = text[:300]\n",
    "    last_dot_index = temp.rfind('.')\n",
    "    ready_list.append(text[:last_dot_index+1])\n",
    "    print(last_dot_index)\n",
    "    text = text[last_dot_index:]\n",
    "ready_list.append(text)"
   ]
  },
  {
   "cell_type": "code",
   "execution_count": 76,
   "id": "1b67882a",
   "metadata": {
    "ExecuteTime": {
     "end_time": "2024-12-11T06:34:57.708177Z",
     "start_time": "2024-12-11T06:34:57.702193Z"
    }
   },
   "outputs": [
    {
     "data": {
      "text/plain": [
       "[291, 276, 241, 291, 259, 76]"
      ]
     },
     "execution_count": 76,
     "metadata": {},
     "output_type": "execute_result"
    }
   ],
   "source": [
    "# ready_list 확인\n",
    "[len(ready) for ready in ready_list]"
   ]
  },
  {
   "cell_type": "code",
   "execution_count": 83,
   "id": "d8edfafa",
   "metadata": {
    "ExecuteTime": {
     "end_time": "2024-12-11T07:12:53.414578Z",
     "start_time": "2024-12-11T07:12:25.350723Z"
    }
   },
   "outputs": [
    {
     "data": {
      "text/plain": [
       "\"기상청 슈퍼컴퓨터 1호기: 1999년. 200 기가플롭스\\n1999년 6월 니뽄 NEC 사에서 SX-5 시스템을 도입하여, 2005년 12월까지 사용하였다. 이론 성능은 약 200 기가플롭스.\\n운용이 끝난 이후 2대 중 1대는 패기 처분, 1대는 전시용으로 보관 중이다.\\n기상청 슈퍼컴퓨터 2호기: 2005년. 18.5 테라플롭스\\n2005년 미국 크네 이사에서 크레이 X1E 시스템을 도입하여 운영하였다. 2010년까지 일기 얘 측을 위한 현역/백업으로 운용하였으며, 기후 시나리오 작성을 위해서 2012년까지 사용하고 패기 하였다..\\n이론 성능 18.5 테라플롭스\\n기상청 슈퍼컴퓨터 3호기(해담, 해온): 2010년. 316 테라플롭스\\n2010년 미국 크리사의 Cray XE6 시스템을 도입하여 사용하였다. 2015년까지 운용하다가, 2016년에 가동 중단하였다. '해온(Haeon)'과 '해담(Haedam)'이라는 2대의 시스템으로 분리되어 한 대는 현역, 한 대는 백업으로 동작하도록 되어 있다. 이론 성능은 758 테라플롭스라고 하는데, 이는 2대를 합친 성능이다. 각각의 린 팩 실측 성능은 316 테라플롭스를 기록했다..\\n가동 중단된 3호기는 재활용하여 사용할 인수 어를 찾았으나, 매년 60억 원가량이 드는 어마어마한 유지비 때문에 헐값에 넘기려 해도 인수하려는 곳이 없었다. 일부 시스템만 고등과학원에서 사용하기로 했으며, 나머지는 결국 고철 신세가 되었다.\\n기상청 슈퍼컴퓨터 4호기(누리, 미리): 2015년. 2.4 페타플롭스\\n2015년 미국 크리사의 Cray XC40 시스템을 도입하여 사용 중이다. 도입 비용은 약 600억 원이 사용되었다.. '누리(Nuri)'와 '미리(Miri)'라는 이름이 붙어 있으며, 3호기와 마찬가지로 현역/백업으로 나뉘어 동작한다. 각각 69,600 코어이다. 이론 성능은 5.8 페타플롭스라고 하는데, 이 역시 2대를 합친 성능이다. 각각의 린 팩 실측 성능은 2.4 페타플롭스를 기록했으며, 도입 당시 (2015년 11월 기준)에 각각 28위/29위를 기록했다. 참고로, 2014년에는 '우리(Uri)'라는 이름의 프로토타입이 도입된 바 있는데, 1년간 시험 운용한 뒤, 누리/미리(둘 중 하나)로 업그레이드된 것으로 보인다..\\n4호기에 대해서는 피치원에서 '기상청 혈세 낭비, 유착 의혹'이라며 보도기사를 냈는데, 이는 오보였다. 결국 정정보도를 내며 해프닝으로 끝났다.\\n기상청 슈퍼컴퓨터 5호기(마루, 그루): 2021년. 16.7 페타플롭스\\n인텔 제온 3세대 아이스 레이크 모델. 2021년 기준 도입되어 사용 중이며, 마루(Maru), 그루(Guru)라는 이름이 부여되었다. 각각 30만 코어에 실성능 16.7페타플롭스이며, 2022년 6월 기준 TOP500 31위와 32위에 등재되었다..\\n여담으로 마루와 그루는 Lenovo에서 공급했는데 이는 공공기관에서 국내 최초의 중국산 슈퍼컴퓨터 도입으로 여러 가지로 화제가 되었다.\""
      ]
     },
     "execution_count": 83,
     "metadata": {},
     "output_type": "execute_result"
    }
   ],
   "source": [
    "driver = webdriver.Chrome()\n",
    "time.sleep(1)\n",
    "driver.get('https://www.naver.com/')\n",
    "input_elm = driver.find_element(By.CSS_SELECTOR, 'input#query')\n",
    "input_elm.send_keys('맞춤법 검사기')\n",
    "input_elm.send_keys(Keys.ENTER)\n",
    "\n",
    "results = ''\n",
    "input_text_elm = driver.find_element(By.CSS_SELECTOR,'textarea.txt_gray')\n",
    "for text in ready_list:\n",
    "    input_text_elm.send_keys(Keys.CONTROL+'A')\n",
    "    time.sleep(1)\n",
    "    input_text_elm.send_keys(text)\n",
    "    time.sleep(1)\n",
    "    driver.find_element(By.CLASS_NAME, 'btn_check').click()\n",
    "    time.sleep(1)\n",
    "    results += driver.find_element(By.CSS_SELECTOR, 'div.text_area > p._result_text.stand_txt').text\n",
    "\n",
    "driver.close()\n",
    "with open('data/ch14_맞춤법검사후.txt', 'w', encoding='utf-8') as f:\n",
    "    f.write(results)\n",
    "results"
   ]
  },
  {
   "cell_type": "code",
   "execution_count": 84,
   "id": "e7c300e1",
   "metadata": {
    "ExecuteTime": {
     "end_time": "2024-12-11T07:13:37.955414Z",
     "start_time": "2024-12-11T07:13:37.939792Z"
    }
   },
   "outputs": [
    {
     "data": {
      "text/plain": [
       "1447"
      ]
     },
     "execution_count": 84,
     "metadata": {},
     "output_type": "execute_result"
    }
   ],
   "source": [
    "len(results)"
   ]
  },
  {
   "cell_type": "markdown",
   "id": "b8647d4b",
   "metadata": {},
   "source": [
    "## 연습문제\n",
    "```\n",
    "영어번역 자동화 프로그램을 구현하시오. 네이버 맞춤법 검사를 마친 텍스트를 https://translate.kakao.com/ \n",
    "를 통해 영어로 번역된 텍스트를 파일로 출력하는 동적 웹크롤링 프로그램을 구현하시오.\n",
    "```"
   ]
  },
  {
   "cell_type": "code",
   "execution_count": 89,
   "id": "6d55693c",
   "metadata": {
    "ExecuteTime": {
     "end_time": "2024-12-11T07:24:08.079563Z",
     "start_time": "2024-12-11T07:24:08.073579Z"
    }
   },
   "outputs": [
    {
     "name": "stdout",
     "output_type": "stream",
     "text": [
      "959\n"
     ]
    }
   ],
   "source": [
    "with open('data/ch14_맞춤법검사후.txt', 'r', encoding='utf-8') as f:\n",
    "    text = f.read()\n",
    "ready_list = []\n",
    "while(len(text)>1000):\n",
    "    temp = text[:1000]\n",
    "    last_dot_index = temp.rfind('.')\n",
    "    ready_list.append(text[:last_dot_index+1])\n",
    "    print(last_dot_index)\n",
    "    text = text[last_dot_index:]\n",
    "ready_list.append(text)"
   ]
  },
  {
   "cell_type": "code",
   "execution_count": 88,
   "id": "d211ddcb",
   "metadata": {
    "ExecuteTime": {
     "end_time": "2024-12-11T07:17:23.138510Z",
     "start_time": "2024-12-11T07:17:23.133524Z"
    }
   },
   "outputs": [
    {
     "data": {
      "text/plain": [
       "[\"기상청 슈퍼컴퓨터 1호기: 1999년. 200 기가플롭스\\n1999년 6월 니뽄 NEC 사에서 SX-5 시스템을 도입하여, 2005년 12월까지 사용하였다. 이론 성능은 약 200 기가플롭스.\\n운용이 끝난 이후 2대 중 1대는 패기 처분, 1대는 전시용으로 보관 중이다.\\n기상청 슈퍼컴퓨터 2호기: 2005년. 18.5 테라플롭스\\n2005년 미국 크네 이사에서 크레이 X1E 시스템을 도입하여 운영하였다. 2010년까지 일기 얘 측을 위한 현역/백업으로 운용하였으며, 기후 시나리오 작성을 위해서 2012년까지 사용하고 패기 하였다..\\n이론 성능 18.5 테라플롭스\\n기상청 슈퍼컴퓨터 3호기(해담, 해온): 2010년. 316 테라플롭스\\n2010년 미국 크리사의 Cray XE6 시스템을 도입하여 사용하였다. 2015년까지 운용하다가, 2016년에 가동 중단하였다. '해온(Haeon)'과 '해담(Haedam)'이라는 2대의 시스템으로 분리되어 한 대는 현역, 한 대는 백업으로 동작하도록 되어 있다. 이론 성능은 758 테라플롭스라고 하는데, 이는 2대를 합친 성능이다. 각각의 린 팩 실측 성능은 316 테라플롭스를 기록했다..\\n가동 중단된 3호기는 재활용하여 사용할 인수 어를 찾았으나, 매년 60억 원가량이 드는 어마어마한 유지비 때문에 헐값에 넘기려 해도 인수하려는 곳이 없었다. 일부 시스템만 고등과학원에서 사용하기로 했으며, 나머지는 결국 고철 신세가 되었다.\\n기상청 슈퍼컴퓨터 4호기(누리, 미리): 2015년. 2.4 페타플롭스\\n2015년 미국 크리사의 Cray XC40 시스템을 도입하여 사용 중이다. 도입 비용은 약 600억 원이 사용되었다.. '누리(Nuri)'와 '미리(Miri)'라는 이름이 붙어 있으며, 3호기와 마찬가지로 현역/백업으로 나뉘어 동작한다. 각각 69,600 코어이다. 이론 성능은 5.8 페타플롭스라고 하는데, 이 역시 2대를 합친 성능이다. 각각의 린 팩 실측 성능은 2.\",\n",
       " \".4 페타플롭스를 기록했으며, 도입 당시 (2015년 11월 기준)에 각각 28위/29위를 기록했다. 참고로, 2014년에는 '우리(Uri)'라는 이름의 프로토타입이 도입된 바 있는데, 1년간 시험 운용한 뒤, 누리/미리(둘 중 하나)로 업그레이드된 것으로 보인다..\\n4호기에 대해서는 피치원에서 '기상청 혈세 낭비, 유착 의혹'이라며 보도기사를 냈는데, 이는 오보였다. 결국 정정보도를 내며 해프닝으로 끝났다.\\n기상청 슈퍼컴퓨터 5호기(마루, 그루): 2021년. 16.7 페타플롭스\\n인텔 제온 3세대 아이스 레이크 모델. 2021년 기준 도입되어 사용 중이며, 마루(Maru), 그루(Guru)라는 이름이 부여되었다. 각각 30만 코어에 실성능 16.7페타플롭스이며, 2022년 6월 기준 TOP500 31위와 32위에 등재되었다..\\n여담으로 마루와 그루는 Lenovo에서 공급했는데 이는 공공기관에서 국내 최초의 중국산 슈퍼컴퓨터 도입으로 여러 가지로 화제가 되었다.\"]"
      ]
     },
     "execution_count": 88,
     "metadata": {},
     "output_type": "execute_result"
    }
   ],
   "source": [
    "ready_list"
   ]
  },
  {
   "cell_type": "code",
   "execution_count": 99,
   "id": "9b2c7cdf",
   "metadata": {
    "ExecuteTime": {
     "end_time": "2024-12-11T07:33:16.764287Z",
     "start_time": "2024-12-11T07:32:39.802127Z"
    }
   },
   "outputs": [
    {
     "name": "stdout",
     "output_type": "stream",
     "text": [
      " Korea Meteorological Administration Supercomputer No.1: 1999. 200 GigaflopsIn June 1999, Nippon NEC introduced the SX-5 system and used it until December 2005. The theoretical performance is about 200 gigaflops.After the operation, one of the two units is being disposed of and one is being kept for exhibition.Korea Meteorological Administration Supercomputer 2: 2005. 18.5 TeraflopsIn 2005, the Cray X1E system was introduced and operated by Knee Isa in the United States. By 2010, it was operated as an active / backup for the diary side, and used until 2012 to create climate scenarios.theoretical performance 18.5 teraflopsKorea Meteorological Administration Supercomputer No.3 (Haedam, Haeon): 2010. 316 TeraflopsIn 2010, the Cray XE6 system of the US company was introduced and used. It operated until 2015 and was shut down in 2016.,Separated into two systems, \"Haeon\" and \"Haedam\", one is supposed to operate as an active and one as a backup; the theoretical performance is called 758 teraflops, which is the combined performance of the two.,The actual performance of each lean pack was 316 teraflops.The shutdown of Unit 3 was found to be recycled and used, but there was no place to take over even if it tried to hand it over at a low price due to the huge maintenance cost of 6 billion won every year.,Only some systems were decided to be used by the Institute of Advanced Study, and the rest eventually became scrap metal.Supercomputer Unit 4 of the Korea Meteorological Administration (Nuri, Miri): 2015. 2.4 petaflopsIn 2015, we are introducing the Cray XC40 system in the US.,The cost of introduction was about 60 billion won. It is named 'Nuri' and 'Miri', and it is divided into active / backup like Unit 3, each with 69,600 cores.,The theoretical performance is called 5.8 petaflops, which is also the combined performance of the two. \n",
      " .4 petaflops, and ranked 28th / 29th respectively at the time of introduction (as of November 2015).,For reference, in 2014, a prototype named 'Uri' was introduced, which seems to have been upgraded to Nuri / Miri (either) after one year of trial operation.As for Unit 4, Pitch One issued a press release claiming that it was \"wasting taxpayers' money and suspicion of collusion with the Korea Meteorological Administration,\" which was misreported.Supercomputer Unit 5 of the Korea Meteorological Administration (Maru, Gru): 2021. 16.7 petaflopsThe Intel Xeon third-generation Ice Lake model, introduced and in use as of 2021, has been given the names Maru and Guru.,It has a real performance of 16.7 petaflops at 300,000 cores each, and was ranked 31st and 32nd in TOP500 as of June 2022.Maru and Gru were supplied by Lenovo, which became a hot topic in public institutions with the introduction of the first Chinese supercomputer in Korea. \n",
      "\n"
     ]
    }
   ],
   "source": [
    "driver = webdriver.Chrome()\n",
    "time.sleep(1)\n",
    "driver.get('https://translate.kakao.com/')\n",
    "input_elm = driver.find_element(By.CSS_SELECTOR, 'textarea#textareaWrite')\n",
    "results = ''\n",
    "for text in ready_list:\n",
    "    input_elm.clear()\n",
    "    input_elm.send_keys(text)\n",
    "    time.sleep(1)\n",
    "    driver.find_element(By.CSS_SELECTOR, 'div.btn_item > a.btn_translate').click()\n",
    "    time.sleep(5)\n",
    "    soup = BeautifulSoup(driver.page_source, 'html.parser')\n",
    "    result = soup.select_one('div#resultRender > div.result_area.area_item.txt_eng.translate_many')\n",
    "    results += result.text+ '\\n'\n",
    "driver.close()\n",
    "with open('data/ch14_번역후.txt', 'w', encoding='utf-8') as f:\n",
    "    f.write(results)\n",
    "# print(results)"
   ]
  },
  {
   "cell_type": "markdown",
   "id": "1cce1ef9",
   "metadata": {},
   "source": [
    "# 3절. 자동화\n",
    "## 3-1. 컴퓨터가 파이썬을 실행\n",
    "    - unix : corn\n",
    "    - win : 작업스케쥴러\n",
    "        * window + R : taskschd.msc\n",
    "## 3-2. 파이썬 프로그램에서 스케쥴링\n",
    "    - pip install schedule"
   ]
  },
  {
   "cell_type": "code",
   "execution_count": 101,
   "id": "b7a12cd4",
   "metadata": {
    "ExecuteTime": {
     "end_time": "2024-12-11T08:48:04.608779Z",
     "start_time": "2024-12-11T08:46:02.464438Z"
    }
   },
   "outputs": [
    {
     "name": "stdout",
     "output_type": "stream",
     "text": [
      "작업 실행 되었습니다\n",
      "작업 실행 되었습니다\n",
      "작업 실행 되었습니다\n",
      "작업 실행 되었습니다\n",
      "작업 실행 되었습니다\n",
      "작업 실행 되었습니다\n",
      "작업 실행 되었습니다\n",
      "작업 실행 되었습니다\n",
      "작업 실행 되었습니다\n",
      "작업 실행 되었습니다\n",
      "작업 실행 되었습니다\n",
      "작업 실행 되었습니다\n"
     ]
    },
    {
     "ename": "KeyboardInterrupt",
     "evalue": "",
     "output_type": "error",
     "traceback": [
      "\u001b[1;31m---------------------------------------------------------------------------\u001b[0m",
      "\u001b[1;31mKeyboardInterrupt\u001b[0m                         Traceback (most recent call last)",
      "Cell \u001b[1;32mIn[101], line 17\u001b[0m\n\u001b[0;32m     15\u001b[0m \u001b[38;5;28;01mwhile\u001b[39;00m \u001b[38;5;28;01mTrue\u001b[39;00m:\n\u001b[0;32m     16\u001b[0m     schedule\u001b[38;5;241m.\u001b[39mrun_pending()\n\u001b[1;32m---> 17\u001b[0m     \u001b[43mtime\u001b[49m\u001b[38;5;241;43m.\u001b[39;49m\u001b[43msleep\u001b[49m\u001b[43m(\u001b[49m\u001b[38;5;241;43m1\u001b[39;49m\u001b[43m)\u001b[49m\n",
      "\u001b[1;31mKeyboardInterrupt\u001b[0m: "
     ]
    }
   ],
   "source": [
    "import schedule\n",
    "import time\n",
    "\n",
    "def job():\n",
    "    print('작업 실행 되었습니다')\n",
    "    \n",
    "# job 함수는 10초마다 수행 할 꺼야\n",
    "schedule.every(10).seconds.do(job)\n",
    "\n",
    "# schedule.every().day.at('17:55').do(job)\n",
    "# schedule.every().hour.do(job)\n",
    "# schedule.every().minutes.do(job)\n",
    "\n",
    "# 무한 루프를 돌며 스케쥴된 작업이 있는지 확인하고 자동화\n",
    "while True:\n",
    "    schedule.run_pending()\n",
    "    time.sleep(1)"
   ]
  },
  {
   "cell_type": "code",
   "execution_count": null,
   "id": "da3bc550",
   "metadata": {},
   "outputs": [],
   "source": [
    "def test():\n",
    "    "
   ]
  },
  {
   "cell_type": "code",
   "execution_count": null,
   "id": "6e1aa787",
   "metadata": {},
   "outputs": [],
   "source": []
  },
  {
   "cell_type": "code",
   "execution_count": null,
   "id": "165e4835",
   "metadata": {},
   "outputs": [],
   "source": []
  }
 ],
 "metadata": {
  "kernelspec": {
   "display_name": "Python 3 (ipykernel)",
   "language": "python",
   "name": "python3"
  },
  "language_info": {
   "codemirror_mode": {
    "name": "ipython",
    "version": 3
   },
   "file_extension": ".py",
   "mimetype": "text/x-python",
   "name": "python",
   "nbconvert_exporter": "python",
   "pygments_lexer": "ipython3",
   "version": "3.10.9"
  },
  "toc": {
   "base_numbering": 1,
   "nav_menu": {},
   "number_sections": true,
   "sideBar": true,
   "skip_h1_title": false,
   "title_cell": "Table of Contents",
   "title_sidebar": "Contents",
   "toc_cell": false,
   "toc_position": {
    "height": "calc(100% - 180px)",
    "left": "10px",
    "top": "150px",
    "width": "201px"
   },
   "toc_section_display": true,
   "toc_window_display": true
  }
 },
 "nbformat": 4,
 "nbformat_minor": 5
}
