{
 "cells": [
  {
   "cell_type": "markdown",
   "id": "05f98325",
   "metadata": {},
   "source": [
    "<b><font color=\"red\" size=\"6\">ch12. 데이터프레임과 시리즈(Pandas)</font></b>\n",
    "- pip install pandas"
   ]
  },
  {
   "cell_type": "markdown",
   "id": "5e8aecd0",
   "metadata": {},
   "source": [
    "# 1절. 판다스 패키지\n",
    "- 데이터 분석을 위해 반드시 알아야할 패키지. 넘파이를 기반으로 하며, 다른 많은 라이브러리와 잘 통합되도록 설계\n",
    "- 1차원 구조를 갖는 시리즈, 2차원 구조를 갖는 데이터 프레임을 제공\n",
    "- 판다스 장점 \n",
    "              데이터 프레임 생성, 파일io, 레이블링, 부분데이터추출, 크기변경(행이나 열삽입, 삭제)\n",
    "              데이터 분할, 병합, 데이터 정렬, 결측치 처리, 피벗과 언피벗등에 용이\n",
    "- https://pypi.org/project/pandas/ (package index)\n",
    "- https://pandas.pydata.org/docs/reference/index.html#api (API reference)"
   ]
  },
  {
   "cell_type": "code",
   "execution_count": 1,
   "id": "76db9240",
   "metadata": {
    "ExecuteTime": {
     "end_time": "2024-11-26T05:16:38.541448Z",
     "start_time": "2024-11-26T05:16:38.019792Z"
    }
   },
   "outputs": [
    {
     "data": {
      "text/plain": [
       "'1.5.3'"
      ]
     },
     "execution_count": 1,
     "metadata": {},
     "output_type": "execute_result"
    }
   ],
   "source": [
    "import pandas as pd\n",
    "pd.__version__"
   ]
  },
  {
   "cell_type": "code",
   "execution_count": 2,
   "id": "fe17377b",
   "metadata": {
    "ExecuteTime": {
     "end_time": "2024-11-26T05:16:38.566380Z",
     "start_time": "2024-11-26T05:16:38.543442Z"
    }
   },
   "outputs": [
    {
     "data": {
      "text/html": [
       "<div>\n",
       "<style scoped>\n",
       "    .dataframe tbody tr th:only-of-type {\n",
       "        vertical-align: middle;\n",
       "    }\n",
       "\n",
       "    .dataframe tbody tr th {\n",
       "        vertical-align: top;\n",
       "    }\n",
       "\n",
       "    .dataframe thead th {\n",
       "        text-align: right;\n",
       "    }\n",
       "</style>\n",
       "<table border=\"1\" class=\"dataframe\">\n",
       "  <thead>\n",
       "    <tr style=\"text-align: right;\">\n",
       "      <th></th>\n",
       "      <th>name</th>\n",
       "      <th>age</th>\n",
       "      <th>email</th>\n",
       "      <th>address</th>\n",
       "    </tr>\n",
       "  </thead>\n",
       "  <tbody>\n",
       "    <tr>\n",
       "      <th>0</th>\n",
       "      <td>홍길동</td>\n",
       "      <td>20</td>\n",
       "      <td>h@h.com</td>\n",
       "      <td>서울</td>\n",
       "    </tr>\n",
       "    <tr>\n",
       "      <th>1</th>\n",
       "      <td>김길동</td>\n",
       "      <td>20</td>\n",
       "      <td>k@h.com</td>\n",
       "      <td>부산</td>\n",
       "    </tr>\n",
       "    <tr>\n",
       "      <th>2</th>\n",
       "      <td>신길동</td>\n",
       "      <td>20</td>\n",
       "      <td>s@h.com</td>\n",
       "      <td>안양</td>\n",
       "    </tr>\n",
       "  </tbody>\n",
       "</table>\n",
       "</div>"
      ],
      "text/plain": [
       "  name  age    email address\n",
       "0  홍길동   20  h@h.com      서울\n",
       "1  김길동   20  k@h.com      부산\n",
       "2  신길동   20  s@h.com      안양"
      ]
     },
     "metadata": {},
     "output_type": "display_data"
    },
    {
     "name": "stdout",
     "output_type": "stream",
     "text": [
      "<class 'pandas.core.frame.DataFrame'>\n"
     ]
    }
   ],
   "source": [
    "data = pd.read_json('data/ch09_member1.json', encoding='cp949') # encoding 기본값 : utf-8\n",
    "display(data)\n",
    "print(type(data))"
   ]
  },
  {
   "cell_type": "code",
   "execution_count": 3,
   "id": "e21c34a6",
   "metadata": {
    "ExecuteTime": {
     "end_time": "2024-11-26T05:16:38.581340Z",
     "start_time": "2024-11-26T05:16:38.569373Z"
    }
   },
   "outputs": [
    {
     "data": {
      "text/html": [
       "<div>\n",
       "<style scoped>\n",
       "    .dataframe tbody tr th:only-of-type {\n",
       "        vertical-align: middle;\n",
       "    }\n",
       "\n",
       "    .dataframe tbody tr th {\n",
       "        vertical-align: top;\n",
       "    }\n",
       "\n",
       "    .dataframe thead th {\n",
       "        text-align: right;\n",
       "    }\n",
       "</style>\n",
       "<table border=\"1\" class=\"dataframe\">\n",
       "  <thead>\n",
       "    <tr style=\"text-align: right;\">\n",
       "      <th></th>\n",
       "      <th>Name</th>\n",
       "      <th>Age</th>\n",
       "      <th>Email</th>\n",
       "      <th>Address</th>\n",
       "    </tr>\n",
       "  </thead>\n",
       "  <tbody>\n",
       "    <tr>\n",
       "      <th>0</th>\n",
       "      <td>홍길동</td>\n",
       "      <td>20</td>\n",
       "      <td>kildong@hong.com</td>\n",
       "      <td>서울시 관악구</td>\n",
       "    </tr>\n",
       "    <tr>\n",
       "      <th>1</th>\n",
       "      <td>김길동</td>\n",
       "      <td>40</td>\n",
       "      <td>kimdong@hong.com</td>\n",
       "      <td>서울시 영등포구</td>\n",
       "    </tr>\n",
       "    <tr>\n",
       "      <th>2</th>\n",
       "      <td>신길동</td>\n",
       "      <td>30</td>\n",
       "      <td>sindong@hong.com</td>\n",
       "      <td>서울시 동작구</td>\n",
       "    </tr>\n",
       "    <tr>\n",
       "      <th>3</th>\n",
       "      <td>홍길동</td>\n",
       "      <td>20</td>\n",
       "      <td>kildong@hong.com</td>\n",
       "      <td>서울시 관악구</td>\n",
       "    </tr>\n",
       "    <tr>\n",
       "      <th>4</th>\n",
       "      <td>김길동</td>\n",
       "      <td>40</td>\n",
       "      <td>kimdong@hong.com</td>\n",
       "      <td>서울시 영등포구</td>\n",
       "    </tr>\n",
       "  </tbody>\n",
       "</table>\n",
       "</div>"
      ],
      "text/plain": [
       "  Name  Age             Email   Address\n",
       "0  홍길동   20  kildong@hong.com   서울시 관악구\n",
       "1  김길동   40  kimdong@hong.com  서울시 영등포구\n",
       "2  신길동   30  sindong@hong.com   서울시 동작구\n",
       "3  홍길동   20  kildong@hong.com   서울시 관악구\n",
       "4  김길동   40  kimdong@hong.com  서울시 영등포구"
      ]
     },
     "execution_count": 3,
     "metadata": {},
     "output_type": "execute_result"
    }
   ],
   "source": [
    "member4 = pd.read_csv('data/ch09_member4.csv')\n",
    "member4.head() # 최초 상위 5개행 가져오기"
   ]
  },
  {
   "cell_type": "code",
   "execution_count": 4,
   "id": "72fd913a",
   "metadata": {
    "ExecuteTime": {
     "end_time": "2024-11-26T05:16:38.594307Z",
     "start_time": "2024-11-26T05:16:38.583336Z"
    }
   },
   "outputs": [
    {
     "data": {
      "text/html": [
       "<div>\n",
       "<style scoped>\n",
       "    .dataframe tbody tr th:only-of-type {\n",
       "        vertical-align: middle;\n",
       "    }\n",
       "\n",
       "    .dataframe tbody tr th {\n",
       "        vertical-align: top;\n",
       "    }\n",
       "\n",
       "    .dataframe thead th {\n",
       "        text-align: right;\n",
       "    }\n",
       "</style>\n",
       "<table border=\"1\" class=\"dataframe\">\n",
       "  <thead>\n",
       "    <tr style=\"text-align: right;\">\n",
       "      <th></th>\n",
       "      <th>Name</th>\n",
       "      <th>Age</th>\n",
       "      <th>Email</th>\n",
       "      <th>Address</th>\n",
       "    </tr>\n",
       "  </thead>\n",
       "  <tbody>\n",
       "    <tr>\n",
       "      <th>0</th>\n",
       "      <td>홍길동</td>\n",
       "      <td>20</td>\n",
       "      <td>kildong@hong.com</td>\n",
       "      <td>서울시 관악구</td>\n",
       "    </tr>\n",
       "    <tr>\n",
       "      <th>1</th>\n",
       "      <td>김길동</td>\n",
       "      <td>20</td>\n",
       "      <td>kimdong@hong.com</td>\n",
       "      <td>서울시 영등포구</td>\n",
       "    </tr>\n",
       "    <tr>\n",
       "      <th>2</th>\n",
       "      <td>신길동</td>\n",
       "      <td>20</td>\n",
       "      <td>sindong@hong.com</td>\n",
       "      <td>서울시 동작구</td>\n",
       "    </tr>\n",
       "  </tbody>\n",
       "</table>\n",
       "</div>"
      ],
      "text/plain": [
       "  Name  Age             Email   Address\n",
       "0  홍길동   20  kildong@hong.com   서울시 관악구\n",
       "1  김길동   20  kimdong@hong.com  서울시 영등포구\n",
       "2  신길동   20  sindong@hong.com   서울시 동작구"
      ]
     },
     "execution_count": 4,
     "metadata": {},
     "output_type": "execute_result"
    }
   ],
   "source": [
    "member1 = pd.read_csv('data/ch09_member1.csv', header=None, names=['Name', 'Age', 'Email','Address'])\n",
    "member1"
   ]
  },
  {
   "cell_type": "code",
   "execution_count": 5,
   "id": "5da876d1",
   "metadata": {
    "ExecuteTime": {
     "end_time": "2024-11-26T05:16:38.676087Z",
     "start_time": "2024-11-26T05:16:38.597298Z"
    }
   },
   "outputs": [
    {
     "data": {
      "text/html": [
       "<div>\n",
       "<style scoped>\n",
       "    .dataframe tbody tr th:only-of-type {\n",
       "        vertical-align: middle;\n",
       "    }\n",
       "\n",
       "    .dataframe tbody tr th {\n",
       "        vertical-align: top;\n",
       "    }\n",
       "\n",
       "    .dataframe thead th {\n",
       "        text-align: right;\n",
       "    }\n",
       "</style>\n",
       "<table border=\"1\" class=\"dataframe\">\n",
       "  <thead>\n",
       "    <tr style=\"text-align: right;\">\n",
       "      <th></th>\n",
       "      <th>sepal_length</th>\n",
       "      <th>sepal_width</th>\n",
       "      <th>petal_length</th>\n",
       "      <th>petal_width</th>\n",
       "      <th>species</th>\n",
       "    </tr>\n",
       "  </thead>\n",
       "  <tbody>\n",
       "    <tr>\n",
       "      <th>0</th>\n",
       "      <td>5.1</td>\n",
       "      <td>3.5</td>\n",
       "      <td>1.4</td>\n",
       "      <td>0.2</td>\n",
       "      <td>setosa</td>\n",
       "    </tr>\n",
       "    <tr>\n",
       "      <th>1</th>\n",
       "      <td>4.9</td>\n",
       "      <td>3.0</td>\n",
       "      <td>1.4</td>\n",
       "      <td>0.2</td>\n",
       "      <td>setosa</td>\n",
       "    </tr>\n",
       "    <tr>\n",
       "      <th>2</th>\n",
       "      <td>4.7</td>\n",
       "      <td>3.2</td>\n",
       "      <td>1.3</td>\n",
       "      <td>0.2</td>\n",
       "      <td>setosa</td>\n",
       "    </tr>\n",
       "    <tr>\n",
       "      <th>3</th>\n",
       "      <td>4.6</td>\n",
       "      <td>3.1</td>\n",
       "      <td>1.5</td>\n",
       "      <td>0.2</td>\n",
       "      <td>setosa</td>\n",
       "    </tr>\n",
       "    <tr>\n",
       "      <th>4</th>\n",
       "      <td>5.0</td>\n",
       "      <td>3.6</td>\n",
       "      <td>1.4</td>\n",
       "      <td>0.2</td>\n",
       "      <td>setosa</td>\n",
       "    </tr>\n",
       "    <tr>\n",
       "      <th>...</th>\n",
       "      <td>...</td>\n",
       "      <td>...</td>\n",
       "      <td>...</td>\n",
       "      <td>...</td>\n",
       "      <td>...</td>\n",
       "    </tr>\n",
       "    <tr>\n",
       "      <th>145</th>\n",
       "      <td>6.7</td>\n",
       "      <td>3.0</td>\n",
       "      <td>5.2</td>\n",
       "      <td>2.3</td>\n",
       "      <td>virginica</td>\n",
       "    </tr>\n",
       "    <tr>\n",
       "      <th>146</th>\n",
       "      <td>6.3</td>\n",
       "      <td>2.5</td>\n",
       "      <td>5.0</td>\n",
       "      <td>1.9</td>\n",
       "      <td>virginica</td>\n",
       "    </tr>\n",
       "    <tr>\n",
       "      <th>147</th>\n",
       "      <td>6.5</td>\n",
       "      <td>3.0</td>\n",
       "      <td>5.2</td>\n",
       "      <td>2.0</td>\n",
       "      <td>virginica</td>\n",
       "    </tr>\n",
       "    <tr>\n",
       "      <th>148</th>\n",
       "      <td>6.2</td>\n",
       "      <td>3.4</td>\n",
       "      <td>5.4</td>\n",
       "      <td>2.3</td>\n",
       "      <td>virginica</td>\n",
       "    </tr>\n",
       "    <tr>\n",
       "      <th>149</th>\n",
       "      <td>5.9</td>\n",
       "      <td>3.0</td>\n",
       "      <td>5.1</td>\n",
       "      <td>1.8</td>\n",
       "      <td>virginica</td>\n",
       "    </tr>\n",
       "  </tbody>\n",
       "</table>\n",
       "<p>150 rows × 5 columns</p>\n",
       "</div>"
      ],
      "text/plain": [
       "     sepal_length  sepal_width  petal_length  petal_width    species\n",
       "0             5.1          3.5           1.4          0.2     setosa\n",
       "1             4.9          3.0           1.4          0.2     setosa\n",
       "2             4.7          3.2           1.3          0.2     setosa\n",
       "3             4.6          3.1           1.5          0.2     setosa\n",
       "4             5.0          3.6           1.4          0.2     setosa\n",
       "..            ...          ...           ...          ...        ...\n",
       "145           6.7          3.0           5.2          2.3  virginica\n",
       "146           6.3          2.5           5.0          1.9  virginica\n",
       "147           6.5          3.0           5.2          2.0  virginica\n",
       "148           6.2          3.4           5.4          2.3  virginica\n",
       "149           5.9          3.0           5.1          1.8  virginica\n",
       "\n",
       "[150 rows x 5 columns]"
      ]
     },
     "execution_count": 5,
     "metadata": {},
     "output_type": "execute_result"
    }
   ],
   "source": [
    "iris = pd.read_hdf('data/ch09_iris2.hdf5', key='iris')\n",
    "iris"
   ]
  },
  {
   "cell_type": "markdown",
   "id": "18b1c121",
   "metadata": {},
   "source": [
    "# 2절. 데이터 프레임 만들기\n",
    "## 2.1 딕셔너리를 이용해서 데이터프레임 만들기"
   ]
  },
  {
   "cell_type": "code",
   "execution_count": 6,
   "id": "fbdc8e46",
   "metadata": {
    "ExecuteTime": {
     "end_time": "2024-11-26T05:16:38.687058Z",
     "start_time": "2024-11-26T05:16:38.679080Z"
    }
   },
   "outputs": [
    {
     "data": {
      "text/html": [
       "<div>\n",
       "<style scoped>\n",
       "    .dataframe tbody tr th:only-of-type {\n",
       "        vertical-align: middle;\n",
       "    }\n",
       "\n",
       "    .dataframe tbody tr th {\n",
       "        vertical-align: top;\n",
       "    }\n",
       "\n",
       "    .dataframe thead th {\n",
       "        text-align: right;\n",
       "    }\n",
       "</style>\n",
       "<table border=\"1\" class=\"dataframe\">\n",
       "  <thead>\n",
       "    <tr style=\"text-align: right;\">\n",
       "      <th></th>\n",
       "      <th>kor</th>\n",
       "      <th>mat</th>\n",
       "    </tr>\n",
       "  </thead>\n",
       "  <tbody>\n",
       "    <tr>\n",
       "      <th>0</th>\n",
       "      <td>100</td>\n",
       "      <td>95</td>\n",
       "    </tr>\n",
       "    <tr>\n",
       "      <th>1</th>\n",
       "      <td>90</td>\n",
       "      <td>99</td>\n",
       "    </tr>\n",
       "  </tbody>\n",
       "</table>\n",
       "</div>"
      ],
      "text/plain": [
       "   kor  mat\n",
       "0  100   95\n",
       "1   90   99"
      ]
     },
     "execution_count": 6,
     "metadata": {},
     "output_type": "execute_result"
    }
   ],
   "source": [
    "# value가 list인 딕셔너리를 데이터프레임으로\n",
    "d = {'kor':[100,90], 'mat':[95,99]}\n",
    "df = pd.DataFrame(data = d)\n",
    "df"
   ]
  },
  {
   "cell_type": "code",
   "execution_count": 7,
   "id": "bd7ca20d",
   "metadata": {
    "ExecuteTime": {
     "end_time": "2024-11-26T05:16:38.698028Z",
     "start_time": "2024-11-26T05:16:38.689053Z"
    }
   },
   "outputs": [
    {
     "data": {
      "text/html": [
       "<div>\n",
       "<style scoped>\n",
       "    .dataframe tbody tr th:only-of-type {\n",
       "        vertical-align: middle;\n",
       "    }\n",
       "\n",
       "    .dataframe tbody tr th {\n",
       "        vertical-align: top;\n",
       "    }\n",
       "\n",
       "    .dataframe thead th {\n",
       "        text-align: right;\n",
       "    }\n",
       "</style>\n",
       "<table border=\"1\" class=\"dataframe\">\n",
       "  <thead>\n",
       "    <tr style=\"text-align: right;\">\n",
       "      <th></th>\n",
       "      <th>kor</th>\n",
       "      <th>mat</th>\n",
       "    </tr>\n",
       "  </thead>\n",
       "  <tbody>\n",
       "    <tr>\n",
       "      <th>0</th>\n",
       "      <td>100</td>\n",
       "      <td>99</td>\n",
       "    </tr>\n",
       "  </tbody>\n",
       "</table>\n",
       "</div>"
      ],
      "text/plain": [
       "   kor  mat\n",
       "0  100   99"
      ]
     },
     "execution_count": 7,
     "metadata": {},
     "output_type": "execute_result"
    }
   ],
   "source": [
    "d = [{'kor':100, 'mat':99}]\n",
    "pd.DataFrame(d)"
   ]
  },
  {
   "cell_type": "code",
   "execution_count": 8,
   "id": "8b2a51da",
   "metadata": {
    "ExecuteTime": {
     "end_time": "2024-11-26T05:16:38.711571Z",
     "start_time": "2024-11-26T05:16:38.700023Z"
    }
   },
   "outputs": [
    {
     "data": {
      "text/plain": [
       "{'kor': {0: 100, 1: 90}, 'mat': {0: 95, 1: 99}}"
      ]
     },
     "execution_count": 8,
     "metadata": {},
     "output_type": "execute_result"
    }
   ],
   "source": [
    "df.to_dict() # 데이터 프레임을 딕셔너리로"
   ]
  },
  {
   "cell_type": "code",
   "execution_count": 9,
   "id": "18f51336",
   "metadata": {
    "ExecuteTime": {
     "end_time": "2024-11-26T05:16:38.719541Z",
     "start_time": "2024-11-26T05:16:38.714555Z"
    }
   },
   "outputs": [
    {
     "data": {
      "text/plain": [
       "array([[100,  95],\n",
       "       [ 90,  99]], dtype=int64)"
      ]
     },
     "execution_count": 9,
     "metadata": {},
     "output_type": "execute_result"
    }
   ],
   "source": [
    "df.to_numpy() # 데이터프레임을 넘파이배열"
   ]
  },
  {
   "cell_type": "code",
   "execution_count": 10,
   "id": "e6504156",
   "metadata": {
    "ExecuteTime": {
     "end_time": "2024-11-26T05:16:38.728518Z",
     "start_time": "2024-11-26T05:16:38.721536Z"
    }
   },
   "outputs": [
    {
     "data": {
      "text/html": [
       "<div>\n",
       "<style scoped>\n",
       "    .dataframe tbody tr th:only-of-type {\n",
       "        vertical-align: middle;\n",
       "    }\n",
       "\n",
       "    .dataframe tbody tr th {\n",
       "        vertical-align: top;\n",
       "    }\n",
       "\n",
       "    .dataframe thead th {\n",
       "        text-align: right;\n",
       "    }\n",
       "</style>\n",
       "<table border=\"1\" class=\"dataframe\">\n",
       "  <thead>\n",
       "    <tr style=\"text-align: right;\">\n",
       "      <th></th>\n",
       "      <th>kor</th>\n",
       "      <th>mat</th>\n",
       "    </tr>\n",
       "  </thead>\n",
       "  <tbody>\n",
       "    <tr>\n",
       "      <th>0</th>\n",
       "      <td>100</td>\n",
       "      <td>95</td>\n",
       "    </tr>\n",
       "    <tr>\n",
       "      <th>1</th>\n",
       "      <td>90</td>\n",
       "      <td>99</td>\n",
       "    </tr>\n",
       "  </tbody>\n",
       "</table>\n",
       "</div>"
      ],
      "text/plain": [
       "   kor  mat\n",
       "0  100   95\n",
       "1   90   99"
      ]
     },
     "execution_count": 10,
     "metadata": {},
     "output_type": "execute_result"
    }
   ],
   "source": [
    "# 딕셔너리 리스트를 데이터프레임으로\n",
    "d = [{'kor':100, 'mat':95}, {'kor':90, 'mat':99}]\n",
    "df = pd.DataFrame(data = d)\n",
    "df"
   ]
  },
  {
   "cell_type": "code",
   "execution_count": 11,
   "id": "e1ca9310",
   "metadata": {
    "ExecuteTime": {
     "end_time": "2024-11-26T05:16:38.736496Z",
     "start_time": "2024-11-26T05:16:38.730512Z"
    }
   },
   "outputs": [
    {
     "data": {
      "text/plain": [
       "kor    int64\n",
       "mat    int64\n",
       "dtype: object"
      ]
     },
     "execution_count": 11,
     "metadata": {},
     "output_type": "execute_result"
    }
   ],
   "source": [
    "df.dtypes"
   ]
  },
  {
   "cell_type": "code",
   "execution_count": 12,
   "id": "baf00527",
   "metadata": {
    "ExecuteTime": {
     "end_time": "2024-11-26T05:16:38.755446Z",
     "start_time": "2024-11-26T05:16:38.740485Z"
    }
   },
   "outputs": [
    {
     "name": "stdout",
     "output_type": "stream",
     "text": [
      "<class 'pandas.core.frame.DataFrame'>\n",
      "RangeIndex: 2 entries, 0 to 1\n",
      "Data columns (total 2 columns):\n",
      " #   Column  Non-Null Count  Dtype\n",
      "---  ------  --------------  -----\n",
      " 0   kor     2 non-null      int64\n",
      " 1   mat     2 non-null      int64\n",
      "dtypes: int64(2)\n",
      "memory usage: 160.0 bytes\n"
     ]
    }
   ],
   "source": [
    "df.info()"
   ]
  },
  {
   "cell_type": "code",
   "execution_count": 13,
   "id": "cb77a2fc",
   "metadata": {
    "ExecuteTime": {
     "end_time": "2024-11-26T05:16:38.777432Z",
     "start_time": "2024-11-26T05:16:38.772400Z"
    }
   },
   "outputs": [
    {
     "data": {
      "text/plain": [
       "{'kor': dtype('int64'), 'mat': dtype('int64')}"
      ]
     },
     "execution_count": 13,
     "metadata": {},
     "output_type": "execute_result"
    }
   ],
   "source": [
    "df.dtypes.to_dict()"
   ]
  },
  {
   "cell_type": "code",
   "execution_count": 14,
   "id": "68d5f5ce",
   "metadata": {
    "ExecuteTime": {
     "end_time": "2024-11-26T05:16:38.787688Z",
     "start_time": "2024-11-26T05:16:38.778712Z"
    }
   },
   "outputs": [
    {
     "data": {
      "text/plain": [
       "dtype('int64')"
      ]
     },
     "execution_count": 14,
     "metadata": {},
     "output_type": "execute_result"
    }
   ],
   "source": [
    "df['kor'].dtype"
   ]
  },
  {
   "cell_type": "code",
   "execution_count": 15,
   "id": "0e067785",
   "metadata": {
    "ExecuteTime": {
     "end_time": "2024-11-26T05:16:38.793672Z",
     "start_time": "2024-11-26T05:16:38.789683Z"
    }
   },
   "outputs": [],
   "source": [
    "import numpy as np\n",
    "df['kor'] = df['kor'].astype(np.float64)"
   ]
  },
  {
   "cell_type": "code",
   "execution_count": 16,
   "id": "ac1aeb92",
   "metadata": {
    "ExecuteTime": {
     "end_time": "2024-11-26T05:16:38.806637Z",
     "start_time": "2024-11-26T05:16:38.796664Z"
    }
   },
   "outputs": [
    {
     "data": {
      "text/html": [
       "<div>\n",
       "<style scoped>\n",
       "    .dataframe tbody tr th:only-of-type {\n",
       "        vertical-align: middle;\n",
       "    }\n",
       "\n",
       "    .dataframe tbody tr th {\n",
       "        vertical-align: top;\n",
       "    }\n",
       "\n",
       "    .dataframe thead th {\n",
       "        text-align: right;\n",
       "    }\n",
       "</style>\n",
       "<table border=\"1\" class=\"dataframe\">\n",
       "  <thead>\n",
       "    <tr style=\"text-align: right;\">\n",
       "      <th></th>\n",
       "      <th>kor</th>\n",
       "      <th>mat</th>\n",
       "      <th>eng</th>\n",
       "    </tr>\n",
       "  </thead>\n",
       "  <tbody>\n",
       "    <tr>\n",
       "      <th>0</th>\n",
       "      <td>100</td>\n",
       "      <td>100.0</td>\n",
       "      <td>NaN</td>\n",
       "    </tr>\n",
       "    <tr>\n",
       "      <th>1</th>\n",
       "      <td>90</td>\n",
       "      <td>99.0</td>\n",
       "      <td>NaN</td>\n",
       "    </tr>\n",
       "    <tr>\n",
       "      <th>2</th>\n",
       "      <td>83</td>\n",
       "      <td>NaN</td>\n",
       "      <td>85.0</td>\n",
       "    </tr>\n",
       "  </tbody>\n",
       "</table>\n",
       "</div>"
      ],
      "text/plain": [
       "   kor    mat   eng\n",
       "0  100  100.0   NaN\n",
       "1   90   99.0   NaN\n",
       "2   83    NaN  85.0"
      ]
     },
     "execution_count": 16,
     "metadata": {},
     "output_type": "execute_result"
    }
   ],
   "source": [
    "d = [{'kor':100, 'mat':100}, {'kor':90, 'mat':99}, {'kor':83, 'eng':85}]\n",
    "df = pd.DataFrame(d)\n",
    "df"
   ]
  },
  {
   "cell_type": "code",
   "execution_count": 17,
   "id": "4fcaa6b5",
   "metadata": {
    "ExecuteTime": {
     "end_time": "2024-11-26T05:16:38.814616Z",
     "start_time": "2024-11-26T05:16:38.808633Z"
    }
   },
   "outputs": [
    {
     "data": {
      "text/plain": [
       "float"
      ]
     },
     "execution_count": 17,
     "metadata": {},
     "output_type": "execute_result"
    }
   ],
   "source": [
    "type(np.nan)"
   ]
  },
  {
   "cell_type": "code",
   "execution_count": 18,
   "id": "20a70c21",
   "metadata": {
    "ExecuteTime": {
     "end_time": "2024-11-26T05:16:38.819603Z",
     "start_time": "2024-11-26T05:16:38.815614Z"
    }
   },
   "outputs": [],
   "source": [
    "# 결측치는 int로 형변환 불가(결측치를 대체값으로 치완 후 변환) df['mat'].astype(np.int32)"
   ]
  },
  {
   "cell_type": "markdown",
   "id": "56d2869c",
   "metadata": {},
   "source": [
    "## 2.2 리스트를 이용해서 데이터 프레임 만들기"
   ]
  },
  {
   "cell_type": "code",
   "execution_count": 19,
   "id": "2a9f6b7f",
   "metadata": {
    "ExecuteTime": {
     "end_time": "2024-11-26T05:16:38.829576Z",
     "start_time": "2024-11-26T05:16:38.820600Z"
    }
   },
   "outputs": [
    {
     "data": {
      "text/html": [
       "<div>\n",
       "<style scoped>\n",
       "    .dataframe tbody tr th:only-of-type {\n",
       "        vertical-align: middle;\n",
       "    }\n",
       "\n",
       "    .dataframe tbody tr th {\n",
       "        vertical-align: top;\n",
       "    }\n",
       "\n",
       "    .dataframe thead th {\n",
       "        text-align: right;\n",
       "    }\n",
       "</style>\n",
       "<table border=\"1\" class=\"dataframe\">\n",
       "  <thead>\n",
       "    <tr style=\"text-align: right;\">\n",
       "      <th></th>\n",
       "      <th>kor</th>\n",
       "      <th>eng</th>\n",
       "    </tr>\n",
       "  </thead>\n",
       "  <tbody>\n",
       "    <tr>\n",
       "      <th>0</th>\n",
       "      <td>100</td>\n",
       "      <td>100</td>\n",
       "    </tr>\n",
       "    <tr>\n",
       "      <th>1</th>\n",
       "      <td>90</td>\n",
       "      <td>95</td>\n",
       "    </tr>\n",
       "    <tr>\n",
       "      <th>2</th>\n",
       "      <td>95</td>\n",
       "      <td>94</td>\n",
       "    </tr>\n",
       "    <tr>\n",
       "      <th>3</th>\n",
       "      <td>90</td>\n",
       "      <td>64</td>\n",
       "    </tr>\n",
       "    <tr>\n",
       "      <th>4</th>\n",
       "      <td>65</td>\n",
       "      <td>85</td>\n",
       "    </tr>\n",
       "  </tbody>\n",
       "</table>\n",
       "</div>"
      ],
      "text/plain": [
       "   kor  eng\n",
       "0  100  100\n",
       "1   90   95\n",
       "2   95   94\n",
       "3   90   64\n",
       "4   65   85"
      ]
     },
     "execution_count": 19,
     "metadata": {},
     "output_type": "execute_result"
    }
   ],
   "source": [
    "kor = [100,90,95,90,65]\n",
    "eng = [100,95,94,64,85]\n",
    "df = pd.DataFrame({'kor':kor, 'eng':eng})\n",
    "df"
   ]
  },
  {
   "cell_type": "code",
   "execution_count": 20,
   "id": "5acd8678",
   "metadata": {
    "ExecuteTime": {
     "end_time": "2024-11-26T05:16:38.836558Z",
     "start_time": "2024-11-26T05:16:38.831571Z"
    }
   },
   "outputs": [
    {
     "data": {
      "text/plain": [
       "array([[100, 100],\n",
       "       [ 90,  95],\n",
       "       [ 95,  94],\n",
       "       [ 90,  64],\n",
       "       [ 65,  85]])"
      ]
     },
     "execution_count": 20,
     "metadata": {},
     "output_type": "execute_result"
    }
   ],
   "source": [
    "np.c_[kor, eng]"
   ]
  },
  {
   "cell_type": "code",
   "execution_count": 21,
   "id": "d9a22307",
   "metadata": {
    "ExecuteTime": {
     "end_time": "2024-11-26T05:16:38.845534Z",
     "start_time": "2024-11-26T05:16:38.838552Z"
    }
   },
   "outputs": [
    {
     "data": {
      "text/html": [
       "<div>\n",
       "<style scoped>\n",
       "    .dataframe tbody tr th:only-of-type {\n",
       "        vertical-align: middle;\n",
       "    }\n",
       "\n",
       "    .dataframe tbody tr th {\n",
       "        vertical-align: top;\n",
       "    }\n",
       "\n",
       "    .dataframe thead th {\n",
       "        text-align: right;\n",
       "    }\n",
       "</style>\n",
       "<table border=\"1\" class=\"dataframe\">\n",
       "  <thead>\n",
       "    <tr style=\"text-align: right;\">\n",
       "      <th></th>\n",
       "      <th>Kor</th>\n",
       "      <th>Eng</th>\n",
       "    </tr>\n",
       "  </thead>\n",
       "  <tbody>\n",
       "    <tr>\n",
       "      <th>0</th>\n",
       "      <td>100</td>\n",
       "      <td>100</td>\n",
       "    </tr>\n",
       "    <tr>\n",
       "      <th>1</th>\n",
       "      <td>90</td>\n",
       "      <td>95</td>\n",
       "    </tr>\n",
       "    <tr>\n",
       "      <th>2</th>\n",
       "      <td>95</td>\n",
       "      <td>94</td>\n",
       "    </tr>\n",
       "    <tr>\n",
       "      <th>3</th>\n",
       "      <td>90</td>\n",
       "      <td>64</td>\n",
       "    </tr>\n",
       "    <tr>\n",
       "      <th>4</th>\n",
       "      <td>65</td>\n",
       "      <td>85</td>\n",
       "    </tr>\n",
       "  </tbody>\n",
       "</table>\n",
       "</div>"
      ],
      "text/plain": [
       "   Kor  Eng\n",
       "0  100  100\n",
       "1   90   95\n",
       "2   95   94\n",
       "3   90   64\n",
       "4   65   85"
      ]
     },
     "execution_count": 21,
     "metadata": {},
     "output_type": "execute_result"
    }
   ],
   "source": [
    "df = pd.DataFrame(np.c_[kor, eng], columns = ['Kor','Eng'])\n",
    "df"
   ]
  },
  {
   "cell_type": "code",
   "execution_count": 22,
   "id": "a06607f5",
   "metadata": {
    "ExecuteTime": {
     "end_time": "2024-11-26T05:16:38.854510Z",
     "start_time": "2024-11-26T05:16:38.847529Z"
    }
   },
   "outputs": [
    {
     "data": {
      "text/html": [
       "<div>\n",
       "<style scoped>\n",
       "    .dataframe tbody tr th:only-of-type {\n",
       "        vertical-align: middle;\n",
       "    }\n",
       "\n",
       "    .dataframe tbody tr th {\n",
       "        vertical-align: top;\n",
       "    }\n",
       "\n",
       "    .dataframe thead th {\n",
       "        text-align: right;\n",
       "    }\n",
       "</style>\n",
       "<table border=\"1\" class=\"dataframe\">\n",
       "  <thead>\n",
       "    <tr style=\"text-align: right;\">\n",
       "      <th></th>\n",
       "      <th>kor</th>\n",
       "      <th>eng</th>\n",
       "    </tr>\n",
       "  </thead>\n",
       "  <tbody>\n",
       "    <tr>\n",
       "      <th>0</th>\n",
       "      <td>100</td>\n",
       "      <td>90</td>\n",
       "    </tr>\n",
       "    <tr>\n",
       "      <th>1</th>\n",
       "      <td>10</td>\n",
       "      <td>20</td>\n",
       "    </tr>\n",
       "  </tbody>\n",
       "</table>\n",
       "</div>"
      ],
      "text/plain": [
       "   kor  eng\n",
       "0  100   90\n",
       "1   10   20"
      ]
     },
     "execution_count": 22,
     "metadata": {},
     "output_type": "execute_result"
    }
   ],
   "source": [
    "l = [[100,90],[10,20]]\n",
    "df = pd.DataFrame(l, columns=['kor', 'eng'])\n",
    "df"
   ]
  },
  {
   "cell_type": "code",
   "execution_count": 89,
   "id": "2c22a297",
   "metadata": {
    "ExecuteTime": {
     "end_time": "2024-11-26T05:16:38.893173Z",
     "start_time": "2024-11-26T05:16:38.855507Z"
    }
   },
   "outputs": [
    {
     "name": "stdout",
     "output_type": "stream",
     "text": [
      " D 드라이브의 볼륨에는 이름이 없습니다.\n",
      " 볼륨 일련 번호: C65B-EB1E\n",
      "\n",
      " D:\\KHH\\ai\\Download\\shareData\\상가정보 디렉터리\n",
      "\n",
      "2024-11-25  오후 07:13    <DIR>          .\n",
      "2024-11-25  오후 07:13    <DIR>          ..\n",
      "2024-10-23  오후 05:58             1,011 [필독]파일열람방법.txt\n",
      "2024-10-23  오후 06:19        53,454,658 소상공인시장진흥공단_상가(상권)정보_강원_202409.csv\n",
      "2024-10-23  오후 06:19       301,935,950 소상공인시장진흥공단_상가(상권)정보_경기_202409.csv\n",
      "2024-10-23  오후 06:20        86,291,699 소상공인시장진흥공단_상가(상권)정보_경남_202409.csv\n",
      "2024-10-23  오후 06:20        70,952,897 소상공인시장진흥공단_상가(상권)정보_경북_202409.csv\n",
      "2024-10-23  오후 06:20        36,458,714 소상공인시장진흥공단_상가(상권)정보_광주_202409.csv\n",
      "2024-10-23  오후 06:20        57,391,847 소상공인시장진흥공단_상가(상권)정보_대구_202409.csv\n",
      "2024-10-23  오후 06:20        36,638,904 소상공인시장진흥공단_상가(상권)정보_대전_202409.csv\n",
      "2024-10-23  오후 06:20        78,253,942 소상공인시장진흥공단_상가(상권)정보_부산_202409.csv\n",
      "2024-10-23  오후 06:18       254,255,270 소상공인시장진흥공단_상가(상권)정보_서울_202409.csv\n",
      "2024-10-23  오후 06:18         8,277,492 소상공인시장진흥공단_상가(상권)정보_세종_202409.csv\n",
      "2024-10-23  오후 06:18        26,299,042 소상공인시장진흥공단_상가(상권)정보_울산_202409.csv\n",
      "2024-10-23  오후 06:18        61,674,577 소상공인시장진흥공단_상가(상권)정보_인천_202409.csv\n",
      "2024-10-23  오후 06:19        49,328,950 소상공인시장진흥공단_상가(상권)정보_전남_202409.csv\n",
      "2024-10-23  오후 06:19        51,861,004 소상공인시장진흥공단_상가(상권)정보_전북_202409.csv\n",
      "2024-10-23  오후 06:19        30,450,901 소상공인시장진흥공단_상가(상권)정보_제주_202409.csv\n",
      "2024-10-23  오후 06:19        58,318,672 소상공인시장진흥공단_상가(상권)정보_충남_202409.csv\n",
      "2024-10-23  오후 06:19        44,415,648 소상공인시장진흥공단_상가(상권)정보_충북_202409.csv\n",
      "              18개 파일       1,306,261,178 바이트\n",
<<<<<<< HEAD
      "               2개 디렉터리  468,377,796,608 바이트 남음\n"
=======
      "               2개 디렉터리  980,839,559,168 바이트 남음\n"
>>>>>>> f947206bcd21063277c022fde04bf272e5349212
     ]
    }
   ],
   "source": [
    "%ls D:\\KHH\\ai\\Download\\shareData\\상가정보"
   ]
  },
  {
   "cell_type": "code",
   "execution_count": 90,
   "id": "59bc8878",
   "metadata": {
    "ExecuteTime": {
     "end_time": "2024-11-26T05:16:38.917108Z",
     "start_time": "2024-11-26T05:16:38.895168Z"
    }
   },
   "outputs": [
    {
     "data": {
      "text/plain": [
       "(30, 39)"
      ]
     },
     "execution_count": 90,
     "metadata": {},
     "output_type": "execute_result"
    }
   ],
   "source": [
    "df = pd.read_csv(r'D:\\KHH\\ai\\Download\\shareData\\상가정보\\소상공인시장진흥공단_상가(상권)정보_세종_202409.csv', encoding='utf-8', sep=',', low_memory=False,nrows=30) # 기본값은 생략가능\n",
    "df.shape"
   ]
  },
  {
   "cell_type": "code",
   "execution_count": 91,
   "id": "1829ba64",
   "metadata": {
    "ExecuteTime": {
     "end_time": "2024-11-26T05:16:38.952016Z",
     "start_time": "2024-11-26T05:16:38.921098Z"
    }
   },
   "outputs": [
    {
     "data": {
      "text/html": [
       "<div>\n",
       "<style scoped>\n",
       "    .dataframe tbody tr th:only-of-type {\n",
       "        vertical-align: middle;\n",
       "    }\n",
       "\n",
       "    .dataframe tbody tr th {\n",
       "        vertical-align: top;\n",
       "    }\n",
       "\n",
       "    .dataframe thead th {\n",
       "        text-align: right;\n",
       "    }\n",
       "</style>\n",
       "<table border=\"1\" class=\"dataframe\">\n",
       "  <thead>\n",
       "    <tr style=\"text-align: right;\">\n",
       "      <th></th>\n",
       "      <th>상가업소번호</th>\n",
       "      <th>상호명</th>\n",
       "      <th>지점명</th>\n",
       "      <th>상권업종대분류코드</th>\n",
       "      <th>상권업종대분류명</th>\n",
       "      <th>상권업종중분류코드</th>\n",
       "      <th>상권업종중분류명</th>\n",
       "      <th>상권업종소분류코드</th>\n",
       "      <th>상권업종소분류명</th>\n",
       "      <th>표준산업분류코드</th>\n",
       "      <th>...</th>\n",
       "      <th>건물관리번호</th>\n",
       "      <th>건물명</th>\n",
       "      <th>도로명주소</th>\n",
       "      <th>구우편번호</th>\n",
       "      <th>신우편번호</th>\n",
       "      <th>동정보</th>\n",
       "      <th>층정보</th>\n",
       "      <th>호정보</th>\n",
       "      <th>경도</th>\n",
       "      <th>위도</th>\n",
       "    </tr>\n",
       "  </thead>\n",
       "  <tbody>\n",
       "    <tr>\n",
       "      <th>0</th>\n",
       "      <td>MA0101202210A0084499</td>\n",
       "      <td>베트남쌀국수퍼짱</td>\n",
       "      <td>NaN</td>\n",
       "      <td>I2</td>\n",
       "      <td>음식</td>\n",
       "      <td>I205</td>\n",
       "      <td>동남아시아</td>\n",
       "      <td>I20501</td>\n",
       "      <td>베트남식 전문</td>\n",
       "      <td>I56194</td>\n",
       "      <td>...</td>\n",
       "      <td>3611010700103610086000001</td>\n",
       "      <td>모닝시티2</td>\n",
       "      <td>세종특별자치시 세종특별자치시 한누리대로 311</td>\n",
       "      <td>339003.0</td>\n",
       "      <td>30123</td>\n",
       "      <td>NaN</td>\n",
       "      <td>1.0</td>\n",
       "      <td>NaN</td>\n",
       "      <td>127.255840</td>\n",
       "      <td>36.492065</td>\n",
       "    </tr>\n",
       "    <tr>\n",
       "      <th>1</th>\n",
       "      <td>MA010120220805434190</td>\n",
       "      <td>더함인테리어컨설팅</td>\n",
       "      <td>NaN</td>\n",
       "      <td>M1</td>\n",
       "      <td>과학·기술</td>\n",
       "      <td>M112</td>\n",
       "      <td>전문 디자인</td>\n",
       "      <td>M11201</td>\n",
       "      <td>인테리어 디자인업</td>\n",
       "      <td>M73201</td>\n",
       "      <td>...</td>\n",
       "      <td>3611036033106370003000001</td>\n",
       "      <td>NaN</td>\n",
       "      <td>세종특별자치시 세종특별자치시 연서면 당산로 294</td>\n",
       "      <td>339813.0</td>\n",
       "      <td>30047</td>\n",
       "      <td>NaN</td>\n",
       "      <td>NaN</td>\n",
       "      <td>NaN</td>\n",
       "      <td>127.278712</td>\n",
       "      <td>36.559184</td>\n",
       "    </tr>\n",
       "    <tr>\n",
       "      <th>2</th>\n",
       "      <td>MA010120220805432469</td>\n",
       "      <td>모더니엘살롱</td>\n",
       "      <td>NaN</td>\n",
       "      <td>S2</td>\n",
       "      <td>수리·개인</td>\n",
       "      <td>S207</td>\n",
       "      <td>이용·미용</td>\n",
       "      <td>S20701</td>\n",
       "      <td>미용실</td>\n",
       "      <td>S96112</td>\n",
       "      <td>...</td>\n",
       "      <td>3611010700103610069000001</td>\n",
       "      <td>갤러리밸류시티</td>\n",
       "      <td>세종특별자치시 세종특별자치시 한누리대로 288</td>\n",
       "      <td>339003.0</td>\n",
       "      <td>30128</td>\n",
       "      <td>NaN</td>\n",
       "      <td>2.0</td>\n",
       "      <td>NaN</td>\n",
       "      <td>127.257100</td>\n",
       "      <td>36.489928</td>\n",
       "    </tr>\n",
       "    <tr>\n",
       "      <th>3</th>\n",
       "      <td>MA010120220805435562</td>\n",
       "      <td>카이젠교육</td>\n",
       "      <td>NaN</td>\n",
       "      <td>P1</td>\n",
       "      <td>교육</td>\n",
       "      <td>P105</td>\n",
       "      <td>일반 교육</td>\n",
       "      <td>P10501</td>\n",
       "      <td>입시·교과학원</td>\n",
       "      <td>P85501</td>\n",
       "      <td>...</td>\n",
       "      <td>3611010300106290005000003</td>\n",
       "      <td>보람빌딩</td>\n",
       "      <td>세종특별자치시 세종특별자치시 남세종로 450</td>\n",
       "      <td>339008.0</td>\n",
       "      <td>30150</td>\n",
       "      <td>NaN</td>\n",
       "      <td>7.0</td>\n",
       "      <td>NaN</td>\n",
       "      <td>127.290106</td>\n",
       "      <td>36.477413</td>\n",
       "    </tr>\n",
       "    <tr>\n",
       "      <th>4</th>\n",
       "      <td>MA010120220805437826</td>\n",
       "      <td>가재세탁</td>\n",
       "      <td>NaN</td>\n",
       "      <td>S2</td>\n",
       "      <td>수리·개인</td>\n",
       "      <td>S209</td>\n",
       "      <td>세탁</td>\n",
       "      <td>S20901</td>\n",
       "      <td>세탁소</td>\n",
       "      <td>S96912</td>\n",
       "      <td>...</td>\n",
       "      <td>3611011100200060000000001</td>\n",
       "      <td>가재마을3단지</td>\n",
       "      <td>세종특별자치시 세종특별자치시 도움3로 159</td>\n",
       "      <td>339013.0</td>\n",
       "      <td>30064</td>\n",
       "      <td>NaN</td>\n",
       "      <td>1.0</td>\n",
       "      <td>NaN</td>\n",
       "      <td>127.243749</td>\n",
       "      <td>36.503930</td>\n",
       "    </tr>\n",
       "    <tr>\n",
       "      <th>5</th>\n",
       "      <td>MA010120220805437034</td>\n",
       "      <td>세종마취과</td>\n",
       "      <td>NaN</td>\n",
       "      <td>Q1</td>\n",
       "      <td>보건의료</td>\n",
       "      <td>Q102</td>\n",
       "      <td>의원</td>\n",
       "      <td>Q10209</td>\n",
       "      <td>기타 의원</td>\n",
       "      <td>Q86201</td>\n",
       "      <td>...</td>\n",
       "      <td>3611025027101190012000001</td>\n",
       "      <td>NaN</td>\n",
       "      <td>세종특별자치시 세종특별자치시 조치원읍 새내1길 17</td>\n",
       "      <td>339802.0</td>\n",
       "      <td>30028</td>\n",
       "      <td>NaN</td>\n",
       "      <td>NaN</td>\n",
       "      <td>NaN</td>\n",
       "      <td>127.298363</td>\n",
       "      <td>36.596179</td>\n",
       "    </tr>\n",
       "    <tr>\n",
       "      <th>6</th>\n",
       "      <td>MA010120220805436870</td>\n",
       "      <td>세종유도관</td>\n",
       "      <td>NaN</td>\n",
       "      <td>P1</td>\n",
       "      <td>교육</td>\n",
       "      <td>P106</td>\n",
       "      <td>기타 교육</td>\n",
       "      <td>P10601</td>\n",
       "      <td>태권도/무술학원</td>\n",
       "      <td>P85611</td>\n",
       "      <td>...</td>\n",
       "      <td>3611010300107000076000001</td>\n",
       "      <td>위너스타워</td>\n",
       "      <td>세종특별자치시 세종특별자치시 남세종로 462</td>\n",
       "      <td>339008.0</td>\n",
       "      <td>30150</td>\n",
       "      <td>NaN</td>\n",
       "      <td>NaN</td>\n",
       "      <td>NaN</td>\n",
       "      <td>127.288827</td>\n",
       "      <td>36.476855</td>\n",
       "    </tr>\n",
       "    <tr>\n",
       "      <th>7</th>\n",
       "      <td>MA010120220805439448</td>\n",
       "      <td>세종종합법률사무소</td>\n",
       "      <td>NaN</td>\n",
       "      <td>M1</td>\n",
       "      <td>과학·기술</td>\n",
       "      <td>M103</td>\n",
       "      <td>법무관련</td>\n",
       "      <td>M10301</td>\n",
       "      <td>변호사</td>\n",
       "      <td>M71101</td>\n",
       "      <td>...</td>\n",
       "      <td>3611010700103610050000001</td>\n",
       "      <td>퍼스트원</td>\n",
       "      <td>세종특별자치시 세종특별자치시 나성북로 30</td>\n",
       "      <td>339003.0</td>\n",
       "      <td>30128</td>\n",
       "      <td>NaN</td>\n",
       "      <td>3.0</td>\n",
       "      <td>NaN</td>\n",
       "      <td>127.260244</td>\n",
       "      <td>36.489064</td>\n",
       "    </tr>\n",
       "    <tr>\n",
       "      <th>8</th>\n",
       "      <td>MA010120220805447501</td>\n",
       "      <td>로엘라</td>\n",
       "      <td>NaN</td>\n",
       "      <td>I2</td>\n",
       "      <td>음식</td>\n",
       "      <td>I201</td>\n",
       "      <td>한식</td>\n",
       "      <td>I20101</td>\n",
       "      <td>백반/한정식</td>\n",
       "      <td>I56111</td>\n",
       "      <td>...</td>\n",
       "      <td>4473025021100010022036496</td>\n",
       "      <td>NaN</td>\n",
       "      <td>세종특별자치시 세종특별자치시 조치원읍 조치원7길 12</td>\n",
       "      <td>339883.0</td>\n",
       "      <td>30024</td>\n",
       "      <td>NaN</td>\n",
       "      <td>NaN</td>\n",
       "      <td>NaN</td>\n",
       "      <td>127.300701</td>\n",
       "      <td>36.602104</td>\n",
       "    </tr>\n",
       "    <tr>\n",
       "      <th>9</th>\n",
       "      <td>MA010120220805445058</td>\n",
       "      <td>딥핑크</td>\n",
       "      <td>NaN</td>\n",
       "      <td>G2</td>\n",
       "      <td>소매</td>\n",
       "      <td>G204</td>\n",
       "      <td>종합 소매</td>\n",
       "      <td>G20499</td>\n",
       "      <td>그 외 기타 종합 소매업</td>\n",
       "      <td>G47190</td>\n",
       "      <td>...</td>\n",
       "      <td>3611010800200100000000001</td>\n",
       "      <td>행운빌딩</td>\n",
       "      <td>세종특별자치시 세종특별자치시 새롬중앙로 55</td>\n",
       "      <td>339009.0</td>\n",
       "      <td>30126</td>\n",
       "      <td>NaN</td>\n",
       "      <td>1.0</td>\n",
       "      <td>NaN</td>\n",
       "      <td>127.250343</td>\n",
       "      <td>36.485749</td>\n",
       "    </tr>\n",
       "    <tr>\n",
       "      <th>10</th>\n",
       "      <td>MA010120220805446670</td>\n",
       "      <td>다카렌터카</td>\n",
       "      <td>NaN</td>\n",
       "      <td>N1</td>\n",
       "      <td>시설관리·임대</td>\n",
       "      <td>N109</td>\n",
       "      <td>운송장비 대여</td>\n",
       "      <td>N10901</td>\n",
       "      <td>자동차 대여업</td>\n",
       "      <td>N76110</td>\n",
       "      <td>...</td>\n",
       "      <td>3611035023101350003000002</td>\n",
       "      <td>NaN</td>\n",
       "      <td>세종특별자치시 세종특별자치시 장군면 대교길 147</td>\n",
       "      <td>339913.0</td>\n",
       "      <td>30052</td>\n",
       "      <td>NaN</td>\n",
       "      <td>1.0</td>\n",
       "      <td>NaN</td>\n",
       "      <td>127.222362</td>\n",
       "      <td>36.509335</td>\n",
       "    </tr>\n",
       "    <tr>\n",
       "      <th>11</th>\n",
       "      <td>MA010120220805452173</td>\n",
       "      <td>경진상사</td>\n",
       "      <td>NaN</td>\n",
       "      <td>S2</td>\n",
       "      <td>수리·개인</td>\n",
       "      <td>S206</td>\n",
       "      <td>기타 가정용품 수리</td>\n",
       "      <td>S20601</td>\n",
       "      <td>의류/이불 수선업</td>\n",
       "      <td>S95391</td>\n",
       "      <td>...</td>\n",
       "      <td>3611011000100000000000001</td>\n",
       "      <td>한뜰마을4단지</td>\n",
       "      <td>세종특별자치시 세종특별자치시 다솜1로 21</td>\n",
       "      <td>339012.0</td>\n",
       "      <td>30115</td>\n",
       "      <td>NaN</td>\n",
       "      <td>2.0</td>\n",
       "      <td>NaN</td>\n",
       "      <td>127.255634</td>\n",
       "      <td>36.500806</td>\n",
       "    </tr>\n",
       "    <tr>\n",
       "      <th>12</th>\n",
       "      <td>MA010120220805448766</td>\n",
       "      <td>미요가.필라테스</td>\n",
       "      <td>NaN</td>\n",
       "      <td>P1</td>\n",
       "      <td>교육</td>\n",
       "      <td>P106</td>\n",
       "      <td>기타 교육</td>\n",
       "      <td>P10603</td>\n",
       "      <td>요가/필라테스 학원</td>\n",
       "      <td>P85612</td>\n",
       "      <td>...</td>\n",
       "      <td>3611010800200190000000001</td>\n",
       "      <td>해피라움W</td>\n",
       "      <td>세종특별자치시 세종특별자치시 새롬중앙로 62-15</td>\n",
       "      <td>339009.0</td>\n",
       "      <td>30127</td>\n",
       "      <td>NaN</td>\n",
       "      <td>3.0</td>\n",
       "      <td>NaN</td>\n",
       "      <td>127.251201</td>\n",
       "      <td>36.487016</td>\n",
       "    </tr>\n",
       "    <tr>\n",
       "      <th>13</th>\n",
       "      <td>MA010120220805446877</td>\n",
       "      <td>세종드럼뮤직학원</td>\n",
       "      <td>NaN</td>\n",
       "      <td>P1</td>\n",
       "      <td>교육</td>\n",
       "      <td>P106</td>\n",
       "      <td>기타 교육</td>\n",
       "      <td>P10609</td>\n",
       "      <td>음악학원</td>\n",
       "      <td>P85621</td>\n",
       "      <td>...</td>\n",
       "      <td>3611025029100480002000001</td>\n",
       "      <td>NaN</td>\n",
       "      <td>세종특별자치시 세종특별자치시 조치원읍 충현로 91</td>\n",
       "      <td>339807.0</td>\n",
       "      <td>30029</td>\n",
       "      <td>NaN</td>\n",
       "      <td>NaN</td>\n",
       "      <td>NaN</td>\n",
       "      <td>127.295396</td>\n",
       "      <td>36.596684</td>\n",
       "    </tr>\n",
       "    <tr>\n",
       "      <th>14</th>\n",
       "      <td>MA010120220805448536</td>\n",
       "      <td>혜성주얼리</td>\n",
       "      <td>NaN</td>\n",
       "      <td>G2</td>\n",
       "      <td>소매</td>\n",
       "      <td>G217</td>\n",
       "      <td>시계·귀금속 소매</td>\n",
       "      <td>G21701</td>\n",
       "      <td>시계/귀금속 소매업</td>\n",
       "      <td>G47830</td>\n",
       "      <td>...</td>\n",
       "      <td>3611011400106530000000001</td>\n",
       "      <td>도램마을11단지</td>\n",
       "      <td>세종특별자치시 세종특별자치시 보듬4로 9</td>\n",
       "      <td>339006.0</td>\n",
       "      <td>30098</td>\n",
       "      <td>NaN</td>\n",
       "      <td>1.0</td>\n",
       "      <td>NaN</td>\n",
       "      <td>127.260707</td>\n",
       "      <td>36.513112</td>\n",
       "    </tr>\n",
       "    <tr>\n",
       "      <th>15</th>\n",
       "      <td>MA010120220805441159</td>\n",
       "      <td>목향재</td>\n",
       "      <td>NaN</td>\n",
       "      <td>I1</td>\n",
       "      <td>숙박</td>\n",
       "      <td>I101</td>\n",
       "      <td>일반 숙박</td>\n",
       "      <td>I10102</td>\n",
       "      <td>여관/모텔</td>\n",
       "      <td>I55102</td>\n",
       "      <td>...</td>\n",
       "      <td>3611011200117540000000001</td>\n",
       "      <td>NaN</td>\n",
       "      <td>세종특별자치시 세종특별자치시 만남로6길 33</td>\n",
       "      <td>339002.0</td>\n",
       "      <td>30063</td>\n",
       "      <td>NaN</td>\n",
       "      <td>NaN</td>\n",
       "      <td>NaN</td>\n",
       "      <td>127.239905</td>\n",
       "      <td>36.501977</td>\n",
       "    </tr>\n",
       "    <tr>\n",
       "      <th>16</th>\n",
       "      <td>MA010120220805440735</td>\n",
       "      <td>아름다운기획</td>\n",
       "      <td>NaN</td>\n",
       "      <td>M1</td>\n",
       "      <td>과학·기술</td>\n",
       "      <td>M105</td>\n",
       "      <td>광고</td>\n",
       "      <td>M10504</td>\n",
       "      <td>광고물 설계/제작업</td>\n",
       "      <td>M71393</td>\n",
       "      <td>...</td>\n",
       "      <td>3611035021100130000000001</td>\n",
       "      <td>NaN</td>\n",
       "      <td>세종특별자치시 세종특별자치시 장군면 풍덕골길 21-13</td>\n",
       "      <td>339913.0</td>\n",
       "      <td>30053</td>\n",
       "      <td>NaN</td>\n",
       "      <td>NaN</td>\n",
       "      <td>NaN</td>\n",
       "      <td>127.210656</td>\n",
       "      <td>36.493433</td>\n",
       "    </tr>\n",
       "    <tr>\n",
       "      <th>17</th>\n",
       "      <td>MA010120220805444116</td>\n",
       "      <td>스튜디오에프피</td>\n",
       "      <td>NaN</td>\n",
       "      <td>M1</td>\n",
       "      <td>과학·기술</td>\n",
       "      <td>M112</td>\n",
       "      <td>전문 디자인</td>\n",
       "      <td>M11204</td>\n",
       "      <td>패션/섬유/기타 전문 디자인업</td>\n",
       "      <td>M73209</td>\n",
       "      <td>...</td>\n",
       "      <td>3611011000106710000000001</td>\n",
       "      <td>에비뉴힐</td>\n",
       "      <td>세종특별자치시 세종특별자치시 갈매로 351</td>\n",
       "      <td>339012.0</td>\n",
       "      <td>30121</td>\n",
       "      <td>NaN</td>\n",
       "      <td>6.0</td>\n",
       "      <td>NaN</td>\n",
       "      <td>127.262186</td>\n",
       "      <td>36.494961</td>\n",
       "    </tr>\n",
       "    <tr>\n",
       "      <th>18</th>\n",
       "      <td>MA010120220805442955</td>\n",
       "      <td>올진스시</td>\n",
       "      <td>NaN</td>\n",
       "      <td>I2</td>\n",
       "      <td>음식</td>\n",
       "      <td>I203</td>\n",
       "      <td>일식</td>\n",
       "      <td>I20301</td>\n",
       "      <td>일식 회/초밥</td>\n",
       "      <td>I56122</td>\n",
       "      <td>...</td>\n",
       "      <td>3611011000105390000000001</td>\n",
       "      <td>KT&amp;G세종타워A</td>\n",
       "      <td>세종특별자치시 세종특별자치시 한누리대로 411</td>\n",
       "      <td>339012.0</td>\n",
       "      <td>30116</td>\n",
       "      <td>NaN</td>\n",
       "      <td>3.0</td>\n",
       "      <td>NaN</td>\n",
       "      <td>127.258857</td>\n",
       "      <td>36.501123</td>\n",
       "    </tr>\n",
       "    <tr>\n",
       "      <th>19</th>\n",
       "      <td>MA010120220805441629</td>\n",
       "      <td>엄마손김밥</td>\n",
       "      <td>NaN</td>\n",
       "      <td>I2</td>\n",
       "      <td>음식</td>\n",
       "      <td>I210</td>\n",
       "      <td>기타 간이</td>\n",
       "      <td>I21007</td>\n",
       "      <td>김밥/만두/분식</td>\n",
       "      <td>I56194</td>\n",
       "      <td>...</td>\n",
       "      <td>3611010700104210000000001</td>\n",
       "      <td>에스알파크원</td>\n",
       "      <td>세종특별자치시 세종특별자치시 한누리대로 245</td>\n",
       "      <td>339003.0</td>\n",
       "      <td>30127</td>\n",
       "      <td>NaN</td>\n",
       "      <td>1.0</td>\n",
       "      <td>NaN</td>\n",
       "      <td>127.257683</td>\n",
       "      <td>36.486065</td>\n",
       "    </tr>\n",
       "    <tr>\n",
       "      <th>20</th>\n",
       "      <td>MA010120220805444812</td>\n",
       "      <td>부동산땅집go공인중개사사무소</td>\n",
       "      <td>NaN</td>\n",
       "      <td>L1</td>\n",
       "      <td>부동산</td>\n",
       "      <td>L102</td>\n",
       "      <td>부동산 서비스</td>\n",
       "      <td>L10203</td>\n",
       "      <td>부동산 중개/대리업</td>\n",
       "      <td>L68221</td>\n",
       "      <td>...</td>\n",
       "      <td>4473025029100010023039769</td>\n",
       "      <td>NaN</td>\n",
       "      <td>세종특별자치시 세종특별자치시 조치원읍 신흥샛터길 43</td>\n",
       "      <td>339807.0</td>\n",
       "      <td>30029</td>\n",
       "      <td>NaN</td>\n",
       "      <td>NaN</td>\n",
       "      <td>NaN</td>\n",
       "      <td>127.295235</td>\n",
       "      <td>36.597233</td>\n",
       "    </tr>\n",
       "    <tr>\n",
       "      <th>21</th>\n",
       "      <td>MA010120220805443708</td>\n",
       "      <td>머슬케어필라테스</td>\n",
       "      <td>NaN</td>\n",
       "      <td>P1</td>\n",
       "      <td>교육</td>\n",
       "      <td>P106</td>\n",
       "      <td>기타 교육</td>\n",
       "      <td>P10603</td>\n",
       "      <td>요가/필라테스 학원</td>\n",
       "      <td>P85612</td>\n",
       "      <td>...</td>\n",
       "      <td>3611010700103610079000001</td>\n",
       "      <td>메가타워2</td>\n",
       "      <td>세종특별자치시 세종특별자치시 나성북1로 12</td>\n",
       "      <td>339003.0</td>\n",
       "      <td>30128</td>\n",
       "      <td>NaN</td>\n",
       "      <td>5.0</td>\n",
       "      <td>NaN</td>\n",
       "      <td>127.257625</td>\n",
       "      <td>36.490995</td>\n",
       "    </tr>\n",
       "    <tr>\n",
       "      <th>22</th>\n",
       "      <td>MA010120220805442296</td>\n",
       "      <td>천지연가든</td>\n",
       "      <td>NaN</td>\n",
       "      <td>I2</td>\n",
       "      <td>음식</td>\n",
       "      <td>I201</td>\n",
       "      <td>한식</td>\n",
       "      <td>I20101</td>\n",
       "      <td>백반/한정식</td>\n",
       "      <td>I56111</td>\n",
       "      <td>...</td>\n",
       "      <td>4473032023105860014019442</td>\n",
       "      <td>NaN</td>\n",
       "      <td>세종특별자치시 세종특별자치시 연서면 월하천로 3</td>\n",
       "      <td>339814.0</td>\n",
       "      <td>30043</td>\n",
       "      <td>NaN</td>\n",
       "      <td>NaN</td>\n",
       "      <td>NaN</td>\n",
       "      <td>127.264880</td>\n",
       "      <td>36.588912</td>\n",
       "    </tr>\n",
       "    <tr>\n",
       "      <th>23</th>\n",
       "      <td>MA010120220805440526</td>\n",
       "      <td>아르드뽀에스테틱</td>\n",
       "      <td>NaN</td>\n",
       "      <td>S2</td>\n",
       "      <td>수리·개인</td>\n",
       "      <td>S207</td>\n",
       "      <td>이용·미용</td>\n",
       "      <td>S20702</td>\n",
       "      <td>피부 관리실</td>\n",
       "      <td>S96113</td>\n",
       "      <td>...</td>\n",
       "      <td>3611010700104550001000001</td>\n",
       "      <td>세종마루</td>\n",
       "      <td>세종특별자치시 세종특별자치시 한누리대로 227</td>\n",
       "      <td>339003.0</td>\n",
       "      <td>30127</td>\n",
       "      <td>NaN</td>\n",
       "      <td>2.0</td>\n",
       "      <td>NaN</td>\n",
       "      <td>127.258510</td>\n",
       "      <td>36.484854</td>\n",
       "    </tr>\n",
       "    <tr>\n",
       "      <th>24</th>\n",
       "      <td>MA010120220805443477</td>\n",
       "      <td>쿠헤어</td>\n",
       "      <td>NaN</td>\n",
       "      <td>S2</td>\n",
       "      <td>수리·개인</td>\n",
       "      <td>S207</td>\n",
       "      <td>이용·미용</td>\n",
       "      <td>S20701</td>\n",
       "      <td>미용실</td>\n",
       "      <td>S96112</td>\n",
       "      <td>...</td>\n",
       "      <td>4473025025100330004042223</td>\n",
       "      <td>NaN</td>\n",
       "      <td>세종특별자치시 세종특별자치시 조치원읍 새내8길 17</td>\n",
       "      <td>339882.0</td>\n",
       "      <td>30027</td>\n",
       "      <td>NaN</td>\n",
       "      <td>1.0</td>\n",
       "      <td>NaN</td>\n",
       "      <td>127.299270</td>\n",
       "      <td>36.599645</td>\n",
       "    </tr>\n",
       "    <tr>\n",
       "      <th>25</th>\n",
       "      <td>MA010120220805457023</td>\n",
       "      <td>세종하이엔드학원</td>\n",
       "      <td>NaN</td>\n",
       "      <td>P1</td>\n",
       "      <td>교육</td>\n",
       "      <td>P105</td>\n",
       "      <td>일반 교육</td>\n",
       "      <td>P10501</td>\n",
       "      <td>입시·교과학원</td>\n",
       "      <td>P85501</td>\n",
       "      <td>...</td>\n",
       "      <td>3611010800100740004000001</td>\n",
       "      <td>에스제이타워</td>\n",
       "      <td>세종특별자치시 세종특별자치시 한누리대로 249</td>\n",
       "      <td>339003.0</td>\n",
       "      <td>30127</td>\n",
       "      <td>NaN</td>\n",
       "      <td>NaN</td>\n",
       "      <td>NaN</td>\n",
       "      <td>127.257457</td>\n",
       "      <td>36.486425</td>\n",
       "    </tr>\n",
       "    <tr>\n",
       "      <th>26</th>\n",
       "      <td>MA010120220805461877</td>\n",
       "      <td>캐치업세종</td>\n",
       "      <td>NaN</td>\n",
       "      <td>G2</td>\n",
       "      <td>소매</td>\n",
       "      <td>G215</td>\n",
       "      <td>의약·화장품 소매</td>\n",
       "      <td>G21503</td>\n",
       "      <td>화장품 소매업</td>\n",
       "      <td>G47813</td>\n",
       "      <td>...</td>\n",
       "      <td>3611010700103610037000001</td>\n",
       "      <td>스타타워</td>\n",
       "      <td>세종특별자치시 세종특별자치시 나성로 125-16</td>\n",
       "      <td>339003.0</td>\n",
       "      <td>30128</td>\n",
       "      <td>NaN</td>\n",
       "      <td>NaN</td>\n",
       "      <td>NaN</td>\n",
       "      <td>127.257757</td>\n",
       "      <td>36.490094</td>\n",
       "    </tr>\n",
       "    <tr>\n",
       "      <th>27</th>\n",
       "      <td>MA010120220805457615</td>\n",
       "      <td>인성세무회계사무소</td>\n",
       "      <td>NaN</td>\n",
       "      <td>M1</td>\n",
       "      <td>과학·기술</td>\n",
       "      <td>M104</td>\n",
       "      <td>회계·세무</td>\n",
       "      <td>M10401</td>\n",
       "      <td>공인회계사</td>\n",
       "      <td>M71201</td>\n",
       "      <td>...</td>\n",
       "      <td>3611010300106640010000001</td>\n",
       "      <td>스마트허브Ⅰ</td>\n",
       "      <td>세종특별자치시 세종특별자치시 한누리대로 2150</td>\n",
       "      <td>339008.0</td>\n",
       "      <td>30151</td>\n",
       "      <td>NaN</td>\n",
       "      <td>5.0</td>\n",
       "      <td>NaN</td>\n",
       "      <td>127.287328</td>\n",
       "      <td>36.478505</td>\n",
       "    </tr>\n",
       "    <tr>\n",
       "      <th>28</th>\n",
       "      <td>MA010120220805459636</td>\n",
       "      <td>모던제이</td>\n",
       "      <td>NaN</td>\n",
       "      <td>G2</td>\n",
       "      <td>소매</td>\n",
       "      <td>G209</td>\n",
       "      <td>섬유·의복·신발 소매</td>\n",
       "      <td>G20911</td>\n",
       "      <td>가방 소매업</td>\n",
       "      <td>G47440</td>\n",
       "      <td>...</td>\n",
       "      <td>4473035023101020000003387</td>\n",
       "      <td>NaN</td>\n",
       "      <td>세종특별자치시 세종특별자치시 전의면 내서길 37</td>\n",
       "      <td>339851.0</td>\n",
       "      <td>30004</td>\n",
       "      <td>NaN</td>\n",
       "      <td>NaN</td>\n",
       "      <td>NaN</td>\n",
       "      <td>127.192993</td>\n",
       "      <td>36.689317</td>\n",
       "    </tr>\n",
       "    <tr>\n",
       "      <th>29</th>\n",
       "      <td>MA010120220805452812</td>\n",
       "      <td>엘리시아헤어살롱</td>\n",
       "      <td>NaN</td>\n",
       "      <td>S2</td>\n",
       "      <td>수리·개인</td>\n",
       "      <td>S207</td>\n",
       "      <td>이용·미용</td>\n",
       "      <td>S20701</td>\n",
       "      <td>미용실</td>\n",
       "      <td>S96112</td>\n",
       "      <td>...</td>\n",
       "      <td>3611011600103200005000001</td>\n",
       "      <td>해밀마을1단지</td>\n",
       "      <td>세종특별자치시 세종특별자치시 해밀3로 32</td>\n",
       "      <td>NaN</td>\n",
       "      <td>30092</td>\n",
       "      <td>NaN</td>\n",
       "      <td>1.0</td>\n",
       "      <td>NaN</td>\n",
       "      <td>127.267243</td>\n",
       "      <td>36.529284</td>\n",
       "    </tr>\n",
       "  </tbody>\n",
       "</table>\n",
       "<p>30 rows × 39 columns</p>\n",
       "</div>"
      ],
      "text/plain": [
       "                  상가업소번호              상호명  지점명 상권업종대분류코드 상권업종대분류명 상권업종중분류코드  \\\n",
       "0   MA0101202210A0084499         베트남쌀국수퍼짱  NaN        I2       음식      I205   \n",
       "1   MA010120220805434190        더함인테리어컨설팅  NaN        M1    과학·기술      M112   \n",
       "2   MA010120220805432469           모더니엘살롱  NaN        S2    수리·개인      S207   \n",
       "3   MA010120220805435562            카이젠교육  NaN        P1       교육      P105   \n",
       "4   MA010120220805437826             가재세탁  NaN        S2    수리·개인      S209   \n",
       "5   MA010120220805437034            세종마취과  NaN        Q1     보건의료      Q102   \n",
       "6   MA010120220805436870            세종유도관  NaN        P1       교육      P106   \n",
       "7   MA010120220805439448        세종종합법률사무소  NaN        M1    과학·기술      M103   \n",
       "8   MA010120220805447501              로엘라  NaN        I2       음식      I201   \n",
       "9   MA010120220805445058              딥핑크  NaN        G2       소매      G204   \n",
       "10  MA010120220805446670            다카렌터카  NaN        N1  시설관리·임대      N109   \n",
       "11  MA010120220805452173             경진상사  NaN        S2    수리·개인      S206   \n",
       "12  MA010120220805448766         미요가.필라테스  NaN        P1       교육      P106   \n",
       "13  MA010120220805446877         세종드럼뮤직학원  NaN        P1       교육      P106   \n",
       "14  MA010120220805448536            혜성주얼리  NaN        G2       소매      G217   \n",
       "15  MA010120220805441159              목향재  NaN        I1       숙박      I101   \n",
       "16  MA010120220805440735           아름다운기획  NaN        M1    과학·기술      M105   \n",
       "17  MA010120220805444116          스튜디오에프피  NaN        M1    과학·기술      M112   \n",
       "18  MA010120220805442955             올진스시  NaN        I2       음식      I203   \n",
       "19  MA010120220805441629            엄마손김밥  NaN        I2       음식      I210   \n",
       "20  MA010120220805444812  부동산땅집go공인중개사사무소  NaN        L1      부동산      L102   \n",
       "21  MA010120220805443708         머슬케어필라테스  NaN        P1       교육      P106   \n",
       "22  MA010120220805442296            천지연가든  NaN        I2       음식      I201   \n",
       "23  MA010120220805440526         아르드뽀에스테틱  NaN        S2    수리·개인      S207   \n",
       "24  MA010120220805443477              쿠헤어  NaN        S2    수리·개인      S207   \n",
       "25  MA010120220805457023         세종하이엔드학원  NaN        P1       교육      P105   \n",
       "26  MA010120220805461877            캐치업세종  NaN        G2       소매      G215   \n",
       "27  MA010120220805457615        인성세무회계사무소  NaN        M1    과학·기술      M104   \n",
       "28  MA010120220805459636             모던제이  NaN        G2       소매      G209   \n",
       "29  MA010120220805452812         엘리시아헤어살롱  NaN        S2    수리·개인      S207   \n",
       "\n",
       "       상권업종중분류명 상권업종소분류코드          상권업종소분류명 표준산업분류코드  ...  \\\n",
       "0         동남아시아    I20501           베트남식 전문   I56194  ...   \n",
       "1        전문 디자인    M11201         인테리어 디자인업   M73201  ...   \n",
       "2         이용·미용    S20701               미용실   S96112  ...   \n",
       "3         일반 교육    P10501           입시·교과학원   P85501  ...   \n",
       "4            세탁    S20901               세탁소   S96912  ...   \n",
       "5            의원    Q10209             기타 의원   Q86201  ...   \n",
       "6         기타 교육    P10601          태권도/무술학원   P85611  ...   \n",
       "7         법무관련     M10301               변호사   M71101  ...   \n",
       "8            한식    I20101            백반/한정식   I56111  ...   \n",
       "9         종합 소매    G20499     그 외 기타 종합 소매업   G47190  ...   \n",
       "10      운송장비 대여    N10901           자동차 대여업   N76110  ...   \n",
       "11   기타 가정용품 수리    S20601         의류/이불 수선업   S95391  ...   \n",
       "12        기타 교육    P10603        요가/필라테스 학원   P85612  ...   \n",
       "13        기타 교육    P10609              음악학원   P85621  ...   \n",
       "14    시계·귀금속 소매    G21701        시계/귀금속 소매업   G47830  ...   \n",
       "15        일반 숙박    I10102             여관/모텔   I55102  ...   \n",
       "16           광고    M10504        광고물 설계/제작업   M71393  ...   \n",
       "17       전문 디자인    M11204  패션/섬유/기타 전문 디자인업   M73209  ...   \n",
       "18           일식    I20301           일식 회/초밥   I56122  ...   \n",
       "19        기타 간이    I21007          김밥/만두/분식   I56194  ...   \n",
       "20      부동산 서비스    L10203        부동산 중개/대리업   L68221  ...   \n",
       "21        기타 교육    P10603        요가/필라테스 학원   P85612  ...   \n",
       "22           한식    I20101            백반/한정식   I56111  ...   \n",
       "23        이용·미용    S20702            피부 관리실   S96113  ...   \n",
       "24        이용·미용    S20701               미용실   S96112  ...   \n",
       "25        일반 교육    P10501           입시·교과학원   P85501  ...   \n",
       "26    의약·화장품 소매    G21503           화장품 소매업   G47813  ...   \n",
       "27        회계·세무    M10401             공인회계사   M71201  ...   \n",
       "28  섬유·의복·신발 소매    G20911            가방 소매업   G47440  ...   \n",
       "29        이용·미용    S20701               미용실   S96112  ...   \n",
       "\n",
       "                       건물관리번호        건물명                           도로명주소  \\\n",
       "0   3611010700103610086000001      모닝시티2       세종특별자치시 세종특별자치시 한누리대로 311   \n",
       "1   3611036033106370003000001        NaN     세종특별자치시 세종특별자치시 연서면 당산로 294   \n",
       "2   3611010700103610069000001    갤러리밸류시티       세종특별자치시 세종특별자치시 한누리대로 288   \n",
       "3   3611010300106290005000003       보람빌딩        세종특별자치시 세종특별자치시 남세종로 450   \n",
       "4   3611011100200060000000001    가재마을3단지        세종특별자치시 세종특별자치시 도움3로 159   \n",
       "5   3611025027101190012000001        NaN    세종특별자치시 세종특별자치시 조치원읍 새내1길 17   \n",
       "6   3611010300107000076000001      위너스타워        세종특별자치시 세종특별자치시 남세종로 462   \n",
       "7   3611010700103610050000001       퍼스트원         세종특별자치시 세종특별자치시 나성북로 30   \n",
       "8   4473025021100010022036496        NaN   세종특별자치시 세종특별자치시 조치원읍 조치원7길 12   \n",
       "9   3611010800200100000000001       행운빌딩        세종특별자치시 세종특별자치시 새롬중앙로 55   \n",
       "10  3611035023101350003000002        NaN     세종특별자치시 세종특별자치시 장군면 대교길 147   \n",
       "11  3611011000100000000000001    한뜰마을4단지         세종특별자치시 세종특별자치시 다솜1로 21   \n",
       "12  3611010800200190000000001      해피라움W     세종특별자치시 세종특별자치시 새롬중앙로 62-15   \n",
       "13  3611025029100480002000001        NaN     세종특별자치시 세종특별자치시 조치원읍 충현로 91   \n",
       "14  3611011400106530000000001   도램마을11단지          세종특별자치시 세종특별자치시 보듬4로 9   \n",
       "15  3611011200117540000000001        NaN        세종특별자치시 세종특별자치시 만남로6길 33   \n",
       "16  3611035021100130000000001        NaN  세종특별자치시 세종특별자치시 장군면 풍덕골길 21-13   \n",
       "17  3611011000106710000000001       에비뉴힐         세종특별자치시 세종특별자치시 갈매로 351   \n",
       "18  3611011000105390000000001  KT&G세종타워A       세종특별자치시 세종특별자치시 한누리대로 411   \n",
       "19  3611010700104210000000001     에스알파크원       세종특별자치시 세종특별자치시 한누리대로 245   \n",
       "20  4473025029100010023039769        NaN   세종특별자치시 세종특별자치시 조치원읍 신흥샛터길 43   \n",
       "21  3611010700103610079000001      메가타워2        세종특별자치시 세종특별자치시 나성북1로 12   \n",
       "22  4473032023105860014019442        NaN      세종특별자치시 세종특별자치시 연서면 월하천로 3   \n",
       "23  3611010700104550001000001       세종마루       세종특별자치시 세종특별자치시 한누리대로 227   \n",
       "24  4473025025100330004042223        NaN    세종특별자치시 세종특별자치시 조치원읍 새내8길 17   \n",
       "25  3611010800100740004000001     에스제이타워       세종특별자치시 세종특별자치시 한누리대로 249   \n",
       "26  3611010700103610037000001       스타타워      세종특별자치시 세종특별자치시 나성로 125-16   \n",
       "27  3611010300106640010000001     스마트허브Ⅰ      세종특별자치시 세종특별자치시 한누리대로 2150   \n",
       "28  4473035023101020000003387        NaN      세종특별자치시 세종특별자치시 전의면 내서길 37   \n",
       "29  3611011600103200005000001    해밀마을1단지         세종특별자치시 세종특별자치시 해밀3로 32   \n",
       "\n",
       "       구우편번호  신우편번호  동정보  층정보  호정보          경도         위도  \n",
       "0   339003.0  30123  NaN  1.0  NaN  127.255840  36.492065  \n",
       "1   339813.0  30047  NaN  NaN  NaN  127.278712  36.559184  \n",
       "2   339003.0  30128  NaN  2.0  NaN  127.257100  36.489928  \n",
       "3   339008.0  30150  NaN  7.0  NaN  127.290106  36.477413  \n",
       "4   339013.0  30064  NaN  1.0  NaN  127.243749  36.503930  \n",
       "5   339802.0  30028  NaN  NaN  NaN  127.298363  36.596179  \n",
       "6   339008.0  30150  NaN  NaN  NaN  127.288827  36.476855  \n",
       "7   339003.0  30128  NaN  3.0  NaN  127.260244  36.489064  \n",
       "8   339883.0  30024  NaN  NaN  NaN  127.300701  36.602104  \n",
       "9   339009.0  30126  NaN  1.0  NaN  127.250343  36.485749  \n",
       "10  339913.0  30052  NaN  1.0  NaN  127.222362  36.509335  \n",
       "11  339012.0  30115  NaN  2.0  NaN  127.255634  36.500806  \n",
       "12  339009.0  30127  NaN  3.0  NaN  127.251201  36.487016  \n",
       "13  339807.0  30029  NaN  NaN  NaN  127.295396  36.596684  \n",
       "14  339006.0  30098  NaN  1.0  NaN  127.260707  36.513112  \n",
       "15  339002.0  30063  NaN  NaN  NaN  127.239905  36.501977  \n",
       "16  339913.0  30053  NaN  NaN  NaN  127.210656  36.493433  \n",
       "17  339012.0  30121  NaN  6.0  NaN  127.262186  36.494961  \n",
       "18  339012.0  30116  NaN  3.0  NaN  127.258857  36.501123  \n",
       "19  339003.0  30127  NaN  1.0  NaN  127.257683  36.486065  \n",
       "20  339807.0  30029  NaN  NaN  NaN  127.295235  36.597233  \n",
       "21  339003.0  30128  NaN  5.0  NaN  127.257625  36.490995  \n",
       "22  339814.0  30043  NaN  NaN  NaN  127.264880  36.588912  \n",
       "23  339003.0  30127  NaN  2.0  NaN  127.258510  36.484854  \n",
       "24  339882.0  30027  NaN  1.0  NaN  127.299270  36.599645  \n",
       "25  339003.0  30127  NaN  NaN  NaN  127.257457  36.486425  \n",
       "26  339003.0  30128  NaN  NaN  NaN  127.257757  36.490094  \n",
       "27  339008.0  30151  NaN  5.0  NaN  127.287328  36.478505  \n",
       "28  339851.0  30004  NaN  NaN  NaN  127.192993  36.689317  \n",
       "29       NaN  30092  NaN  1.0  NaN  127.267243  36.529284  \n",
       "\n",
       "[30 rows x 39 columns]"
      ]
     },
     "execution_count": 91,
     "metadata": {},
     "output_type": "execute_result"
    }
   ],
   "source": [
    "df"
   ]
  },
  {
   "cell_type": "code",
   "execution_count": 92,
   "id": "61686278",
   "metadata": {
    "ExecuteTime": {
     "end_time": "2024-11-26T05:16:38.989089Z",
     "start_time": "2024-11-26T05:16:38.955007Z"
    }
   },
   "outputs": [
    {
     "data": {
      "text/html": [
       "<div>\n",
       "<style scoped>\n",
       "    .dataframe tbody tr th:only-of-type {\n",
       "        vertical-align: middle;\n",
       "    }\n",
       "\n",
       "    .dataframe tbody tr th {\n",
       "        vertical-align: top;\n",
       "    }\n",
       "\n",
       "    .dataframe thead th {\n",
       "        text-align: right;\n",
       "    }\n",
       "</style>\n",
       "<table border=\"1\" class=\"dataframe\">\n",
       "  <thead>\n",
       "    <tr style=\"text-align: right;\">\n",
       "      <th></th>\n",
       "      <th>0</th>\n",
       "      <th>1</th>\n",
       "      <th>2</th>\n",
       "      <th>3</th>\n",
       "      <th>4</th>\n",
       "      <th>5</th>\n",
       "      <th>6</th>\n",
       "      <th>7</th>\n",
       "      <th>8</th>\n",
       "      <th>9</th>\n",
       "      <th>...</th>\n",
       "      <th>20</th>\n",
       "      <th>21</th>\n",
       "      <th>22</th>\n",
       "      <th>23</th>\n",
       "      <th>24</th>\n",
       "      <th>25</th>\n",
       "      <th>26</th>\n",
       "      <th>27</th>\n",
       "      <th>28</th>\n",
       "      <th>29</th>\n",
       "    </tr>\n",
       "  </thead>\n",
       "  <tbody>\n",
       "    <tr>\n",
       "      <th>상가업소번호</th>\n",
       "      <td>MA0101202210A0084499</td>\n",
       "      <td>MA010120220805434190</td>\n",
       "      <td>MA010120220805432469</td>\n",
       "      <td>MA010120220805435562</td>\n",
       "      <td>MA010120220805437826</td>\n",
       "      <td>MA010120220805437034</td>\n",
       "      <td>MA010120220805436870</td>\n",
       "      <td>MA010120220805439448</td>\n",
       "      <td>MA010120220805447501</td>\n",
       "      <td>MA010120220805445058</td>\n",
       "      <td>...</td>\n",
       "      <td>MA010120220805444812</td>\n",
       "      <td>MA010120220805443708</td>\n",
       "      <td>MA010120220805442296</td>\n",
       "      <td>MA010120220805440526</td>\n",
       "      <td>MA010120220805443477</td>\n",
       "      <td>MA010120220805457023</td>\n",
       "      <td>MA010120220805461877</td>\n",
       "      <td>MA010120220805457615</td>\n",
       "      <td>MA010120220805459636</td>\n",
       "      <td>MA010120220805452812</td>\n",
       "    </tr>\n",
       "    <tr>\n",
       "      <th>상호명</th>\n",
       "      <td>베트남쌀국수퍼짱</td>\n",
       "      <td>더함인테리어컨설팅</td>\n",
       "      <td>모더니엘살롱</td>\n",
       "      <td>카이젠교육</td>\n",
       "      <td>가재세탁</td>\n",
       "      <td>세종마취과</td>\n",
       "      <td>세종유도관</td>\n",
       "      <td>세종종합법률사무소</td>\n",
       "      <td>로엘라</td>\n",
       "      <td>딥핑크</td>\n",
       "      <td>...</td>\n",
       "      <td>부동산땅집go공인중개사사무소</td>\n",
       "      <td>머슬케어필라테스</td>\n",
       "      <td>천지연가든</td>\n",
       "      <td>아르드뽀에스테틱</td>\n",
       "      <td>쿠헤어</td>\n",
       "      <td>세종하이엔드학원</td>\n",
       "      <td>캐치업세종</td>\n",
       "      <td>인성세무회계사무소</td>\n",
       "      <td>모던제이</td>\n",
       "      <td>엘리시아헤어살롱</td>\n",
       "    </tr>\n",
       "    <tr>\n",
       "      <th>지점명</th>\n",
       "      <td>NaN</td>\n",
       "      <td>NaN</td>\n",
       "      <td>NaN</td>\n",
       "      <td>NaN</td>\n",
       "      <td>NaN</td>\n",
       "      <td>NaN</td>\n",
       "      <td>NaN</td>\n",
       "      <td>NaN</td>\n",
       "      <td>NaN</td>\n",
       "      <td>NaN</td>\n",
       "      <td>...</td>\n",
       "      <td>NaN</td>\n",
       "      <td>NaN</td>\n",
       "      <td>NaN</td>\n",
       "      <td>NaN</td>\n",
       "      <td>NaN</td>\n",
       "      <td>NaN</td>\n",
       "      <td>NaN</td>\n",
       "      <td>NaN</td>\n",
       "      <td>NaN</td>\n",
       "      <td>NaN</td>\n",
       "    </tr>\n",
       "    <tr>\n",
       "      <th>상권업종대분류코드</th>\n",
       "      <td>I2</td>\n",
       "      <td>M1</td>\n",
       "      <td>S2</td>\n",
       "      <td>P1</td>\n",
       "      <td>S2</td>\n",
       "      <td>Q1</td>\n",
       "      <td>P1</td>\n",
       "      <td>M1</td>\n",
       "      <td>I2</td>\n",
       "      <td>G2</td>\n",
       "      <td>...</td>\n",
       "      <td>L1</td>\n",
       "      <td>P1</td>\n",
       "      <td>I2</td>\n",
       "      <td>S2</td>\n",
       "      <td>S2</td>\n",
       "      <td>P1</td>\n",
       "      <td>G2</td>\n",
       "      <td>M1</td>\n",
       "      <td>G2</td>\n",
       "      <td>S2</td>\n",
       "    </tr>\n",
       "    <tr>\n",
       "      <th>상권업종대분류명</th>\n",
       "      <td>음식</td>\n",
       "      <td>과학·기술</td>\n",
       "      <td>수리·개인</td>\n",
       "      <td>교육</td>\n",
       "      <td>수리·개인</td>\n",
       "      <td>보건의료</td>\n",
       "      <td>교육</td>\n",
       "      <td>과학·기술</td>\n",
       "      <td>음식</td>\n",
       "      <td>소매</td>\n",
       "      <td>...</td>\n",
       "      <td>부동산</td>\n",
       "      <td>교육</td>\n",
       "      <td>음식</td>\n",
       "      <td>수리·개인</td>\n",
       "      <td>수리·개인</td>\n",
       "      <td>교육</td>\n",
       "      <td>소매</td>\n",
       "      <td>과학·기술</td>\n",
       "      <td>소매</td>\n",
       "      <td>수리·개인</td>\n",
       "    </tr>\n",
       "    <tr>\n",
       "      <th>상권업종중분류코드</th>\n",
       "      <td>I205</td>\n",
       "      <td>M112</td>\n",
       "      <td>S207</td>\n",
       "      <td>P105</td>\n",
       "      <td>S209</td>\n",
       "      <td>Q102</td>\n",
       "      <td>P106</td>\n",
       "      <td>M103</td>\n",
       "      <td>I201</td>\n",
       "      <td>G204</td>\n",
       "      <td>...</td>\n",
       "      <td>L102</td>\n",
       "      <td>P106</td>\n",
       "      <td>I201</td>\n",
       "      <td>S207</td>\n",
       "      <td>S207</td>\n",
       "      <td>P105</td>\n",
       "      <td>G215</td>\n",
       "      <td>M104</td>\n",
       "      <td>G209</td>\n",
       "      <td>S207</td>\n",
       "    </tr>\n",
       "    <tr>\n",
       "      <th>상권업종중분류명</th>\n",
       "      <td>동남아시아</td>\n",
       "      <td>전문 디자인</td>\n",
       "      <td>이용·미용</td>\n",
       "      <td>일반 교육</td>\n",
       "      <td>세탁</td>\n",
       "      <td>의원</td>\n",
       "      <td>기타 교육</td>\n",
       "      <td>법무관련</td>\n",
       "      <td>한식</td>\n",
       "      <td>종합 소매</td>\n",
       "      <td>...</td>\n",
       "      <td>부동산 서비스</td>\n",
       "      <td>기타 교육</td>\n",
       "      <td>한식</td>\n",
       "      <td>이용·미용</td>\n",
       "      <td>이용·미용</td>\n",
       "      <td>일반 교육</td>\n",
       "      <td>의약·화장품 소매</td>\n",
       "      <td>회계·세무</td>\n",
       "      <td>섬유·의복·신발 소매</td>\n",
       "      <td>이용·미용</td>\n",
       "    </tr>\n",
       "    <tr>\n",
       "      <th>상권업종소분류코드</th>\n",
       "      <td>I20501</td>\n",
       "      <td>M11201</td>\n",
       "      <td>S20701</td>\n",
       "      <td>P10501</td>\n",
       "      <td>S20901</td>\n",
       "      <td>Q10209</td>\n",
       "      <td>P10601</td>\n",
       "      <td>M10301</td>\n",
       "      <td>I20101</td>\n",
       "      <td>G20499</td>\n",
       "      <td>...</td>\n",
       "      <td>L10203</td>\n",
       "      <td>P10603</td>\n",
       "      <td>I20101</td>\n",
       "      <td>S20702</td>\n",
       "      <td>S20701</td>\n",
       "      <td>P10501</td>\n",
       "      <td>G21503</td>\n",
       "      <td>M10401</td>\n",
       "      <td>G20911</td>\n",
       "      <td>S20701</td>\n",
       "    </tr>\n",
       "    <tr>\n",
       "      <th>상권업종소분류명</th>\n",
       "      <td>베트남식 전문</td>\n",
       "      <td>인테리어 디자인업</td>\n",
       "      <td>미용실</td>\n",
       "      <td>입시·교과학원</td>\n",
       "      <td>세탁소</td>\n",
       "      <td>기타 의원</td>\n",
       "      <td>태권도/무술학원</td>\n",
       "      <td>변호사</td>\n",
       "      <td>백반/한정식</td>\n",
       "      <td>그 외 기타 종합 소매업</td>\n",
       "      <td>...</td>\n",
       "      <td>부동산 중개/대리업</td>\n",
       "      <td>요가/필라테스 학원</td>\n",
       "      <td>백반/한정식</td>\n",
       "      <td>피부 관리실</td>\n",
       "      <td>미용실</td>\n",
       "      <td>입시·교과학원</td>\n",
       "      <td>화장품 소매업</td>\n",
       "      <td>공인회계사</td>\n",
       "      <td>가방 소매업</td>\n",
       "      <td>미용실</td>\n",
       "    </tr>\n",
       "    <tr>\n",
       "      <th>표준산업분류코드</th>\n",
       "      <td>I56194</td>\n",
       "      <td>M73201</td>\n",
       "      <td>S96112</td>\n",
       "      <td>P85501</td>\n",
       "      <td>S96912</td>\n",
       "      <td>Q86201</td>\n",
       "      <td>P85611</td>\n",
       "      <td>M71101</td>\n",
       "      <td>I56111</td>\n",
       "      <td>G47190</td>\n",
       "      <td>...</td>\n",
       "      <td>L68221</td>\n",
       "      <td>P85612</td>\n",
       "      <td>I56111</td>\n",
       "      <td>S96113</td>\n",
       "      <td>S96112</td>\n",
       "      <td>P85501</td>\n",
       "      <td>G47813</td>\n",
       "      <td>M71201</td>\n",
       "      <td>G47440</td>\n",
       "      <td>S96112</td>\n",
       "    </tr>\n",
       "    <tr>\n",
       "      <th>표준산업분류명</th>\n",
       "      <td>김밥 및 기타 간이 음식점업</td>\n",
       "      <td>인테리어 디자인업</td>\n",
       "      <td>두발 미용업</td>\n",
       "      <td>일반 교과학원</td>\n",
       "      <td>가정용 세탁업</td>\n",
       "      <td>일반의원</td>\n",
       "      <td>태권도 및 무술 교육기관</td>\n",
       "      <td>변호사업</td>\n",
       "      <td>한식 일반 음식점업</td>\n",
       "      <td>그 외 기타 종합 소매업</td>\n",
       "      <td>...</td>\n",
       "      <td>부동산 중개 및 대리업</td>\n",
       "      <td>기타 스포츠 교육기관</td>\n",
       "      <td>한식 일반 음식점업</td>\n",
       "      <td>피부 미용업</td>\n",
       "      <td>두발 미용업</td>\n",
       "      <td>일반 교과학원</td>\n",
       "      <td>화장품; 비누 및 방향제 소매업</td>\n",
       "      <td>공인회계사업</td>\n",
       "      <td>가방 및 기타 가죽제품 소매업</td>\n",
       "      <td>두발 미용업</td>\n",
       "    </tr>\n",
       "    <tr>\n",
       "      <th>시도코드</th>\n",
       "      <td>36</td>\n",
       "      <td>36</td>\n",
       "      <td>36</td>\n",
       "      <td>36</td>\n",
       "      <td>36</td>\n",
       "      <td>36</td>\n",
       "      <td>36</td>\n",
       "      <td>36</td>\n",
       "      <td>36</td>\n",
       "      <td>36</td>\n",
       "      <td>...</td>\n",
       "      <td>36</td>\n",
       "      <td>36</td>\n",
       "      <td>36</td>\n",
       "      <td>36</td>\n",
       "      <td>36</td>\n",
       "      <td>36</td>\n",
       "      <td>36</td>\n",
       "      <td>36</td>\n",
       "      <td>36</td>\n",
       "      <td>36</td>\n",
       "    </tr>\n",
       "    <tr>\n",
       "      <th>시도명</th>\n",
       "      <td>세종특별자치시</td>\n",
       "      <td>세종특별자치시</td>\n",
       "      <td>세종특별자치시</td>\n",
       "      <td>세종특별자치시</td>\n",
       "      <td>세종특별자치시</td>\n",
       "      <td>세종특별자치시</td>\n",
       "      <td>세종특별자치시</td>\n",
       "      <td>세종특별자치시</td>\n",
       "      <td>세종특별자치시</td>\n",
       "      <td>세종특별자치시</td>\n",
       "      <td>...</td>\n",
       "      <td>세종특별자치시</td>\n",
       "      <td>세종특별자치시</td>\n",
       "      <td>세종특별자치시</td>\n",
       "      <td>세종특별자치시</td>\n",
       "      <td>세종특별자치시</td>\n",
       "      <td>세종특별자치시</td>\n",
       "      <td>세종특별자치시</td>\n",
       "      <td>세종특별자치시</td>\n",
       "      <td>세종특별자치시</td>\n",
       "      <td>세종특별자치시</td>\n",
       "    </tr>\n",
       "    <tr>\n",
       "      <th>시군구코드</th>\n",
       "      <td>36110</td>\n",
       "      <td>36110</td>\n",
       "      <td>36110</td>\n",
       "      <td>36110</td>\n",
       "      <td>36110</td>\n",
       "      <td>36110</td>\n",
       "      <td>36110</td>\n",
       "      <td>36110</td>\n",
       "      <td>36110</td>\n",
       "      <td>36110</td>\n",
       "      <td>...</td>\n",
       "      <td>36110</td>\n",
       "      <td>36110</td>\n",
       "      <td>36110</td>\n",
       "      <td>36110</td>\n",
       "      <td>36110</td>\n",
       "      <td>36110</td>\n",
       "      <td>36110</td>\n",
       "      <td>36110</td>\n",
       "      <td>36110</td>\n",
       "      <td>36110</td>\n",
       "    </tr>\n",
       "    <tr>\n",
       "      <th>시군구명</th>\n",
       "      <td>세종특별자치시</td>\n",
       "      <td>세종특별자치시</td>\n",
       "      <td>세종특별자치시</td>\n",
       "      <td>세종특별자치시</td>\n",
       "      <td>세종특별자치시</td>\n",
       "      <td>세종특별자치시</td>\n",
       "      <td>세종특별자치시</td>\n",
       "      <td>세종특별자치시</td>\n",
       "      <td>세종특별자치시</td>\n",
       "      <td>세종특별자치시</td>\n",
       "      <td>...</td>\n",
       "      <td>세종특별자치시</td>\n",
       "      <td>세종특별자치시</td>\n",
       "      <td>세종특별자치시</td>\n",
       "      <td>세종특별자치시</td>\n",
       "      <td>세종특별자치시</td>\n",
       "      <td>세종특별자치시</td>\n",
       "      <td>세종특별자치시</td>\n",
       "      <td>세종특별자치시</td>\n",
       "      <td>세종특별자치시</td>\n",
       "      <td>세종특별자치시</td>\n",
       "    </tr>\n",
       "    <tr>\n",
       "      <th>행정동코드</th>\n",
       "      <td>36110518</td>\n",
       "      <td>36110360</td>\n",
       "      <td>36110518</td>\n",
       "      <td>36110560</td>\n",
       "      <td>36110540</td>\n",
       "      <td>36110250</td>\n",
       "      <td>36110560</td>\n",
       "      <td>36110518</td>\n",
       "      <td>36110250</td>\n",
       "      <td>36110515</td>\n",
       "      <td>...</td>\n",
       "      <td>36110250</td>\n",
       "      <td>36110518</td>\n",
       "      <td>36110360</td>\n",
       "      <td>36110518</td>\n",
       "      <td>36110250</td>\n",
       "      <td>36110518</td>\n",
       "      <td>36110518</td>\n",
       "      <td>36110560</td>\n",
       "      <td>36110370</td>\n",
       "      <td>36110525</td>\n",
       "    </tr>\n",
       "    <tr>\n",
       "      <th>행정동명</th>\n",
       "      <td>나성동</td>\n",
       "      <td>연서면</td>\n",
       "      <td>나성동</td>\n",
       "      <td>보람동</td>\n",
       "      <td>종촌동</td>\n",
       "      <td>조치원읍</td>\n",
       "      <td>보람동</td>\n",
       "      <td>나성동</td>\n",
       "      <td>조치원읍</td>\n",
       "      <td>새롬동</td>\n",
       "      <td>...</td>\n",
       "      <td>조치원읍</td>\n",
       "      <td>나성동</td>\n",
       "      <td>연서면</td>\n",
       "      <td>나성동</td>\n",
       "      <td>조치원읍</td>\n",
       "      <td>나성동</td>\n",
       "      <td>나성동</td>\n",
       "      <td>보람동</td>\n",
       "      <td>전의면</td>\n",
       "      <td>해밀동</td>\n",
       "    </tr>\n",
       "    <tr>\n",
       "      <th>법정동코드</th>\n",
       "      <td>3611010700</td>\n",
       "      <td>3611036033</td>\n",
       "      <td>3611010700</td>\n",
       "      <td>3611010300</td>\n",
       "      <td>3611011100</td>\n",
       "      <td>3611025027</td>\n",
       "      <td>3611010300</td>\n",
       "      <td>3611010700</td>\n",
       "      <td>3611025021</td>\n",
       "      <td>3611010800</td>\n",
       "      <td>...</td>\n",
       "      <td>3611025029</td>\n",
       "      <td>3611010700</td>\n",
       "      <td>3611036023</td>\n",
       "      <td>3611010700</td>\n",
       "      <td>3611025025</td>\n",
       "      <td>3611010700</td>\n",
       "      <td>3611010700</td>\n",
       "      <td>3611010300</td>\n",
       "      <td>3611037023</td>\n",
       "      <td>3611011600</td>\n",
       "    </tr>\n",
       "    <tr>\n",
       "      <th>법정동명</th>\n",
       "      <td>나성동</td>\n",
       "      <td>연서면</td>\n",
       "      <td>나성동</td>\n",
       "      <td>보람동</td>\n",
       "      <td>종촌동</td>\n",
       "      <td>조치원읍</td>\n",
       "      <td>보람동</td>\n",
       "      <td>나성동</td>\n",
       "      <td>조치원읍</td>\n",
       "      <td>새롬동</td>\n",
       "      <td>...</td>\n",
       "      <td>조치원읍</td>\n",
       "      <td>나성동</td>\n",
       "      <td>연서면</td>\n",
       "      <td>나성동</td>\n",
       "      <td>조치원읍</td>\n",
       "      <td>나성동</td>\n",
       "      <td>나성동</td>\n",
       "      <td>보람동</td>\n",
       "      <td>전의면</td>\n",
       "      <td>해밀동</td>\n",
       "    </tr>\n",
       "    <tr>\n",
       "      <th>지번코드</th>\n",
       "      <td>3611010700107320000</td>\n",
       "      <td>3611036033106370003</td>\n",
       "      <td>3611010700107640000</td>\n",
       "      <td>3611010300107600000</td>\n",
       "      <td>3611011100106790000</td>\n",
       "      <td>3611025027101190012</td>\n",
       "      <td>3611010300107570000</td>\n",
       "      <td>3611010700108090000</td>\n",
       "      <td>3611025021100010022</td>\n",
       "      <td>3611010800105840000</td>\n",
       "      <td>...</td>\n",
       "      <td>3611025029100010023</td>\n",
       "      <td>3611010700107880000</td>\n",
       "      <td>3611036023105860014</td>\n",
       "      <td>3611010700107500000</td>\n",
       "      <td>3611025025100340001</td>\n",
       "      <td>3611010700107460000</td>\n",
       "      <td>3611010700107950000</td>\n",
       "      <td>3611010300107220000</td>\n",
       "      <td>3611037023101020000</td>\n",
       "      <td>3611011600200080000</td>\n",
       "    </tr>\n",
       "    <tr>\n",
       "      <th>대지구분코드</th>\n",
       "      <td>1</td>\n",
       "      <td>1</td>\n",
       "      <td>1</td>\n",
       "      <td>1</td>\n",
       "      <td>1</td>\n",
       "      <td>1</td>\n",
       "      <td>1</td>\n",
       "      <td>1</td>\n",
       "      <td>1</td>\n",
       "      <td>1</td>\n",
       "      <td>...</td>\n",
       "      <td>1</td>\n",
       "      <td>1</td>\n",
       "      <td>1</td>\n",
       "      <td>1</td>\n",
       "      <td>1</td>\n",
       "      <td>1</td>\n",
       "      <td>1</td>\n",
       "      <td>1</td>\n",
       "      <td>1</td>\n",
       "      <td>2</td>\n",
       "    </tr>\n",
       "    <tr>\n",
       "      <th>대지구분명</th>\n",
       "      <td>대지</td>\n",
       "      <td>대지</td>\n",
       "      <td>대지</td>\n",
       "      <td>대지</td>\n",
       "      <td>대지</td>\n",
       "      <td>대지</td>\n",
       "      <td>대지</td>\n",
       "      <td>대지</td>\n",
       "      <td>대지</td>\n",
       "      <td>대지</td>\n",
       "      <td>...</td>\n",
       "      <td>대지</td>\n",
       "      <td>대지</td>\n",
       "      <td>대지</td>\n",
       "      <td>대지</td>\n",
       "      <td>대지</td>\n",
       "      <td>대지</td>\n",
       "      <td>대지</td>\n",
       "      <td>대지</td>\n",
       "      <td>대지</td>\n",
       "      <td>산</td>\n",
       "    </tr>\n",
       "    <tr>\n",
       "      <th>지번본번지</th>\n",
       "      <td>732</td>\n",
       "      <td>637</td>\n",
       "      <td>764</td>\n",
       "      <td>760</td>\n",
       "      <td>679</td>\n",
       "      <td>119</td>\n",
       "      <td>757</td>\n",
       "      <td>809</td>\n",
       "      <td>1</td>\n",
       "      <td>584</td>\n",
       "      <td>...</td>\n",
       "      <td>1</td>\n",
       "      <td>788</td>\n",
       "      <td>586</td>\n",
       "      <td>750</td>\n",
       "      <td>34</td>\n",
       "      <td>746</td>\n",
       "      <td>795</td>\n",
       "      <td>722</td>\n",
       "      <td>102</td>\n",
       "      <td>8</td>\n",
       "    </tr>\n",
       "    <tr>\n",
       "      <th>지번부번지</th>\n",
       "      <td>NaN</td>\n",
       "      <td>3.0</td>\n",
       "      <td>NaN</td>\n",
       "      <td>NaN</td>\n",
       "      <td>NaN</td>\n",
       "      <td>12.0</td>\n",
       "      <td>NaN</td>\n",
       "      <td>NaN</td>\n",
       "      <td>22.0</td>\n",
       "      <td>NaN</td>\n",
       "      <td>...</td>\n",
       "      <td>23.0</td>\n",
       "      <td>NaN</td>\n",
       "      <td>14.0</td>\n",
       "      <td>NaN</td>\n",
       "      <td>1.0</td>\n",
       "      <td>NaN</td>\n",
       "      <td>NaN</td>\n",
       "      <td>NaN</td>\n",
       "      <td>NaN</td>\n",
       "      <td>NaN</td>\n",
       "    </tr>\n",
       "    <tr>\n",
       "      <th>지번주소</th>\n",
       "      <td>세종특별자치시 세종특별자치시 나성동 732</td>\n",
       "      <td>세종특별자치시 세종특별자치시 연서면 봉암리 637-3</td>\n",
       "      <td>세종특별자치시 세종특별자치시 나성동 764</td>\n",
       "      <td>세종특별자치시 세종특별자치시 보람동 760</td>\n",
       "      <td>세종특별자치시 세종특별자치시 종촌동 679</td>\n",
       "      <td>세종특별자치시 세종특별자치시 조치원읍 남리 119-12</td>\n",
       "      <td>세종특별자치시 세종특별자치시 보람동 757</td>\n",
       "      <td>세종특별자치시 세종특별자치시 나성동 809</td>\n",
       "      <td>세종특별자치시 세종특별자치시 조치원읍 원리 1-22</td>\n",
       "      <td>세종특별자치시 세종특별자치시 새롬동 584</td>\n",
       "      <td>...</td>\n",
       "      <td>세종특별자치시 세종특별자치시 조치원읍 신흥리 1-23</td>\n",
       "      <td>세종특별자치시 세종특별자치시 나성동 788</td>\n",
       "      <td>세종특별자치시 세종특별자치시 연서면 성제리 586-14</td>\n",
       "      <td>세종특별자치시 세종특별자치시 나성동 750</td>\n",
       "      <td>세종특별자치시 세종특별자치시 조치원읍 정리 34-1</td>\n",
       "      <td>세종특별자치시 세종특별자치시 나성동 746</td>\n",
       "      <td>세종특별자치시 세종특별자치시 나성동 795</td>\n",
       "      <td>세종특별자치시 세종특별자치시 보람동 722</td>\n",
       "      <td>세종특별자치시 세종특별자치시 전의면 서정리 102</td>\n",
       "      <td>세종특별자치시 세종특별자치시 해밀동 산8</td>\n",
       "    </tr>\n",
       "    <tr>\n",
       "      <th>도로명코드</th>\n",
       "      <td>361102000002</td>\n",
       "      <td>361103258005</td>\n",
       "      <td>361102000002</td>\n",
       "      <td>361103350790</td>\n",
       "      <td>361103258082</td>\n",
       "      <td>361104574263</td>\n",
       "      <td>361103350790</td>\n",
       "      <td>361103351279</td>\n",
       "      <td>361104574472</td>\n",
       "      <td>361103351283</td>\n",
       "      <td>...</td>\n",
       "      <td>361104574352</td>\n",
       "      <td>361103351278</td>\n",
       "      <td>361103258027</td>\n",
       "      <td>361102000002</td>\n",
       "      <td>361104574272</td>\n",
       "      <td>361102000002</td>\n",
       "      <td>361103351277</td>\n",
       "      <td>361102000002</td>\n",
       "      <td>361104574061</td>\n",
       "      <td>361103352828</td>\n",
       "    </tr>\n",
       "    <tr>\n",
       "      <th>도로명</th>\n",
       "      <td>세종특별자치시 세종특별자치시 한누리대로</td>\n",
       "      <td>세종특별자치시 세종특별자치시 연서면 당산로</td>\n",
       "      <td>세종특별자치시 세종특별자치시 한누리대로</td>\n",
       "      <td>세종특별자치시 세종특별자치시 남세종로</td>\n",
       "      <td>세종특별자치시 세종특별자치시 도움3로</td>\n",
       "      <td>세종특별자치시 세종특별자치시 조치원읍 새내1길</td>\n",
       "      <td>세종특별자치시 세종특별자치시 남세종로</td>\n",
       "      <td>세종특별자치시 세종특별자치시 나성북로</td>\n",
       "      <td>세종특별자치시 세종특별자치시 조치원읍 조치원7길</td>\n",
       "      <td>세종특별자치시 세종특별자치시 새롬중앙로</td>\n",
       "      <td>...</td>\n",
       "      <td>세종특별자치시 세종특별자치시 조치원읍 신흥샛터길</td>\n",
       "      <td>세종특별자치시 세종특별자치시 나성북1로</td>\n",
       "      <td>세종특별자치시 세종특별자치시 연서면 월하천로</td>\n",
       "      <td>세종특별자치시 세종특별자치시 한누리대로</td>\n",
       "      <td>세종특별자치시 세종특별자치시 조치원읍 새내8길</td>\n",
       "      <td>세종특별자치시 세종특별자치시 한누리대로</td>\n",
       "      <td>세종특별자치시 세종특별자치시 나성로</td>\n",
       "      <td>세종특별자치시 세종특별자치시 한누리대로</td>\n",
       "      <td>세종특별자치시 세종특별자치시 전의면 내서길</td>\n",
       "      <td>세종특별자치시 세종특별자치시 해밀3로</td>\n",
       "    </tr>\n",
       "    <tr>\n",
       "      <th>건물본번지</th>\n",
       "      <td>311</td>\n",
       "      <td>294</td>\n",
       "      <td>288</td>\n",
       "      <td>450</td>\n",
       "      <td>159</td>\n",
       "      <td>17</td>\n",
       "      <td>462</td>\n",
       "      <td>30</td>\n",
       "      <td>12</td>\n",
       "      <td>55</td>\n",
       "      <td>...</td>\n",
       "      <td>43</td>\n",
       "      <td>12</td>\n",
       "      <td>3</td>\n",
       "      <td>227</td>\n",
       "      <td>17</td>\n",
       "      <td>249</td>\n",
       "      <td>125</td>\n",
       "      <td>2150</td>\n",
       "      <td>37</td>\n",
       "      <td>32</td>\n",
       "    </tr>\n",
       "    <tr>\n",
       "      <th>건물부번지</th>\n",
       "      <td>NaN</td>\n",
       "      <td>NaN</td>\n",
       "      <td>NaN</td>\n",
       "      <td>NaN</td>\n",
       "      <td>NaN</td>\n",
       "      <td>NaN</td>\n",
       "      <td>NaN</td>\n",
       "      <td>NaN</td>\n",
       "      <td>NaN</td>\n",
       "      <td>NaN</td>\n",
       "      <td>...</td>\n",
       "      <td>NaN</td>\n",
       "      <td>NaN</td>\n",
       "      <td>NaN</td>\n",
       "      <td>NaN</td>\n",
       "      <td>NaN</td>\n",
       "      <td>NaN</td>\n",
       "      <td>16.0</td>\n",
       "      <td>NaN</td>\n",
       "      <td>NaN</td>\n",
       "      <td>NaN</td>\n",
       "    </tr>\n",
       "    <tr>\n",
       "      <th>건물관리번호</th>\n",
       "      <td>3611010700103610086000001</td>\n",
       "      <td>3611036033106370003000001</td>\n",
       "      <td>3611010700103610069000001</td>\n",
       "      <td>3611010300106290005000003</td>\n",
       "      <td>3611011100200060000000001</td>\n",
       "      <td>3611025027101190012000001</td>\n",
       "      <td>3611010300107000076000001</td>\n",
       "      <td>3611010700103610050000001</td>\n",
       "      <td>4473025021100010022036496</td>\n",
       "      <td>3611010800200100000000001</td>\n",
       "      <td>...</td>\n",
       "      <td>4473025029100010023039769</td>\n",
       "      <td>3611010700103610079000001</td>\n",
       "      <td>4473032023105860014019442</td>\n",
       "      <td>3611010700104550001000001</td>\n",
       "      <td>4473025025100330004042223</td>\n",
       "      <td>3611010800100740004000001</td>\n",
       "      <td>3611010700103610037000001</td>\n",
       "      <td>3611010300106640010000001</td>\n",
       "      <td>4473035023101020000003387</td>\n",
       "      <td>3611011600103200005000001</td>\n",
       "    </tr>\n",
       "    <tr>\n",
       "      <th>건물명</th>\n",
       "      <td>모닝시티2</td>\n",
       "      <td>NaN</td>\n",
       "      <td>갤러리밸류시티</td>\n",
       "      <td>보람빌딩</td>\n",
       "      <td>가재마을3단지</td>\n",
       "      <td>NaN</td>\n",
       "      <td>위너스타워</td>\n",
       "      <td>퍼스트원</td>\n",
       "      <td>NaN</td>\n",
       "      <td>행운빌딩</td>\n",
       "      <td>...</td>\n",
       "      <td>NaN</td>\n",
       "      <td>메가타워2</td>\n",
       "      <td>NaN</td>\n",
       "      <td>세종마루</td>\n",
       "      <td>NaN</td>\n",
       "      <td>에스제이타워</td>\n",
       "      <td>스타타워</td>\n",
       "      <td>스마트허브Ⅰ</td>\n",
       "      <td>NaN</td>\n",
       "      <td>해밀마을1단지</td>\n",
       "    </tr>\n",
       "    <tr>\n",
       "      <th>도로명주소</th>\n",
       "      <td>세종특별자치시 세종특별자치시 한누리대로 311</td>\n",
       "      <td>세종특별자치시 세종특별자치시 연서면 당산로 294</td>\n",
       "      <td>세종특별자치시 세종특별자치시 한누리대로 288</td>\n",
       "      <td>세종특별자치시 세종특별자치시 남세종로 450</td>\n",
       "      <td>세종특별자치시 세종특별자치시 도움3로 159</td>\n",
       "      <td>세종특별자치시 세종특별자치시 조치원읍 새내1길 17</td>\n",
       "      <td>세종특별자치시 세종특별자치시 남세종로 462</td>\n",
       "      <td>세종특별자치시 세종특별자치시 나성북로 30</td>\n",
       "      <td>세종특별자치시 세종특별자치시 조치원읍 조치원7길 12</td>\n",
       "      <td>세종특별자치시 세종특별자치시 새롬중앙로 55</td>\n",
       "      <td>...</td>\n",
       "      <td>세종특별자치시 세종특별자치시 조치원읍 신흥샛터길 43</td>\n",
       "      <td>세종특별자치시 세종특별자치시 나성북1로 12</td>\n",
       "      <td>세종특별자치시 세종특별자치시 연서면 월하천로 3</td>\n",
       "      <td>세종특별자치시 세종특별자치시 한누리대로 227</td>\n",
       "      <td>세종특별자치시 세종특별자치시 조치원읍 새내8길 17</td>\n",
       "      <td>세종특별자치시 세종특별자치시 한누리대로 249</td>\n",
       "      <td>세종특별자치시 세종특별자치시 나성로 125-16</td>\n",
       "      <td>세종특별자치시 세종특별자치시 한누리대로 2150</td>\n",
       "      <td>세종특별자치시 세종특별자치시 전의면 내서길 37</td>\n",
       "      <td>세종특별자치시 세종특별자치시 해밀3로 32</td>\n",
       "    </tr>\n",
       "    <tr>\n",
       "      <th>구우편번호</th>\n",
       "      <td>339003.0</td>\n",
       "      <td>339813.0</td>\n",
       "      <td>339003.0</td>\n",
       "      <td>339008.0</td>\n",
       "      <td>339013.0</td>\n",
       "      <td>339802.0</td>\n",
       "      <td>339008.0</td>\n",
       "      <td>339003.0</td>\n",
       "      <td>339883.0</td>\n",
       "      <td>339009.0</td>\n",
       "      <td>...</td>\n",
       "      <td>339807.0</td>\n",
       "      <td>339003.0</td>\n",
       "      <td>339814.0</td>\n",
       "      <td>339003.0</td>\n",
       "      <td>339882.0</td>\n",
       "      <td>339003.0</td>\n",
       "      <td>339003.0</td>\n",
       "      <td>339008.0</td>\n",
       "      <td>339851.0</td>\n",
       "      <td>NaN</td>\n",
       "    </tr>\n",
       "    <tr>\n",
       "      <th>신우편번호</th>\n",
       "      <td>30123</td>\n",
       "      <td>30047</td>\n",
       "      <td>30128</td>\n",
       "      <td>30150</td>\n",
       "      <td>30064</td>\n",
       "      <td>30028</td>\n",
       "      <td>30150</td>\n",
       "      <td>30128</td>\n",
       "      <td>30024</td>\n",
       "      <td>30126</td>\n",
       "      <td>...</td>\n",
       "      <td>30029</td>\n",
       "      <td>30128</td>\n",
       "      <td>30043</td>\n",
       "      <td>30127</td>\n",
       "      <td>30027</td>\n",
       "      <td>30127</td>\n",
       "      <td>30128</td>\n",
       "      <td>30151</td>\n",
       "      <td>30004</td>\n",
       "      <td>30092</td>\n",
       "    </tr>\n",
       "    <tr>\n",
       "      <th>동정보</th>\n",
       "      <td>NaN</td>\n",
       "      <td>NaN</td>\n",
       "      <td>NaN</td>\n",
       "      <td>NaN</td>\n",
       "      <td>NaN</td>\n",
       "      <td>NaN</td>\n",
       "      <td>NaN</td>\n",
       "      <td>NaN</td>\n",
       "      <td>NaN</td>\n",
       "      <td>NaN</td>\n",
       "      <td>...</td>\n",
       "      <td>NaN</td>\n",
       "      <td>NaN</td>\n",
       "      <td>NaN</td>\n",
       "      <td>NaN</td>\n",
       "      <td>NaN</td>\n",
       "      <td>NaN</td>\n",
       "      <td>NaN</td>\n",
       "      <td>NaN</td>\n",
       "      <td>NaN</td>\n",
       "      <td>NaN</td>\n",
       "    </tr>\n",
       "    <tr>\n",
       "      <th>층정보</th>\n",
       "      <td>1.0</td>\n",
       "      <td>NaN</td>\n",
       "      <td>2.0</td>\n",
       "      <td>7.0</td>\n",
       "      <td>1.0</td>\n",
       "      <td>NaN</td>\n",
       "      <td>NaN</td>\n",
       "      <td>3.0</td>\n",
       "      <td>NaN</td>\n",
       "      <td>1.0</td>\n",
       "      <td>...</td>\n",
       "      <td>NaN</td>\n",
       "      <td>5.0</td>\n",
       "      <td>NaN</td>\n",
       "      <td>2.0</td>\n",
       "      <td>1.0</td>\n",
       "      <td>NaN</td>\n",
       "      <td>NaN</td>\n",
       "      <td>5.0</td>\n",
       "      <td>NaN</td>\n",
       "      <td>1.0</td>\n",
       "    </tr>\n",
       "    <tr>\n",
       "      <th>호정보</th>\n",
       "      <td>NaN</td>\n",
       "      <td>NaN</td>\n",
       "      <td>NaN</td>\n",
       "      <td>NaN</td>\n",
       "      <td>NaN</td>\n",
       "      <td>NaN</td>\n",
       "      <td>NaN</td>\n",
       "      <td>NaN</td>\n",
       "      <td>NaN</td>\n",
       "      <td>NaN</td>\n",
       "      <td>...</td>\n",
       "      <td>NaN</td>\n",
       "      <td>NaN</td>\n",
       "      <td>NaN</td>\n",
       "      <td>NaN</td>\n",
       "      <td>NaN</td>\n",
       "      <td>NaN</td>\n",
       "      <td>NaN</td>\n",
       "      <td>NaN</td>\n",
       "      <td>NaN</td>\n",
       "      <td>NaN</td>\n",
       "    </tr>\n",
       "    <tr>\n",
       "      <th>경도</th>\n",
       "      <td>127.25584</td>\n",
       "      <td>127.278712</td>\n",
       "      <td>127.2571</td>\n",
       "      <td>127.290106</td>\n",
       "      <td>127.243749</td>\n",
       "      <td>127.298363</td>\n",
       "      <td>127.288827</td>\n",
       "      <td>127.260244</td>\n",
       "      <td>127.300701</td>\n",
       "      <td>127.250343</td>\n",
       "      <td>...</td>\n",
       "      <td>127.295235</td>\n",
       "      <td>127.257625</td>\n",
       "      <td>127.26488</td>\n",
       "      <td>127.25851</td>\n",
       "      <td>127.29927</td>\n",
       "      <td>127.257457</td>\n",
       "      <td>127.257757</td>\n",
       "      <td>127.287328</td>\n",
       "      <td>127.192993</td>\n",
       "      <td>127.267243</td>\n",
       "    </tr>\n",
       "    <tr>\n",
       "      <th>위도</th>\n",
       "      <td>36.492065</td>\n",
       "      <td>36.559184</td>\n",
       "      <td>36.489928</td>\n",
       "      <td>36.477413</td>\n",
       "      <td>36.50393</td>\n",
       "      <td>36.596179</td>\n",
       "      <td>36.476855</td>\n",
       "      <td>36.489064</td>\n",
       "      <td>36.602104</td>\n",
       "      <td>36.485749</td>\n",
       "      <td>...</td>\n",
       "      <td>36.597233</td>\n",
       "      <td>36.490995</td>\n",
       "      <td>36.588912</td>\n",
       "      <td>36.484854</td>\n",
       "      <td>36.599645</td>\n",
       "      <td>36.486425</td>\n",
       "      <td>36.490094</td>\n",
       "      <td>36.478505</td>\n",
       "      <td>36.689317</td>\n",
       "      <td>36.529284</td>\n",
       "    </tr>\n",
       "  </tbody>\n",
       "</table>\n",
       "<p>39 rows × 30 columns</p>\n",
       "</div>"
      ],
      "text/plain": [
       "                                  0                              1   \\\n",
       "상가업소번호          MA0101202210A0084499           MA010120220805434190   \n",
       "상호명                         베트남쌀국수퍼짱                      더함인테리어컨설팅   \n",
       "지점명                              NaN                            NaN   \n",
       "상권업종대분류코드                         I2                             M1   \n",
       "상권업종대분류명                          음식                          과학·기술   \n",
       "상권업종중분류코드                       I205                           M112   \n",
       "상권업종중분류명                       동남아시아                         전문 디자인   \n",
       "상권업종소분류코드                     I20501                         M11201   \n",
       "상권업종소분류명                     베트남식 전문                      인테리어 디자인업   \n",
       "표준산업분류코드                      I56194                         M73201   \n",
       "표준산업분류명              김밥 및 기타 간이 음식점업                      인테리어 디자인업   \n",
       "시도코드                              36                             36   \n",
       "시도명                          세종특별자치시                        세종특별자치시   \n",
       "시군구코드                          36110                          36110   \n",
       "시군구명                         세종특별자치시                        세종특별자치시   \n",
       "행정동코드                       36110518                       36110360   \n",
       "행정동명                             나성동                            연서면   \n",
       "법정동코드                     3611010700                     3611036033   \n",
       "법정동명                             나성동                            연서면   \n",
       "지번코드             3611010700107320000            3611036033106370003   \n",
       "대지구분코드                             1                              1   \n",
       "대지구분명                             대지                             대지   \n",
       "지번본번지                            732                            637   \n",
       "지번부번지                            NaN                            3.0   \n",
       "지번주소         세종특별자치시 세종특별자치시 나성동 732  세종특별자치시 세종특별자치시 연서면 봉암리 637-3   \n",
       "도로명코드                   361102000002                   361103258005   \n",
       "도로명            세종특별자치시 세종특별자치시 한누리대로        세종특별자치시 세종특별자치시 연서면 당산로   \n",
       "건물본번지                            311                            294   \n",
       "건물부번지                            NaN                            NaN   \n",
       "건물관리번호     3611010700103610086000001      3611036033106370003000001   \n",
       "건물명                            모닝시티2                            NaN   \n",
       "도로명주소      세종특별자치시 세종특별자치시 한누리대로 311    세종특별자치시 세종특별자치시 연서면 당산로 294   \n",
       "구우편번호                       339003.0                       339813.0   \n",
       "신우편번호                          30123                          30047   \n",
       "동정보                              NaN                            NaN   \n",
       "층정보                              1.0                            NaN   \n",
       "호정보                              NaN                            NaN   \n",
       "경도                         127.25584                     127.278712   \n",
       "위도                         36.492065                      36.559184   \n",
       "\n",
       "                                  2                          3   \\\n",
       "상가업소번호          MA010120220805432469       MA010120220805435562   \n",
       "상호명                           모더니엘살롱                      카이젠교육   \n",
       "지점명                              NaN                        NaN   \n",
       "상권업종대분류코드                         S2                         P1   \n",
       "상권업종대분류명                       수리·개인                         교육   \n",
       "상권업종중분류코드                       S207                       P105   \n",
       "상권업종중분류명                       이용·미용                      일반 교육   \n",
       "상권업종소분류코드                     S20701                     P10501   \n",
       "상권업종소분류명                         미용실                    입시·교과학원   \n",
       "표준산업분류코드                      S96112                     P85501   \n",
       "표준산업분류명                       두발 미용업                    일반 교과학원   \n",
       "시도코드                              36                         36   \n",
       "시도명                          세종특별자치시                    세종특별자치시   \n",
       "시군구코드                          36110                      36110   \n",
       "시군구명                         세종특별자치시                    세종특별자치시   \n",
       "행정동코드                       36110518                   36110560   \n",
       "행정동명                             나성동                        보람동   \n",
       "법정동코드                     3611010700                 3611010300   \n",
       "법정동명                             나성동                        보람동   \n",
       "지번코드             3611010700107640000        3611010300107600000   \n",
       "대지구분코드                             1                          1   \n",
       "대지구분명                             대지                         대지   \n",
       "지번본번지                            764                        760   \n",
       "지번부번지                            NaN                        NaN   \n",
       "지번주소         세종특별자치시 세종특별자치시 나성동 764    세종특별자치시 세종특별자치시 보람동 760   \n",
       "도로명코드                   361102000002               361103350790   \n",
       "도로명            세종특별자치시 세종특별자치시 한누리대로       세종특별자치시 세종특별자치시 남세종로   \n",
       "건물본번지                            288                        450   \n",
       "건물부번지                            NaN                        NaN   \n",
       "건물관리번호     3611010700103610069000001  3611010300106290005000003   \n",
       "건물명                          갤러리밸류시티                       보람빌딩   \n",
       "도로명주소      세종특별자치시 세종특별자치시 한누리대로 288   세종특별자치시 세종특별자치시 남세종로 450   \n",
       "구우편번호                       339003.0                   339008.0   \n",
       "신우편번호                          30128                      30150   \n",
       "동정보                              NaN                        NaN   \n",
       "층정보                              2.0                        7.0   \n",
       "호정보                              NaN                        NaN   \n",
       "경도                          127.2571                 127.290106   \n",
       "위도                         36.489928                  36.477413   \n",
       "\n",
       "                                  4                               5   \\\n",
       "상가업소번호          MA010120220805437826            MA010120220805437034   \n",
       "상호명                             가재세탁                           세종마취과   \n",
       "지점명                              NaN                             NaN   \n",
       "상권업종대분류코드                         S2                              Q1   \n",
       "상권업종대분류명                       수리·개인                            보건의료   \n",
       "상권업종중분류코드                       S209                            Q102   \n",
       "상권업종중분류명                          세탁                              의원   \n",
       "상권업종소분류코드                     S20901                          Q10209   \n",
       "상권업종소분류명                         세탁소                           기타 의원   \n",
       "표준산업분류코드                      S96912                          Q86201   \n",
       "표준산업분류명                      가정용 세탁업                            일반의원   \n",
       "시도코드                              36                              36   \n",
       "시도명                          세종특별자치시                         세종특별자치시   \n",
       "시군구코드                          36110                           36110   \n",
       "시군구명                         세종특별자치시                         세종특별자치시   \n",
       "행정동코드                       36110540                        36110250   \n",
       "행정동명                             종촌동                            조치원읍   \n",
       "법정동코드                     3611011100                      3611025027   \n",
       "법정동명                             종촌동                            조치원읍   \n",
       "지번코드             3611011100106790000             3611025027101190012   \n",
       "대지구분코드                             1                               1   \n",
       "대지구분명                             대지                              대지   \n",
       "지번본번지                            679                             119   \n",
       "지번부번지                            NaN                            12.0   \n",
       "지번주소         세종특별자치시 세종특별자치시 종촌동 679  세종특별자치시 세종특별자치시 조치원읍 남리 119-12   \n",
       "도로명코드                   361103258082                    361104574263   \n",
       "도로명             세종특별자치시 세종특별자치시 도움3로       세종특별자치시 세종특별자치시 조치원읍 새내1길   \n",
       "건물본번지                            159                              17   \n",
       "건물부번지                            NaN                             NaN   \n",
       "건물관리번호     3611011100200060000000001       3611025027101190012000001   \n",
       "건물명                          가재마을3단지                             NaN   \n",
       "도로명주소       세종특별자치시 세종특별자치시 도움3로 159    세종특별자치시 세종특별자치시 조치원읍 새내1길 17   \n",
       "구우편번호                       339013.0                        339802.0   \n",
       "신우편번호                          30064                           30028   \n",
       "동정보                              NaN                             NaN   \n",
       "층정보                              1.0                             NaN   \n",
       "호정보                              NaN                             NaN   \n",
       "경도                        127.243749                      127.298363   \n",
       "위도                          36.50393                       36.596179   \n",
       "\n",
       "                                  6                          7   \\\n",
       "상가업소번호          MA010120220805436870       MA010120220805439448   \n",
       "상호명                            세종유도관                  세종종합법률사무소   \n",
       "지점명                              NaN                        NaN   \n",
       "상권업종대분류코드                         P1                         M1   \n",
       "상권업종대분류명                          교육                      과학·기술   \n",
       "상권업종중분류코드                       P106                       M103   \n",
       "상권업종중분류명                       기타 교육                      법무관련    \n",
       "상권업종소분류코드                     P10601                     M10301   \n",
       "상권업종소분류명                    태권도/무술학원                        변호사   \n",
       "표준산업분류코드                      P85611                     M71101   \n",
       "표준산업분류명                태권도 및 무술 교육기관                       변호사업   \n",
       "시도코드                              36                         36   \n",
       "시도명                          세종특별자치시                    세종특별자치시   \n",
       "시군구코드                          36110                      36110   \n",
       "시군구명                         세종특별자치시                    세종특별자치시   \n",
       "행정동코드                       36110560                   36110518   \n",
       "행정동명                             보람동                        나성동   \n",
       "법정동코드                     3611010300                 3611010700   \n",
       "법정동명                             보람동                        나성동   \n",
       "지번코드             3611010300107570000        3611010700108090000   \n",
       "대지구분코드                             1                          1   \n",
       "대지구분명                             대지                         대지   \n",
       "지번본번지                            757                        809   \n",
       "지번부번지                            NaN                        NaN   \n",
       "지번주소         세종특별자치시 세종특별자치시 보람동 757    세종특별자치시 세종특별자치시 나성동 809   \n",
       "도로명코드                   361103350790               361103351279   \n",
       "도로명             세종특별자치시 세종특별자치시 남세종로       세종특별자치시 세종특별자치시 나성북로   \n",
       "건물본번지                            462                         30   \n",
       "건물부번지                            NaN                        NaN   \n",
       "건물관리번호     3611010300107000076000001  3611010700103610050000001   \n",
       "건물명                            위너스타워                       퍼스트원   \n",
       "도로명주소       세종특별자치시 세종특별자치시 남세종로 462    세종특별자치시 세종특별자치시 나성북로 30   \n",
       "구우편번호                       339008.0                   339003.0   \n",
       "신우편번호                          30150                      30128   \n",
       "동정보                              NaN                        NaN   \n",
       "층정보                              NaN                        3.0   \n",
       "호정보                              NaN                        NaN   \n",
       "경도                        127.288827                 127.260244   \n",
       "위도                         36.476855                  36.489064   \n",
       "\n",
       "                                      8                          9   ...  \\\n",
       "상가업소번호              MA010120220805447501       MA010120220805445058  ...   \n",
       "상호명                                  로엘라                        딥핑크  ...   \n",
       "지점명                                  NaN                        NaN  ...   \n",
       "상권업종대분류코드                             I2                         G2  ...   \n",
       "상권업종대분류명                              음식                         소매  ...   \n",
       "상권업종중분류코드                           I201                       G204  ...   \n",
       "상권업종중분류명                              한식                      종합 소매  ...   \n",
       "상권업종소분류코드                         I20101                     G20499  ...   \n",
       "상권업종소분류명                          백반/한정식              그 외 기타 종합 소매업  ...   \n",
       "표준산업분류코드                          I56111                     G47190  ...   \n",
       "표준산업분류명                       한식 일반 음식점업              그 외 기타 종합 소매업  ...   \n",
       "시도코드                                  36                         36  ...   \n",
       "시도명                              세종특별자치시                    세종특별자치시  ...   \n",
       "시군구코드                              36110                      36110  ...   \n",
       "시군구명                             세종특별자치시                    세종특별자치시  ...   \n",
       "행정동코드                           36110250                   36110515  ...   \n",
       "행정동명                                조치원읍                        새롬동  ...   \n",
       "법정동코드                         3611025021                 3611010800  ...   \n",
       "법정동명                                조치원읍                        새롬동  ...   \n",
       "지번코드                 3611025021100010022        3611010800105840000  ...   \n",
       "대지구분코드                                 1                          1  ...   \n",
       "대지구분명                                 대지                         대지  ...   \n",
       "지번본번지                                  1                        584  ...   \n",
       "지번부번지                               22.0                        NaN  ...   \n",
       "지번주소        세종특별자치시 세종특별자치시 조치원읍 원리 1-22    세종특별자치시 세종특별자치시 새롬동 584  ...   \n",
       "도로명코드                       361104574472               361103351283  ...   \n",
       "도로명           세종특별자치시 세종특별자치시 조치원읍 조치원7길      세종특별자치시 세종특별자치시 새롬중앙로  ...   \n",
       "건물본번지                                 12                         55  ...   \n",
       "건물부번지                                NaN                        NaN  ...   \n",
       "건물관리번호         4473025021100010022036496  3611010800200100000000001  ...   \n",
       "건물명                                  NaN                       행운빌딩  ...   \n",
       "도로명주소      세종특별자치시 세종특별자치시 조치원읍 조치원7길 12   세종특별자치시 세종특별자치시 새롬중앙로 55  ...   \n",
       "구우편번호                           339883.0                   339009.0  ...   \n",
       "신우편번호                              30024                      30126  ...   \n",
       "동정보                                  NaN                        NaN  ...   \n",
       "층정보                                  NaN                        1.0  ...   \n",
       "호정보                                  NaN                        NaN  ...   \n",
       "경도                            127.300701                 127.250343  ...   \n",
       "위도                             36.602104                  36.485749  ...   \n",
       "\n",
       "                                      20                         21  \\\n",
       "상가업소번호              MA010120220805444812       MA010120220805443708   \n",
       "상호명                      부동산땅집go공인중개사사무소                   머슬케어필라테스   \n",
       "지점명                                  NaN                        NaN   \n",
       "상권업종대분류코드                             L1                         P1   \n",
       "상권업종대분류명                             부동산                         교육   \n",
       "상권업종중분류코드                           L102                       P106   \n",
       "상권업종중분류명                         부동산 서비스                      기타 교육   \n",
       "상권업종소분류코드                         L10203                     P10603   \n",
       "상권업종소분류명                      부동산 중개/대리업                 요가/필라테스 학원   \n",
       "표준산업분류코드                          L68221                     P85612   \n",
       "표준산업분류명                     부동산 중개 및 대리업                기타 스포츠 교육기관   \n",
       "시도코드                                  36                         36   \n",
       "시도명                              세종특별자치시                    세종특별자치시   \n",
       "시군구코드                              36110                      36110   \n",
       "시군구명                             세종특별자치시                    세종특별자치시   \n",
       "행정동코드                           36110250                   36110518   \n",
       "행정동명                                조치원읍                        나성동   \n",
       "법정동코드                         3611025029                 3611010700   \n",
       "법정동명                                조치원읍                        나성동   \n",
       "지번코드                 3611025029100010023        3611010700107880000   \n",
       "대지구분코드                                 1                          1   \n",
       "대지구분명                                 대지                         대지   \n",
       "지번본번지                                  1                        788   \n",
       "지번부번지                               23.0                        NaN   \n",
       "지번주소       세종특별자치시 세종특별자치시 조치원읍 신흥리 1-23    세종특별자치시 세종특별자치시 나성동 788   \n",
       "도로명코드                       361104574352               361103351278   \n",
       "도로명           세종특별자치시 세종특별자치시 조치원읍 신흥샛터길      세종특별자치시 세종특별자치시 나성북1로   \n",
       "건물본번지                                 43                         12   \n",
       "건물부번지                                NaN                        NaN   \n",
       "건물관리번호         4473025029100010023039769  3611010700103610079000001   \n",
       "건물명                                  NaN                      메가타워2   \n",
       "도로명주소      세종특별자치시 세종특별자치시 조치원읍 신흥샛터길 43   세종특별자치시 세종특별자치시 나성북1로 12   \n",
       "구우편번호                           339807.0                   339003.0   \n",
       "신우편번호                              30029                      30128   \n",
       "동정보                                  NaN                        NaN   \n",
       "층정보                                  NaN                        5.0   \n",
       "호정보                                  NaN                        NaN   \n",
       "경도                            127.295235                 127.257625   \n",
       "위도                             36.597233                  36.490995   \n",
       "\n",
       "                                       22                         23  \\\n",
       "상가업소번호               MA010120220805442296       MA010120220805440526   \n",
       "상호명                                 천지연가든                   아르드뽀에스테틱   \n",
       "지점명                                   NaN                        NaN   \n",
       "상권업종대분류코드                              I2                         S2   \n",
       "상권업종대분류명                               음식                      수리·개인   \n",
       "상권업종중분류코드                            I201                       S207   \n",
       "상권업종중분류명                               한식                      이용·미용   \n",
       "상권업종소분류코드                          I20101                     S20702   \n",
       "상권업종소분류명                           백반/한정식                     피부 관리실   \n",
       "표준산업분류코드                           I56111                     S96113   \n",
       "표준산업분류명                        한식 일반 음식점업                     피부 미용업   \n",
       "시도코드                                   36                         36   \n",
       "시도명                               세종특별자치시                    세종특별자치시   \n",
       "시군구코드                               36110                      36110   \n",
       "시군구명                              세종특별자치시                    세종특별자치시   \n",
       "행정동코드                            36110360                   36110518   \n",
       "행정동명                                  연서면                        나성동   \n",
       "법정동코드                          3611036023                 3611010700   \n",
       "법정동명                                  연서면                        나성동   \n",
       "지번코드                  3611036023105860014        3611010700107500000   \n",
       "대지구분코드                                  1                          1   \n",
       "대지구분명                                  대지                         대지   \n",
       "지번본번지                                 586                        750   \n",
       "지번부번지                                14.0                        NaN   \n",
       "지번주소       세종특별자치시 세종특별자치시 연서면 성제리 586-14    세종특별자치시 세종특별자치시 나성동 750   \n",
       "도로명코드                        361103258027               361102000002   \n",
       "도로명              세종특별자치시 세종특별자치시 연서면 월하천로      세종특별자치시 세종특별자치시 한누리대로   \n",
       "건물본번지                                   3                        227   \n",
       "건물부번지                                 NaN                        NaN   \n",
       "건물관리번호          4473032023105860014019442  3611010700104550001000001   \n",
       "건물명                                   NaN                       세종마루   \n",
       "도로명주소          세종특별자치시 세종특별자치시 연서면 월하천로 3  세종특별자치시 세종특별자치시 한누리대로 227   \n",
       "구우편번호                            339814.0                   339003.0   \n",
       "신우편번호                               30043                      30127   \n",
       "동정보                                   NaN                        NaN   \n",
       "층정보                                   NaN                        2.0   \n",
       "호정보                                   NaN                        NaN   \n",
       "경도                              127.26488                  127.25851   \n",
       "위도                              36.588912                  36.484854   \n",
       "\n",
       "                                     24                         25  \\\n",
       "상가업소번호             MA010120220805443477       MA010120220805457023   \n",
       "상호명                                 쿠헤어                   세종하이엔드학원   \n",
       "지점명                                 NaN                        NaN   \n",
       "상권업종대분류코드                            S2                         P1   \n",
       "상권업종대분류명                          수리·개인                         교육   \n",
       "상권업종중분류코드                          S207                       P105   \n",
       "상권업종중분류명                          이용·미용                      일반 교육   \n",
       "상권업종소분류코드                        S20701                     P10501   \n",
       "상권업종소분류명                            미용실                    입시·교과학원   \n",
       "표준산업분류코드                         S96112                     P85501   \n",
       "표준산업분류명                          두발 미용업                    일반 교과학원   \n",
       "시도코드                                 36                         36   \n",
       "시도명                             세종특별자치시                    세종특별자치시   \n",
       "시군구코드                             36110                      36110   \n",
       "시군구명                            세종특별자치시                    세종특별자치시   \n",
       "행정동코드                          36110250                   36110518   \n",
       "행정동명                               조치원읍                        나성동   \n",
       "법정동코드                        3611025025                 3611010700   \n",
       "법정동명                               조치원읍                        나성동   \n",
       "지번코드                3611025025100340001        3611010700107460000   \n",
       "대지구분코드                                1                          1   \n",
       "대지구분명                                대지                         대지   \n",
       "지번본번지                                34                        746   \n",
       "지번부번지                               1.0                        NaN   \n",
       "지번주소       세종특별자치시 세종특별자치시 조치원읍 정리 34-1    세종특별자치시 세종특별자치시 나성동 746   \n",
       "도로명코드                      361104574272               361102000002   \n",
       "도로명           세종특별자치시 세종특별자치시 조치원읍 새내8길      세종특별자치시 세종특별자치시 한누리대로   \n",
       "건물본번지                                17                        249   \n",
       "건물부번지                               NaN                        NaN   \n",
       "건물관리번호        4473025025100330004042223  3611010800100740004000001   \n",
       "건물명                                 NaN                     에스제이타워   \n",
       "도로명주소      세종특별자치시 세종특별자치시 조치원읍 새내8길 17  세종특별자치시 세종특별자치시 한누리대로 249   \n",
       "구우편번호                          339882.0                   339003.0   \n",
       "신우편번호                             30027                      30127   \n",
       "동정보                                 NaN                        NaN   \n",
       "층정보                                 1.0                        NaN   \n",
       "호정보                                 NaN                        NaN   \n",
       "경도                            127.29927                 127.257457   \n",
       "위도                            36.599645                  36.486425   \n",
       "\n",
       "                                   26                          27  \\\n",
       "상가업소번호           MA010120220805461877        MA010120220805457615   \n",
       "상호명                             캐치업세종                   인성세무회계사무소   \n",
       "지점명                               NaN                         NaN   \n",
       "상권업종대분류코드                          G2                          M1   \n",
       "상권업종대분류명                           소매                       과학·기술   \n",
       "상권업종중분류코드                        G215                        M104   \n",
       "상권업종중분류명                    의약·화장품 소매                       회계·세무   \n",
       "상권업종소분류코드                      G21503                      M10401   \n",
       "상권업종소분류명                      화장품 소매업                       공인회계사   \n",
       "표준산업분류코드                       G47813                      M71201   \n",
       "표준산업분류명             화장품; 비누 및 방향제 소매업                      공인회계사업   \n",
       "시도코드                               36                          36   \n",
       "시도명                           세종특별자치시                     세종특별자치시   \n",
       "시군구코드                           36110                       36110   \n",
       "시군구명                          세종특별자치시                     세종특별자치시   \n",
       "행정동코드                        36110518                    36110560   \n",
       "행정동명                              나성동                         보람동   \n",
       "법정동코드                      3611010700                  3611010300   \n",
       "법정동명                              나성동                         보람동   \n",
       "지번코드              3611010700107950000         3611010300107220000   \n",
       "대지구분코드                              1                           1   \n",
       "대지구분명                              대지                          대지   \n",
       "지번본번지                             795                         722   \n",
       "지번부번지                             NaN                         NaN   \n",
       "지번주소          세종특별자치시 세종특별자치시 나성동 795     세종특별자치시 세종특별자치시 보람동 722   \n",
       "도로명코드                    361103351277                361102000002   \n",
       "도로명               세종특별자치시 세종특별자치시 나성로       세종특별자치시 세종특별자치시 한누리대로   \n",
       "건물본번지                             125                        2150   \n",
       "건물부번지                            16.0                         NaN   \n",
       "건물관리번호      3611010700103610037000001   3611010300106640010000001   \n",
       "건물명                              스타타워                      스마트허브Ⅰ   \n",
       "도로명주소      세종특별자치시 세종특별자치시 나성로 125-16  세종특별자치시 세종특별자치시 한누리대로 2150   \n",
       "구우편번호                        339003.0                    339008.0   \n",
       "신우편번호                           30128                       30151   \n",
       "동정보                               NaN                         NaN   \n",
       "층정보                               NaN                         5.0   \n",
       "호정보                               NaN                         NaN   \n",
       "경도                         127.257757                  127.287328   \n",
       "위도                          36.490094                   36.478505   \n",
       "\n",
       "                                    28                         29  \n",
       "상가업소번호            MA010120220805459636       MA010120220805452812  \n",
       "상호명                               모던제이                   엘리시아헤어살롱  \n",
       "지점명                                NaN                        NaN  \n",
       "상권업종대분류코드                           G2                         S2  \n",
       "상권업종대분류명                            소매                      수리·개인  \n",
       "상권업종중분류코드                         G209                       S207  \n",
       "상권업종중분류명                   섬유·의복·신발 소매                      이용·미용  \n",
       "상권업종소분류코드                       G20911                     S20701  \n",
       "상권업종소분류명                        가방 소매업                        미용실  \n",
       "표준산업분류코드                        G47440                     S96112  \n",
       "표준산업분류명               가방 및 기타 가죽제품 소매업                     두발 미용업  \n",
       "시도코드                                36                         36  \n",
       "시도명                            세종특별자치시                    세종특별자치시  \n",
       "시군구코드                            36110                      36110  \n",
       "시군구명                           세종특별자치시                    세종특별자치시  \n",
       "행정동코드                         36110370                   36110525  \n",
       "행정동명                               전의면                        해밀동  \n",
       "법정동코드                       3611037023                 3611011600  \n",
       "법정동명                               전의면                        해밀동  \n",
       "지번코드               3611037023101020000        3611011600200080000  \n",
       "대지구분코드                               1                          2  \n",
       "대지구분명                               대지                          산  \n",
       "지번본번지                              102                          8  \n",
       "지번부번지                              NaN                        NaN  \n",
       "지번주소       세종특별자치시 세종특별자치시 전의면 서정리 102     세종특별자치시 세종특별자치시 해밀동 산8  \n",
       "도로명코드                     361104574061               361103352828  \n",
       "도로명            세종특별자치시 세종특별자치시 전의면 내서길       세종특별자치시 세종특별자치시 해밀3로  \n",
       "건물본번지                               37                         32  \n",
       "건물부번지                              NaN                        NaN  \n",
       "건물관리번호       4473035023101020000003387  3611011600103200005000001  \n",
       "건물명                                NaN                    해밀마을1단지  \n",
       "도로명주소       세종특별자치시 세종특별자치시 전의면 내서길 37    세종특별자치시 세종특별자치시 해밀3로 32  \n",
       "구우편번호                         339851.0                        NaN  \n",
       "신우편번호                            30004                      30092  \n",
       "동정보                                NaN                        NaN  \n",
       "층정보                                NaN                        1.0  \n",
       "호정보                                NaN                        NaN  \n",
       "경도                          127.192993                 127.267243  \n",
       "위도                           36.689317                  36.529284  \n",
       "\n",
       "[39 rows x 30 columns]"
      ]
     },
     "execution_count": 92,
     "metadata": {},
     "output_type": "execute_result"
    }
   ],
   "source": [
    "df.T"
   ]
  },
  {
   "cell_type": "code",
   "execution_count": 93,
   "id": "38b0d5ca",
   "metadata": {
    "ExecuteTime": {
     "end_time": "2024-11-26T05:16:39.008039Z",
     "start_time": "2024-11-26T05:16:38.991084Z"
    }
   },
   "outputs": [
    {
     "data": {
      "text/html": [
       "<div>\n",
       "<style scoped>\n",
       "    .dataframe tbody tr th:only-of-type {\n",
       "        vertical-align: middle;\n",
       "    }\n",
       "\n",
       "    .dataframe tbody tr th {\n",
       "        vertical-align: top;\n",
       "    }\n",
       "\n",
       "    .dataframe thead th {\n",
       "        text-align: right;\n",
       "    }\n",
       "</style>\n",
       "<table border=\"1\" class=\"dataframe\">\n",
       "  <thead>\n",
       "    <tr style=\"text-align: right;\">\n",
       "      <th></th>\n",
       "      <th>상가업소번호</th>\n",
       "      <th>상호명</th>\n",
       "      <th>지점명</th>\n",
       "      <th>상권업종대분류코드</th>\n",
       "      <th>상권업종대분류명</th>\n",
       "      <th>상권업종중분류코드</th>\n",
       "      <th>상권업종중분류명</th>\n",
       "      <th>상권업종소분류코드</th>\n",
       "      <th>상권업종소분류명</th>\n",
       "      <th>표준산업분류코드</th>\n",
       "      <th>...</th>\n",
       "      <th>건물관리번호</th>\n",
       "      <th>건물명</th>\n",
       "      <th>도로명주소</th>\n",
       "      <th>구우편번호</th>\n",
       "      <th>신우편번호</th>\n",
       "      <th>동정보</th>\n",
       "      <th>층정보</th>\n",
       "      <th>호정보</th>\n",
       "      <th>경도</th>\n",
       "      <th>위도</th>\n",
       "    </tr>\n",
       "  </thead>\n",
       "  <tbody>\n",
       "    <tr>\n",
       "      <th>0</th>\n",
       "      <td>MA0101202210A0084499</td>\n",
       "      <td>베트남쌀국수퍼짱</td>\n",
       "      <td>NaN</td>\n",
       "      <td>I2</td>\n",
       "      <td>음식</td>\n",
       "      <td>I205</td>\n",
       "      <td>동남아시아</td>\n",
       "      <td>I20501</td>\n",
       "      <td>베트남식 전문</td>\n",
       "      <td>I56194</td>\n",
       "      <td>...</td>\n",
       "      <td>3611010700103610086000001</td>\n",
       "      <td>모닝시티2</td>\n",
       "      <td>세종특별자치시 세종특별자치시 한누리대로 311</td>\n",
       "      <td>339003.0</td>\n",
       "      <td>30123</td>\n",
       "      <td>NaN</td>\n",
       "      <td>1.0</td>\n",
       "      <td>NaN</td>\n",
       "      <td>127.25584</td>\n",
       "      <td>36.492065</td>\n",
       "    </tr>\n",
       "  </tbody>\n",
       "</table>\n",
       "<p>1 rows × 39 columns</p>\n",
       "</div>"
      ],
      "text/plain": [
       "                 상가업소번호       상호명  지점명 상권업종대분류코드 상권업종대분류명 상권업종중분류코드 상권업종중분류명  \\\n",
       "0  MA0101202210A0084499  베트남쌀국수퍼짱  NaN        I2       음식      I205    동남아시아   \n",
       "\n",
       "  상권업종소분류코드 상권업종소분류명 표준산업분류코드  ...                     건물관리번호    건물명  \\\n",
       "0    I20501  베트남식 전문   I56194  ...  3611010700103610086000001  모닝시티2   \n",
       "\n",
       "                       도로명주소     구우편번호  신우편번호  동정보  층정보  호정보         경도  \\\n",
       "0  세종특별자치시 세종특별자치시 한누리대로 311  339003.0  30123  NaN  1.0  NaN  127.25584   \n",
       "\n",
       "          위도  \n",
       "0  36.492065  \n",
       "\n",
       "[1 rows x 39 columns]"
      ]
     },
     "execution_count": 93,
     "metadata": {},
     "output_type": "execute_result"
    }
   ],
   "source": [
    "df.head(1) # 상위 1행만 출력"
   ]
  },
  {
   "cell_type": "code",
   "execution_count": null,
   "id": "a2082ad9",
   "metadata": {
    "ExecuteTime": {
     "end_time": "2024-11-26T05:16:39.036962Z",
     "start_time": "2024-11-26T05:16:39.010034Z"
    }
   },
   "outputs": [],
   "source": [
    "# 판다스 디스플레이 옵션\n",
    "pd.options.display.max_columns = 40\n",
    "pd.options.display.max_rows = 40\n",
    "df.head(1)"
   ]
  },
  {
   "cell_type": "markdown",
   "id": "1cbeb000",
   "metadata": {},
   "source": [
    "## 2.3 read_csv"
   ]
  },
  {
   "cell_type": "code",
   "execution_count": 25,
   "id": "c149b33e",
   "metadata": {
    "ExecuteTime": {
     "end_time": "2024-11-26T05:16:39.050924Z",
     "start_time": "2024-11-26T05:16:39.038956Z"
    }
   },
   "outputs": [
    {
     "data": {
      "text/html": [
       "<div>\n",
       "<style scoped>\n",
       "    .dataframe tbody tr th:only-of-type {\n",
       "        vertical-align: middle;\n",
       "    }\n",
       "\n",
       "    .dataframe tbody tr th {\n",
       "        vertical-align: top;\n",
       "    }\n",
       "\n",
       "    .dataframe thead th {\n",
       "        text-align: right;\n",
       "    }\n",
       "</style>\n",
       "<table border=\"1\" class=\"dataframe\">\n",
       "  <thead>\n",
       "    <tr style=\"text-align: right;\">\n",
       "      <th></th>\n",
       "      <th>Name</th>\n",
       "      <th>Age</th>\n",
       "      <th>Email</th>\n",
       "      <th>Address</th>\n",
       "      <th>Birth</th>\n",
       "    </tr>\n",
       "  </thead>\n",
       "  <tbody>\n",
       "    <tr>\n",
       "      <th>0</th>\n",
       "      <td>홍길동</td>\n",
       "      <td>20</td>\n",
       "      <td>hong@hong.com</td>\n",
       "      <td>서울시 강동구</td>\n",
       "      <td>1999-01-01</td>\n",
       "    </tr>\n",
       "    <tr>\n",
       "      <th>1</th>\n",
       "      <td>홍길서</td>\n",
       "      <td>30</td>\n",
       "      <td>seo@hong.com</td>\n",
       "      <td>서울시 중구</td>\n",
       "      <td>1999-12-01</td>\n",
       "    </tr>\n",
       "    <tr>\n",
       "      <th>2</th>\n",
       "      <td>홍길남</td>\n",
       "      <td>21</td>\n",
       "      <td>nam@hong.com</td>\n",
       "      <td>서울시 강동구</td>\n",
       "      <td>1999-11-01</td>\n",
       "    </tr>\n",
       "    <tr>\n",
       "      <th>3</th>\n",
       "      <td>홍길북</td>\n",
       "      <td>22</td>\n",
       "      <td>buk@hong.com</td>\n",
       "      <td>서울시 관악구</td>\n",
       "      <td>1999-05-01</td>\n",
       "    </tr>\n",
       "    <tr>\n",
       "      <th>4</th>\n",
       "      <td>홍길중</td>\n",
       "      <td>23</td>\n",
       "      <td>mid@hong.com</td>\n",
       "      <td>부산시 중구</td>\n",
       "      <td>1999-01-30</td>\n",
       "    </tr>\n",
       "    <tr>\n",
       "      <th>5</th>\n",
       "      <td>#홍길뜽</td>\n",
       "      <td>24</td>\n",
       "      <td>non@not.com</td>\n",
       "      <td>없는구</td>\n",
       "      <td>2000-01-01</td>\n",
       "    </tr>\n",
       "  </tbody>\n",
       "</table>\n",
       "</div>"
      ],
      "text/plain": [
       "   Name  Age          Email  Address       Birth\n",
       "0   홍길동   20  hong@hong.com  서울시 강동구  1999-01-01\n",
       "1   홍길서   30   seo@hong.com   서울시 중구  1999-12-01\n",
       "2   홍길남   21   nam@hong.com  서울시 강동구  1999-11-01\n",
       "3   홍길북   22   buk@hong.com  서울시 관악구  1999-05-01\n",
       "4   홍길중   23   mid@hong.com   부산시 중구  1999-01-30\n",
       "5  #홍길뜽   24    non@not.com      없는구  2000-01-01"
      ]
     },
     "execution_count": 25,
     "metadata": {},
     "output_type": "execute_result"
    }
   ],
   "source": [
    "# (1) CSV 파일 불러오기 (기본값)\n",
    "member = pd.read_csv('data/ch12_member.csv', encoding='utf-8', sep=',')\n",
    "member"
   ]
  },
  {
   "cell_type": "code",
   "execution_count": 26,
   "id": "33713f89",
   "metadata": {
    "ExecuteTime": {
     "end_time": "2024-11-26T05:16:39.063889Z",
     "start_time": "2024-11-26T05:16:39.052919Z"
    }
   },
   "outputs": [
    {
     "name": "stdout",
     "output_type": "stream",
     "text": [
      "<class 'pandas.core.frame.DataFrame'>\n",
      "RangeIndex: 6 entries, 0 to 5\n",
      "Data columns (total 5 columns):\n",
      " #   Column   Non-Null Count  Dtype \n",
      "---  ------   --------------  ----- \n",
      " 0   Name     6 non-null      object\n",
      " 1   Age      6 non-null      int64 \n",
      " 2   Email    6 non-null      object\n",
      " 3   Address  6 non-null      object\n",
      " 4   Birth    6 non-null      object\n",
      "dtypes: int64(1), object(4)\n",
      "memory usage: 368.0+ bytes\n"
     ]
    }
   ],
   "source": [
    "member.info()"
   ]
  },
  {
   "cell_type": "code",
   "execution_count": 27,
   "id": "05b5f41d",
   "metadata": {
    "ExecuteTime": {
     "end_time": "2024-11-26T05:16:39.077852Z",
     "start_time": "2024-11-26T05:16:39.065885Z"
    }
   },
   "outputs": [
    {
     "name": "stdout",
     "output_type": "stream",
     "text": [
      "<class 'pandas.core.frame.DataFrame'>\n",
      "RangeIndex: 6 entries, 0 to 5\n",
      "Data columns (total 5 columns):\n",
      " #   Column   Non-Null Count  Dtype         \n",
      "---  ------   --------------  -----         \n",
      " 0   Name     6 non-null      object        \n",
      " 1   Age      6 non-null      int64         \n",
      " 2   Email    6 non-null      object        \n",
      " 3   Address  6 non-null      object        \n",
      " 4   Birth    6 non-null      datetime64[ns]\n",
      "dtypes: datetime64[ns](1), int64(1), object(3)\n",
      "memory usage: 368.0+ bytes\n"
     ]
    }
   ],
   "source": [
    "# 문자로 읽어들인 Birth를 datetime형으로\n",
    "# 형변환은 astype()쓰지만 datetime형으로 변환할 때는 to_datetime()함수를 사용\n",
    "member['Birth'] = pd.to_datetime(member['Birth'])\n",
    "member.info()"
   ]
  },
  {
   "cell_type": "code",
   "execution_count": 28,
   "id": "7c2e9563",
   "metadata": {
    "ExecuteTime": {
     "end_time": "2024-11-26T05:16:39.098796Z",
     "start_time": "2024-11-26T05:16:39.079847Z"
    }
   },
   "outputs": [
    {
     "name": "stdout",
     "output_type": "stream",
     "text": [
      "<class 'pandas.core.frame.DataFrame'>\n",
      "RangeIndex: 6 entries, 0 to 5\n",
      "Data columns (total 5 columns):\n",
      " #   Column   Non-Null Count  Dtype         \n",
      "---  ------   --------------  -----         \n",
      " 0   Name     6 non-null      object        \n",
      " 1   Age      6 non-null      int16         \n",
      " 2   Email    6 non-null      object        \n",
      " 3   Address  6 non-null      object        \n",
      " 4   Birth    6 non-null      datetime64[ns]\n",
      "dtypes: datetime64[ns](1), int16(1), object(3)\n",
      "memory usage: 332.0+ bytes\n"
     ]
    }
   ],
   "source": [
    "import numpy as np\n",
    "member['Age'] = member['Age'].astype(np.int16)\n",
    "member.info()"
   ]
  },
  {
   "cell_type": "code",
   "execution_count": 29,
   "id": "46378cfd",
   "metadata": {
    "ExecuteTime": {
     "end_time": "2024-11-26T05:16:39.111762Z",
     "start_time": "2024-11-26T05:16:39.100791Z"
    }
   },
   "outputs": [
    {
     "data": {
      "text/html": [
       "<div>\n",
       "<style scoped>\n",
       "    .dataframe tbody tr th:only-of-type {\n",
       "        vertical-align: middle;\n",
       "    }\n",
       "\n",
       "    .dataframe tbody tr th {\n",
       "        vertical-align: top;\n",
       "    }\n",
       "\n",
       "    .dataframe thead th {\n",
       "        text-align: right;\n",
       "    }\n",
       "</style>\n",
       "<table border=\"1\" class=\"dataframe\">\n",
       "  <thead>\n",
       "    <tr style=\"text-align: right;\">\n",
       "      <th></th>\n",
       "      <th>Name</th>\n",
       "      <th>Age</th>\n",
       "      <th>Email</th>\n",
       "      <th>Address</th>\n",
       "      <th>Birth</th>\n",
       "    </tr>\n",
       "  </thead>\n",
       "  <tbody>\n",
       "    <tr>\n",
       "      <th>0</th>\n",
       "      <td>홍길서</td>\n",
       "      <td>30</td>\n",
       "      <td>seo@hong.com</td>\n",
       "      <td>서울시 중구</td>\n",
       "      <td>1999-12-01</td>\n",
       "    </tr>\n",
       "    <tr>\n",
       "      <th>1</th>\n",
       "      <td>홍길남</td>\n",
       "      <td>21</td>\n",
       "      <td>nam@hong.com</td>\n",
       "      <td>서울시 강동구</td>\n",
       "      <td>1999-11-01</td>\n",
       "    </tr>\n",
       "    <tr>\n",
       "      <th>2</th>\n",
       "      <td>홍길북</td>\n",
       "      <td>22</td>\n",
       "      <td>buk@hong.com</td>\n",
       "      <td>서울시 관악구</td>\n",
       "      <td>1999-05-01</td>\n",
       "    </tr>\n",
       "    <tr>\n",
       "      <th>3</th>\n",
       "      <td>홍길중</td>\n",
       "      <td>23</td>\n",
       "      <td>mid@hong.com</td>\n",
       "      <td>부산시 중구</td>\n",
       "      <td>1999-01-30</td>\n",
       "    </tr>\n",
       "  </tbody>\n",
       "</table>\n",
       "</div>"
      ],
      "text/plain": [
       "  Name  Age         Email  Address       Birth\n",
       "0  홍길서   30  seo@hong.com   서울시 중구  1999-12-01\n",
       "1  홍길남   21  nam@hong.com  서울시 강동구  1999-11-01\n",
       "2  홍길북   22  buk@hong.com  서울시 관악구  1999-05-01\n",
       "3  홍길중   23  mid@hong.com   부산시 중구  1999-01-30"
      ]
     },
     "execution_count": 29,
     "metadata": {},
     "output_type": "execute_result"
    }
   ],
   "source": [
    "# (2) 특정 몇행만 읽어오기\n",
    "member = pd.read_csv('data/ch12_membercp949.csv', encoding='cp949', skiprows=[1,6]) # 1,6번째 행 제외하고 읽어오기(시작이 1부터)\n",
    "member"
   ]
  },
  {
   "cell_type": "code",
   "execution_count": 30,
   "id": "84bf782d",
   "metadata": {
    "ExecuteTime": {
     "end_time": "2024-11-26T05:16:39.124791Z",
     "start_time": "2024-11-26T05:16:39.113756Z"
    }
   },
   "outputs": [
    {
     "data": {
      "text/html": [
       "<div>\n",
       "<style scoped>\n",
       "    .dataframe tbody tr th:only-of-type {\n",
       "        vertical-align: middle;\n",
       "    }\n",
       "\n",
       "    .dataframe tbody tr th {\n",
       "        vertical-align: top;\n",
       "    }\n",
       "\n",
       "    .dataframe thead th {\n",
       "        text-align: right;\n",
       "    }\n",
       "</style>\n",
       "<table border=\"1\" class=\"dataframe\">\n",
       "  <thead>\n",
       "    <tr style=\"text-align: right;\">\n",
       "      <th></th>\n",
       "      <th>Name</th>\n",
       "      <th>Age</th>\n",
       "      <th>Email</th>\n",
       "      <th>Address</th>\n",
       "      <th>Birth</th>\n",
       "    </tr>\n",
       "  </thead>\n",
       "  <tbody>\n",
       "    <tr>\n",
       "      <th>0</th>\n",
       "      <td>홍길동</td>\n",
       "      <td>20</td>\n",
       "      <td>hong@hong.com</td>\n",
       "      <td>서울시 강동구</td>\n",
       "      <td>1999-01-01</td>\n",
       "    </tr>\n",
       "    <tr>\n",
       "      <th>1</th>\n",
       "      <td>홍길서</td>\n",
       "      <td>30</td>\n",
       "      <td>seo@hong.com</td>\n",
       "      <td>서울시 중구</td>\n",
       "      <td>1999-12-01</td>\n",
       "    </tr>\n",
       "    <tr>\n",
       "      <th>2</th>\n",
       "      <td>홍길남</td>\n",
       "      <td>21</td>\n",
       "      <td>nam@hong.com</td>\n",
       "      <td>서울시 강동구</td>\n",
       "      <td>1999-11-01</td>\n",
       "    </tr>\n",
       "    <tr>\n",
       "      <th>3</th>\n",
       "      <td>홍길북</td>\n",
       "      <td>22</td>\n",
       "      <td>buk@hong.com</td>\n",
       "      <td>서울시 관악구</td>\n",
       "      <td>1999-05-01</td>\n",
       "    </tr>\n",
       "    <tr>\n",
       "      <th>4</th>\n",
       "      <td>홍길중</td>\n",
       "      <td>23</td>\n",
       "      <td>mid@hong.com</td>\n",
       "      <td>부산시 중구</td>\n",
       "      <td>1999-01-30</td>\n",
       "    </tr>\n",
       "  </tbody>\n",
       "</table>\n",
       "</div>"
      ],
      "text/plain": [
       "  Name  Age          Email  Address       Birth\n",
       "0  홍길동   20  hong@hong.com  서울시 강동구  1999-01-01\n",
       "1  홍길서   30   seo@hong.com   서울시 중구  1999-12-01\n",
       "2  홍길남   21   nam@hong.com  서울시 강동구  1999-11-01\n",
       "3  홍길북   22   buk@hong.com  서울시 관악구  1999-05-01\n",
       "4  홍길중   23   mid@hong.com   부산시 중구  1999-01-30"
      ]
     },
     "execution_count": 30,
     "metadata": {},
     "output_type": "execute_result"
    }
   ],
   "source": [
    "# (3) 상위 5행만 읽어오기\n",
    "member_df = pd.read_csv('data/ch12_membersep.csv', sep='|', nrows=5) # 상위 5개행만 읽어오기\n",
    "member_df"
   ]
  },
  {
   "cell_type": "code",
   "execution_count": 31,
   "id": "7714c13c",
   "metadata": {
    "ExecuteTime": {
     "end_time": "2024-11-26T05:16:39.138753Z",
     "start_time": "2024-11-26T05:16:39.126785Z"
    }
   },
   "outputs": [
    {
     "name": "stdout",
     "output_type": "stream",
     "text": [
      "<class 'pandas.core.frame.DataFrame'>\n",
      "RangeIndex: 5 entries, 0 to 4\n",
      "Data columns (total 5 columns):\n",
      " #   Column   Non-Null Count  Dtype         \n",
      "---  ------   --------------  -----         \n",
      " 0   Name     5 non-null      object        \n",
      " 1   Age      5 non-null      int64         \n",
      " 2   Email    5 non-null      object        \n",
      " 3   Address  5 non-null      object        \n",
      " 4   Birth    5 non-null      datetime64[ns]\n",
      "dtypes: datetime64[ns](1), int64(1), object(3)\n",
      "memory usage: 328.0+ bytes\n"
     ]
    }
   ],
   "source": [
    "# (4) 주석제외, datetime형 필드 지정하여 읽어오기\n",
    "member_df = pd.read_csv('data/ch12_membertap.csv', sep='\\t', parse_dates=['Birth'] # datetime형으로 읽어올 컬럼 지정\n",
    "                        , comment='#') # #이 있는행은 제외하고 읽어오기\n",
    "member_df.info()"
   ]
  },
  {
   "cell_type": "markdown",
   "id": "bda781d3",
   "metadata": {},
   "source": [
    "## iris 데이터 가져오기 방법1 : sklearn(머신러닝패키지)\n",
    "## iris 데이터 가져오기 방법2 : statsmodels(R데이터 가져오기)\n",
    "## iris 데이터 가져오기 방법3 : seaborn(시각화 패키지)\n",
    "## 2.4 sklearn.dataset 모듈 데이터(iris)를 데이터 프레임으로 변환"
   ]
  },
  {
   "cell_type": "code",
   "execution_count": 32,
   "id": "2246ac67",
   "metadata": {
    "ExecuteTime": {
     "end_time": "2024-11-26T05:16:39.936452Z",
     "start_time": "2024-11-26T05:16:39.140748Z"
    }
   },
   "outputs": [
    {
     "data": {
      "text/plain": [
       "{'data': array([[5.1, 3.5, 1.4, 0.2],\n",
       "        [4.9, 3. , 1.4, 0.2],\n",
       "        [4.7, 3.2, 1.3, 0.2],\n",
       "        [4.6, 3.1, 1.5, 0.2],\n",
       "        [5. , 3.6, 1.4, 0.2],\n",
       "        [5.4, 3.9, 1.7, 0.4],\n",
       "        [4.6, 3.4, 1.4, 0.3],\n",
       "        [5. , 3.4, 1.5, 0.2],\n",
       "        [4.4, 2.9, 1.4, 0.2],\n",
       "        [4.9, 3.1, 1.5, 0.1],\n",
       "        [5.4, 3.7, 1.5, 0.2],\n",
       "        [4.8, 3.4, 1.6, 0.2],\n",
       "        [4.8, 3. , 1.4, 0.1],\n",
       "        [4.3, 3. , 1.1, 0.1],\n",
       "        [5.8, 4. , 1.2, 0.2],\n",
       "        [5.7, 4.4, 1.5, 0.4],\n",
       "        [5.4, 3.9, 1.3, 0.4],\n",
       "        [5.1, 3.5, 1.4, 0.3],\n",
       "        [5.7, 3.8, 1.7, 0.3],\n",
       "        [5.1, 3.8, 1.5, 0.3],\n",
       "        [5.4, 3.4, 1.7, 0.2],\n",
       "        [5.1, 3.7, 1.5, 0.4],\n",
       "        [4.6, 3.6, 1. , 0.2],\n",
       "        [5.1, 3.3, 1.7, 0.5],\n",
       "        [4.8, 3.4, 1.9, 0.2],\n",
       "        [5. , 3. , 1.6, 0.2],\n",
       "        [5. , 3.4, 1.6, 0.4],\n",
       "        [5.2, 3.5, 1.5, 0.2],\n",
       "        [5.2, 3.4, 1.4, 0.2],\n",
       "        [4.7, 3.2, 1.6, 0.2],\n",
       "        [4.8, 3.1, 1.6, 0.2],\n",
       "        [5.4, 3.4, 1.5, 0.4],\n",
       "        [5.2, 4.1, 1.5, 0.1],\n",
       "        [5.5, 4.2, 1.4, 0.2],\n",
       "        [4.9, 3.1, 1.5, 0.2],\n",
       "        [5. , 3.2, 1.2, 0.2],\n",
       "        [5.5, 3.5, 1.3, 0.2],\n",
       "        [4.9, 3.6, 1.4, 0.1],\n",
       "        [4.4, 3. , 1.3, 0.2],\n",
       "        [5.1, 3.4, 1.5, 0.2],\n",
       "        [5. , 3.5, 1.3, 0.3],\n",
       "        [4.5, 2.3, 1.3, 0.3],\n",
       "        [4.4, 3.2, 1.3, 0.2],\n",
       "        [5. , 3.5, 1.6, 0.6],\n",
       "        [5.1, 3.8, 1.9, 0.4],\n",
       "        [4.8, 3. , 1.4, 0.3],\n",
       "        [5.1, 3.8, 1.6, 0.2],\n",
       "        [4.6, 3.2, 1.4, 0.2],\n",
       "        [5.3, 3.7, 1.5, 0.2],\n",
       "        [5. , 3.3, 1.4, 0.2],\n",
       "        [7. , 3.2, 4.7, 1.4],\n",
       "        [6.4, 3.2, 4.5, 1.5],\n",
       "        [6.9, 3.1, 4.9, 1.5],\n",
       "        [5.5, 2.3, 4. , 1.3],\n",
       "        [6.5, 2.8, 4.6, 1.5],\n",
       "        [5.7, 2.8, 4.5, 1.3],\n",
       "        [6.3, 3.3, 4.7, 1.6],\n",
       "        [4.9, 2.4, 3.3, 1. ],\n",
       "        [6.6, 2.9, 4.6, 1.3],\n",
       "        [5.2, 2.7, 3.9, 1.4],\n",
       "        [5. , 2. , 3.5, 1. ],\n",
       "        [5.9, 3. , 4.2, 1.5],\n",
       "        [6. , 2.2, 4. , 1. ],\n",
       "        [6.1, 2.9, 4.7, 1.4],\n",
       "        [5.6, 2.9, 3.6, 1.3],\n",
       "        [6.7, 3.1, 4.4, 1.4],\n",
       "        [5.6, 3. , 4.5, 1.5],\n",
       "        [5.8, 2.7, 4.1, 1. ],\n",
       "        [6.2, 2.2, 4.5, 1.5],\n",
       "        [5.6, 2.5, 3.9, 1.1],\n",
       "        [5.9, 3.2, 4.8, 1.8],\n",
       "        [6.1, 2.8, 4. , 1.3],\n",
       "        [6.3, 2.5, 4.9, 1.5],\n",
       "        [6.1, 2.8, 4.7, 1.2],\n",
       "        [6.4, 2.9, 4.3, 1.3],\n",
       "        [6.6, 3. , 4.4, 1.4],\n",
       "        [6.8, 2.8, 4.8, 1.4],\n",
       "        [6.7, 3. , 5. , 1.7],\n",
       "        [6. , 2.9, 4.5, 1.5],\n",
       "        [5.7, 2.6, 3.5, 1. ],\n",
       "        [5.5, 2.4, 3.8, 1.1],\n",
       "        [5.5, 2.4, 3.7, 1. ],\n",
       "        [5.8, 2.7, 3.9, 1.2],\n",
       "        [6. , 2.7, 5.1, 1.6],\n",
       "        [5.4, 3. , 4.5, 1.5],\n",
       "        [6. , 3.4, 4.5, 1.6],\n",
       "        [6.7, 3.1, 4.7, 1.5],\n",
       "        [6.3, 2.3, 4.4, 1.3],\n",
       "        [5.6, 3. , 4.1, 1.3],\n",
       "        [5.5, 2.5, 4. , 1.3],\n",
       "        [5.5, 2.6, 4.4, 1.2],\n",
       "        [6.1, 3. , 4.6, 1.4],\n",
       "        [5.8, 2.6, 4. , 1.2],\n",
       "        [5. , 2.3, 3.3, 1. ],\n",
       "        [5.6, 2.7, 4.2, 1.3],\n",
       "        [5.7, 3. , 4.2, 1.2],\n",
       "        [5.7, 2.9, 4.2, 1.3],\n",
       "        [6.2, 2.9, 4.3, 1.3],\n",
       "        [5.1, 2.5, 3. , 1.1],\n",
       "        [5.7, 2.8, 4.1, 1.3],\n",
       "        [6.3, 3.3, 6. , 2.5],\n",
       "        [5.8, 2.7, 5.1, 1.9],\n",
       "        [7.1, 3. , 5.9, 2.1],\n",
       "        [6.3, 2.9, 5.6, 1.8],\n",
       "        [6.5, 3. , 5.8, 2.2],\n",
       "        [7.6, 3. , 6.6, 2.1],\n",
       "        [4.9, 2.5, 4.5, 1.7],\n",
       "        [7.3, 2.9, 6.3, 1.8],\n",
       "        [6.7, 2.5, 5.8, 1.8],\n",
       "        [7.2, 3.6, 6.1, 2.5],\n",
       "        [6.5, 3.2, 5.1, 2. ],\n",
       "        [6.4, 2.7, 5.3, 1.9],\n",
       "        [6.8, 3. , 5.5, 2.1],\n",
       "        [5.7, 2.5, 5. , 2. ],\n",
       "        [5.8, 2.8, 5.1, 2.4],\n",
       "        [6.4, 3.2, 5.3, 2.3],\n",
       "        [6.5, 3. , 5.5, 1.8],\n",
       "        [7.7, 3.8, 6.7, 2.2],\n",
       "        [7.7, 2.6, 6.9, 2.3],\n",
       "        [6. , 2.2, 5. , 1.5],\n",
       "        [6.9, 3.2, 5.7, 2.3],\n",
       "        [5.6, 2.8, 4.9, 2. ],\n",
       "        [7.7, 2.8, 6.7, 2. ],\n",
       "        [6.3, 2.7, 4.9, 1.8],\n",
       "        [6.7, 3.3, 5.7, 2.1],\n",
       "        [7.2, 3.2, 6. , 1.8],\n",
       "        [6.2, 2.8, 4.8, 1.8],\n",
       "        [6.1, 3. , 4.9, 1.8],\n",
       "        [6.4, 2.8, 5.6, 2.1],\n",
       "        [7.2, 3. , 5.8, 1.6],\n",
       "        [7.4, 2.8, 6.1, 1.9],\n",
       "        [7.9, 3.8, 6.4, 2. ],\n",
       "        [6.4, 2.8, 5.6, 2.2],\n",
       "        [6.3, 2.8, 5.1, 1.5],\n",
       "        [6.1, 2.6, 5.6, 1.4],\n",
       "        [7.7, 3. , 6.1, 2.3],\n",
       "        [6.3, 3.4, 5.6, 2.4],\n",
       "        [6.4, 3.1, 5.5, 1.8],\n",
       "        [6. , 3. , 4.8, 1.8],\n",
       "        [6.9, 3.1, 5.4, 2.1],\n",
       "        [6.7, 3.1, 5.6, 2.4],\n",
       "        [6.9, 3.1, 5.1, 2.3],\n",
       "        [5.8, 2.7, 5.1, 1.9],\n",
       "        [6.8, 3.2, 5.9, 2.3],\n",
       "        [6.7, 3.3, 5.7, 2.5],\n",
       "        [6.7, 3. , 5.2, 2.3],\n",
       "        [6.3, 2.5, 5. , 1.9],\n",
       "        [6.5, 3. , 5.2, 2. ],\n",
       "        [6.2, 3.4, 5.4, 2.3],\n",
       "        [5.9, 3. , 5.1, 1.8]]),\n",
       " 'target': array([0, 0, 0, 0, 0, 0, 0, 0, 0, 0, 0, 0, 0, 0, 0, 0, 0, 0, 0, 0, 0, 0,\n",
       "        0, 0, 0, 0, 0, 0, 0, 0, 0, 0, 0, 0, 0, 0, 0, 0, 0, 0, 0, 0, 0, 0,\n",
       "        0, 0, 0, 0, 0, 0, 1, 1, 1, 1, 1, 1, 1, 1, 1, 1, 1, 1, 1, 1, 1, 1,\n",
       "        1, 1, 1, 1, 1, 1, 1, 1, 1, 1, 1, 1, 1, 1, 1, 1, 1, 1, 1, 1, 1, 1,\n",
       "        1, 1, 1, 1, 1, 1, 1, 1, 1, 1, 1, 1, 2, 2, 2, 2, 2, 2, 2, 2, 2, 2,\n",
       "        2, 2, 2, 2, 2, 2, 2, 2, 2, 2, 2, 2, 2, 2, 2, 2, 2, 2, 2, 2, 2, 2,\n",
       "        2, 2, 2, 2, 2, 2, 2, 2, 2, 2, 2, 2, 2, 2, 2, 2, 2, 2]),\n",
       " 'frame': None,\n",
       " 'target_names': array(['setosa', 'versicolor', 'virginica'], dtype='<U10'),\n",
       " 'DESCR': '.. _iris_dataset:\\n\\nIris plants dataset\\n--------------------\\n\\n**Data Set Characteristics:**\\n\\n    :Number of Instances: 150 (50 in each of three classes)\\n    :Number of Attributes: 4 numeric, predictive attributes and the class\\n    :Attribute Information:\\n        - sepal length in cm\\n        - sepal width in cm\\n        - petal length in cm\\n        - petal width in cm\\n        - class:\\n                - Iris-Setosa\\n                - Iris-Versicolour\\n                - Iris-Virginica\\n                \\n    :Summary Statistics:\\n\\n    ============== ==== ==== ======= ===== ====================\\n                    Min  Max   Mean    SD   Class Correlation\\n    ============== ==== ==== ======= ===== ====================\\n    sepal length:   4.3  7.9   5.84   0.83    0.7826\\n    sepal width:    2.0  4.4   3.05   0.43   -0.4194\\n    petal length:   1.0  6.9   3.76   1.76    0.9490  (high!)\\n    petal width:    0.1  2.5   1.20   0.76    0.9565  (high!)\\n    ============== ==== ==== ======= ===== ====================\\n\\n    :Missing Attribute Values: None\\n    :Class Distribution: 33.3% for each of 3 classes.\\n    :Creator: R.A. Fisher\\n    :Donor: Michael Marshall (MARSHALL%PLU@io.arc.nasa.gov)\\n    :Date: July, 1988\\n\\nThe famous Iris database, first used by Sir R.A. Fisher. The dataset is taken\\nfrom Fisher\\'s paper. Note that it\\'s the same as in R, but not as in the UCI\\nMachine Learning Repository, which has two wrong data points.\\n\\nThis is perhaps the best known database to be found in the\\npattern recognition literature.  Fisher\\'s paper is a classic in the field and\\nis referenced frequently to this day.  (See Duda & Hart, for example.)  The\\ndata set contains 3 classes of 50 instances each, where each class refers to a\\ntype of iris plant.  One class is linearly separable from the other 2; the\\nlatter are NOT linearly separable from each other.\\n\\n.. topic:: References\\n\\n   - Fisher, R.A. \"The use of multiple measurements in taxonomic problems\"\\n     Annual Eugenics, 7, Part II, 179-188 (1936); also in \"Contributions to\\n     Mathematical Statistics\" (John Wiley, NY, 1950).\\n   - Duda, R.O., & Hart, P.E. (1973) Pattern Classification and Scene Analysis.\\n     (Q327.D83) John Wiley & Sons.  ISBN 0-471-22361-1.  See page 218.\\n   - Dasarathy, B.V. (1980) \"Nosing Around the Neighborhood: A New System\\n     Structure and Classification Rule for Recognition in Partially Exposed\\n     Environments\".  IEEE Transactions on Pattern Analysis and Machine\\n     Intelligence, Vol. PAMI-2, No. 1, 67-71.\\n   - Gates, G.W. (1972) \"The Reduced Nearest Neighbor Rule\".  IEEE Transactions\\n     on Information Theory, May 1972, 431-433.\\n   - See also: 1988 MLC Proceedings, 54-64.  Cheeseman et al\"s AUTOCLASS II\\n     conceptual clustering system finds 3 classes in the data.\\n   - Many, many more ...',\n",
       " 'feature_names': ['sepal length (cm)',\n",
       "  'sepal width (cm)',\n",
       "  'petal length (cm)',\n",
       "  'petal width (cm)'],\n",
       " 'filename': 'iris.csv',\n",
       " 'data_module': 'sklearn.datasets.data'}"
      ]
     },
     "execution_count": 32,
     "metadata": {},
     "output_type": "execute_result"
    }
   ],
   "source": [
    "from sklearn import datasets\n",
    "# import sklearn.datasets as datasets\n",
    "# sklearn 패키는 머신러닝을 공부하기위한, 학습 데이터셋들을 제공\n",
    "# sklearn 패키지에서 제공되는 데이터셋들은 딕셔너리 형식으로 제공\n",
    "iris = datasets.load_iris()\n",
    "iris # 딕셔너리 형태"
   ]
  },
  {
   "cell_type": "code",
   "execution_count": 33,
   "id": "5789e21c",
   "metadata": {
    "ExecuteTime": {
     "end_time": "2024-11-26T05:16:39.944432Z",
     "start_time": "2024-11-26T05:16:39.939445Z"
    }
   },
   "outputs": [
    {
     "name": "stdout",
     "output_type": "stream",
     "text": [
      ".. _iris_dataset:\n",
      "\n",
      "Iris plants dataset\n",
      "--------------------\n",
      "\n",
      "**Data Set Characteristics:**\n",
      "\n",
      "    :Number of Instances: 150 (50 in each of three classes)\n",
      "    :Number of Attributes: 4 numeric, predictive attributes and the class\n",
      "    :Attribute Information:\n",
      "        - sepal length in cm\n",
      "        - sepal width in cm\n",
      "        - petal length in cm\n",
      "        - petal width in cm\n",
      "        - class:\n",
      "                - Iris-Setosa\n",
      "                - Iris-Versicolour\n",
      "                - Iris-Virginica\n",
      "                \n",
      "    :Summary Statistics:\n",
      "\n",
      "    ============== ==== ==== ======= ===== ====================\n",
      "                    Min  Max   Mean    SD   Class Correlation\n",
      "    ============== ==== ==== ======= ===== ====================\n",
      "    sepal length:   4.3  7.9   5.84   0.83    0.7826\n",
      "    sepal width:    2.0  4.4   3.05   0.43   -0.4194\n",
      "    petal length:   1.0  6.9   3.76   1.76    0.9490  (high!)\n",
      "    petal width:    0.1  2.5   1.20   0.76    0.9565  (high!)\n",
      "    ============== ==== ==== ======= ===== ====================\n",
      "\n",
      "    :Missing Attribute Values: None\n",
      "    :Class Distribution: 33.3% for each of 3 classes.\n",
      "    :Creator: R.A. Fisher\n",
      "    :Donor: Michael Marshall (MARSHALL%PLU@io.arc.nasa.gov)\n",
      "    :Date: July, 1988\n",
      "\n",
      "The famous Iris database, first used by Sir R.A. Fisher. The dataset is taken\n",
      "from Fisher's paper. Note that it's the same as in R, but not as in the UCI\n",
      "Machine Learning Repository, which has two wrong data points.\n",
      "\n",
      "This is perhaps the best known database to be found in the\n",
      "pattern recognition literature.  Fisher's paper is a classic in the field and\n",
      "is referenced frequently to this day.  (See Duda & Hart, for example.)  The\n",
      "data set contains 3 classes of 50 instances each, where each class refers to a\n",
      "type of iris plant.  One class is linearly separable from the other 2; the\n",
      "latter are NOT linearly separable from each other.\n",
      "\n",
      ".. topic:: References\n",
      "\n",
      "   - Fisher, R.A. \"The use of multiple measurements in taxonomic problems\"\n",
      "     Annual Eugenics, 7, Part II, 179-188 (1936); also in \"Contributions to\n",
      "     Mathematical Statistics\" (John Wiley, NY, 1950).\n",
      "   - Duda, R.O., & Hart, P.E. (1973) Pattern Classification and Scene Analysis.\n",
      "     (Q327.D83) John Wiley & Sons.  ISBN 0-471-22361-1.  See page 218.\n",
      "   - Dasarathy, B.V. (1980) \"Nosing Around the Neighborhood: A New System\n",
      "     Structure and Classification Rule for Recognition in Partially Exposed\n",
      "     Environments\".  IEEE Transactions on Pattern Analysis and Machine\n",
      "     Intelligence, Vol. PAMI-2, No. 1, 67-71.\n",
      "   - Gates, G.W. (1972) \"The Reduced Nearest Neighbor Rule\".  IEEE Transactions\n",
      "     on Information Theory, May 1972, 431-433.\n",
      "   - See also: 1988 MLC Proceedings, 54-64.  Cheeseman et al\"s AUTOCLASS II\n",
      "     conceptual clustering system finds 3 classes in the data.\n",
      "   - Many, many more ...\n"
     ]
    }
   ],
   "source": [
    "print(iris.DESCR) # iris 데이터 셋에 대한 설명"
   ]
  },
  {
   "cell_type": "code",
   "execution_count": 34,
   "id": "e659f132",
   "metadata": {
    "ExecuteTime": {
     "end_time": "2024-11-26T05:16:39.953408Z",
     "start_time": "2024-11-26T05:16:39.947424Z"
    }
   },
   "outputs": [
    {
     "data": {
      "text/plain": [
       "array([[5.1, 3.5, 1.4, 0.2],\n",
       "       [4.9, 3. , 1.4, 0.2],\n",
       "       [4.7, 3.2, 1.3, 0.2]])"
      ]
     },
     "execution_count": 34,
     "metadata": {},
     "output_type": "execute_result"
    }
   ],
   "source": [
    "iris.data # 독립변수\n",
    "iris['data'][:3]"
   ]
  },
  {
   "cell_type": "code",
   "execution_count": 35,
   "id": "f4b8d90a",
   "metadata": {
    "ExecuteTime": {
     "end_time": "2024-11-26T05:16:39.970383Z",
     "start_time": "2024-11-26T05:16:39.964378Z"
    }
   },
   "outputs": [
    {
     "data": {
      "text/plain": [
       "['sepal length (cm)',\n",
       " 'sepal width (cm)',\n",
       " 'petal length (cm)',\n",
       " 'petal width (cm)']"
      ]
     },
     "execution_count": 35,
     "metadata": {},
     "output_type": "execute_result"
    }
   ],
   "source": [
    "iris.feature_names # 독립변수의 열이름\n",
    "iris['feature_names']"
   ]
  },
  {
   "cell_type": "code",
   "execution_count": 36,
   "id": "58fde92f",
   "metadata": {
    "ExecuteTime": {
     "end_time": "2024-11-26T05:16:39.982330Z",
     "start_time": "2024-11-26T05:16:39.972357Z"
    }
   },
   "outputs": [
    {
     "data": {
      "text/plain": [
       "['sepal_length', 'sepal_width', 'petal_length', 'petal_width']"
      ]
     },
     "execution_count": 36,
     "metadata": {},
     "output_type": "execute_result"
    }
   ],
   "source": [
    "# 데이터프레임에서 열이름\n",
    "[col[:-4].strip().replace(' ','_') for col in iris.feature_names]"
   ]
  },
  {
   "cell_type": "code",
   "execution_count": 37,
   "id": "b62cb81d",
   "metadata": {
    "ExecuteTime": {
     "end_time": "2024-11-26T05:16:39.993301Z",
     "start_time": "2024-11-26T05:16:39.984325Z"
    }
   },
   "outputs": [
    {
     "data": {
      "text/plain": [
       "['sepal_length', 'sepal_width', 'petal_length', 'petal_width']"
      ]
     },
     "execution_count": 37,
     "metadata": {},
     "output_type": "execute_result"
    }
   ],
   "source": [
    "[col[:12].strip().replace(' ','_') for col in iris.feature_names]"
   ]
  },
  {
   "cell_type": "code",
   "execution_count": 38,
   "id": "86526d6e",
   "metadata": {
    "ExecuteTime": {
     "end_time": "2024-11-26T05:16:40.001299Z",
     "start_time": "2024-11-26T05:16:39.996293Z"
    }
   },
   "outputs": [
    {
     "data": {
      "text/plain": [
       "array([0, 0, 0, 0, 0, 0, 0, 0, 0, 0, 0, 0, 0, 0, 0, 0, 0, 0, 0, 0, 0, 0,\n",
       "       0, 0, 0, 0, 0, 0, 0, 0, 0, 0, 0, 0, 0, 0, 0, 0, 0, 0, 0, 0, 0, 0,\n",
       "       0, 0, 0, 0, 0, 0, 1, 1, 1, 1, 1, 1, 1, 1, 1, 1, 1, 1, 1, 1, 1, 1,\n",
       "       1, 1, 1, 1, 1, 1, 1, 1, 1, 1, 1, 1, 1, 1, 1, 1, 1, 1, 1, 1, 1, 1,\n",
       "       1, 1, 1, 1, 1, 1, 1, 1, 1, 1, 1, 1, 2, 2, 2, 2, 2, 2, 2, 2, 2, 2,\n",
       "       2, 2, 2, 2, 2, 2, 2, 2, 2, 2, 2, 2, 2, 2, 2, 2, 2, 2, 2, 2, 2, 2,\n",
       "       2, 2, 2, 2, 2, 2, 2, 2, 2, 2, 2, 2, 2, 2, 2, 2, 2, 2])"
      ]
     },
     "execution_count": 38,
     "metadata": {},
     "output_type": "execute_result"
    }
   ],
   "source": [
    "iris.target\n",
    "iris['target']"
   ]
  },
  {
   "cell_type": "code",
   "execution_count": 39,
   "id": "3bd522ea",
   "metadata": {
    "ExecuteTime": {
     "end_time": "2024-11-26T05:16:40.009278Z",
     "start_time": "2024-11-26T05:16:40.003274Z"
    }
   },
   "outputs": [
    {
     "data": {
      "text/plain": [
       "array(['setosa', 'versicolor', 'virginica'], dtype='<U10')"
      ]
     },
     "execution_count": 39,
     "metadata": {},
     "output_type": "execute_result"
    }
   ],
   "source": [
    "iris.target_names\n",
    "iris['target_names']"
   ]
  },
  {
   "cell_type": "code",
   "execution_count": 40,
   "id": "fbdd4358",
   "metadata": {
    "ExecuteTime": {
     "end_time": "2024-11-26T05:16:40.018234Z",
     "start_time": "2024-11-26T05:16:40.012250Z"
    }
   },
   "outputs": [
    {
     "data": {
      "text/plain": [
       "array(['setosa', 'setosa', 'setosa', 'setosa', 'setosa', 'setosa',\n",
       "       'setosa', 'setosa', 'setosa', 'setosa', 'setosa', 'setosa',\n",
       "       'setosa', 'setosa', 'setosa', 'setosa', 'setosa', 'setosa',\n",
       "       'setosa', 'setosa', 'setosa', 'setosa', 'setosa', 'setosa',\n",
       "       'setosa', 'setosa', 'setosa', 'setosa', 'setosa', 'setosa',\n",
       "       'setosa', 'setosa', 'setosa', 'setosa', 'setosa', 'setosa',\n",
       "       'setosa', 'setosa', 'setosa', 'setosa', 'setosa', 'setosa',\n",
       "       'setosa', 'setosa', 'setosa', 'setosa', 'setosa', 'setosa',\n",
       "       'setosa', 'setosa', 'versicolor', 'versicolor', 'versicolor',\n",
       "       'versicolor', 'versicolor', 'versicolor', 'versicolor',\n",
       "       'versicolor', 'versicolor', 'versicolor', 'versicolor',\n",
       "       'versicolor', 'versicolor', 'versicolor', 'versicolor',\n",
       "       'versicolor', 'versicolor', 'versicolor', 'versicolor',\n",
       "       'versicolor', 'versicolor', 'versicolor', 'versicolor',\n",
       "       'versicolor', 'versicolor', 'versicolor', 'versicolor',\n",
       "       'versicolor', 'versicolor', 'versicolor', 'versicolor',\n",
       "       'versicolor', 'versicolor', 'versicolor', 'versicolor',\n",
       "       'versicolor', 'versicolor', 'versicolor', 'versicolor',\n",
       "       'versicolor', 'versicolor', 'versicolor', 'versicolor',\n",
       "       'versicolor', 'versicolor', 'versicolor', 'versicolor',\n",
       "       'versicolor', 'versicolor', 'versicolor', 'virginica', 'virginica',\n",
       "       'virginica', 'virginica', 'virginica', 'virginica', 'virginica',\n",
       "       'virginica', 'virginica', 'virginica', 'virginica', 'virginica',\n",
       "       'virginica', 'virginica', 'virginica', 'virginica', 'virginica',\n",
       "       'virginica', 'virginica', 'virginica', 'virginica', 'virginica',\n",
       "       'virginica', 'virginica', 'virginica', 'virginica', 'virginica',\n",
       "       'virginica', 'virginica', 'virginica', 'virginica', 'virginica',\n",
       "       'virginica', 'virginica', 'virginica', 'virginica', 'virginica',\n",
       "       'virginica', 'virginica', 'virginica', 'virginica', 'virginica',\n",
       "       'virginica', 'virginica', 'virginica', 'virginica', 'virginica',\n",
       "       'virginica', 'virginica', 'virginica'], dtype='<U10')"
      ]
     },
     "execution_count": 40,
     "metadata": {},
     "output_type": "execute_result"
    }
   ],
   "source": [
    "# 데이터 프레임의 가장 오르쪽열\n",
    "iris.target_names[iris.target]"
   ]
  },
  {
   "cell_type": "code",
   "execution_count": 41,
   "id": "1148bfe3",
   "metadata": {
    "ExecuteTime": {
     "end_time": "2024-11-26T05:16:40.025236Z",
     "start_time": "2024-11-26T05:16:40.020229Z"
    }
   },
   "outputs": [
    {
     "name": "stdout",
     "output_type": "stream",
     "text": [
      "[[5.1 3.5 1.4 0.2]\n",
      " [4.9 3.  1.4 0.2]\n",
      " [4.7 3.2 1.3 0.2]\n",
      " [4.6 3.1 1.5 0.2]\n",
      " [5.  3.6 1.4 0.2]]\n",
      "[['setosa']\n",
      " ['setosa']\n",
      " ['setosa']\n",
      " ['setosa']\n",
      " ['setosa']\n",
      " ['setosa']\n",
      " ['setosa']\n",
      " ['setosa']\n",
      " ['setosa']\n",
      " ['setosa']\n",
      " ['setosa']\n",
      " ['setosa']\n",
      " ['setosa']\n",
      " ['setosa']\n",
      " ['setosa']\n",
      " ['setosa']\n",
      " ['setosa']\n",
      " ['setosa']\n",
      " ['setosa']\n",
      " ['setosa']\n",
      " ['setosa']\n",
      " ['setosa']\n",
      " ['setosa']\n",
      " ['setosa']\n",
      " ['setosa']\n",
      " ['setosa']\n",
      " ['setosa']\n",
      " ['setosa']\n",
      " ['setosa']\n",
      " ['setosa']\n",
      " ['setosa']\n",
      " ['setosa']\n",
      " ['setosa']\n",
      " ['setosa']\n",
      " ['setosa']\n",
      " ['setosa']\n",
      " ['setosa']\n",
      " ['setosa']\n",
      " ['setosa']\n",
      " ['setosa']\n",
      " ['setosa']\n",
      " ['setosa']\n",
      " ['setosa']\n",
      " ['setosa']\n",
      " ['setosa']\n",
      " ['setosa']\n",
      " ['setosa']\n",
      " ['setosa']\n",
      " ['setosa']\n",
      " ['setosa']\n",
      " ['versicolor']\n",
      " ['versicolor']\n",
      " ['versicolor']\n",
      " ['versicolor']\n",
      " ['versicolor']\n",
      " ['versicolor']\n",
      " ['versicolor']\n",
      " ['versicolor']\n",
      " ['versicolor']\n",
      " ['versicolor']\n",
      " ['versicolor']\n",
      " ['versicolor']\n",
      " ['versicolor']\n",
      " ['versicolor']\n",
      " ['versicolor']\n",
      " ['versicolor']\n",
      " ['versicolor']\n",
      " ['versicolor']\n",
      " ['versicolor']\n",
      " ['versicolor']\n",
      " ['versicolor']\n",
      " ['versicolor']\n",
      " ['versicolor']\n",
      " ['versicolor']\n",
      " ['versicolor']\n",
      " ['versicolor']\n",
      " ['versicolor']\n",
      " ['versicolor']\n",
      " ['versicolor']\n",
      " ['versicolor']\n",
      " ['versicolor']\n",
      " ['versicolor']\n",
      " ['versicolor']\n",
      " ['versicolor']\n",
      " ['versicolor']\n",
      " ['versicolor']\n",
      " ['versicolor']\n",
      " ['versicolor']\n",
      " ['versicolor']\n",
      " ['versicolor']\n",
      " ['versicolor']\n",
      " ['versicolor']\n",
      " ['versicolor']\n",
      " ['versicolor']\n",
      " ['versicolor']\n",
      " ['versicolor']\n",
      " ['versicolor']\n",
      " ['versicolor']\n",
      " ['versicolor']\n",
      " ['versicolor']\n",
      " ['virginica']\n",
      " ['virginica']\n",
      " ['virginica']\n",
      " ['virginica']\n",
      " ['virginica']\n",
      " ['virginica']\n",
      " ['virginica']\n",
      " ['virginica']\n",
      " ['virginica']\n",
      " ['virginica']\n",
      " ['virginica']\n",
      " ['virginica']\n",
      " ['virginica']\n",
      " ['virginica']\n",
      " ['virginica']\n",
      " ['virginica']\n",
      " ['virginica']\n",
      " ['virginica']\n",
      " ['virginica']\n",
      " ['virginica']\n",
      " ['virginica']\n",
      " ['virginica']\n",
      " ['virginica']\n",
      " ['virginica']\n",
      " ['virginica']\n",
      " ['virginica']\n",
      " ['virginica']\n",
      " ['virginica']\n",
      " ['virginica']\n",
      " ['virginica']\n",
      " ['virginica']\n",
      " ['virginica']\n",
      " ['virginica']\n",
      " ['virginica']\n",
      " ['virginica']\n",
      " ['virginica']\n",
      " ['virginica']\n",
      " ['virginica']\n",
      " ['virginica']\n",
      " ['virginica']\n",
      " ['virginica']\n",
      " ['virginica']\n",
      " ['virginica']\n",
      " ['virginica']\n",
      " ['virginica']\n",
      " ['virginica']\n",
      " ['virginica']\n",
      " ['virginica']\n",
      " ['virginica']\n",
      " ['virginica']]\n"
     ]
    }
   ],
   "source": [
    "# 독립변수\n",
    "data = iris.data\n",
    "print(data[:5])\n",
    "# 종속변수\n",
    "target = iris.target_names[iris.target].reshape(-1,1)\n",
    "print(target)"
   ]
  },
  {
   "cell_type": "code",
   "execution_count": 42,
   "id": "d0e63c70",
   "metadata": {
    "ExecuteTime": {
     "end_time": "2024-11-26T05:16:40.033194Z",
     "start_time": "2024-11-26T05:16:40.028208Z"
    }
   },
   "outputs": [
    {
     "name": "stdout",
     "output_type": "stream",
     "text": [
      "독립변수 차원 : (150, 4)\n",
      "종속변수 차원 : (150, 1)\n"
     ]
    }
   ],
   "source": [
    "print('독립변수 차원 :', data.shape)\n",
    "print('종속변수 차원 :', target.shape)"
   ]
  },
  {
   "cell_type": "code",
   "execution_count": 43,
   "id": "21f3e4f7",
   "metadata": {
    "ExecuteTime": {
     "end_time": "2024-11-26T05:16:40.047156Z",
     "start_time": "2024-11-26T05:16:40.035189Z"
    }
   },
   "outputs": [
    {
     "data": {
      "text/html": [
       "<div>\n",
       "<style scoped>\n",
       "    .dataframe tbody tr th:only-of-type {\n",
       "        vertical-align: middle;\n",
       "    }\n",
       "\n",
       "    .dataframe tbody tr th {\n",
       "        vertical-align: top;\n",
       "    }\n",
       "\n",
       "    .dataframe thead th {\n",
       "        text-align: right;\n",
       "    }\n",
       "</style>\n",
       "<table border=\"1\" class=\"dataframe\">\n",
       "  <thead>\n",
       "    <tr style=\"text-align: right;\">\n",
       "      <th></th>\n",
       "      <th>sepal_length</th>\n",
       "      <th>sepal_width</th>\n",
       "      <th>petal_length</th>\n",
       "      <th>petal_width</th>\n",
       "      <th>spacies</th>\n",
       "    </tr>\n",
       "  </thead>\n",
       "  <tbody>\n",
       "    <tr>\n",
       "      <th>0</th>\n",
       "      <td>5.1</td>\n",
       "      <td>3.5</td>\n",
       "      <td>1.4</td>\n",
       "      <td>0.2</td>\n",
       "      <td>setosa</td>\n",
       "    </tr>\n",
       "    <tr>\n",
       "      <th>1</th>\n",
       "      <td>4.9</td>\n",
       "      <td>3.0</td>\n",
       "      <td>1.4</td>\n",
       "      <td>0.2</td>\n",
       "      <td>setosa</td>\n",
       "    </tr>\n",
       "    <tr>\n",
       "      <th>2</th>\n",
       "      <td>4.7</td>\n",
       "      <td>3.2</td>\n",
       "      <td>1.3</td>\n",
       "      <td>0.2</td>\n",
       "      <td>setosa</td>\n",
       "    </tr>\n",
       "    <tr>\n",
       "      <th>3</th>\n",
       "      <td>4.6</td>\n",
       "      <td>3.1</td>\n",
       "      <td>1.5</td>\n",
       "      <td>0.2</td>\n",
       "      <td>setosa</td>\n",
       "    </tr>\n",
       "    <tr>\n",
       "      <th>4</th>\n",
       "      <td>5.0</td>\n",
       "      <td>3.6</td>\n",
       "      <td>1.4</td>\n",
       "      <td>0.2</td>\n",
       "      <td>setosa</td>\n",
       "    </tr>\n",
       "    <tr>\n",
       "      <th>...</th>\n",
       "      <td>...</td>\n",
       "      <td>...</td>\n",
       "      <td>...</td>\n",
       "      <td>...</td>\n",
       "      <td>...</td>\n",
       "    </tr>\n",
       "    <tr>\n",
       "      <th>145</th>\n",
       "      <td>6.7</td>\n",
       "      <td>3.0</td>\n",
       "      <td>5.2</td>\n",
       "      <td>2.3</td>\n",
       "      <td>virginica</td>\n",
       "    </tr>\n",
       "    <tr>\n",
       "      <th>146</th>\n",
       "      <td>6.3</td>\n",
       "      <td>2.5</td>\n",
       "      <td>5.0</td>\n",
       "      <td>1.9</td>\n",
       "      <td>virginica</td>\n",
       "    </tr>\n",
       "    <tr>\n",
       "      <th>147</th>\n",
       "      <td>6.5</td>\n",
       "      <td>3.0</td>\n",
       "      <td>5.2</td>\n",
       "      <td>2.0</td>\n",
       "      <td>virginica</td>\n",
       "    </tr>\n",
       "    <tr>\n",
       "      <th>148</th>\n",
       "      <td>6.2</td>\n",
       "      <td>3.4</td>\n",
       "      <td>5.4</td>\n",
       "      <td>2.3</td>\n",
       "      <td>virginica</td>\n",
       "    </tr>\n",
       "    <tr>\n",
       "      <th>149</th>\n",
       "      <td>5.9</td>\n",
       "      <td>3.0</td>\n",
       "      <td>5.1</td>\n",
       "      <td>1.8</td>\n",
       "      <td>virginica</td>\n",
       "    </tr>\n",
       "  </tbody>\n",
       "</table>\n",
       "<p>150 rows × 5 columns</p>\n",
       "</div>"
      ],
      "text/plain": [
       "    sepal_length sepal_width petal_length petal_width    spacies\n",
       "0            5.1         3.5          1.4         0.2     setosa\n",
       "1            4.9         3.0          1.4         0.2     setosa\n",
       "2            4.7         3.2          1.3         0.2     setosa\n",
       "3            4.6         3.1          1.5         0.2     setosa\n",
       "4            5.0         3.6          1.4         0.2     setosa\n",
       "..           ...         ...          ...         ...        ...\n",
       "145          6.7         3.0          5.2         2.3  virginica\n",
       "146          6.3         2.5          5.0         1.9  virginica\n",
       "147          6.5         3.0          5.2         2.0  virginica\n",
       "148          6.2         3.4          5.4         2.3  virginica\n",
       "149          5.9         3.0          5.1         1.8  virginica\n",
       "\n",
       "[150 rows x 5 columns]"
      ]
     },
     "execution_count": 43,
     "metadata": {},
     "output_type": "execute_result"
    }
   ],
   "source": [
    "pd.DataFrame(np.hstack((data, target)), columns=[col[:12].strip().replace(' ','_') for col in iris.feature_names]+['spacies'])"
   ]
  },
  {
   "cell_type": "code",
   "execution_count": 44,
   "id": "2d7fcc2a",
   "metadata": {
    "ExecuteTime": {
     "end_time": "2024-11-26T05:16:40.060121Z",
     "start_time": "2024-11-26T05:16:40.049151Z"
    }
   },
   "outputs": [
    {
     "data": {
      "text/html": [
       "<div>\n",
       "<style scoped>\n",
       "    .dataframe tbody tr th:only-of-type {\n",
       "        vertical-align: middle;\n",
       "    }\n",
       "\n",
       "    .dataframe tbody tr th {\n",
       "        vertical-align: top;\n",
       "    }\n",
       "\n",
       "    .dataframe thead th {\n",
       "        text-align: right;\n",
       "    }\n",
       "</style>\n",
       "<table border=\"1\" class=\"dataframe\">\n",
       "  <thead>\n",
       "    <tr style=\"text-align: right;\">\n",
       "      <th></th>\n",
       "      <th>sepal length (cm)</th>\n",
       "      <th>sepal width (cm)</th>\n",
       "      <th>petal length (cm)</th>\n",
       "      <th>petal width (cm)</th>\n",
       "      <th>spacies</th>\n",
       "    </tr>\n",
       "  </thead>\n",
       "  <tbody>\n",
       "    <tr>\n",
       "      <th>0</th>\n",
       "      <td>5.1</td>\n",
       "      <td>3.5</td>\n",
       "      <td>1.4</td>\n",
       "      <td>0.2</td>\n",
       "      <td>setosa</td>\n",
       "    </tr>\n",
       "    <tr>\n",
       "      <th>1</th>\n",
       "      <td>4.9</td>\n",
       "      <td>3.0</td>\n",
       "      <td>1.4</td>\n",
       "      <td>0.2</td>\n",
       "      <td>setosa</td>\n",
       "    </tr>\n",
       "    <tr>\n",
       "      <th>2</th>\n",
       "      <td>4.7</td>\n",
       "      <td>3.2</td>\n",
       "      <td>1.3</td>\n",
       "      <td>0.2</td>\n",
       "      <td>setosa</td>\n",
       "    </tr>\n",
       "    <tr>\n",
       "      <th>3</th>\n",
       "      <td>4.6</td>\n",
       "      <td>3.1</td>\n",
       "      <td>1.5</td>\n",
       "      <td>0.2</td>\n",
       "      <td>setosa</td>\n",
       "    </tr>\n",
       "    <tr>\n",
       "      <th>4</th>\n",
       "      <td>5.0</td>\n",
       "      <td>3.6</td>\n",
       "      <td>1.4</td>\n",
       "      <td>0.2</td>\n",
       "      <td>setosa</td>\n",
       "    </tr>\n",
       "    <tr>\n",
       "      <th>...</th>\n",
       "      <td>...</td>\n",
       "      <td>...</td>\n",
       "      <td>...</td>\n",
       "      <td>...</td>\n",
       "      <td>...</td>\n",
       "    </tr>\n",
       "    <tr>\n",
       "      <th>145</th>\n",
       "      <td>6.7</td>\n",
       "      <td>3.0</td>\n",
       "      <td>5.2</td>\n",
       "      <td>2.3</td>\n",
       "      <td>virginica</td>\n",
       "    </tr>\n",
       "    <tr>\n",
       "      <th>146</th>\n",
       "      <td>6.3</td>\n",
       "      <td>2.5</td>\n",
       "      <td>5.0</td>\n",
       "      <td>1.9</td>\n",
       "      <td>virginica</td>\n",
       "    </tr>\n",
       "    <tr>\n",
       "      <th>147</th>\n",
       "      <td>6.5</td>\n",
       "      <td>3.0</td>\n",
       "      <td>5.2</td>\n",
       "      <td>2.0</td>\n",
       "      <td>virginica</td>\n",
       "    </tr>\n",
       "    <tr>\n",
       "      <th>148</th>\n",
       "      <td>6.2</td>\n",
       "      <td>3.4</td>\n",
       "      <td>5.4</td>\n",
       "      <td>2.3</td>\n",
       "      <td>virginica</td>\n",
       "    </tr>\n",
       "    <tr>\n",
       "      <th>149</th>\n",
       "      <td>5.9</td>\n",
       "      <td>3.0</td>\n",
       "      <td>5.1</td>\n",
       "      <td>1.8</td>\n",
       "      <td>virginica</td>\n",
       "    </tr>\n",
       "  </tbody>\n",
       "</table>\n",
       "<p>150 rows × 5 columns</p>\n",
       "</div>"
      ],
      "text/plain": [
       "    sepal length (cm) sepal width (cm) petal length (cm) petal width (cm)  \\\n",
       "0                 5.1              3.5               1.4              0.2   \n",
       "1                 4.9              3.0               1.4              0.2   \n",
       "2                 4.7              3.2               1.3              0.2   \n",
       "3                 4.6              3.1               1.5              0.2   \n",
       "4                 5.0              3.6               1.4              0.2   \n",
       "..                ...              ...               ...              ...   \n",
       "145               6.7              3.0               5.2              2.3   \n",
       "146               6.3              2.5               5.0              1.9   \n",
       "147               6.5              3.0               5.2              2.0   \n",
       "148               6.2              3.4               5.4              2.3   \n",
       "149               5.9              3.0               5.1              1.8   \n",
       "\n",
       "       spacies  \n",
       "0       setosa  \n",
       "1       setosa  \n",
       "2       setosa  \n",
       "3       setosa  \n",
       "4       setosa  \n",
       "..         ...  \n",
       "145  virginica  \n",
       "146  virginica  \n",
       "147  virginica  \n",
       "148  virginica  \n",
       "149  virginica  \n",
       "\n",
       "[150 rows x 5 columns]"
      ]
     },
     "execution_count": 44,
     "metadata": {},
     "output_type": "execute_result"
    }
   ],
   "source": [
    "df = pd.DataFrame(np.hstack((data, target)), columns=iris.feature_names+['spacies'])\n",
    "df"
   ]
  },
  {
   "cell_type": "code",
   "execution_count": 45,
   "id": "2fa0092c",
   "metadata": {
    "ExecuteTime": {
     "end_time": "2024-11-26T05:16:40.070095Z",
     "start_time": "2024-11-26T05:16:40.063114Z"
    }
   },
   "outputs": [
    {
     "data": {
      "text/plain": [
       "0         setosa\n",
       "1         setosa\n",
       "2         setosa\n",
       "3         setosa\n",
       "4         setosa\n",
       "         ...    \n",
       "145    virginica\n",
       "146    virginica\n",
       "147    virginica\n",
       "148    virginica\n",
       "149    virginica\n",
       "Name: spacies, Length: 150, dtype: object"
      ]
     },
     "execution_count": 45,
     "metadata": {},
     "output_type": "execute_result"
    }
   ],
   "source": [
    "df.spacies # df['spacies']"
   ]
  },
  {
   "cell_type": "code",
   "execution_count": 46,
   "id": "8ed9ce5a",
   "metadata": {
    "ExecuteTime": {
     "end_time": "2024-11-26T05:16:40.078430Z",
     "start_time": "2024-11-26T05:16:40.072090Z"
    }
   },
   "outputs": [
    {
     "data": {
      "text/plain": [
       "0      5.1\n",
       "1      4.9\n",
       "2      4.7\n",
       "3      4.6\n",
       "4      5.0\n",
       "      ... \n",
       "145    6.7\n",
       "146    6.3\n",
       "147    6.5\n",
       "148    6.2\n",
       "149    5.9\n",
       "Name: sepal length (cm), Length: 150, dtype: object"
      ]
     },
     "execution_count": 46,
     "metadata": {},
     "output_type": "execute_result"
    }
   ],
   "source": [
    "df['sepal length (cm)']"
   ]
  },
  {
   "cell_type": "code",
   "execution_count": 47,
   "id": "8703dec1",
   "metadata": {
    "ExecuteTime": {
     "end_time": "2024-11-26T05:16:40.089399Z",
     "start_time": "2024-11-26T05:16:40.080424Z"
    }
   },
   "outputs": [
    {
     "data": {
      "text/html": [
       "<div>\n",
       "<style scoped>\n",
       "    .dataframe tbody tr th:only-of-type {\n",
       "        vertical-align: middle;\n",
       "    }\n",
       "\n",
       "    .dataframe tbody tr th {\n",
       "        vertical-align: top;\n",
       "    }\n",
       "\n",
       "    .dataframe thead th {\n",
       "        text-align: right;\n",
       "    }\n",
       "</style>\n",
       "<table border=\"1\" class=\"dataframe\">\n",
       "  <thead>\n",
       "    <tr style=\"text-align: right;\">\n",
       "      <th></th>\n",
       "      <th>sepal length (cm)</th>\n",
       "      <th>sepal width (cm)</th>\n",
       "      <th>petal length (cm)</th>\n",
       "      <th>petal width (cm)</th>\n",
       "    </tr>\n",
       "  </thead>\n",
       "  <tbody>\n",
       "    <tr>\n",
       "      <th>0</th>\n",
       "      <td>5.1</td>\n",
       "      <td>3.5</td>\n",
       "      <td>1.4</td>\n",
       "      <td>0.2</td>\n",
       "    </tr>\n",
       "  </tbody>\n",
       "</table>\n",
       "</div>"
      ],
      "text/plain": [
       "   sepal length (cm)  sepal width (cm)  petal length (cm)  petal width (cm)\n",
       "0                5.1               3.5                1.4               0.2"
      ]
     },
     "execution_count": 47,
     "metadata": {},
     "output_type": "execute_result"
    }
   ],
   "source": [
    "# 독립변수, 종속변수를 따로 데이터프레임으로 만들고 두 데이터 프레임을 연결\n",
    "X = pd.DataFrame(iris.data, columns=iris.feature_names) # x : 독립변수 데이터 프레임\n",
    "X.head(1)"
   ]
  },
  {
   "cell_type": "code",
   "execution_count": 48,
   "id": "f21fbadf",
   "metadata": {
    "ExecuteTime": {
     "end_time": "2024-11-26T05:16:40.096381Z",
     "start_time": "2024-11-26T05:16:40.091395Z"
    }
   },
   "outputs": [],
   "source": [
    "X.columns = [col[:-4].strip().replace(' ', '-') for col in iris.feature_names]"
   ]
  },
  {
   "cell_type": "code",
   "execution_count": 49,
   "id": "ad2e3732",
   "metadata": {
    "ExecuteTime": {
     "end_time": "2024-11-26T05:16:40.106354Z",
     "start_time": "2024-11-26T05:16:40.098375Z"
    }
   },
   "outputs": [
    {
     "data": {
      "text/html": [
       "<div>\n",
       "<style scoped>\n",
       "    .dataframe tbody tr th:only-of-type {\n",
       "        vertical-align: middle;\n",
       "    }\n",
       "\n",
       "    .dataframe tbody tr th {\n",
       "        vertical-align: top;\n",
       "    }\n",
       "\n",
       "    .dataframe thead th {\n",
       "        text-align: right;\n",
       "    }\n",
       "</style>\n",
       "<table border=\"1\" class=\"dataframe\">\n",
       "  <thead>\n",
       "    <tr style=\"text-align: right;\">\n",
       "      <th></th>\n",
       "      <th>sepal-length</th>\n",
       "      <th>sepal-width</th>\n",
       "      <th>petal-length</th>\n",
       "      <th>petal-width</th>\n",
       "    </tr>\n",
       "  </thead>\n",
       "  <tbody>\n",
       "    <tr>\n",
       "      <th>0</th>\n",
       "      <td>5.1</td>\n",
       "      <td>3.5</td>\n",
       "      <td>1.4</td>\n",
       "      <td>0.2</td>\n",
       "    </tr>\n",
       "  </tbody>\n",
       "</table>\n",
       "</div>"
      ],
      "text/plain": [
       "   sepal-length  sepal-width  petal-length  petal-width\n",
       "0           5.1          3.5           1.4          0.2"
      ]
     },
     "execution_count": 49,
     "metadata": {},
     "output_type": "execute_result"
    }
   ],
   "source": [
    "X.head(1)"
   ]
  },
  {
   "cell_type": "code",
   "execution_count": 50,
   "id": "89b2c30c",
   "metadata": {
    "ExecuteTime": {
     "end_time": "2024-11-26T05:16:40.117325Z",
     "start_time": "2024-11-26T05:16:40.108349Z"
    }
   },
   "outputs": [
    {
     "data": {
      "text/html": [
       "<div>\n",
       "<style scoped>\n",
       "    .dataframe tbody tr th:only-of-type {\n",
       "        vertical-align: middle;\n",
       "    }\n",
       "\n",
       "    .dataframe tbody tr th {\n",
       "        vertical-align: top;\n",
       "    }\n",
       "\n",
       "    .dataframe thead th {\n",
       "        text-align: right;\n",
       "    }\n",
       "</style>\n",
       "<table border=\"1\" class=\"dataframe\">\n",
       "  <thead>\n",
       "    <tr style=\"text-align: right;\">\n",
       "      <th></th>\n",
       "      <th>species</th>\n",
       "    </tr>\n",
       "  </thead>\n",
       "  <tbody>\n",
       "    <tr>\n",
       "      <th>0</th>\n",
       "      <td>setosa</td>\n",
       "    </tr>\n",
       "    <tr>\n",
       "      <th>1</th>\n",
       "      <td>setosa</td>\n",
       "    </tr>\n",
       "    <tr>\n",
       "      <th>2</th>\n",
       "      <td>setosa</td>\n",
       "    </tr>\n",
       "    <tr>\n",
       "      <th>3</th>\n",
       "      <td>setosa</td>\n",
       "    </tr>\n",
       "    <tr>\n",
       "      <th>4</th>\n",
       "      <td>setosa</td>\n",
       "    </tr>\n",
       "    <tr>\n",
       "      <th>...</th>\n",
       "      <td>...</td>\n",
       "    </tr>\n",
       "    <tr>\n",
       "      <th>145</th>\n",
       "      <td>virginica</td>\n",
       "    </tr>\n",
       "    <tr>\n",
       "      <th>146</th>\n",
       "      <td>virginica</td>\n",
       "    </tr>\n",
       "    <tr>\n",
       "      <th>147</th>\n",
       "      <td>virginica</td>\n",
       "    </tr>\n",
       "    <tr>\n",
       "      <th>148</th>\n",
       "      <td>virginica</td>\n",
       "    </tr>\n",
       "    <tr>\n",
       "      <th>149</th>\n",
       "      <td>virginica</td>\n",
       "    </tr>\n",
       "  </tbody>\n",
       "</table>\n",
       "<p>150 rows × 1 columns</p>\n",
       "</div>"
      ],
      "text/plain": [
       "       species\n",
       "0       setosa\n",
       "1       setosa\n",
       "2       setosa\n",
       "3       setosa\n",
       "4       setosa\n",
       "..         ...\n",
       "145  virginica\n",
       "146  virginica\n",
       "147  virginica\n",
       "148  virginica\n",
       "149  virginica\n",
       "\n",
       "[150 rows x 1 columns]"
      ]
     },
     "execution_count": 50,
     "metadata": {},
     "output_type": "execute_result"
    }
   ],
   "source": [
    "# y : 종속변수 데이터 프레임\n",
    "y = pd.DataFrame(iris.target_names[iris.target], columns=['species'])\n",
    "y"
   ]
  },
  {
   "cell_type": "code",
   "execution_count": 51,
   "id": "1f59439f",
   "metadata": {
    "ExecuteTime": {
     "end_time": "2024-11-26T05:16:40.123309Z",
     "start_time": "2024-11-26T05:16:40.119320Z"
    }
   },
   "outputs": [
    {
     "name": "stdout",
     "output_type": "stream",
     "text": [
      "RangeIndex(start=0, stop=150, step=1)\n",
      "RangeIndex(start=0, stop=150, step=1)\n"
     ]
    }
   ],
   "source": [
    "print(X.index) # index : 행 이름\n",
    "print(y.index)"
   ]
  },
  {
   "cell_type": "code",
   "execution_count": 52,
   "id": "be37a9ea",
   "metadata": {
    "ExecuteTime": {
     "end_time": "2024-11-26T05:16:40.138403Z",
     "start_time": "2024-11-26T05:16:40.125304Z"
    }
   },
   "outputs": [
    {
     "data": {
      "text/html": [
       "<div>\n",
       "<style scoped>\n",
       "    .dataframe tbody tr th:only-of-type {\n",
       "        vertical-align: middle;\n",
       "    }\n",
       "\n",
       "    .dataframe tbody tr th {\n",
       "        vertical-align: top;\n",
       "    }\n",
       "\n",
       "    .dataframe thead th {\n",
       "        text-align: right;\n",
       "    }\n",
       "</style>\n",
       "<table border=\"1\" class=\"dataframe\">\n",
       "  <thead>\n",
       "    <tr style=\"text-align: right;\">\n",
       "      <th></th>\n",
       "      <th>sepal-length</th>\n",
       "      <th>sepal-width</th>\n",
       "      <th>petal-length</th>\n",
       "      <th>petal-width</th>\n",
       "      <th>species</th>\n",
       "    </tr>\n",
       "  </thead>\n",
       "  <tbody>\n",
       "    <tr>\n",
       "      <th>0</th>\n",
       "      <td>5.1</td>\n",
       "      <td>3.5</td>\n",
       "      <td>1.4</td>\n",
       "      <td>0.2</td>\n",
       "      <td>setosa</td>\n",
       "    </tr>\n",
       "    <tr>\n",
       "      <th>1</th>\n",
       "      <td>4.9</td>\n",
       "      <td>3.0</td>\n",
       "      <td>1.4</td>\n",
       "      <td>0.2</td>\n",
       "      <td>setosa</td>\n",
       "    </tr>\n",
       "    <tr>\n",
       "      <th>2</th>\n",
       "      <td>4.7</td>\n",
       "      <td>3.2</td>\n",
       "      <td>1.3</td>\n",
       "      <td>0.2</td>\n",
       "      <td>setosa</td>\n",
       "    </tr>\n",
       "    <tr>\n",
       "      <th>3</th>\n",
       "      <td>4.6</td>\n",
       "      <td>3.1</td>\n",
       "      <td>1.5</td>\n",
       "      <td>0.2</td>\n",
       "      <td>setosa</td>\n",
       "    </tr>\n",
       "    <tr>\n",
       "      <th>4</th>\n",
       "      <td>5.0</td>\n",
       "      <td>3.6</td>\n",
       "      <td>1.4</td>\n",
       "      <td>0.2</td>\n",
       "      <td>setosa</td>\n",
       "    </tr>\n",
       "    <tr>\n",
       "      <th>...</th>\n",
       "      <td>...</td>\n",
       "      <td>...</td>\n",
       "      <td>...</td>\n",
       "      <td>...</td>\n",
       "      <td>...</td>\n",
       "    </tr>\n",
       "    <tr>\n",
       "      <th>145</th>\n",
       "      <td>6.7</td>\n",
       "      <td>3.0</td>\n",
       "      <td>5.2</td>\n",
       "      <td>2.3</td>\n",
       "      <td>virginica</td>\n",
       "    </tr>\n",
       "    <tr>\n",
       "      <th>146</th>\n",
       "      <td>6.3</td>\n",
       "      <td>2.5</td>\n",
       "      <td>5.0</td>\n",
       "      <td>1.9</td>\n",
       "      <td>virginica</td>\n",
       "    </tr>\n",
       "    <tr>\n",
       "      <th>147</th>\n",
       "      <td>6.5</td>\n",
       "      <td>3.0</td>\n",
       "      <td>5.2</td>\n",
       "      <td>2.0</td>\n",
       "      <td>virginica</td>\n",
       "    </tr>\n",
       "    <tr>\n",
       "      <th>148</th>\n",
       "      <td>6.2</td>\n",
       "      <td>3.4</td>\n",
       "      <td>5.4</td>\n",
       "      <td>2.3</td>\n",
       "      <td>virginica</td>\n",
       "    </tr>\n",
       "    <tr>\n",
       "      <th>149</th>\n",
       "      <td>5.9</td>\n",
       "      <td>3.0</td>\n",
       "      <td>5.1</td>\n",
       "      <td>1.8</td>\n",
       "      <td>virginica</td>\n",
       "    </tr>\n",
       "  </tbody>\n",
       "</table>\n",
       "<p>150 rows × 5 columns</p>\n",
       "</div>"
      ],
      "text/plain": [
       "     sepal-length  sepal-width  petal-length  petal-width    species\n",
       "0             5.1          3.5           1.4          0.2     setosa\n",
       "1             4.9          3.0           1.4          0.2     setosa\n",
       "2             4.7          3.2           1.3          0.2     setosa\n",
       "3             4.6          3.1           1.5          0.2     setosa\n",
       "4             5.0          3.6           1.4          0.2     setosa\n",
       "..            ...          ...           ...          ...        ...\n",
       "145           6.7          3.0           5.2          2.3  virginica\n",
       "146           6.3          2.5           5.0          1.9  virginica\n",
       "147           6.5          3.0           5.2          2.0  virginica\n",
       "148           6.2          3.4           5.4          2.3  virginica\n",
       "149           5.9          3.0           5.1          1.8  virginica\n",
       "\n",
       "[150 rows x 5 columns]"
      ]
     },
     "execution_count": 52,
     "metadata": {},
     "output_type": "execute_result"
    }
   ],
   "source": [
    "# 데이터 프레임 연결하기 (열로 연결)\n",
    "iris_df = pd.concat([X,y], axis=1)\n",
    "iris_df"
   ]
  },
  {
   "cell_type": "code",
   "execution_count": 53,
   "id": "f8099f98",
   "metadata": {
    "ExecuteTime": {
     "end_time": "2024-11-26T05:16:40.149373Z",
     "start_time": "2024-11-26T05:16:40.140398Z"
    }
   },
   "outputs": [
    {
     "name": "stdout",
     "output_type": "stream",
     "text": [
      "<class 'pandas.core.frame.DataFrame'>\n",
      "RangeIndex: 150 entries, 0 to 149\n",
      "Data columns (total 5 columns):\n",
      " #   Column        Non-Null Count  Dtype  \n",
      "---  ------        --------------  -----  \n",
      " 0   sepal-length  150 non-null    float64\n",
      " 1   sepal-width   150 non-null    float64\n",
      " 2   petal-length  150 non-null    float64\n",
      " 3   petal-width   150 non-null    float64\n",
      " 4   species       150 non-null    object \n",
      "dtypes: float64(4), object(1)\n",
      "memory usage: 6.0+ KB\n"
     ]
    }
   ],
   "source": [
    "iris_df.info()"
   ]
  },
  {
   "cell_type": "markdown",
   "id": "2efae4e6",
   "metadata": {},
   "source": [
    "## 2.5 statsmodels 패키지의 iris"
   ]
  },
  {
   "cell_type": "code",
   "execution_count": 54,
   "id": "735eae3d",
   "metadata": {
    "ExecuteTime": {
     "end_time": "2024-11-26T05:16:40.587704Z",
     "start_time": "2024-11-26T05:16:40.150370Z"
    }
   },
   "outputs": [
    {
     "data": {
      "text/plain": [
       "<class 'statsmodels.datasets.utils.Dataset'>"
      ]
     },
     "execution_count": 54,
     "metadata": {},
     "output_type": "execute_result"
    }
   ],
   "source": [
    "# iris 데이터 가져오기 방법2 : R 데이터 가져오기\n",
    "import statsmodels.api as sm\n",
    "iris_data = sm.datasets.get_rdataset('iris',package='datasets', cache=True)\n",
    "iris_data"
   ]
  },
  {
   "cell_type": "code",
   "execution_count": 55,
   "id": "ffbc8cd5",
   "metadata": {
    "ExecuteTime": {
     "end_time": "2024-11-26T05:16:40.601665Z",
     "start_time": "2024-11-26T05:16:40.589698Z"
    }
   },
   "outputs": [
    {
     "data": {
      "text/html": [
       "<div>\n",
       "<style scoped>\n",
       "    .dataframe tbody tr th:only-of-type {\n",
       "        vertical-align: middle;\n",
       "    }\n",
       "\n",
       "    .dataframe tbody tr th {\n",
       "        vertical-align: top;\n",
       "    }\n",
       "\n",
       "    .dataframe thead th {\n",
       "        text-align: right;\n",
       "    }\n",
       "</style>\n",
       "<table border=\"1\" class=\"dataframe\">\n",
       "  <thead>\n",
       "    <tr style=\"text-align: right;\">\n",
       "      <th></th>\n",
       "      <th>Sepal.Length</th>\n",
       "      <th>Sepal.Width</th>\n",
       "      <th>Petal.Length</th>\n",
       "      <th>Petal.Width</th>\n",
       "      <th>Species</th>\n",
       "    </tr>\n",
       "  </thead>\n",
       "  <tbody>\n",
       "    <tr>\n",
       "      <th>0</th>\n",
       "      <td>5.1</td>\n",
       "      <td>3.5</td>\n",
       "      <td>1.4</td>\n",
       "      <td>0.2</td>\n",
       "      <td>setosa</td>\n",
       "    </tr>\n",
       "    <tr>\n",
       "      <th>1</th>\n",
       "      <td>4.9</td>\n",
       "      <td>3.0</td>\n",
       "      <td>1.4</td>\n",
       "      <td>0.2</td>\n",
       "      <td>setosa</td>\n",
       "    </tr>\n",
       "    <tr>\n",
       "      <th>2</th>\n",
       "      <td>4.7</td>\n",
       "      <td>3.2</td>\n",
       "      <td>1.3</td>\n",
       "      <td>0.2</td>\n",
       "      <td>setosa</td>\n",
       "    </tr>\n",
       "    <tr>\n",
       "      <th>3</th>\n",
       "      <td>4.6</td>\n",
       "      <td>3.1</td>\n",
       "      <td>1.5</td>\n",
       "      <td>0.2</td>\n",
       "      <td>setosa</td>\n",
       "    </tr>\n",
       "    <tr>\n",
       "      <th>4</th>\n",
       "      <td>5.0</td>\n",
       "      <td>3.6</td>\n",
       "      <td>1.4</td>\n",
       "      <td>0.2</td>\n",
       "      <td>setosa</td>\n",
       "    </tr>\n",
       "  </tbody>\n",
       "</table>\n",
       "</div>"
      ],
      "text/plain": [
       "   Sepal.Length  Sepal.Width  Petal.Length  Petal.Width Species\n",
       "0           5.1          3.5           1.4          0.2  setosa\n",
       "1           4.9          3.0           1.4          0.2  setosa\n",
       "2           4.7          3.2           1.3          0.2  setosa\n",
       "3           4.6          3.1           1.5          0.2  setosa\n",
       "4           5.0          3.6           1.4          0.2  setosa"
      ]
     },
     "execution_count": 55,
     "metadata": {},
     "output_type": "execute_result"
    }
   ],
   "source": [
    "iris = iris_data.data\n",
    "iris.head()"
   ]
  },
  {
   "cell_type": "code",
   "execution_count": 56,
   "id": "d21184cf",
   "metadata": {
    "ExecuteTime": {
     "end_time": "2024-11-26T05:16:40.613637Z",
     "start_time": "2024-11-26T05:16:40.603660Z"
    }
   },
   "outputs": [
    {
     "data": {
      "text/html": [
       "<div>\n",
       "<style scoped>\n",
       "    .dataframe tbody tr th:only-of-type {\n",
       "        vertical-align: middle;\n",
       "    }\n",
       "\n",
       "    .dataframe tbody tr th {\n",
       "        vertical-align: top;\n",
       "    }\n",
       "\n",
       "    .dataframe thead th {\n",
       "        text-align: right;\n",
       "    }\n",
       "</style>\n",
       "<table border=\"1\" class=\"dataframe\">\n",
       "  <thead>\n",
       "    <tr style=\"text-align: right;\">\n",
       "      <th></th>\n",
       "      <th>SepalLength</th>\n",
       "      <th>SepalWidth</th>\n",
       "      <th>PetalLength</th>\n",
       "      <th>PetalWidth</th>\n",
       "      <th>Species</th>\n",
       "    </tr>\n",
       "  </thead>\n",
       "  <tbody>\n",
       "    <tr>\n",
       "      <th>0</th>\n",
       "      <td>5.1</td>\n",
       "      <td>3.5</td>\n",
       "      <td>1.4</td>\n",
       "      <td>0.2</td>\n",
       "      <td>setosa</td>\n",
       "    </tr>\n",
       "  </tbody>\n",
       "</table>\n",
       "</div>"
      ],
      "text/plain": [
       "   SepalLength  SepalWidth  PetalLength  PetalWidth Species\n",
       "0          5.1         3.5          1.4         0.2  setosa"
      ]
     },
     "execution_count": 56,
     "metadata": {},
     "output_type": "execute_result"
    }
   ],
   "source": [
    "iris.columns = [col.replace('.','') for col in iris.columns]\n",
    "iris.head(1)"
   ]
  },
  {
   "cell_type": "markdown",
   "id": "b9af8f7b",
   "metadata": {},
   "source": [
    "## 2.6 seaborn 패키지의 iris"
   ]
  },
  {
   "cell_type": "code",
   "execution_count": 57,
   "id": "1050281e",
   "metadata": {
    "ExecuteTime": {
     "end_time": "2024-11-26T05:16:41.307983Z",
     "start_time": "2024-11-26T05:16:40.615628Z"
    }
   },
   "outputs": [
    {
     "data": {
      "text/html": [
       "<div>\n",
       "<style scoped>\n",
       "    .dataframe tbody tr th:only-of-type {\n",
       "        vertical-align: middle;\n",
       "    }\n",
       "\n",
       "    .dataframe tbody tr th {\n",
       "        vertical-align: top;\n",
       "    }\n",
       "\n",
       "    .dataframe thead th {\n",
       "        text-align: right;\n",
       "    }\n",
       "</style>\n",
       "<table border=\"1\" class=\"dataframe\">\n",
       "  <thead>\n",
       "    <tr style=\"text-align: right;\">\n",
       "      <th></th>\n",
       "      <th>sepal_length</th>\n",
       "      <th>sepal_width</th>\n",
       "      <th>petal_length</th>\n",
       "      <th>petal_width</th>\n",
       "      <th>species</th>\n",
       "    </tr>\n",
       "  </thead>\n",
       "  <tbody>\n",
       "    <tr>\n",
       "      <th>0</th>\n",
       "      <td>5.1</td>\n",
       "      <td>3.5</td>\n",
       "      <td>1.4</td>\n",
       "      <td>0.2</td>\n",
       "      <td>setosa</td>\n",
       "    </tr>\n",
       "  </tbody>\n",
       "</table>\n",
       "</div>"
      ],
      "text/plain": [
       "   sepal_length  sepal_width  petal_length  petal_width species\n",
       "0           5.1          3.5           1.4          0.2  setosa"
      ]
     },
     "execution_count": 57,
     "metadata": {},
     "output_type": "execute_result"
    }
   ],
   "source": [
    "# iris 데이터 가져오기 방법3 : seaborn\n",
    "import seaborn as sns\n",
    "iris = sns.load_dataset('iris')\n",
    "iris.head(1)"
   ]
  },
  {
   "cell_type": "code",
   "execution_count": 58,
   "id": "4c0dadc5",
   "metadata": {
    "ExecuteTime": {
     "end_time": "2024-11-26T05:16:41.321945Z",
     "start_time": "2024-11-26T05:16:41.312969Z"
    }
   },
   "outputs": [],
   "source": [
    "# 데이터 프레임을 파일로 출력 4k\n",
    "iris.to_csv('data/ch12_iris.csv', index=False)# 행이름 생략되서 파일 출력"
   ]
  },
  {
   "cell_type": "code",
   "execution_count": 59,
   "id": "4b2d1db0",
   "metadata": {
    "ExecuteTime": {
     "end_time": "2024-11-26T05:16:41.331918Z",
     "start_time": "2024-11-26T05:16:41.324937Z"
    }
   },
   "outputs": [],
   "source": [
    "# 1k\n",
    "iris.to_csv('data/ch12_iris.csv.gz', index=False, compression='infer')"
   ]
  },
  {
   "cell_type": "code",
   "execution_count": 60,
   "id": "89d9f84d",
   "metadata": {
    "ExecuteTime": {
     "end_time": "2024-11-26T05:16:41.346878Z",
     "start_time": "2024-11-26T05:16:41.333913Z"
    }
   },
   "outputs": [
    {
     "data": {
      "text/html": [
       "<div>\n",
       "<style scoped>\n",
       "    .dataframe tbody tr th:only-of-type {\n",
       "        vertical-align: middle;\n",
       "    }\n",
       "\n",
       "    .dataframe tbody tr th {\n",
       "        vertical-align: top;\n",
       "    }\n",
       "\n",
       "    .dataframe thead th {\n",
       "        text-align: right;\n",
       "    }\n",
       "</style>\n",
       "<table border=\"1\" class=\"dataframe\">\n",
       "  <thead>\n",
       "    <tr style=\"text-align: right;\">\n",
       "      <th></th>\n",
       "      <th>sepal_length</th>\n",
       "      <th>sepal_width</th>\n",
       "      <th>petal_length</th>\n",
       "      <th>petal_width</th>\n",
       "      <th>species</th>\n",
       "    </tr>\n",
       "  </thead>\n",
       "  <tbody>\n",
       "    <tr>\n",
       "      <th>0</th>\n",
       "      <td>5.1</td>\n",
       "      <td>3.5</td>\n",
       "      <td>1.4</td>\n",
       "      <td>0.2</td>\n",
       "      <td>setosa</td>\n",
       "    </tr>\n",
       "  </tbody>\n",
       "</table>\n",
       "</div>"
      ],
      "text/plain": [
       "   sepal_length  sepal_width  petal_length  petal_width species\n",
       "0           5.1          3.5           1.4          0.2  setosa"
      ]
     },
     "execution_count": 60,
     "metadata": {},
     "output_type": "execute_result"
    }
   ],
   "source": [
    "read_iris = pd.read_csv('data/ch12_iris.csv.gz', compression='infer')\n",
    "read_iris.head(1)"
   ]
  },
  {
   "cell_type": "markdown",
   "id": "8ece161c",
   "metadata": {},
   "source": [
    "# 3절 이름(열, 행) 지정하기\n",
    "## 3.1 열이름 지정하기"
   ]
  },
  {
   "cell_type": "code",
   "execution_count": 61,
   "id": "24970e3b",
   "metadata": {
    "ExecuteTime": {
     "end_time": "2024-11-26T05:16:41.360841Z",
     "start_time": "2024-11-26T05:16:41.348873Z"
    }
   },
   "outputs": [
    {
     "data": {
      "text/html": [
       "<div>\n",
       "<style scoped>\n",
       "    .dataframe tbody tr th:only-of-type {\n",
       "        vertical-align: middle;\n",
       "    }\n",
       "\n",
       "    .dataframe tbody tr th {\n",
       "        vertical-align: top;\n",
       "    }\n",
       "\n",
       "    .dataframe thead th {\n",
       "        text-align: right;\n",
       "    }\n",
       "</style>\n",
       "<table border=\"1\" class=\"dataframe\">\n",
       "  <thead>\n",
       "    <tr style=\"text-align: right;\">\n",
       "      <th></th>\n",
       "      <th>Name</th>\n",
       "      <th>Age</th>\n",
       "      <th>Email</th>\n",
       "      <th>Address</th>\n",
       "      <th>Birth</th>\n",
       "    </tr>\n",
       "  </thead>\n",
       "  <tbody>\n",
       "    <tr>\n",
       "      <th>0</th>\n",
       "      <td>홍길동</td>\n",
       "      <td>20</td>\n",
       "      <td>hong@hong.com</td>\n",
       "      <td>서울시 강동구</td>\n",
       "      <td>1999-01-01</td>\n",
       "    </tr>\n",
       "    <tr>\n",
       "      <th>1</th>\n",
       "      <td>홍길서</td>\n",
       "      <td>30</td>\n",
       "      <td>seo@hong.com</td>\n",
       "      <td>서울시 중구</td>\n",
       "      <td>1999-12-01</td>\n",
       "    </tr>\n",
       "    <tr>\n",
       "      <th>2</th>\n",
       "      <td>홍길남</td>\n",
       "      <td>21</td>\n",
       "      <td>nam@hong.com</td>\n",
       "      <td>서울시 강동구</td>\n",
       "      <td>1999-11-01</td>\n",
       "    </tr>\n",
       "    <tr>\n",
       "      <th>3</th>\n",
       "      <td>홍길북</td>\n",
       "      <td>22</td>\n",
       "      <td>buk@hong.com</td>\n",
       "      <td>서울시 관악구</td>\n",
       "      <td>1999-05-01</td>\n",
       "    </tr>\n",
       "    <tr>\n",
       "      <th>4</th>\n",
       "      <td>홍길중</td>\n",
       "      <td>23</td>\n",
       "      <td>mid@hong.com</td>\n",
       "      <td>부산시 중구</td>\n",
       "      <td>1999-01-30</td>\n",
       "    </tr>\n",
       "  </tbody>\n",
       "</table>\n",
       "</div>"
      ],
      "text/plain": [
       "  Name  Age          Email  Address       Birth\n",
       "0  홍길동   20  hong@hong.com  서울시 강동구  1999-01-01\n",
       "1  홍길서   30   seo@hong.com   서울시 중구  1999-12-01\n",
       "2  홍길남   21   nam@hong.com  서울시 강동구  1999-11-01\n",
       "3  홍길북   22   buk@hong.com  서울시 관악구  1999-05-01\n",
       "4  홍길중   23   mid@hong.com   부산시 중구  1999-01-30"
      ]
     },
     "execution_count": 61,
     "metadata": {},
     "output_type": "execute_result"
    }
   ],
   "source": [
    "member = pd.read_csv('data/ch12_member.csv', comment='#')\n",
    "member"
   ]
  },
  {
   "cell_type": "code",
   "execution_count": 62,
   "id": "e4f45197",
   "metadata": {
    "ExecuteTime": {
     "end_time": "2024-11-26T05:16:41.369816Z",
     "start_time": "2024-11-26T05:16:41.363833Z"
    }
   },
   "outputs": [
    {
     "data": {
      "text/plain": [
       "Index(['Name', 'Age', 'Email', 'Address', 'Birth'], dtype='object')"
      ]
     },
     "execution_count": 62,
     "metadata": {},
     "output_type": "execute_result"
    }
   ],
   "source": [
    "member.columns"
   ]
  },
  {
   "cell_type": "code",
   "execution_count": 63,
   "id": "ac91d0e3",
   "metadata": {
    "ExecuteTime": {
     "end_time": "2024-11-26T05:16:41.382782Z",
     "start_time": "2024-11-26T05:16:41.371812Z"
    }
   },
   "outputs": [
    {
     "data": {
      "text/html": [
       "<div>\n",
       "<style scoped>\n",
       "    .dataframe tbody tr th:only-of-type {\n",
       "        vertical-align: middle;\n",
       "    }\n",
       "\n",
       "    .dataframe tbody tr th {\n",
       "        vertical-align: top;\n",
       "    }\n",
       "\n",
       "    .dataframe thead th {\n",
       "        text-align: right;\n",
       "    }\n",
       "</style>\n",
       "<table border=\"1\" class=\"dataframe\">\n",
       "  <thead>\n",
       "    <tr style=\"text-align: right;\">\n",
       "      <th></th>\n",
       "      <th>이름</th>\n",
       "      <th>나이</th>\n",
       "      <th>메일</th>\n",
       "      <th>주소</th>\n",
       "      <th>생년월일</th>\n",
       "    </tr>\n",
       "  </thead>\n",
       "  <tbody>\n",
       "    <tr>\n",
       "      <th>0</th>\n",
       "      <td>홍길동</td>\n",
       "      <td>20</td>\n",
       "      <td>hong@hong.com</td>\n",
       "      <td>서울시 강동구</td>\n",
       "      <td>1999-01-01</td>\n",
       "    </tr>\n",
       "    <tr>\n",
       "      <th>1</th>\n",
       "      <td>홍길서</td>\n",
       "      <td>30</td>\n",
       "      <td>seo@hong.com</td>\n",
       "      <td>서울시 중구</td>\n",
       "      <td>1999-12-01</td>\n",
       "    </tr>\n",
       "    <tr>\n",
       "      <th>2</th>\n",
       "      <td>홍길남</td>\n",
       "      <td>21</td>\n",
       "      <td>nam@hong.com</td>\n",
       "      <td>서울시 강동구</td>\n",
       "      <td>1999-11-01</td>\n",
       "    </tr>\n",
       "    <tr>\n",
       "      <th>3</th>\n",
       "      <td>홍길북</td>\n",
       "      <td>22</td>\n",
       "      <td>buk@hong.com</td>\n",
       "      <td>서울시 관악구</td>\n",
       "      <td>1999-05-01</td>\n",
       "    </tr>\n",
       "    <tr>\n",
       "      <th>4</th>\n",
       "      <td>홍길중</td>\n",
       "      <td>23</td>\n",
       "      <td>mid@hong.com</td>\n",
       "      <td>부산시 중구</td>\n",
       "      <td>1999-01-30</td>\n",
       "    </tr>\n",
       "  </tbody>\n",
       "</table>\n",
       "</div>"
      ],
      "text/plain": [
       "    이름  나이             메일       주소        생년월일\n",
       "0  홍길동  20  hong@hong.com  서울시 강동구  1999-01-01\n",
       "1  홍길서  30   seo@hong.com   서울시 중구  1999-12-01\n",
       "2  홍길남  21   nam@hong.com  서울시 강동구  1999-11-01\n",
       "3  홍길북  22   buk@hong.com  서울시 관악구  1999-05-01\n",
       "4  홍길중  23   mid@hong.com   부산시 중구  1999-01-30"
      ]
     },
     "execution_count": 63,
     "metadata": {},
     "output_type": "execute_result"
    }
   ],
   "source": [
    "member.columns = ['이름', '나이', '메일', '주소', '생년월일']\n",
    "member"
   ]
  },
  {
   "cell_type": "markdown",
   "id": "6fd3ca39",
   "metadata": {},
   "source": [
    "## 3.2 행이름 지정"
   ]
  },
  {
   "cell_type": "code",
   "execution_count": 64,
   "id": "f6e1148f",
   "metadata": {
    "ExecuteTime": {
     "end_time": "2024-11-26T05:16:41.390762Z",
     "start_time": "2024-11-26T05:16:41.384777Z"
    }
   },
   "outputs": [
    {
     "data": {
      "text/plain": [
       "RangeIndex(start=0, stop=5, step=1)"
      ]
     },
     "execution_count": 64,
     "metadata": {},
     "output_type": "execute_result"
    }
   ],
   "source": [
    "member.index"
   ]
  },
  {
   "cell_type": "code",
   "execution_count": 65,
   "id": "6910400c",
   "metadata": {
    "ExecuteTime": {
     "end_time": "2024-11-26T05:16:41.403726Z",
     "start_time": "2024-11-26T05:16:41.392757Z"
    }
   },
   "outputs": [
    {
     "data": {
      "text/html": [
       "<div>\n",
       "<style scoped>\n",
       "    .dataframe tbody tr th:only-of-type {\n",
       "        vertical-align: middle;\n",
       "    }\n",
       "\n",
       "    .dataframe tbody tr th {\n",
       "        vertical-align: top;\n",
       "    }\n",
       "\n",
       "    .dataframe thead th {\n",
       "        text-align: right;\n",
       "    }\n",
       "</style>\n",
       "<table border=\"1\" class=\"dataframe\">\n",
       "  <thead>\n",
       "    <tr style=\"text-align: right;\">\n",
       "      <th></th>\n",
       "      <th>이름</th>\n",
       "      <th>나이</th>\n",
       "      <th>메일</th>\n",
       "      <th>주소</th>\n",
       "      <th>생년월일</th>\n",
       "    </tr>\n",
       "  </thead>\n",
       "  <tbody>\n",
       "    <tr>\n",
       "      <th>10</th>\n",
       "      <td>홍길동</td>\n",
       "      <td>20</td>\n",
       "      <td>hong@hong.com</td>\n",
       "      <td>서울시 강동구</td>\n",
       "      <td>1999-01-01</td>\n",
       "    </tr>\n",
       "    <tr>\n",
       "      <th>11</th>\n",
       "      <td>홍길서</td>\n",
       "      <td>30</td>\n",
       "      <td>seo@hong.com</td>\n",
       "      <td>서울시 중구</td>\n",
       "      <td>1999-12-01</td>\n",
       "    </tr>\n",
       "    <tr>\n",
       "      <th>12</th>\n",
       "      <td>홍길남</td>\n",
       "      <td>21</td>\n",
       "      <td>nam@hong.com</td>\n",
       "      <td>서울시 강동구</td>\n",
       "      <td>1999-11-01</td>\n",
       "    </tr>\n",
       "    <tr>\n",
       "      <th>13</th>\n",
       "      <td>홍길북</td>\n",
       "      <td>22</td>\n",
       "      <td>buk@hong.com</td>\n",
       "      <td>서울시 관악구</td>\n",
       "      <td>1999-05-01</td>\n",
       "    </tr>\n",
       "    <tr>\n",
       "      <th>14</th>\n",
       "      <td>홍길중</td>\n",
       "      <td>23</td>\n",
       "      <td>mid@hong.com</td>\n",
       "      <td>부산시 중구</td>\n",
       "      <td>1999-01-30</td>\n",
       "    </tr>\n",
       "  </tbody>\n",
       "</table>\n",
       "</div>"
      ],
      "text/plain": [
       "     이름  나이             메일       주소        생년월일\n",
       "10  홍길동  20  hong@hong.com  서울시 강동구  1999-01-01\n",
       "11  홍길서  30   seo@hong.com   서울시 중구  1999-12-01\n",
       "12  홍길남  21   nam@hong.com  서울시 강동구  1999-11-01\n",
       "13  홍길북  22   buk@hong.com  서울시 관악구  1999-05-01\n",
       "14  홍길중  23   mid@hong.com   부산시 중구  1999-01-30"
      ]
     },
     "execution_count": 65,
     "metadata": {},
     "output_type": "execute_result"
    }
   ],
   "source": [
    "member.index = range(10,15)\n",
    "member"
   ]
  },
  {
   "cell_type": "code",
   "execution_count": 66,
   "id": "4a83e434",
   "metadata": {
    "ExecuteTime": {
     "end_time": "2024-11-26T05:16:41.416691Z",
     "start_time": "2024-11-26T05:16:41.405721Z"
    }
   },
   "outputs": [
    {
     "data": {
      "text/html": [
       "<div>\n",
       "<style scoped>\n",
       "    .dataframe tbody tr th:only-of-type {\n",
       "        vertical-align: middle;\n",
       "    }\n",
       "\n",
       "    .dataframe tbody tr th {\n",
       "        vertical-align: top;\n",
       "    }\n",
       "\n",
       "    .dataframe thead th {\n",
       "        text-align: right;\n",
       "    }\n",
       "</style>\n",
       "<table border=\"1\" class=\"dataframe\">\n",
       "  <thead>\n",
       "    <tr style=\"text-align: right;\">\n",
       "      <th></th>\n",
       "      <th>이름</th>\n",
       "      <th>나이</th>\n",
       "      <th>메일</th>\n",
       "      <th>주소</th>\n",
       "      <th>생년월일</th>\n",
       "    </tr>\n",
       "  </thead>\n",
       "  <tbody>\n",
       "    <tr>\n",
       "      <th>동</th>\n",
       "      <td>홍길동</td>\n",
       "      <td>20</td>\n",
       "      <td>hong@hong.com</td>\n",
       "      <td>서울시 강동구</td>\n",
       "      <td>1999-01-01</td>\n",
       "    </tr>\n",
       "    <tr>\n",
       "      <th>서</th>\n",
       "      <td>홍길서</td>\n",
       "      <td>30</td>\n",
       "      <td>seo@hong.com</td>\n",
       "      <td>서울시 중구</td>\n",
       "      <td>1999-12-01</td>\n",
       "    </tr>\n",
       "    <tr>\n",
       "      <th>남</th>\n",
       "      <td>홍길남</td>\n",
       "      <td>21</td>\n",
       "      <td>nam@hong.com</td>\n",
       "      <td>서울시 강동구</td>\n",
       "      <td>1999-11-01</td>\n",
       "    </tr>\n",
       "    <tr>\n",
       "      <th>북</th>\n",
       "      <td>홍길북</td>\n",
       "      <td>22</td>\n",
       "      <td>buk@hong.com</td>\n",
       "      <td>서울시 관악구</td>\n",
       "      <td>1999-05-01</td>\n",
       "    </tr>\n",
       "    <tr>\n",
       "      <th>중</th>\n",
       "      <td>홍길중</td>\n",
       "      <td>23</td>\n",
       "      <td>mid@hong.com</td>\n",
       "      <td>부산시 중구</td>\n",
       "      <td>1999-01-30</td>\n",
       "    </tr>\n",
       "  </tbody>\n",
       "</table>\n",
       "</div>"
      ],
      "text/plain": [
       "    이름  나이             메일       주소        생년월일\n",
       "동  홍길동  20  hong@hong.com  서울시 강동구  1999-01-01\n",
       "서  홍길서  30   seo@hong.com   서울시 중구  1999-12-01\n",
       "남  홍길남  21   nam@hong.com  서울시 강동구  1999-11-01\n",
       "북  홍길북  22   buk@hong.com  서울시 관악구  1999-05-01\n",
       "중  홍길중  23   mid@hong.com   부산시 중구  1999-01-30"
      ]
     },
     "execution_count": 66,
     "metadata": {},
     "output_type": "execute_result"
    }
   ],
   "source": [
    "member.index = ['동','서','남','북','중']\n",
    "member"
   ]
  },
  {
   "cell_type": "code",
   "execution_count": 67,
   "id": "5b569063",
   "metadata": {
    "ExecuteTime": {
     "end_time": "2024-11-26T05:16:41.424670Z",
     "start_time": "2024-11-26T05:16:41.418687Z"
    }
   },
   "outputs": [
    {
     "data": {
      "text/plain": [
       "'홍길서'"
      ]
     },
     "execution_count": 67,
     "metadata": {},
     "output_type": "execute_result"
    }
   ],
   "source": [
    "member['이름']['서']"
   ]
  },
  {
   "cell_type": "code",
   "execution_count": 68,
   "id": "fa1ee9e2",
   "metadata": {
    "ExecuteTime": {
     "end_time": "2024-11-26T05:16:41.434644Z",
     "start_time": "2024-11-26T05:16:41.427662Z"
    }
   },
   "outputs": [
    {
     "data": {
      "text/plain": [
       "'홍길서'"
      ]
     },
     "execution_count": 68,
     "metadata": {},
     "output_type": "execute_result"
    }
   ],
   "source": [
    "member.loc['서', '이름'] # loc : 행이름과 열이름으로 데이터 프레임의 부분 데이터 조회"
   ]
  },
  {
   "cell_type": "code",
   "execution_count": 69,
   "id": "95aeadc7",
   "metadata": {
    "ExecuteTime": {
     "end_time": "2024-11-26T05:16:41.449603Z",
     "start_time": "2024-11-26T05:16:41.436638Z"
    }
   },
   "outputs": [
    {
     "data": {
      "text/html": [
       "<div>\n",
       "<style scoped>\n",
       "    .dataframe tbody tr th:only-of-type {\n",
       "        vertical-align: middle;\n",
       "    }\n",
       "\n",
       "    .dataframe tbody tr th {\n",
       "        vertical-align: top;\n",
       "    }\n",
       "\n",
       "    .dataframe thead th {\n",
       "        text-align: right;\n",
       "    }\n",
       "</style>\n",
       "<table border=\"1\" class=\"dataframe\">\n",
       "  <thead>\n",
       "    <tr style=\"text-align: right;\">\n",
       "      <th></th>\n",
       "      <th>나이</th>\n",
       "      <th>메일</th>\n",
       "      <th>주소</th>\n",
       "      <th>생년월일</th>\n",
       "    </tr>\n",
       "    <tr>\n",
       "      <th>이름</th>\n",
       "      <th></th>\n",
       "      <th></th>\n",
       "      <th></th>\n",
       "      <th></th>\n",
       "    </tr>\n",
       "  </thead>\n",
       "  <tbody>\n",
       "    <tr>\n",
       "      <th>홍길동</th>\n",
       "      <td>20</td>\n",
       "      <td>hong@hong.com</td>\n",
       "      <td>서울시 강동구</td>\n",
       "      <td>1999-01-01</td>\n",
       "    </tr>\n",
       "    <tr>\n",
       "      <th>홍길서</th>\n",
       "      <td>30</td>\n",
       "      <td>seo@hong.com</td>\n",
       "      <td>서울시 중구</td>\n",
       "      <td>1999-12-01</td>\n",
       "    </tr>\n",
       "    <tr>\n",
       "      <th>홍길남</th>\n",
       "      <td>21</td>\n",
       "      <td>nam@hong.com</td>\n",
       "      <td>서울시 강동구</td>\n",
       "      <td>1999-11-01</td>\n",
       "    </tr>\n",
       "    <tr>\n",
       "      <th>홍길북</th>\n",
       "      <td>22</td>\n",
       "      <td>buk@hong.com</td>\n",
       "      <td>서울시 관악구</td>\n",
       "      <td>1999-05-01</td>\n",
       "    </tr>\n",
       "    <tr>\n",
       "      <th>홍길중</th>\n",
       "      <td>23</td>\n",
       "      <td>mid@hong.com</td>\n",
       "      <td>부산시 중구</td>\n",
       "      <td>1999-01-30</td>\n",
       "    </tr>\n",
       "  </tbody>\n",
       "</table>\n",
       "</div>"
      ],
      "text/plain": [
       "     나이             메일       주소        생년월일\n",
       "이름                                         \n",
       "홍길동  20  hong@hong.com  서울시 강동구  1999-01-01\n",
       "홍길서  30   seo@hong.com   서울시 중구  1999-12-01\n",
       "홍길남  21   nam@hong.com  서울시 강동구  1999-11-01\n",
       "홍길북  22   buk@hong.com  서울시 관악구  1999-05-01\n",
       "홍길중  23   mid@hong.com   부산시 중구  1999-01-30"
      ]
     },
     "execution_count": 69,
     "metadata": {},
     "output_type": "execute_result"
    }
   ],
   "source": [
    "# 이름을 행 이름으로 (실행결과가 출력되서 나오면 return될 뿐, member는 안바뀜)\n",
    "# member를 수정하려면 (1) 할당 (2) inplace 매개변수에 True (기본값은 False)\n",
    "member1 = member.set_index('이름')\n",
    "member1"
   ]
  },
  {
   "cell_type": "code",
   "execution_count": 70,
   "id": "862c8c97",
   "metadata": {
    "ExecuteTime": {
     "end_time": "2024-11-26T05:16:41.461572Z",
     "start_time": "2024-11-26T05:16:41.451599Z"
    }
   },
   "outputs": [
    {
     "data": {
      "text/html": [
       "<div>\n",
       "<style scoped>\n",
       "    .dataframe tbody tr th:only-of-type {\n",
       "        vertical-align: middle;\n",
       "    }\n",
       "\n",
       "    .dataframe tbody tr th {\n",
       "        vertical-align: top;\n",
       "    }\n",
       "\n",
       "    .dataframe thead th {\n",
       "        text-align: right;\n",
       "    }\n",
       "</style>\n",
       "<table border=\"1\" class=\"dataframe\">\n",
       "  <thead>\n",
       "    <tr style=\"text-align: right;\">\n",
       "      <th></th>\n",
       "      <th>나이</th>\n",
       "      <th>메일</th>\n",
       "      <th>주소</th>\n",
       "      <th>생년월일</th>\n",
       "    </tr>\n",
       "    <tr>\n",
       "      <th>이름</th>\n",
       "      <th></th>\n",
       "      <th></th>\n",
       "      <th></th>\n",
       "      <th></th>\n",
       "    </tr>\n",
       "  </thead>\n",
       "  <tbody>\n",
       "    <tr>\n",
       "      <th>홍길동</th>\n",
       "      <td>20</td>\n",
       "      <td>hong@hong.com</td>\n",
       "      <td>서울시 강동구</td>\n",
       "      <td>1999-01-01</td>\n",
       "    </tr>\n",
       "    <tr>\n",
       "      <th>홍길서</th>\n",
       "      <td>30</td>\n",
       "      <td>seo@hong.com</td>\n",
       "      <td>서울시 중구</td>\n",
       "      <td>1999-12-01</td>\n",
       "    </tr>\n",
       "    <tr>\n",
       "      <th>홍길남</th>\n",
       "      <td>21</td>\n",
       "      <td>nam@hong.com</td>\n",
       "      <td>서울시 강동구</td>\n",
       "      <td>1999-11-01</td>\n",
       "    </tr>\n",
       "    <tr>\n",
       "      <th>홍길북</th>\n",
       "      <td>22</td>\n",
       "      <td>buk@hong.com</td>\n",
       "      <td>서울시 관악구</td>\n",
       "      <td>1999-05-01</td>\n",
       "    </tr>\n",
       "    <tr>\n",
       "      <th>홍길중</th>\n",
       "      <td>23</td>\n",
       "      <td>mid@hong.com</td>\n",
       "      <td>부산시 중구</td>\n",
       "      <td>1999-01-30</td>\n",
       "    </tr>\n",
       "  </tbody>\n",
       "</table>\n",
       "</div>"
      ],
      "text/plain": [
       "     나이             메일       주소        생년월일\n",
       "이름                                         \n",
       "홍길동  20  hong@hong.com  서울시 강동구  1999-01-01\n",
       "홍길서  30   seo@hong.com   서울시 중구  1999-12-01\n",
       "홍길남  21   nam@hong.com  서울시 강동구  1999-11-01\n",
       "홍길북  22   buk@hong.com  서울시 관악구  1999-05-01\n",
       "홍길중  23   mid@hong.com   부산시 중구  1999-01-30"
      ]
     },
     "execution_count": 70,
     "metadata": {},
     "output_type": "execute_result"
    }
   ],
   "source": [
    "member.set_index('이름', inplace=True)\n",
    "member"
   ]
  },
  {
   "cell_type": "code",
   "execution_count": 71,
   "id": "3956ef5d",
   "metadata": {
    "ExecuteTime": {
     "end_time": "2024-11-26T05:16:41.470548Z",
     "start_time": "2024-11-26T05:16:41.464564Z"
    }
   },
   "outputs": [
    {
     "data": {
      "text/plain": [
       "Index(['홍길동', '홍길서', '홍길남', '홍길북', '홍길중'], dtype='object', name='이름')"
      ]
     },
     "execution_count": 71,
     "metadata": {},
     "output_type": "execute_result"
    }
   ],
   "source": [
    "member.index"
   ]
  },
  {
   "cell_type": "code",
   "execution_count": 72,
   "id": "c323c146",
   "metadata": {
    "ExecuteTime": {
     "end_time": "2024-11-26T05:16:41.483894Z",
     "start_time": "2024-11-26T05:16:41.472543Z"
    }
   },
   "outputs": [
    {
     "data": {
      "text/html": [
       "<div>\n",
       "<style scoped>\n",
       "    .dataframe tbody tr th:only-of-type {\n",
       "        vertical-align: middle;\n",
       "    }\n",
       "\n",
       "    .dataframe tbody tr th {\n",
       "        vertical-align: top;\n",
       "    }\n",
       "\n",
       "    .dataframe thead th {\n",
       "        text-align: right;\n",
       "    }\n",
       "</style>\n",
       "<table border=\"1\" class=\"dataframe\">\n",
       "  <thead>\n",
       "    <tr style=\"text-align: right;\">\n",
       "      <th></th>\n",
       "      <th>이름</th>\n",
       "      <th>나이</th>\n",
       "      <th>메일</th>\n",
       "      <th>주소</th>\n",
       "      <th>생년월일</th>\n",
       "    </tr>\n",
       "  </thead>\n",
       "  <tbody>\n",
       "    <tr>\n",
       "      <th>0</th>\n",
       "      <td>홍길동</td>\n",
       "      <td>20</td>\n",
       "      <td>hong@hong.com</td>\n",
       "      <td>서울시 강동구</td>\n",
       "      <td>1999-01-01</td>\n",
       "    </tr>\n",
       "    <tr>\n",
       "      <th>1</th>\n",
       "      <td>홍길서</td>\n",
       "      <td>30</td>\n",
       "      <td>seo@hong.com</td>\n",
       "      <td>서울시 중구</td>\n",
       "      <td>1999-12-01</td>\n",
       "    </tr>\n",
       "    <tr>\n",
       "      <th>2</th>\n",
       "      <td>홍길남</td>\n",
       "      <td>21</td>\n",
       "      <td>nam@hong.com</td>\n",
       "      <td>서울시 강동구</td>\n",
       "      <td>1999-11-01</td>\n",
       "    </tr>\n",
       "    <tr>\n",
       "      <th>3</th>\n",
       "      <td>홍길북</td>\n",
       "      <td>22</td>\n",
       "      <td>buk@hong.com</td>\n",
       "      <td>서울시 관악구</td>\n",
       "      <td>1999-05-01</td>\n",
       "    </tr>\n",
       "    <tr>\n",
       "      <th>4</th>\n",
       "      <td>홍길중</td>\n",
       "      <td>23</td>\n",
       "      <td>mid@hong.com</td>\n",
       "      <td>부산시 중구</td>\n",
       "      <td>1999-01-30</td>\n",
       "    </tr>\n",
       "  </tbody>\n",
       "</table>\n",
       "</div>"
      ],
      "text/plain": [
       "    이름  나이             메일       주소        생년월일\n",
       "0  홍길동  20  hong@hong.com  서울시 강동구  1999-01-01\n",
       "1  홍길서  30   seo@hong.com   서울시 중구  1999-12-01\n",
       "2  홍길남  21   nam@hong.com  서울시 강동구  1999-11-01\n",
       "3  홍길북  22   buk@hong.com  서울시 관악구  1999-05-01\n",
       "4  홍길중  23   mid@hong.com   부산시 중구  1999-01-30"
      ]
     },
     "execution_count": 72,
     "metadata": {},
     "output_type": "execute_result"
    }
   ],
   "source": [
    "# 인덱스를 컬럼에 편입시키기\n",
    "member.reset_index(inplace=True)\n",
    "member"
   ]
  },
  {
   "cell_type": "code",
   "execution_count": 73,
   "id": "6102efd0",
   "metadata": {
    "ExecuteTime": {
     "end_time": "2024-11-26T05:16:41.498855Z",
     "start_time": "2024-11-26T05:16:41.485889Z"
    }
   },
   "outputs": [
    {
     "data": {
      "text/html": [
       "<div>\n",
       "<style scoped>\n",
       "    .dataframe tbody tr th:only-of-type {\n",
       "        vertical-align: middle;\n",
       "    }\n",
       "\n",
       "    .dataframe tbody tr th {\n",
       "        vertical-align: top;\n",
       "    }\n",
       "\n",
       "    .dataframe thead th {\n",
       "        text-align: right;\n",
       "    }\n",
       "</style>\n",
       "<table border=\"1\" class=\"dataframe\">\n",
       "  <thead>\n",
       "    <tr style=\"text-align: right;\">\n",
       "      <th></th>\n",
       "      <th>이름</th>\n",
       "      <th>나이</th>\n",
       "      <th>메일</th>\n",
       "      <th>주소</th>\n",
       "      <th>생년월일</th>\n",
       "    </tr>\n",
       "  </thead>\n",
       "  <tbody>\n",
       "    <tr>\n",
       "      <th>0</th>\n",
       "      <td>홍길동</td>\n",
       "      <td>20</td>\n",
       "      <td>hong@hong.com</td>\n",
       "      <td>서울시 강동구</td>\n",
       "      <td>1999-01-01</td>\n",
       "    </tr>\n",
       "    <tr>\n",
       "      <th>11</th>\n",
       "      <td>홍길서</td>\n",
       "      <td>30</td>\n",
       "      <td>seo@hong.com</td>\n",
       "      <td>서울시 중구</td>\n",
       "      <td>1999-12-01</td>\n",
       "    </tr>\n",
       "    <tr>\n",
       "      <th>2</th>\n",
       "      <td>홍길남</td>\n",
       "      <td>21</td>\n",
       "      <td>nam@hong.com</td>\n",
       "      <td>서울시 강동구</td>\n",
       "      <td>1999-11-01</td>\n",
       "    </tr>\n",
       "    <tr>\n",
       "      <th>13</th>\n",
       "      <td>홍길북</td>\n",
       "      <td>22</td>\n",
       "      <td>buk@hong.com</td>\n",
       "      <td>서울시 관악구</td>\n",
       "      <td>1999-05-01</td>\n",
       "    </tr>\n",
       "    <tr>\n",
       "      <th>4</th>\n",
       "      <td>홍길중</td>\n",
       "      <td>23</td>\n",
       "      <td>mid@hong.com</td>\n",
       "      <td>부산시 중구</td>\n",
       "      <td>1999-01-30</td>\n",
       "    </tr>\n",
       "  </tbody>\n",
       "</table>\n",
       "</div>"
      ],
      "text/plain": [
       "     이름  나이             메일       주소        생년월일\n",
       "0   홍길동  20  hong@hong.com  서울시 강동구  1999-01-01\n",
       "11  홍길서  30   seo@hong.com   서울시 중구  1999-12-01\n",
       "2   홍길남  21   nam@hong.com  서울시 강동구  1999-11-01\n",
       "13  홍길북  22   buk@hong.com  서울시 관악구  1999-05-01\n",
       "4   홍길중  23   mid@hong.com   부산시 중구  1999-01-30"
      ]
     },
     "execution_count": 73,
     "metadata": {},
     "output_type": "execute_result"
    }
   ],
   "source": [
    "member.index = [0,11,2,13,4]\n",
    "member"
   ]
  },
  {
   "cell_type": "code",
   "execution_count": 74,
   "id": "29e53764",
   "metadata": {
    "ExecuteTime": {
     "end_time": "2024-11-26T05:16:41.511820Z",
     "start_time": "2024-11-26T05:16:41.500850Z"
    }
   },
   "outputs": [
    {
     "data": {
      "text/html": [
       "<div>\n",
       "<style scoped>\n",
       "    .dataframe tbody tr th:only-of-type {\n",
       "        vertical-align: middle;\n",
       "    }\n",
       "\n",
       "    .dataframe tbody tr th {\n",
       "        vertical-align: top;\n",
       "    }\n",
       "\n",
       "    .dataframe thead th {\n",
       "        text-align: right;\n",
       "    }\n",
       "</style>\n",
       "<table border=\"1\" class=\"dataframe\">\n",
       "  <thead>\n",
       "    <tr style=\"text-align: right;\">\n",
       "      <th></th>\n",
       "      <th>이름</th>\n",
       "      <th>나이</th>\n",
       "      <th>메일</th>\n",
       "      <th>주소</th>\n",
       "      <th>생년월일</th>\n",
       "    </tr>\n",
       "  </thead>\n",
       "  <tbody>\n",
       "    <tr>\n",
       "      <th>0</th>\n",
       "      <td>홍길동</td>\n",
       "      <td>20</td>\n",
       "      <td>hong@hong.com</td>\n",
       "      <td>서울시 강동구</td>\n",
       "      <td>1999-01-01</td>\n",
       "    </tr>\n",
       "    <tr>\n",
       "      <th>1</th>\n",
       "      <td>홍길서</td>\n",
       "      <td>30</td>\n",
       "      <td>seo@hong.com</td>\n",
       "      <td>서울시 중구</td>\n",
       "      <td>1999-12-01</td>\n",
       "    </tr>\n",
       "    <tr>\n",
       "      <th>2</th>\n",
       "      <td>홍길남</td>\n",
       "      <td>21</td>\n",
       "      <td>nam@hong.com</td>\n",
       "      <td>서울시 강동구</td>\n",
       "      <td>1999-11-01</td>\n",
       "    </tr>\n",
       "    <tr>\n",
       "      <th>3</th>\n",
       "      <td>홍길북</td>\n",
       "      <td>22</td>\n",
       "      <td>buk@hong.com</td>\n",
       "      <td>서울시 관악구</td>\n",
       "      <td>1999-05-01</td>\n",
       "    </tr>\n",
       "    <tr>\n",
       "      <th>4</th>\n",
       "      <td>홍길중</td>\n",
       "      <td>23</td>\n",
       "      <td>mid@hong.com</td>\n",
       "      <td>부산시 중구</td>\n",
       "      <td>1999-01-30</td>\n",
       "    </tr>\n",
       "  </tbody>\n",
       "</table>\n",
       "</div>"
      ],
      "text/plain": [
       "    이름  나이             메일       주소        생년월일\n",
       "0  홍길동  20  hong@hong.com  서울시 강동구  1999-01-01\n",
       "1  홍길서  30   seo@hong.com   서울시 중구  1999-12-01\n",
       "2  홍길남  21   nam@hong.com  서울시 강동구  1999-11-01\n",
       "3  홍길북  22   buk@hong.com  서울시 관악구  1999-05-01\n",
       "4  홍길중  23   mid@hong.com   부산시 중구  1999-01-30"
      ]
     },
     "execution_count": 74,
     "metadata": {},
     "output_type": "execute_result"
    }
   ],
   "source": [
    "# 기존 index를 새로운 열에 편입시키지 않고 완전히 제거 후 숫자 index로 초기화\n",
    "member.reset_index(drop=True, inplace=True)\n",
    "member"
   ]
  },
  {
   "cell_type": "code",
<<<<<<< HEAD
   "execution_count": 79,
=======
   "execution_count": 75,
>>>>>>> f947206bcd21063277c022fde04bf272e5349212
   "id": "e0dc448a",
   "metadata": {
    "ExecuteTime": {
     "end_time": "2024-11-26T05:16:41.555412Z",
     "start_time": "2024-11-26T05:16:41.514812Z"
    }
   },
   "outputs": [
    {
     "data": {
      "text/html": [
       "<div>\n",
       "<style scoped>\n",
       "    .dataframe tbody tr th:only-of-type {\n",
       "        vertical-align: middle;\n",
       "    }\n",
       "\n",
       "    .dataframe tbody tr th {\n",
       "        vertical-align: top;\n",
       "    }\n",
       "\n",
       "    .dataframe thead th {\n",
       "        text-align: right;\n",
       "    }\n",
       "</style>\n",
       "<table border=\"1\" class=\"dataframe\">\n",
       "  <thead>\n",
       "    <tr style=\"text-align: right;\">\n",
       "      <th></th>\n",
       "      <th>Name</th>\n",
       "      <th>Age</th>\n",
       "      <th>Email</th>\n",
       "      <th>Address</th>\n",
       "      <th>Birth</th>\n",
       "    </tr>\n",
       "  </thead>\n",
       "  <tbody>\n",
       "    <tr>\n",
       "      <th>0</th>\n",
       "      <td>홍길동</td>\n",
       "      <td>20</td>\n",
       "      <td>hong@hong.com</td>\n",
       "      <td>서울시 강동구</td>\n",
       "      <td>1999-01-01</td>\n",
       "    </tr>\n",
       "    <tr>\n",
       "      <th>1</th>\n",
       "      <td>홍길서</td>\n",
       "      <td>30</td>\n",
       "      <td>seo@hong.com</td>\n",
       "      <td>서울시 중구</td>\n",
       "      <td>1999-12-01</td>\n",
       "    </tr>\n",
       "    <tr>\n",
       "      <th>2</th>\n",
       "      <td>홍길남</td>\n",
       "      <td>21</td>\n",
       "      <td>nam@hong.com</td>\n",
       "      <td>서울시 강동구</td>\n",
       "      <td>1999-11-01</td>\n",
       "    </tr>\n",
       "    <tr>\n",
       "      <th>3</th>\n",
       "      <td>홍길북</td>\n",
       "      <td>22</td>\n",
       "      <td>buk@hong.com</td>\n",
       "      <td>서울시 관악구</td>\n",
       "      <td>1999-05-01</td>\n",
       "    </tr>\n",
       "    <tr>\n",
       "      <th>4</th>\n",
       "      <td>홍길중</td>\n",
       "      <td>23</td>\n",
       "      <td>mid@hong.com</td>\n",
       "      <td>부산시 중구</td>\n",
       "      <td>1999-01-30</td>\n",
       "    </tr>\n",
       "  </tbody>\n",
       "</table>\n",
       "</div>"
      ],
      "text/plain": [
       "  Name  Age          Email  Address      Birth\n",
       "0  홍길동   20  hong@hong.com  서울시 강동구 1999-01-01\n",
       "1  홍길서   30   seo@hong.com   서울시 중구 1999-12-01\n",
       "2  홍길남   21   nam@hong.com  서울시 강동구 1999-11-01\n",
       "3  홍길북   22   buk@hong.com  서울시 관악구 1999-05-01\n",
       "4  홍길중   23   mid@hong.com   부산시 중구 1999-01-30"
      ]
     },
<<<<<<< HEAD
     "execution_count": 79,
=======
     "execution_count": 75,
>>>>>>> f947206bcd21063277c022fde04bf272e5349212
     "metadata": {},
     "output_type": "execute_result"
    }
   ],
   "source": [
    "member = pd.read_csv('data/ch12_member.csv', comment='#', parse_dates=['Birth'])\n",
    "member"
   ]
  },
  {
   "cell_type": "code",
<<<<<<< HEAD
   "execution_count": 80,
=======
   "execution_count": 76,
   "id": "c4f9f872",
   "metadata": {},
   "outputs": [
    {
     "data": {
      "text/html": [
       "<div>\n",
       "<style scoped>\n",
       "    .dataframe tbody tr th:only-of-type {\n",
       "        vertical-align: middle;\n",
       "    }\n",
       "\n",
       "    .dataframe tbody tr th {\n",
       "        vertical-align: top;\n",
       "    }\n",
       "\n",
       "    .dataframe thead th {\n",
       "        text-align: right;\n",
       "    }\n",
       "</style>\n",
       "<table border=\"1\" class=\"dataframe\">\n",
       "  <thead>\n",
       "    <tr style=\"text-align: right;\">\n",
       "      <th></th>\n",
       "      <th>Name</th>\n",
       "      <th>Age</th>\n",
       "      <th>Email</th>\n",
       "      <th>Address</th>\n",
       "      <th>Birth</th>\n",
       "    </tr>\n",
       "  </thead>\n",
       "  <tbody>\n",
       "    <tr>\n",
       "      <th>0</th>\n",
       "      <td>홍길동</td>\n",
       "      <td>20</td>\n",
       "      <td>hong@hong.com</td>\n",
       "      <td>서울시 강동구</td>\n",
       "      <td>1999-01-01</td>\n",
       "    </tr>\n",
       "  </tbody>\n",
       "</table>\n",
       "</div>"
      ],
      "text/plain": [
       "  Name  Age          Email  Address      Birth\n",
       "0  홍길동   20  hong@hong.com  서울시 강동구 1999-01-01"
      ]
     },
     "execution_count": 76,
     "metadata": {},
     "output_type": "execute_result"
    }
   ],
   "source": [
    "member.head(1)"
   ]
  },
  {
   "cell_type": "code",
   "execution_count": 77,
>>>>>>> f947206bcd21063277c022fde04bf272e5349212
   "id": "ec095e49",
   "metadata": {
    "ExecuteTime": {
     "end_time": "2024-11-26T05:16:41.576356Z",
     "start_time": "2024-11-26T05:16:41.559402Z"
    }
   },
   "outputs": [
    {
     "data": {
      "text/plain": [
       "Timestamp('1999-01-01 00:00:00')"
      ]
     },
<<<<<<< HEAD
     "execution_count": 80,
=======
     "execution_count": 77,
>>>>>>> f947206bcd21063277c022fde04bf272e5349212
     "metadata": {},
     "output_type": "execute_result"
    }
   ],
   "source": [
    "member.loc[0, 'Birth']"
   ]
  },
  {
   "cell_type": "code",
<<<<<<< HEAD
   "execution_count": 81,
=======
   "execution_count": 78,
>>>>>>> f947206bcd21063277c022fde04bf272e5349212
   "id": "c08f1474",
   "metadata": {
    "ExecuteTime": {
     "end_time": "2024-11-26T05:16:41.590151Z",
     "start_time": "2024-11-26T05:16:41.579180Z"
    }
   },
   "outputs": [
    {
     "data": {
      "text/plain": [
       "0    1999\n",
       "1    1999\n",
       "2    1999\n",
       "3    1999\n",
       "4    1999\n",
       "Name: Birth, dtype: int64"
      ]
     },
<<<<<<< HEAD
     "execution_count": 81,
=======
     "execution_count": 78,
>>>>>>> f947206bcd21063277c022fde04bf272e5349212
     "metadata": {},
     "output_type": "execute_result"
    }
   ],
   "source": [
    "# 시리즈.dt : datetime열에서 날짜 및 시간에 관련된 정보를 추출하기 위해 사용\n",
    "member['Birth'].dt.year"
   ]
  },
  {
   "cell_type": "code",
<<<<<<< HEAD
   "execution_count": 82,
=======
   "execution_count": 79,
>>>>>>> f947206bcd21063277c022fde04bf272e5349212
   "id": "14424216",
   "metadata": {
    "ExecuteTime": {
     "end_time": "2024-11-26T05:16:41.608103Z",
     "start_time": "2024-11-26T05:16:41.592145Z"
    }
   },
   "outputs": [
    {
     "data": {
      "text/plain": [
       "0     1\n",
       "1    12\n",
       "2    11\n",
       "3     5\n",
       "4     1\n",
       "Name: Birth, dtype: int64"
      ]
     },
<<<<<<< HEAD
     "execution_count": 82,
=======
     "execution_count": 79,
>>>>>>> f947206bcd21063277c022fde04bf272e5349212
     "metadata": {},
     "output_type": "execute_result"
    }
   ],
   "source": [
    "member['Birth'].dt.month"
   ]
  },
  {
   "cell_type": "code",
<<<<<<< HEAD
   "execution_count": 83,
=======
   "execution_count": 80,
>>>>>>> f947206bcd21063277c022fde04bf272e5349212
   "id": "1d81070b",
   "metadata": {
    "ExecuteTime": {
     "end_time": "2024-11-26T05:16:41.619073Z",
     "start_time": "2024-11-26T05:16:41.612092Z"
    }
   },
   "outputs": [
    {
     "data": {
      "text/plain": [
       "0    4\n",
       "1    2\n",
       "2    0\n",
       "3    5\n",
       "4    5\n",
       "Name: Birth, dtype: int64"
      ]
     },
<<<<<<< HEAD
     "execution_count": 83,
=======
     "execution_count": 80,
>>>>>>> f947206bcd21063277c022fde04bf272e5349212
     "metadata": {},
     "output_type": "execute_result"
    }
   ],
   "source": [
    "member['Birth'].dt.weekday# 0 월, 1 화........ 6 일"
   ]
  },
  {
   "cell_type": "markdown",
   "id": "2c0011e5",
   "metadata": {},
   "source": [
    "## 3.3 레벨이름 지정하기"
   ]
  },
  {
   "cell_type": "code",
<<<<<<< HEAD
   "execution_count": 84,
=======
   "execution_count": 81,
>>>>>>> f947206bcd21063277c022fde04bf272e5349212
   "id": "d69e82c5",
   "metadata": {
    "ExecuteTime": {
     "end_time": "2024-11-26T05:16:41.634035Z",
     "start_time": "2024-11-26T05:16:41.622066Z"
    }
   },
   "outputs": [
    {
     "data": {
      "text/html": [
       "<div>\n",
       "<style scoped>\n",
       "    .dataframe tbody tr th:only-of-type {\n",
       "        vertical-align: middle;\n",
       "    }\n",
       "\n",
       "    .dataframe tbody tr th {\n",
       "        vertical-align: top;\n",
       "    }\n",
       "\n",
       "    .dataframe thead th {\n",
       "        text-align: right;\n",
       "    }\n",
       "</style>\n",
       "<table border=\"1\" class=\"dataframe\">\n",
       "  <thead>\n",
       "    <tr style=\"text-align: right;\">\n",
       "      <th></th>\n",
       "      <th>Name</th>\n",
       "      <th>Age</th>\n",
       "      <th>Email</th>\n",
       "      <th>Address</th>\n",
       "      <th>Birth</th>\n",
       "    </tr>\n",
       "  </thead>\n",
       "  <tbody>\n",
       "    <tr>\n",
       "      <th>0</th>\n",
       "      <td>홍길동</td>\n",
       "      <td>20</td>\n",
       "      <td>hong@hong.com</td>\n",
       "      <td>서울시 강동구</td>\n",
       "      <td>1999-01-01</td>\n",
       "    </tr>\n",
       "    <tr>\n",
       "      <th>1</th>\n",
       "      <td>홍길서</td>\n",
       "      <td>30</td>\n",
       "      <td>seo@hong.com</td>\n",
       "      <td>서울시 중구</td>\n",
       "      <td>1999-12-01</td>\n",
       "    </tr>\n",
       "    <tr>\n",
       "      <th>2</th>\n",
       "      <td>홍길남</td>\n",
       "      <td>21</td>\n",
       "      <td>nam@hong.com</td>\n",
       "      <td>서울시 강동구</td>\n",
       "      <td>1999-11-01</td>\n",
       "    </tr>\n",
       "    <tr>\n",
       "      <th>3</th>\n",
       "      <td>홍길북</td>\n",
       "      <td>22</td>\n",
       "      <td>buk@hong.com</td>\n",
       "      <td>서울시 관악구</td>\n",
       "      <td>1999-05-01</td>\n",
       "    </tr>\n",
       "    <tr>\n",
       "      <th>4</th>\n",
       "      <td>홍길중</td>\n",
       "      <td>23</td>\n",
       "      <td>mid@hong.com</td>\n",
       "      <td>부산시 중구</td>\n",
       "      <td>1999-01-30</td>\n",
       "    </tr>\n",
       "  </tbody>\n",
       "</table>\n",
       "</div>"
      ],
      "text/plain": [
       "  Name  Age          Email  Address      Birth\n",
       "0  홍길동   20  hong@hong.com  서울시 강동구 1999-01-01\n",
       "1  홍길서   30   seo@hong.com   서울시 중구 1999-12-01\n",
       "2  홍길남   21   nam@hong.com  서울시 강동구 1999-11-01\n",
       "3  홍길북   22   buk@hong.com  서울시 관악구 1999-05-01\n",
       "4  홍길중   23   mid@hong.com   부산시 중구 1999-01-30"
      ]
     },
<<<<<<< HEAD
     "execution_count": 84,
=======
     "execution_count": 81,
>>>>>>> f947206bcd21063277c022fde04bf272e5349212
     "metadata": {},
     "output_type": "execute_result"
    }
   ],
   "source": [
    "member"
   ]
  },
  {
   "cell_type": "code",
<<<<<<< HEAD
   "execution_count": 85,
=======
   "execution_count": 82,
>>>>>>> f947206bcd21063277c022fde04bf272e5349212
   "id": "f00f165f",
   "metadata": {
    "ExecuteTime": {
     "end_time": "2024-11-26T05:16:41.649991Z",
     "start_time": "2024-11-26T05:16:41.636028Z"
    }
   },
   "outputs": [
    {
     "data": {
      "text/html": [
       "<div>\n",
       "<style scoped>\n",
       "    .dataframe tbody tr th:only-of-type {\n",
       "        vertical-align: middle;\n",
       "    }\n",
       "\n",
       "    .dataframe tbody tr th {\n",
       "        vertical-align: top;\n",
       "    }\n",
       "\n",
       "    .dataframe thead tr th {\n",
       "        text-align: left;\n",
       "    }\n",
       "</style>\n",
       "<table border=\"1\" class=\"dataframe\">\n",
       "  <thead>\n",
       "    <tr>\n",
       "      <th>대분류</th>\n",
       "      <th colspan=\"3\" halign=\"left\">기본정보</th>\n",
       "      <th colspan=\"2\" halign=\"left\">추가정보</th>\n",
       "    </tr>\n",
       "    <tr>\n",
       "      <th>소분류</th>\n",
       "      <th>이름</th>\n",
       "      <th>나이</th>\n",
       "      <th>메일</th>\n",
       "      <th>주소</th>\n",
       "      <th>생년월일</th>\n",
       "    </tr>\n",
       "  </thead>\n",
       "  <tbody>\n",
       "    <tr>\n",
       "      <th>0</th>\n",
       "      <td>홍길동</td>\n",
       "      <td>20</td>\n",
       "      <td>hong@hong.com</td>\n",
       "      <td>서울시 강동구</td>\n",
       "      <td>1999-01-01</td>\n",
       "    </tr>\n",
       "    <tr>\n",
       "      <th>1</th>\n",
       "      <td>홍길서</td>\n",
       "      <td>30</td>\n",
       "      <td>seo@hong.com</td>\n",
       "      <td>서울시 중구</td>\n",
       "      <td>1999-12-01</td>\n",
       "    </tr>\n",
       "    <tr>\n",
       "      <th>2</th>\n",
       "      <td>홍길남</td>\n",
       "      <td>21</td>\n",
       "      <td>nam@hong.com</td>\n",
       "      <td>서울시 강동구</td>\n",
       "      <td>1999-11-01</td>\n",
       "    </tr>\n",
       "    <tr>\n",
       "      <th>3</th>\n",
       "      <td>홍길북</td>\n",
       "      <td>22</td>\n",
       "      <td>buk@hong.com</td>\n",
       "      <td>서울시 관악구</td>\n",
       "      <td>1999-05-01</td>\n",
       "    </tr>\n",
       "    <tr>\n",
       "      <th>4</th>\n",
       "      <td>홍길중</td>\n",
       "      <td>23</td>\n",
       "      <td>mid@hong.com</td>\n",
       "      <td>부산시 중구</td>\n",
       "      <td>1999-01-30</td>\n",
       "    </tr>\n",
       "  </tbody>\n",
       "</table>\n",
       "</div>"
      ],
      "text/plain": [
       "대분류 기본정보                        추가정보           \n",
       "소분류   이름  나이             메일       주소       생년월일\n",
       "0    홍길동  20  hong@hong.com  서울시 강동구 1999-01-01\n",
       "1    홍길서  30   seo@hong.com   서울시 중구 1999-12-01\n",
       "2    홍길남  21   nam@hong.com  서울시 강동구 1999-11-01\n",
       "3    홍길북  22   buk@hong.com  서울시 관악구 1999-05-01\n",
       "4    홍길중  23   mid@hong.com   부산시 중구 1999-01-30"
      ]
     },
<<<<<<< HEAD
     "execution_count": 85,
=======
     "execution_count": 82,
>>>>>>> f947206bcd21063277c022fde04bf272e5349212
     "metadata": {},
     "output_type": "execute_result"
    }
   ],
   "source": [
    "member.columns = [['기본정보','기본정보','기본정보','추가정보','추가정보'],\n",
    "                  ['이름', '나이', '메일', '주소', '생년월일']]\n",
    "member.columns.names = ['대분류', '소분류']\n",
    "member"
   ]
  },
  {
   "cell_type": "code",
<<<<<<< HEAD
   "execution_count": 86,
=======
   "execution_count": 83,
>>>>>>> f947206bcd21063277c022fde04bf272e5349212
   "id": "21c1d864",
   "metadata": {
    "ExecuteTime": {
     "end_time": "2024-11-26T05:16:41.666946Z",
     "start_time": "2024-11-26T05:16:41.651986Z"
    }
   },
   "outputs": [
    {
     "data": {
      "text/html": [
       "<div>\n",
       "<style scoped>\n",
       "    .dataframe tbody tr th:only-of-type {\n",
       "        vertical-align: middle;\n",
       "    }\n",
       "\n",
       "    .dataframe tbody tr th {\n",
       "        vertical-align: top;\n",
       "    }\n",
       "\n",
       "    .dataframe thead tr th {\n",
       "        text-align: left;\n",
       "    }\n",
       "</style>\n",
       "<table border=\"1\" class=\"dataframe\">\n",
       "  <thead>\n",
       "    <tr>\n",
       "      <th></th>\n",
       "      <th>대분류</th>\n",
       "      <th colspan=\"3\" halign=\"left\">기본정보</th>\n",
       "      <th colspan=\"2\" halign=\"left\">추가정보</th>\n",
       "    </tr>\n",
       "    <tr>\n",
       "      <th></th>\n",
       "      <th>소분류</th>\n",
       "      <th>이름</th>\n",
       "      <th>나이</th>\n",
       "      <th>메일</th>\n",
       "      <th>주소</th>\n",
       "      <th>생년월일</th>\n",
       "    </tr>\n",
       "  </thead>\n",
       "  <tbody>\n",
       "    <tr>\n",
       "      <th rowspan=\"2\" valign=\"top\">좌우</th>\n",
       "      <th>동</th>\n",
       "      <td>홍길동</td>\n",
       "      <td>20</td>\n",
       "      <td>hong@hong.com</td>\n",
       "      <td>서울시 강동구</td>\n",
       "      <td>1999-01-01</td>\n",
       "    </tr>\n",
       "    <tr>\n",
       "      <th>서</th>\n",
       "      <td>홍길서</td>\n",
       "      <td>30</td>\n",
       "      <td>seo@hong.com</td>\n",
       "      <td>서울시 중구</td>\n",
       "      <td>1999-12-01</td>\n",
       "    </tr>\n",
       "    <tr>\n",
       "      <th rowspan=\"3\" valign=\"top\">상하</th>\n",
       "      <th>남</th>\n",
       "      <td>홍길남</td>\n",
       "      <td>21</td>\n",
       "      <td>nam@hong.com</td>\n",
       "      <td>서울시 강동구</td>\n",
       "      <td>1999-11-01</td>\n",
       "    </tr>\n",
       "    <tr>\n",
       "      <th>북</th>\n",
       "      <td>홍길북</td>\n",
       "      <td>22</td>\n",
       "      <td>buk@hong.com</td>\n",
       "      <td>서울시 관악구</td>\n",
       "      <td>1999-05-01</td>\n",
       "    </tr>\n",
       "    <tr>\n",
       "      <th>중</th>\n",
       "      <td>홍길중</td>\n",
       "      <td>23</td>\n",
       "      <td>mid@hong.com</td>\n",
       "      <td>부산시 중구</td>\n",
       "      <td>1999-01-30</td>\n",
       "    </tr>\n",
       "  </tbody>\n",
       "</table>\n",
       "</div>"
      ],
      "text/plain": [
       "대분류  기본정보                        추가정보           \n",
       "소분류    이름  나이             메일       주소       생년월일\n",
       "좌우 동  홍길동  20  hong@hong.com  서울시 강동구 1999-01-01\n",
       "   서  홍길서  30   seo@hong.com   서울시 중구 1999-12-01\n",
       "상하 남  홍길남  21   nam@hong.com  서울시 강동구 1999-11-01\n",
       "   북  홍길북  22   buk@hong.com  서울시 관악구 1999-05-01\n",
       "   중  홍길중  23   mid@hong.com   부산시 중구 1999-01-30"
      ]
     },
<<<<<<< HEAD
     "execution_count": 86,
=======
     "execution_count": 83,
>>>>>>> f947206bcd21063277c022fde04bf272e5349212
     "metadata": {},
     "output_type": "execute_result"
    }
   ],
   "source": [
    "member.index = [['좌우','좌우','상하','상하','상하'],\n",
    "                ['동','서','남','북','중']]\n",
    "member"
   ]
  },
  {
   "cell_type": "code",
<<<<<<< HEAD
   "execution_count": 87,
=======
   "execution_count": 84,
>>>>>>> f947206bcd21063277c022fde04bf272e5349212
   "id": "689cfbf5",
   "metadata": {
    "ExecuteTime": {
     "end_time": "2024-11-26T05:16:41.680583Z",
     "start_time": "2024-11-26T05:16:41.668941Z"
    }
   },
   "outputs": [
    {
     "data": {
      "text/plain": [
       "동    20\n",
       "서    30\n",
       "Name: 나이, dtype: int64"
      ]
     },
<<<<<<< HEAD
     "execution_count": 87,
=======
     "execution_count": 84,
>>>>>>> f947206bcd21063277c022fde04bf272e5349212
     "metadata": {},
     "output_type": "execute_result"
    }
   ],
   "source": [
    "member.loc['좌우','기본정보']['나이']"
   ]
  },
  {
   "cell_type": "code",
<<<<<<< HEAD
   "execution_count": 88,
=======
   "execution_count": 85,
>>>>>>> f947206bcd21063277c022fde04bf272e5349212
   "id": "aaa24bd7",
   "metadata": {
    "ExecuteTime": {
     "end_time": "2024-11-26T05:16:41.689558Z",
     "start_time": "2024-11-26T05:16:41.682576Z"
    }
   },
   "outputs": [
    {
     "data": {
      "text/plain": [
       "20"
      ]
     },
<<<<<<< HEAD
     "execution_count": 88,
=======
     "execution_count": 85,
>>>>>>> f947206bcd21063277c022fde04bf272e5349212
     "metadata": {},
     "output_type": "execute_result"
    }
   ],
   "source": [
    "member.loc['좌우','기본정보'].loc['동','나이']"
   ]
  },
  {
   "cell_type": "code",
   "execution_count": 89,
   "id": "be20a02d",
   "metadata": {
    "ExecuteTime": {
     "end_time": "2024-11-26T05:16:41.703520Z",
     "start_time": "2024-11-26T05:16:41.691552Z"
    }
   },
   "outputs": [
    {
     "data": {
      "text/html": [
       "<div>\n",
       "<style scoped>\n",
       "    .dataframe tbody tr th:only-of-type {\n",
       "        vertical-align: middle;\n",
       "    }\n",
       "\n",
       "    .dataframe tbody tr th {\n",
       "        vertical-align: top;\n",
       "    }\n",
       "\n",
       "    .dataframe thead th {\n",
       "        text-align: right;\n",
       "    }\n",
       "</style>\n",
       "<table border=\"1\" class=\"dataframe\">\n",
       "  <thead>\n",
       "    <tr style=\"text-align: right;\">\n",
       "      <th></th>\n",
       "      <th>꽃받침길이</th>\n",
       "      <th>꽃받침너비</th>\n",
       "      <th>꽃잎길이</th>\n",
       "      <th>꽃잎너비</th>\n",
       "      <th>종</th>\n",
       "    </tr>\n",
       "  </thead>\n",
       "  <tbody>\n",
       "    <tr>\n",
       "      <th>149</th>\n",
       "      <td>5.9</td>\n",
       "      <td>3.0</td>\n",
       "      <td>5.1</td>\n",
       "      <td>1.8</td>\n",
       "      <td>virginica</td>\n",
       "    </tr>\n",
       "  </tbody>\n",
       "</table>\n",
       "</div>"
      ],
      "text/plain": [
       "     꽃받침길이  꽃받침너비  꽃잎길이  꽃잎너비          종\n",
       "149    5.9    3.0   5.1   1.8  virginica"
      ]
     },
     "execution_count": 89,
     "metadata": {},
     "output_type": "execute_result"
    }
   ],
   "source": [
    "iris.columns = ['꽃받침길이','꽃받침너비','꽃잎길이','꽃잎너비','종']\n",
    "iris.tail(1) # 끝 1개"
   ]
  },
  {
   "cell_type": "code",
   "execution_count": 90,
   "id": "ebfd2c3e",
   "metadata": {
    "ExecuteTime": {
     "end_time": "2024-11-26T05:16:41.720475Z",
     "start_time": "2024-11-26T05:16:41.705515Z"
    }
   },
   "outputs": [
    {
     "data": {
      "text/html": [
       "<div>\n",
       "<style scoped>\n",
       "    .dataframe tbody tr th:only-of-type {\n",
       "        vertical-align: middle;\n",
       "    }\n",
       "\n",
       "    .dataframe tbody tr th {\n",
       "        vertical-align: top;\n",
       "    }\n",
       "\n",
       "    .dataframe thead th {\n",
       "        text-align: right;\n",
       "    }\n",
       "</style>\n",
       "<table border=\"1\" class=\"dataframe\">\n",
       "  <thead>\n",
       "    <tr style=\"text-align: right;\">\n",
       "      <th></th>\n",
       "      <th>꽃받침길이</th>\n",
       "      <th>꽃받침너비</th>\n",
       "      <th>꽃잎길이</th>\n",
       "      <th>꽃잎너비</th>\n",
       "      <th>종</th>\n",
       "    </tr>\n",
       "  </thead>\n",
       "  <tbody>\n",
       "    <tr>\n",
       "      <th>295</th>\n",
       "      <td>6.7</td>\n",
       "      <td>3.0</td>\n",
       "      <td>5.2</td>\n",
       "      <td>2.3</td>\n",
       "      <td>virginica</td>\n",
       "    </tr>\n",
       "    <tr>\n",
       "      <th>296</th>\n",
       "      <td>6.3</td>\n",
       "      <td>2.5</td>\n",
       "      <td>5.0</td>\n",
       "      <td>1.9</td>\n",
       "      <td>virginica</td>\n",
       "    </tr>\n",
       "    <tr>\n",
       "      <th>297</th>\n",
       "      <td>6.5</td>\n",
       "      <td>3.0</td>\n",
       "      <td>5.2</td>\n",
       "      <td>2.0</td>\n",
       "      <td>virginica</td>\n",
       "    </tr>\n",
       "    <tr>\n",
       "      <th>298</th>\n",
       "      <td>6.2</td>\n",
       "      <td>3.4</td>\n",
       "      <td>5.4</td>\n",
       "      <td>2.3</td>\n",
       "      <td>virginica</td>\n",
       "    </tr>\n",
       "    <tr>\n",
       "      <th>299</th>\n",
       "      <td>5.9</td>\n",
       "      <td>3.0</td>\n",
       "      <td>5.1</td>\n",
       "      <td>1.8</td>\n",
       "      <td>virginica</td>\n",
       "    </tr>\n",
       "  </tbody>\n",
       "</table>\n",
       "</div>"
      ],
      "text/plain": [
       "     꽃받침길이  꽃받침너비  꽃잎길이  꽃잎너비          종\n",
       "295    6.7    3.0   5.2   2.3  virginica\n",
       "296    6.3    2.5   5.0   1.9  virginica\n",
       "297    6.5    3.0   5.2   2.0  virginica\n",
       "298    6.2    3.4   5.4   2.3  virginica\n",
       "299    5.9    3.0   5.1   1.8  virginica"
      ]
     },
     "execution_count": 90,
     "metadata": {},
     "output_type": "execute_result"
    }
   ],
   "source": [
    "iris.index = range(150, 300)\n",
    "iris.tail()"
   ]
  },
  {
   "cell_type": "code",
   "execution_count": 91,
   "id": "11dfd656",
   "metadata": {
    "ExecuteTime": {
     "end_time": "2024-11-26T05:16:41.739424Z",
     "start_time": "2024-11-26T05:16:41.722469Z"
    }
   },
   "outputs": [
    {
     "data": {
      "text/html": [
       "<div>\n",
       "<style scoped>\n",
       "    .dataframe tbody tr th:only-of-type {\n",
       "        vertical-align: middle;\n",
       "    }\n",
       "\n",
       "    .dataframe tbody tr th {\n",
       "        vertical-align: top;\n",
       "    }\n",
       "\n",
       "    .dataframe thead tr th {\n",
       "        text-align: left;\n",
       "    }\n",
       "</style>\n",
       "<table border=\"1\" class=\"dataframe\">\n",
       "  <thead>\n",
       "    <tr>\n",
       "      <th>sps</th>\n",
       "      <th colspan=\"2\" halign=\"left\">꽃받침</th>\n",
       "      <th colspan=\"2\" halign=\"left\">꽃잎</th>\n",
       "      <th>종</th>\n",
       "    </tr>\n",
       "    <tr>\n",
       "      <th>길이너비</th>\n",
       "      <th>길이</th>\n",
       "      <th>너비</th>\n",
       "      <th>길이</th>\n",
       "      <th>너비</th>\n",
       "      <th>종</th>\n",
       "    </tr>\n",
       "  </thead>\n",
       "  <tbody>\n",
       "    <tr>\n",
       "      <th>150</th>\n",
       "      <td>5.1</td>\n",
       "      <td>3.5</td>\n",
       "      <td>1.4</td>\n",
       "      <td>0.2</td>\n",
       "      <td>setosa</td>\n",
       "    </tr>\n",
       "    <tr>\n",
       "      <th>200</th>\n",
       "      <td>7.0</td>\n",
       "      <td>3.2</td>\n",
       "      <td>4.7</td>\n",
       "      <td>1.4</td>\n",
       "      <td>versicolor</td>\n",
       "    </tr>\n",
       "    <tr>\n",
       "      <th>250</th>\n",
       "      <td>6.3</td>\n",
       "      <td>3.3</td>\n",
       "      <td>6.0</td>\n",
       "      <td>2.5</td>\n",
       "      <td>virginica</td>\n",
       "    </tr>\n",
       "  </tbody>\n",
       "</table>\n",
       "</div>"
      ],
      "text/plain": [
       "sps   꽃받침        꽃잎                종\n",
       "길이너비   길이   너비   길이   너비           종\n",
       "150   5.1  3.5  1.4  0.2      setosa\n",
       "200   7.0  3.2  4.7  1.4  versicolor\n",
       "250   6.3  3.3  6.0  2.5   virginica"
      ]
     },
     "execution_count": 91,
     "metadata": {},
     "output_type": "execute_result"
    }
   ],
   "source": [
    "iris.columns = [['꽃받침','꽃받침', '꽃잎','꽃잎','종'],\n",
    "                ['길이','너비',     '길이','너비','종']]\n",
    "iris.columns.names = ['sps', '길이너비']\n",
    "iris.loc[[150,200,250]]"
   ]
  },
  {
   "cell_type": "code",
   "execution_count": 92,
   "id": "c5e30d08",
   "metadata": {
    "ExecuteTime": {
     "end_time": "2024-11-26T05:16:41.747403Z",
     "start_time": "2024-11-26T05:16:41.742416Z"
    }
   },
   "outputs": [],
   "source": [
    "pd.options.display.max_rows = 150 # 커널 재시작시 원상 복귀"
   ]
  },
  {
   "cell_type": "code",
   "execution_count": 93,
   "id": "7561c52d",
   "metadata": {
    "ExecuteTime": {
     "end_time": "2024-11-26T05:16:41.758374Z",
     "start_time": "2024-11-26T05:16:41.749398Z"
    }
   },
   "outputs": [
    {
     "name": "stdout",
     "output_type": "stream",
     "text": [
      "['setosa', 'setosa', 'setosa', 'setosa', 'setosa', 'setosa', 'setosa', 'setosa', 'setosa', 'setosa', 'setosa', 'setosa', 'setosa', 'setosa', 'setosa', 'setosa', 'setosa', 'setosa', 'setosa', 'setosa', 'setosa', 'setosa', 'setosa', 'setosa', 'setosa', 'setosa', 'setosa', 'setosa', 'setosa', 'setosa', 'setosa', 'setosa', 'setosa', 'setosa', 'setosa', 'setosa', 'setosa', 'setosa', 'setosa', 'setosa', 'setosa', 'setosa', 'setosa', 'setosa', 'setosa', 'setosa', 'setosa', 'setosa', 'setosa', 'setosa', 'versicolor', 'versicolor', 'versicolor', 'versicolor', 'versicolor', 'versicolor', 'versicolor', 'versicolor', 'versicolor', 'versicolor', 'versicolor', 'versicolor', 'versicolor', 'versicolor', 'versicolor', 'versicolor', 'versicolor', 'versicolor', 'versicolor', 'versicolor', 'versicolor', 'versicolor', 'versicolor', 'versicolor', 'versicolor', 'versicolor', 'versicolor', 'versicolor', 'versicolor', 'versicolor', 'versicolor', 'versicolor', 'versicolor', 'versicolor', 'versicolor', 'versicolor', 'versicolor', 'versicolor', 'versicolor', 'versicolor', 'versicolor', 'versicolor', 'versicolor', 'versicolor', 'versicolor', 'versicolor', 'versicolor', 'versicolor', 'versicolor', 'versicolor', 'virginica', 'virginica', 'virginica', 'virginica', 'virginica', 'virginica', 'virginica', 'virginica', 'virginica', 'virginica', 'virginica', 'virginica', 'virginica', 'virginica', 'virginica', 'virginica', 'virginica', 'virginica', 'virginica', 'virginica', 'virginica', 'virginica', 'virginica', 'virginica', 'virginica', 'virginica', 'virginica', 'virginica', 'virginica', 'virginica', 'virginica', 'virginica', 'virginica', 'virginica', 'virginica', 'virginica', 'virginica', 'virginica', 'virginica', 'virginica', 'virginica', 'virginica', 'virginica', 'virginica', 'virginica', 'virginica', 'virginica', 'virginica', 'virginica', 'virginica']\n"
     ]
    }
   ],
   "source": [
    "print(['setosa' for i in range(50)] + ['versicolor' for i in range(50)] + \\\n",
    "     ['virginica' for i in range(50)])"
   ]
  },
  {
   "cell_type": "code",
   "execution_count": 94,
   "id": "41ad4dcb",
   "metadata": {
    "ExecuteTime": {
     "end_time": "2024-11-26T05:16:41.780227Z",
     "start_time": "2024-11-26T05:16:41.763360Z"
    }
   },
   "outputs": [
    {
     "data": {
      "text/html": [
       "<div>\n",
       "<style scoped>\n",
       "    .dataframe tbody tr th:only-of-type {\n",
       "        vertical-align: middle;\n",
       "    }\n",
       "\n",
       "    .dataframe tbody tr th {\n",
       "        vertical-align: top;\n",
       "    }\n",
       "\n",
       "    .dataframe thead tr th {\n",
       "        text-align: left;\n",
       "    }\n",
       "</style>\n",
       "<table border=\"1\" class=\"dataframe\">\n",
       "  <thead>\n",
       "    <tr>\n",
       "      <th></th>\n",
       "      <th>sps</th>\n",
       "      <th colspan=\"2\" halign=\"left\">꽃받침</th>\n",
       "      <th colspan=\"2\" halign=\"left\">꽃잎</th>\n",
       "      <th>종</th>\n",
       "    </tr>\n",
       "    <tr>\n",
       "      <th></th>\n",
       "      <th>길이너비</th>\n",
       "      <th>길이</th>\n",
       "      <th>너비</th>\n",
       "      <th>길이</th>\n",
       "      <th>너비</th>\n",
       "      <th>종</th>\n",
       "    </tr>\n",
       "  </thead>\n",
       "  <tbody>\n",
       "    <tr>\n",
       "      <th rowspan=\"2\" valign=\"top\">setosa</th>\n",
       "      <th>0</th>\n",
       "      <td>5.1</td>\n",
       "      <td>3.5</td>\n",
       "      <td>1.4</td>\n",
       "      <td>0.2</td>\n",
       "      <td>setosa</td>\n",
       "    </tr>\n",
       "    <tr>\n",
       "      <th>25</th>\n",
       "      <td>5.0</td>\n",
       "      <td>3.0</td>\n",
       "      <td>1.6</td>\n",
       "      <td>0.2</td>\n",
       "      <td>setosa</td>\n",
       "    </tr>\n",
       "    <tr>\n",
       "      <th rowspan=\"2\" valign=\"top\">versicolor</th>\n",
       "      <th>0</th>\n",
       "      <td>7.0</td>\n",
       "      <td>3.2</td>\n",
       "      <td>4.7</td>\n",
       "      <td>1.4</td>\n",
       "      <td>versicolor</td>\n",
       "    </tr>\n",
       "    <tr>\n",
       "      <th>25</th>\n",
       "      <td>6.6</td>\n",
       "      <td>3.0</td>\n",
       "      <td>4.4</td>\n",
       "      <td>1.4</td>\n",
       "      <td>versicolor</td>\n",
       "    </tr>\n",
       "    <tr>\n",
       "      <th rowspan=\"2\" valign=\"top\">virginica</th>\n",
       "      <th>0</th>\n",
       "      <td>6.3</td>\n",
       "      <td>3.3</td>\n",
       "      <td>6.0</td>\n",
       "      <td>2.5</td>\n",
       "      <td>virginica</td>\n",
       "    </tr>\n",
       "    <tr>\n",
       "      <th>25</th>\n",
       "      <td>7.2</td>\n",
       "      <td>3.2</td>\n",
       "      <td>6.0</td>\n",
       "      <td>1.8</td>\n",
       "      <td>virginica</td>\n",
       "    </tr>\n",
       "  </tbody>\n",
       "</table>\n",
       "</div>"
      ],
      "text/plain": [
       "sps            꽃받침        꽃잎                종\n",
       "길이너비            길이   너비   길이   너비           종\n",
       "setosa     0   5.1  3.5  1.4  0.2      setosa\n",
       "           25  5.0  3.0  1.6  0.2      setosa\n",
       "versicolor 0   7.0  3.2  4.7  1.4  versicolor\n",
       "           25  6.6  3.0  4.4  1.4  versicolor\n",
       "virginica  0   6.3  3.3  6.0  2.5   virginica\n",
       "           25  7.2  3.2  6.0  1.8   virginica"
      ]
     },
     "execution_count": 94,
     "metadata": {},
     "output_type": "execute_result"
    }
   ],
   "source": [
    "iris.index = [['setosa' for i in range(50)] + \n",
    "              ['versicolor' for i in range(50)] + \n",
    "              ['virginica' for i in range(50)],\n",
    "              list(range(50))+list(range(50))+list(range(50))]\n",
    "iris.iloc[[0,25,50,75,100,125]]"
   ]
  },
  {
   "cell_type": "code",
   "execution_count": 95,
   "id": "625e7610",
   "metadata": {
    "ExecuteTime": {
     "end_time": "2024-11-26T05:16:41.787208Z",
     "start_time": "2024-11-26T05:16:41.784216Z"
    }
   },
   "outputs": [],
   "source": [
    "# 피벗테이블 이용시 피벗팅한 결과를 가져올 때 볼 수 있음"
   ]
  },
  {
   "cell_type": "markdown",
   "id": "34cf1094",
   "metadata": {},
   "source": [
    "# 4절. 부분 데이터 조회"
   ]
  },
  {
   "cell_type": "code",
   "execution_count": 96,
   "id": "90a17092",
   "metadata": {
    "ExecuteTime": {
     "end_time": "2024-11-26T05:16:41.803165Z",
     "start_time": "2024-11-26T05:16:41.789203Z"
    }
   },
   "outputs": [
    {
     "data": {
      "text/html": [
       "<div>\n",
       "<style scoped>\n",
       "    .dataframe tbody tr th:only-of-type {\n",
       "        vertical-align: middle;\n",
       "    }\n",
       "\n",
       "    .dataframe tbody tr th {\n",
       "        vertical-align: top;\n",
       "    }\n",
       "\n",
       "    .dataframe thead th {\n",
       "        text-align: right;\n",
       "    }\n",
       "</style>\n",
       "<table border=\"1\" class=\"dataframe\">\n",
       "  <thead>\n",
       "    <tr style=\"text-align: right;\">\n",
       "      <th></th>\n",
       "      <th>Name</th>\n",
       "      <th>Age</th>\n",
       "      <th>Email</th>\n",
       "      <th>Address</th>\n",
       "      <th>Birth</th>\n",
       "    </tr>\n",
       "  </thead>\n",
       "  <tbody>\n",
       "    <tr>\n",
       "      <th>0</th>\n",
       "      <td>홍길동</td>\n",
       "      <td>20</td>\n",
       "      <td>hong@hong.com</td>\n",
       "      <td>서울시 강동구</td>\n",
       "      <td>1999-01-01</td>\n",
       "    </tr>\n",
       "    <tr>\n",
       "      <th>1</th>\n",
       "      <td>홍길서</td>\n",
       "      <td>30</td>\n",
       "      <td>seo@hong.com</td>\n",
       "      <td>서울시 중구</td>\n",
       "      <td>1999-12-01</td>\n",
       "    </tr>\n",
       "    <tr>\n",
       "      <th>2</th>\n",
       "      <td>홍길남</td>\n",
       "      <td>21</td>\n",
       "      <td>nam@hong.com</td>\n",
       "      <td>서울시 강동구</td>\n",
       "      <td>1999-11-01</td>\n",
       "    </tr>\n",
       "    <tr>\n",
       "      <th>3</th>\n",
       "      <td>홍길북</td>\n",
       "      <td>22</td>\n",
       "      <td>buk@hong.com</td>\n",
       "      <td>서울시 관악구</td>\n",
       "      <td>1999-05-01</td>\n",
       "    </tr>\n",
       "    <tr>\n",
       "      <th>4</th>\n",
       "      <td>홍길중</td>\n",
       "      <td>23</td>\n",
       "      <td>mid@hong.com</td>\n",
       "      <td>부산시 중구</td>\n",
       "      <td>1999-01-30</td>\n",
       "    </tr>\n",
       "  </tbody>\n",
       "</table>\n",
       "</div>"
      ],
      "text/plain": [
       "  Name  Age          Email  Address      Birth\n",
       "0  홍길동   20  hong@hong.com  서울시 강동구 1999-01-01\n",
       "1  홍길서   30   seo@hong.com   서울시 중구 1999-12-01\n",
       "2  홍길남   21   nam@hong.com  서울시 강동구 1999-11-01\n",
       "3  홍길북   22   buk@hong.com  서울시 관악구 1999-05-01\n",
       "4  홍길중   23   mid@hong.com   부산시 중구 1999-01-30"
      ]
     },
     "execution_count": 96,
     "metadata": {},
     "output_type": "execute_result"
    }
   ],
   "source": [
    "member = pd.read_csv('data/ch12_member.csv', comment='#', parse_dates=['Birth'])\n",
    "member"
   ]
  },
  {
   "cell_type": "markdown",
   "id": "b0683428",
   "metadata": {},
   "source": [
    "## 4.1 단일 열 조회"
   ]
  },
  {
   "cell_type": "code",
   "execution_count": 97,
   "id": "72c4a79c",
   "metadata": {
    "ExecuteTime": {
     "end_time": "2024-11-26T05:16:41.813138Z",
     "start_time": "2024-11-26T05:16:41.805161Z"
    }
   },
   "outputs": [
    {
     "data": {
      "text/plain": [
       "0    홍길동\n",
       "1    홍길서\n",
       "2    홍길남\n",
       "3    홍길북\n",
       "4    홍길중\n",
       "Name: Name, dtype: object"
      ]
     },
     "execution_count": 97,
     "metadata": {},
     "output_type": "execute_result"
    }
   ],
   "source": [
    "member['Name']\n",
    "member.Name"
   ]
  },
  {
   "cell_type": "code",
   "execution_count": 98,
   "id": "704375e5",
   "metadata": {
    "ExecuteTime": {
     "end_time": "2024-11-26T05:16:41.819122Z",
     "start_time": "2024-11-26T05:16:41.815133Z"
    }
   },
   "outputs": [],
   "source": [
    "# member[0] # 행을 조회할 경우 에러"
   ]
  },
  {
   "cell_type": "markdown",
   "id": "0f078a85",
   "metadata": {},
   "source": [
    "## 4.2 loc을 이용한 조회\n",
    "- df.loc[행이름, 열이름] ; 행이름, 열이름으로 조회, \n",
    "    * 행이름과 열이름 자리에 슬라이싱(from:to)은 from부터 to까지 (from,to포함) \n",
    "    * 행이름과 열이름 자리에 list"
   ]
  },
  {
   "cell_type": "code",
   "execution_count": 99,
   "id": "ad267416",
   "metadata": {
    "ExecuteTime": {
     "end_time": "2024-11-26T05:16:41.836099Z",
     "start_time": "2024-11-26T05:16:41.821117Z"
    }
   },
   "outputs": [
    {
     "data": {
      "text/html": [
       "<div>\n",
       "<style scoped>\n",
       "    .dataframe tbody tr th:only-of-type {\n",
       "        vertical-align: middle;\n",
       "    }\n",
       "\n",
       "    .dataframe tbody tr th {\n",
       "        vertical-align: top;\n",
       "    }\n",
       "\n",
       "    .dataframe thead th {\n",
       "        text-align: right;\n",
       "    }\n",
       "</style>\n",
       "<table border=\"1\" class=\"dataframe\">\n",
       "  <thead>\n",
       "    <tr style=\"text-align: right;\">\n",
       "      <th></th>\n",
       "      <th>Name</th>\n",
       "      <th>Age</th>\n",
       "      <th>Email</th>\n",
       "      <th>Address</th>\n",
       "      <th>Birth</th>\n",
       "    </tr>\n",
       "  </thead>\n",
       "  <tbody>\n",
       "    <tr>\n",
       "      <th>0</th>\n",
       "      <td>홍길동</td>\n",
       "      <td>20</td>\n",
       "      <td>hong@hong.com</td>\n",
       "      <td>서울시 강동구</td>\n",
       "      <td>1999-01-01</td>\n",
       "    </tr>\n",
       "    <tr>\n",
       "      <th>1</th>\n",
       "      <td>홍길서</td>\n",
       "      <td>30</td>\n",
       "      <td>seo@hong.com</td>\n",
       "      <td>서울시 중구</td>\n",
       "      <td>1999-12-01</td>\n",
       "    </tr>\n",
       "    <tr>\n",
       "      <th>2</th>\n",
       "      <td>홍길남</td>\n",
       "      <td>21</td>\n",
       "      <td>nam@hong.com</td>\n",
       "      <td>서울시 강동구</td>\n",
       "      <td>1999-11-01</td>\n",
       "    </tr>\n",
       "  </tbody>\n",
       "</table>\n",
       "</div>"
      ],
      "text/plain": [
       "  Name  Age          Email  Address      Birth\n",
       "0  홍길동   20  hong@hong.com  서울시 강동구 1999-01-01\n",
       "1  홍길서   30   seo@hong.com   서울시 중구 1999-12-01\n",
       "2  홍길남   21   nam@hong.com  서울시 강동구 1999-11-01"
      ]
     },
     "execution_count": 99,
     "metadata": {},
     "output_type": "execute_result"
    }
   ],
   "source": [
    "member.loc[0:2] # 2행포함 , member.loc[0:2, ], member.loc[0:2, :]\n",
    "# 모든 열을 다 출력할 경우 열 생략 가능"
   ]
  },
  {
   "cell_type": "code",
   "execution_count": 100,
   "id": "4b31191d",
   "metadata": {
    "ExecuteTime": {
     "end_time": "2024-11-26T05:16:41.848066Z",
     "start_time": "2024-11-26T05:16:41.838093Z"
    }
   },
   "outputs": [
    {
     "data": {
      "text/html": [
       "<div>\n",
       "<style scoped>\n",
       "    .dataframe tbody tr th:only-of-type {\n",
       "        vertical-align: middle;\n",
       "    }\n",
       "\n",
       "    .dataframe tbody tr th {\n",
       "        vertical-align: top;\n",
       "    }\n",
       "\n",
       "    .dataframe thead th {\n",
       "        text-align: right;\n",
       "    }\n",
       "</style>\n",
       "<table border=\"1\" class=\"dataframe\">\n",
       "  <thead>\n",
       "    <tr style=\"text-align: right;\">\n",
       "      <th></th>\n",
       "      <th>Name</th>\n",
       "      <th>Age</th>\n",
       "      <th>Email</th>\n",
       "      <th>Address</th>\n",
       "      <th>Birth</th>\n",
       "    </tr>\n",
       "  </thead>\n",
       "  <tbody>\n",
       "    <tr>\n",
       "      <th>동</th>\n",
       "      <td>홍길동</td>\n",
       "      <td>20</td>\n",
       "      <td>hong@hong.com</td>\n",
       "      <td>서울시 강동구</td>\n",
       "      <td>1999-01-01</td>\n",
       "    </tr>\n",
       "    <tr>\n",
       "      <th>서</th>\n",
       "      <td>홍길서</td>\n",
       "      <td>30</td>\n",
       "      <td>seo@hong.com</td>\n",
       "      <td>서울시 중구</td>\n",
       "      <td>1999-12-01</td>\n",
       "    </tr>\n",
       "    <tr>\n",
       "      <th>남</th>\n",
       "      <td>홍길남</td>\n",
       "      <td>21</td>\n",
       "      <td>nam@hong.com</td>\n",
       "      <td>서울시 강동구</td>\n",
       "      <td>1999-11-01</td>\n",
       "    </tr>\n",
       "  </tbody>\n",
       "</table>\n",
       "</div>"
      ],
      "text/plain": [
       "  Name  Age          Email  Address      Birth\n",
       "동  홍길동   20  hong@hong.com  서울시 강동구 1999-01-01\n",
       "서  홍길서   30   seo@hong.com   서울시 중구 1999-12-01\n",
       "남  홍길남   21   nam@hong.com  서울시 강동구 1999-11-01"
      ]
     },
     "execution_count": 100,
     "metadata": {},
     "output_type": "execute_result"
    }
   ],
   "source": [
    "member.index = ['동','서','남','북','중']\n",
    "member.loc['동':'남']"
   ]
  },
  {
   "cell_type": "code",
   "execution_count": 101,
   "id": "02c403f3",
   "metadata": {
    "ExecuteTime": {
     "end_time": "2024-11-26T05:16:41.858041Z",
     "start_time": "2024-11-26T05:16:41.850063Z"
    }
   },
   "outputs": [
    {
     "data": {
      "text/html": [
       "<div>\n",
       "<style scoped>\n",
       "    .dataframe tbody tr th:only-of-type {\n",
       "        vertical-align: middle;\n",
       "    }\n",
       "\n",
       "    .dataframe tbody tr th {\n",
       "        vertical-align: top;\n",
       "    }\n",
       "\n",
       "    .dataframe thead th {\n",
       "        text-align: right;\n",
       "    }\n",
       "</style>\n",
       "<table border=\"1\" class=\"dataframe\">\n",
       "  <thead>\n",
       "    <tr style=\"text-align: right;\">\n",
       "      <th></th>\n",
       "      <th>Name</th>\n",
       "      <th>Age</th>\n",
       "      <th>Email</th>\n",
       "    </tr>\n",
       "  </thead>\n",
       "  <tbody>\n",
       "    <tr>\n",
       "      <th>동</th>\n",
       "      <td>홍길동</td>\n",
       "      <td>20</td>\n",
       "      <td>hong@hong.com</td>\n",
       "    </tr>\n",
       "    <tr>\n",
       "      <th>서</th>\n",
       "      <td>홍길서</td>\n",
       "      <td>30</td>\n",
       "      <td>seo@hong.com</td>\n",
       "    </tr>\n",
       "    <tr>\n",
       "      <th>남</th>\n",
       "      <td>홍길남</td>\n",
       "      <td>21</td>\n",
       "      <td>nam@hong.com</td>\n",
       "    </tr>\n",
       "  </tbody>\n",
       "</table>\n",
       "</div>"
      ],
      "text/plain": [
       "  Name  Age          Email\n",
       "동  홍길동   20  hong@hong.com\n",
       "서  홍길서   30   seo@hong.com\n",
       "남  홍길남   21   nam@hong.com"
      ]
     },
     "execution_count": 101,
     "metadata": {},
     "output_type": "execute_result"
    }
   ],
   "source": [
    "# 동~남행까지, Name~Email열까지\n",
    "member.loc['동':'남', 'Name':'Email']"
   ]
  },
  {
   "cell_type": "code",
   "execution_count": 102,
   "id": "c11d0565",
   "metadata": {
    "ExecuteTime": {
     "end_time": "2024-11-26T05:16:41.870008Z",
     "start_time": "2024-11-26T05:16:41.860035Z"
    }
   },
   "outputs": [
    {
     "data": {
      "text/html": [
       "<div>\n",
       "<style scoped>\n",
       "    .dataframe tbody tr th:only-of-type {\n",
       "        vertical-align: middle;\n",
       "    }\n",
       "\n",
       "    .dataframe tbody tr th {\n",
       "        vertical-align: top;\n",
       "    }\n",
       "\n",
       "    .dataframe thead th {\n",
       "        text-align: right;\n",
       "    }\n",
       "</style>\n",
       "<table border=\"1\" class=\"dataframe\">\n",
       "  <thead>\n",
       "    <tr style=\"text-align: right;\">\n",
       "      <th></th>\n",
       "      <th>Name</th>\n",
       "      <th>Age</th>\n",
       "      <th>Email</th>\n",
       "      <th>Address</th>\n",
       "      <th>Birth</th>\n",
       "    </tr>\n",
       "  </thead>\n",
       "  <tbody>\n",
       "    <tr>\n",
       "      <th>동</th>\n",
       "      <td>홍길동</td>\n",
       "      <td>20</td>\n",
       "      <td>hong@hong.com</td>\n",
       "      <td>서울시 강동구</td>\n",
       "      <td>1999-01-01</td>\n",
       "    </tr>\n",
       "    <tr>\n",
       "      <th>남</th>\n",
       "      <td>홍길남</td>\n",
       "      <td>21</td>\n",
       "      <td>nam@hong.com</td>\n",
       "      <td>서울시 강동구</td>\n",
       "      <td>1999-11-01</td>\n",
       "    </tr>\n",
       "  </tbody>\n",
       "</table>\n",
       "</div>"
      ],
      "text/plain": [
       "  Name  Age          Email  Address      Birth\n",
       "동  홍길동   20  hong@hong.com  서울시 강동구 1999-01-01\n",
       "남  홍길남   21   nam@hong.com  서울시 강동구 1999-11-01"
      ]
     },
     "execution_count": 102,
     "metadata": {},
     "output_type": "execute_result"
    }
   ],
   "source": [
    "# 동행과 남행까지\n",
    "member.loc[['동','남']]"
   ]
  },
  {
   "cell_type": "code",
   "execution_count": 103,
   "id": "5e5d22a6",
   "metadata": {
    "ExecuteTime": {
     "end_time": "2024-11-26T05:16:41.880979Z",
     "start_time": "2024-11-26T05:16:41.872003Z"
    }
   },
   "outputs": [
    {
     "data": {
      "text/html": [
       "<div>\n",
       "<style scoped>\n",
       "    .dataframe tbody tr th:only-of-type {\n",
       "        vertical-align: middle;\n",
       "    }\n",
       "\n",
       "    .dataframe tbody tr th {\n",
       "        vertical-align: top;\n",
       "    }\n",
       "\n",
       "    .dataframe thead th {\n",
       "        text-align: right;\n",
       "    }\n",
       "</style>\n",
       "<table border=\"1\" class=\"dataframe\">\n",
       "  <thead>\n",
       "    <tr style=\"text-align: right;\">\n",
       "      <th></th>\n",
       "      <th>Name</th>\n",
       "      <th>Email</th>\n",
       "    </tr>\n",
       "  </thead>\n",
       "  <tbody>\n",
       "    <tr>\n",
       "      <th>동</th>\n",
       "      <td>홍길동</td>\n",
       "      <td>hong@hong.com</td>\n",
       "    </tr>\n",
       "    <tr>\n",
       "      <th>남</th>\n",
       "      <td>홍길남</td>\n",
       "      <td>nam@hong.com</td>\n",
       "    </tr>\n",
       "  </tbody>\n",
       "</table>\n",
       "</div>"
      ],
      "text/plain": [
       "  Name          Email\n",
       "동  홍길동  hong@hong.com\n",
       "남  홍길남   nam@hong.com"
      ]
     },
     "execution_count": 103,
     "metadata": {},
     "output_type": "execute_result"
    }
   ],
   "source": [
    "# 동행과 남행까지, Name열과 Email열까지\n",
    "member.loc[['동','남'] , ['Name','Email']]"
   ]
  },
  {
   "cell_type": "code",
   "execution_count": 104,
   "id": "994f3283",
   "metadata": {
    "ExecuteTime": {
     "end_time": "2024-11-26T05:16:41.887960Z",
     "start_time": "2024-11-26T05:16:41.881976Z"
    }
   },
   "outputs": [
    {
     "data": {
      "text/plain": [
       "('홍길동', str)"
      ]
     },
     "execution_count": 104,
     "metadata": {},
     "output_type": "execute_result"
    }
   ],
   "source": [
    "member.loc['동','Name'], type(member.loc['동','Name'])"
   ]
  },
  {
   "cell_type": "code",
   "execution_count": 105,
   "id": "c15e5962",
   "metadata": {
    "ExecuteTime": {
     "end_time": "2024-11-26T05:16:41.896936Z",
     "start_time": "2024-11-26T05:16:41.889955Z"
    }
   },
   "outputs": [
    {
     "data": {
      "text/plain": [
       "(Name                       홍길동\n",
       " Age                         20\n",
       " Email            hong@hong.com\n",
       " Address                서울시 강동구\n",
       " Birth      1999-01-01 00:00:00\n",
       " Name: 동, dtype: object,\n",
       " pandas.core.series.Series)"
      ]
     },
     "execution_count": 105,
     "metadata": {},
     "output_type": "execute_result"
    }
   ],
   "source": [
    "member.loc['동'], type(member.loc['동']) # 한행의 결과 1차원 시리즈"
   ]
  },
  {
   "cell_type": "code",
   "execution_count": 106,
   "id": "6fc79d38",
   "metadata": {
    "ExecuteTime": {
     "end_time": "2024-11-26T05:16:41.904915Z",
     "start_time": "2024-11-26T05:16:41.898932Z"
    }
   },
   "outputs": [
    {
     "data": {
      "text/plain": [
       "동    홍길동\n",
       "서    홍길서\n",
       "남    홍길남\n",
       "북    홍길북\n",
       "중    홍길중\n",
       "Name: Name, dtype: object"
      ]
     },
     "execution_count": 106,
     "metadata": {},
     "output_type": "execute_result"
    }
   ],
   "source": [
    "member.loc[:, 'Name']"
   ]
  },
  {
   "cell_type": "code",
   "execution_count": 107,
   "id": "3617ff17",
   "metadata": {
    "ExecuteTime": {
     "end_time": "2024-11-26T05:16:41.913890Z",
     "start_time": "2024-11-26T05:16:41.906910Z"
    }
   },
   "outputs": [
    {
     "data": {
      "text/plain": [
       "(동    홍길동\n",
       " 서    홍길서\n",
       " 남    홍길남\n",
       " 북    홍길북\n",
       " 중    홍길중\n",
       " Name: Name, dtype: object,\n",
       " pandas.core.series.Series)"
      ]
     },
     "execution_count": 107,
     "metadata": {},
     "output_type": "execute_result"
    }
   ],
   "source": [
    "# member.loc['Name']\n",
    "member['Name'], type(member['Name'])"
   ]
  },
  {
   "cell_type": "markdown",
   "id": "9e14dfa2",
   "metadata": {},
   "source": [
    "## 4.3 iloc을 이용한 조회\n",
    "- df.iloc[행번호, 열번호]\n",
    "    * 열번호 생략시 모든 열 조회\n",
    "    * 행번호, 열번호 자리에 list, 슬라이싱 [from:stop:by] : from부터 stop앞까지 by씩"
   ]
  },
  {
   "cell_type": "code",
   "execution_count": 108,
   "id": "559eb7f0",
   "metadata": {
    "ExecuteTime": {
     "end_time": "2024-11-26T05:16:41.923864Z",
     "start_time": "2024-11-26T05:16:41.915885Z"
    }
   },
   "outputs": [
    {
     "data": {
      "text/html": [
       "<div>\n",
       "<style scoped>\n",
       "    .dataframe tbody tr th:only-of-type {\n",
       "        vertical-align: middle;\n",
       "    }\n",
       "\n",
       "    .dataframe tbody tr th {\n",
       "        vertical-align: top;\n",
       "    }\n",
       "\n",
       "    .dataframe thead th {\n",
       "        text-align: right;\n",
       "    }\n",
       "</style>\n",
       "<table border=\"1\" class=\"dataframe\">\n",
       "  <thead>\n",
       "    <tr style=\"text-align: right;\">\n",
       "      <th></th>\n",
       "      <th>Name</th>\n",
       "      <th>Age</th>\n",
       "      <th>Email</th>\n",
       "      <th>Address</th>\n",
       "      <th>Birth</th>\n",
       "    </tr>\n",
       "  </thead>\n",
       "  <tbody>\n",
       "    <tr>\n",
       "      <th>동</th>\n",
       "      <td>홍길동</td>\n",
       "      <td>20</td>\n",
       "      <td>hong@hong.com</td>\n",
       "      <td>서울시 강동구</td>\n",
       "      <td>1999-01-01</td>\n",
       "    </tr>\n",
       "    <tr>\n",
       "      <th>서</th>\n",
       "      <td>홍길서</td>\n",
       "      <td>30</td>\n",
       "      <td>seo@hong.com</td>\n",
       "      <td>서울시 중구</td>\n",
       "      <td>1999-12-01</td>\n",
       "    </tr>\n",
       "    <tr>\n",
       "      <th>남</th>\n",
       "      <td>홍길남</td>\n",
       "      <td>21</td>\n",
       "      <td>nam@hong.com</td>\n",
       "      <td>서울시 강동구</td>\n",
       "      <td>1999-11-01</td>\n",
       "    </tr>\n",
       "    <tr>\n",
       "      <th>북</th>\n",
       "      <td>홍길북</td>\n",
       "      <td>22</td>\n",
       "      <td>buk@hong.com</td>\n",
       "      <td>서울시 관악구</td>\n",
       "      <td>1999-05-01</td>\n",
       "    </tr>\n",
       "    <tr>\n",
       "      <th>중</th>\n",
       "      <td>홍길중</td>\n",
       "      <td>23</td>\n",
       "      <td>mid@hong.com</td>\n",
       "      <td>부산시 중구</td>\n",
       "      <td>1999-01-30</td>\n",
       "    </tr>\n",
       "  </tbody>\n",
       "</table>\n",
       "</div>"
      ],
      "text/plain": [
       "  Name  Age          Email  Address      Birth\n",
       "동  홍길동   20  hong@hong.com  서울시 강동구 1999-01-01\n",
       "서  홍길서   30   seo@hong.com   서울시 중구 1999-12-01\n",
       "남  홍길남   21   nam@hong.com  서울시 강동구 1999-11-01\n",
       "북  홍길북   22   buk@hong.com  서울시 관악구 1999-05-01\n",
       "중  홍길중   23   mid@hong.com   부산시 중구 1999-01-30"
      ]
     },
     "execution_count": 108,
     "metadata": {},
     "output_type": "execute_result"
    }
   ],
   "source": [
    "member"
   ]
  },
  {
   "cell_type": "code",
   "execution_count": 109,
   "id": "79e46c24",
   "metadata": {
    "ExecuteTime": {
     "end_time": "2024-11-26T05:16:41.934836Z",
     "start_time": "2024-11-26T05:16:41.925859Z"
    }
   },
   "outputs": [
    {
     "data": {
      "text/html": [
       "<div>\n",
       "<style scoped>\n",
       "    .dataframe tbody tr th:only-of-type {\n",
       "        vertical-align: middle;\n",
       "    }\n",
       "\n",
       "    .dataframe tbody tr th {\n",
       "        vertical-align: top;\n",
       "    }\n",
       "\n",
       "    .dataframe thead th {\n",
       "        text-align: right;\n",
       "    }\n",
       "</style>\n",
       "<table border=\"1\" class=\"dataframe\">\n",
       "  <thead>\n",
       "    <tr style=\"text-align: right;\">\n",
       "      <th></th>\n",
       "      <th>Name</th>\n",
       "      <th>Age</th>\n",
       "      <th>Email</th>\n",
       "      <th>Address</th>\n",
       "      <th>Birth</th>\n",
       "    </tr>\n",
       "  </thead>\n",
       "  <tbody>\n",
       "    <tr>\n",
       "      <th>남</th>\n",
       "      <td>홍길남</td>\n",
       "      <td>21</td>\n",
       "      <td>nam@hong.com</td>\n",
       "      <td>서울시 강동구</td>\n",
       "      <td>1999-11-01</td>\n",
       "    </tr>\n",
       "    <tr>\n",
       "      <th>북</th>\n",
       "      <td>홍길북</td>\n",
       "      <td>22</td>\n",
       "      <td>buk@hong.com</td>\n",
       "      <td>서울시 관악구</td>\n",
       "      <td>1999-05-01</td>\n",
       "    </tr>\n",
       "  </tbody>\n",
       "</table>\n",
       "</div>"
      ],
      "text/plain": [
       "  Name  Age         Email  Address      Birth\n",
       "남  홍길남   21  nam@hong.com  서울시 강동구 1999-11-01\n",
       "북  홍길북   22  buk@hong.com  서울시 관악구 1999-05-01"
      ]
     },
     "execution_count": 109,
     "metadata": {},
     "output_type": "execute_result"
    }
   ],
   "source": [
    "# 2번째~3번째행 (열번호 생략시 모든 열 출력)\n",
    "member.iloc[2:4]"
   ]
  },
  {
   "cell_type": "code",
   "execution_count": 110,
   "id": "2603a0c8",
   "metadata": {
    "ExecuteTime": {
     "end_time": "2024-11-26T05:16:41.942813Z",
     "start_time": "2024-11-26T05:16:41.936830Z"
    }
   },
   "outputs": [
    {
     "data": {
      "text/plain": [
       "Name                       홍길동\n",
       "Age                         20\n",
       "Email            hong@hong.com\n",
       "Address                서울시 강동구\n",
       "Birth      1999-01-01 00:00:00\n",
       "Name: 동, dtype: object"
      ]
     },
     "execution_count": 110,
     "metadata": {},
     "output_type": "execute_result"
    }
   ],
   "source": [
    "member.iloc[0] # 1차원 시리즈"
   ]
  },
  {
   "cell_type": "code",
   "execution_count": 111,
   "id": "0fb41b58",
   "metadata": {
    "ExecuteTime": {
     "end_time": "2024-11-26T05:16:41.951789Z",
     "start_time": "2024-11-26T05:16:41.945806Z"
    }
   },
   "outputs": [
    {
     "data": {
      "text/plain": [
       "'홍길동'"
      ]
     },
     "execution_count": 111,
     "metadata": {},
     "output_type": "execute_result"
    }
   ],
   "source": [
    "member.iloc[0,0]"
   ]
  },
  {
   "cell_type": "code",
   "execution_count": 112,
   "id": "e51e988c",
   "metadata": {
    "ExecuteTime": {
     "end_time": "2024-11-26T05:16:41.961763Z",
     "start_time": "2024-11-26T05:16:41.953785Z"
    }
   },
   "outputs": [
    {
     "data": {
      "text/html": [
       "<div>\n",
       "<style scoped>\n",
       "    .dataframe tbody tr th:only-of-type {\n",
       "        vertical-align: middle;\n",
       "    }\n",
       "\n",
       "    .dataframe tbody tr th {\n",
       "        vertical-align: top;\n",
       "    }\n",
       "\n",
       "    .dataframe thead th {\n",
       "        text-align: right;\n",
       "    }\n",
       "</style>\n",
       "<table border=\"1\" class=\"dataframe\">\n",
       "  <thead>\n",
       "    <tr style=\"text-align: right;\">\n",
       "      <th></th>\n",
       "      <th>Age</th>\n",
       "      <th>Email</th>\n",
       "      <th>Address</th>\n",
       "    </tr>\n",
       "  </thead>\n",
       "  <tbody>\n",
       "    <tr>\n",
       "      <th>동</th>\n",
       "      <td>20</td>\n",
       "      <td>hong@hong.com</td>\n",
       "      <td>서울시 강동구</td>\n",
       "    </tr>\n",
       "    <tr>\n",
       "      <th>서</th>\n",
       "      <td>30</td>\n",
       "      <td>seo@hong.com</td>\n",
       "      <td>서울시 중구</td>\n",
       "    </tr>\n",
       "    <tr>\n",
       "      <th>남</th>\n",
       "      <td>21</td>\n",
       "      <td>nam@hong.com</td>\n",
       "      <td>서울시 강동구</td>\n",
       "    </tr>\n",
       "  </tbody>\n",
       "</table>\n",
       "</div>"
      ],
      "text/plain": [
       "   Age          Email  Address\n",
       "동   20  hong@hong.com  서울시 강동구\n",
       "서   30   seo@hong.com   서울시 중구\n",
       "남   21   nam@hong.com  서울시 강동구"
      ]
     },
     "execution_count": 112,
     "metadata": {},
     "output_type": "execute_result"
    }
   ],
   "source": [
    "# 0번째~2번째 행, 1번째~3번째 열\n",
    "member.iloc[0:3,1:4]"
   ]
  },
  {
   "cell_type": "code",
   "execution_count": 113,
   "id": "39987f3f",
   "metadata": {
    "ExecuteTime": {
     "end_time": "2024-11-26T05:16:41.971736Z",
     "start_time": "2024-11-26T05:16:41.963758Z"
    }
   },
   "outputs": [
    {
     "data": {
      "text/html": [
       "<div>\n",
       "<style scoped>\n",
       "    .dataframe tbody tr th:only-of-type {\n",
       "        vertical-align: middle;\n",
       "    }\n",
       "\n",
       "    .dataframe tbody tr th {\n",
       "        vertical-align: top;\n",
       "    }\n",
       "\n",
       "    .dataframe thead th {\n",
       "        text-align: right;\n",
       "    }\n",
       "</style>\n",
       "<table border=\"1\" class=\"dataframe\">\n",
       "  <thead>\n",
       "    <tr style=\"text-align: right;\">\n",
       "      <th></th>\n",
       "      <th>Name</th>\n",
       "      <th>Age</th>\n",
       "      <th>Email</th>\n",
       "      <th>Address</th>\n",
       "    </tr>\n",
       "  </thead>\n",
       "  <tbody>\n",
       "    <tr>\n",
       "      <th>동</th>\n",
       "      <td>홍길동</td>\n",
       "      <td>20</td>\n",
       "      <td>hong@hong.com</td>\n",
       "      <td>서울시 강동구</td>\n",
       "    </tr>\n",
       "    <tr>\n",
       "      <th>남</th>\n",
       "      <td>홍길남</td>\n",
       "      <td>21</td>\n",
       "      <td>nam@hong.com</td>\n",
       "      <td>서울시 강동구</td>\n",
       "    </tr>\n",
       "    <tr>\n",
       "      <th>중</th>\n",
       "      <td>홍길중</td>\n",
       "      <td>23</td>\n",
       "      <td>mid@hong.com</td>\n",
       "      <td>부산시 중구</td>\n",
       "    </tr>\n",
       "  </tbody>\n",
       "</table>\n",
       "</div>"
      ],
      "text/plain": [
       "  Name  Age          Email  Address\n",
       "동  홍길동   20  hong@hong.com  서울시 강동구\n",
       "남  홍길남   21   nam@hong.com  서울시 강동구\n",
       "중  홍길중   23   mid@hong.com   부산시 중구"
      ]
     },
     "execution_count": 113,
     "metadata": {},
     "output_type": "execute_result"
    }
   ],
   "source": [
    "# 짝수번째 행의 맨 마지막 열을 제외하고 출력\n",
    "member.iloc[::2, :-1]"
   ]
  },
  {
   "cell_type": "code",
   "execution_count": 114,
   "id": "05ece44d",
   "metadata": {
    "ExecuteTime": {
     "end_time": "2024-11-26T05:16:41.982706Z",
     "start_time": "2024-11-26T05:16:41.973731Z"
    }
   },
   "outputs": [
    {
     "data": {
      "text/html": [
       "<div>\n",
       "<style scoped>\n",
       "    .dataframe tbody tr th:only-of-type {\n",
       "        vertical-align: middle;\n",
       "    }\n",
       "\n",
       "    .dataframe tbody tr th {\n",
       "        vertical-align: top;\n",
       "    }\n",
       "\n",
       "    .dataframe thead th {\n",
       "        text-align: right;\n",
       "    }\n",
       "</style>\n",
       "<table border=\"1\" class=\"dataframe\">\n",
       "  <thead>\n",
       "    <tr style=\"text-align: right;\">\n",
       "      <th></th>\n",
       "      <th>Name</th>\n",
       "      <th>Age</th>\n",
       "      <th>Email</th>\n",
       "      <th>Address</th>\n",
       "      <th>Birth</th>\n",
       "    </tr>\n",
       "  </thead>\n",
       "  <tbody>\n",
       "    <tr>\n",
       "      <th>중</th>\n",
       "      <td>홍길중</td>\n",
       "      <td>23</td>\n",
       "      <td>mid@hong.com</td>\n",
       "      <td>부산시 중구</td>\n",
       "      <td>1999-01-30</td>\n",
       "    </tr>\n",
       "    <tr>\n",
       "      <th>북</th>\n",
       "      <td>홍길북</td>\n",
       "      <td>22</td>\n",
       "      <td>buk@hong.com</td>\n",
       "      <td>서울시 관악구</td>\n",
       "      <td>1999-05-01</td>\n",
       "    </tr>\n",
       "    <tr>\n",
       "      <th>남</th>\n",
       "      <td>홍길남</td>\n",
       "      <td>21</td>\n",
       "      <td>nam@hong.com</td>\n",
       "      <td>서울시 강동구</td>\n",
       "      <td>1999-11-01</td>\n",
       "    </tr>\n",
       "    <tr>\n",
       "      <th>서</th>\n",
       "      <td>홍길서</td>\n",
       "      <td>30</td>\n",
       "      <td>seo@hong.com</td>\n",
       "      <td>서울시 중구</td>\n",
       "      <td>1999-12-01</td>\n",
       "    </tr>\n",
       "    <tr>\n",
       "      <th>동</th>\n",
       "      <td>홍길동</td>\n",
       "      <td>20</td>\n",
       "      <td>hong@hong.com</td>\n",
       "      <td>서울시 강동구</td>\n",
       "      <td>1999-01-01</td>\n",
       "    </tr>\n",
       "  </tbody>\n",
       "</table>\n",
       "</div>"
      ],
      "text/plain": [
       "  Name  Age          Email  Address      Birth\n",
       "중  홍길중   23   mid@hong.com   부산시 중구 1999-01-30\n",
       "북  홍길북   22   buk@hong.com  서울시 관악구 1999-05-01\n",
       "남  홍길남   21   nam@hong.com  서울시 강동구 1999-11-01\n",
       "서  홍길서   30   seo@hong.com   서울시 중구 1999-12-01\n",
       "동  홍길동   20  hong@hong.com  서울시 강동구 1999-01-01"
      ]
     },
     "execution_count": 114,
     "metadata": {},
     "output_type": "execute_result"
    }
   ],
   "source": [
    "# 마지막행부터 처음행까지 꺼꾸로 출력\n",
    "member.iloc[::-1]"
   ]
  },
  {
   "cell_type": "code",
   "execution_count": 115,
   "id": "f359b19a",
   "metadata": {
    "ExecuteTime": {
     "end_time": "2024-11-26T05:16:41.991683Z",
     "start_time": "2024-11-26T05:16:41.984702Z"
    }
   },
   "outputs": [
    {
     "data": {
      "text/html": [
       "<div>\n",
       "<style scoped>\n",
       "    .dataframe tbody tr th:only-of-type {\n",
       "        vertical-align: middle;\n",
       "    }\n",
       "\n",
       "    .dataframe tbody tr th {\n",
       "        vertical-align: top;\n",
       "    }\n",
       "\n",
       "    .dataframe thead th {\n",
       "        text-align: right;\n",
       "    }\n",
       "</style>\n",
       "<table border=\"1\" class=\"dataframe\">\n",
       "  <thead>\n",
       "    <tr style=\"text-align: right;\">\n",
       "      <th></th>\n",
       "      <th>Age</th>\n",
       "      <th>Address</th>\n",
       "    </tr>\n",
       "  </thead>\n",
       "  <tbody>\n",
       "    <tr>\n",
       "      <th>동</th>\n",
       "      <td>20</td>\n",
       "      <td>서울시 강동구</td>\n",
       "    </tr>\n",
       "    <tr>\n",
       "      <th>남</th>\n",
       "      <td>21</td>\n",
       "      <td>서울시 강동구</td>\n",
       "    </tr>\n",
       "  </tbody>\n",
       "</table>\n",
       "</div>"
      ],
      "text/plain": [
       "   Age  Address\n",
       "동   20  서울시 강동구\n",
       "남   21  서울시 강동구"
      ]
     },
     "execution_count": 115,
     "metadata": {},
     "output_type": "execute_result"
    }
   ],
   "source": [
    "# 0번째와 2번째행, 1번째와 3번째 열\n",
    "member.iloc[[0,2],[1,3]]"
   ]
  },
  {
   "cell_type": "code",
   "execution_count": 116,
   "id": "8ac64d16",
   "metadata": {
    "ExecuteTime": {
     "end_time": "2024-11-26T05:16:42.000659Z",
     "start_time": "2024-11-26T05:16:41.993677Z"
    }
   },
   "outputs": [
    {
     "data": {
      "text/plain": [
       "Name           홍길동\n",
       "Address    서울시 강동구\n",
       "Name: 동, dtype: object"
      ]
     },
     "execution_count": 116,
     "metadata": {},
     "output_type": "execute_result"
    }
   ],
   "source": [
    "# 0번째 행의 0번째, 3번째 열\n",
    "member.iloc[0,[0,3]]"
   ]
  },
  {
   "cell_type": "markdown",
   "id": "c6fbb814",
   "metadata": {},
   "source": [
    "## 4.4 조건으로 조회하기"
   ]
  },
  {
   "cell_type": "code",
   "execution_count": 117,
   "id": "bac49538",
   "metadata": {
    "ExecuteTime": {
     "end_time": "2024-11-26T05:16:42.010632Z",
     "start_time": "2024-11-26T05:16:42.002654Z"
    }
   },
   "outputs": [
    {
     "data": {
      "text/html": [
       "<div>\n",
       "<style scoped>\n",
       "    .dataframe tbody tr th:only-of-type {\n",
       "        vertical-align: middle;\n",
       "    }\n",
       "\n",
       "    .dataframe tbody tr th {\n",
       "        vertical-align: top;\n",
       "    }\n",
       "\n",
       "    .dataframe thead th {\n",
       "        text-align: right;\n",
       "    }\n",
       "</style>\n",
       "<table border=\"1\" class=\"dataframe\">\n",
       "  <thead>\n",
       "    <tr style=\"text-align: right;\">\n",
       "      <th></th>\n",
       "      <th>Name</th>\n",
       "      <th>Age</th>\n",
       "      <th>Email</th>\n",
       "      <th>Address</th>\n",
       "      <th>Birth</th>\n",
       "    </tr>\n",
       "  </thead>\n",
       "  <tbody>\n",
       "    <tr>\n",
       "      <th>동</th>\n",
       "      <td>홍길동</td>\n",
       "      <td>20</td>\n",
       "      <td>hong@hong.com</td>\n",
       "      <td>서울시 강동구</td>\n",
       "      <td>1999-01-01</td>\n",
       "    </tr>\n",
       "    <tr>\n",
       "      <th>서</th>\n",
       "      <td>홍길서</td>\n",
       "      <td>30</td>\n",
       "      <td>seo@hong.com</td>\n",
       "      <td>서울시 중구</td>\n",
       "      <td>1999-12-01</td>\n",
       "    </tr>\n",
       "    <tr>\n",
       "      <th>남</th>\n",
       "      <td>홍길남</td>\n",
       "      <td>21</td>\n",
       "      <td>nam@hong.com</td>\n",
       "      <td>서울시 강동구</td>\n",
       "      <td>1999-11-01</td>\n",
       "    </tr>\n",
       "    <tr>\n",
       "      <th>북</th>\n",
       "      <td>홍길북</td>\n",
       "      <td>22</td>\n",
       "      <td>buk@hong.com</td>\n",
       "      <td>서울시 관악구</td>\n",
       "      <td>1999-05-01</td>\n",
       "    </tr>\n",
       "    <tr>\n",
       "      <th>중</th>\n",
       "      <td>홍길중</td>\n",
       "      <td>23</td>\n",
       "      <td>mid@hong.com</td>\n",
       "      <td>부산시 중구</td>\n",
       "      <td>1999-01-30</td>\n",
       "    </tr>\n",
       "  </tbody>\n",
       "</table>\n",
       "</div>"
      ],
      "text/plain": [
       "  Name  Age          Email  Address      Birth\n",
       "동  홍길동   20  hong@hong.com  서울시 강동구 1999-01-01\n",
       "서  홍길서   30   seo@hong.com   서울시 중구 1999-12-01\n",
       "남  홍길남   21   nam@hong.com  서울시 강동구 1999-11-01\n",
       "북  홍길북   22   buk@hong.com  서울시 관악구 1999-05-01\n",
       "중  홍길중   23   mid@hong.com   부산시 중구 1999-01-30"
      ]
     },
     "execution_count": 117,
     "metadata": {},
     "output_type": "execute_result"
    }
   ],
   "source": [
    "member"
   ]
  },
  {
   "cell_type": "code",
   "execution_count": 118,
   "id": "fe2e520f",
   "metadata": {
    "ExecuteTime": {
     "end_time": "2024-11-26T05:16:42.019609Z",
     "start_time": "2024-11-26T05:16:42.013624Z"
    }
   },
   "outputs": [
    {
     "data": {
      "text/plain": [
       "동    False\n",
       "서     True\n",
       "남    False\n",
       "북    False\n",
       "중     True\n",
       "Name: Age, dtype: bool"
      ]
     },
     "execution_count": 118,
     "metadata": {},
     "output_type": "execute_result"
    }
   ],
   "source": [
    "member['Age']>=23"
   ]
  },
  {
   "cell_type": "code",
   "execution_count": 119,
   "id": "bea0f4c5",
   "metadata": {
    "ExecuteTime": {
     "end_time": "2024-11-26T05:16:42.033571Z",
     "start_time": "2024-11-26T05:16:42.020605Z"
    }
   },
   "outputs": [
    {
     "data": {
      "text/html": [
       "<div>\n",
       "<style scoped>\n",
       "    .dataframe tbody tr th:only-of-type {\n",
       "        vertical-align: middle;\n",
       "    }\n",
       "\n",
       "    .dataframe tbody tr th {\n",
       "        vertical-align: top;\n",
       "    }\n",
       "\n",
       "    .dataframe thead th {\n",
       "        text-align: right;\n",
       "    }\n",
       "</style>\n",
       "<table border=\"1\" class=\"dataframe\">\n",
       "  <thead>\n",
       "    <tr style=\"text-align: right;\">\n",
       "      <th></th>\n",
       "      <th>Name</th>\n",
       "      <th>Age</th>\n",
       "      <th>Email</th>\n",
       "      <th>Address</th>\n",
       "      <th>Birth</th>\n",
       "    </tr>\n",
       "  </thead>\n",
       "  <tbody>\n",
       "    <tr>\n",
       "      <th>동</th>\n",
       "      <td>홍길동</td>\n",
       "      <td>20</td>\n",
       "      <td>hong@hong.com</td>\n",
       "      <td>서울시 강동구</td>\n",
       "      <td>1999-01-01</td>\n",
       "    </tr>\n",
       "  </tbody>\n",
       "</table>\n",
       "</div>"
      ],
      "text/plain": [
       "  Name  Age          Email  Address      Birth\n",
       "동  홍길동   20  hong@hong.com  서울시 강동구 1999-01-01"
      ]
     },
     "execution_count": 119,
     "metadata": {},
     "output_type": "execute_result"
    }
   ],
   "source": [
    "member.loc[[True,False,False,False,False], :]"
   ]
  },
  {
   "cell_type": "code",
   "execution_count": 120,
   "id": "a96105fa",
   "metadata": {
    "ExecuteTime": {
     "end_time": "2024-11-26T05:16:42.059501Z",
     "start_time": "2024-11-26T05:16:42.049528Z"
    }
   },
   "outputs": [
    {
     "data": {
      "text/html": [
       "<div>\n",
       "<style scoped>\n",
       "    .dataframe tbody tr th:only-of-type {\n",
       "        vertical-align: middle;\n",
       "    }\n",
       "\n",
       "    .dataframe tbody tr th {\n",
       "        vertical-align: top;\n",
       "    }\n",
       "\n",
       "    .dataframe thead th {\n",
       "        text-align: right;\n",
       "    }\n",
       "</style>\n",
       "<table border=\"1\" class=\"dataframe\">\n",
       "  <thead>\n",
       "    <tr style=\"text-align: right;\">\n",
       "      <th></th>\n",
       "      <th>Name</th>\n",
       "      <th>Age</th>\n",
       "      <th>Email</th>\n",
       "      <th>Address</th>\n",
       "      <th>Birth</th>\n",
       "    </tr>\n",
       "  </thead>\n",
       "  <tbody>\n",
       "    <tr>\n",
       "      <th>서</th>\n",
       "      <td>홍길서</td>\n",
       "      <td>30</td>\n",
       "      <td>seo@hong.com</td>\n",
       "      <td>서울시 중구</td>\n",
       "      <td>1999-12-01</td>\n",
       "    </tr>\n",
       "    <tr>\n",
       "      <th>중</th>\n",
       "      <td>홍길중</td>\n",
       "      <td>23</td>\n",
       "      <td>mid@hong.com</td>\n",
       "      <td>부산시 중구</td>\n",
       "      <td>1999-01-30</td>\n",
       "    </tr>\n",
       "  </tbody>\n",
       "</table>\n",
       "</div>"
      ],
      "text/plain": [
       "  Name  Age         Email Address      Birth\n",
       "서  홍길서   30  seo@hong.com  서울시 중구 1999-12-01\n",
       "중  홍길중   23  mid@hong.com  부산시 중구 1999-01-30"
      ]
     },
     "execution_count": 120,
     "metadata": {},
     "output_type": "execute_result"
    }
   ],
   "source": [
    "# 23세 이상의 데이터만 조회 (아래는 모두 동일한 결과)\n",
    "member.loc[member['Age']>=23, :]\n",
    "member.loc[member['Age']>=23]\n",
    "member[member['Age']>=23]"
   ]
  },
  {
   "cell_type": "code",
   "execution_count": 121,
   "id": "15f1c97d",
   "metadata": {
    "ExecuteTime": {
     "end_time": "2024-11-26T05:16:42.072467Z",
     "start_time": "2024-11-26T05:16:42.062494Z"
    }
   },
   "outputs": [
    {
     "data": {
      "text/html": [
       "<div>\n",
       "<style scoped>\n",
       "    .dataframe tbody tr th:only-of-type {\n",
       "        vertical-align: middle;\n",
       "    }\n",
       "\n",
       "    .dataframe tbody tr th {\n",
       "        vertical-align: top;\n",
       "    }\n",
       "\n",
       "    .dataframe thead th {\n",
       "        text-align: right;\n",
       "    }\n",
       "</style>\n",
       "<table border=\"1\" class=\"dataframe\">\n",
       "  <thead>\n",
       "    <tr style=\"text-align: right;\">\n",
       "      <th></th>\n",
       "      <th>Name</th>\n",
       "      <th>Age</th>\n",
       "      <th>Email</th>\n",
       "    </tr>\n",
       "  </thead>\n",
       "  <tbody>\n",
       "    <tr>\n",
       "      <th>서</th>\n",
       "      <td>홍길서</td>\n",
       "      <td>30</td>\n",
       "      <td>seo@hong.com</td>\n",
       "    </tr>\n",
       "    <tr>\n",
       "      <th>중</th>\n",
       "      <td>홍길중</td>\n",
       "      <td>23</td>\n",
       "      <td>mid@hong.com</td>\n",
       "    </tr>\n",
       "  </tbody>\n",
       "</table>\n",
       "</div>"
      ],
      "text/plain": [
       "  Name  Age         Email\n",
       "서  홍길서   30  seo@hong.com\n",
       "중  홍길중   23  mid@hong.com"
      ]
     },
     "execution_count": 121,
     "metadata": {},
     "output_type": "execute_result"
    }
   ],
   "source": [
    "# 23세 이상의 Name,Age,Email\n",
    "member.loc[member['Age']>=23, ['Name','Age','Email']]\n",
    "member.loc[member['Age']>=23, 'Name':'Email']"
   ]
  },
  {
   "cell_type": "code",
   "execution_count": 122,
   "id": "62e50efc",
   "metadata": {
    "ExecuteTime": {
     "end_time": "2024-11-26T05:16:42.084434Z",
     "start_time": "2024-11-26T05:16:42.074462Z"
    }
   },
   "outputs": [
    {
     "data": {
      "text/html": [
       "<div>\n",
       "<style scoped>\n",
       "    .dataframe tbody tr th:only-of-type {\n",
       "        vertical-align: middle;\n",
       "    }\n",
       "\n",
       "    .dataframe tbody tr th {\n",
       "        vertical-align: top;\n",
       "    }\n",
       "\n",
       "    .dataframe thead th {\n",
       "        text-align: right;\n",
       "    }\n",
       "</style>\n",
       "<table border=\"1\" class=\"dataframe\">\n",
       "  <thead>\n",
       "    <tr style=\"text-align: right;\">\n",
       "      <th></th>\n",
       "      <th>Name</th>\n",
       "      <th>Age</th>\n",
       "      <th>Address</th>\n",
       "    </tr>\n",
       "  </thead>\n",
       "  <tbody>\n",
       "    <tr>\n",
       "      <th>서</th>\n",
       "      <td>홍길서</td>\n",
       "      <td>30</td>\n",
       "      <td>서울시 중구</td>\n",
       "    </tr>\n",
       "    <tr>\n",
       "      <th>중</th>\n",
       "      <td>홍길중</td>\n",
       "      <td>23</td>\n",
       "      <td>부산시 중구</td>\n",
       "    </tr>\n",
       "  </tbody>\n",
       "</table>\n",
       "</div>"
      ],
      "text/plain": [
       "  Name  Age Address\n",
       "서  홍길서   30  서울시 중구\n",
       "중  홍길중   23  부산시 중구"
      ]
     },
     "execution_count": 122,
     "metadata": {},
     "output_type": "execute_result"
    }
   ],
   "source": [
    "# 23세 이상의 Name,Age,Address\n",
    "member.loc[member['Age']>=23, ['Name','Age','Address']]"
   ]
  },
  {
   "cell_type": "code",
   "execution_count": 123,
   "id": "99c044f8",
   "metadata": {
    "ExecuteTime": {
     "end_time": "2024-11-26T05:16:42.094410Z",
     "start_time": "2024-11-26T05:16:42.085432Z"
    }
   },
   "outputs": [
    {
     "data": {
      "text/html": [
       "<div>\n",
       "<style scoped>\n",
       "    .dataframe tbody tr th:only-of-type {\n",
       "        vertical-align: middle;\n",
       "    }\n",
       "\n",
       "    .dataframe tbody tr th {\n",
       "        vertical-align: top;\n",
       "    }\n",
       "\n",
       "    .dataframe thead th {\n",
       "        text-align: right;\n",
       "    }\n",
       "</style>\n",
       "<table border=\"1\" class=\"dataframe\">\n",
       "  <thead>\n",
       "    <tr style=\"text-align: right;\">\n",
       "      <th></th>\n",
       "      <th>Name</th>\n",
       "      <th>Age</th>\n",
       "      <th>Email</th>\n",
       "      <th>Address</th>\n",
       "      <th>Birth</th>\n",
       "    </tr>\n",
       "  </thead>\n",
       "  <tbody>\n",
       "    <tr>\n",
       "      <th>동</th>\n",
       "      <td>홍길동</td>\n",
       "      <td>20</td>\n",
       "      <td>hong@hong.com</td>\n",
       "      <td>서울시 강동구</td>\n",
       "      <td>1999-01-01</td>\n",
       "    </tr>\n",
       "    <tr>\n",
       "      <th>남</th>\n",
       "      <td>홍길남</td>\n",
       "      <td>21</td>\n",
       "      <td>nam@hong.com</td>\n",
       "      <td>서울시 강동구</td>\n",
       "      <td>1999-11-01</td>\n",
       "    </tr>\n",
       "    <tr>\n",
       "      <th>북</th>\n",
       "      <td>홍길북</td>\n",
       "      <td>22</td>\n",
       "      <td>buk@hong.com</td>\n",
       "      <td>서울시 관악구</td>\n",
       "      <td>1999-05-01</td>\n",
       "    </tr>\n",
       "  </tbody>\n",
       "</table>\n",
       "</div>"
      ],
      "text/plain": [
       "  Name  Age          Email  Address      Birth\n",
       "동  홍길동   20  hong@hong.com  서울시 강동구 1999-01-01\n",
       "남  홍길남   21   nam@hong.com  서울시 강동구 1999-11-01\n",
       "북  홍길북   22   buk@hong.com  서울시 관악구 1999-05-01"
      ]
     },
     "execution_count": 123,
     "metadata": {},
     "output_type": "execute_result"
    }
   ],
   "source": [
    "# 23세 이상의 (~) 반대\n",
    "member[~(member['Age']>=23)]"
   ]
  },
  {
   "cell_type": "code",
   "execution_count": null,
   "id": "f4cbe9ca",
   "metadata": {
    "ExecuteTime": {
     "end_time": "2024-11-26T02:00:43.697617Z",
     "start_time": "2024-11-26T02:00:43.691620Z"
    }
   },
   "outputs": [],
   "source": []
  },
  {
   "cell_type": "markdown",
   "id": "3621816e",
   "metadata": {},
   "source": [
    "**시리즈에 문자함수를 쓰기 위해 참조:\n",
    "https://pandas.pydata.org/pandas-docs/stable/reference/series.html#string-handling**"
   ]
  },
  {
   "cell_type": "code",
   "execution_count": 124,
   "id": "6883c3db",
   "metadata": {
    "ExecuteTime": {
     "end_time": "2024-11-26T05:16:42.104382Z",
     "start_time": "2024-11-26T05:16:42.096403Z"
    }
   },
   "outputs": [
    {
     "data": {
      "text/plain": [
       "동    False\n",
       "서     True\n",
       "남    False\n",
       "북    False\n",
       "중     True\n",
       "Name: Address, dtype: bool"
      ]
     },
     "execution_count": 124,
     "metadata": {},
     "output_type": "execute_result"
    }
   ],
   "source": [
    "member['Address'].str.find('중구') != -1"
   ]
  },
  {
   "cell_type": "code",
   "execution_count": 125,
   "id": "69ee07bd",
   "metadata": {
    "ExecuteTime": {
     "end_time": "2024-11-26T05:16:42.119342Z",
     "start_time": "2024-11-26T05:16:42.107374Z"
    }
   },
   "outputs": [
    {
     "data": {
      "text/html": [
       "<div>\n",
       "<style scoped>\n",
       "    .dataframe tbody tr th:only-of-type {\n",
       "        vertical-align: middle;\n",
       "    }\n",
       "\n",
       "    .dataframe tbody tr th {\n",
       "        vertical-align: top;\n",
       "    }\n",
       "\n",
       "    .dataframe thead th {\n",
       "        text-align: right;\n",
       "    }\n",
       "</style>\n",
       "<table border=\"1\" class=\"dataframe\">\n",
       "  <thead>\n",
       "    <tr style=\"text-align: right;\">\n",
       "      <th></th>\n",
       "      <th>Name</th>\n",
       "      <th>Age</th>\n",
       "      <th>Email</th>\n",
       "      <th>Address</th>\n",
       "      <th>Birth</th>\n",
       "    </tr>\n",
       "  </thead>\n",
       "  <tbody>\n",
       "    <tr>\n",
       "      <th>서</th>\n",
       "      <td>홍길서</td>\n",
       "      <td>30</td>\n",
       "      <td>seo@hong.com</td>\n",
       "      <td>서울시 중구</td>\n",
       "      <td>1999-12-01</td>\n",
       "    </tr>\n",
       "    <tr>\n",
       "      <th>중</th>\n",
       "      <td>홍길중</td>\n",
       "      <td>23</td>\n",
       "      <td>mid@hong.com</td>\n",
       "      <td>부산시 중구</td>\n",
       "      <td>1999-01-30</td>\n",
       "    </tr>\n",
       "  </tbody>\n",
       "</table>\n",
       "</div>"
      ],
      "text/plain": [
       "  Name  Age         Email Address      Birth\n",
       "서  홍길서   30  seo@hong.com  서울시 중구 1999-12-01\n",
       "중  홍길중   23  mid@hong.com  부산시 중구 1999-01-30"
      ]
     },
     "execution_count": 125,
     "metadata": {},
     "output_type": "execute_result"
    }
   ],
   "source": [
    "# Address가 중구를 포함하는 데이터\n",
    "member[member['Address'].str.find('중구') != -1]\n",
    "member.loc[member['Address'].str.find('중구') != -1]"
   ]
  },
  {
   "cell_type": "code",
   "execution_count": 126,
   "id": "de4f77fc",
   "metadata": {
    "ExecuteTime": {
     "end_time": "2024-11-26T05:16:42.131309Z",
     "start_time": "2024-11-26T05:16:42.120338Z"
    }
   },
   "outputs": [
    {
     "data": {
      "text/html": [
       "<div>\n",
       "<style scoped>\n",
       "    .dataframe tbody tr th:only-of-type {\n",
       "        vertical-align: middle;\n",
       "    }\n",
       "\n",
       "    .dataframe tbody tr th {\n",
       "        vertical-align: top;\n",
       "    }\n",
       "\n",
       "    .dataframe thead th {\n",
       "        text-align: right;\n",
       "    }\n",
       "</style>\n",
       "<table border=\"1\" class=\"dataframe\">\n",
       "  <thead>\n",
       "    <tr style=\"text-align: right;\">\n",
       "      <th></th>\n",
       "      <th>Name</th>\n",
       "      <th>Age</th>\n",
       "      <th>Email</th>\n",
       "      <th>Address</th>\n",
       "      <th>Birth</th>\n",
       "    </tr>\n",
       "  </thead>\n",
       "  <tbody>\n",
       "    <tr>\n",
       "      <th>서</th>\n",
       "      <td>홍길서</td>\n",
       "      <td>30</td>\n",
       "      <td>seo@hong.com</td>\n",
       "      <td>서울시 중구</td>\n",
       "      <td>1999-12-01</td>\n",
       "    </tr>\n",
       "    <tr>\n",
       "      <th>중</th>\n",
       "      <td>홍길중</td>\n",
       "      <td>23</td>\n",
       "      <td>mid@hong.com</td>\n",
       "      <td>부산시 중구</td>\n",
       "      <td>1999-01-30</td>\n",
       "    </tr>\n",
       "  </tbody>\n",
       "</table>\n",
       "</div>"
      ],
      "text/plain": [
       "  Name  Age         Email Address      Birth\n",
       "서  홍길서   30  seo@hong.com  서울시 중구 1999-12-01\n",
       "중  홍길중   23  mid@hong.com  부산시 중구 1999-01-30"
      ]
     },
     "execution_count": 126,
     "metadata": {},
     "output_type": "execute_result"
    }
   ],
   "source": [
    "member[member['Address'].str.contains('중구')]\n",
    "member.loc[member['Address'].str.contains('중구')]"
   ]
  },
  {
   "cell_type": "code",
   "execution_count": 127,
   "id": "06bedc7f",
   "metadata": {
    "ExecuteTime": {
     "end_time": "2024-11-26T05:16:42.142280Z",
     "start_time": "2024-11-26T05:16:42.133305Z"
    }
   },
   "outputs": [
    {
     "data": {
      "text/html": [
       "<div>\n",
       "<style scoped>\n",
       "    .dataframe tbody tr th:only-of-type {\n",
       "        vertical-align: middle;\n",
       "    }\n",
       "\n",
       "    .dataframe tbody tr th {\n",
       "        vertical-align: top;\n",
       "    }\n",
       "\n",
       "    .dataframe thead th {\n",
       "        text-align: right;\n",
       "    }\n",
       "</style>\n",
       "<table border=\"1\" class=\"dataframe\">\n",
       "  <thead>\n",
       "    <tr style=\"text-align: right;\">\n",
       "      <th></th>\n",
       "      <th>Name</th>\n",
       "      <th>Address</th>\n",
       "      <th>Birth</th>\n",
       "    </tr>\n",
       "  </thead>\n",
       "  <tbody>\n",
       "    <tr>\n",
       "      <th>서</th>\n",
       "      <td>홍길서</td>\n",
       "      <td>서울시 중구</td>\n",
       "      <td>1999-12-01</td>\n",
       "    </tr>\n",
       "    <tr>\n",
       "      <th>중</th>\n",
       "      <td>홍길중</td>\n",
       "      <td>부산시 중구</td>\n",
       "      <td>1999-01-30</td>\n",
       "    </tr>\n",
       "  </tbody>\n",
       "</table>\n",
       "</div>"
      ],
      "text/plain": [
       "  Name Address      Birth\n",
       "서  홍길서  서울시 중구 1999-12-01\n",
       "중  홍길중  부산시 중구 1999-01-30"
      ]
     },
     "execution_count": 127,
     "metadata": {},
     "output_type": "execute_result"
    }
   ],
   "source": [
    "#중구 데이터의 Name, Address, Birth\n",
    "member.loc[member['Address'].str.contains('중구'), ['Name', 'Address', 'Birth']]"
   ]
  },
  {
   "cell_type": "code",
   "execution_count": 128,
   "id": "d01f9c5d",
   "metadata": {
    "ExecuteTime": {
     "end_time": "2024-11-26T05:16:42.154249Z",
     "start_time": "2024-11-26T05:16:42.145272Z"
    }
   },
   "outputs": [
    {
     "data": {
      "text/html": [
       "<div>\n",
       "<style scoped>\n",
       "    .dataframe tbody tr th:only-of-type {\n",
       "        vertical-align: middle;\n",
       "    }\n",
       "\n",
       "    .dataframe tbody tr th {\n",
       "        vertical-align: top;\n",
       "    }\n",
       "\n",
       "    .dataframe thead th {\n",
       "        text-align: right;\n",
       "    }\n",
       "</style>\n",
       "<table border=\"1\" class=\"dataframe\">\n",
       "  <thead>\n",
       "    <tr style=\"text-align: right;\">\n",
       "      <th></th>\n",
       "      <th>Name</th>\n",
       "      <th>Age</th>\n",
       "      <th>Email</th>\n",
       "      <th>Address</th>\n",
       "      <th>Birth</th>\n",
       "    </tr>\n",
       "  </thead>\n",
       "  <tbody>\n",
       "    <tr>\n",
       "      <th>동</th>\n",
       "      <td>홍길동</td>\n",
       "      <td>20</td>\n",
       "      <td>hong@hong.com</td>\n",
       "      <td>서울시 강동구</td>\n",
       "      <td>1999-01-01</td>\n",
       "    </tr>\n",
       "    <tr>\n",
       "      <th>서</th>\n",
       "      <td>홍길서</td>\n",
       "      <td>30</td>\n",
       "      <td>seo@hong.com</td>\n",
       "      <td>서울시 중구</td>\n",
       "      <td>1999-12-01</td>\n",
       "    </tr>\n",
       "    <tr>\n",
       "      <th>남</th>\n",
       "      <td>홍길남</td>\n",
       "      <td>21</td>\n",
       "      <td>nam@hong.com</td>\n",
       "      <td>서울시 강동구</td>\n",
       "      <td>1999-11-01</td>\n",
       "    </tr>\n",
       "    <tr>\n",
       "      <th>북</th>\n",
       "      <td>홍길북</td>\n",
       "      <td>22</td>\n",
       "      <td>buk@hong.com</td>\n",
       "      <td>서울시 관악구</td>\n",
       "      <td>1999-05-01</td>\n",
       "    </tr>\n",
       "  </tbody>\n",
       "</table>\n",
       "</div>"
      ],
      "text/plain": [
       "  Name  Age          Email  Address      Birth\n",
       "동  홍길동   20  hong@hong.com  서울시 강동구 1999-01-01\n",
       "서  홍길서   30   seo@hong.com   서울시 중구 1999-12-01\n",
       "남  홍길남   21   nam@hong.com  서울시 강동구 1999-11-01\n",
       "북  홍길북   22   buk@hong.com  서울시 관악구 1999-05-01"
      ]
     },
     "execution_count": 128,
     "metadata": {},
     "output_type": "execute_result"
    }
   ],
   "source": [
    "# Address가 서울로 시작하는 데이터\n",
    "member[member['Address'].str.startswith('서울')]\n",
    "member.loc[member['Address'].str.startswith('서울')]"
   ]
  },
  {
   "cell_type": "code",
   "execution_count": 129,
   "id": "d0df96bc",
   "metadata": {
    "ExecuteTime": {
     "end_time": "2024-11-26T05:16:42.166216Z",
     "start_time": "2024-11-26T05:16:42.156243Z"
    }
   },
   "outputs": [
    {
     "data": {
      "text/html": [
       "<div>\n",
       "<style scoped>\n",
       "    .dataframe tbody tr th:only-of-type {\n",
       "        vertical-align: middle;\n",
       "    }\n",
       "\n",
       "    .dataframe tbody tr th {\n",
       "        vertical-align: top;\n",
       "    }\n",
       "\n",
       "    .dataframe thead th {\n",
       "        text-align: right;\n",
       "    }\n",
       "</style>\n",
       "<table border=\"1\" class=\"dataframe\">\n",
       "  <thead>\n",
       "    <tr style=\"text-align: right;\">\n",
       "      <th></th>\n",
       "      <th>Name</th>\n",
       "      <th>Age</th>\n",
       "      <th>Email</th>\n",
       "      <th>Address</th>\n",
       "      <th>Birth</th>\n",
       "    </tr>\n",
       "  </thead>\n",
       "  <tbody>\n",
       "    <tr>\n",
       "      <th>중</th>\n",
       "      <td>홍길중</td>\n",
       "      <td>23</td>\n",
       "      <td>mid@hong.com</td>\n",
       "      <td>부산시 중구</td>\n",
       "      <td>1999-01-30</td>\n",
       "    </tr>\n",
       "  </tbody>\n",
       "</table>\n",
       "</div>"
      ],
      "text/plain": [
       "  Name  Age         Email Address      Birth\n",
       "중  홍길중   23  mid@hong.com  부산시 중구 1999-01-30"
      ]
     },
     "execution_count": 129,
     "metadata": {},
     "output_type": "execute_result"
    }
   ],
   "source": [
    "# Address가 서울로 시작하지 않는 데이터\n",
    "member[~(member['Address'].str.startswith('서울'))]\n",
    "member.loc[~(member['Address'].str.startswith('서울'))]"
   ]
  },
  {
   "cell_type": "code",
   "execution_count": 130,
   "id": "1d10963d",
   "metadata": {
    "ExecuteTime": {
     "end_time": "2024-11-26T05:16:42.177187Z",
     "start_time": "2024-11-26T05:16:42.168212Z"
    }
   },
   "outputs": [
    {
     "data": {
      "text/html": [
       "<div>\n",
       "<style scoped>\n",
       "    .dataframe tbody tr th:only-of-type {\n",
       "        vertical-align: middle;\n",
       "    }\n",
       "\n",
       "    .dataframe tbody tr th {\n",
       "        vertical-align: top;\n",
       "    }\n",
       "\n",
       "    .dataframe thead th {\n",
       "        text-align: right;\n",
       "    }\n",
       "</style>\n",
       "<table border=\"1\" class=\"dataframe\">\n",
       "  <thead>\n",
       "    <tr style=\"text-align: right;\">\n",
       "      <th></th>\n",
       "      <th>Name</th>\n",
       "      <th>Age</th>\n",
       "      <th>Email</th>\n",
       "      <th>Address</th>\n",
       "      <th>Birth</th>\n",
       "    </tr>\n",
       "  </thead>\n",
       "  <tbody>\n",
       "    <tr>\n",
       "      <th>동</th>\n",
       "      <td>홍길동</td>\n",
       "      <td>20</td>\n",
       "      <td>hong@hong.com</td>\n",
       "      <td>서울시 강동구</td>\n",
       "      <td>1999-01-01</td>\n",
       "    </tr>\n",
       "    <tr>\n",
       "      <th>남</th>\n",
       "      <td>홍길남</td>\n",
       "      <td>21</td>\n",
       "      <td>nam@hong.com</td>\n",
       "      <td>서울시 강동구</td>\n",
       "      <td>1999-11-01</td>\n",
       "    </tr>\n",
       "  </tbody>\n",
       "</table>\n",
       "</div>"
      ],
      "text/plain": [
       "  Name  Age          Email  Address      Birth\n",
       "동  홍길동   20  hong@hong.com  서울시 강동구 1999-01-01\n",
       "남  홍길남   21   nam@hong.com  서울시 강동구 1999-11-01"
      ]
     },
     "execution_count": 130,
     "metadata": {},
     "output_type": "execute_result"
    }
   ],
   "source": [
    "# 이름이 '홍길동'이거나 '홍길남'인 데이터 모든 열\n",
    "member[member['Name'].isin(['홍길동','홍길남'])]\n",
    "member.loc[member['Name'].isin(['홍길동','홍길남'])]"
   ]
  },
  {
   "cell_type": "code",
   "execution_count": 131,
   "id": "8f7bfe2e",
   "metadata": {
    "ExecuteTime": {
     "end_time": "2024-11-26T05:16:42.189155Z",
     "start_time": "2024-11-26T05:16:42.180179Z"
    }
   },
   "outputs": [
    {
     "data": {
      "text/html": [
       "<div>\n",
       "<style scoped>\n",
       "    .dataframe tbody tr th:only-of-type {\n",
       "        vertical-align: middle;\n",
       "    }\n",
       "\n",
       "    .dataframe tbody tr th {\n",
       "        vertical-align: top;\n",
       "    }\n",
       "\n",
       "    .dataframe thead th {\n",
       "        text-align: right;\n",
       "    }\n",
       "</style>\n",
       "<table border=\"1\" class=\"dataframe\">\n",
       "  <thead>\n",
       "    <tr style=\"text-align: right;\">\n",
       "      <th></th>\n",
       "      <th>Address</th>\n",
       "      <th>Birth</th>\n",
       "    </tr>\n",
       "  </thead>\n",
       "  <tbody>\n",
       "    <tr>\n",
       "      <th>동</th>\n",
       "      <td>서울시 강동구</td>\n",
       "      <td>1999-01-01</td>\n",
       "    </tr>\n",
       "    <tr>\n",
       "      <th>남</th>\n",
       "      <td>서울시 강동구</td>\n",
       "      <td>1999-11-01</td>\n",
       "    </tr>\n",
       "  </tbody>\n",
       "</table>\n",
       "</div>"
      ],
      "text/plain": [
       "   Address      Birth\n",
       "동  서울시 강동구 1999-01-01\n",
       "남  서울시 강동구 1999-11-01"
      ]
     },
     "execution_count": 131,
     "metadata": {},
     "output_type": "execute_result"
    }
   ],
   "source": [
    "# 이름이 '홍길동'이거나 '홍길남'인 데이터 Address, Birth\n",
    "member.loc[member['Name'].isin(['홍길동','홍길남']), ['Address','Birth']]\n",
    "member.loc[member['Name'].isin(['홍길동','홍길남']), 'Address':'Birth']"
   ]
  },
  {
   "cell_type": "code",
   "execution_count": 132,
   "id": "cf880d8f",
   "metadata": {
    "ExecuteTime": {
     "end_time": "2024-11-26T05:16:42.201123Z",
     "start_time": "2024-11-26T05:16:42.190152Z"
    }
   },
   "outputs": [
    {
     "data": {
      "text/html": [
       "<div>\n",
       "<style scoped>\n",
       "    .dataframe tbody tr th:only-of-type {\n",
       "        vertical-align: middle;\n",
       "    }\n",
       "\n",
       "    .dataframe tbody tr th {\n",
       "        vertical-align: top;\n",
       "    }\n",
       "\n",
       "    .dataframe thead th {\n",
       "        text-align: right;\n",
       "    }\n",
       "</style>\n",
       "<table border=\"1\" class=\"dataframe\">\n",
       "  <thead>\n",
       "    <tr style=\"text-align: right;\">\n",
       "      <th></th>\n",
       "      <th>Name</th>\n",
       "      <th>Age</th>\n",
       "      <th>Email</th>\n",
       "      <th>Address</th>\n",
       "      <th>Birth</th>\n",
       "    </tr>\n",
       "  </thead>\n",
       "  <tbody>\n",
       "    <tr>\n",
       "      <th>동</th>\n",
       "      <td>홍길동</td>\n",
       "      <td>20</td>\n",
       "      <td>hong@hong.com</td>\n",
       "      <td>서울시 강동구</td>\n",
       "      <td>1999-01-01</td>\n",
       "    </tr>\n",
       "    <tr>\n",
       "      <th>중</th>\n",
       "      <td>홍길중</td>\n",
       "      <td>23</td>\n",
       "      <td>mid@hong.com</td>\n",
       "      <td>부산시 중구</td>\n",
       "      <td>1999-01-30</td>\n",
       "    </tr>\n",
       "  </tbody>\n",
       "</table>\n",
       "</div>"
      ],
      "text/plain": [
       "  Name  Age          Email  Address      Birth\n",
       "동  홍길동   20  hong@hong.com  서울시 강동구 1999-01-01\n",
       "중  홍길중   23   mid@hong.com   부산시 중구 1999-01-30"
      ]
     },
     "execution_count": 132,
     "metadata": {},
     "output_type": "execute_result"
    }
   ],
   "source": [
    "# 1월이 생일인 데이터\n",
    "member.loc[member['Birth'].dt.month == 1]\n",
    "member[member['Birth'].dt.month == 1]"
   ]
  },
  {
   "cell_type": "code",
   "execution_count": null,
   "id": "58b887a9",
   "metadata": {
    "ExecuteTime": {
     "end_time": "2024-11-26T02:20:26.197986Z",
     "start_time": "2024-11-26T02:20:26.190983Z"
    }
   },
   "outputs": [],
   "source": []
  },
  {
   "cell_type": "code",
   "execution_count": 133,
   "id": "dfd0f542",
   "metadata": {
    "ExecuteTime": {
     "end_time": "2024-11-26T05:16:42.214088Z",
     "start_time": "2024-11-26T05:16:42.203118Z"
    }
   },
   "outputs": [
    {
     "data": {
      "text/html": [
       "<div>\n",
       "<style scoped>\n",
       "    .dataframe tbody tr th:only-of-type {\n",
       "        vertical-align: middle;\n",
       "    }\n",
       "\n",
       "    .dataframe tbody tr th {\n",
       "        vertical-align: top;\n",
       "    }\n",
       "\n",
       "    .dataframe thead th {\n",
       "        text-align: right;\n",
       "    }\n",
       "</style>\n",
       "<table border=\"1\" class=\"dataframe\">\n",
       "  <thead>\n",
       "    <tr style=\"text-align: right;\">\n",
       "      <th></th>\n",
       "      <th>Name</th>\n",
       "      <th>Age</th>\n",
       "      <th>Email</th>\n",
       "      <th>Address</th>\n",
       "      <th>Birth</th>\n",
       "    </tr>\n",
       "  </thead>\n",
       "  <tbody>\n",
       "    <tr>\n",
       "      <th>0</th>\n",
       "      <td>홍길동</td>\n",
       "      <td>20</td>\n",
       "      <td>NaN</td>\n",
       "      <td>서울시 강동구</td>\n",
       "      <td>1999-01-01</td>\n",
       "    </tr>\n",
       "    <tr>\n",
       "      <th>1</th>\n",
       "      <td>홍길서</td>\n",
       "      <td>30</td>\n",
       "      <td>seo@hong.com</td>\n",
       "      <td>서울시 중구</td>\n",
       "      <td>1999-12-01</td>\n",
       "    </tr>\n",
       "    <tr>\n",
       "      <th>2</th>\n",
       "      <td>홍길남</td>\n",
       "      <td>21</td>\n",
       "      <td>nam@hong.com</td>\n",
       "      <td>서울시 강동구</td>\n",
       "      <td>1999-11-01</td>\n",
       "    </tr>\n",
       "    <tr>\n",
       "      <th>3</th>\n",
       "      <td>홍길북</td>\n",
       "      <td>22</td>\n",
       "      <td>NaN</td>\n",
       "      <td>서울시 관악구</td>\n",
       "      <td>1999-05-01</td>\n",
       "    </tr>\n",
       "    <tr>\n",
       "      <th>4</th>\n",
       "      <td>홍길중</td>\n",
       "      <td>23</td>\n",
       "      <td>mid@hong.com</td>\n",
       "      <td>부산시 중구</td>\n",
       "      <td>1999-01-30</td>\n",
       "    </tr>\n",
       "  </tbody>\n",
       "</table>\n",
       "</div>"
      ],
      "text/plain": [
       "  Name  Age         Email  Address       Birth\n",
       "0  홍길동   20           NaN  서울시 강동구  1999-01-01\n",
       "1  홍길서   30  seo@hong.com   서울시 중구  1999-12-01\n",
       "2  홍길남   21  nam@hong.com  서울시 강동구  1999-11-01\n",
       "3  홍길북   22           NaN  서울시 관악구  1999-05-01\n",
       "4  홍길중   23  mid@hong.com   부산시 중구  1999-01-30"
      ]
     },
     "execution_count": 133,
     "metadata": {},
     "output_type": "execute_result"
    }
   ],
   "source": [
    "member = pd.read_csv('data/ch12_member.csv', comment='#')\n",
    "member.loc[[0,3], 'Email'] = np.nan\n",
    "member"
   ]
  },
  {
   "cell_type": "code",
   "execution_count": 134,
   "id": "7acdf20d",
   "metadata": {
    "ExecuteTime": {
     "end_time": "2024-11-26T05:16:42.224062Z",
     "start_time": "2024-11-26T05:16:42.215085Z"
    }
   },
   "outputs": [
    {
     "name": "stdout",
     "output_type": "stream",
     "text": [
      "<class 'pandas.core.frame.DataFrame'>\n",
      "RangeIndex: 5 entries, 0 to 4\n",
      "Data columns (total 5 columns):\n",
      " #   Column   Non-Null Count  Dtype \n",
      "---  ------   --------------  ----- \n",
      " 0   Name     5 non-null      object\n",
      " 1   Age      5 non-null      int64 \n",
      " 2   Email    3 non-null      object\n",
      " 3   Address  5 non-null      object\n",
      " 4   Birth    5 non-null      object\n",
      "dtypes: int64(1), object(4)\n",
      "memory usage: 328.0+ bytes\n"
     ]
    }
   ],
   "source": [
    "member.info()"
   ]
  },
  {
   "cell_type": "code",
   "execution_count": 135,
   "id": "4337cc36",
   "metadata": {
    "ExecuteTime": {
     "end_time": "2024-11-26T05:16:42.238024Z",
     "start_time": "2024-11-26T05:16:42.226057Z"
    }
   },
   "outputs": [
    {
     "data": {
      "text/html": [
       "<div>\n",
       "<style scoped>\n",
       "    .dataframe tbody tr th:only-of-type {\n",
       "        vertical-align: middle;\n",
       "    }\n",
       "\n",
       "    .dataframe tbody tr th {\n",
       "        vertical-align: top;\n",
       "    }\n",
       "\n",
       "    .dataframe thead th {\n",
       "        text-align: right;\n",
       "    }\n",
       "</style>\n",
       "<table border=\"1\" class=\"dataframe\">\n",
       "  <thead>\n",
       "    <tr style=\"text-align: right;\">\n",
       "      <th></th>\n",
       "      <th>Name</th>\n",
       "      <th>Age</th>\n",
       "      <th>Email</th>\n",
       "      <th>Address</th>\n",
       "      <th>Birth</th>\n",
       "    </tr>\n",
       "  </thead>\n",
       "  <tbody>\n",
       "    <tr>\n",
       "      <th>0</th>\n",
       "      <td>False</td>\n",
       "      <td>False</td>\n",
       "      <td>True</td>\n",
       "      <td>False</td>\n",
       "      <td>False</td>\n",
       "    </tr>\n",
       "    <tr>\n",
       "      <th>1</th>\n",
       "      <td>False</td>\n",
       "      <td>False</td>\n",
       "      <td>False</td>\n",
       "      <td>False</td>\n",
       "      <td>False</td>\n",
       "    </tr>\n",
       "    <tr>\n",
       "      <th>2</th>\n",
       "      <td>False</td>\n",
       "      <td>False</td>\n",
       "      <td>False</td>\n",
       "      <td>False</td>\n",
       "      <td>False</td>\n",
       "    </tr>\n",
       "    <tr>\n",
       "      <th>3</th>\n",
       "      <td>False</td>\n",
       "      <td>False</td>\n",
       "      <td>True</td>\n",
       "      <td>False</td>\n",
       "      <td>False</td>\n",
       "    </tr>\n",
       "    <tr>\n",
       "      <th>4</th>\n",
       "      <td>False</td>\n",
       "      <td>False</td>\n",
       "      <td>False</td>\n",
       "      <td>False</td>\n",
       "      <td>False</td>\n",
       "    </tr>\n",
       "  </tbody>\n",
       "</table>\n",
       "</div>"
      ],
      "text/plain": [
       "    Name    Age  Email  Address  Birth\n",
       "0  False  False   True    False  False\n",
       "1  False  False  False    False  False\n",
       "2  False  False  False    False  False\n",
       "3  False  False   True    False  False\n",
       "4  False  False  False    False  False"
      ]
     },
     "execution_count": 135,
     "metadata": {},
     "output_type": "execute_result"
    }
   ],
   "source": [
    "member.isna() # 결측치 여부"
   ]
  },
  {
   "cell_type": "code",
   "execution_count": 136,
   "id": "0e05c40b",
   "metadata": {
    "ExecuteTime": {
     "end_time": "2024-11-26T05:16:42.245006Z",
     "start_time": "2024-11-26T05:16:42.240019Z"
    }
   },
   "outputs": [
    {
     "data": {
      "text/plain": [
       "(2, 0)"
      ]
     },
     "execution_count": 136,
     "metadata": {},
     "output_type": "execute_result"
    }
   ],
   "source": [
    "True + True, False + False"
   ]
  },
  {
   "cell_type": "code",
   "execution_count": 137,
   "id": "97dba311",
   "metadata": {
    "ExecuteTime": {
     "end_time": "2024-11-26T05:16:42.253981Z",
     "start_time": "2024-11-26T05:16:42.247998Z"
    }
   },
   "outputs": [
    {
     "data": {
      "text/plain": [
       "Name       0\n",
       "Age        0\n",
       "Email      2\n",
       "Address    0\n",
       "Birth      0\n",
       "dtype: int64"
      ]
     },
     "execution_count": 137,
     "metadata": {},
     "output_type": "execute_result"
    }
   ],
   "source": [
    "member.isna().sum() # 각 열의 결측치 갯수"
   ]
  },
  {
   "cell_type": "code",
   "execution_count": 138,
   "id": "f152cfc5",
   "metadata": {
    "ExecuteTime": {
     "end_time": "2024-11-26T05:16:42.263955Z",
     "start_time": "2024-11-26T05:16:42.255977Z"
    }
   },
   "outputs": [
    {
     "data": {
      "text/html": [
       "<div>\n",
       "<style scoped>\n",
       "    .dataframe tbody tr th:only-of-type {\n",
       "        vertical-align: middle;\n",
       "    }\n",
       "\n",
       "    .dataframe tbody tr th {\n",
       "        vertical-align: top;\n",
       "    }\n",
       "\n",
       "    .dataframe thead th {\n",
       "        text-align: right;\n",
       "    }\n",
       "</style>\n",
       "<table border=\"1\" class=\"dataframe\">\n",
       "  <thead>\n",
       "    <tr style=\"text-align: right;\">\n",
       "      <th></th>\n",
       "      <th>eng</th>\n",
       "      <th>mat</th>\n",
       "    </tr>\n",
       "  </thead>\n",
       "  <tbody>\n",
       "    <tr>\n",
       "      <th>0</th>\n",
       "      <td>100</td>\n",
       "      <td>100</td>\n",
       "    </tr>\n",
       "    <tr>\n",
       "      <th>1</th>\n",
       "      <td>80</td>\n",
       "      <td>90</td>\n",
       "    </tr>\n",
       "    <tr>\n",
       "      <th>2</th>\n",
       "      <td>90</td>\n",
       "      <td>60</td>\n",
       "    </tr>\n",
       "  </tbody>\n",
       "</table>\n",
       "</div>"
      ],
      "text/plain": [
       "   eng  mat\n",
       "0  100  100\n",
       "1   80   90\n",
       "2   90   60"
      ]
     },
     "execution_count": 138,
     "metadata": {},
     "output_type": "execute_result"
    }
   ],
   "source": [
    "# 조건 연산자를 이용해서 데이터 추출(조건2개)\n",
    "data = pd.DataFrame({'eng':[100,80,90], 'mat':[100,90,60]})\n",
    "data"
   ]
  },
  {
   "cell_type": "code",
   "execution_count": 139,
   "id": "9a74398f",
   "metadata": {
    "ExecuteTime": {
     "end_time": "2024-11-26T05:16:42.272930Z",
     "start_time": "2024-11-26T05:16:42.265950Z"
    }
   },
   "outputs": [
    {
     "data": {
      "text/html": [
       "<div>\n",
       "<style scoped>\n",
       "    .dataframe tbody tr th:only-of-type {\n",
       "        vertical-align: middle;\n",
       "    }\n",
       "\n",
       "    .dataframe tbody tr th {\n",
       "        vertical-align: top;\n",
       "    }\n",
       "\n",
       "    .dataframe thead th {\n",
       "        text-align: right;\n",
       "    }\n",
       "</style>\n",
       "<table border=\"1\" class=\"dataframe\">\n",
       "  <thead>\n",
       "    <tr style=\"text-align: right;\">\n",
       "      <th></th>\n",
       "      <th>eng</th>\n",
       "      <th>mat</th>\n",
       "    </tr>\n",
       "  </thead>\n",
       "  <tbody>\n",
       "    <tr>\n",
       "      <th>0</th>\n",
       "      <td>100</td>\n",
       "      <td>100</td>\n",
       "    </tr>\n",
       "    <tr>\n",
       "      <th>1</th>\n",
       "      <td>80</td>\n",
       "      <td>90</td>\n",
       "    </tr>\n",
       "  </tbody>\n",
       "</table>\n",
       "</div>"
      ],
      "text/plain": [
       "   eng  mat\n",
       "0  100  100\n",
       "1   80   90"
      ]
     },
     "execution_count": 139,
     "metadata": {},
     "output_type": "execute_result"
    }
   ],
   "source": [
    "# 영어80이상이고 수학이 80이상인 데이터 추출\n",
    "data.loc[(data['eng']>=80) & (data['mat']>=80)]"
   ]
  },
  {
   "cell_type": "markdown",
   "id": "90b14ccd",
   "metadata": {},
   "source": [
    "## 부분데이터 조회하는 방법\n",
    "- df[열이름] : 특정 열 모든행\n",
    "- df[조건] : 조건에 맞는 모든 열\n",
    "- df.loc[행이름, 열이름] : 이름조회, 조건으로 조회가능\n",
    "    * 열이름 생략하면 모든 열\n",
    "    * 행이름과 열이름 자리에 list, 슬라이싱 가능\n",
    "- df.iloc[행번호, 열번호] : 번호로 조회\n",
    "    * 열번호 생략하면 모든 열\n",
    "    * 행번호, 열번호 자리에 list, 슬라이싱 가능"
   ]
  },
  {
   "cell_type": "code",
   "execution_count": 140,
   "id": "a2e4d905",
   "metadata": {
    "ExecuteTime": {
     "end_time": "2024-11-26T05:16:42.287891Z",
     "start_time": "2024-11-26T05:16:42.274926Z"
    }
   },
   "outputs": [
    {
     "data": {
      "text/html": [
       "<div>\n",
       "<style scoped>\n",
       "    .dataframe tbody tr th:only-of-type {\n",
       "        vertical-align: middle;\n",
       "    }\n",
       "\n",
       "    .dataframe tbody tr th {\n",
       "        vertical-align: top;\n",
       "    }\n",
       "\n",
       "    .dataframe thead th {\n",
       "        text-align: right;\n",
       "    }\n",
       "</style>\n",
       "<table border=\"1\" class=\"dataframe\">\n",
       "  <thead>\n",
       "    <tr style=\"text-align: right;\">\n",
       "      <th></th>\n",
       "      <th>sepal_length</th>\n",
       "      <th>sepal_width</th>\n",
       "      <th>petal_length</th>\n",
       "      <th>petal_width</th>\n",
       "      <th>species</th>\n",
       "    </tr>\n",
       "  </thead>\n",
       "  <tbody>\n",
       "    <tr>\n",
       "      <th>31</th>\n",
       "      <td>5.4</td>\n",
       "      <td>3.4</td>\n",
       "      <td>1.5</td>\n",
       "      <td>0.4</td>\n",
       "      <td>setosa</td>\n",
       "    </tr>\n",
       "  </tbody>\n",
       "</table>\n",
       "</div>"
      ],
      "text/plain": [
       "    sepal_length  sepal_width  petal_length  petal_width species\n",
       "31           5.4          3.4           1.5          0.4  setosa"
      ]
     },
     "execution_count": 140,
     "metadata": {},
     "output_type": "execute_result"
    }
   ],
   "source": [
    "import seaborn as sns\n",
    "iris = sns.load_dataset('iris')\n",
    "iris.sample(1)"
   ]
  },
  {
   "cell_type": "code",
   "execution_count": 141,
   "id": "bbae4646",
   "metadata": {
    "ExecuteTime": {
     "end_time": "2024-11-26T05:16:42.302529Z",
     "start_time": "2024-11-26T05:16:42.288889Z"
    }
   },
   "outputs": [
    {
     "data": {
      "text/plain": [
       "0      5.1\n",
       "1      4.9\n",
       "2      4.7\n",
       "3      4.6\n",
       "4      5.0\n",
       "5      5.4\n",
       "6      4.6\n",
       "7      5.0\n",
       "8      4.4\n",
       "9      4.9\n",
       "10     5.4\n",
       "11     4.8\n",
       "12     4.8\n",
       "13     4.3\n",
       "14     5.8\n",
       "15     5.7\n",
       "16     5.4\n",
       "17     5.1\n",
       "18     5.7\n",
       "19     5.1\n",
       "20     5.4\n",
       "21     5.1\n",
       "22     4.6\n",
       "23     5.1\n",
       "24     4.8\n",
       "25     5.0\n",
       "26     5.0\n",
       "27     5.2\n",
       "28     5.2\n",
       "29     4.7\n",
       "30     4.8\n",
       "31     5.4\n",
       "32     5.2\n",
       "33     5.5\n",
       "34     4.9\n",
       "35     5.0\n",
       "36     5.5\n",
       "37     4.9\n",
       "38     4.4\n",
       "39     5.1\n",
       "40     5.0\n",
       "41     4.5\n",
       "42     4.4\n",
       "43     5.0\n",
       "44     5.1\n",
       "45     4.8\n",
       "46     5.1\n",
       "47     4.6\n",
       "48     5.3\n",
       "49     5.0\n",
       "50     7.0\n",
       "51     6.4\n",
       "52     6.9\n",
       "53     5.5\n",
       "54     6.5\n",
       "55     5.7\n",
       "56     6.3\n",
       "57     4.9\n",
       "58     6.6\n",
       "59     5.2\n",
       "60     5.0\n",
       "61     5.9\n",
       "62     6.0\n",
       "63     6.1\n",
       "64     5.6\n",
       "65     6.7\n",
       "66     5.6\n",
       "67     5.8\n",
       "68     6.2\n",
       "69     5.6\n",
       "70     5.9\n",
       "71     6.1\n",
       "72     6.3\n",
       "73     6.1\n",
       "74     6.4\n",
       "75     6.6\n",
       "76     6.8\n",
       "77     6.7\n",
       "78     6.0\n",
       "79     5.7\n",
       "80     5.5\n",
       "81     5.5\n",
       "82     5.8\n",
       "83     6.0\n",
       "84     5.4\n",
       "85     6.0\n",
       "86     6.7\n",
       "87     6.3\n",
       "88     5.6\n",
       "89     5.5\n",
       "90     5.5\n",
       "91     6.1\n",
       "92     5.8\n",
       "93     5.0\n",
       "94     5.6\n",
       "95     5.7\n",
       "96     5.7\n",
       "97     6.2\n",
       "98     5.1\n",
       "99     5.7\n",
       "100    6.3\n",
       "101    5.8\n",
       "102    7.1\n",
       "103    6.3\n",
       "104    6.5\n",
       "105    7.6\n",
       "106    4.9\n",
       "107    7.3\n",
       "108    6.7\n",
       "109    7.2\n",
       "110    6.5\n",
       "111    6.4\n",
       "112    6.8\n",
       "113    5.7\n",
       "114    5.8\n",
       "115    6.4\n",
       "116    6.5\n",
       "117    7.7\n",
       "118    7.7\n",
       "119    6.0\n",
       "120    6.9\n",
       "121    5.6\n",
       "122    7.7\n",
       "123    6.3\n",
       "124    6.7\n",
       "125    7.2\n",
       "126    6.2\n",
       "127    6.1\n",
       "128    6.4\n",
       "129    7.2\n",
       "130    7.4\n",
       "131    7.9\n",
       "132    6.4\n",
       "133    6.3\n",
       "134    6.1\n",
       "135    7.7\n",
       "136    6.3\n",
       "137    6.4\n",
       "138    6.0\n",
       "139    6.9\n",
       "140    6.7\n",
       "141    6.9\n",
       "142    5.8\n",
       "143    6.8\n",
       "144    6.7\n",
       "145    6.7\n",
       "146    6.3\n",
       "147    6.5\n",
       "148    6.2\n",
       "149    5.9\n",
       "Name: sepal_length, dtype: float64"
      ]
     },
     "execution_count": 141,
     "metadata": {},
     "output_type": "execute_result"
    }
   ],
   "source": [
    "# 1. sepal_length 열만 출력\n",
    "iris['sepal_length']"
   ]
  },
  {
   "cell_type": "code",
   "execution_count": 142,
   "id": "b7d38a5b",
   "metadata": {
    "ExecuteTime": {
     "end_time": "2024-11-26T05:16:42.320359Z",
     "start_time": "2024-11-26T05:16:42.304524Z"
    }
   },
   "outputs": [
    {
     "data": {
      "text/html": [
       "<div>\n",
       "<style scoped>\n",
       "    .dataframe tbody tr th:only-of-type {\n",
       "        vertical-align: middle;\n",
       "    }\n",
       "\n",
       "    .dataframe tbody tr th {\n",
       "        vertical-align: top;\n",
       "    }\n",
       "\n",
       "    .dataframe thead th {\n",
       "        text-align: right;\n",
       "    }\n",
       "</style>\n",
       "<table border=\"1\" class=\"dataframe\">\n",
       "  <thead>\n",
       "    <tr style=\"text-align: right;\">\n",
       "      <th></th>\n",
       "      <th>sepal_length</th>\n",
       "      <th>sepal_width</th>\n",
       "      <th>petal_length</th>\n",
       "      <th>petal_width</th>\n",
       "    </tr>\n",
       "  </thead>\n",
       "  <tbody>\n",
       "    <tr>\n",
       "      <th>0</th>\n",
       "      <td>5.1</td>\n",
       "      <td>3.5</td>\n",
       "      <td>1.4</td>\n",
       "      <td>0.2</td>\n",
       "    </tr>\n",
       "    <tr>\n",
       "      <th>1</th>\n",
       "      <td>4.9</td>\n",
       "      <td>3.0</td>\n",
       "      <td>1.4</td>\n",
       "      <td>0.2</td>\n",
       "    </tr>\n",
       "    <tr>\n",
       "      <th>2</th>\n",
       "      <td>4.7</td>\n",
       "      <td>3.2</td>\n",
       "      <td>1.3</td>\n",
       "      <td>0.2</td>\n",
       "    </tr>\n",
       "    <tr>\n",
       "      <th>3</th>\n",
       "      <td>4.6</td>\n",
       "      <td>3.1</td>\n",
       "      <td>1.5</td>\n",
       "      <td>0.2</td>\n",
       "    </tr>\n",
       "    <tr>\n",
       "      <th>4</th>\n",
       "      <td>5.0</td>\n",
       "      <td>3.6</td>\n",
       "      <td>1.4</td>\n",
       "      <td>0.2</td>\n",
       "    </tr>\n",
       "    <tr>\n",
       "      <th>5</th>\n",
       "      <td>5.4</td>\n",
       "      <td>3.9</td>\n",
       "      <td>1.7</td>\n",
       "      <td>0.4</td>\n",
       "    </tr>\n",
       "    <tr>\n",
       "      <th>6</th>\n",
       "      <td>4.6</td>\n",
       "      <td>3.4</td>\n",
       "      <td>1.4</td>\n",
       "      <td>0.3</td>\n",
       "    </tr>\n",
       "    <tr>\n",
       "      <th>7</th>\n",
       "      <td>5.0</td>\n",
       "      <td>3.4</td>\n",
       "      <td>1.5</td>\n",
       "      <td>0.2</td>\n",
       "    </tr>\n",
       "    <tr>\n",
       "      <th>8</th>\n",
       "      <td>4.4</td>\n",
       "      <td>2.9</td>\n",
       "      <td>1.4</td>\n",
       "      <td>0.2</td>\n",
       "    </tr>\n",
       "    <tr>\n",
       "      <th>9</th>\n",
       "      <td>4.9</td>\n",
       "      <td>3.1</td>\n",
       "      <td>1.5</td>\n",
       "      <td>0.1</td>\n",
       "    </tr>\n",
       "    <tr>\n",
       "      <th>10</th>\n",
       "      <td>5.4</td>\n",
       "      <td>3.7</td>\n",
       "      <td>1.5</td>\n",
       "      <td>0.2</td>\n",
       "    </tr>\n",
       "  </tbody>\n",
       "</table>\n",
       "</div>"
      ],
      "text/plain": [
       "    sepal_length  sepal_width  petal_length  petal_width\n",
       "0            5.1          3.5           1.4          0.2\n",
       "1            4.9          3.0           1.4          0.2\n",
       "2            4.7          3.2           1.3          0.2\n",
       "3            4.6          3.1           1.5          0.2\n",
       "4            5.0          3.6           1.4          0.2\n",
       "5            5.4          3.9           1.7          0.4\n",
       "6            4.6          3.4           1.4          0.3\n",
       "7            5.0          3.4           1.5          0.2\n",
       "8            4.4          2.9           1.4          0.2\n",
       "9            4.9          3.1           1.5          0.1\n",
       "10           5.4          3.7           1.5          0.2"
      ]
     },
     "execution_count": 142,
     "metadata": {},
     "output_type": "execute_result"
    }
   ],
   "source": [
    "# 2. 0 ~ 10행 까지 마지막 열을 제외한 데이터 (loc, iloc)\n",
    "iris.iloc[:11, : -1]\n",
    "iris.loc[0:10, 'sepal_length':'petal_width']"
   ]
  },
  {
   "cell_type": "code",
   "execution_count": 143,
   "id": "d05e3132",
   "metadata": {
    "ExecuteTime": {
     "end_time": "2024-11-26T05:16:42.332833Z",
     "start_time": "2024-11-26T05:16:42.322354Z"
    }
   },
   "outputs": [
    {
     "data": {
      "text/html": [
       "<div>\n",
       "<style scoped>\n",
       "    .dataframe tbody tr th:only-of-type {\n",
       "        vertical-align: middle;\n",
       "    }\n",
       "\n",
       "    .dataframe tbody tr th {\n",
       "        vertical-align: top;\n",
       "    }\n",
       "\n",
       "    .dataframe thead th {\n",
       "        text-align: right;\n",
       "    }\n",
       "</style>\n",
       "<table border=\"1\" class=\"dataframe\">\n",
       "  <thead>\n",
       "    <tr style=\"text-align: right;\">\n",
       "      <th></th>\n",
       "      <th>sepal_length</th>\n",
       "      <th>petal_length</th>\n",
       "    </tr>\n",
       "  </thead>\n",
       "  <tbody>\n",
       "    <tr>\n",
       "      <th>3</th>\n",
       "      <td>4.6</td>\n",
       "      <td>1.5</td>\n",
       "    </tr>\n",
       "    <tr>\n",
       "      <th>4</th>\n",
       "      <td>5.0</td>\n",
       "      <td>1.4</td>\n",
       "    </tr>\n",
       "    <tr>\n",
       "      <th>5</th>\n",
       "      <td>5.4</td>\n",
       "      <td>1.7</td>\n",
       "    </tr>\n",
       "    <tr>\n",
       "      <th>6</th>\n",
       "      <td>4.6</td>\n",
       "      <td>1.4</td>\n",
       "    </tr>\n",
       "    <tr>\n",
       "      <th>7</th>\n",
       "      <td>5.0</td>\n",
       "      <td>1.5</td>\n",
       "    </tr>\n",
       "    <tr>\n",
       "      <th>8</th>\n",
       "      <td>4.4</td>\n",
       "      <td>1.4</td>\n",
       "    </tr>\n",
       "    <tr>\n",
       "      <th>9</th>\n",
       "      <td>4.9</td>\n",
       "      <td>1.5</td>\n",
       "    </tr>\n",
       "  </tbody>\n",
       "</table>\n",
       "</div>"
      ],
      "text/plain": [
       "   sepal_length  petal_length\n",
       "3           4.6           1.5\n",
       "4           5.0           1.4\n",
       "5           5.4           1.7\n",
       "6           4.6           1.4\n",
       "7           5.0           1.5\n",
       "8           4.4           1.4\n",
       "9           4.9           1.5"
      ]
     },
     "execution_count": 143,
     "metadata": {},
     "output_type": "execute_result"
    }
   ],
   "source": [
    "# 3. 3~10행 중에 'sepal_length'와 'petal_length' 열만\n",
    "iris.loc[3:10,['sepal_length','petal_length']]\n",
    "iris.iloc[3:10,[0,2]]"
   ]
  },
  {
   "cell_type": "code",
   "execution_count": 144,
   "id": "ef934951",
   "metadata": {
    "ExecuteTime": {
     "end_time": "2024-11-26T05:16:42.344803Z",
     "start_time": "2024-11-26T05:16:42.334829Z"
    }
   },
   "outputs": [
    {
     "data": {
      "text/html": [
       "<div>\n",
       "<style scoped>\n",
       "    .dataframe tbody tr th:only-of-type {\n",
       "        vertical-align: middle;\n",
       "    }\n",
       "\n",
       "    .dataframe tbody tr th {\n",
       "        vertical-align: top;\n",
       "    }\n",
       "\n",
       "    .dataframe thead th {\n",
       "        text-align: right;\n",
       "    }\n",
       "</style>\n",
       "<table border=\"1\" class=\"dataframe\">\n",
       "  <thead>\n",
       "    <tr style=\"text-align: right;\">\n",
       "      <th></th>\n",
       "      <th>sepal_length</th>\n",
       "      <th>sepal_width</th>\n",
       "      <th>petal_length</th>\n",
       "      <th>petal_width</th>\n",
       "      <th>species</th>\n",
       "    </tr>\n",
       "  </thead>\n",
       "  <tbody>\n",
       "    <tr>\n",
       "      <th>0</th>\n",
       "      <td>5.1</td>\n",
       "      <td>3.5</td>\n",
       "      <td>1.4</td>\n",
       "      <td>0.2</td>\n",
       "      <td>setosa</td>\n",
       "    </tr>\n",
       "    <tr>\n",
       "      <th>50</th>\n",
       "      <td>7.0</td>\n",
       "      <td>3.2</td>\n",
       "      <td>4.7</td>\n",
       "      <td>1.4</td>\n",
       "      <td>versicolor</td>\n",
       "    </tr>\n",
       "    <tr>\n",
       "      <th>100</th>\n",
       "      <td>6.3</td>\n",
       "      <td>3.3</td>\n",
       "      <td>6.0</td>\n",
       "      <td>2.5</td>\n",
       "      <td>virginica</td>\n",
       "    </tr>\n",
       "  </tbody>\n",
       "</table>\n",
       "</div>"
      ],
      "text/plain": [
       "     sepal_length  sepal_width  petal_length  petal_width     species\n",
       "0             5.1          3.5           1.4          0.2      setosa\n",
       "50            7.0          3.2           4.7          1.4  versicolor\n",
       "100           6.3          3.3           6.0          2.5   virginica"
      ]
     },
     "execution_count": 144,
     "metadata": {},
     "output_type": "execute_result"
    }
   ],
   "source": [
    "# 4-1. 0번째, 50번째, 100번째 행의 모든열 (loc, iloc)\n",
    "iris.loc[[0,50,100]]\n",
    "# iris.iloc[[0,50,100]] list\n",
    "iris.iloc[0:101:50] # 슬라이싱"
   ]
  },
  {
   "cell_type": "code",
   "execution_count": 145,
   "id": "e514c9ff",
   "metadata": {
    "ExecuteTime": {
     "end_time": "2024-11-26T05:16:42.357767Z",
     "start_time": "2024-11-26T05:16:42.346796Z"
    }
   },
   "outputs": [
    {
     "data": {
      "text/html": [
       "<div>\n",
       "<style scoped>\n",
       "    .dataframe tbody tr th:only-of-type {\n",
       "        vertical-align: middle;\n",
       "    }\n",
       "\n",
       "    .dataframe tbody tr th {\n",
       "        vertical-align: top;\n",
       "    }\n",
       "\n",
       "    .dataframe thead th {\n",
       "        text-align: right;\n",
       "    }\n",
       "</style>\n",
       "<table border=\"1\" class=\"dataframe\">\n",
       "  <thead>\n",
       "    <tr style=\"text-align: right;\">\n",
       "      <th></th>\n",
       "      <th>sepal_length</th>\n",
       "      <th>sepal_width</th>\n",
       "      <th>petal_length</th>\n",
       "      <th>petal_width</th>\n",
       "      <th>species</th>\n",
       "    </tr>\n",
       "  </thead>\n",
       "  <tbody>\n",
       "    <tr>\n",
       "      <th>0</th>\n",
       "      <td>5.1</td>\n",
       "      <td>3.5</td>\n",
       "      <td>1.4</td>\n",
       "      <td>0.2</td>\n",
       "      <td>setosa</td>\n",
       "    </tr>\n",
       "    <tr>\n",
       "      <th>25</th>\n",
       "      <td>5.0</td>\n",
       "      <td>3.0</td>\n",
       "      <td>1.6</td>\n",
       "      <td>0.2</td>\n",
       "      <td>setosa</td>\n",
       "    </tr>\n",
       "    <tr>\n",
       "      <th>50</th>\n",
       "      <td>7.0</td>\n",
       "      <td>3.2</td>\n",
       "      <td>4.7</td>\n",
       "      <td>1.4</td>\n",
       "      <td>versicolor</td>\n",
       "    </tr>\n",
       "    <tr>\n",
       "      <th>75</th>\n",
       "      <td>6.6</td>\n",
       "      <td>3.0</td>\n",
       "      <td>4.4</td>\n",
       "      <td>1.4</td>\n",
       "      <td>versicolor</td>\n",
       "    </tr>\n",
       "    <tr>\n",
       "      <th>100</th>\n",
       "      <td>6.3</td>\n",
       "      <td>3.3</td>\n",
       "      <td>6.0</td>\n",
       "      <td>2.5</td>\n",
       "      <td>virginica</td>\n",
       "    </tr>\n",
       "    <tr>\n",
       "      <th>125</th>\n",
       "      <td>7.2</td>\n",
       "      <td>3.2</td>\n",
       "      <td>6.0</td>\n",
       "      <td>1.8</td>\n",
       "      <td>virginica</td>\n",
       "    </tr>\n",
       "  </tbody>\n",
       "</table>\n",
       "</div>"
      ],
      "text/plain": [
       "     sepal_length  sepal_width  petal_length  petal_width     species\n",
       "0             5.1          3.5           1.4          0.2      setosa\n",
       "25            5.0          3.0           1.6          0.2      setosa\n",
       "50            7.0          3.2           4.7          1.4  versicolor\n",
       "75            6.6          3.0           4.4          1.4  versicolor\n",
       "100           6.3          3.3           6.0          2.5   virginica\n",
       "125           7.2          3.2           6.0          1.8   virginica"
      ]
     },
     "execution_count": 145,
     "metadata": {},
     "output_type": "execute_result"
    }
   ],
   "source": [
    "# 4-2. 0번째, 25번째, 50번째, 75번째, 100번째, 125번째 행의 모든열 (loc, iloc)\n",
    "iris.loc[[0,25,50,75,100,125]]\n",
    "# iris.iloc[[0,25,50,75,100,125]] list\n",
    "iris.iloc[0::25] # 슬라이싱"
   ]
  },
  {
   "cell_type": "code",
   "execution_count": 146,
   "id": "aa6b85df",
   "metadata": {
    "ExecuteTime": {
     "end_time": "2024-11-26T05:16:42.382700Z",
     "start_time": "2024-11-26T05:16:42.359762Z"
    }
   },
   "outputs": [
    {
     "data": {
      "text/html": [
       "<div>\n",
       "<style scoped>\n",
       "    .dataframe tbody tr th:only-of-type {\n",
       "        vertical-align: middle;\n",
       "    }\n",
       "\n",
       "    .dataframe tbody tr th {\n",
       "        vertical-align: top;\n",
       "    }\n",
       "\n",
       "    .dataframe thead th {\n",
       "        text-align: right;\n",
       "    }\n",
       "</style>\n",
       "<table border=\"1\" class=\"dataframe\">\n",
       "  <thead>\n",
       "    <tr style=\"text-align: right;\">\n",
       "      <th></th>\n",
       "      <th>sepal_length</th>\n",
       "      <th>sepal_width</th>\n",
       "      <th>petal_length</th>\n",
       "      <th>petal_width</th>\n",
       "      <th>species</th>\n",
       "    </tr>\n",
       "  </thead>\n",
       "  <tbody>\n",
       "    <tr>\n",
       "      <th>50</th>\n",
       "      <td>7.0</td>\n",
       "      <td>3.2</td>\n",
       "      <td>4.7</td>\n",
       "      <td>1.4</td>\n",
       "      <td>versicolor</td>\n",
       "    </tr>\n",
       "    <tr>\n",
       "      <th>51</th>\n",
       "      <td>6.4</td>\n",
       "      <td>3.2</td>\n",
       "      <td>4.5</td>\n",
       "      <td>1.5</td>\n",
       "      <td>versicolor</td>\n",
       "    </tr>\n",
       "    <tr>\n",
       "      <th>52</th>\n",
       "      <td>6.9</td>\n",
       "      <td>3.1</td>\n",
       "      <td>4.9</td>\n",
       "      <td>1.5</td>\n",
       "      <td>versicolor</td>\n",
       "    </tr>\n",
       "    <tr>\n",
       "      <th>53</th>\n",
       "      <td>5.5</td>\n",
       "      <td>2.3</td>\n",
       "      <td>4.0</td>\n",
       "      <td>1.3</td>\n",
       "      <td>versicolor</td>\n",
       "    </tr>\n",
       "    <tr>\n",
       "      <th>54</th>\n",
       "      <td>6.5</td>\n",
       "      <td>2.8</td>\n",
       "      <td>4.6</td>\n",
       "      <td>1.5</td>\n",
       "      <td>versicolor</td>\n",
       "    </tr>\n",
       "    <tr>\n",
       "      <th>55</th>\n",
       "      <td>5.7</td>\n",
       "      <td>2.8</td>\n",
       "      <td>4.5</td>\n",
       "      <td>1.3</td>\n",
       "      <td>versicolor</td>\n",
       "    </tr>\n",
       "    <tr>\n",
       "      <th>56</th>\n",
       "      <td>6.3</td>\n",
       "      <td>3.3</td>\n",
       "      <td>4.7</td>\n",
       "      <td>1.6</td>\n",
       "      <td>versicolor</td>\n",
       "    </tr>\n",
       "    <tr>\n",
       "      <th>57</th>\n",
       "      <td>4.9</td>\n",
       "      <td>2.4</td>\n",
       "      <td>3.3</td>\n",
       "      <td>1.0</td>\n",
       "      <td>versicolor</td>\n",
       "    </tr>\n",
       "    <tr>\n",
       "      <th>58</th>\n",
       "      <td>6.6</td>\n",
       "      <td>2.9</td>\n",
       "      <td>4.6</td>\n",
       "      <td>1.3</td>\n",
       "      <td>versicolor</td>\n",
       "    </tr>\n",
       "    <tr>\n",
       "      <th>59</th>\n",
       "      <td>5.2</td>\n",
       "      <td>2.7</td>\n",
       "      <td>3.9</td>\n",
       "      <td>1.4</td>\n",
       "      <td>versicolor</td>\n",
       "    </tr>\n",
       "    <tr>\n",
       "      <th>60</th>\n",
       "      <td>5.0</td>\n",
       "      <td>2.0</td>\n",
       "      <td>3.5</td>\n",
       "      <td>1.0</td>\n",
       "      <td>versicolor</td>\n",
       "    </tr>\n",
       "    <tr>\n",
       "      <th>61</th>\n",
       "      <td>5.9</td>\n",
       "      <td>3.0</td>\n",
       "      <td>4.2</td>\n",
       "      <td>1.5</td>\n",
       "      <td>versicolor</td>\n",
       "    </tr>\n",
       "    <tr>\n",
       "      <th>62</th>\n",
       "      <td>6.0</td>\n",
       "      <td>2.2</td>\n",
       "      <td>4.0</td>\n",
       "      <td>1.0</td>\n",
       "      <td>versicolor</td>\n",
       "    </tr>\n",
       "    <tr>\n",
       "      <th>63</th>\n",
       "      <td>6.1</td>\n",
       "      <td>2.9</td>\n",
       "      <td>4.7</td>\n",
       "      <td>1.4</td>\n",
       "      <td>versicolor</td>\n",
       "    </tr>\n",
       "    <tr>\n",
       "      <th>64</th>\n",
       "      <td>5.6</td>\n",
       "      <td>2.9</td>\n",
       "      <td>3.6</td>\n",
       "      <td>1.3</td>\n",
       "      <td>versicolor</td>\n",
       "    </tr>\n",
       "    <tr>\n",
       "      <th>65</th>\n",
       "      <td>6.7</td>\n",
       "      <td>3.1</td>\n",
       "      <td>4.4</td>\n",
       "      <td>1.4</td>\n",
       "      <td>versicolor</td>\n",
       "    </tr>\n",
       "    <tr>\n",
       "      <th>66</th>\n",
       "      <td>5.6</td>\n",
       "      <td>3.0</td>\n",
       "      <td>4.5</td>\n",
       "      <td>1.5</td>\n",
       "      <td>versicolor</td>\n",
       "    </tr>\n",
       "    <tr>\n",
       "      <th>67</th>\n",
       "      <td>5.8</td>\n",
       "      <td>2.7</td>\n",
       "      <td>4.1</td>\n",
       "      <td>1.0</td>\n",
       "      <td>versicolor</td>\n",
       "    </tr>\n",
       "    <tr>\n",
       "      <th>68</th>\n",
       "      <td>6.2</td>\n",
       "      <td>2.2</td>\n",
       "      <td>4.5</td>\n",
       "      <td>1.5</td>\n",
       "      <td>versicolor</td>\n",
       "    </tr>\n",
       "    <tr>\n",
       "      <th>69</th>\n",
       "      <td>5.6</td>\n",
       "      <td>2.5</td>\n",
       "      <td>3.9</td>\n",
       "      <td>1.1</td>\n",
       "      <td>versicolor</td>\n",
       "    </tr>\n",
       "    <tr>\n",
       "      <th>70</th>\n",
       "      <td>5.9</td>\n",
       "      <td>3.2</td>\n",
       "      <td>4.8</td>\n",
       "      <td>1.8</td>\n",
       "      <td>versicolor</td>\n",
       "    </tr>\n",
       "    <tr>\n",
       "      <th>71</th>\n",
       "      <td>6.1</td>\n",
       "      <td>2.8</td>\n",
       "      <td>4.0</td>\n",
       "      <td>1.3</td>\n",
       "      <td>versicolor</td>\n",
       "    </tr>\n",
       "    <tr>\n",
       "      <th>72</th>\n",
       "      <td>6.3</td>\n",
       "      <td>2.5</td>\n",
       "      <td>4.9</td>\n",
       "      <td>1.5</td>\n",
       "      <td>versicolor</td>\n",
       "    </tr>\n",
       "    <tr>\n",
       "      <th>73</th>\n",
       "      <td>6.1</td>\n",
       "      <td>2.8</td>\n",
       "      <td>4.7</td>\n",
       "      <td>1.2</td>\n",
       "      <td>versicolor</td>\n",
       "    </tr>\n",
       "    <tr>\n",
       "      <th>74</th>\n",
       "      <td>6.4</td>\n",
       "      <td>2.9</td>\n",
       "      <td>4.3</td>\n",
       "      <td>1.3</td>\n",
       "      <td>versicolor</td>\n",
       "    </tr>\n",
       "    <tr>\n",
       "      <th>75</th>\n",
       "      <td>6.6</td>\n",
       "      <td>3.0</td>\n",
       "      <td>4.4</td>\n",
       "      <td>1.4</td>\n",
       "      <td>versicolor</td>\n",
       "    </tr>\n",
       "    <tr>\n",
       "      <th>76</th>\n",
       "      <td>6.8</td>\n",
       "      <td>2.8</td>\n",
       "      <td>4.8</td>\n",
       "      <td>1.4</td>\n",
       "      <td>versicolor</td>\n",
       "    </tr>\n",
       "    <tr>\n",
       "      <th>77</th>\n",
       "      <td>6.7</td>\n",
       "      <td>3.0</td>\n",
       "      <td>5.0</td>\n",
       "      <td>1.7</td>\n",
       "      <td>versicolor</td>\n",
       "    </tr>\n",
       "    <tr>\n",
       "      <th>78</th>\n",
       "      <td>6.0</td>\n",
       "      <td>2.9</td>\n",
       "      <td>4.5</td>\n",
       "      <td>1.5</td>\n",
       "      <td>versicolor</td>\n",
       "    </tr>\n",
       "    <tr>\n",
       "      <th>79</th>\n",
       "      <td>5.7</td>\n",
       "      <td>2.6</td>\n",
       "      <td>3.5</td>\n",
       "      <td>1.0</td>\n",
       "      <td>versicolor</td>\n",
       "    </tr>\n",
       "    <tr>\n",
       "      <th>80</th>\n",
       "      <td>5.5</td>\n",
       "      <td>2.4</td>\n",
       "      <td>3.8</td>\n",
       "      <td>1.1</td>\n",
       "      <td>versicolor</td>\n",
       "    </tr>\n",
       "    <tr>\n",
       "      <th>81</th>\n",
       "      <td>5.5</td>\n",
       "      <td>2.4</td>\n",
       "      <td>3.7</td>\n",
       "      <td>1.0</td>\n",
       "      <td>versicolor</td>\n",
       "    </tr>\n",
       "    <tr>\n",
       "      <th>82</th>\n",
       "      <td>5.8</td>\n",
       "      <td>2.7</td>\n",
       "      <td>3.9</td>\n",
       "      <td>1.2</td>\n",
       "      <td>versicolor</td>\n",
       "    </tr>\n",
       "    <tr>\n",
       "      <th>83</th>\n",
       "      <td>6.0</td>\n",
       "      <td>2.7</td>\n",
       "      <td>5.1</td>\n",
       "      <td>1.6</td>\n",
       "      <td>versicolor</td>\n",
       "    </tr>\n",
       "    <tr>\n",
       "      <th>84</th>\n",
       "      <td>5.4</td>\n",
       "      <td>3.0</td>\n",
       "      <td>4.5</td>\n",
       "      <td>1.5</td>\n",
       "      <td>versicolor</td>\n",
       "    </tr>\n",
       "    <tr>\n",
       "      <th>85</th>\n",
       "      <td>6.0</td>\n",
       "      <td>3.4</td>\n",
       "      <td>4.5</td>\n",
       "      <td>1.6</td>\n",
       "      <td>versicolor</td>\n",
       "    </tr>\n",
       "    <tr>\n",
       "      <th>86</th>\n",
       "      <td>6.7</td>\n",
       "      <td>3.1</td>\n",
       "      <td>4.7</td>\n",
       "      <td>1.5</td>\n",
       "      <td>versicolor</td>\n",
       "    </tr>\n",
       "    <tr>\n",
       "      <th>87</th>\n",
       "      <td>6.3</td>\n",
       "      <td>2.3</td>\n",
       "      <td>4.4</td>\n",
       "      <td>1.3</td>\n",
       "      <td>versicolor</td>\n",
       "    </tr>\n",
       "    <tr>\n",
       "      <th>88</th>\n",
       "      <td>5.6</td>\n",
       "      <td>3.0</td>\n",
       "      <td>4.1</td>\n",
       "      <td>1.3</td>\n",
       "      <td>versicolor</td>\n",
       "    </tr>\n",
       "    <tr>\n",
       "      <th>89</th>\n",
       "      <td>5.5</td>\n",
       "      <td>2.5</td>\n",
       "      <td>4.0</td>\n",
       "      <td>1.3</td>\n",
       "      <td>versicolor</td>\n",
       "    </tr>\n",
       "    <tr>\n",
       "      <th>90</th>\n",
       "      <td>5.5</td>\n",
       "      <td>2.6</td>\n",
       "      <td>4.4</td>\n",
       "      <td>1.2</td>\n",
       "      <td>versicolor</td>\n",
       "    </tr>\n",
       "    <tr>\n",
       "      <th>91</th>\n",
       "      <td>6.1</td>\n",
       "      <td>3.0</td>\n",
       "      <td>4.6</td>\n",
       "      <td>1.4</td>\n",
       "      <td>versicolor</td>\n",
       "    </tr>\n",
       "    <tr>\n",
       "      <th>92</th>\n",
       "      <td>5.8</td>\n",
       "      <td>2.6</td>\n",
       "      <td>4.0</td>\n",
       "      <td>1.2</td>\n",
       "      <td>versicolor</td>\n",
       "    </tr>\n",
       "    <tr>\n",
       "      <th>93</th>\n",
       "      <td>5.0</td>\n",
       "      <td>2.3</td>\n",
       "      <td>3.3</td>\n",
       "      <td>1.0</td>\n",
       "      <td>versicolor</td>\n",
       "    </tr>\n",
       "    <tr>\n",
       "      <th>94</th>\n",
       "      <td>5.6</td>\n",
       "      <td>2.7</td>\n",
       "      <td>4.2</td>\n",
       "      <td>1.3</td>\n",
       "      <td>versicolor</td>\n",
       "    </tr>\n",
       "    <tr>\n",
       "      <th>95</th>\n",
       "      <td>5.7</td>\n",
       "      <td>3.0</td>\n",
       "      <td>4.2</td>\n",
       "      <td>1.2</td>\n",
       "      <td>versicolor</td>\n",
       "    </tr>\n",
       "    <tr>\n",
       "      <th>96</th>\n",
       "      <td>5.7</td>\n",
       "      <td>2.9</td>\n",
       "      <td>4.2</td>\n",
       "      <td>1.3</td>\n",
       "      <td>versicolor</td>\n",
       "    </tr>\n",
       "    <tr>\n",
       "      <th>97</th>\n",
       "      <td>6.2</td>\n",
       "      <td>2.9</td>\n",
       "      <td>4.3</td>\n",
       "      <td>1.3</td>\n",
       "      <td>versicolor</td>\n",
       "    </tr>\n",
       "    <tr>\n",
       "      <th>98</th>\n",
       "      <td>5.1</td>\n",
       "      <td>2.5</td>\n",
       "      <td>3.0</td>\n",
       "      <td>1.1</td>\n",
       "      <td>versicolor</td>\n",
       "    </tr>\n",
       "    <tr>\n",
       "      <th>99</th>\n",
       "      <td>5.7</td>\n",
       "      <td>2.8</td>\n",
       "      <td>4.1</td>\n",
       "      <td>1.3</td>\n",
       "      <td>versicolor</td>\n",
       "    </tr>\n",
       "  </tbody>\n",
       "</table>\n",
       "</div>"
      ],
      "text/plain": [
       "    sepal_length  sepal_width  petal_length  petal_width     species\n",
       "50           7.0          3.2           4.7          1.4  versicolor\n",
       "51           6.4          3.2           4.5          1.5  versicolor\n",
       "52           6.9          3.1           4.9          1.5  versicolor\n",
       "53           5.5          2.3           4.0          1.3  versicolor\n",
       "54           6.5          2.8           4.6          1.5  versicolor\n",
       "55           5.7          2.8           4.5          1.3  versicolor\n",
       "56           6.3          3.3           4.7          1.6  versicolor\n",
       "57           4.9          2.4           3.3          1.0  versicolor\n",
       "58           6.6          2.9           4.6          1.3  versicolor\n",
       "59           5.2          2.7           3.9          1.4  versicolor\n",
       "60           5.0          2.0           3.5          1.0  versicolor\n",
       "61           5.9          3.0           4.2          1.5  versicolor\n",
       "62           6.0          2.2           4.0          1.0  versicolor\n",
       "63           6.1          2.9           4.7          1.4  versicolor\n",
       "64           5.6          2.9           3.6          1.3  versicolor\n",
       "65           6.7          3.1           4.4          1.4  versicolor\n",
       "66           5.6          3.0           4.5          1.5  versicolor\n",
       "67           5.8          2.7           4.1          1.0  versicolor\n",
       "68           6.2          2.2           4.5          1.5  versicolor\n",
       "69           5.6          2.5           3.9          1.1  versicolor\n",
       "70           5.9          3.2           4.8          1.8  versicolor\n",
       "71           6.1          2.8           4.0          1.3  versicolor\n",
       "72           6.3          2.5           4.9          1.5  versicolor\n",
       "73           6.1          2.8           4.7          1.2  versicolor\n",
       "74           6.4          2.9           4.3          1.3  versicolor\n",
       "75           6.6          3.0           4.4          1.4  versicolor\n",
       "76           6.8          2.8           4.8          1.4  versicolor\n",
       "77           6.7          3.0           5.0          1.7  versicolor\n",
       "78           6.0          2.9           4.5          1.5  versicolor\n",
       "79           5.7          2.6           3.5          1.0  versicolor\n",
       "80           5.5          2.4           3.8          1.1  versicolor\n",
       "81           5.5          2.4           3.7          1.0  versicolor\n",
       "82           5.8          2.7           3.9          1.2  versicolor\n",
       "83           6.0          2.7           5.1          1.6  versicolor\n",
       "84           5.4          3.0           4.5          1.5  versicolor\n",
       "85           6.0          3.4           4.5          1.6  versicolor\n",
       "86           6.7          3.1           4.7          1.5  versicolor\n",
       "87           6.3          2.3           4.4          1.3  versicolor\n",
       "88           5.6          3.0           4.1          1.3  versicolor\n",
       "89           5.5          2.5           4.0          1.3  versicolor\n",
       "90           5.5          2.6           4.4          1.2  versicolor\n",
       "91           6.1          3.0           4.6          1.4  versicolor\n",
       "92           5.8          2.6           4.0          1.2  versicolor\n",
       "93           5.0          2.3           3.3          1.0  versicolor\n",
       "94           5.6          2.7           4.2          1.3  versicolor\n",
       "95           5.7          3.0           4.2          1.2  versicolor\n",
       "96           5.7          2.9           4.2          1.3  versicolor\n",
       "97           6.2          2.9           4.3          1.3  versicolor\n",
       "98           5.1          2.5           3.0          1.1  versicolor\n",
       "99           5.7          2.8           4.1          1.3  versicolor"
      ]
     },
     "execution_count": 146,
     "metadata": {},
     "output_type": "execute_result"
    }
   ],
   "source": [
    "# 5. species가 versicolor인 데이터의 모든 열\n",
    "iris.loc[iris['species'].str.contains('versicolor')]"
   ]
  },
  {
   "cell_type": "code",
   "execution_count": 147,
   "id": "029e6434",
   "metadata": {
    "ExecuteTime": {
     "end_time": "2024-11-26T05:16:42.403524Z",
     "start_time": "2024-11-26T05:16:42.383697Z"
    }
   },
   "outputs": [
    {
     "data": {
      "text/html": [
       "<div>\n",
       "<style scoped>\n",
       "    .dataframe tbody tr th:only-of-type {\n",
       "        vertical-align: middle;\n",
       "    }\n",
       "\n",
       "    .dataframe tbody tr th {\n",
       "        vertical-align: top;\n",
       "    }\n",
       "\n",
       "    .dataframe thead th {\n",
       "        text-align: right;\n",
       "    }\n",
       "</style>\n",
       "<table border=\"1\" class=\"dataframe\">\n",
       "  <thead>\n",
       "    <tr style=\"text-align: right;\">\n",
       "      <th></th>\n",
       "      <th>sepal_length</th>\n",
       "      <th>sepal_width</th>\n",
       "      <th>petal_length</th>\n",
       "      <th>petal_width</th>\n",
       "      <th>species</th>\n",
       "    </tr>\n",
       "  </thead>\n",
       "  <tbody>\n",
       "    <tr>\n",
       "      <th>0</th>\n",
       "      <td>5.1</td>\n",
       "      <td>3.5</td>\n",
       "      <td>1.4</td>\n",
       "      <td>0.2</td>\n",
       "      <td>setosa</td>\n",
       "    </tr>\n",
       "    <tr>\n",
       "      <th>1</th>\n",
       "      <td>4.9</td>\n",
       "      <td>3.0</td>\n",
       "      <td>1.4</td>\n",
       "      <td>0.2</td>\n",
       "      <td>setosa</td>\n",
       "    </tr>\n",
       "    <tr>\n",
       "      <th>2</th>\n",
       "      <td>4.7</td>\n",
       "      <td>3.2</td>\n",
       "      <td>1.3</td>\n",
       "      <td>0.2</td>\n",
       "      <td>setosa</td>\n",
       "    </tr>\n",
       "    <tr>\n",
       "      <th>3</th>\n",
       "      <td>4.6</td>\n",
       "      <td>3.1</td>\n",
       "      <td>1.5</td>\n",
       "      <td>0.2</td>\n",
       "      <td>setosa</td>\n",
       "    </tr>\n",
       "    <tr>\n",
       "      <th>4</th>\n",
       "      <td>5.0</td>\n",
       "      <td>3.6</td>\n",
       "      <td>1.4</td>\n",
       "      <td>0.2</td>\n",
       "      <td>setosa</td>\n",
       "    </tr>\n",
       "  </tbody>\n",
       "</table>\n",
       "</div>"
      ],
      "text/plain": [
       "   sepal_length  sepal_width  petal_length  petal_width species\n",
       "0           5.1          3.5           1.4          0.2  setosa\n",
       "1           4.9          3.0           1.4          0.2  setosa\n",
       "2           4.7          3.2           1.3          0.2  setosa\n",
       "3           4.6          3.1           1.5          0.2  setosa\n",
       "4           5.0          3.6           1.4          0.2  setosa"
      ]
     },
     "execution_count": 147,
     "metadata": {},
     "output_type": "execute_result"
    }
   ],
   "source": [
    "# 6. species가 setosa인 데이터 최초 5개 행만 출력\n",
    "iris.loc[iris['species'].str.contains('setosa')].head()\n",
    "iris[iris['species'].str.contains('setosa')].head()"
   ]
  },
  {
   "cell_type": "code",
   "execution_count": 148,
   "id": "617f886c",
   "metadata": {
    "ExecuteTime": {
     "end_time": "2024-11-26T05:16:42.419156Z",
     "start_time": "2024-11-26T05:16:42.406517Z"
    }
   },
   "outputs": [
    {
     "data": {
      "text/html": [
       "<div>\n",
       "<style scoped>\n",
       "    .dataframe tbody tr th:only-of-type {\n",
       "        vertical-align: middle;\n",
       "    }\n",
       "\n",
       "    .dataframe tbody tr th {\n",
       "        vertical-align: top;\n",
       "    }\n",
       "\n",
       "    .dataframe thead th {\n",
       "        text-align: right;\n",
       "    }\n",
       "</style>\n",
       "<table border=\"1\" class=\"dataframe\">\n",
       "  <thead>\n",
       "    <tr style=\"text-align: right;\">\n",
       "      <th></th>\n",
       "      <th>sepal_length</th>\n",
       "      <th>sepal_width</th>\n",
       "      <th>petal_length</th>\n",
       "      <th>petal_width</th>\n",
       "      <th>species</th>\n",
       "    </tr>\n",
       "  </thead>\n",
       "  <tbody>\n",
       "    <tr>\n",
       "      <th>50</th>\n",
       "      <td>7.0</td>\n",
       "      <td>3.2</td>\n",
       "      <td>4.7</td>\n",
       "      <td>1.4</td>\n",
       "      <td>versicolor</td>\n",
       "    </tr>\n",
       "    <tr>\n",
       "      <th>52</th>\n",
       "      <td>6.9</td>\n",
       "      <td>3.1</td>\n",
       "      <td>4.9</td>\n",
       "      <td>1.5</td>\n",
       "      <td>versicolor</td>\n",
       "    </tr>\n",
       "    <tr>\n",
       "      <th>54</th>\n",
       "      <td>6.5</td>\n",
       "      <td>2.8</td>\n",
       "      <td>4.6</td>\n",
       "      <td>1.5</td>\n",
       "      <td>versicolor</td>\n",
       "    </tr>\n",
       "    <tr>\n",
       "      <th>58</th>\n",
       "      <td>6.6</td>\n",
       "      <td>2.9</td>\n",
       "      <td>4.6</td>\n",
       "      <td>1.3</td>\n",
       "      <td>versicolor</td>\n",
       "    </tr>\n",
       "    <tr>\n",
       "      <th>65</th>\n",
       "      <td>6.7</td>\n",
       "      <td>3.1</td>\n",
       "      <td>4.4</td>\n",
       "      <td>1.4</td>\n",
       "      <td>versicolor</td>\n",
       "    </tr>\n",
       "  </tbody>\n",
       "</table>\n",
       "</div>"
      ],
      "text/plain": [
       "    sepal_length  sepal_width  petal_length  petal_width     species\n",
       "50           7.0          3.2           4.7          1.4  versicolor\n",
       "52           6.9          3.1           4.9          1.5  versicolor\n",
       "54           6.5          2.8           4.6          1.5  versicolor\n",
       "58           6.6          2.9           4.6          1.3  versicolor\n",
       "65           6.7          3.1           4.4          1.4  versicolor"
      ]
     },
     "execution_count": 148,
     "metadata": {},
     "output_type": "execute_result"
    }
   ],
   "source": [
    "# 7. sepal_length가 6.5이상인 데이터 최초 5개 행만 출력\n",
    "iris.loc[iris['sepal_length'] >= 6.5].head()\n",
    "iris[iris['sepal_length'] >= 6.5].head()"
   ]
  },
  {
   "cell_type": "code",
   "execution_count": 149,
   "id": "712312fd",
   "metadata": {
    "ExecuteTime": {
     "end_time": "2024-11-26T05:16:42.431864Z",
     "start_time": "2024-11-26T05:16:42.421153Z"
    }
   },
   "outputs": [
    {
     "data": {
      "text/html": [
       "<div>\n",
       "<style scoped>\n",
       "    .dataframe tbody tr th:only-of-type {\n",
       "        vertical-align: middle;\n",
       "    }\n",
       "\n",
       "    .dataframe tbody tr th {\n",
       "        vertical-align: top;\n",
       "    }\n",
       "\n",
       "    .dataframe thead th {\n",
       "        text-align: right;\n",
       "    }\n",
       "</style>\n",
       "<table border=\"1\" class=\"dataframe\">\n",
       "  <thead>\n",
       "    <tr style=\"text-align: right;\">\n",
       "      <th></th>\n",
       "      <th>sepal_length</th>\n",
       "      <th>sepal_width</th>\n",
       "      <th>petal_length</th>\n",
       "    </tr>\n",
       "  </thead>\n",
       "  <tbody>\n",
       "    <tr>\n",
       "      <th>105</th>\n",
       "      <td>7.6</td>\n",
       "      <td>3.0</td>\n",
       "      <td>6.6</td>\n",
       "    </tr>\n",
       "    <tr>\n",
       "      <th>107</th>\n",
       "      <td>7.3</td>\n",
       "      <td>2.9</td>\n",
       "      <td>6.3</td>\n",
       "    </tr>\n",
       "    <tr>\n",
       "      <th>109</th>\n",
       "      <td>7.2</td>\n",
       "      <td>3.6</td>\n",
       "      <td>6.1</td>\n",
       "    </tr>\n",
       "    <tr>\n",
       "      <th>117</th>\n",
       "      <td>7.7</td>\n",
       "      <td>3.8</td>\n",
       "      <td>6.7</td>\n",
       "    </tr>\n",
       "    <tr>\n",
       "      <th>118</th>\n",
       "      <td>7.7</td>\n",
       "      <td>2.6</td>\n",
       "      <td>6.9</td>\n",
       "    </tr>\n",
       "    <tr>\n",
       "      <th>122</th>\n",
       "      <td>7.7</td>\n",
       "      <td>2.8</td>\n",
       "      <td>6.7</td>\n",
       "    </tr>\n",
       "    <tr>\n",
       "      <th>125</th>\n",
       "      <td>7.2</td>\n",
       "      <td>3.2</td>\n",
       "      <td>6.0</td>\n",
       "    </tr>\n",
       "    <tr>\n",
       "      <th>129</th>\n",
       "      <td>7.2</td>\n",
       "      <td>3.0</td>\n",
       "      <td>5.8</td>\n",
       "    </tr>\n",
       "    <tr>\n",
       "      <th>130</th>\n",
       "      <td>7.4</td>\n",
       "      <td>2.8</td>\n",
       "      <td>6.1</td>\n",
       "    </tr>\n",
       "    <tr>\n",
       "      <th>131</th>\n",
       "      <td>7.9</td>\n",
       "      <td>3.8</td>\n",
       "      <td>6.4</td>\n",
       "    </tr>\n",
       "    <tr>\n",
       "      <th>135</th>\n",
       "      <td>7.7</td>\n",
       "      <td>3.0</td>\n",
       "      <td>6.1</td>\n",
       "    </tr>\n",
       "  </tbody>\n",
       "</table>\n",
       "</div>"
      ],
      "text/plain": [
       "     sepal_length  sepal_width  petal_length\n",
       "105           7.6          3.0           6.6\n",
       "107           7.3          2.9           6.3\n",
       "109           7.2          3.6           6.1\n",
       "117           7.7          3.8           6.7\n",
       "118           7.7          2.6           6.9\n",
       "122           7.7          2.8           6.7\n",
       "125           7.2          3.2           6.0\n",
       "129           7.2          3.0           5.8\n",
       "130           7.4          2.8           6.1\n",
       "131           7.9          3.8           6.4\n",
       "135           7.7          3.0           6.1"
      ]
     },
     "execution_count": 149,
     "metadata": {},
     "output_type": "execute_result"
    }
   ],
   "source": [
    "# 8. sepal_length가 7.2이상인 데이터의 sepal_length 와 sepal_width 와 petal_length 출력\n",
    "# iris.loc[iris['sepal_length'] >= 7.2,['sepal_length', 'sepal_width', 'petal_length']]\n",
    "iris.loc[iris['sepal_length'] >= 7.2,'sepal_length':'petal_length']"
   ]
  },
  {
   "cell_type": "code",
   "execution_count": 150,
   "id": "40bf69df",
   "metadata": {
    "ExecuteTime": {
     "end_time": "2024-11-26T05:16:42.447822Z",
     "start_time": "2024-11-26T05:16:42.433859Z"
    }
   },
   "outputs": [
    {
     "data": {
      "text/html": [
       "<div>\n",
       "<style scoped>\n",
       "    .dataframe tbody tr th:only-of-type {\n",
       "        vertical-align: middle;\n",
       "    }\n",
       "\n",
       "    .dataframe tbody tr th {\n",
       "        vertical-align: top;\n",
       "    }\n",
       "\n",
       "    .dataframe thead th {\n",
       "        text-align: right;\n",
       "    }\n",
       "</style>\n",
       "<table border=\"1\" class=\"dataframe\">\n",
       "  <thead>\n",
       "    <tr style=\"text-align: right;\">\n",
       "      <th></th>\n",
       "      <th>sepal_length</th>\n",
       "      <th>sepal_width</th>\n",
       "      <th>petal_length</th>\n",
       "      <th>petal_width</th>\n",
       "      <th>species</th>\n",
       "    </tr>\n",
       "  </thead>\n",
       "  <tbody>\n",
       "    <tr>\n",
       "      <th>50</th>\n",
       "      <td>7.0</td>\n",
       "      <td>3.2</td>\n",
       "      <td>4.7</td>\n",
       "      <td>1.4</td>\n",
       "      <td>versicolor</td>\n",
       "    </tr>\n",
       "    <tr>\n",
       "      <th>52</th>\n",
       "      <td>6.9</td>\n",
       "      <td>3.1</td>\n",
       "      <td>4.9</td>\n",
       "      <td>1.5</td>\n",
       "      <td>versicolor</td>\n",
       "    </tr>\n",
       "    <tr>\n",
       "      <th>58</th>\n",
       "      <td>6.6</td>\n",
       "      <td>2.9</td>\n",
       "      <td>4.6</td>\n",
       "      <td>1.3</td>\n",
       "      <td>versicolor</td>\n",
       "    </tr>\n",
       "    <tr>\n",
       "      <th>65</th>\n",
       "      <td>6.7</td>\n",
       "      <td>3.1</td>\n",
       "      <td>4.4</td>\n",
       "      <td>1.4</td>\n",
       "      <td>versicolor</td>\n",
       "    </tr>\n",
       "    <tr>\n",
       "      <th>75</th>\n",
       "      <td>6.6</td>\n",
       "      <td>3.0</td>\n",
       "      <td>4.4</td>\n",
       "      <td>1.4</td>\n",
       "      <td>versicolor</td>\n",
       "    </tr>\n",
       "    <tr>\n",
       "      <th>76</th>\n",
       "      <td>6.8</td>\n",
       "      <td>2.8</td>\n",
       "      <td>4.8</td>\n",
       "      <td>1.4</td>\n",
       "      <td>versicolor</td>\n",
       "    </tr>\n",
       "    <tr>\n",
       "      <th>77</th>\n",
       "      <td>6.7</td>\n",
       "      <td>3.0</td>\n",
       "      <td>5.0</td>\n",
       "      <td>1.7</td>\n",
       "      <td>versicolor</td>\n",
       "    </tr>\n",
       "    <tr>\n",
       "      <th>86</th>\n",
       "      <td>6.7</td>\n",
       "      <td>3.1</td>\n",
       "      <td>4.7</td>\n",
       "      <td>1.5</td>\n",
       "      <td>versicolor</td>\n",
       "    </tr>\n",
       "  </tbody>\n",
       "</table>\n",
       "</div>"
      ],
      "text/plain": [
       "    sepal_length  sepal_width  petal_length  petal_width     species\n",
       "50           7.0          3.2           4.7          1.4  versicolor\n",
       "52           6.9          3.1           4.9          1.5  versicolor\n",
       "58           6.6          2.9           4.6          1.3  versicolor\n",
       "65           6.7          3.1           4.4          1.4  versicolor\n",
       "75           6.6          3.0           4.4          1.4  versicolor\n",
       "76           6.8          2.8           4.8          1.4  versicolor\n",
       "77           6.7          3.0           5.0          1.7  versicolor\n",
       "86           6.7          3.1           4.7          1.5  versicolor"
      ]
     },
     "execution_count": 150,
     "metadata": {},
     "output_type": "execute_result"
    }
   ],
   "source": [
    "# 9. versicolor 종중에서 sepal_lenth가 6.5보다 큰 데이터의 모든 열\n",
    "iris.loc[(iris['species'].str.contains('versicolor')) & (iris['sepal_length'] > 6.5)]\n",
    "iris[(iris['species'].str.contains('versicolor')) & (iris['sepal_length'] > 6.5)]"
   ]
  },
  {
   "cell_type": "code",
   "execution_count": 151,
   "id": "23cfebe0",
   "metadata": {
    "ExecuteTime": {
     "end_time": "2024-11-26T05:16:42.460787Z",
     "start_time": "2024-11-26T05:16:42.448820Z"
    }
   },
   "outputs": [
    {
     "data": {
      "text/html": [
       "<div>\n",
       "<style scoped>\n",
       "    .dataframe tbody tr th:only-of-type {\n",
       "        vertical-align: middle;\n",
       "    }\n",
       "\n",
       "    .dataframe tbody tr th {\n",
       "        vertical-align: top;\n",
       "    }\n",
       "\n",
       "    .dataframe thead th {\n",
       "        text-align: right;\n",
       "    }\n",
       "</style>\n",
       "<table border=\"1\" class=\"dataframe\">\n",
       "  <thead>\n",
       "    <tr style=\"text-align: right;\">\n",
       "      <th></th>\n",
       "      <th>sepal_length</th>\n",
       "      <th>sepal_width</th>\n",
       "      <th>petal_length</th>\n",
       "      <th>petal_width</th>\n",
       "      <th>species</th>\n",
       "    </tr>\n",
       "  </thead>\n",
       "  <tbody>\n",
       "    <tr>\n",
       "      <th>50</th>\n",
       "      <td>7.0</td>\n",
       "      <td>3.2</td>\n",
       "      <td>4.7</td>\n",
       "      <td>1.4</td>\n",
       "      <td>versicolor</td>\n",
       "    </tr>\n",
       "    <tr>\n",
       "      <th>52</th>\n",
       "      <td>6.9</td>\n",
       "      <td>3.1</td>\n",
       "      <td>4.9</td>\n",
       "      <td>1.5</td>\n",
       "      <td>versicolor</td>\n",
       "    </tr>\n",
       "    <tr>\n",
       "      <th>58</th>\n",
       "      <td>6.6</td>\n",
       "      <td>2.9</td>\n",
       "      <td>4.6</td>\n",
       "      <td>1.3</td>\n",
       "      <td>versicolor</td>\n",
       "    </tr>\n",
       "    <tr>\n",
       "      <th>65</th>\n",
       "      <td>6.7</td>\n",
       "      <td>3.1</td>\n",
       "      <td>4.4</td>\n",
       "      <td>1.4</td>\n",
       "      <td>versicolor</td>\n",
       "    </tr>\n",
       "    <tr>\n",
       "      <th>75</th>\n",
       "      <td>6.6</td>\n",
       "      <td>3.0</td>\n",
       "      <td>4.4</td>\n",
       "      <td>1.4</td>\n",
       "      <td>versicolor</td>\n",
       "    </tr>\n",
       "    <tr>\n",
       "      <th>76</th>\n",
       "      <td>6.8</td>\n",
       "      <td>2.8</td>\n",
       "      <td>4.8</td>\n",
       "      <td>1.4</td>\n",
       "      <td>versicolor</td>\n",
       "    </tr>\n",
       "    <tr>\n",
       "      <th>77</th>\n",
       "      <td>6.7</td>\n",
       "      <td>3.0</td>\n",
       "      <td>5.0</td>\n",
       "      <td>1.7</td>\n",
       "      <td>versicolor</td>\n",
       "    </tr>\n",
       "    <tr>\n",
       "      <th>86</th>\n",
       "      <td>6.7</td>\n",
       "      <td>3.1</td>\n",
       "      <td>4.7</td>\n",
       "      <td>1.5</td>\n",
       "      <td>versicolor</td>\n",
       "    </tr>\n",
       "  </tbody>\n",
       "</table>\n",
       "</div>"
      ],
      "text/plain": [
       "    sepal_length  sepal_width  petal_length  petal_width     species\n",
       "50           7.0          3.2           4.7          1.4  versicolor\n",
       "52           6.9          3.1           4.9          1.5  versicolor\n",
       "58           6.6          2.9           4.6          1.3  versicolor\n",
       "65           6.7          3.1           4.4          1.4  versicolor\n",
       "75           6.6          3.0           4.4          1.4  versicolor\n",
       "76           6.8          2.8           4.8          1.4  versicolor\n",
       "77           6.7          3.0           5.0          1.7  versicolor\n",
       "86           6.7          3.1           4.7          1.5  versicolor"
      ]
     },
     "execution_count": 151,
     "metadata": {},
     "output_type": "execute_result"
    }
   ],
   "source": [
    "# 9. versicolor 종중에서 sepal_lenth가 6.5보다 큰 데이터의 모든 열\n",
    "iris[np.logical_and(iris['species']=='versicolor', iris['sepal_length'] > 6.5)]"
   ]
  },
  {
   "cell_type": "markdown",
   "id": "c2b2362f",
   "metadata": {},
   "source": [
    "# 5절. 데이터 추가 및 삭제\n",
    "## 5.1 데이터 프레임의 요소 삭제\n",
    "- df.drop(label, axis) : axis=0일 때는 행삭제, axis=1일 때는 열삭제\n",
    "    * label : 행이름 또는 열이름"
   ]
  },
  {
   "cell_type": "code",
   "execution_count": 154,
   "id": "3ee88520",
   "metadata": {
    "ExecuteTime": {
     "end_time": "2024-11-26T05:17:33.486623Z",
     "start_time": "2024-11-26T05:17:33.475651Z"
    }
   },
   "outputs": [
    {
     "data": {
      "text/html": [
       "<div>\n",
       "<style scoped>\n",
       "    .dataframe tbody tr th:only-of-type {\n",
       "        vertical-align: middle;\n",
       "    }\n",
       "\n",
       "    .dataframe tbody tr th {\n",
       "        vertical-align: top;\n",
       "    }\n",
       "\n",
       "    .dataframe thead th {\n",
       "        text-align: right;\n",
       "    }\n",
       "</style>\n",
       "<table border=\"1\" class=\"dataframe\">\n",
       "  <thead>\n",
       "    <tr style=\"text-align: right;\">\n",
       "      <th></th>\n",
       "      <th>Name</th>\n",
       "      <th>Age</th>\n",
       "      <th>Email</th>\n",
       "      <th>Address</th>\n",
       "      <th>Birth</th>\n",
       "    </tr>\n",
       "  </thead>\n",
       "  <tbody>\n",
       "    <tr>\n",
       "      <th>0</th>\n",
       "      <td>홍길동</td>\n",
       "      <td>20</td>\n",
       "      <td>hong@hong.com</td>\n",
       "      <td>서울시 강동구</td>\n",
       "      <td>1999-01-01</td>\n",
       "    </tr>\n",
       "    <tr>\n",
       "      <th>1</th>\n",
       "      <td>홍길서</td>\n",
       "      <td>30</td>\n",
       "      <td>seo@hong.com</td>\n",
       "      <td>서울시 중구</td>\n",
       "      <td>1999-12-01</td>\n",
       "    </tr>\n",
       "    <tr>\n",
       "      <th>2</th>\n",
       "      <td>홍길남</td>\n",
       "      <td>21</td>\n",
       "      <td>nam@hong.com</td>\n",
       "      <td>서울시 강동구</td>\n",
       "      <td>1999-11-01</td>\n",
       "    </tr>\n",
       "    <tr>\n",
       "      <th>3</th>\n",
       "      <td>홍길북</td>\n",
       "      <td>22</td>\n",
       "      <td>buk@hong.com</td>\n",
       "      <td>서울시 관악구</td>\n",
       "      <td>1999-05-01</td>\n",
       "    </tr>\n",
       "    <tr>\n",
       "      <th>4</th>\n",
       "      <td>홍길중</td>\n",
       "      <td>23</td>\n",
       "      <td>mid@hong.com</td>\n",
       "      <td>부산시 중구</td>\n",
       "      <td>1999-01-30</td>\n",
       "    </tr>\n",
       "  </tbody>\n",
       "</table>\n",
       "</div>"
      ],
      "text/plain": [
       "  Name  Age          Email  Address       Birth\n",
       "0  홍길동   20  hong@hong.com  서울시 강동구  1999-01-01\n",
       "1  홍길서   30   seo@hong.com   서울시 중구  1999-12-01\n",
       "2  홍길남   21   nam@hong.com  서울시 강동구  1999-11-01\n",
       "3  홍길북   22   buk@hong.com  서울시 관악구  1999-05-01\n",
       "4  홍길중   23   mid@hong.com   부산시 중구  1999-01-30"
      ]
     },
     "execution_count": 154,
     "metadata": {},
     "output_type": "execute_result"
    }
   ],
   "source": [
    "member = pd.read_csv('data/ch12_member.csv', encoding='utf-8', sep=',', comment='#')\n",
    "member"
   ]
  },
  {
   "cell_type": "code",
   "execution_count": 155,
   "id": "9af1944b",
   "metadata": {
    "ExecuteTime": {
     "end_time": "2024-11-26T05:17:37.451173Z",
     "start_time": "2024-11-26T05:17:37.442172Z"
    }
   },
   "outputs": [
    {
     "data": {
      "text/html": [
       "<div>\n",
       "<style scoped>\n",
       "    .dataframe tbody tr th:only-of-type {\n",
       "        vertical-align: middle;\n",
       "    }\n",
       "\n",
       "    .dataframe tbody tr th {\n",
       "        vertical-align: top;\n",
       "    }\n",
       "\n",
       "    .dataframe thead th {\n",
       "        text-align: right;\n",
       "    }\n",
       "</style>\n",
       "<table border=\"1\" class=\"dataframe\">\n",
       "  <thead>\n",
       "    <tr style=\"text-align: right;\">\n",
       "      <th></th>\n",
       "      <th>Name</th>\n",
       "      <th>Age</th>\n",
       "      <th>Email</th>\n",
       "      <th>Address</th>\n",
       "      <th>Birth</th>\n",
       "    </tr>\n",
       "  </thead>\n",
       "  <tbody>\n",
       "    <tr>\n",
       "      <th>동</th>\n",
       "      <td>홍길동</td>\n",
       "      <td>20</td>\n",
       "      <td>hong@hong.com</td>\n",
       "      <td>서울시 강동구</td>\n",
       "      <td>1999-01-01</td>\n",
       "    </tr>\n",
       "    <tr>\n",
       "      <th>서</th>\n",
       "      <td>홍길서</td>\n",
       "      <td>30</td>\n",
       "      <td>seo@hong.com</td>\n",
       "      <td>서울시 중구</td>\n",
       "      <td>1999-12-01</td>\n",
       "    </tr>\n",
       "    <tr>\n",
       "      <th>남</th>\n",
       "      <td>홍길남</td>\n",
       "      <td>21</td>\n",
       "      <td>nam@hong.com</td>\n",
       "      <td>서울시 강동구</td>\n",
       "      <td>1999-11-01</td>\n",
       "    </tr>\n",
       "    <tr>\n",
       "      <th>북</th>\n",
       "      <td>홍길북</td>\n",
       "      <td>22</td>\n",
       "      <td>buk@hong.com</td>\n",
       "      <td>서울시 관악구</td>\n",
       "      <td>1999-05-01</td>\n",
       "    </tr>\n",
       "    <tr>\n",
       "      <th>중</th>\n",
       "      <td>홍길중</td>\n",
       "      <td>23</td>\n",
       "      <td>mid@hong.com</td>\n",
       "      <td>부산시 중구</td>\n",
       "      <td>1999-01-30</td>\n",
       "    </tr>\n",
       "  </tbody>\n",
       "</table>\n",
       "</div>"
      ],
      "text/plain": [
       "  Name  Age          Email  Address       Birth\n",
       "동  홍길동   20  hong@hong.com  서울시 강동구  1999-01-01\n",
       "서  홍길서   30   seo@hong.com   서울시 중구  1999-12-01\n",
       "남  홍길남   21   nam@hong.com  서울시 강동구  1999-11-01\n",
       "북  홍길북   22   buk@hong.com  서울시 관악구  1999-05-01\n",
       "중  홍길중   23   mid@hong.com   부산시 중구  1999-01-30"
      ]
     },
     "execution_count": 155,
     "metadata": {},
     "output_type": "execute_result"
    }
   ],
   "source": [
    "member.index = ['동','서','남','북','중']\n",
    "member"
   ]
  },
  {
   "cell_type": "code",
   "execution_count": 156,
   "id": "3f19c6a9",
   "metadata": {
    "ExecuteTime": {
     "end_time": "2024-11-26T05:17:39.535851Z",
     "start_time": "2024-11-26T05:17:39.530864Z"
    }
   },
   "outputs": [],
   "source": [
    "# 1) 단일행 삭제\n",
    "member.drop('동', inplace=True) # axis=0 (기본값)이변 행이름을 찾아 삭제한 결과를 반환\n",
    "                  # 삭제한 결과를 member에 적용 - 할당 member = member.drop('동')\n",
    "                  #                             - inplace=True 추가"
   ]
  },
  {
   "cell_type": "code",
   "execution_count": 157,
   "id": "25a1a6a2",
   "metadata": {
    "ExecuteTime": {
     "end_time": "2024-11-26T05:17:39.988882Z",
     "start_time": "2024-11-26T05:17:39.978879Z"
    }
   },
   "outputs": [
    {
     "data": {
      "text/html": [
       "<div>\n",
       "<style scoped>\n",
       "    .dataframe tbody tr th:only-of-type {\n",
       "        vertical-align: middle;\n",
       "    }\n",
       "\n",
       "    .dataframe tbody tr th {\n",
       "        vertical-align: top;\n",
       "    }\n",
       "\n",
       "    .dataframe thead th {\n",
       "        text-align: right;\n",
       "    }\n",
       "</style>\n",
       "<table border=\"1\" class=\"dataframe\">\n",
       "  <thead>\n",
       "    <tr style=\"text-align: right;\">\n",
       "      <th></th>\n",
       "      <th>Name</th>\n",
       "      <th>Age</th>\n",
       "      <th>Email</th>\n",
       "      <th>Address</th>\n",
       "      <th>Birth</th>\n",
       "    </tr>\n",
       "  </thead>\n",
       "  <tbody>\n",
       "    <tr>\n",
       "      <th>서</th>\n",
       "      <td>홍길서</td>\n",
       "      <td>30</td>\n",
       "      <td>seo@hong.com</td>\n",
       "      <td>서울시 중구</td>\n",
       "      <td>1999-12-01</td>\n",
       "    </tr>\n",
       "    <tr>\n",
       "      <th>남</th>\n",
       "      <td>홍길남</td>\n",
       "      <td>21</td>\n",
       "      <td>nam@hong.com</td>\n",
       "      <td>서울시 강동구</td>\n",
       "      <td>1999-11-01</td>\n",
       "    </tr>\n",
       "  </tbody>\n",
       "</table>\n",
       "</div>"
      ],
      "text/plain": [
       "  Name  Age         Email  Address       Birth\n",
       "서  홍길서   30  seo@hong.com   서울시 중구  1999-12-01\n",
       "남  홍길남   21  nam@hong.com  서울시 강동구  1999-11-01"
      ]
     },
     "execution_count": 157,
     "metadata": {},
     "output_type": "execute_result"
    }
   ],
   "source": [
    "# 2) 복수행 삭제\n",
    "member.drop(['북','중'])"
   ]
  },
  {
   "cell_type": "code",
   "execution_count": 158,
   "id": "7f6030fd",
   "metadata": {
    "ExecuteTime": {
     "end_time": "2024-11-26T05:17:40.485258Z",
     "start_time": "2024-11-26T05:17:40.474946Z"
    }
   },
   "outputs": [
    {
     "data": {
      "text/html": [
       "<div>\n",
       "<style scoped>\n",
       "    .dataframe tbody tr th:only-of-type {\n",
       "        vertical-align: middle;\n",
       "    }\n",
       "\n",
       "    .dataframe tbody tr th {\n",
       "        vertical-align: top;\n",
       "    }\n",
       "\n",
       "    .dataframe thead th {\n",
       "        text-align: right;\n",
       "    }\n",
       "</style>\n",
       "<table border=\"1\" class=\"dataframe\">\n",
       "  <thead>\n",
       "    <tr style=\"text-align: right;\">\n",
       "      <th></th>\n",
       "      <th>Name</th>\n",
       "      <th>Age</th>\n",
       "      <th>Email</th>\n",
       "      <th>Birth</th>\n",
       "    </tr>\n",
       "  </thead>\n",
       "  <tbody>\n",
       "    <tr>\n",
       "      <th>서</th>\n",
       "      <td>홍길서</td>\n",
       "      <td>30</td>\n",
       "      <td>seo@hong.com</td>\n",
       "      <td>1999-12-01</td>\n",
       "    </tr>\n",
       "    <tr>\n",
       "      <th>남</th>\n",
       "      <td>홍길남</td>\n",
       "      <td>21</td>\n",
       "      <td>nam@hong.com</td>\n",
       "      <td>1999-11-01</td>\n",
       "    </tr>\n",
       "    <tr>\n",
       "      <th>북</th>\n",
       "      <td>홍길북</td>\n",
       "      <td>22</td>\n",
       "      <td>buk@hong.com</td>\n",
       "      <td>1999-05-01</td>\n",
       "    </tr>\n",
       "    <tr>\n",
       "      <th>중</th>\n",
       "      <td>홍길중</td>\n",
       "      <td>23</td>\n",
       "      <td>mid@hong.com</td>\n",
       "      <td>1999-01-30</td>\n",
       "    </tr>\n",
       "  </tbody>\n",
       "</table>\n",
       "</div>"
      ],
      "text/plain": [
       "  Name  Age         Email       Birth\n",
       "서  홍길서   30  seo@hong.com  1999-12-01\n",
       "남  홍길남   21  nam@hong.com  1999-11-01\n",
       "북  홍길북   22  buk@hong.com  1999-05-01\n",
       "중  홍길중   23  mid@hong.com  1999-01-30"
      ]
     },
     "execution_count": 158,
     "metadata": {},
     "output_type": "execute_result"
    }
   ],
   "source": [
    "# 3) 열삭제\n",
    "member.drop('Address', axis = 1) # 해당 열을 삭제한 결과를 return"
   ]
  },
  {
   "cell_type": "markdown",
   "id": "c703b2ef",
   "metadata": {},
   "source": [
    "## 5.2 데이터 프레임의 요소추가"
   ]
  },
  {
   "cell_type": "code",
   "execution_count": 159,
   "id": "be97309d",
   "metadata": {
    "ExecuteTime": {
     "end_time": "2024-11-26T05:17:43.406501Z",
     "start_time": "2024-11-26T05:17:43.398497Z"
    }
   },
   "outputs": [
    {
     "data": {
      "text/html": [
       "<div>\n",
       "<style scoped>\n",
       "    .dataframe tbody tr th:only-of-type {\n",
       "        vertical-align: middle;\n",
       "    }\n",
       "\n",
       "    .dataframe tbody tr th {\n",
       "        vertical-align: top;\n",
       "    }\n",
       "\n",
       "    .dataframe thead th {\n",
       "        text-align: right;\n",
       "    }\n",
       "</style>\n",
       "<table border=\"1\" class=\"dataframe\">\n",
       "  <thead>\n",
       "    <tr style=\"text-align: right;\">\n",
       "      <th></th>\n",
       "      <th>Name</th>\n",
       "      <th>Age</th>\n",
       "      <th>Email</th>\n",
       "      <th>Address</th>\n",
       "      <th>Birth</th>\n",
       "      <th>favarite_no</th>\n",
       "    </tr>\n",
       "  </thead>\n",
       "  <tbody>\n",
       "    <tr>\n",
       "      <th>서</th>\n",
       "      <td>홍길서</td>\n",
       "      <td>30</td>\n",
       "      <td>seo@hong.com</td>\n",
       "      <td>서울시 중구</td>\n",
       "      <td>1999-12-01</td>\n",
       "      <td>7</td>\n",
       "    </tr>\n",
       "    <tr>\n",
       "      <th>남</th>\n",
       "      <td>홍길남</td>\n",
       "      <td>21</td>\n",
       "      <td>nam@hong.com</td>\n",
       "      <td>서울시 강동구</td>\n",
       "      <td>1999-11-01</td>\n",
       "      <td>7</td>\n",
       "    </tr>\n",
       "    <tr>\n",
       "      <th>북</th>\n",
       "      <td>홍길북</td>\n",
       "      <td>22</td>\n",
       "      <td>buk@hong.com</td>\n",
       "      <td>서울시 관악구</td>\n",
       "      <td>1999-05-01</td>\n",
       "      <td>7</td>\n",
       "    </tr>\n",
       "    <tr>\n",
       "      <th>중</th>\n",
       "      <td>홍길중</td>\n",
       "      <td>23</td>\n",
       "      <td>mid@hong.com</td>\n",
       "      <td>부산시 중구</td>\n",
       "      <td>1999-01-30</td>\n",
       "      <td>7</td>\n",
       "    </tr>\n",
       "  </tbody>\n",
       "</table>\n",
       "</div>"
      ],
      "text/plain": [
       "  Name  Age         Email  Address       Birth  favarite_no\n",
       "서  홍길서   30  seo@hong.com   서울시 중구  1999-12-01            7\n",
       "남  홍길남   21  nam@hong.com  서울시 강동구  1999-11-01            7\n",
       "북  홍길북   22  buk@hong.com  서울시 관악구  1999-05-01            7\n",
       "중  홍길중   23  mid@hong.com   부산시 중구  1999-01-30            7"
      ]
     },
     "execution_count": 159,
     "metadata": {},
     "output_type": "execute_result"
    }
   ],
   "source": [
    "#1) 리스트를 이용한 열 추가\n",
    "member['favarite_no']=7\n",
    "member"
   ]
  },
  {
   "cell_type": "code",
   "execution_count": null,
   "id": "fcde26d8",
   "metadata": {},
   "outputs": [],
   "source": []
  },
  {
   "cell_type": "code",
   "execution_count": 172,
   "id": "41ef4737",
   "metadata": {
    "ExecuteTime": {
     "end_time": "2024-11-26T05:22:16.673609Z",
     "start_time": "2024-11-26T05:22:16.661642Z"
    }
   },
   "outputs": [
    {
     "data": {
      "text/html": [
       "<div>\n",
       "<style scoped>\n",
       "    .dataframe tbody tr th:only-of-type {\n",
       "        vertical-align: middle;\n",
       "    }\n",
       "\n",
       "    .dataframe tbody tr th {\n",
       "        vertical-align: top;\n",
       "    }\n",
       "\n",
       "    .dataframe thead th {\n",
       "        text-align: right;\n",
       "    }\n",
       "</style>\n",
       "<table border=\"1\" class=\"dataframe\">\n",
       "  <thead>\n",
       "    <tr style=\"text-align: right;\">\n",
       "      <th></th>\n",
       "      <th>Name</th>\n",
       "      <th>Age</th>\n",
       "      <th>Email</th>\n",
       "      <th>Address</th>\n",
       "      <th>Birth</th>\n",
       "      <th>favarite_no</th>\n",
       "    </tr>\n",
       "  </thead>\n",
       "  <tbody>\n",
       "    <tr>\n",
       "      <th>0</th>\n",
       "      <td>홍길동</td>\n",
       "      <td>20</td>\n",
       "      <td>hong@hong.com</td>\n",
       "      <td>서울시 강동구</td>\n",
       "      <td>1999-01-01</td>\n",
       "      <td>7.0</td>\n",
       "    </tr>\n",
       "    <tr>\n",
       "      <th>1</th>\n",
       "      <td>홍길서</td>\n",
       "      <td>30</td>\n",
       "      <td>seo@hong.com</td>\n",
       "      <td>서울시 중구</td>\n",
       "      <td>1999-12-01</td>\n",
       "      <td>7.0</td>\n",
       "    </tr>\n",
       "    <tr>\n",
       "      <th>2</th>\n",
       "      <td>홍길남</td>\n",
       "      <td>21</td>\n",
       "      <td>nam@hong.com</td>\n",
       "      <td>서울시 강동구</td>\n",
       "      <td>1999-11-01</td>\n",
       "      <td>7.0</td>\n",
       "    </tr>\n",
       "    <tr>\n",
       "      <th>3</th>\n",
       "      <td>홍길북</td>\n",
       "      <td>22</td>\n",
       "      <td>buk@hong.com</td>\n",
       "      <td>서울시 관악구</td>\n",
       "      <td>1999-05-01</td>\n",
       "      <td>NaN</td>\n",
       "    </tr>\n",
       "    <tr>\n",
       "      <th>4</th>\n",
       "      <td>홍길중</td>\n",
       "      <td>23</td>\n",
       "      <td>mid@hong.com</td>\n",
       "      <td>부산시 중구</td>\n",
       "      <td>1999-01-30</td>\n",
       "      <td>3.0</td>\n",
       "    </tr>\n",
       "  </tbody>\n",
       "</table>\n",
       "</div>"
      ],
      "text/plain": [
       "  Name  Age          Email  Address       Birth  favarite_no\n",
       "0  홍길동   20  hong@hong.com  서울시 강동구  1999-01-01          7.0\n",
       "1  홍길서   30   seo@hong.com   서울시 중구  1999-12-01          7.0\n",
       "2  홍길남   21   nam@hong.com  서울시 강동구  1999-11-01          7.0\n",
       "3  홍길북   22   buk@hong.com  서울시 관악구  1999-05-01          NaN\n",
       "4  홍길중   23   mid@hong.com   부산시 중구  1999-01-30          3.0"
      ]
     },
     "execution_count": 172,
     "metadata": {},
     "output_type": "execute_result"
    }
   ],
   "source": [
    "member = pd.read_csv('data/ch12_member.csv', comment='#')\n",
    "member['favarite_no']=[7,7,7,None,3]\n",
    "member"
   ]
  },
  {
   "cell_type": "code",
   "execution_count": 169,
   "id": "ae2080ae",
   "metadata": {
    "ExecuteTime": {
     "end_time": "2024-11-26T05:21:22.508918Z",
     "start_time": "2024-11-26T05:21:22.498905Z"
    }
   },
   "outputs": [
    {
     "name": "stdout",
     "output_type": "stream",
     "text": [
      "<class 'pandas.core.frame.DataFrame'>\n",
      "RangeIndex: 5 entries, 0 to 4\n",
      "Data columns (total 6 columns):\n",
      " #   Column       Non-Null Count  Dtype  \n",
      "---  ------       --------------  -----  \n",
      " 0   Name         5 non-null      object \n",
      " 1   Age          5 non-null      int64  \n",
      " 2   Email        5 non-null      object \n",
      " 3   Address      5 non-null      object \n",
      " 4   Birth        5 non-null      object \n",
      " 5   favarite_no  4 non-null      float64\n",
      "dtypes: float64(1), int64(1), object(4)\n",
      "memory usage: 368.0+ bytes\n"
     ]
    }
   ],
   "source": [
    "member.info()"
   ]
  },
  {
   "cell_type": "code",
   "execution_count": 170,
   "id": "25e9dcd0",
   "metadata": {
    "ExecuteTime": {
     "end_time": "2024-11-26T05:21:23.109740Z",
     "start_time": "2024-11-26T05:21:23.098769Z"
    }
   },
   "outputs": [
    {
     "data": {
      "text/html": [
       "<div>\n",
       "<style scoped>\n",
       "    .dataframe tbody tr th:only-of-type {\n",
       "        vertical-align: middle;\n",
       "    }\n",
       "\n",
       "    .dataframe tbody tr th {\n",
       "        vertical-align: top;\n",
       "    }\n",
       "\n",
       "    .dataframe thead th {\n",
       "        text-align: right;\n",
       "    }\n",
       "</style>\n",
       "<table border=\"1\" class=\"dataframe\">\n",
       "  <thead>\n",
       "    <tr style=\"text-align: right;\">\n",
       "      <th></th>\n",
       "      <th>Name</th>\n",
       "      <th>Age</th>\n",
       "      <th>Email</th>\n",
       "      <th>Address</th>\n",
       "      <th>Birth</th>\n",
       "      <th>favarite_no</th>\n",
       "      <th>favarite_num</th>\n",
       "    </tr>\n",
       "  </thead>\n",
       "  <tbody>\n",
       "    <tr>\n",
       "      <th>0</th>\n",
       "      <td>홍길동</td>\n",
       "      <td>20</td>\n",
       "      <td>hong@hong.com</td>\n",
       "      <td>서울시 강동구</td>\n",
       "      <td>1999-01-01</td>\n",
       "      <td>7.0</td>\n",
       "      <td>7</td>\n",
       "    </tr>\n",
       "    <tr>\n",
       "      <th>1</th>\n",
       "      <td>홍길서</td>\n",
       "      <td>30</td>\n",
       "      <td>seo@hong.com</td>\n",
       "      <td>서울시 중구</td>\n",
       "      <td>1999-12-01</td>\n",
       "      <td>7.0</td>\n",
       "      <td>None</td>\n",
       "    </tr>\n",
       "    <tr>\n",
       "      <th>2</th>\n",
       "      <td>홍길남</td>\n",
       "      <td>21</td>\n",
       "      <td>nam@hong.com</td>\n",
       "      <td>서울시 강동구</td>\n",
       "      <td>1999-11-01</td>\n",
       "      <td>7.0</td>\n",
       "      <td>7</td>\n",
       "    </tr>\n",
       "    <tr>\n",
       "      <th>3</th>\n",
       "      <td>홍길북</td>\n",
       "      <td>22</td>\n",
       "      <td>buk@hong.com</td>\n",
       "      <td>서울시 관악구</td>\n",
       "      <td>1999-05-01</td>\n",
       "      <td>NaN</td>\n",
       "      <td>None</td>\n",
       "    </tr>\n",
       "    <tr>\n",
       "      <th>4</th>\n",
       "      <td>홍길중</td>\n",
       "      <td>23</td>\n",
       "      <td>mid@hong.com</td>\n",
       "      <td>부산시 중구</td>\n",
       "      <td>1999-01-30</td>\n",
       "      <td>3.0</td>\n",
       "      <td>7</td>\n",
       "    </tr>\n",
       "  </tbody>\n",
       "</table>\n",
       "</div>"
      ],
      "text/plain": [
       "  Name  Age          Email  Address       Birth  favarite_no favarite_num\n",
       "0  홍길동   20  hong@hong.com  서울시 강동구  1999-01-01          7.0            7\n",
       "1  홍길서   30   seo@hong.com   서울시 중구  1999-12-01          7.0         None\n",
       "2  홍길남   21   nam@hong.com  서울시 강동구  1999-11-01          7.0            7\n",
       "3  홍길북   22   buk@hong.com  서울시 관악구  1999-05-01          NaN         None\n",
       "4  홍길중   23   mid@hong.com   부산시 중구  1999-01-30          3.0            7"
      ]
     },
     "execution_count": 170,
     "metadata": {},
     "output_type": "execute_result"
    }
   ],
   "source": [
    "member['favarite_num'] = None\n",
    "\n",
    "member.loc[::2, 'favarite_num'] = 7\n",
    "member"
   ]
  },
  {
   "cell_type": "code",
   "execution_count": 171,
   "id": "37cbad4c",
   "metadata": {
    "ExecuteTime": {
     "end_time": "2024-11-26T05:21:23.868239Z",
     "start_time": "2024-11-26T05:21:23.858743Z"
    }
   },
   "outputs": [
    {
     "name": "stdout",
     "output_type": "stream",
     "text": [
      "<class 'pandas.core.frame.DataFrame'>\n",
      "RangeIndex: 5 entries, 0 to 4\n",
      "Data columns (total 7 columns):\n",
      " #   Column        Non-Null Count  Dtype  \n",
      "---  ------        --------------  -----  \n",
      " 0   Name          5 non-null      object \n",
      " 1   Age           5 non-null      int64  \n",
      " 2   Email         5 non-null      object \n",
      " 3   Address       5 non-null      object \n",
      " 4   Birth         5 non-null      object \n",
      " 5   favarite_no   4 non-null      float64\n",
      " 6   favarite_num  3 non-null      object \n",
      "dtypes: float64(1), int64(1), object(5)\n",
      "memory usage: 408.0+ bytes\n"
     ]
    }
   ],
   "source": [
    "member.info()"
   ]
  },
  {
   "cell_type": "code",
   "execution_count": 173,
   "id": "f2c0d8a0",
   "metadata": {
    "ExecuteTime": {
     "end_time": "2024-11-26T05:23:05.623098Z",
     "start_time": "2024-11-26T05:23:05.611111Z"
    }
   },
   "outputs": [
    {
     "data": {
      "text/html": [
       "<div>\n",
       "<style scoped>\n",
       "    .dataframe tbody tr th:only-of-type {\n",
       "        vertical-align: middle;\n",
       "    }\n",
       "\n",
       "    .dataframe tbody tr th {\n",
       "        vertical-align: top;\n",
       "    }\n",
       "\n",
       "    .dataframe thead th {\n",
       "        text-align: right;\n",
       "    }\n",
       "</style>\n",
       "<table border=\"1\" class=\"dataframe\">\n",
       "  <thead>\n",
       "    <tr style=\"text-align: right;\">\n",
       "      <th></th>\n",
       "      <th>Name</th>\n",
       "      <th>Age</th>\n",
       "      <th>Email</th>\n",
       "      <th>Address</th>\n",
       "      <th>Birth</th>\n",
       "      <th>favarite_no</th>\n",
       "    </tr>\n",
       "  </thead>\n",
       "  <tbody>\n",
       "    <tr>\n",
       "      <th>0</th>\n",
       "      <td>홍길동</td>\n",
       "      <td>20</td>\n",
       "      <td>hong@hong.com</td>\n",
       "      <td>서울시 강동구</td>\n",
       "      <td>1999-01-01</td>\n",
       "      <td>7.0</td>\n",
       "    </tr>\n",
       "    <tr>\n",
       "      <th>1</th>\n",
       "      <td>홍길서</td>\n",
       "      <td>30</td>\n",
       "      <td>seo@hong.com</td>\n",
       "      <td>서울시 중구</td>\n",
       "      <td>1999-12-01</td>\n",
       "      <td>7.0</td>\n",
       "    </tr>\n",
       "    <tr>\n",
       "      <th>2</th>\n",
       "      <td>홍길남</td>\n",
       "      <td>21</td>\n",
       "      <td>nam@hong.com</td>\n",
       "      <td>서울시 강동구</td>\n",
       "      <td>1999-11-01</td>\n",
       "      <td>7.0</td>\n",
       "    </tr>\n",
       "    <tr>\n",
       "      <th>3</th>\n",
       "      <td>홍길북</td>\n",
       "      <td>22</td>\n",
       "      <td>buk@hong.com</td>\n",
       "      <td>서울시 관악구</td>\n",
       "      <td>1999-05-01</td>\n",
       "      <td>NaN</td>\n",
       "    </tr>\n",
       "    <tr>\n",
       "      <th>4</th>\n",
       "      <td>홍길중</td>\n",
       "      <td>23</td>\n",
       "      <td>mid@hong.com</td>\n",
       "      <td>부산시 중구</td>\n",
       "      <td>1999-01-30</td>\n",
       "      <td>NaN</td>\n",
       "    </tr>\n",
       "  </tbody>\n",
       "</table>\n",
       "</div>"
      ],
      "text/plain": [
       "  Name  Age          Email  Address       Birth  favarite_no\n",
       "0  홍길동   20  hong@hong.com  서울시 강동구  1999-01-01          7.0\n",
       "1  홍길서   30   seo@hong.com   서울시 중구  1999-12-01          7.0\n",
       "2  홍길남   21   nam@hong.com  서울시 강동구  1999-11-01          7.0\n",
       "3  홍길북   22   buk@hong.com  서울시 관악구  1999-05-01          NaN\n",
       "4  홍길중   23   mid@hong.com   부산시 중구  1999-01-30          NaN"
      ]
     },
     "execution_count": 173,
     "metadata": {},
     "output_type": "execute_result"
    }
   ],
   "source": [
    "# 2) 시리즈를 이용한 열 추가\n",
    "member = pd.read_csv('data/ch12_member.csv', comment='#')\n",
    "member['favarite_no']=pd.Series([7,7,7]) # 데이터 갯수가 부족\n",
    "# 입력되지 못한 부분은 자동으로 NaN(결측치)\n",
    "member"
   ]
  },
  {
   "cell_type": "code",
   "execution_count": 174,
   "id": "a3bdcc19",
   "metadata": {
    "ExecuteTime": {
     "end_time": "2024-11-26T05:26:00.268185Z",
     "start_time": "2024-11-26T05:26:00.255238Z"
    }
   },
   "outputs": [
    {
     "data": {
      "text/html": [
       "<div>\n",
       "<style scoped>\n",
       "    .dataframe tbody tr th:only-of-type {\n",
       "        vertical-align: middle;\n",
       "    }\n",
       "\n",
       "    .dataframe tbody tr th {\n",
       "        vertical-align: top;\n",
       "    }\n",
       "\n",
       "    .dataframe thead th {\n",
       "        text-align: right;\n",
       "    }\n",
       "</style>\n",
       "<table border=\"1\" class=\"dataframe\">\n",
       "  <thead>\n",
       "    <tr style=\"text-align: right;\">\n",
       "      <th></th>\n",
       "      <th>Name</th>\n",
       "      <th>Age</th>\n",
       "      <th>Email</th>\n",
       "      <th>Address</th>\n",
       "      <th>Birth</th>\n",
       "      <th>favarite_no</th>\n",
       "    </tr>\n",
       "  </thead>\n",
       "  <tbody>\n",
       "    <tr>\n",
       "      <th>0</th>\n",
       "      <td>홍길동</td>\n",
       "      <td>20</td>\n",
       "      <td>hong@hong.com</td>\n",
       "      <td>서울시 강동구</td>\n",
       "      <td>1999-01-01</td>\n",
       "      <td>1.0</td>\n",
       "    </tr>\n",
       "    <tr>\n",
       "      <th>1</th>\n",
       "      <td>홍길서</td>\n",
       "      <td>30</td>\n",
       "      <td>seo@hong.com</td>\n",
       "      <td>서울시 중구</td>\n",
       "      <td>1999-12-01</td>\n",
       "      <td>NaN</td>\n",
       "    </tr>\n",
       "    <tr>\n",
       "      <th>2</th>\n",
       "      <td>홍길남</td>\n",
       "      <td>21</td>\n",
       "      <td>nam@hong.com</td>\n",
       "      <td>서울시 강동구</td>\n",
       "      <td>1999-11-01</td>\n",
       "      <td>2.0</td>\n",
       "    </tr>\n",
       "    <tr>\n",
       "      <th>3</th>\n",
       "      <td>홍길북</td>\n",
       "      <td>22</td>\n",
       "      <td>buk@hong.com</td>\n",
       "      <td>서울시 관악구</td>\n",
       "      <td>1999-05-01</td>\n",
       "      <td>3.0</td>\n",
       "    </tr>\n",
       "    <tr>\n",
       "      <th>4</th>\n",
       "      <td>홍길중</td>\n",
       "      <td>23</td>\n",
       "      <td>mid@hong.com</td>\n",
       "      <td>부산시 중구</td>\n",
       "      <td>1999-01-30</td>\n",
       "      <td>NaN</td>\n",
       "    </tr>\n",
       "  </tbody>\n",
       "</table>\n",
       "</div>"
      ],
      "text/plain": [
       "  Name  Age          Email  Address       Birth  favarite_no\n",
       "0  홍길동   20  hong@hong.com  서울시 강동구  1999-01-01          1.0\n",
       "1  홍길서   30   seo@hong.com   서울시 중구  1999-12-01          NaN\n",
       "2  홍길남   21   nam@hong.com  서울시 강동구  1999-11-01          2.0\n",
       "3  홍길북   22   buk@hong.com  서울시 관악구  1999-05-01          3.0\n",
       "4  홍길중   23   mid@hong.com   부산시 중구  1999-01-30          NaN"
      ]
     },
     "execution_count": 174,
     "metadata": {},
     "output_type": "execute_result"
    }
   ],
   "source": [
    "member = pd.read_csv('data/ch12_member.csv', comment='#')\n",
    "member['favarite_no']=pd.Series([1,2,3], index=[0,2,3])\n",
    "member"
   ]
  },
  {
   "cell_type": "code",
   "execution_count": 185,
   "id": "7604083b",
   "metadata": {
    "ExecuteTime": {
     "end_time": "2024-11-26T05:34:54.052800Z",
     "start_time": "2024-11-26T05:34:54.042855Z"
    }
   },
   "outputs": [
    {
     "name": "stderr",
     "output_type": "stream",
     "text": [
      "C:\\Users\\4545\\AppData\\Local\\Temp\\ipykernel_1640\\493351895.py:10: FutureWarning: The frame.append method is deprecated and will be removed from pandas in a future version. Use pandas.concat instead.\n",
      "  member = member.append(new_member, ignore_index=True)\n"
     ]
    }
   ],
   "source": [
    "# 3) 딕셔너리로 행추가\n",
    "member = pd.read_csv('data/ch12_member.csv', comment='#')\n",
    "new_member = {\n",
    "    'Name':'홍길숙',\n",
    "    'Age':25,\n",
    "    'Email':'suk@su.com',\n",
    "    'Address':'안양',\n",
    "    'Birth':'2020-12-12'\n",
    "}\n",
    "member = member.append(new_member, ignore_index=True)"
   ]
  },
  {
   "cell_type": "code",
   "execution_count": 186,
   "id": "b5c9a028",
   "metadata": {
    "ExecuteTime": {
     "end_time": "2024-11-26T05:34:55.028278Z",
     "start_time": "2024-11-26T05:34:55.019302Z"
    }
   },
   "outputs": [
    {
     "data": {
      "text/html": [
       "<div>\n",
       "<style scoped>\n",
       "    .dataframe tbody tr th:only-of-type {\n",
       "        vertical-align: middle;\n",
       "    }\n",
       "\n",
       "    .dataframe tbody tr th {\n",
       "        vertical-align: top;\n",
       "    }\n",
       "\n",
       "    .dataframe thead th {\n",
       "        text-align: right;\n",
       "    }\n",
       "</style>\n",
       "<table border=\"1\" class=\"dataframe\">\n",
       "  <thead>\n",
       "    <tr style=\"text-align: right;\">\n",
       "      <th></th>\n",
       "      <th>Name</th>\n",
       "      <th>Age</th>\n",
       "      <th>Email</th>\n",
       "      <th>Address</th>\n",
       "      <th>Birth</th>\n",
       "    </tr>\n",
       "  </thead>\n",
       "  <tbody>\n",
       "    <tr>\n",
       "      <th>0</th>\n",
       "      <td>홍길동</td>\n",
       "      <td>20</td>\n",
       "      <td>hong@hong.com</td>\n",
       "      <td>서울시 강동구</td>\n",
       "      <td>1999-01-01</td>\n",
       "    </tr>\n",
       "    <tr>\n",
       "      <th>1</th>\n",
       "      <td>홍길서</td>\n",
       "      <td>30</td>\n",
       "      <td>seo@hong.com</td>\n",
       "      <td>서울시 중구</td>\n",
       "      <td>1999-12-01</td>\n",
       "    </tr>\n",
       "    <tr>\n",
       "      <th>2</th>\n",
       "      <td>홍길남</td>\n",
       "      <td>21</td>\n",
       "      <td>nam@hong.com</td>\n",
       "      <td>서울시 강동구</td>\n",
       "      <td>1999-11-01</td>\n",
       "    </tr>\n",
       "    <tr>\n",
       "      <th>3</th>\n",
       "      <td>홍길북</td>\n",
       "      <td>22</td>\n",
       "      <td>buk@hong.com</td>\n",
       "      <td>서울시 관악구</td>\n",
       "      <td>1999-05-01</td>\n",
       "    </tr>\n",
       "    <tr>\n",
       "      <th>4</th>\n",
       "      <td>홍길중</td>\n",
       "      <td>23</td>\n",
       "      <td>mid@hong.com</td>\n",
       "      <td>부산시 중구</td>\n",
       "      <td>1999-01-30</td>\n",
       "    </tr>\n",
       "    <tr>\n",
       "      <th>5</th>\n",
       "      <td>홍길숙</td>\n",
       "      <td>25</td>\n",
       "      <td>suk@su.com</td>\n",
       "      <td>안양</td>\n",
       "      <td>2020-12-12</td>\n",
       "    </tr>\n",
       "  </tbody>\n",
       "</table>\n",
       "</div>"
      ],
      "text/plain": [
       "  Name  Age          Email  Address       Birth\n",
       "0  홍길동   20  hong@hong.com  서울시 강동구  1999-01-01\n",
       "1  홍길서   30   seo@hong.com   서울시 중구  1999-12-01\n",
       "2  홍길남   21   nam@hong.com  서울시 강동구  1999-11-01\n",
       "3  홍길북   22   buk@hong.com  서울시 관악구  1999-05-01\n",
       "4  홍길중   23   mid@hong.com   부산시 중구  1999-01-30\n",
       "5  홍길숙   25     suk@su.com       안양  2020-12-12"
      ]
     },
     "execution_count": 186,
     "metadata": {},
     "output_type": "execute_result"
    }
   ],
   "source": [
    "member"
   ]
  },
  {
   "cell_type": "code",
   "execution_count": 187,
   "id": "c804e1d6",
   "metadata": {
    "ExecuteTime": {
     "end_time": "2024-11-26T05:34:55.963757Z",
     "start_time": "2024-11-26T05:34:55.954782Z"
    }
   },
   "outputs": [
    {
     "data": {
      "text/html": [
       "<div>\n",
       "<style scoped>\n",
       "    .dataframe tbody tr th:only-of-type {\n",
       "        vertical-align: middle;\n",
       "    }\n",
       "\n",
       "    .dataframe tbody tr th {\n",
       "        vertical-align: top;\n",
       "    }\n",
       "\n",
       "    .dataframe thead th {\n",
       "        text-align: right;\n",
       "    }\n",
       "</style>\n",
       "<table border=\"1\" class=\"dataframe\">\n",
       "  <thead>\n",
       "    <tr style=\"text-align: right;\">\n",
       "      <th></th>\n",
       "      <th>Name</th>\n",
       "      <th>Age</th>\n",
       "      <th>Email</th>\n",
       "      <th>Address</th>\n",
       "      <th>Birth</th>\n",
       "    </tr>\n",
       "  </thead>\n",
       "  <tbody>\n",
       "    <tr>\n",
       "      <th>0</th>\n",
       "      <td>홍길숙</td>\n",
       "      <td>25</td>\n",
       "      <td>suk@su.com</td>\n",
       "      <td>안양</td>\n",
       "      <td>2020-12-12</td>\n",
       "    </tr>\n",
       "  </tbody>\n",
       "</table>\n",
       "</div>"
      ],
      "text/plain": [
       "  Name  Age       Email Address       Birth\n",
       "0  홍길숙   25  suk@su.com      안양  2020-12-12"
      ]
     },
     "execution_count": 187,
     "metadata": {},
     "output_type": "execute_result"
    }
   ],
   "source": [
    "new_member = pd.DataFrame([new_member])\n",
    "new_member"
   ]
  },
  {
   "cell_type": "code",
   "execution_count": 188,
   "id": "4e612f62",
   "metadata": {
    "ExecuteTime": {
     "end_time": "2024-11-26T05:35:00.651186Z",
     "start_time": "2024-11-26T05:35:00.640215Z"
    }
   },
   "outputs": [
    {
     "data": {
      "text/html": [
       "<div>\n",
       "<style scoped>\n",
       "    .dataframe tbody tr th:only-of-type {\n",
       "        vertical-align: middle;\n",
       "    }\n",
       "\n",
       "    .dataframe tbody tr th {\n",
       "        vertical-align: top;\n",
       "    }\n",
       "\n",
       "    .dataframe thead th {\n",
       "        text-align: right;\n",
       "    }\n",
       "</style>\n",
       "<table border=\"1\" class=\"dataframe\">\n",
       "  <thead>\n",
       "    <tr style=\"text-align: right;\">\n",
       "      <th></th>\n",
       "      <th>Name</th>\n",
       "      <th>Age</th>\n",
       "      <th>Email</th>\n",
       "      <th>Address</th>\n",
       "      <th>Birth</th>\n",
       "    </tr>\n",
       "  </thead>\n",
       "  <tbody>\n",
       "    <tr>\n",
       "      <th>0</th>\n",
       "      <td>홍길동</td>\n",
       "      <td>20</td>\n",
       "      <td>hong@hong.com</td>\n",
       "      <td>서울시 강동구</td>\n",
       "      <td>1999-01-01</td>\n",
       "    </tr>\n",
       "    <tr>\n",
       "      <th>1</th>\n",
       "      <td>홍길서</td>\n",
       "      <td>30</td>\n",
       "      <td>seo@hong.com</td>\n",
       "      <td>서울시 중구</td>\n",
       "      <td>1999-12-01</td>\n",
       "    </tr>\n",
       "    <tr>\n",
       "      <th>2</th>\n",
       "      <td>홍길남</td>\n",
       "      <td>21</td>\n",
       "      <td>nam@hong.com</td>\n",
       "      <td>서울시 강동구</td>\n",
       "      <td>1999-11-01</td>\n",
       "    </tr>\n",
       "    <tr>\n",
       "      <th>3</th>\n",
       "      <td>홍길북</td>\n",
       "      <td>22</td>\n",
       "      <td>buk@hong.com</td>\n",
       "      <td>서울시 관악구</td>\n",
       "      <td>1999-05-01</td>\n",
       "    </tr>\n",
       "    <tr>\n",
       "      <th>4</th>\n",
       "      <td>홍길중</td>\n",
       "      <td>23</td>\n",
       "      <td>mid@hong.com</td>\n",
       "      <td>부산시 중구</td>\n",
       "      <td>1999-01-30</td>\n",
       "    </tr>\n",
       "    <tr>\n",
       "      <th>5</th>\n",
       "      <td>홍길숙</td>\n",
       "      <td>25</td>\n",
       "      <td>suk@su.com</td>\n",
       "      <td>안양</td>\n",
       "      <td>2020-12-12</td>\n",
       "    </tr>\n",
       "    <tr>\n",
       "      <th>0</th>\n",
       "      <td>홍길숙</td>\n",
       "      <td>25</td>\n",
       "      <td>suk@su.com</td>\n",
       "      <td>안양</td>\n",
       "      <td>2020-12-12</td>\n",
       "    </tr>\n",
       "  </tbody>\n",
       "</table>\n",
       "</div>"
      ],
      "text/plain": [
       "  Name  Age          Email  Address       Birth\n",
       "0  홍길동   20  hong@hong.com  서울시 강동구  1999-01-01\n",
       "1  홍길서   30   seo@hong.com   서울시 중구  1999-12-01\n",
       "2  홍길남   21   nam@hong.com  서울시 강동구  1999-11-01\n",
       "3  홍길북   22   buk@hong.com  서울시 관악구  1999-05-01\n",
       "4  홍길중   23   mid@hong.com   부산시 중구  1999-01-30\n",
       "5  홍길숙   25     suk@su.com       안양  2020-12-12\n",
       "0  홍길숙   25     suk@su.com       안양  2020-12-12"
      ]
     },
     "execution_count": 188,
     "metadata": {},
     "output_type": "execute_result"
    }
   ],
   "source": [
    "member = pd.concat([member,new_member])\n",
    "member"
   ]
  },
  {
   "cell_type": "code",
   "execution_count": 189,
   "id": "a2dc3f39",
   "metadata": {
    "ExecuteTime": {
     "end_time": "2024-11-26T05:40:06.894855Z",
     "start_time": "2024-11-26T05:40:06.887874Z"
    }
   },
   "outputs": [
    {
     "data": {
      "text/plain": [
       "Name                 박아름\n",
       "Age                   30\n",
       "Email      park@park.com\n",
       "Address               인천\n",
       "Birth         2000-12-12\n",
       "dtype: object"
      ]
     },
     "execution_count": 189,
     "metadata": {},
     "output_type": "execute_result"
    }
   ],
   "source": [
    "# 4) 시리즈를 이용한 데이터 행 추가\n",
    "new_series = pd.Series(['박아름',30,'park@park.com','인천','2000-12-12'],index=member.columns)\n",
    "new_series"
   ]
  },
  {
   "cell_type": "code",
   "execution_count": 190,
   "id": "07c6f5b7",
   "metadata": {
    "ExecuteTime": {
     "end_time": "2024-11-26T05:40:31.008964Z",
     "start_time": "2024-11-26T05:40:30.998988Z"
    }
   },
   "outputs": [
    {
     "name": "stderr",
     "output_type": "stream",
     "text": [
      "C:\\Users\\4545\\AppData\\Local\\Temp\\ipykernel_1640\\1019631173.py:1: FutureWarning: The frame.append method is deprecated and will be removed from pandas in a future version. Use pandas.concat instead.\n",
      "  member = member.append(new_series, ignore_index=True)\n"
     ]
    },
    {
     "data": {
      "text/html": [
       "<div>\n",
       "<style scoped>\n",
       "    .dataframe tbody tr th:only-of-type {\n",
       "        vertical-align: middle;\n",
       "    }\n",
       "\n",
       "    .dataframe tbody tr th {\n",
       "        vertical-align: top;\n",
       "    }\n",
       "\n",
       "    .dataframe thead th {\n",
       "        text-align: right;\n",
       "    }\n",
       "</style>\n",
       "<table border=\"1\" class=\"dataframe\">\n",
       "  <thead>\n",
       "    <tr style=\"text-align: right;\">\n",
       "      <th></th>\n",
       "      <th>Name</th>\n",
       "      <th>Age</th>\n",
       "      <th>Email</th>\n",
       "      <th>Address</th>\n",
       "      <th>Birth</th>\n",
       "    </tr>\n",
       "  </thead>\n",
       "  <tbody>\n",
       "    <tr>\n",
       "      <th>0</th>\n",
       "      <td>홍길동</td>\n",
       "      <td>20</td>\n",
       "      <td>hong@hong.com</td>\n",
       "      <td>서울시 강동구</td>\n",
       "      <td>1999-01-01</td>\n",
       "    </tr>\n",
       "    <tr>\n",
       "      <th>1</th>\n",
       "      <td>홍길서</td>\n",
       "      <td>30</td>\n",
       "      <td>seo@hong.com</td>\n",
       "      <td>서울시 중구</td>\n",
       "      <td>1999-12-01</td>\n",
       "    </tr>\n",
       "    <tr>\n",
       "      <th>2</th>\n",
       "      <td>홍길남</td>\n",
       "      <td>21</td>\n",
       "      <td>nam@hong.com</td>\n",
       "      <td>서울시 강동구</td>\n",
       "      <td>1999-11-01</td>\n",
       "    </tr>\n",
       "    <tr>\n",
       "      <th>3</th>\n",
       "      <td>홍길북</td>\n",
       "      <td>22</td>\n",
       "      <td>buk@hong.com</td>\n",
       "      <td>서울시 관악구</td>\n",
       "      <td>1999-05-01</td>\n",
       "    </tr>\n",
       "    <tr>\n",
       "      <th>4</th>\n",
       "      <td>홍길중</td>\n",
       "      <td>23</td>\n",
       "      <td>mid@hong.com</td>\n",
       "      <td>부산시 중구</td>\n",
       "      <td>1999-01-30</td>\n",
       "    </tr>\n",
       "    <tr>\n",
       "      <th>5</th>\n",
       "      <td>홍길숙</td>\n",
       "      <td>25</td>\n",
       "      <td>suk@su.com</td>\n",
       "      <td>안양</td>\n",
       "      <td>2020-12-12</td>\n",
       "    </tr>\n",
       "    <tr>\n",
       "      <th>6</th>\n",
       "      <td>홍길숙</td>\n",
       "      <td>25</td>\n",
       "      <td>suk@su.com</td>\n",
       "      <td>안양</td>\n",
       "      <td>2020-12-12</td>\n",
       "    </tr>\n",
       "    <tr>\n",
       "      <th>7</th>\n",
       "      <td>박아름</td>\n",
       "      <td>30</td>\n",
       "      <td>park@park.com</td>\n",
       "      <td>인천</td>\n",
       "      <td>2000-12-12</td>\n",
       "    </tr>\n",
       "  </tbody>\n",
       "</table>\n",
       "</div>"
      ],
      "text/plain": [
       "  Name  Age          Email  Address       Birth\n",
       "0  홍길동   20  hong@hong.com  서울시 강동구  1999-01-01\n",
       "1  홍길서   30   seo@hong.com   서울시 중구  1999-12-01\n",
       "2  홍길남   21   nam@hong.com  서울시 강동구  1999-11-01\n",
       "3  홍길북   22   buk@hong.com  서울시 관악구  1999-05-01\n",
       "4  홍길중   23   mid@hong.com   부산시 중구  1999-01-30\n",
       "5  홍길숙   25     suk@su.com       안양  2020-12-12\n",
       "6  홍길숙   25     suk@su.com       안양  2020-12-12\n",
       "7  박아름   30  park@park.com       인천  2000-12-12"
      ]
     },
     "execution_count": 190,
     "metadata": {},
     "output_type": "execute_result"
    }
   ],
   "source": [
    "member = member.append(new_series, ignore_index=True)\n",
    "member"
   ]
  },
  {
   "cell_type": "code",
   "execution_count": 199,
   "id": "77c58623",
   "metadata": {
    "ExecuteTime": {
     "end_time": "2024-11-26T05:48:01.897923Z",
     "start_time": "2024-11-26T05:48:01.885960Z"
    }
   },
   "outputs": [
    {
     "data": {
      "text/html": [
       "<div>\n",
       "<style scoped>\n",
       "    .dataframe tbody tr th:only-of-type {\n",
       "        vertical-align: middle;\n",
       "    }\n",
       "\n",
       "    .dataframe tbody tr th {\n",
       "        vertical-align: top;\n",
       "    }\n",
       "\n",
       "    .dataframe thead th {\n",
       "        text-align: right;\n",
       "    }\n",
       "</style>\n",
       "<table border=\"1\" class=\"dataframe\">\n",
       "  <thead>\n",
       "    <tr style=\"text-align: right;\">\n",
       "      <th></th>\n",
       "      <th>Name</th>\n",
       "      <th>Age</th>\n",
       "      <th>Email</th>\n",
       "      <th>Address</th>\n",
       "      <th>Birth</th>\n",
       "    </tr>\n",
       "  </thead>\n",
       "  <tbody>\n",
       "    <tr>\n",
       "      <th>0</th>\n",
       "      <td>박아름</td>\n",
       "      <td>30</td>\n",
       "      <td>park@park.com</td>\n",
       "      <td>인천</td>\n",
       "      <td>2000-12-12</td>\n",
       "    </tr>\n",
       "  </tbody>\n",
       "</table>\n",
       "</div>"
      ],
      "text/plain": [
       "  Name Age          Email Address       Birth\n",
       "0  박아름  30  park@park.com      인천  2000-12-12"
      ]
     },
     "execution_count": 199,
     "metadata": {},
     "output_type": "execute_result"
    }
   ],
   "source": [
    "member = pd.read_csv('data/ch12_member.csv', comment='#')\n",
    "pd.DataFrame(new_series).T"
   ]
  },
  {
   "cell_type": "code",
   "execution_count": 200,
   "id": "24b4b30a",
   "metadata": {
    "ExecuteTime": {
     "end_time": "2024-11-26T05:48:04.319992Z",
     "start_time": "2024-11-26T05:48:04.310009Z"
    }
   },
   "outputs": [
    {
     "data": {
      "text/html": [
       "<div>\n",
       "<style scoped>\n",
       "    .dataframe tbody tr th:only-of-type {\n",
       "        vertical-align: middle;\n",
       "    }\n",
       "\n",
       "    .dataframe tbody tr th {\n",
       "        vertical-align: top;\n",
       "    }\n",
       "\n",
       "    .dataframe thead th {\n",
       "        text-align: right;\n",
       "    }\n",
       "</style>\n",
       "<table border=\"1\" class=\"dataframe\">\n",
       "  <thead>\n",
       "    <tr style=\"text-align: right;\">\n",
       "      <th></th>\n",
       "      <th>Name</th>\n",
       "      <th>Age</th>\n",
       "      <th>Email</th>\n",
       "      <th>Address</th>\n",
       "      <th>Birth</th>\n",
       "    </tr>\n",
       "  </thead>\n",
       "  <tbody>\n",
       "    <tr>\n",
       "      <th>0</th>\n",
       "      <td>홍길동</td>\n",
       "      <td>20</td>\n",
       "      <td>hong@hong.com</td>\n",
       "      <td>서울시 강동구</td>\n",
       "      <td>1999-01-01</td>\n",
       "    </tr>\n",
       "    <tr>\n",
       "      <th>1</th>\n",
       "      <td>홍길서</td>\n",
       "      <td>30</td>\n",
       "      <td>seo@hong.com</td>\n",
       "      <td>서울시 중구</td>\n",
       "      <td>1999-12-01</td>\n",
       "    </tr>\n",
       "    <tr>\n",
       "      <th>2</th>\n",
       "      <td>홍길남</td>\n",
       "      <td>21</td>\n",
       "      <td>nam@hong.com</td>\n",
       "      <td>서울시 강동구</td>\n",
       "      <td>1999-11-01</td>\n",
       "    </tr>\n",
       "    <tr>\n",
       "      <th>3</th>\n",
       "      <td>홍길북</td>\n",
       "      <td>22</td>\n",
       "      <td>buk@hong.com</td>\n",
       "      <td>서울시 관악구</td>\n",
       "      <td>1999-05-01</td>\n",
       "    </tr>\n",
       "    <tr>\n",
       "      <th>4</th>\n",
       "      <td>홍길중</td>\n",
       "      <td>23</td>\n",
       "      <td>mid@hong.com</td>\n",
       "      <td>부산시 중구</td>\n",
       "      <td>1999-01-30</td>\n",
       "    </tr>\n",
       "    <tr>\n",
       "      <th>0</th>\n",
       "      <td>박아름</td>\n",
       "      <td>30</td>\n",
       "      <td>park@park.com</td>\n",
       "      <td>인천</td>\n",
       "      <td>2000-12-12</td>\n",
       "    </tr>\n",
       "  </tbody>\n",
       "</table>\n",
       "</div>"
      ],
      "text/plain": [
       "  Name Age          Email  Address       Birth\n",
       "0  홍길동  20  hong@hong.com  서울시 강동구  1999-01-01\n",
       "1  홍길서  30   seo@hong.com   서울시 중구  1999-12-01\n",
       "2  홍길남  21   nam@hong.com  서울시 강동구  1999-11-01\n",
       "3  홍길북  22   buk@hong.com  서울시 관악구  1999-05-01\n",
       "4  홍길중  23   mid@hong.com   부산시 중구  1999-01-30\n",
       "0  박아름  30  park@park.com       인천  2000-12-12"
      ]
     },
     "execution_count": 200,
     "metadata": {},
     "output_type": "execute_result"
    }
   ],
   "source": [
    "member = pd.concat([member, pd.DataFrame(new_series).T])\n",
    "member"
   ]
  },
  {
   "cell_type": "code",
   "execution_count": 201,
   "id": "72751bb8",
   "metadata": {
    "ExecuteTime": {
     "end_time": "2024-11-26T05:48:07.824061Z",
     "start_time": "2024-11-26T05:48:07.815084Z"
    }
   },
   "outputs": [
    {
     "data": {
      "text/html": [
       "<div>\n",
       "<style scoped>\n",
       "    .dataframe tbody tr th:only-of-type {\n",
       "        vertical-align: middle;\n",
       "    }\n",
       "\n",
       "    .dataframe tbody tr th {\n",
       "        vertical-align: top;\n",
       "    }\n",
       "\n",
       "    .dataframe thead th {\n",
       "        text-align: right;\n",
       "    }\n",
       "</style>\n",
       "<table border=\"1\" class=\"dataframe\">\n",
       "  <thead>\n",
       "    <tr style=\"text-align: right;\">\n",
       "      <th></th>\n",
       "      <th>Name</th>\n",
       "      <th>Age</th>\n",
       "      <th>Email</th>\n",
       "      <th>Address</th>\n",
       "      <th>Birth</th>\n",
       "    </tr>\n",
       "  </thead>\n",
       "  <tbody>\n",
       "    <tr>\n",
       "      <th>0</th>\n",
       "      <td>홍길동</td>\n",
       "      <td>20</td>\n",
       "      <td>hong@hong.com</td>\n",
       "      <td>서울시 강동구</td>\n",
       "      <td>1999-01-01</td>\n",
       "    </tr>\n",
       "    <tr>\n",
       "      <th>1</th>\n",
       "      <td>홍길서</td>\n",
       "      <td>30</td>\n",
       "      <td>seo@hong.com</td>\n",
       "      <td>서울시 중구</td>\n",
       "      <td>1999-12-01</td>\n",
       "    </tr>\n",
       "    <tr>\n",
       "      <th>2</th>\n",
       "      <td>홍길남</td>\n",
       "      <td>21</td>\n",
       "      <td>nam@hong.com</td>\n",
       "      <td>서울시 강동구</td>\n",
       "      <td>1999-11-01</td>\n",
       "    </tr>\n",
       "    <tr>\n",
       "      <th>3</th>\n",
       "      <td>홍길북</td>\n",
       "      <td>22</td>\n",
       "      <td>buk@hong.com</td>\n",
       "      <td>서울시 관악구</td>\n",
       "      <td>1999-05-01</td>\n",
       "    </tr>\n",
       "    <tr>\n",
       "      <th>4</th>\n",
       "      <td>홍길중</td>\n",
       "      <td>23</td>\n",
       "      <td>mid@hong.com</td>\n",
       "      <td>부산시 중구</td>\n",
       "      <td>1999-01-30</td>\n",
       "    </tr>\n",
       "    <tr>\n",
       "      <th>5</th>\n",
       "      <td>박아름</td>\n",
       "      <td>30</td>\n",
       "      <td>park@park.com</td>\n",
       "      <td>인천</td>\n",
       "      <td>2000-12-12</td>\n",
       "    </tr>\n",
       "  </tbody>\n",
       "</table>\n",
       "</div>"
      ],
      "text/plain": [
       "  Name Age          Email  Address       Birth\n",
       "0  홍길동  20  hong@hong.com  서울시 강동구  1999-01-01\n",
       "1  홍길서  30   seo@hong.com   서울시 중구  1999-12-01\n",
       "2  홍길남  21   nam@hong.com  서울시 강동구  1999-11-01\n",
       "3  홍길북  22   buk@hong.com  서울시 관악구  1999-05-01\n",
       "4  홍길중  23   mid@hong.com   부산시 중구  1999-01-30\n",
       "5  박아름  30  park@park.com       인천  2000-12-12"
      ]
     },
     "execution_count": 201,
     "metadata": {},
     "output_type": "execute_result"
    }
   ],
   "source": [
    "# member.index = range(len(member))\n",
    "member.reset_index(drop=True) # 기존의 인덱스를 drop하고, 새로운 연속된 index 초기화"
   ]
  },
  {
   "cell_type": "markdown",
   "id": "c157814e",
   "metadata": {},
   "source": [
    "# 6절. 병합과 연결\n",
    "## merge()을 이용한 데이터 프레임 병합"
   ]
  },
  {
   "cell_type": "code",
   "execution_count": 203,
   "id": "d1775ca5",
   "metadata": {
    "ExecuteTime": {
     "end_time": "2024-11-26T05:53:35.820324Z",
     "start_time": "2024-11-26T05:53:35.807365Z"
    }
   },
   "outputs": [
    {
     "data": {
      "text/html": [
       "<div>\n",
       "<style scoped>\n",
       "    .dataframe tbody tr th:only-of-type {\n",
       "        vertical-align: middle;\n",
       "    }\n",
       "\n",
       "    .dataframe tbody tr th {\n",
       "        vertical-align: top;\n",
       "    }\n",
       "\n",
       "    .dataframe thead th {\n",
       "        text-align: right;\n",
       "    }\n",
       "</style>\n",
       "<table border=\"1\" class=\"dataframe\">\n",
       "  <thead>\n",
       "    <tr style=\"text-align: right;\">\n",
       "      <th></th>\n",
       "      <th>key</th>\n",
       "      <th>c1</th>\n",
       "    </tr>\n",
       "  </thead>\n",
       "  <tbody>\n",
       "    <tr>\n",
       "      <th>0</th>\n",
       "      <td>a</td>\n",
       "      <td>1</td>\n",
       "    </tr>\n",
       "    <tr>\n",
       "      <th>1</th>\n",
       "      <td>b</td>\n",
       "      <td>2</td>\n",
       "    </tr>\n",
       "    <tr>\n",
       "      <th>2</th>\n",
       "      <td>c</td>\n",
       "      <td>3</td>\n",
       "    </tr>\n",
       "    <tr>\n",
       "      <th>3</th>\n",
       "      <td>d</td>\n",
       "      <td>4</td>\n",
       "    </tr>\n",
       "  </tbody>\n",
       "</table>\n",
       "</div>"
      ],
      "text/plain": [
       "  key  c1\n",
       "0   a   1\n",
       "1   b   2\n",
       "2   c   3\n",
       "3   d   4"
      ]
     },
     "metadata": {},
     "output_type": "display_data"
    },
    {
     "data": {
      "text/html": [
       "<div>\n",
       "<style scoped>\n",
       "    .dataframe tbody tr th:only-of-type {\n",
       "        vertical-align: middle;\n",
       "    }\n",
       "\n",
       "    .dataframe tbody tr th {\n",
       "        vertical-align: top;\n",
       "    }\n",
       "\n",
       "    .dataframe thead th {\n",
       "        text-align: right;\n",
       "    }\n",
       "</style>\n",
       "<table border=\"1\" class=\"dataframe\">\n",
       "  <thead>\n",
       "    <tr style=\"text-align: right;\">\n",
       "      <th></th>\n",
       "      <th>key</th>\n",
       "      <th>c2</th>\n",
       "    </tr>\n",
       "  </thead>\n",
       "  <tbody>\n",
       "    <tr>\n",
       "      <th>0</th>\n",
       "      <td>a</td>\n",
       "      <td>5</td>\n",
       "    </tr>\n",
       "    <tr>\n",
       "      <th>1</th>\n",
       "      <td>b</td>\n",
       "      <td>6</td>\n",
       "    </tr>\n",
       "    <tr>\n",
       "      <th>2</th>\n",
       "      <td>c</td>\n",
       "      <td>7</td>\n",
       "    </tr>\n",
       "    <tr>\n",
       "      <th>3</th>\n",
       "      <td>f</td>\n",
       "      <td>8</td>\n",
       "    </tr>\n",
       "  </tbody>\n",
       "</table>\n",
       "</div>"
      ],
      "text/plain": [
       "  key  c2\n",
       "0   a   5\n",
       "1   b   6\n",
       "2   c   7\n",
       "3   f   8"
      ]
     },
     "metadata": {},
     "output_type": "display_data"
    }
   ],
   "source": [
    "df1 = pd.DataFrame({'key':['a','b','c','d'],\n",
    "                    'c1':[1,2,3,4]})\n",
    "df2 = pd.DataFrame({'key':['a','b','c','f'],\n",
    "                     'c2':[5,6,7,8]})\n",
    "display(df1)\n",
    "display(df2)"
   ]
  },
  {
   "cell_type": "code",
   "execution_count": 204,
   "id": "f3a8f818",
   "metadata": {
    "ExecuteTime": {
     "end_time": "2024-11-26T05:53:46.374248Z",
     "start_time": "2024-11-26T05:53:46.362280Z"
    }
   },
   "outputs": [
    {
     "data": {
      "text/html": [
       "<div>\n",
       "<style scoped>\n",
       "    .dataframe tbody tr th:only-of-type {\n",
       "        vertical-align: middle;\n",
       "    }\n",
       "\n",
       "    .dataframe tbody tr th {\n",
       "        vertical-align: top;\n",
       "    }\n",
       "\n",
       "    .dataframe thead th {\n",
       "        text-align: right;\n",
       "    }\n",
       "</style>\n",
       "<table border=\"1\" class=\"dataframe\">\n",
       "  <thead>\n",
       "    <tr style=\"text-align: right;\">\n",
       "      <th></th>\n",
       "      <th>key</th>\n",
       "      <th>c1</th>\n",
       "      <th>c2</th>\n",
       "    </tr>\n",
       "  </thead>\n",
       "  <tbody>\n",
       "    <tr>\n",
       "      <th>0</th>\n",
       "      <td>a</td>\n",
       "      <td>1</td>\n",
       "      <td>5</td>\n",
       "    </tr>\n",
       "    <tr>\n",
       "      <th>1</th>\n",
       "      <td>b</td>\n",
       "      <td>2</td>\n",
       "      <td>6</td>\n",
       "    </tr>\n",
       "    <tr>\n",
       "      <th>2</th>\n",
       "      <td>c</td>\n",
       "      <td>3</td>\n",
       "      <td>7</td>\n",
       "    </tr>\n",
       "  </tbody>\n",
       "</table>\n",
       "</div>"
      ],
      "text/plain": [
       "  key  c1  c2\n",
       "0   a   1   5\n",
       "1   b   2   6\n",
       "2   c   3   7"
      ]
     },
     "execution_count": 204,
     "metadata": {},
     "output_type": "execute_result"
    }
   ],
   "source": [
    "df1.merge(df2) # how='inner' : 내부조인(내부병합)"
   ]
  },
  {
   "cell_type": "code",
   "execution_count": 206,
   "id": "19cc5a14",
   "metadata": {
    "ExecuteTime": {
     "end_time": "2024-11-26T05:56:10.060462Z",
     "start_time": "2024-11-26T05:56:10.049523Z"
    }
   },
   "outputs": [
    {
     "data": {
      "text/html": [
       "<div>\n",
       "<style scoped>\n",
       "    .dataframe tbody tr th:only-of-type {\n",
       "        vertical-align: middle;\n",
       "    }\n",
       "\n",
       "    .dataframe tbody tr th {\n",
       "        vertical-align: top;\n",
       "    }\n",
       "\n",
       "    .dataframe thead th {\n",
       "        text-align: right;\n",
       "    }\n",
       "</style>\n",
       "<table border=\"1\" class=\"dataframe\">\n",
       "  <thead>\n",
       "    <tr style=\"text-align: right;\">\n",
       "      <th></th>\n",
       "      <th>key</th>\n",
       "      <th>c1</th>\n",
       "      <th>c2</th>\n",
       "    </tr>\n",
       "  </thead>\n",
       "  <tbody>\n",
       "    <tr>\n",
       "      <th>0</th>\n",
       "      <td>a</td>\n",
       "      <td>1</td>\n",
       "      <td>5.0</td>\n",
       "    </tr>\n",
       "    <tr>\n",
       "      <th>1</th>\n",
       "      <td>b</td>\n",
       "      <td>2</td>\n",
       "      <td>6.0</td>\n",
       "    </tr>\n",
       "    <tr>\n",
       "      <th>2</th>\n",
       "      <td>c</td>\n",
       "      <td>3</td>\n",
       "      <td>7.0</td>\n",
       "    </tr>\n",
       "    <tr>\n",
       "      <th>3</th>\n",
       "      <td>d</td>\n",
       "      <td>4</td>\n",
       "      <td>NaN</td>\n",
       "    </tr>\n",
       "  </tbody>\n",
       "</table>\n",
       "</div>"
      ],
      "text/plain": [
       "  key  c1   c2\n",
       "0   a   1  5.0\n",
       "1   b   2  6.0\n",
       "2   c   3  7.0\n",
       "3   d   4  NaN"
      ]
     },
     "execution_count": 206,
     "metadata": {},
     "output_type": "execute_result"
    }
   ],
   "source": [
    "df1.merge(df2, how='left') # 왼쪽 데이터 프레임의 값까지 병합"
   ]
  },
  {
   "cell_type": "code",
   "execution_count": 207,
   "id": "2bd65d37",
   "metadata": {
    "ExecuteTime": {
     "end_time": "2024-11-26T05:57:57.930741Z",
     "start_time": "2024-11-26T05:57:57.919770Z"
    }
   },
   "outputs": [
    {
     "data": {
      "text/html": [
       "<div>\n",
       "<style scoped>\n",
       "    .dataframe tbody tr th:only-of-type {\n",
       "        vertical-align: middle;\n",
       "    }\n",
       "\n",
       "    .dataframe tbody tr th {\n",
       "        vertical-align: top;\n",
       "    }\n",
       "\n",
       "    .dataframe thead th {\n",
       "        text-align: right;\n",
       "    }\n",
       "</style>\n",
       "<table border=\"1\" class=\"dataframe\">\n",
       "  <thead>\n",
       "    <tr style=\"text-align: right;\">\n",
       "      <th></th>\n",
       "      <th>key</th>\n",
       "      <th>c1</th>\n",
       "      <th>c2</th>\n",
       "    </tr>\n",
       "  </thead>\n",
       "  <tbody>\n",
       "    <tr>\n",
       "      <th>0</th>\n",
       "      <td>a</td>\n",
       "      <td>1.0</td>\n",
       "      <td>5</td>\n",
       "    </tr>\n",
       "    <tr>\n",
       "      <th>1</th>\n",
       "      <td>b</td>\n",
       "      <td>2.0</td>\n",
       "      <td>6</td>\n",
       "    </tr>\n",
       "    <tr>\n",
       "      <th>2</th>\n",
       "      <td>c</td>\n",
       "      <td>3.0</td>\n",
       "      <td>7</td>\n",
       "    </tr>\n",
       "    <tr>\n",
       "      <th>3</th>\n",
       "      <td>f</td>\n",
       "      <td>NaN</td>\n",
       "      <td>8</td>\n",
       "    </tr>\n",
       "  </tbody>\n",
       "</table>\n",
       "</div>"
      ],
      "text/plain": [
       "  key   c1  c2\n",
       "0   a  1.0   5\n",
       "1   b  2.0   6\n",
       "2   c  3.0   7\n",
       "3   f  NaN   8"
      ]
     },
     "execution_count": 207,
     "metadata": {},
     "output_type": "execute_result"
    }
   ],
   "source": [
    "df1.merge(df2, how='right')"
   ]
  },
  {
   "cell_type": "code",
   "execution_count": 208,
   "id": "b88efd66",
   "metadata": {
    "ExecuteTime": {
     "end_time": "2024-11-26T05:58:30.210861Z",
     "start_time": "2024-11-26T05:58:30.198894Z"
    }
   },
   "outputs": [
    {
     "data": {
      "text/html": [
       "<div>\n",
       "<style scoped>\n",
       "    .dataframe tbody tr th:only-of-type {\n",
       "        vertical-align: middle;\n",
       "    }\n",
       "\n",
       "    .dataframe tbody tr th {\n",
       "        vertical-align: top;\n",
       "    }\n",
       "\n",
       "    .dataframe thead th {\n",
       "        text-align: right;\n",
       "    }\n",
       "</style>\n",
       "<table border=\"1\" class=\"dataframe\">\n",
       "  <thead>\n",
       "    <tr style=\"text-align: right;\">\n",
       "      <th></th>\n",
       "      <th>key</th>\n",
       "      <th>c1</th>\n",
       "      <th>c2</th>\n",
       "    </tr>\n",
       "  </thead>\n",
       "  <tbody>\n",
       "    <tr>\n",
       "      <th>0</th>\n",
       "      <td>a</td>\n",
       "      <td>1.0</td>\n",
       "      <td>5.0</td>\n",
       "    </tr>\n",
       "    <tr>\n",
       "      <th>1</th>\n",
       "      <td>b</td>\n",
       "      <td>2.0</td>\n",
       "      <td>6.0</td>\n",
       "    </tr>\n",
       "    <tr>\n",
       "      <th>2</th>\n",
       "      <td>c</td>\n",
       "      <td>3.0</td>\n",
       "      <td>7.0</td>\n",
       "    </tr>\n",
       "    <tr>\n",
       "      <th>3</th>\n",
       "      <td>d</td>\n",
       "      <td>4.0</td>\n",
       "      <td>NaN</td>\n",
       "    </tr>\n",
       "    <tr>\n",
       "      <th>4</th>\n",
       "      <td>f</td>\n",
       "      <td>NaN</td>\n",
       "      <td>8.0</td>\n",
       "    </tr>\n",
       "  </tbody>\n",
       "</table>\n",
       "</div>"
      ],
      "text/plain": [
       "  key   c1   c2\n",
       "0   a  1.0  5.0\n",
       "1   b  2.0  6.0\n",
       "2   c  3.0  7.0\n",
       "3   d  4.0  NaN\n",
       "4   f  NaN  8.0"
      ]
     },
     "execution_count": 208,
     "metadata": {},
     "output_type": "execute_result"
    }
   ],
   "source": [
    "df1.merge(df2, how='outer')"
   ]
  },
  {
   "cell_type": "code",
   "execution_count": 209,
   "id": "eced0f1e",
   "metadata": {
    "ExecuteTime": {
     "end_time": "2024-11-26T06:00:31.635793Z",
     "start_time": "2024-11-26T06:00:31.622528Z"
    }
   },
   "outputs": [
    {
     "data": {
      "text/html": [
       "<div>\n",
       "<style scoped>\n",
       "    .dataframe tbody tr th:only-of-type {\n",
       "        vertical-align: middle;\n",
       "    }\n",
       "\n",
       "    .dataframe tbody tr th {\n",
       "        vertical-align: top;\n",
       "    }\n",
       "\n",
       "    .dataframe thead th {\n",
       "        text-align: right;\n",
       "    }\n",
       "</style>\n",
       "<table border=\"1\" class=\"dataframe\">\n",
       "  <thead>\n",
       "    <tr style=\"text-align: right;\">\n",
       "      <th></th>\n",
       "      <th>key</th>\n",
       "      <th>c1</th>\n",
       "    </tr>\n",
       "  </thead>\n",
       "  <tbody>\n",
       "    <tr>\n",
       "      <th>0</th>\n",
       "      <td>a</td>\n",
       "      <td>1</td>\n",
       "    </tr>\n",
       "    <tr>\n",
       "      <th>1</th>\n",
       "      <td>b</td>\n",
       "      <td>2</td>\n",
       "    </tr>\n",
       "    <tr>\n",
       "      <th>2</th>\n",
       "      <td>c</td>\n",
       "      <td>3</td>\n",
       "    </tr>\n",
       "    <tr>\n",
       "      <th>3</th>\n",
       "      <td>d</td>\n",
       "      <td>4</td>\n",
       "    </tr>\n",
       "  </tbody>\n",
       "</table>\n",
       "</div>"
      ],
      "text/plain": [
       "  key  c1\n",
       "0   a   1\n",
       "1   b   2\n",
       "2   c   3\n",
       "3   d   4"
      ]
     },
     "metadata": {},
     "output_type": "display_data"
    },
    {
     "data": {
      "text/html": [
       "<div>\n",
       "<style scoped>\n",
       "    .dataframe tbody tr th:only-of-type {\n",
       "        vertical-align: middle;\n",
       "    }\n",
       "\n",
       "    .dataframe tbody tr th {\n",
       "        vertical-align: top;\n",
       "    }\n",
       "\n",
       "    .dataframe thead th {\n",
       "        text-align: right;\n",
       "    }\n",
       "</style>\n",
       "<table border=\"1\" class=\"dataframe\">\n",
       "  <thead>\n",
       "    <tr style=\"text-align: right;\">\n",
       "      <th></th>\n",
       "      <th>key</th>\n",
       "      <th>c2</th>\n",
       "    </tr>\n",
       "  </thead>\n",
       "  <tbody>\n",
       "    <tr>\n",
       "      <th>0</th>\n",
       "      <td>a</td>\n",
       "      <td>5</td>\n",
       "    </tr>\n",
       "    <tr>\n",
       "      <th>1</th>\n",
       "      <td>b</td>\n",
       "      <td>6</td>\n",
       "    </tr>\n",
       "    <tr>\n",
       "      <th>2</th>\n",
       "      <td>c</td>\n",
       "      <td>7</td>\n",
       "    </tr>\n",
       "    <tr>\n",
       "      <th>3</th>\n",
       "      <td>f</td>\n",
       "      <td>8</td>\n",
       "    </tr>\n",
       "  </tbody>\n",
       "</table>\n",
       "</div>"
      ],
      "text/plain": [
       "  key  c2\n",
       "0   a   5\n",
       "1   b   6\n",
       "2   c   7\n",
       "3   f   8"
      ]
     },
     "metadata": {},
     "output_type": "display_data"
    }
   ],
   "source": [
    "df3 = pd.DataFrame({'key':['a','b','c','d'],\n",
    "                    'c1':[1,2,3,4]})\n",
    "df4 = pd.DataFrame({'key':['a','b','c','f'],\n",
    "                     'c2':[5,6,7,8]})\n",
    "display(df3)\n",
    "display(df4)"
   ]
  },
  {
   "cell_type": "code",
   "execution_count": null,
   "id": "12648b77",
   "metadata": {},
   "outputs": [],
   "source": []
  },
  {
   "cell_type": "code",
   "execution_count": null,
   "id": "8290f50c",
   "metadata": {},
   "outputs": [],
   "source": []
  },
  {
   "cell_type": "code",
   "execution_count": null,
   "id": "295669af",
   "metadata": {},
   "outputs": [],
   "source": []
  },
  {
   "cell_type": "code",
   "execution_count": null,
   "id": "aa402125",
   "metadata": {},
   "outputs": [],
   "source": []
  },
  {
   "cell_type": "code",
   "execution_count": null,
   "id": "7f28be84",
   "metadata": {},
   "outputs": [],
   "source": []
  },
  {
   "cell_type": "code",
   "execution_count": null,
   "id": "cd31fb0a",
   "metadata": {},
   "outputs": [],
   "source": []
  },
  {
   "cell_type": "code",
   "execution_count": null,
   "id": "57b60718",
   "metadata": {},
   "outputs": [],
   "source": []
  },
  {
   "cell_type": "code",
   "execution_count": null,
   "id": "40a675f8",
   "metadata": {},
   "outputs": [],
   "source": []
  },
  {
   "cell_type": "code",
   "execution_count": null,
   "id": "d6835b11",
   "metadata": {},
   "outputs": [],
   "source": []
  },
  {
   "cell_type": "code",
   "execution_count": null,
   "id": "6dcbe1d5",
   "metadata": {},
   "outputs": [],
   "source": []
  },
  {
   "cell_type": "code",
   "execution_count": null,
   "id": "390f7264",
   "metadata": {},
   "outputs": [],
   "source": []
  },
  {
   "cell_type": "code",
   "execution_count": null,
   "id": "42efeba7",
   "metadata": {},
   "outputs": [],
   "source": []
  },
  {
   "cell_type": "code",
   "execution_count": null,
   "id": "91494120",
   "metadata": {},
   "outputs": [],
   "source": []
  },
  {
   "cell_type": "code",
   "execution_count": null,
   "id": "8932339a",
   "metadata": {},
   "outputs": [],
   "source": []
  },
  {
   "cell_type": "code",
   "execution_count": null,
   "id": "4f29ffd5",
   "metadata": {},
   "outputs": [],
   "source": []
  },
  {
   "cell_type": "code",
   "execution_count": null,
   "id": "5565bce8",
   "metadata": {},
   "outputs": [],
   "source": []
  },
  {
   "cell_type": "code",
   "execution_count": null,
   "id": "ad66e4ff",
   "metadata": {},
   "outputs": [],
   "source": []
  },
  {
   "cell_type": "code",
   "execution_count": null,
   "id": "c2fab81d",
   "metadata": {},
   "outputs": [],
   "source": []
  },
  {
   "cell_type": "code",
   "execution_count": null,
   "id": "5214ad03",
   "metadata": {},
   "outputs": [],
   "source": []
  },
  {
   "cell_type": "code",
   "execution_count": null,
   "id": "10ca0f06",
   "metadata": {},
   "outputs": [],
   "source": []
  },
  {
   "cell_type": "code",
   "execution_count": null,
   "id": "22afd0e2",
   "metadata": {},
   "outputs": [],
   "source": []
  },
  {
   "cell_type": "code",
   "execution_count": null,
   "id": "345730fc",
   "metadata": {},
   "outputs": [],
   "source": []
  },
  {
   "cell_type": "code",
   "execution_count": null,
   "id": "73c2484c",
   "metadata": {},
   "outputs": [],
   "source": []
  },
  {
   "cell_type": "markdown",
   "id": "b97e3352",
   "metadata": {},
   "source": [
    "# 8절. 기초 통계 분석\n",
    "    판다스는 기초 통계, 난이도 있는 통계는 statsmodels에 있음\n",
    "- count : NaN을 제외한 갯수\n",
    "- min : 최소값\n",
    "- max : 최대값\n",
    "- sum : 합계\n",
    "- cumsum : 누적합\n",
    "- cumprod :누적곱\n",
    "- mean : 평균\n",
    "- std : 표준편차\n",
    "- var : 분산\n",
    "- quantile : 분위수 (0사분위수, 1사분위수, 중위수, 3사분위수, 4사분위수) : 이상치 구하는 용도\n",
    "- describe : 요약통계량\n",
    "- corr : 상관관계(계수)"
   ]
  },
  {
   "cell_type": "code",
   "execution_count": 210,
   "id": "b7225f24",
   "metadata": {
    "ExecuteTime": {
     "end_time": "2024-11-26T07:37:10.647762Z",
     "start_time": "2024-11-26T07:37:10.011334Z"
    }
   },
   "outputs": [
    {
     "data": {
      "text/html": [
       "<div>\n",
       "<style scoped>\n",
       "    .dataframe tbody tr th:only-of-type {\n",
       "        vertical-align: middle;\n",
       "    }\n",
       "\n",
       "    .dataframe tbody tr th {\n",
       "        vertical-align: top;\n",
       "    }\n",
       "\n",
       "    .dataframe thead th {\n",
       "        text-align: right;\n",
       "    }\n",
       "</style>\n",
       "<table border=\"1\" class=\"dataframe\">\n",
       "  <thead>\n",
       "    <tr style=\"text-align: right;\">\n",
       "      <th></th>\n",
       "      <th>Sepal.Length</th>\n",
       "      <th>Sepal.Width</th>\n",
       "      <th>Petal.Length</th>\n",
       "      <th>Petal.Width</th>\n",
       "      <th>Species</th>\n",
       "    </tr>\n",
       "  </thead>\n",
       "  <tbody>\n",
       "    <tr>\n",
       "      <th>0</th>\n",
       "      <td>5.1</td>\n",
       "      <td>3.5</td>\n",
       "      <td>1.4</td>\n",
       "      <td>0.2</td>\n",
       "      <td>setosa</td>\n",
       "    </tr>\n",
       "    <tr>\n",
       "      <th>1</th>\n",
       "      <td>4.9</td>\n",
       "      <td>3.0</td>\n",
       "      <td>1.4</td>\n",
       "      <td>0.2</td>\n",
       "      <td>setosa</td>\n",
       "    </tr>\n",
       "  </tbody>\n",
       "</table>\n",
       "</div>"
      ],
      "text/plain": [
       "   Sepal.Length  Sepal.Width  Petal.Length  Petal.Width Species\n",
       "0           5.1          3.5           1.4          0.2  setosa\n",
       "1           4.9          3.0           1.4          0.2  setosa"
      ]
     },
     "execution_count": 210,
     "metadata": {},
     "output_type": "execute_result"
    }
   ],
   "source": [
    "from statsmodels.api import datasets\n",
    "iris = datasets.get_rdataset('iris').data\n",
    "iris.head(2)"
   ]
  },
  {
   "cell_type": "markdown",
   "id": "ff4f220b",
   "metadata": {},
   "source": [
    "##  8.1 min, max, mean, ....."
   ]
  },
  {
   "cell_type": "code",
   "execution_count": 211,
   "id": "184dc2e8",
   "metadata": {
    "ExecuteTime": {
     "end_time": "2024-11-26T07:39:16.898168Z",
     "start_time": "2024-11-26T07:39:16.891184Z"
    }
   },
   "outputs": [
    {
     "data": {
      "text/plain": [
       "Sepal.Length       4.3\n",
       "Sepal.Width        2.0\n",
       "Petal.Length       1.0\n",
       "Petal.Width        0.1\n",
       "Species         setosa\n",
       "dtype: object"
      ]
     },
     "execution_count": 211,
     "metadata": {},
     "output_type": "execute_result"
    }
   ],
   "source": [
    "iris.min()"
   ]
  },
  {
   "cell_type": "code",
   "execution_count": 212,
   "id": "b5dbb9db",
   "metadata": {
    "ExecuteTime": {
     "end_time": "2024-11-26T07:39:25.168809Z",
     "start_time": "2024-11-26T07:39:25.162798Z"
    }
   },
   "outputs": [
    {
     "data": {
      "text/plain": [
       "Sepal.Length          7.9\n",
       "Sepal.Width           4.4\n",
       "Petal.Length          6.9\n",
       "Petal.Width           2.5\n",
       "Species         virginica\n",
       "dtype: object"
      ]
     },
     "execution_count": 212,
     "metadata": {},
     "output_type": "execute_result"
    }
   ],
   "source": [
    "iris.max()"
   ]
  },
  {
   "cell_type": "code",
   "execution_count": 221,
   "id": "f20d858c",
   "metadata": {
    "ExecuteTime": {
     "end_time": "2024-11-26T07:42:58.278420Z",
     "start_time": "2024-11-26T07:42:58.271439Z"
    }
   },
   "outputs": [
    {
     "data": {
      "text/plain": [
       "Sepal.Length    5.80\n",
       "Sepal.Width     3.00\n",
       "Petal.Length    4.35\n",
       "Petal.Width     1.30\n",
       "dtype: float64"
      ]
     },
     "execution_count": 221,
     "metadata": {},
     "output_type": "execute_result"
    }
   ],
   "source": [
    "iris.median(axis=0, numeric_only=True) # 0,1,2, .. 행들의 중위서\n",
    "                                       # numeric_only=True 숫자 필드만 median 적용"
   ]
  },
  {
   "cell_type": "code",
   "execution_count": 223,
   "id": "2b67e369",
   "metadata": {
    "ExecuteTime": {
     "end_time": "2024-11-26T07:44:14.173075Z",
     "start_time": "2024-11-26T07:44:14.162106Z"
    }
   },
   "outputs": [
    {
     "data": {
      "text/html": [
       "<div>\n",
       "<style scoped>\n",
       "    .dataframe tbody tr th:only-of-type {\n",
       "        vertical-align: middle;\n",
       "    }\n",
       "\n",
       "    .dataframe tbody tr th {\n",
       "        vertical-align: top;\n",
       "    }\n",
       "\n",
       "    .dataframe thead th {\n",
       "        text-align: right;\n",
       "    }\n",
       "</style>\n",
       "<table border=\"1\" class=\"dataframe\">\n",
       "  <thead>\n",
       "    <tr style=\"text-align: right;\">\n",
       "      <th></th>\n",
       "      <th>Sepal.Length</th>\n",
       "      <th>Sepal.Width</th>\n",
       "      <th>Petal.Length</th>\n",
       "      <th>Petal.Width</th>\n",
       "    </tr>\n",
       "  </thead>\n",
       "  <tbody>\n",
       "    <tr>\n",
       "      <th>0</th>\n",
       "      <td>5.1</td>\n",
       "      <td>3.5</td>\n",
       "      <td>1.4</td>\n",
       "      <td>0.2</td>\n",
       "    </tr>\n",
       "    <tr>\n",
       "      <th>1</th>\n",
       "      <td>4.9</td>\n",
       "      <td>3.0</td>\n",
       "      <td>1.4</td>\n",
       "      <td>0.2</td>\n",
       "    </tr>\n",
       "    <tr>\n",
       "      <th>2</th>\n",
       "      <td>4.7</td>\n",
       "      <td>3.2</td>\n",
       "      <td>1.3</td>\n",
       "      <td>0.2</td>\n",
       "    </tr>\n",
       "    <tr>\n",
       "      <th>3</th>\n",
       "      <td>4.6</td>\n",
       "      <td>3.1</td>\n",
       "      <td>1.5</td>\n",
       "      <td>0.2</td>\n",
       "    </tr>\n",
       "    <tr>\n",
       "      <th>4</th>\n",
       "      <td>5.0</td>\n",
       "      <td>3.6</td>\n",
       "      <td>1.4</td>\n",
       "      <td>0.2</td>\n",
       "    </tr>\n",
       "  </tbody>\n",
       "</table>\n",
       "</div>"
      ],
      "text/plain": [
       "   Sepal.Length  Sepal.Width  Petal.Length  Petal.Width\n",
       "0           5.1          3.5           1.4          0.2\n",
       "1           4.9          3.0           1.4          0.2\n",
       "2           4.7          3.2           1.3          0.2\n",
       "3           4.6          3.1           1.5          0.2\n",
       "4           5.0          3.6           1.4          0.2"
      ]
     },
     "execution_count": 223,
     "metadata": {},
     "output_type": "execute_result"
    }
   ],
   "source": [
    "X = iris.iloc[:,:-1]\n",
    "X.head()"
   ]
  },
  {
   "cell_type": "code",
   "execution_count": 224,
   "id": "63ff2f9a",
   "metadata": {
    "ExecuteTime": {
     "end_time": "2024-11-26T07:44:39.778563Z",
     "start_time": "2024-11-26T07:44:39.771582Z"
    }
   },
   "outputs": [
    {
     "data": {
      "text/plain": [
       "Sepal.Length    5.843333\n",
       "Sepal.Width     3.057333\n",
       "Petal.Length    3.758000\n",
       "Petal.Width     1.199333\n",
       "dtype: float64"
      ]
     },
     "execution_count": 224,
     "metadata": {},
     "output_type": "execute_result"
    }
   ],
   "source": [
    "X.mean(axis=0) # 열별평균 행들의 평균"
   ]
  },
  {
   "cell_type": "code",
   "execution_count": 226,
   "id": "87540a3d",
   "metadata": {
    "ExecuteTime": {
     "end_time": "2024-11-26T07:46:31.047695Z",
     "start_time": "2024-11-26T07:46:31.037700Z"
    },
    "collapsed": true
   },
   "outputs": [
    {
     "data": {
      "text/plain": [
       "0      2.550\n",
       "1      2.375\n",
       "2      2.350\n",
       "3      2.350\n",
       "4      2.550\n",
       "5      2.850\n",
       "6      2.425\n",
       "7      2.525\n",
       "8      2.225\n",
       "9      2.400\n",
       "10     2.700\n",
       "11     2.500\n",
       "12     2.325\n",
       "13     2.125\n",
       "14     2.800\n",
       "15     3.000\n",
       "16     2.750\n",
       "17     2.575\n",
       "18     2.875\n",
       "19     2.675\n",
       "20     2.675\n",
       "21     2.675\n",
       "22     2.350\n",
       "23     2.650\n",
       "24     2.575\n",
       "25     2.450\n",
       "26     2.600\n",
       "27     2.600\n",
       "28     2.550\n",
       "29     2.425\n",
       "30     2.425\n",
       "31     2.675\n",
       "32     2.725\n",
       "33     2.825\n",
       "34     2.425\n",
       "35     2.400\n",
       "36     2.625\n",
       "37     2.500\n",
       "38     2.225\n",
       "39     2.550\n",
       "40     2.525\n",
       "41     2.100\n",
       "42     2.275\n",
       "43     2.675\n",
       "44     2.800\n",
       "45     2.375\n",
       "46     2.675\n",
       "47     2.350\n",
       "48     2.675\n",
       "49     2.475\n",
       "50     4.075\n",
       "51     3.900\n",
       "52     4.100\n",
       "53     3.275\n",
       "54     3.850\n",
       "55     3.575\n",
       "56     3.975\n",
       "57     2.900\n",
       "58     3.850\n",
       "59     3.300\n",
       "60     2.875\n",
       "61     3.650\n",
       "62     3.300\n",
       "63     3.775\n",
       "64     3.350\n",
       "65     3.900\n",
       "66     3.650\n",
       "67     3.400\n",
       "68     3.600\n",
       "69     3.275\n",
       "70     3.925\n",
       "71     3.550\n",
       "72     3.800\n",
       "73     3.700\n",
       "74     3.725\n",
       "75     3.850\n",
       "76     3.950\n",
       "77     4.100\n",
       "78     3.725\n",
       "79     3.200\n",
       "80     3.200\n",
       "81     3.150\n",
       "82     3.400\n",
       "83     3.850\n",
       "84     3.600\n",
       "85     3.875\n",
       "86     4.000\n",
       "87     3.575\n",
       "88     3.500\n",
       "89     3.325\n",
       "90     3.425\n",
       "91     3.775\n",
       "92     3.400\n",
       "93     2.900\n",
       "94     3.450\n",
       "95     3.525\n",
       "96     3.525\n",
       "97     3.675\n",
       "98     2.925\n",
       "99     3.475\n",
       "100    4.525\n",
       "101    3.875\n",
       "102    4.525\n",
       "103    4.150\n",
       "104    4.375\n",
       "105    4.825\n",
       "106    3.400\n",
       "107    4.575\n",
       "108    4.200\n",
       "109    4.850\n",
       "110    4.200\n",
       "111    4.075\n",
       "112    4.350\n",
       "113    3.800\n",
       "114    4.025\n",
       "115    4.300\n",
       "116    4.200\n",
       "117    5.100\n",
       "118    4.875\n",
       "119    3.675\n",
       "120    4.525\n",
       "121    3.825\n",
       "122    4.800\n",
       "123    3.925\n",
       "124    4.450\n",
       "125    4.550\n",
       "126    3.900\n",
       "127    3.950\n",
       "128    4.225\n",
       "129    4.400\n",
       "130    4.550\n",
       "131    5.025\n",
       "132    4.250\n",
       "133    3.925\n",
       "134    3.925\n",
       "135    4.775\n",
       "136    4.425\n",
       "137    4.200\n",
       "138    3.900\n",
       "139    4.375\n",
       "140    4.450\n",
       "141    4.350\n",
       "142    3.875\n",
       "143    4.550\n",
       "144    4.550\n",
       "145    4.300\n",
       "146    3.925\n",
       "147    4.175\n",
       "148    4.325\n",
       "149    3.950\n",
       "dtype: float64"
      ]
     },
     "execution_count": 226,
     "metadata": {},
     "output_type": "execute_result"
    }
   ],
   "source": [
    "X.mean(axis=1) # 행별평균 = 행고정하고 열들의 평균\n",
    "X.mean(axis='columns')"
   ]
  },
  {
   "cell_type": "code",
   "execution_count": 227,
   "id": "63ecdad8",
   "metadata": {
    "ExecuteTime": {
     "end_time": "2024-11-26T07:47:49.030899Z",
     "start_time": "2024-11-26T07:47:49.022920Z"
    }
   },
   "outputs": [
    {
     "data": {
      "text/plain": [
       "Sepal.Length    0.685694\n",
       "Sepal.Width     0.189979\n",
       "Petal.Length    3.116278\n",
       "Petal.Width     0.581006\n",
       "dtype: float64"
      ]
     },
     "execution_count": 227,
     "metadata": {},
     "output_type": "execute_result"
    }
   ],
   "source": [
    "X.var() # 열별 분산"
   ]
  },
  {
   "cell_type": "code",
   "execution_count": 228,
   "id": "bf09a6b4",
   "metadata": {
    "ExecuteTime": {
     "end_time": "2024-11-26T07:48:08.971319Z",
     "start_time": "2024-11-26T07:48:08.963342Z"
    }
   },
   "outputs": [
    {
     "data": {
      "text/plain": [
       "Sepal.Length    0.828066\n",
       "Sepal.Width     0.435866\n",
       "Petal.Length    1.765298\n",
       "Petal.Width     0.762238\n",
       "dtype: float64"
      ]
     },
     "execution_count": 228,
     "metadata": {},
     "output_type": "execute_result"
    }
   ],
   "source": [
    "X.std() # 열별 표준편차"
   ]
  },
  {
   "cell_type": "code",
   "execution_count": 233,
   "id": "e01927c0",
   "metadata": {
    "ExecuteTime": {
     "end_time": "2024-11-26T07:55:12.906058Z",
     "start_time": "2024-11-26T07:55:12.897082Z"
    }
   },
   "outputs": [
    {
     "data": {
      "text/plain": [
       "0.00    1\n",
       "0.30    2\n",
       "0.55    3\n",
       "0.75    4\n",
       "1.00    5\n",
       "Name: value, dtype: int64"
      ]
     },
     "execution_count": 233,
     "metadata": {},
     "output_type": "execute_result"
    }
   ],
   "source": [
    "data = [1,2,3,4,5]\n",
    "df = pd.DataFrame(data=data, columns=['value'])\n",
    "# interpolation='nearest' : 정확한 구간의 값이 없을 경우 가까운 값 출력\n",
    "df['value'].quantile(q=[0, .3, .55, .75, 1], interpolation='nearest')"
   ]
  },
  {
   "cell_type": "code",
   "execution_count": 234,
   "id": "4b15016a",
   "metadata": {
    "ExecuteTime": {
     "end_time": "2024-11-26T07:55:25.957996Z",
     "start_time": "2024-11-26T07:55:25.949000Z"
    }
   },
   "outputs": [
    {
     "data": {
      "text/plain": [
       "0.00    1.0\n",
       "0.30    2.5\n",
       "0.55    3.5\n",
       "0.75    4.0\n",
       "1.00    5.0\n",
       "Name: value, dtype: float64"
      ]
     },
     "execution_count": 234,
     "metadata": {},
     "output_type": "execute_result"
    }
   ],
   "source": [
    "# interpolation='midpoint' : 정확한 구간의 값이 없을 경우 환산해서 출력\n",
    "df['value'].quantile(q=[0, .3, .55, .75, 1], interpolation='midpoint')"
   ]
  },
  {
   "cell_type": "code",
   "execution_count": 230,
   "id": "ecbdbdd8",
   "metadata": {
    "ExecuteTime": {
     "end_time": "2024-11-26T07:49:58.674844Z",
     "start_time": "2024-11-26T07:49:58.662876Z"
    }
   },
   "outputs": [
    {
     "data": {
      "text/html": [
       "<div>\n",
       "<style scoped>\n",
       "    .dataframe tbody tr th:only-of-type {\n",
       "        vertical-align: middle;\n",
       "    }\n",
       "\n",
       "    .dataframe tbody tr th {\n",
       "        vertical-align: top;\n",
       "    }\n",
       "\n",
       "    .dataframe thead th {\n",
       "        text-align: right;\n",
       "    }\n",
       "</style>\n",
       "<table border=\"1\" class=\"dataframe\">\n",
       "  <thead>\n",
       "    <tr style=\"text-align: right;\">\n",
       "      <th></th>\n",
       "      <th>Sepal.Length</th>\n",
       "      <th>Sepal.Width</th>\n",
       "      <th>Petal.Length</th>\n",
       "      <th>Petal.Width</th>\n",
       "    </tr>\n",
       "  </thead>\n",
       "  <tbody>\n",
       "    <tr>\n",
       "      <th>0.00</th>\n",
       "      <td>4.3</td>\n",
       "      <td>2.0</td>\n",
       "      <td>1.0</td>\n",
       "      <td>0.1</td>\n",
       "    </tr>\n",
       "    <tr>\n",
       "      <th>0.25</th>\n",
       "      <td>5.1</td>\n",
       "      <td>2.8</td>\n",
       "      <td>1.6</td>\n",
       "      <td>0.3</td>\n",
       "    </tr>\n",
       "    <tr>\n",
       "      <th>0.50</th>\n",
       "      <td>5.8</td>\n",
       "      <td>3.0</td>\n",
       "      <td>4.3</td>\n",
       "      <td>1.3</td>\n",
       "    </tr>\n",
       "    <tr>\n",
       "      <th>0.75</th>\n",
       "      <td>6.4</td>\n",
       "      <td>3.3</td>\n",
       "      <td>5.1</td>\n",
       "      <td>1.8</td>\n",
       "    </tr>\n",
       "    <tr>\n",
       "      <th>1.00</th>\n",
       "      <td>7.9</td>\n",
       "      <td>4.4</td>\n",
       "      <td>6.9</td>\n",
       "      <td>2.5</td>\n",
       "    </tr>\n",
       "  </tbody>\n",
       "</table>\n",
       "</div>"
      ],
      "text/plain": [
       "      Sepal.Length  Sepal.Width  Petal.Length  Petal.Width\n",
       "0.00           4.3          2.0           1.0          0.1\n",
       "0.25           5.1          2.8           1.6          0.3\n",
       "0.50           5.8          3.0           4.3          1.3\n",
       "0.75           6.4          3.3           5.1          1.8\n",
       "1.00           7.9          4.4           6.9          2.5"
      ]
     },
     "execution_count": 230,
     "metadata": {},
     "output_type": "execute_result"
    }
   ],
   "source": [
    "X.quantile(q=[0,.25,.5,.75,1], interpolation='nearest')"
   ]
  },
  {
   "cell_type": "code",
   "execution_count": 235,
   "id": "7dfcc685",
   "metadata": {
    "ExecuteTime": {
     "end_time": "2024-11-26T07:57:17.630503Z",
     "start_time": "2024-11-26T07:57:17.620531Z"
    }
   },
   "outputs": [
    {
     "data": {
      "text/html": [
       "<div>\n",
       "<style scoped>\n",
       "    .dataframe tbody tr th:only-of-type {\n",
       "        vertical-align: middle;\n",
       "    }\n",
       "\n",
       "    .dataframe tbody tr th {\n",
       "        vertical-align: top;\n",
       "    }\n",
       "\n",
       "    .dataframe thead th {\n",
       "        text-align: right;\n",
       "    }\n",
       "</style>\n",
       "<table border=\"1\" class=\"dataframe\">\n",
       "  <thead>\n",
       "    <tr style=\"text-align: right;\">\n",
       "      <th></th>\n",
       "      <th>Sepal.Length</th>\n",
       "      <th>Sepal.Width</th>\n",
       "      <th>Petal.Length</th>\n",
       "      <th>Petal.Width</th>\n",
       "    </tr>\n",
       "  </thead>\n",
       "  <tbody>\n",
       "    <tr>\n",
       "      <th>0.00</th>\n",
       "      <td>4.3</td>\n",
       "      <td>2.0</td>\n",
       "      <td>1.0</td>\n",
       "      <td>0.1</td>\n",
       "    </tr>\n",
       "    <tr>\n",
       "      <th>0.25</th>\n",
       "      <td>5.1</td>\n",
       "      <td>2.8</td>\n",
       "      <td>1.6</td>\n",
       "      <td>0.3</td>\n",
       "    </tr>\n",
       "    <tr>\n",
       "      <th>0.50</th>\n",
       "      <td>5.8</td>\n",
       "      <td>3.0</td>\n",
       "      <td>4.3</td>\n",
       "      <td>1.3</td>\n",
       "    </tr>\n",
       "    <tr>\n",
       "      <th>0.75</th>\n",
       "      <td>6.4</td>\n",
       "      <td>3.3</td>\n",
       "      <td>5.1</td>\n",
       "      <td>1.8</td>\n",
       "    </tr>\n",
       "    <tr>\n",
       "      <th>1.00</th>\n",
       "      <td>7.9</td>\n",
       "      <td>4.4</td>\n",
       "      <td>6.9</td>\n",
       "      <td>2.5</td>\n",
       "    </tr>\n",
       "  </tbody>\n",
       "</table>\n",
       "</div>"
      ],
      "text/plain": [
       "      Sepal.Length  Sepal.Width  Petal.Length  Petal.Width\n",
       "0.00           4.3          2.0           1.0          0.1\n",
       "0.25           5.1          2.8           1.6          0.3\n",
       "0.50           5.8          3.0           4.3          1.3\n",
       "0.75           6.4          3.3           5.1          1.8\n",
       "1.00           7.9          4.4           6.9          2.5"
      ]
     },
     "execution_count": 235,
     "metadata": {},
     "output_type": "execute_result"
    }
   ],
   "source": [
    "X.quantile(q=[0,.25,.5,.75,1], interpolation='nearest')\n",
    "# 사분위수 : Q1(1사분위수 25%) - Q2(중위수) - Q3(3사분위수 75%)\n",
    "# IQR : Q3-Q1\n",
    "# 일반적으로 이상치 판단 기준 :\n",
    "    # Q3 + 1.5*IQR 보다 큰 값은 이상치로 판단\n",
    "    # Q1 - 1.5*IQR 보다 작은 값은 이상치로 판단"
   ]
  },
  {
   "cell_type": "code",
   "execution_count": 237,
   "id": "274d0178",
   "metadata": {
    "ExecuteTime": {
     "end_time": "2024-11-26T08:23:17.939323Z",
     "start_time": "2024-11-26T08:23:17.931344Z"
    }
   },
   "outputs": [
    {
     "data": {
      "text/plain": [
       "(150,\n",
       " Sepal.Length    150\n",
       " Sepal.Width     150\n",
       " Petal.Length    150\n",
       " Petal.Width     150\n",
       " dtype: int64)"
      ]
     },
     "execution_count": 237,
     "metadata": {},
     "output_type": "execute_result"
    }
   ],
   "source": [
    "len(X),X.count() # 결측치를 제외한 데이터 갯수"
   ]
  },
  {
   "cell_type": "markdown",
   "id": "2ef69ebb",
   "metadata": {},
   "source": [
    "## 8.2 요약통계량"
   ]
  },
  {
   "cell_type": "code",
   "execution_count": 238,
   "id": "633aed19",
   "metadata": {
    "ExecuteTime": {
     "end_time": "2024-11-26T08:24:15.819557Z",
     "start_time": "2024-11-26T08:24:15.803600Z"
    }
   },
   "outputs": [
    {
     "data": {
      "text/html": [
       "<div>\n",
       "<style scoped>\n",
       "    .dataframe tbody tr th:only-of-type {\n",
       "        vertical-align: middle;\n",
       "    }\n",
       "\n",
       "    .dataframe tbody tr th {\n",
       "        vertical-align: top;\n",
       "    }\n",
       "\n",
       "    .dataframe thead th {\n",
       "        text-align: right;\n",
       "    }\n",
       "</style>\n",
       "<table border=\"1\" class=\"dataframe\">\n",
       "  <thead>\n",
       "    <tr style=\"text-align: right;\">\n",
       "      <th></th>\n",
       "      <th>Sepal.Length</th>\n",
       "      <th>Sepal.Width</th>\n",
       "      <th>Petal.Length</th>\n",
       "      <th>Petal.Width</th>\n",
       "    </tr>\n",
       "  </thead>\n",
       "  <tbody>\n",
       "    <tr>\n",
       "      <th>count</th>\n",
       "      <td>150.000000</td>\n",
       "      <td>150.000000</td>\n",
       "      <td>150.000000</td>\n",
       "      <td>150.000000</td>\n",
       "    </tr>\n",
       "    <tr>\n",
       "      <th>mean</th>\n",
       "      <td>5.843333</td>\n",
       "      <td>3.057333</td>\n",
       "      <td>3.758000</td>\n",
       "      <td>1.199333</td>\n",
       "    </tr>\n",
       "    <tr>\n",
       "      <th>std</th>\n",
       "      <td>0.828066</td>\n",
       "      <td>0.435866</td>\n",
       "      <td>1.765298</td>\n",
       "      <td>0.762238</td>\n",
       "    </tr>\n",
       "    <tr>\n",
       "      <th>min</th>\n",
       "      <td>4.300000</td>\n",
       "      <td>2.000000</td>\n",
       "      <td>1.000000</td>\n",
       "      <td>0.100000</td>\n",
       "    </tr>\n",
       "    <tr>\n",
       "      <th>25%</th>\n",
       "      <td>5.100000</td>\n",
       "      <td>2.800000</td>\n",
       "      <td>1.600000</td>\n",
       "      <td>0.300000</td>\n",
       "    </tr>\n",
       "    <tr>\n",
       "      <th>50%</th>\n",
       "      <td>5.800000</td>\n",
       "      <td>3.000000</td>\n",
       "      <td>4.350000</td>\n",
       "      <td>1.300000</td>\n",
       "    </tr>\n",
       "    <tr>\n",
       "      <th>75%</th>\n",
       "      <td>6.400000</td>\n",
       "      <td>3.300000</td>\n",
       "      <td>5.100000</td>\n",
       "      <td>1.800000</td>\n",
       "    </tr>\n",
       "    <tr>\n",
       "      <th>max</th>\n",
       "      <td>7.900000</td>\n",
       "      <td>4.400000</td>\n",
       "      <td>6.900000</td>\n",
       "      <td>2.500000</td>\n",
       "    </tr>\n",
       "  </tbody>\n",
       "</table>\n",
       "</div>"
      ],
      "text/plain": [
       "       Sepal.Length  Sepal.Width  Petal.Length  Petal.Width\n",
       "count    150.000000   150.000000    150.000000   150.000000\n",
       "mean       5.843333     3.057333      3.758000     1.199333\n",
       "std        0.828066     0.435866      1.765298     0.762238\n",
       "min        4.300000     2.000000      1.000000     0.100000\n",
       "25%        5.100000     2.800000      1.600000     0.300000\n",
       "50%        5.800000     3.000000      4.350000     1.300000\n",
       "75%        6.400000     3.300000      5.100000     1.800000\n",
       "max        7.900000     4.400000      6.900000     2.500000"
      ]
     },
     "execution_count": 238,
     "metadata": {},
     "output_type": "execute_result"
    }
   ],
   "source": [
    "# 1) 기본 요약 통계량\n",
    "iris.describe() # 기본값 : 숫자열에서의 요약 통계량"
   ]
  },
  {
   "cell_type": "code",
   "execution_count": 239,
   "id": "9a604b63",
   "metadata": {
    "ExecuteTime": {
     "end_time": "2024-11-26T08:26:15.215745Z",
     "start_time": "2024-11-26T08:26:15.207760Z"
    }
   },
   "outputs": [
    {
     "data": {
      "text/plain": [
       "count        150\n",
       "unique         3\n",
       "top       setosa\n",
       "freq          50\n",
       "Name: Species, dtype: object"
      ]
     },
     "execution_count": 239,
     "metadata": {},
     "output_type": "execute_result"
    }
   ],
   "source": [
    "iris['Species'].describe() # 문자열에서의 요약 통계량 : 데이터갯수, 종류(unique), 최빈데이터(top), 최빈데이터개수(freq)"
   ]
  },
  {
   "cell_type": "code",
   "execution_count": 240,
   "id": "54294243",
   "metadata": {
    "ExecuteTime": {
     "end_time": "2024-11-26T08:32:44.594490Z",
     "start_time": "2024-11-26T08:32:44.583520Z"
    }
   },
   "outputs": [
    {
     "name": "stdout",
     "output_type": "stream",
     "text": [
      "<class 'pandas.core.frame.DataFrame'>\n",
      "RangeIndex: 6 entries, 0 to 5\n",
      "Data columns (total 4 columns):\n",
      " #   Column  Non-Null Count  Dtype  \n",
      "---  ------  --------------  -----  \n",
      " 0   a       6 non-null      int64  \n",
      " 1   b       6 non-null      float64\n",
      " 2   c       6 non-null      object \n",
      " 3   d       6 non-null      bool   \n",
      "dtypes: bool(1), float64(1), int64(1), object(1)\n",
      "memory usage: 278.0+ bytes\n"
     ]
    }
   ],
   "source": [
    "# 2) describe() 의 include와 exclude 매개변수\n",
    "df = pd.DataFrame({'a':[1,2,3]*2,\n",
    "                    'b':[2.1,4]*3,\n",
    "                   'c':['aaa','bbb','ccc']*2,\n",
    "                   'd':[True, False]*3})\n",
    "df.info()"
   ]
  },
  {
   "cell_type": "code",
   "execution_count": 241,
   "id": "866b1655",
   "metadata": {
    "ExecuteTime": {
     "end_time": "2024-11-26T08:32:52.800068Z",
     "start_time": "2024-11-26T08:32:52.786918Z"
    }
   },
   "outputs": [
    {
     "data": {
      "text/html": [
       "<div>\n",
       "<style scoped>\n",
       "    .dataframe tbody tr th:only-of-type {\n",
       "        vertical-align: middle;\n",
       "    }\n",
       "\n",
       "    .dataframe tbody tr th {\n",
       "        vertical-align: top;\n",
       "    }\n",
       "\n",
       "    .dataframe thead th {\n",
       "        text-align: right;\n",
       "    }\n",
       "</style>\n",
       "<table border=\"1\" class=\"dataframe\">\n",
       "  <thead>\n",
       "    <tr style=\"text-align: right;\">\n",
       "      <th></th>\n",
       "      <th>a</th>\n",
       "      <th>b</th>\n",
       "    </tr>\n",
       "  </thead>\n",
       "  <tbody>\n",
       "    <tr>\n",
       "      <th>count</th>\n",
       "      <td>6.000000</td>\n",
       "      <td>6.000000</td>\n",
       "    </tr>\n",
       "    <tr>\n",
       "      <th>mean</th>\n",
       "      <td>2.000000</td>\n",
       "      <td>3.050000</td>\n",
       "    </tr>\n",
       "    <tr>\n",
       "      <th>std</th>\n",
       "      <td>0.894427</td>\n",
       "      <td>1.040673</td>\n",
       "    </tr>\n",
       "    <tr>\n",
       "      <th>min</th>\n",
       "      <td>1.000000</td>\n",
       "      <td>2.100000</td>\n",
       "    </tr>\n",
       "    <tr>\n",
       "      <th>25%</th>\n",
       "      <td>1.250000</td>\n",
       "      <td>2.100000</td>\n",
       "    </tr>\n",
       "    <tr>\n",
       "      <th>50%</th>\n",
       "      <td>2.000000</td>\n",
       "      <td>3.050000</td>\n",
       "    </tr>\n",
       "    <tr>\n",
       "      <th>75%</th>\n",
       "      <td>2.750000</td>\n",
       "      <td>4.000000</td>\n",
       "    </tr>\n",
       "    <tr>\n",
       "      <th>max</th>\n",
       "      <td>3.000000</td>\n",
       "      <td>4.000000</td>\n",
       "    </tr>\n",
       "  </tbody>\n",
       "</table>\n",
       "</div>"
      ],
      "text/plain": [
       "              a         b\n",
       "count  6.000000  6.000000\n",
       "mean   2.000000  3.050000\n",
       "std    0.894427  1.040673\n",
       "min    1.000000  2.100000\n",
       "25%    1.250000  2.100000\n",
       "50%    2.000000  3.050000\n",
       "75%    2.750000  4.000000\n",
       "max    3.000000  4.000000"
      ]
     },
     "execution_count": 241,
     "metadata": {},
     "output_type": "execute_result"
    }
   ],
   "source": [
    "df.describe()"
   ]
  },
  {
   "cell_type": "code",
   "execution_count": 243,
   "id": "d39cf933",
   "metadata": {
    "ExecuteTime": {
     "end_time": "2024-11-26T08:35:00.395031Z",
     "start_time": "2024-11-26T08:35:00.381068Z"
    }
   },
   "outputs": [
    {
     "data": {
      "text/html": [
       "<div>\n",
       "<style scoped>\n",
       "    .dataframe tbody tr th:only-of-type {\n",
       "        vertical-align: middle;\n",
       "    }\n",
       "\n",
       "    .dataframe tbody tr th {\n",
       "        vertical-align: top;\n",
       "    }\n",
       "\n",
       "    .dataframe thead th {\n",
       "        text-align: right;\n",
       "    }\n",
       "</style>\n",
       "<table border=\"1\" class=\"dataframe\">\n",
       "  <thead>\n",
       "    <tr style=\"text-align: right;\">\n",
       "      <th></th>\n",
       "      <th>a</th>\n",
       "      <th>b</th>\n",
       "      <th>d</th>\n",
       "    </tr>\n",
       "  </thead>\n",
       "  <tbody>\n",
       "    <tr>\n",
       "      <th>count</th>\n",
       "      <td>6.000000</td>\n",
       "      <td>6.000000</td>\n",
       "      <td>6</td>\n",
       "    </tr>\n",
       "    <tr>\n",
       "      <th>unique</th>\n",
       "      <td>NaN</td>\n",
       "      <td>NaN</td>\n",
       "      <td>2</td>\n",
       "    </tr>\n",
       "    <tr>\n",
       "      <th>top</th>\n",
       "      <td>NaN</td>\n",
       "      <td>NaN</td>\n",
       "      <td>True</td>\n",
       "    </tr>\n",
       "    <tr>\n",
       "      <th>freq</th>\n",
       "      <td>NaN</td>\n",
       "      <td>NaN</td>\n",
       "      <td>3</td>\n",
       "    </tr>\n",
       "    <tr>\n",
       "      <th>mean</th>\n",
       "      <td>2.000000</td>\n",
       "      <td>3.050000</td>\n",
       "      <td>NaN</td>\n",
       "    </tr>\n",
       "    <tr>\n",
       "      <th>std</th>\n",
       "      <td>0.894427</td>\n",
       "      <td>1.040673</td>\n",
       "      <td>NaN</td>\n",
       "    </tr>\n",
       "    <tr>\n",
       "      <th>min</th>\n",
       "      <td>1.000000</td>\n",
       "      <td>2.100000</td>\n",
       "      <td>NaN</td>\n",
       "    </tr>\n",
       "    <tr>\n",
       "      <th>25%</th>\n",
       "      <td>1.250000</td>\n",
       "      <td>2.100000</td>\n",
       "      <td>NaN</td>\n",
       "    </tr>\n",
       "    <tr>\n",
       "      <th>50%</th>\n",
       "      <td>2.000000</td>\n",
       "      <td>3.050000</td>\n",
       "      <td>NaN</td>\n",
       "    </tr>\n",
       "    <tr>\n",
       "      <th>75%</th>\n",
       "      <td>2.750000</td>\n",
       "      <td>4.000000</td>\n",
       "      <td>NaN</td>\n",
       "    </tr>\n",
       "    <tr>\n",
       "      <th>max</th>\n",
       "      <td>3.000000</td>\n",
       "      <td>4.000000</td>\n",
       "      <td>NaN</td>\n",
       "    </tr>\n",
       "  </tbody>\n",
       "</table>\n",
       "</div>"
      ],
      "text/plain": [
       "               a         b     d\n",
       "count   6.000000  6.000000     6\n",
       "unique       NaN       NaN     2\n",
       "top          NaN       NaN  True\n",
       "freq         NaN       NaN     3\n",
       "mean    2.000000  3.050000   NaN\n",
       "std     0.894427  1.040673   NaN\n",
       "min     1.000000  2.100000   NaN\n",
       "25%     1.250000  2.100000   NaN\n",
       "50%     2.000000  3.050000   NaN\n",
       "75%     2.750000  4.000000   NaN\n",
       "max     3.000000  4.000000   NaN"
      ]
     },
     "execution_count": 243,
     "metadata": {},
     "output_type": "execute_result"
    }
   ],
   "source": [
    "# include 매개변수를 통해서 요약통계량을 출력할 여릐 타입을 출력할 수 있음\n",
    "df.describe(include=['float64', 'bool','int64'])"
   ]
  },
  {
   "cell_type": "code",
   "execution_count": 245,
   "id": "fa386eba",
   "metadata": {
    "ExecuteTime": {
     "end_time": "2024-11-26T08:37:04.260103Z",
     "start_time": "2024-11-26T08:37:04.246168Z"
    }
   },
   "outputs": [
    {
     "data": {
      "text/html": [
       "<div>\n",
       "<style scoped>\n",
       "    .dataframe tbody tr th:only-of-type {\n",
       "        vertical-align: middle;\n",
       "    }\n",
       "\n",
       "    .dataframe tbody tr th {\n",
       "        vertical-align: top;\n",
       "    }\n",
       "\n",
       "    .dataframe thead th {\n",
       "        text-align: right;\n",
       "    }\n",
       "</style>\n",
       "<table border=\"1\" class=\"dataframe\">\n",
       "  <thead>\n",
       "    <tr style=\"text-align: right;\">\n",
       "      <th></th>\n",
       "      <th>a</th>\n",
       "      <th>c</th>\n",
       "      <th>d</th>\n",
       "    </tr>\n",
       "  </thead>\n",
       "  <tbody>\n",
       "    <tr>\n",
       "      <th>count</th>\n",
       "      <td>6.000000</td>\n",
       "      <td>6</td>\n",
       "      <td>6</td>\n",
       "    </tr>\n",
       "    <tr>\n",
       "      <th>unique</th>\n",
       "      <td>NaN</td>\n",
       "      <td>3</td>\n",
       "      <td>2</td>\n",
       "    </tr>\n",
       "    <tr>\n",
       "      <th>top</th>\n",
       "      <td>NaN</td>\n",
       "      <td>aaa</td>\n",
       "      <td>True</td>\n",
       "    </tr>\n",
       "    <tr>\n",
       "      <th>freq</th>\n",
       "      <td>NaN</td>\n",
       "      <td>2</td>\n",
       "      <td>3</td>\n",
       "    </tr>\n",
       "    <tr>\n",
       "      <th>mean</th>\n",
       "      <td>2.000000</td>\n",
       "      <td>NaN</td>\n",
       "      <td>NaN</td>\n",
       "    </tr>\n",
       "    <tr>\n",
       "      <th>std</th>\n",
       "      <td>0.894427</td>\n",
       "      <td>NaN</td>\n",
       "      <td>NaN</td>\n",
       "    </tr>\n",
       "    <tr>\n",
       "      <th>min</th>\n",
       "      <td>1.000000</td>\n",
       "      <td>NaN</td>\n",
       "      <td>NaN</td>\n",
       "    </tr>\n",
       "    <tr>\n",
       "      <th>25%</th>\n",
       "      <td>1.250000</td>\n",
       "      <td>NaN</td>\n",
       "      <td>NaN</td>\n",
       "    </tr>\n",
       "    <tr>\n",
       "      <th>50%</th>\n",
       "      <td>2.000000</td>\n",
       "      <td>NaN</td>\n",
       "      <td>NaN</td>\n",
       "    </tr>\n",
       "    <tr>\n",
       "      <th>75%</th>\n",
       "      <td>2.750000</td>\n",
       "      <td>NaN</td>\n",
       "      <td>NaN</td>\n",
       "    </tr>\n",
       "    <tr>\n",
       "      <th>max</th>\n",
       "      <td>3.000000</td>\n",
       "      <td>NaN</td>\n",
       "      <td>NaN</td>\n",
       "    </tr>\n",
       "  </tbody>\n",
       "</table>\n",
       "</div>"
      ],
      "text/plain": [
       "               a    c     d\n",
       "count   6.000000    6     6\n",
       "unique       NaN    3     2\n",
       "top          NaN  aaa  True\n",
       "freq         NaN    2     3\n",
       "mean    2.000000  NaN   NaN\n",
       "std     0.894427  NaN   NaN\n",
       "min     1.000000  NaN   NaN\n",
       "25%     1.250000  NaN   NaN\n",
       "50%     2.000000  NaN   NaN\n",
       "75%     2.750000  NaN   NaN\n",
       "max     3.000000  NaN   NaN"
      ]
     },
     "execution_count": 245,
     "metadata": {},
     "output_type": "execute_result"
    }
   ],
   "source": [
    "# exclude 매개변수를 이용해서 제외할 타입 지정\n",
    "df.describe(exclude=['float64'])"
   ]
  },
  {
   "cell_type": "code",
   "execution_count": 246,
   "id": "b0c5e583",
   "metadata": {
    "ExecuteTime": {
     "end_time": "2024-11-26T08:37:32.663836Z",
     "start_time": "2024-11-26T08:37:32.648901Z"
    }
   },
   "outputs": [
    {
     "data": {
      "text/html": [
       "<div>\n",
       "<style scoped>\n",
       "    .dataframe tbody tr th:only-of-type {\n",
       "        vertical-align: middle;\n",
       "    }\n",
       "\n",
       "    .dataframe tbody tr th {\n",
       "        vertical-align: top;\n",
       "    }\n",
       "\n",
       "    .dataframe thead th {\n",
       "        text-align: right;\n",
       "    }\n",
       "</style>\n",
       "<table border=\"1\" class=\"dataframe\">\n",
       "  <thead>\n",
       "    <tr style=\"text-align: right;\">\n",
       "      <th></th>\n",
       "      <th>a</th>\n",
       "      <th>b</th>\n",
       "      <th>c</th>\n",
       "      <th>d</th>\n",
       "    </tr>\n",
       "  </thead>\n",
       "  <tbody>\n",
       "    <tr>\n",
       "      <th>count</th>\n",
       "      <td>6.000000</td>\n",
       "      <td>6.000000</td>\n",
       "      <td>6</td>\n",
       "      <td>6</td>\n",
       "    </tr>\n",
       "    <tr>\n",
       "      <th>unique</th>\n",
       "      <td>NaN</td>\n",
       "      <td>NaN</td>\n",
       "      <td>3</td>\n",
       "      <td>2</td>\n",
       "    </tr>\n",
       "    <tr>\n",
       "      <th>top</th>\n",
       "      <td>NaN</td>\n",
       "      <td>NaN</td>\n",
       "      <td>aaa</td>\n",
       "      <td>True</td>\n",
       "    </tr>\n",
       "    <tr>\n",
       "      <th>freq</th>\n",
       "      <td>NaN</td>\n",
       "      <td>NaN</td>\n",
       "      <td>2</td>\n",
       "      <td>3</td>\n",
       "    </tr>\n",
       "    <tr>\n",
       "      <th>mean</th>\n",
       "      <td>2.000000</td>\n",
       "      <td>3.050000</td>\n",
       "      <td>NaN</td>\n",
       "      <td>NaN</td>\n",
       "    </tr>\n",
       "    <tr>\n",
       "      <th>std</th>\n",
       "      <td>0.894427</td>\n",
       "      <td>1.040673</td>\n",
       "      <td>NaN</td>\n",
       "      <td>NaN</td>\n",
       "    </tr>\n",
       "    <tr>\n",
       "      <th>min</th>\n",
       "      <td>1.000000</td>\n",
       "      <td>2.100000</td>\n",
       "      <td>NaN</td>\n",
       "      <td>NaN</td>\n",
       "    </tr>\n",
       "    <tr>\n",
       "      <th>25%</th>\n",
       "      <td>1.250000</td>\n",
       "      <td>2.100000</td>\n",
       "      <td>NaN</td>\n",
       "      <td>NaN</td>\n",
       "    </tr>\n",
       "    <tr>\n",
       "      <th>50%</th>\n",
       "      <td>2.000000</td>\n",
       "      <td>3.050000</td>\n",
       "      <td>NaN</td>\n",
       "      <td>NaN</td>\n",
       "    </tr>\n",
       "    <tr>\n",
       "      <th>75%</th>\n",
       "      <td>2.750000</td>\n",
       "      <td>4.000000</td>\n",
       "      <td>NaN</td>\n",
       "      <td>NaN</td>\n",
       "    </tr>\n",
       "    <tr>\n",
       "      <th>max</th>\n",
       "      <td>3.000000</td>\n",
       "      <td>4.000000</td>\n",
       "      <td>NaN</td>\n",
       "      <td>NaN</td>\n",
       "    </tr>\n",
       "  </tbody>\n",
       "</table>\n",
       "</div>"
      ],
      "text/plain": [
       "               a         b    c     d\n",
       "count   6.000000  6.000000    6     6\n",
       "unique       NaN       NaN    3     2\n",
       "top          NaN       NaN  aaa  True\n",
       "freq         NaN       NaN    2     3\n",
       "mean    2.000000  3.050000  NaN   NaN\n",
       "std     0.894427  1.040673  NaN   NaN\n",
       "min     1.000000  2.100000  NaN   NaN\n",
       "25%     1.250000  2.100000  NaN   NaN\n",
       "50%     2.000000  3.050000  NaN   NaN\n",
       "75%     2.750000  4.000000  NaN   NaN\n",
       "max     3.000000  4.000000  NaN   NaN"
      ]
     },
     "execution_count": 246,
     "metadata": {},
     "output_type": "execute_result"
    }
   ],
   "source": [
    "df.describe(include='all') # 데이터 프레임의 모든 열의 요약 통계량 출력"
   ]
  },
  {
   "cell_type": "code",
   "execution_count": 247,
   "id": "6ca6e718",
   "metadata": {
    "ExecuteTime": {
     "end_time": "2024-11-26T08:39:06.644404Z",
     "start_time": "2024-11-26T08:39:06.638420Z"
    }
   },
   "outputs": [
    {
     "data": {
      "text/plain": [
       "array(['aaa', 'bbb', 'ccc'], dtype=object)"
      ]
     },
     "execution_count": 247,
     "metadata": {},
     "output_type": "execute_result"
    }
   ],
   "source": [
    "df['c'].unique() # 특정 컬럼의 고유"
   ]
  },
  {
   "cell_type": "code",
   "execution_count": 248,
   "id": "a7ea2fc7",
   "metadata": {
    "ExecuteTime": {
     "end_time": "2024-11-26T08:40:55.404981Z",
     "start_time": "2024-11-26T08:40:55.397999Z"
    }
   },
   "outputs": [
    {
     "data": {
      "text/plain": [
       "aaa    2\n",
       "bbb    2\n",
       "ccc    2\n",
       "Name: c, dtype: int64"
      ]
     },
     "execution_count": 248,
     "metadata": {},
     "output_type": "execute_result"
    }
   ],
   "source": [
    "df['c'].value_counts() # 고유값들의 빈도"
   ]
  },
  {
   "cell_type": "code",
   "execution_count": 249,
   "id": "3551fe34",
   "metadata": {
    "ExecuteTime": {
     "end_time": "2024-11-26T08:43:18.610804Z",
     "start_time": "2024-11-26T08:43:18.602826Z"
    }
   },
   "outputs": [
    {
     "data": {
      "text/html": [
       "<div>\n",
       "<style scoped>\n",
       "    .dataframe tbody tr th:only-of-type {\n",
       "        vertical-align: middle;\n",
       "    }\n",
       "\n",
       "    .dataframe tbody tr th {\n",
       "        vertical-align: top;\n",
       "    }\n",
       "\n",
       "    .dataframe thead th {\n",
       "        text-align: right;\n",
       "    }\n",
       "</style>\n",
       "<table border=\"1\" class=\"dataframe\">\n",
       "  <thead>\n",
       "    <tr style=\"text-align: right;\">\n",
       "      <th></th>\n",
       "      <th>c</th>\n",
       "    </tr>\n",
       "  </thead>\n",
       "  <tbody>\n",
       "    <tr>\n",
       "      <th>0</th>\n",
       "      <td>aaa</td>\n",
       "    </tr>\n",
       "    <tr>\n",
       "      <th>1</th>\n",
       "      <td>bbb</td>\n",
       "    </tr>\n",
       "    <tr>\n",
       "      <th>2</th>\n",
       "      <td>ccc</td>\n",
       "    </tr>\n",
       "    <tr>\n",
       "      <th>3</th>\n",
       "      <td>aaa</td>\n",
       "    </tr>\n",
       "    <tr>\n",
       "      <th>4</th>\n",
       "      <td>bbb</td>\n",
       "    </tr>\n",
       "    <tr>\n",
       "      <th>5</th>\n",
       "      <td>ccc</td>\n",
       "    </tr>\n",
       "  </tbody>\n",
       "</table>\n",
       "</div>"
      ],
      "text/plain": [
       "     c\n",
       "0  aaa\n",
       "1  bbb\n",
       "2  ccc\n",
       "3  aaa\n",
       "4  bbb\n",
       "5  ccc"
      ]
     },
     "execution_count": 249,
     "metadata": {},
     "output_type": "execute_result"
    }
   ],
   "source": [
    "df.select_dtypes(include=object)"
   ]
  },
  {
   "cell_type": "code",
   "execution_count": 250,
   "id": "9b26f956",
   "metadata": {
    "ExecuteTime": {
     "end_time": "2024-11-26T08:43:28.832859Z",
     "start_time": "2024-11-26T08:43:28.822871Z"
    }
   },
   "outputs": [
    {
     "data": {
      "text/html": [
       "<div>\n",
       "<style scoped>\n",
       "    .dataframe tbody tr th:only-of-type {\n",
       "        vertical-align: middle;\n",
       "    }\n",
       "\n",
       "    .dataframe tbody tr th {\n",
       "        vertical-align: top;\n",
       "    }\n",
       "\n",
       "    .dataframe thead th {\n",
       "        text-align: right;\n",
       "    }\n",
       "</style>\n",
       "<table border=\"1\" class=\"dataframe\">\n",
       "  <thead>\n",
       "    <tr style=\"text-align: right;\">\n",
       "      <th></th>\n",
       "      <th>a</th>\n",
       "      <th>b</th>\n",
       "      <th>d</th>\n",
       "    </tr>\n",
       "  </thead>\n",
       "  <tbody>\n",
       "    <tr>\n",
       "      <th>0</th>\n",
       "      <td>1</td>\n",
       "      <td>2.1</td>\n",
       "      <td>True</td>\n",
       "    </tr>\n",
       "    <tr>\n",
       "      <th>1</th>\n",
       "      <td>2</td>\n",
       "      <td>4.0</td>\n",
       "      <td>False</td>\n",
       "    </tr>\n",
       "    <tr>\n",
       "      <th>2</th>\n",
       "      <td>3</td>\n",
       "      <td>2.1</td>\n",
       "      <td>True</td>\n",
       "    </tr>\n",
       "    <tr>\n",
       "      <th>3</th>\n",
       "      <td>1</td>\n",
       "      <td>4.0</td>\n",
       "      <td>False</td>\n",
       "    </tr>\n",
       "    <tr>\n",
       "      <th>4</th>\n",
       "      <td>2</td>\n",
       "      <td>2.1</td>\n",
       "      <td>True</td>\n",
       "    </tr>\n",
       "    <tr>\n",
       "      <th>5</th>\n",
       "      <td>3</td>\n",
       "      <td>4.0</td>\n",
       "      <td>False</td>\n",
       "    </tr>\n",
       "  </tbody>\n",
       "</table>\n",
       "</div>"
      ],
      "text/plain": [
       "   a    b      d\n",
       "0  1  2.1   True\n",
       "1  2  4.0  False\n",
       "2  3  2.1   True\n",
       "3  1  4.0  False\n",
       "4  2  2.1   True\n",
       "5  3  4.0  False"
      ]
     },
     "execution_count": 250,
     "metadata": {},
     "output_type": "execute_result"
    }
   ],
   "source": [
    "df.select_dtypes(exclude=object)"
   ]
  },
  {
   "cell_type": "markdown",
   "id": "f5e8b42d",
   "metadata": {},
   "source": [
    "## 8.2 공분산, 상관계수"
   ]
  },
  {
   "cell_type": "code",
   "execution_count": 252,
   "id": "e3328a50",
   "metadata": {
    "ExecuteTime": {
     "end_time": "2024-11-26T08:47:24.076338Z",
     "start_time": "2024-11-26T08:47:24.022455Z"
    }
   },
   "outputs": [
    {
     "data": {
      "text/html": [
       "<div>\n",
       "<style scoped>\n",
       "    .dataframe tbody tr th:only-of-type {\n",
       "        vertical-align: middle;\n",
       "    }\n",
       "\n",
       "    .dataframe tbody tr th {\n",
       "        vertical-align: top;\n",
       "    }\n",
       "\n",
       "    .dataframe thead th {\n",
       "        text-align: right;\n",
       "    }\n",
       "</style>\n",
       "<table border=\"1\" class=\"dataframe\">\n",
       "  <thead>\n",
       "    <tr style=\"text-align: right;\">\n",
       "      <th></th>\n",
       "      <th>Sepal.Length</th>\n",
       "      <th>Sepal.Width</th>\n",
       "      <th>Petal.Length</th>\n",
       "      <th>Petal.Width</th>\n",
       "    </tr>\n",
       "  </thead>\n",
       "  <tbody>\n",
       "    <tr>\n",
       "      <th>Sepal.Length</th>\n",
       "      <td>0.685694</td>\n",
       "      <td>-0.042434</td>\n",
       "      <td>1.274315</td>\n",
       "      <td>0.516271</td>\n",
       "    </tr>\n",
       "    <tr>\n",
       "      <th>Sepal.Width</th>\n",
       "      <td>-0.042434</td>\n",
       "      <td>0.189979</td>\n",
       "      <td>-0.329656</td>\n",
       "      <td>-0.121639</td>\n",
       "    </tr>\n",
       "    <tr>\n",
       "      <th>Petal.Length</th>\n",
       "      <td>1.274315</td>\n",
       "      <td>-0.329656</td>\n",
       "      <td>3.116278</td>\n",
       "      <td>1.295609</td>\n",
       "    </tr>\n",
       "    <tr>\n",
       "      <th>Petal.Width</th>\n",
       "      <td>0.516271</td>\n",
       "      <td>-0.121639</td>\n",
       "      <td>1.295609</td>\n",
       "      <td>0.581006</td>\n",
       "    </tr>\n",
       "  </tbody>\n",
       "</table>\n",
       "</div>"
      ],
      "text/plain": [
       "              Sepal.Length  Sepal.Width  Petal.Length  Petal.Width\n",
       "Sepal.Length      0.685694    -0.042434      1.274315     0.516271\n",
       "Sepal.Width      -0.042434     0.189979     -0.329656    -0.121639\n",
       "Petal.Length      1.274315    -0.329656      3.116278     1.295609\n",
       "Petal.Width       0.516271    -0.121639      1.295609     0.581006"
      ]
     },
     "execution_count": 252,
     "metadata": {},
     "output_type": "execute_result"
    }
   ],
   "source": [
    "# 공분산 : (x1-x1평균)*(x2-x2평균)들의 합을 n-1을 나눈값\n",
    "X.cov()"
   ]
  },
  {
   "cell_type": "code",
   "execution_count": 253,
   "id": "4791adc2",
   "metadata": {
    "ExecuteTime": {
     "end_time": "2024-11-26T08:53:22.314093Z",
     "start_time": "2024-11-26T08:53:22.304092Z"
    }
   },
   "outputs": [
    {
     "data": {
      "text/html": [
       "<div>\n",
       "<style scoped>\n",
       "    .dataframe tbody tr th:only-of-type {\n",
       "        vertical-align: middle;\n",
       "    }\n",
       "\n",
       "    .dataframe tbody tr th {\n",
       "        vertical-align: top;\n",
       "    }\n",
       "\n",
       "    .dataframe thead th {\n",
       "        text-align: right;\n",
       "    }\n",
       "</style>\n",
       "<table border=\"1\" class=\"dataframe\">\n",
       "  <thead>\n",
       "    <tr style=\"text-align: right;\">\n",
       "      <th></th>\n",
       "      <th>Sepal.Length</th>\n",
       "      <th>Sepal.Width</th>\n",
       "      <th>Petal.Length</th>\n",
       "      <th>Petal.Width</th>\n",
       "    </tr>\n",
       "  </thead>\n",
       "  <tbody>\n",
       "    <tr>\n",
       "      <th>Sepal.Length</th>\n",
       "      <td>1.000000</td>\n",
       "      <td>-0.117570</td>\n",
       "      <td>0.871754</td>\n",
       "      <td>0.817941</td>\n",
       "    </tr>\n",
       "    <tr>\n",
       "      <th>Sepal.Width</th>\n",
       "      <td>-0.117570</td>\n",
       "      <td>1.000000</td>\n",
       "      <td>-0.428440</td>\n",
       "      <td>-0.366126</td>\n",
       "    </tr>\n",
       "    <tr>\n",
       "      <th>Petal.Length</th>\n",
       "      <td>0.871754</td>\n",
       "      <td>-0.428440</td>\n",
       "      <td>1.000000</td>\n",
       "      <td>0.962865</td>\n",
       "    </tr>\n",
       "    <tr>\n",
       "      <th>Petal.Width</th>\n",
       "      <td>0.817941</td>\n",
       "      <td>-0.366126</td>\n",
       "      <td>0.962865</td>\n",
       "      <td>1.000000</td>\n",
       "    </tr>\n",
       "  </tbody>\n",
       "</table>\n",
       "</div>"
      ],
      "text/plain": [
       "              Sepal.Length  Sepal.Width  Petal.Length  Petal.Width\n",
       "Sepal.Length      1.000000    -0.117570      0.871754     0.817941\n",
       "Sepal.Width      -0.117570     1.000000     -0.428440    -0.366126\n",
       "Petal.Length      0.871754    -0.428440      1.000000     0.962865\n",
       "Petal.Width       0.817941    -0.366126      0.962865     1.000000"
      ]
     },
     "execution_count": 253,
     "metadata": {},
     "output_type": "execute_result"
    }
   ],
   "source": [
    "# -1 < 상관계수 (공분산/ (x1표준편차*x2표준편차)) < 1\n",
    "X.corr()"
   ]
  },
  {
   "cell_type": "code",
   "execution_count": 258,
   "id": "f6e62856",
   "metadata": {
    "ExecuteTime": {
     "end_time": "2024-11-26T08:56:31.718023Z",
     "start_time": "2024-11-26T08:56:31.502693Z"
    }
   },
   "outputs": [
    {
     "data": {
      "image/png": "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\n",
      "text/plain": [
       "<Figure size 1200x500 with 2 Axes>"
      ]
     },
     "metadata": {},
     "output_type": "display_data"
    }
   ],
   "source": [
    "import matplotlib.pyplot as plt\n",
    "import seaborn as sns\n",
    "plt.figure(figsize=(12,5))\n",
    "sns.heatmap(X.corr(),vmin=-1, vmax=1, annot=True, cmap='Greens', fmt='.2f')\n",
    "plt.show()"
   ]
  },
  {
   "cell_type": "code",
   "execution_count": null,
   "id": "4dd20cd9",
   "metadata": {},
   "outputs": [],
   "source": []
  },
  {
   "cell_type": "code",
   "execution_count": null,
   "id": "54f12616",
   "metadata": {},
   "outputs": [],
   "source": []
  },
  {
   "cell_type": "code",
   "execution_count": null,
   "id": "edfe1544",
   "metadata": {},
   "outputs": [],
   "source": []
  },
  {
   "cell_type": "code",
   "execution_count": null,
   "id": "9e9c2695",
   "metadata": {},
   "outputs": [],
   "source": []
  },
  {
   "cell_type": "code",
   "execution_count": null,
   "id": "56760d13",
   "metadata": {},
   "outputs": [],
   "source": []
  },
  {
   "cell_type": "code",
   "execution_count": null,
   "id": "a8d1c423",
   "metadata": {},
   "outputs": [],
   "source": []
  },
  {
   "cell_type": "code",
   "execution_count": null,
   "id": "efcf0b03",
   "metadata": {},
   "outputs": [],
   "source": []
  },
  {
   "cell_type": "code",
   "execution_count": null,
   "id": "f786c7cc",
   "metadata": {},
   "outputs": [],
   "source": []
  },
  {
   "cell_type": "code",
   "execution_count": null,
   "id": "c5ceadeb",
   "metadata": {},
   "outputs": [],
   "source": []
  },
  {
   "cell_type": "code",
   "execution_count": null,
   "id": "a3a3fbc3",
   "metadata": {},
   "outputs": [],
   "source": []
  },
  {
   "cell_type": "code",
   "execution_count": null,
   "id": "cb725293",
   "metadata": {},
   "outputs": [],
   "source": []
  },
  {
   "cell_type": "code",
   "execution_count": null,
   "id": "0b3f4a17",
   "metadata": {},
   "outputs": [],
   "source": []
  },
  {
   "cell_type": "code",
   "execution_count": null,
   "id": "47cae32c",
   "metadata": {},
   "outputs": [],
   "source": []
  },
  {
   "cell_type": "code",
   "execution_count": null,
   "id": "4d63f213",
   "metadata": {},
   "outputs": [],
   "source": []
  },
  {
   "cell_type": "code",
   "execution_count": null,
   "id": "378918a4",
   "metadata": {},
   "outputs": [],
   "source": []
  },
  {
   "cell_type": "code",
   "execution_count": null,
   "id": "5c3ff1fe",
   "metadata": {},
   "outputs": [],
   "source": []
  },
  {
   "cell_type": "code",
   "execution_count": null,
   "id": "d00c5811",
   "metadata": {},
   "outputs": [],
   "source": []
  },
  {
   "cell_type": "code",
   "execution_count": null,
   "id": "d2da1ea3",
   "metadata": {},
   "outputs": [],
   "source": []
  },
  {
   "cell_type": "code",
   "execution_count": null,
   "id": "fbc81cfe",
   "metadata": {},
   "outputs": [],
   "source": []
  },
  {
   "cell_type": "code",
   "execution_count": null,
   "id": "2d575fbc",
   "metadata": {},
   "outputs": [],
   "source": []
  },
  {
   "cell_type": "code",
   "execution_count": null,
   "id": "699f8380",
   "metadata": {},
   "outputs": [],
   "source": []
  },
  {
   "cell_type": "code",
   "execution_count": null,
   "id": "13496758",
   "metadata": {},
   "outputs": [],
   "source": []
  },
  {
   "cell_type": "code",
   "execution_count": null,
   "id": "57fb5b7b",
   "metadata": {},
   "outputs": [],
   "source": []
  },
  {
   "cell_type": "code",
   "execution_count": null,
   "id": "3fd14c0e",
   "metadata": {},
   "outputs": [],
   "source": []
  },
  {
   "cell_type": "code",
   "execution_count": null,
   "id": "93f89466",
   "metadata": {},
   "outputs": [],
   "source": []
  },
  {
   "cell_type": "code",
   "execution_count": null,
   "id": "b8ee75e7",
   "metadata": {},
   "outputs": [],
   "source": []
  },
  {
   "cell_type": "code",
   "execution_count": null,
   "id": "62d39c9c",
   "metadata": {},
   "outputs": [],
   "source": []
  }
 ],
 "metadata": {
  "kernelspec": {
   "display_name": "Python 3 (ipykernel)",
   "language": "python",
   "name": "python3"
  },
  "language_info": {
   "codemirror_mode": {
    "name": "ipython",
    "version": 3
   },
   "file_extension": ".py",
   "mimetype": "text/x-python",
   "name": "python",
   "nbconvert_exporter": "python",
   "pygments_lexer": "ipython3",
   "version": "3.10.9"
  },
  "toc": {
   "base_numbering": 1,
   "nav_menu": {},
   "number_sections": true,
   "sideBar": true,
   "skip_h1_title": false,
   "title_cell": "Table of Contents",
   "title_sidebar": "Contents",
   "toc_cell": false,
   "toc_position": {
    "height": "calc(100% - 180px)",
    "left": "10px",
    "top": "150px",
    "width": "201px"
   },
   "toc_section_display": true,
   "toc_window_display": true
  }
 },
 "nbformat": 4,
 "nbformat_minor": 5
}
