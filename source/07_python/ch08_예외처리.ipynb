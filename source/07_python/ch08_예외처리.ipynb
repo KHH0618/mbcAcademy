{
 "cells": [
  {
   "cell_type": "markdown",
   "id": "16eafccd",
   "metadata": {},
   "source": [
    "<b><font color=\"red\" size=\"6\">ch08. 예외처리</font></b>"
   ]
  },
  {
   "cell_type": "markdown",
   "id": "a01433fb",
   "metadata": {},
   "source": [
    "# 1절. 예외처리\n",
    "- 예외가 날 가능성이 있는 부분에 대해 미리 예상하고, 그에 대한 처리를 프로그래밍 하는것\n",
    "    (이유 : 좀 더 안정적으로 실행할 수 있도록 함)\n",
    "    ```\n",
    "    ex. 파일을 다룰 때, 파일이 없거나, 쓰기 금지로 인한 오류\n",
    "    ex. 데이터베이스 프로그래밍 시 제약조건 등에 의한 CRUD 명령 수행 오류. DBMS 서버 오류\n",
    "    ex. 네트워크 프로그래밍 시 네트워크 연결 실패 오류\n",
    "    ex. 웹 프로그래밍 작성시 웹 서버 오류\n",
    "    ex. list 나 튜플에 인덱스를 벗어난 참조로 인한 오류\n",
    "    ex. 웹크롤링시 \n",
    "        try:\n",
    "            데이터 수집코드\n",
    "        except:\n",
    "            오류가 났을 경우 대신 실행할 코드\n",
    "    ```"
   ]
  },
  {
   "cell_type": "code",
   "execution_count": 8,
   "id": "8988b06e",
   "metadata": {
    "ExecuteTime": {
     "end_time": "2024-11-15T08:00:46.401780Z",
     "start_time": "2024-11-15T08:00:44.925786Z"
    }
   },
   "outputs": [
    {
     "name": "stdout",
     "output_type": "stream",
     "text": [
      "파일명?0000\n"
     ]
    },
    {
     "ename": "FileNotFoundError",
     "evalue": "[Errno 2] No such file or directory: 'data/0000'",
     "output_type": "error",
     "traceback": [
      "\u001b[1;31m---------------------------------------------------------------------------\u001b[0m",
      "\u001b[1;31mFileNotFoundError\u001b[0m                         Traceback (most recent call last)",
      "Cell \u001b[1;32mIn[8], line 2\u001b[0m\n\u001b[0;32m      1\u001b[0m filename \u001b[38;5;241m=\u001b[39m \u001b[38;5;28minput\u001b[39m(\u001b[38;5;124m'\u001b[39m\u001b[38;5;124m파일명?\u001b[39m\u001b[38;5;124m'\u001b[39m) \u001b[38;5;66;03m#ch08.txt\u001b[39;00m\n\u001b[1;32m----> 2\u001b[0m f \u001b[38;5;241m=\u001b[39m \u001b[38;5;28;43mopen\u001b[39;49m\u001b[43m(\u001b[49m\u001b[38;5;124;43m'\u001b[39;49m\u001b[38;5;124;43mdata/\u001b[39;49m\u001b[38;5;124;43m'\u001b[39;49m\u001b[38;5;241;43m+\u001b[39;49m\u001b[43mfilename\u001b[49m\u001b[43m,\u001b[49m\u001b[43m \u001b[49m\u001b[38;5;124;43m'\u001b[39;49m\u001b[38;5;124;43mr\u001b[39;49m\u001b[38;5;124;43m'\u001b[39;49m\u001b[43m)\u001b[49m \u001b[38;5;66;03m#읽기 전용으로 파일을 열기 (읽기 전용 stream 객체 생성)\u001b[39;00m\n\u001b[0;32m      3\u001b[0m \u001b[38;5;28mprint\u001b[39m(f\u001b[38;5;241m.\u001b[39mread())\n",
      "File \u001b[1;32m~\\anaconda3\\lib\\site-packages\\IPython\\core\\interactiveshell.py:282\u001b[0m, in \u001b[0;36m_modified_open\u001b[1;34m(file, *args, **kwargs)\u001b[0m\n\u001b[0;32m    275\u001b[0m \u001b[38;5;28;01mif\u001b[39;00m file \u001b[38;5;129;01min\u001b[39;00m {\u001b[38;5;241m0\u001b[39m, \u001b[38;5;241m1\u001b[39m, \u001b[38;5;241m2\u001b[39m}:\n\u001b[0;32m    276\u001b[0m     \u001b[38;5;28;01mraise\u001b[39;00m \u001b[38;5;167;01mValueError\u001b[39;00m(\n\u001b[0;32m    277\u001b[0m         \u001b[38;5;124mf\u001b[39m\u001b[38;5;124m\"\u001b[39m\u001b[38;5;124mIPython won\u001b[39m\u001b[38;5;124m'\u001b[39m\u001b[38;5;124mt let you open fd=\u001b[39m\u001b[38;5;132;01m{\u001b[39;00mfile\u001b[38;5;132;01m}\u001b[39;00m\u001b[38;5;124m by default \u001b[39m\u001b[38;5;124m\"\u001b[39m\n\u001b[0;32m    278\u001b[0m         \u001b[38;5;124m\"\u001b[39m\u001b[38;5;124mas it is likely to crash IPython. If you know what you are doing, \u001b[39m\u001b[38;5;124m\"\u001b[39m\n\u001b[0;32m    279\u001b[0m         \u001b[38;5;124m\"\u001b[39m\u001b[38;5;124myou can use builtins\u001b[39m\u001b[38;5;124m'\u001b[39m\u001b[38;5;124m open.\u001b[39m\u001b[38;5;124m\"\u001b[39m\n\u001b[0;32m    280\u001b[0m     )\n\u001b[1;32m--> 282\u001b[0m \u001b[38;5;28;01mreturn\u001b[39;00m io_open(file, \u001b[38;5;241m*\u001b[39margs, \u001b[38;5;241m*\u001b[39m\u001b[38;5;241m*\u001b[39mkwargs)\n",
      "\u001b[1;31mFileNotFoundError\u001b[0m: [Errno 2] No such file or directory: 'data/0000'"
     ]
    }
   ],
   "source": [
    "filename = input('파일명?') #ch08.txt\n",
    "f = open('data/'+filename, 'r') #읽기 전용으로 파일을 열기 (읽기 전용 stream 객체 생성)\n",
    "print(f.read())"
   ]
  },
  {
   "cell_type": "code",
   "execution_count": 6,
   "id": "c5d3e98e",
   "metadata": {
    "ExecuteTime": {
     "end_time": "2024-11-15T08:00:32.523201Z",
     "start_time": "2024-11-15T08:00:32.507239Z"
    }
   },
   "outputs": [
    {
     "ename": "ZeroDivisionError",
     "evalue": "division by zero",
     "output_type": "error",
     "traceback": [
      "\u001b[1;31m---------------------------------------------------------------------------\u001b[0m",
      "\u001b[1;31mZeroDivisionError\u001b[0m                         Traceback (most recent call last)",
      "Cell \u001b[1;32mIn[6], line 1\u001b[0m\n\u001b[1;32m----> 1\u001b[0m \u001b[38;5;241;43m4\u001b[39;49m\u001b[38;5;241;43m/\u001b[39;49m\u001b[38;5;241;43m0\u001b[39;49m\n",
      "\u001b[1;31mZeroDivisionError\u001b[0m: division by zero"
     ]
    }
   ],
   "source": [
    "4/0"
   ]
  },
  {
   "cell_type": "code",
   "execution_count": 7,
   "id": "1e1429c8",
   "metadata": {
    "ExecuteTime": {
     "end_time": "2024-11-15T08:00:41.198815Z",
     "start_time": "2024-11-15T08:00:41.169893Z"
    }
   },
   "outputs": [
    {
     "ename": "IndexError",
     "evalue": "list index out of range",
     "output_type": "error",
     "traceback": [
      "\u001b[1;31m---------------------------------------------------------------------------\u001b[0m",
      "\u001b[1;31mIndexError\u001b[0m                                Traceback (most recent call last)",
      "Cell \u001b[1;32mIn[7], line 2\u001b[0m\n\u001b[0;32m      1\u001b[0m a \u001b[38;5;241m=\u001b[39m [\u001b[38;5;241m1\u001b[39m,\u001b[38;5;241m2\u001b[39m,\u001b[38;5;241m3\u001b[39m]\n\u001b[1;32m----> 2\u001b[0m \u001b[43ma\u001b[49m\u001b[43m[\u001b[49m\u001b[38;5;241;43m3\u001b[39;49m\u001b[43m]\u001b[49m\n",
      "\u001b[1;31mIndexError\u001b[0m: list index out of range"
     ]
    }
   ],
   "source": [
    "a = [1,2,3]\n",
    "a[3]"
   ]
  },
  {
   "cell_type": "markdown",
   "id": "d7740642",
   "metadata": {},
   "source": [
    "# 2절. try ~ except로 예외처리\n",
    "## 2.1 try ~ except\n",
    "```\n",
    "try:\n",
    "    예외가 발생할 가능성이 있는 명령어들 ...\n",
    "except:\n",
    "    예외가 발생했을 경우 실행할 명령어들\n",
    "```"
   ]
  },
  {
   "cell_type": "code",
   "execution_count": 12,
   "id": "fde077e3",
   "metadata": {
    "ExecuteTime": {
     "end_time": "2024-11-15T08:18:13.719642Z",
     "start_time": "2024-11-15T08:18:12.861622Z"
    }
   },
   "outputs": [
    {
     "name": "stdout",
     "output_type": "stream",
     "text": [
      "정수를 입력하세요 :2\n",
      "입력한 정수는 2\n",
      "100을 입력한 정수로 나누면 50.00\n"
     ]
    }
   ],
   "source": [
    "# 100을 입력받은 정수값으로 나눠 출력\n",
    "x = int(input('정수를 입력하세요 :'))\n",
    "print('입력한 정수는 {}'.format(x))\n",
    "print('100을 입력한 정수로 나누면 {:.2f}'.format(100/x))\n",
    "# ValueError : 수를 입력하지 않았을 경우 예외 타입\n",
    "# ZeroDivisionError : 0을 입력했을 경우 예외 타입"
   ]
  },
  {
   "cell_type": "code",
   "execution_count": 16,
   "id": "4bd22602",
   "metadata": {
    "ExecuteTime": {
     "end_time": "2024-11-15T08:19:22.263440Z",
     "start_time": "2024-11-15T08:19:21.405006Z"
    }
   },
   "outputs": [
    {
     "name": "stdout",
     "output_type": "stream",
     "text": [
      "정수를 입력하세요 :0\n",
      "입력한 정수는 0\n",
      "유효한 정수가 아닙니다\n"
     ]
    }
   ],
   "source": [
    "# 100을 입력받은 정수값으로 나눠 출력\n",
    "# ValueError : 수를 입력하지 않았을 경우 예외 타입\n",
    "# ZeroDivisionError : 0을 입력했을 경우 예외 타입\n",
    "try:\n",
    "    x = int(input('정수를 입력하세요 :'))\n",
    "    print('입력한 정수는 {}'.format(x))\n",
    "    print('100을 입력한 정수로 나누면 {:.2f}'.format(100/x))\n",
    "except:\n",
    "    print('유효한 정수가 아닙니다')"
   ]
  },
  {
   "cell_type": "code",
   "execution_count": 18,
   "id": "f5c6d5d3",
   "metadata": {
    "ExecuteTime": {
     "end_time": "2024-11-15T08:28:13.819482Z",
     "start_time": "2024-11-15T08:28:12.553342Z"
    }
   },
   "outputs": [
    {
     "name": "stdout",
     "output_type": "stream",
     "text": [
      "정수를 입력하세요 :2\n",
      "입력한 정수는 2\n",
      "100을 입력한 정수로 나누면 50.00\n"
     ]
    }
   ],
   "source": [
    "# 100을 나눌 유효한 정수를 입력할 때 까지 입력받아\n",
    "# 유효한 정수를 입력하면 입력한 정수와 100을 입력한 수로 나눈 결과를 출력\n",
    "while True:\n",
    "    try:\n",
    "        x = int(input('0이 아닌정수를 입력하세요 :'))\n",
    "        print('입력한 정수는 {}'.format(x))\n",
    "        print('100을 입력한 정수로 나누면 {:.2f}'.format(100/x))\n",
    "        break\n",
    "    except:\n",
    "        print('다시 입력하세요')"
   ]
  },
  {
   "cell_type": "markdown",
   "id": "a9796ff6",
   "metadata": {},
   "source": [
    "## 2.2 예외를 지정한 처리\n",
    "```\n",
    "try:\n",
    "    예외가 발생할 가능성이 있는 명령어들 ...\n",
    "except 예외타입1:\n",
    "    해당 예외가 발생했을 경우 실행할 명령어들\n",
    "except 예외타입2:\n",
    "    해당 예외가 발생했을 경우 실행할 명령어들\n",
    "....\n",
    "```"
   ]
  },
  {
   "cell_type": "code",
   "execution_count": 20,
   "id": "9cf4baac",
   "metadata": {
    "ExecuteTime": {
     "end_time": "2024-11-15T08:36:50.706143Z",
     "start_time": "2024-11-15T08:36:20.281004Z"
    }
   },
   "outputs": [
    {
     "name": "stdout",
     "output_type": "stream",
     "text": [
      "0이 아닌정수를 입력하세요 :0\n",
      "입력한 정수는 0\n",
      "0이 아닌 정수를 입력하세요\n",
      "0이 아닌정수를 입력하세요 :\n",
      "수를 입력하세요\n",
      "0이 아닌정수를 입력하세요 :ㅁ\n",
      "수를 입력하세요\n",
      "0이 아닌정수를 입력하세요 :*\n",
      "수를 입력하세요\n",
      "0이 아닌정수를 입력하세요 :/\n",
      "수를 입력하세요\n",
      "0이 아닌정수를 입력하세요 :19999.0\n",
      "수를 입력하세요\n",
      "0이 아닌정수를 입력하세요 :199999\n",
      "입력한 정수는 199999\n",
      "100을 입력한 정수로 나누면 0.00\n"
     ]
    }
   ],
   "source": [
    "# 100을 입력받은 정수값으로 나눠 출력\n",
    "# ValueError : 수를 입력하지 않았을 경우 예외 타입\n",
    "# ZeroDivisionError : 0을 입력했을 경우 예외 타입\n",
    "while True:\n",
    "    try:\n",
    "        x = int(input('0이 아닌정수를 입력하세요 :'))\n",
    "        print('입력한 정수는 {}'.format(x))\n",
    "        print('100을 입력한 정수로 나누면 {:.2f}'.format(100/x))\n",
    "        break\n",
    "    except ValueError:\n",
    "        print('수를 입력하세요')\n",
    "    except ZeroDivisionError:\n",
    "        print('0이 아닌 정수를 입력하세요')\n",
    "    except Exception:\n",
    "        print('다시 시도하세요')"
   ]
  },
  {
   "cell_type": "code",
   "execution_count": 21,
   "id": "3d512444",
   "metadata": {
    "ExecuteTime": {
     "end_time": "2024-11-15T08:38:56.050217Z",
     "start_time": "2024-11-15T08:38:25.680685Z"
    }
   },
   "outputs": [
    {
     "name": "stdout",
     "output_type": "stream",
     "text": [
      "0이 아닌정수를 입력하세요 :0\n",
      "입력한 정수는 0\n",
      "0이 아닌 정수를 입력하세요\n",
      "0이 아닌정수를 입력하세요 :ㅁ\n",
      "0이 아닌 정수를 입력하세요\n",
      "0이 아닌정수를 입력하세요 :ㄴ\n",
      "0이 아닌 정수를 입력하세요\n",
      "0이 아닌정수를 입력하세요 :ㅇ\n",
      "0이 아닌 정수를 입력하세요\n",
      "0이 아닌정수를 입력하세요 :str('Hello')\n",
      "0이 아닌 정수를 입력하세요\n",
      "0이 아닌정수를 입력하세요 :3.6\n",
      "0이 아닌 정수를 입력하세요\n",
      "0이 아닌정수를 입력하세요 :3\n",
      "입력한 정수는 3\n",
      "100을 입력한 정수로 나누면 33.33\n"
     ]
    }
   ],
   "source": [
    "# 100을 입력받은 정수값으로 나눠 출력\n",
    "# ValueError : 수를 입력하지 않았을 경우 예외 타입\n",
    "# ZeroDivisionError : 0을 입력했을 경우 예외 타입\n",
    "while True:\n",
    "    try:\n",
    "        x = int(input('0이 아닌정수를 입력하세요 :'))\n",
    "        print('입력한 정수는 {}'.format(x))\n",
    "        print('100을 입력한 정수로 나누면 {:.2f}'.format(100/x))\n",
    "        break\n",
    "    except (ValueError, ZeroDivisionError):\n",
    "        print('0이 아닌 정수를 입력하세요')\n",
    "    except Exception:\n",
    "        print('다시 시도하세요')"
   ]
  },
  {
   "cell_type": "markdown",
   "id": "dffbd7ae",
   "metadata": {},
   "source": [
    "## 2.3 예외인수(e)\n",
    "```\n",
    "try:\n",
    "    예외가 발생 할 수도 있는 명령어\n",
    "except 예외타입 as 예외인수:\n",
    "    print(e)\n",
    "    print(e.args[0])\n",
    "```"
   ]
  },
  {
   "cell_type": "code",
   "execution_count": 25,
   "id": "9f777bc4",
   "metadata": {
    "ExecuteTime": {
     "end_time": "2024-11-15T08:48:31.677506Z",
     "start_time": "2024-11-15T08:48:00.077492Z"
    }
   },
   "outputs": [
    {
     "name": "stdout",
     "output_type": "stream",
     "text": [
      "0이 아닌정수를 입력하세요 :()\n",
      "예외 유형 : <class 'ValueError'>\n",
      "예외메세지 : invalid literal for int() with base 10: '()'\n",
      "예외메세지 : (\"invalid literal for int() with base 10: '()'\",)\n",
      "예외메세지 : invalid literal for int() with base 10: '()'\n",
      "모든 예외객체 e는 Exception 타입인지 : True\n",
      "0이 아닌정수를 입력하세요 :0\n",
      "입력한 정수는 0\n",
      "예외 유형 : <class 'ZeroDivisionError'>\n",
      "예외메세지 : division by zero\n",
      "예외메세지 : ('division by zero',)\n",
      "예외메세지 : division by zero\n",
      "모든 예외객체 e는 Exception 타입인지 : True\n",
      "0이 아닌정수를 입력하세요 :7\n",
      "입력한 정수는 7\n",
      "100을 입력한 정수로 나누면 14.29\n"
     ]
    }
   ],
   "source": [
    "# 100을 입력받은 정수값으로 나눠 출력\n",
    "# ValueError : 수를 입력하지 않았을 경우 예외 타입\n",
    "# ZeroDivisionError : 0을 입력했을 경우 예외 타입\n",
    "while True:\n",
    "    try:\n",
    "        x = int(input('0이 아닌정수를 입력하세요 :'))\n",
    "        print('입력한 정수는 {}'.format(x))\n",
    "        print('100을 입력한 정수로 나누면 {:.2f}'.format(100/x))\n",
    "        break\n",
    "    except (ValueError, ZeroDivisionError) as e:\n",
    "        print('예외 유형 :', type(e))\n",
    "        print('예외메세지 :', e) # ★\n",
    "        print('예외메세지 :', e.args)\n",
    "        print('예외메세지 :', e.args[0]) # 예외메세지가 있는곳\n",
    "        print('모든 예외객체 e는 Exception 타입인지 :', isinstance(e, Exception))\n",
    "    except Exception: #그외 모든 에러\n",
    "        print('다시 시도하세요')"
   ]
  },
  {
   "cell_type": "code",
   "execution_count": 27,
   "id": "54fbc86b",
   "metadata": {
    "ExecuteTime": {
     "end_time": "2024-11-15T08:50:02.080686Z",
     "start_time": "2024-11-15T08:50:02.075699Z"
    }
   },
   "outputs": [
    {
     "name": "stdout",
     "output_type": "stream",
     "text": [
      "list index out of range\n"
     ]
    }
   ],
   "source": [
    "try:\n",
    "    a = [1, 2, 3]\n",
    "    a[3]\n",
    "except IndexError as e:\n",
    "    print(e)"
   ]
  },
  {
   "cell_type": "markdown",
   "id": "195194dc",
   "metadata": {},
   "source": [
    "```\n",
    "try:\n",
    "    ~\n",
    "except [예외타입 [as e]]:\n",
    "    ~\n",
    "finally:\n",
    "    ~\n",
    "try 절을 수행하다가 예외가 발생되면 except 블록 실행하고 finally블록 수행\n",
    "try 절을 수행하다가 예외가 발생안되도 finally블록 수행\n",
    "```"
   ]
  },
  {
   "cell_type": "code",
   "execution_count": 28,
   "id": "90e08f33",
   "metadata": {
    "ExecuteTime": {
     "end_time": "2024-11-15T08:56:10.201132Z",
     "start_time": "2024-11-15T08:56:10.195135Z"
    }
   },
   "outputs": [
    {
     "name": "stdout",
     "output_type": "stream",
     "text": [
      "Hello\n"
     ]
    }
   ],
   "source": [
    "try:\n",
    "    f = open('data/ch08.txt', 'r')\n",
    "    data = f.read()\n",
    "    print(data)\n",
    "except FileNotFoundError as e:\n",
    "    print('파일을 찾을수 없습니다')\n",
    "    print(e)\n",
    "finally:\n",
    "    f.close()"
   ]
  },
  {
   "cell_type": "code",
   "execution_count": null,
   "id": "5abd3947",
   "metadata": {},
   "outputs": [],
   "source": []
  },
  {
   "cell_type": "code",
   "execution_count": null,
   "id": "3c180bbc",
   "metadata": {},
   "outputs": [],
   "source": []
  },
  {
   "cell_type": "code",
   "execution_count": null,
   "id": "cd5f0c4a",
   "metadata": {},
   "outputs": [],
   "source": []
  },
  {
   "cell_type": "code",
   "execution_count": null,
   "id": "bba85e1b",
   "metadata": {},
   "outputs": [],
   "source": []
  },
  {
   "cell_type": "code",
   "execution_count": null,
   "id": "df2d3b31",
   "metadata": {},
   "outputs": [],
   "source": []
  },
  {
   "cell_type": "code",
   "execution_count": null,
   "id": "c4e3b055",
   "metadata": {},
   "outputs": [],
   "source": []
  },
  {
   "cell_type": "code",
   "execution_count": null,
   "id": "cdeeca0d",
   "metadata": {},
   "outputs": [],
   "source": []
  },
  {
   "cell_type": "code",
   "execution_count": null,
   "id": "27052680",
   "metadata": {},
   "outputs": [],
   "source": []
  },
  {
   "cell_type": "code",
   "execution_count": null,
   "id": "cf6062e0",
   "metadata": {},
   "outputs": [],
   "source": []
  },
  {
   "cell_type": "code",
   "execution_count": null,
   "id": "6a4c7193",
   "metadata": {},
   "outputs": [],
   "source": []
  },
  {
   "cell_type": "code",
   "execution_count": null,
   "id": "6d664c53",
   "metadata": {},
   "outputs": [],
   "source": []
  },
  {
   "cell_type": "code",
   "execution_count": null,
   "id": "d35eff38",
   "metadata": {},
   "outputs": [],
   "source": []
  },
  {
   "cell_type": "code",
   "execution_count": null,
   "id": "7108dc7d",
   "metadata": {},
   "outputs": [],
   "source": []
  }
 ],
 "metadata": {
  "kernelspec": {
   "display_name": "Python 3 (ipykernel)",
   "language": "python",
   "name": "python3"
  },
  "language_info": {
   "codemirror_mode": {
    "name": "ipython",
    "version": 3
   },
   "file_extension": ".py",
   "mimetype": "text/x-python",
   "name": "python",
   "nbconvert_exporter": "python",
   "pygments_lexer": "ipython3",
   "version": "3.10.9"
  },
  "toc": {
   "base_numbering": 1,
   "nav_menu": {},
   "number_sections": true,
   "sideBar": true,
   "skip_h1_title": false,
   "title_cell": "Table of Contents",
   "title_sidebar": "Contents",
   "toc_cell": false,
   "toc_position": {
    "height": "calc(100% - 180px)",
    "left": "10px",
    "top": "150px",
    "width": "259.323px"
   },
   "toc_section_display": true,
   "toc_window_display": true
  }
 },
 "nbformat": 4,
 "nbformat_minor": 5
}
