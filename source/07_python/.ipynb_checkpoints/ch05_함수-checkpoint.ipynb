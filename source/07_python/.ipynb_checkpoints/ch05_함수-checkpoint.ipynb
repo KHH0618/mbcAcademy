{
 "cells": [
  {
   "cell_type": "markdown",
   "id": "01a87c1e",
   "metadata": {},
   "source": [
    "<b><font color=\"red\" size=\"6\">ch05. 함수</font></b>\n",
    "- 반복해서 사용할 코드를 묶어 놓고 그것에 이름을 붙인 것.\n",
    "- 오버로딩 불가\n",
    "- 함수의 정의\n",
    "```\n",
    "def 함수명 ([매개변수1, 매개변수2, ...]):\n",
    "    명령어 1\n",
    "    명령어 2\n",
    "```"
   ]
  },
  {
   "cell_type": "markdown",
   "id": "e622a561",
   "metadata": {},
   "source": [
    "# 1절. 함수의 정의 및 사용\n",
    "## 1.1 함수정의하기"
   ]
  },
  {
   "cell_type": "code",
   "execution_count": 14,
   "id": "8f0fecaa",
   "metadata": {
    "ExecuteTime": {
     "end_time": "2024-11-08T03:32:50.781142Z",
     "start_time": "2024-11-08T03:32:50.776155Z"
    }
   },
   "outputs": [],
   "source": [
    "def my_hello(x, msg): #함수 정의\n",
    "    for i in range(x): #x번 반복\n",
    "        print(i, msg)"
   ]
  },
  {
   "cell_type": "code",
   "execution_count": 3,
   "id": "82b4068c",
   "metadata": {
    "ExecuteTime": {
     "end_time": "2024-11-08T03:14:27.527404Z",
     "start_time": "2024-11-08T03:14:27.521421Z"
    }
   },
   "outputs": [
    {
     "name": "stdout",
     "output_type": "stream",
     "text": [
      "0 Hello, python\n",
      "1 Hello, python\n",
      "2 Hello, python\n",
      "3 Hello, python\n",
      "4 Hello, python\n"
     ]
    }
   ],
   "source": [
    "my_hello(5, 'Hello, python') # 함수 호출"
   ]
  },
  {
   "cell_type": "code",
   "execution_count": 4,
   "id": "98a00a62",
   "metadata": {
    "ExecuteTime": {
     "end_time": "2024-11-08T03:15:03.360278Z",
     "start_time": "2024-11-08T03:15:03.353297Z"
    }
   },
   "outputs": [
    {
     "data": {
      "text/plain": [
       "function"
      ]
     },
     "execution_count": 4,
     "metadata": {},
     "output_type": "execute_result"
    }
   ],
   "source": [
    "type(my_hello)"
   ]
  },
  {
   "cell_type": "code",
   "execution_count": 12,
   "id": "f5215a56",
   "metadata": {
    "ExecuteTime": {
     "end_time": "2024-11-08T03:20:05.137419Z",
     "start_time": "2024-11-08T03:20:05.132431Z"
    }
   },
   "outputs": [
    {
     "data": {
      "text/plain": [
       "int"
      ]
     },
     "execution_count": 12,
     "metadata": {},
     "output_type": "execute_result"
    }
   ],
   "source": [
    "my_hello = 10\n",
    "type(my_hello)"
   ]
  },
  {
   "cell_type": "code",
   "execution_count": 15,
   "id": "67a1dfc6",
   "metadata": {
    "ExecuteTime": {
     "end_time": "2024-11-08T03:33:07.608745Z",
     "start_time": "2024-11-08T03:33:07.603786Z"
    }
   },
   "outputs": [
    {
     "name": "stdout",
     "output_type": "stream",
     "text": [
      "0 Hello, python\n",
      "1 Hello, python\n",
      "2 Hello, python\n",
      "3 Hello, python\n",
      "4 Hello, python\n"
     ]
    }
   ],
   "source": [
    "my_hello(5, 'Hello, python')"
   ]
  },
  {
   "cell_type": "code",
   "execution_count": 13,
   "id": "80f8c5ca",
   "metadata": {
    "ExecuteTime": {
     "end_time": "2024-11-08T03:20:07.720575Z",
     "start_time": "2024-11-08T03:20:07.716613Z"
    }
   },
   "outputs": [],
   "source": [
    "del my_hello\n",
    "#변수를 삭제해도 함수는 사용 불가, 파이썬 내장 함수만 사용 가능"
   ]
  },
  {
   "cell_type": "code",
   "execution_count": 23,
   "id": "be8cccbd",
   "metadata": {
    "ExecuteTime": {
     "end_time": "2024-11-08T03:35:49.935432Z",
     "start_time": "2024-11-08T03:35:49.931462Z"
    }
   },
   "outputs": [],
   "source": [
    "def my_hello(x, msg): #함수 정의\n",
    "    for i in range(x): #x번 반복\n",
    "        print(i, msg)"
   ]
  },
  {
   "cell_type": "code",
   "execution_count": 24,
   "id": "7cfa4a2b",
   "metadata": {
    "ExecuteTime": {
     "end_time": "2024-11-08T03:35:52.632296Z",
     "start_time": "2024-11-08T03:35:52.627279Z"
    }
   },
   "outputs": [],
   "source": [
    "def my_hello():\n",
    "    print('Hello, python')\n",
    "    print('Hello, World')"
   ]
  },
  {
   "cell_type": "code",
   "execution_count": 25,
   "id": "b654d2e7",
   "metadata": {
    "ExecuteTime": {
     "end_time": "2024-11-08T03:35:53.279780Z",
     "start_time": "2024-11-08T03:35:53.275772Z"
    }
   },
   "outputs": [
    {
     "name": "stdout",
     "output_type": "stream",
     "text": [
      "Hello, python\n",
      "Hello, World\n"
     ]
    }
   ],
   "source": [
    "my_hello()"
   ]
  },
  {
   "cell_type": "code",
   "execution_count": 26,
   "id": "8644f8a2",
   "metadata": {
    "ExecuteTime": {
     "end_time": "2024-11-08T03:36:28.025263Z",
     "start_time": "2024-11-08T03:36:28.020305Z"
    }
   },
   "outputs": [
    {
     "data": {
      "text/plain": [
       "<function __main__.my_hello()>"
      ]
     },
     "execution_count": 26,
     "metadata": {},
     "output_type": "execute_result"
    }
   ],
   "source": [
    "my_hello"
   ]
  },
  {
   "cell_type": "code",
   "execution_count": 27,
   "id": "c7365778",
   "metadata": {
    "ExecuteTime": {
     "end_time": "2024-11-08T03:37:27.137129Z",
     "start_time": "2024-11-08T03:37:27.132159Z"
    }
   },
   "outputs": [
    {
     "data": {
      "text/plain": [
       "'__main__'"
      ]
     },
     "execution_count": 27,
     "metadata": {},
     "output_type": "execute_result"
    }
   ],
   "source": [
    "__name__"
   ]
  },
  {
   "cell_type": "code",
   "execution_count": 28,
   "id": "c441ac0d",
   "metadata": {
    "ExecuteTime": {
     "end_time": "2024-11-08T03:39:16.812089Z",
     "start_time": "2024-11-08T03:39:16.808121Z"
    }
   },
   "outputs": [
    {
     "name": "stdout",
     "output_type": "stream",
     "text": [
      "Hello, python\n",
      "Hello, World\n"
     ]
    }
   ],
   "source": [
    "if __name__ == '__main__':\n",
    "    my_hello()"
   ]
  },
  {
   "cell_type": "code",
   "execution_count": 1,
   "id": "36fb3b44",
   "metadata": {
    "ExecuteTime": {
     "end_time": "2024-11-08T04:06:06.954624Z",
     "start_time": "2024-11-08T04:06:06.946614Z"
    }
   },
   "outputs": [],
   "source": [
    "import a #a.py가 해석되서 메모리 로드"
   ]
  },
  {
   "cell_type": "code",
   "execution_count": 2,
   "id": "b6205c69",
   "metadata": {
    "ExecuteTime": {
     "end_time": "2024-11-08T03:59:11.057903Z",
     "start_time": "2024-11-08T03:59:11.050921Z"
    }
   },
   "outputs": [
    {
     "name": "stdout",
     "output_type": "stream",
     "text": [
      "모듈(*.py) 테스트 입니다\n",
      "주말 잘 보내세요\n"
     ]
    }
   ],
   "source": [
    "a.test()"
   ]
  },
  {
   "cell_type": "code",
   "execution_count": 1,
   "id": "4e3c9b54",
   "metadata": {
    "ExecuteTime": {
     "end_time": "2024-11-08T04:07:35.101519Z",
     "start_time": "2024-11-08T04:07:35.094510Z"
    }
   },
   "outputs": [],
   "source": [
    "from a import test # a모듈안에 test만 로드됨"
   ]
  },
  {
   "cell_type": "code",
   "execution_count": 3,
   "id": "1eb4366e",
   "metadata": {
    "ExecuteTime": {
     "end_time": "2024-11-08T04:06:15.127998Z",
     "start_time": "2024-11-08T04:06:15.121925Z"
    }
   },
   "outputs": [
    {
     "name": "stdout",
     "output_type": "stream",
     "text": [
      "모듈(*.py) 테스트 입니다\n",
      "주말 잘 보내세요\n"
     ]
    }
   ],
   "source": [
    "test()"
   ]
  },
  {
   "cell_type": "markdown",
   "id": "8c364dee",
   "metadata": {},
   "source": [
    "## 1.2 docstring"
   ]
  },
  {
   "cell_type": "code",
   "execution_count": 5,
   "id": "1d72f3db",
   "metadata": {
    "ExecuteTime": {
     "end_time": "2024-11-08T04:04:11.323737Z",
     "start_time": "2024-11-08T04:04:11.318750Z"
    }
   },
   "outputs": [],
   "source": [
    "def my_function():\n",
    "    \"\"\"\n",
    "    함수의 첫 라인에 독스트링을 포함할 수 있습니다.\n",
    "    독스트링은 함수의 설명서를 달아주는 역할.\n",
    "    주석보다 많은 기능(함수 호출시 shift+tap으로 독스트링을 볼 수 있음)\n",
    "    \"\"\"\n",
    "    pass"
   ]
  },
  {
   "cell_type": "code",
   "execution_count": 7,
   "id": "2ba7fc9b",
   "metadata": {
    "ExecuteTime": {
     "end_time": "2024-11-08T04:05:09.967185Z",
     "start_time": "2024-11-08T04:05:09.962198Z"
    }
   },
   "outputs": [],
   "source": [
    "my_function()"
   ]
  },
  {
   "cell_type": "code",
   "execution_count": 8,
   "id": "869b8bd6",
   "metadata": {
    "ExecuteTime": {
     "end_time": "2024-11-08T04:05:15.217145Z",
     "start_time": "2024-11-08T04:05:15.214132Z"
    }
   },
   "outputs": [
    {
     "name": "stdout",
     "output_type": "stream",
     "text": [
      "\n",
      "    함수의 첫 라인에 독스트링을 포함할 수 있습니다.\n",
      "    독스트링은 함수의 설명서를 달아주는 역할.\n",
      "    주석보다 많은 기능(함수 호출시 shift+tap으로 독스트링을 볼 수 있음)\n",
      "    \n"
     ]
    }
   ],
   "source": [
    "print(my_function.__doc__)"
   ]
  },
  {
   "cell_type": "code",
   "execution_count": 32,
   "id": "66508075",
   "metadata": {
    "ExecuteTime": {
     "end_time": "2024-11-08T06:28:20.028651Z",
     "start_time": "2024-11-08T06:28:20.023665Z"
    }
   },
   "outputs": [],
   "source": [
    "def fibonacci(n):\n",
    "    \"\"\"\n",
    "    매개변수로 들어온 n값 미만의 피보나치 수열을 출력합니다\n",
    "    ex. n = 10 : 0, 1, 1, 2, 3, 5, 8\n",
    "    \"\"\"\n",
    "    a, b = 0, 1\n",
    "    while a < n:\n",
    "        print(a, end='\\t')\n",
    "        a, b = b, a+b\n",
    "    print()\n",
    "        "
   ]
  },
  {
   "cell_type": "code",
   "execution_count": 6,
   "id": "8f6522cb",
   "metadata": {
    "ExecuteTime": {
     "end_time": "2024-11-08T05:19:45.139982Z",
     "start_time": "2024-11-08T05:19:45.133970Z"
    }
   },
   "outputs": [
    {
     "name": "stdout",
     "output_type": "stream",
     "text": [
      "0\t1\t1\t2\t3\t5\t8\t13\t21\t34\t55\t89\t144\t233\t377\t610\t987\t\n"
     ]
    }
   ],
   "source": [
    "fibonacci(1000)"
   ]
  },
  {
   "cell_type": "markdown",
   "id": "641837ae",
   "metadata": {},
   "source": [
    "## 1.3 지역변수(local var)와 전역변수(global var)"
   ]
  },
  {
   "cell_type": "code",
   "execution_count": 9,
   "id": "be93dfc7",
   "metadata": {
    "ExecuteTime": {
     "end_time": "2024-11-08T05:27:20.243263Z",
     "start_time": "2024-11-08T05:27:20.237279Z"
    }
   },
   "outputs": [
    {
     "name": "stdout",
     "output_type": "stream",
     "text": [
      "함수 안 : 100\n",
      "함수 밖 : 100\n"
     ]
    }
   ],
   "source": [
    "global_var = 100 #전역변수\n",
    "def func1():\n",
    "    print('함수 안 :',global_var)\n",
    "func1()\n",
    "print('함수 밖 :', global_var)"
   ]
  },
  {
   "cell_type": "code",
   "execution_count": 13,
   "id": "1906a55b",
   "metadata": {
    "ExecuteTime": {
     "end_time": "2024-11-08T05:44:29.971440Z",
     "start_time": "2024-11-08T05:44:29.953676Z"
    }
   },
   "outputs": [
    {
     "name": "stdout",
     "output_type": "stream",
     "text": [
      "함수 안 : 200\n"
     ]
    },
    {
     "ename": "NameError",
     "evalue": "name 'local_var' is not defined",
     "output_type": "error",
     "traceback": [
      "\u001b[1;31m---------------------------------------------------------------------------\u001b[0m",
      "\u001b[1;31mNameError\u001b[0m                                 Traceback (most recent call last)",
      "Cell \u001b[1;32mIn[13], line 5\u001b[0m\n\u001b[0;32m      3\u001b[0m     \u001b[38;5;28mprint\u001b[39m(\u001b[38;5;124m'\u001b[39m\u001b[38;5;124m함수 안 :\u001b[39m\u001b[38;5;124m'\u001b[39m,local_var)\n\u001b[0;32m      4\u001b[0m func2()\n\u001b[1;32m----> 5\u001b[0m \u001b[38;5;28mprint\u001b[39m(\u001b[38;5;124m'\u001b[39m\u001b[38;5;124m함수 밖 :\u001b[39m\u001b[38;5;124m'\u001b[39m, \u001b[43mlocal_var\u001b[49m)\n",
      "\u001b[1;31mNameError\u001b[0m: name 'local_var' is not defined"
     ]
    }
   ],
   "source": [
    "def func2():\n",
    "    local_var = 200\n",
    "    print('함수 안 :',local_var)\n",
    "func2()\n",
    "print('함수 밖 :', local_var)"
   ]
  },
  {
   "cell_type": "code",
   "execution_count": 12,
   "id": "f1fc8d3e",
   "metadata": {
    "ExecuteTime": {
     "end_time": "2024-11-08T05:40:07.549416Z",
     "start_time": "2024-11-08T05:40:07.105228Z"
    }
   },
   "outputs": [
    {
     "ename": "UnboundLocalError",
     "evalue": "local variable 'g_var' referenced before assignment",
     "output_type": "error",
     "traceback": [
      "\u001b[1;31m---------------------------------------------------------------------------\u001b[0m",
      "\u001b[1;31mUnboundLocalError\u001b[0m                         Traceback (most recent call last)",
      "Cell \u001b[1;32mIn[12], line 6\u001b[0m\n\u001b[0;32m      4\u001b[0m     \u001b[38;5;28mprint\u001b[39m(\u001b[38;5;124m'\u001b[39m\u001b[38;5;124m지역변수 g_var :\u001b[39m\u001b[38;5;124m'\u001b[39m,g_var)\n\u001b[0;32m      5\u001b[0m     g_var \u001b[38;5;241m=\u001b[39m \u001b[38;5;241m200\u001b[39m \u001b[38;5;66;03m#지역변수\u001b[39;00m\n\u001b[1;32m----> 6\u001b[0m \u001b[43mfunc3\u001b[49m\u001b[43m(\u001b[49m\u001b[43m)\u001b[49m\n\u001b[0;32m      7\u001b[0m \u001b[38;5;28mprint\u001b[39m(\u001b[38;5;124m'\u001b[39m\u001b[38;5;124m전역변수 g_var :\u001b[39m\u001b[38;5;124m'\u001b[39m,g_var)\n",
      "Cell \u001b[1;32mIn[12], line 4\u001b[0m, in \u001b[0;36mfunc3\u001b[1;34m()\u001b[0m\n\u001b[0;32m      3\u001b[0m \u001b[38;5;28;01mdef\u001b[39;00m \u001b[38;5;21mfunc3\u001b[39m():\n\u001b[1;32m----> 4\u001b[0m     \u001b[38;5;28mprint\u001b[39m(\u001b[38;5;124m'\u001b[39m\u001b[38;5;124m지역변수 g_var :\u001b[39m\u001b[38;5;124m'\u001b[39m,\u001b[43mg_var\u001b[49m)\n\u001b[0;32m      5\u001b[0m     g_var \u001b[38;5;241m=\u001b[39m \u001b[38;5;241m200\u001b[39m\n",
      "\u001b[1;31mUnboundLocalError\u001b[0m: local variable 'g_var' referenced before assignment"
     ]
    }
   ],
   "source": [
    "#렉시컬 특성\n",
    "g_var = 100 #전역변수\n",
    "def func3():\n",
    "    print('지역변수 g_var :',g_var)\n",
    "    g_var = 200 #지역변수\n",
    "func3()\n",
    "print('전역변수 g_var :',g_var)"
   ]
  },
  {
   "cell_type": "code",
   "execution_count": 11,
   "id": "fc654d72",
   "metadata": {
    "ExecuteTime": {
     "end_time": "2024-11-08T05:40:05.029922Z",
     "start_time": "2024-11-08T05:40:05.024933Z"
    }
   },
   "outputs": [
    {
     "name": "stdout",
     "output_type": "stream",
     "text": [
      "지역변수 g_var : 100\n",
      "전역변수 g_var : 200\n"
     ]
    }
   ],
   "source": [
    "#렉시컬 특성\n",
    "g_var = 100\n",
    "def func3():\n",
    "    global g_var # func3 함수내에서의 g_var는 전역변수를 쓴다\n",
    "    print('함수안 g_var :',g_var)\n",
    "    g_var = 200\n",
    "func3()\n",
    "print('함수밖 g_var :',g_var)"
   ]
  },
  {
   "cell_type": "markdown",
   "id": "c3d44cd7",
   "metadata": {},
   "source": [
    "## 1.4 값에 의한 호출\n",
    "- 함수에 인수로 전달되는 변수가 스칼라변수(문자, 숫자, 논리형)일때"
   ]
  },
  {
   "cell_type": "code",
   "execution_count": 16,
   "id": "83b49267",
   "metadata": {
    "ExecuteTime": {
     "end_time": "2024-11-08T05:48:38.345324Z",
     "start_time": "2024-11-08T05:48:38.340337Z"
    }
   },
   "outputs": [
    {
     "data": {
      "text/plain": [
       "2562792843248"
      ]
     },
     "execution_count": 16,
     "metadata": {},
     "output_type": "execute_result"
    }
   ],
   "source": [
    "foo = 'a' # 전역변수\n",
    "id(foo)"
   ]
  },
  {
   "cell_type": "code",
   "execution_count": 24,
   "id": "ff8a9dae",
   "metadata": {
    "ExecuteTime": {
     "end_time": "2024-11-08T05:52:00.212752Z",
     "start_time": "2024-11-08T05:52:00.208761Z"
    }
   },
   "outputs": [],
   "source": [
    "def func1(f):\n",
    "    print('Before :', f, '의 주소는', id(f))\n",
    "    f = f*3 # aaa\n",
    "    print('After :', f, '의 주소는', id(f))"
   ]
  },
  {
   "cell_type": "code",
   "execution_count": 25,
   "id": "1652b63e",
   "metadata": {
    "ExecuteTime": {
     "end_time": "2024-11-08T05:52:00.747996Z",
     "start_time": "2024-11-08T05:52:00.744005Z"
    }
   },
   "outputs": [
    {
     "name": "stdout",
     "output_type": "stream",
     "text": [
      "Before : a 의 주소는 2562792843248\n",
      "After : aaa 의 주소는 2562871919920\n"
     ]
    }
   ],
   "source": [
    "func1(foo)"
   ]
  },
  {
   "cell_type": "code",
   "execution_count": 27,
   "id": "bf065593",
   "metadata": {
    "ExecuteTime": {
     "end_time": "2024-11-08T05:54:01.513285Z",
     "start_time": "2024-11-08T05:54:01.508329Z"
    }
   },
   "outputs": [
    {
     "name": "stdout",
     "output_type": "stream",
     "text": [
      "foo : a 의 주소 : 2562792843248\n"
     ]
    }
   ],
   "source": [
    "print('foo :',foo,'의 주소 :',id(foo))"
   ]
  },
  {
   "cell_type": "markdown",
   "id": "61d6b5f1",
   "metadata": {},
   "source": [
    "## 1.5 참조에 의한 호출\n",
    "- 함수에 인수로 전달되는 변수가 리스트, 튜플, 셋, 딕셔너리, 객체일 경우"
   ]
  },
  {
   "cell_type": "code",
   "execution_count": 28,
   "id": "fd652b77",
   "metadata": {
    "ExecuteTime": {
     "end_time": "2024-11-08T05:57:35.238667Z",
     "start_time": "2024-11-08T05:57:35.232655Z"
    }
   },
   "outputs": [
    {
     "data": {
      "text/plain": [
       "2562913241088"
      ]
     },
     "execution_count": 28,
     "metadata": {},
     "output_type": "execute_result"
    }
   ],
   "source": [
    "L=[1,2,3,4,5]\n",
    "id(L)"
   ]
  },
  {
   "cell_type": "code",
   "execution_count": 29,
   "id": "8e80aae5",
   "metadata": {
    "ExecuteTime": {
     "end_time": "2024-11-08T05:59:25.656817Z",
     "start_time": "2024-11-08T05:59:25.651818Z"
    }
   },
   "outputs": [
    {
     "name": "stdout",
     "output_type": "stream",
     "text": [
      "Before : [1, 2, 3, 4, 5] 의 주소는 2562913241088\n",
      "After : [1, 2, 3, 4, 5, 6] 의 주소는 2562913241088\n"
     ]
    }
   ],
   "source": [
    "def func2 (f): # 매개변수는 지역변수\n",
    "    print('Before :', f, '의 주소는', id(f))\n",
    "    f.append(6)\n",
    "    print('After :', f, '의 주소는', id(f))\n",
    "func2(L)"
   ]
  },
  {
   "cell_type": "code",
   "execution_count": 31,
   "id": "4d7320d5",
   "metadata": {
    "ExecuteTime": {
     "end_time": "2024-11-08T06:02:08.559947Z",
     "start_time": "2024-11-08T06:02:08.555929Z"
    }
   },
   "outputs": [
    {
     "name": "stdout",
     "output_type": "stream",
     "text": [
      "L : [1, 2, 3, 4, 5, 6] 의 주소는 : 2562913241088\n"
     ]
    }
   ],
   "source": [
    "print('L :', L, '의 주소는 :', id(L))"
   ]
  },
  {
   "cell_type": "markdown",
   "id": "4b8180fa",
   "metadata": {},
   "source": [
    "## 1.6 함수의 이름 변경\n",
    "- Python : 함수형언어, 객체지향언어"
   ]
  },
  {
   "cell_type": "code",
   "execution_count": 33,
   "id": "5ac2a5a3",
   "metadata": {
    "ExecuteTime": {
     "end_time": "2024-11-08T06:28:42.406950Z",
     "start_time": "2024-11-08T06:28:42.401992Z"
    }
   },
   "outputs": [
    {
     "name": "stdout",
     "output_type": "stream",
     "text": [
      "0\t1\t1\t2\t3\t5\t8\t13\t\n"
     ]
    }
   ],
   "source": [
    "fibonacci(20)"
   ]
  },
  {
   "cell_type": "code",
   "execution_count": 34,
   "id": "12786566",
   "metadata": {
    "ExecuteTime": {
     "end_time": "2024-11-08T06:29:21.241609Z",
     "start_time": "2024-11-08T06:29:21.238609Z"
    }
   },
   "outputs": [],
   "source": [
    "fibo = fibonacci # fibonacci 함수이름을 fibo로도 사용가능"
   ]
  },
  {
   "cell_type": "code",
   "execution_count": 35,
   "id": "3a481675",
   "metadata": {
    "ExecuteTime": {
     "end_time": "2024-11-08T06:29:30.515565Z",
     "start_time": "2024-11-08T06:29:30.510557Z"
    }
   },
   "outputs": [
    {
     "name": "stdout",
     "output_type": "stream",
     "text": [
      "0\t1\t1\t2\t3\t5\t8\t13\t\n"
     ]
    }
   ],
   "source": [
    "fibo(20)"
   ]
  },
  {
   "cell_type": "markdown",
   "id": "fade3655",
   "metadata": {},
   "source": [
    "# 2절. 함수의 실행결과 반환하는 return"
   ]
  },
  {
   "cell_type": "code",
   "execution_count": 39,
   "id": "18196910",
   "metadata": {
    "ExecuteTime": {
     "end_time": "2024-11-08T06:34:08.815661Z",
     "start_time": "2024-11-08T06:34:08.809649Z"
    }
   },
   "outputs": [],
   "source": [
    "def fibonacci_print(n):\n",
    "    \"\"\"\n",
    "    매개변수로 들어온 n값 미만의 피보나치 수열을 출력합니다\n",
    "    ex. n = 10 : 0, 1, 1, 2, 3, 5, 8\n",
    "    \"\"\"\n",
    "    a, b = 0, 1\n",
    "    while a < n:\n",
    "        print(a, end='\\t')\n",
    "        a, b = b, a+b\n",
    "    print()\n",
    "def fibonacci(n):\n",
    "    \"\"\"\n",
    "    매개변수로 들어온 n값 미만의 피보나치 수열을 리스트로 반환합니다\n",
    "    ex. n = 10 : 0, 1, 1, 2, 3, 5, 8\n",
    "    \"\"\"\n",
    "    fibonacci_lst = []\n",
    "    a, b = 0, 1\n",
    "    while a < n:\n",
    "        fibonacci_lst.append(a)\n",
    "        a, b = b, a+b\n",
    "    return fibonacci_lst"
   ]
  },
  {
   "cell_type": "code",
   "execution_count": 42,
   "id": "b0d164d1",
   "metadata": {
    "ExecuteTime": {
     "end_time": "2024-11-08T06:36:06.678332Z",
     "start_time": "2024-11-08T06:36:06.674331Z"
    }
   },
   "outputs": [
    {
     "name": "stdout",
     "output_type": "stream",
     "text": [
      "0\t1\t1\t2\t3\t5\t8\t\n",
      "None\n",
      "<class 'NoneType'>\n"
     ]
    }
   ],
   "source": [
    "x = fibonacci_print(10)\n",
    "print(x) # return이 없는 함수를 할당 받으면 None\n",
    "print(type(x))"
   ]
  },
  {
   "cell_type": "code",
   "execution_count": 43,
   "id": "70a89bd9",
   "metadata": {
    "ExecuteTime": {
     "end_time": "2024-11-08T06:36:46.110370Z",
     "start_time": "2024-11-08T06:36:46.106380Z"
    }
   },
   "outputs": [
    {
     "name": "stdout",
     "output_type": "stream",
     "text": [
      "[0, 1, 1, 2, 3, 5, 8]\n"
     ]
    }
   ],
   "source": [
    "x = fibonacci(10)\n",
    "print(x)"
   ]
  },
  {
   "cell_type": "markdown",
   "id": "84938665",
   "metadata": {},
   "source": [
    "## 여러 개 값 return"
   ]
  },
  {
   "cell_type": "code",
   "execution_count": 45,
   "id": "ad393d66",
   "metadata": {
    "ExecuteTime": {
     "end_time": "2024-11-08T06:40:30.181815Z",
     "start_time": "2024-11-08T06:40:30.177825Z"
    }
   },
   "outputs": [],
   "source": [
    "def swap(a,b):\n",
    "    \"\"\"\n",
    "    매개변수의 순서를 바꿔서 return\n",
    "    \"\"\"\n",
    "    return b,a"
   ]
  },
  {
   "cell_type": "code",
   "execution_count": 46,
   "id": "ecfdc608",
   "metadata": {
    "ExecuteTime": {
     "end_time": "2024-11-08T06:40:55.492444Z",
     "start_time": "2024-11-08T06:40:55.488456Z"
    }
   },
   "outputs": [
    {
     "name": "stdout",
     "output_type": "stream",
     "text": [
      "함수 실행 전 x, y 5 10\n",
      "함수 실행 후 x, y 10 5\n"
     ]
    }
   ],
   "source": [
    "x, y = 5, 10\n",
    "print('함수 실행 전 x, y', x, y)\n",
    "x, y = swap(x, y)\n",
    "print('함수 실행 후 x, y', x, y)"
   ]
  },
  {
   "cell_type": "code",
   "execution_count": 47,
   "id": "d69353d6",
   "metadata": {
    "ExecuteTime": {
     "end_time": "2024-11-08T06:41:35.014308Z",
     "start_time": "2024-11-08T06:41:35.009348Z"
    }
   },
   "outputs": [
    {
     "name": "stdout",
     "output_type": "stream",
     "text": [
      "<class 'tuple'>\n",
      "(20, 10)\n"
     ]
    }
   ],
   "source": [
    "a = swap (10, 20)\n",
    "print(type(a))\n",
    "print(a)"
   ]
  },
  {
   "cell_type": "markdown",
   "id": "8b88fc12",
   "metadata": {},
   "source": [
    "# 3절. 함수의 매개변수 ★\n",
    "## 3.1 기본 값을 갖는 매개변수"
   ]
  },
  {
   "cell_type": "code",
   "execution_count": 50,
   "id": "3667cb92",
   "metadata": {
    "ExecuteTime": {
     "end_time": "2024-11-08T06:46:49.296879Z",
     "start_time": "2024-11-08T06:46:49.292890Z"
    }
   },
   "outputs": [],
   "source": [
    "def make_url(ip, port=80): # 순서인수 > 기본값을 갖는 매개변수\n",
    "    return \"http://{}:{}\".format(ip, port)"
   ]
  },
  {
   "cell_type": "code",
   "execution_count": 54,
   "id": "6a111b33",
   "metadata": {
    "ExecuteTime": {
     "end_time": "2024-11-08T06:50:21.822567Z",
     "start_time": "2024-11-08T06:50:21.817579Z"
    }
   },
   "outputs": [
    {
     "name": "stdout",
     "output_type": "stream",
     "text": [
      "http://localhost:8090\n",
      "http://localhost:80\n",
      "http://www.naver.com:9090\n"
     ]
    }
   ],
   "source": [
    "print(make_url(\"localhost\", 8090))\n",
    "print(make_url(\"localhost\"))\n",
    "print(make_url(port=9090, ip=\"www.naver.com\"))"
   ]
  },
  {
   "cell_type": "markdown",
   "id": "6c0f0460",
   "metadata": {},
   "source": [
    "## 3.2 기본 변수를 갖는 매개변수\n",
    "- 기본변수가 스칼라 변수(문자, 숫자, 논리형)일 때\n",
    "- 기본변수가 리스트, 셋, 딕셔너리 또는 객체일 때"
   ]
  },
  {
   "cell_type": "code",
   "execution_count": 60,
   "id": "4b30241c",
   "metadata": {
    "ExecuteTime": {
     "end_time": "2024-11-08T06:57:22.020857Z",
     "start_time": "2024-11-08T06:57:22.016831Z"
    }
   },
   "outputs": [],
   "source": [
    "i = 5\n",
    "# 기본변수가 스칼라변수일 때 : arg의 기본값은 함수가 정의되는 시점으로 셋팅\n",
    "def func2(arg = i):\n",
    "    print('arg =',arg)"
   ]
  },
  {
   "cell_type": "code",
   "execution_count": 61,
   "id": "d72f764b",
   "metadata": {
    "ExecuteTime": {
     "end_time": "2024-11-08T06:57:25.173196Z",
     "start_time": "2024-11-08T06:57:25.168187Z"
    }
   },
   "outputs": [
    {
     "name": "stdout",
     "output_type": "stream",
     "text": [
      "arg = 5\n"
     ]
    }
   ],
   "source": [
    "i = 10\n",
    "func2()"
   ]
  },
  {
   "cell_type": "code",
   "execution_count": 68,
   "id": "89101909",
   "metadata": {
    "ExecuteTime": {
     "end_time": "2024-11-08T07:17:45.000019Z",
     "start_time": "2024-11-08T07:17:44.996009Z"
    }
   },
   "outputs": [
    {
     "name": "stdout",
     "output_type": "stream",
     "text": [
      "[10]\n",
      "list_ : [10]\n"
     ]
    }
   ],
   "source": [
    "# 기본변수가 리스트, 셋, 딕셔너리, 객체일 때 : 실행되는 시점\n",
    "list_ = []\n",
    "def func3(a, L=list_):\n",
    "    L.append(a)\n",
    "    return L\n",
    "print(func3(10))\n",
    "print('list_ :',list_)"
   ]
  },
  {
   "cell_type": "code",
   "execution_count": 69,
   "id": "08dae4ec",
   "metadata": {
    "ExecuteTime": {
     "end_time": "2024-11-08T07:18:20.386045Z",
     "start_time": "2024-11-08T07:18:20.381037Z"
    }
   },
   "outputs": [
    {
     "name": "stdout",
     "output_type": "stream",
     "text": [
      "[10, 20]\n",
      "list_ : [10, 20]\n"
     ]
    }
   ],
   "source": [
    "print(func3(20))\n",
    "print('list_ :',list_)"
   ]
  },
  {
   "cell_type": "code",
   "execution_count": 71,
   "id": "ae5aef21",
   "metadata": {
    "ExecuteTime": {
     "end_time": "2024-11-08T07:21:56.944366Z",
     "start_time": "2024-11-08T07:21:56.939378Z"
    }
   },
   "outputs": [
    {
     "name": "stdout",
     "output_type": "stream",
     "text": [
      "[10]\n",
      "[1, 2, 3, 10]\n"
     ]
    }
   ],
   "source": [
    "def func3(a, L=[]):\n",
    "    L.append(a)\n",
    "    return L\n",
    "print(func3(10))\n",
    "print(func3(10, [1,2,3,]))"
   ]
  },
  {
   "cell_type": "markdown",
   "id": "ab7cc017",
   "metadata": {},
   "source": [
    "## 3.3 순서인수, 키워드 인수\n",
    "- 순서인수 : 함수에 정의된 순서대로 전달방식\n",
    "- 키워드인수 : 인수의 이름을 명시적으로 전달방식\n",
    "- 함수 정의시 순서인수와 키워드 인수가 같이 올 때는 순서인수 > 키워드 인수 순으로\n",
    "```\n",
    "def function명(변수명1, 변수명2, ... 변수명n=기본값)\n",
    "```"
   ]
  },
  {
   "cell_type": "code",
   "execution_count": 75,
   "id": "f7eb8d03",
   "metadata": {
    "ExecuteTime": {
     "end_time": "2024-11-08T07:32:09.603306Z",
     "start_time": "2024-11-08T07:32:09.598293Z"
    }
   },
   "outputs": [],
   "source": [
    "def func4(a, L=None):\n",
    "    if L is None:\n",
    "        L = []\n",
    "    L.append(a)\n",
    "    return L"
   ]
  },
  {
   "cell_type": "code",
   "execution_count": 79,
   "id": "7f01ef36",
   "metadata": {
    "ExecuteTime": {
     "end_time": "2024-11-08T07:33:39.740130Z",
     "start_time": "2024-11-08T07:33:39.734146Z"
    }
   },
   "outputs": [
    {
     "name": "stdout",
     "output_type": "stream",
     "text": [
      "[10]\n",
      "[10, 10]\n",
      "[20]\n",
      "[20]\n"
     ]
    }
   ],
   "source": [
    "lst = []\n",
    "print(func4(10, lst))\n",
    "print(func4(L=lst, a=10))\n",
    "print(func4(20))\n",
    "print(func4(20, None))"
   ]
  },
  {
   "cell_type": "markdown",
   "id": "897dbcfe",
   "metadata": {},
   "source": [
    "## 3.4 튜플 매개변수를 이용한 가변인수 설정"
   ]
  },
  {
   "cell_type": "code",
   "execution_count": 80,
   "id": "ad18375c",
   "metadata": {
    "ExecuteTime": {
     "end_time": "2024-11-08T07:38:26.531809Z",
     "start_time": "2024-11-08T07:38:26.526822Z"
    }
   },
   "outputs": [],
   "source": [
    "def add(a, b):\n",
    "    return a+b\n",
    "def add(a, b, c):\n",
    "    return a+b+c"
   ]
  },
  {
   "cell_type": "code",
   "execution_count": 81,
   "id": "8741806b",
   "metadata": {
    "ExecuteTime": {
     "end_time": "2024-11-08T07:38:35.061281Z",
     "start_time": "2024-11-08T07:38:35.046670Z"
    }
   },
   "outputs": [
    {
     "ename": "TypeError",
     "evalue": "add() missing 1 required positional argument: 'c'",
     "output_type": "error",
     "traceback": [
      "\u001b[1;31m---------------------------------------------------------------------------\u001b[0m",
      "\u001b[1;31mTypeError\u001b[0m                                 Traceback (most recent call last)",
      "Cell \u001b[1;32mIn[81], line 1\u001b[0m\n\u001b[1;32m----> 1\u001b[0m \u001b[43madd\u001b[49m\u001b[43m(\u001b[49m\u001b[38;5;241;43m1\u001b[39;49m\u001b[43m,\u001b[49m\u001b[38;5;241;43m2\u001b[39;49m\u001b[43m)\u001b[49m\n",
      "\u001b[1;31mTypeError\u001b[0m: add() missing 1 required positional argument: 'c'"
     ]
    }
   ],
   "source": [
    "add(1,2)"
   ]
  },
  {
   "cell_type": "code",
   "execution_count": 85,
   "id": "a1d8da93",
   "metadata": {
    "ExecuteTime": {
     "end_time": "2024-11-08T07:47:52.777635Z",
     "start_time": "2024-11-08T07:47:52.773616Z"
    }
   },
   "outputs": [],
   "source": [
    "# args앞에 * : args가 튜플로 전달\n",
    "def add(*args):\n",
    "    \"\"\"\n",
    "    전달받은 매개 변수들의 합을 return, 매개변수가 없는경우 0을 return\n",
    "    \"\"\"\n",
    "    #print(args)\n",
    "    sum = 0\n",
    "    for num in args:\n",
    "        sum += num\n",
    "    return sum"
   ]
  },
  {
   "cell_type": "code",
   "execution_count": 88,
   "id": "36c7e28b",
   "metadata": {
    "ExecuteTime": {
     "end_time": "2024-11-08T07:49:26.738958Z",
     "start_time": "2024-11-08T07:49:26.733970Z"
    }
   },
   "outputs": [
    {
     "name": "stdout",
     "output_type": "stream",
     "text": [
      "1\n",
      "3\n",
      "6\n",
      "0\n"
     ]
    }
   ],
   "source": [
    "print(add(1))\n",
    "print(add(1,2))\n",
    "print(add(1,2,3))\n",
    "print(add())"
   ]
  },
  {
   "cell_type": "code",
   "execution_count": 90,
   "id": "1a7ea9ed",
   "metadata": {
    "ExecuteTime": {
     "end_time": "2024-11-08T07:54:37.792385Z",
     "start_time": "2024-11-08T07:54:37.785403Z"
    }
   },
   "outputs": [
    {
     "data": {
      "text/plain": [
       "'Java-Oracle-Web-Python'"
      ]
     },
     "execution_count": 90,
     "metadata": {},
     "output_type": "execute_result"
    }
   ],
   "source": [
    "subject = ('Java','Oracle','Web','Python')\n",
    "'-'.join(subject)"
   ]
  },
  {
   "cell_type": "code",
   "execution_count": 97,
   "id": "6d6737cd",
   "metadata": {
    "ExecuteTime": {
     "end_time": "2024-11-08T07:59:49.885425Z",
     "start_time": "2024-11-08T07:59:49.881436Z"
    }
   },
   "outputs": [],
   "source": [
    "def concat(*subject, sep):\n",
    "    return sep.join(subject)"
   ]
  },
  {
   "cell_type": "code",
   "execution_count": 99,
   "id": "f8959746",
   "metadata": {
    "ExecuteTime": {
     "end_time": "2024-11-08T07:59:56.234198Z",
     "start_time": "2024-11-08T07:59:56.218212Z"
    }
   },
   "outputs": [
    {
     "ename": "TypeError",
     "evalue": "concat() missing 1 required keyword-only argument: 'sep'",
     "output_type": "error",
     "traceback": [
      "\u001b[1;31m---------------------------------------------------------------------------\u001b[0m",
      "\u001b[1;31mTypeError\u001b[0m                                 Traceback (most recent call last)",
      "Cell \u001b[1;32mIn[99], line 1\u001b[0m\n\u001b[1;32m----> 1\u001b[0m \u001b[43mconcat\u001b[49m\u001b[43m(\u001b[49m\u001b[38;5;124;43m'\u001b[39;49m\u001b[38;5;124;43mJava\u001b[39;49m\u001b[38;5;124;43m'\u001b[39;49m\u001b[43m,\u001b[49m\u001b[38;5;124;43m'\u001b[39;49m\u001b[38;5;124;43mOracle\u001b[39;49m\u001b[38;5;124;43m'\u001b[39;49m\u001b[43m,\u001b[49m\u001b[38;5;124;43m'\u001b[39;49m\u001b[38;5;124;43mWeb\u001b[39;49m\u001b[38;5;124;43m'\u001b[39;49m\u001b[43m,\u001b[49m\u001b[38;5;124;43m'\u001b[39;49m\u001b[38;5;124;43mPython\u001b[39;49m\u001b[38;5;124;43m'\u001b[39;49m\u001b[43m,\u001b[49m\u001b[43m \u001b[49m\u001b[38;5;124;43m'\u001b[39;49m\u001b[38;5;124;43m ~ \u001b[39;49m\u001b[38;5;124;43m'\u001b[39;49m\u001b[43m)\u001b[49m\n",
      "\u001b[1;31mTypeError\u001b[0m: concat() missing 1 required keyword-only argument: 'sep'"
     ]
    }
   ],
   "source": [
    "concat('Java','Oracle','Web','Python', ' ~ ')"
   ]
  },
  {
   "cell_type": "code",
   "execution_count": 100,
   "id": "252a26d4",
   "metadata": {
    "ExecuteTime": {
     "end_time": "2024-11-08T08:00:24.671158Z",
     "start_time": "2024-11-08T08:00:24.665175Z"
    }
   },
   "outputs": [
    {
     "data": {
      "text/plain": [
       "'Java ~ Oracle ~ Web ~ Python'"
      ]
     },
     "execution_count": 100,
     "metadata": {},
     "output_type": "execute_result"
    }
   ],
   "source": [
    "# 해결책 1 : 파라미터 이름을 지정해서 호출\n",
    "concat('Java','Oracle','Web','Python', sep = ' ~ ')"
   ]
  },
  {
   "cell_type": "code",
   "execution_count": 103,
   "id": "bc00a55f",
   "metadata": {
    "ExecuteTime": {
     "end_time": "2024-11-08T08:16:55.457615Z",
     "start_time": "2024-11-08T08:16:55.453597Z"
    }
   },
   "outputs": [],
   "source": [
    "# 해결책 2 : 기본값을 갖는 키워드 인수 사용\n",
    "def concat(*subject, sep=' '):\n",
    "    return sep.join(subject)"
   ]
  },
  {
   "cell_type": "code",
   "execution_count": 104,
   "id": "82fbfcac",
   "metadata": {
    "ExecuteTime": {
     "end_time": "2024-11-08T08:16:59.609946Z",
     "start_time": "2024-11-08T08:16:59.604959Z"
    }
   },
   "outputs": [
    {
     "data": {
      "text/plain": [
       "'Java~Oracle~Web~Python'"
      ]
     },
     "execution_count": 104,
     "metadata": {},
     "output_type": "execute_result"
    }
   ],
   "source": [
    "concat('Java','Oracle','Web','Python', sep = '~')"
   ]
  },
  {
   "cell_type": "code",
   "execution_count": 106,
   "id": "5f4c56ba",
   "metadata": {
    "ExecuteTime": {
     "end_time": "2024-11-08T08:18:42.911617Z",
     "start_time": "2024-11-08T08:18:42.907608Z"
    }
   },
   "outputs": [],
   "source": [
    "# 해결책 3 : sep을 순서인수로 앞으로 선언\n",
    "def concat(sep, *subject):\n",
    "    return sep.join(subject)"
   ]
  },
  {
   "cell_type": "code",
   "execution_count": 107,
   "id": "ac1e0b00",
   "metadata": {
    "ExecuteTime": {
     "end_time": "2024-11-08T08:18:59.078969Z",
     "start_time": "2024-11-08T08:18:59.073982Z"
    }
   },
   "outputs": [
    {
     "data": {
      "text/plain": [
       "'Java~Oracle~Web~Python'"
      ]
     },
     "execution_count": 107,
     "metadata": {},
     "output_type": "execute_result"
    }
   ],
   "source": [
    "concat('~','Java','Oracle','Web','Python')"
   ]
  },
  {
   "cell_type": "markdown",
   "id": "a56ca5f4",
   "metadata": {},
   "source": [
    "## 3.5 딕셔너리 매개변수\n",
    "- 딕셔너리인수 : 여러개의 키워드 인수를 딕셔너리 형태로 받아서 가변 키워드 인수로 처리"
   ]
  },
  {
   "cell_type": "code",
   "execution_count": 111,
   "id": "856efc20",
   "metadata": {
    "ExecuteTime": {
     "end_time": "2024-11-08T08:26:27.621632Z",
     "start_time": "2024-11-08T08:26:27.616645Z"
    }
   },
   "outputs": [],
   "source": [
    "def func5(**args):\n",
    "    print(args)\n",
    "    print(type(args))\n",
    "    for key, value in args.items():\n",
    "        print(\"{}:{}\".format(key, value))"
   ]
  },
  {
   "cell_type": "code",
   "execution_count": 112,
   "id": "391d1e6c",
   "metadata": {
    "ExecuteTime": {
     "end_time": "2024-11-08T08:26:27.894296Z",
     "start_time": "2024-11-08T08:26:27.890308Z"
    }
   },
   "outputs": [
    {
     "name": "stdout",
     "output_type": "stream",
     "text": [
      "{'name': '홍길동', 'age': 33}\n",
      "<class 'dict'>\n",
      "name:홍길동\n",
      "age:33\n"
     ]
    }
   ],
   "source": [
    "func5(name = '홍길동', age = 33)"
   ]
  },
  {
   "cell_type": "markdown",
   "id": "585b9ee9",
   "metadata": {},
   "source": [
    "## 3.6 함수 정의시 매개변수의 순서\n",
    "순서인수 > 튜플인수(*) > 키워드인수(기본값) > 딕셔너리인수(**)"
   ]
  },
  {
   "cell_type": "code",
   "execution_count": 113,
   "id": "a9bca484",
   "metadata": {
    "ExecuteTime": {
     "end_time": "2024-11-08T08:31:51.710761Z",
     "start_time": "2024-11-08T08:31:51.705774Z"
    }
   },
   "outputs": [],
   "source": [
    "# 순서인수 > 튜플인수 > 딕셔너리인수\n",
    "def func6(a,b,*c,**d):\n",
    "    print('순서인수 a =', a)\n",
    "    print('순서인수 b =', b)\n",
    "    print('튜플인수 c =', c)\n",
    "    print('딕셔너리인수 d =', d)"
   ]
  },
  {
   "cell_type": "code",
   "execution_count": 114,
   "id": "dc02c879",
   "metadata": {
    "ExecuteTime": {
     "end_time": "2024-11-08T08:32:21.149894Z",
     "start_time": "2024-11-08T08:32:21.144907Z"
    }
   },
   "outputs": [
    {
     "name": "stdout",
     "output_type": "stream",
     "text": [
      "순서인수 a = 10\n",
      "순서인수 b = 20\n",
      "튜플인수 c = (1, 2, 3, 4, 5, 6, 7)\n",
      "딕셔너리인수 d = {'name': 'kim', 'age': 30}\n"
     ]
    }
   ],
   "source": [
    "func6(10,20, 1,2,3,4,5,6,7, name='kim', age=30)"
   ]
  },
  {
   "cell_type": "code",
   "execution_count": 115,
   "id": "13fdda46",
   "metadata": {
    "ExecuteTime": {
     "end_time": "2024-11-08T08:34:03.349324Z",
     "start_time": "2024-11-08T08:34:03.344338Z"
    }
   },
   "outputs": [],
   "source": [
    "# 순서인수 > 튜플인수 > 키워드인수 > 딕셔너리인수\n",
    "def func7(a,b,c, *d, e =10, **f):\n",
    "    print('a =',a)\n",
    "    print('b =',b)\n",
    "    print('c =',c)\n",
    "    print('d =',d)\n",
    "    print('e =',e)\n",
    "    print('f =',f)"
   ]
  },
  {
   "cell_type": "code",
   "execution_count": 117,
   "id": "6e86ac11",
   "metadata": {
    "ExecuteTime": {
     "end_time": "2024-11-08T08:35:29.857456Z",
     "start_time": "2024-11-08T08:35:29.852460Z"
    }
   },
   "outputs": [
    {
     "name": "stdout",
     "output_type": "stream",
     "text": [
      "a = 10\n",
      "b = 20\n",
      "c = 30\n",
      "d = (4, 5)\n",
      "e = 20\n",
      "f = {'name': 'Kildong', 'age': 30}\n"
     ]
    }
   ],
   "source": [
    "func7(10,20,30)"
   ]
  },
  {
   "cell_type": "code",
   "execution_count": 118,
   "id": "62577b52",
   "metadata": {
    "ExecuteTime": {
     "end_time": "2024-11-08T08:36:53.308199Z",
     "start_time": "2024-11-08T08:36:53.304181Z"
    }
   },
   "outputs": [
    {
     "name": "stdout",
     "output_type": "stream",
     "text": [
      "a = 10\n",
      "b = 20\n",
      "c = 30\n",
      "d = ()\n",
      "e = 100\n",
      "f = {}\n"
     ]
    }
   ],
   "source": [
    "func7(10,20,30, e=100)"
   ]
  },
  {
   "cell_type": "code",
   "execution_count": 120,
   "id": "870bb99f",
   "metadata": {
    "ExecuteTime": {
     "end_time": "2024-11-08T08:38:08.280742Z",
     "start_time": "2024-11-08T08:38:08.275751Z"
    }
   },
   "outputs": [
    {
     "name": "stdout",
     "output_type": "stream",
     "text": [
      "a = 10\n",
      "b = 20\n",
      "c = 30\n",
      "d = (1, 2, 3, 4, 5)\n",
      "e = 100\n",
      "f = {'shape': 'rect', 'width': 20, 'height': 30}\n"
     ]
    }
   ],
   "source": [
    "func7(10,20,30, 1,2,3,4,5, e=100, shape='rect', width=20, height=30)"
   ]
  },
  {
   "cell_type": "markdown",
   "id": "0bb1f061",
   "metadata": {},
   "source": [
    "## 3.7 인수의 언패킹\n",
    "### 튜플인수 언패킹"
   ]
  },
  {
   "cell_type": "code",
   "execution_count": 121,
   "id": "b987689a",
   "metadata": {
    "ExecuteTime": {
     "end_time": "2024-11-08T08:43:46.725874Z",
     "start_time": "2024-11-08T08:43:46.720889Z"
    }
   },
   "outputs": [],
   "source": [
    "def add(*args):\n",
    "    sum = 0\n",
    "    for num in args:\n",
    "        sum += num\n",
    "    return sum"
   ]
  },
  {
   "cell_type": "code",
   "execution_count": 126,
   "id": "0f66b1f5",
   "metadata": {
    "ExecuteTime": {
     "end_time": "2024-11-08T08:48:12.215381Z",
     "start_time": "2024-11-08T08:48:12.209398Z"
    }
   },
   "outputs": [
    {
     "data": {
      "text/plain": [
       "36"
      ]
     },
     "execution_count": 126,
     "metadata": {},
     "output_type": "execute_result"
    }
   ],
   "source": [
    "numbers = (1,2,3,4,5,6,7,8)\n",
    "add(*numbers) # 튜플 언패킹"
   ]
  },
  {
   "cell_type": "code",
   "execution_count": 127,
   "id": "ebc66ecf",
   "metadata": {
    "ExecuteTime": {
     "end_time": "2024-11-08T08:50:10.744703Z",
     "start_time": "2024-11-08T08:50:10.738719Z"
    }
   },
   "outputs": [
    {
     "data": {
      "text/plain": [
       "6"
      ]
     },
     "execution_count": 127,
     "metadata": {},
     "output_type": "execute_result"
    }
   ],
   "source": [
    "num_lst = [1,2,3]\n",
    "add(*num_lst)"
   ]
  },
  {
   "cell_type": "markdown",
   "id": "8d76f490",
   "metadata": {},
   "source": [
    "### 딕셔너리인수 언패킹"
   ]
  },
  {
   "cell_type": "code",
   "execution_count": 129,
   "id": "da45122b",
   "metadata": {
    "ExecuteTime": {
     "end_time": "2024-11-08T08:52:04.109106Z",
     "start_time": "2024-11-08T08:52:04.103094Z"
    }
   },
   "outputs": [
    {
     "name": "stdout",
     "output_type": "stream",
     "text": [
      "('shape', 'rect')\n",
      "('height', 30)\n",
      "('width', 40)\n"
     ]
    }
   ],
   "source": [
    "def func8(**data):\n",
    "    for item in data.items():\n",
    "        print(item)\n",
    "func8(shape=\"rect\", height=30, width=40)"
   ]
  },
  {
   "cell_type": "code",
   "execution_count": 130,
   "id": "9fcb7307",
   "metadata": {
    "ExecuteTime": {
     "end_time": "2024-11-08T08:54:20.408867Z",
     "start_time": "2024-11-08T08:54:20.403876Z"
    }
   },
   "outputs": [
    {
     "data": {
      "text/plain": [
       "{'shape': 'triangle', 'height': 40, 'width': 30}"
      ]
     },
     "execution_count": 130,
     "metadata": {},
     "output_type": "execute_result"
    }
   ],
   "source": [
    "info = {'shape':'triangle', 'height':40, 'width':30}\n",
    "info"
   ]
  },
  {
   "cell_type": "code",
   "execution_count": 131,
   "id": "7f120d5f",
   "metadata": {
    "ExecuteTime": {
     "end_time": "2024-11-08T08:54:48.256382Z",
     "start_time": "2024-11-08T08:54:48.251395Z"
    }
   },
   "outputs": [
    {
     "name": "stdout",
     "output_type": "stream",
     "text": [
      "('shape', 'triangle')\n",
      "('height', 40)\n",
      "('width', 30)\n"
     ]
    }
   ],
   "source": [
    "func8(**info) #딕셔너리 인수 언패킹"
   ]
  },
  {
   "cell_type": "markdown",
   "id": "790b7d87",
   "metadata": {},
   "source": [
    "# 4절. 람다식\n",
    "- return 한줄짜리 작은 익명함수\n",
    "## 4.1 람다식 연습"
   ]
  },
  {
   "cell_type": "code",
   "execution_count": 1,
   "id": "6a4c8e92",
   "metadata": {
    "ExecuteTime": {
     "end_time": "2024-11-11T00:36:37.640132Z",
     "start_time": "2024-11-11T00:36:37.632153Z"
    }
   },
   "outputs": [
    {
     "data": {
      "text/plain": [
       "8"
      ]
     },
     "execution_count": 1,
     "metadata": {},
     "output_type": "execute_result"
    }
   ],
   "source": [
    "def add(a,b):\n",
    "    return a+b\n",
    "add(3,5)"
   ]
  },
  {
   "cell_type": "code",
   "execution_count": 3,
   "id": "01874297",
   "metadata": {
    "ExecuteTime": {
     "end_time": "2024-11-11T00:39:16.507810Z",
     "start_time": "2024-11-11T00:39:16.501837Z"
    }
   },
   "outputs": [
    {
     "data": {
      "text/plain": [
       "30"
      ]
     },
     "execution_count": 3,
     "metadata": {},
     "output_type": "execute_result"
    }
   ],
   "source": [
    "add2 = lambda a,b : a+b\n",
    "add2(10,20)"
   ]
  },
  {
   "cell_type": "code",
   "execution_count": 4,
   "id": "079d97bd",
   "metadata": {
    "ExecuteTime": {
     "end_time": "2024-11-11T00:39:52.380210Z",
     "start_time": "2024-11-11T00:39:52.375228Z"
    }
   },
   "outputs": [
    {
     "name": "stdout",
     "output_type": "stream",
     "text": [
      "<class 'function'> <class 'function'>\n"
     ]
    }
   ],
   "source": [
    "print(type(add), type(add2)) "
   ]
  },
  {
   "cell_type": "code",
   "execution_count": 5,
   "id": "6d42c514",
   "metadata": {
    "ExecuteTime": {
     "end_time": "2024-11-11T00:41:18.327975Z",
     "start_time": "2024-11-11T00:41:18.321993Z"
    }
   },
   "outputs": [
    {
     "data": {
      "text/plain": [
       "9"
      ]
     },
     "execution_count": 5,
     "metadata": {},
     "output_type": "execute_result"
    }
   ],
   "source": [
    "(lambda a, b : a+b)(3,6)"
   ]
  },
  {
   "cell_type": "code",
   "execution_count": 7,
   "id": "dff55c87",
   "metadata": {
    "ExecuteTime": {
     "end_time": "2024-11-11T00:44:22.665450Z",
     "start_time": "2024-11-11T00:44:22.660435Z"
    }
   },
   "outputs": [],
   "source": [
    "# a 와 b 의 차이를 return\n",
    "def diff(a, b):\n",
    "    if a>=b:\n",
    "        return a-b\n",
    "    elif b>=a:\n",
    "        return b-a"
   ]
  },
  {
   "cell_type": "code",
   "execution_count": 8,
   "id": "44865f45",
   "metadata": {
    "ExecuteTime": {
     "end_time": "2024-11-11T00:46:34.862211Z",
     "start_time": "2024-11-11T00:46:34.858224Z"
    }
   },
   "outputs": [],
   "source": [
    "diff2 = lambda a, b: a-b if a>=b else b-a"
   ]
  },
  {
   "cell_type": "code",
   "execution_count": 9,
   "id": "c8c28021",
   "metadata": {
    "ExecuteTime": {
     "end_time": "2024-11-11T00:47:26.691848Z",
     "start_time": "2024-11-11T00:47:26.685757Z"
    }
   },
   "outputs": [
    {
     "name": "stdout",
     "output_type": "stream",
     "text": [
      "2 2 2 2\n",
      "<class 'function'> <class 'function'>\n"
     ]
    }
   ],
   "source": [
    "print(diff(3,5),diff(5,3),diff2(3,5),diff2(5,3))\n",
    "print(type(diff), type(diff2))"
   ]
  },
  {
   "cell_type": "code",
   "execution_count": 10,
   "id": "43fca618",
   "metadata": {
    "ExecuteTime": {
     "end_time": "2024-11-11T00:50:56.454507Z",
     "start_time": "2024-11-11T00:50:56.450517Z"
    }
   },
   "outputs": [],
   "source": [
    "#매개변수로 잔액을 받아 잔액이 음수면 'negative'라고 출력, 양수면 잔액\n",
    "def get_balance(balance):\n",
    "    if balance>=0:\n",
    "        return balance\n",
    "    else:\n",
    "        return 'negative'"
   ]
  },
  {
   "cell_type": "code",
   "execution_count": 16,
   "id": "fd118aa3",
   "metadata": {
    "ExecuteTime": {
     "end_time": "2024-11-11T00:53:20.236666Z",
     "start_time": "2024-11-11T00:53:20.230681Z"
    }
   },
   "outputs": [
    {
     "data": {
      "text/plain": [
       "100"
      ]
     },
     "execution_count": 16,
     "metadata": {},
     "output_type": "execute_result"
    }
   ],
   "source": [
    "get_balance2 = lambda balance : balance if balance>=0 else 'negative'\n",
    "get_balance2(100)"
   ]
  },
  {
   "cell_type": "code",
   "execution_count": 17,
   "id": "c893ebb5",
   "metadata": {
    "ExecuteTime": {
     "end_time": "2024-11-11T00:55:23.231409Z",
     "start_time": "2024-11-11T00:55:23.226422Z"
    }
   },
   "outputs": [
    {
     "data": {
      "text/plain": [
       "'negative'"
      ]
     },
     "execution_count": 17,
     "metadata": {},
     "output_type": "execute_result"
    }
   ],
   "source": [
    "balance = -500\n",
    "if balance>=0:\n",
    "    result = balance\n",
    "else :\n",
    "    result = 'negative'\n",
    "result"
   ]
  },
  {
   "cell_type": "code",
   "execution_count": 20,
   "id": "ada6fffe",
   "metadata": {
    "ExecuteTime": {
     "end_time": "2024-11-11T00:57:18.226329Z",
     "start_time": "2024-11-11T00:57:18.221370Z"
    }
   },
   "outputs": [
    {
     "data": {
      "text/plain": [
       "500"
      ]
     },
     "execution_count": 20,
     "metadata": {},
     "output_type": "execute_result"
    }
   ],
   "source": [
    "balance = 500\n",
    "balance if balance>=0 else 'negative'"
   ]
  },
  {
   "cell_type": "code",
   "execution_count": 33,
   "id": "d55f5a6f",
   "metadata": {
    "ExecuteTime": {
     "end_time": "2024-11-11T01:06:42.296574Z",
     "start_time": "2024-11-11T01:06:42.289566Z"
    }
   },
   "outputs": [
    {
     "data": {
      "text/plain": [
       "(-1, 0)"
      ]
     },
     "execution_count": 33,
     "metadata": {},
     "output_type": "execute_result"
    }
   ],
   "source": [
    "# 아래 함수도 람다식으로 바꿀 수 있음\n",
    "lst = [1,2,3]\n",
    "v = (1,2,3)\n",
    "safe_index = lambda vector,item: vector.index(item) if item in vector else -1\n",
    "safe_index(v,4), safe_index(v, 1)"
   ]
  },
  {
   "cell_type": "code",
   "execution_count": 35,
   "id": "623bf3df",
   "metadata": {
    "ExecuteTime": {
     "end_time": "2024-11-11T01:10:47.026952Z",
     "start_time": "2024-11-11T01:10:47.020995Z"
    }
   },
   "outputs": [
    {
     "data": {
      "text/plain": [
       "('홀수', '짝수')"
      ]
     },
     "execution_count": 35,
     "metadata": {},
     "output_type": "execute_result"
    }
   ],
   "source": [
    "#매개변수로 들어온 값이 짝수면 '짝수', 홀수면 '홀수'라고 리턴\n",
    "even_odd_chk = lambda x : '짝수' if x%2==0 else '홀수'\n",
    "even_odd_chk(5), even_odd_chk(2)"
   ]
  },
  {
   "cell_type": "code",
   "execution_count": 36,
   "id": "be84480f",
   "metadata": {
    "ExecuteTime": {
     "end_time": "2024-11-11T01:15:14.694832Z",
     "start_time": "2024-11-11T01:15:14.687873Z"
    }
   },
   "outputs": [
    {
     "data": {
      "text/plain": [
       "'B'"
      ]
     },
     "execution_count": 36,
     "metadata": {},
     "output_type": "execute_result"
    }
   ],
   "source": [
    "def levelChk(score):\n",
    "    if score >= 80:\n",
    "        return 'A'\n",
    "    elif score >= 60:\n",
    "        return 'B'\n",
    "    else:\n",
    "        return '재시험'\n",
    "levelChk(65)"
   ]
  },
  {
   "cell_type": "code",
   "execution_count": 42,
   "id": "9567f50e",
   "metadata": {
    "ExecuteTime": {
     "end_time": "2024-11-11T01:19:26.026225Z",
     "start_time": "2024-11-11T01:19:26.020271Z"
    }
   },
   "outputs": [
    {
     "data": {
      "text/plain": [
       "('B', 'A', '재시험')"
      ]
     },
     "execution_count": 42,
     "metadata": {},
     "output_type": "execute_result"
    }
   ],
   "source": [
    "levelChk = lambda score : 'A' if score >= 80 else('B' if score >= 60 else '재시험')\n",
    "levelChk(65),levelChk(95),levelChk(9)"
   ]
  },
  {
   "cell_type": "code",
   "execution_count": null,
   "id": "11db93fb",
   "metadata": {},
   "outputs": [],
   "source": [
    "def score_grade(score):\n",
    "    if 90 <= score <= 100:\n",
    "        return 'A'\n",
    "    elif 80 <= score < 90:\n",
    "        return 'B'\n",
    "    elif 70 <= score < 80:\n",
    "        return 'C'\n",
    "    elif 60 <= score <70:\n",
    "        return 'D'\n",
    "    elif 0 <= score < 60:\n",
    "        return 'F'\n",
    "    else:\n",
    "        return '유효하지 않은 점수 등급'"
   ]
  },
  {
   "cell_type": "code",
   "execution_count": 49,
   "id": "f5af1888",
   "metadata": {
    "ExecuteTime": {
     "end_time": "2024-11-11T02:02:00.729994Z",
     "start_time": "2024-11-11T02:02:00.722016Z"
    }
   },
   "outputs": [
    {
     "data": {
      "text/plain": [
       "('A', 'B', 'C', 'D', 'F', '유효하지 않은 점수')"
      ]
     },
     "execution_count": 49,
     "metadata": {},
     "output_type": "execute_result"
    }
   ],
   "source": [
    "score_grade = lambda score : 'A' if 90 <= score <= 100 else \\\n",
    "                             'B' if 80 <= score < 90 else \\\n",
    "                             'C' if 70 <= score < 80 else \\\n",
    "                             'D' if 60 <= score <70 else \\\n",
    "                             'F' if 0 <= score < 60 else \\\n",
    "                             '유효하지 않은 점수'\n",
    "score_grade(99),score_grade(89),score_grade(79),score_grade(69),score_grade(59),score_grade(999)"
   ]
  },
  {
   "cell_type": "code",
   "execution_count": 58,
   "id": "9b9887cd",
   "metadata": {
    "ExecuteTime": {
     "end_time": "2024-11-11T02:19:39.851010Z",
     "start_time": "2024-11-11T02:19:39.844002Z"
    }
   },
   "outputs": [
    {
     "name": "stdout",
     "output_type": "stream",
     "text": [
      "[12, 8, 20, 5.0, 100]\n"
     ]
    }
   ],
   "source": [
    "add = lambda a, b : a+b\n",
    "sub = lambda a, b : a-b\n",
    "mul = lambda a, b : a*b\n",
    "div = lambda a, b : a/b if b!=0 else '두번째 인자가 0으로는 못나눠요'\n",
    "add(3,0), div (5, 6)\n",
    "\n",
    "operations = [add, sub, mul, div]\n",
    "#매개변수로 함수 list가 옴\n",
    "def action_operations(a, b, operations = operations):\n",
    "    result = []\n",
    "    for op in operations:\n",
    "        result.append(op(a,b))\n",
    "    return result\n",
    "# def pow(a,b):\n",
    "#     return a**b\n",
    "operations.append(lambda a, b: a**b)\n",
    "print(action_operations(10,2))"
   ]
  },
  {
   "cell_type": "code",
   "execution_count": 63,
   "id": "bf913ce7",
   "metadata": {
    "ExecuteTime": {
     "end_time": "2024-11-11T02:34:42.153594Z",
     "start_time": "2024-11-11T02:34:42.147637Z"
    }
   },
   "outputs": [
    {
     "name": "stdout",
     "output_type": "stream",
     "text": [
      "[1, 4, 9]\n",
      "[4]\n"
     ]
    }
   ],
   "source": [
    "#리스트 컴프리헨션\n",
    "lst = [1,2,3]\n",
    "print([l**2 for l in lst])\n",
    "print([l**2 for l in lst if l%2==0])"
   ]
  },
  {
   "cell_type": "code",
   "execution_count": 71,
   "id": "2045c733",
   "metadata": {
    "ExecuteTime": {
     "end_time": "2024-11-11T02:40:23.573520Z",
     "start_time": "2024-11-11T02:40:23.567503Z"
    }
   },
   "outputs": [
    {
     "data": {
      "text/plain": [
       "[7, 3, 10, 2.5, 25]"
      ]
     },
     "execution_count": 71,
     "metadata": {},
     "output_type": "execute_result"
    }
   ],
   "source": [
    "#action_operations의 함수를 리스트 컴프리헨션을 이용하여 람다식으로 구현\n",
    "def action_operations(a, b, operations = operations):\n",
    "    return [op(a,b) for op in operations]"
   ]
  },
  {
   "cell_type": "code",
   "execution_count": 74,
   "id": "e2481afa",
   "metadata": {
    "ExecuteTime": {
     "end_time": "2024-11-11T02:41:47.801953Z",
     "start_time": "2024-11-11T02:41:47.795970Z"
    }
   },
   "outputs": [
    {
     "data": {
      "text/plain": [
       "[8, 2, 15, 1.6666666666666667, 125]"
      ]
     },
     "execution_count": 74,
     "metadata": {},
     "output_type": "execute_result"
    }
   ],
   "source": [
    "#action_operations의 함수를 리스트 컴프리헨션을 이용하여 람다식으로 구현\n",
    "action_operations = lambda a, b, operations = operations : [op(a,b) for op in operations]\n",
    "action_operations(5,3)"
   ]
  },
  {
   "cell_type": "markdown",
   "id": "c282f5e9",
   "metadata": {},
   "source": [
    "## 4.2 함수의 매개변수(인수)에 람다식 사용"
   ]
  },
  {
   "cell_type": "code",
   "execution_count": 75,
   "id": "9c8fe6f9",
   "metadata": {
    "ExecuteTime": {
     "end_time": "2024-11-11T02:56:25.280309Z",
     "start_time": "2024-11-11T02:56:25.275328Z"
    }
   },
   "outputs": [],
   "source": [
    "map_template = lambda func, L=[] : [func(item) for item in L]"
   ]
  },
  {
   "cell_type": "code",
   "execution_count": 76,
   "id": "83222011",
   "metadata": {
    "ExecuteTime": {
     "end_time": "2024-11-11T02:56:26.190748Z",
     "start_time": "2024-11-11T02:56:26.186759Z"
    }
   },
   "outputs": [],
   "source": [
    "def map_template(func, L=[]):\n",
    "    result = []\n",
    "    for item in L :\n",
    "        result.append(func(item))\n",
    "    return result"
   ]
  },
  {
   "cell_type": "code",
   "execution_count": 78,
   "id": "a54c2ace",
   "metadata": {
    "ExecuteTime": {
     "end_time": "2024-11-11T02:57:11.069569Z",
     "start_time": "2024-11-11T02:57:11.063040Z"
    }
   },
   "outputs": [
    {
     "data": {
      "text/plain": [
       "[2, 4, 6, 8, 10, 12, 14, 16, 18]"
      ]
     },
     "execution_count": 78,
     "metadata": {},
     "output_type": "execute_result"
    }
   ],
   "source": [
    "list_data = [1,2,3,4,5,6,7,8,9]\n",
    "# def x_2(x):\n",
    "#     return x*2\n",
    "# map_template(x_2, list_data)\n",
    "map_template(lambda x : x*2, list_data)"
   ]
  },
  {
   "cell_type": "code",
   "execution_count": 80,
   "id": "26771315",
   "metadata": {
    "ExecuteTime": {
     "end_time": "2024-11-11T03:01:57.150112Z",
     "start_time": "2024-11-11T03:01:57.145097Z"
    }
   },
   "outputs": [
    {
     "data": {
      "text/plain": [
       "[2, 4, 6, 8, 10, 12, 14, 16, 18]"
      ]
     },
     "execution_count": 80,
     "metadata": {},
     "output_type": "execute_result"
    }
   ],
   "source": [
    "#리스트 컴프리헨션\n",
    "[x*2 for x in list_data]"
   ]
  },
  {
   "cell_type": "code",
   "execution_count": 82,
   "id": "29ab5a9e",
   "metadata": {
    "ExecuteTime": {
     "end_time": "2024-11-11T03:03:17.300758Z",
     "start_time": "2024-11-11T03:03:17.294775Z"
    }
   },
   "outputs": [
    {
     "data": {
      "text/plain": [
       "[2, 4, 6, 8, 10, 12, 14, 16, 18]"
      ]
     },
     "execution_count": 82,
     "metadata": {},
     "output_type": "execute_result"
    }
   ],
   "source": [
    "list(map(lambda x: x*2, list_data))"
   ]
  },
  {
   "cell_type": "code",
   "execution_count": 83,
   "id": "3169f32f",
   "metadata": {
    "ExecuteTime": {
     "end_time": "2024-11-11T03:05:41.975299Z",
     "start_time": "2024-11-11T03:05:41.970285Z"
    }
   },
   "outputs": [
    {
     "name": "stdout",
     "output_type": "stream",
     "text": [
      "2 4 6 8 10 12 14 16 18 "
     ]
    }
   ],
   "source": [
    "for x in map(lambda x:x*2, list_data):\n",
    "    print(x, end=' ')"
   ]
  },
  {
   "cell_type": "code",
   "execution_count": 87,
   "id": "097c75a2",
   "metadata": {
    "ExecuteTime": {
     "end_time": "2024-11-11T03:14:18.494205Z",
     "start_time": "2024-11-11T03:14:18.490193Z"
    }
   },
   "outputs": [],
   "source": [
    "def filter_template(func, L=[]):\n",
    "    result = []\n",
    "    for item in L:\n",
    "        if func(item):\n",
    "            result.append(item)\n",
    "    return result"
   ]
  },
  {
   "cell_type": "code",
   "execution_count": 88,
   "id": "a08c3cc8",
   "metadata": {
    "ExecuteTime": {
     "end_time": "2024-11-11T03:14:19.830602Z",
     "start_time": "2024-11-11T03:14:19.825615Z"
    }
   },
   "outputs": [
    {
     "data": {
      "text/plain": [
       "[2, 4, 6, 8]"
      ]
     },
     "execution_count": 88,
     "metadata": {},
     "output_type": "execute_result"
    }
   ],
   "source": [
    "# def enveChk(value):\n",
    "#     return value%2==0\n",
    "\n",
    "list_data = [1,2,3,4,5,6,7,8,9]\n",
    "filter_template(lambda value: value%2==0, L=list_data)"
   ]
  },
  {
   "cell_type": "code",
   "execution_count": 91,
   "id": "4254a490",
   "metadata": {
    "ExecuteTime": {
     "end_time": "2024-11-11T03:15:25.598103Z",
     "start_time": "2024-11-11T03:15:25.594133Z"
    }
   },
   "outputs": [
    {
     "name": "stdout",
     "output_type": "stream",
     "text": [
      "2 4 6 8 "
     ]
    }
   ],
   "source": [
    "for data in filter(lambda x:x%2==0, list_data):\n",
    "    print(data, end=' ')"
   ]
  },
  {
   "cell_type": "code",
   "execution_count": 95,
   "id": "803dbc77",
   "metadata": {
    "ExecuteTime": {
     "end_time": "2024-11-11T03:18:36.487039Z",
     "start_time": "2024-11-11T03:18:36.481082Z"
    }
   },
   "outputs": [
    {
     "data": {
      "text/plain": [
       "[2, 4, 6, 8]"
      ]
     },
     "execution_count": 95,
     "metadata": {},
     "output_type": "execute_result"
    }
   ],
   "source": [
    "# 리스트컴프리헨션 이용\n",
    "[x for x in list_data if x%2==0]"
   ]
  },
  {
   "cell_type": "code",
   "execution_count": 107,
   "id": "87620159",
   "metadata": {
    "ExecuteTime": {
     "end_time": "2024-11-11T03:38:55.985205Z",
     "start_time": "2024-11-11T03:38:55.980211Z"
    }
   },
   "outputs": [
    {
     "name": "stdout",
     "output_type": "stream",
     "text": [
      "[1, 2, 3.0, 100]\n",
      "[1, 2, 3.0, 100]\n",
      "[1, 2, 3.0, 100]\n"
     ]
    }
   ],
   "source": [
    "# 예제1 : 다음 리스트에서 소주점 이하가 0인 수만 추출하시오\n",
    "# filter함수, 람다식 이용/ filter_template/ 리스트컴프리헨션\n",
    "L = [1,1.2,1.5,2,3.0,10.5,100]\n",
    "print(list(filter(lambda x : x%1.0==0, L)))\n",
    "print(filter_template(lambda x:x == round(x),L))\n",
    "print([x for x in L if x==x//1])"
   ]
  },
  {
   "cell_type": "markdown",
   "id": "aa44889c",
   "metadata": {},
   "source": [
    "**람다식은 함수가 실행할 문장이 한문장의 return문일 경우만 사용**<br/>\n",
    "**람다식이 가장 많이 사용되는 곳은 함수의 인수로 전달될 때** 나 함수를 return할 때"
   ]
  },
  {
   "cell_type": "code",
   "execution_count": 109,
   "id": "a410d0d3",
   "metadata": {
    "ExecuteTime": {
     "end_time": "2024-11-11T03:44:21.114454Z",
     "start_time": "2024-11-11T03:44:21.108443Z"
    }
   },
   "outputs": [
    {
     "data": {
      "text/plain": [
       "[10, 6, 3, 1]"
      ]
     },
     "execution_count": 109,
     "metadata": {},
     "output_type": "execute_result"
    }
   ],
   "source": [
    "#예제2 : 베스트셀러 list(딕셔너리 리스트)를 가격순으로 sort\n",
    "p = [10,3,6,1]\n",
    "p.sort(reverse=True) #내림차순 정렬\n",
    "p"
   ]
  },
  {
   "cell_type": "code",
   "execution_count": 110,
   "id": "1ae88cc6",
   "metadata": {
    "ExecuteTime": {
     "end_time": "2024-11-11T03:45:57.218524Z",
     "start_time": "2024-11-11T03:45:57.212567Z"
    }
   },
   "outputs": [
    {
     "data": {
      "text/plain": [
       "[(1, 'oen'), (2, 'two'), (3, 'three'), (4, 'four')]"
      ]
     },
     "execution_count": 110,
     "metadata": {},
     "output_type": "execute_result"
    }
   ],
   "source": [
    "pairs = [(2,'two'),(1,'oen'),(4,'four'),(3,'three')]\n",
    "pairs.sort()\n",
    "pairs"
   ]
  },
  {
   "cell_type": "code",
   "execution_count": 112,
   "id": "c6bc55c9",
   "metadata": {
    "ExecuteTime": {
     "end_time": "2024-11-11T03:47:59.861222Z",
     "start_time": "2024-11-11T03:47:59.855259Z"
    }
   },
   "outputs": [
    {
     "data": {
      "text/plain": [
       "[(2, 'two'), (3, 'three'), (1, 'oen'), (4, 'four')]"
      ]
     },
     "execution_count": 112,
     "metadata": {},
     "output_type": "execute_result"
    }
   ],
   "source": [
    "pairs.sort(key=lambda pair : pair[1], reverse=True)\n",
    "pairs"
   ]
  },
  {
   "cell_type": "code",
   "execution_count": 113,
   "id": "da8e83e8",
   "metadata": {
    "ExecuteTime": {
     "end_time": "2024-11-11T03:49:55.869429Z",
     "start_time": "2024-11-11T03:49:55.864441Z"
    }
   },
   "outputs": [],
   "source": [
    "students = [{'name':'홍', 'score':99},\n",
    "            {'name':'이', 'score':22},\n",
    "            {'name':'김', 'score':77},\n",
    "            {'name':'박', 'score':66}]"
   ]
  },
  {
   "cell_type": "code",
   "execution_count": 125,
   "id": "f35ce25c",
   "metadata": {
    "ExecuteTime": {
     "end_time": "2024-11-11T03:56:45.443251Z",
     "start_time": "2024-11-11T03:56:45.436270Z"
    }
   },
   "outputs": [
    {
     "data": {
      "text/plain": [
       "[{'name': '김', 'score': 77},\n",
       " {'name': '박', 'score': 66},\n",
       " {'name': '이', 'score': 22},\n",
       " {'name': '홍', 'score': 99}]"
      ]
     },
     "execution_count": 125,
     "metadata": {},
     "output_type": "execute_result"
    }
   ],
   "source": [
    "#students를 이름 ㄱㄴㄷ순 정렬\n",
    "students.sort(key=lambda student : student['name'])\n",
    "students"
   ]
  },
  {
   "cell_type": "code",
   "execution_count": 127,
   "id": "56a26b24",
   "metadata": {
    "ExecuteTime": {
     "end_time": "2024-11-11T03:57:03.732954Z",
     "start_time": "2024-11-11T03:57:03.726971Z"
    }
   },
   "outputs": [
    {
     "data": {
      "text/plain": [
       "[{'name': '이', 'score': 22},\n",
       " {'name': '박', 'score': 66},\n",
       " {'name': '김', 'score': 77},\n",
       " {'name': '홍', 'score': 99}]"
      ]
     },
     "execution_count": 127,
     "metadata": {},
     "output_type": "execute_result"
    }
   ],
   "source": [
    "#students를 score순 오름차순\n",
    "students.sort(key=lambda student : student['score'])\n",
    "students"
   ]
  },
  {
   "cell_type": "code",
   "execution_count": 130,
   "id": "fa2c5a62",
   "metadata": {
    "ExecuteTime": {
     "end_time": "2024-11-11T03:58:10.845065Z",
     "start_time": "2024-11-11T03:58:10.840050Z"
    }
   },
   "outputs": [
    {
     "data": {
      "text/plain": [
       "[{'name': '홍', 'score': 99},\n",
       " {'name': '김', 'score': 77},\n",
       " {'name': '박', 'score': 66},\n",
       " {'name': '이', 'score': 22}]"
      ]
     },
     "execution_count": 130,
     "metadata": {},
     "output_type": "execute_result"
    }
   ],
   "source": [
    "#students를 score순 내림차순\n",
    "students.sort(key=lambda student : student.get('score'),reverse=True)\n",
    "students"
   ]
  },
  {
   "cell_type": "code",
   "execution_count": 136,
   "id": "f4a640d4",
   "metadata": {
    "ExecuteTime": {
     "end_time": "2024-11-11T04:07:35.384597Z",
     "start_time": "2024-11-11T04:07:35.379611Z"
    }
   },
   "outputs": [],
   "source": [
    "books = [{'no':1,'title':'소년이 온다', 'writer':'한강', 'price':'13,500'},\n",
    "         {'no':3,'title':'트럼프2,0시대', 'writer':'박종훈', 'price':'18,000'},\n",
    "         {'no':2,'title':'트렌드코리아2025', 'writer':'김난도', 'price':'9,100'},\n",
    "         {'no':4,'title':'가격잘못', 'writer':'홍길동', 'price':'ㅁ'},\n",
    "         {'no':5,'title':'가격이없음', 'writer':'신길동', 'price':'None예정'}]"
   ]
  },
  {
   "cell_type": "code",
   "execution_count": 137,
   "id": "ea138e04",
   "metadata": {
    "ExecuteTime": {
     "end_time": "2024-11-11T04:07:36.049114Z",
     "start_time": "2024-11-11T04:07:36.043003Z"
    }
   },
   "outputs": [
    {
     "data": {
      "text/plain": [
       "[{'no': 1, 'title': '소년이 온다', 'writer': '한강', 'price': '13,500'},\n",
       " {'no': 2, 'title': '트렌드코리아2025', 'writer': '김난도', 'price': '9,100'},\n",
       " {'no': 3, 'title': '트럼프2,0시대', 'writer': '박종훈', 'price': '18,000'},\n",
       " {'no': 4, 'title': '가격잘못', 'writer': '홍길동', 'price': 'ㅁ'},\n",
       " {'no': 5, 'title': '가격이없음', 'writer': '신길동', 'price': 'None예정'}]"
      ]
     },
     "execution_count": 137,
     "metadata": {},
     "output_type": "execute_result"
    }
   ],
   "source": [
    "books.sort(key=lambda book : book.get('no'))\n",
    "books"
   ]
  },
  {
   "cell_type": "code",
   "execution_count": 138,
   "id": "6682aead",
   "metadata": {
    "ExecuteTime": {
     "end_time": "2024-11-11T04:07:36.561104Z",
     "start_time": "2024-11-11T04:07:36.555093Z"
    }
   },
   "outputs": [
    {
     "data": {
      "text/plain": [
       "[{'no': 5, 'title': '가격이없음', 'writer': '신길동', 'price': 'None예정'},\n",
       " {'no': 4, 'title': '가격잘못', 'writer': '홍길동', 'price': 'ㅁ'},\n",
       " {'no': 1, 'title': '소년이 온다', 'writer': '한강', 'price': '13,500'},\n",
       " {'no': 3, 'title': '트럼프2,0시대', 'writer': '박종훈', 'price': '18,000'},\n",
       " {'no': 2, 'title': '트렌드코리아2025', 'writer': '김난도', 'price': '9,100'}]"
      ]
     },
     "execution_count": 138,
     "metadata": {},
     "output_type": "execute_result"
    }
   ],
   "source": [
    "books.sort(key=lambda book : book.get('title'))\n",
    "books"
   ]
  },
  {
   "cell_type": "code",
   "execution_count": 139,
   "id": "e4585d11",
   "metadata": {
    "ExecuteTime": {
     "end_time": "2024-11-11T04:07:37.097085Z",
     "start_time": "2024-11-11T04:07:37.091073Z"
    }
   },
   "outputs": [
    {
     "data": {
      "text/plain": [
       "[{'no': 2, 'title': '트렌드코리아2025', 'writer': '김난도', 'price': '9,100'},\n",
       " {'no': 3, 'title': '트럼프2,0시대', 'writer': '박종훈', 'price': '18,000'},\n",
       " {'no': 5, 'title': '가격이없음', 'writer': '신길동', 'price': 'None예정'},\n",
       " {'no': 1, 'title': '소년이 온다', 'writer': '한강', 'price': '13,500'},\n",
       " {'no': 4, 'title': '가격잘못', 'writer': '홍길동', 'price': 'ㅁ'}]"
      ]
     },
     "execution_count": 139,
     "metadata": {},
     "output_type": "execute_result"
    }
   ],
   "source": [
    "books.sort(key=lambda book : book.get('writer'))\n",
    "books"
   ]
  },
  {
   "cell_type": "code",
   "execution_count": 141,
   "id": "1bc5c096",
   "metadata": {
    "ExecuteTime": {
     "end_time": "2024-11-11T04:08:38.386613Z",
     "start_time": "2024-11-11T04:08:38.379681Z"
    }
   },
   "outputs": [
    {
     "data": {
      "text/plain": [
       "[{'no': 4, 'title': '가격잘못', 'writer': '홍길동', 'price': 'ㅁ'},\n",
       " {'no': 5, 'title': '가격이없음', 'writer': '신길동', 'price': 'None예정'},\n",
       " {'no': 2, 'title': '트렌드코리아2025', 'writer': '김난도', 'price': '9,100'},\n",
       " {'no': 3, 'title': '트럼프2,0시대', 'writer': '박종훈', 'price': '18,000'},\n",
       " {'no': 1, 'title': '소년이 온다', 'writer': '한강', 'price': '13,500'}]"
      ]
     },
     "execution_count": 141,
     "metadata": {},
     "output_type": "execute_result"
    }
   ],
   "source": [
    "books.sort(key=lambda book : book.get('price'), reverse=True)\n",
    "books"
   ]
  },
  {
   "cell_type": "code",
   "execution_count": 170,
   "id": "4c199b91",
   "metadata": {
    "ExecuteTime": {
     "end_time": "2024-11-11T05:48:52.323342Z",
     "start_time": "2024-11-11T05:48:52.318356Z"
    }
   },
   "outputs": [],
   "source": [
    "books = [{'no':1,'title':'소년이 온다', 'writer':'한강', 'price':'13,500'},\n",
    "         {'no':3,'title':'트럼프2,0시대', 'writer':'박종훈', 'price':'18,000'},\n",
    "         {'no':2,'title':'트렌드코리아2025', 'writer':'김난도', 'price':'9,100'},\n",
    "         {'no':4,'title':'가격잘못', 'writer':'홍길동', 'price':'ㅁ'},\n",
    "         {'no':6,'title':'가격이숫자', 'writer':'신길동', 'price':9200},\n",
    "         {'no':5,'title':'가격이없음', 'writer':'이길동'}]"
   ]
  },
  {
   "cell_type": "code",
   "execution_count": 145,
   "id": "8d396309",
   "metadata": {
    "ExecuteTime": {
     "end_time": "2024-11-11T05:12:13.308723Z",
     "start_time": "2024-11-11T05:12:13.291769Z"
    }
   },
   "outputs": [
    {
     "ename": "TypeError",
     "evalue": "'<' not supported between instances of 'int' and 'str'",
     "output_type": "error",
     "traceback": [
      "\u001b[1;31m---------------------------------------------------------------------------\u001b[0m",
      "\u001b[1;31mTypeError\u001b[0m                                 Traceback (most recent call last)",
      "Cell \u001b[1;32mIn[145], line 1\u001b[0m\n\u001b[1;32m----> 1\u001b[0m \u001b[43mbooks\u001b[49m\u001b[38;5;241;43m.\u001b[39;49m\u001b[43msort\u001b[49m\u001b[43m(\u001b[49m\u001b[43mkey\u001b[49m\u001b[38;5;241;43m=\u001b[39;49m\u001b[38;5;28;43;01mlambda\u001b[39;49;00m\u001b[43m \u001b[49m\u001b[43mbook\u001b[49m\u001b[43m:\u001b[49m\u001b[43mbook\u001b[49m\u001b[38;5;241;43m.\u001b[39;49m\u001b[43mget\u001b[49m\u001b[43m(\u001b[49m\u001b[38;5;124;43m'\u001b[39;49m\u001b[38;5;124;43mprice\u001b[39;49m\u001b[38;5;124;43m'\u001b[39;49m\u001b[43m)\u001b[49m\u001b[43m)\u001b[49m\n\u001b[0;32m      2\u001b[0m books\n",
      "\u001b[1;31mTypeError\u001b[0m: '<' not supported between instances of 'int' and 'str'"
     ]
    }
   ],
   "source": [
    "books.sort(key=lambda book:book.get('price'))\n",
    "books"
   ]
  },
  {
   "cell_type": "code",
   "execution_count": 152,
   "id": "0e7f1183",
   "metadata": {
    "ExecuteTime": {
     "end_time": "2024-11-11T05:32:32.980074Z",
     "start_time": "2024-11-11T05:32:32.975059Z"
    }
   },
   "outputs": [],
   "source": [
    "# & : 논리연산, 비트연산, 집합연산이 모두 가능함으로, 좌항이 False여도 우항이 숫자면 비트연산을 수행해야함으로 우항을 수행함\n",
    "# and : 논리연산의 역할만 하여, 좌항이 False면 우항 수행 안 함.\n",
    "\n",
    "def parse_int(price):\n",
    "    if isinstance(price, str) and price.replace(',','').isdigit():\n",
    "        return int(price.replace(',',''))\n",
    "    elif isinstance(price,int):\n",
    "        return price\n",
    "    else:\n",
    "        return 0"
   ]
  },
  {
   "cell_type": "code",
   "execution_count": 153,
   "id": "28a3193d",
   "metadata": {
    "ExecuteTime": {
     "end_time": "2024-11-11T05:32:33.580475Z",
     "start_time": "2024-11-11T05:32:33.574520Z"
    }
   },
   "outputs": [
    {
     "data": {
      "text/plain": [
       "(0, 0, 9200, 13500)"
      ]
     },
     "execution_count": 153,
     "metadata": {},
     "output_type": "execute_result"
    }
   ],
   "source": [
    "parse_int('ㅁ'), parse_int(None), parse_int(9200), parse_int('13,500')"
   ]
  },
  {
   "cell_type": "code",
   "execution_count": 154,
   "id": "78880c9a",
   "metadata": {
    "ExecuteTime": {
     "end_time": "2024-11-11T05:33:10.861958Z",
     "start_time": "2024-11-11T05:33:10.854954Z"
    }
   },
   "outputs": [
    {
     "data": {
      "text/plain": [
       "[{'no': 4, 'title': '가격잘못', 'writer': '홍길동', 'price': 'ㅁ'},\n",
       " {'no': 5, 'title': '가격이없음', 'writer': '이길동'},\n",
       " {'no': 2, 'title': '트렌드코리아2025', 'writer': '김난도', 'price': '9,100'},\n",
       " {'no': 6, 'title': '가격이숫자', 'writer': '신길동', 'price': 9200},\n",
       " {'no': 1, 'title': '소년이 온다', 'writer': '한강', 'price': '13,500'},\n",
       " {'no': 3, 'title': '트럼프2,0시대', 'writer': '박종훈', 'price': '18,000'}]"
      ]
     },
     "execution_count": 154,
     "metadata": {},
     "output_type": "execute_result"
    }
   ],
   "source": [
    "books.sort(key=lambda book: parse_int(book.get('price')))\n",
    "books"
   ]
  },
  {
   "cell_type": "code",
   "execution_count": 171,
   "id": "c5eefe2c",
   "metadata": {
    "ExecuteTime": {
     "end_time": "2024-11-11T05:48:55.329700Z",
     "start_time": "2024-11-11T05:48:55.322728Z"
    }
   },
   "outputs": [
    {
     "data": {
      "text/plain": [
       "[13500, 18000, 9100, 0, 9200, 0]"
      ]
     },
     "execution_count": 171,
     "metadata": {},
     "output_type": "execute_result"
    }
   ],
   "source": [
    "parse_int_tast = lambda book : int(book.get('price').replace(',','')) \\\n",
    "                                if isinstance(book.get('price'), str) and book.get('price').replace(',','').isdigit() else\\\n",
    "                                (book.get('price') if isinstance(book.get('price'),int) else 0)\n",
    "[parse_int_tast(book) for book in books]"
   ]
  },
  {
   "cell_type": "code",
   "execution_count": 179,
   "id": "e474a42b",
   "metadata": {
    "ExecuteTime": {
     "end_time": "2024-11-11T05:56:12.645456Z",
     "start_time": "2024-11-11T05:56:12.637478Z"
    }
   },
   "outputs": [
    {
     "data": {
      "text/plain": [
       "[{'no': 3, 'title': '트럼프2,0시대', 'writer': '박종훈', 'price': '18,000'},\n",
       " {'no': 1, 'title': '소년이 온다', 'writer': '한강', 'price': '13,500'},\n",
       " {'no': 6, 'title': '가격이숫자', 'writer': '신길동', 'price': 9200},\n",
       " {'no': 2, 'title': '트렌드코리아2025', 'writer': '김난도', 'price': '9,100'},\n",
       " {'no': 4, 'title': '가격잘못', 'writer': '홍길동', 'price': 'ㅁ'},\n",
       " {'no': 5, 'title': '가격이없음', 'writer': '이길동'}]"
      ]
     },
     "execution_count": 179,
     "metadata": {},
     "output_type": "execute_result"
    }
   ],
   "source": [
    "copyBooks = books.copy()\n",
    "copyBooks.sort(key=lambda book : int(book.get('price').replace(',',''))\\\n",
    "                                  if isinstance(book.get('price'), str) and book.get('price').replace(',','').isdigit()\\\n",
    "                                  else (book.get('price') if isinstance(book.get('price'), int) else 0), reverse=True)\n",
    "copyBooks"
   ]
  },
  {
   "cell_type": "code",
   "execution_count": null,
   "id": "bbf5eb15",
   "metadata": {},
   "outputs": [],
   "source": [
    "# map(func, books)\n",
    "'''\n",
    "{'no': 3, 'title': '트럼프2,0시대', 'writer': '박종훈', 'price': '18,000'} 를 매개변수로 받아\n",
    "{'no': 3, 'title': '트럼프2,0시대', 'writer': '박종훈', 'price': 18000} 로 return\n",
    "'''"
   ]
  },
  {
   "cell_type": "code",
   "execution_count": 186,
   "id": "6724ce6e",
   "metadata": {
    "ExecuteTime": {
     "end_time": "2024-11-11T06:32:23.437042Z",
     "start_time": "2024-11-11T06:32:23.432052Z"
    }
   },
   "outputs": [],
   "source": [
    "def price_parse_int(book):\n",
    "    # book.get(price)를 정수 가격으로 바꾸기 (방법1)\n",
    "    if isinstance(book.get('price'), str) and book.get('price').replace(',','').isdigit():\n",
    "        book['price'] = int(book['price'].replace(',',''))\n",
    "    elif isinstance(book.get('price'), int):\n",
    "        pass\n",
    "    else :\n",
    "        book['price'] = 0\n",
    "    return book\n",
    "    # book2 복사본을 만들어 book.get(price)를 정수 가격으로 바꾸기 (방법2)\n",
    "    # return book2"
   ]
  },
  {
   "cell_type": "code",
   "execution_count": 194,
   "id": "b47500f2",
   "metadata": {
    "ExecuteTime": {
     "end_time": "2024-11-11T06:41:06.896836Z",
     "start_time": "2024-11-11T06:41:06.891851Z"
    }
   },
   "outputs": [],
   "source": [
    "def price_parse_int(book):\n",
    "    # book.get(price)를 정수 가격으로 바꾸기 (방법1)\n",
    "    if isinstance(book.get('price'), str) and book.get('price').replace(',','').isdigit():\n",
    "        book['price'] = int(book['price'].replace(',',''))\n",
    "    elif isinstance(book.get('price'), int):\n",
    "        pass\n",
    "    else :\n",
    "        book['price'] = 0\n",
    "    return book"
   ]
  },
  {
   "cell_type": "code",
   "execution_count": 197,
   "id": "638c9a6b",
   "metadata": {
    "ExecuteTime": {
     "end_time": "2024-11-11T06:42:58.941921Z",
     "start_time": "2024-11-11T06:42:58.936935Z"
    }
   },
   "outputs": [],
   "source": [
    "price_parse_int = lambda book : {'no':book.get('no'),'title':book.get('title'),'writer':book.get('writer'),'price': int(book.get('price').replace(',','')) \\\n",
    "                                                                                            if isinstance(book.get('price'), str) and book.get('price').replace(',','').isdigit()\\\n",
    "                                                                                            else (book.get('price') if isinstance(book.get('price'), int)\\\n",
    "                                                                                            else 0)}"
   ]
  },
  {
   "cell_type": "code",
   "execution_count": 199,
   "id": "9743706a",
   "metadata": {
    "ExecuteTime": {
     "end_time": "2024-11-11T06:43:36.517973Z",
     "start_time": "2024-11-11T06:43:36.510848Z"
    }
   },
   "outputs": [
    {
     "data": {
      "text/plain": [
       "{'no': 3, 'title': '트럼프2,0시대', 'writer': '박종훈', 'price': 0}"
      ]
     },
     "execution_count": 199,
     "metadata": {},
     "output_type": "execute_result"
    }
   ],
   "source": [
    "bookTemp = {'no': 3, 'title': '트럼프2,0시대', 'writer': '박종훈', 'price': 'a'}\n",
    "returnbook = price_parse_int(bookTemp)\n",
    "returnbook"
   ]
  },
  {
   "cell_type": "code",
   "execution_count": 200,
   "id": "c7cba9b5",
   "metadata": {
    "ExecuteTime": {
     "end_time": "2024-11-11T06:43:40.445984Z",
     "start_time": "2024-11-11T06:43:40.440998Z"
    }
   },
   "outputs": [
    {
     "data": {
      "text/plain": [
       "{'no': 3, 'title': '트럼프2,0시대', 'writer': '박종훈', 'price': 'a'}"
      ]
     },
     "execution_count": 200,
     "metadata": {},
     "output_type": "execute_result"
    }
   ],
   "source": [
    "bookTemp"
   ]
  },
  {
   "cell_type": "code",
   "execution_count": 214,
   "id": "22a49494",
   "metadata": {
    "ExecuteTime": {
     "end_time": "2024-11-11T06:49:21.387204Z",
     "start_time": "2024-11-11T06:49:21.380222Z"
    }
   },
   "outputs": [
    {
     "data": {
      "text/plain": [
       "[{'no': 1, 'title': '소년이 온다', 'writer': '한강', 'price': '13,500'},\n",
       " {'no': 3, 'title': '트럼프2,0시대', 'writer': '박종훈', 'price': '18,000'},\n",
       " {'no': 2, 'title': '트렌드코리아2025', 'writer': '김난도', 'price': '9,100'},\n",
       " {'no': 4, 'title': '가격잘못', 'writer': '홍길동', 'price': 'ㅁ'},\n",
       " {'no': 6, 'title': '가격이숫자', 'writer': '신길동', 'price': 9200},\n",
       " {'no': 5, 'title': '가격이없음', 'writer': '이길동'}]"
      ]
     },
     "execution_count": 214,
     "metadata": {},
     "output_type": "execute_result"
    }
   ],
   "source": [
    "copyBooks = list(map(lambda book : {'no':book.get('no'),'title':book.get('title'),'writer':book.get('writer'),'price': int(book.get('price').replace(',','')) \\\n",
    "                                                                                            if isinstance(book.get('price'), str) and book.get('price').replace(',','').isdigit()\\\n",
    "                                                                                            else (book.get('price') if isinstance(book.get('price'), int)\\\n",
    "                                                                                            else 0)}, books))\n",
    "books"
   ]
  },
  {
   "cell_type": "code",
   "execution_count": 215,
   "id": "d6018142",
   "metadata": {
    "ExecuteTime": {
     "end_time": "2024-11-11T06:49:22.248337Z",
     "start_time": "2024-11-11T06:49:22.242381Z"
    }
   },
   "outputs": [
    {
     "data": {
      "text/plain": [
       "[{'no': 1, 'title': '소년이 온다', 'writer': '한강', 'price': 13500},\n",
       " {'no': 3, 'title': '트럼프2,0시대', 'writer': '박종훈', 'price': 18000},\n",
       " {'no': 2, 'title': '트렌드코리아2025', 'writer': '김난도', 'price': 9100},\n",
       " {'no': 4, 'title': '가격잘못', 'writer': '홍길동', 'price': 0},\n",
       " {'no': 6, 'title': '가격이숫자', 'writer': '신길동', 'price': 9200},\n",
       " {'no': 5, 'title': '가격이없음', 'writer': '이길동', 'price': 0}]"
      ]
     },
     "execution_count": 215,
     "metadata": {},
     "output_type": "execute_result"
    }
   ],
   "source": [
    "copyBooks"
   ]
  },
  {
   "cell_type": "code",
   "execution_count": null,
   "id": "61de3391",
   "metadata": {},
   "outputs": [],
   "source": [
    "'''\n",
    "예제3. members = [{'name':'홍길동', 'birth':'2000-01-01'},\n",
    "                  {'name':'신길동', 'birth':'1995-12-18'}]를\n",
    "       members = [{'name':'홍길동', 'birth':'2000-01-01', 'year':2000, 'month':1, 'day':1},\n",
    "                  {'name':'신길동', 'birth':'1995-12-18', 'year':1995, 'month':12, 'day':18}] 로 바꿉니다\n",
    "'''"
   ]
  },
  {
   "cell_type": "code",
   "execution_count": 256,
   "id": "a514c175",
   "metadata": {
    "ExecuteTime": {
     "end_time": "2024-11-11T07:24:15.674590Z",
     "start_time": "2024-11-11T07:24:15.669574Z"
    }
   },
   "outputs": [],
   "source": [
    "members = [{'name':'홍길동', 'birth':'2000-01-01'},\n",
    "          {'name':'신길동', 'birth':'1995-12-18'}]\n",
    "def members_birth_split (member):\n",
    "    if isinstance(member.get('birth'), str):\n",
    "        year, month, day = member['birth'].split('-')\n",
    "    return {'name':member.get('name'), 'birth':member.get('birth'), 'year':int(year), 'month':int(month), 'day':int(day)}\n"
   ]
  },
  {
   "cell_type": "code",
   "execution_count": 257,
   "id": "5c3e23ca",
   "metadata": {
    "ExecuteTime": {
     "end_time": "2024-11-11T07:24:17.305362Z",
     "start_time": "2024-11-11T07:24:17.300388Z"
    }
   },
   "outputs": [
    {
     "data": {
      "text/plain": [
       "{'name': '홍길동', 'birth': '2000-01-01', 'year': 2000, 'month': 1, 'day': 1}"
      ]
     },
     "execution_count": 257,
     "metadata": {},
     "output_type": "execute_result"
    }
   ],
   "source": [
    "members_birth_split({'name':'홍길동', 'birth':'2000-01-01'})"
   ]
  },
  {
   "cell_type": "code",
   "execution_count": 249,
   "id": "61b465e6",
   "metadata": {
    "ExecuteTime": {
     "end_time": "2024-11-11T07:22:33.762278Z",
     "start_time": "2024-11-11T07:22:33.756294Z"
    }
   },
   "outputs": [],
   "source": [
    "members_birth_split = lambda member : {'name':member.get('name'), 'birth':member.get('birth'), \\\n",
    "                                       'year':int(member.get('birth').split('-')[0]) if isinstance(member.get('birth'), str) else 0, \\\n",
    "                                       'month':int(member.get('birth').split('-')[1]) if isinstance(member.get('birth'), str) else 0, \\\n",
    "                                       'day':int(member.get('birth').split('-')[2]) if isinstance(member.get('birth'), str) else 0}"
   ]
  },
  {
   "cell_type": "code",
   "execution_count": 261,
   "id": "b836d51c",
   "metadata": {
    "ExecuteTime": {
     "end_time": "2024-11-11T07:25:28.430612Z",
     "start_time": "2024-11-11T07:25:28.424628Z"
    }
   },
   "outputs": [],
   "source": [
    "copy_members = list(map(lambda member : {'name':member.get('name'), 'birth':member.get('birth'), \\\n",
    "                                       'year':int(member.get('birth').split('-')[0]) if isinstance(member.get('birth'), str) else 0, \\\n",
    "                                       'month':int(member.get('birth').split('-')[1]) if isinstance(member.get('birth'), str) else 0, \\\n",
    "                                       'day':int(member.get('birth').split('-')[2]) if isinstance(member.get('birth'), str) else 0}, members))"
   ]
  },
  {
   "cell_type": "code",
   "execution_count": 262,
   "id": "352cb5c5",
   "metadata": {
    "ExecuteTime": {
     "end_time": "2024-11-11T07:25:29.141848Z",
     "start_time": "2024-11-11T07:25:29.135835Z"
    }
   },
   "outputs": [
    {
     "data": {
      "text/plain": [
       "[{'name': '홍길동', 'birth': '2000-01-01', 'year': 2000, 'month': 1, 'day': 1},\n",
       " {'name': '신길동', 'birth': '1995-12-18', 'year': 1995, 'month': 12, 'day': 18}]"
      ]
     },
     "execution_count": 262,
     "metadata": {},
     "output_type": "execute_result"
    }
   ],
   "source": [
    "copy_members"
   ]
  },
  {
   "cell_type": "code",
   "execution_count": 266,
   "id": "93252a5a",
   "metadata": {
    "ExecuteTime": {
     "end_time": "2024-11-11T07:30:46.785433Z",
     "start_time": "2024-11-11T07:30:46.780419Z"
    }
   },
   "outputs": [],
   "source": [
    "def split_date(date):\n",
    "    split_data = date.split('-')\n",
    "    return {'year' : int(split_data[0]),\n",
    "            'month' : int(split_data[1]),\n",
    "            'day' : int(split_data[2]),}"
   ]
  },
  {
   "cell_type": "code",
   "execution_count": 267,
   "id": "46a97744",
   "metadata": {
    "ExecuteTime": {
     "end_time": "2024-11-11T07:30:47.379370Z",
     "start_time": "2024-11-11T07:30:47.374383Z"
    }
   },
   "outputs": [
    {
     "data": {
      "text/plain": [
       "{'year': 2001, 'month': 6, 'day': 18}"
      ]
     },
     "execution_count": 267,
     "metadata": {},
     "output_type": "execute_result"
    }
   ],
   "source": [
    "split_date('2001-06-18')"
   ]
  },
  {
   "cell_type": "code",
   "execution_count": 271,
   "id": "56cf126b",
   "metadata": {
    "ExecuteTime": {
     "end_time": "2024-11-11T07:34:03.960401Z",
     "start_time": "2024-11-11T07:34:03.956410Z"
    }
   },
   "outputs": [],
   "source": [
    "def split_birth(member) : # 'name', 'birth'\n",
    "    return {\n",
    "        'name': member.get('name'),\n",
    "        'year': int(member.get('birth').split('-')[0]),\n",
    "        'month': int(member.get('birth').split('-')[1]),\n",
    "        'day': int(member.get('birth').split('-')[2]),\n",
    "    }"
   ]
  },
  {
   "cell_type": "code",
   "execution_count": 274,
   "id": "7dc9c4e1",
   "metadata": {
    "ExecuteTime": {
     "end_time": "2024-11-11T07:35:38.105028Z",
     "start_time": "2024-11-11T07:35:38.100048Z"
    }
   },
   "outputs": [
    {
     "data": {
      "text/plain": [
       "{'name': '홍길동', 'year': 2000, 'month': 1, 'day': 1}"
      ]
     },
     "execution_count": 274,
     "metadata": {},
     "output_type": "execute_result"
    }
   ],
   "source": [
    "split_birth({'name':'홍길동', 'birth':'2000-01-01'})"
   ]
  },
  {
   "cell_type": "code",
   "execution_count": 273,
   "id": "58b6945b",
   "metadata": {
    "ExecuteTime": {
     "end_time": "2024-11-11T07:35:34.568102Z",
     "start_time": "2024-11-11T07:35:34.563025Z"
    }
   },
   "outputs": [],
   "source": [
    "split_birth = lambda member : {\n",
    "        'name': member.get('name'),\n",
    "        'year': int(member.get('birth').split('-')[0]),\n",
    "        'month': int(member.get('birth').split('-')[1]),\n",
    "        'day': int(member.get('birth').split('-')[2]),\n",
    "    }"
   ]
  },
  {
   "cell_type": "code",
   "execution_count": 275,
   "id": "4679a88a",
   "metadata": {
    "ExecuteTime": {
     "end_time": "2024-11-11T07:35:42.609093Z",
     "start_time": "2024-11-11T07:35:42.604126Z"
    }
   },
   "outputs": [
    {
     "data": {
      "text/plain": [
       "{'name': '홍길동', 'year': 2000, 'month': 1, 'day': 1}"
      ]
     },
     "execution_count": 275,
     "metadata": {},
     "output_type": "execute_result"
    }
   ],
   "source": [
    "split_birth({'name':'홍길동', 'birth':'2000-01-01'})"
   ]
  },
  {
   "cell_type": "code",
   "execution_count": 294,
   "id": "b164020b",
   "metadata": {
    "ExecuteTime": {
     "end_time": "2024-11-11T07:51:39.408201Z",
     "start_time": "2024-11-11T07:51:39.401219Z"
    }
   },
   "outputs": [
    {
     "data": {
      "text/plain": [
       "[{'name': '홍길동', 'year': 2000, 'month': 1, 'day': 1},\n",
       " {'name': '신길동', 'year': 1995, 'month': 12, 'day': 18}]"
      ]
     },
     "execution_count": 294,
     "metadata": {},
     "output_type": "execute_result"
    }
   ],
   "source": [
    "members = list(map(lambda member : {\n",
    "        'name': member.get('name'),\n",
    "        'year': int(member.get('birth').split('-')[0]),\n",
    "        'month': int(member.get('birth').split('-')[1]),\n",
    "        'day': int(member.get('birth').split('-')[2]),\n",
    "    }, members))\n",
    "members"
   ]
  },
  {
   "cell_type": "code",
   "execution_count": 281,
   "id": "abc49fa0",
   "metadata": {
    "ExecuteTime": {
     "end_time": "2024-11-11T07:46:23.007764Z",
     "start_time": "2024-11-11T07:46:23.003745Z"
    }
   },
   "outputs": [],
   "source": [
    "def join_date(date):\n",
    "    return '{year}-{month:02}-{day:02}'.format(**date)"
   ]
  },
  {
   "cell_type": "code",
   "execution_count": 282,
   "id": "99023d1e",
   "metadata": {
    "ExecuteTime": {
     "end_time": "2024-11-11T07:46:23.624537Z",
     "start_time": "2024-11-11T07:46:23.618554Z"
    }
   },
   "outputs": [
    {
     "data": {
      "text/plain": [
       "'2000-01-01'"
      ]
     },
     "execution_count": 282,
     "metadata": {},
     "output_type": "execute_result"
    }
   ],
   "source": [
    "join_date({'name': '홍길동', 'year': 2000, 'month': 1, 'day': 1})"
   ]
  },
  {
   "cell_type": "code",
   "execution_count": 286,
   "id": "20218d36",
   "metadata": {
    "ExecuteTime": {
     "end_time": "2024-11-11T07:50:39.384640Z",
     "start_time": "2024-11-11T07:50:39.380650Z"
    }
   },
   "outputs": [],
   "source": [
    "def join_birth(member):\n",
    "    name = member['name']\n",
    "    del member['name']\n",
    "    print(member)\n",
    "    join_date = '{year}-{month:02}-{day:02}'.format(**member)"
   ]
  },
  {
   "cell_type": "code",
   "execution_count": 287,
   "id": "e1c98a4c",
   "metadata": {
    "ExecuteTime": {
     "end_time": "2024-11-11T07:50:40.007988Z",
     "start_time": "2024-11-11T07:50:40.003030Z"
    }
   },
   "outputs": [
    {
     "name": "stdout",
     "output_type": "stream",
     "text": [
      "{'year': 2000, 'month': 1, 'day': 1}\n"
     ]
    }
   ],
   "source": [
    "join_birth({'name': '홍길동', 'year': 2000, 'month': 1, 'day': 1})"
   ]
  },
  {
   "cell_type": "code",
   "execution_count": 295,
   "id": "296eba16",
   "metadata": {
    "ExecuteTime": {
     "end_time": "2024-11-11T07:51:43.095781Z",
     "start_time": "2024-11-11T07:51:43.091820Z"
    }
   },
   "outputs": [],
   "source": [
    "members = list(map(lambda member : {'name':member.get('name'),\\\n",
    "                                    'birth':'{year}-{month:02}-{day:02}'.format(**member)}, members))"
   ]
  },
  {
   "cell_type": "code",
   "execution_count": 296,
   "id": "b5dc5c4b",
   "metadata": {
    "ExecuteTime": {
     "end_time": "2024-11-11T07:51:44.991481Z",
     "start_time": "2024-11-11T07:51:44.986468Z"
    }
   },
   "outputs": [
    {
     "data": {
      "text/plain": [
       "[{'name': '홍길동', 'birth': '2000-01-01'},\n",
       " {'name': '신길동', 'birth': '1995-12-18'}]"
      ]
     },
     "execution_count": 296,
     "metadata": {},
     "output_type": "execute_result"
    }
   ],
   "source": [
    "members"
   ]
  },
  {
   "cell_type": "markdown",
   "id": "c5a5fca6",
   "metadata": {},
   "source": [
    "## 4.3 return문에 람다식 사용"
   ]
  },
  {
   "cell_type": "code",
   "execution_count": 303,
   "id": "64e541e7",
   "metadata": {
    "ExecuteTime": {
     "end_time": "2024-11-11T08:17:26.985967Z",
     "start_time": "2024-11-11T08:17:26.981970Z"
    }
   },
   "outputs": [],
   "source": [
    "#  매개변수에 함수 사용\n",
    "def apply(data, func=None):\n",
    "#     if func == None:\n",
    "    if func is None:\n",
    "        return data\n",
    "    else:\n",
    "        return func(data)"
   ]
  },
  {
   "cell_type": "code",
   "execution_count": 305,
   "id": "7762d739",
   "metadata": {
    "ExecuteTime": {
     "end_time": "2024-11-11T08:18:28.530593Z",
     "start_time": "2024-11-11T08:18:28.525608Z"
    }
   },
   "outputs": [
    {
     "name": "stdout",
     "output_type": "stream",
     "text": [
      "2\n",
      "8\n"
     ]
    }
   ],
   "source": [
    "print(apply(2))\n",
    "print(apply(2, lambda x:x**3))"
   ]
  },
  {
   "cell_type": "code",
   "execution_count": 306,
   "id": "66687edf",
   "metadata": {
    "ExecuteTime": {
     "end_time": "2024-11-11T08:23:48.271471Z",
     "start_time": "2024-11-11T08:23:48.265488Z"
    }
   },
   "outputs": [
    {
     "data": {
      "text/plain": [
       "'\\nmake_box((2,3)) => 2차원 2행 3열 짜리 list를 만드는 함수를 return\\n    fun = make_box([2,3])\\n    fun(5) => [[5,5,5],[5,5,5]]\\nmake_box((2,)) => 1차원 2열짜리 list를 만드는 함수를 return\\n    fun = make_box([2])\\n    fun(7) = [7,7]\\n'"
      ]
     },
     "execution_count": 306,
     "metadata": {},
     "output_type": "execute_result"
    }
   ],
   "source": [
    "# 함수를 return\n",
    "\"\"\"\n",
    "make_box((2,3)) => 2차원 2행 3열 짜리 list를 만드는 함수를 return\n",
    "    fun = make_box([2,3])\n",
    "    fun(5) => [[5,5,5],[5,5,5]]\n",
    "make_box((2,)) => 1차원 2열짜리 list를 만드는 함수를 return\n",
    "    fun = make_box([2])\n",
    "    fun(7) = [7,7]\n",
    "\"\"\""
   ]
  },
  {
   "cell_type": "code",
   "execution_count": 307,
   "id": "8c32bb4f",
   "metadata": {
    "ExecuteTime": {
     "end_time": "2024-11-11T08:28:24.338625Z",
     "start_time": "2024-11-11T08:28:24.333611Z"
    }
   },
   "outputs": [],
   "source": [
    "def make_box(shape): # [x], [x,y]\n",
    "    def box(init_value):\n",
    "        if len(shape) == 1:\n",
    "            return [init_value]*shape[0] # 1차원 list\n",
    "        elif len(shape) == 2:\n",
    "            return [[init_value]*shape[1]]*shape[0]\n",
    "    return box"
   ]
  },
  {
   "cell_type": "code",
   "execution_count": 315,
   "id": "b6fe01c9",
   "metadata": {
    "ExecuteTime": {
     "end_time": "2024-11-11T08:35:56.728890Z",
     "start_time": "2024-11-11T08:35:56.723904Z"
    }
   },
   "outputs": [],
   "source": [
    "def make_box(shape):\n",
    "    if len(shape) == 1:\n",
    "        return lambda init_value : [init_value]*shape[0]\n",
    "    elif len(shape) == 2:\n",
    "        return lambda init_value : [[init_value]*shape[1]]*shape[0]"
   ]
  },
  {
   "cell_type": "code",
   "execution_count": 312,
   "id": "09871ff0",
   "metadata": {
    "ExecuteTime": {
     "end_time": "2024-11-11T08:33:49.889451Z",
     "start_time": "2024-11-11T08:33:49.885434Z"
    }
   },
   "outputs": [],
   "source": [
    "def make_box(shape):\n",
    "    return lambda init_value : [init_value]*shape[0] if len(shape) == 1 \\\n",
    "                            else ([[init_value]*shape[1]]*shape[0] if len(shape) == 2 else 0)"
   ]
  },
  {
   "cell_type": "code",
   "execution_count": 316,
   "id": "cf315706",
   "metadata": {
    "ExecuteTime": {
     "end_time": "2024-11-11T08:35:59.603304Z",
     "start_time": "2024-11-11T08:35:59.598307Z"
    }
   },
   "outputs": [
    {
     "data": {
      "text/plain": [
       "[5, 5, 5]"
      ]
     },
     "execution_count": 316,
     "metadata": {},
     "output_type": "execute_result"
    }
   ],
   "source": [
    "line_fun = make_box((3,))\n",
    "line_fun(5)"
   ]
  },
  {
   "cell_type": "code",
   "execution_count": 317,
   "id": "c0831913",
   "metadata": {
    "ExecuteTime": {
     "end_time": "2024-11-11T08:36:00.386088Z",
     "start_time": "2024-11-11T08:36:00.381073Z"
    }
   },
   "outputs": [
    {
     "data": {
      "text/plain": [
       "[[5, 5, 5], [5, 5, 5], [5, 5, 5], [5, 5, 5]]"
      ]
     },
     "execution_count": 317,
     "metadata": {},
     "output_type": "execute_result"
    }
   ],
   "source": [
    "box2d_fun = make_box((4,3))\n",
    "box2d_fun(5)"
   ]
  },
  {
   "cell_type": "markdown",
   "id": "610ddd84",
   "metadata": {},
   "source": [
    "# 5. 파이썬 내장함수\n",
    "- import하지 않고 바로 사용 가능한 함수\n",
    "- 키워드처럼 간주되므로, 식별자로 사용하는 것을 피한다"
   ]
  },
  {
   "cell_type": "code",
   "execution_count": 318,
   "id": "2372fee0",
   "metadata": {
    "ExecuteTime": {
     "end_time": "2024-11-11T08:39:07.355648Z",
     "start_time": "2024-11-11T08:39:07.349623Z"
    }
   },
   "outputs": [
    {
     "data": {
      "text/plain": [
       "6"
      ]
     },
     "execution_count": 318,
     "metadata": {},
     "output_type": "execute_result"
    }
   ],
   "source": [
    "int('6')"
   ]
  },
  {
   "cell_type": "code",
   "execution_count": 319,
   "id": "19757d79",
   "metadata": {
    "ExecuteTime": {
     "end_time": "2024-11-11T08:40:19.146233Z",
     "start_time": "2024-11-11T08:40:19.013075Z"
    },
    "collapsed": true
   },
   "outputs": [
    {
     "data": {
      "text/plain": [
       "{'__name__': '__main__',\n",
       " '__doc__': 'Automatically created module for IPython interactive environment',\n",
       " '__package__': None,\n",
       " '__loader__': None,\n",
       " '__spec__': None,\n",
       " '__builtin__': <module 'builtins' (built-in)>,\n",
       " '__builtins__': <module 'builtins' (built-in)>,\n",
       " '_ih': ['',\n",
       "  'def add(a,b):\\n    return a+b\\nadd(3,5)',\n",
       "  'add2 = add\\nadd2(10,20)',\n",
       "  'add2 = lambda a,b : a+b\\nadd2(10,20)',\n",
       "  'print(type(add), type(add2)) ',\n",
       "  '(lambda a, b : a+b)(3,6)',\n",
       "  '# a 와 b 의 차이를 return\\ndef diff(a, b):\\n    if a>=b:\\n        return a-b\\n    else b>=a:\\n        return b-a',\n",
       "  '# a 와 b 의 차이를 return\\ndef diff(a, b):\\n    if a>=b:\\n        return a-b\\n    elif b>=a:\\n        return b-a',\n",
       "  'diff2 = lambda a, b: a-b if a>=b else b-a',\n",
       "  'print(diff(3,5),diff(5,3),diff2(3,5),diff2(5,3))\\nprint(type(diff), type(diff2))',\n",
       "  \"#매개변수로 잔액을 받아 잔액이 음수면 'negative'라고 출력, 양수면 잔액\\ndef get_balance(balance):\\n    if balance>=0:\\n        return balance\\n    else:\\n        return 'negative'\",\n",
       "  'get_balance(100)',\n",
       "  'get_balance(-100)',\n",
       "  \"get_balance2 = lambda balance : balance if balance>=0 else 'negative' \",\n",
       "  'get_balance2(100)\\nget_balance2(-100)',\n",
       "  'get_balance2(100)',\n",
       "  \"get_balance2 = lambda balance : balance if balance>=0 else 'negative'\\nget_balance2(100)\",\n",
       "  \"balance = -500\\nif balance>=0:\\n    result = balance\\nelse :\\n    result = 'negative'\\nresult\",\n",
       "  \"balance if balance>=0 else 'negative'\",\n",
       "  \"balance if balance>=0 else 'negative'\",\n",
       "  \"balance = 500\\nbalance if balance>=0 else 'negative'\",\n",
       "  '# 아래 함수도 람다식으로 바꿀 수 있음\\nlst = [1,2,3]\\nv = (1,2,3)\\nv.index(4)',\n",
       "  '# 아래 함수도 람다식으로 바꿀 수 있음\\nlst = [1,2,3]\\nv = (1,2,3)\\nsafe_index = vector, item : vector if item in vecotr else -1\\nsafe_index(v, 1), safe_index(v, 4)',\n",
       "  '# 아래 함수도 람다식으로 바꿀 수 있음\\nlst = [1,2,3]\\nv = (1,2,3)\\nsafe_index = vector, item : vector.index(item) if item in vecotr else -1\\nsafe_index(v, 1), safe_index(v, 4)',\n",
       "  '# 아래 함수도 람다식으로 바꿀 수 있음\\nlst = [1,2,3]\\nv = (1,2,3)\\nsafe_index = vector, item vector.index(item) if item in vecotr else -1\\nsafe_index(v, 1), safe_index(v, 4)',\n",
       "  '# 아래 함수도 람다식으로 바꿀 수 있음\\nlst = [1,2,3]\\nv = (1,2,3)\\nlambda vector,item: vector.index(item) if item in vecotr else -1\\nsafe_index(v, 1), safe_index(v, 4)',\n",
       "  '# 아래 함수도 람다식으로 바꿀 수 있음\\nlst = [1,2,3]\\nv = (1,2,3)\\nlambda vector,item: vector.index(item) if item in vecotr else -1 (v,4)',\n",
       "  '# 아래 함수도 람다식으로 바꿀 수 있음\\nlst = [1,2,3]\\nv = (1,2,3)\\nlambda vector,item: vector.index(item) if item in vecotr else -1 (v,1)',\n",
       "  '# 아래 함수도 람다식으로 바꿀 수 있음\\nlst = [1,2,3]\\nv = (1,2,3)\\nlambda vector,item: vector.index(item) if item in vecotr else -1 (v,1)',\n",
       "  '# 아래 함수도 람다식으로 바꿀 수 있음\\nlst = [1,2,3]\\nv = (1,2,3)\\nsafe_index = vector,item: vector.index(item) if item in vecotr else -1 ',\n",
       "  '# 아래 함수도 람다식으로 바꿀 수 있음\\nlst = [1,2,3]\\nv = (1,2,3)\\nsafe_index = lambda vector,item: vector.index(item) if item in vecotr else -1',\n",
       "  '# 아래 함수도 람다식으로 바꿀 수 있음\\nlst = [1,2,3]\\nv = (1,2,3)\\nsafe_index = lambda vector,item: vector.index(item) if item in vecotr else -1\\nsafe_index(v,4)',\n",
       "  '# 아래 함수도 람다식으로 바꿀 수 있음\\nlst = [1,2,3]\\nv = (1,2,3)\\nsafe_index = lambda vector,item: vector.index(item) if item in vector else -1\\nsafe_index(v,4)',\n",
       "  '# 아래 함수도 람다식으로 바꿀 수 있음\\nlst = [1,2,3]\\nv = (1,2,3)\\nsafe_index = lambda vector,item: vector.index(item) if item in vector else -1\\nsafe_index(v,4), safe_index(v, 1)',\n",
       "  \"#매개변수로 들어온 값이 짝수면 '짝수', 홀수면 '홀수'라고 리턴\\nlambda x : '짝수' if x%2==0 else '홀수' (3)\",\n",
       "  \"#매개변수로 들어온 값이 짝수면 '짝수', 홀수면 '홀수'라고 리턴\\neven_odd_chk = lambda x : '짝수' if x%2==0 else '홀수'\\neven_odd_chk(5), even_odd_chk(2)\",\n",
       "  \"def levelChk(score):\\n    if score >= 80:\\n        return 'A'\\n    elif score >= 60:\\n        return 'B'\\n    else:\\n        return '재시험'\\nlevelChk(65)\",\n",
       "  \"levelChk = lambda score : 'A' if score >= 80 else(score : 'B' if score >= 60 else '재시험')(score)\",\n",
       "  \"levelChk = lambda score : 'A' if score >= 80 else(score  'B' if score >= 60 else '재시험')(score)\",\n",
       "  \"levelChk = lambda score : 'A' if score >= 80 else('B' if score >= 60 else '재시험')(score)\",\n",
       "  \"levelChk = lambda score : 'A' if score >= 80 else('B' if score >= 60 else '재시험')(score)\\nlevelChk(65),levelChk(95)\",\n",
       "  \"levelChk = lambda score : 'A' if score >= 80 else('B' if score >= 60 else '재시험')\\nlevelChk(65),levelChk(95)\",\n",
       "  \"levelChk = lambda score : 'A' if score >= 80 else('B' if score >= 60 else '재시험')\\nlevelChk(65),levelChk(95),levelChk(9)\",\n",
       "  \"score_grade = lambda score : 'A' if 90 <= score <= 100 else ('B' if 80 <= score < 90 else ('C' if 70 <= score < 80 else ('D' if 60 <= score <70 else ('F' if 0 <= score < 60 else '유효하지 않은 점수'))))\\nscore_grade(99),score_grade(89),score_grade(79),score_grade(69),score_grade(59),score_grade(999)\",\n",
       "  \"score_grade = lambda score : 'A' if 90 <= score <= 100 else ('B' if 80 <= score < 90 else ('C' if 70 <= score < 80 else \\\\\\n                                                                                           ('D' if 60 <= score <70 else ('F' if 0 <= score < 60 else '유효하지 않은 점수'))))\\nscore_grade(99),score_grade(89),score_grade(79),score_grade(69),score_grade(59),score_grade(999)\",\n",
       "  \"score_grade = lambda score : 'A' if 90 <= score <= 100 else \\\\\\n                            ('B' if 80 <= score < 90 else\\\\\\n                             ('C' if 70 <= score < 80 else \\\\\\n                              ('D' if 60 <= score <70 else \\\\\\n                               ('F' if 0 <= score < 60 else '유효하지 않은 점수'))))\\nscore_grade(99),score_grade(89),score_grade(79),score_grade(69),score_grade(59),score_grade(999)\",\n",
       "  \"score_grade = lambda score : 'A' if 90 <= score <= 100 else \\\\\\n                            ('B' if 80 <= score < 90 else\\\\\\n                             ('C' if 70 <= score < 80 else \\\\\\n                              ('D' if 60 <= score <70 else \\\\\\n                               ('F' if 0 <= score < 60 else \\\\\\n                                '유효하지 않은 점수'))))\\nscore_grade(99),score_grade(89),score_grade(79),score_grade(69),score_grade(59),score_grade(999)\",\n",
       "  \"score_grade = lambda score : 'A' if 90 <= score <= 100 else \\\\\\n                            ('B' if 80 <= score < 90 else\\\\\\n                             ('C' if 70 <= score < 80 else \\\\\\n                              ('D' if 60 <= score <70 else \\\\\\n                               ('F' if 0 <= score < 60 else \\\\\\n                                '유효하지 않은 점수'))))\\nscore_grade(99),score_grade(89),score_grade(79),score_grade(69),score_grade(59),score_grade(-999)\",\n",
       "  \"score_grade = lambda score : 'A' if 90 <= score <= 100 else \\\\\\n                            ('B' if 80 <= score < 90 else\\\\\\n                             ('C' if 70 <= score < 80 else \\\\\\n                              ('D' if 60 <= score <70 else \\\\\\n                               ('F' if 0 <= score < 60 else \\\\\\n                                '유효하지 않은 점수'))))\\nscore_grade(99),score_grade(89),score_grade(79),score_grade(69),score_grade(59),score_grade(999)\",\n",
       "  \"score_grade = lambda score : 'A' if 90 <= score <= 100 else \\\\\\n                             'B' if 80 <= score < 90 else\\\\\\n                             'C' if 70 <= score < 80 else \\\\\\n                             'D' if 60 <= score <70 else \\\\\\n                             'F' if 0 <= score < 60 else \\\\\\n                             '유효하지 않은 점수'\\nscore_grade(99),score_grade(89),score_grade(79),score_grade(69),score_grade(59),score_grade(999)\",\n",
       "  \"add = lambda a, b : a+b\\nsub = lambda a, b : a-b\\nmul = lambda a, b : a*b\\ndiv = lambda a, b : a/b if b!=0 else '두번째 인자가 0으로는 못나눠요'\\nadd(3,0), div (0,5)\",\n",
       "  \"add = lambda a, b : a+b\\nsub = lambda a, b : a-b\\nmul = lambda a, b : a*b\\ndiv = lambda a, b : a/b if b!=0 else '두번째 인자가 0으로는 못나눠요'\\nadd(3,0), div (5,0)\",\n",
       "  \"add = lambda a, b : a+b\\nsub = lambda a, b : a-b\\nmul = lambda a, b : a*b\\ndiv = lambda a, b : a/b if b!=0 else '두번째 인자가 0으로는 못나눠요'\\nadd(3,0), div (5, 6)\",\n",
       "  \"add = lambda a, b : a+b\\nsub = lambda a, b : a-b\\nmul = lambda a, b : a*b\\ndiv = lambda a, b : a/b if b!=0 else '두번째 인자가 0으로는 못나눠요'\\nadd(3,0), div (5, 6)\\n\\ni = 10\\nj = 20\\nlst = [i,j]\\nlst\",\n",
       "  \"add = lambda a, b : a+b\\nsub = lambda a, b : a-b\\nmul = lambda a, b : a*b\\ndiv = lambda a, b : a/b if b!=0 else '두번째 인자가 0으로는 못나눠요'\\nadd(3,0), div (5, 6)\\n\\noperations = [add, sub, mul, div]\\noperations\",\n",
       "  \"add = lambda a, b : a+b\\nsub = lambda a, b : a-b\\nmul = lambda a, b : a*b\\ndiv = lambda a, b : a/b if b!=0 else '두번째 인자가 0으로는 못나눠요'\\nadd(3,0), div (5, 6)\\n\\noperations = [add, sub, mul, div]\\n#매개변수로 함수 list가 옴\\ndef action_operations(a, b, operations = operations):\\n    result = []\\n    for op in operations:\\n        result.append(op(a,b))\\n    return result\\n# def pow(a,b):\\n#     return a**b\\noprations.append(lambda a, b: a**b)\\nprint(action_operations(10,2))\",\n",
       "  \"add = lambda a, b : a+b\\nsub = lambda a, b : a-b\\nmul = lambda a, b : a*b\\ndiv = lambda a, b : a/b if b!=0 else '두번째 인자가 0으로는 못나눠요'\\nadd(3,0), div (5, 6)\\n\\noperations = [add, sub, mul, div]\\n#매개변수로 함수 list가 옴\\ndef action_operations(a, b, operations = operations):\\n    result = []\\n    for op in operations:\\n        result.append(op(a,b))\\n    return result\\n# def pow(a,b):\\n#     return a**b\\noprations.append(lambda a, b: a**b)\\nprint(action_operations(10,2))\",\n",
       "  \"add = lambda a, b : a+b\\nsub = lambda a, b : a-b\\nmul = lambda a, b : a*b\\ndiv = lambda a, b : a/b if b!=0 else '두번째 인자가 0으로는 못나눠요'\\nadd(3,0), div (5, 6)\\n\\noperations = [add, sub, mul, div]\\n#매개변수로 함수 list가 옴\\ndef action_operations(a, b, operations = operations):\\n    result = []\\n    for op in operations:\\n        result.append(op(a,b))\\n    return result\\n# def pow(a,b):\\n#     return a**b\\noprations.append(lambda a, b: a**b)\\nprint(action_operations(10,2))\",\n",
       "  \"add = lambda a, b : a+b\\nsub = lambda a, b : a-b\\nmul = lambda a, b : a*b\\ndiv = lambda a, b : a/b if b!=0 else '두번째 인자가 0으로는 못나눠요'\\nadd(3,0), div (5, 6)\\n\\noperations = [add, sub, mul, div]\\n#매개변수로 함수 list가 옴\\ndef action_operations(a, b, operations = operations):\\n    result = []\\n    for op in operations:\\n        result.append(op(a,b))\\n    return result\\n# def pow(a,b):\\n#     return a**b\\noperations.append(lambda a, b: a**b)\\nprint(action_operations(10,2))\",\n",
       "  '#리스트 컴프리 헨션\\nlst = [1,2,3]\\n[ for l in lst]',\n",
       "  '#리스트 컴프리 헨션\\nlst = [1,2,3]\\n[l**2 for l in lst]',\n",
       "  'action_operations = lambda a, b, operations = operations : [for op(a,b) in oprations]',\n",
       "  'action_operations = lambda a, b, operations = operations : for op(a,b) in oprations',\n",
       "  '#리스트 컴프리 헨션\\nlst = [1,2,3]\\nprint([l**2 for l in lst])\\nprint([l**2 for l in lst if l%2==0])',\n",
       "  'action_operations = lambda a, b, operations = operations : op(a,b) for op in oprations',\n",
       "  'result = []\\naction_operations = lambda a, b, operations = operations : result.append(op(a,b)) for op in operations',\n",
       "  'action_operations = lambda a, b, operations = operations : result = [op(a,b)] for op in operations',\n",
       "  'action_operations = lambda a, b, operations = operations : result = [op(a,b) for op in operations]',\n",
       "  'def action_operations(a, b, operations = operations):\\n    return result = [op(a,b) for op in operations]',\n",
       "  'def action_operations(a, b, operations = operations):\\n    return [op(a,b) for op in operations]',\n",
       "  'def action_operations(a, b, operations = operations):\\n    return [op(a,b) for op in operations]\\naction_operations = lambda a, b, operations = operations : [op(a,b) for op in operations]',\n",
       "  'def action_operations(a, b, operations = operations):\\n    return [op(a,b) for op in operations]\\naction_operations = lambda a, b, operations = operations : [op(a,b) for op in operations]\\naction_operations(5,2)',\n",
       "  'action_operations = lambda a, b, operations = operations : [op(a,b) for op in operations]\\naction_operations(5,2)',\n",
       "  'action_operations = lambda a, b, operations = operations : [op(a,b) for op in operations]\\naction_operations(5,5)',\n",
       "  'action_operations = lambda a, b, operations = operations : [op(a,b) for op in operations]\\naction_operations(5,3)',\n",
       "  'map_template = lambda func, L=[] : [func(item) for item in L]',\n",
       "  'def map_template(func, L=[]):\\n    result = []\\n    for item in L :\\n        result.append(func(item))\\n    return result',\n",
       "  'list_data = [1,2,3,4,5,6,7,8,9]\\ndef x_2(x) :\\n    return x*2\\nmap_template(x_2, list_data)',\n",
       "  'list_data = [1,2,3,4,5,6,7,8,9]\\nmap_template(lambda x : x*2, list_data)',\n",
       "  '#리스트 컴프리헨션\\n[x*2 for xin list_data]',\n",
       "  '#리스트 컴프리헨션\\n[x*2 for x in list_data]',\n",
       "  'map(lambda x: x*2, list_data)',\n",
       "  'list(map(lambda x: x*2, list_data))',\n",
       "  \"for x in map(lambda x:x*2, list_data):\\n    print(x, end=' ')\",\n",
       "  'def filter_template(func, L=[]):\\n    result = []\\n    for item in L:\\n        if func(item):\\n            result.append(func(item))\\n    return result',\n",
       "  '# def enveChk(value):\\n#     return value%2==0\\n\\nfilter_template(lambda value: value%2==0, L=list_data)',\n",
       "  '# def enveChk(value):\\n#     return value%2==0\\n\\nlist_data = [1,2,3,4,5,6,7,8,9]\\nfilter_template(lambda value: value%2==0, L=list_data)',\n",
       "  'def filter_template(func, L=[]):\\n    result = []\\n    for item in L:\\n        if func(item):\\n            result.append(item)\\n    return result',\n",
       "  '# def enveChk(value):\\n#     return value%2==0\\n\\nlist_data = [1,2,3,4,5,6,7,8,9]\\nfilter_template(lambda value: value%2==0, L=list_data)',\n",
       "  'filter(lambda x:x%2==0, list_data)',\n",
       "  'for data in filter(lambda x:x%2==0, list_data):\\n    print(data)',\n",
       "  \"for data in filter(lambda x:x%2==0, list_data):\\n    print(data, end=' ')\",\n",
       "  '# 리스트컴프리헨션 이용\\n[x for x in list_data]',\n",
       "  '# 리스트컴프리헨션 이용\\n[x for x in list_data if x%2==0]',\n",
       "  '# 리스트컴프리헨션 이용\\n[x for x in list_data if x%2!=0]',\n",
       "  '# 리스트컴프리헨션 이용\\n[x for x in list_data if x%2==0]',\n",
       "  '# quiz : 다음 리스트에서 소주점 이하가 0인 수만 추출하시오\\n# filter함수, 람다식 이용/ filter_template/ 리스트컴프리헨션\\nL = [1,1.2,1.5,2,3.0,10.5,100]\\nlist(filter(lambda x : x.isdist(), L))',\n",
       "  '# quiz : 다음 리스트에서 소주점 이하가 0인 수만 추출하시오\\n# filter함수, 람다식 이용/ filter_template/ 리스트컴프리헨션\\nL = [1,1.2,1.5,2,3.0,10.5,100]\\nlist(filter(lambda x : x.isdigit(), L))',\n",
       "  '# quiz : 다음 리스트에서 소주점 이하가 0인 수만 추출하시오\\n# filter함수, 람다식 이용/ filter_template/ 리스트컴프리헨션\\nL = [1,1.2,1.5,2,3.0,10.5,100]\\nlist(filter(lambda x : if x.isdigit(), L))',\n",
       "  '# quiz : 다음 리스트에서 소주점 이하가 0인 수만 추출하시오\\n# filter함수, 람다식 이용/ filter_template/ 리스트컴프리헨션\\nL = [1,1.2,1.5,2,3.0,10.5,100]\\nlist(filter(lambda x : True if x.isdigit(), L))',\n",
       "  '# quiz : 다음 리스트에서 소주점 이하가 0인 수만 추출하시오\\n# filter함수, 람다식 이용/ filter_template/ 리스트컴프리헨션\\nL = [1,1.2,1.5,2,3.0,10.5,100]\\nlist(filter(lambda x : True if x.isdigit() else False, L))',\n",
       "  '# quiz : 다음 리스트에서 소주점 이하가 0인 수만 추출하시오\\n# filter함수, 람다식 이용/ filter_template/ 리스트컴프리헨션\\nL = [1,1.2,1.5,2,3.0,10.5,100]\\nlist(filter(lambda x : True if str(x).isdigit() else False, L))',\n",
       "  '# quiz : 다음 리스트에서 소주점 이하가 0인 수만 추출하시오\\n# filter함수, 람다식 이용/ filter_template/ 리스트컴프리헨션\\nL = [1,1.2,1.5,2,3.0,10.5,100]\\nlist(filter(lambda x : str(x).isdigit(), L))',\n",
       "  '# quiz : 다음 리스트에서 소주점 이하가 0인 수만 추출하시오\\n# filter함수, 람다식 이용/ filter_template/ 리스트컴프리헨션\\nL = [1,1.2,1.5,2,3.0,10.5,100]\\nlist(filter(lambda x : x%1.0==0, L))',\n",
       "  '# quiz : 다음 리스트에서 소주점 이하가 0인 수만 추출하시오\\n# filter함수, 람다식 이용/ filter_template/ 리스트컴프리헨션\\nL = [1,1.2,1.5,2,3.0,10.5,100]\\nprint(list(filter(lambda x : x%1.0==0, L)))\\nprint(filter_template(lambda x:x%1.0==0,L))',\n",
       "  '# quiz : 다음 리스트에서 소주점 이하가 0인 수만 추출하시오\\n# filter함수, 람다식 이용/ filter_template/ 리스트컴프리헨션\\nL = [1,1.2,1.5,2,3.0,10.5,100]\\nprint(list(filter(lambda x : x%1.0==0, L)))\\nprint(filter_template(lambda x:x%1.0==0,L))\\nprint([x for x in L if x%1.0==0])',\n",
       "  '# quiz : 다음 리스트에서 소주점 이하가 0인 수만 추출하시오\\n# filter함수, 람다식 이용/ filter_template/ 리스트컴프리헨션\\nL = [1,1.2,1.5,2,3.0,10.5,100]\\nprint(list(filter(lambda x : x%1.0==0, L)))\\nprint(filter_template(lambda x:x == round(x),L))\\nprint([x for x in L if x%1.0==0])',\n",
       "  '# quiz : 다음 리스트에서 소주점 이하가 0인 수만 추출하시오\\n# filter함수, 람다식 이용/ filter_template/ 리스트컴프리헨션\\nL = [1,1.2,1.5,2,3.0,10.5,100]\\nprint(list(filter(lambda x : x%1.0==0, L)))\\nprint(filter_template(lambda x:x == round(x),L))\\nprint([x for x in L if x==x//1])',\n",
       "  '#예제2 : 베스트셀러 list(딕셔너리 리스트)를 가격순으로 sort\\np = [10,3,6,1]\\np.sort()\\np',\n",
       "  '#예제2 : 베스트셀러 list(딕셔너리 리스트)를 가격순으로 sort\\np = [10,3,6,1]\\np.sort(reverse=True)\\np',\n",
       "  \"pairs = [(2,'two'),(1,'oen'),(4,'four'),(3,'three')]\\npairs.sort()\\npairs\",\n",
       "  'pairs.sort(key=lambda pair : pair[1])\\npairs',\n",
       "  'pairs.sort(key=lambda pair : pair[1], reverse=True)\\npairs',\n",
       "  \"students = [{'name':'홍', 'score':99},\\n            {'name':'이', 'score':22},\\n            {'name':'김', 'score':77},\\n            {'name':'박', 'score':66}]\",\n",
       "  '#students를 이름 ㄱㄴㄷ순 정렬',\n",
       "  '#students를 이름 ㄱㄴㄷ순 정렬\\nstudendts.sort()',\n",
       "  '#students를 이름 ㄱㄴㄷ순 정렬\\nstudents.sort()',\n",
       "  '#students를 이름 ㄱㄴㄷ순 정렬\\nstudents.sort()',\n",
       "  '#students를 이름 ㄱㄴㄷ순 정렬\\nstudents.sort(key=lambda x : x.values()[1])',\n",
       "  '#students를 이름 ㄱㄴㄷ순 정렬\\nstudents.sort(key=lambda x : x.values()[0])',\n",
       "  '#students를 이름 ㄱㄴㄷ순 정렬\\nstudents.sort(key=lambda x : x.values())',\n",
       "  \"#students를 이름 ㄱㄴㄷ순 정렬\\nstudents.sort(key=lambda x : x['name'])\",\n",
       "  \"#students를 이름 ㄱㄴㄷ순 정렬\\nstudents.sort(key=lambda x : x['name'])\\nstudents\",\n",
       "  \"#students를 score순 내림차순\\nstudents.sort(key=lambda x : x['score'],reverse=True)\\nstudents\",\n",
       "  \"#students를 score순 오름차순\\nstudents.sort(key=lambda x : x['score'])\\nstudents\",\n",
       "  \"#students를 이름 ㄱㄴㄷ순 정렬\\nstudents.sort(key=lambda student : student['name'])\\nstudents\",\n",
       "  \"#students를 score순 내림차순\\nstudents.sort(key=lambda student : student['score'],reverse=True)\\nstudents\",\n",
       "  \"#students를 score순 오름차순\\nstudents.sort(key=lambda student : student['score'])\\nstudents\",\n",
       "  \"#students를 score순 내림차순\\nstudents.sort(key=lambda student : student['score'],reverse=True)\\nstudents\",\n",
       "  \"#students를 score순 내림차순\\nstudents.sort(key=lambda student : student.get('score',reverse=True)\\nstudents\",\n",
       "  \"#students를 score순 내림차순\\nstudents.sort(key=lambda student : student.get('score'),reverse=True)\\nstudents\",\n",
       "  \"books = [{'no':1,'title':'소년이 온다', 'writer':'한강', 'price':'13,500'},\\n         {'no':3,'title':'트럼프2,0시대', 'writer':'박종훈', 'price':'18,000'},\\n         {'no':2,'title':'트렌드코리아2025', 'writer':'김난도', 'price':'18,100'},\\n         {'no':4,'title':'가격잘못', 'writer':'홍길동', 'price':'ㅁ'},\\n         {'no':5,'title':'가격이없음', 'writer':'신길동', 'price':'None예정'}]\",\n",
       "  \"books.sort(key=lambda book : book.get('no'))\",\n",
       "  \"books.sort(key=lambda book : book.get('no'))\\nbooks\",\n",
       "  \"books.sort(key=lambda book : book.get('title'))\\nbooks\",\n",
       "  \"books.sort(key=lambda book : book.get('writer'))\\nbooks\",\n",
       "  \"books = [{'no':1,'title':'소년이 온다', 'writer':'한강', 'price':'13,500'},\\n         {'no':3,'title':'트럼프2,0시대', 'writer':'박종훈', 'price':'18,000'},\\n         {'no':2,'title':'트렌드코리아2025', 'writer':'김난도', 'price':'9,100'},\\n         {'no':4,'title':'가격잘못', 'writer':'홍길동', 'price':'ㅁ'},\\n         {'no':5,'title':'가격이없음', 'writer':'신길동', 'price':'None예정'}]\",\n",
       "  \"books.sort(key=lambda book : book.get('no'))\\nbooks\",\n",
       "  \"books.sort(key=lambda book : book.get('title'))\\nbooks\",\n",
       "  \"books.sort(key=lambda book : book.get('writer'))\\nbooks\",\n",
       "  \"books.sort(key=lambda book : book.get('price'))\\nbooks\",\n",
       "  \"books.sort(key=lambda book : book.get('price'), reverse=True)\\nbooks\",\n",
       "  \"books = [{'no':1,'title':'소년이 온다', 'writer':'한강', 'price':'13,500'},\\n         {'no':3,'title':'트럼프2,0시대', 'writer':'박종훈', 'price':'18,000'},\\n         {'no':2,'title':'트렌드코리아2025', 'writer':'김난도', 'price':'9,100'},\\n         {'no':4,'title':'가격잘못', 'writer':'홍길동', 'price':'ㅁ'},\\n         {'no':5,'title':'가격이없음', 'writer':'신길동'}]\",\n",
       "  \"books = [{'no':1,'title':'소년이 온다', 'writer':'한강', 'price':'13,500'},\\n         {'no':3,'title':'트럼프2,0시대', 'writer':'박종훈', 'price':'18,000'},\\n         {'no':2,'title':'트렌드코리아2025', 'writer':'김난도', 'price':'9,100'},\\n         {'no':4,'title':'가격잘못', 'writer':'홍길동', 'price':'ㅁ'},\\n         {'no':6,'title':'가격이없음', 'writer':'신길동', 'price':9200},\\n         {'no':5,'title':'가격이없음', 'writer':'신길동'}]\",\n",
       "  \"books = [{'no':1,'title':'소년이 온다', 'writer':'한강', 'price':'13,500'},\\n         {'no':3,'title':'트럼프2,0시대', 'writer':'박종훈', 'price':'18,000'},\\n         {'no':2,'title':'트렌드코리아2025', 'writer':'김난도', 'price':'9,100'},\\n         {'no':4,'title':'가격잘못', 'writer':'홍길동', 'price':'ㅁ'},\\n         {'no':6,'title':'가격이없음', 'writer':'신길동', 'price':9200},\\n         {'no':5,'title':'가격이없음', 'writer':'신길동'}]\",\n",
       "  \"books.sort(key=lambda book:book.get('price'))\\nbooks\",\n",
       "  \"books = [{'no':1,'title':'소년이 온다', 'writer':'한강', 'price':'13,500'},\\n         {'no':3,'title':'트럼프2,0시대', 'writer':'박종훈', 'price':'18,000'},\\n         {'no':2,'title':'트렌드코리아2025', 'writer':'김난도', 'price':'9,100'},\\n         {'no':4,'title':'가격잘못', 'writer':'홍길동', 'price':'ㅁ'},\\n         {'no':6,'title':'가격이숫자', 'writer':'신길동', 'price':9200},\\n         {'no':5,'title':'가격이없음', 'writer':'이길동'}]\",\n",
       "  \"def parse_int(price):\\n    print(type(price))\\nparse_int('ㅁ'), parse_int(None), parse_int(9200), parse_int('13,500')\",\n",
       "  \"def parse_int(price):\\n    if isinstance(price, str):\\n        print(price)\\nparse_int('ㅁ'), parse_int(None), parse_int(9200), parse_int('13,500')\",\n",
       "  \"parse_int('ㅁ'), parse_int(None), parse_int(9200), parse_int('13,500')\",\n",
       "  \"# & : 논리연산, 비트연산, 집합연산\\n# and : 논리연산\\n\\ndef parse_int(price):\\n    if isinstance(price, str) and price.replace(',','').isdigit():\\n        print(price)\",\n",
       "  \"parse_int('ㅁ'), parse_int(None), parse_int(9200), parse_int('13,500')\",\n",
       "  \"# & : 논리연산, 비트연산, 집합연산이 모두 가능함으로, 좌항이 False여도 우항이 숫자면 비트연산을 수행해야함으로 우항을 수행함\\n# and : 논리연산의 역할만 하여, 좌항이 False면 우항 수행 안 함.\\n\\ndef parse_int(price):\\n    if isinstance(price, str) and price.replace(',','').isdigit():\\n        return int(price.replace(',',''))\\n    elif isinstance(price,int):\\n        return price\\n    else:\\n        return 0\",\n",
       "  \"parse_int('ㅁ'), parse_int(None), parse_int(9200), parse_int('13,500')\",\n",
       "  \"books.sort(key=lambda book: parse_int(book.get('price')))\\nbooks\",\n",
       "  'parse_int_tast = lambda book : book.get(price)\\n[parse_int_tast for book in books]',\n",
       "  \"parse_int_tast = lambda book : int(book.get(price).replace(',','')) if isinstance(price, str) and price.replace(',','').isdigit(): else\\\\\\n(price if isinstance(price,int) else 0)\\n[parse_int_tast for book in books]\",\n",
       "  \"parse_int_tast = lambda book : int(book.get(price).replace(',','')) if isinstance(price, str) and price.replace(',','').isdigit() else\\\\\\n(price if isinstance(price,int) else 0)\\n[parse_int_tast for book in books]\",\n",
       "  \"parse_int_tast = lambda book : int(book.get(price).replace(',','')) if isinstance(price, str) and price.replace(',','').isdigit() else\\\\\\n(price if isinstance(price,int) else 0)\\n[parse_int_tast(book.get(price) for book in books]\",\n",
       "  \"parse_int_tast = lambda book : int(book.get(price).replace(',','')) if isinstance(price, str) and price.replace(',','').isdigit() else\\\\\\n(price if isinstance(price,int) else 0)\\n[parse_int_tast(book.get(price)) for book in books]\",\n",
       "  \"parse_int_tast = lambda book : int(book.get(price).replace(',','')) if isinstance(price, str) and price.replace(',','').isdigit() else\\\\\\n(price if isinstance(price,int) else 0)\\n[parse_int_tast(book.get('price')) for book in books]\",\n",
       "  \"parse_int_tast = lambda book : int(book.get(price).replace(',','')) if isinstance(price, str) and price.replace(',','').isdigit() else\\\\\\n(price if isinstance(price,int) else 0)\\n[parse_int_tast(book.get('price')) for book in books]\",\n",
       "  \"parse_int_tast = lambda book : int(book.get(price).replace(',','')) \\\\\\n                                if isinstance(price, str) and price.replace(',','').isdigit() else\\\\\\n                                (price if isinstance(price,int) else 0)\\n[parse_int_tast(book.get('price')) for book in books]\",\n",
       "  \"parse_int_tast = lambda book : int(book.get(price).replace(',','')) \\\\\\n                                if isinstance(price, str) and price.replace(',','').isdigit() else\\\\\\n                                (price if isinstance(price,int) else 0)\\n[parse_int_tast(book) for book in books]\",\n",
       "  \"parse_int_tast = lambda book : int(book.get(price).replace(',','')) \\\\\\n                                if isinstance(price, str) and price.replace(',','').isdigit() else\\\\\\n                                (price if isinstance(price,int) else 0)\\n[parse_int_tast(book.get('price')) for book in books]\",\n",
       "  \"parse_int_tast = lambda book : int(book.get(price).replace(',','')) \\\\\\n                                if isinstance(price, str) and price.replace(',','').isdigit() else 0\\n[parse_int_tast(book.get('price')) for book in books]\",\n",
       "  \"parse_int_tast = lambda book : int(book.get('price').replace(',','')) \\\\\\n                                if isinstance(price, str) and price.replace(',','').isdigit() else\\\\\\n                                (price if isinstance(price,int) else 0)\\n[parse_int_tast(book.get('price')) for book in books]\",\n",
       "  \"parse_int_tast = lambda book : int(book.get('price').replace(',','')) \\\\\\n                                if isinstance(book.get('price'), str) and book.get('price').replace(',','').isdigit() else\\\\\\n                                (price if isinstance(book.get('price'),int) else 0)\\n[parse_int_tast(book.get('price')) for book in books]\",\n",
       "  \"parse_int_tast = lambda book : int(book.get('price').replace(',','')) \\\\\\n                                if isinstance(book.get('price'), str) and book.get('price').replace(',','').isdigit() else\\\\\\n                                (price if isinstance(book.get('price'),int) else 0)\\n[parse_int_tast(book) for book in books]\",\n",
       "  \"parse_int_tast = lambda book : int(book.get('price').replace(',','')) \\\\\\n                                if isinstance(book.get('price'), str) and book.get('price').replace(',','').isdigit() else\\\\\\n                                (book.get('price') if isinstance(book.get('price'),int) else 0)\\n[parse_int_tast(book) for book in books]\",\n",
       "  \"books = [{'no':1,'title':'소년이 온다', 'writer':'한강', 'price':'13,500'},\\n         {'no':3,'title':'트럼프2,0시대', 'writer':'박종훈', 'price':'18,000'},\\n         {'no':2,'title':'트렌드코리아2025', 'writer':'김난도', 'price':'9,100'},\\n         {'no':4,'title':'가격잘못', 'writer':'홍길동', 'price':'ㅁ'},\\n         {'no':6,'title':'가격이숫자', 'writer':'신길동', 'price':9200},\\n         {'no':5,'title':'가격이없음', 'writer':'이길동'}]\",\n",
       "  \"parse_int_tast = lambda book : int(book.get('price').replace(',','')) \\\\\\n                                if isinstance(book.get('price'), str) and book.get('price').replace(',','').isdigit() else\\\\\\n                                (book.get('price') if isinstance(book.get('price'),int) else 0)\\n[parse_int_tast(book) for book in books]\",\n",
       "  'copyBooks = books.copy()\\ncopyBooks.sort(key=lambda parse_in)',\n",
       "  \"copyBooks = books.copy()\\ncopyBooks.sort(key=lambda book : int(book.get('price').replace(',',''))\\\\\\n                                  if isinstance(book.get('price'), str) and book.get('price').replace(',','').isdigit()\\\\\\n                                  else (book.get('price') if isinstance(book.get('price'), int) else 0))\",\n",
       "  \"copyBooks = books.copy()\\ncopyBooks.sort(key=lambda book : int(book.get('price').replace(',',''))\\\\\\n                                  if isinstance(book.get('price'), str) and book.get('price').replace(',','').isdigit()\\\\\\n                                  else (book.get('price') if isinstance(book.get('price'), int) else 0))\\ncopyBooks\",\n",
       "  \"copyBooks = books.copy()\\ncopyBooks.sort(key=lambda book : int(book.get('price').replace(',',''))\\\\\\n                                  if isinstance(book.get('price'), str) and book.get('price').replace(',','').isdigit()\\\\\\n                                  else (book.get('price') if isinstance(book.get('price'), int) else 0), reverse=True)\\ncopyBooks\",\n",
       "  \"copyBooks = books.copy()\\ncopyBooks.sort(key=lambda book : int(book.get('price').replace(',',''))\\\\\\n                                  if isinstance(book.get('price'), str) and book.get('price').replace(',','').isdigit()\\\\\\n                                  else (book.get('price') if isinstance(book.get('price'), int) else 0), reverse=True)\\nprint(copyBooks)\\nbooks\",\n",
       "  \"copyBooks = books.copy()\\ncopyBooks.sort(key=lambda book : int(book.get('price').replace(',',''))\\\\\\n                                  if isinstance(book.get('price'), str) and book.get('price').replace(',','').isdigit()\\\\\\n                                  else (book.get('price') if isinstance(book.get('price'), int) else 0), reverse=True)\\nprint(copyBooks)\",\n",
       "  \"copyBooks = books.copy()\\ncopyBooks.sort(key=lambda book : int(book.get('price').replace(',',''))\\\\\\n                                  if isinstance(book.get('price'), str) and book.get('price').replace(',','').isdigit()\\\\\\n                                  else (book.get('price') if isinstance(book.get('price'), int) else 0), reverse=True)\\nprint(copyBooks, sep='\\\\n')\",\n",
       "  \"copyBooks = books.copy()\\ncopyBooks.sort(key=lambda book : int(book.get('price').replace(',',''))\\\\\\n                                  if isinstance(book.get('price'), str) and book.get('price').replace(',','').isdigit()\\\\\\n                                  else (book.get('price') if isinstance(book.get('price'), int) else 0), reverse=True)\\ncopyBooks\",\n",
       "  \"def price_parse_int(book):\\n    # book.get(price)를 정수 가격으로 바꾸기 (방법1)\\n    if isinstance(book.get('price'), str) and book.get('price').replace(',','').isdigit():\\n        book['price'] = int(book['price'].replace(',',''))\\n        return book\\n    elif isinstance(book.get('price'), int):\\n        pass\\n    else :\\n        book['price'] = 0\\n    return book\\n    # book2 복사본을 만들어 book.get(price)를 정수 가격으로 바꾸기 (방법2)\\n    # return book2\",\n",
       "  \"price_parse_int({'no': 3, 'title': '트럼프2,0시대', 'writer': '박종훈', 'price': '18,000'})\",\n",
       "  \"price_parse_int({'no': 3, 'title': '트럼프2,0시대', 'writer': '박종훈'})\",\n",
       "  \"price_parse_int({'no': 3, 'title': '트럼프2,0시대', 'writer': '박종훈', 'price': 18000})\",\n",
       "  \"price_parse_int({'no': 3, 'title': '트럼프2,0시대', 'writer': '박종훈', 'price': 'a'})\",\n",
       "  \"def price_parse_int(book):\\n    # book.get(price)를 정수 가격으로 바꾸기 (방법1)\\n    if isinstance(book.get('price'), str) and book.get('price').replace(',','').isdigit():\\n        book['price'] = int(book['price'].replace(',',''))\\n    elif isinstance(book.get('price'), int):\\n        pass\\n    else :\\n        book['price'] = 0\\n    return book\\n    # book2 복사본을 만들어 book.get(price)를 정수 가격으로 바꾸기 (방법2)\\n    # return book2\",\n",
       "  \"def price_parse_int(book):\\n    # book.get(price)를 정수 가격으로 바꾸기 (방법1)\\n    if isinstance(book.get('price'), str) and book.get('price').replace(',','').isdigit():\\n        book['price'] = int(book['price'].replace(',',''))\\n    elif isinstance(book.get('price'), int):\\n        pass\\n    else :\\n        book['price'] = 0\\n    return book\\n    # book2 복사본을 만들어 book.get(price)를 정수 가격으로 바꾸기 (방법2)\\n    # return book2\",\n",
       "  \"price_parse_int({'no': 3, 'title': '트럼프2,0시대', 'writer': '박종훈', 'price': 'a'})\",\n",
       "  \"def price_parse_int(book):\\n    return {'no':book.get('no'),'title':book.get('title'),'writer':book.get('writer'),'price': int(book.get('price').replace(',','')) \\\\\\n                                                                if isinstance(book.get('price'), str) and book.get('price').replace(',','').isdigit()\\\\\\n                                                                else (book.get('price') if isinstance(book.get('price'), int)\\\\\\n                                                                      else book.get('price') = 0)}\",\n",
       "  \"def price_parse_int(book):\\n    return {'no':book.get('no'),'title':book.get('title'),'writer':book.get('writer'),'price': int(book.get('price').replace(',','')) \\\\\\n                                                                if isinstance(book.get('price'), str) and book.get('price').replace(',','').isdigit()\\\\\\n                                                                else (book.get('price') if isinstance(book.get('price'), int)\\\\\\n                                                                      else 0)}\",\n",
       "  \"price_parse_int({'no': 3, 'title': '트럼프2,0시대', 'writer': '박종훈', 'price': 'a'})\",\n",
       "  \"price_parse_int = lambda book : 'no':book.get('no'),'title':book.get('title'),'writer':book.get('writer'),'price': int(book.get('price').replace(',','')) \\\\\\n                                                                if isinstance(book.get('price'), str) and book.get('price').replace(',','').isdigit()\\\\\\n                                                                else (book.get('price') if isinstance(book.get('price'), int)\\\\\\n                                                                      else 0)\",\n",
       "  \"price_parse_int = lambda book : {'no':book.get('no'),'title':book.get('title'),'writer':book.get('writer'),'price': int(book.get('price').replace(',','')) \\\\\\n                                                                if isinstance(book.get('price'), str) and book.get('price').replace(',','').isdigit()\\\\\\n                                                                else (book.get('price') if isinstance(book.get('price'), int)\\\\\\n                                                                      else 0)}\",\n",
       "  \"price_parse_int({'no': 3, 'title': '트럼프2,0시대', 'writer': '박종훈', 'price': 'a'})\",\n",
       "  \"def price_parse_int(book):\\n    # book.get(price)를 정수 가격으로 바꾸기 (방법1)\\n    if isinstance(book.get('price'), str) and book.get('price').replace(',','').isdigit():\\n        book['price'] = int(book['price'].replace(',',''))\\n    elif isinstance(book.get('price'), int):\\n        pass\\n    else :\\n        book['price'] = 0\\n    return book\",\n",
       "  \"price_parse_int = lambda book : {'no':book.get('no'),'title':book.get('title'),'writer':book.get('writer'),'price': int(book.get('price').replace(',','')) \\\\\\n                                                                if isinstance(book.get('price'), str) and book.get('price').replace(',','').isdigit()\\\\\\n                                                                else (book.get('price') if isinstance(book.get('price'), int)\\\\\\n                                                                      else 0)}\",\n",
       "  \"price_parse_int({'no': 3, 'title': '트럼프2,0시대', 'writer': '박종훈', 'price': 'a'})\",\n",
       "  \"price_parse_int = lambda book : {'no':book.get('no'),'title':book.get('title'),'writer':book.get('writer'),'price': int(book.get('price').replace(',','')) \\\\\\n                                                                if isinstance(book.get('price'), str) and book.get('price').replace(',','').isdigit()\\\\\\n                                                                else (book.get('price') if isinstance(book.get('price'), int)\\\\\\n                                                                      else 0)}\",\n",
       "  \"bookTemp = {'no': 3, 'title': '트럼프2,0시대', 'writer': '박종훈', 'price': 'a'}\\nreturnbook = price_parse_int(bookTemp)\",\n",
       "  \"bookTemp = {'no': 3, 'title': '트럼프2,0시대', 'writer': '박종훈', 'price': 'a'}\\nreturnbook = price_parse_int(bookTemp)\\nreturnbook\",\n",
       "  'bookTemp',\n",
       "  \"map(lambda book : {'no':book.get('no'),'title':book.get('title'),'writer':book.get('writer'),'price': int(book.get('price').replace(',','')) \\\\\\n                                                                if isinstance(book.get('price'), str) and book.get('price').replace(',','').isdigit()\\\\\\n                                                                else (book.get('price') if isinstance(book.get('price'), int)\\\\\\n                                                                      else 0)}, book)\",\n",
       "  \"map(lambda book : {'no':book.get('no'),'title':book.get('title'),'writer':book.get('writer'),'price': int(book.get('price').replace(',','')) \\\\\\n                                                                if isinstance(book.get('price'), str) and book.get('price').replace(',','').isdigit()\\\\\\n                                                                else (book.get('price') if isinstance(book.get('price'), int)\\\\\\n                                                                      else 0)}, books)\",\n",
       "  \"map(lambda book : {'no':book.get('no'),'title':book.get('title'),'writer':book.get('writer'),'price': int(book.get('price').replace(',','')) \\\\\\n                                                                if isinstance(book.get('price'), str) and book.get('price').replace(',','').isdigit()\\\\\\n                                                                else (book.get('price') if isinstance(book.get('price'), int)\\\\\\n                                                                      else 0)}, books)\\nbooks\",\n",
       "  \"copyBooks = map(lambda book : {'no':book.get('no'),'title':book.get('title'),'writer':book.get('writer'),'price': int(book.get('price').replace(',','')) \\\\\\n                                                                if isinstance(book.get('price'), str) and book.get('price').replace(',','').isdigit()\\\\\\n                                                                else (book.get('price') if isinstance(book.get('price'), int)\\\\\\n                                                                      else 0)}, books)\\nbooks\",\n",
       "  'copyBooks',\n",
       "  'print(copyBooks)',\n",
       "  'print(list(copyBooks))',\n",
       "  'list(copyBooks)',\n",
       "  'print(list(copyBooks))',\n",
       "  \"copyBooks = map(lambda book : {'no':book.get('no'),'title':book.get('title'),'writer':book.get('writer'),'price': int(book.get('price').replace(',','')) \\\\\\n                                                                if isinstance(book.get('price'), str) and book.get('price').replace(',','').isdigit()\\\\\\n                                                                else (book.get('price') if isinstance(book.get('price'), int)\\\\\\n                                                                      else 0)}, books)\\nbooks\",\n",
       "  'print(list(copyBooks))',\n",
       "  \"copyBooks = map(lambda book : {'no':book.get('no'),'title':book.get('title'),'writer':book.get('writer'),'price': int(book.get('price').replace(',','')) \\\\\\n                                                                                            if isinstance(book.get('price'), str) and book.get('price').replace(',','').isdigit()\\\\\\n                                                                                            else (book.get('price') if isinstance(book.get('price'), int)\\\\\\n                                                                                            else 0)}, books)\\nbooks\",\n",
       "  'print(list(copyBooks))',\n",
       "  \"copyBooks = list(map(lambda book : {'no':book.get('no'),'title':book.get('title'),'writer':book.get('writer'),'price': int(book.get('price').replace(',','')) \\\\\\n                                                                                            if isinstance(book.get('price'), str) and book.get('price').replace(',','').isdigit()\\\\\\n                                                                                            else (book.get('price') if isinstance(book.get('price'), int)\\\\\\n                                                                                            else 0)}, books))\\nbooks\",\n",
       "  'copyBooks',\n",
       "  \"members = [{'name':'홍길동', 'birth':'2000-01-01'},\\n          {'name':'신길동', 'birth':'1995-12-18'}]\\ndef \",\n",
       "  \"members = [{'name':'홍길동', 'birth':'2000-01-01'},\\n          {'name':'신길동', 'birth':'1995-12-18'}]\\ndef members_birth_split (member):\\n    return member\",\n",
       "  \"members = [{'name':'홍길동', 'birth':'2000-01-01'},\\n          {'name':'신길동', 'birth':'1995-12-18'}]\\ndef members_birth_split (member):\\n    if isinstance(member.get('birth'), str):\\n        print(member['birth'].split('-'))\",\n",
       "  \"members = [{'name':'홍길동', 'birth':'2000-01-01'},\\n          {'name':'신길동', 'birth':'1995-12-18'}]\\ndef members_birth_split (member):\\n    if isinstance(member.get('birth'), str):\\n        print(member['birth'].split('-'))\\nmembers_birth_split(members)\",\n",
       "  \"members = [{'name':'홍길동', 'birth':'2000-01-01'},\\n          {'name':'신길동', 'birth':'1995-12-18'}]\\ndef members_birth_split (member):\\n    if isinstance(member.get('birth'), str):\\n        print(member['birth'].split('-'))\\nmembers_birth_split({'name':'홍길동', 'birth':'2000-01-01'})\",\n",
       "  \"members = [{'name':'홍길동', 'birth':'2000-01-01'},\\n          {'name':'신길동', 'birth':'1995-12-18'}]\\ndef members_birth_split (member):\\n    if isinstance(member.get('birth'), str):\\n        splited_member_birth = member['birth'].split('-')\\n        for i in range(len(splited_member_birth)):\\n            splited_member_birth[i] = int(splited_member_birth[i])\\n    print(splited_member_birth)\",\n",
       "  \"members_birth_split({'name':'홍길동', 'birth':'2000-01-01'})\",\n",
       "  \"members = [{'name':'홍길동', 'birth':'2000-01-01'},\\n          {'name':'신길동', 'birth':'1995-12-18'}]\\ndef members_birth_split (member):\\n    if isinstance(member.get('birth'), str):\\n        splited_member_birth = member['birth'].split('-')\\n        for i in range(len(splited_member_birth)):\\n            splited_member_birth[i] = int(splited_member_birth[i])\\n    return {'name':member.get('name'), 'birth':member.get('birth'), 'year':splited_member_birth[0], 'month':splited_member_birth[1], 'day':splited_member_birth[2]}\",\n",
       "  \"members_birth_split({'name':'홍길동', 'birth':'2000-01-01'})\",\n",
       "  \"members_birth_split = lambda member : {'name':member.get('name'), 'birth':member.get('birth'), \\\\\\n                                       'year':[year for member.get('birth').split('-')[0] if isinstance(member.get('birth'), str)], \\\\\\n                                       'month':[month for member.get('birth').split('-')[1] if isinstance(member.get('birth'), str)], \\\\\\n                                       'day':[day for member.get('birth').split('-')[2] if isinstance(member.get('birth'), str)]}\",\n",
       "  \"members_birth_split = lambda member : {'name':member.get('name'), 'birth':member.get('birth'), \\\\\\n                                       'year':[year for member.get('birth').split('-')[0] if isinstance(member.get('birth'), str) else 0], \\\\\\n                                       'month':[month for member.get('birth').split('-')[1] if isinstance(member.get('birth'), str) else 0], \\\\\\n                                       'day':[day for member.get('birth').split('-')[2] if isinstance(member.get('birth'), str) else 0]}\",\n",
       "  \"members_birth_split = lambda member : {'name':member.get('name'), 'birth':member.get('birth'), \\\\\\n                                       'year':[birth for member.get('birth').split('-')[0] if isinstance(member.get('birth'), str) else 0], \\\\\\n                                       'month':[birth for member.get('birth').split('-')[1] if isinstance(member.get('birth'), str) else 0], \\\\\\n                                       'day':[birth for member.get('birth').split('-')[2] if isinstance(member.get('birth'), str) else 0]}\",\n",
       "  \"members_birth_split = lambda member : {'name':member.get('name'), 'birth':member.get('birth'), \\\\\\n                                       'year':[birth for member.get('birth').split('-')[0] if isinstance(member.get('birth'), str) else 0], \\\\\\n                                       'month':[birth for member.get('birth').split('-')[1] if isinstance(member.get('birth'), str) else 0], \\\\\\n                                       'day':[birth for member.get('birth').split('-')[2] if isinstance(member.get('birth'), str) else 0]}\",\n",
       "  \"members_birth_split = lambda member : {'name':member.get('name'), 'birth':member.get('birth'), \\\\\\n                                       'year':[year for year in member.get('birth').split('-')[0] if isinstance(member.get('birth'), str) else 0], \\\\\\n                                       'month':[month for month in member.get('birth').split('-')[1] if isinstance(member.get('birth'), str) else 0], \\\\\\n                                       'day':[day for day in member.get('birth').split('-')[2] if isinstance(member.get('birth'), str) else 0]}\",\n",
       "  \"members_birth_split = lambda member : {'name':member.get('name'), 'birth':member.get('birth'), \\\\\\n                                       'year':[year for year in member.get('birth').split('-')[0] if isinstance(member.get('birth'), str)], \\\\\\n                                       'month':[month for month in member.get('birth').split('-')[1] if isinstance(member.get('birth'), str)], \\\\\\n                                       'day':[day for day in member.get('birth').split('-')[2] if isinstance(member.get('birth'), str)]}\",\n",
       "  \"members_birth_split({'name':'홍길동', 'birth':'2000-01-01'})\",\n",
       "  \"members_birth_split = lambda member : {'name':member.get('name'), 'birth':member.get('birth'), \\\\\\n                                       'year':[''.join(year) for year in member.get('birth').split('-')[0] if isinstance(member.get('birth'), str)], \\\\\\n                                       'month':[month for month in member.get('birth').split('-')[1] if isinstance(member.get('birth'), str)], \\\\\\n                                       'day':[day for day in member.get('birth').split('-')[2] if isinstance(member.get('birth'), str)]}\",\n",
       "  \"members_birth_split({'name':'홍길동', 'birth':'2000-01-01'})\",\n",
       "  \"members_birth_split = lambda member : {'name':member.get('name'), 'birth':member.get('birth'), \\\\\\n                                       'year':[''.join(year) for year in member.get('birth').split('-')[0] if isinstance(member.get('birth'), str)], \\\\\\n                                       'month':[month for month in member.get('birth').split('-')[1] if isinstance(member.get('birth'), str)], \\\\\\n                                       'day':[day for day in member.get('birth').split('-')[2] if isinstance(member.get('birth'), str)]}\",\n",
       "  \"members_birth_split({'name':'홍길동', 'birth':'2000-01-01'})\",\n",
       "  \"members = [{'name':'홍길동', 'birth':'2000-01-01'},\\n          {'name':'신길동', 'birth':'1995-12-18'}]\\ndef members_birth_split (member):\\n    if isinstance(member.get('birth'), str):\\n        splited_member_birth = member['birth'].split('-')\\n        for i in range(len(splited_member_birth)):\\n            splited_member_birth[i] = int(splited_member_birth[i])\\n    return {'name':member.get('name'), 'birth':member.get('birth'), 'year':splited_member_birth[0], 'month':splited_member_birth[1], 'day':splited_member_birth[2]}\",\n",
       "  \"members_birth_split({'name':'홍길동', 'birth':'2000-01-01'})\",\n",
       "  \"members_birth_split = lambda member : {'name':member.get('name'), 'birth':member.get('birth'), \\\\\\n                                       'year':year for year in member.get('birth').split('-')[0] if isinstance(member.get('birth'), str), \\\\\\n                                       'month':[month for month in member.get('birth').split('-')[1] if isinstance(member.get('birth'), str)], \\\\\\n                                       'day':[day for day in member.get('birth').split('-')[2] if isinstance(member.get('birth'), str)]}\",\n",
       "  \"members_birth_split = lambda member : {'name':member.get('name'), 'birth':member.get('birth'), \\\\\\n                                       'year':member['birth'].split('-')[0] if isinstance(member.get('birth'), str), \\\\\\n                                       'month':[month for month in member.get('birth').split('-')[1] if isinstance(member.get('birth'), str)], \\\\\\n                                       'day':[day for day in member.get('birth').split('-')[2] if isinstance(member.get('birth'), str)]}\",\n",
       "  \"members_birth_split = lambda member : {'name':member.get('name'), 'birth':member.get('birth'), \\\\\\n                                       'year':member.get('birth').split('-')[0] if isinstance(member.get('birth'), str), \\\\\\n                                       'month':[month for month in member.get('birth').split('-')[1] if isinstance(member.get('birth'), str)], \\\\\\n                                       'day':[day for day in member.get('birth').split('-')[2] if isinstance(member.get('birth'), str)]}\",\n",
       "  \"members_birth_split = lambda member : {'name':member.get('name'), 'birth':member.get('birth'), \\\\\\n                                       'year':member.get('birth').split('-')[0] if isinstance(member.get('birth'), str) else 0, \\\\\\n                                       'month':[month for month in member.get('birth').split('-')[1] if isinstance(member.get('birth'), str)], \\\\\\n                                       'day':[day for day in member.get('birth').split('-')[2] if isinstance(member.get('birth'), str)]}\",\n",
       "  \"members_birth_split({'name':'홍길동', 'birth':'2000-01-01'})\",\n",
       "  \"members_birth_split = lambda member : {'name':member.get('name'), 'birth':member.get('birth'), \\\\\\n                                       'year':member.get('birth').split('-')[0] if isinstance(member.get('birth'), str) else 0, \\\\\\n                                       'month':member.get('birth').split('-')[1] if isinstance(member.get('birth'), str) else 0, \\\\\\n                                       'day':member.get('birth').split('-')[2] if isinstance(member.get('birth'), str) else 0}\",\n",
       "  \"members_birth_split({'name':'홍길동', 'birth':'2000-01-01'})\",\n",
       "  \"members_birth_split = lambda member : {'name':member.get('name'), 'birth':member.get('birth'), \\\\\\n                                       'year':int(member.get('birth').split('-')[0]) if isinstance(member.get('birth'), str) else 0, \\\\\\n                                       'month':int(member.get('birth').split('-')[1]) if isinstance(member.get('birth'), str) else 0, \\\\\\n                                       'day':int(member.get('birth').split('-')[2]) if isinstance(member.get('birth'), str) else 0}\",\n",
       "  \"members_birth_split({'name':'홍길동', 'birth':'2000-01-01'})\",\n",
       "  \"members = [{'name':'홍길동', 'birth':'2000-01-01'},\\n          {'name':'신길동', 'birth':'1995-12-18'}]\\ndef members_birth_split (member):\\n    if isinstance(member.get('birth'), str):\\n        year, month, day = member['birth'].split('-')\\n    return {'name':member.get('name'), 'birth':member.get('birth'), 'year':year, 'month':month, 'day':day}\",\n",
       "  \"members_birth_split({'name':'홍길동', 'birth':'2000-01-01'})\",\n",
       "  \"members_birth_split = lambda member : {'name':member.get('name'), 'birth':member.get('birth'), \\\\\\n                                       'year':int(member.get('birth').split('-')[0]) if isinstance(member.get('birth'), str) else 0, \\\\\\n                                       'month':int(member.get('birth').split('-')[1]) if isinstance(member.get('birth'), str) else 0, \\\\\\n                                       'day':int(member.get('birth').split('-')[2]) if isinstance(member.get('birth'), str) else 0}\",\n",
       "  \"members = [{'name':'홍길동', 'birth':'2000-01-01'},\\n          {'name':'신길동', 'birth':'1995-12-18'}]\\ndef members_birth_split (member):\\n    if isinstance(member.get('birth'), str):\\n        int(year, month, day) = member['birth'].split('-')\\n    return {'name':member.get('name'), 'birth':member.get('birth'), 'year':year, 'month':month, 'day':day}\",\n",
       "  \"members = [{'name':'홍길동', 'birth':'2000-01-01'},\\n          {'name':'신길동', 'birth':'1995-12-18'}]\\ndef members_birth_split (member):\\n    if isinstance(member.get('birth'), str):\\n        int(year), int(month), int(day) = member['birth'].split('-')\\n    return {'name':member.get('name'), 'birth':member.get('birth'), 'year':year, 'month':month, 'day':day}\",\n",
       "  \"members = [{'name':'홍길동', 'birth':'2000-01-01'},\\n          {'name':'신길동', 'birth':'1995-12-18'}]\\ndef members_birth_split (member):\\n    if isinstance(member.get('birth'), str):\\n        year, month, day = int(member['birth'].split('-'))\\n    return {'name':member.get('name'), 'birth':member.get('birth'), 'year':year, 'month':month, 'day':day}\",\n",
       "  \"members_birth_split({'name':'홍길동', 'birth':'2000-01-01'})\",\n",
       "  \"members = [{'name':'홍길동', 'birth':'2000-01-01'},\\n          {'name':'신길동', 'birth':'1995-12-18'}]\\ndef members_birth_split (member):\\n    if isinstance(member.get('birth'), str):\\n        year, month, day = member['birth'].split('-')\\n    return {'name':member.get('name'), 'birth':member.get('birth'), 'year':year, 'month':month, 'day':day}\",\n",
       "  \"members_birth_split({'name':'홍길동', 'birth':'2000-01-01'})\",\n",
       "  \"members = [{'name':'홍길동', 'birth':'2000-01-01'},\\n          {'name':'신길동', 'birth':'1995-12-18'}]\\ndef members_birth_split (member):\\n    if isinstance(member.get('birth'), str):\\n        year, month, day = member['birth'].split('-')\\n    return {'name':member.get('name'), 'birth':member.get('birth'), 'year':int(year), 'month':int(month), 'day':int(day)}\",\n",
       "  \"members_birth_split({'name':'홍길동', 'birth':'2000-01-01'})\",\n",
       "  \"map(lambda member : {'name':member.get('name'), 'birth':member.get('birth'), \\\\\\n                                       'year':int(member.get('birth').split('-')[0]) if isinstance(member.get('birth'), str) else 0, \\\\\\n                                       'month':int(member.get('birth').split('-')[1]) if isinstance(member.get('birth'), str) else 0, \\\\\\n                                       'day':int(member.get('birth').split('-')[2]) if isinstance(member.get('birth'), str) else 0}, members)\",\n",
       "  \"copy_members=map(lambda member : {'name':member.get('name'), 'birth':member.get('birth'), \\\\\\n                                       'year':int(member.get('birth').split('-')[0]) if isinstance(member.get('birth'), str) else 0, \\\\\\n                                       'month':int(member.get('birth').split('-')[1]) if isinstance(member.get('birth'), str) else 0, \\\\\\n                                       'day':int(member.get('birth').split('-')[2]) if isinstance(member.get('birth'), str) else 0}, members)\",\n",
       "  'copy_members',\n",
       "  \"copy_members = list(map(lambda member : {'name':member.get('name'), 'birth':member.get('birth'), \\\\\\n                                       'year':int(member.get('birth').split('-')[0]) if isinstance(member.get('birth'), str) else 0, \\\\\\n                                       'month':int(member.get('birth').split('-')[1]) if isinstance(member.get('birth'), str) else 0, \\\\\\n                                       'day':int(member.get('birth').split('-')[2]) if isinstance(member.get('birth'), str) else 0}, members))\",\n",
       "  'copy_members',\n",
       "  \"def split_date(date):\\n    split_data = data.split('-')\\n    return {'year' : split_data[0],\\n            'month' : split_data[1],\\n            'day' : split_data[2],}\",\n",
       "  \"def split_date(date):\\n    split_data = data.split('-')\\n    return {'year' : int(split_data[0]),\\n            'month' : int(split_data[1]),\\n            'day' : int(split_data[2]),}\",\n",
       "  \"split_date('2001-06-18')\",\n",
       "  \"def split_date(date):\\n    split_data = date.split('-')\\n    return {'year' : int(split_data[0]),\\n            'month' : int(split_data[1]),\\n            'day' : int(split_data[2]),}\",\n",
       "  \"split_date('2001-06-18')\",\n",
       "  \"split_birth(member): # 'name', 'birth'\\n    return {\\n        'name': member.get('name'),\\n        'birth': member.get('birth'),\\n        'year': int(member.get('birth').split('-')[0]),\\n        'name': int(member.get('birth').split('-')[1]),\\n        'name': int(member.get('birth').split('-')[2]),\\n    }\",\n",
       "  \"def split_birth(member) : # 'name', 'birth'\\n    return {\\n        'name': member.get('name'),\\n        'birth': member.get('birth'),\\n        'year': int(member.get('birth').split('-')[0]),\\n        'name': int(member.get('birth').split('-')[1]),\\n        'name': int(member.get('birth').split('-')[2]),\\n    }\",\n",
       "  \"def split_birth(member) : # 'name', 'birth'\\n    return {\\n        'name': member.get('name'),\\n        'year': int(member.get('birth').split('-')[0]),\\n        'name': int(member.get('birth').split('-')[1]),\\n        'name': int(member.get('birth').split('-')[2]),\\n    }\",\n",
       "  \"def split_birth(member) : # 'name', 'birth'\\n    return {\\n        'name': member.get('name'),\\n        'year': int(member.get('birth').split('-')[0]),\\n        'month': int(member.get('birth').split('-')[1]),\\n        'day': int(member.get('birth').split('-')[2]),\\n    }\",\n",
       "  \"split_birth({'name':'홍길동', 'birth':'2000-01-01'})\",\n",
       "  \"split_birth = lambda member : {\\n        'name': member.get('name'),\\n        'year': int(member.get('birth').split('-')[0]),\\n        'month': int(member.get('birth').split('-')[1]),\\n        'day': int(member.get('birth').split('-')[2]),\\n    }\",\n",
       "  \"split_birth({'name':'홍길동', 'birth':'2000-01-01'})\",\n",
       "  \"split_birth({'name':'홍길동', 'birth':'2000-01-01'})\",\n",
       "  \"members = list(map(lambda member : {\\n        'name': member.get('name'),\\n        'year': int(member.get('birth').split('-')[0]),\\n        'month': int(member.get('birth').split('-')[1]),\\n        'day': int(member.get('birth').split('-')[2]),\\n    }, members))\\nmembers\",\n",
       "  \"def join_date(date):\\n    return '{}-{}-{}'.format(date.get('year'),date.get('month'),date.get('day'))\",\n",
       "  \"join_date({'name': '홍길동', 'year': 2000, 'month': 1, 'day': 1})\",\n",
       "  \"def join_date(date):\\n    return '{}-{:02}-{:02}'.format(date.get('year'),date.get('month'),date.get('day'))\",\n",
       "  \"join_date({'name': '홍길동', 'year': 2000, 'month': 1, 'day': 1})\",\n",
       "  \"def join_date(date):\\n    return '{year}-{month:02}-{day:02}'.format(**date)\",\n",
       "  \"join_date({'name': '홍길동', 'year': 2000, 'month': 1, 'day': 1})\",\n",
       "  \"def join_birth(member):\\n    name = member['name']\\n    del member['name']\\n    print(member)\",\n",
       "  \"join_date({'name': '홍길동', 'year': 2000, 'month': 1, 'day': 1})\",\n",
       "  \"join_birth({'name': '홍길동', 'year': 2000, 'month': 1, 'day': 1})\",\n",
       "  \"def join_birth(member):\\n    name = member['name']\\n    del member['name']\\n    print(member)\\n    join_date = '{year}-{month:02}-{day:02}'.format(**member)\",\n",
       "  \"join_birth({'name': '홍길동', 'year': 2000, 'month': 1, 'day': 1})\",\n",
       "  \"members = list(map(lambda member : {'name':member.get('name')\\\\\\n                                    'birth':'{year}-{month:02}-{day:02}'.format(**member)}))\",\n",
       "  \"members = list(map(lambda member : {'name':member.get('name'),\\\\\\n                                    'birth':'{year}-{month:02}-{day:02}'.format(**member)}))\",\n",
       "  \"members = list(map(lambda member : {'name':member.get('name'),\\\\\\n                                    'birth':'{year}-{month:02}-{day:02}'.format(**member)}, members))\",\n",
       "  \"members = list(map(lambda member : {'name':member.get('name'),\\\\\\n                                    'birth':'{year}-{month:02}-{day:02}'.format(**member)}, members))\\nmembers\",\n",
       "  \"'{year}-{month:02}-{day:02}'.format(**date)\",\n",
       "  'members',\n",
       "  \"members = list(map(lambda member : {\\n        'name': member.get('name'),\\n        'year': int(member.get('birth').split('-')[0]),\\n        'month': int(member.get('birth').split('-')[1]),\\n        'day': int(member.get('birth').split('-')[2]),\\n    }, members))\\nmembers\",\n",
       "  \"members = list(map(lambda member : {'name':member.get('name'),\\\\\\n                                    'birth':'{year}-{month:02}-{day:02}'.format(**member)}, members))\",\n",
       "  'members',\n",
       "  \"def apply(data, func=None):\\n    if func == None:\\n        print('func가 None임')\\n    else:\\n        print('func가 None아님')\",\n",
       "  'apply(1)',\n",
       "  \"def apply(data, func=None):\\n#     if func == None:\\n    if func is None:\\n        print('func가 None임')\\n    else:\\n        print('func가 None아님')\",\n",
       "  'apply(1)',\n",
       "  \"def apply(data, func=None):\\n#     if func == None:\\n    if func is None:\\n        return data\\n    else:\\n        print('func가 None아님')\",\n",
       "  'apply(1)',\n",
       "  'def apply(data, func=None):\\n#     if func == None:\\n    if func is None:\\n        return data\\n    else:\\n        return func(data)',\n",
       "  'apply(1)',\n",
       "  'print(apply(2))\\nprint(apply(2, lambda x:x**3))',\n",
       "  '# 함수를 return\\n\"\"\"\\nmake_box((2,3)) => 2차원 2행 3열 짜리 list를 만드는 함수를 return\\n    fun = make_box([2,3])\\n    fun(5) => [[5,5,5],[5,5,5]]\\nmake_box((2,)) => 1차원 2열짜리 list를 만드는 함수를 return\\n    fun = make_box([2])\\n    fun(7) = [7,7]\\n\"\"\"',\n",
       "  'def make_box(shape): # [x], [x,y]\\n    def box(init_value):\\n        if len(shape) == 1:\\n            return [init_value]*shape[0] # 1차원 list\\n        elif len(shape) == 2:\\n            return [[init_value]*shape[1]]*shape[0]\\n    return box',\n",
       "  'line_fun = make_box((3,))\\nline_fun',\n",
       "  'line_fun = make_box((3,))\\nline_fun(5)',\n",
       "  'box2d_fun = make_box((4,3))\\nbox2d_fun(5)',\n",
       "  'def make_box(shape):\\n    return lambda init_value : [init_value]*shape[0] if len(shape) == 1 \\\\\\n                            else ([[init_value]*shape[1]]*shape[0] if len(shape) == 2)',\n",
       "  'def make_box(shape):\\n    return lambda init_value : [init_value]*shape[0] if len(shape) == 1 \\\\\\n                            else ([[init_value]*shape[1]]*shape[0] if len(shape) == 2 else 0)',\n",
       "  'line_fun = make_box((3,))\\nline_fun(5)',\n",
       "  'box2d_fun = make_box((4,3))\\nbox2d_fun(5)',\n",
       "  'def make_box(shape):\\n    if len(shape) == 1:\\n        return lambda init_value : [init_value]*shape[0]\\n    elif len(shape) == 2:\\n        return lambda init_value : [[init_value]*shape[1]]*shape[0]',\n",
       "  'line_fun = make_box((3,))\\nline_fun(5)',\n",
       "  'box2d_fun = make_box((4,3))\\nbox2d_fun(5)',\n",
       "  \"int('6')\",\n",
       "  'globals()'],\n",
       " '_oh': {1: 8,\n",
       "  2: 30,\n",
       "  3: 30,\n",
       "  5: 9,\n",
       "  11: 100,\n",
       "  12: 'negative',\n",
       "  14: 'negative',\n",
       "  15: 100,\n",
       "  16: 100,\n",
       "  17: 'negative',\n",
       "  18: 'negative',\n",
       "  19: 'negative',\n",
       "  20: 500,\n",
       "  26: <function __main__.<lambda>(vector, item)>,\n",
       "  27: <function __main__.<lambda>(vector, item)>,\n",
       "  28: <function __main__.<lambda>(vector, item)>,\n",
       "  32: -1,\n",
       "  33: (-1, 0),\n",
       "  34: <function __main__.<lambda>(x)>,\n",
       "  35: ('홀수', '짝수'),\n",
       "  36: 'B',\n",
       "  41: ('B', 'A'),\n",
       "  42: ('B', 'A', '재시험'),\n",
       "  43: ('A', 'B', 'C', 'D', 'F', '유효하지 않은 점수'),\n",
       "  44: ('A', 'B', 'C', 'D', 'F', '유효하지 않은 점수'),\n",
       "  45: ('A', 'B', 'C', 'D', 'F', '유효하지 않은 점수'),\n",
       "  46: ('A', 'B', 'C', 'D', 'F', '유효하지 않은 점수'),\n",
       "  47: ('A', 'B', 'C', 'D', 'F', '유효하지 않은 점수'),\n",
       "  48: ('A', 'B', 'C', 'D', 'F', '유효하지 않은 점수'),\n",
       "  49: ('A', 'B', 'C', 'D', 'F', '유효하지 않은 점수'),\n",
       "  50: (3, 0.0),\n",
       "  51: (3, '두번째 인자가 0으로는 못나눠요'),\n",
       "  52: (3, 0.8333333333333334),\n",
       "  53: [10, 20],\n",
       "  54: [<function __main__.<lambda>(a, b)>,\n",
       "   <function __main__.<lambda>(a, b)>,\n",
       "   <function __main__.<lambda>(a, b)>,\n",
       "   <function __main__.<lambda>(a, b)>],\n",
       "  60: [1, 4, 9],\n",
       "  71: [7, 3, 10, 2.5, 25],\n",
       "  72: [7, 3, 10, 2.5, 25],\n",
       "  73: [10, 0, 25, 1.0, 3125],\n",
       "  74: [8, 2, 15, 1.6666666666666667, 125],\n",
       "  77: [2, 4, 6, 8, 10, 12, 14, 16, 18],\n",
       "  78: [2, 4, 6, 8, 10, 12, 14, 16, 18],\n",
       "  80: [2, 4, 6, 8, 10, 12, 14, 16, 18],\n",
       "  81: <map at 0x1eaf93c4610>,\n",
       "  82: [2, 4, 6, 8, 10, 12, 14, 16, 18],\n",
       "  85: [True, True, True, True],\n",
       "  86: [True, True, True, True],\n",
       "  88: [2, 4, 6, 8],\n",
       "  89: <filter at 0x1eaf93bb040>,\n",
       "  92: [1, 2, 3, 4, 5, 6, 7, 8, 9],\n",
       "  93: [2, 4, 6, 8],\n",
       "  94: [1, 3, 5, 7, 9],\n",
       "  95: [2, 4, 6, 8],\n",
       "  101: [1, 2, 100],\n",
       "  102: [1, 2, 100],\n",
       "  103: [1, 2, 3.0, 100],\n",
       "  108: [1, 3, 6, 10],\n",
       "  109: [10, 6, 3, 1],\n",
       "  110: [(2, 'two'), (3, 'three'), (1, 'oen'), (4, 'four')],\n",
       "  111: [(2, 'two'), (3, 'three'), (1, 'oen'), (4, 'four')],\n",
       "  112: [(2, 'two'), (3, 'three'), (1, 'oen'), (4, 'four')],\n",
       "  122: [{'name': '홍', 'score': 99},\n",
       "   {'name': '김', 'score': 77},\n",
       "   {'name': '박', 'score': 66},\n",
       "   {'name': '이', 'score': 22}],\n",
       "  123: [{'name': '홍', 'score': 99},\n",
       "   {'name': '김', 'score': 77},\n",
       "   {'name': '박', 'score': 66},\n",
       "   {'name': '이', 'score': 22}],\n",
       "  124: [{'name': '홍', 'score': 99},\n",
       "   {'name': '김', 'score': 77},\n",
       "   {'name': '박', 'score': 66},\n",
       "   {'name': '이', 'score': 22}],\n",
       "  125: [{'name': '홍', 'score': 99},\n",
       "   {'name': '김', 'score': 77},\n",
       "   {'name': '박', 'score': 66},\n",
       "   {'name': '이', 'score': 22}],\n",
       "  126: [{'name': '홍', 'score': 99},\n",
       "   {'name': '김', 'score': 77},\n",
       "   {'name': '박', 'score': 66},\n",
       "   {'name': '이', 'score': 22}],\n",
       "  127: [{'name': '홍', 'score': 99},\n",
       "   {'name': '김', 'score': 77},\n",
       "   {'name': '박', 'score': 66},\n",
       "   {'name': '이', 'score': 22}],\n",
       "  128: [{'name': '홍', 'score': 99},\n",
       "   {'name': '김', 'score': 77},\n",
       "   {'name': '박', 'score': 66},\n",
       "   {'name': '이', 'score': 22}],\n",
       "  130: [{'name': '홍', 'score': 99},\n",
       "   {'name': '김', 'score': 77},\n",
       "   {'name': '박', 'score': 66},\n",
       "   {'name': '이', 'score': 22}],\n",
       "  133: [{'no': 2, 'title': '트렌드코리아2025', 'writer': '김난도', 'price': '18,100'},\n",
       "   {'no': 3, 'title': '트럼프2,0시대', 'writer': '박종훈', 'price': '18,000'},\n",
       "   {'no': 5, 'title': '가격이없음', 'writer': '신길동', 'price': 'None예정'},\n",
       "   {'no': 1, 'title': '소년이 온다', 'writer': '한강', 'price': '13,500'},\n",
       "   {'no': 4, 'title': '가격잘못', 'writer': '홍길동', 'price': 'ㅁ'}],\n",
       "  134: [{'no': 2, 'title': '트렌드코리아2025', 'writer': '김난도', 'price': '18,100'},\n",
       "   {'no': 3, 'title': '트럼프2,0시대', 'writer': '박종훈', 'price': '18,000'},\n",
       "   {'no': 5, 'title': '가격이없음', 'writer': '신길동', 'price': 'None예정'},\n",
       "   {'no': 1, 'title': '소년이 온다', 'writer': '한강', 'price': '13,500'},\n",
       "   {'no': 4, 'title': '가격잘못', 'writer': '홍길동', 'price': 'ㅁ'}],\n",
       "  135: [{'no': 2, 'title': '트렌드코리아2025', 'writer': '김난도', 'price': '18,100'},\n",
       "   {'no': 3, 'title': '트럼프2,0시대', 'writer': '박종훈', 'price': '18,000'},\n",
       "   {'no': 5, 'title': '가격이없음', 'writer': '신길동', 'price': 'None예정'},\n",
       "   {'no': 1, 'title': '소년이 온다', 'writer': '한강', 'price': '13,500'},\n",
       "   {'no': 4, 'title': '가격잘못', 'writer': '홍길동', 'price': 'ㅁ'}],\n",
       "  137: [{'no': 4, 'title': '가격잘못', 'writer': '홍길동', 'price': 'ㅁ'},\n",
       "   {'no': 5, 'title': '가격이없음', 'writer': '신길동', 'price': 'None예정'},\n",
       "   {'no': 2, 'title': '트렌드코리아2025', 'writer': '김난도', 'price': '9,100'},\n",
       "   {'no': 3, 'title': '트럼프2,0시대', 'writer': '박종훈', 'price': '18,000'},\n",
       "   {'no': 1, 'title': '소년이 온다', 'writer': '한강', 'price': '13,500'}],\n",
       "  138: [{'no': 4, 'title': '가격잘못', 'writer': '홍길동', 'price': 'ㅁ'},\n",
       "   {'no': 5, 'title': '가격이없음', 'writer': '신길동', 'price': 'None예정'},\n",
       "   {'no': 2, 'title': '트렌드코리아2025', 'writer': '김난도', 'price': '9,100'},\n",
       "   {'no': 3, 'title': '트럼프2,0시대', 'writer': '박종훈', 'price': '18,000'},\n",
       "   {'no': 1, 'title': '소년이 온다', 'writer': '한강', 'price': '13,500'}],\n",
       "  139: [{'no': 4, 'title': '가격잘못', 'writer': '홍길동', 'price': 'ㅁ'},\n",
       "   {'no': 5, 'title': '가격이없음', 'writer': '신길동', 'price': 'None예정'},\n",
       "   {'no': 2, 'title': '트렌드코리아2025', 'writer': '김난도', 'price': '9,100'},\n",
       "   {'no': 3, 'title': '트럼프2,0시대', 'writer': '박종훈', 'price': '18,000'},\n",
       "   {'no': 1, 'title': '소년이 온다', 'writer': '한강', 'price': '13,500'}],\n",
       "  140: [{'no': 4, 'title': '가격잘못', 'writer': '홍길동', 'price': 'ㅁ'},\n",
       "   {'no': 5, 'title': '가격이없음', 'writer': '신길동', 'price': 'None예정'},\n",
       "   {'no': 2, 'title': '트렌드코리아2025', 'writer': '김난도', 'price': '9,100'},\n",
       "   {'no': 3, 'title': '트럼프2,0시대', 'writer': '박종훈', 'price': '18,000'},\n",
       "   {'no': 1, 'title': '소년이 온다', 'writer': '한강', 'price': '13,500'}],\n",
       "  141: [{'no': 4, 'title': '가격잘못', 'writer': '홍길동', 'price': 'ㅁ'},\n",
       "   {'no': 5, 'title': '가격이없음', 'writer': '신길동', 'price': 'None예정'},\n",
       "   {'no': 2, 'title': '트렌드코리아2025', 'writer': '김난도', 'price': '9,100'},\n",
       "   {'no': 3, 'title': '트럼프2,0시대', 'writer': '박종훈', 'price': '18,000'},\n",
       "   {'no': 1, 'title': '소년이 온다', 'writer': '한강', 'price': '13,500'}],\n",
       "  147: (None, None, None, None),\n",
       "  148: (None, None, None, None),\n",
       "  149: (None, None, None, None),\n",
       "  151: (None, None, None, None),\n",
       "  153: (0, 0, 9200, 13500),\n",
       "  154: [{'no': 4, 'title': '가격잘못', 'writer': '홍길동', 'price': 'ㅁ'},\n",
       "   {'no': 5, 'title': '가격이없음', 'writer': '이길동'},\n",
       "   {'no': 2, 'title': '트렌드코리아2025', 'writer': '김난도', 'price': '9,100'},\n",
       "   {'no': 6, 'title': '가격이숫자', 'writer': '신길동', 'price': 9200},\n",
       "   {'no': 1, 'title': '소년이 온다', 'writer': '한강', 'price': '13,500'},\n",
       "   {'no': 3, 'title': '트럼프2,0시대', 'writer': '박종훈', 'price': '18,000'}],\n",
       "  155: [<function __main__.<lambda>(book)>,\n",
       "   <function __main__.<lambda>(book)>,\n",
       "   <function __main__.<lambda>(book)>,\n",
       "   <function __main__.<lambda>(book)>,\n",
       "   <function __main__.<lambda>(book)>,\n",
       "   <function __main__.<lambda>(book)>],\n",
       "  157: [<function __main__.<lambda>(book)>,\n",
       "   <function __main__.<lambda>(book)>,\n",
       "   <function __main__.<lambda>(book)>,\n",
       "   <function __main__.<lambda>(book)>,\n",
       "   <function __main__.<lambda>(book)>,\n",
       "   <function __main__.<lambda>(book)>],\n",
       "  169: [0, 0, 9100, 9200, 13500, 18000],\n",
       "  171: [13500, 18000, 9100, 0, 9200, 0],\n",
       "  174: [{'no': 4, 'title': '가격잘못', 'writer': '홍길동', 'price': 'ㅁ'},\n",
       "   {'no': 5, 'title': '가격이없음', 'writer': '이길동'},\n",
       "   {'no': 2, 'title': '트렌드코리아2025', 'writer': '김난도', 'price': '9,100'},\n",
       "   {'no': 6, 'title': '가격이숫자', 'writer': '신길동', 'price': 9200},\n",
       "   {'no': 1, 'title': '소년이 온다', 'writer': '한강', 'price': '13,500'},\n",
       "   {'no': 3, 'title': '트럼프2,0시대', 'writer': '박종훈', 'price': '18,000'}],\n",
       "  175: [{'no': 3, 'title': '트럼프2,0시대', 'writer': '박종훈', 'price': '18,000'},\n",
       "   {'no': 1, 'title': '소년이 온다', 'writer': '한강', 'price': '13,500'},\n",
       "   {'no': 6, 'title': '가격이숫자', 'writer': '신길동', 'price': 9200},\n",
       "   {'no': 2, 'title': '트렌드코리아2025', 'writer': '김난도', 'price': '9,100'},\n",
       "   {'no': 4, 'title': '가격잘못', 'writer': '홍길동', 'price': 'ㅁ'},\n",
       "   {'no': 5, 'title': '가격이없음', 'writer': '이길동'}],\n",
       "  176: [{'no': 1, 'title': '소년이 온다', 'writer': '한강', 'price': '13,500'},\n",
       "   {'no': 3, 'title': '트럼프2,0시대', 'writer': '박종훈', 'price': '18,000'},\n",
       "   {'no': 2, 'title': '트렌드코리아2025', 'writer': '김난도', 'price': '9,100'},\n",
       "   {'no': 4, 'title': '가격잘못', 'writer': '홍길동', 'price': 'ㅁ'},\n",
       "   {'no': 6, 'title': '가격이숫자', 'writer': '신길동', 'price': 9200},\n",
       "   {'no': 5, 'title': '가격이없음', 'writer': '이길동'}],\n",
       "  179: [{'no': 3, 'title': '트럼프2,0시대', 'writer': '박종훈', 'price': '18,000'},\n",
       "   {'no': 1, 'title': '소년이 온다', 'writer': '한강', 'price': '13,500'},\n",
       "   {'no': 6, 'title': '가격이숫자', 'writer': '신길동', 'price': 9200},\n",
       "   {'no': 2, 'title': '트렌드코리아2025', 'writer': '김난도', 'price': '9,100'},\n",
       "   {'no': 4, 'title': '가격잘못', 'writer': '홍길동', 'price': 'ㅁ'},\n",
       "   {'no': 5, 'title': '가격이없음', 'writer': '이길동'}],\n",
       "  181: {'no': 3, 'title': '트럼프2,0시대', 'writer': '박종훈', 'price': 18000},\n",
       "  182: {'no': 3, 'title': '트럼프2,0시대', 'writer': '박종훈', 'price': 0},\n",
       "  183: {'no': 3, 'title': '트럼프2,0시대', 'writer': '박종훈', 'price': 18000},\n",
       "  184: {'no': 3, 'title': '트럼프2,0시대', 'writer': '박종훈', 'price': 0},\n",
       "  187: {'no': 3, 'title': '트럼프2,0시대', 'writer': '박종훈', 'price': 0},\n",
       "  190: {'no': 3, 'title': '트럼프2,0시대', 'writer': '박종훈', 'price': 0},\n",
       "  193: {'no': 3, 'title': '트럼프2,0시대', 'writer': '박종훈', 'price': 0},\n",
       "  196: {'no': 3, 'title': '트럼프2,0시대', 'writer': '박종훈', 'price': 0},\n",
       "  199: {'no': 3, 'title': '트럼프2,0시대', 'writer': '박종훈', 'price': 0},\n",
       "  200: {'no': 3, 'title': '트럼프2,0시대', 'writer': '박종훈', 'price': 'a'},\n",
       "  202: <map at 0x1eaf9474b80>,\n",
       "  203: [{'no': 1, 'title': '소년이 온다', 'writer': '한강', 'price': '13,500'},\n",
       "   {'no': 3, 'title': '트럼프2,0시대', 'writer': '박종훈', 'price': '18,000'},\n",
       "   {'no': 2, 'title': '트렌드코리아2025', 'writer': '김난도', 'price': '9,100'},\n",
       "   {'no': 4, 'title': '가격잘못', 'writer': '홍길동', 'price': 'ㅁ'},\n",
       "   {'no': 6, 'title': '가격이숫자', 'writer': '신길동', 'price': 9200},\n",
       "   {'no': 5, 'title': '가격이없음', 'writer': '이길동'}],\n",
       "  204: [{'no': 1, 'title': '소년이 온다', 'writer': '한강', 'price': '13,500'},\n",
       "   {'no': 3, 'title': '트럼프2,0시대', 'writer': '박종훈', 'price': '18,000'},\n",
       "   {'no': 2, 'title': '트렌드코리아2025', 'writer': '김난도', 'price': '9,100'},\n",
       "   {'no': 4, 'title': '가격잘못', 'writer': '홍길동', 'price': 'ㅁ'},\n",
       "   {'no': 6, 'title': '가격이숫자', 'writer': '신길동', 'price': 9200},\n",
       "   {'no': 5, 'title': '가격이없음', 'writer': '이길동'}],\n",
       "  205: <map at 0x1eaf9474910>,\n",
       "  208: [],\n",
       "  210: [{'no': 1, 'title': '소년이 온다', 'writer': '한강', 'price': '13,500'},\n",
       "   {'no': 3, 'title': '트럼프2,0시대', 'writer': '박종훈', 'price': '18,000'},\n",
       "   {'no': 2, 'title': '트렌드코리아2025', 'writer': '김난도', 'price': '9,100'},\n",
       "   {'no': 4, 'title': '가격잘못', 'writer': '홍길동', 'price': 'ㅁ'},\n",
       "   {'no': 6, 'title': '가격이숫자', 'writer': '신길동', 'price': 9200},\n",
       "   {'no': 5, 'title': '가격이없음', 'writer': '이길동'}],\n",
       "  212: [{'no': 1, 'title': '소년이 온다', 'writer': '한강', 'price': '13,500'},\n",
       "   {'no': 3, 'title': '트럼프2,0시대', 'writer': '박종훈', 'price': '18,000'},\n",
       "   {'no': 2, 'title': '트렌드코리아2025', 'writer': '김난도', 'price': '9,100'},\n",
       "   {'no': 4, 'title': '가격잘못', 'writer': '홍길동', 'price': 'ㅁ'},\n",
       "   {'no': 6, 'title': '가격이숫자', 'writer': '신길동', 'price': 9200},\n",
       "   {'no': 5, 'title': '가격이없음', 'writer': '이길동'}],\n",
       "  214: [{'no': 1, 'title': '소년이 온다', 'writer': '한강', 'price': '13,500'},\n",
       "   {'no': 3, 'title': '트럼프2,0시대', 'writer': '박종훈', 'price': '18,000'},\n",
       "   {'no': 2, 'title': '트렌드코리아2025', 'writer': '김난도', 'price': '9,100'},\n",
       "   {'no': 4, 'title': '가격잘못', 'writer': '홍길동', 'price': 'ㅁ'},\n",
       "   {'no': 6, 'title': '가격이숫자', 'writer': '신길동', 'price': 9200},\n",
       "   {'no': 5, 'title': '가격이없음', 'writer': '이길동'}],\n",
       "  215: [{'no': 1, 'title': '소년이 온다', 'writer': '한강', 'price': 13500},\n",
       "   {'no': 3, 'title': '트럼프2,0시대', 'writer': '박종훈', 'price': 18000},\n",
       "   {'no': 2, 'title': '트렌드코리아2025', 'writer': '김난도', 'price': 9100},\n",
       "   {'no': 4, 'title': '가격잘못', 'writer': '홍길동', 'price': 0},\n",
       "   {'no': 6, 'title': '가격이숫자', 'writer': '신길동', 'price': 9200},\n",
       "   {'no': 5, 'title': '가격이없음', 'writer': '이길동', 'price': 0}],\n",
       "  224: {'name': '홍길동',\n",
       "   'birth': '2000-01-01',\n",
       "   'year': 2000,\n",
       "   'month': 1,\n",
       "   'day': 1},\n",
       "  231: {'name': '홍길동',\n",
       "   'birth': '2000-01-01',\n",
       "   'year': ['2', '0', '0', '0'],\n",
       "   'month': ['0', '1'],\n",
       "   'day': ['0', '1']},\n",
       "  233: {'name': '홍길동',\n",
       "   'birth': '2000-01-01',\n",
       "   'year': ['2', '0', '0', '0'],\n",
       "   'month': ['0', '1'],\n",
       "   'day': ['0', '1']},\n",
       "  235: {'name': '홍길동',\n",
       "   'birth': '2000-01-01',\n",
       "   'year': ['2', '0', '0', '0'],\n",
       "   'month': ['0', '1'],\n",
       "   'day': ['0', '1']},\n",
       "  237: {'name': '홍길동',\n",
       "   'birth': '2000-01-01',\n",
       "   'year': 2000,\n",
       "   'month': 1,\n",
       "   'day': 1},\n",
       "  242: {'name': '홍길동',\n",
       "   'birth': '2000-01-01',\n",
       "   'year': '2000',\n",
       "   'month': ['0', '1'],\n",
       "   'day': ['0', '1']},\n",
       "  244: {'name': '홍길동',\n",
       "   'birth': '2000-01-01',\n",
       "   'year': '2000',\n",
       "   'month': '01',\n",
       "   'day': '01'},\n",
       "  246: {'name': '홍길동',\n",
       "   'birth': '2000-01-01',\n",
       "   'year': 2000,\n",
       "   'month': 1,\n",
       "   'day': 1},\n",
       "  248: {'name': '홍길동',\n",
       "   'birth': '2000-01-01',\n",
       "   'year': '2000',\n",
       "   'month': '01',\n",
       "   'day': '01'},\n",
       "  255: {'name': '홍길동',\n",
       "   'birth': '2000-01-01',\n",
       "   'year': '2000',\n",
       "   'month': '01',\n",
       "   'day': '01'},\n",
       "  257: {'name': '홍길동',\n",
       "   'birth': '2000-01-01',\n",
       "   'year': 2000,\n",
       "   'month': 1,\n",
       "   'day': 1},\n",
       "  258: <map at 0x1eaf93c57e0>,\n",
       "  260: <map at 0x1eaf9932380>,\n",
       "  262: [{'name': '홍길동',\n",
       "    'birth': '2000-01-01',\n",
       "    'year': 2000,\n",
       "    'month': 1,\n",
       "    'day': 1},\n",
       "   {'name': '신길동',\n",
       "    'birth': '1995-12-18',\n",
       "    'year': 1995,\n",
       "    'month': 12,\n",
       "    'day': 18}],\n",
       "  267: {'year': 2001, 'month': 6, 'day': 18},\n",
       "  272: {'name': '홍길동', 'year': 2000, 'month': 1, 'day': 1},\n",
       "  274: {'name': '홍길동', 'year': 2000, 'month': 1, 'day': 1},\n",
       "  275: {'name': '홍길동', 'year': 2000, 'month': 1, 'day': 1},\n",
       "  276: [{'name': '홍길동', 'year': 2000, 'month': 1, 'day': 1},\n",
       "   {'name': '신길동', 'year': 1995, 'month': 12, 'day': 18}],\n",
       "  278: '2000-1-1',\n",
       "  280: '2000-01-01',\n",
       "  282: '2000-01-01',\n",
       "  284: '2000-01-01',\n",
       "  293: [{'name': '홍길동', 'birth': '2000-01-01'},\n",
       "   {'name': '신길동', 'birth': '1995-12-18'}],\n",
       "  294: [{'name': '홍길동', 'year': 2000, 'month': 1, 'day': 1},\n",
       "   {'name': '신길동', 'year': 1995, 'month': 12, 'day': 18}],\n",
       "  296: [{'name': '홍길동', 'birth': '2000-01-01'},\n",
       "   {'name': '신길동', 'birth': '1995-12-18'}],\n",
       "  302: 1,\n",
       "  304: 1,\n",
       "  306: '\\nmake_box((2,3)) => 2차원 2행 3열 짜리 list를 만드는 함수를 return\\n    fun = make_box([2,3])\\n    fun(5) => [[5,5,5],[5,5,5]]\\nmake_box((2,)) => 1차원 2열짜리 list를 만드는 함수를 return\\n    fun = make_box([2])\\n    fun(7) = [7,7]\\n',\n",
       "  308: <function __main__.make_box.<locals>.box(init_value)>,\n",
       "  309: [5, 5, 5],\n",
       "  310: [[5, 5, 5], [5, 5, 5], [5, 5, 5], [5, 5, 5]],\n",
       "  313: [5, 5, 5],\n",
       "  314: [[5, 5, 5], [5, 5, 5], [5, 5, 5], [5, 5, 5]],\n",
       "  316: [5, 5, 5],\n",
       "  317: [[5, 5, 5], [5, 5, 5], [5, 5, 5], [5, 5, 5]],\n",
       "  318: 6},\n",
       " '_dh': [WindowsPath('D:/KHH/ai/source/07_python')],\n",
       " 'In': ['',\n",
       "  'def add(a,b):\\n    return a+b\\nadd(3,5)',\n",
       "  'add2 = add\\nadd2(10,20)',\n",
       "  'add2 = lambda a,b : a+b\\nadd2(10,20)',\n",
       "  'print(type(add), type(add2)) ',\n",
       "  '(lambda a, b : a+b)(3,6)',\n",
       "  '# a 와 b 의 차이를 return\\ndef diff(a, b):\\n    if a>=b:\\n        return a-b\\n    else b>=a:\\n        return b-a',\n",
       "  '# a 와 b 의 차이를 return\\ndef diff(a, b):\\n    if a>=b:\\n        return a-b\\n    elif b>=a:\\n        return b-a',\n",
       "  'diff2 = lambda a, b: a-b if a>=b else b-a',\n",
       "  'print(diff(3,5),diff(5,3),diff2(3,5),diff2(5,3))\\nprint(type(diff), type(diff2))',\n",
       "  \"#매개변수로 잔액을 받아 잔액이 음수면 'negative'라고 출력, 양수면 잔액\\ndef get_balance(balance):\\n    if balance>=0:\\n        return balance\\n    else:\\n        return 'negative'\",\n",
       "  'get_balance(100)',\n",
       "  'get_balance(-100)',\n",
       "  \"get_balance2 = lambda balance : balance if balance>=0 else 'negative' \",\n",
       "  'get_balance2(100)\\nget_balance2(-100)',\n",
       "  'get_balance2(100)',\n",
       "  \"get_balance2 = lambda balance : balance if balance>=0 else 'negative'\\nget_balance2(100)\",\n",
       "  \"balance = -500\\nif balance>=0:\\n    result = balance\\nelse :\\n    result = 'negative'\\nresult\",\n",
       "  \"balance if balance>=0 else 'negative'\",\n",
       "  \"balance if balance>=0 else 'negative'\",\n",
       "  \"balance = 500\\nbalance if balance>=0 else 'negative'\",\n",
       "  '# 아래 함수도 람다식으로 바꿀 수 있음\\nlst = [1,2,3]\\nv = (1,2,3)\\nv.index(4)',\n",
       "  '# 아래 함수도 람다식으로 바꿀 수 있음\\nlst = [1,2,3]\\nv = (1,2,3)\\nsafe_index = vector, item : vector if item in vecotr else -1\\nsafe_index(v, 1), safe_index(v, 4)',\n",
       "  '# 아래 함수도 람다식으로 바꿀 수 있음\\nlst = [1,2,3]\\nv = (1,2,3)\\nsafe_index = vector, item : vector.index(item) if item in vecotr else -1\\nsafe_index(v, 1), safe_index(v, 4)',\n",
       "  '# 아래 함수도 람다식으로 바꿀 수 있음\\nlst = [1,2,3]\\nv = (1,2,3)\\nsafe_index = vector, item vector.index(item) if item in vecotr else -1\\nsafe_index(v, 1), safe_index(v, 4)',\n",
       "  '# 아래 함수도 람다식으로 바꿀 수 있음\\nlst = [1,2,3]\\nv = (1,2,3)\\nlambda vector,item: vector.index(item) if item in vecotr else -1\\nsafe_index(v, 1), safe_index(v, 4)',\n",
       "  '# 아래 함수도 람다식으로 바꿀 수 있음\\nlst = [1,2,3]\\nv = (1,2,3)\\nlambda vector,item: vector.index(item) if item in vecotr else -1 (v,4)',\n",
       "  '# 아래 함수도 람다식으로 바꿀 수 있음\\nlst = [1,2,3]\\nv = (1,2,3)\\nlambda vector,item: vector.index(item) if item in vecotr else -1 (v,1)',\n",
       "  '# 아래 함수도 람다식으로 바꿀 수 있음\\nlst = [1,2,3]\\nv = (1,2,3)\\nlambda vector,item: vector.index(item) if item in vecotr else -1 (v,1)',\n",
       "  '# 아래 함수도 람다식으로 바꿀 수 있음\\nlst = [1,2,3]\\nv = (1,2,3)\\nsafe_index = vector,item: vector.index(item) if item in vecotr else -1 ',\n",
       "  '# 아래 함수도 람다식으로 바꿀 수 있음\\nlst = [1,2,3]\\nv = (1,2,3)\\nsafe_index = lambda vector,item: vector.index(item) if item in vecotr else -1',\n",
       "  '# 아래 함수도 람다식으로 바꿀 수 있음\\nlst = [1,2,3]\\nv = (1,2,3)\\nsafe_index = lambda vector,item: vector.index(item) if item in vecotr else -1\\nsafe_index(v,4)',\n",
       "  '# 아래 함수도 람다식으로 바꿀 수 있음\\nlst = [1,2,3]\\nv = (1,2,3)\\nsafe_index = lambda vector,item: vector.index(item) if item in vector else -1\\nsafe_index(v,4)',\n",
       "  '# 아래 함수도 람다식으로 바꿀 수 있음\\nlst = [1,2,3]\\nv = (1,2,3)\\nsafe_index = lambda vector,item: vector.index(item) if item in vector else -1\\nsafe_index(v,4), safe_index(v, 1)',\n",
       "  \"#매개변수로 들어온 값이 짝수면 '짝수', 홀수면 '홀수'라고 리턴\\nlambda x : '짝수' if x%2==0 else '홀수' (3)\",\n",
       "  \"#매개변수로 들어온 값이 짝수면 '짝수', 홀수면 '홀수'라고 리턴\\neven_odd_chk = lambda x : '짝수' if x%2==0 else '홀수'\\neven_odd_chk(5), even_odd_chk(2)\",\n",
       "  \"def levelChk(score):\\n    if score >= 80:\\n        return 'A'\\n    elif score >= 60:\\n        return 'B'\\n    else:\\n        return '재시험'\\nlevelChk(65)\",\n",
       "  \"levelChk = lambda score : 'A' if score >= 80 else(score : 'B' if score >= 60 else '재시험')(score)\",\n",
       "  \"levelChk = lambda score : 'A' if score >= 80 else(score  'B' if score >= 60 else '재시험')(score)\",\n",
       "  \"levelChk = lambda score : 'A' if score >= 80 else('B' if score >= 60 else '재시험')(score)\",\n",
       "  \"levelChk = lambda score : 'A' if score >= 80 else('B' if score >= 60 else '재시험')(score)\\nlevelChk(65),levelChk(95)\",\n",
       "  \"levelChk = lambda score : 'A' if score >= 80 else('B' if score >= 60 else '재시험')\\nlevelChk(65),levelChk(95)\",\n",
       "  \"levelChk = lambda score : 'A' if score >= 80 else('B' if score >= 60 else '재시험')\\nlevelChk(65),levelChk(95),levelChk(9)\",\n",
       "  \"score_grade = lambda score : 'A' if 90 <= score <= 100 else ('B' if 80 <= score < 90 else ('C' if 70 <= score < 80 else ('D' if 60 <= score <70 else ('F' if 0 <= score < 60 else '유효하지 않은 점수'))))\\nscore_grade(99),score_grade(89),score_grade(79),score_grade(69),score_grade(59),score_grade(999)\",\n",
       "  \"score_grade = lambda score : 'A' if 90 <= score <= 100 else ('B' if 80 <= score < 90 else ('C' if 70 <= score < 80 else \\\\\\n                                                                                           ('D' if 60 <= score <70 else ('F' if 0 <= score < 60 else '유효하지 않은 점수'))))\\nscore_grade(99),score_grade(89),score_grade(79),score_grade(69),score_grade(59),score_grade(999)\",\n",
       "  \"score_grade = lambda score : 'A' if 90 <= score <= 100 else \\\\\\n                            ('B' if 80 <= score < 90 else\\\\\\n                             ('C' if 70 <= score < 80 else \\\\\\n                              ('D' if 60 <= score <70 else \\\\\\n                               ('F' if 0 <= score < 60 else '유효하지 않은 점수'))))\\nscore_grade(99),score_grade(89),score_grade(79),score_grade(69),score_grade(59),score_grade(999)\",\n",
       "  \"score_grade = lambda score : 'A' if 90 <= score <= 100 else \\\\\\n                            ('B' if 80 <= score < 90 else\\\\\\n                             ('C' if 70 <= score < 80 else \\\\\\n                              ('D' if 60 <= score <70 else \\\\\\n                               ('F' if 0 <= score < 60 else \\\\\\n                                '유효하지 않은 점수'))))\\nscore_grade(99),score_grade(89),score_grade(79),score_grade(69),score_grade(59),score_grade(999)\",\n",
       "  \"score_grade = lambda score : 'A' if 90 <= score <= 100 else \\\\\\n                            ('B' if 80 <= score < 90 else\\\\\\n                             ('C' if 70 <= score < 80 else \\\\\\n                              ('D' if 60 <= score <70 else \\\\\\n                               ('F' if 0 <= score < 60 else \\\\\\n                                '유효하지 않은 점수'))))\\nscore_grade(99),score_grade(89),score_grade(79),score_grade(69),score_grade(59),score_grade(-999)\",\n",
       "  \"score_grade = lambda score : 'A' if 90 <= score <= 100 else \\\\\\n                            ('B' if 80 <= score < 90 else\\\\\\n                             ('C' if 70 <= score < 80 else \\\\\\n                              ('D' if 60 <= score <70 else \\\\\\n                               ('F' if 0 <= score < 60 else \\\\\\n                                '유효하지 않은 점수'))))\\nscore_grade(99),score_grade(89),score_grade(79),score_grade(69),score_grade(59),score_grade(999)\",\n",
       "  \"score_grade = lambda score : 'A' if 90 <= score <= 100 else \\\\\\n                             'B' if 80 <= score < 90 else\\\\\\n                             'C' if 70 <= score < 80 else \\\\\\n                             'D' if 60 <= score <70 else \\\\\\n                             'F' if 0 <= score < 60 else \\\\\\n                             '유효하지 않은 점수'\\nscore_grade(99),score_grade(89),score_grade(79),score_grade(69),score_grade(59),score_grade(999)\",\n",
       "  \"add = lambda a, b : a+b\\nsub = lambda a, b : a-b\\nmul = lambda a, b : a*b\\ndiv = lambda a, b : a/b if b!=0 else '두번째 인자가 0으로는 못나눠요'\\nadd(3,0), div (0,5)\",\n",
       "  \"add = lambda a, b : a+b\\nsub = lambda a, b : a-b\\nmul = lambda a, b : a*b\\ndiv = lambda a, b : a/b if b!=0 else '두번째 인자가 0으로는 못나눠요'\\nadd(3,0), div (5,0)\",\n",
       "  \"add = lambda a, b : a+b\\nsub = lambda a, b : a-b\\nmul = lambda a, b : a*b\\ndiv = lambda a, b : a/b if b!=0 else '두번째 인자가 0으로는 못나눠요'\\nadd(3,0), div (5, 6)\",\n",
       "  \"add = lambda a, b : a+b\\nsub = lambda a, b : a-b\\nmul = lambda a, b : a*b\\ndiv = lambda a, b : a/b if b!=0 else '두번째 인자가 0으로는 못나눠요'\\nadd(3,0), div (5, 6)\\n\\ni = 10\\nj = 20\\nlst = [i,j]\\nlst\",\n",
       "  \"add = lambda a, b : a+b\\nsub = lambda a, b : a-b\\nmul = lambda a, b : a*b\\ndiv = lambda a, b : a/b if b!=0 else '두번째 인자가 0으로는 못나눠요'\\nadd(3,0), div (5, 6)\\n\\noperations = [add, sub, mul, div]\\noperations\",\n",
       "  \"add = lambda a, b : a+b\\nsub = lambda a, b : a-b\\nmul = lambda a, b : a*b\\ndiv = lambda a, b : a/b if b!=0 else '두번째 인자가 0으로는 못나눠요'\\nadd(3,0), div (5, 6)\\n\\noperations = [add, sub, mul, div]\\n#매개변수로 함수 list가 옴\\ndef action_operations(a, b, operations = operations):\\n    result = []\\n    for op in operations:\\n        result.append(op(a,b))\\n    return result\\n# def pow(a,b):\\n#     return a**b\\noprations.append(lambda a, b: a**b)\\nprint(action_operations(10,2))\",\n",
       "  \"add = lambda a, b : a+b\\nsub = lambda a, b : a-b\\nmul = lambda a, b : a*b\\ndiv = lambda a, b : a/b if b!=0 else '두번째 인자가 0으로는 못나눠요'\\nadd(3,0), div (5, 6)\\n\\noperations = [add, sub, mul, div]\\n#매개변수로 함수 list가 옴\\ndef action_operations(a, b, operations = operations):\\n    result = []\\n    for op in operations:\\n        result.append(op(a,b))\\n    return result\\n# def pow(a,b):\\n#     return a**b\\noprations.append(lambda a, b: a**b)\\nprint(action_operations(10,2))\",\n",
       "  \"add = lambda a, b : a+b\\nsub = lambda a, b : a-b\\nmul = lambda a, b : a*b\\ndiv = lambda a, b : a/b if b!=0 else '두번째 인자가 0으로는 못나눠요'\\nadd(3,0), div (5, 6)\\n\\noperations = [add, sub, mul, div]\\n#매개변수로 함수 list가 옴\\ndef action_operations(a, b, operations = operations):\\n    result = []\\n    for op in operations:\\n        result.append(op(a,b))\\n    return result\\n# def pow(a,b):\\n#     return a**b\\noprations.append(lambda a, b: a**b)\\nprint(action_operations(10,2))\",\n",
       "  \"add = lambda a, b : a+b\\nsub = lambda a, b : a-b\\nmul = lambda a, b : a*b\\ndiv = lambda a, b : a/b if b!=0 else '두번째 인자가 0으로는 못나눠요'\\nadd(3,0), div (5, 6)\\n\\noperations = [add, sub, mul, div]\\n#매개변수로 함수 list가 옴\\ndef action_operations(a, b, operations = operations):\\n    result = []\\n    for op in operations:\\n        result.append(op(a,b))\\n    return result\\n# def pow(a,b):\\n#     return a**b\\noperations.append(lambda a, b: a**b)\\nprint(action_operations(10,2))\",\n",
       "  '#리스트 컴프리 헨션\\nlst = [1,2,3]\\n[ for l in lst]',\n",
       "  '#리스트 컴프리 헨션\\nlst = [1,2,3]\\n[l**2 for l in lst]',\n",
       "  'action_operations = lambda a, b, operations = operations : [for op(a,b) in oprations]',\n",
       "  'action_operations = lambda a, b, operations = operations : for op(a,b) in oprations',\n",
       "  '#리스트 컴프리 헨션\\nlst = [1,2,3]\\nprint([l**2 for l in lst])\\nprint([l**2 for l in lst if l%2==0])',\n",
       "  'action_operations = lambda a, b, operations = operations : op(a,b) for op in oprations',\n",
       "  'result = []\\naction_operations = lambda a, b, operations = operations : result.append(op(a,b)) for op in operations',\n",
       "  'action_operations = lambda a, b, operations = operations : result = [op(a,b)] for op in operations',\n",
       "  'action_operations = lambda a, b, operations = operations : result = [op(a,b) for op in operations]',\n",
       "  'def action_operations(a, b, operations = operations):\\n    return result = [op(a,b) for op in operations]',\n",
       "  'def action_operations(a, b, operations = operations):\\n    return [op(a,b) for op in operations]',\n",
       "  'def action_operations(a, b, operations = operations):\\n    return [op(a,b) for op in operations]\\naction_operations = lambda a, b, operations = operations : [op(a,b) for op in operations]',\n",
       "  'def action_operations(a, b, operations = operations):\\n    return [op(a,b) for op in operations]\\naction_operations = lambda a, b, operations = operations : [op(a,b) for op in operations]\\naction_operations(5,2)',\n",
       "  'action_operations = lambda a, b, operations = operations : [op(a,b) for op in operations]\\naction_operations(5,2)',\n",
       "  'action_operations = lambda a, b, operations = operations : [op(a,b) for op in operations]\\naction_operations(5,5)',\n",
       "  'action_operations = lambda a, b, operations = operations : [op(a,b) for op in operations]\\naction_operations(5,3)',\n",
       "  'map_template = lambda func, L=[] : [func(item) for item in L]',\n",
       "  'def map_template(func, L=[]):\\n    result = []\\n    for item in L :\\n        result.append(func(item))\\n    return result',\n",
       "  'list_data = [1,2,3,4,5,6,7,8,9]\\ndef x_2(x) :\\n    return x*2\\nmap_template(x_2, list_data)',\n",
       "  'list_data = [1,2,3,4,5,6,7,8,9]\\nmap_template(lambda x : x*2, list_data)',\n",
       "  '#리스트 컴프리헨션\\n[x*2 for xin list_data]',\n",
       "  '#리스트 컴프리헨션\\n[x*2 for x in list_data]',\n",
       "  'map(lambda x: x*2, list_data)',\n",
       "  'list(map(lambda x: x*2, list_data))',\n",
       "  \"for x in map(lambda x:x*2, list_data):\\n    print(x, end=' ')\",\n",
       "  'def filter_template(func, L=[]):\\n    result = []\\n    for item in L:\\n        if func(item):\\n            result.append(func(item))\\n    return result',\n",
       "  '# def enveChk(value):\\n#     return value%2==0\\n\\nfilter_template(lambda value: value%2==0, L=list_data)',\n",
       "  '# def enveChk(value):\\n#     return value%2==0\\n\\nlist_data = [1,2,3,4,5,6,7,8,9]\\nfilter_template(lambda value: value%2==0, L=list_data)',\n",
       "  'def filter_template(func, L=[]):\\n    result = []\\n    for item in L:\\n        if func(item):\\n            result.append(item)\\n    return result',\n",
       "  '# def enveChk(value):\\n#     return value%2==0\\n\\nlist_data = [1,2,3,4,5,6,7,8,9]\\nfilter_template(lambda value: value%2==0, L=list_data)',\n",
       "  'filter(lambda x:x%2==0, list_data)',\n",
       "  'for data in filter(lambda x:x%2==0, list_data):\\n    print(data)',\n",
       "  \"for data in filter(lambda x:x%2==0, list_data):\\n    print(data, end=' ')\",\n",
       "  '# 리스트컴프리헨션 이용\\n[x for x in list_data]',\n",
       "  '# 리스트컴프리헨션 이용\\n[x for x in list_data if x%2==0]',\n",
       "  '# 리스트컴프리헨션 이용\\n[x for x in list_data if x%2!=0]',\n",
       "  '# 리스트컴프리헨션 이용\\n[x for x in list_data if x%2==0]',\n",
       "  '# quiz : 다음 리스트에서 소주점 이하가 0인 수만 추출하시오\\n# filter함수, 람다식 이용/ filter_template/ 리스트컴프리헨션\\nL = [1,1.2,1.5,2,3.0,10.5,100]\\nlist(filter(lambda x : x.isdist(), L))',\n",
       "  '# quiz : 다음 리스트에서 소주점 이하가 0인 수만 추출하시오\\n# filter함수, 람다식 이용/ filter_template/ 리스트컴프리헨션\\nL = [1,1.2,1.5,2,3.0,10.5,100]\\nlist(filter(lambda x : x.isdigit(), L))',\n",
       "  '# quiz : 다음 리스트에서 소주점 이하가 0인 수만 추출하시오\\n# filter함수, 람다식 이용/ filter_template/ 리스트컴프리헨션\\nL = [1,1.2,1.5,2,3.0,10.5,100]\\nlist(filter(lambda x : if x.isdigit(), L))',\n",
       "  '# quiz : 다음 리스트에서 소주점 이하가 0인 수만 추출하시오\\n# filter함수, 람다식 이용/ filter_template/ 리스트컴프리헨션\\nL = [1,1.2,1.5,2,3.0,10.5,100]\\nlist(filter(lambda x : True if x.isdigit(), L))',\n",
       "  '# quiz : 다음 리스트에서 소주점 이하가 0인 수만 추출하시오\\n# filter함수, 람다식 이용/ filter_template/ 리스트컴프리헨션\\nL = [1,1.2,1.5,2,3.0,10.5,100]\\nlist(filter(lambda x : True if x.isdigit() else False, L))',\n",
       "  '# quiz : 다음 리스트에서 소주점 이하가 0인 수만 추출하시오\\n# filter함수, 람다식 이용/ filter_template/ 리스트컴프리헨션\\nL = [1,1.2,1.5,2,3.0,10.5,100]\\nlist(filter(lambda x : True if str(x).isdigit() else False, L))',\n",
       "  '# quiz : 다음 리스트에서 소주점 이하가 0인 수만 추출하시오\\n# filter함수, 람다식 이용/ filter_template/ 리스트컴프리헨션\\nL = [1,1.2,1.5,2,3.0,10.5,100]\\nlist(filter(lambda x : str(x).isdigit(), L))',\n",
       "  '# quiz : 다음 리스트에서 소주점 이하가 0인 수만 추출하시오\\n# filter함수, 람다식 이용/ filter_template/ 리스트컴프리헨션\\nL = [1,1.2,1.5,2,3.0,10.5,100]\\nlist(filter(lambda x : x%1.0==0, L))',\n",
       "  '# quiz : 다음 리스트에서 소주점 이하가 0인 수만 추출하시오\\n# filter함수, 람다식 이용/ filter_template/ 리스트컴프리헨션\\nL = [1,1.2,1.5,2,3.0,10.5,100]\\nprint(list(filter(lambda x : x%1.0==0, L)))\\nprint(filter_template(lambda x:x%1.0==0,L))',\n",
       "  '# quiz : 다음 리스트에서 소주점 이하가 0인 수만 추출하시오\\n# filter함수, 람다식 이용/ filter_template/ 리스트컴프리헨션\\nL = [1,1.2,1.5,2,3.0,10.5,100]\\nprint(list(filter(lambda x : x%1.0==0, L)))\\nprint(filter_template(lambda x:x%1.0==0,L))\\nprint([x for x in L if x%1.0==0])',\n",
       "  '# quiz : 다음 리스트에서 소주점 이하가 0인 수만 추출하시오\\n# filter함수, 람다식 이용/ filter_template/ 리스트컴프리헨션\\nL = [1,1.2,1.5,2,3.0,10.5,100]\\nprint(list(filter(lambda x : x%1.0==0, L)))\\nprint(filter_template(lambda x:x == round(x),L))\\nprint([x for x in L if x%1.0==0])',\n",
       "  '# quiz : 다음 리스트에서 소주점 이하가 0인 수만 추출하시오\\n# filter함수, 람다식 이용/ filter_template/ 리스트컴프리헨션\\nL = [1,1.2,1.5,2,3.0,10.5,100]\\nprint(list(filter(lambda x : x%1.0==0, L)))\\nprint(filter_template(lambda x:x == round(x),L))\\nprint([x for x in L if x==x//1])',\n",
       "  '#예제2 : 베스트셀러 list(딕셔너리 리스트)를 가격순으로 sort\\np = [10,3,6,1]\\np.sort()\\np',\n",
       "  '#예제2 : 베스트셀러 list(딕셔너리 리스트)를 가격순으로 sort\\np = [10,3,6,1]\\np.sort(reverse=True)\\np',\n",
       "  \"pairs = [(2,'two'),(1,'oen'),(4,'four'),(3,'three')]\\npairs.sort()\\npairs\",\n",
       "  'pairs.sort(key=lambda pair : pair[1])\\npairs',\n",
       "  'pairs.sort(key=lambda pair : pair[1], reverse=True)\\npairs',\n",
       "  \"students = [{'name':'홍', 'score':99},\\n            {'name':'이', 'score':22},\\n            {'name':'김', 'score':77},\\n            {'name':'박', 'score':66}]\",\n",
       "  '#students를 이름 ㄱㄴㄷ순 정렬',\n",
       "  '#students를 이름 ㄱㄴㄷ순 정렬\\nstudendts.sort()',\n",
       "  '#students를 이름 ㄱㄴㄷ순 정렬\\nstudents.sort()',\n",
       "  '#students를 이름 ㄱㄴㄷ순 정렬\\nstudents.sort()',\n",
       "  '#students를 이름 ㄱㄴㄷ순 정렬\\nstudents.sort(key=lambda x : x.values()[1])',\n",
       "  '#students를 이름 ㄱㄴㄷ순 정렬\\nstudents.sort(key=lambda x : x.values()[0])',\n",
       "  '#students를 이름 ㄱㄴㄷ순 정렬\\nstudents.sort(key=lambda x : x.values())',\n",
       "  \"#students를 이름 ㄱㄴㄷ순 정렬\\nstudents.sort(key=lambda x : x['name'])\",\n",
       "  \"#students를 이름 ㄱㄴㄷ순 정렬\\nstudents.sort(key=lambda x : x['name'])\\nstudents\",\n",
       "  \"#students를 score순 내림차순\\nstudents.sort(key=lambda x : x['score'],reverse=True)\\nstudents\",\n",
       "  \"#students를 score순 오름차순\\nstudents.sort(key=lambda x : x['score'])\\nstudents\",\n",
       "  \"#students를 이름 ㄱㄴㄷ순 정렬\\nstudents.sort(key=lambda student : student['name'])\\nstudents\",\n",
       "  \"#students를 score순 내림차순\\nstudents.sort(key=lambda student : student['score'],reverse=True)\\nstudents\",\n",
       "  \"#students를 score순 오름차순\\nstudents.sort(key=lambda student : student['score'])\\nstudents\",\n",
       "  \"#students를 score순 내림차순\\nstudents.sort(key=lambda student : student['score'],reverse=True)\\nstudents\",\n",
       "  \"#students를 score순 내림차순\\nstudents.sort(key=lambda student : student.get('score',reverse=True)\\nstudents\",\n",
       "  \"#students를 score순 내림차순\\nstudents.sort(key=lambda student : student.get('score'),reverse=True)\\nstudents\",\n",
       "  \"books = [{'no':1,'title':'소년이 온다', 'writer':'한강', 'price':'13,500'},\\n         {'no':3,'title':'트럼프2,0시대', 'writer':'박종훈', 'price':'18,000'},\\n         {'no':2,'title':'트렌드코리아2025', 'writer':'김난도', 'price':'18,100'},\\n         {'no':4,'title':'가격잘못', 'writer':'홍길동', 'price':'ㅁ'},\\n         {'no':5,'title':'가격이없음', 'writer':'신길동', 'price':'None예정'}]\",\n",
       "  \"books.sort(key=lambda book : book.get('no'))\",\n",
       "  \"books.sort(key=lambda book : book.get('no'))\\nbooks\",\n",
       "  \"books.sort(key=lambda book : book.get('title'))\\nbooks\",\n",
       "  \"books.sort(key=lambda book : book.get('writer'))\\nbooks\",\n",
       "  \"books = [{'no':1,'title':'소년이 온다', 'writer':'한강', 'price':'13,500'},\\n         {'no':3,'title':'트럼프2,0시대', 'writer':'박종훈', 'price':'18,000'},\\n         {'no':2,'title':'트렌드코리아2025', 'writer':'김난도', 'price':'9,100'},\\n         {'no':4,'title':'가격잘못', 'writer':'홍길동', 'price':'ㅁ'},\\n         {'no':5,'title':'가격이없음', 'writer':'신길동', 'price':'None예정'}]\",\n",
       "  \"books.sort(key=lambda book : book.get('no'))\\nbooks\",\n",
       "  \"books.sort(key=lambda book : book.get('title'))\\nbooks\",\n",
       "  \"books.sort(key=lambda book : book.get('writer'))\\nbooks\",\n",
       "  \"books.sort(key=lambda book : book.get('price'))\\nbooks\",\n",
       "  \"books.sort(key=lambda book : book.get('price'), reverse=True)\\nbooks\",\n",
       "  \"books = [{'no':1,'title':'소년이 온다', 'writer':'한강', 'price':'13,500'},\\n         {'no':3,'title':'트럼프2,0시대', 'writer':'박종훈', 'price':'18,000'},\\n         {'no':2,'title':'트렌드코리아2025', 'writer':'김난도', 'price':'9,100'},\\n         {'no':4,'title':'가격잘못', 'writer':'홍길동', 'price':'ㅁ'},\\n         {'no':5,'title':'가격이없음', 'writer':'신길동'}]\",\n",
       "  \"books = [{'no':1,'title':'소년이 온다', 'writer':'한강', 'price':'13,500'},\\n         {'no':3,'title':'트럼프2,0시대', 'writer':'박종훈', 'price':'18,000'},\\n         {'no':2,'title':'트렌드코리아2025', 'writer':'김난도', 'price':'9,100'},\\n         {'no':4,'title':'가격잘못', 'writer':'홍길동', 'price':'ㅁ'},\\n         {'no':6,'title':'가격이없음', 'writer':'신길동', 'price':9200},\\n         {'no':5,'title':'가격이없음', 'writer':'신길동'}]\",\n",
       "  \"books = [{'no':1,'title':'소년이 온다', 'writer':'한강', 'price':'13,500'},\\n         {'no':3,'title':'트럼프2,0시대', 'writer':'박종훈', 'price':'18,000'},\\n         {'no':2,'title':'트렌드코리아2025', 'writer':'김난도', 'price':'9,100'},\\n         {'no':4,'title':'가격잘못', 'writer':'홍길동', 'price':'ㅁ'},\\n         {'no':6,'title':'가격이없음', 'writer':'신길동', 'price':9200},\\n         {'no':5,'title':'가격이없음', 'writer':'신길동'}]\",\n",
       "  \"books.sort(key=lambda book:book.get('price'))\\nbooks\",\n",
       "  \"books = [{'no':1,'title':'소년이 온다', 'writer':'한강', 'price':'13,500'},\\n         {'no':3,'title':'트럼프2,0시대', 'writer':'박종훈', 'price':'18,000'},\\n         {'no':2,'title':'트렌드코리아2025', 'writer':'김난도', 'price':'9,100'},\\n         {'no':4,'title':'가격잘못', 'writer':'홍길동', 'price':'ㅁ'},\\n         {'no':6,'title':'가격이숫자', 'writer':'신길동', 'price':9200},\\n         {'no':5,'title':'가격이없음', 'writer':'이길동'}]\",\n",
       "  \"def parse_int(price):\\n    print(type(price))\\nparse_int('ㅁ'), parse_int(None), parse_int(9200), parse_int('13,500')\",\n",
       "  \"def parse_int(price):\\n    if isinstance(price, str):\\n        print(price)\\nparse_int('ㅁ'), parse_int(None), parse_int(9200), parse_int('13,500')\",\n",
       "  \"parse_int('ㅁ'), parse_int(None), parse_int(9200), parse_int('13,500')\",\n",
       "  \"# & : 논리연산, 비트연산, 집합연산\\n# and : 논리연산\\n\\ndef parse_int(price):\\n    if isinstance(price, str) and price.replace(',','').isdigit():\\n        print(price)\",\n",
       "  \"parse_int('ㅁ'), parse_int(None), parse_int(9200), parse_int('13,500')\",\n",
       "  \"# & : 논리연산, 비트연산, 집합연산이 모두 가능함으로, 좌항이 False여도 우항이 숫자면 비트연산을 수행해야함으로 우항을 수행함\\n# and : 논리연산의 역할만 하여, 좌항이 False면 우항 수행 안 함.\\n\\ndef parse_int(price):\\n    if isinstance(price, str) and price.replace(',','').isdigit():\\n        return int(price.replace(',',''))\\n    elif isinstance(price,int):\\n        return price\\n    else:\\n        return 0\",\n",
       "  \"parse_int('ㅁ'), parse_int(None), parse_int(9200), parse_int('13,500')\",\n",
       "  \"books.sort(key=lambda book: parse_int(book.get('price')))\\nbooks\",\n",
       "  'parse_int_tast = lambda book : book.get(price)\\n[parse_int_tast for book in books]',\n",
       "  \"parse_int_tast = lambda book : int(book.get(price).replace(',','')) if isinstance(price, str) and price.replace(',','').isdigit(): else\\\\\\n(price if isinstance(price,int) else 0)\\n[parse_int_tast for book in books]\",\n",
       "  \"parse_int_tast = lambda book : int(book.get(price).replace(',','')) if isinstance(price, str) and price.replace(',','').isdigit() else\\\\\\n(price if isinstance(price,int) else 0)\\n[parse_int_tast for book in books]\",\n",
       "  \"parse_int_tast = lambda book : int(book.get(price).replace(',','')) if isinstance(price, str) and price.replace(',','').isdigit() else\\\\\\n(price if isinstance(price,int) else 0)\\n[parse_int_tast(book.get(price) for book in books]\",\n",
       "  \"parse_int_tast = lambda book : int(book.get(price).replace(',','')) if isinstance(price, str) and price.replace(',','').isdigit() else\\\\\\n(price if isinstance(price,int) else 0)\\n[parse_int_tast(book.get(price)) for book in books]\",\n",
       "  \"parse_int_tast = lambda book : int(book.get(price).replace(',','')) if isinstance(price, str) and price.replace(',','').isdigit() else\\\\\\n(price if isinstance(price,int) else 0)\\n[parse_int_tast(book.get('price')) for book in books]\",\n",
       "  \"parse_int_tast = lambda book : int(book.get(price).replace(',','')) if isinstance(price, str) and price.replace(',','').isdigit() else\\\\\\n(price if isinstance(price,int) else 0)\\n[parse_int_tast(book.get('price')) for book in books]\",\n",
       "  \"parse_int_tast = lambda book : int(book.get(price).replace(',','')) \\\\\\n                                if isinstance(price, str) and price.replace(',','').isdigit() else\\\\\\n                                (price if isinstance(price,int) else 0)\\n[parse_int_tast(book.get('price')) for book in books]\",\n",
       "  \"parse_int_tast = lambda book : int(book.get(price).replace(',','')) \\\\\\n                                if isinstance(price, str) and price.replace(',','').isdigit() else\\\\\\n                                (price if isinstance(price,int) else 0)\\n[parse_int_tast(book) for book in books]\",\n",
       "  \"parse_int_tast = lambda book : int(book.get(price).replace(',','')) \\\\\\n                                if isinstance(price, str) and price.replace(',','').isdigit() else\\\\\\n                                (price if isinstance(price,int) else 0)\\n[parse_int_tast(book.get('price')) for book in books]\",\n",
       "  \"parse_int_tast = lambda book : int(book.get(price).replace(',','')) \\\\\\n                                if isinstance(price, str) and price.replace(',','').isdigit() else 0\\n[parse_int_tast(book.get('price')) for book in books]\",\n",
       "  \"parse_int_tast = lambda book : int(book.get('price').replace(',','')) \\\\\\n                                if isinstance(price, str) and price.replace(',','').isdigit() else\\\\\\n                                (price if isinstance(price,int) else 0)\\n[parse_int_tast(book.get('price')) for book in books]\",\n",
       "  \"parse_int_tast = lambda book : int(book.get('price').replace(',','')) \\\\\\n                                if isinstance(book.get('price'), str) and book.get('price').replace(',','').isdigit() else\\\\\\n                                (price if isinstance(book.get('price'),int) else 0)\\n[parse_int_tast(book.get('price')) for book in books]\",\n",
       "  \"parse_int_tast = lambda book : int(book.get('price').replace(',','')) \\\\\\n                                if isinstance(book.get('price'), str) and book.get('price').replace(',','').isdigit() else\\\\\\n                                (price if isinstance(book.get('price'),int) else 0)\\n[parse_int_tast(book) for book in books]\",\n",
       "  \"parse_int_tast = lambda book : int(book.get('price').replace(',','')) \\\\\\n                                if isinstance(book.get('price'), str) and book.get('price').replace(',','').isdigit() else\\\\\\n                                (book.get('price') if isinstance(book.get('price'),int) else 0)\\n[parse_int_tast(book) for book in books]\",\n",
       "  \"books = [{'no':1,'title':'소년이 온다', 'writer':'한강', 'price':'13,500'},\\n         {'no':3,'title':'트럼프2,0시대', 'writer':'박종훈', 'price':'18,000'},\\n         {'no':2,'title':'트렌드코리아2025', 'writer':'김난도', 'price':'9,100'},\\n         {'no':4,'title':'가격잘못', 'writer':'홍길동', 'price':'ㅁ'},\\n         {'no':6,'title':'가격이숫자', 'writer':'신길동', 'price':9200},\\n         {'no':5,'title':'가격이없음', 'writer':'이길동'}]\",\n",
       "  \"parse_int_tast = lambda book : int(book.get('price').replace(',','')) \\\\\\n                                if isinstance(book.get('price'), str) and book.get('price').replace(',','').isdigit() else\\\\\\n                                (book.get('price') if isinstance(book.get('price'),int) else 0)\\n[parse_int_tast(book) for book in books]\",\n",
       "  'copyBooks = books.copy()\\ncopyBooks.sort(key=lambda parse_in)',\n",
       "  \"copyBooks = books.copy()\\ncopyBooks.sort(key=lambda book : int(book.get('price').replace(',',''))\\\\\\n                                  if isinstance(book.get('price'), str) and book.get('price').replace(',','').isdigit()\\\\\\n                                  else (book.get('price') if isinstance(book.get('price'), int) else 0))\",\n",
       "  \"copyBooks = books.copy()\\ncopyBooks.sort(key=lambda book : int(book.get('price').replace(',',''))\\\\\\n                                  if isinstance(book.get('price'), str) and book.get('price').replace(',','').isdigit()\\\\\\n                                  else (book.get('price') if isinstance(book.get('price'), int) else 0))\\ncopyBooks\",\n",
       "  \"copyBooks = books.copy()\\ncopyBooks.sort(key=lambda book : int(book.get('price').replace(',',''))\\\\\\n                                  if isinstance(book.get('price'), str) and book.get('price').replace(',','').isdigit()\\\\\\n                                  else (book.get('price') if isinstance(book.get('price'), int) else 0), reverse=True)\\ncopyBooks\",\n",
       "  \"copyBooks = books.copy()\\ncopyBooks.sort(key=lambda book : int(book.get('price').replace(',',''))\\\\\\n                                  if isinstance(book.get('price'), str) and book.get('price').replace(',','').isdigit()\\\\\\n                                  else (book.get('price') if isinstance(book.get('price'), int) else 0), reverse=True)\\nprint(copyBooks)\\nbooks\",\n",
       "  \"copyBooks = books.copy()\\ncopyBooks.sort(key=lambda book : int(book.get('price').replace(',',''))\\\\\\n                                  if isinstance(book.get('price'), str) and book.get('price').replace(',','').isdigit()\\\\\\n                                  else (book.get('price') if isinstance(book.get('price'), int) else 0), reverse=True)\\nprint(copyBooks)\",\n",
       "  \"copyBooks = books.copy()\\ncopyBooks.sort(key=lambda book : int(book.get('price').replace(',',''))\\\\\\n                                  if isinstance(book.get('price'), str) and book.get('price').replace(',','').isdigit()\\\\\\n                                  else (book.get('price') if isinstance(book.get('price'), int) else 0), reverse=True)\\nprint(copyBooks, sep='\\\\n')\",\n",
       "  \"copyBooks = books.copy()\\ncopyBooks.sort(key=lambda book : int(book.get('price').replace(',',''))\\\\\\n                                  if isinstance(book.get('price'), str) and book.get('price').replace(',','').isdigit()\\\\\\n                                  else (book.get('price') if isinstance(book.get('price'), int) else 0), reverse=True)\\ncopyBooks\",\n",
       "  \"def price_parse_int(book):\\n    # book.get(price)를 정수 가격으로 바꾸기 (방법1)\\n    if isinstance(book.get('price'), str) and book.get('price').replace(',','').isdigit():\\n        book['price'] = int(book['price'].replace(',',''))\\n        return book\\n    elif isinstance(book.get('price'), int):\\n        pass\\n    else :\\n        book['price'] = 0\\n    return book\\n    # book2 복사본을 만들어 book.get(price)를 정수 가격으로 바꾸기 (방법2)\\n    # return book2\",\n",
       "  \"price_parse_int({'no': 3, 'title': '트럼프2,0시대', 'writer': '박종훈', 'price': '18,000'})\",\n",
       "  \"price_parse_int({'no': 3, 'title': '트럼프2,0시대', 'writer': '박종훈'})\",\n",
       "  \"price_parse_int({'no': 3, 'title': '트럼프2,0시대', 'writer': '박종훈', 'price': 18000})\",\n",
       "  \"price_parse_int({'no': 3, 'title': '트럼프2,0시대', 'writer': '박종훈', 'price': 'a'})\",\n",
       "  \"def price_parse_int(book):\\n    # book.get(price)를 정수 가격으로 바꾸기 (방법1)\\n    if isinstance(book.get('price'), str) and book.get('price').replace(',','').isdigit():\\n        book['price'] = int(book['price'].replace(',',''))\\n    elif isinstance(book.get('price'), int):\\n        pass\\n    else :\\n        book['price'] = 0\\n    return book\\n    # book2 복사본을 만들어 book.get(price)를 정수 가격으로 바꾸기 (방법2)\\n    # return book2\",\n",
       "  \"def price_parse_int(book):\\n    # book.get(price)를 정수 가격으로 바꾸기 (방법1)\\n    if isinstance(book.get('price'), str) and book.get('price').replace(',','').isdigit():\\n        book['price'] = int(book['price'].replace(',',''))\\n    elif isinstance(book.get('price'), int):\\n        pass\\n    else :\\n        book['price'] = 0\\n    return book\\n    # book2 복사본을 만들어 book.get(price)를 정수 가격으로 바꾸기 (방법2)\\n    # return book2\",\n",
       "  \"price_parse_int({'no': 3, 'title': '트럼프2,0시대', 'writer': '박종훈', 'price': 'a'})\",\n",
       "  \"def price_parse_int(book):\\n    return {'no':book.get('no'),'title':book.get('title'),'writer':book.get('writer'),'price': int(book.get('price').replace(',','')) \\\\\\n                                                                if isinstance(book.get('price'), str) and book.get('price').replace(',','').isdigit()\\\\\\n                                                                else (book.get('price') if isinstance(book.get('price'), int)\\\\\\n                                                                      else book.get('price') = 0)}\",\n",
       "  \"def price_parse_int(book):\\n    return {'no':book.get('no'),'title':book.get('title'),'writer':book.get('writer'),'price': int(book.get('price').replace(',','')) \\\\\\n                                                                if isinstance(book.get('price'), str) and book.get('price').replace(',','').isdigit()\\\\\\n                                                                else (book.get('price') if isinstance(book.get('price'), int)\\\\\\n                                                                      else 0)}\",\n",
       "  \"price_parse_int({'no': 3, 'title': '트럼프2,0시대', 'writer': '박종훈', 'price': 'a'})\",\n",
       "  \"price_parse_int = lambda book : 'no':book.get('no'),'title':book.get('title'),'writer':book.get('writer'),'price': int(book.get('price').replace(',','')) \\\\\\n                                                                if isinstance(book.get('price'), str) and book.get('price').replace(',','').isdigit()\\\\\\n                                                                else (book.get('price') if isinstance(book.get('price'), int)\\\\\\n                                                                      else 0)\",\n",
       "  \"price_parse_int = lambda book : {'no':book.get('no'),'title':book.get('title'),'writer':book.get('writer'),'price': int(book.get('price').replace(',','')) \\\\\\n                                                                if isinstance(book.get('price'), str) and book.get('price').replace(',','').isdigit()\\\\\\n                                                                else (book.get('price') if isinstance(book.get('price'), int)\\\\\\n                                                                      else 0)}\",\n",
       "  \"price_parse_int({'no': 3, 'title': '트럼프2,0시대', 'writer': '박종훈', 'price': 'a'})\",\n",
       "  \"def price_parse_int(book):\\n    # book.get(price)를 정수 가격으로 바꾸기 (방법1)\\n    if isinstance(book.get('price'), str) and book.get('price').replace(',','').isdigit():\\n        book['price'] = int(book['price'].replace(',',''))\\n    elif isinstance(book.get('price'), int):\\n        pass\\n    else :\\n        book['price'] = 0\\n    return book\",\n",
       "  \"price_parse_int = lambda book : {'no':book.get('no'),'title':book.get('title'),'writer':book.get('writer'),'price': int(book.get('price').replace(',','')) \\\\\\n                                                                if isinstance(book.get('price'), str) and book.get('price').replace(',','').isdigit()\\\\\\n                                                                else (book.get('price') if isinstance(book.get('price'), int)\\\\\\n                                                                      else 0)}\",\n",
       "  \"price_parse_int({'no': 3, 'title': '트럼프2,0시대', 'writer': '박종훈', 'price': 'a'})\",\n",
       "  \"price_parse_int = lambda book : {'no':book.get('no'),'title':book.get('title'),'writer':book.get('writer'),'price': int(book.get('price').replace(',','')) \\\\\\n                                                                if isinstance(book.get('price'), str) and book.get('price').replace(',','').isdigit()\\\\\\n                                                                else (book.get('price') if isinstance(book.get('price'), int)\\\\\\n                                                                      else 0)}\",\n",
       "  \"bookTemp = {'no': 3, 'title': '트럼프2,0시대', 'writer': '박종훈', 'price': 'a'}\\nreturnbook = price_parse_int(bookTemp)\",\n",
       "  \"bookTemp = {'no': 3, 'title': '트럼프2,0시대', 'writer': '박종훈', 'price': 'a'}\\nreturnbook = price_parse_int(bookTemp)\\nreturnbook\",\n",
       "  'bookTemp',\n",
       "  \"map(lambda book : {'no':book.get('no'),'title':book.get('title'),'writer':book.get('writer'),'price': int(book.get('price').replace(',','')) \\\\\\n                                                                if isinstance(book.get('price'), str) and book.get('price').replace(',','').isdigit()\\\\\\n                                                                else (book.get('price') if isinstance(book.get('price'), int)\\\\\\n                                                                      else 0)}, book)\",\n",
       "  \"map(lambda book : {'no':book.get('no'),'title':book.get('title'),'writer':book.get('writer'),'price': int(book.get('price').replace(',','')) \\\\\\n                                                                if isinstance(book.get('price'), str) and book.get('price').replace(',','').isdigit()\\\\\\n                                                                else (book.get('price') if isinstance(book.get('price'), int)\\\\\\n                                                                      else 0)}, books)\",\n",
       "  \"map(lambda book : {'no':book.get('no'),'title':book.get('title'),'writer':book.get('writer'),'price': int(book.get('price').replace(',','')) \\\\\\n                                                                if isinstance(book.get('price'), str) and book.get('price').replace(',','').isdigit()\\\\\\n                                                                else (book.get('price') if isinstance(book.get('price'), int)\\\\\\n                                                                      else 0)}, books)\\nbooks\",\n",
       "  \"copyBooks = map(lambda book : {'no':book.get('no'),'title':book.get('title'),'writer':book.get('writer'),'price': int(book.get('price').replace(',','')) \\\\\\n                                                                if isinstance(book.get('price'), str) and book.get('price').replace(',','').isdigit()\\\\\\n                                                                else (book.get('price') if isinstance(book.get('price'), int)\\\\\\n                                                                      else 0)}, books)\\nbooks\",\n",
       "  'copyBooks',\n",
       "  'print(copyBooks)',\n",
       "  'print(list(copyBooks))',\n",
       "  'list(copyBooks)',\n",
       "  'print(list(copyBooks))',\n",
       "  \"copyBooks = map(lambda book : {'no':book.get('no'),'title':book.get('title'),'writer':book.get('writer'),'price': int(book.get('price').replace(',','')) \\\\\\n                                                                if isinstance(book.get('price'), str) and book.get('price').replace(',','').isdigit()\\\\\\n                                                                else (book.get('price') if isinstance(book.get('price'), int)\\\\\\n                                                                      else 0)}, books)\\nbooks\",\n",
       "  'print(list(copyBooks))',\n",
       "  \"copyBooks = map(lambda book : {'no':book.get('no'),'title':book.get('title'),'writer':book.get('writer'),'price': int(book.get('price').replace(',','')) \\\\\\n                                                                                            if isinstance(book.get('price'), str) and book.get('price').replace(',','').isdigit()\\\\\\n                                                                                            else (book.get('price') if isinstance(book.get('price'), int)\\\\\\n                                                                                            else 0)}, books)\\nbooks\",\n",
       "  'print(list(copyBooks))',\n",
       "  \"copyBooks = list(map(lambda book : {'no':book.get('no'),'title':book.get('title'),'writer':book.get('writer'),'price': int(book.get('price').replace(',','')) \\\\\\n                                                                                            if isinstance(book.get('price'), str) and book.get('price').replace(',','').isdigit()\\\\\\n                                                                                            else (book.get('price') if isinstance(book.get('price'), int)\\\\\\n                                                                                            else 0)}, books))\\nbooks\",\n",
       "  'copyBooks',\n",
       "  \"members = [{'name':'홍길동', 'birth':'2000-01-01'},\\n          {'name':'신길동', 'birth':'1995-12-18'}]\\ndef \",\n",
       "  \"members = [{'name':'홍길동', 'birth':'2000-01-01'},\\n          {'name':'신길동', 'birth':'1995-12-18'}]\\ndef members_birth_split (member):\\n    return member\",\n",
       "  \"members = [{'name':'홍길동', 'birth':'2000-01-01'},\\n          {'name':'신길동', 'birth':'1995-12-18'}]\\ndef members_birth_split (member):\\n    if isinstance(member.get('birth'), str):\\n        print(member['birth'].split('-'))\",\n",
       "  \"members = [{'name':'홍길동', 'birth':'2000-01-01'},\\n          {'name':'신길동', 'birth':'1995-12-18'}]\\ndef members_birth_split (member):\\n    if isinstance(member.get('birth'), str):\\n        print(member['birth'].split('-'))\\nmembers_birth_split(members)\",\n",
       "  \"members = [{'name':'홍길동', 'birth':'2000-01-01'},\\n          {'name':'신길동', 'birth':'1995-12-18'}]\\ndef members_birth_split (member):\\n    if isinstance(member.get('birth'), str):\\n        print(member['birth'].split('-'))\\nmembers_birth_split({'name':'홍길동', 'birth':'2000-01-01'})\",\n",
       "  \"members = [{'name':'홍길동', 'birth':'2000-01-01'},\\n          {'name':'신길동', 'birth':'1995-12-18'}]\\ndef members_birth_split (member):\\n    if isinstance(member.get('birth'), str):\\n        splited_member_birth = member['birth'].split('-')\\n        for i in range(len(splited_member_birth)):\\n            splited_member_birth[i] = int(splited_member_birth[i])\\n    print(splited_member_birth)\",\n",
       "  \"members_birth_split({'name':'홍길동', 'birth':'2000-01-01'})\",\n",
       "  \"members = [{'name':'홍길동', 'birth':'2000-01-01'},\\n          {'name':'신길동', 'birth':'1995-12-18'}]\\ndef members_birth_split (member):\\n    if isinstance(member.get('birth'), str):\\n        splited_member_birth = member['birth'].split('-')\\n        for i in range(len(splited_member_birth)):\\n            splited_member_birth[i] = int(splited_member_birth[i])\\n    return {'name':member.get('name'), 'birth':member.get('birth'), 'year':splited_member_birth[0], 'month':splited_member_birth[1], 'day':splited_member_birth[2]}\",\n",
       "  \"members_birth_split({'name':'홍길동', 'birth':'2000-01-01'})\",\n",
       "  \"members_birth_split = lambda member : {'name':member.get('name'), 'birth':member.get('birth'), \\\\\\n                                       'year':[year for member.get('birth').split('-')[0] if isinstance(member.get('birth'), str)], \\\\\\n                                       'month':[month for member.get('birth').split('-')[1] if isinstance(member.get('birth'), str)], \\\\\\n                                       'day':[day for member.get('birth').split('-')[2] if isinstance(member.get('birth'), str)]}\",\n",
       "  \"members_birth_split = lambda member : {'name':member.get('name'), 'birth':member.get('birth'), \\\\\\n                                       'year':[year for member.get('birth').split('-')[0] if isinstance(member.get('birth'), str) else 0], \\\\\\n                                       'month':[month for member.get('birth').split('-')[1] if isinstance(member.get('birth'), str) else 0], \\\\\\n                                       'day':[day for member.get('birth').split('-')[2] if isinstance(member.get('birth'), str) else 0]}\",\n",
       "  \"members_birth_split = lambda member : {'name':member.get('name'), 'birth':member.get('birth'), \\\\\\n                                       'year':[birth for member.get('birth').split('-')[0] if isinstance(member.get('birth'), str) else 0], \\\\\\n                                       'month':[birth for member.get('birth').split('-')[1] if isinstance(member.get('birth'), str) else 0], \\\\\\n                                       'day':[birth for member.get('birth').split('-')[2] if isinstance(member.get('birth'), str) else 0]}\",\n",
       "  \"members_birth_split = lambda member : {'name':member.get('name'), 'birth':member.get('birth'), \\\\\\n                                       'year':[birth for member.get('birth').split('-')[0] if isinstance(member.get('birth'), str) else 0], \\\\\\n                                       'month':[birth for member.get('birth').split('-')[1] if isinstance(member.get('birth'), str) else 0], \\\\\\n                                       'day':[birth for member.get('birth').split('-')[2] if isinstance(member.get('birth'), str) else 0]}\",\n",
       "  \"members_birth_split = lambda member : {'name':member.get('name'), 'birth':member.get('birth'), \\\\\\n                                       'year':[year for year in member.get('birth').split('-')[0] if isinstance(member.get('birth'), str) else 0], \\\\\\n                                       'month':[month for month in member.get('birth').split('-')[1] if isinstance(member.get('birth'), str) else 0], \\\\\\n                                       'day':[day for day in member.get('birth').split('-')[2] if isinstance(member.get('birth'), str) else 0]}\",\n",
       "  \"members_birth_split = lambda member : {'name':member.get('name'), 'birth':member.get('birth'), \\\\\\n                                       'year':[year for year in member.get('birth').split('-')[0] if isinstance(member.get('birth'), str)], \\\\\\n                                       'month':[month for month in member.get('birth').split('-')[1] if isinstance(member.get('birth'), str)], \\\\\\n                                       'day':[day for day in member.get('birth').split('-')[2] if isinstance(member.get('birth'), str)]}\",\n",
       "  \"members_birth_split({'name':'홍길동', 'birth':'2000-01-01'})\",\n",
       "  \"members_birth_split = lambda member : {'name':member.get('name'), 'birth':member.get('birth'), \\\\\\n                                       'year':[''.join(year) for year in member.get('birth').split('-')[0] if isinstance(member.get('birth'), str)], \\\\\\n                                       'month':[month for month in member.get('birth').split('-')[1] if isinstance(member.get('birth'), str)], \\\\\\n                                       'day':[day for day in member.get('birth').split('-')[2] if isinstance(member.get('birth'), str)]}\",\n",
       "  \"members_birth_split({'name':'홍길동', 'birth':'2000-01-01'})\",\n",
       "  \"members_birth_split = lambda member : {'name':member.get('name'), 'birth':member.get('birth'), \\\\\\n                                       'year':[''.join(year) for year in member.get('birth').split('-')[0] if isinstance(member.get('birth'), str)], \\\\\\n                                       'month':[month for month in member.get('birth').split('-')[1] if isinstance(member.get('birth'), str)], \\\\\\n                                       'day':[day for day in member.get('birth').split('-')[2] if isinstance(member.get('birth'), str)]}\",\n",
       "  \"members_birth_split({'name':'홍길동', 'birth':'2000-01-01'})\",\n",
       "  \"members = [{'name':'홍길동', 'birth':'2000-01-01'},\\n          {'name':'신길동', 'birth':'1995-12-18'}]\\ndef members_birth_split (member):\\n    if isinstance(member.get('birth'), str):\\n        splited_member_birth = member['birth'].split('-')\\n        for i in range(len(splited_member_birth)):\\n            splited_member_birth[i] = int(splited_member_birth[i])\\n    return {'name':member.get('name'), 'birth':member.get('birth'), 'year':splited_member_birth[0], 'month':splited_member_birth[1], 'day':splited_member_birth[2]}\",\n",
       "  \"members_birth_split({'name':'홍길동', 'birth':'2000-01-01'})\",\n",
       "  \"members_birth_split = lambda member : {'name':member.get('name'), 'birth':member.get('birth'), \\\\\\n                                       'year':year for year in member.get('birth').split('-')[0] if isinstance(member.get('birth'), str), \\\\\\n                                       'month':[month for month in member.get('birth').split('-')[1] if isinstance(member.get('birth'), str)], \\\\\\n                                       'day':[day for day in member.get('birth').split('-')[2] if isinstance(member.get('birth'), str)]}\",\n",
       "  \"members_birth_split = lambda member : {'name':member.get('name'), 'birth':member.get('birth'), \\\\\\n                                       'year':member['birth'].split('-')[0] if isinstance(member.get('birth'), str), \\\\\\n                                       'month':[month for month in member.get('birth').split('-')[1] if isinstance(member.get('birth'), str)], \\\\\\n                                       'day':[day for day in member.get('birth').split('-')[2] if isinstance(member.get('birth'), str)]}\",\n",
       "  \"members_birth_split = lambda member : {'name':member.get('name'), 'birth':member.get('birth'), \\\\\\n                                       'year':member.get('birth').split('-')[0] if isinstance(member.get('birth'), str), \\\\\\n                                       'month':[month for month in member.get('birth').split('-')[1] if isinstance(member.get('birth'), str)], \\\\\\n                                       'day':[day for day in member.get('birth').split('-')[2] if isinstance(member.get('birth'), str)]}\",\n",
       "  \"members_birth_split = lambda member : {'name':member.get('name'), 'birth':member.get('birth'), \\\\\\n                                       'year':member.get('birth').split('-')[0] if isinstance(member.get('birth'), str) else 0, \\\\\\n                                       'month':[month for month in member.get('birth').split('-')[1] if isinstance(member.get('birth'), str)], \\\\\\n                                       'day':[day for day in member.get('birth').split('-')[2] if isinstance(member.get('birth'), str)]}\",\n",
       "  \"members_birth_split({'name':'홍길동', 'birth':'2000-01-01'})\",\n",
       "  \"members_birth_split = lambda member : {'name':member.get('name'), 'birth':member.get('birth'), \\\\\\n                                       'year':member.get('birth').split('-')[0] if isinstance(member.get('birth'), str) else 0, \\\\\\n                                       'month':member.get('birth').split('-')[1] if isinstance(member.get('birth'), str) else 0, \\\\\\n                                       'day':member.get('birth').split('-')[2] if isinstance(member.get('birth'), str) else 0}\",\n",
       "  \"members_birth_split({'name':'홍길동', 'birth':'2000-01-01'})\",\n",
       "  \"members_birth_split = lambda member : {'name':member.get('name'), 'birth':member.get('birth'), \\\\\\n                                       'year':int(member.get('birth').split('-')[0]) if isinstance(member.get('birth'), str) else 0, \\\\\\n                                       'month':int(member.get('birth').split('-')[1]) if isinstance(member.get('birth'), str) else 0, \\\\\\n                                       'day':int(member.get('birth').split('-')[2]) if isinstance(member.get('birth'), str) else 0}\",\n",
       "  \"members_birth_split({'name':'홍길동', 'birth':'2000-01-01'})\",\n",
       "  \"members = [{'name':'홍길동', 'birth':'2000-01-01'},\\n          {'name':'신길동', 'birth':'1995-12-18'}]\\ndef members_birth_split (member):\\n    if isinstance(member.get('birth'), str):\\n        year, month, day = member['birth'].split('-')\\n    return {'name':member.get('name'), 'birth':member.get('birth'), 'year':year, 'month':month, 'day':day}\",\n",
       "  \"members_birth_split({'name':'홍길동', 'birth':'2000-01-01'})\",\n",
       "  \"members_birth_split = lambda member : {'name':member.get('name'), 'birth':member.get('birth'), \\\\\\n                                       'year':int(member.get('birth').split('-')[0]) if isinstance(member.get('birth'), str) else 0, \\\\\\n                                       'month':int(member.get('birth').split('-')[1]) if isinstance(member.get('birth'), str) else 0, \\\\\\n                                       'day':int(member.get('birth').split('-')[2]) if isinstance(member.get('birth'), str) else 0}\",\n",
       "  \"members = [{'name':'홍길동', 'birth':'2000-01-01'},\\n          {'name':'신길동', 'birth':'1995-12-18'}]\\ndef members_birth_split (member):\\n    if isinstance(member.get('birth'), str):\\n        int(year, month, day) = member['birth'].split('-')\\n    return {'name':member.get('name'), 'birth':member.get('birth'), 'year':year, 'month':month, 'day':day}\",\n",
       "  \"members = [{'name':'홍길동', 'birth':'2000-01-01'},\\n          {'name':'신길동', 'birth':'1995-12-18'}]\\ndef members_birth_split (member):\\n    if isinstance(member.get('birth'), str):\\n        int(year), int(month), int(day) = member['birth'].split('-')\\n    return {'name':member.get('name'), 'birth':member.get('birth'), 'year':year, 'month':month, 'day':day}\",\n",
       "  \"members = [{'name':'홍길동', 'birth':'2000-01-01'},\\n          {'name':'신길동', 'birth':'1995-12-18'}]\\ndef members_birth_split (member):\\n    if isinstance(member.get('birth'), str):\\n        year, month, day = int(member['birth'].split('-'))\\n    return {'name':member.get('name'), 'birth':member.get('birth'), 'year':year, 'month':month, 'day':day}\",\n",
       "  \"members_birth_split({'name':'홍길동', 'birth':'2000-01-01'})\",\n",
       "  \"members = [{'name':'홍길동', 'birth':'2000-01-01'},\\n          {'name':'신길동', 'birth':'1995-12-18'}]\\ndef members_birth_split (member):\\n    if isinstance(member.get('birth'), str):\\n        year, month, day = member['birth'].split('-')\\n    return {'name':member.get('name'), 'birth':member.get('birth'), 'year':year, 'month':month, 'day':day}\",\n",
       "  \"members_birth_split({'name':'홍길동', 'birth':'2000-01-01'})\",\n",
       "  \"members = [{'name':'홍길동', 'birth':'2000-01-01'},\\n          {'name':'신길동', 'birth':'1995-12-18'}]\\ndef members_birth_split (member):\\n    if isinstance(member.get('birth'), str):\\n        year, month, day = member['birth'].split('-')\\n    return {'name':member.get('name'), 'birth':member.get('birth'), 'year':int(year), 'month':int(month), 'day':int(day)}\",\n",
       "  \"members_birth_split({'name':'홍길동', 'birth':'2000-01-01'})\",\n",
       "  \"map(lambda member : {'name':member.get('name'), 'birth':member.get('birth'), \\\\\\n                                       'year':int(member.get('birth').split('-')[0]) if isinstance(member.get('birth'), str) else 0, \\\\\\n                                       'month':int(member.get('birth').split('-')[1]) if isinstance(member.get('birth'), str) else 0, \\\\\\n                                       'day':int(member.get('birth').split('-')[2]) if isinstance(member.get('birth'), str) else 0}, members)\",\n",
       "  \"copy_members=map(lambda member : {'name':member.get('name'), 'birth':member.get('birth'), \\\\\\n                                       'year':int(member.get('birth').split('-')[0]) if isinstance(member.get('birth'), str) else 0, \\\\\\n                                       'month':int(member.get('birth').split('-')[1]) if isinstance(member.get('birth'), str) else 0, \\\\\\n                                       'day':int(member.get('birth').split('-')[2]) if isinstance(member.get('birth'), str) else 0}, members)\",\n",
       "  'copy_members',\n",
       "  \"copy_members = list(map(lambda member : {'name':member.get('name'), 'birth':member.get('birth'), \\\\\\n                                       'year':int(member.get('birth').split('-')[0]) if isinstance(member.get('birth'), str) else 0, \\\\\\n                                       'month':int(member.get('birth').split('-')[1]) if isinstance(member.get('birth'), str) else 0, \\\\\\n                                       'day':int(member.get('birth').split('-')[2]) if isinstance(member.get('birth'), str) else 0}, members))\",\n",
       "  'copy_members',\n",
       "  \"def split_date(date):\\n    split_data = data.split('-')\\n    return {'year' : split_data[0],\\n            'month' : split_data[1],\\n            'day' : split_data[2],}\",\n",
       "  \"def split_date(date):\\n    split_data = data.split('-')\\n    return {'year' : int(split_data[0]),\\n            'month' : int(split_data[1]),\\n            'day' : int(split_data[2]),}\",\n",
       "  \"split_date('2001-06-18')\",\n",
       "  \"def split_date(date):\\n    split_data = date.split('-')\\n    return {'year' : int(split_data[0]),\\n            'month' : int(split_data[1]),\\n            'day' : int(split_data[2]),}\",\n",
       "  \"split_date('2001-06-18')\",\n",
       "  \"split_birth(member): # 'name', 'birth'\\n    return {\\n        'name': member.get('name'),\\n        'birth': member.get('birth'),\\n        'year': int(member.get('birth').split('-')[0]),\\n        'name': int(member.get('birth').split('-')[1]),\\n        'name': int(member.get('birth').split('-')[2]),\\n    }\",\n",
       "  \"def split_birth(member) : # 'name', 'birth'\\n    return {\\n        'name': member.get('name'),\\n        'birth': member.get('birth'),\\n        'year': int(member.get('birth').split('-')[0]),\\n        'name': int(member.get('birth').split('-')[1]),\\n        'name': int(member.get('birth').split('-')[2]),\\n    }\",\n",
       "  \"def split_birth(member) : # 'name', 'birth'\\n    return {\\n        'name': member.get('name'),\\n        'year': int(member.get('birth').split('-')[0]),\\n        'name': int(member.get('birth').split('-')[1]),\\n        'name': int(member.get('birth').split('-')[2]),\\n    }\",\n",
       "  \"def split_birth(member) : # 'name', 'birth'\\n    return {\\n        'name': member.get('name'),\\n        'year': int(member.get('birth').split('-')[0]),\\n        'month': int(member.get('birth').split('-')[1]),\\n        'day': int(member.get('birth').split('-')[2]),\\n    }\",\n",
       "  \"split_birth({'name':'홍길동', 'birth':'2000-01-01'})\",\n",
       "  \"split_birth = lambda member : {\\n        'name': member.get('name'),\\n        'year': int(member.get('birth').split('-')[0]),\\n        'month': int(member.get('birth').split('-')[1]),\\n        'day': int(member.get('birth').split('-')[2]),\\n    }\",\n",
       "  \"split_birth({'name':'홍길동', 'birth':'2000-01-01'})\",\n",
       "  \"split_birth({'name':'홍길동', 'birth':'2000-01-01'})\",\n",
       "  \"members = list(map(lambda member : {\\n        'name': member.get('name'),\\n        'year': int(member.get('birth').split('-')[0]),\\n        'month': int(member.get('birth').split('-')[1]),\\n        'day': int(member.get('birth').split('-')[2]),\\n    }, members))\\nmembers\",\n",
       "  \"def join_date(date):\\n    return '{}-{}-{}'.format(date.get('year'),date.get('month'),date.get('day'))\",\n",
       "  \"join_date({'name': '홍길동', 'year': 2000, 'month': 1, 'day': 1})\",\n",
       "  \"def join_date(date):\\n    return '{}-{:02}-{:02}'.format(date.get('year'),date.get('month'),date.get('day'))\",\n",
       "  \"join_date({'name': '홍길동', 'year': 2000, 'month': 1, 'day': 1})\",\n",
       "  \"def join_date(date):\\n    return '{year}-{month:02}-{day:02}'.format(**date)\",\n",
       "  \"join_date({'name': '홍길동', 'year': 2000, 'month': 1, 'day': 1})\",\n",
       "  \"def join_birth(member):\\n    name = member['name']\\n    del member['name']\\n    print(member)\",\n",
       "  \"join_date({'name': '홍길동', 'year': 2000, 'month': 1, 'day': 1})\",\n",
       "  \"join_birth({'name': '홍길동', 'year': 2000, 'month': 1, 'day': 1})\",\n",
       "  \"def join_birth(member):\\n    name = member['name']\\n    del member['name']\\n    print(member)\\n    join_date = '{year}-{month:02}-{day:02}'.format(**member)\",\n",
       "  \"join_birth({'name': '홍길동', 'year': 2000, 'month': 1, 'day': 1})\",\n",
       "  \"members = list(map(lambda member : {'name':member.get('name')\\\\\\n                                    'birth':'{year}-{month:02}-{day:02}'.format(**member)}))\",\n",
       "  \"members = list(map(lambda member : {'name':member.get('name'),\\\\\\n                                    'birth':'{year}-{month:02}-{day:02}'.format(**member)}))\",\n",
       "  \"members = list(map(lambda member : {'name':member.get('name'),\\\\\\n                                    'birth':'{year}-{month:02}-{day:02}'.format(**member)}, members))\",\n",
       "  \"members = list(map(lambda member : {'name':member.get('name'),\\\\\\n                                    'birth':'{year}-{month:02}-{day:02}'.format(**member)}, members))\\nmembers\",\n",
       "  \"'{year}-{month:02}-{day:02}'.format(**date)\",\n",
       "  'members',\n",
       "  \"members = list(map(lambda member : {\\n        'name': member.get('name'),\\n        'year': int(member.get('birth').split('-')[0]),\\n        'month': int(member.get('birth').split('-')[1]),\\n        'day': int(member.get('birth').split('-')[2]),\\n    }, members))\\nmembers\",\n",
       "  \"members = list(map(lambda member : {'name':member.get('name'),\\\\\\n                                    'birth':'{year}-{month:02}-{day:02}'.format(**member)}, members))\",\n",
       "  'members',\n",
       "  \"def apply(data, func=None):\\n    if func == None:\\n        print('func가 None임')\\n    else:\\n        print('func가 None아님')\",\n",
       "  'apply(1)',\n",
       "  \"def apply(data, func=None):\\n#     if func == None:\\n    if func is None:\\n        print('func가 None임')\\n    else:\\n        print('func가 None아님')\",\n",
       "  'apply(1)',\n",
       "  \"def apply(data, func=None):\\n#     if func == None:\\n    if func is None:\\n        return data\\n    else:\\n        print('func가 None아님')\",\n",
       "  'apply(1)',\n",
       "  'def apply(data, func=None):\\n#     if func == None:\\n    if func is None:\\n        return data\\n    else:\\n        return func(data)',\n",
       "  'apply(1)',\n",
       "  'print(apply(2))\\nprint(apply(2, lambda x:x**3))',\n",
       "  '# 함수를 return\\n\"\"\"\\nmake_box((2,3)) => 2차원 2행 3열 짜리 list를 만드는 함수를 return\\n    fun = make_box([2,3])\\n    fun(5) => [[5,5,5],[5,5,5]]\\nmake_box((2,)) => 1차원 2열짜리 list를 만드는 함수를 return\\n    fun = make_box([2])\\n    fun(7) = [7,7]\\n\"\"\"',\n",
       "  'def make_box(shape): # [x], [x,y]\\n    def box(init_value):\\n        if len(shape) == 1:\\n            return [init_value]*shape[0] # 1차원 list\\n        elif len(shape) == 2:\\n            return [[init_value]*shape[1]]*shape[0]\\n    return box',\n",
       "  'line_fun = make_box((3,))\\nline_fun',\n",
       "  'line_fun = make_box((3,))\\nline_fun(5)',\n",
       "  'box2d_fun = make_box((4,3))\\nbox2d_fun(5)',\n",
       "  'def make_box(shape):\\n    return lambda init_value : [init_value]*shape[0] if len(shape) == 1 \\\\\\n                            else ([[init_value]*shape[1]]*shape[0] if len(shape) == 2)',\n",
       "  'def make_box(shape):\\n    return lambda init_value : [init_value]*shape[0] if len(shape) == 1 \\\\\\n                            else ([[init_value]*shape[1]]*shape[0] if len(shape) == 2 else 0)',\n",
       "  'line_fun = make_box((3,))\\nline_fun(5)',\n",
       "  'box2d_fun = make_box((4,3))\\nbox2d_fun(5)',\n",
       "  'def make_box(shape):\\n    if len(shape) == 1:\\n        return lambda init_value : [init_value]*shape[0]\\n    elif len(shape) == 2:\\n        return lambda init_value : [[init_value]*shape[1]]*shape[0]',\n",
       "  'line_fun = make_box((3,))\\nline_fun(5)',\n",
       "  'box2d_fun = make_box((4,3))\\nbox2d_fun(5)',\n",
       "  \"int('6')\",\n",
       "  'globals()'],\n",
       " 'Out': {1: 8,\n",
       "  2: 30,\n",
       "  3: 30,\n",
       "  5: 9,\n",
       "  11: 100,\n",
       "  12: 'negative',\n",
       "  14: 'negative',\n",
       "  15: 100,\n",
       "  16: 100,\n",
       "  17: 'negative',\n",
       "  18: 'negative',\n",
       "  19: 'negative',\n",
       "  20: 500,\n",
       "  26: <function __main__.<lambda>(vector, item)>,\n",
       "  27: <function __main__.<lambda>(vector, item)>,\n",
       "  28: <function __main__.<lambda>(vector, item)>,\n",
       "  32: -1,\n",
       "  33: (-1, 0),\n",
       "  34: <function __main__.<lambda>(x)>,\n",
       "  35: ('홀수', '짝수'),\n",
       "  36: 'B',\n",
       "  41: ('B', 'A'),\n",
       "  42: ('B', 'A', '재시험'),\n",
       "  43: ('A', 'B', 'C', 'D', 'F', '유효하지 않은 점수'),\n",
       "  44: ('A', 'B', 'C', 'D', 'F', '유효하지 않은 점수'),\n",
       "  45: ('A', 'B', 'C', 'D', 'F', '유효하지 않은 점수'),\n",
       "  46: ('A', 'B', 'C', 'D', 'F', '유효하지 않은 점수'),\n",
       "  47: ('A', 'B', 'C', 'D', 'F', '유효하지 않은 점수'),\n",
       "  48: ('A', 'B', 'C', 'D', 'F', '유효하지 않은 점수'),\n",
       "  49: ('A', 'B', 'C', 'D', 'F', '유효하지 않은 점수'),\n",
       "  50: (3, 0.0),\n",
       "  51: (3, '두번째 인자가 0으로는 못나눠요'),\n",
       "  52: (3, 0.8333333333333334),\n",
       "  53: [10, 20],\n",
       "  54: [<function __main__.<lambda>(a, b)>,\n",
       "   <function __main__.<lambda>(a, b)>,\n",
       "   <function __main__.<lambda>(a, b)>,\n",
       "   <function __main__.<lambda>(a, b)>],\n",
       "  60: [1, 4, 9],\n",
       "  71: [7, 3, 10, 2.5, 25],\n",
       "  72: [7, 3, 10, 2.5, 25],\n",
       "  73: [10, 0, 25, 1.0, 3125],\n",
       "  74: [8, 2, 15, 1.6666666666666667, 125],\n",
       "  77: [2, 4, 6, 8, 10, 12, 14, 16, 18],\n",
       "  78: [2, 4, 6, 8, 10, 12, 14, 16, 18],\n",
       "  80: [2, 4, 6, 8, 10, 12, 14, 16, 18],\n",
       "  81: <map at 0x1eaf93c4610>,\n",
       "  82: [2, 4, 6, 8, 10, 12, 14, 16, 18],\n",
       "  85: [True, True, True, True],\n",
       "  86: [True, True, True, True],\n",
       "  88: [2, 4, 6, 8],\n",
       "  89: <filter at 0x1eaf93bb040>,\n",
       "  92: [1, 2, 3, 4, 5, 6, 7, 8, 9],\n",
       "  93: [2, 4, 6, 8],\n",
       "  94: [1, 3, 5, 7, 9],\n",
       "  95: [2, 4, 6, 8],\n",
       "  101: [1, 2, 100],\n",
       "  102: [1, 2, 100],\n",
       "  103: [1, 2, 3.0, 100],\n",
       "  108: [1, 3, 6, 10],\n",
       "  109: [10, 6, 3, 1],\n",
       "  110: [(2, 'two'), (3, 'three'), (1, 'oen'), (4, 'four')],\n",
       "  111: [(2, 'two'), (3, 'three'), (1, 'oen'), (4, 'four')],\n",
       "  112: [(2, 'two'), (3, 'three'), (1, 'oen'), (4, 'four')],\n",
       "  122: [{'name': '홍', 'score': 99},\n",
       "   {'name': '김', 'score': 77},\n",
       "   {'name': '박', 'score': 66},\n",
       "   {'name': '이', 'score': 22}],\n",
       "  123: [{'name': '홍', 'score': 99},\n",
       "   {'name': '김', 'score': 77},\n",
       "   {'name': '박', 'score': 66},\n",
       "   {'name': '이', 'score': 22}],\n",
       "  124: [{'name': '홍', 'score': 99},\n",
       "   {'name': '김', 'score': 77},\n",
       "   {'name': '박', 'score': 66},\n",
       "   {'name': '이', 'score': 22}],\n",
       "  125: [{'name': '홍', 'score': 99},\n",
       "   {'name': '김', 'score': 77},\n",
       "   {'name': '박', 'score': 66},\n",
       "   {'name': '이', 'score': 22}],\n",
       "  126: [{'name': '홍', 'score': 99},\n",
       "   {'name': '김', 'score': 77},\n",
       "   {'name': '박', 'score': 66},\n",
       "   {'name': '이', 'score': 22}],\n",
       "  127: [{'name': '홍', 'score': 99},\n",
       "   {'name': '김', 'score': 77},\n",
       "   {'name': '박', 'score': 66},\n",
       "   {'name': '이', 'score': 22}],\n",
       "  128: [{'name': '홍', 'score': 99},\n",
       "   {'name': '김', 'score': 77},\n",
       "   {'name': '박', 'score': 66},\n",
       "   {'name': '이', 'score': 22}],\n",
       "  130: [{'name': '홍', 'score': 99},\n",
       "   {'name': '김', 'score': 77},\n",
       "   {'name': '박', 'score': 66},\n",
       "   {'name': '이', 'score': 22}],\n",
       "  133: [{'no': 2, 'title': '트렌드코리아2025', 'writer': '김난도', 'price': '18,100'},\n",
       "   {'no': 3, 'title': '트럼프2,0시대', 'writer': '박종훈', 'price': '18,000'},\n",
       "   {'no': 5, 'title': '가격이없음', 'writer': '신길동', 'price': 'None예정'},\n",
       "   {'no': 1, 'title': '소년이 온다', 'writer': '한강', 'price': '13,500'},\n",
       "   {'no': 4, 'title': '가격잘못', 'writer': '홍길동', 'price': 'ㅁ'}],\n",
       "  134: [{'no': 2, 'title': '트렌드코리아2025', 'writer': '김난도', 'price': '18,100'},\n",
       "   {'no': 3, 'title': '트럼프2,0시대', 'writer': '박종훈', 'price': '18,000'},\n",
       "   {'no': 5, 'title': '가격이없음', 'writer': '신길동', 'price': 'None예정'},\n",
       "   {'no': 1, 'title': '소년이 온다', 'writer': '한강', 'price': '13,500'},\n",
       "   {'no': 4, 'title': '가격잘못', 'writer': '홍길동', 'price': 'ㅁ'}],\n",
       "  135: [{'no': 2, 'title': '트렌드코리아2025', 'writer': '김난도', 'price': '18,100'},\n",
       "   {'no': 3, 'title': '트럼프2,0시대', 'writer': '박종훈', 'price': '18,000'},\n",
       "   {'no': 5, 'title': '가격이없음', 'writer': '신길동', 'price': 'None예정'},\n",
       "   {'no': 1, 'title': '소년이 온다', 'writer': '한강', 'price': '13,500'},\n",
       "   {'no': 4, 'title': '가격잘못', 'writer': '홍길동', 'price': 'ㅁ'}],\n",
       "  137: [{'no': 4, 'title': '가격잘못', 'writer': '홍길동', 'price': 'ㅁ'},\n",
       "   {'no': 5, 'title': '가격이없음', 'writer': '신길동', 'price': 'None예정'},\n",
       "   {'no': 2, 'title': '트렌드코리아2025', 'writer': '김난도', 'price': '9,100'},\n",
       "   {'no': 3, 'title': '트럼프2,0시대', 'writer': '박종훈', 'price': '18,000'},\n",
       "   {'no': 1, 'title': '소년이 온다', 'writer': '한강', 'price': '13,500'}],\n",
       "  138: [{'no': 4, 'title': '가격잘못', 'writer': '홍길동', 'price': 'ㅁ'},\n",
       "   {'no': 5, 'title': '가격이없음', 'writer': '신길동', 'price': 'None예정'},\n",
       "   {'no': 2, 'title': '트렌드코리아2025', 'writer': '김난도', 'price': '9,100'},\n",
       "   {'no': 3, 'title': '트럼프2,0시대', 'writer': '박종훈', 'price': '18,000'},\n",
       "   {'no': 1, 'title': '소년이 온다', 'writer': '한강', 'price': '13,500'}],\n",
       "  139: [{'no': 4, 'title': '가격잘못', 'writer': '홍길동', 'price': 'ㅁ'},\n",
       "   {'no': 5, 'title': '가격이없음', 'writer': '신길동', 'price': 'None예정'},\n",
       "   {'no': 2, 'title': '트렌드코리아2025', 'writer': '김난도', 'price': '9,100'},\n",
       "   {'no': 3, 'title': '트럼프2,0시대', 'writer': '박종훈', 'price': '18,000'},\n",
       "   {'no': 1, 'title': '소년이 온다', 'writer': '한강', 'price': '13,500'}],\n",
       "  140: [{'no': 4, 'title': '가격잘못', 'writer': '홍길동', 'price': 'ㅁ'},\n",
       "   {'no': 5, 'title': '가격이없음', 'writer': '신길동', 'price': 'None예정'},\n",
       "   {'no': 2, 'title': '트렌드코리아2025', 'writer': '김난도', 'price': '9,100'},\n",
       "   {'no': 3, 'title': '트럼프2,0시대', 'writer': '박종훈', 'price': '18,000'},\n",
       "   {'no': 1, 'title': '소년이 온다', 'writer': '한강', 'price': '13,500'}],\n",
       "  141: [{'no': 4, 'title': '가격잘못', 'writer': '홍길동', 'price': 'ㅁ'},\n",
       "   {'no': 5, 'title': '가격이없음', 'writer': '신길동', 'price': 'None예정'},\n",
       "   {'no': 2, 'title': '트렌드코리아2025', 'writer': '김난도', 'price': '9,100'},\n",
       "   {'no': 3, 'title': '트럼프2,0시대', 'writer': '박종훈', 'price': '18,000'},\n",
       "   {'no': 1, 'title': '소년이 온다', 'writer': '한강', 'price': '13,500'}],\n",
       "  147: (None, None, None, None),\n",
       "  148: (None, None, None, None),\n",
       "  149: (None, None, None, None),\n",
       "  151: (None, None, None, None),\n",
       "  153: (0, 0, 9200, 13500),\n",
       "  154: [{'no': 4, 'title': '가격잘못', 'writer': '홍길동', 'price': 'ㅁ'},\n",
       "   {'no': 5, 'title': '가격이없음', 'writer': '이길동'},\n",
       "   {'no': 2, 'title': '트렌드코리아2025', 'writer': '김난도', 'price': '9,100'},\n",
       "   {'no': 6, 'title': '가격이숫자', 'writer': '신길동', 'price': 9200},\n",
       "   {'no': 1, 'title': '소년이 온다', 'writer': '한강', 'price': '13,500'},\n",
       "   {'no': 3, 'title': '트럼프2,0시대', 'writer': '박종훈', 'price': '18,000'}],\n",
       "  155: [<function __main__.<lambda>(book)>,\n",
       "   <function __main__.<lambda>(book)>,\n",
       "   <function __main__.<lambda>(book)>,\n",
       "   <function __main__.<lambda>(book)>,\n",
       "   <function __main__.<lambda>(book)>,\n",
       "   <function __main__.<lambda>(book)>],\n",
       "  157: [<function __main__.<lambda>(book)>,\n",
       "   <function __main__.<lambda>(book)>,\n",
       "   <function __main__.<lambda>(book)>,\n",
       "   <function __main__.<lambda>(book)>,\n",
       "   <function __main__.<lambda>(book)>,\n",
       "   <function __main__.<lambda>(book)>],\n",
       "  169: [0, 0, 9100, 9200, 13500, 18000],\n",
       "  171: [13500, 18000, 9100, 0, 9200, 0],\n",
       "  174: [{'no': 4, 'title': '가격잘못', 'writer': '홍길동', 'price': 'ㅁ'},\n",
       "   {'no': 5, 'title': '가격이없음', 'writer': '이길동'},\n",
       "   {'no': 2, 'title': '트렌드코리아2025', 'writer': '김난도', 'price': '9,100'},\n",
       "   {'no': 6, 'title': '가격이숫자', 'writer': '신길동', 'price': 9200},\n",
       "   {'no': 1, 'title': '소년이 온다', 'writer': '한강', 'price': '13,500'},\n",
       "   {'no': 3, 'title': '트럼프2,0시대', 'writer': '박종훈', 'price': '18,000'}],\n",
       "  175: [{'no': 3, 'title': '트럼프2,0시대', 'writer': '박종훈', 'price': '18,000'},\n",
       "   {'no': 1, 'title': '소년이 온다', 'writer': '한강', 'price': '13,500'},\n",
       "   {'no': 6, 'title': '가격이숫자', 'writer': '신길동', 'price': 9200},\n",
       "   {'no': 2, 'title': '트렌드코리아2025', 'writer': '김난도', 'price': '9,100'},\n",
       "   {'no': 4, 'title': '가격잘못', 'writer': '홍길동', 'price': 'ㅁ'},\n",
       "   {'no': 5, 'title': '가격이없음', 'writer': '이길동'}],\n",
       "  176: [{'no': 1, 'title': '소년이 온다', 'writer': '한강', 'price': '13,500'},\n",
       "   {'no': 3, 'title': '트럼프2,0시대', 'writer': '박종훈', 'price': '18,000'},\n",
       "   {'no': 2, 'title': '트렌드코리아2025', 'writer': '김난도', 'price': '9,100'},\n",
       "   {'no': 4, 'title': '가격잘못', 'writer': '홍길동', 'price': 'ㅁ'},\n",
       "   {'no': 6, 'title': '가격이숫자', 'writer': '신길동', 'price': 9200},\n",
       "   {'no': 5, 'title': '가격이없음', 'writer': '이길동'}],\n",
       "  179: [{'no': 3, 'title': '트럼프2,0시대', 'writer': '박종훈', 'price': '18,000'},\n",
       "   {'no': 1, 'title': '소년이 온다', 'writer': '한강', 'price': '13,500'},\n",
       "   {'no': 6, 'title': '가격이숫자', 'writer': '신길동', 'price': 9200},\n",
       "   {'no': 2, 'title': '트렌드코리아2025', 'writer': '김난도', 'price': '9,100'},\n",
       "   {'no': 4, 'title': '가격잘못', 'writer': '홍길동', 'price': 'ㅁ'},\n",
       "   {'no': 5, 'title': '가격이없음', 'writer': '이길동'}],\n",
       "  181: {'no': 3, 'title': '트럼프2,0시대', 'writer': '박종훈', 'price': 18000},\n",
       "  182: {'no': 3, 'title': '트럼프2,0시대', 'writer': '박종훈', 'price': 0},\n",
       "  183: {'no': 3, 'title': '트럼프2,0시대', 'writer': '박종훈', 'price': 18000},\n",
       "  184: {'no': 3, 'title': '트럼프2,0시대', 'writer': '박종훈', 'price': 0},\n",
       "  187: {'no': 3, 'title': '트럼프2,0시대', 'writer': '박종훈', 'price': 0},\n",
       "  190: {'no': 3, 'title': '트럼프2,0시대', 'writer': '박종훈', 'price': 0},\n",
       "  193: {'no': 3, 'title': '트럼프2,0시대', 'writer': '박종훈', 'price': 0},\n",
       "  196: {'no': 3, 'title': '트럼프2,0시대', 'writer': '박종훈', 'price': 0},\n",
       "  199: {'no': 3, 'title': '트럼프2,0시대', 'writer': '박종훈', 'price': 0},\n",
       "  200: {'no': 3, 'title': '트럼프2,0시대', 'writer': '박종훈', 'price': 'a'},\n",
       "  202: <map at 0x1eaf9474b80>,\n",
       "  203: [{'no': 1, 'title': '소년이 온다', 'writer': '한강', 'price': '13,500'},\n",
       "   {'no': 3, 'title': '트럼프2,0시대', 'writer': '박종훈', 'price': '18,000'},\n",
       "   {'no': 2, 'title': '트렌드코리아2025', 'writer': '김난도', 'price': '9,100'},\n",
       "   {'no': 4, 'title': '가격잘못', 'writer': '홍길동', 'price': 'ㅁ'},\n",
       "   {'no': 6, 'title': '가격이숫자', 'writer': '신길동', 'price': 9200},\n",
       "   {'no': 5, 'title': '가격이없음', 'writer': '이길동'}],\n",
       "  204: [{'no': 1, 'title': '소년이 온다', 'writer': '한강', 'price': '13,500'},\n",
       "   {'no': 3, 'title': '트럼프2,0시대', 'writer': '박종훈', 'price': '18,000'},\n",
       "   {'no': 2, 'title': '트렌드코리아2025', 'writer': '김난도', 'price': '9,100'},\n",
       "   {'no': 4, 'title': '가격잘못', 'writer': '홍길동', 'price': 'ㅁ'},\n",
       "   {'no': 6, 'title': '가격이숫자', 'writer': '신길동', 'price': 9200},\n",
       "   {'no': 5, 'title': '가격이없음', 'writer': '이길동'}],\n",
       "  205: <map at 0x1eaf9474910>,\n",
       "  208: [],\n",
       "  210: [{'no': 1, 'title': '소년이 온다', 'writer': '한강', 'price': '13,500'},\n",
       "   {'no': 3, 'title': '트럼프2,0시대', 'writer': '박종훈', 'price': '18,000'},\n",
       "   {'no': 2, 'title': '트렌드코리아2025', 'writer': '김난도', 'price': '9,100'},\n",
       "   {'no': 4, 'title': '가격잘못', 'writer': '홍길동', 'price': 'ㅁ'},\n",
       "   {'no': 6, 'title': '가격이숫자', 'writer': '신길동', 'price': 9200},\n",
       "   {'no': 5, 'title': '가격이없음', 'writer': '이길동'}],\n",
       "  212: [{'no': 1, 'title': '소년이 온다', 'writer': '한강', 'price': '13,500'},\n",
       "   {'no': 3, 'title': '트럼프2,0시대', 'writer': '박종훈', 'price': '18,000'},\n",
       "   {'no': 2, 'title': '트렌드코리아2025', 'writer': '김난도', 'price': '9,100'},\n",
       "   {'no': 4, 'title': '가격잘못', 'writer': '홍길동', 'price': 'ㅁ'},\n",
       "   {'no': 6, 'title': '가격이숫자', 'writer': '신길동', 'price': 9200},\n",
       "   {'no': 5, 'title': '가격이없음', 'writer': '이길동'}],\n",
       "  214: [{'no': 1, 'title': '소년이 온다', 'writer': '한강', 'price': '13,500'},\n",
       "   {'no': 3, 'title': '트럼프2,0시대', 'writer': '박종훈', 'price': '18,000'},\n",
       "   {'no': 2, 'title': '트렌드코리아2025', 'writer': '김난도', 'price': '9,100'},\n",
       "   {'no': 4, 'title': '가격잘못', 'writer': '홍길동', 'price': 'ㅁ'},\n",
       "   {'no': 6, 'title': '가격이숫자', 'writer': '신길동', 'price': 9200},\n",
       "   {'no': 5, 'title': '가격이없음', 'writer': '이길동'}],\n",
       "  215: [{'no': 1, 'title': '소년이 온다', 'writer': '한강', 'price': 13500},\n",
       "   {'no': 3, 'title': '트럼프2,0시대', 'writer': '박종훈', 'price': 18000},\n",
       "   {'no': 2, 'title': '트렌드코리아2025', 'writer': '김난도', 'price': 9100},\n",
       "   {'no': 4, 'title': '가격잘못', 'writer': '홍길동', 'price': 0},\n",
       "   {'no': 6, 'title': '가격이숫자', 'writer': '신길동', 'price': 9200},\n",
       "   {'no': 5, 'title': '가격이없음', 'writer': '이길동', 'price': 0}],\n",
       "  224: {'name': '홍길동',\n",
       "   'birth': '2000-01-01',\n",
       "   'year': 2000,\n",
       "   'month': 1,\n",
       "   'day': 1},\n",
       "  231: {'name': '홍길동',\n",
       "   'birth': '2000-01-01',\n",
       "   'year': ['2', '0', '0', '0'],\n",
       "   'month': ['0', '1'],\n",
       "   'day': ['0', '1']},\n",
       "  233: {'name': '홍길동',\n",
       "   'birth': '2000-01-01',\n",
       "   'year': ['2', '0', '0', '0'],\n",
       "   'month': ['0', '1'],\n",
       "   'day': ['0', '1']},\n",
       "  235: {'name': '홍길동',\n",
       "   'birth': '2000-01-01',\n",
       "   'year': ['2', '0', '0', '0'],\n",
       "   'month': ['0', '1'],\n",
       "   'day': ['0', '1']},\n",
       "  237: {'name': '홍길동',\n",
       "   'birth': '2000-01-01',\n",
       "   'year': 2000,\n",
       "   'month': 1,\n",
       "   'day': 1},\n",
       "  242: {'name': '홍길동',\n",
       "   'birth': '2000-01-01',\n",
       "   'year': '2000',\n",
       "   'month': ['0', '1'],\n",
       "   'day': ['0', '1']},\n",
       "  244: {'name': '홍길동',\n",
       "   'birth': '2000-01-01',\n",
       "   'year': '2000',\n",
       "   'month': '01',\n",
       "   'day': '01'},\n",
       "  246: {'name': '홍길동',\n",
       "   'birth': '2000-01-01',\n",
       "   'year': 2000,\n",
       "   'month': 1,\n",
       "   'day': 1},\n",
       "  248: {'name': '홍길동',\n",
       "   'birth': '2000-01-01',\n",
       "   'year': '2000',\n",
       "   'month': '01',\n",
       "   'day': '01'},\n",
       "  255: {'name': '홍길동',\n",
       "   'birth': '2000-01-01',\n",
       "   'year': '2000',\n",
       "   'month': '01',\n",
       "   'day': '01'},\n",
       "  257: {'name': '홍길동',\n",
       "   'birth': '2000-01-01',\n",
       "   'year': 2000,\n",
       "   'month': 1,\n",
       "   'day': 1},\n",
       "  258: <map at 0x1eaf93c57e0>,\n",
       "  260: <map at 0x1eaf9932380>,\n",
       "  262: [{'name': '홍길동',\n",
       "    'birth': '2000-01-01',\n",
       "    'year': 2000,\n",
       "    'month': 1,\n",
       "    'day': 1},\n",
       "   {'name': '신길동',\n",
       "    'birth': '1995-12-18',\n",
       "    'year': 1995,\n",
       "    'month': 12,\n",
       "    'day': 18}],\n",
       "  267: {'year': 2001, 'month': 6, 'day': 18},\n",
       "  272: {'name': '홍길동', 'year': 2000, 'month': 1, 'day': 1},\n",
       "  274: {'name': '홍길동', 'year': 2000, 'month': 1, 'day': 1},\n",
       "  275: {'name': '홍길동', 'year': 2000, 'month': 1, 'day': 1},\n",
       "  276: [{'name': '홍길동', 'year': 2000, 'month': 1, 'day': 1},\n",
       "   {'name': '신길동', 'year': 1995, 'month': 12, 'day': 18}],\n",
       "  278: '2000-1-1',\n",
       "  280: '2000-01-01',\n",
       "  282: '2000-01-01',\n",
       "  284: '2000-01-01',\n",
       "  293: [{'name': '홍길동', 'birth': '2000-01-01'},\n",
       "   {'name': '신길동', 'birth': '1995-12-18'}],\n",
       "  294: [{'name': '홍길동', 'year': 2000, 'month': 1, 'day': 1},\n",
       "   {'name': '신길동', 'year': 1995, 'month': 12, 'day': 18}],\n",
       "  296: [{'name': '홍길동', 'birth': '2000-01-01'},\n",
       "   {'name': '신길동', 'birth': '1995-12-18'}],\n",
       "  302: 1,\n",
       "  304: 1,\n",
       "  306: '\\nmake_box((2,3)) => 2차원 2행 3열 짜리 list를 만드는 함수를 return\\n    fun = make_box([2,3])\\n    fun(5) => [[5,5,5],[5,5,5]]\\nmake_box((2,)) => 1차원 2열짜리 list를 만드는 함수를 return\\n    fun = make_box([2])\\n    fun(7) = [7,7]\\n',\n",
       "  308: <function __main__.make_box.<locals>.box(init_value)>,\n",
       "  309: [5, 5, 5],\n",
       "  310: [[5, 5, 5], [5, 5, 5], [5, 5, 5], [5, 5, 5]],\n",
       "  313: [5, 5, 5],\n",
       "  314: [[5, 5, 5], [5, 5, 5], [5, 5, 5], [5, 5, 5]],\n",
       "  316: [5, 5, 5],\n",
       "  317: [[5, 5, 5], [5, 5, 5], [5, 5, 5], [5, 5, 5]],\n",
       "  318: 6},\n",
       " 'get_ipython': <bound method InteractiveShell.get_ipython of <ipykernel.zmqshell.ZMQInteractiveShell object at 0x000001EAF6386CE0>>,\n",
       " 'exit': <IPython.core.autocall.ZMQExitAutocall at 0x1eaf6387fa0>,\n",
       " 'quit': <IPython.core.autocall.ZMQExitAutocall at 0x1eaf6387fa0>,\n",
       " 'open': <function io.open(file, mode='r', buffering=-1, encoding=None, errors=None, newline=None, closefd=True, opener=None)>,\n",
       " '_': 6,\n",
       " '__': [[5, 5, 5], [5, 5, 5], [5, 5, 5], [5, 5, 5]],\n",
       " '___': [5, 5, 5],\n",
       " 'json': <module 'json' from 'C:\\\\Users\\\\4545\\\\anaconda3\\\\lib\\\\json\\\\__init__.py'>,\n",
       " 'autopep8': <module 'autopep8' from 'C:\\\\Users\\\\4545\\\\anaconda3\\\\lib\\\\site-packages\\\\autopep8.py'>,\n",
       " 'yapf_reformat': <function __main__.yapf_reformat(cell_text)>,\n",
       " '_i': \"int('6')\",\n",
       " '_ii': 'box2d_fun = make_box((4,3))\\nbox2d_fun(5)',\n",
       " '_iii': 'line_fun = make_box((3,))\\nline_fun(5)',\n",
       " '_i1': 'def add(a,b):\\n    return a+b\\nadd(3,5)',\n",
       " 'add': <function __main__.<lambda>(a, b)>,\n",
       " '_1': 8,\n",
       " '_i2': 'add2 = add\\nadd2(10,20)',\n",
       " 'add2': <function __main__.<lambda>(a, b)>,\n",
       " '_2': 30,\n",
       " '_i3': 'add2 = lambda a,b : a+b\\nadd2(10,20)',\n",
       " '_3': 30,\n",
       " '_i4': 'print(type(add), type(add2)) ',\n",
       " '_i5': '(lambda a, b : a+b)(3,6)',\n",
       " '_5': 9,\n",
       " '_i6': '# a 와 b 의 차이를 return\\ndef diff(a, b):\\n    if a>=b:\\n        return a-b\\n    else b>=a:\\n        return b-a',\n",
       " '_i7': '# a 와 b 의 차이를 return\\ndef diff(a, b):\\n    if a>=b:\\n        return a-b\\n    elif b>=a:\\n        return b-a',\n",
       " 'diff': <function __main__.diff(a, b)>,\n",
       " '_i8': 'diff2 = lambda a, b: a-b if a>=b else b-a',\n",
       " 'diff2': <function __main__.<lambda>(a, b)>,\n",
       " '_i9': 'print(diff(3,5),diff(5,3),diff2(3,5),diff2(5,3))\\nprint(type(diff), type(diff2))',\n",
       " '_i10': \"#매개변수로 잔액을 받아 잔액이 음수면 'negative'라고 출력, 양수면 잔액\\ndef get_balance(balance):\\n    if balance>=0:\\n        return balance\\n    else:\\n        return 'negative'\",\n",
       " 'get_balance': <function __main__.get_balance(balance)>,\n",
       " '_i11': 'get_balance(100)',\n",
       " '_11': 100,\n",
       " '_i12': 'get_balance(-100)',\n",
       " '_12': 'negative',\n",
       " '_i13': \"get_balance2 = lambda balance : balance if balance>=0 else 'negative' \",\n",
       " 'get_balance2': <function __main__.<lambda>(balance)>,\n",
       " '_i14': 'get_balance2(100)\\nget_balance2(-100)',\n",
       " '_14': 'negative',\n",
       " '_i15': 'get_balance2(100)',\n",
       " '_15': 100,\n",
       " '_i16': \"get_balance2 = lambda balance : balance if balance>=0 else 'negative'\\nget_balance2(100)\",\n",
       " '_16': 100,\n",
       " '_i17': \"balance = -500\\nif balance>=0:\\n    result = balance\\nelse :\\n    result = 'negative'\\nresult\",\n",
       " 'balance': 500,\n",
       " 'result': 'negative',\n",
       " '_17': 'negative',\n",
       " '_i18': \"balance if balance>=0 else 'negative'\",\n",
       " '_18': 'negative',\n",
       " '_i19': \"balance if balance>=0 else 'negative'\",\n",
       " '_19': 'negative',\n",
       " '_i20': \"balance = 500\\nbalance if balance>=0 else 'negative'\",\n",
       " '_20': 500,\n",
       " '_i21': '# 아래 함수도 람다식으로 바꿀 수 있음\\nlst = [1,2,3]\\nv = (1,2,3)\\nv.index(4)',\n",
       " 'lst': [1, 2, 3],\n",
       " 'v': (1, 2, 3),\n",
       " '_i22': '# 아래 함수도 람다식으로 바꿀 수 있음\\nlst = [1,2,3]\\nv = (1,2,3)\\nsafe_index = vector, item : vector if item in vecotr else -1\\nsafe_index(v, 1), safe_index(v, 4)',\n",
       " '_i23': '# 아래 함수도 람다식으로 바꿀 수 있음\\nlst = [1,2,3]\\nv = (1,2,3)\\nsafe_index = vector, item : vector.index(item) if item in vecotr else -1\\nsafe_index(v, 1), safe_index(v, 4)',\n",
       " '_i24': '# 아래 함수도 람다식으로 바꿀 수 있음\\nlst = [1,2,3]\\nv = (1,2,3)\\nsafe_index = vector, item vector.index(item) if item in vecotr else -1\\nsafe_index(v, 1), safe_index(v, 4)',\n",
       " '_i25': '# 아래 함수도 람다식으로 바꿀 수 있음\\nlst = [1,2,3]\\nv = (1,2,3)\\nlambda vector,item: vector.index(item) if item in vecotr else -1\\nsafe_index(v, 1), safe_index(v, 4)',\n",
       " '_i26': '# 아래 함수도 람다식으로 바꿀 수 있음\\nlst = [1,2,3]\\nv = (1,2,3)\\nlambda vector,item: vector.index(item) if item in vecotr else -1 (v,4)',\n",
       " '_26': <function __main__.<lambda>(vector, item)>,\n",
       " '_i27': '# 아래 함수도 람다식으로 바꿀 수 있음\\nlst = [1,2,3]\\nv = (1,2,3)\\nlambda vector,item: vector.index(item) if item in vecotr else -1 (v,1)',\n",
       " '_27': <function __main__.<lambda>(vector, item)>,\n",
       " '_i28': '# 아래 함수도 람다식으로 바꿀 수 있음\\nlst = [1,2,3]\\nv = (1,2,3)\\nlambda vector,item: vector.index(item) if item in vecotr else -1 (v,1)',\n",
       " '_28': <function __main__.<lambda>(vector, item)>,\n",
       " '_i29': '# 아래 함수도 람다식으로 바꿀 수 있음\\nlst = [1,2,3]\\nv = (1,2,3)\\nsafe_index = vector,item: vector.index(item) if item in vecotr else -1 ',\n",
       " '_i30': '# 아래 함수도 람다식으로 바꿀 수 있음\\nlst = [1,2,3]\\nv = (1,2,3)\\nsafe_index = lambda vector,item: vector.index(item) if item in vecotr else -1',\n",
       " 'safe_index': <function __main__.<lambda>(vector, item)>,\n",
       " '_i31': '# 아래 함수도 람다식으로 바꿀 수 있음\\nlst = [1,2,3]\\nv = (1,2,3)\\nsafe_index = lambda vector,item: vector.index(item) if item in vecotr else -1\\nsafe_index(v,4)',\n",
       " '_i32': '# 아래 함수도 람다식으로 바꿀 수 있음\\nlst = [1,2,3]\\nv = (1,2,3)\\nsafe_index = lambda vector,item: vector.index(item) if item in vector else -1\\nsafe_index(v,4)',\n",
       " '_32': -1,\n",
       " '_i33': '# 아래 함수도 람다식으로 바꿀 수 있음\\nlst = [1,2,3]\\nv = (1,2,3)\\nsafe_index = lambda vector,item: vector.index(item) if item in vector else -1\\nsafe_index(v,4), safe_index(v, 1)',\n",
       " '_33': (-1, 0),\n",
       " '_i34': \"#매개변수로 들어온 값이 짝수면 '짝수', 홀수면 '홀수'라고 리턴\\nlambda x : '짝수' if x%2==0 else '홀수' (3)\",\n",
       " '_34': <function __main__.<lambda>(x)>,\n",
       " '_i35': \"#매개변수로 들어온 값이 짝수면 '짝수', 홀수면 '홀수'라고 리턴\\neven_odd_chk = lambda x : '짝수' if x%2==0 else '홀수'\\neven_odd_chk(5), even_odd_chk(2)\",\n",
       " 'even_odd_chk': <function __main__.<lambda>(x)>,\n",
       " '_35': ('홀수', '짝수'),\n",
       " '_i36': \"def levelChk(score):\\n    if score >= 80:\\n        return 'A'\\n    elif score >= 60:\\n        return 'B'\\n    else:\\n        return '재시험'\\nlevelChk(65)\",\n",
       " 'levelChk': <function __main__.<lambda>(score)>,\n",
       " '_36': 'B',\n",
       " '_i37': \"levelChk = lambda score : 'A' if score >= 80 else(score : 'B' if score >= 60 else '재시험')(score)\",\n",
       " '_i38': \"levelChk = lambda score : 'A' if score >= 80 else(score  'B' if score >= 60 else '재시험')(score)\",\n",
       " '_i39': \"levelChk = lambda score : 'A' if score >= 80 else('B' if score >= 60 else '재시험')(score)\",\n",
       " '_i40': \"levelChk = lambda score : 'A' if score >= 80 else('B' if score >= 60 else '재시험')(score)\\nlevelChk(65),levelChk(95)\",\n",
       " '_i41': \"levelChk = lambda score : 'A' if score >= 80 else('B' if score >= 60 else '재시험')\\nlevelChk(65),levelChk(95)\",\n",
       " '_41': ('B', 'A'),\n",
       " '_i42': \"levelChk = lambda score : 'A' if score >= 80 else('B' if score >= 60 else '재시험')\\nlevelChk(65),levelChk(95),levelChk(9)\",\n",
       " '_42': ('B', 'A', '재시험'),\n",
       " '_i43': \"score_grade = lambda score : 'A' if 90 <= score <= 100 else ('B' if 80 <= score < 90 else ('C' if 70 <= score < 80 else ('D' if 60 <= score <70 else ('F' if 0 <= score < 60 else '유효하지 않은 점수'))))\\nscore_grade(99),score_grade(89),score_grade(79),score_grade(69),score_grade(59),score_grade(999)\",\n",
       " 'score_grade': <function __main__.<lambda>(score)>,\n",
       " '_43': ('A', 'B', 'C', 'D', 'F', '유효하지 않은 점수'),\n",
       " '_i44': \"score_grade = lambda score : 'A' if 90 <= score <= 100 else ('B' if 80 <= score < 90 else ('C' if 70 <= score < 80 else \\\\\\n                                                                                           ('D' if 60 <= score <70 else ('F' if 0 <= score < 60 else '유효하지 않은 점수'))))\\nscore_grade(99),score_grade(89),score_grade(79),score_grade(69),score_grade(59),score_grade(999)\",\n",
       " '_44': ('A', 'B', 'C', 'D', 'F', '유효하지 않은 점수'),\n",
       " '_i45': \"score_grade = lambda score : 'A' if 90 <= score <= 100 else \\\\\\n                            ('B' if 80 <= score < 90 else\\\\\\n                             ('C' if 70 <= score < 80 else \\\\\\n                              ('D' if 60 <= score <70 else \\\\\\n                               ('F' if 0 <= score < 60 else '유효하지 않은 점수'))))\\nscore_grade(99),score_grade(89),score_grade(79),score_grade(69),score_grade(59),score_grade(999)\",\n",
       " '_45': ('A', 'B', 'C', 'D', 'F', '유효하지 않은 점수'),\n",
       " '_i46': \"score_grade = lambda score : 'A' if 90 <= score <= 100 else \\\\\\n                            ('B' if 80 <= score < 90 else\\\\\\n                             ('C' if 70 <= score < 80 else \\\\\\n                              ('D' if 60 <= score <70 else \\\\\\n                               ('F' if 0 <= score < 60 else \\\\\\n                                '유효하지 않은 점수'))))\\nscore_grade(99),score_grade(89),score_grade(79),score_grade(69),score_grade(59),score_grade(999)\",\n",
       " '_46': ('A', 'B', 'C', 'D', 'F', '유효하지 않은 점수'),\n",
       " '_i47': \"score_grade = lambda score : 'A' if 90 <= score <= 100 else \\\\\\n                            ('B' if 80 <= score < 90 else\\\\\\n                             ('C' if 70 <= score < 80 else \\\\\\n                              ('D' if 60 <= score <70 else \\\\\\n                               ('F' if 0 <= score < 60 else \\\\\\n                                '유효하지 않은 점수'))))\\nscore_grade(99),score_grade(89),score_grade(79),score_grade(69),score_grade(59),score_grade(-999)\",\n",
       " '_47': ('A', 'B', 'C', 'D', 'F', '유효하지 않은 점수'),\n",
       " '_i48': \"score_grade = lambda score : 'A' if 90 <= score <= 100 else \\\\\\n                            ('B' if 80 <= score < 90 else\\\\\\n                             ('C' if 70 <= score < 80 else \\\\\\n                              ('D' if 60 <= score <70 else \\\\\\n                               ('F' if 0 <= score < 60 else \\\\\\n                                '유효하지 않은 점수'))))\\nscore_grade(99),score_grade(89),score_grade(79),score_grade(69),score_grade(59),score_grade(999)\",\n",
       " '_48': ('A', 'B', 'C', 'D', 'F', '유효하지 않은 점수'),\n",
       " '_i49': \"score_grade = lambda score : 'A' if 90 <= score <= 100 else \\\\\\n                             'B' if 80 <= score < 90 else\\\\\\n                             'C' if 70 <= score < 80 else \\\\\\n                             'D' if 60 <= score <70 else \\\\\\n                             'F' if 0 <= score < 60 else \\\\\\n                             '유효하지 않은 점수'\\nscore_grade(99),score_grade(89),score_grade(79),score_grade(69),score_grade(59),score_grade(999)\",\n",
       " '_49': ('A', 'B', 'C', 'D', 'F', '유효하지 않은 점수'),\n",
       " '_i50': \"add = lambda a, b : a+b\\nsub = lambda a, b : a-b\\nmul = lambda a, b : a*b\\ndiv = lambda a, b : a/b if b!=0 else '두번째 인자가 0으로는 못나눠요'\\nadd(3,0), div (0,5)\",\n",
       " 'sub': <function __main__.<lambda>(a, b)>,\n",
       " 'mul': <function __main__.<lambda>(a, b)>,\n",
       " 'div': <function __main__.<lambda>(a, b)>,\n",
       " '_50': (3, 0.0),\n",
       " '_i51': \"add = lambda a, b : a+b\\nsub = lambda a, b : a-b\\nmul = lambda a, b : a*b\\ndiv = lambda a, b : a/b if b!=0 else '두번째 인자가 0으로는 못나눠요'\\nadd(3,0), div (5,0)\",\n",
       " '_51': (3, '두번째 인자가 0으로는 못나눠요'),\n",
       " '_i52': \"add = lambda a, b : a+b\\nsub = lambda a, b : a-b\\nmul = lambda a, b : a*b\\ndiv = lambda a, b : a/b if b!=0 else '두번째 인자가 0으로는 못나눠요'\\nadd(3,0), div (5, 6)\",\n",
       " '_52': (3, 0.8333333333333334),\n",
       " '_i53': \"add = lambda a, b : a+b\\nsub = lambda a, b : a-b\\nmul = lambda a, b : a*b\\ndiv = lambda a, b : a/b if b!=0 else '두번째 인자가 0으로는 못나눠요'\\nadd(3,0), div (5, 6)\\n\\ni = 10\\nj = 20\\nlst = [i,j]\\nlst\",\n",
       " 'i': 10,\n",
       " 'j': 20,\n",
       " '_53': [10, 20],\n",
       " '_i54': \"add = lambda a, b : a+b\\nsub = lambda a, b : a-b\\nmul = lambda a, b : a*b\\ndiv = lambda a, b : a/b if b!=0 else '두번째 인자가 0으로는 못나눠요'\\nadd(3,0), div (5, 6)\\n\\noperations = [add, sub, mul, div]\\noperations\",\n",
       " 'operations': [<function __main__.<lambda>(a, b)>,\n",
       "  <function __main__.<lambda>(a, b)>,\n",
       "  <function __main__.<lambda>(a, b)>,\n",
       "  <function __main__.<lambda>(a, b)>,\n",
       "  <function __main__.<lambda>(a, b)>],\n",
       " '_54': [<function __main__.<lambda>(a, b)>,\n",
       "  <function __main__.<lambda>(a, b)>,\n",
       "  <function __main__.<lambda>(a, b)>,\n",
       "  <function __main__.<lambda>(a, b)>],\n",
       " '_i55': \"add = lambda a, b : a+b\\nsub = lambda a, b : a-b\\nmul = lambda a, b : a*b\\ndiv = lambda a, b : a/b if b!=0 else '두번째 인자가 0으로는 못나눠요'\\nadd(3,0), div (5, 6)\\n\\noperations = [add, sub, mul, div]\\n#매개변수로 함수 list가 옴\\ndef action_operations(a, b, operations = operations):\\n    result = []\\n    for op in operations:\\n        result.append(op(a,b))\\n    return result\\n# def pow(a,b):\\n#     return a**b\\noprations.append(lambda a, b: a**b)\\nprint(action_operations(10,2))\",\n",
       " 'action_operations': <function __main__.<lambda>(a, b, operations=[<function <lambda> at 0x000001EAF9120310>, <function <lambda> at 0x000001EAF9122170>, <function <lambda> at 0x000001EAF91229E0>, <function <lambda> at 0x000001EAF91CF6D0>, <function <lambda> at 0x000001EAF91CE9E0>])>,\n",
       " '_i56': \"add = lambda a, b : a+b\\nsub = lambda a, b : a-b\\nmul = lambda a, b : a*b\\ndiv = lambda a, b : a/b if b!=0 else '두번째 인자가 0으로는 못나눠요'\\nadd(3,0), div (5, 6)\\n\\noperations = [add, sub, mul, div]\\n#매개변수로 함수 list가 옴\\ndef action_operations(a, b, operations = operations):\\n    result = []\\n    for op in operations:\\n        result.append(op(a,b))\\n    return result\\n# def pow(a,b):\\n#     return a**b\\noprations.append(lambda a, b: a**b)\\nprint(action_operations(10,2))\",\n",
       " '_i57': \"add = lambda a, b : a+b\\nsub = lambda a, b : a-b\\nmul = lambda a, b : a*b\\ndiv = lambda a, b : a/b if b!=0 else '두번째 인자가 0으로는 못나눠요'\\nadd(3,0), div (5, 6)\\n\\noperations = [add, sub, mul, div]\\n#매개변수로 함수 list가 옴\\ndef action_operations(a, b, operations = operations):\\n    result = []\\n    for op in operations:\\n        result.append(op(a,b))\\n    return result\\n# def pow(a,b):\\n#     return a**b\\noprations.append(lambda a, b: a**b)\\nprint(action_operations(10,2))\",\n",
       " '_i58': \"add = lambda a, b : a+b\\nsub = lambda a, b : a-b\\nmul = lambda a, b : a*b\\ndiv = lambda a, b : a/b if b!=0 else '두번째 인자가 0으로는 못나눠요'\\nadd(3,0), div (5, 6)\\n\\noperations = [add, sub, mul, div]\\n#매개변수로 함수 list가 옴\\ndef action_operations(a, b, operations = operations):\\n    result = []\\n    for op in operations:\\n        result.append(op(a,b))\\n    return result\\n# def pow(a,b):\\n#     return a**b\\noperations.append(lambda a, b: a**b)\\nprint(action_operations(10,2))\",\n",
       " '_i59': '#리스트 컴프리 헨션\\nlst = [1,2,3]\\n[ for l in lst]',\n",
       " '_i60': '#리스트 컴프리 헨션\\nlst = [1,2,3]\\n[l**2 for l in lst]',\n",
       " '_60': [1, 4, 9],\n",
       " '_i61': 'action_operations = lambda a, b, operations = operations : [for op(a,b) in oprations]',\n",
       " '_i62': 'action_operations = lambda a, b, operations = operations : for op(a,b) in oprations',\n",
       " '_i63': '#리스트 컴프리 헨션\\nlst = [1,2,3]\\nprint([l**2 for l in lst])\\nprint([l**2 for l in lst if l%2==0])',\n",
       " '_i64': 'action_operations = lambda a, b, operations = operations : op(a,b) for op in oprations',\n",
       " '_i65': 'result = []\\naction_operations = lambda a, b, operations = operations : result.append(op(a,b)) for op in operations',\n",
       " '_i66': 'action_operations = lambda a, b, operations = operations : result = [op(a,b)] for op in operations',\n",
       " '_i67': 'action_operations = lambda a, b, operations = operations : result = [op(a,b) for op in operations]',\n",
       " '_i68': 'def action_operations(a, b, operations = operations):\\n    return result = [op(a,b) for op in operations]',\n",
       " '_i69': 'def action_operations(a, b, operations = operations):\\n    return [op(a,b) for op in operations]',\n",
       " '_i70': 'def action_operations(a, b, operations = operations):\\n    return [op(a,b) for op in operations]\\naction_operations = lambda a, b, operations = operations : [op(a,b) for op in operations]',\n",
       " '_i71': 'def action_operations(a, b, operations = operations):\\n    return [op(a,b) for op in operations]\\naction_operations = lambda a, b, operations = operations : [op(a,b) for op in operations]\\naction_operations(5,2)',\n",
       " '_71': [7, 3, 10, 2.5, 25],\n",
       " '_i72': 'action_operations = lambda a, b, operations = operations : [op(a,b) for op in operations]\\naction_operations(5,2)',\n",
       " '_72': [7, 3, 10, 2.5, 25],\n",
       " '_i73': 'action_operations = lambda a, b, operations = operations : [op(a,b) for op in operations]\\naction_operations(5,5)',\n",
       " '_73': [10, 0, 25, 1.0, 3125],\n",
       " '_i74': 'action_operations = lambda a, b, operations = operations : [op(a,b) for op in operations]\\naction_operations(5,3)',\n",
       " '_74': [8, 2, 15, 1.6666666666666667, 125],\n",
       " '_i75': 'map_template = lambda func, L=[] : [func(item) for item in L]',\n",
       " 'map_template': <function __main__.map_template(func, L=[])>,\n",
       " '_i76': 'def map_template(func, L=[]):\\n    result = []\\n    for item in L :\\n        result.append(func(item))\\n    return result',\n",
       " '_i77': 'list_data = [1,2,3,4,5,6,7,8,9]\\ndef x_2(x) :\\n    return x*2\\nmap_template(x_2, list_data)',\n",
       " 'list_data': [1, 2, 3, 4, 5, 6, 7, 8, 9],\n",
       " 'x_2': <function __main__.x_2(x)>,\n",
       " '_77': [2, 4, 6, 8, 10, 12, 14, 16, 18],\n",
       " '_i78': 'list_data = [1,2,3,4,5,6,7,8,9]\\nmap_template(lambda x : x*2, list_data)',\n",
       " '_78': [2, 4, 6, 8, 10, 12, 14, 16, 18],\n",
       " '_i79': '#리스트 컴프리헨션\\n[x*2 for xin list_data]',\n",
       " '_i80': '#리스트 컴프리헨션\\n[x*2 for x in list_data]',\n",
       " '_80': [2, 4, 6, 8, 10, 12, 14, 16, 18],\n",
       " '_i81': 'map(lambda x: x*2, list_data)',\n",
       " '_81': <map at 0x1eaf93c4610>,\n",
       " '_i82': 'list(map(lambda x: x*2, list_data))',\n",
       " '_82': [2, 4, 6, 8, 10, 12, 14, 16, 18],\n",
       " '_i83': \"for x in map(lambda x:x*2, list_data):\\n    print(x, end=' ')\",\n",
       " 'x': 18,\n",
       " '_i84': 'def filter_template(func, L=[]):\\n    result = []\\n    for item in L:\\n        if func(item):\\n            result.append(func(item))\\n    return result',\n",
       " 'filter_template': <function __main__.filter_template(func, L=[])>,\n",
       " '_i85': '# def enveChk(value):\\n#     return value%2==0\\n\\nfilter_template(lambda value: value%2==0, L=list_data)',\n",
       " '_85': [True, True, True, True],\n",
       " '_i86': '# def enveChk(value):\\n#     return value%2==0\\n\\nlist_data = [1,2,3,4,5,6,7,8,9]\\nfilter_template(lambda value: value%2==0, L=list_data)',\n",
       " '_86': [True, True, True, True],\n",
       " '_i87': 'def filter_template(func, L=[]):\\n    result = []\\n    for item in L:\\n        if func(item):\\n            result.append(item)\\n    return result',\n",
       " '_i88': '# def enveChk(value):\\n#     return value%2==0\\n\\nlist_data = [1,2,3,4,5,6,7,8,9]\\nfilter_template(lambda value: value%2==0, L=list_data)',\n",
       " '_88': [2, 4, 6, 8],\n",
       " '_i89': 'filter(lambda x:x%2==0, list_data)',\n",
       " '_89': <filter at 0x1eaf93bb040>,\n",
       " '_i90': 'for data in filter(lambda x:x%2==0, list_data):\\n    print(data)',\n",
       " 'data': 8,\n",
       " '_i91': \"for data in filter(lambda x:x%2==0, list_data):\\n    print(data, end=' ')\",\n",
       " '_i92': '# 리스트컴프리헨션 이용\\n[x for x in list_data]',\n",
       " '_92': [1, 2, 3, 4, 5, 6, 7, 8, 9],\n",
       " '_i93': '# 리스트컴프리헨션 이용\\n[x for x in list_data if x%2==0]',\n",
       " '_93': [2, 4, 6, 8],\n",
       " '_i94': '# 리스트컴프리헨션 이용\\n[x for x in list_data if x%2!=0]',\n",
       " '_94': [1, 3, 5, 7, 9],\n",
       " '_i95': '# 리스트컴프리헨션 이용\\n[x for x in list_data if x%2==0]',\n",
       " '_95': [2, 4, 6, 8],\n",
       " '_i96': '# quiz : 다음 리스트에서 소주점 이하가 0인 수만 추출하시오\\n# filter함수, 람다식 이용/ filter_template/ 리스트컴프리헨션\\nL = [1,1.2,1.5,2,3.0,10.5,100]\\nlist(filter(lambda x : x.isdist(), L))',\n",
       " 'L': [1, 1.2, 1.5, 2, 3.0, 10.5, 100],\n",
       " '_i97': '# quiz : 다음 리스트에서 소주점 이하가 0인 수만 추출하시오\\n# filter함수, 람다식 이용/ filter_template/ 리스트컴프리헨션\\nL = [1,1.2,1.5,2,3.0,10.5,100]\\nlist(filter(lambda x : x.isdigit(), L))',\n",
       " '_i98': '# quiz : 다음 리스트에서 소주점 이하가 0인 수만 추출하시오\\n# filter함수, 람다식 이용/ filter_template/ 리스트컴프리헨션\\nL = [1,1.2,1.5,2,3.0,10.5,100]\\nlist(filter(lambda x : if x.isdigit(), L))',\n",
       " '_i99': '# quiz : 다음 리스트에서 소주점 이하가 0인 수만 추출하시오\\n# filter함수, 람다식 이용/ filter_template/ 리스트컴프리헨션\\nL = [1,1.2,1.5,2,3.0,10.5,100]\\nlist(filter(lambda x : True if x.isdigit(), L))',\n",
       " '_i100': '# quiz : 다음 리스트에서 소주점 이하가 0인 수만 추출하시오\\n# filter함수, 람다식 이용/ filter_template/ 리스트컴프리헨션\\nL = [1,1.2,1.5,2,3.0,10.5,100]\\nlist(filter(lambda x : True if x.isdigit() else False, L))',\n",
       " '_i101': '# quiz : 다음 리스트에서 소주점 이하가 0인 수만 추출하시오\\n# filter함수, 람다식 이용/ filter_template/ 리스트컴프리헨션\\nL = [1,1.2,1.5,2,3.0,10.5,100]\\nlist(filter(lambda x : True if str(x).isdigit() else False, L))',\n",
       " '_101': [1, 2, 100],\n",
       " '_i102': '# quiz : 다음 리스트에서 소주점 이하가 0인 수만 추출하시오\\n# filter함수, 람다식 이용/ filter_template/ 리스트컴프리헨션\\nL = [1,1.2,1.5,2,3.0,10.5,100]\\nlist(filter(lambda x : str(x).isdigit(), L))',\n",
       " '_102': [1, 2, 100],\n",
       " '_i103': '# quiz : 다음 리스트에서 소주점 이하가 0인 수만 추출하시오\\n# filter함수, 람다식 이용/ filter_template/ 리스트컴프리헨션\\nL = [1,1.2,1.5,2,3.0,10.5,100]\\nlist(filter(lambda x : x%1.0==0, L))',\n",
       " '_103': [1, 2, 3.0, 100],\n",
       " '_i104': '# quiz : 다음 리스트에서 소주점 이하가 0인 수만 추출하시오\\n# filter함수, 람다식 이용/ filter_template/ 리스트컴프리헨션\\nL = [1,1.2,1.5,2,3.0,10.5,100]\\nprint(list(filter(lambda x : x%1.0==0, L)))\\nprint(filter_template(lambda x:x%1.0==0,L))',\n",
       " '_i105': '# quiz : 다음 리스트에서 소주점 이하가 0인 수만 추출하시오\\n# filter함수, 람다식 이용/ filter_template/ 리스트컴프리헨션\\nL = [1,1.2,1.5,2,3.0,10.5,100]\\nprint(list(filter(lambda x : x%1.0==0, L)))\\nprint(filter_template(lambda x:x%1.0==0,L))\\nprint([x for x in L if x%1.0==0])',\n",
       " '_i106': '# quiz : 다음 리스트에서 소주점 이하가 0인 수만 추출하시오\\n# filter함수, 람다식 이용/ filter_template/ 리스트컴프리헨션\\nL = [1,1.2,1.5,2,3.0,10.5,100]\\nprint(list(filter(lambda x : x%1.0==0, L)))\\nprint(filter_template(lambda x:x == round(x),L))\\nprint([x for x in L if x%1.0==0])',\n",
       " '_i107': '# quiz : 다음 리스트에서 소주점 이하가 0인 수만 추출하시오\\n# filter함수, 람다식 이용/ filter_template/ 리스트컴프리헨션\\nL = [1,1.2,1.5,2,3.0,10.5,100]\\nprint(list(filter(lambda x : x%1.0==0, L)))\\nprint(filter_template(lambda x:x == round(x),L))\\nprint([x for x in L if x==x//1])',\n",
       " '_i108': '#예제2 : 베스트셀러 list(딕셔너리 리스트)를 가격순으로 sort\\np = [10,3,6,1]\\np.sort()\\np',\n",
       " 'p': [10, 6, 3, 1],\n",
       " '_108': [1, 3, 6, 10],\n",
       " '_i109': '#예제2 : 베스트셀러 list(딕셔너리 리스트)를 가격순으로 sort\\np = [10,3,6,1]\\np.sort(reverse=True)\\np',\n",
       " '_109': [10, 6, 3, 1],\n",
       " '_i110': \"pairs = [(2,'two'),(1,'oen'),(4,'four'),(3,'three')]\\npairs.sort()\\npairs\",\n",
       " 'pairs': [(2, 'two'), (3, 'three'), (1, 'oen'), (4, 'four')],\n",
       " '_110': [(2, 'two'), (3, 'three'), (1, 'oen'), (4, 'four')],\n",
       " '_i111': 'pairs.sort(key=lambda pair : pair[1])\\npairs',\n",
       " '_111': [(2, 'two'), (3, 'three'), (1, 'oen'), (4, 'four')],\n",
       " '_i112': 'pairs.sort(key=lambda pair : pair[1], reverse=True)\\npairs',\n",
       " '_112': [(2, 'two'), (3, 'three'), (1, 'oen'), (4, 'four')],\n",
       " '_i113': \"students = [{'name':'홍', 'score':99},\\n            {'name':'이', 'score':22},\\n            {'name':'김', 'score':77},\\n            {'name':'박', 'score':66}]\",\n",
       " 'students': [{'name': '홍', 'score': 99},\n",
       "  {'name': '김', 'score': 77},\n",
       "  {'name': '박', 'score': 66},\n",
       "  {'name': '이', 'score': 22}],\n",
       " '_i114': '#students를 이름 ㄱㄴㄷ순 정렬',\n",
       " '_i115': '#students를 이름 ㄱㄴㄷ순 정렬\\nstudendts.sort()',\n",
       " '_i116': '#students를 이름 ㄱㄴㄷ순 정렬\\nstudents.sort()',\n",
       " '_i117': '#students를 이름 ㄱㄴㄷ순 정렬\\nstudents.sort()',\n",
       " '_i118': '#students를 이름 ㄱㄴㄷ순 정렬\\nstudents.sort(key=lambda x : x.values()[1])',\n",
       " '_i119': '#students를 이름 ㄱㄴㄷ순 정렬\\nstudents.sort(key=lambda x : x.values()[0])',\n",
       " '_i120': '#students를 이름 ㄱㄴㄷ순 정렬\\nstudents.sort(key=lambda x : x.values())',\n",
       " '_i121': \"#students를 이름 ㄱㄴㄷ순 정렬\\nstudents.sort(key=lambda x : x['name'])\",\n",
       " '_i122': \"#students를 이름 ㄱㄴㄷ순 정렬\\nstudents.sort(key=lambda x : x['name'])\\nstudents\",\n",
       " '_122': [{'name': '홍', 'score': 99},\n",
       "  {'name': '김', 'score': 77},\n",
       "  {'name': '박', 'score': 66},\n",
       "  {'name': '이', 'score': 22}],\n",
       " '_i123': \"#students를 score순 내림차순\\nstudents.sort(key=lambda x : x['score'],reverse=True)\\nstudents\",\n",
       " '_123': [{'name': '홍', 'score': 99},\n",
       "  {'name': '김', 'score': 77},\n",
       "  {'name': '박', 'score': 66},\n",
       "  {'name': '이', 'score': 22}],\n",
       " '_i124': \"#students를 score순 오름차순\\nstudents.sort(key=lambda x : x['score'])\\nstudents\",\n",
       " '_124': [{'name': '홍', 'score': 99},\n",
       "  {'name': '김', 'score': 77},\n",
       "  {'name': '박', 'score': 66},\n",
       "  {'name': '이', 'score': 22}],\n",
       " '_i125': \"#students를 이름 ㄱㄴㄷ순 정렬\\nstudents.sort(key=lambda student : student['name'])\\nstudents\",\n",
       " '_125': [{'name': '홍', 'score': 99},\n",
       "  {'name': '김', 'score': 77},\n",
       "  {'name': '박', 'score': 66},\n",
       "  {'name': '이', 'score': 22}],\n",
       " '_i126': \"#students를 score순 내림차순\\nstudents.sort(key=lambda student : student['score'],reverse=True)\\nstudents\",\n",
       " '_126': [{'name': '홍', 'score': 99},\n",
       "  {'name': '김', 'score': 77},\n",
       "  {'name': '박', 'score': 66},\n",
       "  {'name': '이', 'score': 22}],\n",
       " '_i127': \"#students를 score순 오름차순\\nstudents.sort(key=lambda student : student['score'])\\nstudents\",\n",
       " '_127': [{'name': '홍', 'score': 99},\n",
       "  {'name': '김', 'score': 77},\n",
       "  {'name': '박', 'score': 66},\n",
       "  {'name': '이', 'score': 22}],\n",
       " '_i128': \"#students를 score순 내림차순\\nstudents.sort(key=lambda student : student['score'],reverse=True)\\nstudents\",\n",
       " '_128': [{'name': '홍', 'score': 99},\n",
       "  {'name': '김', 'score': 77},\n",
       "  {'name': '박', 'score': 66},\n",
       "  {'name': '이', 'score': 22}],\n",
       " '_i129': \"#students를 score순 내림차순\\nstudents.sort(key=lambda student : student.get('score',reverse=True)\\nstudents\",\n",
       " '_i130': \"#students를 score순 내림차순\\nstudents.sort(key=lambda student : student.get('score'),reverse=True)\\nstudents\",\n",
       " '_130': [{'name': '홍', 'score': 99},\n",
       "  {'name': '김', 'score': 77},\n",
       "  {'name': '박', 'score': 66},\n",
       "  {'name': '이', 'score': 22}],\n",
       " '_i131': \"books = [{'no':1,'title':'소년이 온다', 'writer':'한강', 'price':'13,500'},\\n         {'no':3,'title':'트럼프2,0시대', 'writer':'박종훈', 'price':'18,000'},\\n         {'no':2,'title':'트렌드코리아2025', 'writer':'김난도', 'price':'18,100'},\\n         {'no':4,'title':'가격잘못', 'writer':'홍길동', 'price':'ㅁ'},\\n         {'no':5,'title':'가격이없음', 'writer':'신길동', 'price':'None예정'}]\",\n",
       " 'books': [{'no': 1, 'title': '소년이 온다', 'writer': '한강', 'price': '13,500'},\n",
       "  {'no': 3, 'title': '트럼프2,0시대', 'writer': '박종훈', 'price': '18,000'},\n",
       "  {'no': 2, 'title': '트렌드코리아2025', 'writer': '김난도', 'price': '9,100'},\n",
       "  {'no': 4, 'title': '가격잘못', 'writer': '홍길동', 'price': 'ㅁ'},\n",
       "  {'no': 6, 'title': '가격이숫자', 'writer': '신길동', 'price': 9200},\n",
       "  {'no': 5, 'title': '가격이없음', 'writer': '이길동'}],\n",
       " '_i132': \"books.sort(key=lambda book : book.get('no'))\",\n",
       " '_i133': \"books.sort(key=lambda book : book.get('no'))\\nbooks\",\n",
       " '_133': [{'no': 2, 'title': '트렌드코리아2025', 'writer': '김난도', 'price': '18,100'},\n",
       "  {'no': 3, 'title': '트럼프2,0시대', 'writer': '박종훈', 'price': '18,000'},\n",
       "  {'no': 5, 'title': '가격이없음', 'writer': '신길동', 'price': 'None예정'},\n",
       "  {'no': 1, 'title': '소년이 온다', 'writer': '한강', 'price': '13,500'},\n",
       "  {'no': 4, 'title': '가격잘못', 'writer': '홍길동', 'price': 'ㅁ'}],\n",
       " '_i134': \"books.sort(key=lambda book : book.get('title'))\\nbooks\",\n",
       " '_134': [{'no': 2, 'title': '트렌드코리아2025', 'writer': '김난도', 'price': '18,100'},\n",
       "  {'no': 3, 'title': '트럼프2,0시대', 'writer': '박종훈', 'price': '18,000'},\n",
       "  {'no': 5, 'title': '가격이없음', 'writer': '신길동', 'price': 'None예정'},\n",
       "  {'no': 1, 'title': '소년이 온다', 'writer': '한강', 'price': '13,500'},\n",
       "  {'no': 4, 'title': '가격잘못', 'writer': '홍길동', 'price': 'ㅁ'}],\n",
       " '_i135': \"books.sort(key=lambda book : book.get('writer'))\\nbooks\",\n",
       " '_135': [{'no': 2, 'title': '트렌드코리아2025', 'writer': '김난도', 'price': '18,100'},\n",
       "  {'no': 3, 'title': '트럼프2,0시대', 'writer': '박종훈', 'price': '18,000'},\n",
       "  {'no': 5, 'title': '가격이없음', 'writer': '신길동', 'price': 'None예정'},\n",
       "  {'no': 1, 'title': '소년이 온다', 'writer': '한강', 'price': '13,500'},\n",
       "  {'no': 4, 'title': '가격잘못', 'writer': '홍길동', 'price': 'ㅁ'}],\n",
       " '_i136': \"books = [{'no':1,'title':'소년이 온다', 'writer':'한강', 'price':'13,500'},\\n         {'no':3,'title':'트럼프2,0시대', 'writer':'박종훈', 'price':'18,000'},\\n         {'no':2,'title':'트렌드코리아2025', 'writer':'김난도', 'price':'9,100'},\\n         {'no':4,'title':'가격잘못', 'writer':'홍길동', 'price':'ㅁ'},\\n         {'no':5,'title':'가격이없음', 'writer':'신길동', 'price':'None예정'}]\",\n",
       " '_i137': \"books.sort(key=lambda book : book.get('no'))\\nbooks\",\n",
       " '_137': [{'no': 4, 'title': '가격잘못', 'writer': '홍길동', 'price': 'ㅁ'},\n",
       "  {'no': 5, 'title': '가격이없음', 'writer': '신길동', 'price': 'None예정'},\n",
       "  {'no': 2, 'title': '트렌드코리아2025', 'writer': '김난도', 'price': '9,100'},\n",
       "  {'no': 3, 'title': '트럼프2,0시대', 'writer': '박종훈', 'price': '18,000'},\n",
       "  {'no': 1, 'title': '소년이 온다', 'writer': '한강', 'price': '13,500'}],\n",
       " '_i138': \"books.sort(key=lambda book : book.get('title'))\\nbooks\",\n",
       " '_138': [{'no': 4, 'title': '가격잘못', 'writer': '홍길동', 'price': 'ㅁ'},\n",
       "  {'no': 5, 'title': '가격이없음', 'writer': '신길동', 'price': 'None예정'},\n",
       "  {'no': 2, 'title': '트렌드코리아2025', 'writer': '김난도', 'price': '9,100'},\n",
       "  {'no': 3, 'title': '트럼프2,0시대', 'writer': '박종훈', 'price': '18,000'},\n",
       "  {'no': 1, 'title': '소년이 온다', 'writer': '한강', 'price': '13,500'}],\n",
       " '_i139': \"books.sort(key=lambda book : book.get('writer'))\\nbooks\",\n",
       " '_139': [{'no': 4, 'title': '가격잘못', 'writer': '홍길동', 'price': 'ㅁ'},\n",
       "  {'no': 5, 'title': '가격이없음', 'writer': '신길동', 'price': 'None예정'},\n",
       "  {'no': 2, 'title': '트렌드코리아2025', 'writer': '김난도', 'price': '9,100'},\n",
       "  {'no': 3, 'title': '트럼프2,0시대', 'writer': '박종훈', 'price': '18,000'},\n",
       "  {'no': 1, 'title': '소년이 온다', 'writer': '한강', 'price': '13,500'}],\n",
       " '_i140': \"books.sort(key=lambda book : book.get('price'))\\nbooks\",\n",
       " '_140': [{'no': 4, 'title': '가격잘못', 'writer': '홍길동', 'price': 'ㅁ'},\n",
       "  {'no': 5, 'title': '가격이없음', 'writer': '신길동', 'price': 'None예정'},\n",
       "  {'no': 2, 'title': '트렌드코리아2025', 'writer': '김난도', 'price': '9,100'},\n",
       "  {'no': 3, 'title': '트럼프2,0시대', 'writer': '박종훈', 'price': '18,000'},\n",
       "  {'no': 1, 'title': '소년이 온다', 'writer': '한강', 'price': '13,500'}],\n",
       " '_i141': \"books.sort(key=lambda book : book.get('price'), reverse=True)\\nbooks\",\n",
       " '_141': [{'no': 4, 'title': '가격잘못', 'writer': '홍길동', 'price': 'ㅁ'},\n",
       "  {'no': 5, 'title': '가격이없음', 'writer': '신길동', 'price': 'None예정'},\n",
       "  {'no': 2, 'title': '트렌드코리아2025', 'writer': '김난도', 'price': '9,100'},\n",
       "  {'no': 3, 'title': '트럼프2,0시대', 'writer': '박종훈', 'price': '18,000'},\n",
       "  {'no': 1, 'title': '소년이 온다', 'writer': '한강', 'price': '13,500'}],\n",
       " '_i142': \"books = [{'no':1,'title':'소년이 온다', 'writer':'한강', 'price':'13,500'},\\n         {'no':3,'title':'트럼프2,0시대', 'writer':'박종훈', 'price':'18,000'},\\n         {'no':2,'title':'트렌드코리아2025', 'writer':'김난도', 'price':'9,100'},\\n         {'no':4,'title':'가격잘못', 'writer':'홍길동', 'price':'ㅁ'},\\n         {'no':5,'title':'가격이없음', 'writer':'신길동'}]\",\n",
       " '_i143': \"books = [{'no':1,'title':'소년이 온다', 'writer':'한강', 'price':'13,500'},\\n         {'no':3,'title':'트럼프2,0시대', 'writer':'박종훈', 'price':'18,000'},\\n         {'no':2,'title':'트렌드코리아2025', 'writer':'김난도', 'price':'9,100'},\\n         {'no':4,'title':'가격잘못', 'writer':'홍길동', 'price':'ㅁ'},\\n         {'no':6,'title':'가격이없음', 'writer':'신길동', 'price':9200},\\n         {'no':5,'title':'가격이없음', 'writer':'신길동'}]\",\n",
       " '_i144': \"books = [{'no':1,'title':'소년이 온다', 'writer':'한강', 'price':'13,500'},\\n         {'no':3,'title':'트럼프2,0시대', 'writer':'박종훈', 'price':'18,000'},\\n         {'no':2,'title':'트렌드코리아2025', 'writer':'김난도', 'price':'9,100'},\\n         {'no':4,'title':'가격잘못', 'writer':'홍길동', 'price':'ㅁ'},\\n         {'no':6,'title':'가격이없음', 'writer':'신길동', 'price':9200},\\n         {'no':5,'title':'가격이없음', 'writer':'신길동'}]\",\n",
       " '_i145': \"books.sort(key=lambda book:book.get('price'))\\nbooks\",\n",
       " '_i146': \"books = [{'no':1,'title':'소년이 온다', 'writer':'한강', 'price':'13,500'},\\n         {'no':3,'title':'트럼프2,0시대', 'writer':'박종훈', 'price':'18,000'},\\n         {'no':2,'title':'트렌드코리아2025', 'writer':'김난도', 'price':'9,100'},\\n         {'no':4,'title':'가격잘못', 'writer':'홍길동', 'price':'ㅁ'},\\n         {'no':6,'title':'가격이숫자', 'writer':'신길동', 'price':9200},\\n         {'no':5,'title':'가격이없음', 'writer':'이길동'}]\",\n",
       " '_i147': \"def parse_int(price):\\n    print(type(price))\\nparse_int('ㅁ'), parse_int(None), parse_int(9200), parse_int('13,500')\",\n",
       " 'parse_int': <function __main__.parse_int(price)>,\n",
       " '_147': (None, None, None, None),\n",
       " '_i148': \"def parse_int(price):\\n    if isinstance(price, str):\\n        print(price)\\nparse_int('ㅁ'), parse_int(None), parse_int(9200), parse_int('13,500')\",\n",
       " '_148': (None, None, None, None),\n",
       " '_i149': \"parse_int('ㅁ'), parse_int(None), parse_int(9200), parse_int('13,500')\",\n",
       " '_149': (None, None, None, None),\n",
       " '_i150': \"# & : 논리연산, 비트연산, 집합연산\\n# and : 논리연산\\n\\ndef parse_int(price):\\n    if isinstance(price, str) and price.replace(',','').isdigit():\\n        print(price)\",\n",
       " '_i151': \"parse_int('ㅁ'), parse_int(None), parse_int(9200), parse_int('13,500')\",\n",
       " '_151': (None, None, None, None),\n",
       " '_i152': \"# & : 논리연산, 비트연산, 집합연산이 모두 가능함으로, 좌항이 False여도 우항이 숫자면 비트연산을 수행해야함으로 우항을 수행함\\n# and : 논리연산의 역할만 하여, 좌항이 False면 우항 수행 안 함.\\n\\ndef parse_int(price):\\n    if isinstance(price, str) and price.replace(',','').isdigit():\\n        return int(price.replace(',',''))\\n    elif isinstance(price,int):\\n        return price\\n    else:\\n        return 0\",\n",
       " '_i153': \"parse_int('ㅁ'), parse_int(None), parse_int(9200), parse_int('13,500')\",\n",
       " '_153': (0, 0, 9200, 13500),\n",
       " '_i154': \"books.sort(key=lambda book: parse_int(book.get('price')))\\nbooks\",\n",
       " '_154': [{'no': 4, 'title': '가격잘못', 'writer': '홍길동', 'price': 'ㅁ'},\n",
       "  {'no': 5, 'title': '가격이없음', 'writer': '이길동'},\n",
       "  {'no': 2, 'title': '트렌드코리아2025', 'writer': '김난도', 'price': '9,100'},\n",
       "  {'no': 6, 'title': '가격이숫자', 'writer': '신길동', 'price': 9200},\n",
       "  {'no': 1, 'title': '소년이 온다', 'writer': '한강', 'price': '13,500'},\n",
       "  {'no': 3, 'title': '트럼프2,0시대', 'writer': '박종훈', 'price': '18,000'}],\n",
       " '_i155': 'parse_int_tast = lambda book : book.get(price)\\n[parse_int_tast for book in books]',\n",
       " 'parse_int_tast': <function __main__.<lambda>(book)>,\n",
       " '_155': [<function __main__.<lambda>(book)>,\n",
       "  <function __main__.<lambda>(book)>,\n",
       "  <function __main__.<lambda>(book)>,\n",
       "  <function __main__.<lambda>(book)>,\n",
       "  <function __main__.<lambda>(book)>,\n",
       "  <function __main__.<lambda>(book)>],\n",
       " '_i156': \"parse_int_tast = lambda book : int(book.get(price).replace(',','')) if isinstance(price, str) and price.replace(',','').isdigit(): else\\\\\\n(price if isinstance(price,int) else 0)\\n[parse_int_tast for book in books]\",\n",
       " '_i157': \"parse_int_tast = lambda book : int(book.get(price).replace(',','')) if isinstance(price, str) and price.replace(',','').isdigit() else\\\\\\n(price if isinstance(price,int) else 0)\\n[parse_int_tast for book in books]\",\n",
       " '_157': [<function __main__.<lambda>(book)>,\n",
       "  <function __main__.<lambda>(book)>,\n",
       "  <function __main__.<lambda>(book)>,\n",
       "  <function __main__.<lambda>(book)>,\n",
       "  <function __main__.<lambda>(book)>,\n",
       "  <function __main__.<lambda>(book)>],\n",
       " '_i158': \"parse_int_tast = lambda book : int(book.get(price).replace(',','')) if isinstance(price, str) and price.replace(',','').isdigit() else\\\\\\n(price if isinstance(price,int) else 0)\\n[parse_int_tast(book.get(price) for book in books]\",\n",
       " '_i159': \"parse_int_tast = lambda book : int(book.get(price).replace(',','')) if isinstance(price, str) and price.replace(',','').isdigit() else\\\\\\n(price if isinstance(price,int) else 0)\\n[parse_int_tast(book.get(price)) for book in books]\",\n",
       " '_i160': \"parse_int_tast = lambda book : int(book.get(price).replace(',','')) if isinstance(price, str) and price.replace(',','').isdigit() else\\\\\\n(price if isinstance(price,int) else 0)\\n[parse_int_tast(book.get('price')) for book in books]\",\n",
       " '_i161': \"parse_int_tast = lambda book : int(book.get(price).replace(',','')) if isinstance(price, str) and price.replace(',','').isdigit() else\\\\\\n(price if isinstance(price,int) else 0)\\n[parse_int_tast(book.get('price')) for book in books]\",\n",
       " '_i162': \"parse_int_tast = lambda book : int(book.get(price).replace(',','')) \\\\\\n                                if isinstance(price, str) and price.replace(',','').isdigit() else\\\\\\n                                (price if isinstance(price,int) else 0)\\n[parse_int_tast(book.get('price')) for book in books]\",\n",
       " '_i163': \"parse_int_tast = lambda book : int(book.get(price).replace(',','')) \\\\\\n                                if isinstance(price, str) and price.replace(',','').isdigit() else\\\\\\n                                (price if isinstance(price,int) else 0)\\n[parse_int_tast(book) for book in books]\",\n",
       " '_i164': \"parse_int_tast = lambda book : int(book.get(price).replace(',','')) \\\\\\n                                if isinstance(price, str) and price.replace(',','').isdigit() else\\\\\\n                                (price if isinstance(price,int) else 0)\\n[parse_int_tast(book.get('price')) for book in books]\",\n",
       " '_i165': \"parse_int_tast = lambda book : int(book.get(price).replace(',','')) \\\\\\n                                if isinstance(price, str) and price.replace(',','').isdigit() else 0\\n[parse_int_tast(book.get('price')) for book in books]\",\n",
       " '_i166': \"parse_int_tast = lambda book : int(book.get('price').replace(',','')) \\\\\\n                                if isinstance(price, str) and price.replace(',','').isdigit() else\\\\\\n                                (price if isinstance(price,int) else 0)\\n[parse_int_tast(book.get('price')) for book in books]\",\n",
       " '_i167': \"parse_int_tast = lambda book : int(book.get('price').replace(',','')) \\\\\\n                                if isinstance(book.get('price'), str) and book.get('price').replace(',','').isdigit() else\\\\\\n                                (price if isinstance(book.get('price'),int) else 0)\\n[parse_int_tast(book.get('price')) for book in books]\",\n",
       " '_i168': \"parse_int_tast = lambda book : int(book.get('price').replace(',','')) \\\\\\n                                if isinstance(book.get('price'), str) and book.get('price').replace(',','').isdigit() else\\\\\\n                                (price if isinstance(book.get('price'),int) else 0)\\n[parse_int_tast(book) for book in books]\",\n",
       " '_i169': \"parse_int_tast = lambda book : int(book.get('price').replace(',','')) \\\\\\n                                if isinstance(book.get('price'), str) and book.get('price').replace(',','').isdigit() else\\\\\\n                                (book.get('price') if isinstance(book.get('price'),int) else 0)\\n[parse_int_tast(book) for book in books]\",\n",
       " '_169': [0, 0, 9100, 9200, 13500, 18000],\n",
       " '_i170': \"books = [{'no':1,'title':'소년이 온다', 'writer':'한강', 'price':'13,500'},\\n         {'no':3,'title':'트럼프2,0시대', 'writer':'박종훈', 'price':'18,000'},\\n         {'no':2,'title':'트렌드코리아2025', 'writer':'김난도', 'price':'9,100'},\\n         {'no':4,'title':'가격잘못', 'writer':'홍길동', 'price':'ㅁ'},\\n         {'no':6,'title':'가격이숫자', 'writer':'신길동', 'price':9200},\\n         {'no':5,'title':'가격이없음', 'writer':'이길동'}]\",\n",
       " '_i171': \"parse_int_tast = lambda book : int(book.get('price').replace(',','')) \\\\\\n                                if isinstance(book.get('price'), str) and book.get('price').replace(',','').isdigit() else\\\\\\n                                (book.get('price') if isinstance(book.get('price'),int) else 0)\\n[parse_int_tast(book) for book in books]\",\n",
       " '_171': [13500, 18000, 9100, 0, 9200, 0],\n",
       " '_i172': 'copyBooks = books.copy()\\ncopyBooks.sort(key=lambda parse_in)',\n",
       " '_i173': \"copyBooks = books.copy()\\ncopyBooks.sort(key=lambda book : int(book.get('price').replace(',',''))\\\\\\n                                  if isinstance(book.get('price'), str) and book.get('price').replace(',','').isdigit()\\\\\\n                                  else (book.get('price') if isinstance(book.get('price'), int) else 0))\",\n",
       " 'copyBooks': [{'no': 1, 'title': '소년이 온다', 'writer': '한강', 'price': 13500},\n",
       "  {'no': 3, 'title': '트럼프2,0시대', 'writer': '박종훈', 'price': 18000},\n",
       "  {'no': 2, 'title': '트렌드코리아2025', 'writer': '김난도', 'price': 9100},\n",
       "  {'no': 4, 'title': '가격잘못', 'writer': '홍길동', 'price': 0},\n",
       "  {'no': 6, 'title': '가격이숫자', 'writer': '신길동', 'price': 9200},\n",
       "  {'no': 5, 'title': '가격이없음', 'writer': '이길동', 'price': 0}],\n",
       " '_i174': \"copyBooks = books.copy()\\ncopyBooks.sort(key=lambda book : int(book.get('price').replace(',',''))\\\\\\n                                  if isinstance(book.get('price'), str) and book.get('price').replace(',','').isdigit()\\\\\\n                                  else (book.get('price') if isinstance(book.get('price'), int) else 0))\\ncopyBooks\",\n",
       " '_174': [{'no': 4, 'title': '가격잘못', 'writer': '홍길동', 'price': 'ㅁ'},\n",
       "  {'no': 5, 'title': '가격이없음', 'writer': '이길동'},\n",
       "  {'no': 2, 'title': '트렌드코리아2025', 'writer': '김난도', 'price': '9,100'},\n",
       "  {'no': 6, 'title': '가격이숫자', 'writer': '신길동', 'price': 9200},\n",
       "  {'no': 1, 'title': '소년이 온다', 'writer': '한강', 'price': '13,500'},\n",
       "  {'no': 3, 'title': '트럼프2,0시대', 'writer': '박종훈', 'price': '18,000'}],\n",
       " '_i175': \"copyBooks = books.copy()\\ncopyBooks.sort(key=lambda book : int(book.get('price').replace(',',''))\\\\\\n                                  if isinstance(book.get('price'), str) and book.get('price').replace(',','').isdigit()\\\\\\n                                  else (book.get('price') if isinstance(book.get('price'), int) else 0), reverse=True)\\ncopyBooks\",\n",
       " '_175': [{'no': 3, 'title': '트럼프2,0시대', 'writer': '박종훈', 'price': '18,000'},\n",
       "  {'no': 1, 'title': '소년이 온다', 'writer': '한강', 'price': '13,500'},\n",
       "  {'no': 6, 'title': '가격이숫자', 'writer': '신길동', 'price': 9200},\n",
       "  {'no': 2, 'title': '트렌드코리아2025', 'writer': '김난도', 'price': '9,100'},\n",
       "  {'no': 4, 'title': '가격잘못', 'writer': '홍길동', 'price': 'ㅁ'},\n",
       "  {'no': 5, 'title': '가격이없음', 'writer': '이길동'}],\n",
       " '_i176': \"copyBooks = books.copy()\\ncopyBooks.sort(key=lambda book : int(book.get('price').replace(',',''))\\\\\\n                                  if isinstance(book.get('price'), str) and book.get('price').replace(',','').isdigit()\\\\\\n                                  else (book.get('price') if isinstance(book.get('price'), int) else 0), reverse=True)\\nprint(copyBooks)\\nbooks\",\n",
       " '_176': [{'no': 1, 'title': '소년이 온다', 'writer': '한강', 'price': '13,500'},\n",
       "  {'no': 3, 'title': '트럼프2,0시대', 'writer': '박종훈', 'price': '18,000'},\n",
       "  {'no': 2, 'title': '트렌드코리아2025', 'writer': '김난도', 'price': '9,100'},\n",
       "  {'no': 4, 'title': '가격잘못', 'writer': '홍길동', 'price': 'ㅁ'},\n",
       "  {'no': 6, 'title': '가격이숫자', 'writer': '신길동', 'price': 9200},\n",
       "  {'no': 5, 'title': '가격이없음', 'writer': '이길동'}],\n",
       " '_i177': \"copyBooks = books.copy()\\ncopyBooks.sort(key=lambda book : int(book.get('price').replace(',',''))\\\\\\n                                  if isinstance(book.get('price'), str) and book.get('price').replace(',','').isdigit()\\\\\\n                                  else (book.get('price') if isinstance(book.get('price'), int) else 0), reverse=True)\\nprint(copyBooks)\",\n",
       " '_i178': \"copyBooks = books.copy()\\ncopyBooks.sort(key=lambda book : int(book.get('price').replace(',',''))\\\\\\n                                  if isinstance(book.get('price'), str) and book.get('price').replace(',','').isdigit()\\\\\\n                                  else (book.get('price') if isinstance(book.get('price'), int) else 0), reverse=True)\\nprint(copyBooks, sep='\\\\n')\",\n",
       " '_i179': \"copyBooks = books.copy()\\ncopyBooks.sort(key=lambda book : int(book.get('price').replace(',',''))\\\\\\n                                  if isinstance(book.get('price'), str) and book.get('price').replace(',','').isdigit()\\\\\\n                                  else (book.get('price') if isinstance(book.get('price'), int) else 0), reverse=True)\\ncopyBooks\",\n",
       " '_179': [{'no': 3, 'title': '트럼프2,0시대', 'writer': '박종훈', 'price': '18,000'},\n",
       "  {'no': 1, 'title': '소년이 온다', 'writer': '한강', 'price': '13,500'},\n",
       "  {'no': 6, 'title': '가격이숫자', 'writer': '신길동', 'price': 9200},\n",
       "  {'no': 2, 'title': '트렌드코리아2025', 'writer': '김난도', 'price': '9,100'},\n",
       "  {'no': 4, 'title': '가격잘못', 'writer': '홍길동', 'price': 'ㅁ'},\n",
       "  {'no': 5, 'title': '가격이없음', 'writer': '이길동'}],\n",
       " '_i180': \"def price_parse_int(book):\\n    # book.get(price)를 정수 가격으로 바꾸기 (방법1)\\n    if isinstance(book.get('price'), str) and book.get('price').replace(',','').isdigit():\\n        book['price'] = int(book['price'].replace(',',''))\\n        return book\\n    elif isinstance(book.get('price'), int):\\n        pass\\n    else :\\n        book['price'] = 0\\n    return book\\n    # book2 복사본을 만들어 book.get(price)를 정수 가격으로 바꾸기 (방법2)\\n    # return book2\",\n",
       " 'price_parse_int': <function __main__.<lambda>(book)>,\n",
       " '_i181': \"price_parse_int({'no': 3, 'title': '트럼프2,0시대', 'writer': '박종훈', 'price': '18,000'})\",\n",
       " '_181': {'no': 3, 'title': '트럼프2,0시대', 'writer': '박종훈', 'price': 18000},\n",
       " '_i182': \"price_parse_int({'no': 3, 'title': '트럼프2,0시대', 'writer': '박종훈'})\",\n",
       " '_182': {'no': 3, 'title': '트럼프2,0시대', 'writer': '박종훈', 'price': 0},\n",
       " '_i183': \"price_parse_int({'no': 3, 'title': '트럼프2,0시대', 'writer': '박종훈', 'price': 18000})\",\n",
       " '_183': {'no': 3, 'title': '트럼프2,0시대', 'writer': '박종훈', 'price': 18000},\n",
       " '_i184': \"price_parse_int({'no': 3, 'title': '트럼프2,0시대', 'writer': '박종훈', 'price': 'a'})\",\n",
       " '_184': {'no': 3, 'title': '트럼프2,0시대', 'writer': '박종훈', 'price': 0},\n",
       " '_i185': \"def price_parse_int(book):\\n    # book.get(price)를 정수 가격으로 바꾸기 (방법1)\\n    if isinstance(book.get('price'), str) and book.get('price').replace(',','').isdigit():\\n        book['price'] = int(book['price'].replace(',',''))\\n    elif isinstance(book.get('price'), int):\\n        pass\\n    else :\\n        book['price'] = 0\\n    return book\\n    # book2 복사본을 만들어 book.get(price)를 정수 가격으로 바꾸기 (방법2)\\n    # return book2\",\n",
       " '_i186': \"def price_parse_int(book):\\n    # book.get(price)를 정수 가격으로 바꾸기 (방법1)\\n    if isinstance(book.get('price'), str) and book.get('price').replace(',','').isdigit():\\n        book['price'] = int(book['price'].replace(',',''))\\n    elif isinstance(book.get('price'), int):\\n        pass\\n    else :\\n        book['price'] = 0\\n    return book\\n    # book2 복사본을 만들어 book.get(price)를 정수 가격으로 바꾸기 (방법2)\\n    # return book2\",\n",
       " '_i187': \"price_parse_int({'no': 3, 'title': '트럼프2,0시대', 'writer': '박종훈', 'price': 'a'})\",\n",
       " '_187': {'no': 3, 'title': '트럼프2,0시대', 'writer': '박종훈', 'price': 0},\n",
       " '_i188': \"def price_parse_int(book):\\n    return {'no':book.get('no'),'title':book.get('title'),'writer':book.get('writer'),'price': int(book.get('price').replace(',','')) \\\\\\n                                                                if isinstance(book.get('price'), str) and book.get('price').replace(',','').isdigit()\\\\\\n                                                                else (book.get('price') if isinstance(book.get('price'), int)\\\\\\n                                                                      else book.get('price') = 0)}\",\n",
       " '_i189': \"def price_parse_int(book):\\n    return {'no':book.get('no'),'title':book.get('title'),'writer':book.get('writer'),'price': int(book.get('price').replace(',','')) \\\\\\n                                                                if isinstance(book.get('price'), str) and book.get('price').replace(',','').isdigit()\\\\\\n                                                                else (book.get('price') if isinstance(book.get('price'), int)\\\\\\n                                                                      else 0)}\",\n",
       " '_i190': \"price_parse_int({'no': 3, 'title': '트럼프2,0시대', 'writer': '박종훈', 'price': 'a'})\",\n",
       " '_190': {'no': 3, 'title': '트럼프2,0시대', 'writer': '박종훈', 'price': 0},\n",
       " '_i191': \"price_parse_int = lambda book : 'no':book.get('no'),'title':book.get('title'),'writer':book.get('writer'),'price': int(book.get('price').replace(',','')) \\\\\\n                                                                if isinstance(book.get('price'), str) and book.get('price').replace(',','').isdigit()\\\\\\n                                                                else (book.get('price') if isinstance(book.get('price'), int)\\\\\\n                                                                      else 0)\",\n",
       " '_i192': \"price_parse_int = lambda book : {'no':book.get('no'),'title':book.get('title'),'writer':book.get('writer'),'price': int(book.get('price').replace(',','')) \\\\\\n                                                                if isinstance(book.get('price'), str) and book.get('price').replace(',','').isdigit()\\\\\\n                                                                else (book.get('price') if isinstance(book.get('price'), int)\\\\\\n                                                                      else 0)}\",\n",
       " '_i193': \"price_parse_int({'no': 3, 'title': '트럼프2,0시대', 'writer': '박종훈', 'price': 'a'})\",\n",
       " '_193': {'no': 3, 'title': '트럼프2,0시대', 'writer': '박종훈', 'price': 0},\n",
       " '_i194': \"def price_parse_int(book):\\n    # book.get(price)를 정수 가격으로 바꾸기 (방법1)\\n    if isinstance(book.get('price'), str) and book.get('price').replace(',','').isdigit():\\n        book['price'] = int(book['price'].replace(',',''))\\n    elif isinstance(book.get('price'), int):\\n        pass\\n    else :\\n        book['price'] = 0\\n    return book\",\n",
       " '_i195': \"price_parse_int = lambda book : {'no':book.get('no'),'title':book.get('title'),'writer':book.get('writer'),'price': int(book.get('price').replace(',','')) \\\\\\n                                                                if isinstance(book.get('price'), str) and book.get('price').replace(',','').isdigit()\\\\\\n                                                                else (book.get('price') if isinstance(book.get('price'), int)\\\\\\n                                                                      else 0)}\",\n",
       " '_i196': \"price_parse_int({'no': 3, 'title': '트럼프2,0시대', 'writer': '박종훈', 'price': 'a'})\",\n",
       " '_196': {'no': 3, 'title': '트럼프2,0시대', 'writer': '박종훈', 'price': 0},\n",
       " '_i197': \"price_parse_int = lambda book : {'no':book.get('no'),'title':book.get('title'),'writer':book.get('writer'),'price': int(book.get('price').replace(',','')) \\\\\\n                                                                if isinstance(book.get('price'), str) and book.get('price').replace(',','').isdigit()\\\\\\n                                                                else (book.get('price') if isinstance(book.get('price'), int)\\\\\\n                                                                      else 0)}\",\n",
       " '_i198': \"bookTemp = {'no': 3, 'title': '트럼프2,0시대', 'writer': '박종훈', 'price': 'a'}\\nreturnbook = price_parse_int(bookTemp)\",\n",
       " 'bookTemp': {'no': 3, 'title': '트럼프2,0시대', 'writer': '박종훈', 'price': 'a'},\n",
       " 'returnbook': {'no': 3, 'title': '트럼프2,0시대', 'writer': '박종훈', 'price': 0},\n",
       " '_i199': \"bookTemp = {'no': 3, 'title': '트럼프2,0시대', 'writer': '박종훈', 'price': 'a'}\\nreturnbook = price_parse_int(bookTemp)\\nreturnbook\",\n",
       " '_199': {'no': 3, 'title': '트럼프2,0시대', 'writer': '박종훈', 'price': 0},\n",
       " '_i200': 'bookTemp',\n",
       " '_200': {'no': 3, 'title': '트럼프2,0시대', 'writer': '박종훈', 'price': 'a'},\n",
       " '_i201': \"map(lambda book : {'no':book.get('no'),'title':book.get('title'),'writer':book.get('writer'),'price': int(book.get('price').replace(',','')) \\\\\\n                                                                if isinstance(book.get('price'), str) and book.get('price').replace(',','').isdigit()\\\\\\n                                                                else (book.get('price') if isinstance(book.get('price'), int)\\\\\\n                                                                      else 0)}, book)\",\n",
       " '_i202': \"map(lambda book : {'no':book.get('no'),'title':book.get('title'),'writer':book.get('writer'),'price': int(book.get('price').replace(',','')) \\\\\\n                                                                if isinstance(book.get('price'), str) and book.get('price').replace(',','').isdigit()\\\\\\n                                                                else (book.get('price') if isinstance(book.get('price'), int)\\\\\\n                                                                      else 0)}, books)\",\n",
       " '_202': <map at 0x1eaf9474b80>,\n",
       " '_i203': \"map(lambda book : {'no':book.get('no'),'title':book.get('title'),'writer':book.get('writer'),'price': int(book.get('price').replace(',','')) \\\\\\n                                                                if isinstance(book.get('price'), str) and book.get('price').replace(',','').isdigit()\\\\\\n                                                                else (book.get('price') if isinstance(book.get('price'), int)\\\\\\n                                                                      else 0)}, books)\\nbooks\",\n",
       " '_203': [{'no': 1, 'title': '소년이 온다', 'writer': '한강', 'price': '13,500'},\n",
       "  {'no': 3, 'title': '트럼프2,0시대', 'writer': '박종훈', 'price': '18,000'},\n",
       "  {'no': 2, 'title': '트렌드코리아2025', 'writer': '김난도', 'price': '9,100'},\n",
       "  {'no': 4, 'title': '가격잘못', 'writer': '홍길동', 'price': 'ㅁ'},\n",
       "  {'no': 6, 'title': '가격이숫자', 'writer': '신길동', 'price': 9200},\n",
       "  {'no': 5, 'title': '가격이없음', 'writer': '이길동'}],\n",
       " '_i204': \"copyBooks = map(lambda book : {'no':book.get('no'),'title':book.get('title'),'writer':book.get('writer'),'price': int(book.get('price').replace(',','')) \\\\\\n                                                                if isinstance(book.get('price'), str) and book.get('price').replace(',','').isdigit()\\\\\\n                                                                else (book.get('price') if isinstance(book.get('price'), int)\\\\\\n                                                                      else 0)}, books)\\nbooks\",\n",
       " '_204': [{'no': 1, 'title': '소년이 온다', 'writer': '한강', 'price': '13,500'},\n",
       "  {'no': 3, 'title': '트럼프2,0시대', 'writer': '박종훈', 'price': '18,000'},\n",
       "  {'no': 2, 'title': '트렌드코리아2025', 'writer': '김난도', 'price': '9,100'},\n",
       "  {'no': 4, 'title': '가격잘못', 'writer': '홍길동', 'price': 'ㅁ'},\n",
       "  {'no': 6, 'title': '가격이숫자', 'writer': '신길동', 'price': 9200},\n",
       "  {'no': 5, 'title': '가격이없음', 'writer': '이길동'}],\n",
       " '_i205': 'copyBooks',\n",
       " '_205': <map at 0x1eaf9474910>,\n",
       " '_i206': 'print(copyBooks)',\n",
       " '_i207': 'print(list(copyBooks))',\n",
       " '_i208': 'list(copyBooks)',\n",
       " '_208': [],\n",
       " '_i209': 'print(list(copyBooks))',\n",
       " '_i210': \"copyBooks = map(lambda book : {'no':book.get('no'),'title':book.get('title'),'writer':book.get('writer'),'price': int(book.get('price').replace(',','')) \\\\\\n                                                                if isinstance(book.get('price'), str) and book.get('price').replace(',','').isdigit()\\\\\\n                                                                else (book.get('price') if isinstance(book.get('price'), int)\\\\\\n                                                                      else 0)}, books)\\nbooks\",\n",
       " '_210': [{'no': 1, 'title': '소년이 온다', 'writer': '한강', 'price': '13,500'},\n",
       "  {'no': 3, 'title': '트럼프2,0시대', 'writer': '박종훈', 'price': '18,000'},\n",
       "  {'no': 2, 'title': '트렌드코리아2025', 'writer': '김난도', 'price': '9,100'},\n",
       "  {'no': 4, 'title': '가격잘못', 'writer': '홍길동', 'price': 'ㅁ'},\n",
       "  {'no': 6, 'title': '가격이숫자', 'writer': '신길동', 'price': 9200},\n",
       "  {'no': 5, 'title': '가격이없음', 'writer': '이길동'}],\n",
       " '_i211': 'print(list(copyBooks))',\n",
       " '_i212': \"copyBooks = map(lambda book : {'no':book.get('no'),'title':book.get('title'),'writer':book.get('writer'),'price': int(book.get('price').replace(',','')) \\\\\\n                                                                                            if isinstance(book.get('price'), str) and book.get('price').replace(',','').isdigit()\\\\\\n                                                                                            else (book.get('price') if isinstance(book.get('price'), int)\\\\\\n                                                                                            else 0)}, books)\\nbooks\",\n",
       " '_212': [{'no': 1, 'title': '소년이 온다', 'writer': '한강', 'price': '13,500'},\n",
       "  {'no': 3, 'title': '트럼프2,0시대', 'writer': '박종훈', 'price': '18,000'},\n",
       "  {'no': 2, 'title': '트렌드코리아2025', 'writer': '김난도', 'price': '9,100'},\n",
       "  {'no': 4, 'title': '가격잘못', 'writer': '홍길동', 'price': 'ㅁ'},\n",
       "  {'no': 6, 'title': '가격이숫자', 'writer': '신길동', 'price': 9200},\n",
       "  {'no': 5, 'title': '가격이없음', 'writer': '이길동'}],\n",
       " '_i213': 'print(list(copyBooks))',\n",
       " '_i214': \"copyBooks = list(map(lambda book : {'no':book.get('no'),'title':book.get('title'),'writer':book.get('writer'),'price': int(book.get('price').replace(',','')) \\\\\\n                                                                                            if isinstance(book.get('price'), str) and book.get('price').replace(',','').isdigit()\\\\\\n                                                                                            else (book.get('price') if isinstance(book.get('price'), int)\\\\\\n                                                                                            else 0)}, books))\\nbooks\",\n",
       " '_214': [{'no': 1, 'title': '소년이 온다', 'writer': '한강', 'price': '13,500'},\n",
       "  {'no': 3, 'title': '트럼프2,0시대', 'writer': '박종훈', 'price': '18,000'},\n",
       "  {'no': 2, 'title': '트렌드코리아2025', 'writer': '김난도', 'price': '9,100'},\n",
       "  {'no': 4, 'title': '가격잘못', 'writer': '홍길동', 'price': 'ㅁ'},\n",
       "  {'no': 6, 'title': '가격이숫자', 'writer': '신길동', 'price': 9200},\n",
       "  {'no': 5, 'title': '가격이없음', 'writer': '이길동'}],\n",
       " '_i215': 'copyBooks',\n",
       " '_215': [{'no': 1, 'title': '소년이 온다', 'writer': '한강', 'price': 13500},\n",
       "  {'no': 3, 'title': '트럼프2,0시대', 'writer': '박종훈', 'price': 18000},\n",
       "  {'no': 2, 'title': '트렌드코리아2025', 'writer': '김난도', 'price': 9100},\n",
       "  {'no': 4, 'title': '가격잘못', 'writer': '홍길동', 'price': 0},\n",
       "  {'no': 6, 'title': '가격이숫자', 'writer': '신길동', 'price': 9200},\n",
       "  {'no': 5, 'title': '가격이없음', 'writer': '이길동', 'price': 0}],\n",
       " '_i216': \"members = [{'name':'홍길동', 'birth':'2000-01-01'},\\n          {'name':'신길동', 'birth':'1995-12-18'}]\\ndef \",\n",
       " '_i217': \"members = [{'name':'홍길동', 'birth':'2000-01-01'},\\n          {'name':'신길동', 'birth':'1995-12-18'}]\\ndef members_birth_split (member):\\n    return member\",\n",
       " 'members': [{'name': '홍길동', 'birth': '2000-01-01'},\n",
       "  {'name': '신길동', 'birth': '1995-12-18'}],\n",
       " 'members_birth_split': <function __main__.members_birth_split(member)>,\n",
       " '_i218': \"members = [{'name':'홍길동', 'birth':'2000-01-01'},\\n          {'name':'신길동', 'birth':'1995-12-18'}]\\ndef members_birth_split (member):\\n    if isinstance(member.get('birth'), str):\\n        print(member['birth'].split('-'))\",\n",
       " '_i219': \"members = [{'name':'홍길동', 'birth':'2000-01-01'},\\n          {'name':'신길동', 'birth':'1995-12-18'}]\\ndef members_birth_split (member):\\n    if isinstance(member.get('birth'), str):\\n        print(member['birth'].split('-'))\\nmembers_birth_split(members)\",\n",
       " '_i220': \"members = [{'name':'홍길동', 'birth':'2000-01-01'},\\n          {'name':'신길동', 'birth':'1995-12-18'}]\\ndef members_birth_split (member):\\n    if isinstance(member.get('birth'), str):\\n        print(member['birth'].split('-'))\\nmembers_birth_split({'name':'홍길동', 'birth':'2000-01-01'})\",\n",
       " '_i221': \"members = [{'name':'홍길동', 'birth':'2000-01-01'},\\n          {'name':'신길동', 'birth':'1995-12-18'}]\\ndef members_birth_split (member):\\n    if isinstance(member.get('birth'), str):\\n        splited_member_birth = member['birth'].split('-')\\n        for i in range(len(splited_member_birth)):\\n            splited_member_birth[i] = int(splited_member_birth[i])\\n    print(splited_member_birth)\",\n",
       " '_i222': \"members_birth_split({'name':'홍길동', 'birth':'2000-01-01'})\",\n",
       " '_i223': \"members = [{'name':'홍길동', 'birth':'2000-01-01'},\\n          {'name':'신길동', 'birth':'1995-12-18'}]\\ndef members_birth_split (member):\\n    if isinstance(member.get('birth'), str):\\n        splited_member_birth = member['birth'].split('-')\\n        for i in range(len(splited_member_birth)):\\n            splited_member_birth[i] = int(splited_member_birth[i])\\n    return {'name':member.get('name'), 'birth':member.get('birth'), 'year':splited_member_birth[0], 'month':splited_member_birth[1], 'day':splited_member_birth[2]}\",\n",
       " '_i224': \"members_birth_split({'name':'홍길동', 'birth':'2000-01-01'})\",\n",
       " '_224': {'name': '홍길동',\n",
       "  'birth': '2000-01-01',\n",
       "  'year': 2000,\n",
       "  'month': 1,\n",
       "  'day': 1},\n",
       " '_i225': \"members_birth_split = lambda member : {'name':member.get('name'), 'birth':member.get('birth'), \\\\\\n                                       'year':[year for member.get('birth').split('-')[0] if isinstance(member.get('birth'), str)], \\\\\\n                                       'month':[month for member.get('birth').split('-')[1] if isinstance(member.get('birth'), str)], \\\\\\n                                       'day':[day for member.get('birth').split('-')[2] if isinstance(member.get('birth'), str)]}\",\n",
       " '_i226': \"members_birth_split = lambda member : {'name':member.get('name'), 'birth':member.get('birth'), \\\\\\n                                       'year':[year for member.get('birth').split('-')[0] if isinstance(member.get('birth'), str) else 0], \\\\\\n                                       'month':[month for member.get('birth').split('-')[1] if isinstance(member.get('birth'), str) else 0], \\\\\\n                                       'day':[day for member.get('birth').split('-')[2] if isinstance(member.get('birth'), str) else 0]}\",\n",
       " '_i227': \"members_birth_split = lambda member : {'name':member.get('name'), 'birth':member.get('birth'), \\\\\\n                                       'year':[birth for member.get('birth').split('-')[0] if isinstance(member.get('birth'), str) else 0], \\\\\\n                                       'month':[birth for member.get('birth').split('-')[1] if isinstance(member.get('birth'), str) else 0], \\\\\\n                                       'day':[birth for member.get('birth').split('-')[2] if isinstance(member.get('birth'), str) else 0]}\",\n",
       " '_i228': \"members_birth_split = lambda member : {'name':member.get('name'), 'birth':member.get('birth'), \\\\\\n                                       'year':[birth for member.get('birth').split('-')[0] if isinstance(member.get('birth'), str) else 0], \\\\\\n                                       'month':[birth for member.get('birth').split('-')[1] if isinstance(member.get('birth'), str) else 0], \\\\\\n                                       'day':[birth for member.get('birth').split('-')[2] if isinstance(member.get('birth'), str) else 0]}\",\n",
       " '_i229': \"members_birth_split = lambda member : {'name':member.get('name'), 'birth':member.get('birth'), \\\\\\n                                       'year':[year for year in member.get('birth').split('-')[0] if isinstance(member.get('birth'), str) else 0], \\\\\\n                                       'month':[month for month in member.get('birth').split('-')[1] if isinstance(member.get('birth'), str) else 0], \\\\\\n                                       'day':[day for day in member.get('birth').split('-')[2] if isinstance(member.get('birth'), str) else 0]}\",\n",
       " '_i230': \"members_birth_split = lambda member : {'name':member.get('name'), 'birth':member.get('birth'), \\\\\\n                                       'year':[year for year in member.get('birth').split('-')[0] if isinstance(member.get('birth'), str)], \\\\\\n                                       'month':[month for month in member.get('birth').split('-')[1] if isinstance(member.get('birth'), str)], \\\\\\n                                       'day':[day for day in member.get('birth').split('-')[2] if isinstance(member.get('birth'), str)]}\",\n",
       " '_i231': \"members_birth_split({'name':'홍길동', 'birth':'2000-01-01'})\",\n",
       " '_231': {'name': '홍길동',\n",
       "  'birth': '2000-01-01',\n",
       "  'year': ['2', '0', '0', '0'],\n",
       "  'month': ['0', '1'],\n",
       "  'day': ['0', '1']},\n",
       " '_i232': \"members_birth_split = lambda member : {'name':member.get('name'), 'birth':member.get('birth'), \\\\\\n                                       'year':[''.join(year) for year in member.get('birth').split('-')[0] if isinstance(member.get('birth'), str)], \\\\\\n                                       'month':[month for month in member.get('birth').split('-')[1] if isinstance(member.get('birth'), str)], \\\\\\n                                       'day':[day for day in member.get('birth').split('-')[2] if isinstance(member.get('birth'), str)]}\",\n",
       " '_i233': \"members_birth_split({'name':'홍길동', 'birth':'2000-01-01'})\",\n",
       " '_233': {'name': '홍길동',\n",
       "  'birth': '2000-01-01',\n",
       "  'year': ['2', '0', '0', '0'],\n",
       "  'month': ['0', '1'],\n",
       "  'day': ['0', '1']},\n",
       " '_i234': \"members_birth_split = lambda member : {'name':member.get('name'), 'birth':member.get('birth'), \\\\\\n                                       'year':[''.join(year) for year in member.get('birth').split('-')[0] if isinstance(member.get('birth'), str)], \\\\\\n                                       'month':[month for month in member.get('birth').split('-')[1] if isinstance(member.get('birth'), str)], \\\\\\n                                       'day':[day for day in member.get('birth').split('-')[2] if isinstance(member.get('birth'), str)]}\",\n",
       " '_i235': \"members_birth_split({'name':'홍길동', 'birth':'2000-01-01'})\",\n",
       " '_235': {'name': '홍길동',\n",
       "  'birth': '2000-01-01',\n",
       "  'year': ['2', '0', '0', '0'],\n",
       "  'month': ['0', '1'],\n",
       "  'day': ['0', '1']},\n",
       " '_i236': \"members = [{'name':'홍길동', 'birth':'2000-01-01'},\\n          {'name':'신길동', 'birth':'1995-12-18'}]\\ndef members_birth_split (member):\\n    if isinstance(member.get('birth'), str):\\n        splited_member_birth = member['birth'].split('-')\\n        for i in range(len(splited_member_birth)):\\n            splited_member_birth[i] = int(splited_member_birth[i])\\n    return {'name':member.get('name'), 'birth':member.get('birth'), 'year':splited_member_birth[0], 'month':splited_member_birth[1], 'day':splited_member_birth[2]}\",\n",
       " '_i237': \"members_birth_split({'name':'홍길동', 'birth':'2000-01-01'})\",\n",
       " '_237': {'name': '홍길동',\n",
       "  'birth': '2000-01-01',\n",
       "  'year': 2000,\n",
       "  'month': 1,\n",
       "  'day': 1},\n",
       " '_i238': \"members_birth_split = lambda member : {'name':member.get('name'), 'birth':member.get('birth'), \\\\\\n                                       'year':year for year in member.get('birth').split('-')[0] if isinstance(member.get('birth'), str), \\\\\\n                                       'month':[month for month in member.get('birth').split('-')[1] if isinstance(member.get('birth'), str)], \\\\\\n                                       'day':[day for day in member.get('birth').split('-')[2] if isinstance(member.get('birth'), str)]}\",\n",
       " '_i239': \"members_birth_split = lambda member : {'name':member.get('name'), 'birth':member.get('birth'), \\\\\\n                                       'year':member['birth'].split('-')[0] if isinstance(member.get('birth'), str), \\\\\\n                                       'month':[month for month in member.get('birth').split('-')[1] if isinstance(member.get('birth'), str)], \\\\\\n                                       'day':[day for day in member.get('birth').split('-')[2] if isinstance(member.get('birth'), str)]}\",\n",
       " '_i240': \"members_birth_split = lambda member : {'name':member.get('name'), 'birth':member.get('birth'), \\\\\\n                                       'year':member.get('birth').split('-')[0] if isinstance(member.get('birth'), str), \\\\\\n                                       'month':[month for month in member.get('birth').split('-')[1] if isinstance(member.get('birth'), str)], \\\\\\n                                       'day':[day for day in member.get('birth').split('-')[2] if isinstance(member.get('birth'), str)]}\",\n",
       " '_i241': \"members_birth_split = lambda member : {'name':member.get('name'), 'birth':member.get('birth'), \\\\\\n                                       'year':member.get('birth').split('-')[0] if isinstance(member.get('birth'), str) else 0, \\\\\\n                                       'month':[month for month in member.get('birth').split('-')[1] if isinstance(member.get('birth'), str)], \\\\\\n                                       'day':[day for day in member.get('birth').split('-')[2] if isinstance(member.get('birth'), str)]}\",\n",
       " '_i242': \"members_birth_split({'name':'홍길동', 'birth':'2000-01-01'})\",\n",
       " '_242': {'name': '홍길동',\n",
       "  'birth': '2000-01-01',\n",
       "  'year': '2000',\n",
       "  'month': ['0', '1'],\n",
       "  'day': ['0', '1']},\n",
       " '_i243': \"members_birth_split = lambda member : {'name':member.get('name'), 'birth':member.get('birth'), \\\\\\n                                       'year':member.get('birth').split('-')[0] if isinstance(member.get('birth'), str) else 0, \\\\\\n                                       'month':member.get('birth').split('-')[1] if isinstance(member.get('birth'), str) else 0, \\\\\\n                                       'day':member.get('birth').split('-')[2] if isinstance(member.get('birth'), str) else 0}\",\n",
       " '_i244': \"members_birth_split({'name':'홍길동', 'birth':'2000-01-01'})\",\n",
       " '_244': {'name': '홍길동',\n",
       "  'birth': '2000-01-01',\n",
       "  'year': '2000',\n",
       "  'month': '01',\n",
       "  'day': '01'},\n",
       " '_i245': \"members_birth_split = lambda member : {'name':member.get('name'), 'birth':member.get('birth'), \\\\\\n                                       'year':int(member.get('birth').split('-')[0]) if isinstance(member.get('birth'), str) else 0, \\\\\\n                                       'month':int(member.get('birth').split('-')[1]) if isinstance(member.get('birth'), str) else 0, \\\\\\n                                       'day':int(member.get('birth').split('-')[2]) if isinstance(member.get('birth'), str) else 0}\",\n",
       " '_i246': \"members_birth_split({'name':'홍길동', 'birth':'2000-01-01'})\",\n",
       " '_246': {'name': '홍길동',\n",
       "  'birth': '2000-01-01',\n",
       "  'year': 2000,\n",
       "  'month': 1,\n",
       "  'day': 1},\n",
       " '_i247': \"members = [{'name':'홍길동', 'birth':'2000-01-01'},\\n          {'name':'신길동', 'birth':'1995-12-18'}]\\ndef members_birth_split (member):\\n    if isinstance(member.get('birth'), str):\\n        year, month, day = member['birth'].split('-')\\n    return {'name':member.get('name'), 'birth':member.get('birth'), 'year':year, 'month':month, 'day':day}\",\n",
       " '_i248': \"members_birth_split({'name':'홍길동', 'birth':'2000-01-01'})\",\n",
       " '_248': {'name': '홍길동',\n",
       "  'birth': '2000-01-01',\n",
       "  'year': '2000',\n",
       "  'month': '01',\n",
       "  'day': '01'},\n",
       " '_i249': \"members_birth_split = lambda member : {'name':member.get('name'), 'birth':member.get('birth'), \\\\\\n                                       'year':int(member.get('birth').split('-')[0]) if isinstance(member.get('birth'), str) else 0, \\\\\\n                                       'month':int(member.get('birth').split('-')[1]) if isinstance(member.get('birth'), str) else 0, \\\\\\n                                       'day':int(member.get('birth').split('-')[2]) if isinstance(member.get('birth'), str) else 0}\",\n",
       " '_i250': \"members = [{'name':'홍길동', 'birth':'2000-01-01'},\\n          {'name':'신길동', 'birth':'1995-12-18'}]\\ndef members_birth_split (member):\\n    if isinstance(member.get('birth'), str):\\n        int(year, month, day) = member['birth'].split('-')\\n    return {'name':member.get('name'), 'birth':member.get('birth'), 'year':year, 'month':month, 'day':day}\",\n",
       " '_i251': \"members = [{'name':'홍길동', 'birth':'2000-01-01'},\\n          {'name':'신길동', 'birth':'1995-12-18'}]\\ndef members_birth_split (member):\\n    if isinstance(member.get('birth'), str):\\n        int(year), int(month), int(day) = member['birth'].split('-')\\n    return {'name':member.get('name'), 'birth':member.get('birth'), 'year':year, 'month':month, 'day':day}\",\n",
       " '_i252': \"members = [{'name':'홍길동', 'birth':'2000-01-01'},\\n          {'name':'신길동', 'birth':'1995-12-18'}]\\ndef members_birth_split (member):\\n    if isinstance(member.get('birth'), str):\\n        year, month, day = int(member['birth'].split('-'))\\n    return {'name':member.get('name'), 'birth':member.get('birth'), 'year':year, 'month':month, 'day':day}\",\n",
       " '_i253': \"members_birth_split({'name':'홍길동', 'birth':'2000-01-01'})\",\n",
       " '_i254': \"members = [{'name':'홍길동', 'birth':'2000-01-01'},\\n          {'name':'신길동', 'birth':'1995-12-18'}]\\ndef members_birth_split (member):\\n    if isinstance(member.get('birth'), str):\\n        year, month, day = member['birth'].split('-')\\n    return {'name':member.get('name'), 'birth':member.get('birth'), 'year':year, 'month':month, 'day':day}\",\n",
       " '_i255': \"members_birth_split({'name':'홍길동', 'birth':'2000-01-01'})\",\n",
       " '_255': {'name': '홍길동',\n",
       "  'birth': '2000-01-01',\n",
       "  'year': '2000',\n",
       "  'month': '01',\n",
       "  'day': '01'},\n",
       " '_i256': \"members = [{'name':'홍길동', 'birth':'2000-01-01'},\\n          {'name':'신길동', 'birth':'1995-12-18'}]\\ndef members_birth_split (member):\\n    if isinstance(member.get('birth'), str):\\n        year, month, day = member['birth'].split('-')\\n    return {'name':member.get('name'), 'birth':member.get('birth'), 'year':int(year), 'month':int(month), 'day':int(day)}\",\n",
       " '_i257': \"members_birth_split({'name':'홍길동', 'birth':'2000-01-01'})\",\n",
       " '_257': {'name': '홍길동',\n",
       "  'birth': '2000-01-01',\n",
       "  'year': 2000,\n",
       "  'month': 1,\n",
       "  'day': 1},\n",
       " '_i258': \"map(lambda member : {'name':member.get('name'), 'birth':member.get('birth'), \\\\\\n                                       'year':int(member.get('birth').split('-')[0]) if isinstance(member.get('birth'), str) else 0, \\\\\\n                                       'month':int(member.get('birth').split('-')[1]) if isinstance(member.get('birth'), str) else 0, \\\\\\n                                       'day':int(member.get('birth').split('-')[2]) if isinstance(member.get('birth'), str) else 0}, members)\",\n",
       " '_258': <map at 0x1eaf93c57e0>,\n",
       " '_i259': \"copy_members=map(lambda member : {'name':member.get('name'), 'birth':member.get('birth'), \\\\\\n                                       'year':int(member.get('birth').split('-')[0]) if isinstance(member.get('birth'), str) else 0, \\\\\\n                                       'month':int(member.get('birth').split('-')[1]) if isinstance(member.get('birth'), str) else 0, \\\\\\n                                       'day':int(member.get('birth').split('-')[2]) if isinstance(member.get('birth'), str) else 0}, members)\",\n",
       " 'copy_members': [{'name': '홍길동',\n",
       "   'birth': '2000-01-01',\n",
       "   'year': 2000,\n",
       "   'month': 1,\n",
       "   'day': 1},\n",
       "  {'name': '신길동',\n",
       "   'birth': '1995-12-18',\n",
       "   'year': 1995,\n",
       "   'month': 12,\n",
       "   'day': 18}],\n",
       " '_i260': 'copy_members',\n",
       " '_260': <map at 0x1eaf9932380>,\n",
       " '_i261': \"copy_members = list(map(lambda member : {'name':member.get('name'), 'birth':member.get('birth'), \\\\\\n                                       'year':int(member.get('birth').split('-')[0]) if isinstance(member.get('birth'), str) else 0, \\\\\\n                                       'month':int(member.get('birth').split('-')[1]) if isinstance(member.get('birth'), str) else 0, \\\\\\n                                       'day':int(member.get('birth').split('-')[2]) if isinstance(member.get('birth'), str) else 0}, members))\",\n",
       " '_i262': 'copy_members',\n",
       " '_262': [{'name': '홍길동',\n",
       "   'birth': '2000-01-01',\n",
       "   'year': 2000,\n",
       "   'month': 1,\n",
       "   'day': 1},\n",
       "  {'name': '신길동',\n",
       "   'birth': '1995-12-18',\n",
       "   'year': 1995,\n",
       "   'month': 12,\n",
       "   'day': 18}],\n",
       " '_i263': \"def split_date(date):\\n    split_data = data.split('-')\\n    return {'year' : split_data[0],\\n            'month' : split_data[1],\\n            'day' : split_data[2],}\",\n",
       " 'split_date': <function __main__.split_date(date)>,\n",
       " '_i264': \"def split_date(date):\\n    split_data = data.split('-')\\n    return {'year' : int(split_data[0]),\\n            'month' : int(split_data[1]),\\n            'day' : int(split_data[2]),}\",\n",
       " '_i265': \"split_date('2001-06-18')\",\n",
       " '_i266': \"def split_date(date):\\n    split_data = date.split('-')\\n    return {'year' : int(split_data[0]),\\n            'month' : int(split_data[1]),\\n            'day' : int(split_data[2]),}\",\n",
       " '_i267': \"split_date('2001-06-18')\",\n",
       " '_267': {'year': 2001, 'month': 6, 'day': 18},\n",
       " '_i268': \"split_birth(member): # 'name', 'birth'\\n    return {\\n        'name': member.get('name'),\\n        'birth': member.get('birth'),\\n        'year': int(member.get('birth').split('-')[0]),\\n        'name': int(member.get('birth').split('-')[1]),\\n        'name': int(member.get('birth').split('-')[2]),\\n    }\",\n",
       " '_i269': \"def split_birth(member) : # 'name', 'birth'\\n    return {\\n        'name': member.get('name'),\\n        'birth': member.get('birth'),\\n        'year': int(member.get('birth').split('-')[0]),\\n        'name': int(member.get('birth').split('-')[1]),\\n        'name': int(member.get('birth').split('-')[2]),\\n    }\",\n",
       " 'split_birth': <function __main__.<lambda>(member)>,\n",
       " '_i270': \"def split_birth(member) : # 'name', 'birth'\\n    return {\\n        'name': member.get('name'),\\n        'year': int(member.get('birth').split('-')[0]),\\n        'name': int(member.get('birth').split('-')[1]),\\n        'name': int(member.get('birth').split('-')[2]),\\n    }\",\n",
       " '_i271': \"def split_birth(member) : # 'name', 'birth'\\n    return {\\n        'name': member.get('name'),\\n        'year': int(member.get('birth').split('-')[0]),\\n        'month': int(member.get('birth').split('-')[1]),\\n        'day': int(member.get('birth').split('-')[2]),\\n    }\",\n",
       " '_i272': \"split_birth({'name':'홍길동', 'birth':'2000-01-01'})\",\n",
       " '_272': {'name': '홍길동', 'year': 2000, 'month': 1, 'day': 1},\n",
       " '_i273': \"split_birth = lambda member : {\\n        'name': member.get('name'),\\n        'year': int(member.get('birth').split('-')[0]),\\n        'month': int(member.get('birth').split('-')[1]),\\n        'day': int(member.get('birth').split('-')[2]),\\n    }\",\n",
       " '_i274': \"split_birth({'name':'홍길동', 'birth':'2000-01-01'})\",\n",
       " '_274': {'name': '홍길동', 'year': 2000, 'month': 1, 'day': 1},\n",
       " '_i275': \"split_birth({'name':'홍길동', 'birth':'2000-01-01'})\",\n",
       " '_275': {'name': '홍길동', 'year': 2000, 'month': 1, 'day': 1},\n",
       " '_i276': \"members = list(map(lambda member : {\\n        'name': member.get('name'),\\n        'year': int(member.get('birth').split('-')[0]),\\n        'month': int(member.get('birth').split('-')[1]),\\n        'day': int(member.get('birth').split('-')[2]),\\n    }, members))\\nmembers\",\n",
       " '_276': [{'name': '홍길동', 'year': 2000, 'month': 1, 'day': 1},\n",
       "  {'name': '신길동', 'year': 1995, 'month': 12, 'day': 18}],\n",
       " '_i277': \"def join_date(date):\\n    return '{}-{}-{}'.format(date.get('year'),date.get('month'),date.get('day'))\",\n",
       " 'join_date': <function __main__.join_date(date)>,\n",
       " '_i278': \"join_date({'name': '홍길동', 'year': 2000, 'month': 1, 'day': 1})\",\n",
       " '_278': '2000-1-1',\n",
       " '_i279': \"def join_date(date):\\n    return '{}-{:02}-{:02}'.format(date.get('year'),date.get('month'),date.get('day'))\",\n",
       " '_i280': \"join_date({'name': '홍길동', 'year': 2000, 'month': 1, 'day': 1})\",\n",
       " '_280': '2000-01-01',\n",
       " '_i281': \"def join_date(date):\\n    return '{year}-{month:02}-{day:02}'.format(**date)\",\n",
       " '_i282': \"join_date({'name': '홍길동', 'year': 2000, 'month': 1, 'day': 1})\",\n",
       " '_282': '2000-01-01',\n",
       " '_i283': \"def join_birth(member):\\n    name = member['name']\\n    del member['name']\\n    print(member)\",\n",
       " 'join_birth': <function __main__.join_birth(member)>,\n",
       " '_i284': \"join_date({'name': '홍길동', 'year': 2000, 'month': 1, 'day': 1})\",\n",
       " '_284': '2000-01-01',\n",
       " '_i285': \"join_birth({'name': '홍길동', 'year': 2000, 'month': 1, 'day': 1})\",\n",
       " '_i286': \"def join_birth(member):\\n    name = member['name']\\n    del member['name']\\n    print(member)\\n    join_date = '{year}-{month:02}-{day:02}'.format(**member)\",\n",
       " '_i287': \"join_birth({'name': '홍길동', 'year': 2000, 'month': 1, 'day': 1})\",\n",
       " '_i288': \"members = list(map(lambda member : {'name':member.get('name')\\\\\\n                                    'birth':'{year}-{month:02}-{day:02}'.format(**member)}))\",\n",
       " '_i289': \"members = list(map(lambda member : {'name':member.get('name'),\\\\\\n                                    'birth':'{year}-{month:02}-{day:02}'.format(**member)}))\",\n",
       " '_i290': \"members = list(map(lambda member : {'name':member.get('name'),\\\\\\n                                    'birth':'{year}-{month:02}-{day:02}'.format(**member)}, members))\",\n",
       " '_i291': \"members = list(map(lambda member : {'name':member.get('name'),\\\\\\n                                    'birth':'{year}-{month:02}-{day:02}'.format(**member)}, members))\\nmembers\",\n",
       " '_i292': \"'{year}-{month:02}-{day:02}'.format(**date)\",\n",
       " '_i293': 'members',\n",
       " '_293': [{'name': '홍길동', 'birth': '2000-01-01'},\n",
       "  {'name': '신길동', 'birth': '1995-12-18'}],\n",
       " '_i294': \"members = list(map(lambda member : {\\n        'name': member.get('name'),\\n        'year': int(member.get('birth').split('-')[0]),\\n        'month': int(member.get('birth').split('-')[1]),\\n        'day': int(member.get('birth').split('-')[2]),\\n    }, members))\\nmembers\",\n",
       " '_294': [{'name': '홍길동', 'year': 2000, 'month': 1, 'day': 1},\n",
       "  {'name': '신길동', 'year': 1995, 'month': 12, 'day': 18}],\n",
       " '_i295': \"members = list(map(lambda member : {'name':member.get('name'),\\\\\\n                                    'birth':'{year}-{month:02}-{day:02}'.format(**member)}, members))\",\n",
       " '_i296': 'members',\n",
       " '_296': [{'name': '홍길동', 'birth': '2000-01-01'},\n",
       "  {'name': '신길동', 'birth': '1995-12-18'}],\n",
       " '_i297': \"def apply(data, func=None):\\n    if func == None:\\n        print('func가 None임')\\n    else:\\n        print('func가 None아님')\",\n",
       " 'apply': <function __main__.apply(data, func=None)>,\n",
       " '_i298': 'apply(1)',\n",
       " '_i299': \"def apply(data, func=None):\\n#     if func == None:\\n    if func is None:\\n        print('func가 None임')\\n    else:\\n        print('func가 None아님')\",\n",
       " '_i300': 'apply(1)',\n",
       " '_i301': \"def apply(data, func=None):\\n#     if func == None:\\n    if func is None:\\n        return data\\n    else:\\n        print('func가 None아님')\",\n",
       " '_i302': 'apply(1)',\n",
       " '_302': 1,\n",
       " '_i303': 'def apply(data, func=None):\\n#     if func == None:\\n    if func is None:\\n        return data\\n    else:\\n        return func(data)',\n",
       " '_i304': 'apply(1)',\n",
       " '_304': 1,\n",
       " '_i305': 'print(apply(2))\\nprint(apply(2, lambda x:x**3))',\n",
       " '_i306': '# 함수를 return\\n\"\"\"\\nmake_box((2,3)) => 2차원 2행 3열 짜리 list를 만드는 함수를 return\\n    fun = make_box([2,3])\\n    fun(5) => [[5,5,5],[5,5,5]]\\nmake_box((2,)) => 1차원 2열짜리 list를 만드는 함수를 return\\n    fun = make_box([2])\\n    fun(7) = [7,7]\\n\"\"\"',\n",
       " '_306': '\\nmake_box((2,3)) => 2차원 2행 3열 짜리 list를 만드는 함수를 return\\n    fun = make_box([2,3])\\n    fun(5) => [[5,5,5],[5,5,5]]\\nmake_box((2,)) => 1차원 2열짜리 list를 만드는 함수를 return\\n    fun = make_box([2])\\n    fun(7) = [7,7]\\n',\n",
       " '_i307': 'def make_box(shape): # [x], [x,y]\\n    def box(init_value):\\n        if len(shape) == 1:\\n            return [init_value]*shape[0] # 1차원 list\\n        elif len(shape) == 2:\\n            return [[init_value]*shape[1]]*shape[0]\\n    return box',\n",
       " 'make_box': <function __main__.make_box(shape)>,\n",
       " '_i308': 'line_fun = make_box((3,))\\nline_fun',\n",
       " 'line_fun': <function __main__.make_box.<locals>.<lambda>(init_value)>,\n",
       " '_308': <function __main__.make_box.<locals>.box(init_value)>,\n",
       " '_i309': 'line_fun = make_box((3,))\\nline_fun(5)',\n",
       " '_309': [5, 5, 5],\n",
       " '_i310': 'box2d_fun = make_box((4,3))\\nbox2d_fun(5)',\n",
       " 'box2d_fun': <function __main__.make_box.<locals>.<lambda>(init_value)>,\n",
       " '_310': [[5, 5, 5], [5, 5, 5], [5, 5, 5], [5, 5, 5]],\n",
       " '_i311': 'def make_box(shape):\\n    return lambda init_value : [init_value]*shape[0] if len(shape) == 1 \\\\\\n                            else ([[init_value]*shape[1]]*shape[0] if len(shape) == 2)',\n",
       " '_i312': 'def make_box(shape):\\n    return lambda init_value : [init_value]*shape[0] if len(shape) == 1 \\\\\\n                            else ([[init_value]*shape[1]]*shape[0] if len(shape) == 2 else 0)',\n",
       " '_i313': 'line_fun = make_box((3,))\\nline_fun(5)',\n",
       " '_313': [5, 5, 5],\n",
       " '_i314': 'box2d_fun = make_box((4,3))\\nbox2d_fun(5)',\n",
       " '_314': [[5, 5, 5], [5, 5, 5], [5, 5, 5], [5, 5, 5]],\n",
       " '_i315': 'def make_box(shape):\\n    if len(shape) == 1:\\n        return lambda init_value : [init_value]*shape[0]\\n    elif len(shape) == 2:\\n        return lambda init_value : [[init_value]*shape[1]]*shape[0]',\n",
       " '_i316': 'line_fun = make_box((3,))\\nline_fun(5)',\n",
       " '_316': [5, 5, 5],\n",
       " '_i317': 'box2d_fun = make_box((4,3))\\nbox2d_fun(5)',\n",
       " '_317': [[5, 5, 5], [5, 5, 5], [5, 5, 5], [5, 5, 5]],\n",
       " '_i318': \"int('6')\",\n",
       " '_318': 6,\n",
       " '_i319': 'globals()'}"
      ]
     },
     "execution_count": 319,
     "metadata": {},
     "output_type": "execute_result"
    }
   ],
   "source": [
    "globals()"
   ]
  },
  {
   "cell_type": "code",
   "execution_count": 320,
   "id": "3633a688",
   "metadata": {
    "ExecuteTime": {
     "end_time": "2024-11-11T08:43:13.397756Z",
     "start_time": "2024-11-11T08:43:13.392769Z"
    }
   },
   "outputs": [],
   "source": [
    "# abc(7) => [0,1,2,3,4,5,6]\n",
    "def abc(n):\n",
    "    L = []\n",
    "    for i in range(n):\n",
    "        L.append(i)\n",
    "    print(locals()) # 지역변수들을 출력\n",
    "    return L"
   ]
  },
  {
   "cell_type": "code",
   "execution_count": 321,
   "id": "0911e6b2",
   "metadata": {
    "ExecuteTime": {
     "end_time": "2024-11-11T08:43:18.815008Z",
     "start_time": "2024-11-11T08:43:18.808026Z"
    }
   },
   "outputs": [
    {
     "name": "stdout",
     "output_type": "stream",
     "text": [
      "{'n': 3, 'L': [0, 1, 2], 'i': 2}\n"
     ]
    },
    {
     "data": {
      "text/plain": [
       "[0, 1, 2]"
      ]
     },
     "execution_count": 321,
     "metadata": {},
     "output_type": "execute_result"
    }
   ],
   "source": [
    "abc(3)"
   ]
  },
  {
   "cell_type": "code",
   "execution_count": 322,
   "id": "d7be0655",
   "metadata": {
    "ExecuteTime": {
     "end_time": "2024-11-11T08:44:04.082471Z",
     "start_time": "2024-11-11T08:44:04.077485Z"
    }
   },
   "outputs": [
    {
     "data": {
      "text/plain": [
       "True"
      ]
     },
     "execution_count": 322,
     "metadata": {},
     "output_type": "execute_result"
    }
   ],
   "source": [
    "isinstance(3.5, float)"
   ]
  },
  {
   "cell_type": "code",
   "execution_count": 327,
   "id": "a7c4bbc8",
   "metadata": {
    "ExecuteTime": {
     "end_time": "2024-11-11T08:52:05.088810Z",
     "start_time": "2024-11-11T08:52:05.083823Z"
    }
   },
   "outputs": [],
   "source": [
    "class Person:\n",
    "    def __init__(self, name, age):\n",
    "        self.name = name\n",
    "        self.age = age\n",
    "    def print_info(self):\n",
    "        print('이름은 {}, 나이는{}살'.format(self.name, self.age))"
   ]
  },
  {
   "cell_type": "code",
   "execution_count": 328,
   "id": "0b3d775f",
   "metadata": {
    "ExecuteTime": {
     "end_time": "2024-11-11T08:52:05.799840Z",
     "start_time": "2024-11-11T08:52:05.795850Z"
    }
   },
   "outputs": [
    {
     "name": "stdout",
     "output_type": "stream",
     "text": [
      "이름은 홍길동, 나이는30살\n"
     ]
    }
   ],
   "source": [
    "p = Person('홍길동',30)\n",
    "p.print_info()"
   ]
  },
  {
   "cell_type": "code",
   "execution_count": null,
   "id": "5d5aa35b",
   "metadata": {},
   "outputs": [],
   "source": []
  },
  {
   "cell_type": "code",
   "execution_count": null,
   "id": "2c585e70",
   "metadata": {},
   "outputs": [],
   "source": []
  },
  {
   "cell_type": "code",
   "execution_count": null,
   "id": "ffd882b7",
   "metadata": {},
   "outputs": [],
   "source": []
  },
  {
   "cell_type": "code",
   "execution_count": null,
   "id": "915e416a",
   "metadata": {},
   "outputs": [],
   "source": []
  },
  {
   "cell_type": "code",
   "execution_count": null,
   "id": "958fca3e",
   "metadata": {},
   "outputs": [],
   "source": []
  },
  {
   "cell_type": "code",
   "execution_count": null,
   "id": "625be5f2",
   "metadata": {},
   "outputs": [],
   "source": []
  },
  {
   "cell_type": "code",
   "execution_count": null,
   "id": "9c78a2a4",
   "metadata": {},
   "outputs": [],
   "source": []
  },
  {
   "cell_type": "code",
   "execution_count": null,
   "id": "02606295",
   "metadata": {},
   "outputs": [],
   "source": []
  }
 ],
 "metadata": {
  "kernelspec": {
   "display_name": "Python 3 (ipykernel)",
   "language": "python",
   "name": "python3"
  },
  "language_info": {
   "codemirror_mode": {
    "name": "ipython",
    "version": 3
   },
   "file_extension": ".py",
   "mimetype": "text/x-python",
   "name": "python",
   "nbconvert_exporter": "python",
   "pygments_lexer": "ipython3",
   "version": "3.10.9"
  },
  "toc": {
   "base_numbering": 1,
   "nav_menu": {},
   "number_sections": true,
   "sideBar": true,
   "skip_h1_title": false,
   "title_cell": "Table of Contents",
   "title_sidebar": "Contents",
   "toc_cell": false,
   "toc_position": {
    "height": "calc(100% - 180px)",
    "left": "10px",
    "top": "150px",
    "width": "178px"
   },
   "toc_section_display": true,
   "toc_window_display": true
  }
 },
 "nbformat": 4,
 "nbformat_minor": 5
}
