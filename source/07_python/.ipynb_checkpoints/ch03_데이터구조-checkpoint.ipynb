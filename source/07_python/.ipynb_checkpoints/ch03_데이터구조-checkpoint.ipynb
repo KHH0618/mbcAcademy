{
 "cells": [
  {
   "cell_type": "markdown",
   "id": "917a7b1f",
   "metadata": {},
   "source": [
    "<b><font color=\"red\" size=\"6\">ch03. 데이터 구조</font></b>\n",
    "- 리스트[], 튜플(), 딕셔너리(hashMap과 유사), 셋"
   ]
  },
  {
   "cell_type": "markdown",
   "id": "05988afa",
   "metadata": {},
   "source": [
    "#  1절. 리스트"
   ]
  },
  {
   "cell_type": "markdown",
   "id": "125f4c2d",
   "metadata": {},
   "source": [
    "## 1.1 리스트 만들기\n",
    "    - []를 이용해서 만들며, 여러개 값을 하나의 변수에 저장/관리할 수 있음\n",
    "    - list()함수 이용도 가능\n",
    "    - 인덱스 : 각 요소의 위치. 인덱스는 0부터 시작. 맨마지막 인덱스는 -1\n",
    "    - 슬라이싱([from:to:by]) : 부분 데이터셋을 추출. \n",
    "    - 인덱스와 슬라이싱을 이용해서 쓰기와 읽기 지원"
   ]
  },
  {
   "cell_type": "code",
   "execution_count": 1,
   "id": "a42c5764",
   "metadata": {
    "ExecuteTime": {
     "end_time": "2024-11-06T03:19:27.364555Z",
     "start_time": "2024-11-06T03:19:27.356576Z"
    }
   },
   "outputs": [
    {
     "data": {
      "text/plain": [
       "list"
      ]
     },
     "execution_count": 1,
     "metadata": {},
     "output_type": "execute_result"
    }
   ],
   "source": [
    "fruits = ['banana', 'apple', 'orange', 'grape']\n",
    "type(fruits)"
   ]
  },
  {
   "cell_type": "code",
   "execution_count": 2,
   "id": "931cfbbc",
   "metadata": {
    "ExecuteTime": {
     "end_time": "2024-11-06T03:19:28.641672Z",
     "start_time": "2024-11-06T03:19:28.635688Z"
    }
   },
   "outputs": [
    {
     "name": "stdout",
     "output_type": "stream",
     "text": [
      "['banana', 'apple', 'orange', 'grape']\n"
     ]
    }
   ],
   "source": [
    "print(fruits)"
   ]
  },
  {
   "cell_type": "code",
   "execution_count": 3,
   "id": "387bf897",
   "metadata": {
    "ExecuteTime": {
     "end_time": "2024-11-06T03:19:28.991772Z",
     "start_time": "2024-11-06T03:19:28.987754Z"
    }
   },
   "outputs": [
    {
     "name": "stdout",
     "output_type": "stream",
     "text": [
      "banana\n"
     ]
    }
   ],
   "source": [
    "print(fruits[0])"
   ]
  },
  {
   "cell_type": "code",
   "execution_count": 4,
   "id": "99072db3",
   "metadata": {
    "ExecuteTime": {
     "end_time": "2024-11-06T03:19:29.367221Z",
     "start_time": "2024-11-06T03:19:29.363203Z"
    }
   },
   "outputs": [
    {
     "name": "stdout",
     "output_type": "stream",
     "text": [
      "['mango', 'apple', 'orange', 'grape']\n"
     ]
    }
   ],
   "source": [
    "fruits[0] = 'mango'\n",
    "print(fruits)"
   ]
  },
  {
   "cell_type": "code",
   "execution_count": 5,
   "id": "a1d03dd3",
   "metadata": {
    "ExecuteTime": {
     "end_time": "2024-11-06T03:19:29.737529Z",
     "start_time": "2024-11-06T03:19:29.731545Z"
    }
   },
   "outputs": [
    {
     "name": "stdout",
     "output_type": "stream",
     "text": [
      "x = mango\n",
      "y = apple\n",
      "z = orange\n"
     ]
    }
   ],
   "source": [
    "fruits = ['mango', 'apple', 'orange']\n",
    "x, y, z = ['mango', 'apple', 'orange']\n",
    "print(\"x = {}\".format(x))\n",
    "print(\"y = {}\".format(y))\n",
    "print(\"z = {}\".format(z))"
   ]
  },
  {
   "cell_type": "code",
   "execution_count": 6,
   "id": "1d233dbb",
   "metadata": {
    "ExecuteTime": {
     "end_time": "2024-11-06T03:19:30.097472Z",
     "start_time": "2024-11-06T03:19:30.092413Z"
    }
   },
   "outputs": [
    {
     "data": {
      "text/plain": [
       "range(0, 10)"
      ]
     },
     "execution_count": 6,
     "metadata": {},
     "output_type": "execute_result"
    }
   ],
   "source": [
    "# range(from, to, by) : from부터 to앞까지 by씩 증가하면서 지정된 범위의\n",
    "            # 숫자를 순차적으로 사용할 수 있게 \n",
    "            # from 생략시 0, by 생략시 1\n",
    "range(10)"
   ]
  },
  {
   "cell_type": "code",
   "execution_count": 7,
   "id": "d45dd8fe",
   "metadata": {
    "ExecuteTime": {
     "end_time": "2024-11-06T03:19:30.465500Z",
     "start_time": "2024-11-06T03:19:30.459488Z"
    }
   },
   "outputs": [
    {
     "data": {
      "text/plain": [
       "[0, 1, 2, 3, 4, 5, 6, 7, 8, 9]"
      ]
     },
     "execution_count": 7,
     "metadata": {},
     "output_type": "execute_result"
    }
   ],
   "source": [
    "list(range(10))"
   ]
  },
  {
   "cell_type": "code",
   "execution_count": 8,
   "id": "883a1be8",
   "metadata": {
    "ExecuteTime": {
     "end_time": "2024-11-06T03:19:30.841560Z",
     "start_time": "2024-11-06T03:19:30.835604Z"
    }
   },
   "outputs": [
    {
     "data": {
      "text/plain": [
       "[0, 2, 4, 6, 8]"
      ]
     },
     "execution_count": 8,
     "metadata": {},
     "output_type": "execute_result"
    }
   ],
   "source": [
    "list(range(0, 10, 2))"
   ]
  },
  {
   "cell_type": "code",
   "execution_count": 9,
   "id": "311b07f1",
   "metadata": {
    "ExecuteTime": {
     "end_time": "2024-11-06T03:19:31.217875Z",
     "start_time": "2024-11-06T03:19:31.211908Z"
    }
   },
   "outputs": [
    {
     "data": {
      "text/plain": [
       "[10, 8, 6, 4, 2, 0]"
      ]
     },
     "execution_count": 9,
     "metadata": {},
     "output_type": "execute_result"
    }
   ],
   "source": [
    "list(range(10,-1, -2))"
   ]
  },
  {
   "cell_type": "code",
   "execution_count": 10,
   "id": "ba4b1df8",
   "metadata": {
    "ExecuteTime": {
     "end_time": "2024-11-06T03:19:31.604877Z",
     "start_time": "2024-11-06T03:19:31.599806Z"
    }
   },
   "outputs": [
    {
     "name": "stdout",
     "output_type": "stream",
     "text": [
      "0\n",
      "1\n",
      "2\n"
     ]
    }
   ],
   "source": [
    "for i in [0,1,2]:\n",
    "    print(i)"
   ]
  },
  {
   "cell_type": "code",
   "execution_count": 11,
   "id": "98f7a356",
   "metadata": {
    "ExecuteTime": {
     "end_time": "2024-11-06T03:19:32.000198Z",
     "start_time": "2024-11-06T03:19:31.995726Z"
    }
   },
   "outputs": [
    {
     "name": "stdout",
     "output_type": "stream",
     "text": [
      "0\n",
      "1\n",
      "2\n"
     ]
    }
   ],
   "source": [
    "for i in range(3): # 0~2\n",
    "    print(i)"
   ]
  },
  {
   "cell_type": "code",
   "execution_count": 12,
   "id": "004e7ebe",
   "metadata": {
    "ExecuteTime": {
     "end_time": "2024-11-06T03:19:32.600425Z",
     "start_time": "2024-11-06T03:19:32.595428Z"
    }
   },
   "outputs": [
    {
     "name": "stdout",
     "output_type": "stream",
     "text": [
      "mango\n",
      "apple\n",
      "orange\n"
     ]
    }
   ],
   "source": [
    "for fruit in fruits:\n",
    "    print(fruit)"
   ]
  },
  {
   "cell_type": "code",
   "execution_count": 17,
   "id": "3f550bd6",
   "metadata": {
    "ExecuteTime": {
     "end_time": "2024-11-06T03:33:03.232242Z",
     "start_time": "2024-11-06T03:33:03.227283Z"
    }
   },
   "outputs": [
    {
     "name": "stdout",
     "output_type": "stream",
     "text": [
      "0번째 과일은 mango\n",
      "1번째 과일은 apple\n",
      "2번째 과일은 orange\n",
      "3번째 과일은 banana\n"
     ]
    }
   ],
   "source": [
    "fruits = ['mango', 'apple', 'orange', 'banana']\n",
    "for idx in range(len(fruits)):\n",
    "    print(\"{}번째 과일은 {}\".format(idx, fruits[idx]))"
   ]
  },
  {
   "cell_type": "code",
   "execution_count": 18,
   "id": "714b5e7e",
   "metadata": {
    "ExecuteTime": {
     "end_time": "2024-11-06T03:35:06.044945Z",
     "start_time": "2024-11-06T03:35:06.038962Z"
    }
   },
   "outputs": [
    {
     "data": {
      "text/plain": [
       "[(0, 'mango'), (1, 'apple'), (2, 'orange'), (3, 'banana')]"
      ]
     },
     "execution_count": 18,
     "metadata": {},
     "output_type": "execute_result"
    }
   ],
   "source": [
    "list(enumerate(fruits))"
   ]
  },
  {
   "cell_type": "code",
   "execution_count": 20,
   "id": "681f7120",
   "metadata": {
    "ExecuteTime": {
     "end_time": "2024-11-06T03:36:52.439345Z",
     "start_time": "2024-11-06T03:36:52.434359Z"
    }
   },
   "outputs": [
    {
     "name": "stdout",
     "output_type": "stream",
     "text": [
      "0번째 과일은 mango\n",
      "1번째 과일은 apple\n",
      "2번째 과일은 orange\n",
      "3번째 과일은 banana\n"
     ]
    }
   ],
   "source": [
    "for idx, value in enumerate(fruits) :\n",
    "    print(\"{}번째 과일은 {}\".format(idx, value))"
   ]
  },
  {
   "cell_type": "code",
   "execution_count": 21,
   "id": "6ce2f873",
   "metadata": {
    "ExecuteTime": {
     "end_time": "2024-11-06T03:40:47.513386Z",
     "start_time": "2024-11-06T03:40:47.507403Z"
    }
   },
   "outputs": [
    {
     "data": {
      "text/plain": [
       "[1, 2, 3, '4', True, [1, 2, 3]]"
      ]
     },
     "execution_count": 21,
     "metadata": {},
     "output_type": "execute_result"
    }
   ],
   "source": [
    "numbers = [1,2,3,'4', True, [1,2,3]]\n",
    "numbers"
   ]
  },
  {
   "cell_type": "code",
   "execution_count": 26,
   "id": "188f37e5",
   "metadata": {
    "ExecuteTime": {
     "end_time": "2024-11-06T03:48:17.296581Z",
     "start_time": "2024-11-06T03:48:17.289599Z"
    }
   },
   "outputs": [
    {
     "data": {
      "text/plain": [
       "(3, 5)"
      ]
     },
     "execution_count": 26,
     "metadata": {},
     "output_type": "execute_result"
    }
   ],
   "source": [
    "#2차원 리스트\n",
    "numbers_2d = [[1,2,3,4,5],\n",
    "              [11,12,13,14,15],\n",
    "              [101,102,103,94,95]]\n",
    "len(numbers_2d),len(numbers_2d[2])"
   ]
  },
  {
   "cell_type": "code",
   "execution_count": 27,
   "id": "dcbede16",
   "metadata": {
    "ExecuteTime": {
     "end_time": "2024-11-06T03:49:25.382917Z",
     "start_time": "2024-11-06T03:49:25.377903Z"
    }
   },
   "outputs": [
    {
     "data": {
      "text/plain": [
       "12"
      ]
     },
     "execution_count": 27,
     "metadata": {},
     "output_type": "execute_result"
    }
   ],
   "source": [
    "numbers_2d[1][1]"
   ]
  },
  {
   "cell_type": "code",
   "execution_count": 31,
   "id": "02ead68a",
   "metadata": {
    "ExecuteTime": {
     "end_time": "2024-11-06T03:54:14.046291Z",
     "start_time": "2024-11-06T03:54:14.041333Z"
    }
   },
   "outputs": [
    {
     "name": "stdout",
     "output_type": "stream",
     "text": [
      "0행0열 : 1\t0행1열 : 2\t0행2열 : 3\t0행3열 : 4\t0행4열 : 5\t\n",
      "1행0열 : 11\t1행1열 : 12\t1행2열 : 13\t1행3열 : 14\t1행4열 : 15\t\n",
      "2행0열 : 101\t2행1열 : 102\t2행2열 : 103\t2행3열 : 94\t2행4열 : 95\t\n"
     ]
    }
   ],
   "source": [
    "for i in range(len(numbers_2d)):\n",
    "    for j in range(len(numbers_2d[1])):\n",
    "        print(\"{}행{}열 : {}\".format(i,j,numbers_2d[i][j]), end=\"\\t\")\n",
    "    print()"
   ]
  },
  {
   "cell_type": "markdown",
   "id": "6f4f3390",
   "metadata": {},
   "source": [
    "## 1.2 기본 정보 조회"
   ]
  },
  {
   "cell_type": "code",
   "execution_count": 33,
   "id": "c1772d84",
   "metadata": {
    "ExecuteTime": {
     "end_time": "2024-11-06T03:58:57.166031Z",
     "start_time": "2024-11-06T03:58:57.161044Z"
    }
   },
   "outputs": [],
   "source": [
    "numbers = [1,12,3,4,5]\n",
    "numbers_2d = [[100,0,1,2,3],\n",
    "              [9,100,110,102,130]]"
   ]
  },
  {
   "cell_type": "code",
   "execution_count": 42,
   "id": "cd3e6a92",
   "metadata": {
    "ExecuteTime": {
     "end_time": "2024-11-06T04:03:01.456970Z",
     "start_time": "2024-11-06T04:03:01.451958Z"
    }
   },
   "outputs": [
    {
     "data": {
      "text/plain": [
       "(5, 2)"
      ]
     },
     "execution_count": 42,
     "metadata": {},
     "output_type": "execute_result"
    }
   ],
   "source": [
    "#요소의 수\n",
    "len(numbers), len(numbers_2d)"
   ]
  },
  {
   "cell_type": "code",
   "execution_count": 41,
   "id": "f8a4ef65",
   "metadata": {
    "ExecuteTime": {
     "end_time": "2024-11-06T04:02:59.774069Z",
     "start_time": "2024-11-06T04:02:59.768082Z"
    }
   },
   "outputs": [
    {
     "data": {
      "text/plain": [
       "(1, 12)"
      ]
     },
     "execution_count": 41,
     "metadata": {},
     "output_type": "execute_result"
    }
   ],
   "source": [
    "#최소값, 최대값\n",
    "min(numbers),max(numbers)"
   ]
  },
  {
   "cell_type": "code",
   "execution_count": 40,
   "id": "939b24f3",
   "metadata": {
    "ExecuteTime": {
     "end_time": "2024-11-06T04:02:46.782531Z",
     "start_time": "2024-11-06T04:02:46.776546Z"
    }
   },
   "outputs": [
    {
     "data": {
      "text/plain": [
       "([9, 100, 110, 102, 130], [100, 0, 1, 2, 3])"
      ]
     },
     "execution_count": 40,
     "metadata": {},
     "output_type": "execute_result"
    }
   ],
   "source": [
    "# 2차원 list의 min() : 부분 list중에서 첫 요소가 가장 작은값\n",
    "#              max() : 부분 list중에서 첫 요소가 가장 큰값\n",
    "min(numbers_2d),max(numbers_2d)"
   ]
  },
  {
   "cell_type": "code",
   "execution_count": 43,
   "id": "d456da25",
   "metadata": {
    "ExecuteTime": {
     "end_time": "2024-11-06T04:04:25.174571Z",
     "start_time": "2024-11-06T04:04:25.168588Z"
    }
   },
   "outputs": [
    {
     "data": {
      "text/plain": [
       "('banana', 'orange')"
      ]
     },
     "execution_count": 43,
     "metadata": {},
     "output_type": "execute_result"
    }
   ],
   "source": [
    "# list의 데이터가 문자일 경우 ascii 코드값으로 min(), max()적용\n",
    "fruits = ['mango', 'banana', 'orange']\n",
    "min(fruits),max(fruits)"
   ]
  },
  {
   "cell_type": "code",
   "execution_count": 48,
   "id": "4cca2bf9",
   "metadata": {
    "ExecuteTime": {
     "end_time": "2024-11-06T04:08:20.229572Z",
     "start_time": "2024-11-06T04:08:20.224572Z"
    }
   },
   "outputs": [
    {
     "name": "stdout",
     "output_type": "stream",
     "text": [
      "오름차순정렬 : [1, 3, 4, 5, 8, 12, 56]\n",
      "내림차순정렬 : [56, 12, 8, 5, 4, 3, 1]\n",
      "합 : 89\n",
      "sorted 함수 사용시 리스트 내용이 바뀌지 않음 : [1, 12, 3, 56, 4, 8, 5]\n"
     ]
    }
   ],
   "source": [
    "# 정렬하기\n",
    "numbers = [1,12,3,56,4,8,5]\n",
    "print('오름차순정렬 :', sorted(numbers))\n",
    "print('내림차순정렬 :', sorted(numbers,reverse=True))\n",
    "print('합 :', sum(numbers))\n",
    "print('sorted 함수 사용시 리스트 내용이 바뀌지 않음 :',numbers)"
   ]
  },
  {
   "cell_type": "markdown",
   "id": "e44b95fc",
   "metadata": {},
   "source": [
    "## 1.3 요소 추가"
   ]
  },
  {
   "cell_type": "code",
   "execution_count": null,
   "id": "e8684661",
   "metadata": {},
   "outputs": [],
   "source": [
    "'''\n",
    "+ : 두 리스트 연결\n",
    "* : 리스트를 곱한 수 만큼 반복\n",
    "append() : 요소 맨 뒤에 추가\n",
    "extend() : 리스트를 요소별로 맨 뒤에 추가\n",
    "insert(idx, 값) : idx번째 인덱스 위치에 값 추가\n",
    "'''"
   ]
  },
  {
   "cell_type": "code",
   "execution_count": 50,
   "id": "3744aa69",
   "metadata": {
    "ExecuteTime": {
     "end_time": "2024-11-06T05:16:23.030013Z",
     "start_time": "2024-11-06T05:16:23.024029Z"
    }
   },
   "outputs": [
    {
     "data": {
      "text/plain": [
       "[1, 2, 3, 1, 2, 3]"
      ]
     },
     "execution_count": 50,
     "metadata": {},
     "output_type": "execute_result"
    }
   ],
   "source": [
    "numbers = [1,2,3]\n",
    "numbers = numbers +numbers\n",
    "numbers"
   ]
  },
  {
   "cell_type": "code",
   "execution_count": 51,
   "id": "77a0ace7",
   "metadata": {
    "ExecuteTime": {
     "end_time": "2024-11-06T05:16:50.379728Z",
     "start_time": "2024-11-06T05:16:50.374741Z"
    }
   },
   "outputs": [
    {
     "name": "stdout",
     "output_type": "stream",
     "text": [
      "[1, 2, 3, 1, 2, 3, 1, 2, 3]\n",
      "[1, 2, 3, 1, 2, 3, 1, 2, 3]\n"
     ]
    }
   ],
   "source": [
    "numbers = [1,2,3]\n",
    "print(3 * numbers)\n",
    "print(numbers * 3)"
   ]
  },
  {
   "cell_type": "code",
   "execution_count": 52,
   "id": "76bc6ae8",
   "metadata": {
    "ExecuteTime": {
     "end_time": "2024-11-06T05:17:46.272299Z",
     "start_time": "2024-11-06T05:17:46.267280Z"
    }
   },
   "outputs": [
    {
     "data": {
      "text/plain": [
       "[1, 2, 3, 4]"
      ]
     },
     "execution_count": 52,
     "metadata": {},
     "output_type": "execute_result"
    }
   ],
   "source": [
    "numbers.append(4)\n",
    "numbers"
   ]
  },
  {
   "cell_type": "code",
   "execution_count": 53,
   "id": "507c99c6",
   "metadata": {
    "ExecuteTime": {
     "end_time": "2024-11-06T05:18:08.232562Z",
     "start_time": "2024-11-06T05:18:08.226606Z"
    }
   },
   "outputs": [
    {
     "data": {
      "text/plain": [
       "[1, 2, 3, 4, [5, 6, 7]]"
      ]
     },
     "execution_count": 53,
     "metadata": {},
     "output_type": "execute_result"
    }
   ],
   "source": [
    "numbers.append([5,6,7]) # 맨 뒤에 요소 추가\n",
    "numbers"
   ]
  },
  {
   "cell_type": "code",
   "execution_count": 55,
   "id": "e8a6fbb7",
   "metadata": {
    "ExecuteTime": {
     "end_time": "2024-11-06T05:21:14.716560Z",
     "start_time": "2024-11-06T05:21:14.710605Z"
    }
   },
   "outputs": [
    {
     "data": {
      "text/plain": [
       "[1, 2, 3, 4, 5, 6]"
      ]
     },
     "execution_count": 55,
     "metadata": {},
     "output_type": "execute_result"
    }
   ],
   "source": [
    "num = [1,2,3]\n",
    "num.extend([4,5,6]) # 요소별로 맨 뒤에 각기 추가\n",
    "num"
   ]
  },
  {
   "cell_type": "code",
   "execution_count": 60,
   "id": "b89e8994",
   "metadata": {
    "ExecuteTime": {
     "end_time": "2024-11-06T05:26:04.570982Z",
     "start_time": "2024-11-06T05:26:04.565995Z"
    }
   },
   "outputs": [
    {
     "data": {
      "text/plain": [
       "['a', 'b', 'c', 'd']"
      ]
     },
     "execution_count": 60,
     "metadata": {},
     "output_type": "execute_result"
    }
   ],
   "source": [
    "lst = ['a','b','c']\n",
    "lst.append('d')\n",
    "lst"
   ]
  },
  {
   "cell_type": "code",
   "execution_count": 61,
   "id": "bf911601",
   "metadata": {
    "ExecuteTime": {
     "end_time": "2024-11-06T05:26:05.923214Z",
     "start_time": "2024-11-06T05:26:05.917206Z"
    }
   },
   "outputs": [
    {
     "data": {
      "text/plain": [
       "['a', 'b', 'c', 'd', 'hello']"
      ]
     },
     "execution_count": 61,
     "metadata": {},
     "output_type": "execute_result"
    }
   ],
   "source": [
    "lst.append('hello')\n",
    "lst"
   ]
  },
  {
   "cell_type": "code",
   "execution_count": 62,
   "id": "6a714daf",
   "metadata": {
    "ExecuteTime": {
     "end_time": "2024-11-06T05:26:06.475328Z",
     "start_time": "2024-11-06T05:26:06.469374Z"
    }
   },
   "outputs": [
    {
     "data": {
      "text/plain": [
       "['a', 'b', 'c', 'd', 'hello', 'h', 'e', 'l', 'l', 'o']"
      ]
     },
     "execution_count": 62,
     "metadata": {},
     "output_type": "execute_result"
    }
   ],
   "source": [
    "lst.extend('hello')\n",
    "lst"
   ]
  },
  {
   "cell_type": "code",
   "execution_count": 63,
   "id": "4392feaa",
   "metadata": {
    "ExecuteTime": {
     "end_time": "2024-11-06T05:26:34.363433Z",
     "start_time": "2024-11-06T05:26:34.357458Z"
    }
   },
   "outputs": [
    {
     "data": {
      "text/plain": [
       "[1, 'xx', 2, 3, 4, 5]"
      ]
     },
     "execution_count": 63,
     "metadata": {},
     "output_type": "execute_result"
    }
   ],
   "source": [
    "numbers = [1,2,3,4,5]\n",
    "numbers.insert(1, 'xx')\n",
    "numbers"
   ]
  },
  {
   "cell_type": "markdown",
   "id": "1588947b",
   "metadata": {},
   "source": [
    "## 1.4 인덱싱과 요소 갯수\n",
    " - 변수[index] : 인덱스를 이용한 접근\n",
    " - index(찾을데이터) : 해당 찾을 데이터가 있는 요소의 index를 반환\n",
    " - count(찾을데이터) : 리스트에서 대이터의 갯수를 반환"
   ]
  },
  {
   "cell_type": "code",
   "execution_count": 64,
   "id": "2baeaa6a",
   "metadata": {
    "ExecuteTime": {
     "end_time": "2024-11-06T05:33:48.558287Z",
     "start_time": "2024-11-06T05:33:48.554299Z"
    }
   },
   "outputs": [],
   "source": [
    "numbers =[1,2,3,[1,2,3],1,2,3]"
   ]
  },
  {
   "cell_type": "code",
   "execution_count": 65,
   "id": "3dbffca9",
   "metadata": {
    "ExecuteTime": {
     "end_time": "2024-11-06T05:34:05.883121Z",
     "start_time": "2024-11-06T05:34:05.877137Z"
    }
   },
   "outputs": [
    {
     "data": {
      "text/plain": [
       "2"
      ]
     },
     "execution_count": 65,
     "metadata": {},
     "output_type": "execute_result"
    }
   ],
   "source": [
    "numbers.count(2)"
   ]
  },
  {
   "cell_type": "code",
   "execution_count": 67,
   "id": "1cb17259",
   "metadata": {
    "ExecuteTime": {
     "end_time": "2024-11-06T05:37:08.758417Z",
     "start_time": "2024-11-06T05:37:08.753457Z"
    }
   },
   "outputs": [
    {
     "data": {
      "text/plain": [
       "False"
      ]
     },
     "execution_count": 67,
     "metadata": {},
     "output_type": "execute_result"
    }
   ],
   "source": [
    "9 in numbers"
   ]
  },
  {
   "cell_type": "code",
   "execution_count": 68,
   "id": "e5e11a91",
   "metadata": {
    "ExecuteTime": {
     "end_time": "2024-11-06T05:37:28.682510Z",
     "start_time": "2024-11-06T05:37:28.676497Z"
    }
   },
   "outputs": [
    {
     "data": {
      "text/plain": [
       "1"
      ]
     },
     "execution_count": 68,
     "metadata": {},
     "output_type": "execute_result"
    }
   ],
   "source": [
    "numbers =[1,2,3,[1,2,3],1,2,3]\n",
    "numbers.index(2) # 처음(0인덱스)부터 2가 나오는 위치"
   ]
  },
  {
   "cell_type": "code",
   "execution_count": 69,
   "id": "10ec6231",
   "metadata": {
    "ExecuteTime": {
     "end_time": "2024-11-06T05:38:34.556206Z",
     "start_time": "2024-11-06T05:38:34.551219Z"
    }
   },
   "outputs": [
    {
     "data": {
      "text/plain": [
       "5"
      ]
     },
     "execution_count": 69,
     "metadata": {},
     "output_type": "execute_result"
    }
   ],
   "source": [
    "numbers.index(2, 2) # 2번 인덱스부터 2가 처음나오는 위치"
   ]
  },
  {
   "cell_type": "code",
   "execution_count": 70,
   "id": "035185cf",
   "metadata": {
    "ExecuteTime": {
     "end_time": "2024-11-06T05:40:10.840317Z",
     "start_time": "2024-11-06T05:40:10.837314Z"
    }
   },
   "outputs": [
    {
     "name": "stdout",
     "output_type": "stream",
     "text": [
      "0\n",
      "False\n"
     ]
    }
   ],
   "source": [
    "# 9가 numbers 리스트의 요소에 있는지 여부를 검사\n",
    "print(numbers.count(9))\n",
    "print(9 in numbers)"
   ]
  },
  {
   "cell_type": "code",
   "execution_count": 72,
   "id": "5468fcb4",
   "metadata": {
    "ExecuteTime": {
     "end_time": "2024-11-06T05:42:42.924533Z",
     "start_time": "2024-11-06T05:42:42.919518Z"
    }
   },
   "outputs": [
    {
     "name": "stdout",
     "output_type": "stream",
     "text": [
      "9없음\n"
     ]
    }
   ],
   "source": [
    "if 9 in numbers :\n",
    "    numbers.index(9)\n",
    "else :\n",
    "    print('9없음')"
   ]
  },
  {
   "cell_type": "code",
   "execution_count": 76,
   "id": "87312a1f",
   "metadata": {
    "ExecuteTime": {
     "end_time": "2024-11-06T05:47:33.068851Z",
     "start_time": "2024-11-06T05:47:33.063864Z"
    }
   },
   "outputs": [],
   "source": [
    "def safe_index(lst, item):\n",
    "    if item in lst:\n",
    "        return lst.index(item)\n",
    "    else:\n",
    "        return -1"
   ]
  },
  {
   "cell_type": "code",
   "execution_count": 79,
   "id": "d2faf774",
   "metadata": {
    "ExecuteTime": {
     "end_time": "2024-11-06T05:49:30.372783Z",
     "start_time": "2024-11-06T05:49:30.368786Z"
    }
   },
   "outputs": [],
   "source": [
    "def safe_index(lst, item):\n",
    "    return lst.index(item) if item in lst else -1"
   ]
  },
  {
   "cell_type": "code",
   "execution_count": 81,
   "id": "c5fd4772",
   "metadata": {
    "ExecuteTime": {
     "end_time": "2024-11-06T05:49:39.117967Z",
     "start_time": "2024-11-06T05:49:39.112021Z"
    }
   },
   "outputs": [
    {
     "data": {
      "text/plain": [
       "2"
      ]
     },
     "execution_count": 81,
     "metadata": {},
     "output_type": "execute_result"
    }
   ],
   "source": [
    "safe_index(numbers, 3)"
   ]
  },
  {
   "cell_type": "markdown",
   "id": "779dadc3",
   "metadata": {},
   "source": [
    "## 1.5 원하는 요소 추출\n",
    "1. 리스트 슬라이싱 : list에서 원하는 index의 데이터를 추출\n",
    "\n",
    "- 인덱스의 범위를 벗어난 값도 에러나지 않음\n",
    "- [from:stop:step] from부터 stop앞까지 step씩 증가하는 인덱스를 추출\n",
    "        from 생략시 처음, stop 생략시 끝, step생략시 1 모두 생략 가능\n",
    "- 인덱스는 음수 가능\n",
    "2. <b>리스트 컴프리헨션</b> : list에서 원하는 데이터 엑세스"
   ]
  },
  {
   "cell_type": "code",
   "execution_count": 84,
   "id": "75f5d260",
   "metadata": {
    "ExecuteTime": {
     "end_time": "2024-11-06T05:58:26.320140Z",
     "start_time": "2024-11-06T05:58:26.315154Z"
    }
   },
   "outputs": [
    {
     "name": "stdout",
     "output_type": "stream",
     "text": [
      "[20, 19, 18, 13, 12, 10, 9, 5, 3, 1]\n",
      "[1, 5, 10, 13, 19]\n",
      "[1, 3, 5, 9, 10, 12, 13, 18, 19, 20]\n"
     ]
    }
   ],
   "source": [
    "numbers = [1,3,5,9,10,12,13,18,19,20]\n",
    "#거꾸로 출력\n",
    "print(numbers[::-1])\n",
    "print(numbers[0:10:2])\n",
    "print(numbers[0:100])"
   ]
  },
  {
   "cell_type": "code",
   "execution_count": 89,
   "id": "7d283e3c",
   "metadata": {
    "ExecuteTime": {
     "end_time": "2024-11-06T06:17:23.632152Z",
     "start_time": "2024-11-06T06:17:23.626166Z"
    }
   },
   "outputs": [
    {
     "data": {
      "text/plain": [
       "[1, 3, 5, 9, 10, 12, 13, 18, 19, 20]"
      ]
     },
     "execution_count": 89,
     "metadata": {},
     "output_type": "execute_result"
    }
   ],
   "source": [
    "#리스트 컴프리헨션을 이용해서 list의 원하는 데이터 엑세스\n",
    "#모든데이터 추출\n",
    "numbers = [1,3,5,9,10,12,13,18,19,20]\n",
    "# for data in numbers :\n",
    "#        print(data, end='\\t')\n",
    "[data for data in numbers]"
   ]
  },
  {
   "cell_type": "code",
   "execution_count": 90,
   "id": "1eb88259",
   "metadata": {
    "ExecuteTime": {
     "end_time": "2024-11-06T06:17:48.643062Z",
     "start_time": "2024-11-06T06:17:48.638047Z"
    }
   },
   "outputs": [
    {
     "data": {
      "text/plain": [
       "[10, 12, 18, 20]"
      ]
     },
     "execution_count": 90,
     "metadata": {},
     "output_type": "execute_result"
    }
   ],
   "source": [
    "#짝수데이터 추출\n",
    "numbers = [1,3,5,9,10,12,13,18,19,20]\n",
    "# for data in numbers :\n",
    "#     if data%2==0 :\n",
    "#         print(data, end='\\t')\n",
    "[data for data in numbers if data%2 == 0]"
   ]
  },
  {
   "cell_type": "code",
   "execution_count": 91,
   "id": "9aa5a0b2",
   "metadata": {
    "ExecuteTime": {
     "end_time": "2024-11-06T06:20:14.792978Z",
     "start_time": "2024-11-06T06:20:14.786026Z"
    }
   },
   "outputs": [
    {
     "data": {
      "text/plain": [
       "[10, 12, 13, 18, 19, 20]"
      ]
     },
     "execution_count": 91,
     "metadata": {},
     "output_type": "execute_result"
    }
   ],
   "source": [
    "# ex1. numbers 에서 10이상의 요소만 추출\n",
    "numbers = [1,3,5,9,10,12,13,18,19,20]\n",
    "[data for data in numbers if data>=10]"
   ]
  },
  {
   "cell_type": "code",
   "execution_count": 92,
   "id": "8f0c1cae",
   "metadata": {
    "ExecuteTime": {
     "end_time": "2024-11-06T06:22:26.088630Z",
     "start_time": "2024-11-06T06:22:26.082647Z"
    }
   },
   "outputs": [
    {
     "data": {
      "text/plain": [
       "['orange', 'apple', 'mango']"
      ]
     },
     "execution_count": 92,
     "metadata": {},
     "output_type": "execute_result"
    }
   ],
   "source": [
    "# ex2. fruits 에서 과일의 글자가 5글자 이상인 과일만 추출\n",
    "fruits = ['orange','apple','mango','kiwi']\n",
    "[data for data in fruits if len(data)>=5]"
   ]
  },
  {
   "cell_type": "code",
   "execution_count": 99,
   "id": "963172d8",
   "metadata": {
    "ExecuteTime": {
     "end_time": "2024-11-06T06:31:47.907263Z",
     "start_time": "2024-11-06T06:31:47.902277Z"
    }
   },
   "outputs": [
    {
     "data": {
      "text/plain": [
       "[6, 5, 5, 4]"
      ]
     },
     "execution_count": 99,
     "metadata": {},
     "output_type": "execute_result"
    }
   ],
   "source": [
    "# ex2-1. fruits 에서 과일의 글자수\n",
    "fruits = ['orange','apple','mango','kiwi']\n",
    "[len(data) for data in fruits]"
   ]
  },
  {
   "cell_type": "code",
   "execution_count": 98,
   "id": "3f84d6b5",
   "metadata": {
    "ExecuteTime": {
     "end_time": "2024-11-06T06:24:18.042978Z",
     "start_time": "2024-11-06T06:24:18.038003Z"
    }
   },
   "outputs": [
    {
     "data": {
      "text/plain": [
       "[1, 4, 9, 16, 25]"
      ]
     },
     "execution_count": 98,
     "metadata": {},
     "output_type": "execute_result"
    }
   ],
   "source": [
    "# ex3. 리스트의 값의 제곱을 추출\n",
    "L = [1,2,3,4,5]\n",
    "[data**2 for data in L]"
   ]
  },
  {
   "cell_type": "code",
   "execution_count": 100,
   "id": "3941fcd6",
   "metadata": {
    "ExecuteTime": {
     "end_time": "2024-11-06T06:34:20.759270Z",
     "start_time": "2024-11-06T06:34:20.753313Z"
    }
   },
   "outputs": [
    {
     "data": {
      "text/plain": [
       "[9, 16, 25]"
      ]
     },
     "execution_count": 100,
     "metadata": {},
     "output_type": "execute_result"
    }
   ],
   "source": [
    "# ex3-1. 리스트의 3이상의 요소들의 제곱을 추출\n",
    "L = [1,2,3,4,5]\n",
    "[data**2 for data in L if data>=3]"
   ]
  },
  {
   "cell_type": "code",
   "execution_count": 97,
   "id": "adba7b7b",
   "metadata": {
    "ExecuteTime": {
     "end_time": "2024-11-06T06:23:40.099586Z",
     "start_time": "2024-11-06T06:23:40.093575Z"
    }
   },
   "outputs": [
    {
     "data": {
      "text/plain": [
       "[2, 4, 6, 8, 10]"
      ]
     },
     "execution_count": 97,
     "metadata": {},
     "output_type": "execute_result"
    }
   ],
   "source": [
    "# ex4. 리스트의 값의 두배로 추출\n",
    "L = [1,2,3,4,5]\n",
    "[data*2 for data in L]"
   ]
  },
  {
   "cell_type": "markdown",
   "id": "879aa181",
   "metadata": {},
   "source": [
    "## 1.6 요소 수정하기"
   ]
  },
  {
   "cell_type": "code",
   "execution_count": 104,
   "id": "c8e74b99",
   "metadata": {
    "ExecuteTime": {
     "end_time": "2024-11-06T06:38:16.650286Z",
     "start_time": "2024-11-06T06:38:16.644302Z"
    }
   },
   "outputs": [
    {
     "data": {
      "text/plain": [
       "[0, 1, 222, 3, 4, 5, 6, 7, 8, 9]"
      ]
     },
     "execution_count": 104,
     "metadata": {},
     "output_type": "execute_result"
    }
   ],
   "source": [
    "numbers = [0,1,2,3,4,5,6,7,8,9]\n",
    "numbers[2] = 222\n",
    "numbers"
   ]
  },
  {
   "cell_type": "code",
   "execution_count": 105,
   "id": "c37ed2af",
   "metadata": {
    "ExecuteTime": {
     "end_time": "2024-11-06T06:38:18.434911Z",
     "start_time": "2024-11-06T06:38:18.428927Z"
    }
   },
   "outputs": [
    {
     "data": {
      "text/plain": [
       "['xx',\n",
       " 'xx',\n",
       " 'xx',\n",
       " 'xx',\n",
       " 'xx',\n",
       " 'xx',\n",
       " 'xx',\n",
       " 'xx',\n",
       " 'xx',\n",
       " 'xx',\n",
       " 222,\n",
       " 3,\n",
       " 4,\n",
       " 5,\n",
       " 6,\n",
       " 7,\n",
       " 8,\n",
       " 9]"
      ]
     },
     "execution_count": 105,
     "metadata": {},
     "output_type": "execute_result"
    }
   ],
   "source": [
    "#슬라이싱(step부분 미포함)을 이용하여 부분리스트를 통째로 수정\n",
    "numbers[0:2] = ['xx','xx','xx','xx','xx','xx','xx','xx','xx','xx']\n",
    "numbers"
   ]
  },
  {
   "cell_type": "code",
   "execution_count": 109,
   "id": "71cec71f",
   "metadata": {
    "ExecuteTime": {
     "end_time": "2024-11-06T06:41:39.329626Z",
     "start_time": "2024-11-06T06:41:39.324639Z"
    }
   },
   "outputs": [
    {
     "name": "stdout",
     "output_type": "stream",
     "text": [
      "수정전 : [0, 0, 0, 0, 0, 0, 0, 0, 0, 0]\n",
      "수정후 : [9, 0, 9, 0, 9, 0, 9, 0, 9, 0]\n"
     ]
    }
   ],
   "source": [
    "# 슬라이싱(step 부분 포함)을 이용하여 부분 수정\n",
    "numbers = [0]*10\n",
    "print('수정전 :',numbers)\n",
    "numbers[::2] = [9,9,9,9,9] #갯수 맞아야함\n",
    "print('수정후 :',numbers)"
   ]
  },
  {
   "cell_type": "code",
   "execution_count": 111,
   "id": "78085d0a",
   "metadata": {
    "ExecuteTime": {
     "end_time": "2024-11-06T06:43:43.045559Z",
     "start_time": "2024-11-06T06:43:43.028598Z"
    }
   },
   "outputs": [
    {
     "ename": "ValueError",
     "evalue": "attempt to assign sequence of size 6 to extended slice of size 5",
     "output_type": "error",
     "traceback": [
      "\u001b[1;31m---------------------------------------------------------------------------\u001b[0m",
      "\u001b[1;31mValueError\u001b[0m                                Traceback (most recent call last)",
      "Cell \u001b[1;32mIn[111], line 2\u001b[0m\n\u001b[0;32m      1\u001b[0m \u001b[38;5;66;03m# 수정하려는 요소의 갯수가 맞지 않으면 에러\u001b[39;00m\n\u001b[1;32m----> 2\u001b[0m numbers[::\u001b[38;5;241m2\u001b[39m] \u001b[38;5;241m=\u001b[39m [\u001b[38;5;241m1\u001b[39m,\u001b[38;5;241m2\u001b[39m,\u001b[38;5;241m3\u001b[39m,\u001b[38;5;241m4\u001b[39m,\u001b[38;5;241m5\u001b[39m,\u001b[38;5;241m6\u001b[39m]\n",
      "\u001b[1;31mValueError\u001b[0m: attempt to assign sequence of size 6 to extended slice of size 5"
     ]
    }
   ],
   "source": [
    "# 수정하려는 요소의 갯수가 맞지 않으면 에러\n",
    "numbers[::2] = [1,2,3,4,5,6]"
   ]
  },
  {
   "cell_type": "markdown",
   "id": "87583625",
   "metadata": {},
   "source": [
    "## 1.7 요소 삭제\n",
    "- pop() : 가장 마지막 index의 요소가 반환되고 삭제\n",
    "- pop(idx) : idx번째 요소가 반환되고 삭제\n",
    "- remove(data) : list안에 data가 삭제\n",
    "- del 리스트변수[idx] : idx번째 요소가 삭제"
   ]
  },
  {
   "cell_type": "code",
   "execution_count": 115,
   "id": "f2934230",
   "metadata": {
    "ExecuteTime": {
     "end_time": "2024-11-06T06:49:00.230045Z",
     "start_time": "2024-11-06T06:49:00.224062Z"
    }
   },
   "outputs": [
    {
     "name": "stdout",
     "output_type": "stream",
     "text": [
      "삭제한 데이터 : 5\n",
      "삭제한 후 numbers : [1, 2, 3, 4]\n",
      "삭제한 데이터 : 4\n",
      "삭제한 후 numbers : [1, 2, 3]\n",
      "삭제한 데이터 : 1\n",
      "삭제한 후 numbers : [2, 3]\n"
     ]
    }
   ],
   "source": [
    "numbers = [1,2,3,4,5]\n",
    "print('삭제한 데이터 :',numbers.pop())\n",
    "print('삭제한 후 numbers :', numbers)\n",
    "print('삭제한 데이터 :',numbers.pop())\n",
    "print('삭제한 후 numbers :', numbers)\n",
    "print('삭제한 데이터 :',numbers.pop(0))\n",
    "print('삭제한 후 numbers :', numbers)"
   ]
  },
  {
   "cell_type": "code",
   "execution_count": 117,
   "id": "8a9f358b",
   "metadata": {
    "ExecuteTime": {
     "end_time": "2024-11-06T06:51:00.820133Z",
     "start_time": "2024-11-06T06:51:00.816116Z"
    }
   },
   "outputs": [
    {
     "name": "stdout",
     "output_type": "stream",
     "text": [
      "None\n",
      "[0, 1, 2, 4, 5]\n"
     ]
    }
   ],
   "source": [
    "numbers = [0,1,2,3,4,5]\n",
    "print(numbers.remove(3)) # remove()는 반환값이 없고, 해당 데이터 삭제만\n",
    "print(numbers)"
   ]
  },
  {
   "cell_type": "code",
   "execution_count": 119,
   "id": "9db78967",
   "metadata": {
    "ExecuteTime": {
     "end_time": "2024-11-06T06:51:29.678914Z",
     "start_time": "2024-11-06T06:51:29.662930Z"
    }
   },
   "outputs": [
    {
     "ename": "ValueError",
     "evalue": "list.remove(x): x not in list",
     "output_type": "error",
     "traceback": [
      "\u001b[1;31m---------------------------------------------------------------------------\u001b[0m",
      "\u001b[1;31mValueError\u001b[0m                                Traceback (most recent call last)",
      "Cell \u001b[1;32mIn[119], line 1\u001b[0m\n\u001b[1;32m----> 1\u001b[0m \u001b[38;5;28mprint\u001b[39m(\u001b[43mnumbers\u001b[49m\u001b[38;5;241;43m.\u001b[39;49m\u001b[43mremove\u001b[49m\u001b[43m(\u001b[49m\u001b[38;5;241;43m9\u001b[39;49m\u001b[43m)\u001b[49m)\n\u001b[0;32m      2\u001b[0m \u001b[38;5;28mprint\u001b[39m(numbers)\n",
      "\u001b[1;31mValueError\u001b[0m: list.remove(x): x not in list"
     ]
    }
   ],
   "source": [
    "print(numbers.remove(9))\n",
    "print(numbers)"
   ]
  },
  {
   "cell_type": "code",
   "execution_count": 120,
   "id": "1d189c1a",
   "metadata": {
    "ExecuteTime": {
     "end_time": "2024-11-06T06:52:13.901664Z",
     "start_time": "2024-11-06T06:52:13.896677Z"
    }
   },
   "outputs": [
    {
     "name": "stdout",
     "output_type": "stream",
     "text": [
      "해당 데이터는 없는 데이터입니다\n"
     ]
    }
   ],
   "source": [
    "if 9 in numbers :\n",
    "    numbers.remove(9)\n",
    "else :\n",
    "    print('해당 데이터는 없는 데이터입니다')"
   ]
  },
  {
   "cell_type": "code",
   "execution_count": 121,
   "id": "b9ecf708",
   "metadata": {
    "ExecuteTime": {
     "end_time": "2024-11-06T06:53:50.595426Z",
     "start_time": "2024-11-06T06:53:50.591444Z"
    }
   },
   "outputs": [],
   "source": [
    "def safe_remove(lst, remove_item) :\n",
    "    if remove_item in lst :\n",
    "        lst.remove(remove_item)\n",
    "    else :\n",
    "        print('해당 데이터는 없는 데이터입니다')"
   ]
  },
  {
   "cell_type": "code",
   "execution_count": 122,
   "id": "c1643316",
   "metadata": {
    "ExecuteTime": {
     "end_time": "2024-11-06T06:54:16.619257Z",
     "start_time": "2024-11-06T06:54:16.615283Z"
    }
   },
   "outputs": [
    {
     "name": "stdout",
     "output_type": "stream",
     "text": [
      "해당 데이터는 없는 데이터입니다\n"
     ]
    }
   ],
   "source": [
    "safe_remove(numbers, 9)"
   ]
  },
  {
   "cell_type": "code",
   "execution_count": 126,
   "id": "7290bbb2",
   "metadata": {
    "ExecuteTime": {
     "end_time": "2024-11-06T06:55:39.424431Z",
     "start_time": "2024-11-06T06:55:39.419445Z"
    }
   },
   "outputs": [
    {
     "name": "stdout",
     "output_type": "stream",
     "text": [
      "삭제후 데이터 : [0, 1, 3, 4, 5]\n"
     ]
    }
   ],
   "source": [
    "numbers = [0,1,2,3,4,5]\n",
    "del numbers[2] # 2번째 index 요소 삭제\n",
    "print('삭제후 데이터 :',numbers)"
   ]
  },
  {
   "cell_type": "code",
   "execution_count": 132,
   "id": "7210e7d5",
   "metadata": {
    "ExecuteTime": {
     "end_time": "2024-11-06T06:58:26.784027Z",
     "start_time": "2024-11-06T06:58:26.780009Z"
    }
   },
   "outputs": [],
   "source": [
    "del numbers_ #변수삭제"
   ]
  },
  {
   "cell_type": "markdown",
   "id": "176650b4",
   "metadata": {},
   "source": [
    "## 1.8 정렬하기"
   ]
  },
  {
   "cell_type": "code",
   "execution_count": 140,
   "id": "eb7022dc",
   "metadata": {
    "ExecuteTime": {
     "end_time": "2024-11-06T07:00:59.727726Z",
     "start_time": "2024-11-06T07:00:59.722663Z"
    }
   },
   "outputs": [
    {
     "name": "stdout",
     "output_type": "stream",
     "text": [
      "[0, 5, 6, 8, 9]\n"
     ]
    }
   ],
   "source": [
    "numbers = [9,5,0,8,6]\n",
    "numbers.sort() #numbers 자체가 정렬한 결과로 바뀜(기본은 오름차순)\n",
    "print(numbers)"
   ]
  },
  {
   "cell_type": "code",
   "execution_count": 141,
   "id": "95b8e583",
   "metadata": {
    "ExecuteTime": {
     "end_time": "2024-11-06T07:01:00.447948Z",
     "start_time": "2024-11-06T07:01:00.441937Z"
    }
   },
   "outputs": [
    {
     "data": {
      "text/plain": [
       "[9, 8, 6, 5, 0]"
      ]
     },
     "execution_count": 141,
     "metadata": {},
     "output_type": "execute_result"
    }
   ],
   "source": [
    "numbers = numbers[::-1] # 오름차순 결과를 내림차순으로\n",
    "numbers"
   ]
  },
  {
   "cell_type": "code",
   "execution_count": 143,
   "id": "2f1e3845",
   "metadata": {
    "ExecuteTime": {
     "end_time": "2024-11-06T07:10:53.296522Z",
     "start_time": "2024-11-06T07:10:53.290537Z"
    }
   },
   "outputs": [
    {
     "data": {
      "text/plain": [
       "[6, 8, 0, 5, 9]"
      ]
     },
     "execution_count": 143,
     "metadata": {},
     "output_type": "execute_result"
    }
   ],
   "source": [
    "numbers = [9,5,0,8,6]\n",
    "numbers.reverse() # 리스트를 역순으로 변경\n",
    "numbers"
   ]
  },
  {
   "cell_type": "code",
   "execution_count": 144,
   "id": "bd0d5cd3",
   "metadata": {
    "ExecuteTime": {
     "end_time": "2024-11-06T07:11:19.910346Z",
     "start_time": "2024-11-06T07:11:19.906353Z"
    }
   },
   "outputs": [
    {
     "data": {
      "text/plain": [
       "[9, 8, 6, 5, 0]"
      ]
     },
     "execution_count": 144,
     "metadata": {},
     "output_type": "execute_result"
    }
   ],
   "source": [
    "numbers = [9,5,0,8,6]\n",
    "numbers.sort(reverse=True) # 내림차순\n",
    "numbers"
   ]
  },
  {
   "cell_type": "markdown",
   "id": "70d283d5",
   "metadata": {},
   "source": [
    "## 1.9 리스트 복제"
   ]
  },
  {
   "cell_type": "code",
   "execution_count": 147,
   "id": "54cf2ee4",
   "metadata": {
    "ExecuteTime": {
     "end_time": "2024-11-06T07:16:37.083284Z",
     "start_time": "2024-11-06T07:16:37.078282Z"
    }
   },
   "outputs": [
    {
     "name": "stdout",
     "output_type": "stream",
     "text": [
      "원본 : [1, 5, 6, 9]\n",
      "정렬 : [1, 5, 6, 9]\n",
      "원본주소 1946606570816\n",
      "정렬본주소 1946606570816\n"
     ]
    }
   ],
   "source": [
    "# 얕은 복사\n",
    "numbers = [5,6,1,9]\n",
    "new_numbers = numbers # 얕은복사\n",
    "new_numbers.sort()\n",
    "print('원본 :',numbers)\n",
    "print('정렬 :',new_numbers)\n",
    "print('원본주소', id(numbers))\n",
    "print('정렬본주소', id(new_numbers))"
   ]
  },
  {
   "cell_type": "code",
   "execution_count": 148,
   "id": "5a63ea27",
   "metadata": {
    "ExecuteTime": {
     "end_time": "2024-11-06T07:18:36.355518Z",
     "start_time": "2024-11-06T07:18:36.350531Z"
    }
   },
   "outputs": [
    {
     "name": "stdout",
     "output_type": "stream",
     "text": [
      "원본 : [5, 6, 1, 9]\n",
      "정렬 : [1, 5, 6, 9]\n",
      "원본주소 1946605912320\n",
      "정렬본주소 1946606385536\n"
     ]
    }
   ],
   "source": [
    "#깊은 복사(복제)\n",
    "numbers = [5,6,1,9]\n",
    "new_numbers = numbers.copy() # numbers를 복제 (깊은복사)\n",
    "new_numbers.sort(reverse=True) # 내림차순 정렬\n",
    "print('원본 :',numbers)\n",
    "print('정렬 :',new_numbers)\n",
    "print('원본주소', id(numbers))\n",
    "print('정렬본주소', id(new_numbers))"
   ]
  },
  {
   "cell_type": "code",
   "execution_count": 151,
   "id": "58f43a45",
   "metadata": {
    "ExecuteTime": {
     "end_time": "2024-11-06T07:24:24.469204Z",
     "start_time": "2024-11-06T07:24:24.465186Z"
    }
   },
   "outputs": [
    {
     "name": "stdout",
     "output_type": "stream",
     "text": [
      "정렬전 : 서울 부산 대전 대구 인천 제주\n",
      "정렬후 : 대구 대전 부산 서울 인천 제주\n"
     ]
    }
   ],
   "source": [
    "city = ['서울', '부산', '대전', '대구', '인천', '제주']\n",
    "temp = city.copy()\n",
    "temp.sort()\n",
    "print('정렬전 :',' '.join(city))\n",
    "print('정렬후 :',' '.join(temp))"
   ]
  },
  {
   "cell_type": "markdown",
   "id": "ca3f2b8c",
   "metadata": {},
   "source": [
    "# 2절. 튜플\n",
    "- 리스트와 유사하지만 읽기전용. 수정이 필요없는 데이터에서 사용\n",
    "- 수정이 불가 하므로 튜블에 데이터 수정, 추가, 삭제 불가\n",
    "- 제공되는 함수도 많지 않음\n",
    "- () 이용해서 생성"
   ]
  },
  {
   "cell_type": "code",
   "execution_count": 155,
   "id": "d494a5b9",
   "metadata": {
    "ExecuteTime": {
     "end_time": "2024-11-06T07:32:56.430280Z",
     "start_time": "2024-11-06T07:32:56.424291Z"
    }
   },
   "outputs": [
    {
     "name": "stdout",
     "output_type": "stream",
     "text": [
      "<class 'tuple'>\n",
      "('서울', '부산', '대전', '대구', '인천', '제주')\n"
     ]
    }
   ],
   "source": [
    "city = ('서울', '부산', '대전', '대구', '인천', '제주')\n",
    "print(type(city))\n",
    "print(city)"
   ]
  },
  {
   "cell_type": "code",
   "execution_count": 156,
   "id": "4ee17682",
   "metadata": {
    "ExecuteTime": {
     "end_time": "2024-11-06T07:33:08.462356Z",
     "start_time": "2024-11-06T07:33:08.456414Z"
    }
   },
   "outputs": [
    {
     "data": {
      "text/plain": [
       "'서울, 부산, 대전, 대구, 인천, 제주'"
      ]
     },
     "execution_count": 156,
     "metadata": {},
     "output_type": "execute_result"
    }
   ],
   "source": [
    "', '.join(city)"
   ]
  },
  {
   "cell_type": "code",
   "execution_count": 154,
   "id": "1534c6dd",
   "metadata": {
    "ExecuteTime": {
     "end_time": "2024-11-06T07:32:25.261140Z",
     "start_time": "2024-11-06T07:32:25.256155Z"
    }
   },
   "outputs": [
    {
     "name": "stdout",
     "output_type": "stream",
     "text": [
      "<class 'list'>\n",
      "['서울']\n",
      "1\n"
     ]
    }
   ],
   "source": [
    "l = ['서울'] # 요소가 하나 있는 리스트\n",
    "print(type(l))\n",
    "print(l)\n",
    "print(len(l))"
   ]
  },
  {
   "cell_type": "code",
   "execution_count": 158,
   "id": "da1c6f84",
   "metadata": {
    "ExecuteTime": {
     "end_time": "2024-11-06T07:34:43.339675Z",
     "start_time": "2024-11-06T07:34:43.335677Z"
    }
   },
   "outputs": [
    {
     "name": "stdout",
     "output_type": "stream",
     "text": [
      "<class 'str'>\n",
      "서울\n"
     ]
    }
   ],
   "source": [
    "city = ('서울') # 요소가 하나 있는 튜플(x)\n",
    "print(type(city))\n",
    "print(city)"
   ]
  },
  {
   "cell_type": "code",
   "execution_count": 160,
   "id": "1c26124e",
   "metadata": {
    "ExecuteTime": {
     "end_time": "2024-11-06T07:37:47.205359Z",
     "start_time": "2024-11-06T07:37:47.200359Z"
    }
   },
   "outputs": [
    {
     "name": "stdout",
     "output_type": "stream",
     "text": [
      "<class 'tuple'>\n",
      "('서울',)\n",
      "1\n"
     ]
    }
   ],
   "source": [
    "city = ('서울',) #  요소가 하나 있는 튜플(o)\n",
    "print(type(city))\n",
    "print(city)\n",
    "print(len(city))"
   ]
  },
  {
   "cell_type": "code",
   "execution_count": null,
   "id": "1fc74dfc",
   "metadata": {},
   "outputs": [],
   "source": [
    "a, b = 10, 20\n",
    "#(a, b) = (10, 20)"
   ]
  },
  {
   "cell_type": "code",
   "execution_count": 161,
   "id": "c7b4bf05",
   "metadata": {
    "ExecuteTime": {
     "end_time": "2024-11-06T07:40:28.624541Z",
     "start_time": "2024-11-06T07:40:28.620551Z"
    }
   },
   "outputs": [
    {
     "name": "stdout",
     "output_type": "stream",
     "text": [
      "<class 'tuple'>\n",
      "(1, 2, 3)\n"
     ]
    }
   ],
   "source": [
    "numbers = 1,2,3\n",
    "print(type(numbers))\n",
    "print(numbers)"
   ]
  },
  {
   "cell_type": "code",
   "execution_count": null,
   "id": "fc27dd04",
   "metadata": {},
   "outputs": [],
   "source": [
    "# numbers.remove(3) 수정하기위한 함수는 제공되지 않음"
   ]
  },
  {
   "cell_type": "code",
   "execution_count": 162,
   "id": "46990002",
   "metadata": {
    "ExecuteTime": {
     "end_time": "2024-11-06T07:42:33.281951Z",
     "start_time": "2024-11-06T07:42:33.275967Z"
    }
   },
   "outputs": [
    {
     "data": {
      "text/plain": [
       "(1, 3, 3)"
      ]
     },
     "execution_count": 162,
     "metadata": {},
     "output_type": "execute_result"
    }
   ],
   "source": [
    "min(numbers),max(numbers),len(numbers)"
   ]
  },
  {
   "cell_type": "code",
   "execution_count": 163,
   "id": "8cd7cab7",
   "metadata": {
    "ExecuteTime": {
     "end_time": "2024-11-06T07:43:00.001145Z",
     "start_time": "2024-11-06T07:42:59.996159Z"
    }
   },
   "outputs": [
    {
     "data": {
      "text/plain": [
       "2"
      ]
     },
     "execution_count": 163,
     "metadata": {},
     "output_type": "execute_result"
    }
   ],
   "source": [
    "numbers = (0,1,2,(1,2),0,1,2)\n",
    "numbers.count(2)"
   ]
  },
  {
   "cell_type": "code",
   "execution_count": 164,
   "id": "df382f24",
   "metadata": {
    "ExecuteTime": {
     "end_time": "2024-11-06T07:44:04.570196Z",
     "start_time": "2024-11-06T07:44:04.565202Z"
    }
   },
   "outputs": [
    {
     "data": {
      "text/plain": [
       "2"
      ]
     },
     "execution_count": 164,
     "metadata": {},
     "output_type": "execute_result"
    }
   ],
   "source": [
    "numbers.index(2) # 2가 있는 곳의 index"
   ]
  },
  {
   "cell_type": "code",
   "execution_count": 165,
   "id": "dab31c63",
   "metadata": {
    "ExecuteTime": {
     "end_time": "2024-11-06T07:44:37.769838Z",
     "start_time": "2024-11-06T07:44:37.763854Z"
    }
   },
   "outputs": [
    {
     "data": {
      "text/plain": [
       "6"
      ]
     },
     "execution_count": 165,
     "metadata": {},
     "output_type": "execute_result"
    }
   ],
   "source": [
    "numbers.index(2,3) # 3번째 index 부터 2가 나오는 index"
   ]
  },
  {
   "cell_type": "code",
   "execution_count": 168,
   "id": "59e71060",
   "metadata": {
    "ExecuteTime": {
     "end_time": "2024-11-06T07:48:06.756190Z",
     "start_time": "2024-11-06T07:48:06.751227Z"
    }
   },
   "outputs": [
    {
     "data": {
      "text/plain": [
       "-1"
      ]
     },
     "execution_count": 168,
     "metadata": {},
     "output_type": "execute_result"
    }
   ],
   "source": [
    "safe_index(numbers, 4)"
   ]
  },
  {
   "cell_type": "code",
   "execution_count": 167,
   "id": "0ec8f48a",
   "metadata": {
    "ExecuteTime": {
     "end_time": "2024-11-06T07:48:04.328437Z",
     "start_time": "2024-11-06T07:48:04.324449Z"
    }
   },
   "outputs": [],
   "source": [
    "def safe_index(lst,item):\n",
    "    return lst.index(item) if item in lst else -1"
   ]
  },
  {
   "cell_type": "code",
   "execution_count": 169,
   "id": "4751deec",
   "metadata": {
    "ExecuteTime": {
     "end_time": "2024-11-06T07:51:55.613869Z",
     "start_time": "2024-11-06T07:51:55.607913Z"
    }
   },
   "outputs": [
    {
     "data": {
      "text/plain": [
       "(1, 2, 3, 1, 2, 3)"
      ]
     },
     "execution_count": 169,
     "metadata": {},
     "output_type": "execute_result"
    }
   ],
   "source": [
    "numbers = (1,2,3)\n",
    "numbers + numbers # 연결"
   ]
  },
  {
   "cell_type": "code",
   "execution_count": 170,
   "id": "c60317a5",
   "metadata": {
    "ExecuteTime": {
     "end_time": "2024-11-06T07:52:02.787040Z",
     "start_time": "2024-11-06T07:52:02.783047Z"
    }
   },
   "outputs": [
    {
     "data": {
      "text/plain": [
       "(1, 2, 3, 1, 2, 3, 1, 2, 3)"
      ]
     },
     "execution_count": 170,
     "metadata": {},
     "output_type": "execute_result"
    }
   ],
   "source": [
    "numbers * 3 # 반복"
   ]
  },
  {
   "cell_type": "code",
   "execution_count": 171,
   "id": "122b4544",
   "metadata": {
    "ExecuteTime": {
     "end_time": "2024-11-06T07:53:03.989641Z",
     "start_time": "2024-11-06T07:53:03.982651Z"
    }
   },
   "outputs": [
    {
     "data": {
      "text/plain": [
       "[4, 16, 36]"
      ]
     },
     "execution_count": 171,
     "metadata": {},
     "output_type": "execute_result"
    }
   ],
   "source": [
    "# ex. 짝수 요소들을 추출하여 제곱한 리스트를 출력하시오\n",
    "numbers = (1,2,3,4,5,6,7)\n",
    "[data**2 for data in numbers if data%2==0]"
   ]
  },
  {
   "cell_type": "markdown",
   "id": "7cca8ca8",
   "metadata": {},
   "source": [
    "# 3절. 딕셔너리\n",
    "cf. 자바에서의 hashMap\n",
    "- 중괄호({})를 이용해서 딕셔너리를 생성. 키(key)-값(value)쌍으로 구성된 자료구조\n",
    "- 키는 유일한 값(중복허용안함). 키에 list는 사용 불가. 키에 tuple은 사용 가능\n",
    "- 값은 중복 가능. 모든 데이터 타입이 가능\n",
    "- 없는 키값을 참조하면 에러 발생\n",
    "- 인덱스를 이용한 참조는 지원 안 함"
   ]
  },
  {
   "cell_type": "code",
   "execution_count": 188,
   "id": "6b9e1b81",
   "metadata": {
    "ExecuteTime": {
     "end_time": "2024-11-06T08:12:38.852352Z",
     "start_time": "2024-11-06T08:12:38.846366Z"
    }
   },
   "outputs": [
    {
     "name": "stdout",
     "output_type": "stream",
     "text": [
      "<class 'dict'>\n",
      "{'name': '홍길동', 1: 23, (1, 2): [1, 2]}\n"
     ]
    },
    {
     "data": {
      "text/plain": [
       "3"
      ]
     },
     "execution_count": 188,
     "metadata": {},
     "output_type": "execute_result"
    }
   ],
   "source": [
    "dic = {'name' : '홍길동', 1 : 23, (1,2):[1,2]}\n",
    "print(type(dic))\n",
    "print(dic)\n",
    "len(dic) # 데이터 요소의 갯수"
   ]
  },
  {
   "cell_type": "code",
   "execution_count": 189,
   "id": "7d3867c1",
   "metadata": {
    "ExecuteTime": {
     "end_time": "2024-11-06T08:14:26.063370Z",
     "start_time": "2024-11-06T08:14:26.057385Z"
    }
   },
   "outputs": [
    {
     "data": {
      "text/plain": [
       "{'fruit': 'apple', 'number': 12, 'sport': 'golf'}"
      ]
     },
     "execution_count": 189,
     "metadata": {},
     "output_type": "execute_result"
    }
   ],
   "source": [
    "my_favorite = {'fruit':'apple', 'number':12, 'sport':'golf'}\n",
    "my_favorite"
   ]
  },
  {
   "cell_type": "code",
   "execution_count": 190,
   "id": "19707b54",
   "metadata": {
    "ExecuteTime": {
     "end_time": "2024-11-06T08:14:45.514947Z",
     "start_time": "2024-11-06T08:14:45.509988Z"
    }
   },
   "outputs": [
    {
     "data": {
      "text/plain": [
       "'apple'"
      ]
     },
     "execution_count": 190,
     "metadata": {},
     "output_type": "execute_result"
    }
   ],
   "source": [
    "my_favorite['fruit']"
   ]
  },
  {
   "cell_type": "code",
   "execution_count": 191,
   "id": "172b019f",
   "metadata": {
    "ExecuteTime": {
     "end_time": "2024-11-06T08:15:17.650924Z",
     "start_time": "2024-11-06T08:15:17.644941Z"
    }
   },
   "outputs": [
    {
     "data": {
      "text/plain": [
       "'apple'"
      ]
     },
     "execution_count": 191,
     "metadata": {},
     "output_type": "execute_result"
    }
   ],
   "source": [
    "my_favorite.get('fruit')"
   ]
  },
  {
   "cell_type": "code",
   "execution_count": 193,
   "id": "950b8368",
   "metadata": {
    "ExecuteTime": {
     "end_time": "2024-11-06T08:17:01.417457Z",
     "start_time": "2024-11-06T08:17:01.413466Z"
    }
   },
   "outputs": [
    {
     "name": "stdout",
     "output_type": "stream",
     "text": [
      "None\n"
     ]
    }
   ],
   "source": [
    "# my_favorite['people'] # 키목록에 없는 데이터를 인덱스로 참조시 에러\n",
    "print(my_favorite.get('people')) # 없는 키를 get함수로 호출시 None"
   ]
  },
  {
   "cell_type": "code",
   "execution_count": 199,
   "id": "eb1393c1",
   "metadata": {
    "ExecuteTime": {
     "end_time": "2024-11-06T08:23:53.889739Z",
     "start_time": "2024-11-06T08:23:53.884780Z"
    }
   },
   "outputs": [
    {
     "name": "stdout",
     "output_type": "stream",
     "text": [
      "fruit수정후 : {'fruit': 'mango', 'number': 12, 'sport': 'golf'}\n",
      "people 추가후 : {'fruit': 'mango', 'number': 12, 'sport': 'golf', 'people': '홍길동'}\n",
      "데이터 갯수 : 4\n",
      "sport 제거후 : {'fruit': 'mango', 'number': 12, 'people': '홍길동'}\n"
     ]
    }
   ],
   "source": [
    "# 딕셔너리 수정\n",
    "my_favorite = {'fruit':'apple', 'number':12, 'sport':'golf'}\n",
    "my_favorite['fruit'] = 'mango'\n",
    "print('fruit수정후 :',my_favorite)\n",
    "my_favorite['people'] = '홍길동'\n",
    "print('people 추가후 :', my_favorite)\n",
    "print('데이터 갯수 :', len(my_favorite))\n",
    "# del my_favorite['sport'] # sport : golf 제거\n",
    "# del(my_favorite['sport'])\n",
    "my_favorite.pop('sport')\n",
    "print('sport 제거후 :',my_favorite)"
   ]
  },
  {
   "cell_type": "code",
   "execution_count": 202,
   "id": "d274b5fd",
   "metadata": {
    "ExecuteTime": {
     "end_time": "2024-11-06T08:28:47.401511Z",
     "start_time": "2024-11-06T08:28:47.396525Z"
    }
   },
   "outputs": [],
   "source": [
    "my_tuple = ('홍길동', 30, '010-9999-9999')"
   ]
  },
  {
   "cell_type": "code",
   "execution_count": 206,
   "id": "e7f2e3a2",
   "metadata": {
    "ExecuteTime": {
     "end_time": "2024-11-06T08:31:48.743039Z",
     "start_time": "2024-11-06T08:31:48.737075Z"
    }
   },
   "outputs": [
    {
     "name": "stdout",
     "output_type": "stream",
     "text": [
      "홍길동\t30\t010-9999-9999\t\n",
      "홍길동\t30\t010-9999-9999\t\n",
      "0번째홍길동\t1번째30\t2번째010-9999-9999\t"
     ]
    }
   ],
   "source": [
    "for data in my_tuple:\n",
    "    print(data, end='\\t')\n",
    "print()\n",
    "for idx in range(len(my_tuple)):\n",
    "    print(my_tuple[idx], end='\\t')\n",
    "print()\n",
    "for idx, value in enumerate(my_tuple):\n",
    "    print('{}번째{}'.format(idx, value), end='\\t')\n",
    "    "
   ]
  },
  {
   "cell_type": "code",
   "execution_count": 221,
   "id": "8d5d80c0",
   "metadata": {
    "ExecuteTime": {
     "end_time": "2024-11-06T08:41:43.841374Z",
     "start_time": "2024-11-06T08:41:43.837413Z"
    }
   },
   "outputs": [],
   "source": [
    "#for 문으로 딕셔너리 출력\n",
    "my_dic = {'name':'홍길동', 'age':30, 'tel':'010-9999-9999'}"
   ]
  },
  {
   "cell_type": "code",
   "execution_count": 220,
   "id": "2d0c35ae",
   "metadata": {
    "ExecuteTime": {
     "end_time": "2024-11-06T08:40:40.191602Z",
     "start_time": "2024-11-06T08:40:40.187613Z"
    }
   },
   "outputs": [
    {
     "name": "stdout",
     "output_type": "stream",
     "text": [
      "0 name\n",
      "1 age\n",
      "2 tel\n"
     ]
    }
   ],
   "source": [
    "# 딕셔너리에서는 enumerate 사용에 의미가 없음\n",
    "for idx, key in enumerate(my_dic):\n",
    "    print(idx, key)"
   ]
  },
  {
   "cell_type": "code",
   "execution_count": 216,
   "id": "59ed150e",
   "metadata": {
    "ExecuteTime": {
     "end_time": "2024-11-06T08:39:05.747982Z",
     "start_time": "2024-11-06T08:39:05.742994Z"
    }
   },
   "outputs": [
    {
     "data": {
      "text/plain": [
       "dict_keys(['name', 'age', 'tel'])"
      ]
     },
     "execution_count": 216,
     "metadata": {},
     "output_type": "execute_result"
    }
   ],
   "source": [
    "my_dic.keys() #키 목록"
   ]
  },
  {
   "cell_type": "code",
   "execution_count": 217,
   "id": "8467a273",
   "metadata": {
    "ExecuteTime": {
     "end_time": "2024-11-06T08:39:29.436077Z",
     "start_time": "2024-11-06T08:39:29.431091Z"
    }
   },
   "outputs": [
    {
     "data": {
      "text/plain": [
       "dict_values(['홍길동', 30, '010-9999-9999'])"
      ]
     },
     "execution_count": 217,
     "metadata": {},
     "output_type": "execute_result"
    }
   ],
   "source": [
    "my_dic.values() # 값 목록"
   ]
  },
  {
   "cell_type": "code",
   "execution_count": 218,
   "id": "a376d55e",
   "metadata": {
    "ExecuteTime": {
     "end_time": "2024-11-06T08:40:03.150563Z",
     "start_time": "2024-11-06T08:40:03.144552Z"
    }
   },
   "outputs": [
    {
     "data": {
      "text/plain": [
       "dict_items([('name', '홍길동'), ('age', 30), ('tel', '010-9999-9999')])"
      ]
     },
     "execution_count": 218,
     "metadata": {},
     "output_type": "execute_result"
    }
   ],
   "source": [
    "my_dic.items() # 키-값의 목록"
   ]
  },
  {
   "cell_type": "code",
   "execution_count": 223,
   "id": "e19b97fe",
   "metadata": {
    "ExecuteTime": {
     "end_time": "2024-11-06T08:42:22.438560Z",
     "start_time": "2024-11-06T08:42:22.434541Z"
    }
   },
   "outputs": [
    {
     "name": "stdout",
     "output_type": "stream",
     "text": [
      "홍길동\t30\t010-9999-9999\t"
     ]
    }
   ],
   "source": [
    "for value in my_dic.values():\n",
    "    print(value, end='\\t')"
   ]
  },
  {
   "cell_type": "code",
   "execution_count": 225,
   "id": "f4e9aa24",
   "metadata": {
    "ExecuteTime": {
     "end_time": "2024-11-06T08:43:28.776443Z",
     "start_time": "2024-11-06T08:43:28.770932Z"
    }
   },
   "outputs": [
    {
     "name": "stdout",
     "output_type": "stream",
     "text": [
      "name:홍길동\tage:30\ttel:010-9999-9999\t"
     ]
    }
   ],
   "source": [
    "for key, value in my_dic.items():\n",
    "    print('{}:{}'.format(key, value), end='\\t')"
   ]
  },
  {
   "cell_type": "code",
   "execution_count": 226,
   "id": "f68c97c2",
   "metadata": {
    "ExecuteTime": {
     "end_time": "2024-11-06T08:44:50.668239Z",
     "start_time": "2024-11-06T08:44:50.663279Z"
    }
   },
   "outputs": [
    {
     "data": {
      "text/plain": [
       "True"
      ]
     },
     "execution_count": 226,
     "metadata": {},
     "output_type": "execute_result"
    }
   ],
   "source": [
    "# in 연산자\n",
    "t = (10,20,30)\n",
    "30 in t\n",
    "# list, tuple, set에서의 in 연산자는 요소가 있는지 여부 반환"
   ]
  },
  {
   "cell_type": "code",
   "execution_count": 227,
   "id": "ac3c44f4",
   "metadata": {
    "ExecuteTime": {
     "end_time": "2024-11-06T08:45:25.396366Z",
     "start_time": "2024-11-06T08:45:25.390355Z"
    }
   },
   "outputs": [
    {
     "data": {
      "text/plain": [
       "True"
      ]
     },
     "execution_count": 227,
     "metadata": {},
     "output_type": "execute_result"
    }
   ],
   "source": [
    "my_dic = {'name':'홍길동', 'age':30, 'tel':'010-9999-9999'}\n",
    "'name' in my_dic\n",
    "# 딕셔너리에서의 in 연산자는 키가 있는지 여부 반환"
   ]
  },
  {
   "cell_type": "code",
   "execution_count": 228,
   "id": "30d3e6c5",
   "metadata": {
    "ExecuteTime": {
     "end_time": "2024-11-06T08:45:56.132301Z",
     "start_time": "2024-11-06T08:45:56.127342Z"
    }
   },
   "outputs": [
    {
     "data": {
      "text/plain": [
       "False"
      ]
     },
     "execution_count": 228,
     "metadata": {},
     "output_type": "execute_result"
    }
   ],
   "source": [
    "'홍길동' in my_dic"
   ]
  },
  {
   "cell_type": "code",
   "execution_count": 231,
   "id": "90765fcc",
   "metadata": {
    "ExecuteTime": {
     "end_time": "2024-11-06T08:49:32.014805Z",
     "start_time": "2024-11-06T08:49:32.010814Z"
    }
   },
   "outputs": [
    {
     "name": "stdout",
     "output_type": "stream",
     "text": [
      "my_favorite의 주소 1946605643264\n",
      "new_favorit의 주소 1946605643264\n"
     ]
    }
   ],
   "source": [
    "# 얕은 복사\n",
    "my_favorite = {'fruit':'apple', 'number':12, 'sport':'golf'}\n",
    "new_favorit = my_favorite # 얕은 복사(할당)\n",
    "print('my_favorite의 주소',id(my_favorite))\n",
    "print('new_favorit의 주소',id(new_favorit))"
   ]
  },
  {
   "cell_type": "code",
   "execution_count": 232,
   "id": "0908c38b",
   "metadata": {
    "ExecuteTime": {
     "end_time": "2024-11-06T08:51:05.672821Z",
     "start_time": "2024-11-06T08:51:05.667848Z"
    }
   },
   "outputs": [
    {
     "name": "stdout",
     "output_type": "stream",
     "text": [
      "원본 : {'fruit': '과일은 다 좋아. 하나를 어찌 선택해', 'number': 12, 'sport': 'golf', 'people': '홍길동'}\n",
      "수정본 : {'fruit': '과일은 다 좋아. 하나를 어찌 선택해', 'number': 12, 'sport': 'golf', 'people': '홍길동'}\n"
     ]
    }
   ],
   "source": [
    "new_favorit['fruit'] = '과일은 다 좋아. 하나를 어찌 선택해'\n",
    "new_favorit['people'] = '홍길동'\n",
    "print('원본 :', my_favorite)\n",
    "print('수정본 :', new_favorit)"
   ]
  },
  {
   "cell_type": "code",
   "execution_count": 233,
   "id": "770de258",
   "metadata": {
    "ExecuteTime": {
     "end_time": "2024-11-06T08:51:52.932110Z",
     "start_time": "2024-11-06T08:51:52.927150Z"
    }
   },
   "outputs": [
    {
     "name": "stdout",
     "output_type": "stream",
     "text": [
      "my_favorite의 주소 1946605675648\n",
      "new_favorit의 주소 1946605672256\n"
     ]
    }
   ],
   "source": [
    "# 깊은 복사\n",
    "my_favorite = {'fruit':'apple', 'number':12, 'sport':'golf'}\n",
    "new_favorit = my_favorite.copy() # 깊은 복사\n",
    "print('my_favorite의 주소',id(my_favorite))\n",
    "print('new_favorit의 주소',id(new_favorit))"
   ]
  },
  {
   "cell_type": "code",
   "execution_count": 234,
   "id": "1ff83662",
   "metadata": {
    "ExecuteTime": {
     "end_time": "2024-11-06T08:52:05.815963Z",
     "start_time": "2024-11-06T08:52:05.809952Z"
    }
   },
   "outputs": [
    {
     "name": "stdout",
     "output_type": "stream",
     "text": [
      "원본 : {'fruit': 'apple', 'number': 12, 'sport': 'golf'}\n",
      "수정본 : {'fruit': '과일은 다 좋아. 하나를 어찌 선택해', 'number': 12, 'sport': 'golf', 'people': '홍길동'}\n"
     ]
    }
   ],
   "source": [
    "new_favorit['fruit'] = '과일은 다 좋아. 하나를 어찌 선택해'\n",
    "new_favorit['people'] = '홍길동'\n",
    "print('원본 :', my_favorite)\n",
    "print('수정본 :', new_favorit)"
   ]
  },
  {
   "cell_type": "markdown",
   "id": "afc74e33",
   "metadata": {},
   "source": [
    "# 4절. 셋\n",
    "- 중복을 허용하지 않는 집합(순서x)\n",
    "- 중괄호{} 나 set()함수를 이용해서 셋 생성 : set([1,2]), set({'name':'홍'})\n",
    "- 추가 : add(), update()\n",
    "- 집합연산자 : &(교집합), |(합집합), -(차집합)\n",
    "- 삭제 : remove()"
   ]
  },
  {
   "cell_type": "code",
   "execution_count": 13,
   "id": "6405cf1c",
   "metadata": {
    "ExecuteTime": {
     "end_time": "2024-11-07T01:05:54.618861Z",
     "start_time": "2024-11-07T01:05:54.613862Z"
    }
   },
   "outputs": [
    {
     "data": {
      "text/plain": [
       "{'apple', 'banana', 'orange'}"
      ]
     },
     "execution_count": 13,
     "metadata": {},
     "output_type": "execute_result"
    }
   ],
   "source": [
    "fruits = {'banana', 'orange', 'apple', 'apple'}\n",
    "fruits"
   ]
  },
  {
   "cell_type": "code",
   "execution_count": 16,
   "id": "6de29811",
   "metadata": {
    "ExecuteTime": {
     "end_time": "2024-11-07T01:06:31.424274Z",
     "start_time": "2024-11-07T01:06:31.418275Z"
    }
   },
   "outputs": [
    {
     "data": {
      "text/plain": [
       "{1, 2, 3}"
      ]
     },
     "execution_count": 16,
     "metadata": {},
     "output_type": "execute_result"
    }
   ],
   "source": [
    "s1 = set([1,2,3,1])\n",
    "s1"
   ]
  },
  {
   "cell_type": "code",
   "execution_count": 17,
   "id": "a9e1c2e0",
   "metadata": {
    "ExecuteTime": {
     "end_time": "2024-11-07T01:07:13.408695Z",
     "start_time": "2024-11-07T01:07:13.403680Z"
    }
   },
   "outputs": [
    {
     "data": {
      "text/plain": [
       "{1, 2, 3}"
      ]
     },
     "execution_count": 17,
     "metadata": {},
     "output_type": "execute_result"
    }
   ],
   "source": [
    "s2 = set((1,2,3,1))\n",
    "s2"
   ]
  },
  {
   "cell_type": "code",
   "execution_count": 18,
   "id": "cb45e1e3",
   "metadata": {
    "ExecuteTime": {
     "end_time": "2024-11-07T01:08:12.800617Z",
     "start_time": "2024-11-07T01:08:12.795630Z"
    }
   },
   "outputs": [
    {
     "data": {
      "text/plain": [
       "{'add', 'age', 'name'}"
      ]
     },
     "execution_count": 18,
     "metadata": {},
     "output_type": "execute_result"
    }
   ],
   "source": [
    "# set함수를 이용해서 딕셔너리를 셋으로 전환할때는 key만 적용\n",
    "s3 = set({'name':'홍', 'age':'33', 'add':'서울'})\n",
    "s3"
   ]
  },
  {
   "cell_type": "markdown",
   "id": "90fd4e31",
   "metadata": {},
   "source": [
    "## 추가하기\n",
    "- add() : 기본자료형, 튜플 데이터 하나 추가. list, dic, set유형은 add()함수를 사용불가\n",
    "- update() : 리스트, 튜플, 딕셔너리, 셋 요소를 하나씩 따로 추가. dic사용시 key만 적용\n",
    "        cf. 리스트의 extend()"
   ]
  },
  {
   "cell_type": "code",
   "execution_count": 20,
   "id": "d67d2128",
   "metadata": {
    "ExecuteTime": {
     "end_time": "2024-11-07T01:14:08.496737Z",
     "start_time": "2024-11-07T01:14:08.490780Z"
    }
   },
   "outputs": [
    {
     "data": {
      "text/plain": [
       "{(6, 7, 8), 1, 2, 3, 4, 5}"
      ]
     },
     "execution_count": 20,
     "metadata": {},
     "output_type": "execute_result"
    }
   ],
   "source": [
    "s2.add(4)\n",
    "s2.add(5)\n",
    "s2.add((6,7,8))\n",
    "s2"
   ]
  },
  {
   "cell_type": "code",
   "execution_count": 21,
   "id": "12d9752e",
   "metadata": {
    "ExecuteTime": {
     "end_time": "2024-11-07T01:14:51.457042Z",
     "start_time": "2024-11-07T01:14:51.451059Z"
    }
   },
   "outputs": [
    {
     "data": {
      "text/plain": [
       "{(6, 7, 8), 0, 1, 2, 3, 4, 5}"
      ]
     },
     "execution_count": 21,
     "metadata": {},
     "output_type": "execute_result"
    }
   ],
   "source": [
    "s2.add(0)\n",
    "s2"
   ]
  },
  {
   "cell_type": "code",
   "execution_count": 24,
   "id": "551094ff",
   "metadata": {
    "ExecuteTime": {
     "end_time": "2024-11-07T01:16:08.668879Z",
     "start_time": "2024-11-07T01:16:08.662912Z"
    }
   },
   "outputs": [
    {
     "data": {
      "text/plain": [
       "{False, 1, 2, 3}"
      ]
     },
     "execution_count": 24,
     "metadata": {},
     "output_type": "execute_result"
    }
   ],
   "source": [
    "s2 = {1,2,3}\n",
    "s2.add(False)\n",
    "s2"
   ]
  },
  {
   "cell_type": "code",
   "execution_count": 25,
   "id": "62eb5000",
   "metadata": {
    "ExecuteTime": {
     "end_time": "2024-11-07T01:17:17.243696Z",
     "start_time": "2024-11-07T01:17:17.238682Z"
    }
   },
   "outputs": [
    {
     "data": {
      "text/plain": [
       "{False, 1, 2, 3}"
      ]
     },
     "execution_count": 25,
     "metadata": {},
     "output_type": "execute_result"
    }
   ],
   "source": [
    "s2.add(True)\n",
    "s2"
   ]
  },
  {
   "cell_type": "code",
   "execution_count": 26,
   "id": "05a156cf",
   "metadata": {
    "ExecuteTime": {
     "end_time": "2024-11-07T01:18:00.598621Z",
     "start_time": "2024-11-07T01:18:00.593635Z"
    }
   },
   "outputs": [
    {
     "data": {
      "text/plain": [
       "{False, 1, 2, 3, 4, 5, 6}"
      ]
     },
     "execution_count": 26,
     "metadata": {},
     "output_type": "execute_result"
    }
   ],
   "source": [
    "s2.update((4,5,6))\n",
    "s2"
   ]
  },
  {
   "cell_type": "code",
   "execution_count": 27,
   "id": "15adcf3b",
   "metadata": {
    "ExecuteTime": {
     "end_time": "2024-11-07T01:18:40.035708Z",
     "start_time": "2024-11-07T01:18:40.031074Z"
    }
   },
   "outputs": [
    {
     "data": {
      "text/plain": [
       "{1, 2, 3, 4, 5, 6, False, 'name'}"
      ]
     },
     "execution_count": 27,
     "metadata": {},
     "output_type": "execute_result"
    }
   ],
   "source": [
    "s2.update({'name':'홍'}) #딕셔너리는 키만 추가\n",
    "s2"
   ]
  },
  {
   "cell_type": "markdown",
   "id": "26231cd1",
   "metadata": {},
   "source": [
    "## 삭제하기\n",
    "- remove()"
   ]
  },
  {
   "cell_type": "code",
   "execution_count": 41,
   "id": "54c96fcb",
   "metadata": {
    "ExecuteTime": {
     "end_time": "2024-11-07T01:41:35.722589Z",
     "start_time": "2024-11-07T01:41:35.716606Z"
    }
   },
   "outputs": [
    {
     "data": {
      "text/plain": [
       "{1, 2, 3, 4}"
      ]
     },
     "execution_count": 41,
     "metadata": {},
     "output_type": "execute_result"
    }
   ],
   "source": [
    "s1 = {1,2,3,4,1,1,1}\n",
    "s1"
   ]
  },
  {
   "cell_type": "code",
   "execution_count": 30,
   "id": "7407ee3d",
   "metadata": {
    "ExecuteTime": {
     "end_time": "2024-11-07T01:35:15.183180Z",
     "start_time": "2024-11-07T01:35:15.178222Z"
    }
   },
   "outputs": [
    {
     "data": {
      "text/plain": [
       "{1, 3, 4}"
      ]
     },
     "execution_count": 30,
     "metadata": {},
     "output_type": "execute_result"
    }
   ],
   "source": [
    "s1.remove(2)\n",
    "s1"
   ]
  },
  {
   "cell_type": "code",
   "execution_count": 31,
   "id": "e5f17a6a",
   "metadata": {
    "ExecuteTime": {
     "end_time": "2024-11-07T01:35:26.952168Z",
     "start_time": "2024-11-07T01:35:26.465914Z"
    }
   },
   "outputs": [
    {
     "ename": "KeyError",
     "evalue": "5",
     "output_type": "error",
     "traceback": [
      "\u001b[1;31m---------------------------------------------------------------------------\u001b[0m",
      "\u001b[1;31mKeyError\u001b[0m                                  Traceback (most recent call last)",
      "Cell \u001b[1;32mIn[31], line 1\u001b[0m\n\u001b[1;32m----> 1\u001b[0m \u001b[43ms1\u001b[49m\u001b[38;5;241;43m.\u001b[39;49m\u001b[43mremove\u001b[49m\u001b[43m(\u001b[49m\u001b[38;5;241;43m5\u001b[39;49m\u001b[43m)\u001b[49m\n\u001b[0;32m      2\u001b[0m s1\n",
      "\u001b[1;31mKeyError\u001b[0m: 5"
     ]
    }
   ],
   "source": [
    "s1.remove(5)\n",
    "s1"
   ]
  },
  {
   "cell_type": "code",
   "execution_count": 32,
   "id": "f1c83761",
   "metadata": {
    "ExecuteTime": {
     "end_time": "2024-11-07T01:36:55.297779Z",
     "start_time": "2024-11-07T01:36:55.291795Z"
    }
   },
   "outputs": [
    {
     "name": "stdout",
     "output_type": "stream",
     "text": [
      "없는 요소\n"
     ]
    }
   ],
   "source": [
    "if 5 in s1:\n",
    "    s1.remove(5)\n",
    "else:\n",
    "    print('없는 요소')"
   ]
  },
  {
   "cell_type": "code",
   "execution_count": 37,
   "id": "e4946697",
   "metadata": {
    "ExecuteTime": {
     "end_time": "2024-11-07T01:39:31.173739Z",
     "start_time": "2024-11-07T01:39:31.169779Z"
    }
   },
   "outputs": [],
   "source": [
    "def safe_remove(data, remove_item) : # data : list, set\n",
    "    if remove_item in data :\n",
    "        data.remove(remove_item)\n",
    "    else :\n",
    "        print('해당 데이터는 없는 데이터입니다')"
   ]
  },
  {
   "cell_type": "code",
   "execution_count": 38,
   "id": "64e784cf",
   "metadata": {
    "ExecuteTime": {
     "end_time": "2024-11-07T01:39:32.037759Z",
     "start_time": "2024-11-07T01:39:32.033437Z"
    }
   },
   "outputs": [
    {
     "name": "stdout",
     "output_type": "stream",
     "text": [
      "해당 데이터는 없는 데이터입니다\n"
     ]
    }
   ],
   "source": [
    "safe_remove(s1,5)"
   ]
  },
  {
   "cell_type": "code",
   "execution_count": 42,
   "id": "4449f1b3",
   "metadata": {
    "ExecuteTime": {
     "end_time": "2024-11-07T01:41:39.106857Z",
     "start_time": "2024-11-07T01:41:39.101871Z"
    }
   },
   "outputs": [
    {
     "data": {
      "text/plain": [
       "{2, 3, 4}"
      ]
     },
     "execution_count": 42,
     "metadata": {},
     "output_type": "execute_result"
    }
   ],
   "source": [
    "#논리값 False는 0으로 삭제할수 있으며, True는 1로 삭제할수있음\n",
    "#논리값 0은 False으로 삭제할수 있으며, 1은 True로 삭제할수있음\n",
    "s1.remove(True)\n",
    "s1"
   ]
  },
  {
   "cell_type": "markdown",
   "id": "be0008c9",
   "metadata": {},
   "source": [
    "## 합집합(|), 교집합(&), 차집합(-)"
   ]
  },
  {
   "cell_type": "code",
   "execution_count": 44,
   "id": "bea62942",
   "metadata": {
    "ExecuteTime": {
     "end_time": "2024-11-07T01:43:44.426201Z",
     "start_time": "2024-11-07T01:43:44.421229Z"
    }
   },
   "outputs": [
    {
     "name": "stdout",
     "output_type": "stream",
     "text": [
      "s1 = {1, 2, 3, 4, 5}\n",
      "s2 = {3, 4, 5, 6, 7}\n",
      "s1|s2 = {1, 2, 3, 4, 5, 6, 7}\n",
      "s1&s2 = {3, 4, 5}\n",
      "s1-s2 = {1, 2}\n"
     ]
    }
   ],
   "source": [
    "s1 = {1,2,3,4,5}\n",
    "s2 = {3,4,5,6,7}\n",
    "print('s1 =', s1)\n",
    "print('s2 =', s2)\n",
    "print('s1|s2 =', s1|s2) # &, | : 집합연산자, 논리연산자, 비트연산자\n",
    "print('s1&s2 =', s1&s2)\n",
    "print('s1-s2 =', s1-s2)"
   ]
  },
  {
   "cell_type": "code",
   "execution_count": 45,
   "id": "d5448171",
   "metadata": {
    "ExecuteTime": {
     "end_time": "2024-11-07T01:45:23.058944Z",
     "start_time": "2024-11-07T01:45:23.053980Z"
    }
   },
   "outputs": [
    {
     "name": "stdout",
     "output_type": "stream",
     "text": [
      "{'순자', '길동', '길자'}\n"
     ]
    }
   ],
   "source": [
    "names = {'길자', '순자', '길동'}\n",
    "print(names)"
   ]
  },
  {
   "cell_type": "code",
   "execution_count": 47,
   "id": "37b23b56",
   "metadata": {
    "ExecuteTime": {
     "end_time": "2024-11-07T01:46:01.716401Z",
     "start_time": "2024-11-07T01:46:01.712391Z"
    }
   },
   "outputs": [
    {
     "name": "stdout",
     "output_type": "stream",
     "text": [
      "순자\t길동\t길자\t"
     ]
    }
   ],
   "source": [
    "for name in names:\n",
    "    print(name, end='\\t')"
   ]
  },
  {
   "cell_type": "markdown",
   "id": "13623189",
   "metadata": {},
   "source": [
    "# 5절. enumerate\n",
    "- 반복자 또는 순서 객체로 반복문을 처리할 때 사용하는 함수\n",
    "- 리스트, 튜플, 셋을 for문에 사용시"
   ]
  },
  {
   "cell_type": "code",
   "execution_count": 48,
   "id": "7099e1c5",
   "metadata": {
    "ExecuteTime": {
     "end_time": "2024-11-07T01:50:47.499151Z",
     "start_time": "2024-11-07T01:50:47.493140Z"
    }
   },
   "outputs": [
    {
     "data": {
      "text/plain": [
       "[(0, '순자'), (1, '길동'), (2, '길자')]"
      ]
     },
     "execution_count": 48,
     "metadata": {},
     "output_type": "execute_result"
    }
   ],
   "source": [
    "list(enumerate(names))"
   ]
  },
  {
   "cell_type": "code",
   "execution_count": 49,
   "id": "58c7bfad",
   "metadata": {
    "ExecuteTime": {
     "end_time": "2024-11-07T01:52:12.022060Z",
     "start_time": "2024-11-07T01:52:12.017069Z"
    }
   },
   "outputs": [
    {
     "name": "stdout",
     "output_type": "stream",
     "text": [
      "0번째 순자\t1번째 길동\t2번째 길자\t"
     ]
    }
   ],
   "source": [
    "for no, name in enumerate(names):\n",
    "    print('{}번째 {}'.format(no, name), end='\\t')"
   ]
  },
  {
   "cell_type": "code",
   "execution_count": 52,
   "id": "6be2934e",
   "metadata": {
    "ExecuteTime": {
     "end_time": "2024-11-07T01:54:28.281761Z",
     "start_time": "2024-11-07T01:54:28.276775Z"
    }
   },
   "outputs": [
    {
     "name": "stdout",
     "output_type": "stream",
     "text": [
      "1번째 순자\t2번째 길동\t3번째 길자\t"
     ]
    }
   ],
   "source": [
    "names = ['순자', '길동', '길자']\n",
    "\n",
    "for idx, name in enumerate(names):\n",
    "     print('{}번째 {}'.format(idx + 1, name), end='\\t')"
   ]
  },
  {
   "cell_type": "code",
   "execution_count": 54,
   "id": "31439178",
   "metadata": {
    "ExecuteTime": {
     "end_time": "2024-11-07T02:01:59.454504Z",
     "start_time": "2024-11-07T02:01:59.448521Z"
    }
   },
   "outputs": [
    {
     "name": "stdout",
     "output_type": "stream",
     "text": [
      "1.순자의 전화번호는010-9999-9999이고, 서울살아요\n",
      "2.길동의 전화번호는010-8888-8888이고, 인천살아요\n",
      "3.길자의 전화번호는010-7777-7777이고, 판교살아요\n"
     ]
    }
   ],
   "source": [
    "names = ['순자', '길동', '길자']\n",
    "tels = ['010-9999-9999', '010-8888-8888', '010-7777-7777']\n",
    "adds = ['서울','인천','판교']\n",
    "for idx in range(3):\n",
    "    print('{}.{}의 전화번호는{}이고, {}살아요'.format(idx+1, names[idx], tels[idx], adds[idx]))"
   ]
  },
  {
   "cell_type": "code",
   "execution_count": 58,
   "id": "8262eb92",
   "metadata": {
    "ExecuteTime": {
     "end_time": "2024-11-07T02:07:40.593432Z",
     "start_time": "2024-11-07T02:07:40.588451Z"
    }
   },
   "outputs": [
    {
     "name": "stdout",
     "output_type": "stream",
     "text": [
      "홍\n",
      "33\n",
      "신림\n",
      "name : 홍\n",
      "age : 33\n",
      "add : 신림\n"
     ]
    }
   ],
   "source": [
    "my_dic = {'name':'홍', 'age':33, 'add':'신림'}\n",
    "for data in my_dic.values(): #value값들만 추출\n",
    "    print(data)\n",
    "for key, value in my_dic.items(): #key와 value값들 추출\n",
    "    print(key,':', value)"
   ]
  },
  {
   "cell_type": "code",
   "execution_count": 59,
   "id": "01f0f125",
   "metadata": {
    "ExecuteTime": {
     "end_time": "2024-11-07T02:10:29.621744Z",
     "start_time": "2024-11-07T02:10:29.615760Z"
    }
   },
   "outputs": [
    {
     "data": {
      "text/plain": [
       "[(0, ('name', '홍')), (1, ('age', 33)), (2, ('add', '신림'))]"
      ]
     },
     "execution_count": 59,
     "metadata": {},
     "output_type": "execute_result"
    }
   ],
   "source": [
    "list(enumerate(my_dic.items()))"
   ]
  },
  {
   "cell_type": "code",
   "execution_count": 62,
   "id": "42bb01d2",
   "metadata": {
    "ExecuteTime": {
     "end_time": "2024-11-07T02:11:28.851899Z",
     "start_time": "2024-11-07T02:11:28.847902Z"
    }
   },
   "outputs": [
    {
     "name": "stdout",
     "output_type": "stream",
     "text": [
      "1.name : 홍\n",
      "2.age : 33\n",
      "3.add : 신림\n"
     ]
    }
   ],
   "source": [
    "for idx, (key, value) in enumerate(my_dic.items()):\n",
    "    print('{}.{} : {}'.format(idx+1, key, value))"
   ]
  },
  {
   "cell_type": "markdown",
   "id": "cd2f93a9",
   "metadata": {},
   "source": [
    "# 6. 연습문제"
   ]
  },
  {
   "cell_type": "markdown",
   "id": "fb73062d",
   "metadata": {},
   "source": [
    "다음 리스트가 주어졌을 경우 요구사항대로 코드를 작성하시오\n",
    "numbers = [1,2,3,4,5,6,7,8,9,10]"
   ]
  },
  {
   "cell_type": "markdown",
   "id": "8c29c45c",
   "metadata": {},
   "source": [
    "숫자 100을 맨 뒤에 추가하세요"
   ]
  },
  {
   "cell_type": "code",
   "execution_count": 80,
   "id": "ae3a47cb",
   "metadata": {
    "ExecuteTime": {
     "end_time": "2024-11-07T02:27:48.076582Z",
     "start_time": "2024-11-07T02:27:48.071585Z"
    }
   },
   "outputs": [
    {
     "data": {
      "text/plain": [
       "[1, 2, 3, 4, 5, 6, 7, 8, 9, 10, 100]"
      ]
     },
     "execution_count": 80,
     "metadata": {},
     "output_type": "execute_result"
    }
   ],
   "source": [
    "numbers = [1,2,3,4,5,6,7,8,9,10]\n",
    "numbers.append(100)\n",
    "numbers"
   ]
  },
  {
   "cell_type": "markdown",
   "id": "6cbdd4b8",
   "metadata": {},
   "source": [
    "다음 리스트를 numbers리스트 맨 뒤에 추가하세요\n",
    "data = [200, 300, 400, 500]\n"
   ]
  },
  {
   "cell_type": "code",
   "execution_count": 81,
   "id": "fc2fe0c5",
   "metadata": {
    "ExecuteTime": {
     "end_time": "2024-11-07T02:27:49.301037Z",
     "start_time": "2024-11-07T02:27:49.295025Z"
    }
   },
   "outputs": [
    {
     "data": {
      "text/plain": [
       "[1, 2, 3, 4, 5, 6, 7, 8, 9, 10, 100, 200, 300, 400, 500]"
      ]
     },
     "execution_count": 81,
     "metadata": {},
     "output_type": "execute_result"
    }
   ],
   "source": [
    "data = [200, 300, 400, 500]\n",
    "numbers.extend(data)\n",
    "numbers"
   ]
  },
  {
   "cell_type": "markdown",
   "id": "aad7472a",
   "metadata": {},
   "source": [
    "처음 다섯 개 숫자만 출력하세요"
   ]
  },
  {
   "cell_type": "code",
   "execution_count": 82,
   "id": "2ab41d7f",
   "metadata": {
    "ExecuteTime": {
     "end_time": "2024-11-07T02:27:50.276859Z",
     "start_time": "2024-11-07T02:27:50.270874Z"
    }
   },
   "outputs": [
    {
     "name": "stdout",
     "output_type": "stream",
     "text": [
      "1\n",
      "2\n",
      "3\n",
      "4\n",
      "5\n"
     ]
    },
    {
     "data": {
      "text/plain": [
       "[1, 2, 3, 4, 5]"
      ]
     },
     "execution_count": 82,
     "metadata": {},
     "output_type": "execute_result"
    }
   ],
   "source": [
    "for idx in range(5):\n",
    "    print(numbers[idx])\n",
    "\n",
    "numbers[:5]"
   ]
  },
  {
   "cell_type": "markdown",
   "id": "a4e8c850",
   "metadata": {},
   "source": [
    "리스트에서 짝수 번째 데이터만 출력하세요\n"
   ]
  },
  {
   "cell_type": "code",
   "execution_count": 83,
   "id": "61efdfc7",
   "metadata": {
    "ExecuteTime": {
     "end_time": "2024-11-07T02:27:51.219061Z",
     "start_time": "2024-11-07T02:27:51.215071Z"
    }
   },
   "outputs": [
    {
     "name": "stdout",
     "output_type": "stream",
     "text": [
      "2\n",
      "4\n",
      "6\n",
      "8\n",
      "10\n",
      "100\n",
      "200\n",
      "300\n",
      "400\n",
      "500\n"
     ]
    }
   ],
   "source": [
    "for data in numbers:\n",
    "    if data%2==0:\n",
    "        print(data)"
   ]
  },
  {
   "cell_type": "markdown",
   "id": "8f25c80c",
   "metadata": {},
   "source": [
    "짝수번째 데이터를 모두 0으로 바꾸세요"
   ]
  },
  {
   "cell_type": "code",
   "execution_count": 84,
   "id": "d9fb5794",
   "metadata": {
    "ExecuteTime": {
     "end_time": "2024-11-07T02:27:52.628512Z",
     "start_time": "2024-11-07T02:27:52.622528Z"
    }
   },
   "outputs": [
    {
     "data": {
      "text/plain": [
       "[1, 0, 3, 0, 5, 0, 7, 0, 9, 0, 0, 0, 0, 0, 0]"
      ]
     },
     "execution_count": 84,
     "metadata": {},
     "output_type": "execute_result"
    }
   ],
   "source": [
    "for idx, data in enumerate(numbers):\n",
    "    if data%2==0:\n",
    "        numbers[idx] = 0\n",
    "numbers"
   ]
  },
  {
   "cell_type": "markdown",
   "id": "d6e47fbe",
   "metadata": {},
   "source": [
    "데이터를 역순으로 나열하세요(내림차순 정렬이 아닙니다)"
   ]
  },
  {
   "cell_type": "code",
   "execution_count": 85,
   "id": "aca1678d",
   "metadata": {
    "ExecuteTime": {
     "end_time": "2024-11-07T02:28:13.632829Z",
     "start_time": "2024-11-07T02:28:13.627843Z"
    }
   },
   "outputs": [
    {
     "data": {
      "text/plain": [
       "[0, 0, 0, 0, 0, 0, 9, 0, 7, 0, 5, 0, 3, 0, 1]"
      ]
     },
     "execution_count": 85,
     "metadata": {},
     "output_type": "execute_result"
    }
   ],
   "source": [
    "numbers[::-1]"
   ]
  },
  {
   "cell_type": "markdown",
   "id": "579865cd",
   "metadata": {},
   "source": [
    "다음 딕셔너리 데이터가 주어졌을 경우 요구사항대로 코드를 작성하세요.\n",
    "member_info = {“name”:”홍길동”, “age”:20”, address”:”서울시 마포구“,\n",
    "“sore”:90}\n"
   ]
  },
  {
   "cell_type": "code",
   "execution_count": 95,
   "id": "8c514bc0",
   "metadata": {
    "ExecuteTime": {
     "end_time": "2024-11-07T02:31:30.504054Z",
     "start_time": "2024-11-07T02:31:30.500065Z"
    }
   },
   "outputs": [],
   "source": [
    "member_info = {\"name\":\"홍길동\", \"age\":20, \"address\":\"서울시 마포구\", \"score\":90}"
   ]
  },
  {
   "cell_type": "markdown",
   "id": "d5427040",
   "metadata": {
    "ExecuteTime": {
     "end_time": "2024-11-07T02:16:30.646765Z",
     "start_time": "2024-11-07T02:16:30.640759Z"
    }
   },
   "source": [
    "address값을 출력하세요"
   ]
  },
  {
   "cell_type": "code",
   "execution_count": 96,
   "id": "ac6ef132",
   "metadata": {
    "ExecuteTime": {
     "end_time": "2024-11-07T02:31:31.463777Z",
     "start_time": "2024-11-07T02:31:31.457794Z"
    }
   },
   "outputs": [
    {
     "data": {
      "text/plain": [
       "'서울시 마포구'"
      ]
     },
     "execution_count": 96,
     "metadata": {},
     "output_type": "execute_result"
    }
   ],
   "source": [
    "member_info['address']"
   ]
  },
  {
   "cell_type": "markdown",
   "id": "cde0cc3f",
   "metadata": {
    "ExecuteTime": {
     "end_time": "2024-11-07T02:16:45.865275Z",
     "start_time": "2024-11-07T02:16:45.860289Z"
    }
   },
   "source": [
    "score 를 출력하고 member_info 딕셔너리에서 삭제하세요.\n"
   ]
  },
  {
   "cell_type": "code",
   "execution_count": 97,
   "id": "21abbbd6",
   "metadata": {
    "ExecuteTime": {
     "end_time": "2024-11-07T02:31:32.339747Z",
     "start_time": "2024-11-07T02:31:32.334029Z"
    }
   },
   "outputs": [
    {
     "data": {
      "text/plain": [
       "90"
      ]
     },
     "execution_count": 97,
     "metadata": {},
     "output_type": "execute_result"
    }
   ],
   "source": [
    "member_info.pop('score')"
   ]
  },
  {
   "cell_type": "markdown",
   "id": "efb2a1f1",
   "metadata": {},
   "source": [
    "Address를 “서울시 서대문구”로 변경하세요"
   ]
  },
  {
   "cell_type": "code",
   "execution_count": 98,
   "id": "52983494",
   "metadata": {
    "ExecuteTime": {
     "end_time": "2024-11-07T02:31:59.145158Z",
     "start_time": "2024-11-07T02:31:59.140182Z"
    }
   },
   "outputs": [
    {
     "data": {
      "text/plain": [
       "{'name': '홍길동', 'age': 20, 'address': '서울시 서대문구'}"
      ]
     },
     "execution_count": 98,
     "metadata": {},
     "output_type": "execute_result"
    }
   ],
   "source": [
    "member_info['address'] = '서울시 서대문구'\n",
    "member_info"
   ]
  },
  {
   "cell_type": "markdown",
   "id": "aac9dca0",
   "metadata": {},
   "source": [
    "member_info 딕셔너리 데이터의 값을 리스트로 출력하세요"
   ]
  },
  {
   "cell_type": "code",
   "execution_count": 99,
   "id": "ff9aeec5",
   "metadata": {
    "ExecuteTime": {
     "end_time": "2024-11-07T02:32:20.840863Z",
     "start_time": "2024-11-07T02:32:20.834820Z"
    }
   },
   "outputs": [
    {
     "data": {
      "text/plain": [
       "['홍길동', 20, '서울시 서대문구']"
      ]
     },
     "execution_count": 99,
     "metadata": {},
     "output_type": "execute_result"
    }
   ],
   "source": [
    "list(member_info.values())"
   ]
  },
  {
   "cell_type": "markdown",
   "id": "2bc1c04e",
   "metadata": {},
   "source": [
    "다음 코드를 실행했을 때 출력되는 것은?\n",
    "L1 = (“orange”,”apple”,”banana”,”kiwi”)\n",
    "new_list = [i for i in L1 if len(i)>5]\n",
    "print(new_list)\n"
   ]
  },
  {
   "cell_type": "code",
   "execution_count": 101,
   "id": "b395531d",
   "metadata": {
    "ExecuteTime": {
     "end_time": "2024-11-07T02:33:35.776200Z",
     "start_time": "2024-11-07T02:33:35.771241Z"
    }
   },
   "outputs": [
    {
     "name": "stdout",
     "output_type": "stream",
     "text": [
      "['orange', 'banana']\n"
     ]
    }
   ],
   "source": [
    "L1 = ('orange','apple','banana','kiwi')\n",
    "new_list = [i for i in L1 if len(i)>5]\n",
    "print(new_list)"
   ]
  },
  {
   "cell_type": "markdown",
   "id": "04ee6e1e",
   "metadata": {},
   "source": [
    "다음 코드와 실행결과가 잘못 짝지어진 것은?\n",
    "① print(list(range(10))) - [0,1,2,3,4,5,6,7,8,9]\n",
    "② print(list(range(5,10))) - [5,6,7,8,9]\n",
    "③ print(list(range(10,0,-1))) - [9,8,7,6,5,4,3,2,1,0]\n",
    "④ print(list(range(10,20,2))) – [10,12,14,16,18]\n",
    "\n",
    "답 : 3"
   ]
  },
  {
   "cell_type": "markdown",
   "id": "f7ad3780",
   "metadata": {},
   "source": [
    "다음 구문에 의해 출력되는 것은?\n",
    "numbers_2d = [ [1,2,3,4,5], [10,20,30,40],[1,3,5],[2,] ]\n",
    "len(numbers_2d[3])"
   ]
  },
  {
   "cell_type": "code",
   "execution_count": 102,
   "id": "12a0e40c",
   "metadata": {
    "ExecuteTime": {
     "end_time": "2024-11-07T02:34:46.853212Z",
     "start_time": "2024-11-07T02:34:46.848226Z"
    }
   },
   "outputs": [
    {
     "data": {
      "text/plain": [
       "1"
      ]
     },
     "execution_count": 102,
     "metadata": {},
     "output_type": "execute_result"
    }
   ],
   "source": [
    "numbers_2d = [ [1,2,3,4,5], [10,20,30,40],[1,3,5],[2,] ]\n",
    "len(numbers_2d[3])"
   ]
  },
  {
   "cell_type": "markdown",
   "id": "53348264",
   "metadata": {},
   "source": [
    "다음 코드의 실행결과가 나올 수 있는 빈칸에 들어갈 함수 이름은?\n",
    "numbers = [1,2,3,4,5]\n",
    "numbers.__________([10,20,30,40,50])\n",
    "numbers\n",
    "결과 : [1,2,3,4,5,10,20,30,40,50]\n",
    "답 : extend"
   ]
  },
  {
   "cell_type": "markdown",
   "id": "dcece752",
   "metadata": {
    "ExecuteTime": {
     "end_time": "2024-11-07T02:36:15.959787Z",
     "start_time": "2024-11-07T02:36:15.955807Z"
    }
   },
   "source": [
    "다음 구문을 실행할 때 결과는 ?\n",
    "numbers = list(range(10))\n",
    "numbers[ : : 2]= [0] * len(numbers[ : : 2])\n",
    "print(numbers)"
   ]
  },
  {
   "cell_type": "code",
   "execution_count": 104,
   "id": "42fdc68e",
   "metadata": {
    "ExecuteTime": {
     "end_time": "2024-11-07T02:37:14.711740Z",
     "start_time": "2024-11-07T02:37:14.706753Z"
    }
   },
   "outputs": [
    {
     "name": "stdout",
     "output_type": "stream",
     "text": [
      "[0, 1, 0, 3, 0, 5, 0, 7, 0, 9]\n"
     ]
    }
   ],
   "source": [
    "numbers = list(range(10))\n",
    "numbers[ : : 2]= [0] * len(numbers[ : : 2])\n",
    "print(numbers)"
   ]
  },
  {
   "cell_type": "markdown",
   "id": "c8dde1ee",
   "metadata": {},
   "source": [
    "다음 구문을 실행할 때 결과는 ?\n",
    "numbers = [0,1,2,3,4,5,6,7,8,9]\n",
    "numbers[ : : 2]= numbers[5:]\n",
    "print(numbers)"
   ]
  },
  {
   "cell_type": "code",
   "execution_count": 105,
   "id": "6c04f0db",
   "metadata": {
    "ExecuteTime": {
     "end_time": "2024-11-07T02:38:13.027680Z",
     "start_time": "2024-11-07T02:38:13.022694Z"
    }
   },
   "outputs": [
    {
     "name": "stdout",
     "output_type": "stream",
     "text": [
      "[5, 1, 6, 3, 7, 5, 8, 7, 9, 9]\n"
     ]
    }
   ],
   "source": [
    "numbers = [0,1,2,3,4,5,6,7,8,9]\n",
    "numbers[ : : 2]= numbers[5:]\n",
    "print(numbers)"
   ]
  },
  {
   "cell_type": "markdown",
   "id": "f73f7cc7",
   "metadata": {},
   "source": [
    "다음 구문을 실행할 때 결과는 ?\n",
    "numbers = [0, 1, 2, 3, 4, 5, 6, 7, 8, 9]\n",
    "numbers[ : : 2]= numbers[:5]\n",
    "print(numbers)"
   ]
  },
  {
   "cell_type": "code",
   "execution_count": 106,
   "id": "d005ca57",
   "metadata": {
    "ExecuteTime": {
     "end_time": "2024-11-07T02:38:36.932187Z",
     "start_time": "2024-11-07T02:38:36.927173Z"
    }
   },
   "outputs": [
    {
     "name": "stdout",
     "output_type": "stream",
     "text": [
      "[0, 1, 1, 3, 2, 5, 3, 7, 4, 9]\n"
     ]
    }
   ],
   "source": [
    "numbers = [0, 1, 2, 3, 4, 5, 6, 7, 8, 9]\n",
    "numbers[ : : 2]= numbers[:5]\n",
    "print(numbers)"
   ]
  },
  {
   "cell_type": "markdown",
   "id": "7844a7a1",
   "metadata": {},
   "source": [
    "다음 데이터에서 10을 출력할 수 없는 구문은?\n",
    "my_dic = {“a”:10, “b”:20, “c”:30}\n",
    "① my_dic[0]\n",
    "② my_dic[‘a’]\n",
    "③ list(my_dic.items())[0][1]\n",
    "④ list(my_dic.values())[0]\n",
    "⑤ my_dic.get(‘a’)\n",
    "답 : 1"
   ]
  },
  {
   "cell_type": "markdown",
   "id": "e5b87140",
   "metadata": {},
   "source": [
    "다음 프로그램의 결과를 출력하시오\n",
    "fruits = [ ‘apple’, ‘banana’, ‘orange’]\n",
    "x, y, z = fruits\n",
    "print(x)\n",
    "print(y)\n",
    "Print(z)"
   ]
  },
  {
   "cell_type": "code",
   "execution_count": 109,
   "id": "99133a60",
   "metadata": {
    "ExecuteTime": {
     "end_time": "2024-11-07T02:40:09.183281Z",
     "start_time": "2024-11-07T02:40:09.178294Z"
    }
   },
   "outputs": [
    {
     "name": "stdout",
     "output_type": "stream",
     "text": [
      "apple\n",
      "banana\n",
      "orange\n"
     ]
    }
   ],
   "source": [
    "fruits = [ 'apple', 'banana', 'orange']\n",
    "x, y, z = fruits\n",
    "print(x)\n",
    "print(y)\n",
    "print(z)"
   ]
  },
  {
   "cell_type": "markdown",
   "id": "bbf040b6",
   "metadata": {},
   "source": [
    " 다음 프로그램의 결과를 출력하시오\n",
    "fruits = [ ‘apple’, ‘banana’, ‘orange’]\n",
    "print(len(fruits))"
   ]
  },
  {
   "cell_type": "code",
   "execution_count": 110,
   "id": "5eea34c3",
   "metadata": {
    "ExecuteTime": {
     "end_time": "2024-11-07T02:40:41.991331Z",
     "start_time": "2024-11-07T02:40:41.987335Z"
    }
   },
   "outputs": [
    {
     "name": "stdout",
     "output_type": "stream",
     "text": [
      "3\n"
     ]
    }
   ],
   "source": [
    "fruits = ['apple', 'banana', 'orange']\n",
    "print(len(fruits))"
   ]
  },
  {
   "cell_type": "markdown",
   "id": "b80a4d65",
   "metadata": {},
   "source": [
    "파이썬에서 함수를 만들기 위해 선언하는 단어는? 답 : def"
   ]
  }
 ],
 "metadata": {
  "kernelspec": {
   "display_name": "Python 3 (ipykernel)",
   "language": "python",
   "name": "python3"
  },
  "language_info": {
   "codemirror_mode": {
    "name": "ipython",
    "version": 3
   },
   "file_extension": ".py",
   "mimetype": "text/x-python",
   "name": "python",
   "nbconvert_exporter": "python",
   "pygments_lexer": "ipython3",
   "version": "3.10.9"
  },
  "toc": {
   "base_numbering": 1,
   "nav_menu": {},
   "number_sections": false,
   "sideBar": true,
   "skip_h1_title": false,
   "title_cell": "Table of Contents",
   "title_sidebar": "Contents",
   "toc_cell": false,
   "toc_position": {
    "height": "calc(100% - 180px)",
    "left": "10px",
    "top": "150px",
    "width": "165px"
   },
   "toc_section_display": true,
   "toc_window_display": true
  }
 },
 "nbformat": 4,
 "nbformat_minor": 5
}
