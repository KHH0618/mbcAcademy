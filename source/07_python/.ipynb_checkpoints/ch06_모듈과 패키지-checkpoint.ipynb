{
 "cells": [
  {
   "cell_type": "markdown",
   "id": "637cac17",
   "metadata": {},
   "source": [
    "<b><font color=\"red\" size=\"6\">ch06. 모듈과 패키지</font></b>\n",
    "# 1절. 파이썬 표준 모듈 사용\n",
    "- 모듈 : 함수, 변수, 클래스 등을 담고있는 파이썬 코드 파일(*.py)\n",
    "- 파이썬 표준 모듈 200여개는 파이썬 인터프리터와 함께 install 됨\n",
    "- anaconda는 1500개 이상의 패키지 install(정확한 갯수는 버전마다 상이)"
   ]
  },
  {
   "cell_type": "code",
   "execution_count": 1,
   "id": "2f91b013",
   "metadata": {
    "ExecuteTime": {
     "end_time": "2024-11-12T07:37:37.241627Z",
     "start_time": "2024-11-12T07:37:37.233676Z"
    }
   },
   "outputs": [
    {
     "data": {
      "text/plain": [
       "'Tue Nov 12 16:37:37 2024'"
      ]
     },
     "execution_count": 1,
     "metadata": {},
     "output_type": "execute_result"
    }
   ],
   "source": [
    "# 1. import 모듈명 : 모듈안의 함수, 클래스, 변수를 모듈명.함수명(), .. 사용\n",
    "import time # time 모듈안에 함수, 변수, 클래스가 메모리 로드\n",
    "time.ctime()"
   ]
  },
  {
   "cell_type": "code",
   "execution_count": 2,
   "id": "332370e9",
   "metadata": {
    "ExecuteTime": {
     "end_time": "2024-11-12T07:37:37.478138Z",
     "start_time": "2024-11-12T07:37:37.473152Z"
    }
   },
   "outputs": [
    {
     "data": {
      "text/plain": [
       "1731397057.4741688"
      ]
     },
     "execution_count": 2,
     "metadata": {},
     "output_type": "execute_result"
    }
   ],
   "source": [
    "time.time() # 1970.1.1 부터의 밀리세컨"
   ]
  },
  {
   "cell_type": "code",
   "execution_count": 3,
   "id": "bd7cc86b",
   "metadata": {
    "ExecuteTime": {
     "end_time": "2024-11-12T07:37:37.768936Z",
     "start_time": "2024-11-12T07:37:37.765733Z"
    }
   },
   "outputs": [],
   "source": [
    "del time # time 모듈을 메모리에서 nuload"
   ]
  },
  {
   "cell_type": "code",
   "execution_count": 4,
   "id": "21c8dfd0",
   "metadata": {
    "ExecuteTime": {
     "end_time": "2024-11-12T07:37:38.062471Z",
     "start_time": "2024-11-12T07:37:38.057473Z"
    }
   },
   "outputs": [
    {
     "data": {
      "text/plain": [
       "'Tue Nov 12 16:37:38 2024'"
      ]
     },
     "execution_count": 4,
     "metadata": {},
     "output_type": "execute_result"
    }
   ],
   "source": [
    "# 2. from 모듈명 (A) import 함수 또는 클래스 또는 변수(B) : A모듈안에 B만 로드\n",
    "#    from 패키지(A) import 모듈(B) : A패키지 안의 B모듈을 로드\n",
    "#    from 패키지(A).모듈명(B) import 함수명(C) : A안의 B안의 C함수만 로드\n",
    "from time import ctime, time\n",
    "ctime()"
   ]
  },
  {
   "cell_type": "code",
   "execution_count": 5,
   "id": "88919619",
   "metadata": {
    "ExecuteTime": {
     "end_time": "2024-11-12T07:37:38.346277Z",
     "start_time": "2024-11-12T07:37:38.341179Z"
    }
   },
   "outputs": [
    {
     "data": {
      "text/plain": [
       "1731397058.3432848"
      ]
     },
     "execution_count": 5,
     "metadata": {},
     "output_type": "execute_result"
    }
   ],
   "source": [
    "time()"
   ]
  },
  {
   "cell_type": "code",
   "execution_count": 6,
   "id": "c078b238",
   "metadata": {
    "ExecuteTime": {
     "end_time": "2024-11-12T07:37:38.612570Z",
     "start_time": "2024-11-12T07:37:38.609571Z"
    }
   },
   "outputs": [],
   "source": [
    "del ctime\n",
    "del time"
   ]
  },
  {
   "cell_type": "code",
   "execution_count": 7,
   "id": "c57bf785",
   "metadata": {
    "ExecuteTime": {
     "end_time": "2024-11-12T07:37:38.863536Z",
     "start_time": "2024-11-12T07:37:38.857562Z"
    }
   },
   "outputs": [
    {
     "data": {
      "text/plain": [
       "'Tue Nov 12 16:37:38 2024'"
      ]
     },
     "execution_count": 7,
     "metadata": {},
     "output_type": "execute_result"
    }
   ],
   "source": [
    "# 3. import 모듈명 as 별칭 : 모듈을 메모리에서 로드하고 별칭으로 사용\n",
    "import time as t\n",
    "t.ctime()"
   ]
  },
  {
   "cell_type": "code",
   "execution_count": 8,
   "id": "82bb0a19",
   "metadata": {
    "ExecuteTime": {
     "end_time": "2024-11-12T07:37:39.119446Z",
     "start_time": "2024-11-12T07:37:39.114148Z"
    }
   },
   "outputs": [
    {
     "data": {
      "text/plain": [
       "1731397059.115146"
      ]
     },
     "execution_count": 8,
     "metadata": {},
     "output_type": "execute_result"
    }
   ],
   "source": [
    "t.time()"
   ]
  },
  {
   "cell_type": "code",
   "execution_count": 9,
   "id": "9ab16ab9",
   "metadata": {
    "ExecuteTime": {
     "end_time": "2024-11-12T07:37:39.358259Z",
     "start_time": "2024-11-12T07:37:39.347141Z"
    }
   },
   "outputs": [],
   "source": [
    "del t"
   ]
  },
  {
   "cell_type": "code",
   "execution_count": 10,
   "id": "cae93ce7",
   "metadata": {
    "ExecuteTime": {
     "end_time": "2024-11-12T07:37:39.576080Z",
     "start_time": "2024-11-12T07:37:39.568990Z"
    }
   },
   "outputs": [
    {
     "data": {
      "text/plain": [
       "'Tue Nov 12 16:37:39 2024'"
      ]
     },
     "execution_count": 10,
     "metadata": {},
     "output_type": "execute_result"
    }
   ],
   "source": [
    "# 4.from 모듈명 import 함수명 as 별칭\n",
    "#   from 패키지명 import 모듈명 as 별칭\n",
    "#   from 패키지명.모듈명 import 함수명 as 별칭\n",
    "from time import ctime as ct, time as t\n",
    "ct()"
   ]
  },
  {
   "cell_type": "code",
   "execution_count": 11,
   "id": "cb4864ec",
   "metadata": {
    "ExecuteTime": {
     "end_time": "2024-11-12T07:37:39.755804Z",
     "start_time": "2024-11-12T07:37:39.746245Z"
    }
   },
   "outputs": [
    {
     "data": {
      "text/plain": [
       "1731397059.7462459"
      ]
     },
     "execution_count": 11,
     "metadata": {},
     "output_type": "execute_result"
    }
   ],
   "source": [
    "t()"
   ]
  },
  {
   "cell_type": "markdown",
   "id": "e37c64b4",
   "metadata": {},
   "source": [
    "```\n",
    "import A - A 모듈을 로드\n",
    "import A as B - A모듈을 B라는 이름으로 가져옴\n",
    "from A import B - A 모듈안의 B함수(클래스 or 변수)를 가져옴\n",
    "from A import B as C - A 모듈안의 B함수(클래스 or 변수)를 C이름으로 가져옴\n",
    "\n",
    "from A import B - A패키지 안에 B모듈을 가져옴\n",
    "from A.B import C - A패키지 안에 B모듈 안에 C함수(클래스 or 변수)를 가져옴\n",
    "from A import B as C - A패키지 안에 B모듈을 C이름으로 가져옴\n",
    "from A.B import C as D - A패키지 안에 B모듈 안에 C함수(클래스 or 변수)를 D이름으로 가져옴\n",
    "```"
   ]
  },
  {
   "cell_type": "code",
   "execution_count": 12,
   "id": "68844af8",
   "metadata": {
    "ExecuteTime": {
     "end_time": "2024-11-12T07:37:40.110478Z",
     "start_time": "2024-11-12T07:37:40.104524Z"
    }
   },
   "outputs": [
    {
     "data": {
      "text/plain": [
       "['_STRUCT_TM_ITEMS',\n",
       " '__doc__',\n",
       " '__loader__',\n",
       " '__name__',\n",
       " '__package__',\n",
       " '__spec__',\n",
       " 'altzone',\n",
       " 'asctime',\n",
       " 'ctime',\n",
       " 'daylight',\n",
       " 'get_clock_info',\n",
       " 'gmtime',\n",
       " 'localtime',\n",
       " 'mktime',\n",
       " 'monotonic',\n",
       " 'monotonic_ns',\n",
       " 'perf_counter',\n",
       " 'perf_counter_ns',\n",
       " 'process_time',\n",
       " 'process_time_ns',\n",
       " 'sleep',\n",
       " 'strftime',\n",
       " 'strptime',\n",
       " 'struct_time',\n",
       " 'thread_time',\n",
       " 'thread_time_ns',\n",
       " 'time',\n",
       " 'time_ns',\n",
       " 'timezone',\n",
       " 'tzname']"
      ]
     },
     "execution_count": 12,
     "metadata": {},
     "output_type": "execute_result"
    }
   ],
   "source": [
    "import time\n",
    "dir(time) # time 내의 변수, 함수, 클래스 등이 list로 출력"
   ]
  },
  {
   "cell_type": "markdown",
   "id": "1218f4ff",
   "metadata": {},
   "source": [
    "# 2절. 사용자 정의 모듈\n",
    "- 함수나 클래스등을 파이썬 파일에 저장해서 모듈을 만들고 재사용할 수 있음\n",
    "- 모듈을 가져오는 순서\n",
    "- 모듈을 가져오는 순서 (1)표준모듈 (2)sys.path변수에 저장된 경로"
   ]
  },
  {
   "cell_type": "code",
   "execution_count": 13,
   "id": "9c01e487",
   "metadata": {
    "ExecuteTime": {
     "end_time": "2024-11-12T07:37:40.462407Z",
     "start_time": "2024-11-12T07:37:40.457416Z"
    }
   },
   "outputs": [
    {
     "data": {
      "text/plain": [
       "['D:\\\\KHH\\\\ai\\\\source\\\\07_python',\n",
       " 'C:\\\\Users\\\\4545\\\\anaconda3\\\\python310.zip',\n",
       " 'C:\\\\Users\\\\4545\\\\anaconda3\\\\DLLs',\n",
       " 'C:\\\\Users\\\\4545\\\\anaconda3\\\\lib',\n",
       " 'C:\\\\Users\\\\4545\\\\anaconda3',\n",
       " '',\n",
       " 'C:\\\\Users\\\\4545\\\\anaconda3\\\\lib\\\\site-packages',\n",
       " 'C:\\\\Users\\\\4545\\\\anaconda3\\\\lib\\\\site-packages\\\\win32',\n",
       " 'C:\\\\Users\\\\4545\\\\anaconda3\\\\lib\\\\site-packages\\\\win32\\\\lib',\n",
       " 'C:\\\\Users\\\\4545\\\\anaconda3\\\\lib\\\\site-packages\\\\Pythonwin',\n",
       " 'D:\\\\KHH\\\\ai\\\\source\\\\pylib']"
      ]
     },
     "execution_count": 13,
     "metadata": {},
     "output_type": "execute_result"
    }
   ],
   "source": [
    "# 사용자 정의 모듈을 저장할 폴더 : d:/KHH/ai/sourc/pylib\n",
    "import sys\n",
    "# dir(sys)\n",
    "sys.path.append(r'D:\\KHH\\ai\\source\\pylib')\n",
    "sys.path"
   ]
  },
  {
   "cell_type": "code",
   "execution_count": 14,
   "id": "9d5e4d4c",
   "metadata": {
    "ExecuteTime": {
     "end_time": "2024-11-12T07:37:40.638650Z",
     "start_time": "2024-11-12T07:37:40.632645Z"
    }
   },
   "outputs": [],
   "source": [
    "# 1. import 모듈명\n",
    "import fibonacci"
   ]
  },
  {
   "cell_type": "code",
   "execution_count": 15,
   "id": "ab6e596b",
   "metadata": {
    "ExecuteTime": {
     "end_time": "2024-11-12T07:37:40.821980Z",
     "start_time": "2024-11-12T07:37:40.816920Z"
    }
   },
   "outputs": [
    {
     "name": "stdout",
     "output_type": "stream",
     "text": [
      "0 1 1 2 3 5 8 13 21 34 55 89 \n"
     ]
    }
   ],
   "source": [
    "fibonacci.fibo_print(100)"
   ]
  },
  {
   "cell_type": "code",
   "execution_count": 16,
   "id": "a73668f2",
   "metadata": {
    "ExecuteTime": {
     "end_time": "2024-11-12T07:37:41.006366Z",
     "start_time": "2024-11-12T07:37:40.996320Z"
    }
   },
   "outputs": [
    {
     "data": {
      "text/plain": [
       "[0, 1, 1, 2, 3, 5, 8, 13, 21, 34, 55, 89]"
      ]
     },
     "execution_count": 16,
     "metadata": {},
     "output_type": "execute_result"
    }
   ],
   "source": [
    "fibonacci.fibo_return(100)"
   ]
  },
  {
   "cell_type": "code",
   "execution_count": 17,
   "id": "12cb7061",
   "metadata": {
    "ExecuteTime": {
     "end_time": "2024-11-12T07:37:41.308773Z",
     "start_time": "2024-11-12T07:37:41.185248Z"
    }
   },
   "outputs": [
    {
     "name": "stdout",
     "output_type": "stream",
     "text": [
      "1. print test : 0 1 1 2 3 5 8 13 21 34 55 89 144 \n",
      "2. return list test [0, 1, 1, 2, 3, 5, 8, 13, 21, 34, 55, 89, 144]\n"
     ]
    }
   ],
   "source": [
    "! python d:/KHH/ai/source/pylib/fibonacci.py 200"
   ]
  },
  {
   "cell_type": "code",
   "execution_count": 18,
   "id": "193ea5f4",
   "metadata": {
    "ExecuteTime": {
     "end_time": "2024-11-12T07:37:41.365598Z",
     "start_time": "2024-11-12T07:37:41.361609Z"
    }
   },
   "outputs": [],
   "source": [
    "del fibonacci"
   ]
  },
  {
   "cell_type": "code",
   "execution_count": 19,
   "id": "05ecca48",
   "metadata": {
    "ExecuteTime": {
     "end_time": "2024-11-12T07:37:41.556548Z",
     "start_time": "2024-11-12T07:37:41.545390Z"
    }
   },
   "outputs": [
    {
     "name": "stdout",
     "output_type": "stream",
     "text": [
      "0 1 1 2 3 5 8 13 21 34 55 89 144 \n"
     ]
    }
   ],
   "source": [
    "# 2. from 모듈명 import 함수명\n",
    "from fibonacci import fibo_print, fibo_return\n",
    "fibo_print(150)"
   ]
  },
  {
   "cell_type": "code",
   "execution_count": 20,
   "id": "1e181449",
   "metadata": {
    "ExecuteTime": {
     "end_time": "2024-11-12T07:37:41.743901Z",
     "start_time": "2024-11-12T07:37:41.736797Z"
    }
   },
   "outputs": [
    {
     "data": {
      "text/plain": [
       "[0, 1, 1, 2, 3, 5, 8, 13, 21, 34, 55, 89, 144]"
      ]
     },
     "execution_count": 20,
     "metadata": {},
     "output_type": "execute_result"
    }
   ],
   "source": [
    "fibo_return(153)"
   ]
  },
  {
   "cell_type": "code",
   "execution_count": 21,
   "id": "9fcebe9c",
   "metadata": {
    "ExecuteTime": {
     "end_time": "2024-11-12T07:37:41.940957Z",
     "start_time": "2024-11-12T07:37:41.936940Z"
    }
   },
   "outputs": [],
   "source": [
    "del fibo_return\n",
    "del fibo_print"
   ]
  },
  {
   "cell_type": "code",
   "execution_count": 22,
   "id": "d8417738",
   "metadata": {
    "ExecuteTime": {
     "end_time": "2024-11-12T07:37:42.133980Z",
     "start_time": "2024-11-12T07:37:42.128994Z"
    }
   },
   "outputs": [
    {
     "name": "stdout",
     "output_type": "stream",
     "text": [
      "0 1 1 2 3 5 8 13 21 34 55 89 \n"
     ]
    }
   ],
   "source": [
    "# 3. import 모듈명 as 별칭\n",
    "import fibonacci as f\n",
    "f.fibo_print(100)"
   ]
  },
  {
   "cell_type": "code",
   "execution_count": 23,
   "id": "4132aefe",
   "metadata": {
    "ExecuteTime": {
     "end_time": "2024-11-12T07:37:42.311440Z",
     "start_time": "2024-11-12T07:37:42.296191Z"
    }
   },
   "outputs": [
    {
     "data": {
      "text/plain": [
       "[0, 1, 1, 2, 3, 5, 8, 13, 21, 34, 55, 89]"
      ]
     },
     "execution_count": 23,
     "metadata": {},
     "output_type": "execute_result"
    }
   ],
   "source": [
    "f.fibo_return(100)"
   ]
  },
  {
   "cell_type": "code",
   "execution_count": 24,
   "id": "d90cd05c",
   "metadata": {
    "ExecuteTime": {
     "end_time": "2024-11-12T07:37:42.502199Z",
     "start_time": "2024-11-12T07:37:42.498210Z"
    }
   },
   "outputs": [],
   "source": [
    "del f # import 된 모듈을 unload"
   ]
  },
  {
   "cell_type": "code",
   "execution_count": 25,
   "id": "b6b71c64",
   "metadata": {
    "ExecuteTime": {
     "end_time": "2024-11-12T07:37:42.678097Z",
     "start_time": "2024-11-12T07:37:42.675105Z"
    }
   },
   "outputs": [],
   "source": [
    "# 4. from 모듈명 import 함수명 as 별칭\n",
    "from fibonacci import fibo_print as fibop"
   ]
  },
  {
   "cell_type": "code",
   "execution_count": 26,
   "id": "99a699fc",
   "metadata": {
    "ExecuteTime": {
     "end_time": "2024-11-12T07:37:42.869454Z",
     "start_time": "2024-11-12T07:37:42.865115Z"
    }
   },
   "outputs": [
    {
     "name": "stdout",
     "output_type": "stream",
     "text": [
      "0 1 1 2 3 5 8 13 21 34 55 89 \n"
     ]
    }
   ],
   "source": [
    "fibop(100)"
   ]
  },
  {
   "cell_type": "code",
   "execution_count": 27,
   "id": "6172b0be",
   "metadata": {
    "ExecuteTime": {
     "end_time": "2024-11-12T07:37:43.063092Z",
     "start_time": "2024-11-12T07:37:43.059103Z"
    }
   },
   "outputs": [],
   "source": [
    "del fibop"
   ]
  },
  {
   "cell_type": "code",
   "execution_count": 28,
   "id": "3dd478fd",
   "metadata": {
    "ExecuteTime": {
     "end_time": "2024-11-12T07:37:43.263093Z",
     "start_time": "2024-11-12T07:37:43.258117Z"
    }
   },
   "outputs": [],
   "source": [
    "import info"
   ]
  },
  {
   "cell_type": "code",
   "execution_count": 29,
   "id": "d560214f",
   "metadata": {
    "ExecuteTime": {
     "end_time": "2024-11-12T07:37:43.446331Z",
     "start_time": "2024-11-12T07:37:43.441175Z"
    }
   },
   "outputs": [
    {
     "name": "stdout",
     "output_type": "stream",
     "text": [
      "3.141592\n"
     ]
    }
   ],
   "source": [
    "print(info.PI)"
   ]
  },
  {
   "cell_type": "code",
   "execution_count": 30,
   "id": "3ae8e5ef",
   "metadata": {
    "ExecuteTime": {
     "end_time": "2024-11-12T07:37:43.636915Z",
     "start_time": "2024-11-12T07:37:43.632954Z"
    }
   },
   "outputs": [],
   "source": [
    "obj = info.Cal(10,5)"
   ]
  },
  {
   "cell_type": "code",
   "execution_count": 31,
   "id": "72f9e7da",
   "metadata": {
    "ExecuteTime": {
     "end_time": "2024-11-12T07:37:43.841780Z",
     "start_time": "2024-11-12T07:37:43.836794Z"
    }
   },
   "outputs": [
    {
     "name": "stdout",
     "output_type": "stream",
     "text": [
      "True\n",
      "add test : 15\n",
      "sub test : 5\n"
     ]
    }
   ],
   "source": [
    "print(isinstance(obj, info.Cal))\n",
    "print('add test :', obj.add())\n",
    "print('sub test :', obj.sub())"
   ]
  },
  {
   "cell_type": "code",
   "execution_count": 32,
   "id": "dc50a392",
   "metadata": {
    "ExecuteTime": {
     "end_time": "2024-11-12T07:37:44.035094Z",
     "start_time": "2024-11-12T07:37:44.030080Z"
    }
   },
   "outputs": [],
   "source": [
    "del info"
   ]
  },
  {
   "cell_type": "code",
   "execution_count": 33,
   "id": "62309b3e",
   "metadata": {
    "ExecuteTime": {
     "end_time": "2024-11-12T07:37:44.217869Z",
     "start_time": "2024-11-12T07:37:44.212817Z"
    }
   },
   "outputs": [],
   "source": [
    "import info as i\n",
    "obj = i.Cal(10,5)"
   ]
  },
  {
   "cell_type": "code",
   "execution_count": 34,
   "id": "b7015556",
   "metadata": {
    "ExecuteTime": {
     "end_time": "2024-11-12T07:37:44.394071Z",
     "start_time": "2024-11-12T07:37:44.388969Z"
    }
   },
   "outputs": [],
   "source": [
    "del i"
   ]
  },
  {
   "cell_type": "code",
   "execution_count": 35,
   "id": "f1c6c1e5",
   "metadata": {
    "ExecuteTime": {
     "end_time": "2024-11-12T07:37:44.577810Z",
     "start_time": "2024-11-12T07:37:44.573821Z"
    }
   },
   "outputs": [],
   "source": [
    "from info import Cal"
   ]
  },
  {
   "cell_type": "code",
   "execution_count": 36,
   "id": "7e11ebc9",
   "metadata": {
    "ExecuteTime": {
     "end_time": "2024-11-12T07:37:44.779085Z",
     "start_time": "2024-11-12T07:37:44.774098Z"
    }
   },
   "outputs": [
    {
     "name": "stdout",
     "output_type": "stream",
     "text": [
      "obj.num1 : 10\n",
      "obj.num2 : 5\n",
      "obj.add() : 15\n",
      "obj.sub() : 5\n"
     ]
    }
   ],
   "source": [
    "obj = Cal(10,5)\n",
    "print ('obj.num1 :', obj.num1)\n",
    "print ('obj.num2 :', obj.num2)\n",
    "print ('obj.add() :', obj.add())\n",
    "print ('obj.sub() :', obj.sub())"
   ]
  },
  {
   "cell_type": "code",
   "execution_count": 37,
   "id": "b280b4b3",
   "metadata": {
    "ExecuteTime": {
     "end_time": "2024-11-12T07:37:44.963168Z",
     "start_time": "2024-11-12T07:37:44.958181Z"
    }
   },
   "outputs": [
    {
     "name": "stdout",
     "output_type": "stream",
     "text": [
      "obj.num1 : 10\n",
      "obj.num2 : 5\n",
      "obj.add() : 15\n",
      "obj.sub() : 5\n"
     ]
    }
   ],
   "source": [
    "from info import Cal as Calculate\n",
    "obj = Calculate(10,5)\n",
    "print ('obj.num1 :', obj.num1)\n",
    "print ('obj.num2 :', obj.num2)\n",
    "print ('obj.add() :', obj.add())\n",
    "print ('obj.sub() :', obj.sub())"
   ]
  },
  {
   "cell_type": "markdown",
   "id": "8e42b16c",
   "metadata": {},
   "source": [
    "# 3절. 패키지\n",
    "- 모듈들이 들어있는 폴더"
   ]
  },
  {
   "cell_type": "code",
   "execution_count": 38,
   "id": "f8be0494",
   "metadata": {
    "ExecuteTime": {
     "end_time": "2024-11-12T07:37:45.330475Z",
     "start_time": "2024-11-12T07:37:45.325488Z"
    }
   },
   "outputs": [
    {
     "name": "stdout",
     "output_type": "stream",
     "text": [
      "sample_pac 패키지를 로드했는지 확인하는 print 입니다\n"
     ]
    }
   ],
   "source": [
    "# 상위 패키지를 import 한다고 하위 패키지가 import 되지 않습니다\n",
    "import sample_pac"
   ]
  },
  {
   "cell_type": "code",
   "execution_count": 39,
   "id": "9cf9fb49",
   "metadata": {
    "ExecuteTime": {
     "end_time": "2024-11-12T07:37:45.509364Z",
     "start_time": "2024-11-12T07:37:45.496321Z"
    }
   },
   "outputs": [
    {
     "name": "stdout",
     "output_type": "stream",
     "text": [
      "sample_pac 패키지 안의 ab 패키지가 로드 되었습니다.\n"
     ]
    }
   ],
   "source": [
    "import sample_pac.ab"
   ]
  },
  {
   "cell_type": "code",
   "execution_count": 40,
   "id": "ef10635d",
   "metadata": {
    "ExecuteTime": {
     "end_time": "2024-11-12T07:37:45.714421Z",
     "start_time": "2024-11-12T07:37:45.709433Z"
    }
   },
   "outputs": [
    {
     "name": "stdout",
     "output_type": "stream",
     "text": [
      "sample_pac 패키지 안의 cd 패키지가 로드 되었습니다.\n"
     ]
    }
   ],
   "source": [
    "from sample_pac import cd"
   ]
  },
  {
   "cell_type": "code",
   "execution_count": 41,
   "id": "64a8ecde",
   "metadata": {
    "ExecuteTime": {
     "end_time": "2024-11-12T07:37:45.905641Z",
     "start_time": "2024-11-12T07:37:45.900671Z"
    }
   },
   "outputs": [
    {
     "name": "stdout",
     "output_type": "stream",
     "text": [
      "D:\\KHH\\ai\\source\\pylib\\sample_pac\\__init__.py\n"
     ]
    }
   ],
   "source": [
    "print(sample_pac.__file__)"
   ]
  },
  {
   "cell_type": "code",
   "execution_count": 42,
   "id": "d79b97b8",
   "metadata": {
    "ExecuteTime": {
     "end_time": "2024-11-12T07:37:46.106430Z",
     "start_time": "2024-11-12T07:37:46.096127Z"
    }
   },
   "outputs": [
    {
     "name": "stdout",
     "output_type": "stream",
     "text": [
      "['D:\\\\KHH\\\\ai\\\\source\\\\pylib\\\\sample_pac']\n"
     ]
    }
   ],
   "source": [
    "print(sample_pac.__path__)"
   ]
  },
  {
   "cell_type": "code",
   "execution_count": 43,
   "id": "0346da7c",
   "metadata": {
    "ExecuteTime": {
     "end_time": "2024-11-12T07:37:46.289239Z",
     "start_time": "2024-11-12T07:37:46.285250Z"
    }
   },
   "outputs": [],
   "source": [
    "del sample_pac.ab\n",
    "del cd"
   ]
  },
  {
   "cell_type": "code",
   "execution_count": 1,
   "id": "b72fe88f",
   "metadata": {
    "ExecuteTime": {
     "end_time": "2024-11-12T07:38:57.901656Z",
     "start_time": "2024-11-12T07:38:57.893036Z"
    }
   },
   "outputs": [],
   "source": [
    "import sys\n",
    "sys.path.append(r'D:\\KHH\\ai\\source\\pylib')"
   ]
  },
  {
   "cell_type": "code",
   "execution_count": 2,
   "id": "c6b1dcc1",
   "metadata": {
    "ExecuteTime": {
     "end_time": "2024-11-12T07:38:58.109735Z",
     "start_time": "2024-11-12T07:38:58.100783Z"
    }
   },
   "outputs": [
    {
     "name": "stdout",
     "output_type": "stream",
     "text": [
      "sample_pac 패키지를 로드했는지 확인하는 print 입니다\n",
      "sample_pac 패키지 안의 ab 패키지가 로드 되었습니다.\n"
     ]
    }
   ],
   "source": [
    "from sample_pac.ab import * #ab 패키지의 __init__.py안의 __all__속성인 a.py만 로드"
   ]
  },
  {
   "cell_type": "code",
   "execution_count": 3,
   "id": "562ec1c2",
   "metadata": {
    "ExecuteTime": {
     "end_time": "2024-11-12T07:40:43.286214Z",
     "start_time": "2024-11-12T07:40:43.281227Z"
    }
   },
   "outputs": [
    {
     "name": "stdout",
     "output_type": "stream",
     "text": [
      "sample_pac/ab/a 모듈의 Hello\n"
     ]
    }
   ],
   "source": [
    "a.hello()"
   ]
  },
  {
   "cell_type": "code",
   "execution_count": null,
   "id": "49a8ba85",
   "metadata": {},
   "outputs": [],
   "source": [
    "b.world()"
   ]
  },
  {
   "cell_type": "code",
   "execution_count": 4,
   "id": "ea9a7eef",
   "metadata": {
    "ExecuteTime": {
     "end_time": "2024-11-12T07:41:35.126445Z",
     "start_time": "2024-11-12T07:41:35.117468Z"
    }
   },
   "outputs": [
    {
     "name": "stdout",
     "output_type": "stream",
     "text": [
      "sample_pac/ab/b 모듈의 World\n"
     ]
    }
   ],
   "source": [
    "from sample_pac.ab import b\n",
    "b.world()"
   ]
  },
  {
   "cell_type": "code",
   "execution_count": 5,
   "id": "25b10ed0",
   "metadata": {
    "ExecuteTime": {
     "end_time": "2024-11-12T07:41:59.516594Z",
     "start_time": "2024-11-12T07:41:59.513574Z"
    }
   },
   "outputs": [
    {
     "name": "stdout",
     "output_type": "stream",
     "text": [
      "sample_pac/ab/b 모듈의 World\n"
     ]
    }
   ],
   "source": [
    "from sample_pac.ab.b import world\n",
    "world()"
   ]
  },
  {
   "cell_type": "code",
   "execution_count": 6,
   "id": "53b3657d",
   "metadata": {
    "ExecuteTime": {
     "end_time": "2024-11-12T07:44:29.941991Z",
     "start_time": "2024-11-12T07:44:29.938002Z"
    }
   },
   "outputs": [],
   "source": [
    "del a"
   ]
  },
  {
   "cell_type": "code",
   "execution_count": 1,
   "id": "78ba92dd",
   "metadata": {
    "ExecuteTime": {
     "end_time": "2024-11-12T07:46:45.148642Z",
     "start_time": "2024-11-12T07:46:45.140663Z"
    }
   },
   "outputs": [],
   "source": [
    "import sys\n",
    "sys.path.append(r'D:\\KHH\\ai\\source\\pylib')"
   ]
  },
  {
   "cell_type": "code",
   "execution_count": 2,
   "id": "7d467df0",
   "metadata": {
    "ExecuteTime": {
     "end_time": "2024-11-12T07:46:45.215365Z",
     "start_time": "2024-11-12T07:46:45.200407Z"
    }
   },
   "outputs": [
    {
     "name": "stdout",
     "output_type": "stream",
     "text": [
      "sample_pac 패키지를 로드했는지 확인하는 print 입니다\n",
      "sample_pac 패키지 안의 cd 패키지가 로드 되었습니다.\n",
      "sample_pac 패키지 안의 ab 패키지가 로드 되었습니다.\n"
     ]
    }
   ],
   "source": [
    "import sample_pac.cd.c as c\n",
    "# from sample_pac.cd import c\n",
    "# cd패키지는 ab패키지 일부를 참조"
   ]
  },
  {
   "cell_type": "code",
   "execution_count": 3,
   "id": "8bd7af68",
   "metadata": {
    "ExecuteTime": {
     "end_time": "2024-11-12T07:48:23.358152Z",
     "start_time": "2024-11-12T07:48:23.353193Z"
    }
   },
   "outputs": [
    {
     "name": "stdout",
     "output_type": "stream",
     "text": [
      "sample_pac/cd 안의 C모듈안의 nice\n",
      "sample_pac/ab/a 모듈의 Hello\n"
     ]
    }
   ],
   "source": [
    "c.nice()"
   ]
  },
  {
   "cell_type": "code",
   "execution_count": 5,
   "id": "f04f494f",
   "metadata": {
    "ExecuteTime": {
     "end_time": "2024-11-12T07:48:37.233814Z",
     "start_time": "2024-11-12T07:48:37.228856Z"
    }
   },
   "outputs": [
    {
     "name": "stdout",
     "output_type": "stream",
     "text": [
      "sample_pac/ab/a 모듈의 Hello\n"
     ]
    }
   ],
   "source": [
    "c.a.hello()"
   ]
  },
  {
   "cell_type": "markdown",
   "id": "db37039a",
   "metadata": {},
   "source": [
    "# 4절. 패키지 설치 및 삭제\n",
    "- 패키지 설치 : 프롬프트 창에서 pip install 패키지명 or conda install 패키지명\n",
    "- 패키지 확인 : pip show 패키지명 / conda list 패키지명\n",
    "- 패키지 삭제 : pip uninstall 패키지명 / conda remove 패키지명"
   ]
  },
  {
   "cell_type": "code",
   "execution_count": 1,
   "id": "6c36e842",
   "metadata": {
    "ExecuteTime": {
     "end_time": "2024-11-12T08:28:35.572317Z",
     "start_time": "2024-11-12T08:28:35.561228Z"
    }
   },
   "outputs": [],
   "source": [
    "import objgraph # 메모리 사용량 출력하는 함수"
   ]
  },
  {
   "cell_type": "code",
   "execution_count": 2,
   "id": "7f34a053",
   "metadata": {
    "ExecuteTime": {
     "end_time": "2024-11-12T08:28:37.012040Z",
     "start_time": "2024-11-12T08:28:36.962935Z"
    }
   },
   "outputs": [
    {
     "name": "stdout",
     "output_type": "stream",
     "text": [
      "function                   18943\n",
      "dict                       12647\n",
      "tuple                      12447\n",
      "ReferenceType              5462\n",
      "list                       4184\n",
      "builtin_function_or_method 3261\n",
      "type                       2573\n",
      "cell                       2570\n",
      "getset_descriptor          2478\n",
      "method                     2417\n"
     ]
    }
   ],
   "source": [
    "objgraph.show_most_common_types()"
   ]
  },
  {
   "cell_type": "code",
   "execution_count": 3,
   "id": "c627533c",
   "metadata": {
    "ExecuteTime": {
     "end_time": "2024-11-12T08:28:42.855879Z",
     "start_time": "2024-11-12T08:28:42.626102Z"
    }
   },
   "outputs": [],
   "source": [
    "l = [2]\n",
    "for i in range(1000000):\n",
    "    l.append('aaaa')\n",
    "    l.append('bbbb')"
   ]
  },
  {
   "cell_type": "code",
   "execution_count": 4,
   "id": "4f4b30ba",
   "metadata": {
    "ExecuteTime": {
     "end_time": "2024-11-12T08:28:43.771962Z",
     "start_time": "2024-11-12T08:28:43.722167Z"
    }
   },
   "outputs": [
    {
     "name": "stdout",
     "output_type": "stream",
     "text": [
      "function                   18944\n",
      "dict                       12649\n",
      "tuple                      12462\n",
      "ReferenceType              5468\n",
      "list                       4188\n",
      "builtin_function_or_method 3264\n",
      "cell                       2575\n",
      "type                       2573\n",
      "getset_descriptor          2478\n",
      "method                     2419\n"
     ]
    }
   ],
   "source": [
    "objgraph.show_most_common_types()"
   ]
  },
  {
   "cell_type": "code",
   "execution_count": null,
   "id": "08373003",
   "metadata": {},
   "outputs": [],
   "source": [
    "\"\"\"\n",
    "파이썬 모듈과 패키지에 대해 잘 못 설명한 것은?\n",
    "답 : 3\n",
    "\"\"\""
   ]
  },
  {
   "cell_type": "code",
   "execution_count": null,
   "id": "7e6b8171",
   "metadata": {},
   "outputs": [],
   "source": [
    "\"\"\"\n",
    "다음 중 모듈의 import와 import후 사용 방법이 잘 못 된 것은?\n",
    "답 : ct\n",
    "\"\"\""
   ]
  },
  {
   "cell_type": "code",
   "execution_count": null,
   "id": "adb0c4ad",
   "metadata": {},
   "outputs": [],
   "source": [
    "\"\"\"\n",
    "파이썬이 디렉터리를 패키지에 포함하도록 처리하기 위해 필요한 파일은?\n",
    "답 : __init__.py\n",
    "\"\"\""
   ]
  },
  {
   "cell_type": "code",
   "execution_count": null,
   "id": "7558390e",
   "metadata": {},
   "outputs": [],
   "source": [
    "\"\"\"\n",
    "import * 을 이용하면 패키지에 있는 서브 모듈을 모두 찾아서 가져옵니다. 그렇기 때문에 패키지 작성자가 패키지의 명시적 색인을 제공하기 위해 사용하는 속성의 이름은 무엇인가요?\n",
    "답 : __all__\n",
    "\"\"\""
   ]
  },
  {
   "cell_type": "code",
   "execution_count": null,
   "id": "26e5eed5",
   "metadata": {},
   "outputs": [],
   "source": [
    "\"\"\"\n",
    "다음 중 파이썬 패키지를 설치하는 방법이 아닌 것은?\n",
    "답 : 1\n",
    "\"\"\""
   ]
  },
  {
   "cell_type": "code",
   "execution_count": null,
   "id": "7533046c",
   "metadata": {},
   "outputs": [],
   "source": []
  },
  {
   "cell_type": "code",
   "execution_count": null,
   "id": "7b940d3b",
   "metadata": {},
   "outputs": [],
   "source": []
  }
 ],
 "metadata": {
  "kernelspec": {
   "display_name": "Python 3 (ipykernel)",
   "language": "python",
   "name": "python3"
  },
  "language_info": {
   "codemirror_mode": {
    "name": "ipython",
    "version": 3
   },
   "file_extension": ".py",
   "mimetype": "text/x-python",
   "name": "python",
   "nbconvert_exporter": "python",
   "pygments_lexer": "ipython3",
   "version": "3.10.9"
  },
  "toc": {
   "base_numbering": 1,
   "nav_menu": {},
   "number_sections": true,
   "sideBar": true,
   "skip_h1_title": false,
   "title_cell": "Table of Contents",
   "title_sidebar": "Contents",
   "toc_cell": false,
   "toc_position": {
    "height": "calc(100% - 180px)",
    "left": "10px",
    "top": "150px",
    "width": "267.326px"
   },
   "toc_section_display": true,
   "toc_window_display": true
  }
 },
 "nbformat": 4,
 "nbformat_minor": 5
}
