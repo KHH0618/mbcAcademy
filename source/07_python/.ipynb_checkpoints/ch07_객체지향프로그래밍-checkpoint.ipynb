{
 "cells": [
  {
   "cell_type": "markdown",
   "id": "a3641bd7",
   "metadata": {},
   "source": [
    "<b><font color=\"red\" size=\"6\">ch07. 객체지향 프로그래밍</font></b>"
   ]
  },
  {
   "cell_type": "markdown",
   "id": "c5180e2d",
   "metadata": {},
   "source": [
    "# 1절. 객체와 클래스\n",
    "```\n",
    "class 클래스명(상속받을 클래스명):\n",
    "   변수나 함수들\n",
    "```"
   ]
  },
  {
   "cell_type": "code",
   "execution_count": 4,
   "id": "6426e7f1",
   "metadata": {
    "ExecuteTime": {
     "end_time": "2024-11-15T00:46:57.336704Z",
     "start_time": "2024-11-15T00:46:57.331718Z"
    }
   },
   "outputs": [],
   "source": [
    "class Person:\n",
    "    \"\"\"\n",
    "    Person 어쩌구 저쩌구 설명하는 독스트링\n",
    "    class Person{\n",
    "        //public String toString(){}\n",
    "    \n",
    "    }\n",
    "    p = new Person();\n",
    "    sysout(p);\n",
    "    \"\"\"\n",
    "    pass\n",
    "p = Person()"
   ]
  },
  {
   "cell_type": "code",
   "execution_count": 5,
   "id": "dea371c5",
   "metadata": {
    "ExecuteTime": {
     "end_time": "2024-11-15T00:46:58.640370Z",
     "start_time": "2024-11-15T00:46:58.635383Z"
    }
   },
   "outputs": [
    {
     "data": {
      "text/plain": [
       "__main__.Person"
      ]
     },
     "execution_count": 5,
     "metadata": {},
     "output_type": "execute_result"
    }
   ],
   "source": [
    "type(p)"
   ]
  },
  {
   "cell_type": "code",
   "execution_count": 6,
   "id": "c7bcf80b",
   "metadata": {
    "ExecuteTime": {
     "end_time": "2024-11-15T00:46:58.984347Z",
     "start_time": "2024-11-15T00:46:58.979356Z"
    }
   },
   "outputs": [
    {
     "name": "stdout",
     "output_type": "stream",
     "text": [
      "<__main__.Person object at 0x000001DE7CC7CD00>\n"
     ]
    }
   ],
   "source": [
    "print(p)"
   ]
  },
  {
   "cell_type": "code",
   "execution_count": 7,
   "id": "e4dd4be2",
   "metadata": {
    "ExecuteTime": {
     "end_time": "2024-11-15T00:47:09.420602Z",
     "start_time": "2024-11-15T00:47:09.415616Z"
    }
   },
   "outputs": [
    {
     "data": {
      "text/plain": [
       "True"
      ]
     },
     "execution_count": 7,
     "metadata": {},
     "output_type": "execute_result"
    }
   ],
   "source": [
    "isinstance(p, Person)"
   ]
  },
  {
   "cell_type": "code",
   "execution_count": 9,
   "id": "50c7a5f5",
   "metadata": {
    "ExecuteTime": {
     "end_time": "2024-11-15T00:47:48.141008Z",
     "start_time": "2024-11-15T00:47:48.137018Z"
    }
   },
   "outputs": [
    {
     "name": "stdout",
     "output_type": "stream",
     "text": [
      "\n",
      "    Person 어쩌구 저쩌구 설명하는 독스트링\n",
      "    class Person{\n",
      "        //public String toString(){}\n",
      "    \n",
      "    }\n",
      "    p = new Person()\n",
      "    sysout(p)\n",
      "    \n"
     ]
    }
   ],
   "source": [
    "print(p.__doc__) # 독스트링"
   ]
  },
  {
   "cell_type": "markdown",
   "id": "beef969d",
   "metadata": {},
   "source": [
    "# 2절. 변수와 메소드(함수)\n",
    "- 클래스변수 vs. 인스턴스변수 vs. static변수\n",
    "- 인스턴스메소드 vs. static메소드 vs. 클래스메소드"
   ]
  },
  {
   "cell_type": "code",
   "execution_count": 11,
   "id": "4a5d4a01",
   "metadata": {
    "ExecuteTime": {
     "end_time": "2024-11-15T00:59:58.595860Z",
     "start_time": "2024-11-15T00:59:58.589876Z"
    }
   },
   "outputs": [
    {
     "name": "stdout",
     "output_type": "stream",
     "text": [
      "홍길동 남자\n",
      "<class '__main__.Person'>\n"
     ]
    }
   ],
   "source": [
    "# 클래스 변수 추가 : 클래스 내부에 선언되며,\n",
    "# 생성된 모든 인스턴스에서 동일한 값을 가진다.\n",
    "# 클래스명.클래스변수 를 수정하면 모든 인스턴스에 반영될 수 있음\n",
    "# 인스턴스.클래스변수로 수정하면 해당 인스턴스만 반영\n",
    "class Person:\n",
    "    name = '홍길동'\n",
    "    gender = '남자'\n",
    "print(Person.name, Person.gender)\n",
    "print(Person)"
   ]
  },
  {
   "cell_type": "code",
   "execution_count": 12,
   "id": "96054689",
   "metadata": {
    "ExecuteTime": {
     "end_time": "2024-11-15T01:05:57.404727Z",
     "start_time": "2024-11-15T01:05:57.398765Z"
    }
   },
   "outputs": [
    {
     "name": "stdout",
     "output_type": "stream",
     "text": [
      "클래스 영역 변수 : 홍길동 남자\n",
      "p1 객체의 변수 : 홍길동 남자\n",
      "p2 객체의 변수 : 홍길동 남자\n"
     ]
    }
   ],
   "source": [
    "p1 = Person()\n",
    "p2 = Person()\n",
    "print('클래스 영역 변수 :', Person.name, Person.gender)\n",
    "print('p1 객체의 변수 :', p1.name, p1.gender)\n",
    "print('p2 객체의 변수 :', p2.name, p2.gender)"
   ]
  },
  {
   "cell_type": "code",
   "execution_count": 13,
   "id": "3d83445f",
   "metadata": {
    "ExecuteTime": {
     "end_time": "2024-11-15T01:07:42.795604Z",
     "start_time": "2024-11-15T01:07:42.785798Z"
    }
   },
   "outputs": [
    {
     "name": "stdout",
     "output_type": "stream",
     "text": [
      "클래스 영역 변수 : 홍길동 남자\n",
      "p1 객체의 변수 : 이순신 남자\n",
      "p2 객체의 변수 : 홍길동 남자\n"
     ]
    }
   ],
   "source": [
    "p1.name = '이순신'\n",
    "print('클래스 영역 변수 :', Person.name, Person.gender)\n",
    "print('p1 객체의 변수 :', p1.name, p1.gender)\n",
    "print('p2 객체의 변수 :', p2.name, p2.gender)"
   ]
  },
  {
   "cell_type": "code",
   "execution_count": 14,
   "id": "41d35509",
   "metadata": {
    "ExecuteTime": {
     "end_time": "2024-11-15T01:10:03.967811Z",
     "start_time": "2024-11-15T01:10:03.961827Z"
    }
   },
   "outputs": [
    {
     "name": "stdout",
     "output_type": "stream",
     "text": [
      "클래스 영역 변수 : 유관순 여자\n",
      "p1 객체의 변수 : 이순신 여자\n",
      "p2 객체의 변수 : 유관순 여자\n"
     ]
    }
   ],
   "source": [
    "Person.name = '유관순'\n",
    "Person.gender = '여자'\n",
    "print('클래스 영역 변수 :', Person.name, Person.gender)\n",
    "print('p1 객체의 변수 :', p1.name, p1.gender)\n",
    "print('p2 객체의 변수 :', p2.name, p2.gender)"
   ]
  },
  {
   "cell_type": "code",
   "execution_count": 15,
   "id": "fb0a93d3",
   "metadata": {
    "ExecuteTime": {
     "end_time": "2024-11-15T01:14:56.119084Z",
     "start_time": "2024-11-15T01:14:56.114097Z"
    }
   },
   "outputs": [],
   "source": [
    "# 메소드 추가\n",
    "class Person:\n",
    "    name = '홍길동'\n",
    "    gender = '남자'\n",
    "    def print_info():\n",
    "        print('Person 메소드')\n",
    "        print('{}은 {}입니다'.format(Person.name, Person.gender))"
   ]
  },
  {
   "cell_type": "code",
   "execution_count": 16,
   "id": "d77a736f",
   "metadata": {
    "ExecuteTime": {
     "end_time": "2024-11-15T01:15:22.419348Z",
     "start_time": "2024-11-15T01:15:22.414389Z"
    }
   },
   "outputs": [
    {
     "name": "stdout",
     "output_type": "stream",
     "text": [
      "홍길동 남자\n",
      "Person 메소드\n",
      "홍길동은 남자입니다\n"
     ]
    }
   ],
   "source": [
    "print(Person.name, Person.gender)\n",
    "Person.print_info()"
   ]
  },
  {
   "cell_type": "code",
   "execution_count": 17,
   "id": "ea48e231",
   "metadata": {
    "ExecuteTime": {
     "end_time": "2024-11-15T01:17:29.656862Z",
     "start_time": "2024-11-15T01:17:29.150002Z"
    }
   },
   "outputs": [
    {
     "name": "stdout",
     "output_type": "stream",
     "text": [
      "클래스 변수 영역 : 홍길동 남자\n",
      "객체 영역 : 유관순 여자\n"
     ]
    },
    {
     "ename": "TypeError",
     "evalue": "Person.print_info() takes 0 positional arguments but 1 was given",
     "output_type": "error",
     "traceback": [
      "\u001b[1;31m---------------------------------------------------------------------------\u001b[0m",
      "\u001b[1;31mTypeError\u001b[0m                                 Traceback (most recent call last)",
      "Cell \u001b[1;32mIn[17], line 6\u001b[0m\n\u001b[0;32m      4\u001b[0m \u001b[38;5;28mprint\u001b[39m(\u001b[38;5;124m'\u001b[39m\u001b[38;5;124m클래스 변수 영역 :\u001b[39m\u001b[38;5;124m'\u001b[39m,Person\u001b[38;5;241m.\u001b[39mname, Person\u001b[38;5;241m.\u001b[39mgender)\n\u001b[0;32m      5\u001b[0m \u001b[38;5;28mprint\u001b[39m(\u001b[38;5;124m'\u001b[39m\u001b[38;5;124m객체 영역 :\u001b[39m\u001b[38;5;124m'\u001b[39m,p1\u001b[38;5;241m.\u001b[39mname, p1\u001b[38;5;241m.\u001b[39mgender)\n\u001b[1;32m----> 6\u001b[0m \u001b[43mp1\u001b[49m\u001b[38;5;241;43m.\u001b[39;49m\u001b[43mprint_info\u001b[49m\u001b[43m(\u001b[49m\u001b[43m)\u001b[49m\n",
      "\u001b[1;31mTypeError\u001b[0m: Person.print_info() takes 0 positional arguments but 1 was given"
     ]
    }
   ],
   "source": [
    "p1 = Person()\n",
    "p1.name = '유관순'\n",
    "p1.gender = '여자'\n",
    "print('클래스 변수 영역 :',Person.name, Person.gender)\n",
    "print('객체 영역 :',p1.name, p1.gender)\n",
    "p1.print_info()"
   ]
  },
  {
   "cell_type": "code",
   "execution_count": null,
   "id": "123dc0d7",
   "metadata": {},
   "outputs": [],
   "source": [
    "# 에러나는 이유는 인스턴스 메소드도 아니고, 클래스 메소드도 아니고 staticmethod도 아님\n",
    "# staticmethod처럼 실행은 가능"
   ]
  },
  {
   "cell_type": "markdown",
   "id": "0a7ac913",
   "metadata": {},
   "source": [
    "※ 인스턴스 메소드 & 클래스 메소드 & static 메소드\n",
    "- 인스턴스 메소드 : 첫번째 인자에 self를 꼭 명시. 객체를 통해서만 호출할 메소드\n",
    "- 클래스 메소드 : 메소드 위에 @classmethod 선언한 메소드 첫번째 인자에 cls(clz, clazz) 꼭 명시\n",
    "- static 메소드 : 메소드 위에 @staticmathod 선언한 메소드. 디폴트인자를 넣지 않음"
   ]
  },
  {
   "cell_type": "code",
   "execution_count": 18,
   "id": "feb1089a",
   "metadata": {
    "ExecuteTime": {
     "end_time": "2024-11-15T01:40:24.070807Z",
     "start_time": "2024-11-15T01:40:24.064825Z"
    }
   },
   "outputs": [],
   "source": [
    "# 인스턴스 메소드(객체가 호출할 수 있는 함수)\n",
    "class Person:\n",
    "    name = '홍길동'\n",
    "    gender = '남자'\n",
    "    age = 30\n",
    "    # 인스턴스 메소드 선언시 첫번째 인자에 self넣고 선언.\n",
    "    # 실제 호출시에는 메개변수에 self이용 안함. self의 의미는 자바에서의 this\n",
    "    def print_info(self):\n",
    "        print('인스턴스 정보 : {}는 {}살이고, {}입니다'.format(self.name, self.age, self.gender))\n",
    "        print('클래스 정보 : {}는 {}살이고, {}입니다'.format(Person.name, Person.age, Person.gender))"
   ]
  },
  {
   "cell_type": "code",
   "execution_count": 20,
   "id": "ee12270c",
   "metadata": {
    "ExecuteTime": {
     "end_time": "2024-11-15T01:42:13.458333Z",
     "start_time": "2024-11-15T01:42:13.452243Z"
    }
   },
   "outputs": [
    {
     "name": "stdout",
     "output_type": "stream",
     "text": [
      "홍길동 30 남자\n",
      "인스턴스 정보 : 신사임당는 30살이고, 남자입니다\n",
      "클래스 정보 : 홍길동는 30살이고, 남자입니다\n"
     ]
    }
   ],
   "source": [
    "print(Person.name, Person.age, Person.gender)\n",
    "p1 = Person()\n",
    "p2 = Person()\n",
    "p1.name = \"신사임당\"\n",
    "p1.print_info()"
   ]
  },
  {
   "cell_type": "code",
   "execution_count": 26,
   "id": "a7bad419",
   "metadata": {
    "ExecuteTime": {
     "end_time": "2024-11-15T01:44:31.033389Z",
     "start_time": "2024-11-15T01:44:31.028286Z"
    }
   },
   "outputs": [
    {
     "name": "stdout",
     "output_type": "stream",
     "text": [
      "인스턴스 정보 : 신사임당는 30살이고, 남자입니다\n",
      "클래스 정보 : 홍길동는 30살이고, 남자입니다\n"
     ]
    }
   ],
   "source": [
    "Person.print_info(p1) # 이렇게는 거의 안 써요~"
   ]
  },
  {
   "cell_type": "code",
   "execution_count": 27,
   "id": "3a23a578",
   "metadata": {
    "ExecuteTime": {
     "end_time": "2024-11-15T01:44:33.825189Z",
     "start_time": "2024-11-15T01:44:33.820231Z"
    }
   },
   "outputs": [
    {
     "name": "stdout",
     "output_type": "stream",
     "text": [
      "인스턴스 정보 : 홍길동는 30살이고, 남자입니다\n",
      "클래스 정보 : 홍길동는 30살이고, 남자입니다\n"
     ]
    }
   ],
   "source": [
    "p2.print_info()"
   ]
  },
  {
   "cell_type": "code",
   "execution_count": 28,
   "id": "587a5228",
   "metadata": {
    "ExecuteTime": {
     "end_time": "2024-11-15T01:45:25.088507Z",
     "start_time": "2024-11-15T01:45:25.085515Z"
    }
   },
   "outputs": [],
   "source": [
    "# 객체의 변수를 추가\n",
    "p1.address = '서울시'\n",
    "p1.nickname = \"곰돌이 푸\""
   ]
  },
  {
   "cell_type": "code",
   "execution_count": 30,
   "id": "bbb91f23",
   "metadata": {
    "ExecuteTime": {
     "end_time": "2024-11-15T01:46:20.622135Z",
     "start_time": "2024-11-15T01:46:20.617148Z"
    }
   },
   "outputs": [
    {
     "name": "stdout",
     "output_type": "stream",
     "text": [
      "신사임당 남자 30 서울시 곰돌이 푸\n",
      "홍길동 남자 30\n"
     ]
    }
   ],
   "source": [
    "print(p1.name, p1.gender, p1.age, p1.address, p1.nickname)\n",
    "print(p2.name, p2.gender, p2.age)"
   ]
  },
  {
   "cell_type": "code",
   "execution_count": 31,
   "id": "3ba50e02",
   "metadata": {
    "ExecuteTime": {
     "end_time": "2024-11-15T01:46:36.360753Z",
     "start_time": "2024-11-15T01:46:36.356764Z"
    }
   },
   "outputs": [
    {
     "name": "stdout",
     "output_type": "stream",
     "text": [
      "인스턴스 정보 : 신사임당는 30살이고, 남자입니다\n",
      "클래스 정보 : 홍길동는 30살이고, 남자입니다\n"
     ]
    }
   ],
   "source": [
    "p1.print_info()"
   ]
  },
  {
   "cell_type": "code",
   "execution_count": 53,
   "id": "072996b2",
   "metadata": {
    "ExecuteTime": {
     "end_time": "2024-11-15T02:12:58.970865Z",
     "start_time": "2024-11-15T02:12:58.964881Z"
    }
   },
   "outputs": [],
   "source": [
    "# 3가지 메소드를 다 사용\n",
    "class Person:\n",
    "    name = '홍길동'\n",
    "    gender = '남자'\n",
    "    def print_info(self): # 변수.print_info()로 호출\n",
    "        print('일반(인스턴스 = 객체) 메소드 - {}는 {}입니다'.format(self.name, self.gender))\n",
    "    \n",
    "    def change_info(self, name, gender = \"남자\"): #객체변수.change_info(\"신길숙\",\"여자\")\n",
    "        self.name = name\n",
    "        self.gender = gender\n",
    "        print('일반(인스턴스) 메소드를 통해 {}로 이름 변경완료'.format(self.name))\n",
    "        \n",
    "    @classmethod\n",
    "    def do_(cls): #cls == Person 클래스 변수를 이용한 로직\n",
    "        cls.name = '신사임당' # 클래스영역의 클래스 변수 수정\n",
    "        cls.gender = '여자'\n",
    "        print('클래스 메소드 - {}는 {}로 클래스 변수 변경'.format(cls.name, cls.gender))\n",
    "        \n",
    "    @staticmethod\n",
    "    def that_(): # 클래스 변수를 이용하는 경우보다는 로직이 우선일 경우\n",
    "        Person.name = \"신길동\"\n",
    "        Person.gender = \"남자\"\n",
    "        print('static 메소드 - {}는 {}입니다'.format(Person.name, Person.gender))"
   ]
  },
  {
   "cell_type": "code",
   "execution_count": 54,
   "id": "f8aff4f4",
   "metadata": {
    "ExecuteTime": {
     "end_time": "2024-11-15T02:12:59.401524Z",
     "start_time": "2024-11-15T02:12:59.396536Z"
    }
   },
   "outputs": [
    {
     "name": "stdout",
     "output_type": "stream",
     "text": [
      "일반(인스턴스 = 객체) 메소드 - 홍길동는 남자입니다\n",
      "일반(인스턴스) 메소드를 통해 이순신로 이름 변경완료\n",
      "일반(인스턴스 = 객체) 메소드 - 이순신는 남자입니다\n"
     ]
    }
   ],
   "source": [
    "p1 = Person()\n",
    "p1.print_info()\n",
    "p1.change_info(\"이순신\")\n",
    "p1.print_info()"
   ]
  },
  {
   "cell_type": "code",
   "execution_count": 55,
   "id": "e199294f",
   "metadata": {
    "ExecuteTime": {
     "end_time": "2024-11-15T02:12:59.815108Z",
     "start_time": "2024-11-15T02:12:59.810120Z"
    }
   },
   "outputs": [
    {
     "name": "stdout",
     "output_type": "stream",
     "text": [
      "일반(인스턴스 = 객체) 메소드 - 이순신는 남자입니다\n"
     ]
    }
   ],
   "source": [
    "p1.name = '이순신'\n",
    "p1.print_info()"
   ]
  },
  {
   "cell_type": "code",
   "execution_count": 56,
   "id": "b2e0bc40",
   "metadata": {
    "ExecuteTime": {
     "end_time": "2024-11-15T02:13:00.238910Z",
     "start_time": "2024-11-15T02:13:00.234644Z"
    }
   },
   "outputs": [
    {
     "name": "stdout",
     "output_type": "stream",
     "text": [
      "클래스 메소드 - 신사임당는 여자로 클래스 변수 변경\n",
      "일반(인스턴스 = 객체) 메소드 - 이순신는 남자입니다\n"
     ]
    }
   ],
   "source": [
    "Person.do_() # 클래스 변수 수정\n",
    "p1.print_info()"
   ]
  },
  {
   "cell_type": "code",
   "execution_count": 57,
   "id": "44e757df",
   "metadata": {
    "ExecuteTime": {
     "end_time": "2024-11-15T02:13:00.591894Z",
     "start_time": "2024-11-15T02:13:00.586906Z"
    }
   },
   "outputs": [
    {
     "name": "stdout",
     "output_type": "stream",
     "text": [
      "static 메소드 - 신길동는 남자입니다\n"
     ]
    }
   ],
   "source": [
    "Person.that_()"
   ]
  },
  {
   "cell_type": "code",
   "execution_count": 58,
   "id": "af7fc8d4",
   "metadata": {
    "ExecuteTime": {
     "end_time": "2024-11-15T02:13:00.966540Z",
     "start_time": "2024-11-15T02:13:00.962527Z"
    }
   },
   "outputs": [
    {
     "name": "stdout",
     "output_type": "stream",
     "text": [
      "일반(인스턴스 = 객체) 메소드 - 신길동는 남자입니다\n"
     ]
    }
   ],
   "source": [
    "p2 = Person()\n",
    "p2.print_info()"
   ]
  },
  {
   "cell_type": "markdown",
   "id": "a0ade33a",
   "metadata": {},
   "source": [
    "# 3절. 생성자(__init__)와 소멸자(__del__)\n",
    "```\n",
    "생성자 : __init__(self, 매개변수....) 객체가 생성될 때 자동 실행\n",
    "        생성시 필요한 코드(인스턴스 변수 초기화)를 포함\n",
    "        \n",
    "소멸자 : __del__(self) : 객체가 소멸될 때 자동 실행\n",
    "        소멸시 필요한 코드를 포함\n",
    "        인스턴스 객체의 레퍼런스 카운트가 0이 될 때 실행\n",
    "```"
   ]
  },
  {
   "cell_type": "code",
   "execution_count": 1,
   "id": "4c3fddb3",
   "metadata": {
    "ExecuteTime": {
     "end_time": "2024-11-15T02:53:42.414375Z",
     "start_time": "2024-11-15T02:53:42.408360Z"
    }
   },
   "outputs": [],
   "source": [
    "class Person:\n",
    "    # 생성자를 이용한 인스턴스 변수 초기화\n",
    "    def __init__(self, name = '홍길동', gender = '남자'):\n",
    "        self.name = name # 인스턴스 변수\n",
    "        self.gender = gender\n",
    "        print('Person 객체를 생성합니다')\n",
    "        \n",
    "    def __del__(self):\n",
    "        print('Person 객체를 소멸합니다')\n",
    "        \n",
    "    def print_info(self):\n",
    "        print('{}는 {}입니다'.format(self.name, self.gender))\n",
    "        \n",
    "    def __str__(self):\n",
    "        return '{}는 {}입니다'.format(self.name, self.gender)"
   ]
  },
  {
   "cell_type": "code",
   "execution_count": 2,
   "id": "09d3ffea",
   "metadata": {
    "ExecuteTime": {
     "end_time": "2024-11-15T02:53:42.814022Z",
     "start_time": "2024-11-15T02:53:42.808023Z"
    }
   },
   "outputs": [
    {
     "name": "stdout",
     "output_type": "stream",
     "text": [
      "Person 객체를 생성합니다\n",
      "Person 객체를 생성합니다\n",
      "Person 객체를 생성합니다\n",
      "Person 객체를 생성합니다\n",
      "Person 객체를 생성합니다\n"
     ]
    }
   ],
   "source": [
    "p1 = Person('홍길동', '남자')\n",
    "p2 = Person(gender = '여자', name = '홍길숙')\n",
    "p3 = Person('신길동') # 성별은 기본값 '남자'로 생성\n",
    "p4 = Person(gender='여자') # 이름은 기본값 '홍길동'으로 생성\n",
    "p5 = Person()"
   ]
  },
  {
   "cell_type": "code",
   "execution_count": 3,
   "id": "75bb7c91",
   "metadata": {
    "ExecuteTime": {
     "end_time": "2024-11-15T02:53:43.221879Z",
     "start_time": "2024-11-15T02:53:43.216893Z"
    }
   },
   "outputs": [
    {
     "name": "stdout",
     "output_type": "stream",
     "text": [
      "홍길동는 남자입니다\n",
      "홍길숙는 여자입니다\n",
      "신길동는 남자입니다\n",
      "홍길동는 여자입니다\n",
      "홍길동는 남자입니다\n"
     ]
    }
   ],
   "source": [
    "p1.print_info()\n",
    "p2.print_info()\n",
    "p3.print_info()\n",
    "p4.print_info()\n",
    "p5.print_info()"
   ]
  },
  {
   "cell_type": "code",
   "execution_count": 4,
   "id": "54be6666",
   "metadata": {
    "ExecuteTime": {
     "end_time": "2024-11-15T02:53:43.613964Z",
     "start_time": "2024-11-15T02:53:43.608874Z"
    }
   },
   "outputs": [
    {
     "name": "stdout",
     "output_type": "stream",
     "text": [
      "p1 = 홍길동는 남자입니다\n",
      "p2 = 홍길숙는 여자입니다\n",
      "p3 = 신길동는 남자입니다\n",
      "p4 = 홍길동는 여자입니다\n",
      "p5 = 홍길동는 남자입니다\n"
     ]
    }
   ],
   "source": [
    "print('p1 =',p1) # p1.__str__() 자동호출\n",
    "print('p2 =',p2)\n",
    "print('p3 =',p3)\n",
    "print('p4 =',p4)\n",
    "print('p5 =',p5)"
   ]
  },
  {
   "cell_type": "code",
   "execution_count": 5,
   "id": "62d6290c",
   "metadata": {
    "ExecuteTime": {
     "end_time": "2024-11-15T02:53:44.005262Z",
     "start_time": "2024-11-15T02:53:44.000276Z"
    }
   },
   "outputs": [
    {
     "name": "stdout",
     "output_type": "stream",
     "text": [
      "Person 객체를 소멸합니다\n"
     ]
    }
   ],
   "source": [
    "del p5"
   ]
  },
  {
   "cell_type": "code",
   "execution_count": 6,
   "id": "1baf89ff",
   "metadata": {
    "ExecuteTime": {
     "end_time": "2024-11-15T02:53:44.390610Z",
     "start_time": "2024-11-15T02:53:44.383922Z"
    }
   },
   "outputs": [
    {
     "name": "stdout",
     "output_type": "stream",
     "text": [
      "Person 객체를 소멸합니다\n",
      "Person 객체를 소멸합니다\n",
      "Person 객체를 소멸합니다\n"
     ]
    }
   ],
   "source": [
    "del p2,p3,p4"
   ]
  },
  {
   "cell_type": "code",
   "execution_count": 7,
   "id": "8a1683b5",
   "metadata": {
    "ExecuteTime": {
     "end_time": "2024-11-15T02:53:44.797582Z",
     "start_time": "2024-11-15T02:53:44.792625Z"
    }
   },
   "outputs": [
    {
     "name": "stdout",
     "output_type": "stream",
     "text": [
      "홍길동는 남자입니다\n"
     ]
    }
   ],
   "source": [
    "print(p1)"
   ]
  },
  {
   "cell_type": "code",
   "execution_count": 8,
   "id": "15faaadb",
   "metadata": {
    "ExecuteTime": {
     "end_time": "2024-11-15T02:53:45.220183Z",
     "start_time": "2024-11-15T02:53:45.216193Z"
    }
   },
   "outputs": [],
   "source": [
    "p2 = p1"
   ]
  },
  {
   "cell_type": "code",
   "execution_count": 9,
   "id": "0c4bcd71",
   "metadata": {
    "ExecuteTime": {
     "end_time": "2024-11-15T02:53:45.670832Z",
     "start_time": "2024-11-15T02:53:45.663828Z"
    }
   },
   "outputs": [
    {
     "data": {
      "text/plain": [
       "(1523840935552, 1523840935552)"
      ]
     },
     "execution_count": 9,
     "metadata": {},
     "output_type": "execute_result"
    }
   ],
   "source": [
    "id(p1), id(p2) # 한객체를 두 인스턴스 변수가 참조(객체의 레퍼런스 카운트가 2)"
   ]
  },
  {
   "cell_type": "code",
   "execution_count": 10,
   "id": "a28a7b5b",
   "metadata": {
    "ExecuteTime": {
     "end_time": "2024-11-15T02:53:46.740447Z",
     "start_time": "2024-11-15T02:53:46.736457Z"
    }
   },
   "outputs": [],
   "source": [
    "del p1 # 객체 레퍼런스 카운트가 1이여서 소멸자 생성 안함"
   ]
  },
  {
   "cell_type": "code",
   "execution_count": 11,
   "id": "eff486d5",
   "metadata": {
    "ExecuteTime": {
     "end_time": "2024-11-15T02:53:47.268279Z",
     "start_time": "2024-11-15T02:53:47.264310Z"
    }
   },
   "outputs": [
    {
     "name": "stdout",
     "output_type": "stream",
     "text": [
      "Person 객체를 소멸합니다\n"
     ]
    }
   ],
   "source": [
    "del p2"
   ]
  },
  {
   "cell_type": "markdown",
   "id": "169b501a",
   "metadata": {},
   "source": [
    "# 4절. static 변수\n",
    "```\n",
    "- 변수종류 : \n",
    "    *인스턴스변수 : 생성자를 통함\n",
    "    *클래스변수 : 클래스 내 선언\n",
    "    *static변수 : 클래스 내에 선언한 변수중 변수명 앞에 __(under socre 2개)를 붙임\n",
    "        변수명 앞에 __을 붙이면, 클래스명._클래스명__static변수명으로 참조\n",
    "        클래스 변수는 클래스나 인스턴스에서 바로 접근 가능.\n",
    "        반면, __로 시작하는 변수는 바로 접근 불가하고 클래스명._클래스명__static변수명으로 접근해야 함으로\n",
    "        외부에서 실수로 접근하거나 변경하는 것을 방지\n",
    "        static 변수는 클래스 내부에서만 접근하도록 하려는 의돌르 전달하는 용도로 씀\n",
    "```"
   ]
  },
  {
   "cell_type": "code",
   "execution_count": 12,
   "id": "66387316",
   "metadata": {
    "ExecuteTime": {
     "end_time": "2024-11-15T03:06:38.958356Z",
     "start_time": "2024-11-15T03:06:38.953353Z"
    }
   },
   "outputs": [
    {
     "data": {
      "text/plain": [
       "'홍길동'"
      ]
     },
     "execution_count": 12,
     "metadata": {},
     "output_type": "execute_result"
    }
   ],
   "source": [
    "class Person:\n",
    "    name = '홍길동'\n",
    "    __count = 0\n",
    "p = Person\n",
    "p.name"
   ]
  },
  {
   "cell_type": "code",
   "execution_count": 15,
   "id": "ed8dc80b",
   "metadata": {
    "ExecuteTime": {
     "end_time": "2024-11-15T03:07:36.981747Z",
     "start_time": "2024-11-15T03:07:36.975763Z"
    }
   },
   "outputs": [
    {
     "data": {
      "text/plain": [
       "0"
      ]
     },
     "execution_count": 15,
     "metadata": {},
     "output_type": "execute_result"
    }
   ],
   "source": [
    "Person._Person__count"
   ]
  },
  {
   "cell_type": "markdown",
   "id": "f688a2b5",
   "metadata": {},
   "source": [
    "# 5절. 상속과 재정의"
   ]
  },
  {
   "cell_type": "code",
   "execution_count": 19,
   "id": "8d49804c",
   "metadata": {
    "ExecuteTime": {
     "end_time": "2024-11-15T03:17:29.311000Z",
     "start_time": "2024-11-15T03:17:29.304018Z"
    }
   },
   "outputs": [
    {
     "name": "stdout",
     "output_type": "stream",
     "text": [
      "두수를 초기화\n",
      "num1은 2 num2는 2\n"
     ]
    }
   ],
   "source": [
    "class Cal:\n",
    "    def __init__(self, num1 = 1, num2 = 2):\n",
    "        print('두수를 초기화')\n",
    "        self.num1 = num1\n",
    "        self.num2 = num2\n",
    "    def add(self):\n",
    "        return self.num1 + self.num2\n",
    "    def sub(self):\n",
    "        return self.num1 - self.num2 if self.num1 > self.num2 else self.num2 - self.num1\n",
    "    def __str__(self):\n",
    "        return 'num1은 {} num2는 {}'.format(self.num1, self.num2)\n",
    "\n",
    "class Cal_inherit(Cal):\n",
    "    def mul(self):\n",
    "        return self.num1 * self.num2\n",
    "\n",
    "obj = Cal_inherit(2,2)\n",
    "print(obj)"
   ]
  },
  {
   "cell_type": "code",
   "execution_count": 20,
   "id": "2ca63998",
   "metadata": {
    "ExecuteTime": {
     "end_time": "2024-11-15T03:17:51.256642Z",
     "start_time": "2024-11-15T03:17:51.251650Z"
    }
   },
   "outputs": [
    {
     "name": "stdout",
     "output_type": "stream",
     "text": [
      "4\n",
      "0\n",
      "4\n"
     ]
    }
   ],
   "source": [
    "print(obj.add())\n",
    "print(obj.sub())\n",
    "print(obj.mul())"
   ]
  },
  {
   "cell_type": "code",
   "execution_count": 21,
   "id": "8b0a9135",
   "metadata": {
    "ExecuteTime": {
     "end_time": "2024-11-15T03:35:12.691321Z",
     "start_time": "2024-11-15T03:35:12.686322Z"
    }
   },
   "outputs": [],
   "source": [
    "class Person:\n",
    "    'Person은 이름과 성별 멤버변수가 있고, 어쩌구 저쩌구'\n",
    "    def __init__(self, name, gender):\n",
    "        print('person 객체 생성합니다')\n",
    "        self.name = name\n",
    "        self.gender = gender\n",
    "        \n",
    "    def __del__(self):\n",
    "        print('Person객체 소멸됩니다')\n",
    "        \n",
    "    def print_info(self):\n",
    "        '객체 이름과 성별을 출력합니다'\n",
    "        print('{}님은 {}입니다'.format(self.name, self.gender))\n",
    "    \n",
    "    def __str__(self):\n",
    "        return '{}님은 {}입니다'.format(self.name, self.gender)"
   ]
  },
  {
   "cell_type": "markdown",
   "id": "6c0ca8f9",
   "metadata": {},
   "source": [
    "## super()."
   ]
  },
  {
   "cell_type": "code",
   "execution_count": 28,
   "id": "62f325e1",
   "metadata": {
    "ExecuteTime": {
     "end_time": "2024-11-15T03:51:47.016168Z",
     "start_time": "2024-11-15T03:51:47.010996Z"
    }
   },
   "outputs": [],
   "source": [
    "class Student(Person):\n",
    "    'name과 gender(상속받음)에 major변수를 갖는 Student 타입'\n",
    "    def __init__(self, name, gender, major):\n",
    "        #부모클래스의 생성자를 호출해서 name과 gender초기화\n",
    "        #Person.__init__(self,name, gender)\n",
    "        super().__init__(name, gender)\n",
    "        self.major = major\n",
    "    def __del__(self):\n",
    "        pass\n",
    "    def print_info(self): # 재정의(oberride)\n",
    "        super().print_info() # 상위 클래스 Person의 print_info()\n",
    "        print('전공은{}입니다'.format(self.major))\n",
    "    def __str__(self):\n",
    "        return super().__str__() + ' 전공은{}입니다'.format(self.major)"
   ]
  },
  {
   "cell_type": "code",
   "execution_count": 29,
   "id": "e3f5bfc6",
   "metadata": {
    "ExecuteTime": {
     "end_time": "2024-11-15T03:51:47.365930Z",
     "start_time": "2024-11-15T03:51:47.361821Z"
    }
   },
   "outputs": [
    {
     "name": "stdout",
     "output_type": "stream",
     "text": [
      "person 객체 생성합니다\n",
      "홍길동님은 남자입니다 전공은AI입니다\n"
     ]
    }
   ],
   "source": [
    "s1 = Student('홍길동', '남자', 'AI')\n",
    "print(s1)"
   ]
  },
  {
   "cell_type": "code",
   "execution_count": 30,
   "id": "b22e8db9",
   "metadata": {
    "ExecuteTime": {
     "end_time": "2024-11-15T03:52:18.158409Z",
     "start_time": "2024-11-15T03:52:18.153423Z"
    }
   },
   "outputs": [
    {
     "name": "stdout",
     "output_type": "stream",
     "text": [
      "True\n",
      "True\n"
     ]
    }
   ],
   "source": [
    "print(isinstance(s1, Student))\n",
    "print(isinstance(s1, Person))"
   ]
  },
  {
   "cell_type": "markdown",
   "id": "06eba5c3",
   "metadata": {},
   "source": [
    "## 상속과 static변수 활용"
   ]
  },
  {
   "cell_type": "code",
   "execution_count": 39,
   "id": "c1aa830e",
   "metadata": {
    "ExecuteTime": {
     "end_time": "2024-11-15T05:19:21.811985Z",
     "start_time": "2024-11-15T05:19:21.805003Z"
    }
   },
   "outputs": [],
   "source": [
    "class Person:\n",
    "    'Person = name, gender'\n",
    "    def __init__(self, name, gender):\n",
    "        self.name = name\n",
    "        self.gender = gender\n",
    "    def print_info(self): #추상메소드 흉내\n",
    "        raise Exception('이 메소드는 반드시 구현되어야 합니다')\n",
    "    def __str__(self):\n",
    "        return '{}님은 {}'.format(self.name, self.gender)\n",
    "    \n",
    "class Student(Person):\n",
    "    '''\n",
    "    name과 gender(상속)에 major 변수를 갖는 Student 타입\n",
    "    객체생성마다 몇번째 객체인지 저장(static변수)\n",
    "    '''\n",
    "    \n",
    "    __count = 0 # static변수 (객체 갯수가 저장될 변수)\n",
    "    # 변수명 앞에 __붙으면, \"클래스명._클래스명__static변수\"로 사용\n",
    "    \n",
    "    def __init__(self, name, gender, major):\n",
    "        Student._Student__count += 1\n",
    "        super().__init__(name, gender)\n",
    "        self.major = major\n",
    "    \n",
    "    def __del__(self):\n",
    "        Student._Student__count -= 1\n",
    "        # 객체가 생성될 때 마다 __count 1증가\n",
    "        # 객체가 소멸될 때 마다 __count 1감소\n",
    "    def print_info(self):\n",
    "        print('{}님은 {}이고 전공은 {} 입니다 - 이상 {}번째 인스턴스(객체변수)'.format(self.name, self.gender, self.major, Student._Student__count))\n",
    "    def __str__(self):\n",
    "        return super().__str__() + ' 전공은 {} 입니다'.format(self.major)\n",
    "    @classmethod\n",
    "    def get_count(cls):\n",
    "        return Student._Student__count\n",
    "#         return cls._Student__count"
   ]
  },
  {
   "cell_type": "code",
   "execution_count": 40,
   "id": "5a560ce3",
   "metadata": {
    "ExecuteTime": {
     "end_time": "2024-11-15T05:19:22.195327Z",
     "start_time": "2024-11-15T05:19:22.191338Z"
    }
   },
   "outputs": [
    {
     "name": "stdout",
     "output_type": "stream",
     "text": [
      "홍길동님은 남자\n"
     ]
    }
   ],
   "source": [
    "p = Person('홍길동', '남자')\n",
    "print(p)"
   ]
  },
  {
   "cell_type": "code",
   "execution_count": 41,
   "id": "14a4bc80",
   "metadata": {
    "ExecuteTime": {
     "end_time": "2024-11-15T05:19:22.695548Z",
     "start_time": "2024-11-15T05:19:22.691555Z"
    }
   },
   "outputs": [],
   "source": [
    "# p.print_info() 강제 예외 발생"
   ]
  },
  {
   "cell_type": "code",
   "execution_count": 65,
   "id": "068f21a7",
   "metadata": {
    "ExecuteTime": {
     "end_time": "2024-11-15T05:26:48.437475Z",
     "start_time": "2024-11-15T05:26:48.432488Z"
    }
   },
   "outputs": [
    {
     "name": "stdout",
     "output_type": "stream",
     "text": [
      "홍학생님은 남자 전공은 AI 빅데이터 입니다\n",
      "객체의 갯수 : 1\n",
      "객체의 갯수 : 1\n"
     ]
    }
   ],
   "source": [
    "s1 = Student('홍학생', '남자', 'AI 빅데이터')\n",
    "print(s1)\n",
    "print('객체의 갯수 :', s1.get_count())\n",
    "print('객체의 갯수 :', Student._Student__count)"
   ]
  },
  {
   "cell_type": "code",
   "execution_count": 66,
   "id": "d540c25c",
   "metadata": {
    "ExecuteTime": {
     "end_time": "2024-11-15T05:26:49.044347Z",
     "start_time": "2024-11-15T05:26:49.040373Z"
    }
   },
   "outputs": [
    {
     "name": "stdout",
     "output_type": "stream",
     "text": [
      "신길숙님은 여자이고 전공은 통계학 입니다 - 이상 2번째 인스턴스(객체변수)\n",
      "객체갯수 : 2\n",
      "2\n"
     ]
    }
   ],
   "source": [
    "s2 = Student('신길숙', '여자', '통계학')\n",
    "s2.print_info()\n",
    "print('객체갯수 :',s2.get_count())\n",
    "print(Student._Student__count)"
   ]
  },
  {
   "cell_type": "code",
   "execution_count": 67,
   "id": "9ca307de",
   "metadata": {
    "ExecuteTime": {
     "end_time": "2024-11-15T05:26:50.269346Z",
     "start_time": "2024-11-15T05:26:50.264360Z"
    }
   },
   "outputs": [
    {
     "data": {
      "text/plain": [
       "{'name': '신길숙', 'gender': '여자', 'major': '통계학'}"
      ]
     },
     "execution_count": 67,
     "metadata": {},
     "output_type": "execute_result"
    }
   ],
   "source": [
    "s2.__dict__"
   ]
  },
  {
   "cell_type": "code",
   "execution_count": 68,
   "id": "205e276d",
   "metadata": {
    "ExecuteTime": {
     "end_time": "2024-11-15T05:26:50.864127Z",
     "start_time": "2024-11-15T05:26:50.860147Z"
    }
   },
   "outputs": [
    {
     "name": "stdout",
     "output_type": "stream",
     "text": [
      "객체갯수 : 1\n"
     ]
    }
   ],
   "source": [
    "del s1\n",
    "print('객체갯수 :', Student.get_count())"
   ]
  },
  {
   "cell_type": "code",
   "execution_count": 69,
   "id": "0f86360a",
   "metadata": {
    "ExecuteTime": {
     "end_time": "2024-11-15T05:32:56.098094Z",
     "start_time": "2024-11-15T05:32:56.092083Z"
    }
   },
   "outputs": [],
   "source": [
    "class Product:\n",
    "    __count = 100\n",
    "    def __init__(self, name, price):\n",
    "        Product._Product__count += 1\n",
    "        self.serialno = Product._Product__count # 파이썬에선 자바와 다르게 스칼라 static변수일 경우 값이 할당됨\n",
    "        self.name = name\n",
    "        self.price = price\n",
    "    def __str__(self):\n",
    "        return 'serialNo : {} \\n상품명 : {} \\n가격 : {}'.format(self.serialno, self.name, self.price)"
   ]
  },
  {
   "cell_type": "code",
   "execution_count": 70,
   "id": "205b7133",
   "metadata": {
    "ExecuteTime": {
     "end_time": "2024-11-15T05:33:50.588769Z",
     "start_time": "2024-11-15T05:33:50.583755Z"
    }
   },
   "outputs": [],
   "source": [
    "p1 = Product('새우깡',1600)\n",
    "p2 = Product('양파깡', 1800)\n",
    "p3 = Product('페르로쉐', 10000)"
   ]
  },
  {
   "cell_type": "code",
   "execution_count": 71,
   "id": "8add7df1",
   "metadata": {
    "ExecuteTime": {
     "end_time": "2024-11-15T05:34:11.917527Z",
     "start_time": "2024-11-15T05:34:11.912539Z"
    }
   },
   "outputs": [
    {
     "name": "stdout",
     "output_type": "stream",
     "text": [
      "serialNo : 101 \n",
      "상품명 : 새우깡 \n",
      "가격 : 1600\n",
      "serialNo : 102 \n",
      "상품명 : 양파깡 \n",
      "가격 : 1800\n",
      "serialNo : 103 \n",
      "상품명 : 페르로쉐 \n",
      "가격 : 10000\n"
     ]
    }
   ],
   "source": [
    "print(p1)\n",
    "print(p2)\n",
    "print(p3)"
   ]
  },
  {
   "cell_type": "code",
   "execution_count": 72,
   "id": "25b58aac",
   "metadata": {
    "ExecuteTime": {
     "end_time": "2024-11-15T05:34:58.377454Z",
     "start_time": "2024-11-15T05:34:58.371472Z"
    }
   },
   "outputs": [
    {
     "name": "stdout",
     "output_type": "stream",
     "text": [
      "생성된 최종 시리얼 번호 : 103\n"
     ]
    }
   ],
   "source": [
    "print('생성된 최종 시리얼 번호 :', Product._Product__count)"
   ]
  },
  {
   "cell_type": "markdown",
   "id": "a84c43a2",
   "metadata": {},
   "source": [
    "# 6절. 연습문제"
   ]
  },
  {
   "cell_type": "code",
   "execution_count": null,
   "id": "04f3becf",
   "metadata": {},
   "outputs": [],
   "source": [
    "\"\"\"\n",
    " 도형(Shape)클래스와 삼각형(Triangle) 클래스를 만들어야 합니다.\n",
    " 도형(Shape)클래스\n",
    "• 생성자를 통해 x, y좌표를 초기화할 수 있습니다. x, y좌표의 기본값은 0, 0입니다.\n",
    "• x, y좌표를 이동시킬 수 있는 move 함수가 있습니다.\n",
    "• x, y좌표값 정보를 문자열로 리턴하는 __str__ 함수가 있습니다\n",
    "• 도형의 면적을 구하는 함수(calc_area)가 있습니다. 다만 도형 클래스의 calc_area()는\n",
    "  구현되어 있지 않아 호출하면 오류가 발생합니다(파이썬은 추상메소드가 없음. 추상메소\n",
    "  드 역할을 구현)\n",
    "• 정적메소드(staticmethod)를 하나 이상 구현합니다.\n",
    " ‘삼각형(Triangle)클래스는 도형(Shape)클래스이다’관계가 성립해야 합니다\n",
    " 생성자를 통해, width, height, x, y좌표를 초기화하고 x, y 좌표의 기본값은 0, 0입니다\n",
    " 삼각형의 면적을 구하는 메소드 calc_area를 재정의합니다\n",
    " 삼각형의 정보를 문자열로 반환하는 __str__() 함수가 있습니다.\n",
    " 삼각형 객체가 몇 개가 만들어져 있는지 정보를 저장하는 클래스 변수를 추가하고 생성자\n",
    "   에서 객체를 만들 때마다 증가시키고 소멸자에서 객체를 소멸시킬 때마다 감소합니다.\n",
    "\"\"\""
   ]
  },
  {
   "cell_type": "code",
   "execution_count": 1,
   "id": "9b576ae5",
   "metadata": {
    "ExecuteTime": {
     "end_time": "2024-11-15T07:14:37.989052Z",
     "start_time": "2024-11-15T07:14:37.984066Z"
    }
   },
   "outputs": [],
   "source": [
    "class Shape:\n",
    "    def __init__(self, x = 0, y = 0):\n",
    "        self.x = x\n",
    "        self.y = y\n",
    "    def move(self, x, y):\n",
    "        self.x += x\n",
    "        self.y += y\n",
    "    def __str__(self):\n",
    "        return 'x : {}, y : {}'.format(self.x, self.y)\n",
    "    def calc_area(self):\n",
    "        raise Exception('이 메소드는 구현해야합니다')\n",
    "    @staticmethod\n",
    "    def distance():\n",
    "        print('구현중인 static메소드입니다')"
   ]
  },
  {
   "cell_type": "code",
   "execution_count": 2,
   "id": "a4bdf857",
   "metadata": {
    "ExecuteTime": {
     "end_time": "2024-11-15T07:14:38.828693Z",
     "start_time": "2024-11-15T07:14:38.822709Z"
    }
   },
   "outputs": [],
   "source": [
    "class Triangle(Shape):\n",
    "    __count = 0\n",
    "    def __init__(self, width, height, x = 0, y = 0):\n",
    "        Triangle._Triangle__count += 1\n",
    "        super().__init__(x, y)\n",
    "        self.width = width\n",
    "        self.height = height\n",
    "    def calc_area(self):\n",
    "        return (self.width * self.height) / 2\n",
    "    def __del__():\n",
    "        Triangle._Triangle__count -= 1\n",
    "    def __str__(self):\n",
    "        return super().__str__() + ' 삼각형의 밑변 : {}, 삼각형의 높이 : {}, 삼각형의 넓이 : {}'.format(self.width,self.height,self.calc_area())\n",
    "    @classmethod\n",
    "    def get_count(cls):\n",
    "        return Triangle._Triangle__count"
   ]
  },
  {
   "cell_type": "code",
   "execution_count": 3,
   "id": "e3f9818c",
   "metadata": {
    "ExecuteTime": {
     "end_time": "2024-11-15T07:14:39.515677Z",
     "start_time": "2024-11-15T07:14:39.510691Z"
    }
   },
   "outputs": [
    {
     "name": "stdout",
     "output_type": "stream",
     "text": [
      "x : 0, y : 0 삼각형의 밑변 : 3, 삼각형의 높이 : 4, 삼각형의 넓이 : 6.0\n",
      "True\n",
      "True\n"
     ]
    }
   ],
   "source": [
    "t1 = Triangle(3,4)\n",
    "print(t1)\n",
    "print(isinstance(t1, Shape))\n",
    "print(isinstance(t1, Triangle))"
   ]
  },
  {
   "cell_type": "code",
   "execution_count": 4,
   "id": "2f234d6a",
   "metadata": {
    "ExecuteTime": {
     "end_time": "2024-11-15T07:14:40.123363Z",
     "start_time": "2024-11-15T07:14:40.118408Z"
    }
   },
   "outputs": [
    {
     "name": "stdout",
     "output_type": "stream",
     "text": [
      "1\n"
     ]
    }
   ],
   "source": [
    "print(Triangle._Triangle__count)"
   ]
  },
  {
   "cell_type": "code",
   "execution_count": 5,
   "id": "fe28f4f0",
   "metadata": {
    "ExecuteTime": {
     "end_time": "2024-11-15T07:14:40.706911Z",
     "start_time": "2024-11-15T07:14:40.701924Z"
    }
   },
   "outputs": [
    {
     "name": "stdout",
     "output_type": "stream",
     "text": [
      "구현중인 static메소드입니다\n"
     ]
    }
   ],
   "source": [
    "Shape.distance()"
   ]
  },
  {
   "cell_type": "code",
   "execution_count": 6,
   "id": "3c367012",
   "metadata": {
    "ExecuteTime": {
     "end_time": "2024-11-15T07:14:41.339591Z",
     "start_time": "2024-11-15T07:14:41.334629Z"
    }
   },
   "outputs": [
    {
     "name": "stdout",
     "output_type": "stream",
     "text": [
      "x : 0, y : 0 삼각형의 밑변 : 6, 삼각형의 높이 : 7, 삼각형의 넓이 : 21.0\n",
      "True\n",
      "True\n",
      "2\n"
     ]
    }
   ],
   "source": [
    "t2 = Triangle(6,7)\n",
    "print(t2)\n",
    "print(isinstance(t2, Shape))\n",
    "print(isinstance(t2, Triangle))\n",
    "print(Triangle._Triangle__count)"
   ]
  },
  {
   "cell_type": "code",
   "execution_count": 7,
   "id": "15158023",
   "metadata": {
    "ExecuteTime": {
     "end_time": "2024-11-15T07:14:43.525085Z",
     "start_time": "2024-11-15T07:14:43.518054Z"
    }
   },
   "outputs": [
    {
     "data": {
      "text/plain": [
       "'\\n다음중 올바른 클래스 정의는\\n답 : 1번 class Person:\\n'"
      ]
     },
     "execution_count": 7,
     "metadata": {},
     "output_type": "execute_result"
    }
   ],
   "source": [
    "\"\"\"\n",
    "다음중 올바른 클래스 정의는\n",
    "답 : 1번 class Person:\n",
    "\"\"\""
   ]
  },
  {
   "cell_type": "code",
   "execution_count": 8,
   "id": "9148bad4",
   "metadata": {
    "ExecuteTime": {
     "end_time": "2024-11-15T07:14:44.019324Z",
     "start_time": "2024-11-15T07:14:44.014336Z"
    }
   },
   "outputs": [
    {
     "data": {
      "text/plain": [
       "'\\n다음중 Person클래스의 객체를 생성하는 올바른 방법은\\n답 : 2번 p1 = Person()\\n'"
      ]
     },
     "execution_count": 8,
     "metadata": {},
     "output_type": "execute_result"
    }
   ],
   "source": [
    "\"\"\"\n",
    "다음중 Person클래스의 객체를 생성하는 올바른 방법은\n",
    "답 : 2번 p1 = Person()\n",
    "\"\"\""
   ]
  },
  {
   "cell_type": "code",
   "execution_count": 9,
   "id": "7159ba8e",
   "metadata": {
    "ExecuteTime": {
     "end_time": "2024-11-15T07:14:44.451119Z",
     "start_time": "2024-11-15T07:14:44.446160Z"
    }
   },
   "outputs": [
    {
     "data": {
      "text/plain": [
       "'\\n다음중 인스턴스 메소드를 선언하는 가장 올바른 방법은\\n답 : 4번 def print_info(self)\\n'"
      ]
     },
     "execution_count": 9,
     "metadata": {},
     "output_type": "execute_result"
    }
   ],
   "source": [
    "\"\"\"\n",
    "다음중 인스턴스 메소드를 선언하는 가장 올바른 방법은\n",
    "답 : 4번 def print_info(self)\n",
    "\"\"\""
   ]
  },
  {
   "cell_type": "code",
   "execution_count": 10,
   "id": "63b705be",
   "metadata": {
    "ExecuteTime": {
     "end_time": "2024-11-15T07:14:44.739054Z",
     "start_time": "2024-11-15T07:14:44.734057Z"
    }
   },
   "outputs": [
    {
     "data": {
      "text/plain": [
       "'\\n다음중 생성자와 소멸자에 대해 잘못 설명한 것은\\n답 : 1 생성자는 중복 정의해서 사용할 수 있다\\n'"
      ]
     },
     "execution_count": 10,
     "metadata": {},
     "output_type": "execute_result"
    }
   ],
   "source": [
    "\"\"\"\n",
    "다음중 생성자와 소멸자에 대해 잘못 설명한 것은\n",
    "답 : 1 생성자는 중복 정의해서 사용할 수 있다\n",
    "\"\"\""
   ]
  },
  {
   "cell_type": "code",
   "execution_count": 11,
   "id": "b777e083",
   "metadata": {
    "ExecuteTime": {
     "end_time": "2024-11-15T07:14:44.911232Z",
     "start_time": "2024-11-15T07:14:44.905863Z"
    }
   },
   "outputs": [
    {
     "data": {
      "text/plain": [
       "'\\n다음중 \"Student is a Person\"을 클래스 상속으로 바르게 표현한 것은\\n답 : 2 class Student(Person)\\n'"
      ]
     },
     "execution_count": 11,
     "metadata": {},
     "output_type": "execute_result"
    }
   ],
   "source": [
    "\"\"\"\n",
    "다음중 \"Student is a Person\"을 클래스 상속으로 바르게 표현한 것은\n",
    "답 : 2 class Student(Person)\n",
    "\"\"\""
   ]
  },
  {
   "cell_type": "code",
   "execution_count": 12,
   "id": "edebad15",
   "metadata": {
    "ExecuteTime": {
     "end_time": "2024-11-15T07:14:45.104245Z",
     "start_time": "2024-11-15T07:14:45.099259Z"
    }
   },
   "outputs": [
    {
     "data": {
      "text/plain": [
       "'\\n다음중 상속과 재정의에 대해 잘못 설명한 것은\\n답 : 3 재정의는 메소드의 이름은 같고, 매개변수의 수는 다르게 정의해야 한다.\\n'"
      ]
     },
     "execution_count": 12,
     "metadata": {},
     "output_type": "execute_result"
    }
   ],
   "source": [
    "\"\"\"\n",
    "다음중 상속과 재정의에 대해 잘못 설명한 것은\n",
    "답 : 3 재정의는 메소드의 이름은 같고, 매개변수의 수는 다르게 정의해야 한다.\n",
    "\"\"\""
   ]
  },
  {
   "cell_type": "code",
   "execution_count": 13,
   "id": "8604fda0",
   "metadata": {
    "ExecuteTime": {
     "end_time": "2024-11-15T07:14:45.271959Z",
     "start_time": "2024-11-15T07:14:45.266940Z"
    }
   },
   "outputs": [
    {
     "data": {
      "text/plain": [
       "'\\n다음 클래스의 메소드를 호출하는 방법중 잘못된것은\\n답 : 2 obj.method_b()\\n'"
      ]
     },
     "execution_count": 13,
     "metadata": {},
     "output_type": "execute_result"
    }
   ],
   "source": [
    "\"\"\"\n",
    "다음 클래스의 메소드를 호출하는 방법중 잘못된것은\n",
    "답 : 2 obj.method_b()\n",
    "\"\"\""
   ]
  },
  {
   "cell_type": "code",
   "execution_count": 14,
   "id": "05282f30",
   "metadata": {
    "ExecuteTime": {
     "end_time": "2024-11-15T07:14:45.447143Z",
     "start_time": "2024-11-15T07:14:45.442156Z"
    }
   },
   "outputs": [
    {
     "data": {
      "text/plain": [
       "'\\n두 클래스와 코드의 실행결과 다음과 같이 출력되도록 해야한다면 빈 칸에 넣을 수 없는 것을 고르세요\\n답 : 2 super().do_(a)\\n'"
      ]
     },
     "execution_count": 14,
     "metadata": {},
     "output_type": "execute_result"
    }
   ],
   "source": [
    "\"\"\"\n",
    "두 클래스와 코드의 실행결과 다음과 같이 출력되도록 해야한다면 빈 칸에 넣을 수 없는 것을 고르세요\n",
    "답 : 2 super().do_(a)\n",
    "\"\"\""
   ]
  },
  {
   "cell_type": "code",
   "execution_count": 15,
   "id": "4f6e9d2d",
   "metadata": {
    "ExecuteTime": {
     "end_time": "2024-11-15T07:14:45.615921Z",
     "start_time": "2024-11-15T07:14:45.609837Z"
    }
   },
   "outputs": [
    {
     "data": {
      "text/plain": [
       "'\\n다음중 파이썬의 특별한 용도로 정의되어 있는 속성과 메소드에 대한 설명 중 잘못된 것은\\n답 : 2 __str__() 매소드는 print()함수의 인자로 객체를 전달할 때 호출되는 메소드이다. 이 메소드는 매개변수를 가질 수 없다.\\n'"
      ]
     },
     "execution_count": 15,
     "metadata": {},
     "output_type": "execute_result"
    }
   ],
   "source": [
    "\"\"\"\n",
    "다음중 파이썬의 특별한 용도로 정의되어 있는 속성과 메소드에 대한 설명 중 잘못된 것은\n",
    "답 : 2 __str__() 매소드는 print()함수의 인자로 객체를 전달할 때 호출되는 메소드이다. 이 메소드는 매개변수를 가질 수 없다.\n",
    "\"\"\""
   ]
  }
 ],
 "metadata": {
  "kernelspec": {
   "display_name": "Python 3 (ipykernel)",
   "language": "python",
   "name": "python3"
  },
  "language_info": {
   "codemirror_mode": {
    "name": "ipython",
    "version": 3
   },
   "file_extension": ".py",
   "mimetype": "text/x-python",
   "name": "python",
   "nbconvert_exporter": "python",
   "pygments_lexer": "ipython3",
   "version": "3.10.9"
  },
  "toc": {
   "base_numbering": 1,
   "nav_menu": {},
   "number_sections": true,
   "sideBar": true,
   "skip_h1_title": false,
   "title_cell": "Table of Contents",
   "title_sidebar": "Contents",
   "toc_cell": false,
   "toc_position": {
    "height": "calc(100% - 180px)",
    "left": "10px",
    "top": "150px",
    "width": "252.326px"
   },
   "toc_section_display": true,
   "toc_window_display": true
  }
 },
 "nbformat": 4,
 "nbformat_minor": 5
}
