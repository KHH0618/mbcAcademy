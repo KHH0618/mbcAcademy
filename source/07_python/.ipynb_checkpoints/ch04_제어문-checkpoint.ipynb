{
 "cells": [
  {
   "cell_type": "markdown",
   "id": "2cb28652",
   "metadata": {},
   "source": [
    "<b><font color=\"red\" size=\"6\">ch04. 제어문</font></b>\n",
    "- if문, for-in문, while문, 중첩가능, 중첩반복문 루프탈출"
   ]
  },
  {
   "cell_type": "markdown",
   "id": "e6115500",
   "metadata": {},
   "source": [
    "# 1절. 조건문(if문)"
   ]
  },
  {
   "cell_type": "code",
   "execution_count": 1,
   "id": "6ccfdeb4",
   "metadata": {
    "ExecuteTime": {
     "end_time": "2024-11-07T05:29:25.053134Z",
     "start_time": "2024-11-07T05:29:21.686976Z"
    }
   },
   "outputs": [
    {
     "name": "stdout",
     "output_type": "stream",
     "text": [
      "Enter your score > 50\n",
      "재시험 응시하셔야 합니다\n",
      "화이팅\n"
     ]
    }
   ],
   "source": [
    "score = int(input('Enter your score > '))\n",
    "if score >= 90:\n",
    "    print('참잘했어요')\n",
    "    print('다음에도 기대할께요')\n",
    "elif score >= 60:\n",
    "    print('분발하실거죠?')\n",
    "    print('뭐 그래도 고생했어요')\n",
    "else:\n",
    "    print('재시험 응시하셔야 합니다')\n",
    "    print('화이팅')"
   ]
  },
  {
   "cell_type": "code",
   "execution_count": 2,
   "id": "94681c40",
   "metadata": {
    "ExecuteTime": {
     "end_time": "2024-11-07T05:29:27.980006Z",
     "start_time": "2024-11-07T05:29:25.055128Z"
    }
   },
   "outputs": [
    {
     "name": "stdout",
     "output_type": "stream",
     "text": [
      "Enter your score > 20\n",
      "입력하신 점수는 20점이고, F등급입니다.\n"
     ]
    }
   ],
   "source": [
    "# 점수를 입력받아 학점출력(A, B, C, D, F, 유효하지 않은점수)\n",
    "score = int(input('Enter your score > '))\n",
    "if 100 >= score >= 90:\n",
    "    grade = 'A'\n",
    "elif 90 > score >= 80:\n",
    "    grade = 'B'\n",
    "elif 80 > score >= 70:\n",
    "    grade = 'C'\n",
    "elif 70 > score >= 60:\n",
    "    grade = 'D'\n",
    "elif 60 > score >= 0:\n",
    "    grade = 'F'\n",
    "else:\n",
    "    grade = '유효하지 않은 점수'\n",
    "print(\"입력하신 점수는 {}점이고, {}등급입니다.\".format(score, grade))"
   ]
  },
  {
   "cell_type": "markdown",
   "id": "957fc7cb",
   "metadata": {},
   "source": [
    "# 2절. 반복문\n",
    "## 2.1 for-in문\n",
    "```\n",
    "for 임시변수 in 나열가능한 자료:\n",
    "    반복할 문장1\n",
    "    반복할 문장2\n",
    "else:\n",
    "    나열가능한 자료를 다 소요하여 for블록을 다 수행한 후, 최종한번만 실행할 문장(else선택사항)\n",
    "    for문안에 break가 있을경우, else블록은 수행되지 않음\n",
    "```"
   ]
  },
  {
   "cell_type": "code",
   "execution_count": 3,
   "id": "15bf536a",
   "metadata": {
    "ExecuteTime": {
     "end_time": "2024-11-07T05:29:27.988086Z",
     "start_time": "2024-11-07T05:29:27.982999Z"
    }
   },
   "outputs": [
    {
     "name": "stdout",
     "output_type": "stream",
     "text": [
      "1\t3\t5\t7\t9\t\n",
      "DONE\n",
      "end\n"
     ]
    }
   ],
   "source": [
    "for i in range(1,10,2):\n",
    "    print(i, end='\\t')\n",
    "else:\n",
    "    print('\\nDONE')\n",
    "print('end')"
   ]
  },
  {
   "cell_type": "code",
   "execution_count": 4,
   "id": "d7e1b6c8",
   "metadata": {
    "ExecuteTime": {
     "end_time": "2024-11-07T05:29:27.998048Z",
     "start_time": "2024-11-07T05:29:27.990069Z"
    }
   },
   "outputs": [
    {
     "name": "stdout",
     "output_type": "stream",
     "text": [
      "1\t3\tend\n"
     ]
    }
   ],
   "source": [
    "for i in range(1,10,2):\n",
    "    if i == 5:\n",
    "        break\n",
    "    print(i, end='\\t')\n",
    "else:\n",
    "    print('\\nDONE')\n",
    "print('end')"
   ]
  },
  {
   "cell_type": "code",
   "execution_count": 5,
   "id": "b82f2e5d",
   "metadata": {
    "ExecuteTime": {
     "end_time": "2024-11-07T05:29:28.007024Z",
     "start_time": "2024-11-07T05:29:28.000042Z"
    }
   },
   "outputs": [
    {
     "name": "stdout",
     "output_type": "stream",
     "text": [
      "1~100까지 짝수의 합은 2550\n"
     ]
    }
   ],
   "source": [
    "# 1~100까지 짝수의 합을 계산하고 출력하시오 (for문)\n",
    "sum = 0\n",
    "for i in range(1, 101):\n",
    "    if i%2==0:\n",
    "        sum+=i\n",
    "else:\n",
    "    pass\n",
    "print('1~100까지 짝수의 합은', sum)"
   ]
  },
  {
   "cell_type": "markdown",
   "id": "cac7919f",
   "metadata": {},
   "source": [
    "## 2.2 while문\n",
    "```\n",
    "while 조건 :\n",
    "    조건이 참일경우 반복할문장1\n",
    "    조건이 참일경우 반복할문장2 ...\n",
    "else :\n",
    "    조건이 거짓일 경우 한번 실행할 문장(else구문 선택사항)\n",
    "```"
   ]
  },
  {
   "cell_type": "code",
   "execution_count": 6,
   "id": "edbf9b4d",
   "metadata": {
    "ExecuteTime": {
     "end_time": "2024-11-07T05:29:28.015030Z",
     "start_time": "2024-11-07T05:29:28.009019Z"
    }
   },
   "outputs": [
    {
     "name": "stdout",
     "output_type": "stream",
     "text": [
      "1~100까지 짝수의 합은 2550\n"
     ]
    }
   ],
   "source": [
    "# 1~100까지 짝수의 합을 계산하고 출력하시오 (while문)\n",
    "sum = 0\n",
    "i = 1\n",
    "while i <= 100:\n",
    "    if i%2==0:\n",
    "        sum += i\n",
    "    i+=1 # ++, -- 증감연산자가 파이썬에서는 없음\n",
    "else :\n",
    "    print('1~100까지 짝수의 합은', sum)"
   ]
  },
  {
   "cell_type": "code",
   "execution_count": 15,
   "id": "b401a936",
   "metadata": {
    "ExecuteTime": {
     "end_time": "2024-11-07T05:40:00.813581Z",
     "start_time": "2024-11-07T05:39:58.213716Z"
    }
   },
   "outputs": [
    {
     "name": "stdout",
     "output_type": "stream",
     "text": [
      "첫번째 정수 > 3\n",
      "두번째 정수 > 4\n",
      "첫번째 수 3, 두번째 수 4 까지의 홀수들에 합은 : 3\n"
     ]
    }
   ],
   "source": [
    "# 사용자가에게 두 정수 입력받아, 작은수부터 큰수까지 홀수의 합 누적해서 출력\n",
    "i = int(input('첫번째 정수 > '))\n",
    "j = int(input('두번째 정수 > '))\n",
    "if j > i:\n",
    "    min = i\n",
    "    max = j\n",
    "elif i > j:\n",
    "    min = j\n",
    "    max = i\n",
    "\n",
    "sum = 0\n",
    "while min <= max:\n",
    "    if min%2!=0:\n",
    "        sum+=min\n",
    "    min+=1\n",
    "print('첫번째 수 {}, 두번째 수 {} 까지의 홀수들에 합은 : {}'.format(i, j, sum))"
   ]
  },
  {
   "cell_type": "code",
   "execution_count": 2,
   "id": "fb27fd92",
   "metadata": {
    "ExecuteTime": {
     "end_time": "2024-11-07T06:51:24.517143Z",
     "start_time": "2024-11-07T06:51:24.509184Z"
    }
   },
   "outputs": [
    {
     "name": "stdout",
     "output_type": "stream",
     "text": [
      "6개 로또번호는 6번 추출함\n",
      "정렬 전 : {41, 44, 13, 23, 27, 29}\n",
      "정렬 후 : [13, 23, 27, 29, 41, 44]\n"
     ]
    }
   ],
   "source": [
    "#ex2. 로또 번호 6개를 추출후, 정렬하여 출력하시오\n",
    "import random\n",
    "lotto_set = set()\n",
    "cnt = 0\n",
    "while len(lotto_set) < 6:\n",
    "    lotto_set.add(random.randint(1,45))\n",
    "    cnt += 1\n",
    "#     random_num = random.randint(1,45)\n",
    "#     cnt += 1\n",
    "#     if random_num in lotto_lst:\n",
    "#         pass\n",
    "#     else :\n",
    "#         lotto_lst.append(random_num)\n",
    "print('6개 로또번호는 {}번 추출함'.format(cnt))\n",
    "print('정렬 전 :', lotto_set)\n",
    "print('정렬 후 :',sorted(list(lotto_set)))"
   ]
  },
  {
   "cell_type": "code",
   "execution_count": 90,
   "id": "834500e0",
   "metadata": {
    "ExecuteTime": {
     "end_time": "2024-11-07T06:35:07.883200Z",
     "start_time": "2024-11-07T06:35:07.877846Z"
    }
   },
   "outputs": [
    {
     "name": "stdout",
     "output_type": "stream",
     "text": [
      "[10, 16, 17, 20, 22, 30]\n"
     ]
    }
   ],
   "source": [
    "#ex2. 1~45 중에 6개 뽑기\n",
    "print(sorted(random.sample(range(1,46), 6)))"
   ]
  },
  {
   "cell_type": "markdown",
   "id": "b61f029b",
   "metadata": {},
   "source": [
    "## 2.3 break, continue"
   ]
  },
  {
   "cell_type": "code",
   "execution_count": 2,
   "id": "b631de70",
   "metadata": {
    "ExecuteTime": {
     "end_time": "2024-11-07T06:39:08.207785Z",
     "start_time": "2024-11-07T06:39:08.202777Z"
    }
   },
   "outputs": [
    {
     "name": "stdout",
     "output_type": "stream",
     "text": [
      "1\n",
      "2\n",
      "3\n",
      "4\n",
      "6\n",
      "7\n",
      "8\n",
      "9\n",
      "10\n",
      "DONE\n"
     ]
    }
   ],
   "source": [
    "num = 0\n",
    "while num<10:\n",
    "    num+=1\n",
    "    if num==5:\n",
    "#         break\n",
    "        continue\n",
    "    print(num)\n",
    "print('DONE')"
   ]
  },
  {
   "cell_type": "code",
   "execution_count": 4,
   "id": "ea1c6595",
   "metadata": {
    "ExecuteTime": {
     "end_time": "2024-11-07T06:55:52.723246Z",
     "start_time": "2024-11-07T06:55:35.990546Z"
    }
   },
   "outputs": [
    {
     "name": "stdout",
     "output_type": "stream",
     "text": [
      "1~100사이의 수를 맞춰 보세요 > 50\n",
      "UP\n",
      "1~100사이의 수를 맞춰 보세요 > 75\n",
      "UP\n",
      "1~100사이의 수를 맞춰 보세요 > 90\n",
      "UP\n",
      "1~100사이의 수를 맞춰 보세요 > 95\n",
      "UP\n",
      "1~100사이의 수를 맞춰 보세요 > 98\n",
      "UP\n",
      "1~100사이의 수를 맞춰 보세요 > 99\n",
      "추카추카\n"
     ]
    }
   ],
   "source": [
    "#숫자 찾기 게임 \n",
    "'''\n",
    "1 ~ 100 사이의 정수를 맞추기 프로그램\n",
    "(프로그램 안에거 random수가 만들어지고 그 random수 맞추기)\n",
    "1단계 : 숫자를 못 맞추면 UP/DOWN 출력하고, 맞추면 끝남\n",
    "2단계 : 숫자를 못 맞추면 min~max를 조정, 맞추면 축하메세지 뿌리고 끝남\n",
    "3단계 : 2단계의 기회를 5회로 제한. 5회의 기회가 지나면 실패 메세지 뿌리고 끝남\n",
    "(2단계와 3단계 연슴문제)\n",
    "'''\n",
    "#1 단계\n",
    "pc_num = random.randint(1,100)\n",
    "while True:\n",
    "    slect_num = int(input('1~100사이의 수를 맞춰 보세요 > '))\n",
    "    if (1 >= slect_num)|(slect_num <= 100) :\n",
    "        print('1~100사이에 정수를 입력하세요')\n",
    "    elif pc_num > slect_num:\n",
    "        print('UP ↑')\n",
    "    elif pc_num < slect_num:\n",
    "        print('DOWN ↓')\n",
    "    elif pc_num == slect_num:\n",
    "        print('추카추카')\n",
    "        break\n",
    "print('DONE')    "
   ]
  },
  {
   "cell_type": "markdown",
   "id": "4b76a7ee",
   "metadata": {},
   "source": [
    "# 3절. 중첩루프\n",
    "(반복문 안 반복문)"
   ]
  },
  {
   "cell_type": "code",
   "execution_count": 9,
   "id": "dc10765a",
   "metadata": {
    "ExecuteTime": {
     "end_time": "2024-11-07T07:19:58.613745Z",
     "start_time": "2024-11-07T07:19:58.607635Z"
    }
   },
   "outputs": [
    {
     "name": "stdout",
     "output_type": "stream",
     "text": [
      "  2단  \t  3단  \t  4단  \t  5단  \t  6단  \t  7단  \t  8단  \t  9단  \t\n",
      "2X1: 2\t3X1: 3\t4X1: 4\t5X1: 5\t6X1: 6\t7X1: 7\t8X1: 8\t9X1: 9\t\n",
      "2X2: 4\t3X2: 6\t4X2: 8\t5X2:10\t6X2:12\t7X2:14\t8X2:16\t9X2:18\t\n",
      "2X3: 6\t3X3: 9\t4X3:12\t5X3:15\t6X3:18\t7X3:21\t8X3:24\t9X3:27\t\n",
      "2X4: 8\t3X4:12\t4X4:16\t5X4:20\t6X4:24\t7X4:28\t8X4:32\t9X4:36\t\n",
      "2X5:10\t3X5:15\t4X5:20\t5X5:25\t6X5:30\t7X5:35\t8X5:40\t9X5:45\t\n",
      "2X6:12\t3X6:18\t4X6:24\t5X6:30\t6X6:36\t7X6:42\t8X6:48\t9X6:54\t\n",
      "2X7:14\t3X7:21\t4X7:28\t5X7:35\t6X7:42\t7X7:49\t8X7:56\t9X7:63\t\n",
      "2X8:16\t3X8:24\t4X8:32\t5X8:40\t6X8:48\t7X8:56\t8X8:64\t9X8:72\t\n",
      "2X9:18\t3X9:27\t4X9:36\t5X9:45\t6X9:54\t7X9:63\t8X9:72\t9X9:81\t\n"
     ]
    }
   ],
   "source": [
    "# 2~9단 구구단 출력\n",
    "for i in range(2,10):\n",
    "    print('{:^6}'.format(str(i)+'단'), end='\\t')\n",
    "print()\n",
    "for i in range(1,10):\n",
    "    for j in range(2,10):\n",
    "        print('{}X{}:{:>2}'.format(j, i, j*i), end='\\t')\n",
    "    print()"
   ]
  },
  {
   "cell_type": "code",
   "execution_count": 26,
   "id": "535d498e",
   "metadata": {
    "ExecuteTime": {
     "end_time": "2024-11-07T07:40:13.401069Z",
     "start_time": "2024-11-07T07:40:13.395085Z"
    }
   },
   "outputs": [
    {
     "name": "stdout",
     "output_type": "stream",
     "text": [
      "0번째 1\t1번째 2\t2번째 3\t\n",
      "데이터만 출력\n",
      "1\t2\t3\t"
     ]
    }
   ],
   "source": [
    "lst = [1,2,3]\n",
    "for i in range(len(lst)):\n",
    "    print(\"{}번째 {}\".format(i, lst[i]), end='\\t')\n",
    "print('\\n데이터만 출력')\n",
    "for l in lst:\n",
    "    print(l, end='\\t')"
   ]
  },
  {
   "cell_type": "code",
   "execution_count": 32,
   "id": "ba466ab5",
   "metadata": {
    "ExecuteTime": {
     "end_time": "2024-11-07T07:44:30.880833Z",
     "start_time": "2024-11-07T07:44:30.874877Z"
    }
   },
   "outputs": [
    {
     "name": "stdout",
     "output_type": "stream",
     "text": [
      "0행 0열 : 1\t0행 1열 : 2\t0행 2열 : 3\t0행 3열 : 4\t\n",
      "1행 0열 : 5\t1행 1열 : 6\t1행 2열 : 7\t1행 3열 : 8\t\n",
      "2행 0열 : 1\t2행 1열 : 2\t2행 2열 : 3\t2행 3열 : 4\t\n",
      "1\t2\t3\t4\t\n",
      "5\t6\t7\t8\t\n",
      "1\t2\t3\t4\t\n"
     ]
    }
   ],
   "source": [
    "lst_2d = [[1,2,3,4],\n",
    "          [5,6,7,8],\n",
    "          [1,2,3,4]]\n",
    "\n",
    "for i in range(len(lst_2d)):\n",
    "    for j in range(len(lst_2d[i])):\n",
    "        print(\"{}행 {}열 : {}\".format(i,j,lst_2d[i][j]), end='\\t')\n",
    "    print()\n",
    "for row in lst_2d:\n",
    "    for data in row:\n",
    "        print(data, end='\\t')\n",
    "    print()"
   ]
  },
  {
   "cell_type": "code",
   "execution_count": 42,
   "id": "a69f68ca",
   "metadata": {
    "ExecuteTime": {
     "end_time": "2024-11-07T07:50:33.601473Z",
     "start_time": "2024-11-07T07:50:33.594514Z"
    }
   },
   "outputs": [
    {
     "name": "stdout",
     "output_type": "stream",
     "text": [
      "[[[1, 2, 3, 4], [5, 6, 7, 8], [1, 2, 3, 4]], [[1, 2, 3, 4], [5, 6, 7, 8], [1, 2, 3, 4]]]\n",
      "0면0행0열:1\t0면0행1열:2\t0면0행2열:3\t0면0행3열:4\t\n",
      "0면1행0열:5\t0면1행1열:6\t0면1행2열:7\t0면1행3열:8\t\n",
      "0면2행0열:1\t0면2행1열:2\t0면2행2열:3\t0면2행3열:4\t\n",
      "----------------------------------\n",
      "1면0행0열:1\t1면0행1열:2\t1면0행2열:3\t1면0행3열:4\t\n",
      "1면1행0열:5\t1면1행1열:6\t1면1행2열:7\t1면1행3열:8\t\n",
      "1면2행0열:1\t1면2행1열:2\t1면2행2열:3\t1면2행3열:4\t\n",
      "----------------------------------\n",
      "1\t2\t3\t4\t\n",
      "5\t6\t7\t8\t\n",
      "1\t2\t3\t4\t\n",
      "-------------------------\n",
      "1\t2\t3\t4\t\n",
      "5\t6\t7\t8\t\n",
      "1\t2\t3\t4\t\n",
      "-------------------------\n"
     ]
    }
   ],
   "source": [
    "lst_3d = [[[1,2,3,4],[5,6,7,8],[1,2,3,4]],\n",
    "          [[1,2,3,4],[5,6,7,8],[1,2,3,4]]]\n",
    "print(lst_3d)\n",
    "lst_3d[0][0]\n",
    "for i in range(len(lst_3d)):\n",
    "    for j in range(len(lst_3d[i])):\n",
    "        for k in range(len(lst_3d[i][j])):\n",
    "            print('{}면{}행{}열:{}'.format(i,j,k,lst_3d[i][j][k]), end='\\t')\n",
    "        print()\n",
    "    print('----------------------------------')\n",
    "\n",
    "\n",
    "\n",
    "for face in lst_3d:\n",
    "    for row in face:\n",
    "        for data in row:\n",
    "            print(data, end='\\t')\n",
    "        print()\n",
    "    print('-------------------------')"
   ]
  },
  {
   "cell_type": "markdown",
   "id": "e46f9e4f",
   "metadata": {},
   "source": [
    "# 4절. 중첩루프 탈출"
   ]
  },
  {
   "cell_type": "code",
   "execution_count": 53,
   "id": "da61b284",
   "metadata": {
    "ExecuteTime": {
     "end_time": "2024-11-07T08:25:12.293674Z",
     "start_time": "2024-11-07T08:25:12.288687Z"
    }
   },
   "outputs": [
    {
     "name": "stdout",
     "output_type": "stream",
     "text": [
      "0 1\n",
      "0 2\n",
      "DONE\n"
     ]
    }
   ],
   "source": [
    "#중첩 루프 탈출 : 방법1. 플래그 변수 이용\n",
    "flag = False\n",
    "for a in range(0,3):         #a<=0,1,2\n",
    "    for b in range(1,3):     #b<=1,2\n",
    "        if a == b:\n",
    "            flag = True\n",
    "            break\n",
    "        print(a,b)\n",
    "    if flag:\n",
    "        break\n",
    "print('DONE')"
   ]
  },
  {
   "cell_type": "code",
   "execution_count": 50,
   "id": "f93d058d",
   "metadata": {
    "ExecuteTime": {
     "end_time": "2024-11-07T08:24:44.977192Z",
     "start_time": "2024-11-07T08:24:44.972233Z"
    }
   },
   "outputs": [
    {
     "name": "stdout",
     "output_type": "stream",
     "text": [
      "0 1\n",
      "0 2\n",
      "DONE\n"
     ]
    }
   ],
   "source": [
    "#중첩 루프 탈출 : 방법2. Exception 이용\n",
    "#Exception을 상속받은 BreakOutLoopError클래스 생성\n",
    "class BreakOutLoopError(Exception): pass\n",
    "try:\n",
    "    for a in range(0,3):\n",
    "        for b in range(1,3):\n",
    "            if a==b:\n",
    "                raise BreakOutLoopError\n",
    "            print(a,b)\n",
    "except BreakOutLoopError:\n",
    "    print('DONE')"
   ]
  },
  {
   "cell_type": "markdown",
   "id": "055b0c22",
   "metadata": {},
   "source": [
    "# 연습문제"
   ]
  },
  {
   "cell_type": "code",
   "execution_count": 2,
   "id": "70c5ca27",
   "metadata": {
    "ExecuteTime": {
     "end_time": "2024-11-08T02:41:24.956596Z",
     "start_time": "2024-11-08T02:37:23.767661Z"
    }
   },
   "outputs": [
    {
     "name": "stdout",
     "output_type": "stream",
     "text": [
      "양의 정수를 입력하세요a\n",
      "양의 정수로 다시 입력하세요\n",
      "양의 정수를 입력하세요2.3\n",
      "양의 정수로 다시 입력하세요\n",
      "양의 정수를 입력하세요5\n",
      "홀수입니다\n"
     ]
    }
   ],
   "source": [
    "#양의 정수를 입력 받아 홀수인지 짝수인지를 판별하는 프로그램을 작성하세요. 양의 정수가 아니면 숫자를 다시 입력 받아야 합니다\n",
    "while True:\n",
    "    input_num = input('양의 정수를 입력하세요')\n",
    "    if input_num.isdigit():\n",
    "        digitNum = int(input_num)\n",
    "        if digitNum%2==0:\n",
    "            print('짝수입니다')\n",
    "            break\n",
    "        if digitNum%2!=0:\n",
    "            print('홀수입니다')\n",
    "            break\n",
    "    else:\n",
    "        print('양의 정수로 다시 입력하세요')"
   ]
  },
  {
   "cell_type": "code",
   "execution_count": 19,
   "id": "ce6855d2",
   "metadata": {
    "ExecuteTime": {
     "end_time": "2024-11-08T01:11:39.610620Z",
     "start_time": "2024-11-08T01:11:39.604636Z"
    }
   },
   "outputs": [
    {
     "name": "stdout",
     "output_type": "stream",
     "text": [
      "*****\n",
      "*****\n",
      "*****\n",
      "*****\n",
      "*****\n",
      "----------------------\n",
      "*\n",
      "**\n",
      "***\n",
      "****\n",
      "*****\n"
     ]
    }
   ],
   "source": [
    "#중첩for문을 이용하여 아래 패턴의 별을 출력하는 프로그램을 작성하세요.\n",
    "for i in range(5):\n",
    "    for j in range(5):\n",
    "        print('*',end='')\n",
    "    print()\n",
    "\n",
    "print('----------------------')\n",
    "\n",
    "for a in range(5):\n",
    "    for b in range(a+1):\n",
    "        print('*', end='')\n",
    "    print()"
   ]
  },
  {
   "cell_type": "code",
   "execution_count": 92,
   "id": "f90815a2",
   "metadata": {
    "ExecuteTime": {
     "end_time": "2024-11-07T08:45:42.573015Z",
     "start_time": "2024-11-07T08:45:42.568028Z"
    }
   },
   "outputs": [
    {
     "name": "stdout",
     "output_type": "stream",
     "text": [
      "165\n"
     ]
    }
   ],
   "source": [
    "#다음 코드는 1부터 30까지(30포함) 자연수 중에서 3의 배수의 총 합을 출력하는 프로그램입니다. 빈칸의 코드를 완성하시오.\n",
    "sum = 0\n",
    "for i in range(1,31):\n",
    "    if i%3==0:\n",
    "        sum = sum + i\n",
    "    else:\n",
    "        pass\n",
    "print(sum)"
   ]
  },
  {
   "cell_type": "code",
   "execution_count": 96,
   "id": "6d4d3893",
   "metadata": {
    "ExecuteTime": {
     "end_time": "2024-11-07T08:46:22.198162Z",
     "start_time": "2024-11-07T08:46:22.193175Z"
    }
   },
   "outputs": [
    {
     "name": "stdout",
     "output_type": "stream",
     "text": [
      "1 3 5 7 9 "
     ]
    }
   ],
   "source": [
    "#다음 코드의 실행결과가 “1 3 5 7 9”가 되도록 빈칸을 완성하시오\n",
    "num = 0\n",
    "while num <= 10:\n",
    "    if num%2 == 1:\n",
    "        print(num, end=' ')\n",
    "    num += 1"
   ]
  },
  {
   "cell_type": "code",
   "execution_count": 98,
   "id": "857ecf97",
   "metadata": {
    "ExecuteTime": {
     "end_time": "2024-11-07T08:47:46.257886Z",
     "start_time": "2024-11-07T08:47:46.251903Z"
    }
   },
   "outputs": [
    {
     "name": "stdout",
     "output_type": "stream",
     "text": [
      "1 2 3 \n",
      "4 5 6 7 \n",
      "8 9 \n"
     ]
    }
   ],
   "source": [
    "#다음 2차원 리스트의 모든 값을 출력하는 코드입니다. 빈칸을 완성하시오\n",
    "list2d = [ [1,2,3],[4,5,6,7],[8,9]]\n",
    "for row in list2d:\n",
    "    for data in row:\n",
    "        print(data, end=' ')\n",
    "    print()\n",
    "\n",
    "# 결과 :\n",
    "# 1 2 3\n",
    "# 4 5 6 7\n",
    "# 8 9\n"
   ]
  },
  {
   "cell_type": "code",
   "execution_count": 104,
   "id": "3e60ba2f",
   "metadata": {
    "ExecuteTime": {
     "end_time": "2024-11-07T08:51:52.704495Z",
     "start_time": "2024-11-07T08:51:52.699493Z"
    }
   },
   "outputs": [
    {
     "name": "stdout",
     "output_type": "stream",
     "text": [
      "0 apple\n",
      "1 banana\n"
     ]
    }
   ],
   "source": [
    "#다음 빈칸에 들어갈 함수 이름은?\n",
    "colors = {\"red\":'apple', \"yellow\":'banana'}\n",
    "for i, v in enumerate(colors.values()):\n",
    "    print(i, v)"
   ]
  },
  {
   "cell_type": "code",
   "execution_count": 106,
   "id": "98d9b0eb",
   "metadata": {
    "ExecuteTime": {
     "end_time": "2024-11-07T08:52:42.164632Z",
     "start_time": "2024-11-07T08:52:42.159624Z"
    }
   },
   "outputs": [
    {
     "name": "stdout",
     "output_type": "stream",
     "text": [
      "1 0\n"
     ]
    }
   ],
   "source": [
    "#다음 코드의 실행결과는?\n",
    "for i in range(0, 2):\n",
    "    for j in range(0,2):\n",
    "        if i==j:\n",
    "            break\n",
    "        print(i, j)\n"
   ]
  },
  {
   "cell_type": "code",
   "execution_count": 4,
   "id": "a7aad643",
   "metadata": {
    "ExecuteTime": {
     "end_time": "2024-11-08T02:47:07.987242Z",
     "start_time": "2024-11-08T02:47:07.983224Z"
    }
   },
   "outputs": [
    {
     "name": "stdout",
     "output_type": "stream",
     "text": [
      "0 0\n",
      "1 0\n",
      "1 1\n"
     ]
    }
   ],
   "source": [
    "# 다음 코드의 실행 결과로 출력될 수 없는 것은? ① 0 0 ② 0 1 ③ 1 0 ④ 1 1 답 : 2\n",
    "for i in range(0, 2):\n",
    "    for j in range(0,2):\n",
    "        print(i, j)\n",
    "        if i==j:\n",
    "            break\n"
   ]
  },
  {
   "cell_type": "code",
   "execution_count": 107,
   "id": "17d4184b",
   "metadata": {
    "ExecuteTime": {
     "end_time": "2024-11-07T08:54:26.469137Z",
     "start_time": "2024-11-07T08:54:26.463153Z"
    }
   },
   "outputs": [
    {
     "name": "stdout",
     "output_type": "stream",
     "text": [
      "3 5 7 9 "
     ]
    }
   ],
   "source": [
    "#다음 코드의 실행결과는?\n",
    "L = [3, 4, 5, 6, 7, 8, 9, 10]\n",
    "for i, data in enumerate(L):\n",
    "    if (i%2 == 0):\n",
    "        print(data, end=' ')\n"
   ]
  },
  {
   "cell_type": "code",
   "execution_count": 5,
   "id": "876ef7df",
   "metadata": {
    "ExecuteTime": {
     "end_time": "2024-11-08T02:48:53.164878Z",
     "start_time": "2024-11-08T02:48:03.015683Z"
    }
   },
   "outputs": [
    {
     "name": "stdout",
     "output_type": "stream",
     "text": [
      "1~100사이의 수를 맞춰 보세요 > 50\n",
      "DOWN ↓\n",
      "1~50사이의 수를 맞춰 보세요 > 25\n",
      "UP ↑\n",
      "25~50사이의 수를 맞춰 보세요 > 37\n",
      "UP ↑\n",
      "37~50사이의 수를 맞춰 보세요 > 43\n",
      "DOWN ↓\n",
      "37~43사이의 수를 맞춰 보세요 > 40\n",
      "UP ↑\n",
      "40~43사이의 수를 맞춰 보세요 > 42\n",
      "추카추카\n",
      "DONE\n"
     ]
    }
   ],
   "source": [
    "#2단계 : 숫자를 못 맞추면 min~max를 조정, 맞추면 축하메세지 뿌리고 끝남\n",
    "import random\n",
    "pc_num = random.randint(1,100)\n",
    "min = 1\n",
    "max = 100\n",
    "while True:\n",
    "    slect_num = int(input('{}~{}사이의 수를 맞춰 보세요 > '.format(min,max)))\n",
    "    if min >= slect_num >= max :\n",
    "        print('{}~{}사이에 정수를 입력하세요'.format(min,max))\n",
    "    elif pc_num > slect_num:\n",
    "        print('UP ↑')\n",
    "        min = slect_num\n",
    "    elif pc_num < slect_num:\n",
    "        print('DOWN ↓')\n",
    "        max = slect_num\n",
    "    elif pc_num == slect_num:\n",
    "        print('추카추카')\n",
    "        break\n",
    "print('DONE')    "
   ]
  },
  {
   "cell_type": "code",
   "execution_count": 7,
   "id": "149d138b",
   "metadata": {
    "ExecuteTime": {
     "end_time": "2024-11-08T02:52:55.066950Z",
     "start_time": "2024-11-08T02:52:33.935748Z"
    }
   },
   "outputs": [
    {
     "name": "stdout",
     "output_type": "stream",
     "text": [
      "1~100사이의 수를 맞춰 보세요(남은 기회 5/5) > 30\n",
      "DOWN ↓\n",
      "1~30사이의 수를 맞춰 보세요(남은 기회 4/5) > 15\n",
      "UP ↑\n",
      "15~30사이의 수를 맞춰 보세요(남은 기회 3/5) > 22\n",
      "추카추카\n",
      "DONE\n"
     ]
    }
   ],
   "source": [
    "#3단계 : 2단계의 기회를 5회로 제한. 5회의 기회가 지나면 실패 메세지 뿌리고 끝남\n",
    "import random\n",
    "pc_num = random.randint(1,100)\n",
    "min = 1\n",
    "max = 100\n",
    "cnt = 5\n",
    "while True:\n",
    "    slect_num = int(input('{}~{}사이의 수를 맞춰 보세요(남은 기회 {}/5) > '.format(min,max,cnt)))\n",
    "    cnt -= 1\n",
    "    if min >= slect_num >= max :\n",
    "        cnt += 1\n",
    "        print('{}~{}사이에 정수를 입력하세요'.format(min,max))\n",
    "    elif pc_num > slect_num > min:\n",
    "        print('UP ↑')\n",
    "        min = slect_num\n",
    "    elif pc_num < slect_num < max:\n",
    "        print('DOWN ↓')\n",
    "        max = slect_num\n",
    "    elif pc_num == slect_num:\n",
    "        print('추카추카')\n",
    "        break\n",
    "    if cnt == 0:\n",
    "        print('기회가 모두 소진되었습니다')\n",
    "        break\n",
    "print('DONE')"
   ]
  },
  {
   "cell_type": "code",
   "execution_count": 6,
   "id": "c6f5951b",
   "metadata": {
    "ExecuteTime": {
     "end_time": "2024-11-08T02:51:53.728078Z",
     "start_time": "2024-11-08T02:51:33.531950Z"
    }
   },
   "outputs": [
    {
     "name": "stdout",
     "output_type": "stream",
     "text": [
      "1~100사이의 수를 맞춰 보세요 > 50\n",
      "5/5\n",
      "DOWN ↓\n",
      "1~50사이의 수를 맞춰 보세요 > 40\n",
      "4/5\n",
      "DOWN ↓\n",
      "1~40사이의 수를 맞춰 보세요 > 25\n",
      "3/5\n",
      "DOWN ↓\n",
      "1~25사이의 수를 맞춰 보세요 > 13\n",
      "2/5\n",
      "DOWN ↓\n",
      "1~13사이의 수를 맞춰 보세요 > 7\n",
      "1/5\n",
      "DOWN ↓\n",
      "기회가 모두 소진되었습니다\n"
     ]
    }
   ],
   "source": [
    "import random\n",
    "pc_num = random.randint(1,100)\n",
    "min = 1\n",
    "max = 100\n",
    "for i in range(5,0,-1):\n",
    "    slect_num = int(input('{}~{}사이의 수를 맞춰 보세요 > '.format(min,max)))\n",
    "    print('{}/5'.format(i))\n",
    "    i-=1\n",
    "    if min >= slect_num >= max :\n",
    "        print('{}~{}사이에 정수를 입력하세요'.format(min,max))\n",
    "    elif pc_num > slect_num > min:\n",
    "        print('UP ↑')\n",
    "        min = slect_num\n",
    "    elif pc_num < slect_num < max:\n",
    "        print('DOWN ↓')\n",
    "        max = slect_num\n",
    "    elif pc_num == slect_num:\n",
    "        print('추카추카')\n",
    "        break\n",
    "    else :\n",
    "        print('{}~{}사이에 정수를 입력하세요'.format(min,max))\n",
    "        \n",
    "else:\n",
    "    print('기회가 모두 소진되었습니다')"
   ]
  },
  {
   "cell_type": "code",
   "execution_count": null,
   "id": "4212151e",
   "metadata": {},
   "outputs": [],
   "source": []
  }
 ],
 "metadata": {
  "kernelspec": {
   "display_name": "Python 3 (ipykernel)",
   "language": "python",
   "name": "python3"
  },
  "language_info": {
   "codemirror_mode": {
    "name": "ipython",
    "version": 3
   },
   "file_extension": ".py",
   "mimetype": "text/x-python",
   "name": "python",
   "nbconvert_exporter": "python",
   "pygments_lexer": "ipython3",
   "version": "3.10.9"
  },
  "toc": {
   "base_numbering": 1,
   "nav_menu": {},
   "number_sections": true,
   "sideBar": true,
   "skip_h1_title": false,
   "title_cell": "Table of Contents",
   "title_sidebar": "Contents",
   "toc_cell": false,
   "toc_position": {
    "height": "calc(100% - 180px)",
    "left": "10px",
    "top": "150px",
    "width": "384px"
   },
   "toc_section_display": true,
   "toc_window_display": true
  }
 },
 "nbformat": 4,
 "nbformat_minor": 5
}
