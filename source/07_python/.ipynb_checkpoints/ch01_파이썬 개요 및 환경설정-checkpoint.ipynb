{
 "cells": [
  {
   "cell_type": "code",
   "execution_count": 1,
   "id": "e1ff8034",
   "metadata": {},
   "outputs": [
    {
     "name": "stdout",
     "output_type": "stream",
     "text": [
      "2.10.0\n"
     ]
    },
    {
     "data": {
      "text/plain": [
       "[PhysicalDevice(name='/physical_device:GPU:0', device_type='GPU')]"
      ]
     },
     "execution_count": 1,
     "metadata": {},
     "output_type": "execute_result"
    }
   ],
   "source": [
    "import tensorflow as tf\n",
    "\n",
    "print(tf.__version__)\n",
    "tf.config.list_physical_devices('GPU')"
   ]
  },
  {
   "cell_type": "code",
   "execution_count": 1,
   "id": "ed89d7aa",
   "metadata": {
    "ExecuteTime": {
     "end_time": "2024-11-04T06:47:14.304449Z",
     "start_time": "2024-11-04T06:47:14.296207Z"
    }
   },
   "outputs": [
    {
     "data": {
      "text/html": [
       "\n",
       "<style>\n",
       "div.container{width:80% !important;}\n",
       "div.CodeMirror {font-family:Consolas; font-size:20pt;}\n",
       "div.output {font-size:20pt; font-weight:bold;}\n",
       "div.input {font-family:Consolas; font-size:20pt;}\n",
       "div.prompt {min-width:70px;}\n",
       "div#toc-header{margin-top:150px;}\n",
       "</style>\n",
       "<style>\n",
       "span.toc-item-num{\n",
       "    display:none;\n",
       "}\n",
       "</style>\n"
      ],
      "text/plain": [
       "<IPython.core.display.HTML object>"
      ]
     },
     "metadata": {},
     "output_type": "display_data"
    }
   ],
   "source": [
    "from IPython.display import display, HTML\n",
    "display(HTML(\"\"\"\n",
    "<style>\n",
    "div.container{width:80% !important;}\n",
    "div.CodeMirror {font-family:Consolas; font-size:20pt;}\n",
    "div.output {font-size:20pt; font-weight:bold;}\n",
    "div.input {font-family:Consolas; font-size:20pt;}\n",
    "div.prompt {min-width:70px;}\n",
    "div#toc-header{margin-top:150px;}\n",
    "</style>\n",
    "<style>\n",
    "span.toc-item-num{\n",
    "    display:none;\n",
    "}\n",
    "</style>\n",
    "\"\"\"))"
   ]
  },
  {
   "cell_type": "code",
   "execution_count": 2,
   "id": "a9d4cedc",
   "metadata": {},
   "outputs": [
    {
     "name": "stdout",
     "output_type": "stream",
     "text": [
      "hello\n"
     ]
    }
   ],
   "source": [
    "print('hello')"
   ]
  },
  {
   "cell_type": "markdown",
   "id": "941a6680",
   "metadata": {},
   "source": [
    "# 1.주피터 노트북 사용법(큰제목)\n",
    "- shift + Enter : 포커스된 셀이 실행되고 커서가 다음셀로\n",
    "- alt + Enter : 포커스된 셀이 실행되고 다음 셀이 생성됨"
   ]
  },
  {
   "cell_type": "code",
   "execution_count": 2,
   "id": "2a796451",
   "metadata": {},
   "outputs": [
    {
     "name": "stdout",
     "output_type": "stream",
     "text": [
      "Hello,World\n"
     ]
    }
   ],
   "source": [
    "print('Hello,World')"
   ]
  },
  {
   "cell_type": "code",
   "execution_count": 6,
   "id": "0b8b5992",
   "metadata": {},
   "outputs": [
    {
     "name": "stdout",
     "output_type": "stream",
     "text": [
      "12\n"
     ]
    },
    {
     "data": {
      "text/plain": [
       "3"
      ]
     },
     "execution_count": 6,
     "metadata": {},
     "output_type": "execute_result"
    }
   ],
   "source": [
    "a=1\n",
    "b=\"2\"\n",
    "print(str(a) + b)\n",
    "a + int(b)\n",
    "# view 메뉴 > show line number 선택"
   ]
  },
  {
   "cell_type": "code",
   "execution_count": null,
   "id": "931cb22b",
   "metadata": {},
   "outputs": [],
   "source": [
    "a = 1\n",
    "b = \"2\"\n",
    "print(str(a) + b)\n",
    "print(a + int(b))\n",
    "# view 메뉴 > Show line Numbers 선택"
   ]
  },
  {
   "cell_type": "code",
   "execution_count": null,
   "id": "de53db1d",
   "metadata": {},
   "outputs": [],
   "source": [
    "#for i in range(1000000000000000000000000000000):\n",
    "# print(i)\n",
    "#stop기능\n",
    "#kernel메뉴의 다양한 restart기능"
   ]
  },
  {
   "cell_type": "code",
   "execution_count": 2,
   "id": "59feef26",
   "metadata": {
    "ExecuteTime": {
     "end_time": "2024-11-04T06:50:00.869341Z",
     "start_time": "2024-11-04T06:50:00.864353Z"
    }
   },
   "outputs": [
    {
     "data": {
      "text/plain": [
       "10"
      ]
     },
     "execution_count": 2,
     "metadata": {},
     "output_type": "execute_result"
    }
   ],
   "source": [
    "print = 10\n",
    "print"
   ]
  },
  {
   "cell_type": "code",
   "execution_count": null,
   "id": "cf10ff49",
   "metadata": {},
   "outputs": [],
   "source": [
    "#실수로 할당된 print 변수 삭제\n",
    "del print # (1) 변수 삭제\n",
    "#(2) kernel restart 재시작"
   ]
  },
  {
   "cell_type": "code",
   "execution_count": 1,
   "id": "1efc14f3",
   "metadata": {
    "ExecuteTime": {
     "end_time": "2024-11-04T06:53:32.553976Z",
     "start_time": "2024-11-04T06:53:32.547992Z"
    },
    "scrolled": true
   },
   "outputs": [
    {
     "name": "stdout",
     "output_type": "stream",
     "text": [
      "Hello,World\n"
     ]
    }
   ],
   "source": [
    "print('Hello,World')"
   ]
  },
  {
   "cell_type": "markdown",
   "id": "c7a011f2",
   "metadata": {},
   "source": [
    "# 2.ESC키 누르고 (핫키)\n",
    "- dd : 셀삭제 \n",
    "- a : 윗셀 추가 \n",
    "- b : 아레셀 추가 \n",
    "- m : 마크다운(문서셀)셀로변경\n",
    "- y : 코드셀(소스셀)로 변경"
   ]
  },
  {
   "cell_type": "markdown",
   "id": "4fa8ce8f",
   "metadata": {},
   "source": [
    "# 3.마크다운이란?\n",
    "- 코드와 함께 `문서화`를 할 수 있습니다.\n",
    "- 다양한 문서화 문법이 있습니다."
   ]
  },
  {
   "cell_type": "code",
   "execution_count": 4,
   "id": "4f9b2535",
   "metadata": {
    "ExecuteTime": {
     "end_time": "2024-11-04T06:57:51.291558Z",
     "start_time": "2024-11-04T06:57:51.243649Z"
    }
   },
   "outputs": [
    {
     "name": "stdout",
     "output_type": "stream",
     "text": [
      " D 드라이브의 볼륨에는 이름이 없습니다.\n",
      " 볼륨 일련 번호: 2B13-161D\n",
      "\n",
      " D:\\KHH\\ai\\source\\07_python 디렉터리\n",
      "\n",
      "2024-11-04  오후 01:13    <DIR>          .\n",
      "2024-11-04  오후 01:13    <DIR>          ..\n",
      "2024-11-04  오후 02:32    <DIR>          .ipynb_checkpoints\n",
      "2024-11-04  오후 03:57             7,019 ch01_파이썬 개요 및 환경설정.ipynb\n",
      "               1개 파일               7,019 바이트\n",
      "               3개 디렉터리  471,631,003,648 바이트 남음\n"
     ]
    }
   ],
   "source": [
    "#주피터 노트북에서 cmd 명령어를 실행\n",
    "! dir"
   ]
  }
 ],
 "metadata": {
  "kernelspec": {
   "display_name": "Python 3 (ipykernel)",
   "language": "python",
   "name": "python3"
  },
  "language_info": {
   "codemirror_mode": {
    "name": "ipython",
    "version": 3
   },
   "file_extension": ".py",
   "mimetype": "text/x-python",
   "name": "python",
   "nbconvert_exporter": "python",
   "pygments_lexer": "ipython3",
   "version": "3.10.9"
  },
  "toc": {
   "base_numbering": 1,
   "nav_menu": {},
   "number_sections": true,
   "sideBar": true,
   "skip_h1_title": false,
   "title_cell": "Table of Contents",
   "title_sidebar": "Contents",
   "toc_cell": false,
   "toc_position": {
    "height": "calc(100% - 180px)",
    "left": "10px",
    "top": "150px",
    "width": "384px"
   },
   "toc_section_display": true,
   "toc_window_display": true
  }
 },
 "nbformat": 4,
 "nbformat_minor": 5
}
