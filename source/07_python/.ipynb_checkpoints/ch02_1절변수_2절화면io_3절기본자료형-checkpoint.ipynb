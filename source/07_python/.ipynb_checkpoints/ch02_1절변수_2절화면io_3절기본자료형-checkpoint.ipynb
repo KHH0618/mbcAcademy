{
 "cells": [
  {
   "cell_type": "code",
   "execution_count": 2,
   "id": "6783e486",
   "metadata": {
    "ExecuteTime": {
     "end_time": "2024-11-04T07:30:37.117170Z",
     "start_time": "2024-11-04T07:30:37.111185Z"
    }
   },
   "outputs": [
    {
     "data": {
      "text/html": [
       "\n",
       "<style>\n",
       "div.container{width:80% !important;}\n",
       "div.CodeMirror {font-family:Consolas; font-size:20pt;}\n",
       "div.output {font-size:20pt; font-weight:bold;}\n",
       "div.input {font-family:Consolas; font-size:20pt;}\n",
       "div.prompt {min-width:70px;}\n",
       "div#toc-header{margin-top:150px;}\n",
       "</style>\n",
       "<style>\n",
       "span.toc-item-num{\n",
       "    display:none;\n",
       "}\n",
       "</style>\n"
      ],
      "text/plain": [
       "<IPython.core.display.HTML object>"
      ]
     },
     "metadata": {},
     "output_type": "display_data"
    }
   ],
   "source": [
    "from IPython.display import display, HTML\n",
    "display(HTML(\"\"\"\n",
    "<style>\n",
    "div.container{width:80% !important;}\n",
    "div.CodeMirror {font-family:Consolas; font-size:20pt;}\n",
    "div.output {font-size:20pt; font-weight:bold;}\n",
    "div.input {font-family:Consolas; font-size:20pt;}\n",
    "div.prompt {min-width:70px;}\n",
    "div#toc-header{margin-top:150px;}\n",
    "</style>\n",
    "<style>\n",
    "span.toc-item-num{\n",
    "    display:none;\n",
    "}\n",
    "</style>\n",
    "\"\"\"))\n"
   ]
  },
  {
   "cell_type": "markdown",
   "id": "84d42026",
   "metadata": {},
   "source": [
    "<b><font size=\"4\" color=\"red\"> ch02. 자료형과 연산자 </font></b>"
   ]
  },
  {
   "cell_type": "markdown",
   "id": "c7cd58a0",
   "metadata": {},
   "source": [
    "# 1절. 변수"
   ]
  },
  {
   "cell_type": "markdown",
   "id": "2461a131",
   "metadata": {},
   "source": [
    "## 1.1 변수 선언\n",
    "- 파이썬은 변수 선언을 위한 타입이 없고, 별도의 선언 과정도 없음"
   ]
  },
  {
   "cell_type": "markdown",
   "id": "b2414454",
   "metadata": {},
   "source": [
    "## 1.2 변수 할당\n",
    "- 할당연산자를 이용해서 변수값을 할당하면 타입이 셋팅\n",
    "- 파이썬에서의 모든 변수는 객체"
   ]
  },
  {
   "cell_type": "code",
   "execution_count": 3,
   "id": "00129fcf",
   "metadata": {
    "ExecuteTime": {
     "end_time": "2024-11-04T07:34:39.561923Z",
     "start_time": "2024-11-04T07:34:39.555939Z"
    }
   },
   "outputs": [
    {
     "name": "stdout",
     "output_type": "stream",
     "text": [
      "계산된 넓이는 78.5\n"
     ]
    }
   ],
   "source": [
    "r = 5\n",
    "area = 3.14 * r * r\n",
    "print('계산된 넓이는', area)"
   ]
  },
  {
   "cell_type": "code",
   "execution_count": 4,
   "id": "61832eb5",
   "metadata": {
    "ExecuteTime": {
     "end_time": "2024-11-04T07:35:50.105518Z",
     "start_time": "2024-11-04T07:35:49.970208Z"
    }
   },
   "outputs": [],
   "source": [
    "import numpy as np"
   ]
  },
  {
   "cell_type": "code",
   "execution_count": 6,
   "id": "ca6163b6",
   "metadata": {
    "ExecuteTime": {
     "end_time": "2024-11-04T07:38:34.230993Z",
     "start_time": "2024-11-04T07:38:34.226007Z"
    }
   },
   "outputs": [
    {
     "name": "stdout",
     "output_type": "stream",
     "text": [
      "78.53981633974483\n"
     ]
    }
   ],
   "source": [
    "area = np.pi * r * r\n",
    "print(area)"
   ]
  },
  {
   "cell_type": "code",
   "execution_count": 13,
   "id": "d588fe47",
   "metadata": {
    "ExecuteTime": {
     "end_time": "2024-11-04T07:43:04.842556Z",
     "start_time": "2024-11-04T07:43:04.837554Z"
    }
   },
   "outputs": [
    {
     "name": "stdout",
     "output_type": "stream",
     "text": [
      "area의 주소 : 1846695859600\n",
      "area의 타입 : <class 'float'>\n"
     ]
    }
   ],
   "source": [
    "print('area의 주소 :', id(area)) #id(area) : area변수(객체)의 주소값\n",
    "print('area의 타입 :', type(area))"
   ]
  },
  {
   "cell_type": "code",
   "execution_count": 14,
   "id": "038cce41",
   "metadata": {
    "ExecuteTime": {
     "end_time": "2024-11-04T07:44:43.218976Z",
     "start_time": "2024-11-04T07:44:43.214006Z"
    }
   },
   "outputs": [
    {
     "name": "stdout",
     "output_type": "stream",
     "text": [
      "area의 주소 : 1846582051344\n",
      "area의 타입 : <class 'int'>\n"
     ]
    }
   ],
   "source": [
    "area = 10\n",
    "print('area의 주소 :', id(area)) #id(area) : area변수(객체)의 주소값\n",
    "print('area의 타입 :', type(area))"
   ]
  },
  {
   "cell_type": "code",
   "execution_count": 15,
   "id": "71ff7a4b",
   "metadata": {
    "ExecuteTime": {
     "end_time": "2024-11-04T07:45:35.574780Z",
     "start_time": "2024-11-04T07:45:35.569793Z"
    }
   },
   "outputs": [
    {
     "name": "stdout",
     "output_type": "stream",
     "text": [
      "area의 주소 : 1846664884368\n",
      "area의 타입 : <class 'str'>\n"
     ]
    }
   ],
   "source": [
    "area = '파이썬'\n",
    "print('area의 주소 :', id(area)) #id(area) : area변수(객체)의 주소값\n",
    "print('area의 타입 :', type(area))"
   ]
  },
  {
   "cell_type": "markdown",
   "id": "61e2d15c",
   "metadata": {},
   "source": [
    "## 1.3 변수 이름 규칙\n",
    "- 문자로 시작\n",
    "- 문자(특수문자는 _ 제외하고는 안됨), 숫자,_로 변수명 작성\n",
    "- 함수명은 변수이름으로 가능하나 피한다. 써야한다면 int_ 식으로 _붙여서 사용\n",
    "- 파이썬 예약어(if, while, ..)는 변수이름 사용 불가.\n",
    "- 한글 변수는 꼭 필요시만 사용"
   ]
  },
  {
   "cell_type": "code",
   "execution_count": 16,
   "id": "2070fa8c",
   "metadata": {
    "ExecuteTime": {
     "end_time": "2024-11-04T07:49:39.136021Z",
     "start_time": "2024-11-04T07:49:39.129040Z"
    }
   },
   "outputs": [
    {
     "data": {
      "text/plain": [
       "'홍길동'"
      ]
     },
     "execution_count": 16,
     "metadata": {},
     "output_type": "execute_result"
    }
   ],
   "source": [
    "이름 = '홍길동'\n",
    "이름"
   ]
  },
  {
   "cell_type": "code",
   "execution_count": 17,
   "id": "280dcceb",
   "metadata": {
    "ExecuteTime": {
     "end_time": "2024-11-04T07:50:22.822814Z",
     "start_time": "2024-11-04T07:50:22.817855Z"
    }
   },
   "outputs": [
    {
     "name": "stdout",
     "output_type": "stream",
     "text": [
      "홍길동\n"
     ]
    }
   ],
   "source": [
    "print(이름)"
   ]
  },
  {
   "cell_type": "code",
   "execution_count": 18,
   "id": "594ed64a",
   "metadata": {
    "ExecuteTime": {
     "end_time": "2024-11-04T07:50:33.011063Z",
     "start_time": "2024-11-04T07:50:33.005079Z"
    }
   },
   "outputs": [
    {
     "ename": "SyntaxError",
     "evalue": "invalid syntax (2630263448.py, line 1)",
     "output_type": "error",
     "traceback": [
      "\u001b[1;36m  Cell \u001b[1;32mIn[18], line 1\u001b[1;36m\u001b[0m\n\u001b[1;33m    if = 5\u001b[0m\n\u001b[1;37m       ^\u001b[0m\n\u001b[1;31mSyntaxError\u001b[0m\u001b[1;31m:\u001b[0m invalid syntax\n"
     ]
    }
   ],
   "source": [
    "if = 5"
   ]
  },
  {
   "cell_type": "code",
   "execution_count": null,
   "id": "92d0daa6",
   "metadata": {},
   "outputs": [],
   "source": [
    "member.name = 5 변수에 .은 사용불가 (R에선는 . 을 변수명에 사용 가능)"
   ]
  },
  {
   "cell_type": "code",
   "execution_count": null,
   "id": "0f7e6840",
   "metadata": {},
   "outputs": [],
   "source": []
  },
  {
   "cell_type": "code",
   "execution_count": null,
   "id": "94b1929d",
   "metadata": {
    "code_folding": []
   },
   "outputs": [],
   "source": [
    "#도움말 기능 : shift + tap키\n",
    "print()"
   ]
  },
  {
   "cell_type": "code",
   "execution_count": 21,
   "id": "147d934c",
   "metadata": {
    "ExecuteTime": {
     "end_time": "2024-11-04T08:14:29.977566Z",
     "start_time": "2024-11-04T08:14:29.973606Z"
    }
   },
   "outputs": [],
   "source": [
    "def add(x, y = 0):\n",
    "    '''\n",
    "    매개변수 2개를 받아 두자리 숫자로 만들어요\n",
    "    x = 10의 자리수가 됨\n",
    "    y = 1의 자리수가 됨(default 값 0)\n",
    "    사용법 : add(2,3) => 23\n",
    "    '''\n",
    "    return x * 10 + y"
   ]
  },
  {
   "cell_type": "code",
   "execution_count": 22,
   "id": "cd2a0826",
   "metadata": {
    "ExecuteTime": {
     "end_time": "2024-11-04T08:15:00.475031Z",
     "start_time": "2024-11-04T08:15:00.469020Z"
    },
    "scrolled": true
   },
   "outputs": [
    {
     "data": {
      "text/plain": [
       "54"
      ]
     },
     "execution_count": 22,
     "metadata": {},
     "output_type": "execute_result"
    }
   ],
   "source": [
    "add(5,4)"
   ]
  },
  {
   "cell_type": "code",
   "execution_count": 24,
   "id": "a7b90ee1",
   "metadata": {
    "ExecuteTime": {
     "end_time": "2024-11-04T08:17:23.894437Z",
     "start_time": "2024-11-04T08:17:23.889451Z"
    }
   },
   "outputs": [],
   "source": [
    "a = add #함수형언어는 변수에 함수 할당 가능"
   ]
  },
  {
   "cell_type": "code",
   "execution_count": 25,
   "id": "f4118dba",
   "metadata": {
    "ExecuteTime": {
     "end_time": "2024-11-04T08:17:25.726339Z",
     "start_time": "2024-11-04T08:17:25.720354Z"
    }
   },
   "outputs": [
    {
     "data": {
      "text/plain": [
       "54"
      ]
     },
     "execution_count": 25,
     "metadata": {},
     "output_type": "execute_result"
    }
   ],
   "source": [
    "a(5,4)"
   ]
  },
  {
   "cell_type": "code",
   "execution_count": 26,
   "id": "9f1b2008",
   "metadata": {
    "ExecuteTime": {
     "end_time": "2024-11-04T08:17:29.429393Z",
     "start_time": "2024-11-04T08:17:29.424320Z"
    }
   },
   "outputs": [
    {
     "data": {
      "text/plain": [
       "50"
      ]
     },
     "execution_count": 26,
     "metadata": {},
     "output_type": "execute_result"
    }
   ],
   "source": [
    "a(5)"
   ]
  },
  {
   "cell_type": "markdown",
   "id": "c06caa21",
   "metadata": {},
   "source": [
    "1.5 다중변수 선언"
   ]
  },
  {
   "cell_type": "code",
   "execution_count": null,
   "id": "f782b203",
   "metadata": {},
   "outputs": [],
   "source": [
    "a = 10\n",
    "b = 20"
   ]
  },
  {
   "cell_type": "code",
   "execution_count": 27,
   "id": "8c7c319b",
   "metadata": {
    "ExecuteTime": {
     "end_time": "2024-11-04T08:19:02.702581Z",
     "start_time": "2024-11-04T08:19:02.698591Z"
    }
   },
   "outputs": [],
   "source": [
    "a,b = 10,20 #동시에 다중변수 선언"
   ]
  },
  {
   "cell_type": "code",
   "execution_count": 28,
   "id": "d143b4f6",
   "metadata": {
    "ExecuteTime": {
     "end_time": "2024-11-04T08:19:07.982303Z",
     "start_time": "2024-11-04T08:19:07.977315Z"
    }
   },
   "outputs": [
    {
     "data": {
      "text/plain": [
       "(10, 20)"
      ]
     },
     "execution_count": 28,
     "metadata": {},
     "output_type": "execute_result"
    }
   ],
   "source": [
    "a,b"
   ]
  },
  {
   "cell_type": "code",
   "execution_count": 29,
   "id": "6f8ef3d4",
   "metadata": {
    "ExecuteTime": {
     "end_time": "2024-11-04T08:19:33.564826Z",
     "start_time": "2024-11-04T08:19:33.561835Z"
    }
   },
   "outputs": [],
   "source": [
    "a,b = b, a+b #다중 변수 할당시 순차적 할당이 아니고 일괄 동시 할당"
   ]
  },
  {
   "cell_type": "code",
   "execution_count": 30,
   "id": "620d863e",
   "metadata": {
    "ExecuteTime": {
     "end_time": "2024-11-04T08:19:38.126720Z",
     "start_time": "2024-11-04T08:19:38.120764Z"
    }
   },
   "outputs": [
    {
     "data": {
      "text/plain": [
       "(20, 30)"
      ]
     },
     "execution_count": 30,
     "metadata": {},
     "output_type": "execute_result"
    }
   ],
   "source": [
    "a,b"
   ]
  },
  {
   "cell_type": "markdown",
   "id": "bdfd3388",
   "metadata": {},
   "source": [
    "# 2절. 화면 i/o"
   ]
  },
  {
   "cell_type": "code",
   "execution_count": 31,
   "id": "e99fe722",
   "metadata": {
    "ExecuteTime": {
     "end_time": "2024-11-04T08:22:48.501364Z",
     "start_time": "2024-11-04T08:22:46.362515Z"
    }
   },
   "outputs": [
    {
     "name": "stdout",
     "output_type": "stream",
     "text": [
      "10\n"
     ]
    },
    {
     "data": {
      "text/plain": [
       "'10'"
      ]
     },
     "execution_count": 31,
     "metadata": {},
     "output_type": "execute_result"
    }
   ],
   "source": [
    "# input() : 사용자로부터 값을 받기 위한 함수. 입력값은 문자열\n",
    "first = input()\n",
    "first"
   ]
  },
  {
   "cell_type": "code",
   "execution_count": 32,
   "id": "a7540226",
   "metadata": {
    "ExecuteTime": {
     "end_time": "2024-11-04T08:23:46.666859Z",
     "start_time": "2024-11-04T08:23:43.581198Z"
    }
   },
   "outputs": [
    {
     "name": "stdout",
     "output_type": "stream",
     "text": [
      "첫번째 숫자는?10\n",
      "두번째 숫자는?5\n"
     ]
    }
   ],
   "source": [
    "first = input('첫번째 숫자는?')\n",
    "second = input('두번째 숫자는?')"
   ]
  },
  {
   "cell_type": "code",
   "execution_count": 33,
   "id": "47c5870a",
   "metadata": {
    "ExecuteTime": {
     "end_time": "2024-11-04T08:24:33.086907Z",
     "start_time": "2024-11-04T08:24:33.081920Z"
    }
   },
   "outputs": [
    {
     "name": "stdout",
     "output_type": "stream",
     "text": [
      "두수의 합은 105\n"
     ]
    }
   ],
   "source": [
    "print('두수의 합은', first + second)"
   ]
  },
  {
   "cell_type": "code",
   "execution_count": 35,
   "id": "7e532aec",
   "metadata": {
    "ExecuteTime": {
     "end_time": "2024-11-04T08:26:35.925904Z",
     "start_time": "2024-11-04T08:26:35.920893Z"
    }
   },
   "outputs": [],
   "source": [
    "sum = int(first) + int(second)"
   ]
  },
  {
   "cell_type": "code",
   "execution_count": 36,
   "id": "2cbf953d",
   "metadata": {
    "ExecuteTime": {
     "end_time": "2024-11-04T08:26:51.265692Z",
     "start_time": "2024-11-04T08:26:51.261703Z"
    }
   },
   "outputs": [
    {
     "name": "stdout",
     "output_type": "stream",
     "text": [
      "합 : 15\n"
     ]
    }
   ],
   "source": [
    "print('합 :', sum)"
   ]
  },
  {
   "cell_type": "code",
   "execution_count": 42,
   "id": "6febc621",
   "metadata": {
    "ExecuteTime": {
     "end_time": "2024-11-04T08:31:25.069795Z",
     "start_time": "2024-11-04T08:31:25.064808Z"
    }
   },
   "outputs": [
    {
     "name": "stdout",
     "output_type": "stream",
     "text": [
      "합 / 15 / hello / world\t\thello ~ world ~ hello ~ python\n"
     ]
    }
   ],
   "source": [
    "print('합', sum, 'hello', 'world', sep=' / ', end='\\t\\t')\n",
    "print('hello', 'world', 'hello', 'python', sep=' ~ ')"
   ]
  },
  {
   "cell_type": "code",
   "execution_count": 44,
   "id": "1c44cd72",
   "metadata": {
    "ExecuteTime": {
     "end_time": "2024-11-04T08:34:30.690122Z",
     "start_time": "2024-11-04T08:34:30.685135Z"
    }
   },
   "outputs": [
    {
     "name": "stdout",
     "output_type": "stream",
     "text": [
      "hello world hello python\n"
     ]
    }
   ],
   "source": [
    "import sys\n",
    "print('hello', 'world', 'hello', 'python', file=sys.stdout)"
   ]
  },
  {
   "cell_type": "markdown",
   "id": "7fd8c72d",
   "metadata": {},
   "source": [
    "# 3절. 기본자료형\n",
    "- 프로그래밍 언어들은 변수가 가져야 할 값의 형식, 범위에 따라 값의 유형을 정해 놓고 사용.\n",
    "- 자료형에 따라 값의 크기와 저장방식이 달라짐\n",
    "- 자료형에 따라 수행할 수 있는 명령어들이 달라짐.\n",
    "\n",
    "    * `숫자` - int, float, complex\n",
    "    * `문자` - str\n",
    "    * `논리` - bool"
   ]
  },
  {
   "cell_type": "markdown",
   "id": "ca355a5d",
   "metadata": {},
   "source": [
    "## 3.1 숫자형"
   ]
  },
  {
   "cell_type": "code",
   "execution_count": 45,
   "id": "300458b5",
   "metadata": {
    "ExecuteTime": {
     "end_time": "2024-11-04T08:43:34.202157Z",
     "start_time": "2024-11-04T08:43:34.198139Z"
    }
   },
   "outputs": [
    {
     "name": "stdout",
     "output_type": "stream",
     "text": [
      "9223372036854775807\n"
     ]
    }
   ],
   "source": [
    "print(sys.maxsize)"
   ]
  },
  {
   "cell_type": "code",
   "execution_count": null,
   "id": "1b41f815",
   "metadata": {},
   "outputs": [],
   "source": []
  },
  {
   "cell_type": "markdown",
   "id": "c043439b",
   "metadata": {},
   "source": [
    "## 3.2 문자형"
   ]
  },
  {
   "cell_type": "code",
   "execution_count": 47,
   "id": "060a0dd5",
   "metadata": {
    "ExecuteTime": {
     "end_time": "2024-11-04T08:54:56.041672Z",
     "start_time": "2024-11-04T08:54:56.036686Z"
    }
   },
   "outputs": [
    {
     "name": "stdout",
     "output_type": "stream",
     "text": [
      "홍길동'짱' 서울시 관악구 '신림동'\n"
     ]
    }
   ],
   "source": [
    "name = '홍길동\\'짱\\''\n",
    "address = \"서울시 관악구 '신림동'\"\n",
    "print(name, address)"
   ]
  },
  {
   "cell_type": "code",
   "execution_count": null,
   "id": "19f6ad5a",
   "metadata": {},
   "outputs": [],
   "source": []
  },
  {
   "cell_type": "code",
   "execution_count": null,
   "id": "88bf020b",
   "metadata": {},
   "outputs": [],
   "source": []
  }
 ],
 "metadata": {
  "kernelspec": {
   "display_name": "Python 3 (ipykernel)",
   "language": "python",
   "name": "python3"
  },
  "language_info": {
   "codemirror_mode": {
    "name": "ipython",
    "version": 3
   },
   "file_extension": ".py",
   "mimetype": "text/x-python",
   "name": "python",
   "nbconvert_exporter": "python",
   "pygments_lexer": "ipython3",
   "version": "3.10.9"
  },
  "toc": {
   "base_numbering": 1,
   "nav_menu": {},
   "number_sections": true,
   "sideBar": true,
   "skip_h1_title": false,
   "title_cell": "Table of Contents",
   "title_sidebar": "Contents",
   "toc_cell": false,
   "toc_position": {
    "height": "calc(100% - 180px)",
    "left": "10px",
    "top": "150px",
    "width": "384px"
   },
   "toc_section_display": true,
   "toc_window_display": true
  }
 },
 "nbformat": 4,
 "nbformat_minor": 5
}
