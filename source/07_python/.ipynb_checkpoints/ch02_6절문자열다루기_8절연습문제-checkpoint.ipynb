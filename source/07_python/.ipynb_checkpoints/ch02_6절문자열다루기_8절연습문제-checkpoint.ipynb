{
 "cells": [
  {
   "cell_type": "code",
   "execution_count": 1,
   "id": "da1b3c9a",
   "metadata": {
    "ExecuteTime": {
     "end_time": "2024-11-05T07:29:34.388410Z",
     "start_time": "2024-11-05T07:29:34.379434Z"
    }
   },
   "outputs": [
    {
     "data": {
      "text/html": [
       "\n",
       "<style>\n",
       "div.container{width:99% !important;}\n",
       "div.cell.code_cell.rendered{width:85%;}\n",
       "div.CodeMirror {font-family:Consolas; font-size:20pt;}\n",
       "div.output {font-size:20pt; font-weight:bold;}\n",
       "div.input {font-family:Consolas; font-size:20pt;}\n",
       "div.prompt {min-width:70px;}\n",
       "div#toc-wrapper{padding-top:150px;}\n",
       "span.toc-item-num{display:none;}\n",
       "div.text_cell_render ul li{font-size:16pt;padding:5px;}\n",
       "</style>\n"
      ],
      "text/plain": [
       "<IPython.core.display.HTML object>"
      ]
     },
     "metadata": {},
     "output_type": "display_data"
    }
   ],
   "source": [
    "from IPython.display import display, HTML\n",
    "display(HTML(\"\"\"\n",
    "<style>\n",
    "div.container{width:99% !important;}\n",
    "div.cell.code_cell.rendered{width:85%;}\n",
    "div.CodeMirror {font-family:Consolas; font-size:20pt;}\n",
    "div.output {font-size:20pt; font-weight:bold;}\n",
    "div.input {font-family:Consolas; font-size:20pt;}\n",
    "div.prompt {min-width:70px;}\n",
    "div#toc-wrapper{padding-top:150px;}\n",
    "span.toc-item-num{display:none;}\n",
    "div.text_cell_render ul li{font-size:16pt;padding:5px;}\n",
    "</style>\n",
    "\"\"\"))"
   ]
  },
  {
   "cell_type": "markdown",
   "id": "35168e43",
   "metadata": {},
   "source": [
    "<b><font size=\"6\" color=\"red\">ch02. 자료형과 연산자</font></b>"
   ]
  },
  {
   "cell_type": "markdown",
   "id": "0b258a66",
   "metadata": {},
   "source": [
    "# 6절. 문자열다루기\n",
    " - 문자열 슬라이싱변수 [from : to : by]\n",
    " - len (문자열변수)\n",
    " - upper() : 대문자\n",
    " - lower() : 소문자\n",
    " - title() : 각 어절의 앞글자만 대문자로\n",
    " - capitalize() : 첫문자만 대문자로\n",
    " - count('찾을문자열') : '찾을문자열' 이 몇개 들어있는지 갯수반환\n",
    " - find('찾을문자열') : '찾을문자열'이 왼쪽부터 시작하여 몇번째에 있는지 index를 반환\n",
    " - rfind('찾을문자열') : '찾을문자열'이 오른쪽부터 시작하여 몇번째에 있는지 index를 반환\n",
    "                       (찾을문자열이 없으면 -1을 반환)\n",
    " - index('찾을문자열') : '찾을문자열이'이 왼쪽부터 시작하여 몇번째에 있는지 index를 반환\n",
    "                       (찾을 문자열이 없으면 오류)\n",
    " - startswith('특정문자열') : '특정문자열'로 시작하는지 여부 반환\n",
    " - endswith('특정문자열') : '특정문자열'로 끝나는지 여부 반환\n",
    " - strip() : 좌우 공백 제거(trim)\n",
    " - rstrip() : 오른쪽 공백 제거\n",
    " - lstrip() : 왼쪽 공백 제거\n",
    " - split() : 문자열을 공백이나 다른 문자 기준으로 나누어 리스트로 반환\n",
    " - isdigit() : 문자열이 숫자 문자열인지 여부 반환\n",
    " - islower() : 문자열이 소문자인지 여부 반환\n",
    " - isupper() : 문자열이 대문자인지 여부 반환\n",
    " - replace(oldStr, newStr) : oldStr을 newStr로 변경"
   ]
  },
  {
   "cell_type": "code",
   "execution_count": 7,
   "id": "4f348f83",
   "metadata": {
    "ExecuteTime": {
     "end_time": "2024-11-05T07:55:05.151381Z",
     "start_time": "2024-11-05T07:55:05.145396Z"
    }
   },
   "outputs": [
    {
     "data": {
      "text/plain": [
       "('python is easy. python is smart. python', 39)"
      ]
     },
     "execution_count": 7,
     "metadata": {},
     "output_type": "execute_result"
    }
   ],
   "source": [
    "temp = \"python is easy. python is smart. python\"\n",
    "temp, len(temp)"
   ]
  },
  {
   "cell_type": "code",
   "execution_count": 11,
   "id": "ad5359b6",
   "metadata": {
    "ExecuteTime": {
     "end_time": "2024-11-05T07:56:20.594555Z",
     "start_time": "2024-11-05T07:56:20.589570Z"
    }
   },
   "outputs": [
    {
     "name": "stdout",
     "output_type": "stream",
     "text": [
      "첫번째 글자는 p이고, 마지막 글자는 n입니다\n"
     ]
    }
   ],
   "source": [
    "print(\"첫번째 글자는 {}이고, 마지막 글자는 {}입니다\".format(temp[0], temp[-1]))"
   ]
  },
  {
   "cell_type": "code",
   "execution_count": 10,
   "id": "46077d75",
   "metadata": {
    "ExecuteTime": {
     "end_time": "2024-11-05T07:56:05.118956Z",
     "start_time": "2024-11-05T07:56:05.113969Z"
    }
   },
   "outputs": [
    {
     "name": "stdout",
     "output_type": "stream",
     "text": [
      "전화번호 끝자리 :  2132\n"
     ]
    }
   ],
   "source": [
    "tel = \"010-7894-2132\"\n",
    "print('전화번호 끝자리 : ', tel[-4:])"
   ]
  },
  {
   "cell_type": "code",
   "execution_count": 31,
   "id": "5ecc3b0f",
   "metadata": {
    "ExecuteTime": {
     "end_time": "2024-11-05T08:23:32.643524Z",
     "start_time": "2024-11-05T08:23:32.635546Z"
    }
   },
   "outputs": [
    {
     "name": "stdout",
     "output_type": "stream",
     "text": [
      "대문자로 : PYTHON IS EASY. PYTHON IS SMART. PYTHON\n",
      "소문자로 : python is easy. python is smart. python\n",
      "title() : Python Is Easy. Python Is Smart. Python\n",
      "capitalize() : Python is easy. python is smart. python\n",
      "python이 몇번 나오는지 : 2 0\n",
      "대소문자 구문 없이 python이 몇번 나오는지 : 3\n",
      "대소문자 구문 없이 python이 몇번 나오는지 : 3\n",
      "대소문자 구문 없이 python이 몇번 나오는지 : 3\n",
      "python이 나오는 첫 index 위치 : 0\n",
      "python이 나오는 마지막 index 위치 : 33\n",
      "Java가 나오는 첫 index 위치 : -1\n",
      "python이 나오는 첫 index 위치 : 0\n",
      "python으로 시작하는 문자열인지 : True\n",
      "python으로 끝나는 문자열인지 : True\n",
      "python대신 R로 변경 : R is easy. R is smart. R\n"
     ]
    }
   ],
   "source": [
    "temp = \"python is easy. pyTHon is smart. python\"\n",
    "#       012345678901234567890123456789012345678\n",
    "print('대문자로 :',temp.upper())\n",
    "print('소문자로 :',temp.lower())\n",
    "print('title() :', temp.title())\n",
    "print('capitalize() :', temp.capitalize())\n",
    "print('python이 몇번 나오는지 :', temp.count('python'), temp.count('Python'))\n",
    "print('대소문자 구문 없이 python이 몇번 나오는지 :', temp.lower().count('python'))\n",
    "print('대소문자 구문 없이 python이 몇번 나오는지 :', temp.upper().count('PYTHON'))\n",
    "print('대소문자 구문 없이 python이 몇번 나오는지 :', temp.title().count('Python'))\n",
    "print('python이 나오는 첫 index 위치 :', temp.find('python'))\n",
    "print('python이 나오는 마지막 index 위치 :', temp.rfind('python'))\n",
    "print('Java가 나오는 첫 index 위치 :', temp.find('Java'))\n",
    "print('python이 나오는 첫 index 위치 :', temp.index('python'))\n",
    "#print('Java가 나오는 첫 index 위치 :', temp.index('Java'))\n",
    "print('python으로 시작하는 문자열인지 :', temp.startswith('python'))\n",
    "print('python으로 끝나는 문자열인지 :', temp.endswith('python'))\n",
    "print('python대신 R로 변경 :', temp.replace('python','R').replace('pyTHon','R'))"
   ]
  },
  {
   "cell_type": "code",
   "execution_count": 42,
   "id": "75c96ce1",
   "metadata": {
    "ExecuteTime": {
     "end_time": "2024-11-05T08:32:33.525564Z",
     "start_time": "2024-11-05T08:32:33.518583Z"
    }
   },
   "outputs": [
    {
     "name": "stdout",
     "output_type": "stream",
     "text": [
      "strip() : [python is esay]\n",
      "r|strip() :[     python is esay]\n",
      "lstrip() :[python is esay     ]\n",
      "isdigit() : False\n",
      "isdigit() : True\n",
      "대문자인지 : False\n",
      "소문자인지 : True\n"
     ]
    }
   ],
   "source": [
    "temp = '     python is esay     '\n",
    "notdisit = '1,123'\n",
    "print('strip() : [{}]'.format(temp.strip()))\n",
    "print('r|strip() :[{}]'.format(temp.rstrip()))\n",
    "print('lstrip() :[{}]'.format(temp.lstrip()))\n",
    "print('isdigit() : {}'.format(notdisit.isdigit()))\n",
    "print('isdigit() : {}'.format(notdisit.replace(',','').isdigit()))\n",
    "print('대문자인지 : {}'.format(temp.isupper()))\n",
    "print('소문자인지 : {}'.format(temp.islower()))"
   ]
  },
  {
   "cell_type": "code",
   "execution_count": 43,
   "id": "dbb445b7",
   "metadata": {
    "ExecuteTime": {
     "end_time": "2024-11-05T08:36:23.600206Z",
     "start_time": "2024-11-05T08:36:23.595219Z"
    }
   },
   "outputs": [
    {
     "name": "stdout",
     "output_type": "stream",
     "text": [
      "space 단위로 temp를 분리(list로 반환) ['홍길동', '김길동', '신길똥', '유길뚱']\n"
     ]
    }
   ],
   "source": [
    "temp = '    홍길동    김길동 신길똥 유길뚱'\n",
    "print('space 단위로 temp를 분리(list로 반환)', temp.split())"
   ]
  },
  {
   "cell_type": "code",
   "execution_count": 45,
   "id": "25ba4e17",
   "metadata": {
    "ExecuteTime": {
     "end_time": "2024-11-05T08:39:51.488068Z",
     "start_time": "2024-11-05T08:39:51.483081Z"
    }
   },
   "outputs": [
    {
     "name": "stdout",
     "output_type": "stream",
     "text": [
      "-단위로 date를 분리(list로 반환)합니다\n",
      "년 : 2024\n",
      "월 : 11\n",
      "일 : 05\n"
     ]
    }
   ],
   "source": [
    "date = '2024-11-05'\n",
    "print('-단위로 date를 분리(list로 반환)합니다')\n",
    "date_list=date.split('-')\n",
    "date_list\n",
    "print('년 :',date_list[0])\n",
    "print('월 :',date_list[1])\n",
    "print('일 :',date_list[2])"
   ]
  },
  {
   "cell_type": "code",
   "execution_count": 51,
   "id": "d4315dbd",
   "metadata": {
    "ExecuteTime": {
     "end_time": "2024-11-05T08:47:39.579836Z",
     "start_time": "2024-11-05T08:47:39.573852Z"
    }
   },
   "outputs": [
    {
     "name": "stdout",
     "output_type": "stream",
     "text": [
      "원 temp : Java - Oracle - 웹표준 - JSP - PYTHON\n",
      "분리된 temp : ['Java', 'Oracle', '웹표준', 'JSP', 'PYTHON']\n",
      "조인된 temp : Java/Oracle/웹표준/JSP/PYTHON\n"
     ]
    }
   ],
   "source": [
    "# ' - '를 '/' 로 바꾸기\n",
    "temp = 'Java - Oracle - 웹표준 - JSP - PYTHON'\n",
    "print('원 temp :', temp)\n",
    "splited_temp = temp.split(' - ')\n",
    "print('분리된 temp :',splited_temp)\n",
    "joined_temp = '/'.join(splited_temp)\n",
    "print('조인된 temp :',joined_temp)"
   ]
  },
  {
   "cell_type": "code",
   "execution_count": 52,
   "id": "c002d2c1",
   "metadata": {
    "ExecuteTime": {
     "end_time": "2024-11-05T08:50:25.146913Z",
     "start_time": "2024-11-05T08:50:25.141927Z"
    }
   },
   "outputs": [
    {
     "name": "stdout",
     "output_type": "stream",
     "text": [
      "A\n",
      "B\n",
      "C\n"
     ]
    }
   ],
   "source": [
    "str_ = 'ABC' #['A','B','C']\n",
    "for s in str_:\n",
    "    print(s)"
   ]
  },
  {
   "cell_type": "code",
   "execution_count": 53,
   "id": "308dd324",
   "metadata": {
    "ExecuteTime": {
     "end_time": "2024-11-05T08:51:32.073871Z",
     "start_time": "2024-11-05T08:51:32.068884Z"
    }
   },
   "outputs": [
    {
     "name": "stdout",
     "output_type": "stream",
     "text": [
      "A\n",
      "B\n",
      "C\n"
     ]
    }
   ],
   "source": [
    "str_list = ['A','B','C']\n",
    "for s in str_:\n",
    "    print(s)"
   ]
  },
  {
   "cell_type": "code",
   "execution_count": 54,
   "id": "be383851",
   "metadata": {
    "ExecuteTime": {
     "end_time": "2024-11-05T08:52:26.468356Z",
     "start_time": "2024-11-05T08:52:26.461375Z"
    },
    "code_folding": [],
    "collapsed": true
   },
   "outputs": [
    {
     "data": {
      "text/plain": [
       "['__add__',\n",
       " '__class__',\n",
       " '__contains__',\n",
       " '__delattr__',\n",
       " '__dir__',\n",
       " '__doc__',\n",
       " '__eq__',\n",
       " '__format__',\n",
       " '__ge__',\n",
       " '__getattribute__',\n",
       " '__getitem__',\n",
       " '__getnewargs__',\n",
       " '__gt__',\n",
       " '__hash__',\n",
       " '__init__',\n",
       " '__init_subclass__',\n",
       " '__iter__',\n",
       " '__le__',\n",
       " '__len__',\n",
       " '__lt__',\n",
       " '__mod__',\n",
       " '__mul__',\n",
       " '__ne__',\n",
       " '__new__',\n",
       " '__reduce__',\n",
       " '__reduce_ex__',\n",
       " '__repr__',\n",
       " '__rmod__',\n",
       " '__rmul__',\n",
       " '__setattr__',\n",
       " '__sizeof__',\n",
       " '__str__',\n",
       " '__subclasshook__',\n",
       " 'capitalize',\n",
       " 'casefold',\n",
       " 'center',\n",
       " 'count',\n",
       " 'encode',\n",
       " 'endswith',\n",
       " 'expandtabs',\n",
       " 'find',\n",
       " 'format',\n",
       " 'format_map',\n",
       " 'index',\n",
       " 'isalnum',\n",
       " 'isalpha',\n",
       " 'isascii',\n",
       " 'isdecimal',\n",
       " 'isdigit',\n",
       " 'isidentifier',\n",
       " 'islower',\n",
       " 'isnumeric',\n",
       " 'isprintable',\n",
       " 'isspace',\n",
       " 'istitle',\n",
       " 'isupper',\n",
       " 'join',\n",
       " 'ljust',\n",
       " 'lower',\n",
       " 'lstrip',\n",
       " 'maketrans',\n",
       " 'partition',\n",
       " 'removeprefix',\n",
       " 'removesuffix',\n",
       " 'replace',\n",
       " 'rfind',\n",
       " 'rindex',\n",
       " 'rjust',\n",
       " 'rpartition',\n",
       " 'rsplit',\n",
       " 'rstrip',\n",
       " 'split',\n",
       " 'splitlines',\n",
       " 'startswith',\n",
       " 'strip',\n",
       " 'swapcase',\n",
       " 'title',\n",
       " 'translate',\n",
       " 'upper',\n",
       " 'zfill']"
      ]
     },
     "execution_count": 54,
     "metadata": {},
     "output_type": "execute_result"
    }
   ],
   "source": [
    "# 문자열을 다루는 함수들\n",
    "dir(str)"
   ]
  },
  {
   "cell_type": "markdown",
   "id": "24f56077",
   "metadata": {},
   "source": [
    "# 7절. 시간, 날짜 다루기"
   ]
  },
  {
   "cell_type": "code",
   "execution_count": 20,
   "id": "9212b92a",
   "metadata": {
    "ExecuteTime": {
     "end_time": "2024-11-06T00:57:22.666354Z",
     "start_time": "2024-11-06T00:57:22.661382Z"
    }
   },
   "outputs": [],
   "source": [
    " # dateTime 모듈(datetime.py) 안에 datetime, date, time을 import\n",
    "from datetime import datetime, date, time"
   ]
  },
  {
   "cell_type": "markdown",
   "id": "c20fa854",
   "metadata": {},
   "source": [
    "## 7.1 시간과 날짜"
   ]
  },
  {
   "cell_type": "code",
   "execution_count": 21,
   "id": "324dd064",
   "metadata": {
    "ExecuteTime": {
     "end_time": "2024-11-06T00:58:08.743454Z",
     "start_time": "2024-11-06T00:58:08.737471Z"
    }
   },
   "outputs": [
    {
     "data": {
      "text/plain": [
       "datetime.datetime(2025, 3, 7, 18, 0)"
      ]
     },
     "execution_count": 21,
     "metadata": {},
     "output_type": "execute_result"
    }
   ],
   "source": [
    "#특정시점을 갖는 datetime 객체 생성\n",
    "thatday = datetime(2025,3,7,18,0)\n",
    "thatday"
   ]
  },
  {
   "cell_type": "code",
   "execution_count": 22,
   "id": "772d10cc",
   "metadata": {
    "ExecuteTime": {
     "end_time": "2024-11-06T00:58:39.686302Z",
     "start_time": "2024-11-06T00:58:39.681315Z"
    }
   },
   "outputs": [
    {
     "name": "stdout",
     "output_type": "stream",
     "text": [
      "2025-03-07 18:00:00\n",
      "2025년03월07일 18시00분\n",
      "25년03월07일 PM 06시00분00초\n"
     ]
    }
   ],
   "source": [
    "print(thatday) #사람이 읽기 쉬운 형태로\n",
    "print(thatday.strftime(\"%Y년%m월%d일 %H시%M분\"))\n",
    "print(\"{:%y년%m월%d일 %p %I시%M분%S초}\".format(thatday))"
   ]
  },
  {
   "cell_type": "code",
   "execution_count": 18,
   "id": "a6024879",
   "metadata": {
    "ExecuteTime": {
     "end_time": "2024-11-06T00:54:37.595206Z",
     "start_time": "2024-11-06T00:54:37.589247Z"
    }
   },
   "outputs": [
    {
     "name": "stdout",
     "output_type": "stream",
     "text": [
      "Wed Nov  6 09:54:37 2024\n",
      "2024년11월06일 09시54분\n",
      "24년11월06일 AM 09시54분37초\n"
     ]
    }
   ],
   "source": [
    "# 지금을 저장하는 datetime 객체생성\n",
    "now = datetime.now()\n",
    "print(now.ctime()) #사람이 읽기 쉬운 형태로\n",
    "print(now.strftime(\"%Y년%m월%d일 %H시%M분\"))\n",
    "print(\"{:%y년%m월%d일 %p %I시%M분%S초}\".format(now))"
   ]
  },
  {
   "cell_type": "markdown",
   "id": "41cbb789",
   "metadata": {},
   "source": [
    "## 7.2 날짜"
   ]
  },
  {
   "cell_type": "code",
   "execution_count": 23,
   "id": "94e3ef33",
   "metadata": {
    "ExecuteTime": {
     "end_time": "2024-11-06T00:59:04.442190Z",
     "start_time": "2024-11-06T00:59:04.437203Z"
    }
   },
   "outputs": [
    {
     "data": {
      "text/plain": [
       "datetime.date(2025, 3, 7)"
      ]
     },
     "execution_count": 23,
     "metadata": {},
     "output_type": "execute_result"
    }
   ],
   "source": [
    "someday = date(2025,3,7)\n",
    "someday"
   ]
  },
  {
   "cell_type": "code",
   "execution_count": 26,
   "id": "4e3bb639",
   "metadata": {
    "ExecuteTime": {
     "end_time": "2024-11-06T01:00:11.114888Z",
     "start_time": "2024-11-06T01:00:11.109892Z"
    }
   },
   "outputs": [
    {
     "name": "stdout",
     "output_type": "stream",
     "text": [
      "2025-03-07\n",
      "2024년11월06일\n",
      "25년03월07일\n"
     ]
    }
   ],
   "source": [
    "print(someday)\n",
    "print(now.strftime(\"%Y년%m월%d일\"))\n",
    "print(\"{:%y년%m월%d일}\".format(someday))"
   ]
  },
  {
   "cell_type": "code",
   "execution_count": 28,
   "id": "a4af58f7",
   "metadata": {
    "ExecuteTime": {
     "end_time": "2024-11-06T01:01:17.886046Z",
     "start_time": "2024-11-06T01:01:17.881059Z"
    }
   },
   "outputs": [
    {
     "data": {
      "text/plain": [
       "datetime.date(2024, 11, 6)"
      ]
     },
     "execution_count": 28,
     "metadata": {},
     "output_type": "execute_result"
    }
   ],
   "source": [
    "# 오늘을 갖는 date 객체 생성\n",
    "nowday = date.today()\n",
    "nowday"
   ]
  },
  {
   "cell_type": "code",
   "execution_count": 29,
   "id": "3ea62ead",
   "metadata": {
    "ExecuteTime": {
     "end_time": "2024-11-06T01:02:53.114011Z",
     "start_time": "2024-11-06T01:02:53.109022Z"
    }
   },
   "outputs": [
    {
     "name": "stdout",
     "output_type": "stream",
     "text": [
      "2024-11-06\n",
      "2024년11월06일\n",
      "24년11월06일\n"
     ]
    }
   ],
   "source": [
    "print(nowday)\n",
    "print(nowday.strftime(\"%Y년%m월%d일\"))\n",
    "print(\"{:%y년%m월%d일}\".format(nowday))"
   ]
  },
  {
   "cell_type": "markdown",
   "id": "c18c6835",
   "metadata": {},
   "source": [
    "## 7.3 시간"
   ]
  },
  {
   "cell_type": "code",
   "execution_count": 30,
   "id": "3a3146c7",
   "metadata": {
    "ExecuteTime": {
     "end_time": "2024-11-06T01:03:59.398683Z",
     "start_time": "2024-11-06T01:03:59.392681Z"
    }
   },
   "outputs": [
    {
     "data": {
      "text/plain": [
       "datetime.time(13, 12)"
      ]
     },
     "execution_count": 30,
     "metadata": {},
     "output_type": "execute_result"
    }
   ],
   "source": [
    "# 특정한 시간을 저장하는 time 객체 생성\n",
    "t = time(13, 12)\n",
    "t"
   ]
  },
  {
   "cell_type": "code",
   "execution_count": 33,
   "id": "2f3bef41",
   "metadata": {
    "ExecuteTime": {
     "end_time": "2024-11-06T01:05:26.327914Z",
     "start_time": "2024-11-06T01:05:26.323903Z"
    }
   },
   "outputs": [
    {
     "name": "stdout",
     "output_type": "stream",
     "text": [
      "13:12:00\n",
      "13시12분\n",
      "PM 01시12분\n"
     ]
    }
   ],
   "source": [
    "print(t)\n",
    "print(t.strftime(\"%H시%M분\"))\n",
    "print(\"{:%p %I시%M분}\".format(t))"
   ]
  },
  {
   "cell_type": "code",
   "execution_count": 34,
   "id": "3a9170cc",
   "metadata": {
    "ExecuteTime": {
     "end_time": "2024-11-06T01:09:40.689407Z",
     "start_time": "2024-11-06T01:09:40.684409Z"
    }
   },
   "outputs": [
    {
     "data": {
      "text/plain": [
       "(2024, 11, 6, 10, 9, 40, 685406)"
      ]
     },
     "execution_count": 34,
     "metadata": {},
     "output_type": "execute_result"
    }
   ],
   "source": [
    "# 현재 시간을 저장하는 time 객체 생성\n",
    "now = datetime.now() #현재날짜와 현재시간\n",
    "now.year, now.month, now.day, now.hour, now.minute, now.second, now.microsecond"
   ]
  },
  {
   "cell_type": "code",
   "execution_count": 51,
   "id": "e0720a31",
   "metadata": {
    "ExecuteTime": {
     "end_time": "2024-11-06T01:11:16.469882Z",
     "start_time": "2024-11-06T01:11:16.464896Z"
    }
   },
   "outputs": [
    {
     "name": "stdout",
     "output_type": "stream",
     "text": [
      "10:11:16.466891\n",
      "10시11분\n",
      "AM 10시11분\n"
     ]
    }
   ],
   "source": [
    "now = datetime.now()\n",
    "now_time = time(now.hour, now.minute, now.second, now.microsecond)\n",
    "print(now_time)\n",
    "print(now_time.strftime(\"%H시%M분\"))\n",
    "print(\"{:%p %I시%M분}\".format(now_time))"
   ]
  },
  {
   "cell_type": "markdown",
   "id": "a962e224",
   "metadata": {},
   "source": [
    "# 8. 연습문제"
   ]
  },
  {
   "cell_type": "markdown",
   "id": "2346fb5f",
   "metadata": {},
   "source": [
    "1. 이름과 나이 변수를 다음 형식으로 출력하도록 format() 함수를 이용해 형식화하세요\n",
    "[출력형식 : 홍길동님의 나이는 23살입니다]"
   ]
  },
  {
   "cell_type": "code",
   "execution_count": 52,
   "id": "cfe2ef2c",
   "metadata": {
    "ExecuteTime": {
     "end_time": "2024-11-06T01:16:58.290163Z",
     "start_time": "2024-11-06T01:16:58.285148Z"
    }
   },
   "outputs": [
    {
     "name": "stdout",
     "output_type": "stream",
     "text": [
      "홍길동님의 나이는 23살 입니다\n"
     ]
    }
   ],
   "source": [
    "name = '홍길동'\n",
    "age = 23\n",
    "print(\"{}님의 나이는 {}살 입니다\".format(name, age))"
   ]
  },
  {
   "cell_type": "markdown",
   "id": "507dcde6",
   "metadata": {},
   "source": [
    "2.  두 정수를 입력받아 두 수의 덧셈, 뺄셈, 곱셈, 나눗셈, 몫, 나머지를 출력하세요"
   ]
  },
  {
   "cell_type": "code",
   "execution_count": 55,
   "id": "62c35e23",
   "metadata": {
    "ExecuteTime": {
     "end_time": "2024-11-06T01:19:40.035318Z",
     "start_time": "2024-11-06T01:19:36.772446Z"
    }
   },
   "outputs": [
    {
     "name": "stdout",
     "output_type": "stream",
     "text": [
      "첫번째수10\n",
      "두번째수2\n",
      "12\n",
      "8\n",
      "20\n",
      "5.0\n",
      "5\n",
      "0\n"
     ]
    }
   ],
   "source": [
    "first = int(input('첫번째수'))\n",
    "seconde = int(input('두번째수'))\n",
    "print(first + seconde)\n",
    "print(first - seconde)\n",
    "print(first * seconde)\n",
    "print(first / seconde)\n",
    "print(first // seconde)\n",
    "print(first % seconde)"
   ]
  },
  {
   "cell_type": "markdown",
   "id": "1fb77a34",
   "metadata": {},
   "source": [
    "3. 문자열의 분리하기와 합치기 기능을 이용하여 ‘Hello World’가 할당된 변수를 이용하여\n",
    "‘World Hello’로 출력하세요"
   ]
  },
  {
   "cell_type": "code",
   "execution_count": 4,
   "id": "e03bbd99",
   "metadata": {
    "ExecuteTime": {
     "end_time": "2024-11-08T01:39:52.264273Z",
     "start_time": "2024-11-08T01:39:52.259285Z"
    }
   },
   "outputs": [
    {
     "name": "stdout",
     "output_type": "stream",
     "text": [
      "World Hello\n"
     ]
    }
   ],
   "source": [
    "temp = 'Hello World'\n",
    "temp_ = temp.split()\n",
    "joined_temp = ' '.join(temp_[::-1])\n",
    "print(joined_temp)"
   ]
  },
  {
   "cell_type": "markdown",
   "id": "c4850bd5",
   "metadata": {},
   "source": [
    "4. x = 'abcdef＇를 이용하여 ‘bcdefa’로 출력하세요(문자 슬라이싱이용)."
   ]
  },
  {
   "cell_type": "code",
   "execution_count": 58,
   "id": "011928b6",
   "metadata": {
    "ExecuteTime": {
     "end_time": "2024-11-06T01:26:45.131192Z",
     "start_time": "2024-11-06T01:26:45.126207Z"
    }
   },
   "outputs": [
    {
     "name": "stdout",
     "output_type": "stream",
     "text": [
      "bcdefa\n"
     ]
    }
   ],
   "source": [
    "x = 'abcdef'\n",
    "print(x[1:]+x[:1])"
   ]
  },
  {
   "cell_type": "markdown",
   "id": "78c15bf8",
   "metadata": {},
   "source": [
    "5. x = ‘abcdef’를 이용하여 ‘fedcba’로 출력하세요"
   ]
  },
  {
   "cell_type": "code",
   "execution_count": 59,
   "id": "7679711d",
   "metadata": {
    "ExecuteTime": {
     "end_time": "2024-11-06T01:27:18.947084Z",
     "start_time": "2024-11-06T01:27:18.943097Z"
    }
   },
   "outputs": [
    {
     "name": "stdout",
     "output_type": "stream",
     "text": [
      "fedcba\n"
     ]
    }
   ],
   "source": [
    "x = 'abcdef'\n",
    "print(x[::-1])"
   ]
  },
  {
   "cell_type": "markdown",
   "id": "37d97687",
   "metadata": {},
   "source": [
    "6. 오늘의 온도를 섭씨온도로 입력받아 화씨 온도로 변환하는 프로그램을 작성하세요. 화\n",
    "씨 온도는 소수점이 있을 경우만 두번째 자리까지 출력합니다.\n",
    "(다음은 섭씨와 화씨의 변환 공식입니다. C는 섭씨,\n",
    "F는 화씨)\n",
    "C = (F-32) / 1.8\n",
    "F = (C*1.8) + 32"
   ]
  },
  {
   "cell_type": "code",
   "execution_count": 64,
   "id": "f7e49004",
   "metadata": {
    "ExecuteTime": {
     "end_time": "2024-11-06T01:33:42.076110Z",
     "start_time": "2024-11-06T01:33:39.795521Z"
    }
   },
   "outputs": [
    {
     "name": "stdout",
     "output_type": "stream",
     "text": [
      "오늘온도는?4\n",
      "39.20\n"
     ]
    }
   ],
   "source": [
    "C = int(input('오늘온도는?'))\n",
    "F = (C*1.8)+32\n",
    "print('{:0.2f}'.format(F))"
   ]
  },
  {
   "cell_type": "markdown",
   "id": "b8ec6cde",
   "metadata": {},
   "source": [
    "7. 다음 중 변수 선언으로 잘못된 것을 모두 고르시오?\n",
    "① for\n",
    "② 10th\n",
    "③ Student.name\n",
    "④ _1234\n",
    "답 : 1,2,3"
   ]
  },
  {
   "cell_type": "markdown",
   "id": "9e588659",
   "metadata": {},
   "source": [
    "8. 다음의 코드의 실행결과는?"
   ]
  },
  {
   "cell_type": "code",
   "execution_count": 67,
   "id": "44f5362c",
   "metadata": {
    "ExecuteTime": {
     "end_time": "2024-11-06T01:36:32.458247Z",
     "start_time": "2024-11-06T01:36:32.453258Z"
    }
   },
   "outputs": [
    {
     "name": "stdout",
     "output_type": "stream",
     "text": [
      "SeounSeoul\n",
      "Seou n Seoul\n"
     ]
    }
   ],
   "source": [
    "text = \"Seoul A001 - programming with python\"\n",
    "print(text[:4]+text[-1]+text.split()[0])\n",
    "print(text[:4],text[-1],text.split()[0])"
   ]
  },
  {
   "cell_type": "markdown",
   "id": "940169dd",
   "metadata": {},
   "source": [
    "9. 다음 중 파이썬 3.x 버전에서 연산식과 그 결과의 출력이 잘못된 것은?\n",
    "① 수식 8//2 결과 4\n",
    "② 수식 8/2 결과 4\n",
    "③ 수식 8 **2 결과 64\n",
    "답 : 2"
   ]
  },
  {
   "cell_type": "markdown",
   "id": "77a1bea8",
   "metadata": {},
   "source": [
    "10. 아래 프로그램의 결과는?"
   ]
  },
  {
   "cell_type": "code",
   "execution_count": 65,
   "id": "a3318124",
   "metadata": {
    "ExecuteTime": {
     "end_time": "2024-11-06T01:35:02.968401Z",
     "start_time": "2024-11-06T01:35:02.950389Z"
    }
   },
   "outputs": [
    {
     "ename": "TypeError",
     "evalue": "unsupported operand type(s) for +: 'int' and 'str'",
     "output_type": "error",
     "traceback": [
      "\u001b[1;31m---------------------------------------------------------------------------\u001b[0m",
      "\u001b[1;31mTypeError\u001b[0m                                 Traceback (most recent call last)",
      "Cell \u001b[1;32mIn[65], line 3\u001b[0m\n\u001b[0;32m      1\u001b[0m x \u001b[38;5;241m=\u001b[39m \u001b[38;5;241m5\u001b[39m\n\u001b[0;32m      2\u001b[0m y \u001b[38;5;241m=\u001b[39m \u001b[38;5;124m\"\u001b[39m\u001b[38;5;124mJohn\u001b[39m\u001b[38;5;124m\"\u001b[39m\n\u001b[1;32m----> 3\u001b[0m \u001b[38;5;28mprint\u001b[39m(\u001b[43mx\u001b[49m\u001b[38;5;241;43m+\u001b[39;49m\u001b[43my\u001b[49m)\n",
      "\u001b[1;31mTypeError\u001b[0m: unsupported operand type(s) for +: 'int' and 'str'"
     ]
    }
   ],
   "source": [
    "x = 5\n",
    "y = \"John\"\n",
    "print(x+y)"
   ]
  },
  {
   "cell_type": "markdown",
   "id": "a65320fc",
   "metadata": {},
   "source": [
    "11. split()함수를 이용하여 str_의 값 중 ＂나라＂를 출력하는 프로그램을 완성하시오"
   ]
  },
  {
   "cell_type": "code",
   "execution_count": 68,
   "id": "47e7bdac",
   "metadata": {
    "ExecuteTime": {
     "end_time": "2024-11-06T01:37:55.158612Z",
     "start_time": "2024-11-06T01:37:55.153597Z"
    }
   },
   "outputs": [
    {
     "name": "stdout",
     "output_type": "stream",
     "text": [
      "나라\n"
     ]
    }
   ],
   "source": [
    "str_ = \"우리 나라 대한 민국\"\n",
    "str_split = str_.split()[1]\n",
    "print(str_split)"
   ]
  }
 ],
 "metadata": {
  "kernelspec": {
   "display_name": "Python 3 (ipykernel)",
   "language": "python",
   "name": "python3"
  },
  "language_info": {
   "codemirror_mode": {
    "name": "ipython",
    "version": 3
   },
   "file_extension": ".py",
   "mimetype": "text/x-python",
   "name": "python",
   "nbconvert_exporter": "python",
   "pygments_lexer": "ipython3",
   "version": "3.10.9"
  },
  "toc": {
   "base_numbering": 1,
   "nav_menu": {},
   "number_sections": true,
   "sideBar": true,
   "skip_h1_title": false,
   "title_cell": "Table of Contents",
   "title_sidebar": "Contents",
   "toc_cell": false,
   "toc_position": {},
   "toc_section_display": true,
   "toc_window_display": true
  }
 },
 "nbformat": 4,
 "nbformat_minor": 5
}
