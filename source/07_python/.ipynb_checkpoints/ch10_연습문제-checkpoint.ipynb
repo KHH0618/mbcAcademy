{
 "cells": [
  {
   "cell_type": "code",
   "execution_count": 1,
   "id": "3db09fa9",
   "metadata": {
    "ExecuteTime": {
     "end_time": "2024-11-21T00:41:23.745418Z",
     "start_time": "2024-11-21T00:41:23.574136Z"
    }
   },
   "outputs": [],
   "source": [
    "import sqlite3\n",
    "import cx_Oracle\n",
    "oracle_dsn = cx_Oracle.makedsn(host='localhost', port=1521, sid='xe')\n",
    "conn = cx_Oracle.connect('dlow123', 'tmvjswl', dsn=oracle_dsn)"
   ]
  },
  {
   "cell_type": "markdown",
   "id": "cd595d34",
   "metadata": {},
   "source": [
    "# SQLITE"
   ]
  },
  {
   "cell_type": "code",
   "execution_count": 2,
   "id": "6a1322aa",
   "metadata": {
    "ExecuteTime": {
     "end_time": "2024-11-21T00:41:25.810169Z",
     "start_time": "2024-11-21T00:41:25.804168Z"
    }
   },
   "outputs": [],
   "source": [
    "class Member:\n",
    "    def __init__(self, name, phone, email, age, grade, etc):\n",
    "        self.name = name\n",
    "        self.phone = phone\n",
    "        self.email = email\n",
    "        self.age = age\n",
    "        self.grade = grade\n",
    "        self.etc = etc\n",
    "    def __str__(self):\n",
    "        return 'name:{}\\nphone:{}\\nemail:{}\\nage:{}\\ngrade:{}\\netc:{}\\n'.format(self.name, self.phone, self.email, self.age, self.grade, self.etc)\n",
    "    def as_dict(self):\n",
    "        return {'name':self.name, 'phone':self.phone, 'email':self.email, 'age':self.age, 'grade':self.grade, 'etc':self.etc}\n",
    "def to_member(*row):\n",
    "    return Member(row[0],row[1],row[2],row[3],row[4],row[5])"
   ]
  },
  {
   "cell_type": "code",
   "execution_count": 3,
   "id": "dc50fa4a",
   "metadata": {
    "ExecuteTime": {
     "end_time": "2024-11-21T00:41:26.226056Z",
     "start_time": "2024-11-21T00:41:26.219047Z"
    }
   },
   "outputs": [],
   "source": [
    "def insert_member():\n",
    "    cursor = conn.cursor()\n",
    "    name = input('등록하실분의 이름을 입력하세요 > ')\n",
    "    phone = input('등록하실분의 전화번호을 입력하세요 > ')\n",
    "    email = input('등록하실분의 이메일을 입력하세요 > ')\n",
    "    while True:\n",
    "        try:\n",
    "            age = int(input('등록하실분의 나이을 정수로 입력하세요 > '))\n",
    "            grade = int(input('등록하실분의 등급을 정수로 입력하세요 > '))\n",
    "            break\n",
    "        except:\n",
    "            print('정수로 다시 입력해주세요')\n",
    "    etc = input('등록하실분의 기타사항을 입력하세요 > ')\n",
    "    cursor.execute('INSERT INTO MEMBER VALUES (:name, :phone, :email, :age, :grade, :etc)', Member(name, phone, email, age, grade, etc).as_dict())\n",
    "    conn.commit()\n",
    "    print('입력 성공!')\n",
    "    cursor.close()"
   ]
  },
  {
   "cell_type": "code",
   "execution_count": 4,
   "id": "c7f1bdd3",
   "metadata": {
    "ExecuteTime": {
     "end_time": "2024-11-21T00:41:26.680840Z",
     "start_time": "2024-11-21T00:41:26.675852Z"
    }
   },
   "outputs": [],
   "source": [
    "def select_all():\n",
    "    cursor = conn.cursor()\n",
    "    cursor.execute('SELECT * FROM MEMBER')\n",
    "    members = cursor.fetchall()\n",
    "    for member in members:\n",
    "        print(to_member(*member))\n",
    "    cursor.close()"
   ]
  },
  {
   "cell_type": "code",
   "execution_count": 5,
   "id": "eca54be2",
   "metadata": {
    "ExecuteTime": {
     "end_time": "2024-11-21T00:41:27.105623Z",
     "start_time": "2024-11-21T00:41:27.101633Z"
    }
   },
   "outputs": [],
   "source": [
    "def select_name():\n",
    "    cursor = conn.cursor()\n",
    "    name = input('검색하실분의 이름을 작성해 주세요')\n",
    "    cursor.execute('SELECT * FROM MEMBER WHERE NAME = UPPER(:name)',{'name':name})\n",
    "    members = cursor.fetchall()\n",
    "    for member in members:\n",
    "        print(to_member(*member))\n",
    "    cursor.close()"
   ]
  },
  {
   "cell_type": "code",
   "execution_count": 6,
   "id": "d3bfebc5",
   "metadata": {
    "ExecuteTime": {
     "end_time": "2024-11-21T00:41:27.512534Z",
     "start_time": "2024-11-21T00:41:27.507547Z"
    }
   },
   "outputs": [],
   "source": [
    "def delete_email():\n",
    "    cursor = conn.cursor()\n",
    "    email = input('삭제하실분의 이메일을 작성해 주세요')\n",
    "    cursor.execute('DELETE FROM MEMBER WHERE EMAIL = :email',{'email':email})\n",
    "    conn.commit()\n",
    "    if cursor.rowcount >= 1:\n",
    "        print('삭제완료되었습니다')\n",
    "    cursor.close()"
   ]
  },
  {
   "cell_type": "code",
   "execution_count": 7,
   "id": "5474d317",
   "metadata": {
    "ExecuteTime": {
     "end_time": "2024-11-21T00:41:27.905628Z",
     "start_time": "2024-11-21T00:41:27.898645Z"
    }
   },
   "outputs": [],
   "source": [
    "def save_csv():\n",
    "    import csv\n",
    "    cursor = conn.cursor()\n",
    "    save_member_list = []\n",
    "    cursor.execute('SELECT * FROM MEMBER')\n",
    "    members = cursor.fetchall()\n",
    "    for member in members:\n",
    "        save_member_list.append(to_member(*member).as_dict())\n",
    "    fieldnames = list(save_member_list[0].keys())\n",
    "    filename = input('저장할 CSV 파일 이름은 ?')\n",
    "    try :\n",
    "        with open('data/{}.csv'.format(filename), 'w', newline='', encoding='UTF-8') as f:\n",
    "            dict_writer = csv.DictWriter(f, fieldnames=fieldnames)\n",
    "            dict_writer.writeheader()\n",
    "            dict_writer.writerows(save_member_list)\n",
    "    except Exception as e:\n",
    "        print('데이터 내보내기 예외 :', e)\n",
    "    cursor.close()"
   ]
  },
  {
   "cell_type": "code",
   "execution_count": 8,
   "id": "aa1cb1ac",
   "metadata": {
    "ExecuteTime": {
     "end_time": "2024-11-21T00:41:28.655634Z",
     "start_time": "2024-11-21T00:41:28.650635Z"
    }
   },
   "outputs": [],
   "source": [
    "def close_sql():\n",
    "    conn.close()\n",
    "    print('프로그램이 종료되었습니다')"
   ]
  },
  {
   "cell_type": "code",
   "execution_count": 20,
   "id": "7bb3c47e",
   "metadata": {
    "ExecuteTime": {
     "end_time": "2024-11-21T00:48:03.469151Z",
     "start_time": "2024-11-21T00:48:03.464183Z"
    }
   },
   "outputs": [],
   "source": [
    "def main():\n",
    "    while True:\n",
    "        print(\"1.입력\", \"2.전체 조회\", \"3.이름 찾기\", \"4.메일 삭제\", \"5.CSV 내보내기\", \"0.종료\",sep=\" | \")\n",
    "        try:\n",
    "            menu = int(input(\"메뉴 선택: \"))\n",
    "        except:\n",
    "            print(\"유효하지 않은 값을 입력하였습니다. 다시 선택해주세요.\")\n",
    "        if menu==1:\n",
    "            insert_member()\n",
    "        elif menu==2:\n",
    "            select_all()\n",
    "        elif menu==3:\n",
    "            select_name()\n",
    "        elif menu==4:\n",
    "            delete_email()\n",
    "        elif menu==5:\n",
    "            save_csv()\n",
    "        elif menu==0:\n",
    "            close_sql()\n",
    "            break"
   ]
  },
  {
   "cell_type": "code",
   "execution_count": 21,
   "id": "68a321ea",
   "metadata": {
    "ExecuteTime": {
     "end_time": "2024-11-21T00:48:40.312140Z",
     "start_time": "2024-11-21T00:48:04.447523Z"
    }
   },
   "outputs": [
    {
     "name": "stdout",
     "output_type": "stream",
     "text": [
      "1.입력 | 2.전체 조회 | 3.이름 찾기 | 4.메일 삭제 | 5.CSV 내보내기 | 0.종료\n",
      "메뉴 선택: 2\n",
      "name:홍길동\n",
      "phone:010-9999-9999\n",
      "email:h@h.com\n",
      "age:20\n",
      "grade:3\n",
      "etc:바보\n",
      "\n",
      "1.입력 | 2.전체 조회 | 3.이름 찾기 | 4.메일 삭제 | 5.CSV 내보내기 | 0.종료\n",
      "메뉴 선택: 1\n",
      "등록하실분의 이름을 입력하세요 > 김길동\n",
      "등록하실분의 전화번호을 입력하세요 > 010-9999-9999\n",
      "등록하실분의 이메일을 입력하세요 > k@k.com\n",
      "등록하실분의 나이을 정수로 입력하세요 > 25\n",
      "등록하실분의 등급을 정수로 입력하세요 > 2\n",
      "등록하실분의 기타사항을 입력하세요 > 멍총이\n",
      "입력 성공!\n",
      "1.입력 | 2.전체 조회 | 3.이름 찾기 | 4.메일 삭제 | 5.CSV 내보내기 | 0.종료\n",
      "메뉴 선택: 2\n",
      "name:홍길동\n",
      "phone:010-9999-9999\n",
      "email:h@h.com\n",
      "age:20\n",
      "grade:3\n",
      "etc:바보\n",
      "\n",
      "name:김길동\n",
      "phone:010-9999-9999\n",
      "email:k@k.com\n",
      "age:25\n",
      "grade:2\n",
      "etc:멍총이\n",
      "\n",
      "1.입력 | 2.전체 조회 | 3.이름 찾기 | 4.메일 삭제 | 5.CSV 내보내기 | 0.종료\n",
      "메뉴 선택: 5\n",
      "저장할 CSV 파일 이름은 ?test\n",
      "1.입력 | 2.전체 조회 | 3.이름 찾기 | 4.메일 삭제 | 5.CSV 내보내기 | 0.종료\n",
      "메뉴 선택: 0\n",
      "프로그램이 종료되었습니다\n"
     ]
    }
   ],
   "source": [
    "if __name__=='__main__':\n",
    "    import sqlite3\n",
    "    global conn\n",
    "    conn = sqlite3.connect('data/ch10_data.db')\n",
    "    main()"
   ]
  },
  {
   "cell_type": "markdown",
   "id": "a3d1370e",
   "metadata": {},
   "source": [
    "# ORACLE"
   ]
  },
  {
   "cell_type": "code",
   "execution_count": 10,
   "id": "92b8c39a",
   "metadata": {
    "ExecuteTime": {
     "end_time": "2024-11-21T00:44:21.142243Z",
     "start_time": "2024-11-21T00:44:21.136230Z"
    }
   },
   "outputs": [],
   "source": [
    "class Member:\n",
    "    def __init__(self, name, phone, email, age, grade, etc):\n",
    "        self.name = name\n",
    "        self.phone = phone\n",
    "        self.email = email\n",
    "        self.age = age\n",
    "        self.grade = grade\n",
    "        self.etc = etc\n",
    "    def __str__(self):\n",
    "        return 'name:{}\\nphone:{}\\nemail:{}\\nage:{}\\ngrade:{}\\netc:{}\\n'.format(self.name, self.phone, self.email, self.age, self.grade, self.etc)\n",
    "    def as_dict(self):\n",
    "        return {'name':self.name, 'phone':self.phone, 'email':self.email, 'age':self.age, 'grade':self.grade, 'etc':self.etc}\n",
    "def to_member(*row):\n",
    "    return Member(row[0],row[1],row[2],row[3],row[4],row[5])"
   ]
  },
  {
   "cell_type": "code",
   "execution_count": 11,
   "id": "edd94876",
   "metadata": {
    "ExecuteTime": {
     "end_time": "2024-11-21T00:44:21.525218Z",
     "start_time": "2024-11-21T00:44:21.519254Z"
    }
   },
   "outputs": [],
   "source": [
    "def insert_member():\n",
    "    cursor = conn.cursor()\n",
    "    name = input('등록하실분의 이름을 입력하세요 > ')\n",
    "    phone = input('등록하실분의 전화번호을 입력하세요 > ')\n",
    "    email = input('등록하실분의 이메일을 입력하세요 > ')\n",
    "    while True:\n",
    "        try:\n",
    "            age = int(input('등록하실분의 나이을 정수로 입력하세요 > '))\n",
    "            grade = int(input('등록하실분의 등급을 정수로 입력하세요 > '))\n",
    "            break\n",
    "        except:\n",
    "            print('정수로 다시 입력해주세요')\n",
    "    etc = input('등록하실분의 기타사항을 입력하세요 > ')\n",
    "    cursor.execute('INSERT INTO MEMBER VALUES (:name, :phone, :email, :age, :grade, :etc)', Member(name, phone, email, age, grade, etc).as_dict())\n",
    "    conn.commit()\n",
    "    print('입력 성공!')\n",
    "    cursor.close()"
   ]
  },
  {
   "cell_type": "code",
   "execution_count": 12,
   "id": "a005f1db",
   "metadata": {
    "ExecuteTime": {
     "end_time": "2024-11-21T00:44:21.988333Z",
     "start_time": "2024-11-21T00:44:21.972711Z"
    }
   },
   "outputs": [],
   "source": [
    "def select_all():\n",
    "    cursor = conn.cursor()\n",
    "    cursor.execute('SELECT * FROM MEMBER')\n",
    "    members = cursor.fetchall()\n",
    "    for member in members:\n",
    "        print(to_member(*member))\n",
    "    cursor.close()"
   ]
  },
  {
   "cell_type": "code",
   "execution_count": 13,
   "id": "c37f0bb1",
   "metadata": {
    "ExecuteTime": {
     "end_time": "2024-11-21T00:44:22.395706Z",
     "start_time": "2024-11-21T00:44:22.391633Z"
    }
   },
   "outputs": [],
   "source": [
    "def select_name():\n",
    "    cursor = conn.cursor()\n",
    "    name = input('검색하실분의 이름을 작성해 주세요')\n",
    "    cursor.execute('SELECT * FROM MEMBER WHERE NAME = UPPER(:name)',{'name':name})\n",
    "    members = cursor.fetchall()\n",
    "    for member in members:\n",
    "        print(to_member(*member))\n",
    "    cursor.close()"
   ]
  },
  {
   "cell_type": "code",
   "execution_count": 14,
   "id": "250e2721",
   "metadata": {
    "ExecuteTime": {
     "end_time": "2024-11-21T00:44:22.804122Z",
     "start_time": "2024-11-21T00:44:22.799137Z"
    }
   },
   "outputs": [],
   "source": [
    "def delete_email():\n",
    "    cursor = conn.cursor()\n",
    "    email = input('삭제하실분의 이메일을 작성해 주세요')\n",
    "    cursor.execute('DELETE FROM MEMBER WHERE EMAIL = :email',{'email':email})\n",
    "    conn.commit()\n",
    "    if cursor.rowcount >= 1:\n",
    "        print('삭제완료되었습니다')\n",
    "    cursor.close()"
   ]
  },
  {
   "cell_type": "code",
   "execution_count": 15,
   "id": "594a5039",
   "metadata": {
    "ExecuteTime": {
     "end_time": "2024-11-21T00:44:23.365621Z",
     "start_time": "2024-11-21T00:44:23.359665Z"
    }
   },
   "outputs": [],
   "source": [
    "def save_csv():\n",
    "    import csv\n",
    "    cursor = conn.cursor()\n",
    "    save_member_list = []\n",
    "    cursor.execute('SELECT * FROM MEMBER')\n",
    "    members = cursor.fetchall()\n",
    "    for member in members:\n",
    "        save_member_list.append(to_member(*member).as_dict())\n",
    "    fieldnames = list(save_member_list[0].keys())\n",
    "    filename = input('저장할 CSV 파일 이름은 ?')\n",
    "    try :\n",
    "        with open('data/{}.csv'.format(filename), 'w', newline='', encoding='UTF-8') as f:\n",
    "            dict_writer = csv.DictWriter(f, fieldnames=fieldnames)\n",
    "            dict_writer.writeheader()\n",
    "            dict_writer.writerows(save_member_list)\n",
    "    except Exception as e:\n",
    "        print('데이터 내보내기 예외 :', e)\n",
    "    cursor.close()"
   ]
  },
  {
   "cell_type": "code",
   "execution_count": 16,
   "id": "6508932a",
   "metadata": {
    "ExecuteTime": {
     "end_time": "2024-11-21T00:44:23.859549Z",
     "start_time": "2024-11-21T00:44:23.855549Z"
    }
   },
   "outputs": [],
   "source": [
    "def close_sql():\n",
    "    conn.close()\n",
    "    print('프로그램이 종료되었습니다')"
   ]
  },
  {
   "cell_type": "code",
   "execution_count": 17,
   "id": "22b2036c",
   "metadata": {
    "ExecuteTime": {
     "end_time": "2024-11-21T00:44:24.348234Z",
     "start_time": "2024-11-21T00:44:24.343259Z"
    }
   },
   "outputs": [],
   "source": [
    "def main():\n",
    "    while True:\n",
    "        print(\"1.입력\", \"2.전체 조회\", \"3.이름 찾기\", \"4.메일 삭제\", \"5.CSV 내보내기\", \"0.종료\",sep=\" | \")\n",
    "        try:\n",
    "            menu = int(input(\"메뉴 선택: \"))\n",
    "        except:\n",
    "            print(\"유효하지 않은 값을 입력하였습니다. 다시 선택해주세요.\")\n",
    "        if menu==1:\n",
    "            insert_member()\n",
    "        elif menu==2:\n",
    "            select_all()\n",
    "        elif menu==3:\n",
    "            select_name()\n",
    "        elif menu==4:\n",
    "            delete_email()\n",
    "        elif menu==5:\n",
    "            save_csv()\n",
    "        elif menu==0:\n",
    "            close_sql()\n",
    "            break"
   ]
  },
  {
   "cell_type": "code",
   "execution_count": 19,
   "id": "72c8a781",
   "metadata": {
    "ExecuteTime": {
     "end_time": "2024-11-21T00:45:46.239103Z",
     "start_time": "2024-11-21T00:45:08.788110Z"
    }
   },
   "outputs": [
    {
     "name": "stdout",
     "output_type": "stream",
     "text": [
      "1.입력 | 2.전체 조회 | 3.이름 찾기 | 4.메일 삭제 | 5.CSV 내보내기 | 0.종료\n",
      "메뉴 선택: 1\n",
      "등록하실분의 이름을 입력하세요 > 홍길동\n",
      "등록하실분의 전화번호을 입력하세요 > 010-9999-9999\n",
      "등록하실분의 이메일을 입력하세요 > h@h.com\n",
      "등록하실분의 나이을 정수로 입력하세요 > 20\n",
      "등록하실분의 등급을 정수로 입력하세요 > 3\n",
      "등록하실분의 기타사항을 입력하세요 > 바보\n",
      "입력 성공!\n",
      "1.입력 | 2.전체 조회 | 3.이름 찾기 | 4.메일 삭제 | 5.CSV 내보내기 | 0.종료\n",
      "메뉴 선택: 2\n",
      "name:홍길동\n",
      "phone:010-9999-9999\n",
      "email:h@h.com\n",
      "age:20\n",
      "grade:3\n",
      "etc:바보\n",
      "\n",
      "1.입력 | 2.전체 조회 | 3.이름 찾기 | 4.메일 삭제 | 5.CSV 내보내기 | 0.종료\n",
      "메뉴 선택: 5\n",
      "저장할 CSV 파일 이름은 ?0\n",
      "1.입력 | 2.전체 조회 | 3.이름 찾기 | 4.메일 삭제 | 5.CSV 내보내기 | 0.종료\n",
      "메뉴 선택: 0\n",
      "프로그램이 종료되었습니다\n"
     ]
    }
   ],
   "source": [
    "if __name__=='__main__':\n",
    "    global conn\n",
    "    oracle_dsn = cx_Oracle.makedsn(host='localhost', port=1521, sid='xe')\n",
    "    conn = cx_Oracle.connect('dlow123', 'tmvjswl', dsn=oracle_dsn)\n",
    "    main()"
   ]
  },
  {
   "cell_type": "markdown",
   "id": "2f38c529",
   "metadata": {},
   "source": [
    "# 연습문제 서술형"
   ]
  },
  {
   "cell_type": "markdown",
   "id": "30ac2f78",
   "metadata": {},
   "source": [
    "```\n",
    "1. 파이썬의데이터베이스 연동에대해잘 못 설명한 것은?\n",
    "답 : (4) commit()을 호출하지 않고 데이터베이스 연결 객체를 close() 하면 변경사항은 자동으로 저장된다.\n",
    "\n",
    "2. 파이썬의Cursor 객체에대해잘 못 설명한 것은?\n",
    "답 : (2) 커서객체의execute() 메소드는결과set으로 반환한다\n",
    "```"
   ]
  }
 ],
 "metadata": {
  "kernelspec": {
   "display_name": "Python 3 (ipykernel)",
   "language": "python",
   "name": "python3"
  },
  "language_info": {
   "codemirror_mode": {
    "name": "ipython",
    "version": 3
   },
   "file_extension": ".py",
   "mimetype": "text/x-python",
   "name": "python",
   "nbconvert_exporter": "python",
   "pygments_lexer": "ipython3",
   "version": "3.10.9"
  },
  "toc": {
   "base_numbering": 1,
   "nav_menu": {},
   "number_sections": true,
   "sideBar": true,
   "skip_h1_title": false,
   "title_cell": "Table of Contents",
   "title_sidebar": "Contents",
   "toc_cell": false,
   "toc_position": {},
   "toc_section_display": true,
   "toc_window_display": false
  }
 },
 "nbformat": 4,
 "nbformat_minor": 5
}
