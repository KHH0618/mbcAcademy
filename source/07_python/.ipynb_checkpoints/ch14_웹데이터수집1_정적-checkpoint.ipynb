{
 "cells": [
  {
   "cell_type": "markdown",
   "id": "06890342",
   "metadata": {},
   "source": [
    "<b><font color=\"red\" size=\"6\">ch14. 웹 데이터 수집</font></b>"
   ]
  },
  {
   "cell_type": "markdown",
   "id": "62e7db56",
   "metadata": {},
   "source": [
    "# 1절. BeautifulSoup과 parser\n",
    "\n",
    "` pip install bs4` 아나콘다를 설치하면 자동 설치되는 패키지 7500개에 포함\n",
    "\n",
    "- 공식 사이트\n",
    "    * https://www.crummy.com/software/BeautifulSoup/\n",
    "- Documentation\n",
    "    * https://www.crummy.com/software/BeautifulSoup/bs4/doc/\n"
   ]
  },
  {
   "cell_type": "code",
   "execution_count": 1,
   "id": "05524e57",
   "metadata": {
    "ExecuteTime": {
     "end_time": "2024-12-10T00:35:31.557396Z",
     "start_time": "2024-12-10T00:35:31.435722Z"
    }
   },
   "outputs": [],
   "source": [
    "import requests\n",
    "from requests_file import FileAdapter"
   ]
  },
  {
   "cell_type": "code",
   "execution_count": 2,
   "id": "4c158668",
   "metadata": {
    "ExecuteTime": {
     "end_time": "2024-12-10T00:35:31.582349Z",
     "start_time": "2024-12-10T00:35:31.559391Z"
    }
   },
   "outputs": [
    {
     "data": {
      "text/plain": [
       "<Response [200]>"
      ]
     },
     "execution_count": 2,
     "metadata": {},
     "output_type": "execute_result"
    }
   ],
   "source": [
    "s = requests.Session() # HTTP 요청관리를 위한 세션 객체\n",
    "s.mount(\"file://\",FileAdapter())\n",
    "response = s.get('file:///KHH/ai/source/07_python/ch14_sample.html')\n",
    "response"
   ]
  },
  {
   "cell_type": "code",
   "execution_count": 3,
   "id": "c3abde3b",
   "metadata": {
    "ExecuteTime": {
     "end_time": "2024-12-10T00:35:31.590308Z",
     "start_time": "2024-12-10T00:35:31.585341Z"
    }
   },
   "outputs": [
    {
     "data": {
      "text/plain": [
       "b'<!DOCTYPE html>\\r\\n<html lang=\"ko\" xmlns=\"http://www.w3.org/1999/xhtml\">\\r\\n<head>\\r\\n    <meta charset=\"UTF-8\" />\\r\\n</head>\\r\\n<body>\\r\\n    <h1 class=\"greeting css\" id=\"text\">Hello, CSS</h1>\\r\\n    <h1 class=\"css\">Hi, CSS</h1>\\r\\n    <div id=\"subject\">subject \\xec\\x84\\xa0\\xed\\x83\\x9d\\xec\\x9e\\x90 \\xec\\x95\\x88\\xec\\x9d\\x98 \\xeb\\x82\\xb4\\xec\\x9a\\xa9</div>\\r\\n    <p>CSS \\xec\\x84\\xa0\\xed\\x83\\x9d\\xec\\x9e\\x90\\xeb\\x8a\\x94 \\xeb\\x8b\\xa4\\xec\\x96\\x91\\xed\\x95\\x9c \\xea\\xb3\\xb3\\xec\\x97\\x90\\xec\\x84\\x9c \\xed\\x99\\x9c\\xec\\x9a\\xa9\\xeb\\x90\\xa9\\xeb\\x8b\\x88\\xeb\\x8b\\xa4</p>\\r\\n    <div class=\"contents\">\\r\\n        \\xec\\x84\\xa0\\xed\\x83\\x9d\\xec\\x9e\\x90\\xeb\\xa5\\xbc \\xec\\x96\\xb4\\xeb\\x96\\xbb\\xea\\xb2\\x8c \\xec\\x9e\\x91\\xec\\x84\\xb1\\xed\\x95\\x98\\xeb\\x8a\\x90\\xeb\\x83\\x90\\xec\\x97\\x90 \\xeb\\x94\\xb0\\xeb\\x9d\\xbc\\r\\n        <span>\\xeb\\x8b\\xa4\\xeb\\xa5\\xb8<b>\\xec\\x9a\\x94\\xec\\x86\\x8c\\xea\\xb0\\x80 \\xeb\\xb0\\x98\\xed\\x99\\x98</b></span>\\xeb\\x90\\xa9\\xeb\\x8b\\x88\\xeb\\x8b\\xa4\\r\\n    </div>\\r\\n    <div>CSS \\xec\\x84\\xa0\\xed\\x83\\x9d\\xec\\x9e\\x90\\xeb\\x8a\\x94 \\xeb\\x8b\\xa4\\xec\\x96\\x91\\xed\\x95\\x9c \\xea\\xb3\\xb3\\xec\\x97\\x90 <b>\\xed\\x99\\x9c\\xec\\x9a\\xa9</b>\\xeb\\x90\\xa9\\xeb\\x8b\\x88\\xeb\\x8b\\xa4</div>\\r\\n</body>\\r\\n</html>'"
      ]
     },
     "execution_count": 3,
     "metadata": {},
     "output_type": "execute_result"
    }
   ],
   "source": [
    "ex = response.content\n",
    "ex"
   ]
  },
  {
   "cell_type": "code",
   "execution_count": 4,
   "id": "caaab33c",
   "metadata": {
    "ExecuteTime": {
     "end_time": "2024-12-10T00:35:31.609062Z",
     "start_time": "2024-12-10T00:35:31.593301Z"
    }
   },
   "outputs": [
    {
     "data": {
      "text/plain": [
       "'<!DOCTYPE html>\\r\\n<html lang=\"ko\" xmlns=\"http://www.w3.org/1999/xhtml\">\\r\\n<head>\\r\\n    <meta charset=\"UTF-8\" />\\r\\n</head>\\r\\n<body>\\r\\n    <h1 class=\"greeting css\" id=\"text\">Hello, CSS</h1>\\r\\n    <h1 class=\"css\">Hi, CSS</h1>\\r\\n    <div id=\"subject\">subject 선택자 안의 내용</div>\\r\\n    <p>CSS 선택자는 다양한 곳에서 활용됩니다</p>\\r\\n    <div class=\"contents\">\\r\\n        선택자를 어떻게 작성하느냐에 따라\\r\\n        <span>다른<b>요소가 반환</b></span>됩니다\\r\\n    </div>\\r\\n    <div>CSS 선택자는 다양한 곳에 <b>활용</b>됩니다</div>\\r\\n</body>\\r\\n</html>'"
      ]
     },
     "execution_count": 4,
     "metadata": {},
     "output_type": "execute_result"
    }
   ],
   "source": [
    "response.content.decode('utf-8')"
   ]
  },
  {
   "cell_type": "code",
   "execution_count": 5,
   "id": "bc891ccd",
   "metadata": {
    "ExecuteTime": {
     "end_time": "2024-12-10T00:35:31.618060Z",
     "start_time": "2024-12-10T00:35:31.612055Z"
    }
   },
   "outputs": [
    {
     "data": {
      "text/plain": [
       "'<!DOCTYPE html>\\r\\n<html lang=\"ko\" xmlns=\"http://www.w3.org/1999/xhtml\">\\r\\n<head>\\r\\n    <meta charset=\"UTF-8\" />\\r\\n</head>\\r\\n<body>\\r\\n    <h1 class=\"greeting css\" id=\"text\">Hello, CSS</h1>\\r\\n    <h1 class=\"css\">Hi, CSS</h1>\\r\\n    <div id=\"subject\">subject 선택자 안의 내용</div>\\r\\n    <p>CSS 선택자는 다양한 곳에서 활용됩니다</p>\\r\\n    <div class=\"contents\">\\r\\n        선택자를 어떻게 작성하느냐에 따라\\r\\n        <span>다른<b>요소가 반환</b></span>됩니다\\r\\n    </div>\\r\\n    <div>CSS 선택자는 다양한 곳에 <b>활용</b>됩니다</div>\\r\\n</body>\\r\\n</html>'"
      ]
     },
     "execution_count": 5,
     "metadata": {},
     "output_type": "execute_result"
    }
   ],
   "source": [
    "response.text"
   ]
  },
  {
   "cell_type": "code",
   "execution_count": 6,
   "id": "3e22077c",
   "metadata": {
    "ExecuteTime": {
     "end_time": "2024-12-10T00:35:31.749687Z",
     "start_time": "2024-12-10T00:35:31.621031Z"
    }
   },
   "outputs": [],
   "source": [
    "# html 파싱\n",
    "from bs4 import BeautifulSoup\n",
    "soup = BeautifulSoup(\n",
    "        response.content,\n",
    "        \"html.parser\"\n",
    "        )\n",
    "# soup"
   ]
  },
  {
   "cell_type": "code",
   "execution_count": 7,
   "id": "fae261c3",
   "metadata": {
    "ExecuteTime": {
     "end_time": "2024-12-10T00:35:31.759659Z",
     "start_time": "2024-12-10T00:35:31.751682Z"
    }
   },
   "outputs": [
    {
     "name": "stdout",
     "output_type": "stream",
     "text": [
      "<h1 class=\"greeting css\" id=\"text\">Hello, CSS</h1>\n",
      "el.text : Hello, CSS\n",
      "el.string : Hello, CSS\n",
      "el의 속성들 : {'class': ['greeting', 'css'], 'id': 'text'}\n",
      "el의 class속성 : ['greeting', 'css']\n",
      "el의 name : h1\n"
     ]
    }
   ],
   "source": [
    "# soup.select_one('선택자') : 해당 선택자 처음 하나만\n",
    "el = soup.select_one('h1') # 처음 나오는 h1태그 하나만\n",
    "print(el)\n",
    "print('el.text :',el.text)\n",
    "print('el.string :',el.string)\n",
    "print('el의 속성들 :',el.attrs)\n",
    "print('el의 class속성 :',el.attrs['class'])\n",
    "print('el의 name :',el.name)"
   ]
  },
  {
   "cell_type": "code",
   "execution_count": 8,
   "id": "91e838c5",
   "metadata": {
    "ExecuteTime": {
     "end_time": "2024-12-10T00:35:31.770630Z",
     "start_time": "2024-12-10T00:35:31.761654Z"
    }
   },
   "outputs": [
    {
     "name": "stdout",
     "output_type": "stream",
     "text": [
      "el : [<h1 class=\"greeting css\" id=\"text\">Hello, CSS</h1>, <h1 class=\"css\">Hi, CSS</h1>]\n",
      "el들의 text : ['Hello, CSS', 'Hi, CSS']\n",
      "el들의 string : ['Hello, CSS', 'Hi, CSS']\n",
      "el들의 속성들 : [{'class': ['greeting', 'css'], 'id': 'text'}, {'class': ['css']}]\n",
      "el들의 class 속성들 : [['greeting', 'css'], ['css']]\n",
      "el의 name : ['h1', 'h1']\n"
     ]
    }
   ],
   "source": [
    "# soup.select('선택자') : 해당 선택자 모든 엘리먼트를 리스트로\n",
    "el = soup.select('h1')\n",
    "print('el :', el)\n",
    "print('el들의 text :', [e.text for e in el])\n",
    "print('el들의 string :', [e.string for e in el])\n",
    "print('el들의 속성들 :', [e.attrs for e in el])\n",
    "print('el들의 class 속성들 :', [e.attrs['class'] for e in el])\n",
    "print('el의 name :',[e.name for e in el])"
   ]
  },
  {
   "cell_type": "code",
   "execution_count": 9,
   "id": "5a4a447f",
   "metadata": {
    "ExecuteTime": {
     "end_time": "2024-12-10T00:35:31.780604Z",
     "start_time": "2024-12-10T00:35:31.772626Z"
    }
   },
   "outputs": [
    {
     "name": "stdout",
     "output_type": "stream",
     "text": [
      "모든 h1, span태그(select) :\n",
      "[<h1 class=\"greeting css\" id=\"text\">Hello, CSS</h1>, <h1 class=\"css\">Hi, CSS</h1>, <span>다른<b>요소가 반환</b></span>]\n",
      "모든 h1, span태그(find_all) :\n",
      "[<h1 class=\"greeting css\" id=\"text\">Hello, CSS</h1>, <h1 class=\"css\">Hi, CSS</h1>]\n",
      "h1태그(select_one) :\n",
      "<h1 class=\"greeting css\" id=\"text\">Hello, CSS</h1>\n",
      "h1태그(find) :\n",
      "<h1 class=\"greeting css\" id=\"text\">Hello, CSS</h1>\n"
     ]
    }
   ],
   "source": [
    "# select('선택자')와 find_all('태그')\n",
    "print('모든 h1, span태그(select) :', soup.select('h1, span'), sep='\\n')\n",
    "print('모든 h1, span태그(find_all) :', soup.find_all(['h1', 'span'], class_=['css']), sep='\\n')\n",
    "\n",
    "# select_one('선택자')와 find('태그','속성')\n",
    "print('h1태그(select_one) :', soup.select_one('h1.greeting'), sep='\\n')\n",
    "print('h1태그(find) :', soup.find('h1', class_='css'), sep='\\n')"
   ]
  },
  {
   "cell_type": "markdown",
   "id": "f12cf005",
   "metadata": {},
   "source": [
    "# 2절. 정적 웹 데이터 수집(정적 웹크롤링)\n",
    "\n",
    "## 2.1 request모듈 (get 요청)/urllib.reauest 모듈(urlopen)"
   ]
  },
  {
   "cell_type": "code",
   "execution_count": 10,
   "id": "69e2637e",
   "metadata": {
    "ExecuteTime": {
     "end_time": "2024-12-10T00:35:31.791574Z",
     "start_time": "2024-12-10T00:35:31.784594Z"
    }
   },
   "outputs": [
    {
     "data": {
      "text/plain": [
       "'\\n    User-agent: * 모든 크롤링을 허용, 지침을 적용할 크롤러를 지정\\n    Allow, Disallow: / 크롤링을 제한할 경로\\n'"
      ]
     },
     "execution_count": 10,
     "metadata": {},
     "output_type": "execute_result"
    }
   ],
   "source": [
    "# 크롤링 허용범위는 사이트마다 /robots.txt에서 확인할 수 있습니다\n",
    "\"\"\"\n",
    "    User-agent: * 모든 크롤링을 허용, 지침을 적용할 크롤러를 지정\n",
    "    Allow, Disallow: / 크롤링을 제한할 경로\n",
    "\"\"\""
   ]
  },
  {
   "cell_type": "code",
   "execution_count": 11,
   "id": "c5a46c19",
   "metadata": {
    "ExecuteTime": {
     "end_time": "2024-12-10T00:35:31.855882Z",
     "start_time": "2024-12-10T00:35:31.793570Z"
    }
   },
   "outputs": [
    {
     "data": {
      "text/plain": [
       "(<Response [200]>, 200)"
      ]
     },
     "execution_count": 11,
     "metadata": {},
     "output_type": "execute_result"
    }
   ],
   "source": [
    "# 방법 1\n",
    "import requests\n",
    "resopnse = requests.get('https://api.github.com/')\n",
    "resopnse, resopnse.status_code"
   ]
  },
  {
   "cell_type": "code",
   "execution_count": 12,
   "id": "8a84fbab",
   "metadata": {
    "ExecuteTime": {
     "end_time": "2024-12-10T00:35:31.865856Z",
     "start_time": "2024-12-10T00:35:31.860869Z"
    }
   },
   "outputs": [
    {
     "data": {
      "text/plain": [
       "b'{\\n  \"current_user_url\": \"https://api.github.com/user\",\\n  \"current_user_authorizations_html_url\": \"https://github.com/settings/connections/applications{/client_id}\",\\n  \"authorizations_url\": \"https://api.github.com/authorizations\",\\n  \"code_search_url\": \"https://api.github.com/search/code?q={query}{&page,per_page,sort,order}\",\\n  \"commit_search_url\": \"https://api.github.com/search/commits?q={query}{&page,per_page,sort,order}\",\\n  \"emails_url\": \"https://api.github.com/user/emails\",\\n  \"emojis_url\": \"https://api.github.com/emojis\",\\n  \"events_url\": \"https://api.github.com/events\",\\n  \"feeds_url\": \"https://api.github.com/feeds\",\\n  \"followers_url\": \"https://api.github.com/user/followers\",\\n  \"following_url\": \"https://api.github.com/user/following{/target}\",\\n  \"gists_url\": \"https://api.github.com/gists{/gist_id}\",\\n  \"hub_url\": \"https://api.github.com/hub\",\\n  \"issue_search_url\": \"https://api.github.com/search/issues?q={query}{&page,per_page,sort,order}\",\\n  \"issues_url\": \"https://api.github.com/issues\",\\n  \"keys_url\": \"https://api.github.com/user/keys\",\\n  \"label_search_url\": \"https://api.github.com/search/labels?q={query}&repository_id={repository_id}{&page,per_page}\",\\n  \"notifications_url\": \"https://api.github.com/notifications\",\\n  \"organization_url\": \"https://api.github.com/orgs/{org}\",\\n  \"organization_repositories_url\": \"https://api.github.com/orgs/{org}/repos{?type,page,per_page,sort}\",\\n  \"organization_teams_url\": \"https://api.github.com/orgs/{org}/teams\",\\n  \"public_gists_url\": \"https://api.github.com/gists/public\",\\n  \"rate_limit_url\": \"https://api.github.com/rate_limit\",\\n  \"repository_url\": \"https://api.github.com/repos/{owner}/{repo}\",\\n  \"repository_search_url\": \"https://api.github.com/search/repositories?q={query}{&page,per_page,sort,order}\",\\n  \"current_user_repositories_url\": \"https://api.github.com/user/repos{?type,page,per_page,sort}\",\\n  \"starred_url\": \"https://api.github.com/user/starred{/owner}{/repo}\",\\n  \"starred_gists_url\": \"https://api.github.com/gists/starred\",\\n  \"topic_search_url\": \"https://api.github.com/search/topics?q={query}{&page,per_page}\",\\n  \"user_url\": \"https://api.github.com/users/{user}\",\\n  \"user_organizations_url\": \"https://api.github.com/user/orgs\",\\n  \"user_repositories_url\": \"https://api.github.com/users/{user}/repos{?type,page,per_page,sort}\",\\n  \"user_search_url\": \"https://api.github.com/search/users?q={query}{&page,per_page,sort,order}\"\\n}\\n'"
      ]
     },
     "execution_count": 12,
     "metadata": {},
     "output_type": "execute_result"
    }
   ],
   "source": [
    "resopnse.content # resopnse.text"
   ]
  },
  {
   "cell_type": "code",
   "execution_count": 13,
   "id": "0fe2dc1d",
   "metadata": {
    "ExecuteTime": {
     "end_time": "2024-12-10T00:35:31.878034Z",
     "start_time": "2024-12-10T00:35:31.867850Z"
    }
   },
   "outputs": [
    {
     "data": {
      "text/plain": [
       "dict"
      ]
     },
     "execution_count": 13,
     "metadata": {},
     "output_type": "execute_result"
    }
   ],
   "source": [
    "jsondata = resopnse.json()\n",
    "type(jsondata)"
   ]
  },
  {
   "cell_type": "code",
   "execution_count": 14,
   "id": "d328506a",
   "metadata": {
    "ExecuteTime": {
     "end_time": "2024-12-10T00:35:31.944854Z",
     "start_time": "2024-12-10T00:35:31.880029Z"
    }
   },
   "outputs": [
    {
     "data": {
      "text/plain": [
       "200"
      ]
     },
     "execution_count": 14,
     "metadata": {},
     "output_type": "execute_result"
    }
   ],
   "source": [
    "# 방법 2\n",
    "from urllib.request import urlopen\n",
    "response = urlopen('https://api.github.com/')\n",
    "response.status"
   ]
  },
  {
   "cell_type": "markdown",
   "id": "343f3800",
   "metadata": {},
   "source": [
    "## 2.2 BeaurlfulSoup 모듈을 활용 html 웹 데이터 수집\n",
    "### 1) 환율정보 가져오기 (네이버금융 > 시장지표)\n",
    "- https://finance.naver.com/marketindex/"
   ]
  },
  {
   "cell_type": "code",
   "execution_count": 15,
   "id": "82cfdd99",
   "metadata": {
    "ExecuteTime": {
     "end_time": "2024-12-10T00:35:32.041596Z",
     "start_time": "2024-12-10T00:35:31.946850Z"
    }
   },
   "outputs": [
    {
     "data": {
      "text/plain": [
       "[1428.6,\n",
       " 944.37,\n",
       " 1507.67,\n",
       " 196.64,\n",
       " 150.92,\n",
       " 1.06,\n",
       " 1.28,\n",
       " 106.12,\n",
       " 68.37,\n",
       " 1645.65,\n",
       " 2685.8,\n",
       " 122369.52]"
      ]
     },
     "execution_count": 15,
     "metadata": {},
     "output_type": "execute_result"
    }
   ],
   "source": [
    "# 방법1\n",
    "import requests\n",
    "from bs4 import BeautifulSoup\n",
    "url = 'https://finance.naver.com/marketindex/'\n",
    "response = requests.get(url)\n",
    "soup = BeautifulSoup(response.text,\n",
    "                    'html.parser')\n",
    "price = soup.select('div.head_info > span.value')\n",
    "[round(float(''.join(p.text.split(','))),2) for p in price]\n",
    "[round(float(p.text.replace(',','')),2) for p in price]"
   ]
  },
  {
   "cell_type": "code",
   "execution_count": 16,
   "id": "19000f79",
   "metadata": {
    "ExecuteTime": {
     "end_time": "2024-12-10T00:35:32.464505Z",
     "start_time": "2024-12-10T00:35:32.044588Z"
    }
   },
   "outputs": [],
   "source": [
    "from urllib.request import urlopen\n",
    "response = urlopen(url)\n",
    "soup = BeautifulSoup(response, 'html.parser')"
   ]
  },
  {
   "cell_type": "code",
   "execution_count": 17,
   "id": "98d96ba9",
   "metadata": {
    "ExecuteTime": {
     "end_time": "2024-12-10T00:35:32.474693Z",
     "start_time": "2024-12-10T00:35:32.465473Z"
    }
   },
   "outputs": [],
   "source": [
    "price = soup.select('div.head_info > span.value')\n",
    "# [round(float(''.join(p.text.split(','))),2) for p in price]\n",
    "# [round(float(p.text.replace(',','')),2) for p in price]"
   ]
  },
  {
   "cell_type": "code",
   "execution_count": 18,
   "id": "1c287e46",
   "metadata": {
    "ExecuteTime": {
     "end_time": "2024-12-10T00:35:32.486686Z",
     "start_time": "2024-12-10T00:35:32.477682Z"
    }
   },
   "outputs": [
    {
     "name": "stdout",
     "output_type": "stream",
     "text": [
      "미국 USD\t일본 JPY(100엔)\t유럽연합 EUR\t중국 CNY\t달러/일본 엔\t유로/달러\t영국 파운드/달러\t달러인덱스\tWTI\t휘발유\t국제 금\t국내 금\t"
     ]
    }
   ],
   "source": [
    "title = soup.select('h3.h_lst > span.blind')\n",
    "for t in title:\n",
    "    print(t.text, end='\\t')"
   ]
  },
  {
   "cell_type": "code",
   "execution_count": 19,
   "id": "b9941362",
   "metadata": {
    "ExecuteTime": {
     "end_time": "2024-12-10T00:35:32.501646Z",
     "start_time": "2024-12-10T00:35:32.488652Z"
    }
   },
   "outputs": [
    {
     "data": {
      "text/plain": [
       "['원', '원', '원', '원', '엔', '달러', '달러', '', '달러', '원', '달러', '원']"
      ]
     },
     "execution_count": 19,
     "metadata": {},
     "output_type": "execute_result"
    }
   ],
   "source": [
    "currency = soup.select('div.head_info > span > span.blind')\n",
    "currency = [c.text for c in currency]\n",
    "currency.insert(7, '')\n",
    "currency"
   ]
  },
  {
   "cell_type": "code",
   "execution_count": 20,
   "id": "533f7e1e",
   "metadata": {
    "ExecuteTime": {
     "end_time": "2024-12-10T00:35:32.514583Z",
     "start_time": "2024-12-10T00:35:32.504610Z"
    }
   },
   "outputs": [
    {
     "name": "stdout",
     "output_type": "stream",
     "text": [
      "하락\t하락\t하락\t하락\t상승\t상승\t상승\t상승\t상승\t상승\t상승\t하락\t"
     ]
    }
   ],
   "source": [
    "status = soup.select('div.head_info > span.blind')\n",
    "for idx in range(len(status)):\n",
    "    print(status[idx].text, end='\\t')"
   ]
  },
  {
   "cell_type": "code",
   "execution_count": 21,
   "id": "79fbb6e4",
   "metadata": {
    "ExecuteTime": {
     "end_time": "2024-12-10T00:35:32.522791Z",
     "start_time": "2024-12-10T00:35:32.517575Z"
    }
   },
   "outputs": [
    {
     "data": {
      "text/plain": [
       "(12, 12, 12, 12)"
      ]
     },
     "execution_count": 21,
     "metadata": {},
     "output_type": "execute_result"
    }
   ],
   "source": [
    "len(title), len(price), len(currency), len(status)"
   ]
  },
  {
   "cell_type": "code",
   "execution_count": 22,
   "id": "002aa941",
   "metadata": {
    "ExecuteTime": {
     "end_time": "2024-12-10T00:35:32.532811Z",
     "start_time": "2024-12-10T00:35:32.524832Z"
    }
   },
   "outputs": [
    {
     "name": "stdout",
     "output_type": "stream",
     "text": [
      "미국 USD : 1,428.60원 - 하락\n",
      "일본 JPY(100엔) : 944.25원 - 하락\n",
      "유럽연합 EUR : 1,507.67원 - 하락\n",
      "중국 CNY : 196.63원 - 하락\n",
      "달러/일본 엔 : 150.9200엔 - 상승\n",
      "유로/달러 : 1.0580달러 - 상승\n",
      "영국 파운드/달러 : 1.2779달러 - 상승\n",
      "달러인덱스 : 106.1200 - 상승\n",
      "WTI : 68.37달러 - 상승\n",
      "휘발유 : 1645.65원 - 상승\n",
      "국제 금 : 2685.8달러 - 상승\n",
      "국내 금 : 122188.87원 - 하락\n"
     ]
    }
   ],
   "source": [
    "for t, p, c, s in zip(title, price, currency, status):\n",
    "    print(\"{} : {}{} - {}\".format(t.text, p.text, c, s.text))"
   ]
  },
  {
   "cell_type": "markdown",
   "id": "cabbc679",
   "metadata": {},
   "source": [
    "### 2) 이번주 로또번호 출력\n",
    "- https://dhlottery.co.kr/gameResult.do?method=byWin&wiselog=C_A_1_1\n",
    "```\n",
    "1148회 (2024년 11월 30일 추첨)\n",
    "당첨번호 : [3,6,13,15,16,22]\n",
    "보너스번호 : 32\n",
    "```"
   ]
  },
  {
   "cell_type": "code",
   "execution_count": 23,
   "id": "c2178768",
   "metadata": {
    "ExecuteTime": {
     "end_time": "2024-12-10T00:35:32.888172Z",
     "start_time": "2024-12-10T00:35:32.534806Z"
    }
   },
   "outputs": [],
   "source": [
    "import requests\n",
    "from bs4 import BeautifulSoup\n",
    "url = 'https://dhlottery.co.kr/gameResult.do?method=byWin&wiselog=C_A_1_1'\n",
    "response = requests.get(url)\n",
    "soup = BeautifulSoup(response.text,\n",
    "                    'html.parser')\n",
    "\n",
    "rounds = soup.select_one('h4 > strong').text\n",
    "announcement = soup.select_one('p.desc').text\n",
    "balls = soup.select('span.ball_645')\n",
    "balls = [int(b.text) for b in balls]"
   ]
  },
  {
   "cell_type": "code",
   "execution_count": 24,
   "id": "e5225c20",
   "metadata": {
    "ExecuteTime": {
     "end_time": "2024-12-10T00:35:32.895081Z",
     "start_time": "2024-12-10T00:35:32.890105Z"
    }
   },
   "outputs": [
    {
     "name": "stdout",
     "output_type": "stream",
     "text": [
      "1149회 (2024년 12월 07일 추첨)\n",
      "당첨번호 : [8, 15, 19, 21, 32, 36]\n",
      "보너스번호 : 38\n"
     ]
    }
   ],
   "source": [
    "print('{} {}'.format(rounds, announcement))\n",
    "print('당첨번호 : {}'.format(balls[:-1]))\n",
    "print('보너스번호 : {}'.format(balls[-1]))"
   ]
  },
  {
   "cell_type": "markdown",
   "id": "8e2516fd",
   "metadata": {},
   "source": [
    "### 3) 다음 검색 리스트\n",
    "```\n",
    "no title                                                             href\n",
    "0 \"비트코인 8800만원에 주운 사람이 승자\"…한밤 불태운 코인 투자자들 https://v.daum.net/v/20241204113454203\n",
    "1 [속보] 비트코인 '쇼크'…30% 급락                                http://v.daum.net/v/20241203231205730\n",
    "2 비트코인 갑론을박...\"20만달러 vs 단기조정\"                    https://v.daum.net/v/20241206151520972\n",
    "```"
   ]
  },
  {
   "cell_type": "code",
   "execution_count": 25,
   "id": "a91c7bc2",
   "metadata": {
    "ExecuteTime": {
     "end_time": "2024-12-10T00:35:33.721512Z",
     "start_time": "2024-12-10T00:35:32.897047Z"
    }
   },
   "outputs": [
    {
     "data": {
      "text/html": [
       "<div>\n",
       "<style scoped>\n",
       "    .dataframe tbody tr th:only-of-type {\n",
       "        vertical-align: middle;\n",
       "    }\n",
       "\n",
       "    .dataframe tbody tr th {\n",
       "        vertical-align: top;\n",
       "    }\n",
       "\n",
       "    .dataframe thead th {\n",
       "        text-align: right;\n",
       "    }\n",
       "</style>\n",
       "<table border=\"1\" class=\"dataframe\">\n",
       "  <thead>\n",
       "    <tr style=\"text-align: right;\">\n",
       "      <th></th>\n",
       "      <th>no</th>\n",
       "      <th>title</th>\n",
       "      <th>link</th>\n",
       "    </tr>\n",
       "  </thead>\n",
       "  <tbody>\n",
       "    <tr>\n",
       "      <th>0</th>\n",
       "      <td>0</td>\n",
       "      <td>[글로벌 비즈 브리핑] '비트코인 빚투' 마이크로스트래티지, 또 샀다 外</td>\n",
       "      <td>http://v.daum.net/v/20241210044809410</td>\n",
       "    </tr>\n",
       "    <tr>\n",
       "      <th>1</th>\n",
       "      <td>1</td>\n",
       "      <td>비트코인, 트럼프 재집권에 '디지털 금' 된다</td>\n",
       "      <td>http://v.daum.net/v/20241210060003998</td>\n",
       "    </tr>\n",
       "    <tr>\n",
       "      <th>2</th>\n",
       "      <td>2</td>\n",
       "      <td>러시아·중국, 비트코인 전략자산 비축 나서나</td>\n",
       "      <td>http://v.daum.net/v/20241210085304785</td>\n",
       "    </tr>\n",
       "    <tr>\n",
       "      <th>3</th>\n",
       "      <td>3</td>\n",
       "      <td>유재석 “비트코인! 비트코인!” 2011년 아닌 올초라도 말 들었어야 했나…‘$1...</td>\n",
       "      <td>http://v.daum.net/v/20241207060020551</td>\n",
       "    </tr>\n",
       "    <tr>\n",
       "      <th>4</th>\n",
       "      <td>4</td>\n",
       "      <td>공매도 타깃 마이크로스트래티지, 최근 비트코인과 연관성 줄어</td>\n",
       "      <td>http://v.daum.net/v/20241210090124022</td>\n",
       "    </tr>\n",
       "    <tr>\n",
       "      <th>5</th>\n",
       "      <td>5</td>\n",
       "      <td>20만달러 가능?…비트코인 10만 달러 재돌파</td>\n",
       "      <td>http://v.daum.net/v/20241209130203846</td>\n",
       "    </tr>\n",
       "    <tr>\n",
       "      <th>6</th>\n",
       "      <td>6</td>\n",
       "      <td>비트코인 조정국면···다시 10만 달러 밑으로</td>\n",
       "      <td>http://v.daum.net/v/20241210080326695</td>\n",
       "    </tr>\n",
       "    <tr>\n",
       "      <th>7</th>\n",
       "      <td>7</td>\n",
       "      <td>알트코인, 한때 20% 이상 폭락… 비트코인도 다시 10만 달러 밑으로</td>\n",
       "      <td>http://v.daum.net/v/20241210084214520</td>\n",
       "    </tr>\n",
       "    <tr>\n",
       "      <th>8</th>\n",
       "      <td>8</td>\n",
       "      <td>‘트럼프 효과’...美 비트코인 ETF에 100억불 유입</td>\n",
       "      <td>http://v.daum.net/v/20241209161507983</td>\n",
       "    </tr>\n",
       "    <tr>\n",
       "      <th>9</th>\n",
       "      <td>9</td>\n",
       "      <td>\"비트코인, 내년 말 20만 달러 간다\"…낙관적 전망, 근거는?</td>\n",
       "      <td>http://v.daum.net/v/20241209104946961</td>\n",
       "    </tr>\n",
       "  </tbody>\n",
       "</table>\n",
       "</div>"
      ],
      "text/plain": [
       "   no                                              title  \\\n",
       "0   0          [글로벌 비즈 브리핑] '비트코인 빚투' 마이크로스트래티지, 또 샀다 外    \n",
       "1   1                         비트코인, 트럼프 재집권에 '디지털 금' 된다    \n",
       "2   2                          러시아·중국, 비트코인 전략자산 비축 나서나    \n",
       "3   3   유재석 “비트코인! 비트코인!” 2011년 아닌 올초라도 말 들었어야 했나…‘$1...   \n",
       "4   4                 공매도 타깃 마이크로스트래티지, 최근 비트코인과 연관성 줄어    \n",
       "5   5                         20만달러 가능?…비트코인 10만 달러 재돌파    \n",
       "6   6                         비트코인 조정국면···다시 10만 달러 밑으로    \n",
       "7   7           알트코인, 한때 20% 이상 폭락… 비트코인도 다시 10만 달러 밑으로    \n",
       "8   8                   ‘트럼프 효과’...美 비트코인 ETF에 100억불 유입    \n",
       "9   9               \"비트코인, 내년 말 20만 달러 간다\"…낙관적 전망, 근거는?    \n",
       "\n",
       "                                    link  \n",
       "0  http://v.daum.net/v/20241210044809410  \n",
       "1  http://v.daum.net/v/20241210060003998  \n",
       "2  http://v.daum.net/v/20241210085304785  \n",
       "3  http://v.daum.net/v/20241207060020551  \n",
       "4  http://v.daum.net/v/20241210090124022  \n",
       "5  http://v.daum.net/v/20241209130203846  \n",
       "6  http://v.daum.net/v/20241210080326695  \n",
       "7  http://v.daum.net/v/20241210084214520  \n",
       "8  http://v.daum.net/v/20241209161507983  \n",
       "9  http://v.daum.net/v/20241209104946961  "
      ]
     },
     "execution_count": 25,
     "metadata": {},
     "output_type": "execute_result"
    }
   ],
   "source": [
    "import requests\n",
    "from bs4 import BeautifulSoup\n",
    "url = 'https://search.daum.net/search?nil_suggest=btn&w=news&DA=PGD&cluster=y&q=비트코인'\n",
    "response = requests.get(url)\n",
    "soup = BeautifulSoup(response.text, 'html.parser')\n",
    "items_find_list = [] # 검색한 결과를 담을 2차원 리스트\n",
    "items_el = soup.select('div.item-title > strong.tit-g > a')\n",
    "for idx, item in enumerate(items_el):\n",
    "    items_find_list.append([idx,item.text,item.attrs['href']])\n",
    "import pandas as pd\n",
    "pd.DataFrame(items_find_list, columns=['no','title','link'])"
   ]
  },
  {
   "cell_type": "code",
   "execution_count": 26,
   "id": "75944c72",
   "metadata": {
    "ExecuteTime": {
     "end_time": "2024-12-10T00:35:34.083175Z",
     "start_time": "2024-12-10T00:35:33.723607Z"
    }
   },
   "outputs": [
    {
     "data": {
      "text/html": [
       "<div>\n",
       "<style scoped>\n",
       "    .dataframe tbody tr th:only-of-type {\n",
       "        vertical-align: middle;\n",
       "    }\n",
       "\n",
       "    .dataframe tbody tr th {\n",
       "        vertical-align: top;\n",
       "    }\n",
       "\n",
       "    .dataframe thead th {\n",
       "        text-align: right;\n",
       "    }\n",
       "</style>\n",
       "<table border=\"1\" class=\"dataframe\">\n",
       "  <thead>\n",
       "    <tr style=\"text-align: right;\">\n",
       "      <th></th>\n",
       "      <th>no</th>\n",
       "      <th>title</th>\n",
       "      <th>link</th>\n",
       "    </tr>\n",
       "  </thead>\n",
       "  <tbody>\n",
       "    <tr>\n",
       "      <th>0</th>\n",
       "      <td>0</td>\n",
       "      <td>[글로벌 비즈 브리핑] '비트코인 빚투' 마이크로스트래티지, 또 샀다 外</td>\n",
       "      <td>http://v.daum.net/v/20241210044809410</td>\n",
       "    </tr>\n",
       "    <tr>\n",
       "      <th>1</th>\n",
       "      <td>1</td>\n",
       "      <td>비트코인, 트럼프 재집권에 '디지털 금' 된다</td>\n",
       "      <td>http://v.daum.net/v/20241210060003998</td>\n",
       "    </tr>\n",
       "    <tr>\n",
       "      <th>2</th>\n",
       "      <td>2</td>\n",
       "      <td>러시아·중국, 비트코인 전략자산 비축 나서나</td>\n",
       "      <td>http://v.daum.net/v/20241210085304785</td>\n",
       "    </tr>\n",
       "    <tr>\n",
       "      <th>3</th>\n",
       "      <td>3</td>\n",
       "      <td>유재석 “비트코인! 비트코인!” 2011년 아닌 올초라도 말 들었어야 했나…‘$1...</td>\n",
       "      <td>http://v.daum.net/v/20241207060020551</td>\n",
       "    </tr>\n",
       "    <tr>\n",
       "      <th>4</th>\n",
       "      <td>4</td>\n",
       "      <td>공매도 타깃 마이크로스트래티지, 최근 비트코인과 연관성 줄어</td>\n",
       "      <td>http://v.daum.net/v/20241210090124022</td>\n",
       "    </tr>\n",
       "    <tr>\n",
       "      <th>5</th>\n",
       "      <td>5</td>\n",
       "      <td>20만달러 가능?…비트코인 10만 달러 재돌파</td>\n",
       "      <td>http://v.daum.net/v/20241209130203846</td>\n",
       "    </tr>\n",
       "    <tr>\n",
       "      <th>6</th>\n",
       "      <td>6</td>\n",
       "      <td>비트코인 조정국면···다시 10만 달러 밑으로</td>\n",
       "      <td>http://v.daum.net/v/20241210080326695</td>\n",
       "    </tr>\n",
       "    <tr>\n",
       "      <th>7</th>\n",
       "      <td>7</td>\n",
       "      <td>알트코인, 한때 20% 이상 폭락… 비트코인도 다시 10만 달러 밑으로</td>\n",
       "      <td>http://v.daum.net/v/20241210084214520</td>\n",
       "    </tr>\n",
       "    <tr>\n",
       "      <th>8</th>\n",
       "      <td>8</td>\n",
       "      <td>‘트럼프 효과’...美 비트코인 ETF에 100억불 유입</td>\n",
       "      <td>http://v.daum.net/v/20241209161507983</td>\n",
       "    </tr>\n",
       "    <tr>\n",
       "      <th>9</th>\n",
       "      <td>9</td>\n",
       "      <td>\"비트코인, 내년 말 20만 달러 간다\"…낙관적 전망, 근거는?</td>\n",
       "      <td>http://v.daum.net/v/20241209104946961</td>\n",
       "    </tr>\n",
       "  </tbody>\n",
       "</table>\n",
       "</div>"
      ],
      "text/plain": [
       "   no                                              title  \\\n",
       "0   0          [글로벌 비즈 브리핑] '비트코인 빚투' 마이크로스트래티지, 또 샀다 外    \n",
       "1   1                         비트코인, 트럼프 재집권에 '디지털 금' 된다    \n",
       "2   2                          러시아·중국, 비트코인 전략자산 비축 나서나    \n",
       "3   3   유재석 “비트코인! 비트코인!” 2011년 아닌 올초라도 말 들었어야 했나…‘$1...   \n",
       "4   4                 공매도 타깃 마이크로스트래티지, 최근 비트코인과 연관성 줄어    \n",
       "5   5                         20만달러 가능?…비트코인 10만 달러 재돌파    \n",
       "6   6                         비트코인 조정국면···다시 10만 달러 밑으로    \n",
       "7   7           알트코인, 한때 20% 이상 폭락… 비트코인도 다시 10만 달러 밑으로    \n",
       "8   8                   ‘트럼프 효과’...美 비트코인 ETF에 100억불 유입    \n",
       "9   9               \"비트코인, 내년 말 20만 달러 간다\"…낙관적 전망, 근거는?    \n",
       "\n",
       "                                    link  \n",
       "0  http://v.daum.net/v/20241210044809410  \n",
       "1  http://v.daum.net/v/20241210060003998  \n",
       "2  http://v.daum.net/v/20241210085304785  \n",
       "3  http://v.daum.net/v/20241207060020551  \n",
       "4  http://v.daum.net/v/20241210090124022  \n",
       "5  http://v.daum.net/v/20241209130203846  \n",
       "6  http://v.daum.net/v/20241210080326695  \n",
       "7  http://v.daum.net/v/20241210084214520  \n",
       "8  http://v.daum.net/v/20241209161507983  \n",
       "9  http://v.daum.net/v/20241209104946961  "
      ]
     },
     "execution_count": 26,
     "metadata": {},
     "output_type": "execute_result"
    }
   ],
   "source": [
    "import requests\n",
    "from bs4 import BeautifulSoup\n",
    "url = 'https://search.daum.net/search?w=news&nil_search=btn&DA=PGD&enc=utf8&cluster=y&cluster_page=1&q=비트코인'\n",
    "response = requests.get(url)\n",
    "soup = BeautifulSoup(response.text, \"html.parser\")\n",
    "items_find_list = [] # 검색한 결과를 담을 2차원 리스트\n",
    "items_el = soup.select('div.item-title > strong.tit-g > a')\n",
    "for idx, item in enumerate(items_el):\n",
    "    items_find_list.append([idx, item.text, item.attrs['href']])\n",
    "#print(items_find_list)\n",
    "import pandas as pd\n",
    "pd.DataFrame(items_find_list, columns=['no','title','link'])"
   ]
  },
  {
   "cell_type": "code",
   "execution_count": 27,
   "id": "33be714a",
   "metadata": {
    "ExecuteTime": {
     "end_time": "2024-12-10T00:35:34.102097Z",
     "start_time": "2024-12-10T00:35:34.085142Z"
    }
   },
   "outputs": [
    {
     "data": {
      "text/html": [
       "<div>\n",
       "<style scoped>\n",
       "    .dataframe tbody tr th:only-of-type {\n",
       "        vertical-align: middle;\n",
       "    }\n",
       "\n",
       "    .dataframe tbody tr th {\n",
       "        vertical-align: top;\n",
       "    }\n",
       "\n",
       "    .dataframe thead th {\n",
       "        text-align: right;\n",
       "    }\n",
       "</style>\n",
       "<table border=\"1\" class=\"dataframe\">\n",
       "  <thead>\n",
       "    <tr style=\"text-align: right;\">\n",
       "      <th></th>\n",
       "      <th>no</th>\n",
       "      <th>title</th>\n",
       "      <th>link</th>\n",
       "    </tr>\n",
       "  </thead>\n",
       "  <tbody>\n",
       "    <tr>\n",
       "      <th>0</th>\n",
       "      <td>0</td>\n",
       "      <td>[글로벌 비즈 브리핑] '비트코인 빚투' 마이크로스트래티지, 또 샀다 外</td>\n",
       "      <td>http://v.daum.net/v/20241210044809410</td>\n",
       "    </tr>\n",
       "    <tr>\n",
       "      <th>1</th>\n",
       "      <td>1</td>\n",
       "      <td>비트코인, 트럼프 재집권에 '디지털 금' 된다</td>\n",
       "      <td>http://v.daum.net/v/20241210060003998</td>\n",
       "    </tr>\n",
       "    <tr>\n",
       "      <th>2</th>\n",
       "      <td>2</td>\n",
       "      <td>러시아·중국, 비트코인 전략자산 비축 나서나</td>\n",
       "      <td>http://v.daum.net/v/20241210085304785</td>\n",
       "    </tr>\n",
       "    <tr>\n",
       "      <th>3</th>\n",
       "      <td>3</td>\n",
       "      <td>유재석 “비트코인! 비트코인!” 2011년 아닌 올초라도 말 들었어야 했나…‘$1...</td>\n",
       "      <td>http://v.daum.net/v/20241207060020551</td>\n",
       "    </tr>\n",
       "    <tr>\n",
       "      <th>4</th>\n",
       "      <td>4</td>\n",
       "      <td>공매도 타깃 마이크로스트래티지, 최근 비트코인과 연관성 줄어</td>\n",
       "      <td>http://v.daum.net/v/20241210090124022</td>\n",
       "    </tr>\n",
       "    <tr>\n",
       "      <th>5</th>\n",
       "      <td>5</td>\n",
       "      <td>20만달러 가능?…비트코인 10만 달러 재돌파</td>\n",
       "      <td>http://v.daum.net/v/20241209130203846</td>\n",
       "    </tr>\n",
       "    <tr>\n",
       "      <th>6</th>\n",
       "      <td>6</td>\n",
       "      <td>비트코인 조정국면···다시 10만 달러 밑으로</td>\n",
       "      <td>http://v.daum.net/v/20241210080326695</td>\n",
       "    </tr>\n",
       "    <tr>\n",
       "      <th>7</th>\n",
       "      <td>7</td>\n",
       "      <td>알트코인, 한때 20% 이상 폭락… 비트코인도 다시 10만 달러 밑으로</td>\n",
       "      <td>http://v.daum.net/v/20241210084214520</td>\n",
       "    </tr>\n",
       "    <tr>\n",
       "      <th>8</th>\n",
       "      <td>8</td>\n",
       "      <td>‘트럼프 효과’...美 비트코인 ETF에 100억불 유입</td>\n",
       "      <td>http://v.daum.net/v/20241209161507983</td>\n",
       "    </tr>\n",
       "    <tr>\n",
       "      <th>9</th>\n",
       "      <td>9</td>\n",
       "      <td>\"비트코인, 내년 말 20만 달러 간다\"…낙관적 전망, 근거는?</td>\n",
       "      <td>http://v.daum.net/v/20241209104946961</td>\n",
       "    </tr>\n",
       "  </tbody>\n",
       "</table>\n",
       "</div>"
      ],
      "text/plain": [
       "   no                                              title  \\\n",
       "0   0          [글로벌 비즈 브리핑] '비트코인 빚투' 마이크로스트래티지, 또 샀다 外    \n",
       "1   1                         비트코인, 트럼프 재집권에 '디지털 금' 된다    \n",
       "2   2                          러시아·중국, 비트코인 전략자산 비축 나서나    \n",
       "3   3   유재석 “비트코인! 비트코인!” 2011년 아닌 올초라도 말 들었어야 했나…‘$1...   \n",
       "4   4                 공매도 타깃 마이크로스트래티지, 최근 비트코인과 연관성 줄어    \n",
       "5   5                         20만달러 가능?…비트코인 10만 달러 재돌파    \n",
       "6   6                         비트코인 조정국면···다시 10만 달러 밑으로    \n",
       "7   7           알트코인, 한때 20% 이상 폭락… 비트코인도 다시 10만 달러 밑으로    \n",
       "8   8                   ‘트럼프 효과’...美 비트코인 ETF에 100억불 유입    \n",
       "9   9               \"비트코인, 내년 말 20만 달러 간다\"…낙관적 전망, 근거는?    \n",
       "\n",
       "                                    link  \n",
       "0  http://v.daum.net/v/20241210044809410  \n",
       "1  http://v.daum.net/v/20241210060003998  \n",
       "2  http://v.daum.net/v/20241210085304785  \n",
       "3  http://v.daum.net/v/20241207060020551  \n",
       "4  http://v.daum.net/v/20241210090124022  \n",
       "5  http://v.daum.net/v/20241209130203846  \n",
       "6  http://v.daum.net/v/20241210080326695  \n",
       "7  http://v.daum.net/v/20241210084214520  \n",
       "8  http://v.daum.net/v/20241209161507983  \n",
       "9  http://v.daum.net/v/20241209104946961  "
      ]
     },
     "execution_count": 27,
     "metadata": {},
     "output_type": "execute_result"
    }
   ],
   "source": [
    "items_find_list = [] # 검색한 결과를 담을 2차원 리스트\n",
    "item_titles = soup.find_all('div', class_='item-title')\n",
    "for idx, item in enumerate(item_titles):\n",
    "    strong = item.find('strong')\n",
    "    if strong:\n",
    "        a = strong.find('a')\n",
    "        items_find_list.append([idx, a.text, a.attrs['href']])\n",
    "pd.DataFrame(items_find_list, columns=['no','title','link'])"
   ]
  },
  {
   "cell_type": "code",
   "execution_count": 28,
   "id": "19403466",
   "metadata": {
    "ExecuteTime": {
     "end_time": "2024-12-10T00:35:34.111100Z",
     "start_time": "2024-12-10T00:35:34.105089Z"
    }
   },
   "outputs": [],
   "source": [
    "# 다음검색(원하는 키워드를 원하는 페이지 수)\n",
    "import requests\n",
    "from bs4 import BeautifulSoup\n",
    "import time\n",
    "import pandas as pd\n",
    "# print하는 함수\n",
    "def collect_list(keyword, page):\n",
    "    'keyword로 page에 다음검색한 결과를 출력 '\n",
    "#     url = 'https://search.daum.net/search?w=news&nil_search=btn&DA=PGD&enc=utf8&cluster=y&q={}&p={}'.format(keyword, \n",
    "#                                                                                                            page)\n",
    "#     response = requests.get(url)\n",
    "    url = 'https://search.daum.net/search?w=news&nil_search=btn&DA=PGD&enc=utf8&cluster=y'\n",
    "    params = {'q':keyword, 'p':page}\n",
    "    response = requests.get(url, params=params)\n",
    "    soup = BeautifulSoup(response.text, \"html.parser\")\n",
    "    items_find_list = [] # 검색한 결과를 담을 2차원 리스트(div.item-title > strong.tit-g > a)\n",
    "    item_titles = soup.find_all('div', class_='item-title')\n",
    "\n",
    "    for idx, item in enumerate(item_titles):\n",
    "        strong = item.find('strong')\n",
    "        if strong:\n",
    "            a = strong.find('a')\n",
    "            items_find_list.append([(page-1)*10+idx, a.text, a.attrs['href']])\n",
    "            print((page-1)*10+idx, a.text, a['href'])"
   ]
  },
  {
   "cell_type": "code",
   "execution_count": 29,
   "id": "15497857",
   "metadata": {
    "ExecuteTime": {
     "end_time": "2024-12-10T00:35:34.411963Z",
     "start_time": "2024-12-10T00:35:34.114065Z"
    }
   },
   "outputs": [
    {
     "name": "stdout",
     "output_type": "stream",
     "text": [
      "0  힙라인 美쳤다...'골프 여신' 유현주, 청바지 입고 뽐낸 '공격적 뒤태'  http://v.daum.net/v/20241208200005828\n",
      "1  에스파 닝닝, 워너비 청바지 핏..연일 리즈 찍는 비주얼 [스타IN★]  http://v.daum.net/v/20241208001414598\n",
      "2  ‘9살 연하♥’ 최지우, 49살 나이 믿기지 않는 러블리 미모 “청바지도 잘 어울려”  http://v.daum.net/v/20241209183907649\n",
      "3  56세 채시라, 흰티+청바지핏 20대 뺨쳐‥평생이 예쁘네  http://v.daum.net/v/20241205102113139\n",
      "4  ‘미스쓰리랑’ 김소연, 박상민과 ‘청바지 아가씨’ 즉석 화음  http://v.daum.net/v/20241129012015847\n",
      "5  56세 채시라, 흰 티에 청바지만 입어도 완벽… '데님 여신' 귀환  http://v.daum.net/v/20241206205810264\n",
      "6  이시영, 얼어죽어도 美! 폭설 속 찢어진 청바지에 돼지코 신발로 시선 강탈!  http://v.daum.net/v/20241127170304793\n",
      "7  50대의 흰티·청바지, 채시라 걸그룹 몸매 인증  http://v.daum.net/v/20241206020014186\n",
      "8  채시라, 흰티+청바지 완벽 소화…50대 나이 안 믿기는 몸매 [MD★스타]  http://v.daum.net/v/20241206162024306\n",
      "9  서주경, 전성기 파격 패션 “몸매 예뻐 청바지 오픈” (퍼펙트)[결정적장면]  http://v.daum.net/v/20241128060836398\n"
     ]
    }
   ],
   "source": [
    "collect_list('청바지',1)"
   ]
  },
  {
   "cell_type": "code",
   "execution_count": 30,
   "id": "c06a78e6",
   "metadata": {
    "ExecuteTime": {
     "end_time": "2024-12-10T00:35:46.959434Z",
     "start_time": "2024-12-10T00:35:34.414929Z"
    }
   },
   "outputs": [
    {
     "name": "stdout",
     "output_type": "stream",
     "text": [
      "\n",
      "▒▒▒▒▒▒▒▒▒▒▒▒▒▒▒▒▒▒▒▒▒▒▒ 청바지 검색결과입니다\n",
      "\n",
      "0  힙라인 美쳤다...'골프 여신' 유현주, 청바지 입고 뽐낸 '공격적 뒤태'  http://v.daum.net/v/20241208200005828\n",
      "1  에스파 닝닝, 워너비 청바지 핏..연일 리즈 찍는 비주얼 [스타IN★]  http://v.daum.net/v/20241208001414598\n",
      "2  ‘9살 연하♥’ 최지우, 49살 나이 믿기지 않는 러블리 미모 “청바지도 잘 어울려”  http://v.daum.net/v/20241209183907649\n",
      "3  56세 채시라, 흰티+청바지핏 20대 뺨쳐‥평생이 예쁘네  http://v.daum.net/v/20241205102113139\n",
      "4  ‘미스쓰리랑’ 김소연, 박상민과 ‘청바지 아가씨’ 즉석 화음  http://v.daum.net/v/20241129012015847\n",
      "5  56세 채시라, 흰 티에 청바지만 입어도 완벽… '데님 여신' 귀환  http://v.daum.net/v/20241206205810264\n",
      "6  이시영, 얼어죽어도 美! 폭설 속 찢어진 청바지에 돼지코 신발로 시선 강탈!  http://v.daum.net/v/20241127170304793\n",
      "7  50대의 흰티·청바지, 채시라 걸그룹 몸매 인증  http://v.daum.net/v/20241206020014186\n",
      "8  채시라, 흰티+청바지 완벽 소화…50대 나이 안 믿기는 몸매 [MD★스타]  http://v.daum.net/v/20241206162024306\n",
      "9  서주경, 전성기 파격 패션 “몸매 예뻐 청바지 오픈” (퍼펙트)[결정적장면]  http://v.daum.net/v/20241128060836398\n",
      "10  집에 굴러다니는 청바지 하나로 리사처럼 멋 내는 법  http://v.daum.net/v/20241127172605719\n",
      "11  서주경, 원조 섹시스타? 청바지 골반에 걸치고 당돌했던 패션(퍼펙트 라이프)  http://v.daum.net/v/20241127153650717\n",
      "12  크리스탈 ‘청바지에 가디건만 툭 걸쳐도 예쁨 완성’[포토엔HD]  http://v.daum.net/v/20241203100807187\n",
      "13  고우리 ‘청바지가 잘 어울려’ [MK포토]  http://v.daum.net/v/20241205164814052\n",
      "14  김지원, 청바지에 숏패딩만 입어도 청순‥입술 쭉 애교는 덤  http://v.daum.net/v/20241120155408078\n",
      "15  ‘美 언더아머’ 가방에 청바지 입은 北학생… 러시아 유튜버가 포착한 평양의 모습  http://v.daum.net/v/20241129115100297\n",
      "16  대구시행복진흥원, 2024 청바지(청년이 바라는 지금 가족) 아카데미 발대식 개최  http://v.daum.net/v/20241109214942252\n",
      "17  제주서 청바지에 오리발 낀 시신 발견돼…실종 모터보트 선장 추정 \"확인 중\"  http://v.daum.net/v/20241124142017794\n",
      "18  [ET포토] 베이비몬스터 아현, '셔츠에 청바지면 완벽'  http://v.daum.net/v/20241204153708872\n",
      "19  김태리, 흰티+청바지 입은 정년이‥시크해도 예쁘네  http://v.daum.net/v/20241106084401512\n",
      "20  미스전남 진 이하정 '청바지가 잘 어울리는 여자' [포토]  http://v.daum.net/v/20241205173202831\n",
      "21  [美대선 D-1] 청바지 입은 해리스, 미화원 조끼 걸친 트럼프…패션 필살기는  http://v.daum.net/v/20241104162858090\n",
      "22  해리스는 청바지·트럼프는 미화원 조끼…패션으로 읽는 美 대선  http://v.daum.net/v/20241105233634359\n",
      "23  트럼프의 앞치마 vs 해리스의 청바지…‘서민 소통 상징’으로 패션정치 대결 [박영실의 이미지 브랜딩]  http://v.daum.net/v/20241103060502246\n",
      "24  가죽재킷·청바지 입은 '힙한' 비올레타가 온다…'라 트라비아타'  http://v.daum.net/v/20241111092157682\n",
      "25  ‘마이큐♥’ 김나영, 애들 없이 청바지만? ‘수영복 벗고 드러난 완벽 핏’  http://v.daum.net/v/20241105104509753\n",
      "26  ‘청바지 입은 내가 주인공’···순천시 해룡면 청바지 축제 개최  http://v.daum.net/v/20241016164702070\n",
      "27  홍주연 아나 슬리퍼+청바지 출근룩에 엄지인 경악 “업무 방해 돼”(당나귀 귀)  http://v.daum.net/v/20241110175438302\n",
      "28  강지영 ‘청바지 위에 청치마, 유일무이한 청청패션으로 극장 나들이’ [틀린그림찾기]  http://v.daum.net/v/20241115055701333\n",
      "29  수영강습 갔던 화성 여대생 주검으로…'정액 묻은 청바지'가 사라졌다  http://v.daum.net/v/20241027053149482\n",
      "\n",
      "▒▒▒▒▒▒▒▒▒▒▒▒▒▒▒▒▒▒▒▒▒▒▒ 코로나 검색결과입니다\n",
      "\n",
      "0  \"올 겨울 코로나19 주 최대 20만명 수준 유행\"…의료부담 우려  http://v.daum.net/v/20241206115904321\n",
      "1  코로나19 재유행 막아라…정부, 코로나19 협력병원 재가동  http://v.daum.net/v/20241206105006159\n",
      "2  충남 공공하수처리장, 코로나19 등 바이러스 1218건 검출  http://v.daum.net/v/20241209105828421\n",
      "3  \"충남도내 6개 공공하수처리장 코로나19 검출률 22.8%\"  http://v.daum.net/v/20241209143951997\n",
      "4  \"코로나 때보다 불안\"…10월 이어 11월 실업급여 신청 '역대 최대'(종합)  http://v.daum.net/v/20241209164637261\n",
      "5  버스터미널 발길 ‘뚝’… 코로나 전 60% 수준  http://v.daum.net/v/20241208190921280\n",
      "6  충남 공공하수 감염병바이러스 검출률 35%…노로·코로나19 계속  http://v.daum.net/v/20241209100909036\n",
      "7  美 하원 보고서 \"코로나, 中 우한 실험실서 나왔을 공산 커\"  http://v.daum.net/v/20241203170452341\n",
      "8  계엄 사태 후 연말 예약 줄취소…자영업자 \"코로나 때보다 더 하네요\"  http://v.daum.net/v/20241209155206008\n",
      "9  코로나19 백신, 65세 이상 465만 명 접종  http://v.daum.net/v/20241204164024516\n",
      "10  광명시, 16일 '도심공항터미널' 재개장…코로나 사태 후 4년 만에  http://v.daum.net/v/20241209132425286\n",
      "11  계엄에 탄핵 무산 직격탄... 코스닥, 2020년 코로나 팬데믹 이후 최저 추락  http://v.daum.net/v/20241209153954499\n",
      "12  코로나19 백신, 심장마비 위험 500% 증가는 거짓  http://v.daum.net/v/20241207210343247\n",
      "13  코스닥 장중 630선 붕괴…코로나19 정국 이후 처음  http://v.daum.net/v/20241209145710689\n",
      "14  코로나 여파로 4년 넘게 중단···KTX 광명역 도심공항터미널 16일 재개통  http://v.daum.net/v/20241209153029063\n",
      "15  코로나로 문닫은 KTX광명역 도심공항터미널 16일 운영 재개  http://v.daum.net/v/20241209102428748\n",
      "16  ‘만성 코로나 증후군‘ 십대, 열 중 셋은 2년 후에도 회복 안 돼  http://v.daum.net/v/20241206100656102\n",
      "17  '오징어게임2' 황동혁 \"코로나 이후 주식, 코인 열풍, 젊은 세대의 문제 담고 싶었다\"  http://v.daum.net/v/20241209123610229\n",
      "18  코로나19 다 끝났다? 독감보다 치명적  http://v.daum.net/v/20241128120853733\n",
      "19  “연말 장사 준비 중인데”…코로나·고금리에 이어 ‘정치’까지 자영업자 덮친다  http://v.daum.net/v/20241207070017982\n",
      "20  인공위성이 우주서 인공일식 만든다…\"태양 코로나 관측\" [우주로 간다]  http://v.daum.net/v/20241204100608760\n",
      "21  코로나19 소상공인 신용보증, 매출·생존율 상승 기여했다  http://v.daum.net/v/20241204100904892\n",
      "22  \"코로나, 재감염 때 후유증 크더라\" 중국 감염자들 조사해보니  http://v.daum.net/v/20241128143004288\n",
      "23  고령층 465만명 코로나19 백신 접종…\"고위험군 매년 접종해야\"  http://v.daum.net/v/20241204104212554\n",
      "24  “코로나 19 백신, 독감만큼 접종하면 입원 환자 최대 8만 명 줄어”  http://v.daum.net/v/20241202170016542\n",
      "25  작년 출생아 기대수명 83.5세…‘코로나 여파 회복’ 증가 전환  http://v.daum.net/v/20241204120004065\n",
      "26  최선규 아나 “코로나 걸려 기절, 父 사망 전화 못 받아” (동치미)[결정적장면]  http://v.daum.net/v/20241201055750036\n",
      "27  정부, 코로나19 등 호흡기 질환 유행 대비 발열클리닉 재가동  http://v.daum.net/v/20241206102110780\n",
      "28  독감 백신은 맞아도 코로나는 \"글쎄요\" 56%가 꼽은 기피 이유  http://v.daum.net/v/20241128155249927\n",
      "29  24-25절기 코로나19 백신 접종률 46%  http://v.daum.net/v/20241205221447690\n",
      "\n",
      "▒▒▒▒▒▒▒▒▒▒▒▒▒▒▒▒▒▒▒▒▒▒▒ 닭가슴살 검색결과입니다\n",
      "\n",
      "0  닭가슴살 전문 굽네몰, '연말결산' 프로모션…최대 72% 할인  http://v.daum.net/v/20241209081510567\n",
      "1  '대장이 반찬' 김대호 \"이장우는 천재\"…깜짝 놀라게 한 닭가슴살 반찬 [TV스포]  http://v.daum.net/v/20241201150945696\n",
      "2  \"닭가슴살 '단백질' 믿고 주문했는데…\" 배신 당한 다이어터들  http://v.daum.net/v/20240926092302756\n",
      "3  허경환 \"닭가슴살 사업하다 27억 사기 당해, 친한 사람이었는데…\"  http://v.daum.net/v/20241126082811691\n",
      "4  사조대림, 촉촉한 양념 닭가슴살 ‘소스에 퐁닭’ 3종 출시  http://v.daum.net/v/20241129091231041\n",
      "5  아들조차 외면한 정지선 셰프의 닭가슴살 요리…백종원 “엄마가 정지선인데!” 경악  http://v.daum.net/v/20241108222401781\n",
      "6  허경환 ‘허닭’, 야구 선수에 닭가슴살 후원  http://v.daum.net/v/20241118104222210\n",
      "7  “체지방 빠지고 근육 늘어” 이미도, 직접 짠 식단 공개… 어떤 음식 먹나 보니?  http://v.daum.net/v/20241210002030470\n",
      "8  굽네몰, ‘2024년 연말결산 특가’ 통해 최대 72% 할인  http://v.daum.net/v/20241209090017767\n",
      "9  동원홈푸드, 저당 닭가슴살 브리또·쌈장소스 등 4종 출시  http://v.daum.net/v/20241101160017021\n",
      "10  “이번엔 닭가슴살 레시피?” 최화정, 고기쌈에 ‘이것’ 곁들인다… 뭐길래?  http://v.daum.net/v/20241015000329588\n",
      "11  국내 최초 `꼬기다` 스틱 닭가슴살, 출시 두 달 만에 200만 개 완판! 건강한 간편식 시장의 새로운 강자  http://v.daum.net/v/20241025111217129\n",
      "12  닭 가슴살에 매운 ‘이것’ 곁들이면, 다이어트 효과 상승!  http://v.daum.net/v/20241012220729064\n",
      "13  채종석 \"소방관 준비하다 서울 상경…8kg 빼고 모델 데뷔\" [엑's 인터뷰①]  http://v.daum.net/v/20241210074007319\n",
      "14  고소영, 직접 만든 '이 음식' 공개… 살 뺄 땐 먹지 말아야?  http://v.daum.net/v/20241208070329929\n",
      "15  배다해, '이 시술'로 체중 많이 늘어...\"4kg 살 빼야 한다\", 왜?  http://v.daum.net/v/20241208161854863\n",
      "16  한소희, 42kg 가녀린 몸 비결?…닭가슴살 ‘이렇게’ 먹는다  http://v.daum.net/v/20241001200057813\n",
      "17  ‘쌍둥이 인플루언서’ 김상지&김상아 “우린 가족이자 친구, 좋은 자극 받으며 함께 성장” [인터뷰]  http://v.daum.net/v/20241209111403263\n",
      "18  “다이어트 위해” 혜리, 시상식 앞두고 ‘이 음식’만 먹어… 뭔가 보니?  http://v.daum.net/v/20241209101611345\n",
      "19  소유 “살 찐 내 몸 더럽다 느껴”→화사 “약 먹고 허벅지살 빼”..걸그룹 고충[Oh!쎈 이슈]  http://v.daum.net/v/20241130151717861\n",
      "20  “‘이렇게’ 먹으면 살 빠진다” 전효성, 다이어트 식단 대공개… 뭐 먹나 보니?  http://v.daum.net/v/20241122000130881\n",
      "21  “닭도 부위별로 즐긴다” 홈플러스,닭고기 부분육 매출 최대30% 껑충  http://v.daum.net/v/20241126082933710\n",
      "22  \"닭가슴살보다 높은 단백질 함량\" 빙그레, '프로틴 치즈' 신제품 공개  http://v.daum.net/v/20241017091812646\n",
      "23  달걀, 삶은 닭고기 꾸준히 먹었더니... 뇌 신경-인지 기능에 변화가?  http://v.daum.net/v/20241119190128434\n",
      "24  \"많이 먹어서 살쪘다\"…제이제이, 속옷 입고 62㎏ 몸매 인증  http://v.daum.net/v/20241203040018342\n",
      "25  미 육류회사, 리스테리아균 발견 닭가슴살 등 무려 5천톤 리콜(종합)  http://v.daum.net/v/20241011065535513\n",
      "26  닭가슴살 들기름 메밀김밥 1위... 편의점 식재료 활용한 건강 레시피  http://v.daum.net/v/20241015085320023\n",
      "27  다시 살찐 스윙스, \"다이어트 시작\" 밝혀… 직접 공개한 식단 보니?  http://v.daum.net/v/20241120141048522\n",
      "28  “한 달에 평균 3kg 감량… 혈당만 관리해도 살은 저절로 빠져”[허진석의 톡톡 스타트업]  http://v.daum.net/v/20241207030403803\n",
      "29  닭고기 부분육 수요↑…홈플러스, '순살 닭다리살' 구이 제품 출시  http://v.daum.net/v/20241126090420693\n"
     ]
    }
   ],
   "source": [
    "import time\n",
    "keywords = ['청바지','코로나','닭가슴살']\n",
    "pages = 3\n",
    "for keyword in keywords:\n",
    "    print(f'\\n▒▒▒▒▒▒▒▒▒▒▒▒▒▒▒▒▒▒▒▒▒▒▒ {keyword} 검색결과입니다\\n')\n",
    "    for page in range(1, pages+1):\n",
    "        collect_list(keyword, page)\n",
    "        time.sleep(1)"
   ]
  },
  {
   "cell_type": "code",
   "execution_count": 31,
   "id": "4d5566f4",
   "metadata": {
    "ExecuteTime": {
     "end_time": "2024-12-10T00:35:46.969408Z",
     "start_time": "2024-12-10T00:35:46.962427Z"
    }
   },
   "outputs": [],
   "source": [
    "def collect_list_return(keyword, page):\n",
    "    'keyword로 page에 다음검색한 결과를 list로 받아 return '\n",
    "#     url = 'https://search.daum.net/search?w=news&nil_search=btn&DA=PGD&enc=utf8&cluster=y&q={}&p={}'.format(keyword, \n",
    "#                                                                                                            page)\n",
    "#     response = requests.get(url)\n",
    "    url = 'https://search.daum.net/search?w=news&nil_search=btn&DA=PGD&enc=utf8&cluster=y'\n",
    "    params = {'q':keyword, 'p':page}\n",
    "    response = requests.get(url, params=params)\n",
    "    soup = BeautifulSoup(response.text, \"html.parser\")\n",
    "    items_find_list = [] # 검색한 결과를 담을 2차원 리스트(div.item-title > strong.tit-g > a)\n",
    "    item_titles = soup.find_all('div', class_='item-title')\n",
    "\n",
    "    for idx, item in enumerate(item_titles):\n",
    "        strong = item.find('strong')\n",
    "        if strong:\n",
    "            a = strong.find('a')\n",
    "            items_find_list.append([(page-1)*10+idx, a.text, a.attrs['href']])\n",
    "#             print((page-1)*10+idx, a.text, a['href'])\n",
    "#             items_find_list.append({'no':(page-1)*10+idx, 'title':a.text, 'link':a.attrs['href']})\n",
    "    return items_find_list"
   ]
  },
  {
   "cell_type": "code",
   "execution_count": 32,
   "id": "4c6cedd5",
   "metadata": {
    "ExecuteTime": {
     "end_time": "2024-12-10T00:35:47.289521Z",
     "start_time": "2024-12-10T00:35:46.971547Z"
    }
   },
   "outputs": [
    {
     "data": {
      "text/html": [
       "<div>\n",
       "<style scoped>\n",
       "    .dataframe tbody tr th:only-of-type {\n",
       "        vertical-align: middle;\n",
       "    }\n",
       "\n",
       "    .dataframe tbody tr th {\n",
       "        vertical-align: top;\n",
       "    }\n",
       "\n",
       "    .dataframe thead th {\n",
       "        text-align: right;\n",
       "    }\n",
       "</style>\n",
       "<table border=\"1\" class=\"dataframe\">\n",
       "  <thead>\n",
       "    <tr style=\"text-align: right;\">\n",
       "      <th></th>\n",
       "      <th>no</th>\n",
       "      <th>title</th>\n",
       "      <th>link</th>\n",
       "    </tr>\n",
       "  </thead>\n",
       "  <tbody>\n",
       "    <tr>\n",
       "      <th>0</th>\n",
       "      <td>10</td>\n",
       "      <td>집에 굴러다니는 청바지 하나로 리사처럼 멋 내는 법</td>\n",
       "      <td>http://v.daum.net/v/20241127172605719</td>\n",
       "    </tr>\n",
       "    <tr>\n",
       "      <th>1</th>\n",
       "      <td>11</td>\n",
       "      <td>서주경, 원조 섹시스타? 청바지 골반에 걸치고 당돌했던 패션(퍼펙트 라이프)</td>\n",
       "      <td>http://v.daum.net/v/20241127153650717</td>\n",
       "    </tr>\n",
       "    <tr>\n",
       "      <th>2</th>\n",
       "      <td>12</td>\n",
       "      <td>크리스탈 ‘청바지에 가디건만 툭 걸쳐도 예쁨 완성’[포토엔HD]</td>\n",
       "      <td>http://v.daum.net/v/20241203100807187</td>\n",
       "    </tr>\n",
       "    <tr>\n",
       "      <th>3</th>\n",
       "      <td>13</td>\n",
       "      <td>고우리 ‘청바지가 잘 어울려’ [MK포토]</td>\n",
       "      <td>http://v.daum.net/v/20241205164814052</td>\n",
       "    </tr>\n",
       "    <tr>\n",
       "      <th>4</th>\n",
       "      <td>14</td>\n",
       "      <td>김지원, 청바지에 숏패딩만 입어도 청순‥입술 쭉 애교는 덤</td>\n",
       "      <td>http://v.daum.net/v/20241120155408078</td>\n",
       "    </tr>\n",
       "    <tr>\n",
       "      <th>5</th>\n",
       "      <td>15</td>\n",
       "      <td>‘美 언더아머’ 가방에 청바지 입은 北학생… 러시아 유튜버가 포착한 평양의 모습</td>\n",
       "      <td>http://v.daum.net/v/20241129115100297</td>\n",
       "    </tr>\n",
       "    <tr>\n",
       "      <th>6</th>\n",
       "      <td>16</td>\n",
       "      <td>대구시행복진흥원, 2024 청바지(청년이 바라는 지금 가족) 아카데미 발대식 개최</td>\n",
       "      <td>http://v.daum.net/v/20241109214942252</td>\n",
       "    </tr>\n",
       "    <tr>\n",
       "      <th>7</th>\n",
       "      <td>17</td>\n",
       "      <td>제주서 청바지에 오리발 낀 시신 발견돼…실종 모터보트 선장 추정 \"확인 중\"</td>\n",
       "      <td>http://v.daum.net/v/20241124142017794</td>\n",
       "    </tr>\n",
       "    <tr>\n",
       "      <th>8</th>\n",
       "      <td>18</td>\n",
       "      <td>[ET포토] 베이비몬스터 아현, '셔츠에 청바지면 완벽'</td>\n",
       "      <td>http://v.daum.net/v/20241204153708872</td>\n",
       "    </tr>\n",
       "    <tr>\n",
       "      <th>9</th>\n",
       "      <td>19</td>\n",
       "      <td>김태리, 흰티+청바지 입은 정년이‥시크해도 예쁘네</td>\n",
       "      <td>http://v.daum.net/v/20241106084401512</td>\n",
       "    </tr>\n",
       "  </tbody>\n",
       "</table>\n",
       "</div>"
      ],
      "text/plain": [
       "   no                                            title  \\\n",
       "0  10                    집에 굴러다니는 청바지 하나로 리사처럼 멋 내는 법    \n",
       "1  11      서주경, 원조 섹시스타? 청바지 골반에 걸치고 당돌했던 패션(퍼펙트 라이프)    \n",
       "2  12             크리스탈 ‘청바지에 가디건만 툭 걸쳐도 예쁨 완성’[포토엔HD]    \n",
       "3  13                         고우리 ‘청바지가 잘 어울려’ [MK포토]    \n",
       "4  14                김지원, 청바지에 숏패딩만 입어도 청순‥입술 쭉 애교는 덤    \n",
       "5  15    ‘美 언더아머’ 가방에 청바지 입은 北학생… 러시아 유튜버가 포착한 평양의 모습    \n",
       "6  16   대구시행복진흥원, 2024 청바지(청년이 바라는 지금 가족) 아카데미 발대식 개최    \n",
       "7  17      제주서 청바지에 오리발 낀 시신 발견돼…실종 모터보트 선장 추정 \"확인 중\"    \n",
       "8  18                 [ET포토] 베이비몬스터 아현, '셔츠에 청바지면 완벽'    \n",
       "9  19                     김태리, 흰티+청바지 입은 정년이‥시크해도 예쁘네    \n",
       "\n",
       "                                    link  \n",
       "0  http://v.daum.net/v/20241127172605719  \n",
       "1  http://v.daum.net/v/20241127153650717  \n",
       "2  http://v.daum.net/v/20241203100807187  \n",
       "3  http://v.daum.net/v/20241205164814052  \n",
       "4  http://v.daum.net/v/20241120155408078  \n",
       "5  http://v.daum.net/v/20241129115100297  \n",
       "6  http://v.daum.net/v/20241109214942252  \n",
       "7  http://v.daum.net/v/20241124142017794  \n",
       "8  http://v.daum.net/v/20241204153708872  \n",
       "9  http://v.daum.net/v/20241106084401512  "
      ]
     },
     "execution_count": 32,
     "metadata": {},
     "output_type": "execute_result"
    }
   ],
   "source": [
    "import pandas as pd\n",
    "pd.DataFrame(collect_list_return('청바지',2),\n",
    "            columns=['no','title','link'])"
   ]
  },
  {
   "cell_type": "code",
   "execution_count": 33,
   "id": "cc2655e6",
   "metadata": {
    "ExecuteTime": {
     "end_time": "2024-12-10T00:35:50.797099Z",
     "start_time": "2024-12-10T00:35:47.291489Z"
    }
   },
   "outputs": [
    {
     "name": "stdout",
     "output_type": "stream",
     "text": [
      "===================1번째 검색어 청바지 검색결과 수집 중 입니다===================\n",
      "===================2번째 검색어 코로나 검색결과 수집 중 입니다===================\n",
      "===================3번째 검색어 닭가슴살 검색결과 수집 중 입니다===================\n"
     ]
    }
   ],
   "source": [
    "keywords = ['청바지','코로나','닭가슴살']\n",
    "result0 = [] #청바지 검색결과를 담을 리스트 (1~3page)\n",
    "result1 = [] # 닭가슴살 검색결과를 담을 리스트\n",
    "result2 = [] # 닭가슴살 검색결과를 담을 리스트\n",
    "pages = 3\n",
    "for i, keyword in enumerate(keywords):\n",
    "    print(f'==================={i+1}번째 검색어 {keyword} 검색결과 수집 중 입니다===================')\n",
    "    for page in range(1, pages+1):\n",
    "        if i == 0:\n",
    "            result0.extend(collect_list_return(keyword, page))\n",
    "        elif i == 1:\n",
    "            result1.extend(collect_list_return(keyword, page))\n",
    "        elif i == 2:\n",
    "            result2.extend(collect_list_return(keyword, page))"
   ]
  },
  {
   "cell_type": "code",
   "execution_count": 34,
   "id": "34df1292",
   "metadata": {
    "ExecuteTime": {
     "end_time": "2024-12-10T00:35:50.813038Z",
     "start_time": "2024-12-10T00:35:50.799002Z"
    }
   },
   "outputs": [
    {
     "data": {
      "text/html": [
       "<div>\n",
       "<style scoped>\n",
       "    .dataframe tbody tr th:only-of-type {\n",
       "        vertical-align: middle;\n",
       "    }\n",
       "\n",
       "    .dataframe tbody tr th {\n",
       "        vertical-align: top;\n",
       "    }\n",
       "\n",
       "    .dataframe thead th {\n",
       "        text-align: right;\n",
       "    }\n",
       "</style>\n",
       "<table border=\"1\" class=\"dataframe\">\n",
       "  <thead>\n",
       "    <tr style=\"text-align: right;\">\n",
       "      <th></th>\n",
       "      <th>no</th>\n",
       "      <th>title</th>\n",
       "      <th>link</th>\n",
       "    </tr>\n",
       "  </thead>\n",
       "  <tbody>\n",
       "    <tr>\n",
       "      <th>0</th>\n",
       "      <td>0</td>\n",
       "      <td>닭가슴살 전문 굽네몰, '연말결산' 프로모션…최대 72% 할인</td>\n",
       "      <td>http://v.daum.net/v/20241209081510567</td>\n",
       "    </tr>\n",
       "    <tr>\n",
       "      <th>1</th>\n",
       "      <td>1</td>\n",
       "      <td>'대장이 반찬' 김대호 \"이장우는 천재\"…깜짝 놀라게 한 닭가슴살 반찬 [TV스포]</td>\n",
       "      <td>http://v.daum.net/v/20241201150945696</td>\n",
       "    </tr>\n",
       "    <tr>\n",
       "      <th>2</th>\n",
       "      <td>2</td>\n",
       "      <td>\"닭가슴살 '단백질' 믿고 주문했는데…\" 배신 당한 다이어터들</td>\n",
       "      <td>http://v.daum.net/v/20240926092302756</td>\n",
       "    </tr>\n",
       "    <tr>\n",
       "      <th>3</th>\n",
       "      <td>3</td>\n",
       "      <td>허경환 \"닭가슴살 사업하다 27억 사기 당해, 친한 사람이었는데…\"</td>\n",
       "      <td>http://v.daum.net/v/20241126082811691</td>\n",
       "    </tr>\n",
       "    <tr>\n",
       "      <th>4</th>\n",
       "      <td>4</td>\n",
       "      <td>사조대림, 촉촉한 양념 닭가슴살 ‘소스에 퐁닭’ 3종 출시</td>\n",
       "      <td>http://v.daum.net/v/20241129091231041</td>\n",
       "    </tr>\n",
       "  </tbody>\n",
       "</table>\n",
       "</div>"
      ],
      "text/plain": [
       "   no                                             title  \\\n",
       "0   0               닭가슴살 전문 굽네몰, '연말결산' 프로모션…최대 72% 할인    \n",
       "1   1   '대장이 반찬' 김대호 \"이장우는 천재\"…깜짝 놀라게 한 닭가슴살 반찬 [TV스포]    \n",
       "2   2               \"닭가슴살 '단백질' 믿고 주문했는데…\" 배신 당한 다이어터들    \n",
       "3   3            허경환 \"닭가슴살 사업하다 27억 사기 당해, 친한 사람이었는데…\"    \n",
       "4   4                 사조대림, 촉촉한 양념 닭가슴살 ‘소스에 퐁닭’ 3종 출시    \n",
       "\n",
       "                                    link  \n",
       "0  http://v.daum.net/v/20241209081510567  \n",
       "1  http://v.daum.net/v/20241201150945696  \n",
       "2  http://v.daum.net/v/20240926092302756  \n",
       "3  http://v.daum.net/v/20241126082811691  \n",
       "4  http://v.daum.net/v/20241129091231041  "
      ]
     },
     "execution_count": 34,
     "metadata": {},
     "output_type": "execute_result"
    }
   ],
   "source": [
    "result0_df = pd.DataFrame(result0, columns=['no','title','link'])\n",
    "result1_df = pd.DataFrame(result1, columns=['no','title','link'])\n",
    "result2_df = pd.DataFrame(result2, columns=['no','title','link'])\n",
    "result2_df.head()"
   ]
  },
  {
   "cell_type": "code",
   "execution_count": 35,
   "id": "4db20063",
   "metadata": {
    "ExecuteTime": {
     "end_time": "2024-12-10T00:35:50.859054Z",
     "start_time": "2024-12-10T00:35:50.816002Z"
    }
   },
   "outputs": [],
   "source": [
    "result0_df.to_csv('data/ch14_'+keywords[0]+'.csv', index=False)\n",
    "result1_df.to_csv('data/ch14_'+keywords[1]+'.csv', index=False)\n",
    "result2_df.to_csv('data/ch14_'+keywords[2]+'.csv', index=False)"
   ]
  },
  {
   "cell_type": "markdown",
   "id": "73c0d142",
   "metadata": {},
   "source": [
    "### 4)user-agent를 추가하여 크롤링\n",
    "- 크롤링을 막는 사이트"
   ]
  },
  {
   "cell_type": "code",
   "execution_count": 36,
   "id": "be62e4ae",
   "metadata": {
    "ExecuteTime": {
     "end_time": "2024-12-10T00:35:50.867033Z",
     "start_time": "2024-12-10T00:35:50.862046Z"
    }
   },
   "outputs": [],
   "source": [
    "# 방법1\n",
    "from urllib.request import urlopen\n",
    "from bs4 import BeautifulSoup\n",
    "url = 'https://www.melon.com/chart/'\n",
    "# melonpage = urlopen(url) 에러남"
   ]
  },
  {
   "cell_type": "code",
   "execution_count": 37,
   "id": "63432c86",
   "metadata": {
    "ExecuteTime": {
     "end_time": "2024-12-10T00:35:50.911153Z",
     "start_time": "2024-12-10T00:35:50.869105Z"
    }
   },
   "outputs": [
    {
     "data": {
      "text/plain": [
       "<Response [406]>"
      ]
     },
     "execution_count": 37,
     "metadata": {},
     "output_type": "execute_result"
    }
   ],
   "source": [
    "# 방법2\n",
    "import requests\n",
    "from bs4 import BeautifulSoup\n",
    "url = 'https://www.melon.com/chart/'\n",
    "melonpage = requests.get(url)\n",
    "melonpage\n",
    "# soup = BeautifulSoup(melonpage.text, \"html.parser\")\n",
    "# soup"
   ]
  },
  {
   "cell_type": "code",
   "execution_count": 38,
   "id": "3c7c06ab",
   "metadata": {
    "ExecuteTime": {
     "end_time": "2024-12-10T00:35:51.489205Z",
     "start_time": "2024-12-10T00:35:50.913119Z"
    }
   },
   "outputs": [
    {
     "name": "stdout",
     "output_type": "stream",
     "text": [
      "1위 | HOME SWEET HOME (feat. 태양, 대성) - G-DRAGON\n",
      "2위 | APT. - 로제 (ROSÉ), Bruno Mars\n",
      "3위 | Whiplash - aespa\n",
      "4위 | POWER - G-DRAGON\n",
      "5위 | 나는 반딧불 - 황가람\n",
      "6위 | HAPPY - DAY6 (데이식스)\n",
      "7위 | 첫 눈 - EXO\n",
      "8위 | UP (KARINA Solo) - aespa\n",
      "9위 | toxic till the end - 로제 (ROSÉ)\n",
      "10위 | 내 이름 맑음 - QWER\n",
      "11위 | 내게 사랑이 뭐냐고 물어본다면 - 로이킴\n",
      "12위 | 너와의 모든 지금 - 재쓰비 (JAESSBEE)\n",
      "13위 | Welcome to the Show - DAY6 (데이식스)\n",
      "14위 | Mantra - 제니 (JENNIE)\n",
      "15위 | 소나기 - 이클립스 (ECLIPSE)\n",
      "16위 | Supernova - aespa\n",
      "17위 | 한 페이지가 될 수 있게 - DAY6 (데이식스)\n",
      "18위 | Drowning - WOODZ\n",
      "19위 | 사랑은 늘 도망가 - 임영웅\n",
      "20위 | 어떻게 이별까지 사랑하겠어, 널 사랑하는 거지 - AKMU (악뮤)\n",
      "21위 | 천상연 - 이창섭\n",
      "22위 | number one girl - 로제 (ROSÉ)\n",
      "23위 | 슬픈 초대장 - 순순희(지환)\n",
      "24위 | Pump Up The Volume! - PLAVE\n",
      "25위 | 고민중독 - QWER\n",
      "26위 | 예뻤어 - DAY6 (데이식스)\n",
      "27위 | WAY 4 LUV - PLAVE\n",
      "28위 | Supersonic - 프로미스나인\n",
      "29위 | 우리들의 블루스 - 임영웅\n",
      "30위 | 온기 - 임영웅\n",
      "31위 | Love wins all - 아이유\n",
      "32위 | How Sweet - NewJeans\n",
      "33위 | Home - 임영웅\n",
      "34위 | Small girl (feat. 도경수(D.O.)) - 이영지\n",
      "35위 | All I Want for Christmas Is You - Mariah Carey\n",
      "36위 | 녹아내려요 - DAY6 (데이식스)\n",
      "37위 | 모래 알갱이 - 임영웅\n",
      "38위 | 첫 만남은 계획대로 되지 않아 - TWS (투어스)\n",
      "39위 | 다시 만날 수 있을까 - 임영웅\n",
      "40위 | Igloo - KISS OF LIFE\n",
      "41위 | 우리 영화 - PLAVE\n",
      "42위 | 나는 아픈 건 딱 질색이니까 - (여자)아이들\n",
      "43위 | 이제 나만 믿어요 - 임영웅\n",
      "44위 | 무지개 - 임영웅\n",
      "45위 | From - PLAVE\n",
      "46위 | Ditto - NewJeans\n",
      "47위 | 에피소드 - 이무진\n",
      "48위 | Do or Die - 임영웅\n",
      "49위 | 너의 모든 순간 - 성시경\n",
      "50위 | 그대만 있다면 (여름날 우리 X 너드커넥션 (Nerd Connection)) - 너드커넥션 (Nerd Connection)\n",
      "51위 | London Boy - 임영웅\n",
      "52위 | Polaroid - 임영웅\n",
      "53위 | 눈이 오잖아(Feat.헤이즈) - 이무진\n",
      "54위 | 무제(無題) (Untitled, 2014) - G-DRAGON\n",
      "55위 | Watch Me Woo! - PLAVE\n",
      "56위 | 청춘만화 - 이무진\n",
      "57위 | 비의 랩소디 - 임재현\n",
      "58위 | Armageddon - aespa\n",
      "59위 | 인생찬가 - 임영웅\n",
      "60위 | DRIP - BABYMONSTER\n",
      "61위 | Magnetic - 아일릿(ILLIT)\n",
      "62위 | 클락션 (Klaxon) - (여자)아이들\n",
      "63위 | Santa Tell Me - Ariana Grande\n",
      "64위 | 헤어지자 말해요 - 박재정\n",
      "65위 | 연애편지 - 임영웅\n",
      "66위 | Merry PLLIstmas - PLAVE\n",
      "67위 | 미안해 미워해 사랑해 - Crush\n",
      "68위 | Supernatural - NewJeans\n",
      "69위 | 버추얼 아이돌 - PLAVE\n",
      "70위 | 인사 - 범진\n",
      "71위 | 주저하는 연인들을 위해 - 잔나비\n",
      "72위 | Love 119 - RIIZE\n",
      "73위 | Sticky - KISS OF LIFE\n",
      "74위 | 다정히 내 이름을 부르면 - 경서예지, 전건호\n",
      "75위 | 모든 날, 모든 순간 (Every day, Every Moment) - 폴킴\n",
      "76위 | 미리 메리 크리스마스 (Feat. 천둥 Of MBLAQ) - 아이유\n",
      "77위 | 청혼하지 않을 이유를 못 찾았어 - 이무진\n",
      "78위 | 네모네모 - YENA (최예나)\n",
      "79위 | Congratulations - DAY6 (데이식스)\n",
      "80위 | 보금자리 - 임영웅\n",
      "81위 | Seven (feat. Latto) - Clean Ver. - 정국\n",
      "82위 | SPOT! (feat. JENNIE) - 지코 (ZICO)\n",
      "83위 | Letter To Myself - 태연 (TAEYEON)\n",
      "84위 | Hype Boy - NewJeans\n",
      "85위 | 해야 (HEYA) - IVE (아이브)\n",
      "86위 | I AM - IVE (아이브)\n",
      "87위 | Snowman - Sia\n",
      "88위 | Cherish (My Love) - 아일릿(ILLIT)\n",
      "89위 | To. X - 태연 (TAEYEON)\n",
      "90위 | 크리스마스니까 - 성시경, 박효신, 이석훈, 서인국, VIXX (빅스)\n",
      "91위 | 사랑인가 봐 - 멜로망스\n",
      "92위 | 사건의 지평선 - 윤하 (YOUNHA)\n",
      "93위 | Bubble Gum - NewJeans\n",
      "94위 | Boom Boom Bass - RIIZE\n",
      "95위 | 취중고백 - 김민석\n",
      "96위 | Drama - aespa\n",
      "97위 | 사막에서 꽃을 피우듯 - 우디 (Woody)\n",
      "98위 | 봄날 - 방탄소년단\n",
      "99위 | Dynamite - 방탄소년단\n",
      "100위 | LOVE, MONEY, FAME (feat. DJ Khaled) - 세븐틴 (SEVENTEEN)\n"
     ]
    }
   ],
   "source": [
    "# User-Agent를 추가\n",
    "import requests\n",
    "from bs4 import BeautifulSoup\n",
    "url = 'https://www.melon.com/chart/'\n",
    "headers = {'user-agent':'Mozilla/5.0 (Windows NT 10.0; Win64; x64) AppleWebKit/537.36 (KHTML, like Gecko) Chrome/131.0.0.0 Safari/537.36'}\n",
    "melonpage = requests.get(url, headers=headers)\n",
    "# melonpage\n",
    "soup = BeautifulSoup(melonpage.text, #melonpage.content,\n",
    "                    \"html.parser\")\n",
    "title_els = soup.select('div.ellipsis.rank01 > span')\n",
    "# divels = soup.find('div', class_='rank01')\n",
    "singer_els = soup.select('div.ellipsis.rank02 > span.checkEllipsis')\n",
    "# [s.text for s in singer_els]\n",
    "# [t.text.strip() for t in title_els]\n",
    "# 1위 : HOME SWEET HOME (feat. 태양, 대성) | 지드레곤\n",
    "# for idx in range(len(title_els)):\n",
    "#     print('{}위 | {} - {}'.format(idx+1, title_els[idx].text.strip(), singer_els[idx].text))\n",
    "for idx, (title_el, singer_el) in enumerate(zip(title_els, singer_els)):\n",
    "    print(f'{idx+1}위 | {title_el.text.strip()} - {singer_el.text}')"
   ]
  },
  {
   "cell_type": "markdown",
   "id": "e6f2d42f",
   "metadata": {},
   "source": [
    "### 5) 네이버 지식인으로 검색 (open API 사용 X)\n",
    "- 특정 keyword를 특정페이지 수만큼"
   ]
  },
  {
   "cell_type": "code",
   "execution_count": 39,
   "id": "1ede6bf3",
   "metadata": {
    "ExecuteTime": {
     "end_time": "2024-12-10T00:35:51.648275Z",
     "start_time": "2024-12-10T00:35:51.497156Z"
    }
   },
   "outputs": [
    {
     "data": {
      "text/plain": [
       "200"
      ]
     },
     "execution_count": 39,
     "metadata": {},
     "output_type": "execute_result"
    }
   ],
   "source": [
    "# 방법1\n",
    "from urllib.request import urlopen\n",
    "from urllib.parse import quote\n",
    "keyword = quote('쳇지피티')\n",
    "# 쳇지피티 => %EC%B3%87%EC%A7%80%ED%94%BC%ED%8B%B0 (url 인코딩 방식으로 전환)\n",
    "url = f'https://kin.naver.com/search/list.naver?query={keyword}'\n",
    "response = urlopen(url)\n",
    "response.status"
   ]
  },
  {
   "cell_type": "code",
   "execution_count": 40,
   "id": "f9a8ea56",
   "metadata": {
    "ExecuteTime": {
     "end_time": "2024-12-10T00:35:51.742398Z",
     "start_time": "2024-12-10T00:35:51.648689Z"
    }
   },
   "outputs": [
    {
     "data": {
      "text/plain": [
       "200"
      ]
     },
     "execution_count": 40,
     "metadata": {},
     "output_type": "execute_result"
    }
   ],
   "source": [
    "# 방법2\n",
    "import requests\n",
    "keyword = '쳇지피티'\n",
    "url = f'https://kin.naver.com/search/list.naver?query={keyword}'\n",
    "response = requests.get(url)\n",
    "response.status_code"
   ]
  },
  {
   "cell_type": "code",
   "execution_count": 41,
   "id": "d2c55047",
   "metadata": {
    "ExecuteTime": {
     "end_time": "2024-12-10T00:35:52.159597Z",
     "start_time": "2024-12-10T00:35:51.744421Z"
    }
   },
   "outputs": [
    {
     "name": "stdout",
     "output_type": "stream",
     "text": [
      "(30, 2)\n"
     ]
    },
    {
     "data": {
      "text/html": [
       "<div>\n",
       "<style scoped>\n",
       "    .dataframe tbody tr th:only-of-type {\n",
       "        vertical-align: middle;\n",
       "    }\n",
       "\n",
       "    .dataframe tbody tr th {\n",
       "        vertical-align: top;\n",
       "    }\n",
       "\n",
       "    .dataframe thead th {\n",
       "        text-align: right;\n",
       "    }\n",
       "</style>\n",
       "<table border=\"1\" class=\"dataframe\">\n",
       "  <thead>\n",
       "    <tr style=\"text-align: right;\">\n",
       "      <th></th>\n",
       "      <th>title</th>\n",
       "      <th>link</th>\n",
       "    </tr>\n",
       "  </thead>\n",
       "  <tbody>\n",
       "    <tr>\n",
       "      <th>0</th>\n",
       "      <td>쳇지피티 이거 뭐예요?해킹 뭐그런거...</td>\n",
       "      <td>https://kin.naver.com/qna/detail.naver?d1id=1&amp;...</td>\n",
       "    </tr>\n",
       "    <tr>\n",
       "      <th>1</th>\n",
       "      <td>제가 직접 쓴 자소서 쳇지피티</td>\n",
       "      <td>https://kin.naver.com/qna/detail.naver?d1id=4&amp;...</td>\n",
       "    </tr>\n",
       "    <tr>\n",
       "      <th>2</th>\n",
       "      <td>쳇지피티 수식답변 오류</td>\n",
       "      <td>https://kin.naver.com/qna/detail.naver?d1id=1&amp;...</td>\n",
       "    </tr>\n",
       "    <tr>\n",
       "      <th>3</th>\n",
       "      <td>쳇지피티 화면 이상</td>\n",
       "      <td>https://kin.naver.com/qna/detail.naver?d1id=1&amp;...</td>\n",
       "    </tr>\n",
       "    <tr>\n",
       "      <th>4</th>\n",
       "      <td>쳇지피티 뤼튼</td>\n",
       "      <td>https://kin.naver.com/qna/detail.naver?d1id=8&amp;...</td>\n",
       "    </tr>\n",
       "  </tbody>\n",
       "</table>\n",
       "</div>"
      ],
      "text/plain": [
       "                     title                                               link\n",
       "0  쳇지피티 이거 뭐예요?해킹 뭐그런거...   https://kin.naver.com/qna/detail.naver?d1id=1&...\n",
       "1         제가 직접 쓴 자소서 쳇지피티  https://kin.naver.com/qna/detail.naver?d1id=4&...\n",
       "2             쳇지피티 수식답변 오류  https://kin.naver.com/qna/detail.naver?d1id=1&...\n",
       "3               쳇지피티 화면 이상  https://kin.naver.com/qna/detail.naver?d1id=1&...\n",
       "4                  쳇지피티 뤼튼  https://kin.naver.com/qna/detail.naver?d1id=8&..."
      ]
     },
     "execution_count": 41,
     "metadata": {},
     "output_type": "execute_result"
    }
   ],
   "source": [
    "# 페이징 포함\n",
    "keyword = '쳇지피티'\n",
    "pages = 3\n",
    "items_list = [] # 크롤링한 데이터를 담을 list\n",
    "for page in range(1, pages+1):\n",
    "    url = f'https://kin.naver.com/search/list.naver?query={keyword}&page={page}'\n",
    "    response = requests.get(url)\n",
    "    soup = BeautifulSoup(response.text)\n",
    "    a_els = soup.select('li>dl>dt>a')\n",
    "    for a_el in a_els:\n",
    "        items_list.append([a_el.text,a_el['href']])\n",
    "df = pd.DataFrame(items_list, columns=['title','link'])\n",
    "print(df.shape)\n",
    "df.head()"
   ]
  },
  {
   "cell_type": "code",
   "execution_count": 42,
   "id": "ddbaa8b7",
   "metadata": {
    "ExecuteTime": {
     "end_time": "2024-12-10T00:35:52.562884Z",
     "start_time": "2024-12-10T00:35:52.162583Z"
    }
   },
   "outputs": [
    {
     "name": "stdout",
     "output_type": "stream",
     "text": [
      "(30, 2)\n"
     ]
    },
    {
     "data": {
      "text/html": [
       "<div>\n",
       "<style scoped>\n",
       "    .dataframe tbody tr th:only-of-type {\n",
       "        vertical-align: middle;\n",
       "    }\n",
       "\n",
       "    .dataframe tbody tr th {\n",
       "        vertical-align: top;\n",
       "    }\n",
       "\n",
       "    .dataframe thead th {\n",
       "        text-align: right;\n",
       "    }\n",
       "</style>\n",
       "<table border=\"1\" class=\"dataframe\">\n",
       "  <thead>\n",
       "    <tr style=\"text-align: right;\">\n",
       "      <th></th>\n",
       "      <th>title</th>\n",
       "      <th>link</th>\n",
       "    </tr>\n",
       "  </thead>\n",
       "  <tbody>\n",
       "    <tr>\n",
       "      <th>0</th>\n",
       "      <td>쳇지피티 이거 뭐예요?해킹 뭐그런거...</td>\n",
       "      <td>https://kin.naver.com/qna/detail.naver?d1id=1&amp;...</td>\n",
       "    </tr>\n",
       "    <tr>\n",
       "      <th>1</th>\n",
       "      <td>제가 직접 쓴 자소서 쳇지피티</td>\n",
       "      <td>https://kin.naver.com/qna/detail.naver?d1id=4&amp;...</td>\n",
       "    </tr>\n",
       "    <tr>\n",
       "      <th>2</th>\n",
       "      <td>쳇지피티 수식답변 오류</td>\n",
       "      <td>https://kin.naver.com/qna/detail.naver?d1id=1&amp;...</td>\n",
       "    </tr>\n",
       "    <tr>\n",
       "      <th>3</th>\n",
       "      <td>쳇지피티 화면 이상</td>\n",
       "      <td>https://kin.naver.com/qna/detail.naver?d1id=1&amp;...</td>\n",
       "    </tr>\n",
       "    <tr>\n",
       "      <th>4</th>\n",
       "      <td>쳇지피티 뤼튼</td>\n",
       "      <td>https://kin.naver.com/qna/detail.naver?d1id=8&amp;...</td>\n",
       "    </tr>\n",
       "  </tbody>\n",
       "</table>\n",
       "</div>"
      ],
      "text/plain": [
       "                     title                                               link\n",
       "0  쳇지피티 이거 뭐예요?해킹 뭐그런거...   https://kin.naver.com/qna/detail.naver?d1id=1&...\n",
       "1         제가 직접 쓴 자소서 쳇지피티  https://kin.naver.com/qna/detail.naver?d1id=4&...\n",
       "2             쳇지피티 수식답변 오류  https://kin.naver.com/qna/detail.naver?d1id=1&...\n",
       "3               쳇지피티 화면 이상  https://kin.naver.com/qna/detail.naver?d1id=1&...\n",
       "4                  쳇지피티 뤼튼  https://kin.naver.com/qna/detail.naver?d1id=8&..."
      ]
     },
     "execution_count": 42,
     "metadata": {},
     "output_type": "execute_result"
    }
   ],
   "source": [
    "# 페이징 포함\n",
    "keyword = '쳇지피티'\n",
    "pages = 3\n",
    "items_list = [] # 크롤링한 데이터를 담을 list\n",
    "for page in range(1, pages+1):\n",
    "    url = f'https://kin.naver.com/search/list.naver?query={keyword}&page={page}'\n",
    "    response = requests.get(url)\n",
    "    soup = BeautifulSoup(response.text)\n",
    "    dt_els = soup.find_all('dt')\n",
    "    for dt_el in dt_els:\n",
    "        item = dt_el.find('a')\n",
    "        items_list.append([item.text,item['href']])\n",
    "df = pd.DataFrame(items_list, columns=['title','link'])\n",
    "print(df.shape)\n",
    "df.head()"
   ]
  },
  {
   "cell_type": "markdown",
   "id": "bf5af468",
   "metadata": {},
   "source": [
    "### 6) 네이버 지식인으로 검색 (open API 사용 O)\n",
    "- 특정 keyword를 특정여러 데이터(30)만큼"
   ]
  },
  {
   "cell_type": "code",
   "execution_count": 43,
   "id": "f160b46f",
   "metadata": {
    "ExecuteTime": {
     "end_time": "2024-12-10T00:35:52.692183Z",
     "start_time": "2024-12-10T00:35:52.564846Z"
    }
   },
   "outputs": [
    {
     "name": "stdout",
     "output_type": "stream",
     "text": [
      "{\n",
      "\t\"lastBuildDate\":\"Tue, 10 Dec 2024 09:35:52 +090\n"
     ]
    }
   ],
   "source": [
    "import os\n",
    "import sys\n",
    "import urllib.request\n",
    "client_id = \"2zOOToU7fufmVxfwEi8R\"\n",
    "client_secret = \"j2bpvsf0qK\"\n",
    "encText = urllib.parse.quote(\"쳇지피티\")\n",
    "url = \"https://openapi.naver.com/v1/search/kin.json?query=\" + encText # JSON 결과\n",
    "# url = \"https://openapi.naver.com/v1/search/kin.xml?query=\" + encText # XML 결과\n",
    "request = urllib.request.Request(url)\n",
    "request.add_header(\"X-Naver-Client-Id\",client_id)\n",
    "request.add_header(\"X-Naver-Client-Secret\",client_secret)\n",
    "response = urllib.request.urlopen(request)\n",
    "rescode = response.getcode()\n",
    "if(rescode==200):\n",
    "    response_body = response.read()\n",
    "    print(response_body.decode('utf-8')[:50])\n",
    "else:\n",
    "    print(\"Error Code:\" + rescode)"
   ]
  },
  {
   "cell_type": "code",
   "execution_count": 44,
   "id": "c83f551a",
   "metadata": {
    "ExecuteTime": {
     "end_time": "2024-12-10T00:35:52.809468Z",
     "start_time": "2024-12-10T00:35:52.694179Z"
    }
   },
   "outputs": [
    {
     "name": "stdout",
     "output_type": "stream",
     "text": [
      "(30, 3)\n"
     ]
    },
    {
     "data": {
      "text/html": [
       "<div>\n",
       "<style scoped>\n",
       "    .dataframe tbody tr th:only-of-type {\n",
       "        vertical-align: middle;\n",
       "    }\n",
       "\n",
       "    .dataframe tbody tr th {\n",
       "        vertical-align: top;\n",
       "    }\n",
       "\n",
       "    .dataframe thead th {\n",
       "        text-align: right;\n",
       "    }\n",
       "</style>\n",
       "<table border=\"1\" class=\"dataframe\">\n",
       "  <thead>\n",
       "    <tr style=\"text-align: right;\">\n",
       "      <th></th>\n",
       "      <th>title</th>\n",
       "      <th>link</th>\n",
       "      <th>description</th>\n",
       "    </tr>\n",
       "  </thead>\n",
       "  <tbody>\n",
       "    <tr>\n",
       "      <th>0</th>\n",
       "      <td>쳇지피티 이거 뭐예요?해킹 뭐그런거 당하는거 아니죠?</td>\n",
       "      <td>https://kin.naver.com/qna/detail.naver?d1id=1&amp;...</td>\n",
       "      <td>아니 제가 크롬을 쓰는데 자꾸 쳇지피</td>\n",
       "    </tr>\n",
       "    <tr>\n",
       "      <th>1</th>\n",
       "      <td>제가 직접 쓴 자소서 쳇지피티</td>\n",
       "      <td>https://kin.naver.com/qna/detail.naver?d1id=4&amp;...</td>\n",
       "      <td>제가 직접 제 이야기로 자소서를 쓰고</td>\n",
       "    </tr>\n",
       "    <tr>\n",
       "      <th>2</th>\n",
       "      <td>쳇지피티 수식답변 오류</td>\n",
       "      <td>https://kin.naver.com/qna/detail.naver?d1id=1&amp;...</td>\n",
       "      <td>쳇지피티 4o사용 중인데 원래는 수식</td>\n",
       "    </tr>\n",
       "    <tr>\n",
       "      <th>3</th>\n",
       "      <td>쳇지피티 화면 이상</td>\n",
       "      <td>https://kin.naver.com/qna/detail.naver?d1id=1&amp;...</td>\n",
       "      <td>어느 날 부터 쳇지피티 화면이 아래와</td>\n",
       "    </tr>\n",
       "    <tr>\n",
       "      <th>4</th>\n",
       "      <td>쳇지피티 뤼튼</td>\n",
       "      <td>https://kin.naver.com/qna/detail.naver?d1id=8&amp;...</td>\n",
       "      <td>뤼튼이 쳇지피티 인가요? 아니면 유사</td>\n",
       "    </tr>\n",
       "  </tbody>\n",
       "</table>\n",
       "</div>"
      ],
      "text/plain": [
       "                           title  \\\n",
       "0  쳇지피티 이거 뭐예요?해킹 뭐그런거 당하는거 아니죠?   \n",
       "1               제가 직접 쓴 자소서 쳇지피티   \n",
       "2                   쳇지피티 수식답변 오류   \n",
       "3                     쳇지피티 화면 이상   \n",
       "4                        쳇지피티 뤼튼   \n",
       "\n",
       "                                                link           description  \n",
       "0  https://kin.naver.com/qna/detail.naver?d1id=1&...  아니 제가 크롬을 쓰는데 자꾸 쳇지피  \n",
       "1  https://kin.naver.com/qna/detail.naver?d1id=4&...  제가 직접 제 이야기로 자소서를 쓰고  \n",
       "2  https://kin.naver.com/qna/detail.naver?d1id=1&...  쳇지피티 4o사용 중인데 원래는 수식  \n",
       "3  https://kin.naver.com/qna/detail.naver?d1id=1&...  어느 날 부터 쳇지피티 화면이 아래와  \n",
       "4  https://kin.naver.com/qna/detail.naver?d1id=8&...  뤼튼이 쳇지피티 인가요? 아니면 유사  "
      ]
     },
     "execution_count": 44,
     "metadata": {},
     "output_type": "execute_result"
    }
   ],
   "source": [
    "import requests\n",
    "import json # response 텍스트를 json 객체로\n",
    "client_id = \"2zOOToU7fufmVxfwEi8R\"\n",
    "client_secret = \"j2bpvsf0qK\"\n",
    "query_text = '쳇지피티'\n",
    "url = f\"https://openapi.naver.com/v1/search/kin.json?query={query_text}&display=30\"\n",
    "headers = {\"X-Naver-Client-Id\":client_id,\"X-Naver-Client-Secret\":client_secret}\n",
    "items_list = []\n",
    "response = requests.get(url, headers=headers)\n",
    "# print(response.text[:500])\n",
    "items = json.loads(response.text)['items']\n",
    "len(items)\n",
    "for item in items:\n",
    "    title = item['title'].replace('<b>','').replace('</b>','')\n",
    "    link = item['link']\n",
    "    description = item['description'].replace('<b>','').replace('</b>','')[:20]\n",
    "    items_list.append([title, link, description])\n",
    "df = pd.DataFrame(items_list, columns=['title','link','description'])\n",
    "print(df.shape)\n",
    "df.head()"
   ]
  },
  {
   "cell_type": "markdown",
   "id": "cdccf838",
   "metadata": {},
   "source": [
    "### quiz) 네이버 open API를 이용해서 청바지 이미지 100건의 데이터를 img_list.csv파일로"
   ]
  },
  {
   "cell_type": "code",
   "execution_count": 45,
   "id": "c4d5c2b5",
   "metadata": {
    "ExecuteTime": {
     "end_time": "2024-12-10T00:35:52.818472Z",
     "start_time": "2024-12-10T00:35:52.811464Z"
    }
   },
   "outputs": [],
   "source": [
    "def get_img_list(query):\n",
    "    import requests\n",
    "    import json\n",
    "    client_id = \"2zOOToU7fufmVxfwEi8R\"\n",
    "    client_secret = \"j2bpvsf0qK\"\n",
    "    url = f\"https://openapi.naver.com/v1/search/image?query={query}&display=100\"\n",
    "    img_list = []\n",
    "    headers = {\"X-Naver-Client-Id\":client_id,\"X-Naver-Client-Secret\":client_secret}\n",
    "    response = requests.get(url, headers=headers)\n",
    "    items = json.loads(response.text)['items']\n",
    "    items\n",
    "    for idx, item in enumerate(items):\n",
    "        title = item['title']\n",
    "        link = item['link']\n",
    "        thumbnail = item['thumbnail']\n",
    "        height = item['sizeheight']\n",
    "        width = item['sizewidth']\n",
    "        img_list.append({'제목':title,'링크':link,'썸네일':thumbnail,'높이':height,'폭':width})\n",
    "        #link 파일(http://~~~~~.jpg)을 2.jpg 저장\n",
    "        if idx%10==0:\n",
    "            print(f'▒▒▒▒▒▒▒▒▒{idx}%완료▒▒▒▒▒▒▒▒▒')\n",
    "    return img_list"
   ]
  },
  {
   "cell_type": "code",
   "execution_count": 46,
   "id": "6bdd2253",
   "metadata": {
    "ExecuteTime": {
     "end_time": "2024-12-10T00:35:53.119904Z",
     "start_time": "2024-12-10T00:35:52.820448Z"
    }
   },
   "outputs": [
    {
     "name": "stdout",
     "output_type": "stream",
     "text": [
      "▒▒▒▒▒▒▒▒▒0%완료▒▒▒▒▒▒▒▒▒\n",
      "▒▒▒▒▒▒▒▒▒10%완료▒▒▒▒▒▒▒▒▒\n",
      "▒▒▒▒▒▒▒▒▒20%완료▒▒▒▒▒▒▒▒▒\n",
      "▒▒▒▒▒▒▒▒▒30%완료▒▒▒▒▒▒▒▒▒\n",
      "▒▒▒▒▒▒▒▒▒40%완료▒▒▒▒▒▒▒▒▒\n",
      "▒▒▒▒▒▒▒▒▒50%완료▒▒▒▒▒▒▒▒▒\n",
      "▒▒▒▒▒▒▒▒▒60%완료▒▒▒▒▒▒▒▒▒\n",
      "▒▒▒▒▒▒▒▒▒70%완료▒▒▒▒▒▒▒▒▒\n",
      "▒▒▒▒▒▒▒▒▒80%완료▒▒▒▒▒▒▒▒▒\n",
      "▒▒▒▒▒▒▒▒▒90%완료▒▒▒▒▒▒▒▒▒\n"
     ]
    },
    {
     "data": {
      "text/html": [
       "<div>\n",
       "<style scoped>\n",
       "    .dataframe tbody tr th:only-of-type {\n",
       "        vertical-align: middle;\n",
       "    }\n",
       "\n",
       "    .dataframe tbody tr th {\n",
       "        vertical-align: top;\n",
       "    }\n",
       "\n",
       "    .dataframe thead th {\n",
       "        text-align: right;\n",
       "    }\n",
       "</style>\n",
       "<table border=\"1\" class=\"dataframe\">\n",
       "  <thead>\n",
       "    <tr style=\"text-align: right;\">\n",
       "      <th></th>\n",
       "      <th>제목</th>\n",
       "      <th>링크</th>\n",
       "      <th>썸네일</th>\n",
       "      <th>높이</th>\n",
       "      <th>폭</th>\n",
       "    </tr>\n",
       "  </thead>\n",
       "  <tbody>\n",
       "    <tr>\n",
       "      <th>0</th>\n",
       "      <td>예스라인 프런트 포켓 스판 청바지 남자청바지 일자청바지 작업복 바지 남자청바지</td>\n",
       "      <td>http://shopping.phinf.naver.net/main_5009862/5...</td>\n",
       "      <td>https://search.pstatic.net/common/?type=b150&amp;s...</td>\n",
       "      <td>1000</td>\n",
       "      <td>1000</td>\n",
       "    </tr>\n",
       "    <tr>\n",
       "      <th>1</th>\n",
       "      <td>남성 밴딩 블루 워싱데님팬츠 청바지 레귤러 (8010) : 원 무드</td>\n",
       "      <td>http://shop1.phinf.naver.net/20220516_44/16526...</td>\n",
       "      <td>https://search.pstatic.net/common/?type=b150&amp;s...</td>\n",
       "      <td>1000</td>\n",
       "      <td>1000</td>\n",
       "    </tr>\n",
       "    <tr>\n",
       "      <th>2</th>\n",
       "      <td>아저씨청바지 50대 중년 남성 청바지 얇은 일자 K16</td>\n",
       "      <td>http://shopping.phinf.naver.net/main_4973253/4...</td>\n",
       "      <td>https://search.pstatic.net/common/?type=b150&amp;s...</td>\n",
       "      <td>300</td>\n",
       "      <td>300</td>\n",
       "    </tr>\n",
       "    <tr>\n",
       "      <th>3</th>\n",
       "      <td>데님 청바지 딜링미 워싱 포인트 베이직</td>\n",
       "      <td>http://shopping.phinf.naver.net/main_4603799/4...</td>\n",
       "      <td>https://search.pstatic.net/common/?type=b150&amp;s...</td>\n",
       "      <td>1200</td>\n",
       "      <td>1200</td>\n",
       "    </tr>\n",
       "    <tr>\n",
       "      <th>4</th>\n",
       "      <td>남성기모청바지 남자세미와이드청바지 밴딩 데님청바지 : 우모르</td>\n",
       "      <td>http://shop1.phinf.naver.net/20241115_109/1731...</td>\n",
       "      <td>https://search.pstatic.net/common/?type=b150&amp;s...</td>\n",
       "      <td>1000</td>\n",
       "      <td>1000</td>\n",
       "    </tr>\n",
       "  </tbody>\n",
       "</table>\n",
       "</div>"
      ],
      "text/plain": [
       "                                            제목  \\\n",
       "0  예스라인 프런트 포켓 스판 청바지 남자청바지 일자청바지 작업복 바지 남자청바지   \n",
       "1        남성 밴딩 블루 워싱데님팬츠 청바지 레귤러 (8010) : 원 무드   \n",
       "2               아저씨청바지 50대 중년 남성 청바지 얇은 일자 K16   \n",
       "3                        데님 청바지 딜링미 워싱 포인트 베이직   \n",
       "4            남성기모청바지 남자세미와이드청바지 밴딩 데님청바지 : 우모르   \n",
       "\n",
       "                                                  링크  \\\n",
       "0  http://shopping.phinf.naver.net/main_5009862/5...   \n",
       "1  http://shop1.phinf.naver.net/20220516_44/16526...   \n",
       "2  http://shopping.phinf.naver.net/main_4973253/4...   \n",
       "3  http://shopping.phinf.naver.net/main_4603799/4...   \n",
       "4  http://shop1.phinf.naver.net/20241115_109/1731...   \n",
       "\n",
       "                                                 썸네일    높이     폭  \n",
       "0  https://search.pstatic.net/common/?type=b150&s...  1000  1000  \n",
       "1  https://search.pstatic.net/common/?type=b150&s...  1000  1000  \n",
       "2  https://search.pstatic.net/common/?type=b150&s...   300   300  \n",
       "3  https://search.pstatic.net/common/?type=b150&s...  1200  1200  \n",
       "4  https://search.pstatic.net/common/?type=b150&s...  1000  1000  "
      ]
     },
     "execution_count": 46,
     "metadata": {},
     "output_type": "execute_result"
    }
   ],
   "source": [
    "import pandas as pd\n",
    "img_list = get_img_list('청바지')\n",
    "df = pd.DataFrame(img_list)\n",
    "df.head()"
   ]
  },
  {
   "cell_type": "code",
   "execution_count": 47,
   "id": "1d7271fc",
   "metadata": {
    "ExecuteTime": {
     "end_time": "2024-12-10T00:35:53.127079Z",
     "start_time": "2024-12-10T00:35:53.121961Z"
    }
   },
   "outputs": [
    {
     "name": "stdout",
     "output_type": "stream",
     "text": [
      "http://shopping.phinf.naver.net/main_5009862/50098626189.20240901193238.jpg\n"
     ]
    }
   ],
   "source": [
    "print(df.loc[0,'링크'])"
   ]
  },
  {
   "cell_type": "code",
   "execution_count": 48,
   "id": "1b0b4eb7",
   "metadata": {
    "ExecuteTime": {
     "end_time": "2024-12-10T00:35:53.137048Z",
     "start_time": "2024-12-10T00:35:53.129070Z"
    }
   },
   "outputs": [],
   "source": [
    "def save_img(i, url):\n",
    "    file_extension = url.split('.')[-1]\n",
    "    quote_index = file_extension.find('?')\n",
    "    if quote_index != -1:\n",
    "        file_extension = file_extension[:quote_index]\n",
    "    img = requests.get(url).content\n",
    "    open('data/image/'+str(i+1)+'.'+file_extension, 'wb').write(img)"
   ]
  },
  {
   "cell_type": "code",
   "execution_count": 49,
   "id": "d044c5af",
   "metadata": {
    "ExecuteTime": {
     "end_time": "2024-12-10T00:35:53.192977Z",
     "start_time": "2024-12-10T00:35:53.139043Z"
    }
   },
   "outputs": [],
   "source": [
    "save_img(0, df.loc[0,'링크'])"
   ]
  },
  {
   "cell_type": "code",
   "execution_count": 50,
   "id": "609bf5f7",
   "metadata": {
    "ExecuteTime": {
     "end_time": "2024-12-10T00:35:53.205636Z",
     "start_time": "2024-12-10T00:35:53.194947Z"
    }
   },
   "outputs": [],
   "source": [
    "def get_img_list_save_img(query):\n",
    "    import requests\n",
    "    import pandas as pd\n",
    "    import json\n",
    "    client_id = \"2zOOToU7fufmVxfwEi8R\"\n",
    "    client_secret = \"j2bpvsf0qK\"\n",
    "    url = f\"https://openapi.naver.com/v1/search/image?query={query}&display=100\"\n",
    "    img_list = []\n",
    "    headers = {\"X-Naver-Client-Id\":client_id,\"X-Naver-Client-Secret\":client_secret}\n",
    "    response = requests.get(url, headers=headers)\n",
    "    items = json.loads(response.text)['items']\n",
    "    items\n",
    "    for idx, item in enumerate(items):\n",
    "        title = item['title']\n",
    "        link = item['link']\n",
    "        thumbnail = item['thumbnail']\n",
    "        height = item['sizeheight']\n",
    "        width = item['sizewidth']\n",
    "        img_list.append({'제목':title,'링크':link,'썸네일':thumbnail,'높이':height,'폭':width})\n",
    "        #link 파일(http://~~~~~.jpg)을 2.jpg 저장\n",
    "        save_img(idx,link)\n",
    "        save_img(idx+1000, thumbnail)\n",
    "        if idx%10 == 0:\n",
    "            print(f'▒▒▒▒{idx}%완료▒▒▒▒')\n",
    "    result = pd.DataFrame(img_list)\n",
    "    result.to_csv('data/image/img_list.csv')\n",
    "    print('▒▒▒▒ 이미지 및 csv파일 저장완료 ▒▒▒▒')\n",
    "    return result"
   ]
  },
  {
   "cell_type": "code",
   "execution_count": 51,
   "id": "de24774f",
   "metadata": {
    "ExecuteTime": {
     "end_time": "2024-12-10T00:36:11.880279Z",
     "start_time": "2024-12-10T00:35:53.209625Z"
    }
   },
   "outputs": [
    {
     "name": "stdout",
     "output_type": "stream",
     "text": [
      "▒▒▒▒0%완료▒▒▒▒\n",
      "▒▒▒▒10%완료▒▒▒▒\n",
      "▒▒▒▒20%완료▒▒▒▒\n",
      "▒▒▒▒30%완료▒▒▒▒\n",
      "▒▒▒▒40%완료▒▒▒▒\n",
      "▒▒▒▒50%완료▒▒▒▒\n",
      "▒▒▒▒60%완료▒▒▒▒\n",
      "▒▒▒▒70%완료▒▒▒▒\n",
      "▒▒▒▒80%완료▒▒▒▒\n",
      "▒▒▒▒90%완료▒▒▒▒\n",
      "▒▒▒▒ 이미지 및 csv파일 저장완료 ▒▒▒▒\n"
     ]
    },
    {
     "data": {
      "text/html": [
       "<div>\n",
       "<style scoped>\n",
       "    .dataframe tbody tr th:only-of-type {\n",
       "        vertical-align: middle;\n",
       "    }\n",
       "\n",
       "    .dataframe tbody tr th {\n",
       "        vertical-align: top;\n",
       "    }\n",
       "\n",
       "    .dataframe thead th {\n",
       "        text-align: right;\n",
       "    }\n",
       "</style>\n",
       "<table border=\"1\" class=\"dataframe\">\n",
       "  <thead>\n",
       "    <tr style=\"text-align: right;\">\n",
       "      <th></th>\n",
       "      <th>제목</th>\n",
       "      <th>링크</th>\n",
       "      <th>썸네일</th>\n",
       "      <th>높이</th>\n",
       "      <th>폭</th>\n",
       "    </tr>\n",
       "  </thead>\n",
       "  <tbody>\n",
       "    <tr>\n",
       "      <th>0</th>\n",
       "      <td>예스라인 프런트 포켓 스판 청바지 남자청바지 일자청바지 작업복 바지 남자청바지</td>\n",
       "      <td>http://shopping.phinf.naver.net/main_5009862/5...</td>\n",
       "      <td>https://search.pstatic.net/common/?type=b150&amp;s...</td>\n",
       "      <td>1000</td>\n",
       "      <td>1000</td>\n",
       "    </tr>\n",
       "    <tr>\n",
       "      <th>1</th>\n",
       "      <td>남성 밴딩 블루 워싱데님팬츠 청바지 레귤러 (8010) : 원 무드</td>\n",
       "      <td>http://shop1.phinf.naver.net/20220516_44/16526...</td>\n",
       "      <td>https://search.pstatic.net/common/?type=b150&amp;s...</td>\n",
       "      <td>1000</td>\n",
       "      <td>1000</td>\n",
       "    </tr>\n",
       "    <tr>\n",
       "      <th>2</th>\n",
       "      <td>아저씨청바지 50대 중년 남성 청바지 얇은 일자 K16</td>\n",
       "      <td>http://shopping.phinf.naver.net/main_4973253/4...</td>\n",
       "      <td>https://search.pstatic.net/common/?type=b150&amp;s...</td>\n",
       "      <td>300</td>\n",
       "      <td>300</td>\n",
       "    </tr>\n",
       "    <tr>\n",
       "      <th>3</th>\n",
       "      <td>데님 청바지 딜링미 워싱 포인트 베이직</td>\n",
       "      <td>http://shopping.phinf.naver.net/main_4603799/4...</td>\n",
       "      <td>https://search.pstatic.net/common/?type=b150&amp;s...</td>\n",
       "      <td>1200</td>\n",
       "      <td>1200</td>\n",
       "    </tr>\n",
       "    <tr>\n",
       "      <th>4</th>\n",
       "      <td>남성기모청바지 남자세미와이드청바지 밴딩 데님청바지 : 우모르</td>\n",
       "      <td>http://shop1.phinf.naver.net/20241115_109/1731...</td>\n",
       "      <td>https://search.pstatic.net/common/?type=b150&amp;s...</td>\n",
       "      <td>1000</td>\n",
       "      <td>1000</td>\n",
       "    </tr>\n",
       "    <tr>\n",
       "      <th>...</th>\n",
       "      <td>...</td>\n",
       "      <td>...</td>\n",
       "      <td>...</td>\n",
       "      <td>...</td>\n",
       "      <td>...</td>\n",
       "    </tr>\n",
       "    <tr>\n",
       "      <th>95</th>\n",
       "      <td>남자 일자핏 청바지 남성 일자 배기 데님팬츠 캐주얼 와이드핏 젠5 : 스마콕</td>\n",
       "      <td>https://shop-phinf.pstatic.net/20240415_107/17...</td>\n",
       "      <td>https://search.pstatic.net/common/?type=b150&amp;s...</td>\n",
       "      <td>500</td>\n",
       "      <td>500</td>\n",
       "    </tr>\n",
       "    <tr>\n",
       "      <th>96</th>\n",
       "      <td>(S-XL)레직기 와이드 부츠컷 데님 팬츠 청바지 Y2K YKK 하이웨스트 난스판 ...</td>\n",
       "      <td>http://shop1.phinf.naver.net/20240828_13/17248...</td>\n",
       "      <td>https://search.pstatic.net/common/?type=b150&amp;s...</td>\n",
       "      <td>1000</td>\n",
       "      <td>1000</td>\n",
       "    </tr>\n",
       "    <tr>\n",
       "      <th>97</th>\n",
       "      <td>기본템 남자 기모 청바지 여유있는 스타일리시한 실용적인 인기 있는 : 패치워크1</td>\n",
       "      <td>https://shop-phinf.pstatic.net/20240706_190/17...</td>\n",
       "      <td>https://search.pstatic.net/common/?type=b150&amp;s...</td>\n",
       "      <td>1000</td>\n",
       "      <td>750</td>\n",
       "    </tr>\n",
       "    <tr>\n",
       "      <th>98</th>\n",
       "      <td>유니크한 남성 주머니 청바지 기본템 데일리룩 실용성 빈티지한 : 호사해피</td>\n",
       "      <td>http://shop1.phinf.naver.net/20240615_82/17184...</td>\n",
       "      <td>https://search.pstatic.net/common/?type=b150&amp;s...</td>\n",
       "      <td>800</td>\n",
       "      <td>800</td>\n",
       "    </tr>\n",
       "    <tr>\n",
       "      <th>99</th>\n",
       "      <td>아이언하트 남성 남친 데님바지 일자핏 추동 청바지 일자 스판 비즈니스 KKE4 : ...</td>\n",
       "      <td>https://shop-phinf.pstatic.net/20241106_286/17...</td>\n",
       "      <td>https://search.pstatic.net/common/?type=b150&amp;s...</td>\n",
       "      <td>1000</td>\n",
       "      <td>1000</td>\n",
       "    </tr>\n",
       "  </tbody>\n",
       "</table>\n",
       "<p>100 rows × 5 columns</p>\n",
       "</div>"
      ],
      "text/plain": [
       "                                                   제목  \\\n",
       "0         예스라인 프런트 포켓 스판 청바지 남자청바지 일자청바지 작업복 바지 남자청바지   \n",
       "1               남성 밴딩 블루 워싱데님팬츠 청바지 레귤러 (8010) : 원 무드   \n",
       "2                      아저씨청바지 50대 중년 남성 청바지 얇은 일자 K16   \n",
       "3                               데님 청바지 딜링미 워싱 포인트 베이직   \n",
       "4                   남성기모청바지 남자세미와이드청바지 밴딩 데님청바지 : 우모르   \n",
       "..                                                ...   \n",
       "95         남자 일자핏 청바지 남성 일자 배기 데님팬츠 캐주얼 와이드핏 젠5 : 스마콕   \n",
       "96  (S-XL)레직기 와이드 부츠컷 데님 팬츠 청바지 Y2K YKK 하이웨스트 난스판 ...   \n",
       "97       기본템 남자 기모 청바지 여유있는 스타일리시한 실용적인 인기 있는 : 패치워크1   \n",
       "98           유니크한 남성 주머니 청바지 기본템 데일리룩 실용성 빈티지한 : 호사해피   \n",
       "99  아이언하트 남성 남친 데님바지 일자핏 추동 청바지 일자 스판 비즈니스 KKE4 : ...   \n",
       "\n",
       "                                                   링크  \\\n",
       "0   http://shopping.phinf.naver.net/main_5009862/5...   \n",
       "1   http://shop1.phinf.naver.net/20220516_44/16526...   \n",
       "2   http://shopping.phinf.naver.net/main_4973253/4...   \n",
       "3   http://shopping.phinf.naver.net/main_4603799/4...   \n",
       "4   http://shop1.phinf.naver.net/20241115_109/1731...   \n",
       "..                                                ...   \n",
       "95  https://shop-phinf.pstatic.net/20240415_107/17...   \n",
       "96  http://shop1.phinf.naver.net/20240828_13/17248...   \n",
       "97  https://shop-phinf.pstatic.net/20240706_190/17...   \n",
       "98  http://shop1.phinf.naver.net/20240615_82/17184...   \n",
       "99  https://shop-phinf.pstatic.net/20241106_286/17...   \n",
       "\n",
       "                                                  썸네일    높이     폭  \n",
       "0   https://search.pstatic.net/common/?type=b150&s...  1000  1000  \n",
       "1   https://search.pstatic.net/common/?type=b150&s...  1000  1000  \n",
       "2   https://search.pstatic.net/common/?type=b150&s...   300   300  \n",
       "3   https://search.pstatic.net/common/?type=b150&s...  1200  1200  \n",
       "4   https://search.pstatic.net/common/?type=b150&s...  1000  1000  \n",
       "..                                                ...   ...   ...  \n",
       "95  https://search.pstatic.net/common/?type=b150&s...   500   500  \n",
       "96  https://search.pstatic.net/common/?type=b150&s...  1000  1000  \n",
       "97  https://search.pstatic.net/common/?type=b150&s...  1000   750  \n",
       "98  https://search.pstatic.net/common/?type=b150&s...   800   800  \n",
       "99  https://search.pstatic.net/common/?type=b150&s...  1000  1000  \n",
       "\n",
       "[100 rows x 5 columns]"
      ]
     },
     "execution_count": 51,
     "metadata": {},
     "output_type": "execute_result"
    }
   ],
   "source": [
    "get_img_list_save_img('청바지')"
   ]
  },
  {
   "cell_type": "code",
   "execution_count": 52,
   "id": "694c99c3",
   "metadata": {
    "ExecuteTime": {
     "end_time": "2024-12-10T00:36:11.887264Z",
     "start_time": "2024-12-10T00:36:11.882266Z"
    }
   },
   "outputs": [
    {
     "data": {
      "text/plain": [
       "'https://shop-phinf.pstatic.net/20240704_199/1720033088259j2WpL_JPEG/30195936086331030_209015073.jpg'"
      ]
     },
     "execution_count": 52,
     "metadata": {},
     "output_type": "execute_result"
    }
   ],
   "source": [
    "df.loc[21, '링크']"
   ]
  },
  {
   "cell_type": "markdown",
   "id": "b0766477",
   "metadata": {},
   "source": [
    "## 2.3 정규표현식을 활용한 데이터 수집\n",
    "- RSS에서 search(해당 패턴 처음 내용중 일부), findall(해당 패턴 다 찾기)"
   ]
  },
  {
   "cell_type": "code",
   "execution_count": 53,
   "id": "ed70dc9a",
   "metadata": {
    "ExecuteTime": {
     "end_time": "2024-12-10T00:36:11.894241Z",
     "start_time": "2024-12-10T00:36:11.889227Z"
    }
   },
   "outputs": [],
   "source": [
    "import re\n",
    "parsing_str = \"\"\"010-9999-9999  02-888-1234 \n",
    "02-777-1212 <city>서울</city> <city>\n",
    "용인</city>\n",
    "<province>서울,인천,경기</province>\n",
    "981212-1052009\n",
    "\"\"\""
   ]
  },
  {
   "cell_type": "code",
   "execution_count": 54,
   "id": "b666f6c0",
   "metadata": {
    "ExecuteTime": {
     "end_time": "2024-12-10T00:36:11.902192Z",
     "start_time": "2024-12-10T00:36:11.896208Z"
    }
   },
   "outputs": [
    {
     "data": {
      "text/plain": [
       "['010-9999-9999', '02-888-1234', '02-777-1212']"
      ]
     },
     "execution_count": 54,
     "metadata": {},
     "output_type": "execute_result"
    }
   ],
   "source": [
    "phone = re.findall(r'\\d{2,3}-\\d{3,4}-\\d{4}', parsing_str)\n",
    "phone"
   ]
  },
  {
   "cell_type": "code",
   "execution_count": 55,
   "id": "26c160d4",
   "metadata": {
    "ExecuteTime": {
     "end_time": "2024-12-10T00:36:11.911169Z",
     "start_time": "2024-12-10T00:36:11.904187Z"
    }
   },
   "outputs": [
    {
     "data": {
      "text/plain": [
       "['<city>서울</city>', '<city>\\n용인</city>']"
      ]
     },
     "execution_count": 55,
     "metadata": {},
     "output_type": "execute_result"
    }
   ],
   "source": [
    "city = re.findall(r'<city>.+?</city>', parsing_str, re.DOTALL)\n",
    "city"
   ]
  },
  {
   "cell_type": "code",
   "execution_count": 56,
   "id": "0c00598b",
   "metadata": {
    "ExecuteTime": {
     "end_time": "2024-12-10T00:36:11.918150Z",
     "start_time": "2024-12-10T00:36:11.913164Z"
    }
   },
   "outputs": [],
   "source": [
    "parsing_str = \"\"\"010-9999-9999  02-888-1234 \n",
    "02-777-1212 <city>서울</city> <city>\n",
    "용인</city>\n",
    "<province>서울,인천,경기</province>\n",
    "981212-1052009\n",
    "\"\"\""
   ]
  },
  {
   "cell_type": "code",
   "execution_count": 57,
   "id": "85b06aa6",
   "metadata": {
    "ExecuteTime": {
     "end_time": "2024-12-10T00:36:11.926801Z",
     "start_time": "2024-12-10T00:36:11.920367Z"
    }
   },
   "outputs": [
    {
     "data": {
      "text/plain": [
       "<re.Match object; span=(0, 13), match='010-9999-9999'>"
      ]
     },
     "execution_count": 57,
     "metadata": {},
     "output_type": "execute_result"
    }
   ],
   "source": [
    "phone = re.search(r'\\d{2,3}-\\d{3,4}-\\d{4}', parsing_str) # 해당 정규표현식의 첫번째\n",
    "phone"
   ]
  },
  {
   "cell_type": "code",
   "execution_count": 58,
   "id": "5b011094",
   "metadata": {
    "ExecuteTime": {
     "end_time": "2024-12-10T00:36:11.935806Z",
     "start_time": "2024-12-10T00:36:11.928797Z"
    }
   },
   "outputs": [
    {
     "data": {
      "text/plain": [
       "'010-9999-9999'"
      ]
     },
     "execution_count": 58,
     "metadata": {},
     "output_type": "execute_result"
    }
   ],
   "source": [
    "phone.group(0)"
   ]
  },
  {
   "cell_type": "code",
   "execution_count": 59,
   "id": "464708de",
   "metadata": {
    "ExecuteTime": {
     "end_time": "2024-12-10T00:36:11.944778Z",
     "start_time": "2024-12-10T00:36:11.937785Z"
    }
   },
   "outputs": [
    {
     "name": "stdout",
     "output_type": "stream",
     "text": [
      "정규표현식 내용 전체 :  <province>서울,인천,경기</province>\n",
      "정규표현식 내 괄호 안 추출 : 서울,인천,경기\n"
     ]
    }
   ],
   "source": [
    "province = re.search(r'<province>(.+)</province>', parsing_str)\n",
    "print('정규표현식 내용 전체 : ',province.group(0))\n",
    "print('정규표현식 내 괄호 안 추출 :', province.group(1))"
   ]
  },
  {
   "cell_type": "code",
   "execution_count": 60,
   "id": "59438416",
   "metadata": {
    "ExecuteTime": {
     "end_time": "2024-12-10T00:36:11.951765Z",
     "start_time": "2024-12-10T00:36:11.946749Z"
    }
   },
   "outputs": [
    {
     "name": "stdout",
     "output_type": "stream",
     "text": [
      "981212-1052009\n",
      "981212\n",
      "1052009\n"
     ]
    }
   ],
   "source": [
    "juminno = re.search(r'(\\d{6})-(\\d{7})', parsing_str)\n",
    "print(juminno.group(0))\n",
    "print(juminno.group(1))\n",
    "print(juminno.group(2))"
   ]
  },
  {
   "cell_type": "code",
   "execution_count": 61,
   "id": "ff64b0f7",
   "metadata": {
    "ExecuteTime": {
     "end_time": "2024-12-10T00:36:11.961708Z",
     "start_time": "2024-12-10T00:36:11.953730Z"
    }
   },
   "outputs": [
    {
     "name": "stdout",
     "output_type": "stream",
     "text": [
      "이 영화는 좋아요  이 영화 추천합니다  강추  진짜 강추  진심입니다 \n"
     ]
    }
   ],
   "source": [
    "# 특정 한두가지 문자 빼기 => replace('뺄문자', '')\n",
    "# 특수문자들 빼기 => findall\n",
    "text = \"이 영화는 좋아요 ★ 이 영화 추천합니다 ^ 강추 * 진짜 강추 $ 진심입니다 ~\"\n",
    "temp = re.findall(r'[가-힣a-zA-Z0-9 ]', text)\n",
    "print(''.join(temp))"
   ]
  },
  {
   "cell_type": "markdown",
   "id": "5b15b27f",
   "metadata": {},
   "source": [
    "### 1) 전국 날씨 RSS를 정규표현식 이용해서 가져오기"
   ]
  },
  {
   "cell_type": "code",
   "execution_count": 112,
   "id": "0f5075c8",
   "metadata": {
    "ExecuteTime": {
     "end_time": "2024-12-10T01:42:10.029257Z",
     "start_time": "2024-12-10T01:42:09.948206Z"
    },
    "collapsed": true
   },
   "outputs": [
    {
     "name": "stdout",
     "output_type": "stream",
     "text": [
      "서울ㆍ인천ㆍ경기도 지역의  서울 도시입니다\n",
      "\t날짜:2024-12-14 오전, 날씨:맑음, 기온:-5~2도, 강수확률:10%\n",
      "\t날짜:2024-12-14 오후, 날씨:맑음, 기온:-5~2도, 강수확률:10%\n",
      "\t날짜:2024-12-15 오전, 날씨:맑음, 기온:-4~3도, 강수확률:10%\n",
      "\t날짜:2024-12-15 오후, 날씨:맑음, 기온:-4~3도, 강수확률:10%\n",
      "\t날짜:2024-12-16 오전, 날씨:맑음, 기온:-4~3도, 강수확률:10%\n",
      "\t날짜:2024-12-16 오후, 날씨:맑음, 기온:-4~3도, 강수확률:10%\n",
      "\t날짜:2024-12-17 오전, 날씨:맑음, 기온:-3~4도, 강수확률:10%\n",
      "\t날짜:2024-12-17 오후, 날씨:맑음, 기온:-3~4도, 강수확률:10%\n",
      "\t날짜:2024-12-18 오전, 날씨:맑음, 기온:-3~4도, 강수확률:10%\n",
      "\t날짜:2024-12-19 오전, 날씨:구름많음, 기온:-3~4도, 강수확률:30%\n",
      "\t날짜:2024-12-20 오전, 날씨:흐림, 기온:-2~5도, 강수확률:40%\n",
      "서울ㆍ인천ㆍ경기도 지역의  인천 도시입니다\n",
      "\t날짜:2024-12-14 오전, 날씨:맑음, 기온:-4~2도, 강수확률:10%\n",
      "\t날짜:2024-12-14 오후, 날씨:맑음, 기온:-4~2도, 강수확률:10%\n",
      "\t날짜:2024-12-15 오전, 날씨:맑음, 기온:-3~4도, 강수확률:10%\n",
      "\t날짜:2024-12-15 오후, 날씨:맑음, 기온:-3~4도, 강수확률:10%\n",
      "\t날짜:2024-12-16 오전, 날씨:맑음, 기온:-3~3도, 강수확률:10%\n",
      "\t날짜:2024-12-16 오후, 날씨:맑음, 기온:-3~3도, 강수확률:10%\n",
      "\t날짜:2024-12-17 오전, 날씨:맑음, 기온:-2~4도, 강수확률:10%\n",
      "\t날짜:2024-12-17 오후, 날씨:맑음, 기온:-2~4도, 강수확률:10%\n",
      "\t날짜:2024-12-18 오전, 날씨:맑음, 기온:-2~3도, 강수확률:10%\n",
      "\t날짜:2024-12-19 오전, 날씨:구름많음, 기온:-2~3도, 강수확률:30%\n",
      "\t날짜:2024-12-20 오전, 날씨:흐림, 기온:-1~4도, 강수확률:40%\n",
      "서울ㆍ인천ㆍ경기도 지역의  수원 도시입니다\n",
      "\t날짜:2024-12-14 오전, 날씨:맑음, 기온:-6~3도, 강수확률:10%\n",
      "\t날짜:2024-12-14 오후, 날씨:맑음, 기온:-6~3도, 강수확률:10%\n",
      "\t날짜:2024-12-15 오전, 날씨:맑음, 기온:-4~4도, 강수확률:10%\n",
      "\t날짜:2024-12-15 오후, 날씨:맑음, 기온:-4~4도, 강수확률:10%\n",
      "\t날짜:2024-12-16 오전, 날씨:맑음, 기온:-4~4도, 강수확률:10%\n",
      "\t날짜:2024-12-16 오후, 날씨:맑음, 기온:-4~4도, 강수확률:10%\n",
      "\t날짜:2024-12-17 오전, 날씨:맑음, 기온:-3~5도, 강수확률:10%\n",
      "\t날짜:2024-12-17 오후, 날씨:맑음, 기온:-3~5도, 강수확률:10%\n",
      "\t날짜:2024-12-18 오전, 날씨:맑음, 기온:-4~4도, 강수확률:10%\n",
      "\t날짜:2024-12-19 오전, 날씨:구름많음, 기온:-4~4도, 강수확률:30%\n",
      "\t날짜:2024-12-20 오전, 날씨:흐림, 기온:-4~5도, 강수확률:40%\n",
      "서울ㆍ인천ㆍ경기도 지역의  파주 도시입니다\n",
      "\t날짜:2024-12-14 오전, 날씨:맑음, 기온:-9~2도, 강수확률:10%\n",
      "\t날짜:2024-12-14 오후, 날씨:맑음, 기온:-9~2도, 강수확률:10%\n",
      "\t날짜:2024-12-15 오전, 날씨:맑음, 기온:-8~3도, 강수확률:10%\n",
      "\t날짜:2024-12-15 오후, 날씨:맑음, 기온:-8~3도, 강수확률:10%\n",
      "\t날짜:2024-12-16 오전, 날씨:맑음, 기온:-8~3도, 강수확률:10%\n",
      "\t날짜:2024-12-16 오후, 날씨:맑음, 기온:-8~3도, 강수확률:10%\n",
      "\t날짜:2024-12-17 오전, 날씨:맑음, 기온:-7~4도, 강수확률:10%\n",
      "\t날짜:2024-12-17 오후, 날씨:맑음, 기온:-7~4도, 강수확률:10%\n",
      "\t날짜:2024-12-18 오전, 날씨:맑음, 기온:-7~3도, 강수확률:10%\n",
      "\t날짜:2024-12-19 오전, 날씨:구름많음, 기온:-7~3도, 강수확률:30%\n",
      "\t날짜:2024-12-20 오전, 날씨:흐림, 기온:-6~4도, 강수확률:40%\n",
      "서울ㆍ인천ㆍ경기도 지역의  이천 도시입니다\n",
      "\t날짜:2024-12-14 오전, 날씨:맑음, 기온:-6~3도, 강수확률:10%\n",
      "\t날짜:2024-12-14 오후, 날씨:맑음, 기온:-6~3도, 강수확률:10%\n",
      "\t날짜:2024-12-15 오전, 날씨:맑음, 기온:-5~4도, 강수확률:10%\n",
      "\t날짜:2024-12-15 오후, 날씨:맑음, 기온:-5~4도, 강수확률:10%\n",
      "\t날짜:2024-12-16 오전, 날씨:맑음, 기온:-4~3도, 강수확률:10%\n",
      "\t날짜:2024-12-16 오후, 날씨:맑음, 기온:-4~3도, 강수확률:10%\n",
      "\t날짜:2024-12-17 오전, 날씨:맑음, 기온:-5~4도, 강수확률:10%\n",
      "\t날짜:2024-12-17 오후, 날씨:맑음, 기온:-5~4도, 강수확률:10%\n",
      "\t날짜:2024-12-18 오전, 날씨:맑음, 기온:-5~4도, 강수확률:10%\n",
      "\t날짜:2024-12-19 오전, 날씨:구름많음, 기온:-5~4도, 강수확률:30%\n",
      "\t날짜:2024-12-20 오전, 날씨:흐림, 기온:-6~5도, 강수확률:40%\n",
      "서울ㆍ인천ㆍ경기도 지역의  평택 도시입니다\n",
      "\t날짜:2024-12-14 오전, 날씨:맑음, 기온:-5~2도, 강수확률:10%\n",
      "\t날짜:2024-12-14 오후, 날씨:맑음, 기온:-5~2도, 강수확률:10%\n",
      "\t날짜:2024-12-15 오전, 날씨:맑음, 기온:-3~5도, 강수확률:10%\n",
      "\t날짜:2024-12-15 오후, 날씨:맑음, 기온:-3~5도, 강수확률:10%\n",
      "\t날짜:2024-12-16 오전, 날씨:맑음, 기온:-3~4도, 강수확률:10%\n",
      "\t날짜:2024-12-16 오후, 날씨:맑음, 기온:-3~4도, 강수확률:10%\n",
      "\t날짜:2024-12-17 오전, 날씨:맑음, 기온:-3~4도, 강수확률:10%\n",
      "\t날짜:2024-12-17 오후, 날씨:맑음, 기온:-3~4도, 강수확률:10%\n",
      "\t날짜:2024-12-18 오전, 날씨:맑음, 기온:-5~3도, 강수확률:10%\n",
      "\t날짜:2024-12-19 오전, 날씨:구름많음, 기온:-5~3도, 강수확률:30%\n",
      "\t날짜:2024-12-20 오전, 날씨:흐림, 기온:-4~4도, 강수확률:40%\n",
      "강원도영서 지역의  춘천 도시입니다\n",
      "\t날짜:2024-12-14 오전, 날씨:맑음, 기온:-6~3도, 강수확률:10%\n",
      "\t날짜:2024-12-14 오후, 날씨:맑음, 기온:-6~3도, 강수확률:10%\n",
      "\t날짜:2024-12-15 오전, 날씨:맑음, 기온:-7~3도, 강수확률:10%\n",
      "\t날짜:2024-12-15 오후, 날씨:맑음, 기온:-7~3도, 강수확률:10%\n",
      "\t날짜:2024-12-16 오전, 날씨:맑음, 기온:-7~3도, 강수확률:10%\n",
      "\t날짜:2024-12-16 오후, 날씨:맑음, 기온:-7~3도, 강수확률:10%\n",
      "\t날짜:2024-12-17 오전, 날씨:맑음, 기온:-7~4도, 강수확률:10%\n",
      "\t날짜:2024-12-17 오후, 날씨:맑음, 기온:-7~4도, 강수확률:10%\n",
      "\t날짜:2024-12-18 오전, 날씨:맑음, 기온:-6~3도, 강수확률:10%\n",
      "\t날짜:2024-12-19 오전, 날씨:구름많음, 기온:-6~3도, 강수확률:30%\n",
      "\t날짜:2024-12-20 오전, 날씨:흐림, 기온:-5~4도, 강수확률:40%\n",
      "강원도영서 지역의  원주 도시입니다\n",
      "\t날짜:2024-12-14 오전, 날씨:맑음, 기온:-5~2도, 강수확률:10%\n",
      "\t날짜:2024-12-14 오후, 날씨:맑음, 기온:-5~2도, 강수확률:10%\n",
      "\t날짜:2024-12-15 오전, 날씨:맑음, 기온:-5~4도, 강수확률:10%\n",
      "\t날짜:2024-12-15 오후, 날씨:맑음, 기온:-5~4도, 강수확률:10%\n",
      "\t날짜:2024-12-16 오전, 날씨:맑음, 기온:-5~3도, 강수확률:10%\n",
      "\t날짜:2024-12-16 오후, 날씨:맑음, 기온:-5~3도, 강수확률:10%\n",
      "\t날짜:2024-12-17 오전, 날씨:맑음, 기온:-4~4도, 강수확률:10%\n",
      "\t날짜:2024-12-17 오후, 날씨:맑음, 기온:-4~4도, 강수확률:10%\n",
      "\t날짜:2024-12-18 오전, 날씨:맑음, 기온:-4~5도, 강수확률:10%\n",
      "\t날짜:2024-12-19 오전, 날씨:구름많음, 기온:-4~5도, 강수확률:30%\n",
      "\t날짜:2024-12-20 오전, 날씨:흐림, 기온:-4~5도, 강수확률:40%\n",
      "강원도영동 지역의  강릉 도시입니다\n",
      "\t날짜:2024-12-14 오전, 날씨:맑음, 기온:-1~7도, 강수확률:20%\n",
      "\t날짜:2024-12-14 오후, 날씨:맑음, 기온:-1~7도, 강수확률:10%\n",
      "\t날짜:2024-12-15 오전, 날씨:맑음, 기온:-1~6도, 강수확률:10%\n",
      "\t날짜:2024-12-15 오후, 날씨:맑음, 기온:-1~6도, 강수확률:10%\n",
      "\t날짜:2024-12-16 오전, 날씨:맑음, 기온:-2~6도, 강수확률:10%\n",
      "\t날짜:2024-12-16 오후, 날씨:맑음, 기온:-2~6도, 강수확률:10%\n",
      "\t날짜:2024-12-17 오전, 날씨:맑음, 기온:0~7도, 강수확률:10%\n",
      "\t날짜:2024-12-17 오후, 날씨:맑음, 기온:0~7도, 강수확률:10%\n",
      "\t날짜:2024-12-18 오전, 날씨:맑음, 기온:0~8도, 강수확률:20%\n",
      "\t날짜:2024-12-19 오전, 날씨:구름많음, 기온:0~8도, 강수확률:30%\n",
      "\t날짜:2024-12-20 오전, 날씨:구름많음, 기온:1~8도, 강수확률:30%\n",
      "대전ㆍ세종ㆍ충청남도 지역의  대전 도시입니다\n",
      "\t날짜:2024-12-14 오전, 날씨:구름많음, 기온:-4~4도, 강수확률:20%\n",
      "\t날짜:2024-12-14 오후, 날씨:맑음, 기온:-4~4도, 강수확률:10%\n",
      "\t날짜:2024-12-15 오전, 날씨:구름많고 비/눈, 기온:-3~6도, 강수확률:60%\n",
      "\t날짜:2024-12-15 오후, 날씨:구름많음, 기온:-3~6도, 강수확률:30%\n",
      "\t날짜:2024-12-16 오전, 날씨:맑음, 기온:-2~5도, 강수확률:20%\n",
      "\t날짜:2024-12-16 오후, 날씨:구름많음, 기온:-2~5도, 강수확률:20%\n",
      "\t날짜:2024-12-17 오전, 날씨:구름많음, 기온:-2~6도, 강수확률:20%\n",
      "\t날짜:2024-12-17 오후, 날씨:구름많음, 기온:-2~6도, 강수확률:20%\n",
      "\t날짜:2024-12-18 오전, 날씨:맑음, 기온:-3~6도, 강수확률:10%\n",
      "\t날짜:2024-12-19 오전, 날씨:구름많음, 기온:-3~6도, 강수확률:30%\n",
      "\t날짜:2024-12-20 오전, 날씨:흐림, 기온:-3~6도, 강수확률:40%\n",
      "대전ㆍ세종ㆍ충청남도 지역의  세종 도시입니다\n",
      "\t날짜:2024-12-14 오전, 날씨:구름많음, 기온:-5~3도, 강수확률:20%\n",
      "\t날짜:2024-12-14 오후, 날씨:맑음, 기온:-5~3도, 강수확률:10%\n",
      "\t날짜:2024-12-15 오전, 날씨:구름많고 비/눈, 기온:-4~6도, 강수확률:60%\n",
      "\t날짜:2024-12-15 오후, 날씨:구름많음, 기온:-4~6도, 강수확률:30%\n",
      "\t날짜:2024-12-16 오전, 날씨:맑음, 기온:-2~5도, 강수확률:20%\n",
      "\t날짜:2024-12-16 오후, 날씨:구름많음, 기온:-2~5도, 강수확률:20%\n",
      "\t날짜:2024-12-17 오전, 날씨:구름많음, 기온:-3~4도, 강수확률:20%\n",
      "\t날짜:2024-12-17 오후, 날씨:구름많음, 기온:-3~4도, 강수확률:20%\n",
      "\t날짜:2024-12-18 오전, 날씨:맑음, 기온:-4~4도, 강수확률:10%\n",
      "\t날짜:2024-12-19 오전, 날씨:구름많음, 기온:-4~4도, 강수확률:30%\n",
      "\t날짜:2024-12-20 오전, 날씨:흐림, 기온:-4~5도, 강수확률:40%\n",
      "대전ㆍ세종ㆍ충청남도 지역의  홍성 도시입니다\n",
      "\t날짜:2024-12-14 오전, 날씨:구름많음, 기온:-5~4도, 강수확률:20%\n",
      "\t날짜:2024-12-14 오후, 날씨:맑음, 기온:-5~4도, 강수확률:10%\n",
      "\t날짜:2024-12-15 오전, 날씨:구름많고 비/눈, 기온:-2~6도, 강수확률:60%\n",
      "\t날짜:2024-12-15 오후, 날씨:구름많음, 기온:-2~6도, 강수확률:30%\n",
      "\t날짜:2024-12-16 오전, 날씨:맑음, 기온:-2~4도, 강수확률:20%\n",
      "\t날짜:2024-12-16 오후, 날씨:구름많음, 기온:-2~4도, 강수확률:20%\n",
      "\t날짜:2024-12-17 오전, 날씨:구름많음, 기온:-2~5도, 강수확률:20%\n",
      "\t날짜:2024-12-17 오후, 날씨:구름많음, 기온:-2~5도, 강수확률:20%\n",
      "\t날짜:2024-12-18 오전, 날씨:맑음, 기온:-4~5도, 강수확률:10%\n",
      "\t날짜:2024-12-19 오전, 날씨:구름많음, 기온:-4~5도, 강수확률:30%\n",
      "\t날짜:2024-12-20 오전, 날씨:흐림, 기온:-4~5도, 강수확률:40%\n",
      "충청북도 지역의  청주 도시입니다\n",
      "\t날짜:2024-12-14 오전, 날씨:맑음, 기온:-3~4도, 강수확률:10%\n",
      "\t날짜:2024-12-14 오후, 날씨:맑음, 기온:-3~4도, 강수확률:10%\n",
      "\t날짜:2024-12-15 오전, 날씨:구름많음, 기온:-2~5도, 강수확률:40%\n",
      "\t날짜:2024-12-15 오후, 날씨:구름많음, 기온:-2~5도, 강수확률:20%\n",
      "\t날짜:2024-12-16 오전, 날씨:맑음, 기온:-2~4도, 강수확률:10%\n",
      "\t날짜:2024-12-16 오후, 날씨:구름많음, 기온:-2~4도, 강수확률:20%\n",
      "\t날짜:2024-12-17 오전, 날씨:맑음, 기온:-3~5도, 강수확률:10%\n",
      "\t날짜:2024-12-17 오후, 날씨:맑음, 기온:-3~5도, 강수확률:10%\n",
      "\t날짜:2024-12-18 오전, 날씨:맑음, 기온:-2~5도, 강수확률:10%\n",
      "\t날짜:2024-12-19 오전, 날씨:구름많음, 기온:-2~5도, 강수확률:30%\n",
      "\t날짜:2024-12-20 오전, 날씨:흐림, 기온:-3~6도, 강수확률:40%\n",
      "충청북도 지역의  충주 도시입니다\n",
      "\t날짜:2024-12-14 오전, 날씨:맑음, 기온:-6~2도, 강수확률:10%\n",
      "\t날짜:2024-12-14 오후, 날씨:맑음, 기온:-6~2도, 강수확률:10%\n",
      "\t날짜:2024-12-15 오전, 날씨:구름많음, 기온:-6~4도, 강수확률:40%\n",
      "\t날짜:2024-12-15 오후, 날씨:구름많음, 기온:-6~4도, 강수확률:20%\n",
      "\t날짜:2024-12-16 오전, 날씨:맑음, 기온:-5~3도, 강수확률:10%\n",
      "\t날짜:2024-12-16 오후, 날씨:구름많음, 기온:-5~3도, 강수확률:20%\n",
      "\t날짜:2024-12-17 오전, 날씨:맑음, 기온:-5~4도, 강수확률:10%\n",
      "\t날짜:2024-12-17 오후, 날씨:맑음, 기온:-5~4도, 강수확률:10%\n",
      "\t날짜:2024-12-18 오전, 날씨:맑음, 기온:-4~4도, 강수확률:10%\n",
      "\t날짜:2024-12-19 오전, 날씨:구름많음, 기온:-4~4도, 강수확률:30%\n",
      "\t날짜:2024-12-20 오전, 날씨:흐림, 기온:-4~6도, 강수확률:40%\n",
      "충청북도 지역의  영동 도시입니다\n",
      "\t날짜:2024-12-14 오전, 날씨:맑음, 기온:-7~4도, 강수확률:10%\n",
      "\t날짜:2024-12-14 오후, 날씨:맑음, 기온:-7~4도, 강수확률:10%\n",
      "\t날짜:2024-12-15 오전, 날씨:구름많음, 기온:-5~5도, 강수확률:40%\n",
      "\t날짜:2024-12-15 오후, 날씨:구름많음, 기온:-5~5도, 강수확률:20%\n",
      "\t날짜:2024-12-16 오전, 날씨:맑음, 기온:-4~5도, 강수확률:10%\n",
      "\t날짜:2024-12-16 오후, 날씨:구름많음, 기온:-4~5도, 강수확률:20%\n",
      "\t날짜:2024-12-17 오전, 날씨:맑음, 기온:-3~5도, 강수확률:10%\n",
      "\t날짜:2024-12-17 오후, 날씨:맑음, 기온:-3~5도, 강수확률:10%\n",
      "\t날짜:2024-12-18 오전, 날씨:맑음, 기온:-5~6도, 강수확률:10%\n",
      "\t날짜:2024-12-19 오전, 날씨:구름많음, 기온:-5~6도, 강수확률:30%\n",
      "\t날짜:2024-12-20 오전, 날씨:흐림, 기온:-4~7도, 강수확률:40%\n",
      "광주ㆍ전라남도 지역의  광주 도시입니다\n",
      "\t날짜:2024-12-14 오전, 날씨:흐리고 비/눈, 기온:-1~6도, 강수확률:60%\n",
      "\t날짜:2024-12-14 오후, 날씨:흐림, 기온:-1~6도, 강수확률:40%\n",
      "\t날짜:2024-12-15 오전, 날씨:흐리고 비/눈, 기온:1~7도, 강수확률:60%\n",
      "\t날짜:2024-12-15 오후, 날씨:흐리고 비/눈, 기온:1~7도, 강수확률:60%\n",
      "\t날짜:2024-12-16 오전, 날씨:구름많음, 기온:1~7도, 강수확률:30%\n",
      "\t날짜:2024-12-16 오후, 날씨:구름많음, 기온:1~7도, 강수확률:30%\n",
      "\t날짜:2024-12-17 오전, 날씨:구름많음, 기온:0~8도, 강수확률:20%\n",
      "\t날짜:2024-12-17 오후, 날씨:구름많음, 기온:0~8도, 강수확률:20%\n",
      "\t날짜:2024-12-18 오전, 날씨:맑음, 기온:0~7도, 강수확률:10%\n",
      "\t날짜:2024-12-19 오전, 날씨:구름많음, 기온:0~7도, 강수확률:30%\n",
      "\t날짜:2024-12-20 오전, 날씨:흐림, 기온:0~9도, 강수확률:40%\n",
      "광주ㆍ전라남도 지역의  목포 도시입니다\n",
      "\t날짜:2024-12-14 오전, 날씨:흐리고 비/눈, 기온:2~6도, 강수확률:60%\n",
      "\t날짜:2024-12-14 오후, 날씨:흐림, 기온:2~6도, 강수확률:40%\n",
      "\t날짜:2024-12-15 오전, 날씨:흐리고 비/눈, 기온:3~8도, 강수확률:60%\n",
      "\t날짜:2024-12-15 오후, 날씨:흐리고 비/눈, 기온:3~8도, 강수확률:60%\n",
      "\t날짜:2024-12-16 오전, 날씨:구름많음, 기온:4~8도, 강수확률:30%\n",
      "\t날짜:2024-12-16 오후, 날씨:구름많음, 기온:4~8도, 강수확률:30%\n",
      "\t날짜:2024-12-17 오전, 날씨:구름많음, 기온:2~9도, 강수확률:20%\n",
      "\t날짜:2024-12-17 오후, 날씨:구름많음, 기온:2~9도, 강수확률:20%\n",
      "\t날짜:2024-12-18 오전, 날씨:맑음, 기온:2~8도, 강수확률:10%\n",
      "\t날짜:2024-12-19 오전, 날씨:구름많음, 기온:2~8도, 강수확률:30%\n",
      "\t날짜:2024-12-20 오전, 날씨:흐림, 기온:2~8도, 강수확률:40%\n",
      "광주ㆍ전라남도 지역의  여수 도시입니다\n",
      "\t날짜:2024-12-14 오전, 날씨:흐리고 비/눈, 기온:1~7도, 강수확률:60%\n",
      "\t날짜:2024-12-14 오후, 날씨:흐림, 기온:1~7도, 강수확률:40%\n",
      "\t날짜:2024-12-15 오전, 날씨:흐리고 비/눈, 기온:2~8도, 강수확률:60%\n",
      "\t날짜:2024-12-15 오후, 날씨:흐리고 비/눈, 기온:2~8도, 강수확률:60%\n",
      "\t날짜:2024-12-16 오전, 날씨:구름많음, 기온:3~9도, 강수확률:30%\n",
      "\t날짜:2024-12-16 오후, 날씨:구름많음, 기온:3~9도, 강수확률:30%\n",
      "\t날짜:2024-12-17 오전, 날씨:구름많음, 기온:3~9도, 강수확률:20%\n",
      "\t날짜:2024-12-17 오후, 날씨:구름많음, 기온:3~9도, 강수확률:20%\n",
      "\t날짜:2024-12-18 오전, 날씨:맑음, 기온:3~9도, 강수확률:10%\n",
      "\t날짜:2024-12-19 오전, 날씨:구름많음, 기온:3~9도, 강수확률:30%\n",
      "\t날짜:2024-12-20 오전, 날씨:흐림, 기온:3~9도, 강수확률:40%\n",
      "광주ㆍ전라남도 지역의  순천 도시입니다\n",
      "\t날짜:2024-12-14 오전, 날씨:흐리고 비/눈, 기온:-2~6도, 강수확률:60%\n",
      "\t날짜:2024-12-14 오후, 날씨:흐림, 기온:-2~6도, 강수확률:40%\n",
      "\t날짜:2024-12-15 오전, 날씨:흐리고 비/눈, 기온:0~8도, 강수확률:60%\n",
      "\t날짜:2024-12-15 오후, 날씨:흐리고 비/눈, 기온:0~8도, 강수확률:60%\n",
      "\t날짜:2024-12-16 오전, 날씨:구름많음, 기온:0~8도, 강수확률:30%\n",
      "\t날짜:2024-12-16 오후, 날씨:구름많음, 기온:0~8도, 강수확률:30%\n",
      "\t날짜:2024-12-17 오전, 날씨:구름많음, 기온:1~9도, 강수확률:20%\n",
      "\t날짜:2024-12-17 오후, 날씨:구름많음, 기온:1~9도, 강수확률:20%\n",
      "\t날짜:2024-12-18 오전, 날씨:맑음, 기온:0~8도, 강수확률:10%\n",
      "\t날짜:2024-12-19 오전, 날씨:구름많음, 기온:0~8도, 강수확률:30%\n",
      "\t날짜:2024-12-20 오전, 날씨:흐림, 기온:0~9도, 강수확률:40%\n",
      "광주ㆍ전라남도 지역의  광양 도시입니다\n",
      "\t날짜:2024-12-14 오전, 날씨:흐리고 비/눈, 기온:0~6도, 강수확률:60%\n",
      "\t날짜:2024-12-14 오후, 날씨:흐림, 기온:0~6도, 강수확률:40%\n",
      "\t날짜:2024-12-15 오전, 날씨:흐리고 비/눈, 기온:0~9도, 강수확률:60%\n",
      "\t날짜:2024-12-15 오후, 날씨:흐리고 비/눈, 기온:0~9도, 강수확률:60%\n",
      "\t날짜:2024-12-16 오전, 날씨:구름많음, 기온:1~10도, 강수확률:30%\n",
      "\t날짜:2024-12-16 오후, 날씨:구름많음, 기온:1~10도, 강수확률:30%\n",
      "\t날짜:2024-12-17 오전, 날씨:구름많음, 기온:1~10도, 강수확률:20%\n",
      "\t날짜:2024-12-17 오후, 날씨:구름많음, 기온:1~10도, 강수확률:20%\n",
      "\t날짜:2024-12-18 오전, 날씨:맑음, 기온:1~10도, 강수확률:10%\n",
      "\t날짜:2024-12-19 오전, 날씨:구름많음, 기온:1~10도, 강수확률:30%\n",
      "\t날짜:2024-12-20 오전, 날씨:흐림, 기온:1~11도, 강수확률:40%\n",
      "광주ㆍ전라남도 지역의  나주 도시입니다\n",
      "\t날짜:2024-12-14 오전, 날씨:흐리고 비/눈, 기온:-3~6도, 강수확률:60%\n",
      "\t날짜:2024-12-14 오후, 날씨:흐림, 기온:-3~6도, 강수확률:40%\n",
      "\t날짜:2024-12-15 오전, 날씨:흐리고 비/눈, 기온:-1~8도, 강수확률:60%\n",
      "\t날짜:2024-12-15 오후, 날씨:흐리고 비/눈, 기온:-1~8도, 강수확률:60%\n",
      "\t날짜:2024-12-16 오전, 날씨:구름많음, 기온:0~7도, 강수확률:30%\n",
      "\t날짜:2024-12-16 오후, 날씨:구름많음, 기온:0~7도, 강수확률:30%\n",
      "\t날짜:2024-12-17 오전, 날씨:구름많음, 기온:-1~8도, 강수확률:20%\n",
      "\t날짜:2024-12-17 오후, 날씨:구름많음, 기온:-1~8도, 강수확률:20%\n",
      "\t날짜:2024-12-18 오전, 날씨:맑음, 기온:-2~6도, 강수확률:10%\n",
      "\t날짜:2024-12-19 오전, 날씨:구름많음, 기온:-2~6도, 강수확률:30%\n",
      "\t날짜:2024-12-20 오전, 날씨:흐림, 기온:-1~8도, 강수확률:40%\n",
      "전라북도 지역의  전주 도시입니다\n",
      "\t날짜:2024-12-14 오전, 날씨:흐리고 비/눈, 기온:-2~5도, 강수확률:60%\n",
      "\t날짜:2024-12-14 오후, 날씨:흐림, 기온:-2~5도, 강수확률:40%\n",
      "\t날짜:2024-12-15 오전, 날씨:흐리고 비/눈, 기온:-1~6도, 강수확률:80%\n",
      "\t날짜:2024-12-15 오후, 날씨:흐리고 비/눈, 기온:-1~6도, 강수확률:60%\n",
      "\t날짜:2024-12-16 오전, 날씨:구름많음, 기온:0~6도, 강수확률:30%\n",
      "\t날짜:2024-12-16 오후, 날씨:구름많음, 기온:0~6도, 강수확률:30%\n",
      "\t날짜:2024-12-17 오전, 날씨:구름많음, 기온:0~7도, 강수확률:20%\n",
      "\t날짜:2024-12-17 오후, 날씨:구름많음, 기온:0~7도, 강수확률:20%\n",
      "\t날짜:2024-12-18 오전, 날씨:맑음, 기온:-1~7도, 강수확률:10%\n",
      "\t날짜:2024-12-19 오전, 날씨:구름많음, 기온:-1~7도, 강수확률:30%\n",
      "\t날짜:2024-12-20 오전, 날씨:흐림, 기온:-1~8도, 강수확률:40%\n",
      "전라북도 지역의  군산 도시입니다\n",
      "\t날짜:2024-12-14 오전, 날씨:흐리고 비/눈, 기온:-2~5도, 강수확률:60%\n",
      "\t날짜:2024-12-14 오후, 날씨:흐림, 기온:-2~5도, 강수확률:40%\n",
      "\t날짜:2024-12-15 오전, 날씨:흐리고 비/눈, 기온:0~7도, 강수확률:80%\n",
      "\t날짜:2024-12-15 오후, 날씨:흐리고 비/눈, 기온:0~7도, 강수확률:60%\n",
      "\t날짜:2024-12-16 오전, 날씨:구름많음, 기온:0~6도, 강수확률:30%\n",
      "\t날짜:2024-12-16 오후, 날씨:구름많음, 기온:0~6도, 강수확률:30%\n",
      "\t날짜:2024-12-17 오전, 날씨:구름많음, 기온:-1~7도, 강수확률:20%\n",
      "\t날짜:2024-12-17 오후, 날씨:구름많음, 기온:-1~7도, 강수확률:20%\n",
      "\t날짜:2024-12-18 오전, 날씨:맑음, 기온:-2~6도, 강수확률:10%\n",
      "\t날짜:2024-12-19 오전, 날씨:구름많음, 기온:-2~6도, 강수확률:30%\n",
      "\t날짜:2024-12-20 오전, 날씨:흐림, 기온:-2~7도, 강수확률:40%\n",
      "전라북도 지역의  정읍 도시입니다\n",
      "\t날짜:2024-12-14 오전, 날씨:흐리고 비/눈, 기온:-2~5도, 강수확률:60%\n",
      "\t날짜:2024-12-14 오후, 날씨:흐림, 기온:-2~5도, 강수확률:40%\n",
      "\t날짜:2024-12-15 오전, 날씨:흐리고 비/눈, 기온:-1~7도, 강수확률:80%\n",
      "\t날짜:2024-12-15 오후, 날씨:흐리고 비/눈, 기온:-1~7도, 강수확률:60%\n",
      "\t날짜:2024-12-16 오전, 날씨:구름많음, 기온:0~7도, 강수확률:30%\n",
      "\t날짜:2024-12-16 오후, 날씨:구름많음, 기온:0~7도, 강수확률:30%\n",
      "\t날짜:2024-12-17 오전, 날씨:구름많음, 기온:0~7도, 강수확률:20%\n",
      "\t날짜:2024-12-17 오후, 날씨:구름많음, 기온:0~7도, 강수확률:20%\n",
      "\t날짜:2024-12-18 오전, 날씨:맑음, 기온:-2~6도, 강수확률:10%\n",
      "\t날짜:2024-12-19 오전, 날씨:구름많음, 기온:-2~6도, 강수확률:30%\n",
      "\t날짜:2024-12-20 오전, 날씨:흐림, 기온:-2~7도, 강수확률:40%\n",
      "전라북도 지역의  남원 도시입니다\n",
      "\t날짜:2024-12-14 오전, 날씨:흐리고 비/눈, 기온:-4~4도, 강수확률:60%\n",
      "\t날짜:2024-12-14 오후, 날씨:흐림, 기온:-4~4도, 강수확률:40%\n",
      "\t날짜:2024-12-15 오전, 날씨:흐리고 비/눈, 기온:-3~5도, 강수확률:80%\n",
      "\t날짜:2024-12-15 오후, 날씨:흐리고 비/눈, 기온:-3~5도, 강수확률:60%\n",
      "\t날짜:2024-12-16 오전, 날씨:구름많음, 기온:-1~6도, 강수확률:30%\n",
      "\t날짜:2024-12-16 오후, 날씨:구름많음, 기온:-1~6도, 강수확률:30%\n",
      "\t날짜:2024-12-17 오전, 날씨:구름많음, 기온:-2~6도, 강수확률:20%\n",
      "\t날짜:2024-12-17 오후, 날씨:구름많음, 기온:-2~6도, 강수확률:20%\n",
      "\t날짜:2024-12-18 오전, 날씨:맑음, 기온:-2~6도, 강수확률:10%\n",
      "\t날짜:2024-12-19 오전, 날씨:구름많음, 기온:-2~6도, 강수확률:30%\n",
      "\t날짜:2024-12-20 오전, 날씨:흐림, 기온:-2~8도, 강수확률:40%\n",
      "전라북도 지역의  고창 도시입니다\n",
      "\t날짜:2024-12-14 오전, 날씨:흐리고 비/눈, 기온:-1~5도, 강수확률:60%\n",
      "\t날짜:2024-12-14 오후, 날씨:흐림, 기온:-1~5도, 강수확률:40%\n",
      "\t날짜:2024-12-15 오전, 날씨:흐리고 비/눈, 기온:0~6도, 강수확률:80%\n",
      "\t날짜:2024-12-15 오후, 날씨:흐리고 비/눈, 기온:0~6도, 강수확률:60%\n",
      "\t날짜:2024-12-16 오전, 날씨:구름많음, 기온:1~7도, 강수확률:30%\n",
      "\t날짜:2024-12-16 오후, 날씨:구름많음, 기온:1~7도, 강수확률:30%\n",
      "\t날짜:2024-12-17 오전, 날씨:구름많음, 기온:0~7도, 강수확률:20%\n",
      "\t날짜:2024-12-17 오후, 날씨:구름많음, 기온:0~7도, 강수확률:20%\n",
      "\t날짜:2024-12-18 오전, 날씨:맑음, 기온:-1~7도, 강수확률:10%\n",
      "\t날짜:2024-12-19 오전, 날씨:구름많음, 기온:-1~7도, 강수확률:30%\n",
      "\t날짜:2024-12-20 오전, 날씨:흐림, 기온:-1~8도, 강수확률:40%\n",
      "전라북도 지역의  무주 도시입니다\n",
      "\t날짜:2024-12-14 오전, 날씨:흐리고 비/눈, 기온:-7~3도, 강수확률:60%\n",
      "\t날짜:2024-12-14 오후, 날씨:흐림, 기온:-7~3도, 강수확률:40%\n",
      "\t날짜:2024-12-15 오전, 날씨:흐리고 비/눈, 기온:-5~3도, 강수확률:80%\n",
      "\t날짜:2024-12-15 오후, 날씨:흐리고 비/눈, 기온:-5~3도, 강수확률:60%\n",
      "\t날짜:2024-12-16 오전, 날씨:구름많음, 기온:-3~5도, 강수확률:30%\n",
      "\t날짜:2024-12-16 오후, 날씨:구름많음, 기온:-3~5도, 강수확률:30%\n",
      "\t날짜:2024-12-17 오전, 날씨:구름많음, 기온:-4~4도, 강수확률:20%\n",
      "\t날짜:2024-12-17 오후, 날씨:구름많음, 기온:-4~4도, 강수확률:20%\n",
      "\t날짜:2024-12-18 오전, 날씨:맑음, 기온:-5~5도, 강수확률:10%\n",
      "\t날짜:2024-12-19 오전, 날씨:구름많음, 기온:-5~5도, 강수확률:30%\n",
      "\t날짜:2024-12-20 오전, 날씨:흐림, 기온:-4~7도, 강수확률:40%\n",
      "부산ㆍ울산ㆍ경상남도 지역의  부산 도시입니다\n",
      "\t날짜:2024-12-14 오전, 날씨:맑음, 기온:1~8도, 강수확률:10%\n",
      "\t날짜:2024-12-14 오후, 날씨:맑음, 기온:1~8도, 강수확률:10%\n",
      "\t날짜:2024-12-15 오전, 날씨:맑음, 기온:1~9도, 강수확률:10%\n",
      "\t날짜:2024-12-15 오후, 날씨:구름많음, 기온:1~9도, 강수확률:20%\n",
      "\t날짜:2024-12-16 오전, 날씨:맑음, 기온:2~9도, 강수확률:10%\n",
      "\t날짜:2024-12-16 오후, 날씨:맑음, 기온:2~9도, 강수확률:10%\n",
      "\t날짜:2024-12-17 오전, 날씨:맑음, 기온:2~11도, 강수확률:10%\n",
      "\t날짜:2024-12-17 오후, 날씨:맑음, 기온:2~11도, 강수확률:10%\n",
      "\t날짜:2024-12-18 오전, 날씨:맑음, 기온:3~10도, 강수확률:10%\n",
      "\t날짜:2024-12-19 오전, 날씨:구름많음, 기온:3~10도, 강수확률:20%\n",
      "\t날짜:2024-12-20 오전, 날씨:구름많음, 기온:4~11도, 강수확률:30%\n",
      "부산ㆍ울산ㆍ경상남도 지역의  울산 도시입니다\n",
      "\t날짜:2024-12-14 오전, 날씨:맑음, 기온:-1~6도, 강수확률:10%\n",
      "\t날짜:2024-12-14 오후, 날씨:맑음, 기온:-1~6도, 강수확률:10%\n",
      "\t날짜:2024-12-15 오전, 날씨:맑음, 기온:-1~7도, 강수확률:10%\n",
      "\t날짜:2024-12-15 오후, 날씨:구름많음, 기온:-1~7도, 강수확률:20%\n",
      "\t날짜:2024-12-16 오전, 날씨:맑음, 기온:0~8도, 강수확률:10%\n",
      "\t날짜:2024-12-16 오후, 날씨:맑음, 기온:0~8도, 강수확률:10%\n",
      "\t날짜:2024-12-17 오전, 날씨:맑음, 기온:-1~9도, 강수확률:10%\n",
      "\t날짜:2024-12-17 오후, 날씨:맑음, 기온:-1~9도, 강수확률:10%\n",
      "\t날짜:2024-12-18 오전, 날씨:맑음, 기온:1~9도, 강수확률:10%\n",
      "\t날짜:2024-12-19 오전, 날씨:구름많음, 기온:1~9도, 강수확률:20%\n",
      "\t날짜:2024-12-20 오전, 날씨:구름많음, 기온:0~9도, 강수확률:30%\n",
      "부산ㆍ울산ㆍ경상남도 지역의  창원 도시입니다\n",
      "\t날짜:2024-12-14 오전, 날씨:맑음, 기온:0~7도, 강수확률:10%\n",
      "\t날짜:2024-12-14 오후, 날씨:맑음, 기온:0~7도, 강수확률:10%\n",
      "\t날짜:2024-12-15 오전, 날씨:맑음, 기온:-1~8도, 강수확률:10%\n",
      "\t날짜:2024-12-15 오후, 날씨:구름많음, 기온:-1~8도, 강수확률:20%\n",
      "\t날짜:2024-12-16 오전, 날씨:맑음, 기온:0~8도, 강수확률:10%\n",
      "\t날짜:2024-12-16 오후, 날씨:맑음, 기온:0~8도, 강수확률:10%\n",
      "\t날짜:2024-12-17 오전, 날씨:맑음, 기온:0~9도, 강수확률:10%\n",
      "\t날짜:2024-12-17 오후, 날씨:맑음, 기온:0~9도, 강수확률:10%\n",
      "\t날짜:2024-12-18 오전, 날씨:맑음, 기온:1~9도, 강수확률:10%\n",
      "\t날짜:2024-12-19 오전, 날씨:구름많음, 기온:1~9도, 강수확률:20%\n",
      "\t날짜:2024-12-20 오전, 날씨:구름많음, 기온:1~9도, 강수확률:30%\n",
      "부산ㆍ울산ㆍ경상남도 지역의  진주 도시입니다\n",
      "\t날짜:2024-12-14 오전, 날씨:맑음, 기온:-3~7도, 강수확률:10%\n",
      "\t날짜:2024-12-14 오후, 날씨:맑음, 기온:-3~7도, 강수확률:10%\n",
      "\t날짜:2024-12-15 오전, 날씨:맑음, 기온:-3~8도, 강수확률:10%\n",
      "\t날짜:2024-12-15 오후, 날씨:구름많음, 기온:-3~8도, 강수확률:20%\n",
      "\t날짜:2024-12-16 오전, 날씨:맑음, 기온:-1~9도, 강수확률:10%\n",
      "\t날짜:2024-12-16 오후, 날씨:맑음, 기온:-1~9도, 강수확률:10%\n",
      "\t날짜:2024-12-17 오전, 날씨:맑음, 기온:-3~9도, 강수확률:10%\n",
      "\t날짜:2024-12-17 오후, 날씨:맑음, 기온:-3~9도, 강수확률:10%\n",
      "\t날짜:2024-12-18 오전, 날씨:맑음, 기온:-2~9도, 강수확률:10%\n",
      "\t날짜:2024-12-19 오전, 날씨:구름많음, 기온:-2~9도, 강수확률:20%\n",
      "\t날짜:2024-12-20 오전, 날씨:구름많음, 기온:-3~10도, 강수확률:30%\n",
      "부산ㆍ울산ㆍ경상남도 지역의  거창 도시입니다\n",
      "\t날짜:2024-12-14 오전, 날씨:맑음, 기온:-4~4도, 강수확률:10%\n",
      "\t날짜:2024-12-14 오후, 날씨:맑음, 기온:-4~4도, 강수확률:10%\n",
      "\t날짜:2024-12-15 오전, 날씨:맑음, 기온:-4~5도, 강수확률:10%\n",
      "\t날짜:2024-12-15 오후, 날씨:구름많음, 기온:-4~5도, 강수확률:20%\n",
      "\t날짜:2024-12-16 오전, 날씨:맑음, 기온:-2~6도, 강수확률:10%\n",
      "\t날짜:2024-12-16 오후, 날씨:맑음, 기온:-2~6도, 강수확률:10%\n",
      "\t날짜:2024-12-17 오전, 날씨:맑음, 기온:-3~7도, 강수확률:10%\n",
      "\t날짜:2024-12-17 오후, 날씨:맑음, 기온:-3~7도, 강수확률:10%\n",
      "\t날짜:2024-12-18 오전, 날씨:맑음, 기온:-3~8도, 강수확률:10%\n",
      "\t날짜:2024-12-19 오전, 날씨:구름많음, 기온:-3~8도, 강수확률:20%\n",
      "\t날짜:2024-12-20 오전, 날씨:구름많음, 기온:-5~8도, 강수확률:30%\n",
      "부산ㆍ울산ㆍ경상남도 지역의  통영 도시입니다\n",
      "\t날짜:2024-12-14 오전, 날씨:맑음, 기온:1~8도, 강수확률:10%\n",
      "\t날짜:2024-12-14 오후, 날씨:맑음, 기온:1~8도, 강수확률:10%\n",
      "\t날짜:2024-12-15 오전, 날씨:맑음, 기온:1~9도, 강수확률:10%\n",
      "\t날짜:2024-12-15 오후, 날씨:구름많음, 기온:1~9도, 강수확률:20%\n",
      "\t날짜:2024-12-16 오전, 날씨:맑음, 기온:3~9도, 강수확률:10%\n",
      "\t날짜:2024-12-16 오후, 날씨:맑음, 기온:3~9도, 강수확률:10%\n",
      "\t날짜:2024-12-17 오전, 날씨:맑음, 기온:2~10도, 강수확률:10%\n",
      "\t날짜:2024-12-17 오후, 날씨:맑음, 기온:2~10도, 강수확률:10%\n",
      "\t날짜:2024-12-18 오전, 날씨:맑음, 기온:1~10도, 강수확률:10%\n",
      "\t날짜:2024-12-19 오전, 날씨:구름많음, 기온:1~10도, 강수확률:20%\n",
      "\t날짜:2024-12-20 오전, 날씨:구름많음, 기온:3~10도, 강수확률:30%\n",
      "대구ㆍ경상북도 지역의  대구 도시입니다\n",
      "\t날짜:2024-12-14 오전, 날씨:맑음, 기온:-2~6도, 강수확률:10%\n",
      "\t날짜:2024-12-14 오후, 날씨:맑음, 기온:-2~6도, 강수확률:10%\n",
      "\t날짜:2024-12-15 오전, 날씨:구름많음, 기온:-2~6도, 강수확률:20%\n",
      "\t날짜:2024-12-15 오후, 날씨:구름많음, 기온:-2~6도, 강수확률:20%\n",
      "\t날짜:2024-12-16 오전, 날씨:맑음, 기온:-1~6도, 강수확률:10%\n",
      "\t날짜:2024-12-16 오후, 날씨:맑음, 기온:-1~6도, 강수확률:10%\n",
      "\t날짜:2024-12-17 오전, 날씨:맑음, 기온:-2~7도, 강수확률:10%\n",
      "\t날짜:2024-12-17 오후, 날씨:맑음, 기온:-2~7도, 강수확률:10%\n",
      "\t날짜:2024-12-18 오전, 날씨:맑음, 기온:0~7도, 강수확률:10%\n",
      "\t날짜:2024-12-19 오전, 날씨:구름많음, 기온:0~7도, 강수확률:30%\n",
      "\t날짜:2024-12-20 오전, 날씨:구름많음, 기온:-2~8도, 강수확률:30%\n",
      "대구ㆍ경상북도 지역의  안동 도시입니다\n",
      "\t날짜:2024-12-14 오전, 날씨:맑음, 기온:-5~5도, 강수확률:10%\n",
      "\t날짜:2024-12-14 오후, 날씨:맑음, 기온:-5~5도, 강수확률:10%\n",
      "\t날짜:2024-12-15 오전, 날씨:구름많음, 기온:-5~5도, 강수확률:20%\n",
      "\t날짜:2024-12-15 오후, 날씨:구름많음, 기온:-5~5도, 강수확률:20%\n",
      "\t날짜:2024-12-16 오전, 날씨:맑음, 기온:-4~5도, 강수확률:10%\n",
      "\t날짜:2024-12-16 오후, 날씨:맑음, 기온:-4~5도, 강수확률:10%\n",
      "\t날짜:2024-12-17 오전, 날씨:맑음, 기온:-4~6도, 강수확률:10%\n",
      "\t날짜:2024-12-17 오후, 날씨:맑음, 기온:-4~6도, 강수확률:10%\n",
      "\t날짜:2024-12-18 오전, 날씨:맑음, 기온:-4~7도, 강수확률:10%\n",
      "\t날짜:2024-12-19 오전, 날씨:구름많음, 기온:-4~7도, 강수확률:30%\n",
      "\t날짜:2024-12-20 오전, 날씨:구름많음, 기온:-5~7도, 강수확률:30%\n",
      "대구ㆍ경상북도 지역의  포항 도시입니다\n",
      "\t날짜:2024-12-14 오전, 날씨:맑음, 기온:-1~6도, 강수확률:10%\n",
      "\t날짜:2024-12-14 오후, 날씨:맑음, 기온:-1~6도, 강수확률:10%\n",
      "\t날짜:2024-12-15 오전, 날씨:구름많음, 기온:-1~7도, 강수확률:20%\n",
      "\t날짜:2024-12-15 오후, 날씨:구름많음, 기온:-1~7도, 강수확률:20%\n",
      "\t날짜:2024-12-16 오전, 날씨:맑음, 기온:0~7도, 강수확률:10%\n",
      "\t날짜:2024-12-16 오후, 날씨:맑음, 기온:0~7도, 강수확률:10%\n",
      "\t날짜:2024-12-17 오전, 날씨:맑음, 기온:0~8도, 강수확률:10%\n",
      "\t날짜:2024-12-17 오후, 날씨:맑음, 기온:0~8도, 강수확률:10%\n",
      "\t날짜:2024-12-18 오전, 날씨:맑음, 기온:1~9도, 강수확률:10%\n",
      "\t날짜:2024-12-19 오전, 날씨:구름많음, 기온:1~9도, 강수확률:30%\n",
      "\t날짜:2024-12-20 오전, 날씨:구름많음, 기온:1~9도, 강수확률:30%\n",
      "대구ㆍ경상북도 지역의  경주 도시입니다\n",
      "\t날짜:2024-12-14 오전, 날씨:맑음, 기온:-2~5도, 강수확률:10%\n",
      "\t날짜:2024-12-14 오후, 날씨:맑음, 기온:-2~5도, 강수확률:10%\n",
      "\t날짜:2024-12-15 오전, 날씨:구름많음, 기온:-2~6도, 강수확률:20%\n",
      "\t날짜:2024-12-15 오후, 날씨:구름많음, 기온:-2~6도, 강수확률:20%\n",
      "\t날짜:2024-12-16 오전, 날씨:맑음, 기온:-1~6도, 강수확률:10%\n",
      "\t날짜:2024-12-16 오후, 날씨:맑음, 기온:-1~6도, 강수확률:10%\n",
      "\t날짜:2024-12-17 오전, 날씨:맑음, 기온:-2~7도, 강수확률:10%\n",
      "\t날짜:2024-12-17 오후, 날씨:맑음, 기온:-2~7도, 강수확률:10%\n",
      "\t날짜:2024-12-18 오전, 날씨:맑음, 기온:-1~8도, 강수확률:10%\n",
      "\t날짜:2024-12-19 오전, 날씨:구름많음, 기온:-1~8도, 강수확률:30%\n",
      "\t날짜:2024-12-20 오전, 날씨:구름많음, 기온:-2~9도, 강수확률:30%\n",
      "대구ㆍ경상북도 지역의  울진 도시입니다\n",
      "\t날짜:2024-12-14 오전, 날씨:맑음, 기온:-1~8도, 강수확률:10%\n",
      "\t날짜:2024-12-14 오후, 날씨:맑음, 기온:-1~8도, 강수확률:10%\n",
      "\t날짜:2024-12-15 오전, 날씨:구름많음, 기온:-2~7도, 강수확률:20%\n",
      "\t날짜:2024-12-15 오후, 날씨:구름많음, 기온:-2~7도, 강수확률:20%\n",
      "\t날짜:2024-12-16 오전, 날씨:맑음, 기온:-1~8도, 강수확률:10%\n",
      "\t날짜:2024-12-16 오후, 날씨:맑음, 기온:-1~8도, 강수확률:10%\n",
      "\t날짜:2024-12-17 오전, 날씨:맑음, 기온:-1~8도, 강수확률:10%\n",
      "\t날짜:2024-12-17 오후, 날씨:맑음, 기온:-1~8도, 강수확률:10%\n",
      "\t날짜:2024-12-18 오전, 날씨:맑음, 기온:0~8도, 강수확률:10%\n",
      "\t날짜:2024-12-19 오전, 날씨:구름많음, 기온:0~8도, 강수확률:30%\n",
      "\t날짜:2024-12-20 오전, 날씨:구름많음, 기온:1~9도, 강수확률:30%\n",
      "대구ㆍ경상북도 지역의  울릉도 도시입니다\n",
      "\t날짜:2024-12-14 오전, 날씨:맑음, 기온:2~5도, 강수확률:10%\n",
      "\t날짜:2024-12-14 오후, 날씨:맑음, 기온:2~5도, 강수확률:10%\n",
      "\t날짜:2024-12-15 오전, 날씨:구름많음, 기온:2~6도, 강수확률:20%\n",
      "\t날짜:2024-12-15 오후, 날씨:구름많음, 기온:2~6도, 강수확률:20%\n",
      "\t날짜:2024-12-16 오전, 날씨:맑음, 기온:2~6도, 강수확률:10%\n",
      "\t날짜:2024-12-16 오후, 날씨:맑음, 기온:2~6도, 강수확률:10%\n",
      "\t날짜:2024-12-17 오전, 날씨:맑음, 기온:3~7도, 강수확률:10%\n",
      "\t날짜:2024-12-17 오후, 날씨:맑음, 기온:3~7도, 강수확률:10%\n",
      "\t날짜:2024-12-18 오전, 날씨:맑음, 기온:4~7도, 강수확률:10%\n",
      "\t날짜:2024-12-19 오전, 날씨:구름많음, 기온:4~7도, 강수확률:30%\n",
      "\t날짜:2024-12-20 오전, 날씨:구름많음, 기온:5~8도, 강수확률:30%\n",
      "제주도 지역의  제주 도시입니다\n",
      "\t날짜:2024-12-14 오전, 날씨:흐리고 비, 기온:5~9도, 강수확률:80%\n",
      "\t날짜:2024-12-14 오후, 날씨:흐리고 비, 기온:5~9도, 강수확률:70%\n",
      "\t날짜:2024-12-15 오전, 날씨:흐리고 비, 기온:6~10도, 강수확률:80%\n",
      "\t날짜:2024-12-15 오후, 날씨:흐리고 비, 기온:6~10도, 강수확률:60%\n",
      "\t날짜:2024-12-16 오전, 날씨:흐리고 비, 기온:7~10도, 강수확률:60%\n",
      "\t날짜:2024-12-16 오후, 날씨:흐림, 기온:7~10도, 강수확률:40%\n",
      "\t날짜:2024-12-17 오전, 날씨:구름많음, 기온:7~11도, 강수확률:40%\n",
      "\t날짜:2024-12-17 오후, 날씨:구름많음, 기온:7~11도, 강수확률:40%\n",
      "\t날짜:2024-12-18 오전, 날씨:맑음, 기온:6~11도, 강수확률:20%\n",
      "\t날짜:2024-12-19 오전, 날씨:구름많음, 기온:6~11도, 강수확률:30%\n",
      "\t날짜:2024-12-20 오전, 날씨:구름많음, 기온:7~11도, 강수확률:30%\n",
      "제주도 지역의  서귀포 도시입니다\n",
      "\t날짜:2024-12-14 오전, 날씨:흐리고 비, 기온:4~10도, 강수확률:80%\n",
      "\t날짜:2024-12-14 오후, 날씨:흐리고 비, 기온:4~10도, 강수확률:70%\n",
      "\t날짜:2024-12-15 오전, 날씨:흐리고 비, 기온:5~12도, 강수확률:80%\n",
      "\t날짜:2024-12-15 오후, 날씨:흐리고 비, 기온:5~12도, 강수확률:60%\n",
      "\t날짜:2024-12-16 오전, 날씨:흐리고 비, 기온:6~13도, 강수확률:60%\n",
      "\t날짜:2024-12-16 오후, 날씨:흐림, 기온:6~13도, 강수확률:40%\n",
      "\t날짜:2024-12-17 오전, 날씨:구름많음, 기온:6~13도, 강수확률:40%\n",
      "\t날짜:2024-12-17 오후, 날씨:구름많음, 기온:6~13도, 강수확률:40%\n",
      "\t날짜:2024-12-18 오전, 날씨:맑음, 기온:6~13도, 강수확률:20%\n",
      "\t날짜:2024-12-19 오전, 날씨:구름많음, 기온:6~13도, 강수확률:30%\n",
      "\t날짜:2024-12-20 오전, 날씨:구름많음, 기온:7~14도, 강수확률:30%\n"
     ]
    }
   ],
   "source": [
    "import re\n",
    "from urllib.request import urlopen\n",
    "url = 'http://www.kma.go.kr/weather/forecast/mid-term-rss3.jsp?stnId=108'\n",
    "target = urlopen(url)\n",
    "contents = target.read().decode('utf-8')\n",
    "#print(contents)\n",
    "locations = re.findall(r'<location wl_ver=\"3\">.+?</location>', contents, re.DOTALL)\n",
    "# print(locations[0])\n",
    "for loc in locations:\n",
    "    province = re.search(r'<province>(.+)</province>', loc).group(1)\n",
    "    city = re.search(r'<city>(.+)</city>', loc).group(1)\n",
    "    print(province, '지역의 ', city, '도시입니다' )\n",
    "    data = re.findall(r'<data>(.+?)</data>', loc, re.DOTALL)\n",
    "    for item in data :\n",
    "        tmEf = re.search(r'<tmEf>(.+)</tmEf>', item).group(1)[:-6] # 날짜 정보\n",
    "        time = re.search(r'<tmEf>(.+)</tmEf>', item).group(1)[11:13]\n",
    "        ampm = '오전' if time=='00' else '오후'\n",
    "        wf = re.search(r'<wf>(.+)</wf>', item).group(1) # 날씨\n",
    "        tmn = re.search(r'<tmn>(.+)</tmn>', item).group(1) # 최저기온\n",
    "        tmx = re.search(r'<tmx>(.+)</tmx>', item).group(1) # 최고기온\n",
    "        rnSt = re.search(r'<rnSt>(.+)</rnSt>', item).group(1) # 강수확률\n",
    "        print('\\t날짜:{} {}, 날씨:{}, 기온:{}~{}도, 강수확률:{}%'.format(tmEf,ampm,wf,tmn,tmx,rnSt))"
   ]
  },
  {
   "cell_type": "code",
   "execution_count": 134,
   "id": "0ae87134",
   "metadata": {
    "ExecuteTime": {
     "end_time": "2024-12-10T01:56:12.813243Z",
     "start_time": "2024-12-10T01:56:12.699606Z"
    },
    "collapsed": true
   },
   "outputs": [
    {
     "data": {
      "text/html": [
       "<div>\n",
       "<style scoped>\n",
       "    .dataframe tbody tr th:only-of-type {\n",
       "        vertical-align: middle;\n",
       "    }\n",
       "\n",
       "    .dataframe tbody tr th {\n",
       "        vertical-align: top;\n",
       "    }\n",
       "\n",
       "    .dataframe thead th {\n",
       "        text-align: right;\n",
       "    }\n",
       "</style>\n",
       "<table border=\"1\" class=\"dataframe\">\n",
       "  <thead>\n",
       "    <tr style=\"text-align: right;\">\n",
       "      <th></th>\n",
       "      <th>지역</th>\n",
       "      <th>도시</th>\n",
       "      <th>날짜</th>\n",
       "      <th>시간</th>\n",
       "      <th>날씨</th>\n",
       "      <th>최저온도</th>\n",
       "      <th>최고온도</th>\n",
       "      <th>강수확률</th>\n",
       "    </tr>\n",
       "  </thead>\n",
       "  <tbody>\n",
       "    <tr>\n",
       "      <th>0</th>\n",
       "      <td>서울ㆍ인천ㆍ경기도</td>\n",
       "      <td>서울</td>\n",
       "      <td>2024-12-14</td>\n",
       "      <td>오전</td>\n",
       "      <td>맑음</td>\n",
       "      <td>-5</td>\n",
       "      <td>2</td>\n",
       "      <td>10</td>\n",
       "    </tr>\n",
       "    <tr>\n",
       "      <th>1</th>\n",
       "      <td>서울ㆍ인천ㆍ경기도</td>\n",
       "      <td>서울</td>\n",
       "      <td>2024-12-14</td>\n",
       "      <td>오후</td>\n",
       "      <td>맑음</td>\n",
       "      <td>-5</td>\n",
       "      <td>2</td>\n",
       "      <td>10</td>\n",
       "    </tr>\n",
       "    <tr>\n",
       "      <th>2</th>\n",
       "      <td>서울ㆍ인천ㆍ경기도</td>\n",
       "      <td>서울</td>\n",
       "      <td>2024-12-15</td>\n",
       "      <td>오전</td>\n",
       "      <td>맑음</td>\n",
       "      <td>-4</td>\n",
       "      <td>3</td>\n",
       "      <td>10</td>\n",
       "    </tr>\n",
       "    <tr>\n",
       "      <th>3</th>\n",
       "      <td>서울ㆍ인천ㆍ경기도</td>\n",
       "      <td>서울</td>\n",
       "      <td>2024-12-15</td>\n",
       "      <td>오후</td>\n",
       "      <td>맑음</td>\n",
       "      <td>-4</td>\n",
       "      <td>3</td>\n",
       "      <td>10</td>\n",
       "    </tr>\n",
       "    <tr>\n",
       "      <th>4</th>\n",
       "      <td>서울ㆍ인천ㆍ경기도</td>\n",
       "      <td>서울</td>\n",
       "      <td>2024-12-16</td>\n",
       "      <td>오전</td>\n",
       "      <td>맑음</td>\n",
       "      <td>-4</td>\n",
       "      <td>3</td>\n",
       "      <td>10</td>\n",
       "    </tr>\n",
       "    <tr>\n",
       "      <th>...</th>\n",
       "      <td>...</td>\n",
       "      <td>...</td>\n",
       "      <td>...</td>\n",
       "      <td>...</td>\n",
       "      <td>...</td>\n",
       "      <td>...</td>\n",
       "      <td>...</td>\n",
       "      <td>...</td>\n",
       "    </tr>\n",
       "    <tr>\n",
       "      <th>446</th>\n",
       "      <td>제주도</td>\n",
       "      <td>서귀포</td>\n",
       "      <td>2024-12-17</td>\n",
       "      <td>오전</td>\n",
       "      <td>구름많음</td>\n",
       "      <td>6</td>\n",
       "      <td>13</td>\n",
       "      <td>40</td>\n",
       "    </tr>\n",
       "    <tr>\n",
       "      <th>447</th>\n",
       "      <td>제주도</td>\n",
       "      <td>서귀포</td>\n",
       "      <td>2024-12-17</td>\n",
       "      <td>오후</td>\n",
       "      <td>구름많음</td>\n",
       "      <td>6</td>\n",
       "      <td>13</td>\n",
       "      <td>40</td>\n",
       "    </tr>\n",
       "    <tr>\n",
       "      <th>448</th>\n",
       "      <td>제주도</td>\n",
       "      <td>서귀포</td>\n",
       "      <td>2024-12-18</td>\n",
       "      <td>오전</td>\n",
       "      <td>맑음</td>\n",
       "      <td>6</td>\n",
       "      <td>13</td>\n",
       "      <td>20</td>\n",
       "    </tr>\n",
       "    <tr>\n",
       "      <th>449</th>\n",
       "      <td>제주도</td>\n",
       "      <td>서귀포</td>\n",
       "      <td>2024-12-19</td>\n",
       "      <td>오전</td>\n",
       "      <td>구름많음</td>\n",
       "      <td>6</td>\n",
       "      <td>13</td>\n",
       "      <td>30</td>\n",
       "    </tr>\n",
       "    <tr>\n",
       "      <th>450</th>\n",
       "      <td>제주도</td>\n",
       "      <td>서귀포</td>\n",
       "      <td>2024-12-20</td>\n",
       "      <td>오전</td>\n",
       "      <td>구름많음</td>\n",
       "      <td>7</td>\n",
       "      <td>14</td>\n",
       "      <td>30</td>\n",
       "    </tr>\n",
       "  </tbody>\n",
       "</table>\n",
       "<p>451 rows × 8 columns</p>\n",
       "</div>"
      ],
      "text/plain": [
       "            지역   도시          날짜  시간    날씨 최저온도 최고온도 강수확률\n",
       "0    서울ㆍ인천ㆍ경기도   서울  2024-12-14  오전    맑음   -5    2   10\n",
       "1    서울ㆍ인천ㆍ경기도   서울  2024-12-14  오후    맑음   -5    2   10\n",
       "2    서울ㆍ인천ㆍ경기도   서울  2024-12-15  오전    맑음   -4    3   10\n",
       "3    서울ㆍ인천ㆍ경기도   서울  2024-12-15  오후    맑음   -4    3   10\n",
       "4    서울ㆍ인천ㆍ경기도   서울  2024-12-16  오전    맑음   -4    3   10\n",
       "..         ...  ...         ...  ..   ...  ...  ...  ...\n",
       "446        제주도  서귀포  2024-12-17  오전  구름많음    6   13   40\n",
       "447        제주도  서귀포  2024-12-17  오후  구름많음    6   13   40\n",
       "448        제주도  서귀포  2024-12-18  오전    맑음    6   13   20\n",
       "449        제주도  서귀포  2024-12-19  오전  구름많음    6   13   30\n",
       "450        제주도  서귀포  2024-12-20  오전  구름많음    7   14   30\n",
       "\n",
       "[451 rows x 8 columns]"
      ]
     },
     "execution_count": 134,
     "metadata": {},
     "output_type": "execute_result"
    }
   ],
   "source": [
    "import re\n",
    "import requests\n",
    "import pandas as pd\n",
    "url = 'http://www.kma.go.kr/weather/forecast/mid-term-rss3.jsp?stnId=108'\n",
    "target = requests.get(url)\n",
    "contents = target.text\n",
    "#print(contents)\n",
    "locations = re.findall(r'<location wl_ver=\"3\">.+?</location>', contents, re.DOTALL)\n",
    "# print(locations[0])\n",
    "items_list = []\n",
    "for loc in locations:\n",
    "    province = re.search(r'<province>(.+)</province>', loc).group(1)\n",
    "    city = re.search(r'<city>(.+)</city>', loc).group(1)\n",
    "#     print(province, '지역의 ', city, '도시입니다' )\n",
    "    data = re.findall(r'<data>(.+?)</data>', loc, re.DOTALL)\n",
    "    for item in data :\n",
    "        tmEf = re.search(r'<tmEf>(.+)</tmEf>', item).group(1)[:-6] # 날짜 정보\n",
    "        time = re.search(r'<tmEf>(.+)</tmEf>', item).group(1)[11:13]\n",
    "        ampm = '오전' if time=='00' else '오후'\n",
    "        wf = re.search(r'<wf>(.+)</wf>', item).group(1) # 날씨\n",
    "        tmn = re.search(r'<tmn>(.+)</tmn>', item).group(1) # 최저기온\n",
    "        tmx = re.search(r'<tmx>(.+)</tmx>', item).group(1) # 최고기온\n",
    "        rnSt = re.search(r'<rnSt>(.+)</rnSt>', item).group(1) # 강수확률\n",
    "#         print('\\t날짜:{} {}, 날씨:{}, 기온:{}~{}도, 강수확률:{}%'.format(tmEf,ampm,wf,tmn,tmx,rnSt))\n",
    "        items_list.append({\n",
    "            '지역' : province,\n",
    "            '도시' : city,\n",
    "            '날짜' : tmEf,\n",
    "            '시간' : ampm,\n",
    "            '날씨' : wf,\n",
    "            '최저온도' : tmn,\n",
    "            '최고온도' : tmx,\n",
    "            '강수확률' : rnSt\n",
    "        })\n",
    "items_df = pd.DataFrame(items_list)\n",
    "items_df"
   ]
  },
  {
   "cell_type": "code",
   "execution_count": 139,
   "id": "7f6ef477",
   "metadata": {
    "ExecuteTime": {
     "end_time": "2024-12-10T02:01:13.269152Z",
     "start_time": "2024-12-10T02:01:13.260177Z"
    }
   },
   "outputs": [
    {
     "data": {
      "text/plain": [
       "0     2024-12-14\n",
       "1     2024-12-14\n",
       "2     2024-12-15\n",
       "3     2024-12-15\n",
       "4     2024-12-16\n",
       "         ...    \n",
       "446   2024-12-17\n",
       "447   2024-12-17\n",
       "448   2024-12-18\n",
       "449   2024-12-19\n",
       "450   2024-12-20\n",
       "Name: 날짜, Length: 451, dtype: datetime64[ns]"
      ]
     },
     "execution_count": 139,
     "metadata": {},
     "output_type": "execute_result"
    }
   ],
   "source": [
    "\"\"\"\n",
    "데이터 타입 변경\n",
    "    astype(유효성검사가 엄격)\n",
    "    to_numeric, to_datetime (데이터가 불안정하거나 비표준형식일 때 편리)\n",
    "\"\"\"\n",
    "items_df['날짜'].astype('datetime64[ns]')"
   ]
  },
  {
   "cell_type": "code",
   "execution_count": 142,
   "id": "b63b9aea",
   "metadata": {
    "ExecuteTime": {
     "end_time": "2024-12-10T02:01:45.192258Z",
     "start_time": "2024-12-10T02:01:45.179294Z"
    }
   },
   "outputs": [
    {
     "name": "stdout",
     "output_type": "stream",
     "text": [
      "<class 'pandas.core.frame.DataFrame'>\n",
      "RangeIndex: 451 entries, 0 to 450\n",
      "Data columns (total 8 columns):\n",
      " #   Column  Non-Null Count  Dtype         \n",
      "---  ------  --------------  -----         \n",
      " 0   지역      451 non-null    object        \n",
      " 1   도시      451 non-null    object        \n",
      " 2   날짜      451 non-null    datetime64[ns]\n",
      " 3   시간      451 non-null    object        \n",
      " 4   날씨      451 non-null    object        \n",
      " 5   최저온도    451 non-null    object        \n",
      " 6   최고온도    451 non-null    object        \n",
      " 7   강수확률    451 non-null    object        \n",
      "dtypes: datetime64[ns](1), object(7)\n",
      "memory usage: 28.3+ KB\n"
     ]
    }
   ],
   "source": [
    "items_df['날짜'] = pd.to_datetime(items_df['날짜'])\n",
    "items_df.info()"
   ]
  },
  {
   "cell_type": "code",
   "execution_count": 147,
   "id": "2b5968ce",
   "metadata": {
    "ExecuteTime": {
     "end_time": "2024-12-10T02:05:04.453216Z",
     "start_time": "2024-12-10T02:05:04.443373Z"
    }
   },
   "outputs": [
    {
     "name": "stdout",
     "output_type": "stream",
     "text": [
      "<class 'pandas.core.frame.DataFrame'>\n",
      "RangeIndex: 451 entries, 0 to 450\n",
      "Data columns (total 8 columns):\n",
      " #   Column  Non-Null Count  Dtype         \n",
      "---  ------  --------------  -----         \n",
      " 0   지역      451 non-null    object        \n",
      " 1   도시      451 non-null    object        \n",
      " 2   날짜      451 non-null    datetime64[ns]\n",
      " 3   시간      451 non-null    object        \n",
      " 4   날씨      451 non-null    object        \n",
      " 5   최저온도    451 non-null    int32         \n",
      " 6   최고온도    451 non-null    int32         \n",
      " 7   강수확률    451 non-null    int32         \n",
      "dtypes: datetime64[ns](1), int32(3), object(4)\n",
      "memory usage: 23.0+ KB\n"
     ]
    }
   ],
   "source": [
    "items_df['최저온도'] = items_df['최저온도'].astype('int')\n",
    "items_df['최고온도'] = items_df['최고온도'].astype('int')\n",
    "items_df['강수확률'] = pd.to_numeric(items_df['강수확률'])\n",
    "items_df.info()"
   ]
  },
  {
   "cell_type": "markdown",
   "id": "1d281628",
   "metadata": {},
   "source": [
    "### 2) 전국 날씨 RSS를 BeautifulSoup을 이용한 xml크롤링"
   ]
  },
  {
   "cell_type": "code",
   "execution_count": 172,
   "id": "f9912f1c",
   "metadata": {
    "ExecuteTime": {
     "end_time": "2024-12-10T02:42:25.513809Z",
     "start_time": "2024-12-10T02:42:25.108187Z"
    }
   },
   "outputs": [
    {
     "data": {
      "text/html": [
       "<div>\n",
       "<style scoped>\n",
       "    .dataframe tbody tr th:only-of-type {\n",
       "        vertical-align: middle;\n",
       "    }\n",
       "\n",
       "    .dataframe tbody tr th {\n",
       "        vertical-align: top;\n",
       "    }\n",
       "\n",
       "    .dataframe thead th {\n",
       "        text-align: right;\n",
       "    }\n",
       "</style>\n",
       "<table border=\"1\" class=\"dataframe\">\n",
       "  <thead>\n",
       "    <tr style=\"text-align: right;\">\n",
       "      <th></th>\n",
       "      <th>지역</th>\n",
       "      <th>도시</th>\n",
       "      <th>날짜</th>\n",
       "      <th>시간</th>\n",
       "      <th>날씨</th>\n",
       "      <th>최저온도</th>\n",
       "      <th>최고온도</th>\n",
       "      <th>강수확률</th>\n",
       "    </tr>\n",
       "  </thead>\n",
       "  <tbody>\n",
       "    <tr>\n",
       "      <th>0</th>\n",
       "      <td>서울ㆍ인천ㆍ경기도</td>\n",
       "      <td>서울</td>\n",
       "      <td>2024-12-14</td>\n",
       "      <td>오전</td>\n",
       "      <td>맑음</td>\n",
       "      <td>-5</td>\n",
       "      <td>-5</td>\n",
       "      <td>10</td>\n",
       "    </tr>\n",
       "    <tr>\n",
       "      <th>1</th>\n",
       "      <td>서울ㆍ인천ㆍ경기도</td>\n",
       "      <td>서울</td>\n",
       "      <td>2024-12-14</td>\n",
       "      <td>오후</td>\n",
       "      <td>맑음</td>\n",
       "      <td>-5</td>\n",
       "      <td>-5</td>\n",
       "      <td>10</td>\n",
       "    </tr>\n",
       "    <tr>\n",
       "      <th>2</th>\n",
       "      <td>서울ㆍ인천ㆍ경기도</td>\n",
       "      <td>서울</td>\n",
       "      <td>2024-12-15</td>\n",
       "      <td>오전</td>\n",
       "      <td>맑음</td>\n",
       "      <td>-4</td>\n",
       "      <td>-4</td>\n",
       "      <td>10</td>\n",
       "    </tr>\n",
       "    <tr>\n",
       "      <th>3</th>\n",
       "      <td>서울ㆍ인천ㆍ경기도</td>\n",
       "      <td>서울</td>\n",
       "      <td>2024-12-15</td>\n",
       "      <td>오후</td>\n",
       "      <td>맑음</td>\n",
       "      <td>-4</td>\n",
       "      <td>-4</td>\n",
       "      <td>10</td>\n",
       "    </tr>\n",
       "    <tr>\n",
       "      <th>4</th>\n",
       "      <td>서울ㆍ인천ㆍ경기도</td>\n",
       "      <td>서울</td>\n",
       "      <td>2024-12-16</td>\n",
       "      <td>오전</td>\n",
       "      <td>맑음</td>\n",
       "      <td>-4</td>\n",
       "      <td>-4</td>\n",
       "      <td>10</td>\n",
       "    </tr>\n",
       "  </tbody>\n",
       "</table>\n",
       "</div>"
      ],
      "text/plain": [
       "          지역  도시         날짜  시간  날씨  최저온도  최고온도  강수확률\n",
       "0  서울ㆍ인천ㆍ경기도  서울 2024-12-14  오전  맑음    -5    -5    10\n",
       "1  서울ㆍ인천ㆍ경기도  서울 2024-12-14  오후  맑음    -5    -5    10\n",
       "2  서울ㆍ인천ㆍ경기도  서울 2024-12-15  오전  맑음    -4    -4    10\n",
       "3  서울ㆍ인천ㆍ경기도  서울 2024-12-15  오후  맑음    -4    -4    10\n",
       "4  서울ㆍ인천ㆍ경기도  서울 2024-12-16  오전  맑음    -4    -4    10"
      ]
     },
     "execution_count": 172,
     "metadata": {},
     "output_type": "execute_result"
    }
   ],
   "source": [
    "from bs4 import BeautifulSoup\n",
    "import requests\n",
    "import pandas as pd\n",
    "import numpy as np\n",
    "items_list = []\n",
    "url = 'http://www.kma.go.kr/weather/forecast/mid-term-rss3.jsp?stnId=108'\n",
    "target = requests.get(url)\n",
    "# print(target)\n",
    "soup = BeautifulSoup(target.text, \"xml\") # pip install lxml\n",
    "locations = soup.select('location')\n",
    "for loc in locations:\n",
    "    province = loc.select_one('province').text\n",
    "    city = loc.select_one('city').text\n",
    "    data = loc.select('data')\n",
    "    for item in data:\n",
    "        tmEf = item.select_one('tmEf').text[:-6]\n",
    "        ampm = '오전' if item.select_one('tmEf').text[-5]=='0' else '오후'\n",
    "        wf = item.select_one('wf').text\n",
    "        tmn = item.select_one('tmn').text\n",
    "        tmx = item.select_one('tmn').text\n",
    "        rnSt = item.select_one('rnSt').text\n",
    "#         print(province, city, tmEf, ampm, wf, tmn, tmx, rnSt)\n",
    "        items_list.append({\n",
    "            '지역' : province,\n",
    "            '도시' : city,\n",
    "            '날짜' : tmEf,\n",
    "            '시간' : ampm,\n",
    "            '날씨' : wf,\n",
    "            '최저온도' : tmn,\n",
    "            '최고온도' : tmx,\n",
    "            '강수확률' : rnSt\n",
    "        })\n",
    "df = pd.DataFrame(items_list)\n",
    "df['강수확률'] = df['강수확률'].astype(np.int16)\n",
    "df['최고온도'] = df['최고온도'].astype(np.int16)\n",
    "df['최저온도'] = df['최저온도'].astype(np.int16)\n",
    "df['날짜'] = df['날짜'].astype('datetime64[ns]')\n",
    "df.head()"
   ]
  },
  {
   "cell_type": "markdown",
   "id": "739360c1",
   "metadata": {},
   "source": [
    "### 3) xml 응답하는 Open API 활용\n",
    "- data.go.kr에서\n",
    "    * 서울특별시_노선정보조회 서비스 활용 신청(버스 ID, 버스 정류장 목록)\n",
    "    * 버스 위치 정보 조회 서비스 활용 신청 (실시간 버스 위치 목록)"
   ]
  },
  {
   "cell_type": "code",
   "execution_count": 228,
   "id": "7548493d",
   "metadata": {
    "ExecuteTime": {
     "end_time": "2024-12-10T05:23:27.503100Z",
     "start_time": "2024-12-10T05:23:27.457099Z"
    }
   },
   "outputs": [
    {
     "name": "stdout",
     "output_type": "stream",
     "text": [
      "http://ws.bus.go.kr/api/rest/busRouteInfo/getBusRouteList?ServiceKey=kWiLqR5an3qgHfkycjPmjxAie5mGGzW0LuPktrSNA3kqpsmWfsLSW9TxR9k0khrZgJLecVcO88n5LsStz845eg%3D%3D&strSrch=162\n",
      "100100034\n"
     ]
    }
   ],
   "source": [
    "# step1. 버스 번호의 버스 id 받아오기\n",
    "# 서울특별시_노선정보조회 서비스 - 4번기능(getBusRouteList) 이용\n",
    "from bs4 import BeautifulSoup\n",
    "from urllib.request import urlretrieve\n",
    "import requests\n",
    "service_key = 'kWiLqR5an3qgHfkycjPmjxAie5mGGzW0LuPktrSNA3kqpsmWfsLSW9TxR9k0khrZgJLecVcO88n5LsStz845eg%3D%3D'\n",
    "busnum = '162'\n",
    "url1 = f'http://ws.bus.go.kr/api/rest/busRouteInfo/getBusRouteList?ServiceKey={service_key}&strSrch={busnum}'\n",
    "print(url1)\n",
    "params = {'ServiceKey' : service_key, 'strSrch':busnum}\n",
    "# response = requests.get(url1)\n",
    "# soup = BeautifulSoup(response.text, 'xml')\n",
    "savefilename1 = 'data/ch14_1busInfo.xml'\n",
    "urlretrieve(url1, savefilename1)\n",
    "xml = open(savefilename1, 'r', encoding='utf-8').read()\n",
    "soup = BeautifulSoup(xml, 'xml')\n",
    "for itemList in soup.select('itemList'):\n",
    "    busRouteNm = itemList.select_one('busRouteNm').text\n",
    "    if busRouteNm == busnum:\n",
    "        busRouteId = itemList.select_one('busRouteId').text\n",
    "        print(busRouteId)\n",
    "        break"
   ]
  },
  {
   "cell_type": "code",
   "execution_count": 221,
   "id": "6b22bdde",
   "metadata": {
    "ExecuteTime": {
     "end_time": "2024-12-10T05:10:42.704378Z",
     "start_time": "2024-12-10T05:10:42.700360Z"
    }
   },
   "outputs": [],
   "source": [
    "# step2. 해당 버스 id의 버스 정류장 목록 받아오기"
   ]
  },
  {
   "cell_type": "code",
   "execution_count": 234,
   "id": "045b304d",
   "metadata": {
    "ExecuteTime": {
     "end_time": "2024-12-10T05:28:38.424933Z",
     "start_time": "2024-12-10T05:28:38.236455Z"
    }
   },
   "outputs": [
    {
     "name": "stdout",
     "output_type": "stream",
     "text": [
      "http://ws.bus.go.kr/api/rest/busRouteInfo/getStaionByRoute?ServiceKey=kWiLqR5an3qgHfkycjPmjxAie5mGGzW0LuPktrSNA3kqpsmWfsLSW9TxR9k0khrZgJLecVcO88n5LsStz845eg%3D%3D&busRouteId=100100034\n"
     ]
    },
    {
     "data": {
      "text/html": [
       "<div>\n",
       "<style scoped>\n",
       "    .dataframe tbody tr th:only-of-type {\n",
       "        vertical-align: middle;\n",
       "    }\n",
       "\n",
       "    .dataframe tbody tr th {\n",
       "        vertical-align: top;\n",
       "    }\n",
       "\n",
       "    .dataframe thead th {\n",
       "        text-align: right;\n",
       "    }\n",
       "</style>\n",
       "<table border=\"1\" class=\"dataframe\">\n",
       "  <thead>\n",
       "    <tr style=\"text-align: right;\">\n",
       "      <th></th>\n",
       "      <th>정류장이름</th>\n",
       "      <th>정류장ID</th>\n",
       "      <th>경도</th>\n",
       "      <th>위도</th>\n",
       "    </tr>\n",
       "  </thead>\n",
       "  <tbody>\n",
       "    <tr>\n",
       "      <th>0</th>\n",
       "      <td>정릉산장아파트</td>\n",
       "      <td>107000071</td>\n",
       "      <td>127.003343</td>\n",
       "      <td>37.616712</td>\n",
       "    </tr>\n",
       "    <tr>\n",
       "      <th>1</th>\n",
       "      <td>정릉4동주민센터.경국사</td>\n",
       "      <td>107000073</td>\n",
       "      <td>127.006345</td>\n",
       "      <td>37.613529</td>\n",
       "    </tr>\n",
       "    <tr>\n",
       "      <th>2</th>\n",
       "      <td>북한산보국문역2번출구</td>\n",
       "      <td>107000518</td>\n",
       "      <td>127.0079858233</td>\n",
       "      <td>37.612293899</td>\n",
       "    </tr>\n",
       "    <tr>\n",
       "      <th>3</th>\n",
       "      <td>성북청수도서관.정릉4동성당</td>\n",
       "      <td>107000075</td>\n",
       "      <td>127.0084193769</td>\n",
       "      <td>37.6115696748</td>\n",
       "    </tr>\n",
       "    <tr>\n",
       "      <th>4</th>\n",
       "      <td>정릉시장입구</td>\n",
       "      <td>107000077</td>\n",
       "      <td>127.0098212542</td>\n",
       "      <td>37.6084653256</td>\n",
       "    </tr>\n",
       "  </tbody>\n",
       "</table>\n",
       "</div>"
      ],
      "text/plain": [
       "            정류장이름      정류장ID              경도             위도\n",
       "0         정릉산장아파트  107000071      127.003343      37.616712\n",
       "1    정릉4동주민센터.경국사  107000073      127.006345      37.613529\n",
       "2     북한산보국문역2번출구  107000518  127.0079858233   37.612293899\n",
       "3  성북청수도서관.정릉4동성당  107000075  127.0084193769  37.6115696748\n",
       "4          정릉시장입구  107000077  127.0098212542  37.6084653256"
      ]
     },
     "execution_count": 234,
     "metadata": {},
     "output_type": "execute_result"
    }
   ],
   "source": [
    "import pandas as pd\n",
    "url2 = f'http://ws.bus.go.kr/api/rest/busRouteInfo/getStaionByRoute?ServiceKey={service_key}&busRouteId={busRouteId}'\n",
    "print(url2)\n",
    "savefilename2 = 'data/ch14_2busStation.xml'\n",
    "urlretrieve(url2, savefilename2)\n",
    "response = requests.get(url2)\n",
    "soup = BeautifulSoup(response.text, 'xml')\n",
    "bus_station_list = []\n",
    "for itemList in soup.select('itemList'):\n",
    "    station = itemList.select_one('station').text\n",
    "    stationNm = itemList.select_one('stationNm').text\n",
    "    gpsX = itemList.select_one('gpsX').text\n",
    "    gpsY = itemList.select_one('gpsY').text\n",
    "#     print('{} : {}'.format(stationNm, station))\n",
    "    bus_station_list.append({\n",
    "        '정류장이름' : stationNm,\n",
    "        '정류장ID' : station,\n",
    "        '경도' : gpsX,\n",
    "        '위도' : gpsY,\n",
    "    })\n",
    "bus_station_df = pd.DataFrame(bus_station_list)\n",
    "bus_station_df.head()"
   ]
  },
  {
   "cell_type": "code",
   "execution_count": 301,
   "id": "2c7b4618",
   "metadata": {
    "ExecuteTime": {
     "end_time": "2024-12-10T06:21:51.065092Z",
     "start_time": "2024-12-10T06:21:50.901612Z"
    }
   },
   "outputs": [
    {
     "name": "stdout",
     "output_type": "stream",
     "text": [
      "162번 버스 운행 중인 버스는 22대입니다\n"
     ]
    },
    {
     "data": {
      "text/html": [
       "<div>\n",
       "<style scoped>\n",
       "    .dataframe tbody tr th:only-of-type {\n",
       "        vertical-align: middle;\n",
       "    }\n",
       "\n",
       "    .dataframe tbody tr th {\n",
       "        vertical-align: top;\n",
       "    }\n",
       "\n",
       "    .dataframe thead th {\n",
       "        text-align: right;\n",
       "    }\n",
       "</style>\n",
       "<table border=\"1\" class=\"dataframe\">\n",
       "  <thead>\n",
       "    <tr style=\"text-align: right;\">\n",
       "      <th></th>\n",
       "      <th>차량번호</th>\n",
       "      <th>혼잡도</th>\n",
       "      <th>경도</th>\n",
       "      <th>위도</th>\n",
       "      <th>최종정류소ID</th>\n",
       "      <th>다음정류소ID</th>\n",
       "      <th>도착소요시간</th>\n",
       "      <th>최종정류소명</th>\n",
       "      <th>다음정류소명</th>\n",
       "    </tr>\n",
       "  </thead>\n",
       "  <tbody>\n",
       "    <tr>\n",
       "      <th>0</th>\n",
       "      <td>서울74사1638</td>\n",
       "      <td>매우혼잡</td>\n",
       "      <td>127.002821</td>\n",
       "      <td>37.616929</td>\n",
       "      <td>107000071</td>\n",
       "      <td>107000079</td>\n",
       "      <td>9550</td>\n",
       "      <td>정릉산장아파트</td>\n",
       "      <td>정릉우체국앞</td>\n",
       "    </tr>\n",
       "    <tr>\n",
       "      <th>1</th>\n",
       "      <td>서울74사1536</td>\n",
       "      <td>여유</td>\n",
       "      <td>127.011436</td>\n",
       "      <td>37.60522</td>\n",
       "      <td>107000079</td>\n",
       "      <td>107000168</td>\n",
       "      <td>9126</td>\n",
       "      <td>정릉우체국앞</td>\n",
       "      <td>정릉입구.정릉역</td>\n",
       "    </tr>\n",
       "    <tr>\n",
       "      <th>2</th>\n",
       "      <td>서울74사2244</td>\n",
       "      <td>여유</td>\n",
       "      <td>127.013814</td>\n",
       "      <td>37.59217</td>\n",
       "      <td>107000174</td>\n",
       "      <td>101000042</td>\n",
       "      <td>8874</td>\n",
       "      <td>성신여대입구역</td>\n",
       "      <td>해운센터.롯데영플라자</td>\n",
       "    </tr>\n",
       "    <tr>\n",
       "      <th>3</th>\n",
       "      <td>서울74사3381</td>\n",
       "      <td>여유</td>\n",
       "      <td>126.996879</td>\n",
       "      <td>37.577653</td>\n",
       "      <td>100000002</td>\n",
       "      <td>101000042</td>\n",
       "      <td>8077</td>\n",
       "      <td>창경궁.서울대학교병원</td>\n",
       "      <td>해운센터.롯데영플라자</td>\n",
       "    </tr>\n",
       "    <tr>\n",
       "      <th>4</th>\n",
       "      <td>서울74사3030</td>\n",
       "      <td>여유</td>\n",
       "      <td>126.982784</td>\n",
       "      <td>37.574697</td>\n",
       "      <td>100000107</td>\n",
       "      <td>101000042</td>\n",
       "      <td>7514</td>\n",
       "      <td>안국동</td>\n",
       "      <td>해운센터.롯데영플라자</td>\n",
       "    </tr>\n",
       "    <tr>\n",
       "      <th>5</th>\n",
       "      <td>서울74사2201</td>\n",
       "      <td>여유</td>\n",
       "      <td>126.982588</td>\n",
       "      <td>37.566776</td>\n",
       "      <td>101000141</td>\n",
       "      <td>101000042</td>\n",
       "      <td>7231</td>\n",
       "      <td>을지로입구역.광교</td>\n",
       "      <td>해운센터.롯데영플라자</td>\n",
       "    </tr>\n",
       "    <tr>\n",
       "      <th>6</th>\n",
       "      <td>서울74사1967</td>\n",
       "      <td>여유</td>\n",
       "      <td>126.981237</td>\n",
       "      <td>37.561839</td>\n",
       "      <td>101000042</td>\n",
       "      <td>102000018</td>\n",
       "      <td>7235</td>\n",
       "      <td>해운센터.롯데영플라자</td>\n",
       "      <td>남영역</td>\n",
       "    </tr>\n",
       "    <tr>\n",
       "      <th>7</th>\n",
       "      <td>서울70사6556</td>\n",
       "      <td>여유</td>\n",
       "      <td>126.971689</td>\n",
       "      <td>37.549417</td>\n",
       "      <td>102000012</td>\n",
       "      <td>102000018</td>\n",
       "      <td>6404</td>\n",
       "      <td>갈월동</td>\n",
       "      <td>남영역</td>\n",
       "    </tr>\n",
       "    <tr>\n",
       "      <th>8</th>\n",
       "      <td>서울74사3008</td>\n",
       "      <td>보통</td>\n",
       "      <td>126.97169</td>\n",
       "      <td>37.548077</td>\n",
       "      <td>102000012</td>\n",
       "      <td>102000018</td>\n",
       "      <td>6628</td>\n",
       "      <td>갈월동</td>\n",
       "      <td>남영역</td>\n",
       "    </tr>\n",
       "    <tr>\n",
       "      <th>9</th>\n",
       "      <td>서울74사1537</td>\n",
       "      <td>여유</td>\n",
       "      <td>126.930784</td>\n",
       "      <td>37.518587</td>\n",
       "      <td>118000065</td>\n",
       "      <td>118000070</td>\n",
       "      <td>5370</td>\n",
       "      <td>KBS별관</td>\n",
       "      <td>여의도역6번출구</td>\n",
       "    </tr>\n",
       "    <tr>\n",
       "      <th>10</th>\n",
       "      <td>서울74사3372</td>\n",
       "      <td>여유</td>\n",
       "      <td>126.923849</td>\n",
       "      <td>37.521709</td>\n",
       "      <td>118000076</td>\n",
       "      <td>118000070</td>\n",
       "      <td>4870</td>\n",
       "      <td>한국경제인협회</td>\n",
       "      <td>여의도역6번출구</td>\n",
       "    </tr>\n",
       "    <tr>\n",
       "      <th>11</th>\n",
       "      <td>서울75사2805</td>\n",
       "      <td>여유</td>\n",
       "      <td>126.936021</td>\n",
       "      <td>37.521752</td>\n",
       "      <td>118000060</td>\n",
       "      <td>102000053</td>\n",
       "      <td>4117</td>\n",
       "      <td>시범아파트</td>\n",
       "      <td>원효로3가</td>\n",
       "    </tr>\n",
       "    <tr>\n",
       "      <th>12</th>\n",
       "      <td>서울70사6557</td>\n",
       "      <td>여유</td>\n",
       "      <td>126.966061</td>\n",
       "      <td>37.537802</td>\n",
       "      <td>102000048</td>\n",
       "      <td>102000019</td>\n",
       "      <td>3929</td>\n",
       "      <td>용산e편한세상</td>\n",
       "      <td>남영역</td>\n",
       "    </tr>\n",
       "    <tr>\n",
       "      <th>13</th>\n",
       "      <td>서울74사1604</td>\n",
       "      <td>여유</td>\n",
       "      <td>126.972325</td>\n",
       "      <td>37.541971</td>\n",
       "      <td>102000019</td>\n",
       "      <td>101000007</td>\n",
       "      <td>3348</td>\n",
       "      <td>남영역</td>\n",
       "      <td>서울역버스환승센터.강우규의거터</td>\n",
       "    </tr>\n",
       "    <tr>\n",
       "      <th>14</th>\n",
       "      <td>서울74사3366</td>\n",
       "      <td>여유</td>\n",
       "      <td>126.978651</td>\n",
       "      <td>37.561095</td>\n",
       "      <td>101000114</td>\n",
       "      <td>101000043</td>\n",
       "      <td>2693</td>\n",
       "      <td>남대문시장앞.이회영활동터</td>\n",
       "      <td>롯데영프라자</td>\n",
       "    </tr>\n",
       "    <tr>\n",
       "      <th>15</th>\n",
       "      <td>서울70사6549</td>\n",
       "      <td>여유</td>\n",
       "      <td>126.982866</td>\n",
       "      <td>37.567839</td>\n",
       "      <td>101000040</td>\n",
       "      <td>100000124</td>\n",
       "      <td>2517</td>\n",
       "      <td>우리은행종로지점</td>\n",
       "      <td>혜화역2번출구.마로니에공원</td>\n",
       "    </tr>\n",
       "    <tr>\n",
       "      <th>16</th>\n",
       "      <td>서울74사2296</td>\n",
       "      <td>여유</td>\n",
       "      <td>126.991233</td>\n",
       "      <td>37.577431</td>\n",
       "      <td>100000414</td>\n",
       "      <td>100000124</td>\n",
       "      <td>1716</td>\n",
       "      <td>창덕궁.돈화문국악당</td>\n",
       "      <td>혜화역2번출구.마로니에공원</td>\n",
       "    </tr>\n",
       "    <tr>\n",
       "      <th>17</th>\n",
       "      <td>서울74사2220</td>\n",
       "      <td>여유</td>\n",
       "      <td>126.997034</td>\n",
       "      <td>37.575886</td>\n",
       "      <td>100000414</td>\n",
       "      <td>100000124</td>\n",
       "      <td>1919</td>\n",
       "      <td>창덕궁.돈화문국악당</td>\n",
       "      <td>혜화역2번출구.마로니에공원</td>\n",
       "    </tr>\n",
       "    <tr>\n",
       "      <th>18</th>\n",
       "      <td>서울74사8118</td>\n",
       "      <td>여유</td>\n",
       "      <td>127.001505</td>\n",
       "      <td>37.584509</td>\n",
       "      <td>100000133</td>\n",
       "      <td>107000171</td>\n",
       "      <td>1228</td>\n",
       "      <td>혜화역.동성중고(장면총리가옥)</td>\n",
       "      <td>아리랑고개.아리랑시네미디어센터</td>\n",
       "    </tr>\n",
       "    <tr>\n",
       "      <th>19</th>\n",
       "      <td>서울70사6554</td>\n",
       "      <td>여유</td>\n",
       "      <td>127.011164</td>\n",
       "      <td>37.590659</td>\n",
       "      <td>107000010</td>\n",
       "      <td>107000171</td>\n",
       "      <td>1212</td>\n",
       "      <td>삼선교.한성대학교.조소앙활동터</td>\n",
       "      <td>아리랑고개.아리랑시네미디어센터</td>\n",
       "    </tr>\n",
       "    <tr>\n",
       "      <th>20</th>\n",
       "      <td>서울70사6553</td>\n",
       "      <td>여유</td>\n",
       "      <td>127.016397</td>\n",
       "      <td>37.593216</td>\n",
       "      <td>107000010</td>\n",
       "      <td>107000171</td>\n",
       "      <td>1204</td>\n",
       "      <td>삼선교.한성대학교.조소앙활동터</td>\n",
       "      <td>아리랑고개.아리랑시네미디어센터</td>\n",
       "    </tr>\n",
       "    <tr>\n",
       "      <th>21</th>\n",
       "      <td>서울70사6560</td>\n",
       "      <td>여유</td>\n",
       "      <td>127.00622</td>\n",
       "      <td>37.614018</td>\n",
       "      <td>107000074</td>\n",
       "      <td>107000169</td>\n",
       "      <td>173</td>\n",
       "      <td>정릉4동주민센터.경국사</td>\n",
       "      <td>정릉입구.정릉역</td>\n",
       "    </tr>\n",
       "  </tbody>\n",
       "</table>\n",
       "</div>"
      ],
      "text/plain": [
       "         차량번호   혼잡도          경도         위도    최종정류소ID    다음정류소ID 도착소요시간  \\\n",
       "0   서울74사1638  매우혼잡  127.002821  37.616929  107000071  107000079   9550   \n",
       "1   서울74사1536    여유  127.011436   37.60522  107000079  107000168   9126   \n",
       "2   서울74사2244    여유  127.013814   37.59217  107000174  101000042   8874   \n",
       "3   서울74사3381    여유  126.996879  37.577653  100000002  101000042   8077   \n",
       "4   서울74사3030    여유  126.982784  37.574697  100000107  101000042   7514   \n",
       "5   서울74사2201    여유  126.982588  37.566776  101000141  101000042   7231   \n",
       "6   서울74사1967    여유  126.981237  37.561839  101000042  102000018   7235   \n",
       "7   서울70사6556    여유  126.971689  37.549417  102000012  102000018   6404   \n",
       "8   서울74사3008    보통   126.97169  37.548077  102000012  102000018   6628   \n",
       "9   서울74사1537    여유  126.930784  37.518587  118000065  118000070   5370   \n",
       "10  서울74사3372    여유  126.923849  37.521709  118000076  118000070   4870   \n",
       "11  서울75사2805    여유  126.936021  37.521752  118000060  102000053   4117   \n",
       "12  서울70사6557    여유  126.966061  37.537802  102000048  102000019   3929   \n",
       "13  서울74사1604    여유  126.972325  37.541971  102000019  101000007   3348   \n",
       "14  서울74사3366    여유  126.978651  37.561095  101000114  101000043   2693   \n",
       "15  서울70사6549    여유  126.982866  37.567839  101000040  100000124   2517   \n",
       "16  서울74사2296    여유  126.991233  37.577431  100000414  100000124   1716   \n",
       "17  서울74사2220    여유  126.997034  37.575886  100000414  100000124   1919   \n",
       "18  서울74사8118    여유  127.001505  37.584509  100000133  107000171   1228   \n",
       "19  서울70사6554    여유  127.011164  37.590659  107000010  107000171   1212   \n",
       "20  서울70사6553    여유  127.016397  37.593216  107000010  107000171   1204   \n",
       "21  서울70사6560    여유   127.00622  37.614018  107000074  107000169    173   \n",
       "\n",
       "              최종정류소명            다음정류소명  \n",
       "0            정릉산장아파트            정릉우체국앞  \n",
       "1             정릉우체국앞          정릉입구.정릉역  \n",
       "2            성신여대입구역       해운센터.롯데영플라자  \n",
       "3        창경궁.서울대학교병원       해운센터.롯데영플라자  \n",
       "4                안국동       해운센터.롯데영플라자  \n",
       "5          을지로입구역.광교       해운센터.롯데영플라자  \n",
       "6        해운센터.롯데영플라자               남영역  \n",
       "7                갈월동               남영역  \n",
       "8                갈월동               남영역  \n",
       "9              KBS별관          여의도역6번출구  \n",
       "10           한국경제인협회          여의도역6번출구  \n",
       "11             시범아파트             원효로3가  \n",
       "12           용산e편한세상               남영역  \n",
       "13               남영역  서울역버스환승센터.강우규의거터  \n",
       "14     남대문시장앞.이회영활동터            롯데영프라자  \n",
       "15          우리은행종로지점    혜화역2번출구.마로니에공원  \n",
       "16        창덕궁.돈화문국악당    혜화역2번출구.마로니에공원  \n",
       "17        창덕궁.돈화문국악당    혜화역2번출구.마로니에공원  \n",
       "18  혜화역.동성중고(장면총리가옥)  아리랑고개.아리랑시네미디어센터  \n",
       "19  삼선교.한성대학교.조소앙활동터  아리랑고개.아리랑시네미디어센터  \n",
       "20  삼선교.한성대학교.조소앙활동터  아리랑고개.아리랑시네미디어센터  \n",
       "21      정릉4동주민센터.경국사          정릉입구.정릉역  "
      ]
     },
     "execution_count": 301,
     "metadata": {},
     "output_type": "execute_result"
    }
   ],
   "source": [
    "# step3. 해당 버스 id의 실시간 버스 위치 정보\n",
    "url3 = f'http://ws.bus.go.kr/api/rest/buspos/getBusPosByRtid?ServiceKey={service_key}&busRouteId={busRouteId}'\n",
    "savefilename3 = 'data/ch14_3busPosition.xml'\n",
    "response = requests.get(url3)\n",
    "urlretrieve(url3, savefilename3)\n",
    "xml = open(savefilename3, 'r', encoding='utf-8')\n",
    "soup = BeautifulSoup(xml, 'xml')\n",
    "bus_position = []\n",
    "\n",
    "for itemList in soup.select('itemList'):\n",
    "    plainNo = itemList.select_one('plainNo').text\n",
    "    congetion = itemList.select_one('congetion').text\n",
    "    congetion = '여유' if congetion=='3' \\\n",
    "                    else '보통' if congetion=='4' \\\n",
    "                    else '혼잡' if congetion=='5' \\\n",
    "                    else '매우혼잡'\n",
    "    gpsX = itemList.select_one('gpsX').text\n",
    "    gpsY = itemList.find('gpsY').text\n",
    "    lastStnId = itemList.find('lastStnId').text\n",
    "    nextStId = itemList.find('nextStId').text\n",
    "    nextStTm = itemList.find('lastStTm').text\n",
    "    bus_position.append({\n",
    "        '차량번호':plainNo,\n",
    "        '혼잡도':congetion,\n",
    "        '경도':gpsX,\n",
    "        '위도':gpsY,\n",
    "        '최종정류소ID':lastStnId,\n",
    "        '다음정류소ID':nextStId,\n",
    "        '도착소요시간':nextStTm\n",
    "    })\n",
    "df_pos = pd.DataFrame(bus_position)\n",
    "print(f'{busnum}번 버스 운행 중인 버스는 {len(df_pos)}대입니다')\n",
    "df_pos = df_pos.apply(station_name, axis=1)\n",
    "df_pos"
   ]
  },
  {
   "cell_type": "code",
   "execution_count": 295,
   "id": "c1f92a70",
   "metadata": {
    "ExecuteTime": {
     "end_time": "2024-12-10T06:14:56.398727Z",
     "start_time": "2024-12-10T06:14:56.392742Z"
    }
   },
   "outputs": [
    {
     "data": {
      "text/plain": [
       "'아리랑고개.아리랑시네미디어센터'"
      ]
     },
     "execution_count": 295,
     "metadata": {},
     "output_type": "execute_result"
    }
   ],
   "source": [
    "bus_station_df.loc['107000170'==bus_station_df['정류장ID'], '정류장이름'].iloc[0]"
   ]
  },
  {
   "cell_type": "code",
   "execution_count": 296,
   "id": "f33dbb38",
   "metadata": {
    "ExecuteTime": {
     "end_time": "2024-12-10T06:15:06.653322Z",
     "start_time": "2024-12-10T06:15:06.647839Z"
    }
   },
   "outputs": [],
   "source": [
    "def station_name(row):\n",
    "#     last_station_name = bus_station_df.loc[row['최종정류소ID']==bus_station_df['정류장ID'], '정류장이름']\n",
    "    row['최종정류소명'] = bus_station_df.loc[row['최종정류소ID']==bus_station_df['정류장ID'], '정류장이름'].iloc[0]\n",
    "    row['다음정류소명'] = bus_station_df.loc[row['다음정류소ID']==bus_station_df['정류장ID'], '정류장이름'].iloc[0]\n",
    "    return row"
   ]
  },
  {
   "cell_type": "code",
   "execution_count": 298,
   "id": "5209f042",
   "metadata": {
    "ExecuteTime": {
     "end_time": "2024-12-10T06:15:10.932557Z",
     "start_time": "2024-12-10T06:15:10.924580Z"
    }
   },
   "outputs": [
    {
     "data": {
      "text/plain": [
       "차량번호         서울74사1618\n",
       "혼잡도                 여유\n",
       "경도          126.981237\n",
       "위도           37.561839\n",
       "최종정류소ID      101000042\n",
       "다음정류소ID      102000018\n",
       "도착소요시간            7295\n",
       "최종정류소명     해운센터.롯데영플라자\n",
       "다음정류소명             남영역\n",
       "Name: 6, dtype: object"
      ]
     },
     "execution_count": 298,
     "metadata": {},
     "output_type": "execute_result"
    }
   ],
   "source": [
    "station_name(df_pos.iloc[6])"
   ]
  },
  {
   "cell_type": "code",
   "execution_count": 263,
   "id": "f936d64e",
   "metadata": {
    "ExecuteTime": {
     "end_time": "2024-12-10T05:54:42.438988Z",
     "start_time": "2024-12-10T05:54:42.428019Z"
    }
   },
   "outputs": [
    {
     "data": {
      "text/html": [
       "<div>\n",
       "<style scoped>\n",
       "    .dataframe tbody tr th:only-of-type {\n",
       "        vertical-align: middle;\n",
       "    }\n",
       "\n",
       "    .dataframe tbody tr th {\n",
       "        vertical-align: top;\n",
       "    }\n",
       "\n",
       "    .dataframe thead th {\n",
       "        text-align: right;\n",
       "    }\n",
       "</style>\n",
       "<table border=\"1\" class=\"dataframe\">\n",
       "  <thead>\n",
       "    <tr style=\"text-align: right;\">\n",
       "      <th></th>\n",
       "      <th>정류장이름</th>\n",
       "      <th>정류장ID</th>\n",
       "      <th>경도</th>\n",
       "      <th>위도</th>\n",
       "    </tr>\n",
       "  </thead>\n",
       "  <tbody>\n",
       "    <tr>\n",
       "      <th>0</th>\n",
       "      <td>정릉산장아파트</td>\n",
       "      <td>107000071</td>\n",
       "      <td>127.003343</td>\n",
       "      <td>37.616712</td>\n",
       "    </tr>\n",
       "    <tr>\n",
       "      <th>1</th>\n",
       "      <td>정릉4동주민센터.경국사</td>\n",
       "      <td>107000073</td>\n",
       "      <td>127.006345</td>\n",
       "      <td>37.613529</td>\n",
       "    </tr>\n",
       "    <tr>\n",
       "      <th>2</th>\n",
       "      <td>북한산보국문역2번출구</td>\n",
       "      <td>107000518</td>\n",
       "      <td>127.0079858233</td>\n",
       "      <td>37.612293899</td>\n",
       "    </tr>\n",
       "    <tr>\n",
       "      <th>3</th>\n",
       "      <td>성북청수도서관.정릉4동성당</td>\n",
       "      <td>107000075</td>\n",
       "      <td>127.0084193769</td>\n",
       "      <td>37.6115696748</td>\n",
       "    </tr>\n",
       "    <tr>\n",
       "      <th>4</th>\n",
       "      <td>정릉시장입구</td>\n",
       "      <td>107000077</td>\n",
       "      <td>127.0098212542</td>\n",
       "      <td>37.6084653256</td>\n",
       "    </tr>\n",
       "    <tr>\n",
       "      <th>...</th>\n",
       "      <td>...</td>\n",
       "      <td>...</td>\n",
       "      <td>...</td>\n",
       "      <td>...</td>\n",
       "    </tr>\n",
       "    <tr>\n",
       "      <th>72</th>\n",
       "      <td>성북청수도서관.정릉4동성당</td>\n",
       "      <td>107000076</td>\n",
       "      <td>127.009045</td>\n",
       "      <td>37.610876</td>\n",
       "    </tr>\n",
       "    <tr>\n",
       "      <th>73</th>\n",
       "      <td>북한산보국문역1번출구</td>\n",
       "      <td>107000519</td>\n",
       "      <td>127.008329146</td>\n",
       "      <td>37.6120835499</td>\n",
       "    </tr>\n",
       "    <tr>\n",
       "      <th>74</th>\n",
       "      <td>정릉4동주민센터.경국사</td>\n",
       "      <td>107000074</td>\n",
       "      <td>127.006681</td>\n",
       "      <td>37.613335</td>\n",
       "    </tr>\n",
       "    <tr>\n",
       "      <th>75</th>\n",
       "      <td>정릉대우아파트</td>\n",
       "      <td>107000072</td>\n",
       "      <td>127.00386</td>\n",
       "      <td>37.616708</td>\n",
       "    </tr>\n",
       "    <tr>\n",
       "      <th>76</th>\n",
       "      <td>대진여객차고지</td>\n",
       "      <td>107000246</td>\n",
       "      <td>127.000797</td>\n",
       "      <td>37.617689</td>\n",
       "    </tr>\n",
       "  </tbody>\n",
       "</table>\n",
       "<p>77 rows × 4 columns</p>\n",
       "</div>"
      ],
      "text/plain": [
       "             정류장이름      정류장ID              경도             위도\n",
       "0          정릉산장아파트  107000071      127.003343      37.616712\n",
       "1     정릉4동주민센터.경국사  107000073      127.006345      37.613529\n",
       "2      북한산보국문역2번출구  107000518  127.0079858233   37.612293899\n",
       "3   성북청수도서관.정릉4동성당  107000075  127.0084193769  37.6115696748\n",
       "4           정릉시장입구  107000077  127.0098212542  37.6084653256\n",
       "..             ...        ...             ...            ...\n",
       "72  성북청수도서관.정릉4동성당  107000076      127.009045      37.610876\n",
       "73     북한산보국문역1번출구  107000519   127.008329146  37.6120835499\n",
       "74    정릉4동주민센터.경국사  107000074      127.006681      37.613335\n",
       "75         정릉대우아파트  107000072       127.00386      37.616708\n",
       "76         대진여객차고지  107000246      127.000797      37.617689\n",
       "\n",
       "[77 rows x 4 columns]"
      ]
     },
     "execution_count": 263,
     "metadata": {},
     "output_type": "execute_result"
    }
   ],
   "source": [
    "bus_station_df"
   ]
  },
  {
   "cell_type": "markdown",
   "id": "1b3475aa",
   "metadata": {},
   "source": [
    "# 연습문제\n",
    "- yes24의 베스트셀러 정보를 제공하는 사이트에서 베스트셀러 정보를 수집해서 파일에 저장하세요\n",
    "- 순위, 책이름, 저자, 출판사, 가격"
   ]
  },
  {
   "cell_type": "code",
   "execution_count": 361,
   "id": "595f023d",
   "metadata": {
    "ExecuteTime": {
     "end_time": "2024-12-10T08:21:48.036374Z",
     "start_time": "2024-12-10T08:21:44.362090Z"
    }
   },
   "outputs": [
    {
     "name": "stdout",
     "output_type": "stream",
     "text": [
      "1 페이지 완료\n",
      "2 페이지 완료\n",
      "3 페이지 완료\n",
      "4 페이지 완료\n"
     ]
    },
    {
     "data": {
      "text/html": [
       "<div>\n",
       "<style scoped>\n",
       "    .dataframe tbody tr th:only-of-type {\n",
       "        vertical-align: middle;\n",
       "    }\n",
       "\n",
       "    .dataframe tbody tr th {\n",
       "        vertical-align: top;\n",
       "    }\n",
       "\n",
       "    .dataframe thead th {\n",
       "        text-align: right;\n",
       "    }\n",
       "</style>\n",
       "<table border=\"1\" class=\"dataframe\">\n",
       "  <thead>\n",
       "    <tr style=\"text-align: right;\">\n",
       "      <th></th>\n",
       "      <th>순위</th>\n",
       "      <th>도서명</th>\n",
       "      <th>가격</th>\n",
       "      <th>출판사</th>\n",
       "      <th>저자</th>\n",
       "    </tr>\n",
       "  </thead>\n",
       "  <tbody>\n",
       "    <tr>\n",
       "      <th>0</th>\n",
       "      <td>1</td>\n",
       "      <td>소년이 온다</td>\n",
       "      <td>13,500</td>\n",
       "      <td>창비</td>\n",
       "      <td>한강</td>\n",
       "    </tr>\n",
       "    <tr>\n",
       "      <th>1</th>\n",
       "      <td>2</td>\n",
       "      <td>채식주의자</td>\n",
       "      <td>13,500</td>\n",
       "      <td>창비</td>\n",
       "      <td>한강</td>\n",
       "    </tr>\n",
       "    <tr>\n",
       "      <th>2</th>\n",
       "      <td>3</td>\n",
       "      <td>작별하지 않는다</td>\n",
       "      <td>15,120</td>\n",
       "      <td>문학동네</td>\n",
       "      <td>한강</td>\n",
       "    </tr>\n",
       "    <tr>\n",
       "      <th>3</th>\n",
       "      <td>4</td>\n",
       "      <td>하루 한 장 나의 어휘력을 위한 필사 노트</td>\n",
       "      <td>21,420</td>\n",
       "      <td>위즈덤하우스</td>\n",
       "      <td>유선경</td>\n",
       "    </tr>\n",
       "    <tr>\n",
       "      <th>4</th>\n",
       "      <td>5</td>\n",
       "      <td>서랍에 저녁을 넣어 두었다</td>\n",
       "      <td>10,800</td>\n",
       "      <td>문학과지성사</td>\n",
       "      <td>한강</td>\n",
       "    </tr>\n",
       "    <tr>\n",
       "      <th>...</th>\n",
       "      <td>...</td>\n",
       "      <td>...</td>\n",
       "      <td>...</td>\n",
       "      <td>...</td>\n",
       "      <td>...</td>\n",
       "    </tr>\n",
       "    <tr>\n",
       "      <th>95</th>\n",
       "      <td>96</td>\n",
       "      <td>해커스 일본어 첫걸음 : 일본어 기초 20일 독학 완성!</td>\n",
       "      <td>12,510</td>\n",
       "      <td>해커스어학연구소</td>\n",
       "      <td>유혜주</td>\n",
       "    </tr>\n",
       "    <tr>\n",
       "      <th>96</th>\n",
       "      <td>97</td>\n",
       "      <td>쓸 만한 인간</td>\n",
       "      <td>12,780</td>\n",
       "      <td>상상출판</td>\n",
       "      <td>조정연</td>\n",
       "    </tr>\n",
       "    <tr>\n",
       "      <th>97</th>\n",
       "      <td>98</td>\n",
       "      <td>빨간내복야코 4</td>\n",
       "      <td>13,500</td>\n",
       "      <td>샌드박스스토리 키즈</td>\n",
       "      <td>노을커피(신은정)</td>\n",
       "    </tr>\n",
       "    <tr>\n",
       "      <th>98</th>\n",
       "      <td>99</td>\n",
       "      <td>자본주의</td>\n",
       "      <td>19,800</td>\n",
       "      <td>가나출판사</td>\n",
       "      <td>홍익희</td>\n",
       "    </tr>\n",
       "    <tr>\n",
       "      <th>99</th>\n",
       "      <td>100</td>\n",
       "      <td>초역 논어</td>\n",
       "      <td>16,020</td>\n",
       "      <td>레디투다이브</td>\n",
       "      <td>송길영</td>\n",
       "    </tr>\n",
       "  </tbody>\n",
       "</table>\n",
       "<p>100 rows × 5 columns</p>\n",
       "</div>"
      ],
      "text/plain": [
       "     순위                              도서명      가격         출판사         저자\n",
       "0     1                           소년이 온다  13,500          창비         한강\n",
       "1     2                            채식주의자  13,500          창비         한강\n",
       "2     3                         작별하지 않는다  15,120        문학동네         한강\n",
       "3     4          하루 한 장 나의 어휘력을 위한 필사 노트  21,420      위즈덤하우스        유선경\n",
       "4     5                   서랍에 저녁을 넣어 두었다  10,800      문학과지성사         한강\n",
       "..  ...                              ...     ...         ...        ...\n",
       "95   96  해커스 일본어 첫걸음 : 일본어 기초 20일 독학 완성!  12,510    해커스어학연구소        유혜주\n",
       "96   97                          쓸 만한 인간  12,780        상상출판        조정연\n",
       "97   98                         빨간내복야코 4  13,500  샌드박스스토리 키즈  노을커피(신은정)\n",
       "98   99                             자본주의  19,800       가나출판사        홍익희\n",
       "99  100                            초역 논어  16,020      레디투다이브        송길영\n",
       "\n",
       "[100 rows x 5 columns]"
      ]
     },
     "execution_count": 361,
     "metadata": {},
     "output_type": "execute_result"
    }
   ],
   "source": [
    "books_list = []\n",
    "for i in range(1,5):\n",
    "    url = f'https://www.yes24.com/Product/Category/BestSeller?categoryNumber=001&pageNumber={i}&pageSize=25'\n",
    "    response = requests.get(url)\n",
    "    soup = BeautifulSoup(response.text, 'html.parser')\n",
    "    ranks = soup.select('div.img_canvas>div.img_upper>em.ico.rank')\n",
    "    names = soup.select('div.item_info > div.info_row.info_name > a.gd_name')\n",
    "    prices = soup.select('div.info_row.info_price > strong.txt_num > em.yes_b')\n",
    "    publishers = soup.select('div.info_row.info_pubGrp > span.authPub.info_pub > a')\n",
    "    writers = soup.select('div.info_row.info_pubGrp > span.authPub.info_auth > a')\n",
    "    for rank,name,price,publisher,writer in zip(ranks,names,prices,publishers,writers):\n",
    "        rank = rank.text\n",
    "        name = name.text\n",
    "        price = price.text\n",
    "        publisher = publisher.text\n",
    "        writer = writer.text\n",
    "        books_list.append({\n",
    "            '순위':rank,\n",
    "            '도서명':name,\n",
    "            '가격':price,\n",
    "            '출판사':publisher,\n",
    "            '저자':writer\n",
    "        })\n",
    "    print(i,'페이지 완료')\n",
    "books_df = pd.DataFrame(books_list)\n",
    "books_df"
   ]
  },
  {
   "cell_type": "code",
   "execution_count": 359,
   "id": "91b18ac8",
   "metadata": {
    "ExecuteTime": {
     "end_time": "2024-12-10T08:15:45.656978Z",
     "start_time": "2024-12-10T08:15:42.947928Z"
    }
   },
   "outputs": [
    {
     "name": "stdout",
     "output_type": "stream",
     "text": [
      "1 페이지 완료\n",
      "2 페이지 완료\n",
      "3 페이지 완료\n",
      "4 페이지 완료\n"
     ]
    }
   ],
   "source": [
    "books_list = []\n",
    "for i in range(1,5):\n",
    "    url = f'https://www.yes24.com/Product/Category/BestSeller?categoryNumber=001&pageNumber={i}&pageSize=25'\n",
    "    response = requests.get(url)\n",
    "    soup = BeautifulSoup(response.text, 'html.parser')\n",
    "    for book in soup.select('div.bSGoodsSecArea > ul#yesBestList > li') :\n",
    "        rank = book.select_one('div.img_canvas>div.img_upper>em.ico.rank').text\n",
    "        name = book.select_one('div.item_info > div.info_row.info_name > a.gd_name').text\n",
    "        price = book.select_one('div.info_row.info_price > strong.txt_num > em.yes_b').text\n",
    "        publisher = book.select_one('div.info_row.info_pubGrp > span.authPub.info_pub > a').text\n",
    "        writers = book.select('span.authPub.info_auth > a')\n",
    "        books_list.append({\n",
    "            '순위':rank,\n",
    "            '도서명':name,\n",
    "            '가격':price,\n",
    "            '출판사':publisher,\n",
    "            '저자':', '.join([writer.text for writer in writers])\n",
    "        })\n",
    "    print(i,'페이지 완료')\n",
    "books_df = pd.DataFrame(books_list)\n",
    "books_df.to_csv('data/ch14_yes24.csv', index=False)"
   ]
  }
 ],
 "metadata": {
  "kernelspec": {
   "display_name": "Python 3 (ipykernel)",
   "language": "python",
   "name": "python3"
  },
  "language_info": {
   "codemirror_mode": {
    "name": "ipython",
    "version": 3
   },
   "file_extension": ".py",
   "mimetype": "text/x-python",
   "name": "python",
   "nbconvert_exporter": "python",
   "pygments_lexer": "ipython3",
   "version": "3.10.9"
  },
  "toc": {
   "base_numbering": 1,
   "nav_menu": {},
   "number_sections": true,
   "sideBar": true,
   "skip_h1_title": false,
   "title_cell": "Table of Contents",
   "title_sidebar": "Contents",
   "toc_cell": false,
   "toc_position": {
    "height": "calc(100% - 180px)",
    "left": "10px",
    "top": "150px",
    "width": "211px"
   },
   "toc_section_display": true,
   "toc_window_display": true
  }
 },
 "nbformat": 4,
 "nbformat_minor": 5
}
