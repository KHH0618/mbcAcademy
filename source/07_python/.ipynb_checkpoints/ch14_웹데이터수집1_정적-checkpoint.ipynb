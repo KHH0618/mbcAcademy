{
 "cells": [
  {
   "cell_type": "markdown",
   "id": "06890342",
   "metadata": {},
   "source": [
    "<b><font color=\"red\" size=\"6\">ch14. 웹 데이터 수집</font></b>"
   ]
  },
  {
   "cell_type": "markdown",
   "id": "62e7db56",
   "metadata": {},
   "source": [
    "# 1절. BeautifulSoup과 parser\n",
    "\n",
    "` pip install bs4` 아나콘다를 설치하면 자동 설치되는 패키지 7500개에 포함\n",
    "\n",
    "- 공식 사이트\n",
    "    * https://www.crummy.com/software/BeautifulSoup/\n",
    "- Documentation\n",
    "    * https://www.crummy.com/software/BeautifulSoup/bs4/doc/\n"
   ]
  },
  {
   "cell_type": "code",
   "execution_count": 1,
   "id": "05524e57",
   "metadata": {
    "ExecuteTime": {
     "end_time": "2024-12-06T03:14:14.959251Z",
     "start_time": "2024-12-06T03:14:14.955262Z"
    }
   },
   "outputs": [],
   "source": [
    "import requests\n",
    "from requests_file import FileAdapter"
   ]
  },
  {
   "cell_type": "code",
   "execution_count": 2,
   "id": "4c158668",
   "metadata": {
    "ExecuteTime": {
     "end_time": "2024-12-06T03:18:54.618540Z",
     "start_time": "2024-12-06T03:18:54.607570Z"
    }
   },
   "outputs": [
    {
     "data": {
      "text/plain": [
       "<Response [200]>"
      ]
     },
     "execution_count": 2,
     "metadata": {},
     "output_type": "execute_result"
    }
   ],
   "source": [
    "s = requests.Session() # HTTP 요청관리를 위한 세션 객체\n",
    "s.mount(\"file://\",FileAdapter())\n",
    "response = s.get('file:///KHH/ai/source/07_python/ch14_sample.html')\n",
    "response"
   ]
  },
  {
   "cell_type": "code",
   "execution_count": 3,
   "id": "c3abde3b",
   "metadata": {
    "ExecuteTime": {
     "end_time": "2024-12-06T03:36:48.722516Z",
     "start_time": "2024-12-06T03:36:48.717529Z"
    }
   },
   "outputs": [
    {
     "data": {
      "text/plain": [
       "b'<!DOCTYPE html>\\r\\n<html lang=\"ko\" xmlns=\"http://www.w3.org/1999/xhtml\">\\r\\n<head>\\r\\n    <meta charset=\"UTF-8\" />\\r\\n</head>\\r\\n<body>\\r\\n    <h1 class=\"greeting css\" id=\"text\">Hello, CSS</h1>\\r\\n    <h1 class=\"css\">Hi, CSS</h1>\\r\\n    <div id=\"subject\">subject \\xec\\x84\\xa0\\xed\\x83\\x9d\\xec\\x9e\\x90 \\xec\\x95\\x88\\xec\\x9d\\x98 \\xeb\\x82\\xb4\\xec\\x9a\\xa9</div>\\r\\n    <p>CSS \\xec\\x84\\xa0\\xed\\x83\\x9d\\xec\\x9e\\x90\\xeb\\x8a\\x94 \\xeb\\x8b\\xa4\\xec\\x96\\x91\\xed\\x95\\x9c \\xea\\xb3\\xb3\\xec\\x97\\x90\\xec\\x84\\x9c \\xed\\x99\\x9c\\xec\\x9a\\xa9\\xeb\\x90\\xa9\\xeb\\x8b\\x88\\xeb\\x8b\\xa4</p>\\r\\n    <div class=\"contents\">\\r\\n        \\xec\\x84\\xa0\\xed\\x83\\x9d\\xec\\x9e\\x90\\xeb\\xa5\\xbc \\xec\\x96\\xb4\\xeb\\x96\\xbb\\xea\\xb2\\x8c \\xec\\x9e\\x91\\xec\\x84\\xb1\\xed\\x95\\x98\\xeb\\x8a\\x90\\xeb\\x83\\x90\\xec\\x97\\x90 \\xeb\\x94\\xb0\\xeb\\x9d\\xbc\\r\\n        <span>\\xeb\\x8b\\xa4\\xeb\\xa5\\xb8<b>\\xec\\x9a\\x94\\xec\\x86\\x8c\\xea\\xb0\\x80 \\xeb\\xb0\\x98\\xed\\x99\\x98</b></span>\\xeb\\x90\\xa9\\xeb\\x8b\\x88\\xeb\\x8b\\xa4\\r\\n    </div>\\r\\n    <div>CSS \\xec\\x84\\xa0\\xed\\x83\\x9d\\xec\\x9e\\x90\\xeb\\x8a\\x94 \\xeb\\x8b\\xa4\\xec\\x96\\x91\\xed\\x95\\x9c \\xea\\xb3\\xb3\\xec\\x97\\x90 <b>\\xed\\x99\\x9c\\xec\\x9a\\xa9</b>\\xeb\\x90\\xa9\\xeb\\x8b\\x88\\xeb\\x8b\\xa4</div>\\r\\n</body>\\r\\n</html>'"
      ]
     },
     "execution_count": 3,
     "metadata": {},
     "output_type": "execute_result"
    }
   ],
   "source": [
    "ex = response.content\n",
    "ex"
   ]
  },
  {
   "cell_type": "code",
   "execution_count": 6,
   "id": "caaab33c",
   "metadata": {
    "ExecuteTime": {
     "end_time": "2024-12-06T03:38:44.038295Z",
     "start_time": "2024-12-06T03:38:44.033305Z"
    }
   },
   "outputs": [
    {
     "data": {
      "text/plain": [
       "'<!DOCTYPE html>\\r\\n<html lang=\"ko\" xmlns=\"http://www.w3.org/1999/xhtml\">\\r\\n<head>\\r\\n    <meta charset=\"UTF-8\" />\\r\\n</head>\\r\\n<body>\\r\\n    <h1 class=\"greeting css\" id=\"text\">Hello, CSS</h1>\\r\\n    <h1 class=\"css\">Hi, CSS</h1>\\r\\n    <div id=\"subject\">subject 선택자 안의 내용</div>\\r\\n    <p>CSS 선택자는 다양한 곳에서 활용됩니다</p>\\r\\n    <div class=\"contents\">\\r\\n        선택자를 어떻게 작성하느냐에 따라\\r\\n        <span>다른<b>요소가 반환</b></span>됩니다\\r\\n    </div>\\r\\n    <div>CSS 선택자는 다양한 곳에 <b>활용</b>됩니다</div>\\r\\n</body>\\r\\n</html>'"
      ]
     },
     "execution_count": 6,
     "metadata": {},
     "output_type": "execute_result"
    }
   ],
   "source": [
    "response.content.decode('utf-8')"
   ]
  },
  {
   "cell_type": "code",
   "execution_count": 7,
   "id": "bc891ccd",
   "metadata": {
    "ExecuteTime": {
     "end_time": "2024-12-06T03:38:48.048437Z",
     "start_time": "2024-12-06T03:38:48.041456Z"
    }
   },
   "outputs": [
    {
     "data": {
      "text/plain": [
       "'<!DOCTYPE html>\\r\\n<html lang=\"ko\" xmlns=\"http://www.w3.org/1999/xhtml\">\\r\\n<head>\\r\\n    <meta charset=\"UTF-8\" />\\r\\n</head>\\r\\n<body>\\r\\n    <h1 class=\"greeting css\" id=\"text\">Hello, CSS</h1>\\r\\n    <h1 class=\"css\">Hi, CSS</h1>\\r\\n    <div id=\"subject\">subject 선택자 안의 내용</div>\\r\\n    <p>CSS 선택자는 다양한 곳에서 활용됩니다</p>\\r\\n    <div class=\"contents\">\\r\\n        선택자를 어떻게 작성하느냐에 따라\\r\\n        <span>다른<b>요소가 반환</b></span>됩니다\\r\\n    </div>\\r\\n    <div>CSS 선택자는 다양한 곳에 <b>활용</b>됩니다</div>\\r\\n</body>\\r\\n</html>'"
      ]
     },
     "execution_count": 7,
     "metadata": {},
     "output_type": "execute_result"
    }
   ],
   "source": [
    "response.text"
   ]
  },
  {
   "cell_type": "code",
   "execution_count": 11,
   "id": "3e22077c",
   "metadata": {
    "ExecuteTime": {
     "end_time": "2024-12-06T03:43:43.830414Z",
     "start_time": "2024-12-06T03:43:43.824431Z"
    }
   },
   "outputs": [],
   "source": [
    "# html 파싱\n",
    "from bs4 import BeautifulSoup\n",
    "soup = BeautifulSoup(\n",
    "        response.content,\n",
    "        \"html.parser\"\n",
    "        )\n",
    "# soup"
   ]
  },
  {
   "cell_type": "code",
   "execution_count": 21,
   "id": "fae261c3",
   "metadata": {
    "ExecuteTime": {
     "end_time": "2024-12-06T03:55:00.366712Z",
     "start_time": "2024-12-06T03:55:00.360713Z"
    }
   },
   "outputs": [
    {
     "name": "stdout",
     "output_type": "stream",
     "text": [
      "<h1 class=\"greeting css\" id=\"text\">Hello, CSS</h1>\n",
      "el.text : Hello, CSS\n",
      "el.string : Hello, CSS\n",
      "el의 속성들 : {'class': ['greeting', 'css'], 'id': 'text'}\n",
      "el의 class속성 : ['greeting', 'css']\n",
      "el의 name : h1\n"
     ]
    }
   ],
   "source": [
    "# soup.select_one('선택자') : 해당 선택자 처음 하나만\n",
    "el = soup.select_one('h1') # 처음 나오는 h1태그 하나만\n",
    "print(el)\n",
    "print('el.text :',el.text)\n",
    "print('el.string :',el.string)\n",
    "print('el의 속성들 :',el.attrs)\n",
    "print('el의 class속성 :',el.attrs['class'])\n",
    "print('el의 name :',el.name)"
   ]
  },
  {
   "cell_type": "code",
   "execution_count": 32,
   "id": "91e838c5",
   "metadata": {
    "ExecuteTime": {
     "end_time": "2024-12-06T04:03:33.174906Z",
     "start_time": "2024-12-06T04:03:33.168895Z"
    }
   },
   "outputs": [
    {
     "name": "stdout",
     "output_type": "stream",
     "text": [
      "el : [<h1 class=\"greeting css\" id=\"text\">Hello, CSS</h1>, <h1 class=\"css\">Hi, CSS</h1>]\n",
      "el들의 text : ['Hello, CSS', 'Hi, CSS']\n",
      "el들의 string : ['Hello, CSS', 'Hi, CSS']\n",
      "el들의 속성들 : [{'class': ['greeting', 'css'], 'id': 'text'}, {'class': ['css']}]\n",
      "el들의 class 속성들 : [['greeting', 'css'], ['css']]\n",
      "el의 name : ['h1', 'h1']\n"
     ]
    }
   ],
   "source": [
    "# soup.select('선택자') : 해당 선택자 모든 엘리먼트를 리스트로\n",
    "el = soup.select('h1')\n",
    "print('el :', el)\n",
    "print('el들의 text :', [e.text for e in el])\n",
    "print('el들의 string :', [e.string for e in el])\n",
    "print('el들의 속성들 :', [e.attrs for e in el])\n",
    "print('el들의 class 속성들 :', [e.attrs['class'] for e in el])\n",
    "print('el의 name :',[e.name for e in el])"
   ]
  },
  {
   "cell_type": "code",
   "execution_count": 41,
   "id": "5a4a447f",
   "metadata": {
    "ExecuteTime": {
     "end_time": "2024-12-06T04:11:37.707967Z",
     "start_time": "2024-12-06T04:11:37.700987Z"
    }
   },
   "outputs": [
    {
     "name": "stdout",
     "output_type": "stream",
     "text": [
      "모든 h1, span태그(select) :\n",
      "[<h1 class=\"greeting css\" id=\"text\">Hello, CSS</h1>, <h1 class=\"css\">Hi, CSS</h1>, <span>다른<b>요소가 반환</b></span>]\n",
      "모든 h1, span태그(find_all) :\n",
      "[<h1 class=\"greeting css\" id=\"text\">Hello, CSS</h1>, <h1 class=\"css\">Hi, CSS</h1>]\n",
      "h1태그(select_one) :\n",
      "<h1 class=\"greeting css\" id=\"text\">Hello, CSS</h1>\n",
      "h1태그(find) :\n",
      "<h1 class=\"greeting css\" id=\"text\">Hello, CSS</h1>\n"
     ]
    }
   ],
   "source": [
    "# select('선택자')와 find_all('태그')\n",
    "print('모든 h1, span태그(select) :', soup.select('h1, span'), sep='\\n')\n",
    "print('모든 h1, span태그(find_all) :', soup.find_all(['h1', 'span'], class_=['css']), sep='\\n')\n",
    "\n",
    "# select_one('선택자')와 find('태그','속성')\n",
    "print('h1태그(select_one) :', soup.select_one('h1.greeting'), sep='\\n')\n",
    "print('h1태그(find) :', soup.find('h1', class_='css'), sep='\\n')"
   ]
  },
  {
   "cell_type": "markdown",
   "id": "f12cf005",
   "metadata": {},
   "source": [
    "# 2절. 정적 웹 데이터 수집(정적 웹크롤링)\n",
    "\n",
    "## 2.1 request모듈 (get 요청)/urllib.reauest 모듈(urlopen)"
   ]
  },
  {
   "cell_type": "code",
   "execution_count": null,
   "id": "69e2637e",
   "metadata": {},
   "outputs": [],
   "source": [
    "# 크롤링 허용범위는 사이트마다 /robots.txt에서 확인할 수 있습니다\n",
    "\"\"\"\n",
    "    User-agent: * 모든 크롤링을 허용, 지침을 적용할 크롤러를 지정\n",
    "    Allow, Disallow: / 크롤링을 제한할 경로\n",
    "\"\"\""
   ]
  },
  {
   "cell_type": "code",
   "execution_count": 42,
   "id": "c5a46c19",
   "metadata": {
    "ExecuteTime": {
     "end_time": "2024-12-06T05:22:10.498143Z",
     "start_time": "2024-12-06T05:22:10.440131Z"
    }
   },
   "outputs": [
    {
     "data": {
      "text/plain": [
       "(<Response [200]>, 200)"
      ]
     },
     "execution_count": 42,
     "metadata": {},
     "output_type": "execute_result"
    }
   ],
   "source": [
    "# 방법 1\n",
    "import requests\n",
    "resopnse = requests.get('https://api.github.com/')\n",
    "resopnse, resopnse.status_code"
   ]
  },
  {
   "cell_type": "code",
   "execution_count": 45,
   "id": "8a84fbab",
   "metadata": {
    "ExecuteTime": {
     "end_time": "2024-12-06T05:27:04.654122Z",
     "start_time": "2024-12-06T05:27:04.648131Z"
    },
    "collapsed": true
   },
   "outputs": [
    {
     "data": {
      "text/plain": [
       "b'{\"current_user_url\":\"https://api.github.com/user\",\"current_user_authorizations_html_url\":\"https://github.com/settings/connections/applications{/client_id}\",\"authorizations_url\":\"https://api.github.com/authorizations\",\"code_search_url\":\"https://api.github.com/search/code?q={query}{&page,per_page,sort,order}\",\"commit_search_url\":\"https://api.github.com/search/commits?q={query}{&page,per_page,sort,order}\",\"emails_url\":\"https://api.github.com/user/emails\",\"emojis_url\":\"https://api.github.com/emojis\",\"events_url\":\"https://api.github.com/events\",\"feeds_url\":\"https://api.github.com/feeds\",\"followers_url\":\"https://api.github.com/user/followers\",\"following_url\":\"https://api.github.com/user/following{/target}\",\"gists_url\":\"https://api.github.com/gists{/gist_id}\",\"hub_url\":\"https://api.github.com/hub\",\"issue_search_url\":\"https://api.github.com/search/issues?q={query}{&page,per_page,sort,order}\",\"issues_url\":\"https://api.github.com/issues\",\"keys_url\":\"https://api.github.com/user/keys\",\"label_search_url\":\"https://api.github.com/search/labels?q={query}&repository_id={repository_id}{&page,per_page}\",\"notifications_url\":\"https://api.github.com/notifications\",\"organization_url\":\"https://api.github.com/orgs/{org}\",\"organization_repositories_url\":\"https://api.github.com/orgs/{org}/repos{?type,page,per_page,sort}\",\"organization_teams_url\":\"https://api.github.com/orgs/{org}/teams\",\"public_gists_url\":\"https://api.github.com/gists/public\",\"rate_limit_url\":\"https://api.github.com/rate_limit\",\"repository_url\":\"https://api.github.com/repos/{owner}/{repo}\",\"repository_search_url\":\"https://api.github.com/search/repositories?q={query}{&page,per_page,sort,order}\",\"current_user_repositories_url\":\"https://api.github.com/user/repos{?type,page,per_page,sort}\",\"starred_url\":\"https://api.github.com/user/starred{/owner}{/repo}\",\"starred_gists_url\":\"https://api.github.com/gists/starred\",\"topic_search_url\":\"https://api.github.com/search/topics?q={query}{&page,per_page}\",\"user_url\":\"https://api.github.com/users/{user}\",\"user_organizations_url\":\"https://api.github.com/user/orgs\",\"user_repositories_url\":\"https://api.github.com/users/{user}/repos{?type,page,per_page,sort}\",\"user_search_url\":\"https://api.github.com/search/users?q={query}{&page,per_page,sort,order}\"}'"
      ]
     },
     "execution_count": 45,
     "metadata": {},
     "output_type": "execute_result"
    }
   ],
   "source": [
    "resopnse.content # resopnse.text"
   ]
  },
  {
   "cell_type": "code",
   "execution_count": 47,
   "id": "0fe2dc1d",
   "metadata": {
    "ExecuteTime": {
     "end_time": "2024-12-06T05:27:58.913540Z",
     "start_time": "2024-12-06T05:27:58.908554Z"
    }
   },
   "outputs": [
    {
     "data": {
      "text/plain": [
       "dict"
      ]
     },
     "execution_count": 47,
     "metadata": {},
     "output_type": "execute_result"
    }
   ],
   "source": [
    "jsondata = resopnse.json()\n",
    "type(jsondata)"
   ]
  },
  {
   "cell_type": "code",
   "execution_count": 50,
   "id": "d328506a",
   "metadata": {
    "ExecuteTime": {
     "end_time": "2024-12-06T05:30:45.844780Z",
     "start_time": "2024-12-06T05:30:45.780842Z"
    }
   },
   "outputs": [
    {
     "data": {
      "text/plain": [
       "200"
      ]
     },
     "execution_count": 50,
     "metadata": {},
     "output_type": "execute_result"
    }
   ],
   "source": [
    "# 방법 2\n",
    "from urllib.request import urlopen\n",
    "response = urlopen('https://api.github.com/')\n",
    "response.status"
   ]
  },
  {
   "cell_type": "markdown",
   "id": "343f3800",
   "metadata": {},
   "source": [
    "## 2.2 BeaurlfulSoup 모듈을 활용 html 웹 데이터 수집\n",
    "### 1) 환율정보 가져오기 (네이버금융 > 시장지표)\n",
    "- https://finance.naver.com/marketindex/"
   ]
  },
  {
   "cell_type": "code",
   "execution_count": 61,
   "id": "82cfdd99",
   "metadata": {
    "ExecuteTime": {
     "end_time": "2024-12-06T05:52:33.797298Z",
     "start_time": "2024-12-06T05:52:33.705198Z"
    }
   },
   "outputs": [
    {
     "data": {
      "text/plain": [
       "[1419.8,\n",
       " 947.04,\n",
       " 1501.15,\n",
       " 195.46,\n",
       " 150.44,\n",
       " 1.06,\n",
       " 1.28,\n",
       " 105.7,\n",
       " 68.3,\n",
       " 1644.05,\n",
       " 2648.4,\n",
       " 120354.49]"
      ]
     },
     "execution_count": 61,
     "metadata": {},
     "output_type": "execute_result"
    }
   ],
   "source": [
    "# 방법1\n",
    "import requests\n",
    "from bs4 import BeautifulSoup\n",
    "url = 'https://finance.naver.com/marketindex/'\n",
    "response = requests.get(url)\n",
    "soup = BeautifulSoup(response.text,\n",
    "                    'html.parser')\n",
    "price = soup.select('div.head_info > span.value')\n",
    "[round(float(''.join(p.text.split(','))),2) for p in price]\n",
    "[round(float(p.text.replace(',','')),2) for p in price]"
   ]
  },
  {
   "cell_type": "code",
   "execution_count": 74,
   "id": "19000f79",
   "metadata": {
    "ExecuteTime": {
     "end_time": "2024-12-06T06:00:10.619196Z",
     "start_time": "2024-12-06T06:00:10.232668Z"
    }
   },
   "outputs": [],
   "source": [
    "from urllib.request import urlopen\n",
    "response = urlopen(url)\n",
    "soup = BeautifulSoup(response, 'html.parser')"
   ]
  },
  {
   "cell_type": "code",
   "execution_count": 82,
   "id": "98d96ba9",
   "metadata": {
    "ExecuteTime": {
     "end_time": "2024-12-06T06:16:56.096699Z",
     "start_time": "2024-12-06T06:16:56.088694Z"
    }
   },
   "outputs": [],
   "source": [
    "price = soup.select('div.head_info > span.value')\n",
    "# [round(float(''.join(p.text.split(','))),2) for p in price]\n",
    "# [round(float(p.text.replace(',','')),2) for p in price]"
   ]
  },
  {
   "cell_type": "code",
   "execution_count": 83,
   "id": "1c287e46",
   "metadata": {
    "ExecuteTime": {
     "end_time": "2024-12-06T06:17:36.627224Z",
     "start_time": "2024-12-06T06:17:36.616225Z"
    }
   },
   "outputs": [
    {
     "name": "stdout",
     "output_type": "stream",
     "text": [
      "미국 USD\t일본 JPY(100엔)\t유럽연합 EUR\t중국 CNY\t달러/일본 엔\t유로/달러\t영국 파운드/달러\t달러인덱스\tWTI\t휘발유\t국제 금\t국내 금\t"
     ]
    }
   ],
   "source": [
    "title = soup.select('h3.h_lst > span.blind')\n",
    "for t in title:\n",
    "    print(t.text, end='\\t')"
   ]
  },
  {
   "cell_type": "code",
   "execution_count": 87,
   "id": "b9941362",
   "metadata": {
    "ExecuteTime": {
     "end_time": "2024-12-06T06:24:26.193022Z",
     "start_time": "2024-12-06T06:24:26.181055Z"
    }
   },
   "outputs": [
    {
     "data": {
      "text/plain": [
       "['원', '원', '원', '원', '엔', '달러', '달러', '', '달러', '원', '달러', '원']"
      ]
     },
     "execution_count": 87,
     "metadata": {},
     "output_type": "execute_result"
    }
   ],
   "source": [
    "currency = soup.select('div.head_info > span > span.blind')\n",
    "currency = [c.text for c in currency]\n",
    "currency.insert(7, '')\n",
    "currency"
   ]
  },
  {
   "cell_type": "code",
   "execution_count": 88,
   "id": "533f7e1e",
   "metadata": {
    "ExecuteTime": {
     "end_time": "2024-12-06T06:28:16.447673Z",
     "start_time": "2024-12-06T06:28:16.436702Z"
    }
   },
   "outputs": [
    {
     "name": "stdout",
     "output_type": "stream",
     "text": [
      "상승\t상승\t상승\t상승\t하락\t상승\t상승\t하락\t하락\t상승\t하락\t상승\t"
     ]
    }
   ],
   "source": [
    "status = soup.select('div.head_info > span.blind')\n",
    "for idx in range(len(status)):\n",
    "    print(status[idx].text, end='\\t')"
   ]
  },
  {
   "cell_type": "code",
   "execution_count": 89,
   "id": "79fbb6e4",
   "metadata": {
    "ExecuteTime": {
     "end_time": "2024-12-06T06:29:04.070129Z",
     "start_time": "2024-12-06T06:29:04.064145Z"
    }
   },
   "outputs": [
    {
     "data": {
      "text/plain": [
       "(12, 12, 12, 12)"
      ]
     },
     "execution_count": 89,
     "metadata": {},
     "output_type": "execute_result"
    }
   ],
   "source": [
    "len(title), len(price), len(currency), len(status)"
   ]
  },
  {
   "cell_type": "code",
   "execution_count": 93,
   "id": "002aa941",
   "metadata": {
    "ExecuteTime": {
     "end_time": "2024-12-06T06:33:18.967329Z",
     "start_time": "2024-12-06T06:33:18.962342Z"
    }
   },
   "outputs": [
    {
     "name": "stdout",
     "output_type": "stream",
     "text": [
      "미국 USD : 1,418.60원 - 상승\n",
      "일본 JPY(100엔) : 946.05원 - 상승\n",
      "유럽연합 EUR : 1,499.74원 - 상승\n",
      "중국 CNY : 195.31원 - 상승\n",
      "달러/일본 엔 : 150.4400엔 - 하락\n",
      "유로/달러 : 1.0575달러 - 상승\n",
      "영국 파운드/달러 : 1.2758달러 - 상승\n",
      "달러인덱스 : 105.7000 - 하락\n",
      "WTI : 68.3달러 - 하락\n",
      "휘발유 : 1644.05원 - 상승\n",
      "국제 금 : 2648.4달러 - 하락\n",
      "국내 금 : 120342.83원 - 상승\n"
     ]
    }
   ],
   "source": [
    "for t, p, c, s in zip(title, price, currency, status):\n",
    "    print(\"{} : {}{} - {}\".format(t.text, p.text, c, s.text))"
   ]
  },
  {
   "cell_type": "markdown",
   "id": "cabbc679",
   "metadata": {},
   "source": [
    "### 2) 이번주 로또번호 출력\n",
    "- https://dhlottery.co.kr/gameResult.do?method=byWin&wiselog=C_A_1_1\n",
    "```\n",
    "1148회 (2024년 11월 30일 추첨)\n",
    "당첨번호 : [3,6,13,15,16,22]\n",
    "보너스번호 : 32\n",
    "```"
   ]
  },
  {
   "cell_type": "code",
   "execution_count": 123,
   "id": "c2178768",
   "metadata": {
    "ExecuteTime": {
     "end_time": "2024-12-06T07:22:32.567291Z",
     "start_time": "2024-12-06T07:22:32.219869Z"
    }
   },
   "outputs": [],
   "source": [
    "import requests\n",
    "from bs4 import BeautifulSoup\n",
    "url = 'https://dhlottery.co.kr/gameResult.do?method=byWin&wiselog=C_A_1_1'\n",
    "response = requests.get(url)\n",
    "soup = BeautifulSoup(response.text,\n",
    "                    'html.parser')\n",
    "\n",
    "rounds = soup.select_one('h4 > strong').text\n",
    "announcement = soup.select_one('p.desc').text\n",
    "balls = soup.select('span.ball_645')\n",
    "balls = [int(b.text) for b in balls]"
   ]
  },
  {
   "cell_type": "code",
   "execution_count": 124,
   "id": "e5225c20",
   "metadata": {
    "ExecuteTime": {
     "end_time": "2024-12-06T07:22:34.122964Z",
     "start_time": "2024-12-06T07:22:34.107240Z"
    }
   },
   "outputs": [
    {
     "name": "stdout",
     "output_type": "stream",
     "text": [
      "1148회 (2024년 11월 30일 추첨)\n",
      "당첨번호 : [3, 6, 13, 15, 16, 22]\n",
      "보너스번호 : 32\n"
     ]
    }
   ],
   "source": [
    "print('{} {}'.format(rounds, announcement))\n",
    "print('당첨번호 : {}'.format(balls[:-1]))\n",
    "print('보너스번호 : {}'.format(balls[-1]))"
   ]
  },
  {
   "cell_type": "markdown",
   "id": "8e2516fd",
   "metadata": {},
   "source": [
    "### 3) 다음 검색 리스트\n",
    "```\n",
    "no title                                                             href\n",
    "0 \"비트코인 8800만원에 주운 사람이 승자\"…한밤 불태운 코인 투자자들 https://v.daum.net/v/20241204113454203\n",
    "1 [속보] 비상계엄 선포에 비트코인 '쇼크'…30% 급락                http://v.daum.net/v/20241203231205730\n",
    "2 비트코인 갑론을박...\"20만달러 vs 단기조정\"                    https://v.daum.net/v/20241206151520972\n",
    "```"
   ]
  },
  {
   "cell_type": "code",
   "execution_count": 133,
   "id": "a91c7bc2",
   "metadata": {
    "ExecuteTime": {
     "end_time": "2024-12-06T08:21:00.070083Z",
     "start_time": "2024-12-06T08:20:59.700941Z"
    }
   },
   "outputs": [
    {
     "data": {
      "text/html": [
       "<div>\n",
       "<style scoped>\n",
       "    .dataframe tbody tr th:only-of-type {\n",
       "        vertical-align: middle;\n",
       "    }\n",
       "\n",
       "    .dataframe tbody tr th {\n",
       "        vertical-align: top;\n",
       "    }\n",
       "\n",
       "    .dataframe thead th {\n",
       "        text-align: right;\n",
       "    }\n",
       "</style>\n",
       "<table border=\"1\" class=\"dataframe\">\n",
       "  <thead>\n",
       "    <tr style=\"text-align: right;\">\n",
       "      <th></th>\n",
       "      <th>no</th>\n",
       "      <th>title</th>\n",
       "      <th>link</th>\n",
       "    </tr>\n",
       "  </thead>\n",
       "  <tbody>\n",
       "    <tr>\n",
       "      <th>0</th>\n",
       "      <td>0</td>\n",
       "      <td>'10만 달러' 넘어선 비트코인...\"고점 아직\"vs\"과열\"</td>\n",
       "      <td>http://v.daum.net/v/20241206135550190</td>\n",
       "    </tr>\n",
       "    <tr>\n",
       "      <th>1</th>\n",
       "      <td>1</td>\n",
       "      <td>트럼프 “비트코인 10만 달러, 천만에요”</td>\n",
       "      <td>http://v.daum.net/v/20241205230018960</td>\n",
       "    </tr>\n",
       "    <tr>\n",
       "      <th>2</th>\n",
       "      <td>2</td>\n",
       "      <td>비트코인, 차익 실현 매물에 5% 급락…1억3700만원대</td>\n",
       "      <td>http://v.daum.net/v/20241206092917378</td>\n",
       "    </tr>\n",
       "    <tr>\n",
       "      <th>3</th>\n",
       "      <td>3</td>\n",
       "      <td>비트코인 5%↑ 10만달러 돌파…급등 이유 2가지(종합2)</td>\n",
       "      <td>http://v.daum.net/v/20241205122727799</td>\n",
       "    </tr>\n",
       "    <tr>\n",
       "      <th>4</th>\n",
       "      <td>4</td>\n",
       "      <td>10만 달러 찍은 비트코인… 더 오를까, 내릴까</td>\n",
       "      <td>http://v.daum.net/v/20241206151520972</td>\n",
       "    </tr>\n",
       "    <tr>\n",
       "      <th>5</th>\n",
       "      <td>5</td>\n",
       "      <td>비트코인 갑론을박...\"20만달러 vs 단기조정\"</td>\n",
       "      <td>http://v.daum.net/v/20241206103251287</td>\n",
       "    </tr>\n",
       "    <tr>\n",
       "      <th>6</th>\n",
       "      <td>6</td>\n",
       "      <td>비트코인, 다시 10만 달러 붕괴…향후 전망은?</td>\n",
       "      <td>http://v.daum.net/v/20241206090709632</td>\n",
       "    </tr>\n",
       "    <tr>\n",
       "      <th>7</th>\n",
       "      <td>7</td>\n",
       "      <td>'10만 달러' 넘은 비트코인, 어디까지 갈까 [글로벌 뉴스픽]</td>\n",
       "      <td>http://v.daum.net/v/20241206062101852</td>\n",
       "    </tr>\n",
       "    <tr>\n",
       "      <th>8</th>\n",
       "      <td>8</td>\n",
       "      <td>‘10만 돌파’ 비트코인, 금 대체한다...번스타인 주장</td>\n",
       "      <td>http://v.daum.net/v/20241206163907954</td>\n",
       "    </tr>\n",
       "    <tr>\n",
       "      <th>9</th>\n",
       "      <td>9</td>\n",
       "      <td>비트코인, 세계 7위 자산 등극[엠블록레터]</td>\n",
       "      <td>http://v.daum.net/v/20241206161800233</td>\n",
       "    </tr>\n",
       "  </tbody>\n",
       "</table>\n",
       "</div>"
      ],
      "text/plain": [
       "   no                                  title  \\\n",
       "0   0     '10만 달러' 넘어선 비트코인...\"고점 아직\"vs\"과열\"    \n",
       "1   1               트럼프 “비트코인 10만 달러, 천만에요”    \n",
       "2   2       비트코인, 차익 실현 매물에 5% 급락…1억3700만원대    \n",
       "3   3      비트코인 5%↑ 10만달러 돌파…급등 이유 2가지(종합2)    \n",
       "4   4            10만 달러 찍은 비트코인… 더 오를까, 내릴까    \n",
       "5   5           비트코인 갑론을박...\"20만달러 vs 단기조정\"    \n",
       "6   6            비트코인, 다시 10만 달러 붕괴…향후 전망은?    \n",
       "7   7   '10만 달러' 넘은 비트코인, 어디까지 갈까 [글로벌 뉴스픽]    \n",
       "8   8       ‘10만 돌파’ 비트코인, 금 대체한다...번스타인 주장    \n",
       "9   9              비트코인, 세계 7위 자산 등극[엠블록레터]    \n",
       "\n",
       "                                    link  \n",
       "0  http://v.daum.net/v/20241206135550190  \n",
       "1  http://v.daum.net/v/20241205230018960  \n",
       "2  http://v.daum.net/v/20241206092917378  \n",
       "3  http://v.daum.net/v/20241205122727799  \n",
       "4  http://v.daum.net/v/20241206151520972  \n",
       "5  http://v.daum.net/v/20241206103251287  \n",
       "6  http://v.daum.net/v/20241206090709632  \n",
       "7  http://v.daum.net/v/20241206062101852  \n",
       "8  http://v.daum.net/v/20241206163907954  \n",
       "9  http://v.daum.net/v/20241206161800233  "
      ]
     },
     "execution_count": 133,
     "metadata": {},
     "output_type": "execute_result"
    }
   ],
   "source": [
    "import requests\n",
    "from bs4 import BeautifulSoup\n",
    "url = 'https://search.daum.net/search?nil_suggest=btn&w=news&DA=PGD&cluster=y&q=비트코인'\n",
    "response = requests.get(url)\n",
    "soup = BeautifulSoup(response.text, 'html.parser')\n",
    "items_find_list = [] # 검색한 결과를 담을 2차원 리스트\n",
    "items_el = soup.select('div.item-title > strong.tit-g > a')\n",
    "for idx, item in enumerate(items_el):\n",
    "    items_find_list.append([idx,item.text,item.attrs['href']])\n",
    "import pandas as pd\n",
    "pd.DataFrame(items_find_list, columns=['no','title','link'])"
   ]
  },
  {
   "cell_type": "code",
   "execution_count": 154,
   "id": "33be714a",
   "metadata": {
    "ExecuteTime": {
     "end_time": "2024-12-06T08:37:53.684896Z",
     "start_time": "2024-12-06T08:37:53.668951Z"
    }
   },
   "outputs": [
    {
     "data": {
      "text/html": [
       "<div>\n",
       "<style scoped>\n",
       "    .dataframe tbody tr th:only-of-type {\n",
       "        vertical-align: middle;\n",
       "    }\n",
       "\n",
       "    .dataframe tbody tr th {\n",
       "        vertical-align: top;\n",
       "    }\n",
       "\n",
       "    .dataframe thead th {\n",
       "        text-align: right;\n",
       "    }\n",
       "</style>\n",
       "<table border=\"1\" class=\"dataframe\">\n",
       "  <thead>\n",
       "    <tr style=\"text-align: right;\">\n",
       "      <th></th>\n",
       "      <th>no</th>\n",
       "      <th>title</th>\n",
       "      <th>link</th>\n",
       "    </tr>\n",
       "  </thead>\n",
       "  <tbody>\n",
       "    <tr>\n",
       "      <th>0</th>\n",
       "      <td>0</td>\n",
       "      <td>'10만 달러' 넘어선 비트코인...\"고점 아직\"vs\"과열\"</td>\n",
       "      <td>http://v.daum.net/v/20241206135550190</td>\n",
       "    </tr>\n",
       "    <tr>\n",
       "      <th>1</th>\n",
       "      <td>1</td>\n",
       "      <td>트럼프 “비트코인 10만 달러, 천만에요”</td>\n",
       "      <td>http://v.daum.net/v/20241205230018960</td>\n",
       "    </tr>\n",
       "    <tr>\n",
       "      <th>2</th>\n",
       "      <td>2</td>\n",
       "      <td>비트코인, 차익 실현 매물에 5% 급락…1억3700만원대</td>\n",
       "      <td>http://v.daum.net/v/20241206092917378</td>\n",
       "    </tr>\n",
       "    <tr>\n",
       "      <th>3</th>\n",
       "      <td>3</td>\n",
       "      <td>비트코인 5%↑ 10만달러 돌파…급등 이유 2가지(종합2)</td>\n",
       "      <td>http://v.daum.net/v/20241205122727799</td>\n",
       "    </tr>\n",
       "    <tr>\n",
       "      <th>4</th>\n",
       "      <td>4</td>\n",
       "      <td>10만 달러 찍은 비트코인… 더 오를까, 내릴까</td>\n",
       "      <td>http://v.daum.net/v/20241206151520972</td>\n",
       "    </tr>\n",
       "    <tr>\n",
       "      <th>5</th>\n",
       "      <td>5</td>\n",
       "      <td>비트코인 갑론을박...\"20만달러 vs 단기조정\"</td>\n",
       "      <td>http://v.daum.net/v/20241206103251287</td>\n",
       "    </tr>\n",
       "    <tr>\n",
       "      <th>6</th>\n",
       "      <td>6</td>\n",
       "      <td>비트코인, 다시 10만 달러 붕괴…향후 전망은?</td>\n",
       "      <td>http://v.daum.net/v/20241206090709632</td>\n",
       "    </tr>\n",
       "    <tr>\n",
       "      <th>7</th>\n",
       "      <td>7</td>\n",
       "      <td>'10만 달러' 넘은 비트코인, 어디까지 갈까 [글로벌 뉴스픽]</td>\n",
       "      <td>http://v.daum.net/v/20241206062101852</td>\n",
       "    </tr>\n",
       "    <tr>\n",
       "      <th>8</th>\n",
       "      <td>8</td>\n",
       "      <td>‘10만 돌파’ 비트코인, 금 대체한다...번스타인 주장</td>\n",
       "      <td>http://v.daum.net/v/20241206163907954</td>\n",
       "    </tr>\n",
       "    <tr>\n",
       "      <th>9</th>\n",
       "      <td>9</td>\n",
       "      <td>비트코인, 세계 7위 자산 등극[엠블록레터]</td>\n",
       "      <td>http://v.daum.net/v/20241206161800233</td>\n",
       "    </tr>\n",
       "  </tbody>\n",
       "</table>\n",
       "</div>"
      ],
      "text/plain": [
       "   no                                  title  \\\n",
       "0   0     '10만 달러' 넘어선 비트코인...\"고점 아직\"vs\"과열\"    \n",
       "1   1               트럼프 “비트코인 10만 달러, 천만에요”    \n",
       "2   2       비트코인, 차익 실현 매물에 5% 급락…1억3700만원대    \n",
       "3   3      비트코인 5%↑ 10만달러 돌파…급등 이유 2가지(종합2)    \n",
       "4   4            10만 달러 찍은 비트코인… 더 오를까, 내릴까    \n",
       "5   5           비트코인 갑론을박...\"20만달러 vs 단기조정\"    \n",
       "6   6            비트코인, 다시 10만 달러 붕괴…향후 전망은?    \n",
       "7   7   '10만 달러' 넘은 비트코인, 어디까지 갈까 [글로벌 뉴스픽]    \n",
       "8   8       ‘10만 돌파’ 비트코인, 금 대체한다...번스타인 주장    \n",
       "9   9              비트코인, 세계 7위 자산 등극[엠블록레터]    \n",
       "\n",
       "                                    link  \n",
       "0  http://v.daum.net/v/20241206135550190  \n",
       "1  http://v.daum.net/v/20241205230018960  \n",
       "2  http://v.daum.net/v/20241206092917378  \n",
       "3  http://v.daum.net/v/20241205122727799  \n",
       "4  http://v.daum.net/v/20241206151520972  \n",
       "5  http://v.daum.net/v/20241206103251287  \n",
       "6  http://v.daum.net/v/20241206090709632  \n",
       "7  http://v.daum.net/v/20241206062101852  \n",
       "8  http://v.daum.net/v/20241206163907954  \n",
       "9  http://v.daum.net/v/20241206161800233  "
      ]
     },
     "execution_count": 154,
     "metadata": {},
     "output_type": "execute_result"
    }
   ],
   "source": [
    "items_find_list = [] # 검색한 결과를 담을 2차원 리스트\n",
    "item_titles = soup.find_all('div', class_='item-title')\n",
    "for idx, item in enumerate(item_titles):\n",
    "    strong = item.find('strong')\n",
    "    if strong:\n",
    "        a = strong.find('a')\n",
    "        items_find_list.append([idx, a.text, a.attrs['href']])\n",
    "pd.DataFrame(items_find_list, columns=['no','title','link'])"
   ]
  },
  {
   "cell_type": "code",
   "execution_count": 172,
   "id": "19403466",
   "metadata": {
    "ExecuteTime": {
     "end_time": "2024-12-06T09:00:02.953885Z",
     "start_time": "2024-12-06T09:00:02.946913Z"
    }
   },
   "outputs": [],
   "source": [
    "# 다음검색(원하는 키워드를 원하는 페이지수)\n",
    "import requests\n",
    "from bs4 import BeautifulSoup\n",
    "import time\n",
    "import pandas as pd\n",
    "# print하는 함수\n",
    "\n",
    "def collect_list(keyword, page=1):\n",
    "    'keyword로 page에 다음검색한 결과를 출력'\n",
    "    url = 'https://search.daum.net/search?nil_suggest=btn&w=news&DA=PGD&cluster=y&'\n",
    "    params={'q':keyword, 'p':page}\n",
    "    response = requests.get(url, params=params)\n",
    "    soup = BeautifulSoup(response.text, 'html.parser')\n",
    "    items_find_list=[]\n",
    "    item_titles = soup.find_all('div', class_='item-title')\n",
    "    for idx, item in enumerate(item_titles):\n",
    "        strong = item.find('strong')\n",
    "        if strong:\n",
    "            a = strong.find('a')\n",
    "            items_find_list.append([idx+((page-1)*10), a.text, a.attrs['href']])\n",
    "    display(pd.DataFrame(items_find_list, columns=['no','title','link']))\n",
    "    "
   ]
  },
  {
   "cell_type": "code",
   "execution_count": 176,
   "id": "15497857",
   "metadata": {
    "ExecuteTime": {
     "end_time": "2024-12-06T09:01:14.985900Z",
     "start_time": "2024-12-06T09:01:14.641249Z"
    }
   },
   "outputs": [
    {
     "data": {
      "text/html": [
       "<div>\n",
       "<style scoped>\n",
       "    .dataframe tbody tr th:only-of-type {\n",
       "        vertical-align: middle;\n",
       "    }\n",
       "\n",
       "    .dataframe tbody tr th {\n",
       "        vertical-align: top;\n",
       "    }\n",
       "\n",
       "    .dataframe thead th {\n",
       "        text-align: right;\n",
       "    }\n",
       "</style>\n",
       "<table border=\"1\" class=\"dataframe\">\n",
       "  <thead>\n",
       "    <tr style=\"text-align: right;\">\n",
       "      <th></th>\n",
       "      <th>no</th>\n",
       "      <th>title</th>\n",
       "      <th>link</th>\n",
       "    </tr>\n",
       "  </thead>\n",
       "  <tbody>\n",
       "    <tr>\n",
       "      <th>0</th>\n",
       "      <td>-10</td>\n",
       "      <td>'10만 달러' 넘어선 비트코인...\"고점 아직\"vs\"과열\"</td>\n",
       "      <td>http://v.daum.net/v/20241206135550190</td>\n",
       "    </tr>\n",
       "    <tr>\n",
       "      <th>1</th>\n",
       "      <td>-9</td>\n",
       "      <td>트럼프 “비트코인 10만 달러, 천만에요”</td>\n",
       "      <td>http://v.daum.net/v/20241205230018960</td>\n",
       "    </tr>\n",
       "    <tr>\n",
       "      <th>2</th>\n",
       "      <td>-8</td>\n",
       "      <td>비트코인, 차익 실현 매물에 5% 급락…1억3700만원대</td>\n",
       "      <td>http://v.daum.net/v/20241206092917378</td>\n",
       "    </tr>\n",
       "    <tr>\n",
       "      <th>3</th>\n",
       "      <td>-7</td>\n",
       "      <td>비트코인 5%↑ 10만달러 돌파…급등 이유 2가지(종합2)</td>\n",
       "      <td>http://v.daum.net/v/20241205122727799</td>\n",
       "    </tr>\n",
       "    <tr>\n",
       "      <th>4</th>\n",
       "      <td>-6</td>\n",
       "      <td>10만 달러 찍은 비트코인… 더 오를까, 내릴까</td>\n",
       "      <td>http://v.daum.net/v/20241206151520972</td>\n",
       "    </tr>\n",
       "    <tr>\n",
       "      <th>5</th>\n",
       "      <td>-5</td>\n",
       "      <td>비트코인 갑론을박...\"20만달러 vs 단기조정\"</td>\n",
       "      <td>http://v.daum.net/v/20241206103251287</td>\n",
       "    </tr>\n",
       "    <tr>\n",
       "      <th>6</th>\n",
       "      <td>-4</td>\n",
       "      <td>비트코인, 다시 10만 달러 붕괴…향후 전망은?</td>\n",
       "      <td>http://v.daum.net/v/20241206090709632</td>\n",
       "    </tr>\n",
       "    <tr>\n",
       "      <th>7</th>\n",
       "      <td>-3</td>\n",
       "      <td>'10만 달러' 넘은 비트코인, 어디까지 갈까 [글로벌 뉴스픽]</td>\n",
       "      <td>http://v.daum.net/v/20241206062101852</td>\n",
       "    </tr>\n",
       "    <tr>\n",
       "      <th>8</th>\n",
       "      <td>-2</td>\n",
       "      <td>'비트코인 큰손' 담은 ETF 수익률 급등</td>\n",
       "      <td>http://v.daum.net/v/20241206175603216</td>\n",
       "    </tr>\n",
       "    <tr>\n",
       "      <th>9</th>\n",
       "      <td>-1</td>\n",
       "      <td>‘10만 돌파’ 비트코인, 금 대체한다...번스타인 주장</td>\n",
       "      <td>http://v.daum.net/v/20241206163907954</td>\n",
       "    </tr>\n",
       "  </tbody>\n",
       "</table>\n",
       "</div>"
      ],
      "text/plain": [
       "   no                                  title  \\\n",
       "0 -10     '10만 달러' 넘어선 비트코인...\"고점 아직\"vs\"과열\"    \n",
       "1  -9               트럼프 “비트코인 10만 달러, 천만에요”    \n",
       "2  -8       비트코인, 차익 실현 매물에 5% 급락…1억3700만원대    \n",
       "3  -7      비트코인 5%↑ 10만달러 돌파…급등 이유 2가지(종합2)    \n",
       "4  -6            10만 달러 찍은 비트코인… 더 오를까, 내릴까    \n",
       "5  -5           비트코인 갑론을박...\"20만달러 vs 단기조정\"    \n",
       "6  -4            비트코인, 다시 10만 달러 붕괴…향후 전망은?    \n",
       "7  -3   '10만 달러' 넘은 비트코인, 어디까지 갈까 [글로벌 뉴스픽]    \n",
       "8  -2               '비트코인 큰손' 담은 ETF 수익률 급등    \n",
       "9  -1       ‘10만 돌파’ 비트코인, 금 대체한다...번스타인 주장    \n",
       "\n",
       "                                    link  \n",
       "0  http://v.daum.net/v/20241206135550190  \n",
       "1  http://v.daum.net/v/20241205230018960  \n",
       "2  http://v.daum.net/v/20241206092917378  \n",
       "3  http://v.daum.net/v/20241205122727799  \n",
       "4  http://v.daum.net/v/20241206151520972  \n",
       "5  http://v.daum.net/v/20241206103251287  \n",
       "6  http://v.daum.net/v/20241206090709632  \n",
       "7  http://v.daum.net/v/20241206062101852  \n",
       "8  http://v.daum.net/v/20241206175603216  \n",
       "9  http://v.daum.net/v/20241206163907954  "
      ]
     },
     "metadata": {},
     "output_type": "display_data"
    }
   ],
   "source": [
    "collect_list('비트코인',0)"
   ]
  },
  {
   "cell_type": "code",
   "execution_count": null,
   "id": "c06a78e6",
   "metadata": {},
   "outputs": [],
   "source": []
  }
 ],
 "metadata": {
  "kernelspec": {
   "display_name": "Python 3 (ipykernel)",
   "language": "python",
   "name": "python3"
  },
  "language_info": {
   "codemirror_mode": {
    "name": "ipython",
    "version": 3
   },
   "file_extension": ".py",
   "mimetype": "text/x-python",
   "name": "python",
   "nbconvert_exporter": "python",
   "pygments_lexer": "ipython3",
   "version": "3.10.9"
  },
  "toc": {
   "base_numbering": 1,
   "nav_menu": {},
   "number_sections": true,
   "sideBar": true,
   "skip_h1_title": false,
   "title_cell": "Table of Contents",
   "title_sidebar": "Contents",
   "toc_cell": false,
   "toc_position": {
    "height": "calc(100% - 180px)",
    "left": "10px",
    "top": "150px",
    "width": "211px"
   },
   "toc_section_display": true,
   "toc_window_display": true
  }
 },
 "nbformat": 4,
 "nbformat_minor": 5
}
