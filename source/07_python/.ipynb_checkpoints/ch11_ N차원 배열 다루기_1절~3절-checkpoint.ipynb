{
 "cells": [
  {
   "cell_type": "markdown",
   "id": "02b4b58c",
   "metadata": {},
   "source": [
    "<b><font color=\"red\" size=\"6\">ch11. N차원 배열 다루기</font></b>\n",
    "- [numpy](https://numpy.org/)\n",
    "- [numpy docs](https://numpy.org/doc/stable/user/absolute_beginners.html)\n",
    "- N차원 배열 객체\n",
    "- 2차원 배열은 행렬개념으로 이해\n",
    "- numpy 패키지를 이용(C언어로 구현된 고성능 수치계산 패키지)"
   ]
  },
  {
   "cell_type": "markdown",
   "id": "72321585",
   "metadata": {},
   "source": [
    "# 1절. 넘파이 패키지"
   ]
  },
  {
   "cell_type": "code",
   "execution_count": 1,
   "id": "926bce58",
   "metadata": {
    "ExecuteTime": {
     "end_time": "2024-11-21T05:15:40.148880Z",
     "start_time": "2024-11-21T05:15:40.012442Z"
    }
   },
   "outputs": [
    {
     "data": {
      "text/plain": [
       "'1.23.5'"
      ]
     },
     "execution_count": 1,
     "metadata": {},
     "output_type": "execute_result"
    }
   ],
   "source": [
    "import numpy as np\n",
    "np.__version__"
   ]
  },
  {
   "cell_type": "code",
   "execution_count": 2,
   "id": "54631931",
   "metadata": {
    "ExecuteTime": {
     "end_time": "2024-11-21T05:15:40.156859Z",
     "start_time": "2024-11-21T05:15:40.150875Z"
    }
   },
   "outputs": [
    {
     "data": {
      "text/plain": [
       "array([ 0,  1,  2,  3,  4,  5,  6,  7,  8,  9, 10, 11, 12, 13, 14])"
      ]
     },
     "execution_count": 2,
     "metadata": {},
     "output_type": "execute_result"
    }
   ],
   "source": [
    "a = np.arange(15) # 0 ~ 15앞 까지 1씩 증가하는 1차원 배열\n",
    "a"
   ]
  },
  {
   "cell_type": "code",
   "execution_count": 3,
   "id": "7fb6a3c2",
   "metadata": {
    "ExecuteTime": {
     "end_time": "2024-11-21T05:15:40.198879Z",
     "start_time": "2024-11-21T05:15:40.160849Z"
    }
   },
   "outputs": [
    {
     "data": {
      "text/plain": [
       "array([[15, 16, 17, 18, 19],\n",
       "       [20, 21, 22, 23, 24],\n",
       "       [25, 26, 27, 28, 29]])"
      ]
     },
     "execution_count": 3,
     "metadata": {},
     "output_type": "execute_result"
    }
   ],
   "source": [
    "from numpy import arange\n",
    "a = arange(15,30).reshape(3,5)\n",
    "a"
   ]
  },
  {
   "cell_type": "code",
   "execution_count": 4,
   "id": "91426358",
   "metadata": {
    "ExecuteTime": {
     "end_time": "2024-11-21T05:15:40.211844Z",
     "start_time": "2024-11-21T05:15:40.203866Z"
    }
   },
   "outputs": [
    {
     "data": {
      "text/plain": [
       "numpy.ndarray"
      ]
     },
     "execution_count": 4,
     "metadata": {},
     "output_type": "execute_result"
    }
   ],
   "source": [
    "type(a) # a배열 변수의 타입"
   ]
  },
  {
   "cell_type": "code",
   "execution_count": 5,
   "id": "dc6734aa",
   "metadata": {
    "ExecuteTime": {
     "end_time": "2024-11-21T05:15:40.233774Z",
     "start_time": "2024-11-21T05:15:40.214839Z"
    }
   },
   "outputs": [
    {
     "data": {
      "text/plain": [
       "dtype('int32')"
      ]
     },
     "execution_count": 5,
     "metadata": {},
     "output_type": "execute_result"
    }
   ],
   "source": [
    "a.dtype # a배열 변수의 요소들의 type"
   ]
  },
  {
   "cell_type": "code",
   "execution_count": 6,
   "id": "cadc4cf9",
   "metadata": {
    "ExecuteTime": {
     "end_time": "2024-11-21T05:15:40.251697Z",
     "start_time": "2024-11-21T05:15:40.236767Z"
    }
   },
   "outputs": [
    {
     "data": {
      "text/plain": [
       "'int32'"
      ]
     },
     "execution_count": 6,
     "metadata": {},
     "output_type": "execute_result"
    }
   ],
   "source": [
    "a.dtype.name"
   ]
  },
  {
   "cell_type": "code",
   "execution_count": 7,
   "id": "99334f18",
   "metadata": {
    "ExecuteTime": {
     "end_time": "2024-11-21T05:15:40.259676Z",
     "start_time": "2024-11-21T05:15:40.253693Z"
    }
   },
   "outputs": [
    {
     "data": {
      "text/plain": [
       "4"
      ]
     },
     "execution_count": 7,
     "metadata": {},
     "output_type": "execute_result"
    }
   ],
   "source": [
    "a.itemsize # 한 요소의 bytSize (int32의 경우 : 4 byte)"
   ]
  },
  {
   "cell_type": "code",
   "execution_count": 8,
   "id": "086136dd",
   "metadata": {
    "ExecuteTime": {
     "end_time": "2024-11-21T05:15:40.267722Z",
     "start_time": "2024-11-21T05:15:40.261671Z"
    }
   },
   "outputs": [
    {
     "data": {
      "text/plain": [
       "2"
      ]
     },
     "execution_count": 8,
     "metadata": {},
     "output_type": "execute_result"
    }
   ],
   "source": [
    "a.ndim # 축수(차원수)"
   ]
  },
  {
   "cell_type": "code",
   "execution_count": 9,
   "id": "87c1103c",
   "metadata": {
    "ExecuteTime": {
     "end_time": "2024-11-21T05:15:40.284359Z",
     "start_time": "2024-11-21T05:15:40.268737Z"
    }
   },
   "outputs": [
    {
     "data": {
      "text/plain": [
       "15"
      ]
     },
     "execution_count": 9,
     "metadata": {},
     "output_type": "execute_result"
    }
   ],
   "source": [
    "a.size # 배열 요소의 갯수"
   ]
  },
  {
   "cell_type": "code",
   "execution_count": 10,
   "id": "f0a3b40b",
   "metadata": {
    "ExecuteTime": {
     "end_time": "2024-11-21T05:15:40.292949Z",
     "start_time": "2024-11-21T05:15:40.286891Z"
    }
   },
   "outputs": [
    {
     "data": {
      "text/plain": [
       "(3, 5)"
      ]
     },
     "execution_count": 10,
     "metadata": {},
     "output_type": "execute_result"
    }
   ],
   "source": [
    "a.shape # 배열의 구조(3행 5열)"
   ]
  },
  {
   "cell_type": "code",
   "execution_count": 11,
   "id": "e0893410",
   "metadata": {
    "ExecuteTime": {
     "end_time": "2024-11-21T05:15:40.301925Z",
     "start_time": "2024-11-21T05:15:40.294943Z"
    }
   },
   "outputs": [
    {
     "name": "stdout",
     "output_type": "stream",
     "text": [
      "shape 조정 전 a:\n",
      " [[15 16 17 18 19]\n",
      " [20 21 22 23 24]\n",
      " [25 26 27 28 29]]\n",
      "shape 조정 후 a:\n",
      " [[15 16 17]\n",
      " [18 19 20]\n",
      " [21 22 23]\n",
      " [24 25 26]\n",
      " [27 28 29]]\n"
     ]
    }
   ],
   "source": [
    "print('shape 조정 전 a:\\n', a)\n",
    "a.shape = (5,3)\n",
    "print('shape 조정 후 a:\\n',a)"
   ]
  },
  {
   "cell_type": "code",
   "execution_count": 12,
   "id": "2e6852a5",
   "metadata": {
    "ExecuteTime": {
     "end_time": "2024-11-21T05:15:40.311897Z",
     "start_time": "2024-11-21T05:15:40.306911Z"
    }
   },
   "outputs": [
    {
     "data": {
      "text/plain": [
       "array([[ 0,  1,  2,  3],\n",
       "       [ 4,  5,  6,  7],\n",
       "       [ 8,  9, 10, 11]])"
      ]
     },
     "execution_count": 12,
     "metadata": {},
     "output_type": "execute_result"
    }
   ],
   "source": [
    "# 배열 요소의 타입을 수정\n",
    "a = np.arange(12).reshape(3,4)\n",
    "a"
   ]
  },
  {
   "cell_type": "code",
   "execution_count": 13,
   "id": "a755af71",
   "metadata": {
    "ExecuteTime": {
     "end_time": "2024-11-21T05:15:40.320874Z",
     "start_time": "2024-11-21T05:15:40.313893Z"
    }
   },
   "outputs": [
    {
     "data": {
      "text/plain": [
       "12"
      ]
     },
     "execution_count": 13,
     "metadata": {},
     "output_type": "execute_result"
    }
   ],
   "source": [
    "a.size # 요소의 갯수"
   ]
  },
  {
   "cell_type": "code",
   "execution_count": 14,
   "id": "31da7e26",
   "metadata": {
    "ExecuteTime": {
     "end_time": "2024-11-21T05:15:40.332842Z",
     "start_time": "2024-11-21T05:15:40.322869Z"
    }
   },
   "outputs": [
    {
     "data": {
      "text/plain": [
       "dtype('int32')"
      ]
     },
     "execution_count": 14,
     "metadata": {},
     "output_type": "execute_result"
    }
   ],
   "source": [
    "a.dtype"
   ]
  },
  {
   "cell_type": "code",
   "execution_count": 15,
   "id": "35ca0817",
   "metadata": {
    "ExecuteTime": {
     "end_time": "2024-11-21T05:15:40.341844Z",
     "start_time": "2024-11-21T05:15:40.336832Z"
    }
   },
   "outputs": [
    {
     "data": {
      "text/plain": [
       "4"
      ]
     },
     "execution_count": 15,
     "metadata": {},
     "output_type": "execute_result"
    }
   ],
   "source": [
    "a.itemsize"
   ]
  },
  {
   "cell_type": "code",
   "execution_count": 16,
   "id": "8949f11e",
   "metadata": {
    "ExecuteTime": {
     "end_time": "2024-11-21T05:15:40.348884Z",
     "start_time": "2024-11-21T05:15:40.342900Z"
    }
   },
   "outputs": [
    {
     "data": {
      "text/plain": [
       "dtype('int64')"
      ]
     },
     "execution_count": 16,
     "metadata": {},
     "output_type": "execute_result"
    }
   ],
   "source": [
    "a.dtype = np.int64\n",
    "a.dtype"
   ]
  },
  {
   "cell_type": "code",
   "execution_count": 17,
   "id": "a0873fed",
   "metadata": {
    "ExecuteTime": {
     "end_time": "2024-11-21T05:15:40.356863Z",
     "start_time": "2024-11-21T05:15:40.350879Z"
    }
   },
   "outputs": [
    {
     "data": {
      "text/plain": [
       "8"
      ]
     },
     "execution_count": 17,
     "metadata": {},
     "output_type": "execute_result"
    }
   ],
   "source": [
    "a.itemsize # 요소의 byte 사이즈"
   ]
  },
  {
   "cell_type": "code",
   "execution_count": 18,
   "id": "0aad171c",
   "metadata": {
    "ExecuteTime": {
     "end_time": "2024-11-21T05:15:40.364841Z",
     "start_time": "2024-11-21T05:15:40.359855Z"
    }
   },
   "outputs": [
    {
     "data": {
      "text/plain": [
       "6"
      ]
     },
     "execution_count": 18,
     "metadata": {},
     "output_type": "execute_result"
    }
   ],
   "source": [
    "a.size"
   ]
  },
  {
   "cell_type": "code",
   "execution_count": 19,
   "id": "974de5ef",
   "metadata": {
    "ExecuteTime": {
     "end_time": "2024-11-21T05:15:40.371695Z",
     "start_time": "2024-11-21T05:15:40.366836Z"
    }
   },
   "outputs": [
    {
     "data": {
      "text/plain": [
       "array([[ 4294967296, 12884901890],\n",
       "       [21474836484, 30064771078],\n",
       "       [38654705672, 47244640266]], dtype=int64)"
      ]
     },
     "execution_count": 19,
     "metadata": {},
     "output_type": "execute_result"
    }
   ],
   "source": [
    "a"
   ]
  },
  {
   "cell_type": "code",
   "execution_count": 20,
   "id": "6fcc3064",
   "metadata": {
    "ExecuteTime": {
     "end_time": "2024-11-21T05:15:40.384825Z",
     "start_time": "2024-11-21T05:15:40.372691Z"
    }
   },
   "outputs": [
    {
     "data": {
      "text/plain": [
       "array([ 4294967296, 12884901890, 21474836484, 30064771078, 38654705672,\n",
       "       47244640266], dtype=int64)"
      ]
     },
     "execution_count": 20,
     "metadata": {},
     "output_type": "execute_result"
    }
   ],
   "source": [
    "a.ravel() # flatten 됨"
   ]
  },
  {
   "cell_type": "markdown",
   "id": "3974d9e5",
   "metadata": {},
   "source": [
    "# 2절. 넘파이 배열\n",
    "- array() 함수를 이용한 다른 파이썬 구조(list, tuple)를 배열로 반환\n",
    "- 기타 함수들 : arange, ones, zeros, empty\n",
    "- 랜덤값을 갖는 함수들 ....\n",
    "- [numpy docs](https://numpy.org/doc/stable/)\n",
    "- [numpy 함수들](https://numpy.org/doc/stable/reference/)"
   ]
  },
  {
   "cell_type": "markdown",
   "id": "174236e1",
   "metadata": {},
   "source": [
    "## 2.1 array()함수로 넘파이 배열 만들기\n",
    "- array(obj, dtype=np.xx, copy=T/F)"
   ]
  },
  {
   "cell_type": "code",
   "execution_count": 21,
   "id": "2565038a",
   "metadata": {
    "ExecuteTime": {
     "end_time": "2024-11-21T05:15:40.394798Z",
     "start_time": "2024-11-21T05:15:40.387818Z"
    }
   },
   "outputs": [
    {
     "data": {
      "text/plain": [
       "array([2, 4, 6], dtype=int16)"
      ]
     },
     "execution_count": 21,
     "metadata": {},
     "output_type": "execute_result"
    }
   ],
   "source": [
    "a = np.array([2,4,6], dtype=np.int16) # 정수의 기본 타입 int32 \n",
    "a"
   ]
  },
  {
   "cell_type": "code",
   "execution_count": 22,
   "id": "808af284",
   "metadata": {
    "ExecuteTime": {
     "end_time": "2024-11-21T05:15:40.405769Z",
     "start_time": "2024-11-21T05:15:40.397790Z"
    }
   },
   "outputs": [
    {
     "data": {
      "text/plain": [
       "(2, 4, 6)"
      ]
     },
     "execution_count": 22,
     "metadata": {},
     "output_type": "execute_result"
    }
   ],
   "source": [
    "a[0],a[1],a[2],"
   ]
  },
  {
   "cell_type": "code",
   "execution_count": 23,
   "id": "b999e22f",
   "metadata": {
    "ExecuteTime": {
     "end_time": "2024-11-21T05:15:40.413748Z",
     "start_time": "2024-11-21T05:15:40.407765Z"
    }
   },
   "outputs": [
    {
     "name": "stdout",
     "output_type": "stream",
     "text": [
      "2\t4\t6\t"
     ]
    }
   ],
   "source": [
    "for i in a:\n",
    "    print(i,end='\\t')"
   ]
  },
  {
   "cell_type": "code",
   "execution_count": 24,
   "id": "a73c98a2",
   "metadata": {
    "ExecuteTime": {
     "end_time": "2024-11-21T05:15:40.434822Z",
     "start_time": "2024-11-21T05:15:40.415742Z"
    }
   },
   "outputs": [
    {
     "data": {
      "text/plain": [
       "dtype('int16')"
      ]
     },
     "execution_count": 24,
     "metadata": {},
     "output_type": "execute_result"
    }
   ],
   "source": [
    "a.dtype"
   ]
  },
  {
   "cell_type": "code",
   "execution_count": 25,
   "id": "c59888aa",
   "metadata": {
    "ExecuteTime": {
     "end_time": "2024-11-21T05:15:40.442800Z",
     "start_time": "2024-11-21T05:15:40.436816Z"
    }
   },
   "outputs": [
    {
     "data": {
      "text/plain": [
       "array([[1.5, 2.3],\n",
       "       [4. , 5. ]])"
      ]
     },
     "execution_count": 25,
     "metadata": {},
     "output_type": "execute_result"
    }
   ],
   "source": [
    "b = np.array([\n",
    "                 [1.5,2.3], # 실수의 기본 타입은 float64\n",
    "                 [4,5]     # 동일 자료형으로 배열 생성 : 정수>실수>문자\n",
    "             ])\n",
    "b"
   ]
  },
  {
   "cell_type": "code",
   "execution_count": 26,
   "id": "e2b5a6ef",
   "metadata": {
    "ExecuteTime": {
     "end_time": "2024-11-21T05:15:40.450779Z",
     "start_time": "2024-11-21T05:15:40.444795Z"
    }
   },
   "outputs": [
    {
     "data": {
      "text/plain": [
       "(1.5, 1.5)"
      ]
     },
     "execution_count": 26,
     "metadata": {},
     "output_type": "execute_result"
    }
   ],
   "source": [
    "b[0][0], b[0,0] # 2차원 (axis0, axis1)"
   ]
  },
  {
   "cell_type": "code",
   "execution_count": 27,
   "id": "0060f3e9",
   "metadata": {
    "ExecuteTime": {
     "end_time": "2024-11-21T05:15:40.458758Z",
     "start_time": "2024-11-21T05:15:40.452774Z"
    }
   },
   "outputs": [
    {
     "data": {
      "text/plain": [
       "array([[1.5, 2.3],\n",
       "       [4. , 5. ]])"
      ]
     },
     "execution_count": 27,
     "metadata": {},
     "output_type": "execute_result"
    }
   ],
   "source": [
    "b = np.array([\n",
    "                 (1.5,2.3), # 실수의 기본 타입은 float64\n",
    "                 (4,5)     # 동일 자료형으로 배열 생성 : 정수>실수>문자\n",
    "             ])\n",
    "b"
   ]
  },
  {
   "cell_type": "code",
   "execution_count": 28,
   "id": "9493b7d0",
   "metadata": {
    "ExecuteTime": {
     "end_time": "2024-11-21T05:15:40.466736Z",
     "start_time": "2024-11-21T05:15:40.460753Z"
    }
   },
   "outputs": [
    {
     "data": {
      "text/plain": [
       "array([[1.5, 2.3, 4. , 5. ]])"
      ]
     },
     "execution_count": 28,
     "metadata": {},
     "output_type": "execute_result"
    }
   ],
   "source": [
    "a= np.array([[1.5,2.3],[4,5]]).reshape(1,4) # 2행 2열짜리 배열을 1행 4열로 shape 변환\n",
    "a"
   ]
  },
  {
   "cell_type": "code",
   "execution_count": 29,
   "id": "429a273d",
   "metadata": {
    "ExecuteTime": {
     "end_time": "2024-11-21T05:15:40.484819Z",
     "start_time": "2024-11-21T05:15:40.468716Z"
    }
   },
   "outputs": [
    {
     "data": {
      "text/plain": [
       "dtype('float64')"
      ]
     },
     "execution_count": 29,
     "metadata": {},
     "output_type": "execute_result"
    }
   ],
   "source": [
    "a.dtype"
   ]
  },
  {
   "cell_type": "code",
   "execution_count": 30,
   "id": "4e0f22b3",
   "metadata": {
    "ExecuteTime": {
     "end_time": "2024-11-21T05:15:40.492797Z",
     "start_time": "2024-11-21T05:15:40.486814Z"
    }
   },
   "outputs": [
    {
     "data": {
      "text/plain": [
       "array([[1.5, 2.3],\n",
       "       [4. , 5. ]], dtype=float32)"
      ]
     },
     "execution_count": 30,
     "metadata": {},
     "output_type": "execute_result"
    }
   ],
   "source": [
    "a= np.array([(1.5,2.3,4,5)], dtype=np.float32).reshape(2,2)\n",
    "a"
   ]
  },
  {
   "cell_type": "code",
   "execution_count": 31,
   "id": "7a3f44a6",
   "metadata": {
    "ExecuteTime": {
     "end_time": "2024-11-21T05:15:40.500776Z",
     "start_time": "2024-11-21T05:15:40.494792Z"
    }
   },
   "outputs": [
    {
     "data": {
      "text/plain": [
       "4"
      ]
     },
     "execution_count": 31,
     "metadata": {},
     "output_type": "execute_result"
    }
   ],
   "source": [
    "a.itemsize # 한 요소의 byte 수"
   ]
  },
  {
   "cell_type": "code",
   "execution_count": 32,
   "id": "19450421",
   "metadata": {
    "ExecuteTime": {
     "end_time": "2024-11-21T05:15:40.508755Z",
     "start_time": "2024-11-21T05:15:40.502771Z"
    }
   },
   "outputs": [
    {
     "data": {
      "text/plain": [
       "dtype('float32')"
      ]
     },
     "execution_count": 32,
     "metadata": {},
     "output_type": "execute_result"
    }
   ],
   "source": [
    "a.dtype"
   ]
  },
  {
   "cell_type": "code",
   "execution_count": 33,
   "id": "bf75f596",
   "metadata": {
    "ExecuteTime": {
     "end_time": "2024-11-21T05:15:40.516733Z",
     "start_time": "2024-11-21T05:15:40.510749Z"
    }
   },
   "outputs": [
    {
     "data": {
      "text/plain": [
       "array([[1.5       , 2.29999995],\n",
       "       [4.        , 5.        ]])"
      ]
     },
     "execution_count": 33,
     "metadata": {},
     "output_type": "execute_result"
    }
   ],
   "source": [
    "#a.dtype = np.float64 안됨\n",
    "a = a.astype(np.float64) # 배열 요소의 타입을 바꾸는 함수\n",
    "a"
   ]
  },
  {
   "cell_type": "code",
   "execution_count": 34,
   "id": "41700641",
   "metadata": {
    "ExecuteTime": {
     "end_time": "2024-11-21T05:15:40.526801Z",
     "start_time": "2024-11-21T05:15:40.518707Z"
    }
   },
   "outputs": [
    {
     "data": {
      "text/plain": [
       "dtype('float64')"
      ]
     },
     "execution_count": 34,
     "metadata": {},
     "output_type": "execute_result"
    }
   ],
   "source": [
    "a.dtype"
   ]
  },
  {
   "cell_type": "code",
   "execution_count": 35,
   "id": "20db6e02",
   "metadata": {
    "ExecuteTime": {
     "end_time": "2024-11-21T05:15:40.533783Z",
     "start_time": "2024-11-21T05:15:40.528796Z"
    }
   },
   "outputs": [
    {
     "name": "stdout",
     "output_type": "stream",
     "text": [
      "1\t2\t\n",
      "4.5\t3.4\t\n"
     ]
    }
   ],
   "source": [
    "l = [[1,2],[4.5,3.4]]\n",
    "for row in l:\n",
    "    for data in row:\n",
    "        print(data, end='\\t')\n",
    "    print()"
   ]
  },
  {
   "cell_type": "code",
   "execution_count": 36,
   "id": "dfecc308",
   "metadata": {
    "ExecuteTime": {
     "end_time": "2024-11-21T05:15:40.541761Z",
     "start_time": "2024-11-21T05:15:40.535778Z"
    }
   },
   "outputs": [
    {
     "name": "stdout",
     "output_type": "stream",
     "text": [
      "0행0열 : 1\t0행1열 : 2\t\n",
      "1행0열 : 4.5\t1행1열 : 3.4\t\n"
     ]
    }
   ],
   "source": [
    "for i,row in enumerate(l):\n",
    "    for j, data in enumerate(row):\n",
    "        print('{}행{}열 : {}'.format(i,j,data), end='\\t')\n",
    "    print()"
   ]
  },
  {
   "cell_type": "code",
   "execution_count": 37,
   "id": "da7db0b6",
   "metadata": {
    "ExecuteTime": {
     "end_time": "2024-11-21T05:15:40.548742Z",
     "start_time": "2024-11-21T05:15:40.543756Z"
    }
   },
   "outputs": [
    {
     "name": "stdout",
     "output_type": "stream",
     "text": [
      "1\n",
      "[1, 2]\n"
     ]
    }
   ],
   "source": [
    "print(l[0][0]) # list의 인덱싱\n",
    "print(l[0:2][0]) # 슬라이싱"
   ]
  },
  {
   "cell_type": "code",
   "execution_count": 38,
   "id": "17190e10",
   "metadata": {
    "ExecuteTime": {
     "end_time": "2024-11-21T05:15:40.556722Z",
     "start_time": "2024-11-21T05:15:40.551735Z"
    }
   },
   "outputs": [],
   "source": [
    "# 2차원 배열\n",
    "b = np.array([\n",
    "    [1,2,3,4,5],\n",
    "    [6,7,8,9,10]\n",
    "], dtype = np.int16)"
   ]
  },
  {
   "cell_type": "code",
   "execution_count": 39,
   "id": "41fd50b0",
   "metadata": {
    "ExecuteTime": {
     "end_time": "2024-11-21T05:15:40.567725Z",
     "start_time": "2024-11-21T05:15:40.563703Z"
    }
   },
   "outputs": [
    {
     "name": "stdout",
     "output_type": "stream",
     "text": [
      "1\t2\t3\t4\t5\t\n",
      "6\t7\t8\t9\t10\t\n"
     ]
    }
   ],
   "source": [
    "for row in b:\n",
    "    for data in row:\n",
    "        print(data, end='\\t')\n",
    "    print()"
   ]
  },
  {
   "cell_type": "code",
   "execution_count": 40,
   "id": "b96a337e",
   "metadata": {
    "ExecuteTime": {
     "end_time": "2024-11-21T05:15:40.576090Z",
     "start_time": "2024-11-21T05:15:40.569107Z"
    }
   },
   "outputs": [
    {
     "name": "stdout",
     "output_type": "stream",
     "text": [
      "0행0열 : 1\t0행1열 : 2\t0행2열 : 3\t0행3열 : 4\t0행4열 : 5\t\n",
      "1행0열 : 6\t1행1열 : 7\t1행2열 : 8\t1행3열 : 9\t1행4열 : 10\t\n"
     ]
    }
   ],
   "source": [
    "for i, row in enumerate(b):\n",
    "    for j,data in enumerate(row):\n",
    "        print('{}행{}열 : {}'.format(i,j,data), end='\\t')\n",
    "    print()"
   ]
  },
  {
   "cell_type": "code",
   "execution_count": 41,
   "id": "aee9018a",
   "metadata": {
    "ExecuteTime": {
     "end_time": "2024-11-21T05:15:40.585065Z",
     "start_time": "2024-11-21T05:15:40.578084Z"
    }
   },
   "outputs": [
    {
     "name": "stdout",
     "output_type": "stream",
     "text": [
      "1\n",
      "[[2 3]\n",
      " [7 8]]\n"
     ]
    }
   ],
   "source": [
    "print(b[0,0])\n",
    "print(b[0:2,1:3]) # 슬라이싱(행과 열을 모두 슬라이싱 하면 2차원 배열)"
   ]
  },
  {
   "cell_type": "code",
   "execution_count": 42,
   "id": "8525c8c5",
   "metadata": {
    "ExecuteTime": {
     "end_time": "2024-11-21T05:15:40.592047Z",
     "start_time": "2024-11-21T05:15:40.587060Z"
    }
   },
   "outputs": [
    {
     "name": "stdout",
     "output_type": "stream",
     "text": [
      "[2 3]\n"
     ]
    }
   ],
   "source": [
    "print(b[0, 1:3]) # 0행을 슬라이싱하면 1차원 배열"
   ]
  },
  {
   "cell_type": "code",
   "execution_count": 43,
   "id": "d533394b",
   "metadata": {
    "ExecuteTime": {
     "end_time": "2024-11-21T05:15:40.599028Z",
     "start_time": "2024-11-21T05:15:40.594042Z"
    }
   },
   "outputs": [
    {
     "name": "stdout",
     "output_type": "stream",
     "text": [
      "[ 5 10]\n"
     ]
    }
   ],
   "source": [
    "print(b[:,-1]) # 모든행의 마지막 열만 추출"
   ]
  },
  {
   "cell_type": "code",
   "execution_count": 44,
   "id": "fc0b8a78",
   "metadata": {
    "ExecuteTime": {
     "end_time": "2024-11-21T05:15:40.606009Z",
     "start_time": "2024-11-21T05:15:40.601022Z"
    }
   },
   "outputs": [
    {
     "name": "stdout",
     "output_type": "stream",
     "text": [
      "[[ 4  5]\n",
      " [ 9 10]]\n"
     ]
    }
   ],
   "source": [
    "print(b[:,-2:]) # 모든행의 마지막 2열을 추출"
   ]
  },
  {
   "cell_type": "code",
   "execution_count": 45,
   "id": "ce6710a5",
   "metadata": {
    "ExecuteTime": {
     "end_time": "2024-11-21T05:18:45.570909Z",
     "start_time": "2024-11-21T05:18:45.566058Z"
    }
   },
   "outputs": [
    {
     "name": "stdout",
     "output_type": "stream",
     "text": [
      "a=10, b=10\n",
      "a=10, b=-1\n"
     ]
    }
   ],
   "source": [
    "# 스칼라 변수\n",
    "a = 10\n",
    "b = a\n",
    "print('a={}, b={}'.format(a,b))\n",
    "b = -1\n",
    "print('a={}, b={}'.format(a,b))"
   ]
  },
  {
   "cell_type": "code",
   "execution_count": 50,
   "id": "99d5c285",
   "metadata": {
    "ExecuteTime": {
     "end_time": "2024-11-21T05:24:44.540663Z",
     "start_time": "2024-11-21T05:24:44.534707Z"
    }
   },
   "outputs": [
    {
     "name": "stdout",
     "output_type": "stream",
     "text": [
      "c=\n",
      "[[1 2]\n",
      " [3 4]]\n",
      "d=\n",
      "[[1 2]\n",
      " [3 4]]\n",
      "두 변수의 주소 : 1983658727472 1983658727472\n",
      "c=\n",
      "[[9 2]\n",
      " [3 4]]\n",
      "d=\n",
      "[[9 2]\n",
      " [3 4]]\n",
      "c.dtype = int32\n",
      "d.dtype = int32\n"
     ]
    }
   ],
   "source": [
    "# numpy 배열\n",
    "c = np.array([\n",
    "    [1,2],\n",
    "    [3,4]\n",
    "])\n",
    "d = np.array(c, copy = False)# d = c 동일; 얕은복사\n",
    "print('c=', c, sep='\\n')\n",
    "print('d=', d, sep='\\n')\n",
    "print('두 변수의 주소 :',id(c),id(d))\n",
    "d [0,0] = 9\n",
    "print('c=', c, sep='\\n')\n",
    "print('d=', d, sep='\\n')\n",
    "print('c.dtype =', c.dtype)\n",
    "print('d.dtype =', d.dtype)"
   ]
  },
  {
   "cell_type": "code",
   "execution_count": 51,
   "id": "e8858ed3",
   "metadata": {
    "ExecuteTime": {
     "end_time": "2024-11-21T05:25:30.090377Z",
     "start_time": "2024-11-21T05:25:30.082399Z"
    }
   },
   "outputs": [
    {
     "name": "stdout",
     "output_type": "stream",
     "text": [
      "c=\n",
      "[[1 2]\n",
      " [3 4]]\n",
      "d=\n",
      "[[1 2]\n",
      " [3 4]]\n",
      "두 변수의 주소 : 1983674967088 1983674967184\n",
      "c=\n",
      "[[1 2]\n",
      " [3 4]]\n",
      "d=\n",
      "[[9 2]\n",
      " [3 4]]\n",
      "c.dtype = int32\n",
      "d.dtype = int32\n"
     ]
    }
   ],
   "source": [
    "# numpy 배열\n",
    "c = np.array([\n",
    "    [1,2],\n",
    "    [3,4]\n",
    "])\n",
    "d = np.array(c, copy = True)# d = c.copy() 동일; 깊은복사\n",
    "print('c=', c, sep='\\n')\n",
    "print('d=', d, sep='\\n')\n",
    "print('두 변수의 주소 :',id(c),id(d))\n",
    "d [0,0] = 9\n",
    "print('c=', c, sep='\\n')\n",
    "print('d=', d, sep='\\n')\n",
    "print('c.dtype =', c.dtype)\n",
    "print('d.dtype =', d.dtype)"
   ]
  },
  {
   "cell_type": "code",
   "execution_count": 55,
   "id": "159edee2",
   "metadata": {
    "ExecuteTime": {
     "end_time": "2024-11-21T05:30:23.896790Z",
     "start_time": "2024-11-21T05:30:23.889605Z"
    }
   },
   "outputs": [
    {
     "name": "stdout",
     "output_type": "stream",
     "text": [
      "두 변수의 주소 : 1983694499408 1983658730160\n",
      "c.dtype = int32\n",
      "d.dtype = int16\n",
      "c=\n",
      "[[1 2]\n",
      " [3 4]]\n",
      "d=\n",
      "[[9 2]\n",
      " [3 4]]\n"
     ]
    }
   ],
   "source": [
    "# copy = False 넣었지만 깊은 복사가 되는 경우\n",
    "c = np.array([[1,2],[3,4]], dtype= np.int32) # 기본 타입이 int 32\n",
    "d = np.array(c, copy=False, dtype = np.int16) # dtype이 바뀌면 자동 깊은복사\n",
    "d[0,0] = 9\n",
    "print('두 변수의 주소 :',id(c),id(d))\n",
    "print('c.dtype =', c.dtype)\n",
    "print('d.dtype =', d.dtype)\n",
    "print('c=', c, sep='\\n')\n",
    "print('d=', d, sep='\\n')"
   ]
  },
  {
   "cell_type": "markdown",
   "id": "89722451",
   "metadata": {},
   "source": [
    "##  2.2 기본값이 있는 배열 만들기\n",
    "- np.zeros(tup) : 요소들이 다 0\n",
    "- np.ones(tup) : 요소들이 다 1\n",
    "- np.full(tup, 기본값) : 요소들이 다 두번째 매개변수인 기본값\n",
    "- np.empty(tup) : 내용은 임의값인 배열(메모리 상태에 따라 달라짐)\n",
    "위 함수를 이용해서 생성된 배열은 기본이 dtype 이 float64, dtype 속성을 따로 지정할 수 있음"
   ]
  },
  {
   "cell_type": "code",
   "execution_count": 57,
   "id": "117652e0",
   "metadata": {
    "ExecuteTime": {
     "end_time": "2024-11-21T05:35:38.748493Z",
     "start_time": "2024-11-21T05:35:38.742489Z"
    }
   },
   "outputs": [
    {
     "data": {
      "text/plain": [
       "array([[0., 0., 0., 0., 0.],\n",
       "       [0., 0., 0., 0., 0.],\n",
       "       [0., 0., 0., 0., 0.]])"
      ]
     },
     "execution_count": 57,
     "metadata": {},
     "output_type": "execute_result"
    }
   ],
   "source": [
    "np.zeros((3,5))"
   ]
  },
  {
   "cell_type": "code",
   "execution_count": 59,
   "id": "9a56a312",
   "metadata": {
    "ExecuteTime": {
     "end_time": "2024-11-21T05:37:23.919699Z",
     "start_time": "2024-11-21T05:37:23.914174Z"
    }
   },
   "outputs": [
    {
     "name": "stdout",
     "output_type": "stream",
     "text": [
      "[[0 0 0 0 0]\n",
      " [0 0 0 0 0]]\n",
      "int16\n",
      "2\n"
     ]
    }
   ],
   "source": [
    "x = np.zeros((2,5), dtype = np.int16)\n",
    "print(x)\n",
    "print(x.dtype)\n",
    "print(x.itemsize)"
   ]
  },
  {
   "cell_type": "code",
   "execution_count": 61,
   "id": "76edf4c9",
   "metadata": {
    "ExecuteTime": {
     "end_time": "2024-11-21T05:38:20.004859Z",
     "start_time": "2024-11-21T05:38:19.997878Z"
    }
   },
   "outputs": [
    {
     "data": {
      "text/plain": [
       "array([[1.+0.j, 1.+0.j, 1.+0.j, 1.+0.j, 1.+0.j],\n",
       "       [1.+0.j, 1.+0.j, 1.+0.j, 1.+0.j, 1.+0.j]], dtype=complex64)"
      ]
     },
     "execution_count": 61,
     "metadata": {},
     "output_type": "execute_result"
    }
   ],
   "source": [
    "np.ones ((2,5), dtype=np.complex64)"
   ]
  },
  {
   "cell_type": "code",
   "execution_count": 66,
   "id": "8795bf3e",
   "metadata": {
    "ExecuteTime": {
     "end_time": "2024-11-21T05:40:33.000426Z",
     "start_time": "2024-11-21T05:40:32.994414Z"
    }
   },
   "outputs": [
    {
     "data": {
      "text/plain": [
       "array([[-1.2, -1.2, -1.2, -1.2, -1.2],\n",
       "       [-1.2, -1.2, -1.2, -1.2, -1.2]])"
      ]
     },
     "execution_count": 66,
     "metadata": {},
     "output_type": "execute_result"
    }
   ],
   "source": [
    "np.full((2,5),-1.2)"
   ]
  },
  {
   "cell_type": "code",
   "execution_count": 83,
   "id": "e3528c4d",
   "metadata": {
    "ExecuteTime": {
     "end_time": "2024-11-21T05:41:27.094867Z",
     "start_time": "2024-11-21T05:41:27.088883Z"
    }
   },
   "outputs": [
    {
     "data": {
      "text/plain": [
       "array([[9.80035731e-312, 7.21335843e-322, 0.00000000e+000,\n",
       "        0.00000000e+000, 1.33511018e-306],\n",
       "       [1.15998412e-028, 4.31603868e-080, 1.94919985e-153,\n",
       "        1.35717430e+131, 2.48103140e-091],\n",
       "       [3.45374415e-086, 8.51149261e-096, 1.03080438e+136,\n",
       "        6.01347002e-154, 2.48103140e-091],\n",
       "       [3.45374415e-086, 8.51149261e-096, 1.95360832e-109,\n",
       "        4.90900643e+252, 1.94918511e-153],\n",
       "       [6.32672800e+180, 4.74483502e+170, 5.55151217e-048,\n",
       "        2.22522596e-306, 4.89124989e-322]])"
      ]
     },
     "execution_count": 83,
     "metadata": {},
     "output_type": "execute_result"
    }
   ],
   "source": [
    "np.empty((5,5)) # 초기값이 메모리 상태에 따라 임의의 값"
   ]
  },
  {
   "cell_type": "markdown",
   "id": "3c3b1d8e",
   "metadata": {},
   "source": [
    "## 2.3 랜덤값을 갖는 배열 만들기\n",
    "- np.random.random(tup) : 0 부터 1 미만의 균등분포를 갖는 랜덤값\n",
    "- np.random.normal(loc = 0.0, scale = 1.0, size=tup) : 평균loc과 표준편차 scale을 갖는 정규분포를 갖는 랜덤값\n",
    "- np.random.rand(n) : 균등분포 1차원 난수 배열발생(난수 n개)\n",
    "- np.random.randn(n): 표준정규분포의 1차원 난수 배열 발생(난수 n개)\n",
    "-np.random.randint(n) : 0부터 n미만의 정수 난수 1개 발생"
   ]
  },
  {
   "cell_type": "code",
   "execution_count": 93,
   "id": "62fd6fe2",
   "metadata": {
    "ExecuteTime": {
     "end_time": "2024-11-21T06:42:54.815971Z",
     "start_time": "2024-11-21T06:42:54.809988Z"
    }
   },
   "outputs": [
    {
     "data": {
      "text/plain": [
       "array([[0.90726736, 0.68432507],\n",
       "       [0.95772873, 0.45605092]])"
      ]
     },
     "execution_count": 93,
     "metadata": {},
     "output_type": "execute_result"
    }
   ],
   "source": [
    "x = np.random.random((2,2))\n",
    "x"
   ]
  },
  {
   "cell_type": "code",
   "execution_count": 85,
   "id": "bca70092",
   "metadata": {
    "ExecuteTime": {
     "end_time": "2024-11-21T06:35:48.371271Z",
     "start_time": "2024-11-21T06:35:48.090460Z"
    }
   },
   "outputs": [
    {
     "data": {
      "image/png": "[encoded data removed]",
      "text/plain": [
       "<Figure size 500x200 with 1 Axes>"
      ]
     },
     "metadata": {},
     "output_type": "display_data"
    }
   ],
   "source": [
    "import matplotlib.pyplot as plt\n",
    "x = np.random.rand(100000)\n",
    "plt.figure(figsize=(5,2)) # 그래프 크기 (가로, 세로)\n",
    "plt.hist(x)\n",
    "plt.show()"
   ]
  },
  {
   "cell_type": "code",
   "execution_count": 113,
   "id": "703caf83",
   "metadata": {
    "ExecuteTime": {
     "end_time": "2024-11-21T06:49:10.062599Z",
     "start_time": "2024-11-21T06:49:09.828808Z"
    }
   },
   "outputs": [
    {
     "data": {
      "image/png": "[encoded data removed]",
      "text/plain": [
       "<Figure size 500x200 with 1 Axes>"
      ]
     },
     "metadata": {},
     "output_type": "display_data"
    }
   ],
   "source": [
    "x = np.random.randn(999999)\n",
    "plt.figure(figsize=(5,2))\n",
    "plt.hist(x, bins=100)\n",
    "plt.show()"
   ]
  },
  {
   "cell_type": "code",
   "execution_count": 87,
   "id": "136f0037",
   "metadata": {
    "ExecuteTime": {
     "end_time": "2024-11-21T06:36:38.813370Z",
     "start_time": "2024-11-21T06:36:38.806389Z"
    }
   },
   "outputs": [
    {
     "data": {
      "text/plain": [
       "array([[0.73055313, 0.43137236, 0.90336223, 0.98077626, 0.85120861],\n",
       "       [0.83402796, 0.75402506, 0.38379285, 0.77797533, 0.89175628]])"
      ]
     },
     "execution_count": 87,
     "metadata": {},
     "output_type": "execute_result"
    }
   ],
   "source": [
    "np.random.random((2,5))"
   ]
  },
  {
   "cell_type": "code",
   "execution_count": 88,
   "id": "16d5e6e5",
   "metadata": {
    "ExecuteTime": {
     "end_time": "2024-11-21T06:36:39.828319Z",
     "start_time": "2024-11-21T06:36:39.822335Z"
    }
   },
   "outputs": [
    {
     "data": {
      "text/plain": [
       "array([[ 4.35191417,  8.14629409, -0.71103216,  4.45028223,  2.35224263],\n",
       "       [ 2.1857643 , -1.05935808,  4.46357438,  2.12280298, -0.62375978]])"
      ]
     },
     "execution_count": 88,
     "metadata": {},
     "output_type": "execute_result"
    }
   ],
   "source": [
    "np.random.uniform(-2,10,(2,5))  # 2행 5열 짜리 난수(-2 ~ 10 미만의 균등분포 실수 난수) 배열"
   ]
  },
  {
   "cell_type": "code",
   "execution_count": 91,
   "id": "2962ab3e",
   "metadata": {
    "ExecuteTime": {
     "end_time": "2024-11-21T06:39:08.867491Z",
     "start_time": "2024-11-21T06:39:08.860511Z"
    }
   },
   "outputs": [
    {
     "data": {
      "text/plain": [
       "array([[-1.05402834, -3.36285176, -1.51512101, -5.40147127],\n",
       "       [-0.49371433, -5.06944268, -1.98974584, -2.24045534]])"
      ]
     },
     "execution_count": 91,
     "metadata": {},
     "output_type": "execute_result"
    }
   ],
   "source": [
    "np.random.seed(12)\n",
    "np.random.normal(-2,2,(2,4)) # 2행 4열짜리 평균 -2, 표준편차 2인 정규분포 난수 발생"
   ]
  },
  {
   "cell_type": "code",
   "execution_count": 92,
   "id": "dd173413",
   "metadata": {
    "ExecuteTime": {
     "end_time": "2024-11-21T06:42:11.164964Z",
     "start_time": "2024-11-21T06:42:11.158961Z"
    }
   },
   "outputs": [
    {
     "data": {
      "text/plain": [
       "30"
      ]
     },
     "execution_count": 92,
     "metadata": {},
     "output_type": "execute_result"
    }
   ],
   "source": [
    "np.random.randint(45)"
   ]
  },
  {
   "cell_type": "markdown",
   "id": "859a969d",
   "metadata": {},
   "source": [
    "## 2.4 연속된 값을 갖는 배열 만들기\n",
    "- np.arange(from, to, by, [dtype]) : from부터 to앞까지 by씩 건너뛴값을 1차원 배열로 생성(to 미포함)\n",
    "- np.linspace(from, to, num) : from부터 to까지 num개 숫자들을 1차원 배열로 생성(to 포함)"
   ]
  },
  {
   "cell_type": "code",
   "execution_count": 94,
   "id": "cc5be946",
   "metadata": {
    "ExecuteTime": {
     "end_time": "2024-11-21T06:46:48.368038Z",
     "start_time": "2024-11-21T06:46:48.362066Z"
    }
   },
   "outputs": [
    {
     "data": {
      "text/plain": [
       "array([10., 15., 20., 25.])"
      ]
     },
     "execution_count": 94,
     "metadata": {},
     "output_type": "execute_result"
    }
   ],
   "source": [
    "np.arange(10, 30, 5, dtype=np.float64)"
   ]
  },
  {
   "cell_type": "code",
   "execution_count": 96,
   "id": "7d4c0c1c",
   "metadata": {
    "ExecuteTime": {
     "end_time": "2024-11-21T06:48:33.595881Z",
     "start_time": "2024-11-21T06:48:33.589898Z"
    }
   },
   "outputs": [
    {
     "data": {
      "text/plain": [
       "array([[0. , 0.3, 0.6, 0.9],\n",
       "       [1.2, 1.5, 1.8, 2.1]])"
      ]
     },
     "execution_count": 96,
     "metadata": {},
     "output_type": "execute_result"
    }
   ],
   "source": [
    "np.arange(0, 2.1, 0.3).reshape(2,4)"
   ]
  },
  {
   "cell_type": "code",
   "execution_count": 114,
   "id": "d96d638f",
   "metadata": {
    "ExecuteTime": {
     "end_time": "2024-11-21T06:49:45.668334Z",
     "start_time": "2024-11-21T06:49:45.662381Z"
    }
   },
   "outputs": [
    {
     "data": {
      "text/plain": [
       "array([0.        , 0.10526316, 0.21052632, 0.31578947, 0.42105263,\n",
       "       0.52631579, 0.63157895, 0.73684211, 0.84210526, 0.94736842,\n",
       "       1.05263158, 1.15789474, 1.26315789, 1.36842105, 1.47368421,\n",
       "       1.57894737, 1.68421053, 1.78947368, 1.89473684, 2.        ])"
      ]
     },
     "execution_count": 114,
     "metadata": {},
     "output_type": "execute_result"
    }
   ],
   "source": [
    "np.linspace(0, 2, 20)"
   ]
  },
  {
   "cell_type": "code",
   "execution_count": 115,
   "id": "0d950998",
   "metadata": {
    "ExecuteTime": {
     "end_time": "2024-11-21T06:50:35.608087Z",
     "start_time": "2024-11-21T06:50:35.602104Z"
    }
   },
   "outputs": [
    {
     "data": {
      "text/plain": [
       "array([[0.        , 0.10526316, 0.21052632, 0.31578947, 0.42105263],\n",
       "       [0.52631579, 0.63157895, 0.73684211, 0.84210526, 0.94736842],\n",
       "       [1.05263158, 1.15789474, 1.26315789, 1.36842105, 1.47368421],\n",
       "       [1.57894737, 1.68421053, 1.78947368, 1.89473684, 2.        ]])"
      ]
     },
     "execution_count": 115,
     "metadata": {},
     "output_type": "execute_result"
    }
   ],
   "source": [
    "np.linspace(0, 2, 20).reshape(4,5)"
   ]
  },
  {
   "cell_type": "code",
   "execution_count": 121,
   "id": "d6fa8024",
   "metadata": {
    "ExecuteTime": {
     "end_time": "2024-11-21T06:55:20.430412Z",
     "start_time": "2024-11-21T06:55:20.426409Z"
    }
   },
   "outputs": [],
   "source": [
    "# linspace : 많은 수의 점들을 생성할 때 유용\n",
    "from numpy import linspace, pi\n",
    "x = linspace(0, 2*pi, 10000)\n",
    "f = np.sin(x)"
   ]
  },
  {
   "cell_type": "code",
   "execution_count": 122,
   "id": "7e499ab3",
   "metadata": {
    "ExecuteTime": {
     "end_time": "2024-11-21T06:55:20.938644Z",
     "start_time": "2024-11-21T06:55:20.816717Z"
    }
   },
   "outputs": [
    {
     "data": {
      "image/png": "[encoded data removed]",
      "text/plain": [
       "<Figure size 500x200 with 1 Axes>"
      ]
     },
     "metadata": {},
     "output_type": "display_data"
    }
   ],
   "source": [
    "import matplotlib.pyplot as plt\n",
    "plt.figure(figsize=(5,2))\n",
    "plt.plot(x, f)\n",
    "plt.show()"
   ]
  },
  {
   "cell_type": "markdown",
   "id": "7669c979",
   "metadata": {},
   "source": [
    "## 2.5 배열의 차원 변경하기\n",
    "- reshape(행, 열) : -1 가능\n",
    "- resize( (행수, 열수) ) : -1 불가\n",
    "- T : 전치행렬로 변환\n",
    "- transpose() : 전치행렬로 변환\n",
    "\n",
    "```\n",
    "실행 결과가 출력되면 배열이 수정되지 않고, 실행결과가 없으면 배열이 수정됨\n",
    "```"
   ]
  },
  {
   "cell_type": "code",
   "execution_count": 126,
   "id": "189d33e0",
   "metadata": {
    "ExecuteTime": {
     "end_time": "2024-11-21T06:59:54.244478Z",
     "start_time": "2024-11-21T06:59:54.238488Z"
    }
   },
   "outputs": [
    {
     "data": {
      "text/plain": [
       "array([[0.55577878, 0.60993017, 0.51294715],\n",
       "       [0.24055776, 0.87854693, 0.55549625]])"
      ]
     },
     "execution_count": 126,
     "metadata": {},
     "output_type": "execute_result"
    }
   ],
   "source": [
    "t = np.random.random((2,3))\n",
    "t"
   ]
  },
  {
   "cell_type": "code",
   "execution_count": 127,
   "id": "8f2fb949",
   "metadata": {
    "ExecuteTime": {
     "end_time": "2024-11-21T06:59:54.612407Z",
     "start_time": "2024-11-21T06:59:54.605446Z"
    }
   },
   "outputs": [
    {
     "data": {
      "text/plain": [
       "array([[5., 6., 5.],\n",
       "       [2., 8., 5.]])"
      ]
     },
     "execution_count": 127,
     "metadata": {},
     "output_type": "execute_result"
    }
   ],
   "source": [
    "a = np.floor(t*10)\n",
    "a"
   ]
  },
  {
   "cell_type": "code",
   "execution_count": 130,
   "id": "ffe2cb6f",
   "metadata": {
    "ExecuteTime": {
     "end_time": "2024-11-21T07:01:30.306543Z",
     "start_time": "2024-11-21T07:01:30.301532Z"
    }
   },
   "outputs": [
    {
     "data": {
      "text/plain": [
       "array([[5, 6, 5],\n",
       "       [2, 8, 5]], dtype=int16)"
      ]
     },
     "execution_count": 130,
     "metadata": {},
     "output_type": "execute_result"
    }
   ],
   "source": [
    "a = a.astype(np.int16)\n",
    "a # 2행 3열 2차원 배열"
   ]
  },
  {
   "cell_type": "code",
   "execution_count": 134,
   "id": "8f45ec18",
   "metadata": {
    "ExecuteTime": {
     "end_time": "2024-11-21T07:23:00.912516Z",
     "start_time": "2024-11-21T07:23:00.906532Z"
    }
   },
   "outputs": [
    {
     "data": {
      "text/plain": [
       "array([[5, 6],\n",
       "       [5, 2],\n",
       "       [8, 5]], dtype=int16)"
      ]
     },
     "execution_count": 134,
     "metadata": {},
     "output_type": "execute_result"
    }
   ],
   "source": [
    "a = a.reshape(3,2)\n",
    "a"
   ]
  },
  {
   "cell_type": "code",
   "execution_count": 140,
   "id": "df813c76",
   "metadata": {
    "ExecuteTime": {
     "end_time": "2024-11-21T07:24:37.288390Z",
     "start_time": "2024-11-21T07:24:37.282407Z"
    }
   },
   "outputs": [
    {
     "data": {
      "text/plain": [
       "array([[5, 6, 5],\n",
       "       [2, 8, 5]], dtype=int16)"
      ]
     },
     "execution_count": 140,
     "metadata": {},
     "output_type": "execute_result"
    }
   ],
   "source": [
    "a.reshape(-1,3) # -1 이 주어지면 해당 차원의 크기가 자동 계산"
   ]
  },
  {
   "cell_type": "code",
   "execution_count": 141,
   "id": "574402cb",
   "metadata": {
    "ExecuteTime": {
     "end_time": "2024-11-21T07:24:53.235493Z",
     "start_time": "2024-11-21T07:24:53.230506Z"
    }
   },
   "outputs": [
    {
     "data": {
      "text/plain": [
       "array([[5],\n",
       "       [6],\n",
       "       [5],\n",
       "       [2],\n",
       "       [8],\n",
       "       [5]], dtype=int16)"
      ]
     },
     "execution_count": 141,
     "metadata": {},
     "output_type": "execute_result"
    }
   ],
   "source": [
    "a.reshape(6,-1)"
   ]
  },
  {
   "cell_type": "code",
   "execution_count": 143,
   "id": "2e835914",
   "metadata": {
    "ExecuteTime": {
     "end_time": "2024-11-21T07:25:35.008461Z",
     "start_time": "2024-11-21T07:25:35.002470Z"
    }
   },
   "outputs": [
    {
     "data": {
      "text/plain": [
       "array([[5, 6, 5],\n",
       "       [2, 8, 5]], dtype=int16)"
      ]
     },
     "execution_count": 143,
     "metadata": {},
     "output_type": "execute_result"
    }
   ],
   "source": [
    "a.resize((2,3))\n",
    "a"
   ]
  },
  {
   "cell_type": "code",
   "execution_count": 144,
   "id": "e9ab3eb4",
   "metadata": {
    "ExecuteTime": {
     "end_time": "2024-11-21T07:26:41.703144Z",
     "start_time": "2024-11-21T07:26:41.698158Z"
    }
   },
   "outputs": [],
   "source": [
    "# a.resize(-1,6) resize는 -1 불가"
   ]
  },
  {
   "cell_type": "code",
   "execution_count": 147,
   "id": "8641afac",
   "metadata": {
    "ExecuteTime": {
     "end_time": "2024-11-21T07:27:03.084549Z",
     "start_time": "2024-11-21T07:27:03.078596Z"
    }
   },
   "outputs": [
    {
     "data": {
      "text/plain": [
       "array([[5, 6, 5],\n",
       "       [2, 8, 5]], dtype=int16)"
      ]
     },
     "execution_count": 147,
     "metadata": {},
     "output_type": "execute_result"
    }
   ],
   "source": [
    "a"
   ]
  },
  {
   "cell_type": "code",
   "execution_count": 149,
   "id": "e68a024a",
   "metadata": {
    "ExecuteTime": {
     "end_time": "2024-11-21T07:27:42.075351Z",
     "start_time": "2024-11-21T07:27:42.069589Z"
    }
   },
   "outputs": [
    {
     "data": {
      "text/plain": [
       "array([[5, 2],\n",
       "       [6, 8],\n",
       "       [5, 5]], dtype=int16)"
      ]
     },
     "execution_count": 149,
     "metadata": {},
     "output_type": "execute_result"
    }
   ],
   "source": [
    "a.T # a의 전치행렬 (행과 열을 뒤바꾼 행렬)"
   ]
  },
  {
   "cell_type": "code",
   "execution_count": 150,
   "id": "2bbb2e3e",
   "metadata": {
    "ExecuteTime": {
     "end_time": "2024-11-21T07:29:26.750861Z",
     "start_time": "2024-11-21T07:29:26.745890Z"
    }
   },
   "outputs": [
    {
     "data": {
      "text/plain": [
       "array([[5, 2],\n",
       "       [6, 8],\n",
       "       [5, 5]], dtype=int16)"
      ]
     },
     "execution_count": 150,
     "metadata": {},
     "output_type": "execute_result"
    }
   ],
   "source": [
    "a.transpose() # a의 전치행렬"
   ]
  },
  {
   "cell_type": "markdown",
   "id": "a35714db",
   "metadata": {},
   "source": [
    "## 2.6 배열 인쇄"
   ]
  },
  {
   "cell_type": "code",
   "execution_count": 1,
   "id": "4516ada8",
   "metadata": {
    "ExecuteTime": {
     "end_time": "2024-11-21T07:38:18.159414Z",
     "start_time": "2024-11-21T07:38:18.038295Z"
    }
   },
   "outputs": [
    {
     "name": "stdout",
     "output_type": "stream",
     "text": [
      "[   0    1    2 ... 9997 9998 9999]\n"
     ]
    }
   ],
   "source": [
    "# 배열이 커서 출력이 안 될 경우\n",
    "import numpy as np\n",
    "print(np.arange(10000))"
   ]
  },
  {
   "cell_type": "code",
   "execution_count": 2,
   "id": "31ba4f38",
   "metadata": {
    "ExecuteTime": {
     "end_time": "2024-11-21T07:38:18.862844Z",
     "start_time": "2024-11-21T07:38:18.853867Z"
    }
   },
   "outputs": [
    {
     "data": {
      "text/plain": [
       "array([[   0,    1,    2, ...,   97,   98,   99],\n",
       "       [ 100,  101,  102, ...,  197,  198,  199],\n",
       "       [ 200,  201,  202, ...,  297,  298,  299],\n",
       "       ...,\n",
       "       [9700, 9701, 9702, ..., 9797, 9798, 9799],\n",
       "       [9800, 9801, 9802, ..., 9897, 9898, 9899],\n",
       "       [9900, 9901, 9902, ..., 9997, 9998, 9999]])"
      ]
     },
     "execution_count": 2,
     "metadata": {},
     "output_type": "execute_result"
    }
   ],
   "source": [
    "np.arange(10000).reshape(100,100)"
   ]
  },
  {
   "cell_type": "code",
   "execution_count": 3,
   "id": "eec59eee",
   "metadata": {
    "ExecuteTime": {
     "end_time": "2024-11-21T07:38:09.142809Z",
     "start_time": "2024-11-21T07:38:09.137821Z"
    }
   },
   "outputs": [],
   "source": [
    "#배열이 너무 커서 인쇄할 수 없는 경우는 자동으로 건너뛰고 모서리 부분만 출력\n",
    "#numpy의 인쇄 옵션 변경 (인쇄할 사이즈를 최대치)\n",
    "import sys\n",
    "np.set_printoptions(threshold=10000) # 배열 10000개 까지 출력하도록 옵션\n",
    "np.set_printoptions(threshold=sys.maxsize)\n",
    "np.set_printoptions(threshold=np.infty)#np.infty = 무한대\n",
    "#커널 재시작시 다시 옵션 복귀"
   ]
  },
  {
   "cell_type": "code",
   "execution_count": 3,
   "id": "fed4633f",
   "metadata": {
    "ExecuteTime": {
     "end_time": "2024-11-21T07:38:21.939408Z",
     "start_time": "2024-11-21T07:38:21.934445Z"
    }
   },
   "outputs": [
    {
     "data": {
      "text/plain": [
       "array([[   0,    1,    2, ...,   97,   98,   99],\n",
       "       [ 100,  101,  102, ...,  197,  198,  199],\n",
       "       [ 200,  201,  202, ...,  297,  298,  299],\n",
       "       ...,\n",
       "       [9700, 9701, 9702, ..., 9797, 9798, 9799],\n",
       "       [9800, 9801, 9802, ..., 9897, 9898, 9899],\n",
       "       [9900, 9901, 9902, ..., 9997, 9998, 9999]])"
      ]
     },
     "execution_count": 3,
     "metadata": {},
     "output_type": "execute_result"
    }
   ],
   "source": [
    "np.arange(10000).reshape(100,100)"
   ]
  },
  {
   "cell_type": "markdown",
   "id": "37dc8ee0",
   "metadata": {},
   "source": [
    "## 2.7 기본 연산 동작\n",
    "### 1) 배열의 요소별 연산"
   ]
  },
  {
   "cell_type": "code",
   "execution_count": 4,
   "id": "4bd79a51",
   "metadata": {
    "ExecuteTime": {
     "end_time": "2024-11-21T07:41:13.123746Z",
     "start_time": "2024-11-21T07:41:13.118777Z"
    }
   },
   "outputs": [
    {
     "name": "stdout",
     "output_type": "stream",
     "text": [
      "[20 30 40 50]\n",
      "[0 1 2 3]\n"
     ]
    }
   ],
   "source": [
    "a = np.array([20,30,40,50])\n",
    "b = np.array([0,1,2,3])\n",
    "print(a)\n",
    "print(b)"
   ]
  },
  {
   "cell_type": "code",
   "execution_count": 6,
   "id": "88d3fd97",
   "metadata": {
    "ExecuteTime": {
     "end_time": "2024-11-21T07:41:59.319759Z",
     "start_time": "2024-11-21T07:41:59.314771Z"
    }
   },
   "outputs": [
    {
     "name": "stdout",
     "output_type": "stream",
     "text": [
      "[20 31 42 53]\n",
      "[20 29 38 47]\n",
      "[  0  30  80 150]\n",
      "[        inf 30.         20.         16.66666667]\n"
     ]
    },
    {
     "name": "stderr",
     "output_type": "stream",
     "text": [
      "C:\\Users\\4545\\AppData\\Local\\Temp\\ipykernel_16052\\158354112.py:4: RuntimeWarning: divide by zero encountered in divide\n",
      "  print(a / b)\n"
     ]
    }
   ],
   "source": [
    "print(a + b)\n",
    "print(a - b)\n",
    "print(a * b)\n",
    "print(a / b)"
   ]
  },
  {
   "cell_type": "code",
   "execution_count": 7,
   "id": "0d631627",
   "metadata": {
    "ExecuteTime": {
     "end_time": "2024-11-21T07:42:49.043284Z",
     "start_time": "2024-11-21T07:42:49.039295Z"
    }
   },
   "outputs": [
    {
     "name": "stdout",
     "output_type": "stream",
     "text": [
      "[     1     30   1600 125000]\n"
     ]
    }
   ],
   "source": [
    "print(a**b)"
   ]
  },
  {
   "cell_type": "code",
   "execution_count": 8,
   "id": "31db9274",
   "metadata": {
    "ExecuteTime": {
     "end_time": "2024-11-21T07:44:17.613043Z",
     "start_time": "2024-11-21T07:44:17.607059Z"
    }
   },
   "outputs": [
    {
     "data": {
      "text/plain": [
       "array([20, 31, 42, 53])"
      ]
     },
     "execution_count": 8,
     "metadata": {},
     "output_type": "execute_result"
    }
   ],
   "source": [
    "a += b\n",
    "a"
   ]
  },
  {
   "cell_type": "code",
   "execution_count": 9,
   "id": "0faa9d57",
   "metadata": {
    "ExecuteTime": {
     "end_time": "2024-11-21T07:44:22.740051Z",
     "start_time": "2024-11-21T07:44:22.734068Z"
    }
   },
   "outputs": [
    {
     "data": {
      "text/plain": [
       "array([ True,  True, False, False])"
      ]
     },
     "execution_count": 9,
     "metadata": {},
     "output_type": "execute_result"
    }
   ],
   "source": [
    "a < 40"
   ]
  },
  {
   "cell_type": "code",
   "execution_count": 10,
   "id": "4f3ce314",
   "metadata": {
    "ExecuteTime": {
     "end_time": "2024-11-21T07:45:30.357031Z",
     "start_time": "2024-11-21T07:45:30.351017Z"
    }
   },
   "outputs": [
    {
     "data": {
      "text/plain": [
       "array([20, 31])"
      ]
     },
     "execution_count": 10,
     "metadata": {},
     "output_type": "execute_result"
    }
   ],
   "source": [
    "# a배열에서 40보다 작은 데이터만 추출하려면 인덱스에 식을 사용\n",
    "a[a<40]"
   ]
  },
  {
   "cell_type": "code",
   "execution_count": 12,
   "id": "c7de8860",
   "metadata": {
    "ExecuteTime": {
     "end_time": "2024-11-21T07:47:21.441072Z",
     "start_time": "2024-11-21T07:47:21.424270Z"
    }
   },
   "outputs": [
    {
     "data": {
      "text/plain": [
       "array([  0,  31,  84, 159])"
      ]
     },
     "execution_count": 12,
     "metadata": {},
     "output_type": "execute_result"
    }
   ],
   "source": [
    "a*b # 요소별 곱"
   ]
  },
  {
   "cell_type": "markdown",
   "id": "672ede34",
   "metadata": {},
   "source": [
    "### 2) 행렬의 곱(@, dot함수) cf. * (요소별곱)"
   ]
  },
  {
   "cell_type": "code",
   "execution_count": 13,
   "id": "57a87d50",
   "metadata": {
    "ExecuteTime": {
     "end_time": "2024-11-21T08:13:35.645149Z",
     "start_time": "2024-11-21T08:13:35.639165Z"
    }
   },
   "outputs": [
    {
     "data": {
      "text/plain": [
       "(array([[1, 1],\n",
       "        [0, 1]]),\n",
       " array([[2, 0],\n",
       "        [3, 4]]))"
      ]
     },
     "execution_count": 13,
     "metadata": {},
     "output_type": "execute_result"
    }
   ],
   "source": [
    "A = np.array([\n",
    "    [1,1],\n",
    "    [0,1]\n",
    "])\n",
    "B = np.array([\n",
    "    [2,0],\n",
    "    [3,4]\n",
    "])\n",
    "A,B"
   ]
  },
  {
   "cell_type": "code",
   "execution_count": 16,
   "id": "61ceef7c",
   "metadata": {
    "ExecuteTime": {
     "end_time": "2024-11-21T08:15:38.420704Z",
     "start_time": "2024-11-21T08:15:38.414720Z"
    }
   },
   "outputs": [
    {
     "name": "stdout",
     "output_type": "stream",
     "text": [
      "요소별 곱 A*B =\n",
      "[[2 0]\n",
      " [0 4]]\n",
      "행렬 곱 A@B =\n",
      "[[5 4]\n",
      " [3 4]]\n",
      "행렬 곱 A.dot(B) =\n",
      "[[5 4]\n",
      " [3 4]]\n"
     ]
    }
   ],
   "source": [
    "print('요소별 곱 A*B =', A*B, sep='\\n')\n",
    "print('행렬 곱 A@B =', A@B, sep='\\n')\n",
    "print('행렬 곱 A.dot(B) =', A.dot(B), sep='\\n')"
   ]
  },
  {
   "cell_type": "code",
   "execution_count": 17,
   "id": "ee38530c",
   "metadata": {
    "ExecuteTime": {
     "end_time": "2024-11-21T08:16:41.440436Z",
     "start_time": "2024-11-21T08:16:41.434480Z"
    }
   },
   "outputs": [
    {
     "data": {
      "text/plain": [
       "array([[2, 0],\n",
       "       [3, 4]])"
      ]
     },
     "execution_count": 17,
     "metadata": {},
     "output_type": "execute_result"
    }
   ],
   "source": [
    "A = np.array([\n",
    "    [1,0],\n",
    "    [0,1]\n",
    "])\n",
    "B = np.array([\n",
    "    [2,0],\n",
    "    [3,4]\n",
    "])"
   ]
  },
  {
   "cell_type": "code",
   "execution_count": 19,
   "id": "ac447ac8",
   "metadata": {
    "ExecuteTime": {
     "end_time": "2024-11-21T08:17:50.123744Z",
     "start_time": "2024-11-21T08:17:50.118785Z"
    }
   },
   "outputs": [
    {
     "name": "stdout",
     "output_type": "stream",
     "text": [
      "B@단위행렬:\n",
      "[[2 0]\n",
      " [3 4]]\n",
      "단위행렬@B:\n",
      "[[2 0]\n",
      " [3 4]]\n"
     ]
    }
   ],
   "source": [
    "print('B@단위행렬:', B@A, sep='\\n')\n",
    "print('단위행렬@B:', A@B, sep='\\n')"
   ]
  },
  {
   "cell_type": "markdown",
   "id": "eaf1b59d",
   "metadata": {},
   "source": [
    "###  3) 복합 대입 연산자 사용 (-=, +=,...)"
   ]
  },
  {
   "cell_type": "code",
   "execution_count": 28,
   "id": "a3f2e656",
   "metadata": {
    "ExecuteTime": {
     "end_time": "2024-11-21T08:23:11.496237Z",
     "start_time": "2024-11-21T08:23:11.490252Z"
    }
   },
   "outputs": [
    {
     "data": {
      "text/plain": [
       "array([[1, 1, 1],\n",
       "       [1, 1, 1]])"
      ]
     },
     "execution_count": 28,
     "metadata": {},
     "output_type": "execute_result"
    }
   ],
   "source": [
    "a = np.ones((2,3), dtype=int) # 2행 3열짜리 int 32 배열\n",
    "a"
   ]
  },
  {
   "cell_type": "code",
   "execution_count": 29,
   "id": "2f69dc8e",
   "metadata": {
    "ExecuteTime": {
     "end_time": "2024-11-21T08:23:12.025591Z",
     "start_time": "2024-11-21T08:23:12.017012Z"
    }
   },
   "outputs": [
    {
     "data": {
      "text/plain": [
       "array([[0.4003651 , 0.06671999, 0.92914107],\n",
       "       [0.27901928, 0.97447002, 0.6158323 ]])"
      ]
     },
     "execution_count": 29,
     "metadata": {},
     "output_type": "execute_result"
    }
   ],
   "source": [
    "b = np.random.random((2,3)) # 2행 3열짜리 float64 배열\n",
    "b"
   ]
  },
  {
   "cell_type": "code",
   "execution_count": 30,
   "id": "35291acf",
   "metadata": {
    "ExecuteTime": {
     "end_time": "2024-11-21T08:23:12.611641Z",
     "start_time": "2024-11-21T08:23:12.605657Z"
    }
   },
   "outputs": [
    {
     "data": {
      "text/plain": [
       "array([[4, 4, 4],\n",
       "       [4, 4, 4]])"
      ]
     },
     "execution_count": 30,
     "metadata": {},
     "output_type": "execute_result"
    }
   ],
   "source": [
    "a += 3 # a = a+3\n",
    "a"
   ]
  },
  {
   "cell_type": "code",
   "execution_count": 31,
   "id": "7c666cef",
   "metadata": {
    "ExecuteTime": {
     "end_time": "2024-11-21T08:23:13.218098Z",
     "start_time": "2024-11-21T08:23:13.214080Z"
    }
   },
   "outputs": [
    {
     "data": {
      "text/plain": [
       "array([[4.4003651 , 4.06671999, 4.92914107],\n",
       "       [4.27901928, 4.97447002, 4.6158323 ]])"
      ]
     },
     "execution_count": 31,
     "metadata": {},
     "output_type": "execute_result"
    }
   ],
   "source": [
    "b += a\n",
    "b"
   ]
  },
  {
   "cell_type": "code",
   "execution_count": 32,
   "id": "f94a8f66",
   "metadata": {
    "ExecuteTime": {
     "end_time": "2024-11-21T08:23:56.845529Z",
     "start_time": "2024-11-21T08:23:56.830557Z"
    }
   },
   "outputs": [
    {
     "ename": "UFuncTypeError",
     "evalue": "Cannot cast ufunc 'add' output from dtype('float64') to dtype('int32') with casting rule 'same_kind'",
     "output_type": "error",
     "traceback": [
      "\u001b[1;31m---------------------------------------------------------------------------\u001b[0m",
      "\u001b[1;31mUFuncTypeError\u001b[0m                            Traceback (most recent call last)",
      "Cell \u001b[1;32mIn[32], line 1\u001b[0m\n\u001b[1;32m----> 1\u001b[0m a \u001b[38;5;241m+\u001b[39m\u001b[38;5;241m=\u001b[39m b\n",
      "\u001b[1;31mUFuncTypeError\u001b[0m: Cannot cast ufunc 'add' output from dtype('float64') to dtype('int32') with casting rule 'same_kind'"
     ]
    }
   ],
   "source": [
    "a += b # a = a+b"
   ]
  },
  {
   "cell_type": "markdown",
   "id": "c251cd91",
   "metadata": {},
   "source": [
    "### 4) 배열 요소별 집계\n",
    "- sum, min, max, mean, var(분산), std(표준편차)"
   ]
  },
  {
   "cell_type": "code",
   "execution_count": 34,
   "id": "a7f1b6cb",
   "metadata": {
    "ExecuteTime": {
     "end_time": "2024-11-21T08:28:50.315679Z",
     "start_time": "2024-11-21T08:28:50.309695Z"
    }
   },
   "outputs": [
    {
     "data": {
      "text/plain": [
       "array([[2, 2, 2, 3],\n",
       "       [4, 3, 2, 1]])"
      ]
     },
     "execution_count": 34,
     "metadata": {},
     "output_type": "execute_result"
    }
   ],
   "source": [
    "a = np.array([\n",
    "    [2,2,2,3],\n",
    "    [4,3,2,1]\n",
    "])\n",
    "a"
   ]
  },
  {
   "cell_type": "code",
   "execution_count": 38,
   "id": "1716d3e6",
   "metadata": {
    "ExecuteTime": {
     "end_time": "2024-11-21T08:31:51.024408Z",
     "start_time": "2024-11-21T08:31:51.018395Z"
    }
   },
   "outputs": [
    {
     "name": "stdout",
     "output_type": "stream",
     "text": [
      "전체 합 : 19 19\n",
      "전체 평균 : 2.375 2.375\n",
      "전체 최소값 : 1 1\n",
      "전체 최대값 : 4 4\n",
      "전체 분산 : 0.734375 0.734375\n",
      "전체 표준편차 : 0.8569568250501305 0.8569568250501305\n"
     ]
    }
   ],
   "source": [
    "print('전체 합 :',a.sum(), np.sum(a))\n",
    "print('전체 평균 :',a.mean(), np.mean(a))\n",
    "print('전체 최소값 :',a.min(), np.min(a))\n",
    "print('전체 최대값 :',a.max(), np.max(a))\n",
    "print('전체 분산 :',a.var(), np.var(a))\n",
    "print('전체 표준편차 :',a.std(), np.std(a))"
   ]
  },
  {
   "cell_type": "markdown",
   "id": "57ce8824",
   "metadata": {},
   "source": [
    "###  5) 배열 축별 집계\n",
    "- 축별 sum, min, max, mean, var(분산), std(표준편차), argmax"
   ]
  },
  {
   "cell_type": "code",
   "execution_count": 39,
   "id": "9092084f",
   "metadata": {
    "ExecuteTime": {
     "end_time": "2024-11-21T08:37:54.581346Z",
     "start_time": "2024-11-21T08:37:54.575335Z"
    }
   },
   "outputs": [
    {
     "data": {
      "text/plain": [
       "array([[2, 2, 2, 3],\n",
       "       [4, 3, 2, 1]])"
      ]
     },
     "execution_count": 39,
     "metadata": {},
     "output_type": "execute_result"
    }
   ],
   "source": [
    "a"
   ]
  },
  {
   "cell_type": "code",
   "execution_count": 47,
   "id": "70c58a69",
   "metadata": {
    "ExecuteTime": {
     "end_time": "2024-11-21T08:46:42.874523Z",
     "start_time": "2024-11-21T08:46:42.870513Z"
    }
   },
   "outputs": [
    {
     "name": "stdout",
     "output_type": "stream",
     "text": [
      "a 행별 합 : [ 9 10] [ 9 10]\n"
     ]
    }
   ],
   "source": [
    "# 행을 고정하고, 1축의 합\n",
    "print('a 행별 합 :', a.sum(axis = 1), np.sum(a, axis=1))"
   ]
  },
  {
   "cell_type": "code",
   "execution_count": 46,
   "id": "dc691432",
   "metadata": {
    "ExecuteTime": {
     "end_time": "2024-11-21T08:46:41.548464Z",
     "start_time": "2024-11-21T08:46:41.543449Z"
    }
   },
   "outputs": [
    {
     "name": "stdout",
     "output_type": "stream",
     "text": [
      "a 열별 합 : [6 5 4 4] [6 5 4 4]\n"
     ]
    }
   ],
   "source": [
    "# 열을 고정하고, 0축의 합\n",
    "print('a 열별 합 :', a.sum(axis = 0), np.sum(a, axis=0))"
   ]
  },
  {
   "cell_type": "code",
   "execution_count": 51,
   "id": "9249fb2b",
   "metadata": {
    "ExecuteTime": {
     "end_time": "2024-11-21T08:50:23.779051Z",
     "start_time": "2024-11-21T08:50:23.774092Z"
    }
   },
   "outputs": [
    {
     "name": "stdout",
     "output_type": "stream",
     "text": [
      "a 행별 최대값 : [3 4] [3 4]\n",
      "a 열별 최대값 : [4 3 2 3] [4 3 2 3]\n"
     ]
    }
   ],
   "source": [
    "print('a 행별 최대값 :', a.max(axis=1), np.max(a, axis=1))\n",
    "print('a 열별 최대값 :', a.max(axis=0), np.max(a, axis=0))"
   ]
  },
  {
   "cell_type": "code",
   "execution_count": 50,
   "id": "6754a94a",
   "metadata": {
    "ExecuteTime": {
     "end_time": "2024-11-21T08:50:17.156912Z",
     "start_time": "2024-11-21T08:50:17.150929Z"
    }
   },
   "outputs": [
    {
     "name": "stdout",
     "output_type": "stream",
     "text": [
      "a 행별 최소값 : [2 1] [2 1]\n",
      "a 열별 최소값 : [2 2 2 1] [2 2 2 1]\n"
     ]
    }
   ],
   "source": [
    "print('a 행별 최소값 :', a.min(axis=1), np.min(a, axis=1))\n",
    "print('a 열별 최소값 :', a.min(axis=0), np.min(a, axis=0))"
   ]
  },
  {
   "cell_type": "code",
   "execution_count": 56,
   "id": "bf5d788a",
   "metadata": {
    "ExecuteTime": {
     "end_time": "2024-11-21T08:58:47.503132Z",
     "start_time": "2024-11-21T08:58:47.499154Z"
    }
   },
   "outputs": [
    {
     "name": "stdout",
     "output_type": "stream",
     "text": [
      "a 행별 최대값 위치: [3 0]\n",
      "a 열별 최대값 위치: [1 1 0 0]\n"
     ]
    }
   ],
   "source": [
    "print('a 행별 최대값 위치:', a.argmax(axis = 1))\n",
    "print('a 열별 최대값 위치:', a.argmax(axis = 0))"
   ]
  },
  {
   "cell_type": "code",
   "execution_count": null,
   "id": "6a86e206",
   "metadata": {},
   "outputs": [],
   "source": []
  },
  {
   "cell_type": "code",
   "execution_count": null,
   "id": "b9db8719",
   "metadata": {},
   "outputs": [],
   "source": []
  },
  {
   "cell_type": "code",
   "execution_count": null,
   "id": "e5975555",
   "metadata": {},
   "outputs": [],
   "source": []
  },
  {
   "cell_type": "code",
   "execution_count": null,
   "id": "8ea88940",
   "metadata": {},
   "outputs": [],
   "source": []
  },
  {
   "cell_type": "code",
   "execution_count": null,
   "id": "c77927ec",
   "metadata": {},
   "outputs": [],
   "source": []
  },
  {
   "cell_type": "code",
   "execution_count": null,
   "id": "26185afd",
   "metadata": {},
   "outputs": [],
   "source": []
  },
  {
   "cell_type": "code",
   "execution_count": null,
   "id": "5cd8c000",
   "metadata": {},
   "outputs": [],
   "source": []
  },
  {
   "cell_type": "code",
   "execution_count": null,
   "id": "b45eed19",
   "metadata": {},
   "outputs": [],
   "source": []
  },
  {
   "cell_type": "code",
   "execution_count": null,
   "id": "3e946cc7",
   "metadata": {},
   "outputs": [],
   "source": []
  },
  {
   "cell_type": "code",
   "execution_count": null,
   "id": "42ad7b83",
   "metadata": {},
   "outputs": [],
   "source": []
  },
  {
   "cell_type": "code",
   "execution_count": null,
   "id": "f9cb894b",
   "metadata": {},
   "outputs": [],
   "source": []
  },
  {
   "cell_type": "code",
   "execution_count": null,
   "id": "7534b08a",
   "metadata": {},
   "outputs": [],
   "source": []
  },
  {
   "cell_type": "code",
   "execution_count": null,
   "id": "01d1860e",
   "metadata": {},
   "outputs": [],
   "source": []
  },
  {
   "cell_type": "code",
   "execution_count": null,
   "id": "8a56c47a",
   "metadata": {},
   "outputs": [],
   "source": []
  },
  {
   "cell_type": "code",
   "execution_count": null,
   "id": "087207a4",
   "metadata": {},
   "outputs": [],
   "source": []
  },
  {
   "cell_type": "code",
   "execution_count": null,
   "id": "bc7353bc",
   "metadata": {},
   "outputs": [],
   "source": []
  },
  {
   "cell_type": "code",
   "execution_count": null,
   "id": "b94099c2",
   "metadata": {},
   "outputs": [],
   "source": []
  }
 ],
 "metadata": {
  "kernelspec": {
   "display_name": "Python 3 (ipykernel)",
   "language": "python",
   "name": "python3"
  },
  "language_info": {
   "codemirror_mode": {
    "name": "ipython",
    "version": 3
   },
   "file_extension": ".py",
   "mimetype": "text/x-python",
   "name": "python",
   "nbconvert_exporter": "python",
   "pygments_lexer": "ipython3",
   "version": "3.10.9"
  },
  "toc": {
   "base_numbering": 1,
   "nav_menu": {},
   "number_sections": true,
   "sideBar": true,
   "skip_h1_title": false,
   "title_cell": "Table of Contents",
   "title_sidebar": "Contents",
   "toc_cell": false,
   "toc_position": {
    "height": "calc(100% - 180px)",
    "left": "10px",
    "top": "150px",
    "width": "181px"
   },
   "toc_section_display": true,
   "toc_window_display": true
  }
 },
 "nbformat": 4,
 "nbformat_minor": 5
}
