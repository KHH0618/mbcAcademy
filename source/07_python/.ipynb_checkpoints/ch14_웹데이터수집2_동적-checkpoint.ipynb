{
 "cells": [
  {
   "cell_type": "markdown",
   "id": "08e40b1a",
   "metadata": {},
   "source": [
    "<b><font color=\"red\" size=\"6\">ch14. 웹 데이터 수집</font></b>"
   ]
  },
  {
   "cell_type": "markdown",
   "id": "76cd272a",
   "metadata": {},
   "source": [
    "# 1절. Selenium을 이용한 동적 웹크롤링 문법\n",
    "- https://selenium-python.readthedocs.io/\n",
    "\n",
    "`pip install selenium`"
   ]
  },
  {
   "cell_type": "code",
   "execution_count": 13,
   "id": "8cd80952",
   "metadata": {
    "ExecuteTime": {
     "end_time": "2024-12-10T09:00:01.855378Z",
     "start_time": "2024-12-10T08:59:59.487558Z"
    }
   },
   "outputs": [],
   "source": [
    "from selenium import webdriver\n",
    "from selenium.webdriver.common.by import By\n",
    "import time\n",
    "\n",
    "dv = webdriver.Chrome()\n",
    "dv.get('http://www.python.org')\n",
    "elem = dv.find_element(By.NAME, 'q')\n",
    "elem.clear()\n",
    "elem.send_keys(\"pycon\")"
   ]
  },
  {
   "cell_type": "code",
   "execution_count": 14,
   "id": "49e8c66c",
   "metadata": {
    "ExecuteTime": {
     "end_time": "2024-12-10T09:00:02.577925Z",
     "start_time": "2024-12-10T09:00:02.527069Z"
    }
   },
   "outputs": [],
   "source": [
    "dv.close()"
   ]
  },
  {
   "cell_type": "code",
   "execution_count": null,
   "id": "b8de6bb9",
   "metadata": {},
   "outputs": [],
   "source": []
  }
 ],
 "metadata": {
  "kernelspec": {
   "display_name": "Python 3 (ipykernel)",
   "language": "python",
   "name": "python3"
  },
  "language_info": {
   "codemirror_mode": {
    "name": "ipython",
    "version": 3
   },
   "file_extension": ".py",
   "mimetype": "text/x-python",
   "name": "python",
   "nbconvert_exporter": "python",
   "pygments_lexer": "ipython3",
   "version": "3.10.9"
  },
  "toc": {
   "base_numbering": 1,
   "nav_menu": {},
   "number_sections": true,
   "sideBar": true,
   "skip_h1_title": false,
   "title_cell": "Table of Contents",
   "title_sidebar": "Contents",
   "toc_cell": false,
   "toc_position": {
    "height": "calc(100% - 180px)",
    "left": "10px",
    "top": "150px",
    "width": "201px"
   },
   "toc_section_display": true,
   "toc_window_display": true
  }
 },
 "nbformat": 4,
 "nbformat_minor": 5
}
