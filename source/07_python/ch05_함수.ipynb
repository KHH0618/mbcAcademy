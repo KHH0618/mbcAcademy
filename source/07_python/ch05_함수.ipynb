{
 "cells": [
  {
   "cell_type": "markdown",
   "id": "01a87c1e",
   "metadata": {},
   "source": [
    "<b><font color=\"red\" size=\"6\">ch05. 함수</font></b>\n",
    "- 반복해서 사용할 코드를 묶어 놓고 그것에 이름을 붙인 것.\n",
    "- 오버로딩 불가\n",
    "- 함수의 정의\n",
    "```\n",
    "def 함수명 ([매개변수1, 매개변수2, ...]):\n",
    "    명령어 1\n",
    "    명령어 2\n",
    "```"
   ]
  },
  {
   "cell_type": "markdown",
   "id": "e622a561",
   "metadata": {},
   "source": [
    "# 1절. 함수의 정의 및 사용\n",
    "## 1.1 함수정의하기"
   ]
  },
  {
   "cell_type": "code",
   "execution_count": 14,
   "id": "8f0fecaa",
   "metadata": {
    "ExecuteTime": {
     "end_time": "2024-11-08T03:32:50.781142Z",
     "start_time": "2024-11-08T03:32:50.776155Z"
    }
   },
   "outputs": [],
   "source": [
    "def my_hello(x, msg): #함수 정의\n",
    "    for i in range(x): #x번 반복\n",
    "        print(i, msg)"
   ]
  },
  {
   "cell_type": "code",
   "execution_count": 3,
   "id": "82b4068c",
   "metadata": {
    "ExecuteTime": {
     "end_time": "2024-11-08T03:14:27.527404Z",
     "start_time": "2024-11-08T03:14:27.521421Z"
    }
   },
   "outputs": [
    {
     "name": "stdout",
     "output_type": "stream",
     "text": [
      "0 Hello, python\n",
      "1 Hello, python\n",
      "2 Hello, python\n",
      "3 Hello, python\n",
      "4 Hello, python\n"
     ]
    }
   ],
   "source": [
    "my_hello(5, 'Hello, python') # 함수 호출"
   ]
  },
  {
   "cell_type": "code",
   "execution_count": 4,
   "id": "98a00a62",
   "metadata": {
    "ExecuteTime": {
     "end_time": "2024-11-08T03:15:03.360278Z",
     "start_time": "2024-11-08T03:15:03.353297Z"
    }
   },
   "outputs": [
    {
     "data": {
      "text/plain": [
       "function"
      ]
     },
     "execution_count": 4,
     "metadata": {},
     "output_type": "execute_result"
    }
   ],
   "source": [
    "type(my_hello)"
   ]
  },
  {
   "cell_type": "code",
   "execution_count": 12,
   "id": "f5215a56",
   "metadata": {
    "ExecuteTime": {
     "end_time": "2024-11-08T03:20:05.137419Z",
     "start_time": "2024-11-08T03:20:05.132431Z"
    }
   },
   "outputs": [
    {
     "data": {
      "text/plain": [
       "int"
      ]
     },
     "execution_count": 12,
     "metadata": {},
     "output_type": "execute_result"
    }
   ],
   "source": [
    "my_hello = 10\n",
    "type(my_hello)"
   ]
  },
  {
   "cell_type": "code",
   "execution_count": 15,
   "id": "67a1dfc6",
   "metadata": {
    "ExecuteTime": {
     "end_time": "2024-11-08T03:33:07.608745Z",
     "start_time": "2024-11-08T03:33:07.603786Z"
    }
   },
   "outputs": [
    {
     "name": "stdout",
     "output_type": "stream",
     "text": [
      "0 Hello, python\n",
      "1 Hello, python\n",
      "2 Hello, python\n",
      "3 Hello, python\n",
      "4 Hello, python\n"
     ]
    }
   ],
   "source": [
    "my_hello(5, 'Hello, python')"
   ]
  },
  {
   "cell_type": "code",
   "execution_count": 13,
   "id": "80f8c5ca",
   "metadata": {
    "ExecuteTime": {
     "end_time": "2024-11-08T03:20:07.720575Z",
     "start_time": "2024-11-08T03:20:07.716613Z"
    }
   },
   "outputs": [],
   "source": [
    "del my_hello\n",
    "#변수를 삭제해도 함수는 사용 불가, 파이썬 내장 함수만 사용 가능"
   ]
  },
  {
   "cell_type": "code",
   "execution_count": 23,
   "id": "be8cccbd",
   "metadata": {
    "ExecuteTime": {
     "end_time": "2024-11-08T03:35:49.935432Z",
     "start_time": "2024-11-08T03:35:49.931462Z"
    }
   },
   "outputs": [],
   "source": [
    "def my_hello(x, msg): #함수 정의\n",
    "    for i in range(x): #x번 반복\n",
    "        print(i, msg)"
   ]
  },
  {
   "cell_type": "code",
   "execution_count": 24,
   "id": "7cfa4a2b",
   "metadata": {
    "ExecuteTime": {
     "end_time": "2024-11-08T03:35:52.632296Z",
     "start_time": "2024-11-08T03:35:52.627279Z"
    }
   },
   "outputs": [],
   "source": [
    "def my_hello():\n",
    "    print('Hello, python')\n",
    "    print('Hello, World')"
   ]
  },
  {
   "cell_type": "code",
   "execution_count": 25,
   "id": "b654d2e7",
   "metadata": {
    "ExecuteTime": {
     "end_time": "2024-11-08T03:35:53.279780Z",
     "start_time": "2024-11-08T03:35:53.275772Z"
    }
   },
   "outputs": [
    {
     "name": "stdout",
     "output_type": "stream",
     "text": [
      "Hello, python\n",
      "Hello, World\n"
     ]
    }
   ],
   "source": [
    "my_hello()"
   ]
  },
  {
   "cell_type": "code",
   "execution_count": 26,
   "id": "8644f8a2",
   "metadata": {
    "ExecuteTime": {
     "end_time": "2024-11-08T03:36:28.025263Z",
     "start_time": "2024-11-08T03:36:28.020305Z"
    }
   },
   "outputs": [
    {
     "data": {
      "text/plain": [
       "<function __main__.my_hello()>"
      ]
     },
     "execution_count": 26,
     "metadata": {},
     "output_type": "execute_result"
    }
   ],
   "source": [
    "my_hello"
   ]
  },
  {
   "cell_type": "code",
   "execution_count": 27,
   "id": "c7365778",
   "metadata": {
    "ExecuteTime": {
     "end_time": "2024-11-08T03:37:27.137129Z",
     "start_time": "2024-11-08T03:37:27.132159Z"
    }
   },
   "outputs": [
    {
     "data": {
      "text/plain": [
       "'__main__'"
      ]
     },
     "execution_count": 27,
     "metadata": {},
     "output_type": "execute_result"
    }
   ],
   "source": [
    "__name__"
   ]
  },
  {
   "cell_type": "code",
   "execution_count": 28,
   "id": "c441ac0d",
   "metadata": {
    "ExecuteTime": {
     "end_time": "2024-11-08T03:39:16.812089Z",
     "start_time": "2024-11-08T03:39:16.808121Z"
    }
   },
   "outputs": [
    {
     "name": "stdout",
     "output_type": "stream",
     "text": [
      "Hello, python\n",
      "Hello, World\n"
     ]
    }
   ],
   "source": [
    "if __name__ == '__main__':\n",
    "    my_hello()"
   ]
  },
  {
   "cell_type": "code",
   "execution_count": 1,
   "id": "36fb3b44",
   "metadata": {
    "ExecuteTime": {
     "end_time": "2024-11-08T04:06:06.954624Z",
     "start_time": "2024-11-08T04:06:06.946614Z"
    }
   },
   "outputs": [],
   "source": [
    "import a #a.py가 해석되서 메모리 로드"
   ]
  },
  {
   "cell_type": "code",
   "execution_count": 2,
   "id": "b6205c69",
   "metadata": {
    "ExecuteTime": {
     "end_time": "2024-11-08T03:59:11.057903Z",
     "start_time": "2024-11-08T03:59:11.050921Z"
    }
   },
   "outputs": [
    {
     "name": "stdout",
     "output_type": "stream",
     "text": [
      "모듈(*.py) 테스트 입니다\n",
      "주말 잘 보내세요\n"
     ]
    }
   ],
   "source": [
    "a.test()"
   ]
  },
  {
   "cell_type": "code",
   "execution_count": 1,
   "id": "4e3c9b54",
   "metadata": {
    "ExecuteTime": {
     "end_time": "2024-11-08T04:07:35.101519Z",
     "start_time": "2024-11-08T04:07:35.094510Z"
    }
   },
   "outputs": [],
   "source": [
    "from a import test # a모듈안에 test만 로드됨"
   ]
  },
  {
   "cell_type": "code",
   "execution_count": 3,
   "id": "1eb4366e",
   "metadata": {
    "ExecuteTime": {
     "end_time": "2024-11-08T04:06:15.127998Z",
     "start_time": "2024-11-08T04:06:15.121925Z"
    }
   },
   "outputs": [
    {
     "name": "stdout",
     "output_type": "stream",
     "text": [
      "모듈(*.py) 테스트 입니다\n",
      "주말 잘 보내세요\n"
     ]
    }
   ],
   "source": [
    "test()"
   ]
  },
  {
   "cell_type": "markdown",
   "id": "8c364dee",
   "metadata": {},
   "source": [
    "## 1.2 docstring"
   ]
  },
  {
   "cell_type": "code",
   "execution_count": 5,
   "id": "1d72f3db",
   "metadata": {
    "ExecuteTime": {
     "end_time": "2024-11-08T04:04:11.323737Z",
     "start_time": "2024-11-08T04:04:11.318750Z"
    }
   },
   "outputs": [],
   "source": [
    "def my_function():\n",
    "    \"\"\"\n",
    "    함수의 첫 라인에 독스트링을 포함할 수 있습니다.\n",
    "    독스트링은 함수의 설명서를 달아주는 역할.\n",
    "    주석보다 많은 기능(함수 호출시 shift+tap으로 독스트링을 볼 수 있음)\n",
    "    \"\"\"\n",
    "    pass"
   ]
  },
  {
   "cell_type": "code",
   "execution_count": 7,
   "id": "2ba7fc9b",
   "metadata": {
    "ExecuteTime": {
     "end_time": "2024-11-08T04:05:09.967185Z",
     "start_time": "2024-11-08T04:05:09.962198Z"
    }
   },
   "outputs": [],
   "source": [
    "my_function()"
   ]
  },
  {
   "cell_type": "code",
   "execution_count": 8,
   "id": "869b8bd6",
   "metadata": {
    "ExecuteTime": {
     "end_time": "2024-11-08T04:05:15.217145Z",
     "start_time": "2024-11-08T04:05:15.214132Z"
    }
   },
   "outputs": [
    {
     "name": "stdout",
     "output_type": "stream",
     "text": [
      "\n",
      "    함수의 첫 라인에 독스트링을 포함할 수 있습니다.\n",
      "    독스트링은 함수의 설명서를 달아주는 역할.\n",
      "    주석보다 많은 기능(함수 호출시 shift+tap으로 독스트링을 볼 수 있음)\n",
      "    \n"
     ]
    }
   ],
   "source": [
    "print(my_function.__doc__)"
   ]
  },
  {
   "cell_type": "code",
   "execution_count": 32,
   "id": "66508075",
   "metadata": {
    "ExecuteTime": {
     "end_time": "2024-11-08T06:28:20.028651Z",
     "start_time": "2024-11-08T06:28:20.023665Z"
    }
   },
   "outputs": [],
   "source": [
    "def fibonacci(n):\n",
    "    \"\"\"\n",
    "    매개변수로 들어온 n값 미만의 피보나치 수열을 출력합니다\n",
    "    ex. n = 10 : 0, 1, 1, 2, 3, 5, 8\n",
    "    \"\"\"\n",
    "    a, b = 0, 1\n",
    "    while a < n:\n",
    "        print(a, end='\\t')\n",
    "        a, b = b, a+b\n",
    "    print()\n",
    "        "
   ]
  },
  {
   "cell_type": "code",
   "execution_count": 6,
   "id": "8f6522cb",
   "metadata": {
    "ExecuteTime": {
     "end_time": "2024-11-08T05:19:45.139982Z",
     "start_time": "2024-11-08T05:19:45.133970Z"
    }
   },
   "outputs": [
    {
     "name": "stdout",
     "output_type": "stream",
     "text": [
      "0\t1\t1\t2\t3\t5\t8\t13\t21\t34\t55\t89\t144\t233\t377\t610\t987\t\n"
     ]
    }
   ],
   "source": [
    "fibonacci(1000)"
   ]
  },
  {
   "cell_type": "markdown",
   "id": "641837ae",
   "metadata": {},
   "source": [
    "## 1.3 지역변수(local var)와 전역변수(global var)"
   ]
  },
  {
   "cell_type": "code",
   "execution_count": 9,
   "id": "be93dfc7",
   "metadata": {
    "ExecuteTime": {
     "end_time": "2024-11-08T05:27:20.243263Z",
     "start_time": "2024-11-08T05:27:20.237279Z"
    }
   },
   "outputs": [
    {
     "name": "stdout",
     "output_type": "stream",
     "text": [
      "함수 안 : 100\n",
      "함수 밖 : 100\n"
     ]
    }
   ],
   "source": [
    "global_var = 100 #전역변수\n",
    "def func1():\n",
    "    print('함수 안 :',global_var)\n",
    "func1()\n",
    "print('함수 밖 :', global_var)"
   ]
  },
  {
   "cell_type": "code",
   "execution_count": 13,
   "id": "1906a55b",
   "metadata": {
    "ExecuteTime": {
     "end_time": "2024-11-08T05:44:29.971440Z",
     "start_time": "2024-11-08T05:44:29.953676Z"
    }
   },
   "outputs": [
    {
     "name": "stdout",
     "output_type": "stream",
     "text": [
      "함수 안 : 200\n"
     ]
    },
    {
     "ename": "NameError",
     "evalue": "name 'local_var' is not defined",
     "output_type": "error",
     "traceback": [
      "\u001b[1;31m---------------------------------------------------------------------------\u001b[0m",
      "\u001b[1;31mNameError\u001b[0m                                 Traceback (most recent call last)",
      "Cell \u001b[1;32mIn[13], line 5\u001b[0m\n\u001b[0;32m      3\u001b[0m     \u001b[38;5;28mprint\u001b[39m(\u001b[38;5;124m'\u001b[39m\u001b[38;5;124m함수 안 :\u001b[39m\u001b[38;5;124m'\u001b[39m,local_var)\n\u001b[0;32m      4\u001b[0m func2()\n\u001b[1;32m----> 5\u001b[0m \u001b[38;5;28mprint\u001b[39m(\u001b[38;5;124m'\u001b[39m\u001b[38;5;124m함수 밖 :\u001b[39m\u001b[38;5;124m'\u001b[39m, \u001b[43mlocal_var\u001b[49m)\n",
      "\u001b[1;31mNameError\u001b[0m: name 'local_var' is not defined"
     ]
    }
   ],
   "source": [
    "def func2():\n",
    "    local_var = 200\n",
    "    print('함수 안 :',local_var)\n",
    "func2()\n",
    "print('함수 밖 :', local_var)"
   ]
  },
  {
   "cell_type": "code",
   "execution_count": 12,
   "id": "f1fc8d3e",
   "metadata": {
    "ExecuteTime": {
     "end_time": "2024-11-08T05:40:07.549416Z",
     "start_time": "2024-11-08T05:40:07.105228Z"
    }
   },
   "outputs": [
    {
     "ename": "UnboundLocalError",
     "evalue": "local variable 'g_var' referenced before assignment",
     "output_type": "error",
     "traceback": [
      "\u001b[1;31m---------------------------------------------------------------------------\u001b[0m",
      "\u001b[1;31mUnboundLocalError\u001b[0m                         Traceback (most recent call last)",
      "Cell \u001b[1;32mIn[12], line 6\u001b[0m\n\u001b[0;32m      4\u001b[0m     \u001b[38;5;28mprint\u001b[39m(\u001b[38;5;124m'\u001b[39m\u001b[38;5;124m지역변수 g_var :\u001b[39m\u001b[38;5;124m'\u001b[39m,g_var)\n\u001b[0;32m      5\u001b[0m     g_var \u001b[38;5;241m=\u001b[39m \u001b[38;5;241m200\u001b[39m \u001b[38;5;66;03m#지역변수\u001b[39;00m\n\u001b[1;32m----> 6\u001b[0m \u001b[43mfunc3\u001b[49m\u001b[43m(\u001b[49m\u001b[43m)\u001b[49m\n\u001b[0;32m      7\u001b[0m \u001b[38;5;28mprint\u001b[39m(\u001b[38;5;124m'\u001b[39m\u001b[38;5;124m전역변수 g_var :\u001b[39m\u001b[38;5;124m'\u001b[39m,g_var)\n",
      "Cell \u001b[1;32mIn[12], line 4\u001b[0m, in \u001b[0;36mfunc3\u001b[1;34m()\u001b[0m\n\u001b[0;32m      3\u001b[0m \u001b[38;5;28;01mdef\u001b[39;00m \u001b[38;5;21mfunc3\u001b[39m():\n\u001b[1;32m----> 4\u001b[0m     \u001b[38;5;28mprint\u001b[39m(\u001b[38;5;124m'\u001b[39m\u001b[38;5;124m지역변수 g_var :\u001b[39m\u001b[38;5;124m'\u001b[39m,\u001b[43mg_var\u001b[49m)\n\u001b[0;32m      5\u001b[0m     g_var \u001b[38;5;241m=\u001b[39m \u001b[38;5;241m200\u001b[39m\n",
      "\u001b[1;31mUnboundLocalError\u001b[0m: local variable 'g_var' referenced before assignment"
     ]
    }
   ],
   "source": [
    "#렉시컬 특성\n",
    "g_var = 100 #전역변수\n",
    "def func3():\n",
    "    print('지역변수 g_var :',g_var)\n",
    "    g_var = 200 #지역변수\n",
    "func3()\n",
    "print('전역변수 g_var :',g_var)"
   ]
  },
  {
   "cell_type": "code",
   "execution_count": 11,
   "id": "fc654d72",
   "metadata": {
    "ExecuteTime": {
     "end_time": "2024-11-08T05:40:05.029922Z",
     "start_time": "2024-11-08T05:40:05.024933Z"
    }
   },
   "outputs": [
    {
     "name": "stdout",
     "output_type": "stream",
     "text": [
      "지역변수 g_var : 100\n",
      "전역변수 g_var : 200\n"
     ]
    }
   ],
   "source": [
    "#렉시컬 특성\n",
    "g_var = 100\n",
    "def func3():\n",
    "    global g_var # func3 함수내에서의 g_var는 전역변수를 쓴다\n",
    "    print('함수안 g_var :',g_var)\n",
    "    g_var = 200\n",
    "func3()\n",
    "print('함수밖 g_var :',g_var)"
   ]
  },
  {
   "cell_type": "markdown",
   "id": "c3d44cd7",
   "metadata": {},
   "source": [
    "## 1.4 값에 의한 호출\n",
    "- 함수에 인수로 전달되는 변수가 스칼라변수(문자, 숫자, 논리형)일때"
   ]
  },
  {
   "cell_type": "code",
   "execution_count": 16,
   "id": "83b49267",
   "metadata": {
    "ExecuteTime": {
     "end_time": "2024-11-08T05:48:38.345324Z",
     "start_time": "2024-11-08T05:48:38.340337Z"
    }
   },
   "outputs": [
    {
     "data": {
      "text/plain": [
       "2562792843248"
      ]
     },
     "execution_count": 16,
     "metadata": {},
     "output_type": "execute_result"
    }
   ],
   "source": [
    "foo = 'a' # 전역변수\n",
    "id(foo)"
   ]
  },
  {
   "cell_type": "code",
   "execution_count": 24,
   "id": "ff8a9dae",
   "metadata": {
    "ExecuteTime": {
     "end_time": "2024-11-08T05:52:00.212752Z",
     "start_time": "2024-11-08T05:52:00.208761Z"
    }
   },
   "outputs": [],
   "source": [
    "def func1(f):\n",
    "    print('Before :', f, '의 주소는', id(f))\n",
    "    f = f*3 # aaa\n",
    "    print('After :', f, '의 주소는', id(f))"
   ]
  },
  {
   "cell_type": "code",
   "execution_count": 25,
   "id": "1652b63e",
   "metadata": {
    "ExecuteTime": {
     "end_time": "2024-11-08T05:52:00.747996Z",
     "start_time": "2024-11-08T05:52:00.744005Z"
    }
   },
   "outputs": [
    {
     "name": "stdout",
     "output_type": "stream",
     "text": [
      "Before : a 의 주소는 2562792843248\n",
      "After : aaa 의 주소는 2562871919920\n"
     ]
    }
   ],
   "source": [
    "func1(foo)"
   ]
  },
  {
   "cell_type": "code",
   "execution_count": 27,
   "id": "bf065593",
   "metadata": {
    "ExecuteTime": {
     "end_time": "2024-11-08T05:54:01.513285Z",
     "start_time": "2024-11-08T05:54:01.508329Z"
    }
   },
   "outputs": [
    {
     "name": "stdout",
     "output_type": "stream",
     "text": [
      "foo : a 의 주소 : 2562792843248\n"
     ]
    }
   ],
   "source": [
    "print('foo :',foo,'의 주소 :',id(foo))"
   ]
  },
  {
   "cell_type": "markdown",
   "id": "61d6b5f1",
   "metadata": {},
   "source": [
    "## 1.5 참조에 의한 호출\n",
    "- 함수에 인수로 전달되는 변수가 리스트, 튜플, 셋, 딕셔너리, 객체일 경우"
   ]
  },
  {
   "cell_type": "code",
   "execution_count": 28,
   "id": "fd652b77",
   "metadata": {
    "ExecuteTime": {
     "end_time": "2024-11-08T05:57:35.238667Z",
     "start_time": "2024-11-08T05:57:35.232655Z"
    }
   },
   "outputs": [
    {
     "data": {
      "text/plain": [
       "2562913241088"
      ]
     },
     "execution_count": 28,
     "metadata": {},
     "output_type": "execute_result"
    }
   ],
   "source": [
    "L=[1,2,3,4,5]\n",
    "id(L)"
   ]
  },
  {
   "cell_type": "code",
   "execution_count": 29,
   "id": "8e80aae5",
   "metadata": {
    "ExecuteTime": {
     "end_time": "2024-11-08T05:59:25.656817Z",
     "start_time": "2024-11-08T05:59:25.651818Z"
    }
   },
   "outputs": [
    {
     "name": "stdout",
     "output_type": "stream",
     "text": [
      "Before : [1, 2, 3, 4, 5] 의 주소는 2562913241088\n",
      "After : [1, 2, 3, 4, 5, 6] 의 주소는 2562913241088\n"
     ]
    }
   ],
   "source": [
    "def func2 (f): # 매개변수는 지역변수\n",
    "    print('Before :', f, '의 주소는', id(f))\n",
    "    f.append(6)\n",
    "    print('After :', f, '의 주소는', id(f))\n",
    "func2(L)"
   ]
  },
  {
   "cell_type": "code",
   "execution_count": 31,
   "id": "4d7320d5",
   "metadata": {
    "ExecuteTime": {
     "end_time": "2024-11-08T06:02:08.559947Z",
     "start_time": "2024-11-08T06:02:08.555929Z"
    }
   },
   "outputs": [
    {
     "name": "stdout",
     "output_type": "stream",
     "text": [
      "L : [1, 2, 3, 4, 5, 6] 의 주소는 : 2562913241088\n"
     ]
    }
   ],
   "source": [
    "print('L :', L, '의 주소는 :', id(L))"
   ]
  },
  {
   "cell_type": "markdown",
   "id": "4b8180fa",
   "metadata": {},
   "source": [
    "## 1.6 함수의 이름 변경\n",
    "- Python : 함수형언어, 객체지향언어"
   ]
  },
  {
   "cell_type": "code",
   "execution_count": 33,
   "id": "5ac2a5a3",
   "metadata": {
    "ExecuteTime": {
     "end_time": "2024-11-08T06:28:42.406950Z",
     "start_time": "2024-11-08T06:28:42.401992Z"
    }
   },
   "outputs": [
    {
     "name": "stdout",
     "output_type": "stream",
     "text": [
      "0\t1\t1\t2\t3\t5\t8\t13\t\n"
     ]
    }
   ],
   "source": [
    "fibonacci(20)"
   ]
  },
  {
   "cell_type": "code",
   "execution_count": 34,
   "id": "12786566",
   "metadata": {
    "ExecuteTime": {
     "end_time": "2024-11-08T06:29:21.241609Z",
     "start_time": "2024-11-08T06:29:21.238609Z"
    }
   },
   "outputs": [],
   "source": [
    "fibo = fibonacci # fibonacci 함수이름을 fibo로도 사용가능"
   ]
  },
  {
   "cell_type": "code",
   "execution_count": 35,
   "id": "3a481675",
   "metadata": {
    "ExecuteTime": {
     "end_time": "2024-11-08T06:29:30.515565Z",
     "start_time": "2024-11-08T06:29:30.510557Z"
    }
   },
   "outputs": [
    {
     "name": "stdout",
     "output_type": "stream",
     "text": [
      "0\t1\t1\t2\t3\t5\t8\t13\t\n"
     ]
    }
   ],
   "source": [
    "fibo(20)"
   ]
  },
  {
   "cell_type": "markdown",
   "id": "fade3655",
   "metadata": {},
   "source": [
    "# 2절. 함수의 실행결과 반환하는 return"
   ]
  },
  {
   "cell_type": "code",
   "execution_count": 39,
   "id": "18196910",
   "metadata": {
    "ExecuteTime": {
     "end_time": "2024-11-08T06:34:08.815661Z",
     "start_time": "2024-11-08T06:34:08.809649Z"
    }
   },
   "outputs": [],
   "source": [
    "def fibonacci_print(n):\n",
    "    \"\"\"\n",
    "    매개변수로 들어온 n값 미만의 피보나치 수열을 출력합니다\n",
    "    ex. n = 10 : 0, 1, 1, 2, 3, 5, 8\n",
    "    \"\"\"\n",
    "    a, b = 0, 1\n",
    "    while a < n:\n",
    "        print(a, end='\\t')\n",
    "        a, b = b, a+b\n",
    "    print()\n",
    "def fibonacci(n):\n",
    "    \"\"\"\n",
    "    매개변수로 들어온 n값 미만의 피보나치 수열을 리스트로 반환합니다\n",
    "    ex. n = 10 : 0, 1, 1, 2, 3, 5, 8\n",
    "    \"\"\"\n",
    "    fibonacci_lst = []\n",
    "    a, b = 0, 1\n",
    "    while a < n:\n",
    "        fibonacci_lst.append(a)\n",
    "        a, b = b, a+b\n",
    "    return fibonacci_lst"
   ]
  },
  {
   "cell_type": "code",
   "execution_count": 42,
   "id": "b0d164d1",
   "metadata": {
    "ExecuteTime": {
     "end_time": "2024-11-08T06:36:06.678332Z",
     "start_time": "2024-11-08T06:36:06.674331Z"
    }
   },
   "outputs": [
    {
     "name": "stdout",
     "output_type": "stream",
     "text": [
      "0\t1\t1\t2\t3\t5\t8\t\n",
      "None\n",
      "<class 'NoneType'>\n"
     ]
    }
   ],
   "source": [
    "x = fibonacci_print(10)\n",
    "print(x) # return이 없는 함수를 할당 받으면 None\n",
    "print(type(x))"
   ]
  },
  {
   "cell_type": "code",
   "execution_count": 43,
   "id": "70a89bd9",
   "metadata": {
    "ExecuteTime": {
     "end_time": "2024-11-08T06:36:46.110370Z",
     "start_time": "2024-11-08T06:36:46.106380Z"
    }
   },
   "outputs": [
    {
     "name": "stdout",
     "output_type": "stream",
     "text": [
      "[0, 1, 1, 2, 3, 5, 8]\n"
     ]
    }
   ],
   "source": [
    "x = fibonacci(10)\n",
    "print(x)"
   ]
  },
  {
   "cell_type": "markdown",
   "id": "84938665",
   "metadata": {},
   "source": [
    "## 여러 개 값 return"
   ]
  },
  {
   "cell_type": "code",
   "execution_count": 45,
   "id": "ad393d66",
   "metadata": {
    "ExecuteTime": {
     "end_time": "2024-11-08T06:40:30.181815Z",
     "start_time": "2024-11-08T06:40:30.177825Z"
    }
   },
   "outputs": [],
   "source": [
    "def swap(a,b):\n",
    "    \"\"\"\n",
    "    매개변수의 순서를 바꿔서 return\n",
    "    \"\"\"\n",
    "    return b,a"
   ]
  },
  {
   "cell_type": "code",
   "execution_count": 46,
   "id": "ecfdc608",
   "metadata": {
    "ExecuteTime": {
     "end_time": "2024-11-08T06:40:55.492444Z",
     "start_time": "2024-11-08T06:40:55.488456Z"
    }
   },
   "outputs": [
    {
     "name": "stdout",
     "output_type": "stream",
     "text": [
      "함수 실행 전 x, y 5 10\n",
      "함수 실행 후 x, y 10 5\n"
     ]
    }
   ],
   "source": [
    "x, y = 5, 10\n",
    "print('함수 실행 전 x, y', x, y)\n",
    "x, y = swap(x, y)\n",
    "print('함수 실행 후 x, y', x, y)"
   ]
  },
  {
   "cell_type": "code",
   "execution_count": 47,
   "id": "d69353d6",
   "metadata": {
    "ExecuteTime": {
     "end_time": "2024-11-08T06:41:35.014308Z",
     "start_time": "2024-11-08T06:41:35.009348Z"
    }
   },
   "outputs": [
    {
     "name": "stdout",
     "output_type": "stream",
     "text": [
      "<class 'tuple'>\n",
      "(20, 10)\n"
     ]
    }
   ],
   "source": [
    "a = swap (10, 20)\n",
    "print(type(a))\n",
    "print(a)"
   ]
  },
  {
   "cell_type": "markdown",
   "id": "8b88fc12",
   "metadata": {},
   "source": [
    "# 3절. 함수의 매개변수 ★\n",
    "## 3.1 기본 값을 갖는 매개변수"
   ]
  },
  {
   "cell_type": "code",
   "execution_count": 50,
   "id": "3667cb92",
   "metadata": {
    "ExecuteTime": {
     "end_time": "2024-11-08T06:46:49.296879Z",
     "start_time": "2024-11-08T06:46:49.292890Z"
    }
   },
   "outputs": [],
   "source": [
    "def make_url(ip, port=80): # 순서인수 > 기본값을 갖는 매개변수\n",
    "    return \"http://{}:{}\".format(ip, port)"
   ]
  },
  {
   "cell_type": "code",
   "execution_count": 54,
   "id": "6a111b33",
   "metadata": {
    "ExecuteTime": {
     "end_time": "2024-11-08T06:50:21.822567Z",
     "start_time": "2024-11-08T06:50:21.817579Z"
    }
   },
   "outputs": [
    {
     "name": "stdout",
     "output_type": "stream",
     "text": [
      "http://localhost:8090\n",
      "http://localhost:80\n",
      "http://www.naver.com:9090\n"
     ]
    }
   ],
   "source": [
    "print(make_url(\"localhost\", 8090))\n",
    "print(make_url(\"localhost\"))\n",
    "print(make_url(port=9090, ip=\"www.naver.com\"))"
   ]
  },
  {
   "cell_type": "markdown",
   "id": "6c0f0460",
   "metadata": {},
   "source": [
    "## 3.2 기본 변수를 갖는 매개변수\n",
    "- 기본변수가 스칼라 변수(문자, 숫자, 논리형)일 때\n",
    "- 기본변수가 리스트, 셋, 딕셔너리 또는 객체일 때"
   ]
  },
  {
   "cell_type": "code",
   "execution_count": 60,
   "id": "4b30241c",
   "metadata": {
    "ExecuteTime": {
     "end_time": "2024-11-08T06:57:22.020857Z",
     "start_time": "2024-11-08T06:57:22.016831Z"
    }
   },
   "outputs": [],
   "source": [
    "i = 5\n",
    "# 기본변수가 스칼라변수일 때 : arg의 기본값은 함수가 정의되는 시점으로 셋팅\n",
    "def func2(arg = i):\n",
    "    print('arg =',arg)"
   ]
  },
  {
   "cell_type": "code",
   "execution_count": 61,
   "id": "d72f764b",
   "metadata": {
    "ExecuteTime": {
     "end_time": "2024-11-08T06:57:25.173196Z",
     "start_time": "2024-11-08T06:57:25.168187Z"
    }
   },
   "outputs": [
    {
     "name": "stdout",
     "output_type": "stream",
     "text": [
      "arg = 5\n"
     ]
    }
   ],
   "source": [
    "i = 10\n",
    "func2()"
   ]
  },
  {
   "cell_type": "code",
   "execution_count": 68,
   "id": "89101909",
   "metadata": {
    "ExecuteTime": {
     "end_time": "2024-11-08T07:17:45.000019Z",
     "start_time": "2024-11-08T07:17:44.996009Z"
    }
   },
   "outputs": [
    {
     "name": "stdout",
     "output_type": "stream",
     "text": [
      "[10]\n",
      "list_ : [10]\n"
     ]
    }
   ],
   "source": [
    "# 기본변수가 리스트, 셋, 딕셔너리, 객체일 때 : 실행되는 시점\n",
    "list_ = []\n",
    "def func3(a, L=list_):\n",
    "    L.append(a)\n",
    "    return L\n",
    "print(func3(10))\n",
    "print('list_ :',list_)"
   ]
  },
  {
   "cell_type": "code",
   "execution_count": 69,
   "id": "08dae4ec",
   "metadata": {
    "ExecuteTime": {
     "end_time": "2024-11-08T07:18:20.386045Z",
     "start_time": "2024-11-08T07:18:20.381037Z"
    }
   },
   "outputs": [
    {
     "name": "stdout",
     "output_type": "stream",
     "text": [
      "[10, 20]\n",
      "list_ : [10, 20]\n"
     ]
    }
   ],
   "source": [
    "print(func3(20))\n",
    "print('list_ :',list_)"
   ]
  },
  {
   "cell_type": "code",
   "execution_count": 71,
   "id": "ae5aef21",
   "metadata": {
    "ExecuteTime": {
     "end_time": "2024-11-08T07:21:56.944366Z",
     "start_time": "2024-11-08T07:21:56.939378Z"
    }
   },
   "outputs": [
    {
     "name": "stdout",
     "output_type": "stream",
     "text": [
      "[10]\n",
      "[1, 2, 3, 10]\n"
     ]
    }
   ],
   "source": [
    "def func3(a, L=[]):\n",
    "    L.append(a)\n",
    "    return L\n",
    "print(func3(10))\n",
    "print(func3(10, [1,2,3,]))"
   ]
  },
  {
   "cell_type": "markdown",
   "id": "ab7cc017",
   "metadata": {},
   "source": [
    "## 3.3 순서인수, 키워드 인수\n",
    "- 순서인수 : 함수에 정의된 순서대로 전달방식\n",
    "- 키워드인수 : 인수의 이름을 명시적으로 전달방식\n",
    "- 함수 정의시 순서인수와 키워드 인수가 같이 올 때는 순서인수 > 키워드 인수 순으로\n",
    "```\n",
    "def function명(변수명1, 변수명2, ... 변수명n=기본값)\n",
    "```"
   ]
  },
  {
   "cell_type": "code",
   "execution_count": 75,
   "id": "f7eb8d03",
   "metadata": {
    "ExecuteTime": {
     "end_time": "2024-11-08T07:32:09.603306Z",
     "start_time": "2024-11-08T07:32:09.598293Z"
    }
   },
   "outputs": [],
   "source": [
    "def func4(a, L=None):\n",
    "    if L is None:\n",
    "        L = []\n",
    "    L.append(a)\n",
    "    return L"
   ]
  },
  {
   "cell_type": "code",
   "execution_count": 79,
   "id": "7f01ef36",
   "metadata": {
    "ExecuteTime": {
     "end_time": "2024-11-08T07:33:39.740130Z",
     "start_time": "2024-11-08T07:33:39.734146Z"
    }
   },
   "outputs": [
    {
     "name": "stdout",
     "output_type": "stream",
     "text": [
      "[10]\n",
      "[10, 10]\n",
      "[20]\n",
      "[20]\n"
     ]
    }
   ],
   "source": [
    "lst = []\n",
    "print(func4(10, lst))\n",
    "print(func4(L=lst, a=10))\n",
    "print(func4(20))\n",
    "print(func4(20, None))"
   ]
  },
  {
   "cell_type": "markdown",
   "id": "897dbcfe",
   "metadata": {},
   "source": [
    "## 3.4 튜플 매개변수를 이용한 가변인수 설정"
   ]
  },
  {
   "cell_type": "code",
   "execution_count": 80,
   "id": "ad18375c",
   "metadata": {
    "ExecuteTime": {
     "end_time": "2024-11-08T07:38:26.531809Z",
     "start_time": "2024-11-08T07:38:26.526822Z"
    }
   },
   "outputs": [],
   "source": [
    "def add(a, b):\n",
    "    return a+b\n",
    "def add(a, b, c):\n",
    "    return a+b+c"
   ]
  },
  {
   "cell_type": "code",
   "execution_count": 81,
   "id": "8741806b",
   "metadata": {
    "ExecuteTime": {
     "end_time": "2024-11-08T07:38:35.061281Z",
     "start_time": "2024-11-08T07:38:35.046670Z"
    }
   },
   "outputs": [
    {
     "ename": "TypeError",
     "evalue": "add() missing 1 required positional argument: 'c'",
     "output_type": "error",
     "traceback": [
      "\u001b[1;31m---------------------------------------------------------------------------\u001b[0m",
      "\u001b[1;31mTypeError\u001b[0m                                 Traceback (most recent call last)",
      "Cell \u001b[1;32mIn[81], line 1\u001b[0m\n\u001b[1;32m----> 1\u001b[0m \u001b[43madd\u001b[49m\u001b[43m(\u001b[49m\u001b[38;5;241;43m1\u001b[39;49m\u001b[43m,\u001b[49m\u001b[38;5;241;43m2\u001b[39;49m\u001b[43m)\u001b[49m\n",
      "\u001b[1;31mTypeError\u001b[0m: add() missing 1 required positional argument: 'c'"
     ]
    }
   ],
   "source": [
    "add(1,2)"
   ]
  },
  {
   "cell_type": "code",
   "execution_count": 85,
   "id": "a1d8da93",
   "metadata": {
    "ExecuteTime": {
     "end_time": "2024-11-08T07:47:52.777635Z",
     "start_time": "2024-11-08T07:47:52.773616Z"
    }
   },
   "outputs": [],
   "source": [
    "# args앞에 * : args가 튜플로 전달\n",
    "def add(*args):\n",
    "    \"\"\"\n",
    "    전달받은 매개 변수들의 합을 return, 매개변수가 없는경우 0을 return\n",
    "    \"\"\"\n",
    "    #print(args)\n",
    "    sum = 0\n",
    "    for num in args:\n",
    "        sum += num\n",
    "    return sum"
   ]
  },
  {
   "cell_type": "code",
   "execution_count": 88,
   "id": "36c7e28b",
   "metadata": {
    "ExecuteTime": {
     "end_time": "2024-11-08T07:49:26.738958Z",
     "start_time": "2024-11-08T07:49:26.733970Z"
    }
   },
   "outputs": [
    {
     "name": "stdout",
     "output_type": "stream",
     "text": [
      "1\n",
      "3\n",
      "6\n",
      "0\n"
     ]
    }
   ],
   "source": [
    "print(add(1))\n",
    "print(add(1,2))\n",
    "print(add(1,2,3))\n",
    "print(add())"
   ]
  },
  {
   "cell_type": "code",
   "execution_count": 90,
   "id": "1a7ea9ed",
   "metadata": {
    "ExecuteTime": {
     "end_time": "2024-11-08T07:54:37.792385Z",
     "start_time": "2024-11-08T07:54:37.785403Z"
    }
   },
   "outputs": [
    {
     "data": {
      "text/plain": [
       "'Java-Oracle-Web-Python'"
      ]
     },
     "execution_count": 90,
     "metadata": {},
     "output_type": "execute_result"
    }
   ],
   "source": [
    "subject = ('Java','Oracle','Web','Python')\n",
    "'-'.join(subject)"
   ]
  },
  {
   "cell_type": "code",
   "execution_count": 97,
   "id": "6d6737cd",
   "metadata": {
    "ExecuteTime": {
     "end_time": "2024-11-08T07:59:49.885425Z",
     "start_time": "2024-11-08T07:59:49.881436Z"
    }
   },
   "outputs": [],
   "source": [
    "def concat(*subject, sep):\n",
    "    return sep.join(subject)"
   ]
  },
  {
   "cell_type": "code",
   "execution_count": 99,
   "id": "f8959746",
   "metadata": {
    "ExecuteTime": {
     "end_time": "2024-11-08T07:59:56.234198Z",
     "start_time": "2024-11-08T07:59:56.218212Z"
    }
   },
   "outputs": [
    {
     "ename": "TypeError",
     "evalue": "concat() missing 1 required keyword-only argument: 'sep'",
     "output_type": "error",
     "traceback": [
      "\u001b[1;31m---------------------------------------------------------------------------\u001b[0m",
      "\u001b[1;31mTypeError\u001b[0m                                 Traceback (most recent call last)",
      "Cell \u001b[1;32mIn[99], line 1\u001b[0m\n\u001b[1;32m----> 1\u001b[0m \u001b[43mconcat\u001b[49m\u001b[43m(\u001b[49m\u001b[38;5;124;43m'\u001b[39;49m\u001b[38;5;124;43mJava\u001b[39;49m\u001b[38;5;124;43m'\u001b[39;49m\u001b[43m,\u001b[49m\u001b[38;5;124;43m'\u001b[39;49m\u001b[38;5;124;43mOracle\u001b[39;49m\u001b[38;5;124;43m'\u001b[39;49m\u001b[43m,\u001b[49m\u001b[38;5;124;43m'\u001b[39;49m\u001b[38;5;124;43mWeb\u001b[39;49m\u001b[38;5;124;43m'\u001b[39;49m\u001b[43m,\u001b[49m\u001b[38;5;124;43m'\u001b[39;49m\u001b[38;5;124;43mPython\u001b[39;49m\u001b[38;5;124;43m'\u001b[39;49m\u001b[43m,\u001b[49m\u001b[43m \u001b[49m\u001b[38;5;124;43m'\u001b[39;49m\u001b[38;5;124;43m ~ \u001b[39;49m\u001b[38;5;124;43m'\u001b[39;49m\u001b[43m)\u001b[49m\n",
      "\u001b[1;31mTypeError\u001b[0m: concat() missing 1 required keyword-only argument: 'sep'"
     ]
    }
   ],
   "source": [
    "concat('Java','Oracle','Web','Python', ' ~ ')"
   ]
  },
  {
   "cell_type": "code",
   "execution_count": 100,
   "id": "252a26d4",
   "metadata": {
    "ExecuteTime": {
     "end_time": "2024-11-08T08:00:24.671158Z",
     "start_time": "2024-11-08T08:00:24.665175Z"
    }
   },
   "outputs": [
    {
     "data": {
      "text/plain": [
       "'Java ~ Oracle ~ Web ~ Python'"
      ]
     },
     "execution_count": 100,
     "metadata": {},
     "output_type": "execute_result"
    }
   ],
   "source": [
    "# 해결책 1 : 파라미터 이름을 지정해서 호출\n",
    "concat('Java','Oracle','Web','Python', sep = ' ~ ')"
   ]
  },
  {
   "cell_type": "code",
   "execution_count": 103,
   "id": "bc00a55f",
   "metadata": {
    "ExecuteTime": {
     "end_time": "2024-11-08T08:16:55.457615Z",
     "start_time": "2024-11-08T08:16:55.453597Z"
    }
   },
   "outputs": [],
   "source": [
    "# 해결책 2 : 기본값을 갖는 키워드 인수 사용\n",
    "def concat(*subject, sep=' '):\n",
    "    return sep.join(subject)"
   ]
  },
  {
   "cell_type": "code",
   "execution_count": 104,
   "id": "82fbfcac",
   "metadata": {
    "ExecuteTime": {
     "end_time": "2024-11-08T08:16:59.609946Z",
     "start_time": "2024-11-08T08:16:59.604959Z"
    }
   },
   "outputs": [
    {
     "data": {
      "text/plain": [
       "'Java~Oracle~Web~Python'"
      ]
     },
     "execution_count": 104,
     "metadata": {},
     "output_type": "execute_result"
    }
   ],
   "source": [
    "concat('Java','Oracle','Web','Python', sep = '~')"
   ]
  },
  {
   "cell_type": "code",
   "execution_count": 106,
   "id": "5f4c56ba",
   "metadata": {
    "ExecuteTime": {
     "end_time": "2024-11-08T08:18:42.911617Z",
     "start_time": "2024-11-08T08:18:42.907608Z"
    }
   },
   "outputs": [],
   "source": [
    "# 해결책 3 : sep을 순서인수로 앞으로 선언\n",
    "def concat(sep, *subject):\n",
    "    return sep.join(subject)"
   ]
  },
  {
   "cell_type": "code",
   "execution_count": 107,
   "id": "ac1e0b00",
   "metadata": {
    "ExecuteTime": {
     "end_time": "2024-11-08T08:18:59.078969Z",
     "start_time": "2024-11-08T08:18:59.073982Z"
    }
   },
   "outputs": [
    {
     "data": {
      "text/plain": [
       "'Java~Oracle~Web~Python'"
      ]
     },
     "execution_count": 107,
     "metadata": {},
     "output_type": "execute_result"
    }
   ],
   "source": [
    "concat('~','Java','Oracle','Web','Python')"
   ]
  },
  {
   "cell_type": "markdown",
   "id": "a56ca5f4",
   "metadata": {},
   "source": [
    "## 3.5 딕셔너리 매개변수\n",
    "- 딕셔너리인수 : 여러개의 키워드 인수를 딕셔너리 형태로 받아서 가변 키워드 인수로 처리"
   ]
  },
  {
   "cell_type": "code",
   "execution_count": 111,
   "id": "856efc20",
   "metadata": {
    "ExecuteTime": {
     "end_time": "2024-11-08T08:26:27.621632Z",
     "start_time": "2024-11-08T08:26:27.616645Z"
    }
   },
   "outputs": [],
   "source": [
    "def func5(**args):\n",
    "    print(args)\n",
    "    print(type(args))\n",
    "    for key, value in args.items():\n",
    "        print(\"{}:{}\".format(key, value))"
   ]
  },
  {
   "cell_type": "code",
   "execution_count": 112,
   "id": "391d1e6c",
   "metadata": {
    "ExecuteTime": {
     "end_time": "2024-11-08T08:26:27.894296Z",
     "start_time": "2024-11-08T08:26:27.890308Z"
    }
   },
   "outputs": [
    {
     "name": "stdout",
     "output_type": "stream",
     "text": [
      "{'name': '홍길동', 'age': 33}\n",
      "<class 'dict'>\n",
      "name:홍길동\n",
      "age:33\n"
     ]
    }
   ],
   "source": [
    "func5(name = '홍길동', age = 33)"
   ]
  },
  {
   "cell_type": "markdown",
   "id": "585b9ee9",
   "metadata": {},
   "source": [
    "## 3.6 함수 정의시 매개변수의 순서\n",
    "순서인수 > 튜플인수(*) > 키워드인수(기본값) > 딕셔너리인수(**)"
   ]
  },
  {
   "cell_type": "code",
   "execution_count": 113,
   "id": "a9bca484",
   "metadata": {
    "ExecuteTime": {
     "end_time": "2024-11-08T08:31:51.710761Z",
     "start_time": "2024-11-08T08:31:51.705774Z"
    }
   },
   "outputs": [],
   "source": [
    "# 순서인수 > 튜플인수 > 딕셔너리인수\n",
    "def func6(a,b,*c,**d):\n",
    "    print('순서인수 a =', a)\n",
    "    print('순서인수 b =', b)\n",
    "    print('튜플인수 c =', c)\n",
    "    print('딕셔너리인수 d =', d)"
   ]
  },
  {
   "cell_type": "code",
   "execution_count": 114,
   "id": "dc02c879",
   "metadata": {
    "ExecuteTime": {
     "end_time": "2024-11-08T08:32:21.149894Z",
     "start_time": "2024-11-08T08:32:21.144907Z"
    }
   },
   "outputs": [
    {
     "name": "stdout",
     "output_type": "stream",
     "text": [
      "순서인수 a = 10\n",
      "순서인수 b = 20\n",
      "튜플인수 c = (1, 2, 3, 4, 5, 6, 7)\n",
      "딕셔너리인수 d = {'name': 'kim', 'age': 30}\n"
     ]
    }
   ],
   "source": [
    "func6(10,20, 1,2,3,4,5,6,7, name='kim', age=30)"
   ]
  },
  {
   "cell_type": "code",
   "execution_count": 115,
   "id": "13fdda46",
   "metadata": {
    "ExecuteTime": {
     "end_time": "2024-11-08T08:34:03.349324Z",
     "start_time": "2024-11-08T08:34:03.344338Z"
    }
   },
   "outputs": [],
   "source": [
    "# 순서인수 > 튜플인수 > 키워드인수 > 딕셔너리인수\n",
    "def func7(a,b,c, *d, e =10, **f):\n",
    "    print('a =',a)\n",
    "    print('b =',b)\n",
    "    print('c =',c)\n",
    "    print('d =',d)\n",
    "    print('e =',e)\n",
    "    print('f =',f)"
   ]
  },
  {
   "cell_type": "code",
   "execution_count": 117,
   "id": "6e86ac11",
   "metadata": {
    "ExecuteTime": {
     "end_time": "2024-11-08T08:35:29.857456Z",
     "start_time": "2024-11-08T08:35:29.852460Z"
    }
   },
   "outputs": [
    {
     "name": "stdout",
     "output_type": "stream",
     "text": [
      "a = 10\n",
      "b = 20\n",
      "c = 30\n",
      "d = (4, 5)\n",
      "e = 20\n",
      "f = {'name': 'Kildong', 'age': 30}\n"
     ]
    }
   ],
   "source": [
    "func7(10,20,30)"
   ]
  },
  {
   "cell_type": "code",
   "execution_count": 118,
   "id": "62577b52",
   "metadata": {
    "ExecuteTime": {
     "end_time": "2024-11-08T08:36:53.308199Z",
     "start_time": "2024-11-08T08:36:53.304181Z"
    }
   },
   "outputs": [
    {
     "name": "stdout",
     "output_type": "stream",
     "text": [
      "a = 10\n",
      "b = 20\n",
      "c = 30\n",
      "d = ()\n",
      "e = 100\n",
      "f = {}\n"
     ]
    }
   ],
   "source": [
    "func7(10,20,30, e=100)"
   ]
  },
  {
   "cell_type": "code",
   "execution_count": 120,
   "id": "870bb99f",
   "metadata": {
    "ExecuteTime": {
     "end_time": "2024-11-08T08:38:08.280742Z",
     "start_time": "2024-11-08T08:38:08.275751Z"
    }
   },
   "outputs": [
    {
     "name": "stdout",
     "output_type": "stream",
     "text": [
      "a = 10\n",
      "b = 20\n",
      "c = 30\n",
      "d = (1, 2, 3, 4, 5)\n",
      "e = 100\n",
      "f = {'shape': 'rect', 'width': 20, 'height': 30}\n"
     ]
    }
   ],
   "source": [
    "func7(10,20,30, 1,2,3,4,5, e=100, shape='rect', width=20, height=30)"
   ]
  },
  {
   "cell_type": "markdown",
   "id": "0bb1f061",
   "metadata": {},
   "source": [
    "## 3.7 인수의 언패킹\n",
    "### 튜플인수 언패킹"
   ]
  },
  {
   "cell_type": "code",
   "execution_count": 121,
   "id": "b987689a",
   "metadata": {
    "ExecuteTime": {
     "end_time": "2024-11-08T08:43:46.725874Z",
     "start_time": "2024-11-08T08:43:46.720889Z"
    }
   },
   "outputs": [],
   "source": [
    "def add(*args):\n",
    "    sum = 0\n",
    "    for num in args:\n",
    "        sum += num\n",
    "    return sum"
   ]
  },
  {
   "cell_type": "code",
   "execution_count": 126,
   "id": "0f66b1f5",
   "metadata": {
    "ExecuteTime": {
     "end_time": "2024-11-08T08:48:12.215381Z",
     "start_time": "2024-11-08T08:48:12.209398Z"
    }
   },
   "outputs": [
    {
     "data": {
      "text/plain": [
       "36"
      ]
     },
     "execution_count": 126,
     "metadata": {},
     "output_type": "execute_result"
    }
   ],
   "source": [
    "numbers = (1,2,3,4,5,6,7,8)\n",
    "add(*numbers) # 튜플 언패킹"
   ]
  },
  {
   "cell_type": "code",
   "execution_count": 127,
   "id": "ebc66ecf",
   "metadata": {
    "ExecuteTime": {
     "end_time": "2024-11-08T08:50:10.744703Z",
     "start_time": "2024-11-08T08:50:10.738719Z"
    }
   },
   "outputs": [
    {
     "data": {
      "text/plain": [
       "6"
      ]
     },
     "execution_count": 127,
     "metadata": {},
     "output_type": "execute_result"
    }
   ],
   "source": [
    "num_lst = [1,2,3]\n",
    "add(*num_lst)"
   ]
  },
  {
   "cell_type": "markdown",
   "id": "8d76f490",
   "metadata": {},
   "source": [
    "### 딕셔너리인수 언패킹"
   ]
  },
  {
   "cell_type": "code",
   "execution_count": 129,
   "id": "da45122b",
   "metadata": {
    "ExecuteTime": {
     "end_time": "2024-11-08T08:52:04.109106Z",
     "start_time": "2024-11-08T08:52:04.103094Z"
    }
   },
   "outputs": [
    {
     "name": "stdout",
     "output_type": "stream",
     "text": [
      "('shape', 'rect')\n",
      "('height', 30)\n",
      "('width', 40)\n"
     ]
    }
   ],
   "source": [
    "def func8(**data):\n",
    "    for item in data.items():\n",
    "        print(item)\n",
    "func8(shape=\"rect\", height=30, width=40)"
   ]
  },
  {
   "cell_type": "code",
   "execution_count": 130,
   "id": "9fcb7307",
   "metadata": {
    "ExecuteTime": {
     "end_time": "2024-11-08T08:54:20.408867Z",
     "start_time": "2024-11-08T08:54:20.403876Z"
    }
   },
   "outputs": [
    {
     "data": {
      "text/plain": [
       "{'shape': 'triangle', 'height': 40, 'width': 30}"
      ]
     },
     "execution_count": 130,
     "metadata": {},
     "output_type": "execute_result"
    }
   ],
   "source": [
    "info = {'shape':'triangle', 'height':40, 'width':30}\n",
    "info"
   ]
  },
  {
   "cell_type": "code",
   "execution_count": 131,
   "id": "7f120d5f",
   "metadata": {
    "ExecuteTime": {
     "end_time": "2024-11-08T08:54:48.256382Z",
     "start_time": "2024-11-08T08:54:48.251395Z"
    }
   },
   "outputs": [
    {
     "name": "stdout",
     "output_type": "stream",
     "text": [
      "('shape', 'triangle')\n",
      "('height', 40)\n",
      "('width', 30)\n"
     ]
    }
   ],
   "source": [
    "func8(**info) #딕셔너리 인수 언패킹"
   ]
  },
  {
   "cell_type": "code",
   "execution_count": null,
   "id": "cfb18a85",
   "metadata": {},
   "outputs": [],
   "source": []
  },
  {
   "cell_type": "code",
   "execution_count": null,
   "id": "9b9887cd",
   "metadata": {},
   "outputs": [],
   "source": []
  },
  {
   "cell_type": "code",
   "execution_count": null,
   "id": "bf913ce7",
   "metadata": {},
   "outputs": [],
   "source": []
  },
  {
   "cell_type": "code",
   "execution_count": null,
   "id": "2045c733",
   "metadata": {},
   "outputs": [],
   "source": []
  },
  {
   "cell_type": "code",
   "execution_count": null,
   "id": "02606295",
   "metadata": {},
   "outputs": [],
   "source": []
  }
 ],
 "metadata": {
  "kernelspec": {
   "display_name": "Python 3 (ipykernel)",
   "language": "python",
   "name": "python3"
  },
  "language_info": {
   "codemirror_mode": {
    "name": "ipython",
    "version": 3
   },
   "file_extension": ".py",
   "mimetype": "text/x-python",
   "name": "python",
   "nbconvert_exporter": "python",
   "pygments_lexer": "ipython3",
   "version": "3.10.9"
  },
  "toc": {
   "base_numbering": 1,
   "nav_menu": {},
   "number_sections": true,
   "sideBar": true,
   "skip_h1_title": false,
   "title_cell": "Table of Contents",
   "title_sidebar": "Contents",
   "toc_cell": false,
   "toc_position": {
    "height": "calc(100% - 180px)",
    "left": "10px",
    "top": "150px",
    "width": "178px"
   },
   "toc_section_display": true,
   "toc_window_display": true
  }
 },
 "nbformat": 4,
 "nbformat_minor": 5
}
